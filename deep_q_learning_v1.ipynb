{
 "cells": [
  {
   "cell_type": "markdown",
   "metadata": {
    "pycharm": {
     "name": "#%% md\n"
    }
   },
   "source": [
    "## Elia Fantini & Félix Klein\n",
    "### SCIPER : 336006 & 344259"
   ]
  },
  {
   "cell_type": "markdown",
   "metadata": {
    "collapsed": false,
    "pycharm": {
     "name": "#%% md\n"
    }
   },
   "source": [
    "# 3. Deep Q-Learning"
   ]
  },
  {
   "cell_type": "code",
   "execution_count": 2,
   "metadata": {
    "pycharm": {
     "name": "#%%\n"
    }
   },
   "outputs": [],
   "source": [
    "import numpy as np\n",
    "from nim_env import NimEnv, OptimalPlayer\n",
    "%load_ext autoreload\n",
    "%autoreload 2"
   ]
  },
  {
   "cell_type": "code",
   "execution_count": 3,
   "metadata": {
    "collapsed": false,
    "pycharm": {
     "name": "#%%\n"
    }
   },
   "outputs": [],
   "source": [
    "import torch\n",
    "import torch.nn as nn\n",
    "from torch.autograd import Variable\n",
    "import torch.nn.functional as F\n",
    "import torch.optim as optim\n",
    "import copy\n",
    "from itertools import count\n",
    "from tqdm.notebook import tqdm, trange\n",
    "import matplotlib.pyplot as plt\n",
    "import random\n",
    "from nim_env import NimEnv, OptimalPlayer\n",
    "import numpy as np\n",
    "from tqdm import  tqdm\n",
    "import cProfile\n",
    "import pstats\n",
    "from collections import namedtuple, deque\n",
    "\n",
    "# data visualization and parallel computation\n",
    "import plotly.express as px\n",
    "import pandas as pd\n",
    "import multiprocessing as mp\n",
    "from joblib import Parallel, delayed"
   ]
  },
  {
   "cell_type": "code",
   "execution_count": 4,
   "metadata": {
    "collapsed": false,
    "pycharm": {
     "name": "#%%\n"
    }
   },
   "outputs": [],
   "source": [
    "MAX_STICKS=7\n",
    "NUM_HEAPS=3\n",
    "METRICS_FREQUENCY=250"
   ]
  },
  {
   "cell_type": "code",
   "execution_count": 5,
   "metadata": {
    "collapsed": false,
    "pycharm": {
     "name": "#%%\n"
    }
   },
   "outputs": [],
   "source": [
    "Transition = namedtuple('Transition',\n",
    "                        ('state', 'action', 'next_state', 'reward'))\n",
    "\n",
    "class Buffer(object):\n",
    "\n",
    "    def __init__(self, capacity):\n",
    "        self.memory = deque([],maxlen=capacity)\n",
    "\n",
    "    def push(self, *args):\n",
    "        \"\"\"Save a transition\"\"\"\n",
    "        self.memory.append(Transition(*args))\n",
    "\n",
    "    def sample(self, batch_size):\n",
    "        return random.sample(self.memory, batch_size)\n",
    "\n",
    "    def get_memory(self):\n",
    "        return self.memory\n",
    "\n",
    "    def set_memory(self, memory):\n",
    "        self.memory = memory\n",
    "\n",
    "    def __len__(self):\n",
    "        return len(self.memory)"
   ]
  },
  {
   "cell_type": "code",
   "execution_count": 6,
   "metadata": {
    "collapsed": false,
    "pycharm": {
     "name": "#%%\n"
    }
   },
   "outputs": [],
   "source": [
    "class Qnetwork(nn.Module):\n",
    "    def __init__(self):\n",
    "        super(Qnetwork, self).__init__()\n",
    "        self.layer1 = nn.Sequential(\n",
    "            nn.Linear(9, 128),\n",
    "            nn.ReLU())\n",
    "        self.layer2 = nn.Sequential(\n",
    "            nn.Linear(128, 128),\n",
    "            nn.ReLU())\n",
    "        self.linear = nn.Linear(128, 21)\n",
    "\n",
    "    def forward(self, x):\n",
    "        x = self.layer1(x)\n",
    "        x = self.layer2(x)\n",
    "        return self.linear(x)"
   ]
  },
  {
   "cell_type": "code",
   "execution_count": 7,
   "metadata": {
    "collapsed": false,
    "pycharm": {
     "name": "#%%\n"
    }
   },
   "outputs": [],
   "source": [
    "class DQNAgent:\n",
    "    def __init__(self, epsilon = 0.1, epsilon_min = None, epsilon_max = None, n_star = 1, gamma = 0.99, batch_size = 64, buffer_size= 10000, learning_rate = 5e-4, c = 500, criterion = nn.HuberLoss(delta=1.0), self_learning = False):\n",
    "        # if a GPU is available\n",
    "        self.device = torch.device(\"cuda\" if torch.cuda.is_available() else \"cpu\")\n",
    "        self.self_learning = self_learning\n",
    "        self.player = None\n",
    "        self.buffer = Buffer(capacity=buffer_size)\n",
    "\n",
    "        self.state = None\n",
    "        self.action = None\n",
    "        self.state_adv = None\n",
    "        self.action_adv = None\n",
    "\n",
    "\n",
    "\n",
    "        #self.q_value_theta = None\n",
    "        self.gamma = gamma                        # discount factor\n",
    "\n",
    "        # for epsilon-greedy policy and decreasing exploration\n",
    "        self.epsilon = epsilon\n",
    "        if epsilon_min == None:\n",
    "            self.epsilon_min = epsilon\n",
    "        else:\n",
    "            self.epsilon_min = epsilon_min\n",
    "        if epsilon_max == None:\n",
    "            self.epsilon_max = epsilon\n",
    "        else:\n",
    "            self.epsilon_max = epsilon_max\n",
    "        self.c = c\n",
    "        self.n = 0  # game counter\n",
    "        self.n_star = n_star\n",
    "\n",
    "        self.batch_size = min(batch_size, buffer_size)\n",
    "        self.learning_rate = learning_rate\n",
    "        # as required, the criterion is the Huber loss with delta = 1\n",
    "        self.criterion = criterion.to(self.device)\n",
    "\n",
    "        self.model = Qnetwork().to(self.device)\n",
    "        self.target = Qnetwork().to(self.device)\n",
    "        self.target.load_state_dict(self.model.state_dict())\n",
    "\n",
    "        # as required, we use the Adam optimizer\n",
    "        self.optimizer = optim.Adam(self.model.parameters(), lr = learning_rate)\n",
    "        \"\"\"self.scheduler = torch.optim.lr_scheduler.ReduceLROnPlateau(self.optimizer,factor=0.9,mode = \"max\", patience=1, verbose=True)\"\"\"\n",
    "\n",
    "\n",
    "    def heaps_to_binary(self, heaps):\n",
    "        \"\"\"\n",
    "        Converts heaps state into three binary numbers to feed them into the Q-Network for DQN\n",
    "        Args:\n",
    "            heaps: list of integers\n",
    "                list of heap sizes.\n",
    "\n",
    "        Returns:\n",
    "            bin_seq: torch.tensor\n",
    "                3-bit binary representation of all 3 heaps, concatenated\n",
    "        \"\"\"\n",
    "        bin_seq = []\n",
    "        for i in range(NUM_HEAPS):\n",
    "            # convert the number of sticks in each heap in a 3-bit binary representation\n",
    "            binary_string = format(heaps[i], \"b\").zfill(3)\n",
    "            for i in binary_string:\n",
    "                bin_seq.append(int(i))\n",
    "        return torch.tensor(bin_seq, dtype=torch.float, device=self.device)\n",
    "\n",
    "    def decrease_epsilon(self):\n",
    "        self.epsilon = max(self.epsilon_min, self.epsilon_max * (1 - self.n / self.n_star))\n",
    "\n",
    "\n",
    "    def randomMove(self, heaps):\n",
    "        \"\"\"\n",
    "        same function as the one from OptimalPlayer\n",
    "        \"\"\"\n",
    "        # the indexes of the heaps available are given by\n",
    "        heaps_avail = [i for i in range(len(heaps)) if heaps[i] > 0]\n",
    "        chosen_heap = random.choice(heaps_avail)\n",
    "        n_obj = random.choice(range(1, heaps[chosen_heap] + 1))\n",
    "        move = [chosen_heap + 1, n_obj]\n",
    "        return move\n",
    "\n",
    "    def act_dqn(self, heaps, test = False, is_adversary = False):\n",
    "        \"\"\"\n",
    "        action function, epsilon-greedy\n",
    "        \"\"\"\n",
    "        state = self.heaps_to_binary(heaps)\n",
    "        if is_adversary:\n",
    "            self.state_adv = state\n",
    "        else:\n",
    "            self.state = state\n",
    "        if np.random.rand() < self.epsilon and not test:\n",
    "            move = self.randomMove(heaps)\n",
    "            action = (move[0] - 1) * MAX_STICKS + move[1] - 1\n",
    "            \"\"\"action = int(torch.randint(size=[1],low=0, high=MAX_STICKS*NUM_HEAPS).item())\n",
    "            move = [(action // MAX_STICKS) + 1, (action % MAX_STICKS) + 1]\"\"\"\n",
    "        else:\n",
    "            with torch.no_grad():\n",
    "                action = int(torch.argmax(self.model(state)).item())\n",
    "            move = [(action // MAX_STICKS) + 1, (action % MAX_STICKS) + 1]\n",
    "\n",
    "        # transform index of best action to a representation that the environment understands (from heap a, take b sticks)\n",
    "        if is_adversary:\n",
    "            self.action_adv = action\n",
    "        else:\n",
    "            self.action = action\n",
    "\n",
    "        return move\n",
    "\n",
    "    def learn(self, state, reward, end = False, is_adversary = False):\n",
    "        if not end:\n",
    "            next_state = self.heaps_to_binary(state)\n",
    "            if is_adversary:\n",
    "                self.buffer.push(self.state_adv, torch.tensor(self.action_adv,dtype=torch.int64, device= self.device), next_state, torch.tensor(reward,dtype=torch.float, requires_grad=True, device= self.device))\n",
    "            else:\n",
    "                self.buffer.push(self.state, torch.tensor(self.action,dtype=torch.int64, device= self.device), next_state, torch.tensor(reward,dtype=torch.float, requires_grad=True, device= self.device))\n",
    "        else:\n",
    "            if is_adversary:\n",
    "                self.buffer.push(self.state_adv, torch.tensor(self.action_adv,dtype=torch.int64, device= self.device), None, torch.tensor(reward,dtype=torch.float, requires_grad=True, device= self.device))\n",
    "            else:\n",
    "                self.buffer.push(self.state, torch.tensor(self.action,dtype=torch.int64, device= self.device), None, torch.tensor(reward,dtype=torch.float, requires_grad=True, device= self.device))\n",
    "\n",
    "        # we then have to manage the first few rounds, when the replay buffer is smaller than the batch size (default case 64)\n",
    "        if len(self.buffer) < self.batch_size :\n",
    "            return\n",
    "\n",
    "        transitions = self.buffer.sample(self.batch_size)\n",
    "        batch = Transition(*zip(*transitions))\n",
    "        state_batch = torch.stack(batch.state)\n",
    "        action_batch = torch.stack(batch.action)\n",
    "        reward_batch = torch.stack(batch.reward)\n",
    "\n",
    "\n",
    "        q_values_theta = self.model(state_batch).gather(1, action_batch.reshape((self.batch_size,1)))\n",
    "\n",
    "        non_final_mask = torch.tensor(tuple(map(lambda s: s is not None,\n",
    "                                    batch.next_state)), device=self.device, dtype=torch.bool)\n",
    "        non_final_next_states = [s for s in batch.next_state\n",
    "                                           if s is not None]\n",
    "        if non_final_next_states: # if the list is not empty\n",
    "            non_final_next_states = torch.stack(non_final_next_states)\n",
    "            next_state_values = torch.zeros(self.batch_size, device=self.device)\n",
    "            with torch.no_grad():\n",
    "                next_state_values[non_final_mask] = self.target(non_final_next_states).max(1)[0].detach()\n",
    "\n",
    "            expected_state_action_values = (next_state_values * self.gamma) + reward_batch\n",
    "        else:\n",
    "            expected_state_action_values = reward_batch\n",
    "\n",
    "        loss = self.criterion(q_values_theta, expected_state_action_values.unsqueeze(1))\n",
    "        loss_item = loss.item()\n",
    "        self.optimizer.zero_grad()\n",
    "        loss.backward()\n",
    "        \"\"\"for param in self.model.parameters():\n",
    "            param.grad.data.clamp_(-1, 1)\"\"\"\n",
    "        self.optimizer.step()\n",
    "        # update\n",
    "\n",
    "        return loss_item\n",
    "        # increment round counter\n",
    "\n",
    "    def reset_game(self, test = False):\n",
    "        self.action = None\n",
    "        self.state = None\n",
    "        self.state_adv = None\n",
    "        self.action_adv = None\n",
    "        if not test:\n",
    "            # increase game counter\n",
    "            self.n += 1\n",
    "            # decrease exploration\n",
    "            self.decrease_epsilon()\n",
    "\n",
    "    def update_target(self):\n",
    "        self.target.load_state_dict(self.model.state_dict())\n",
    "\n",
    "\n",
    "\n",
    "    def load(self, name):\n",
    "        return torch.load(name)\n",
    "\n",
    "    def save(self, name):\n",
    "        torch.save(self.model.state_dict(), name)"
   ]
  },
  {
   "cell_type": "code",
   "execution_count": 8,
   "metadata": {
    "collapsed": false,
    "pycharm": {
     "name": "#%%\n"
    }
   },
   "outputs": [],
   "source": [
    "def deep_q_learning(maxGames=20000, env=NimEnv(), adv_epsilon = 0.5, c=500, player_dqn = None, test = False, self_learning = False):\n",
    "    rewards = []\n",
    "    rewards_mean = []\n",
    "    losses = []\n",
    "    losses_mean = []\n",
    "    if test:\n",
    "        m_opt=[]\n",
    "        m_rand=[]\n",
    "\n",
    "\n",
    "    if player_dqn is None:\n",
    "        player_dqn = DQNAgent(self_learning = self_learning)\n",
    "\n",
    "    Turn = 0\n",
    "    for nbGames in tqdm(range(maxGames)):\n",
    "        if not self_learning:\n",
    "            player_adv=OptimalPlayer(player = Turn, epsilon=adv_epsilon)\n",
    "        player_dqn.player = 1-Turn\n",
    "        env.reset()\n",
    "        heaps, _, __ = env.observe()\n",
    "        lost_for_unavailable_move = False\n",
    "        roundGame = 0\n",
    "        while not env.end:\n",
    "            if not env.current_player == player_dqn.player:\n",
    "                # if it's the turn of the adversary\n",
    "                if self_learning:\n",
    "                    # player_adv.state = heaps\n",
    "                    if roundGame>1:\n",
    "                        loss=player_dqn.learn(heaps, 0, is_adversary= True)\n",
    "                        if loss is not None :\n",
    "                                losses.append(loss)\n",
    "                    move = player_dqn.act_dqn(heaps, is_adversary= True)\n",
    "                else:\n",
    "                    move = player_adv.act(heaps)\n",
    "            else:\n",
    "                # if it's the agent's turn\n",
    "                if isinstance(player_dqn, DQNAgent):\n",
    "                    if roundGame>1: # if it's round 0 or 1, it's still first move for dqnAgent, there's no state and action to be memorized yet (they are the default, None)\n",
    "                        loss=player_dqn.learn(heaps, 0)\n",
    "                        if loss is not None :\n",
    "                            losses.append(loss)\n",
    "                    move = player_dqn.act_dqn(heaps)\n",
    "\n",
    "            try:\n",
    "                heaps, end, winner = env.step(move)\n",
    "            except AssertionError:\n",
    "                # if move is unavailable, the player that made the move loses and the game ends\n",
    "                env.end = True\n",
    "                end = True\n",
    "                env.num_step += 1\n",
    "                winner = 1 - env.current_player\n",
    "                lost_for_unavailable_move = True\n",
    "\n",
    "            if end:\n",
    "                if winner == player_dqn.player:\n",
    "                    rewards.append(1)\n",
    "                    if self_learning:\n",
    "                        loss=player_dqn.learn(heaps, -1, end = True, is_adversary= True)\n",
    "                        if loss is not None :\n",
    "                                losses.append(loss)\n",
    "                    if isinstance(player_dqn, DQNAgent) and not lost_for_unavailable_move:\n",
    "                        loss=player_dqn.learn(heaps, 1, end = True)\n",
    "                        if loss is not None :\n",
    "                                losses.append(loss)\n",
    "                else:\n",
    "                    rewards.append(-1)\n",
    "                    if self_learning and not lost_for_unavailable_move:\n",
    "                        loss=player_dqn.learn(heaps, 1, end = True, is_adversary= True)\n",
    "                        if loss is not None :\n",
    "                                losses.append(loss)\n",
    "                    if isinstance(player_dqn, DQNAgent):\n",
    "                        loss=player_dqn.learn(heaps, -1, end = True)\n",
    "                        if loss is not None :\n",
    "                                losses.append(loss)\n",
    "                player_dqn.reset_game()\n",
    "            roundGame += 1\n",
    "\n",
    "\n",
    "        Turn = 1 - Turn\n",
    "        # every 250 games, compute average reward for plotting\n",
    "        if nbGames%METRICS_FREQUENCY == METRICS_FREQUENCY -1 and nbGames!=0:\n",
    "            rewards_mean.append(np.array(rewards).mean())\n",
    "            #print(np.array(rewards).mean())\n",
    "            losses_mean.append(np.array(losses).mean())\n",
    "            losses = []\n",
    "            rewards = []\n",
    "            if test:\n",
    "                for eps_opt in [0,1]:\n",
    "                    won_count=0\n",
    "                    for i in range(500):\n",
    "                        player_adv=OptimalPlayer(player = Turn, epsilon=eps_opt)\n",
    "                        player_dqn.player = 1-Turn\n",
    "                        env.reset()\n",
    "                        heaps, _, __ = env.observe()\n",
    "\n",
    "                        while not env.end:\n",
    "                            if env.current_player == player_adv.player:\n",
    "                                # if it's the turn of the adversary\n",
    "                                    move = player_adv.act(heaps)\n",
    "                            else:\n",
    "                                # if it's the agent's turn\n",
    "                                if isinstance(player_dqn, DQNAgent):\n",
    "                                    move = player_dqn.act_dqn(heaps, test=True)\n",
    "\n",
    "                            try:\n",
    "                                heaps, end, winner = env.step(move)\n",
    "                            except AssertionError:\n",
    "                                # if move is unavailable, the player that made the move loses and the game ends\n",
    "                                env.end = True\n",
    "                                end = True\n",
    "                                env.num_step += 1\n",
    "                                winner = 1 - env.current_player     # The opposite of the one who did the last, incorrect move.\n",
    "                            if end:\n",
    "                                if winner == player_dqn.player:\n",
    "                                    won_count += 1\n",
    "                                player_dqn.reset_game(test=True)\n",
    "                        Turn = 1 - Turn\n",
    "                    m=(won_count-(500-won_count))/500\n",
    "                    if eps_opt==0:\n",
    "                        m_opt.append(m)\n",
    "                    else:\n",
    "                        m_rand.append(m)\n",
    "\n",
    "        if (nbGames + 1)%c ==0:\n",
    "            player_dqn.update_target()\n",
    "    env.reset()\n",
    "    metrics = []\n",
    "    metrics.append(rewards_mean)\n",
    "    metrics.append(losses_mean)\n",
    "    if test:\n",
    "        metrics.append(m_opt)\n",
    "        metrics.append(m_rand)\n",
    "    return metrics, player_dqn"
   ]
  },
  {
   "cell_type": "code",
   "execution_count": 9,
   "metadata": {
    "collapsed": false,
    "pycharm": {
     "name": "#%%\n"
    }
   },
   "outputs": [],
   "source": [
    "def single_image_subplots(title, list_of_data, plots_values= None, plot_cols=1, tot_height=0, tot_width=0):\n",
    "    \"\"\"\n",
    "    Displays one or multiple plots given the data contained in list of data. Plots may contain one or more lines.\n",
    "    Args:\n",
    "        title: str\n",
    "            title of the plot\n",
    "        list_of_data: list of lists\n",
    "            list containing the \"metrics\" output of one or more q_learning function's executions.\n",
    "        plots_values: list of float\n",
    "            parameter's value to be put as subtitle over the plot that was generated by such value. Default is None\n",
    "        plot_cols: int\n",
    "            num of columns of the plots grid. Default is 1\n",
    "        tot_height: int\n",
    "            height of the whole image. Default is 0 for single plot images\n",
    "        tot_width: int\n",
    "            height of the whole image. Default is 0 for single plot images\n",
    "\n",
    "    \"\"\"\n",
    "\n",
    "    num_plots=len(list_of_data)\n",
    "\n",
    "    fig, axs = plt.subplots(int(num_plots/plot_cols), plot_cols, sharey=True)\n",
    "    fig.suptitle(title, fontsize=16)\n",
    "    if type(axs)!=np.ndarray :\n",
    "        axs= np.asarray(axs)\n",
    "    num_games=np.arange(1,len(list_of_data[0][0])+1)*METRICS_FREQUENCY\n",
    "    for i, ax in enumerate(axs.flat):\n",
    "        data = list_of_data[i]\n",
    "        label=[\"Mean reward\",\"Loss\",\"M-opt\",\"M-rand\"]\n",
    "        for ii in range(len(list_of_data[i])):\n",
    "            ax.plot(num_games,data[ii], label=label[ii])\n",
    "\n",
    "        if plots_values is not None:\n",
    "            ax.set_title(\"Value: \" + str(round(plots_values[i],2)))\n",
    "        ax.legend()\n",
    "    fig.text(0.5, 0.04, 'Games', ha='center')\n",
    "    fig.text(0.04, 0.5, 'Metrics', va='center', rotation='vertical')\n",
    "    if tot_height!=0:\n",
    "        fig = plt.gcf()\n",
    "        fig.set_size_inches(tot_width, tot_height)\n",
    "\n",
    "    plt.show()"
   ]
  },
  {
   "cell_type": "code",
   "execution_count": 36,
   "metadata": {
    "collapsed": false,
    "pycharm": {
     "name": "#%%\n"
    }
   },
   "outputs": [],
   "source": [
    "# if set to False, it re-runs the games for the different configurations anyway\n",
    "# if set to True, it loads the results from the pkl file below so it does not have to re-run for several minutes\n",
    "use_backup = True"
   ]
  },
  {
   "cell_type": "code",
   "execution_count": 69,
   "metadata": {
    "collapsed": false,
    "pycharm": {
     "name": "#%%\n"
    }
   },
   "outputs": [],
   "source": [
    "import pickle\n",
    "if use_backup:\n",
    "    file_name = \"deep_q_learning_results.pkl\"\n",
    "    open_file = open(file_name, \"rb\")\n",
    "    deep_q_questions_results = pickle.load(open_file)\n",
    "    open_file.close()\n",
    "else:\n",
    "    deep_q_questions_results = []"
   ]
  },
  {
   "cell_type": "markdown",
   "metadata": {
    "collapsed": false,
    "pycharm": {
     "name": "#%% md\n"
    }
   },
   "source": [
    "## 3.2 Learning from experts\n",
    "Implement the DQN algorithm. To check the algorithm, run a DQN agent with a fixed and arbitrary eps ∈ [0, 1) against Opt(0.5) for 20’000 games – switch the 1st player after every game.\n",
    "### Question 11\n",
    "Plot average reward and average training loss for every 250 games during training. Does the loss decrease? Does the agent learn to play Nim? Expected answer: A figure with two subplots (caption length < 250 words). Specify your choice of eps"
   ]
  },
  {
   "cell_type": "code",
   "execution_count": 32,
   "metadata": {
    "collapsed": false,
    "pycharm": {
     "name": "#%%\n"
    }
   },
   "outputs": [
    {
     "name": "stderr",
     "output_type": "stream",
     "text": [
      "100%|██████████| 20000/20000 [04:27<00:00, 74.71it/s]\n"
     ]
    }
   ],
   "source": [
    "if not use_backup:\n",
    "    metrics, _ = deep_q_learning(player_dqn=DQNAgent(epsilon=0.1), adv_epsilon=0.5, maxGames=20000, test=False)\n",
    "    x = np.arange(1,len(metrics[0])+1)*METRICS_FREQUENCY\n",
    "    #df = {'Games played':list(x),\n",
    "        #'Mean reward':metrics[0],\n",
    "        #'Loss':metrics[1]}\n",
    "    #df = pd.DataFrame(df)\n",
    "    deep_q_questions_results.append([x,metrics])"
   ]
  },
  {
   "cell_type": "code",
   "execution_count": 33,
   "metadata": {
    "collapsed": false,
    "pycharm": {
     "name": "#%%\n"
    }
   },
   "outputs": [
    {
     "data": {
      "application/vnd.plotly.v1+json": {
       "config": {
        "plotlyServerURL": "https://plot.ly"
       },
       "data": [
        {
         "hovertemplate": "variable=Loss<br>Games played=%{x}<br>value=%{y}<extra></extra>",
         "legendgroup": "Loss",
         "line": {
          "color": "#636efa",
          "dash": "solid"
         },
         "marker": {
          "symbol": "circle"
         },
         "mode": "lines",
         "name": "Loss",
         "orientation": "v",
         "showlegend": true,
         "type": "scatter",
         "x": [
          250,
          500,
          750,
          1000,
          1250,
          1500,
          1750,
          2000,
          2250,
          2500,
          2750,
          3000,
          3250,
          3500,
          3750,
          4000,
          4250,
          4500,
          4750,
          5000,
          5250,
          5500,
          5750,
          6000,
          6250,
          6500,
          6750,
          7000,
          7250,
          7500,
          7750,
          8000,
          8250,
          8500,
          8750,
          9000,
          9250,
          9500,
          9750,
          10000,
          10250,
          10500,
          10750,
          11000,
          11250,
          11500,
          11750,
          12000,
          12250,
          12500,
          12750,
          13000,
          13250,
          13500,
          13750,
          14000,
          14250,
          14500,
          14750,
          15000,
          15250,
          15500,
          15750,
          16000,
          16250,
          16500,
          16750,
          17000,
          17250,
          17500,
          17750,
          18000,
          18250,
          18500,
          18750,
          19000,
          19250,
          19500,
          19750,
          20000
         ],
         "xaxis": "x",
         "y": [
          0.05078945174681719,
          0.02021762259633767,
          0.0807250723649155,
          0.07122970533421104,
          0.09548482097524105,
          0.09621630781619563,
          0.10700378956324938,
          0.10613037954358494,
          0.10883168144957037,
          0.10803529434112351,
          0.1133989203023064,
          0.11025461695308603,
          0.10936200210298391,
          0.10631050024619124,
          0.11178205014457779,
          0.1079248536940607,
          0.10381027688438067,
          0.10169286138954617,
          0.10310306176129315,
          0.10131489550929954,
          0.09535939534825663,
          0.09490219601278096,
          0.09518578664891506,
          0.09555244660450433,
          0.08974280189826835,
          0.08606045858424237,
          0.08772020140278367,
          0.08541711764684677,
          0.08452454971563485,
          0.08252545371202327,
          0.07995351013663002,
          0.07761295163349526,
          0.07158747666551384,
          0.06982464068772566,
          0.07059877082084616,
          0.06914891161650946,
          0.07257410542316775,
          0.07197402837837852,
          0.07259128373673457,
          0.07221529611353276,
          0.07315401495857672,
          0.07292678768872747,
          0.07674711437391642,
          0.07621774622147466,
          0.0723272327915257,
          0.0698644087799716,
          0.06726958221147093,
          0.06490233599528718,
          0.06781997877077345,
          0.06711487841714453,
          0.06267242342767658,
          0.06281035470628674,
          0.06752914358942728,
          0.06759316475414064,
          0.06241542208033639,
          0.06164867518243236,
          0.06350745314681852,
          0.06145474679415964,
          0.05972705510809716,
          0.0594016954361191,
          0.06446801756093261,
          0.06357575574341477,
          0.061297859764963734,
          0.062029939944819326,
          0.05988247253127017,
          0.05900687572114461,
          0.05578778146530298,
          0.05506904044648846,
          0.052861643406608816,
          0.05346779609622467,
          0.05136454277580168,
          0.05329269638306861,
          0.055143206574626874,
          0.05297290026394916,
          0.05059335545025846,
          0.04928220050387334,
          0.059153770097612364,
          0.05856638682485783,
          0.05824973703145721,
          0.0572398502977296
         ],
         "yaxis": "y"
        },
        {
         "hovertemplate": "variable=Mean reward<br>Games played=%{x}<br>value=%{y}<extra></extra>",
         "legendgroup": "Mean reward",
         "line": {
          "color": "#EF553B",
          "dash": "solid"
         },
         "marker": {
          "symbol": "circle"
         },
         "mode": "lines",
         "name": "Mean reward",
         "orientation": "v",
         "showlegend": true,
         "type": "scatter",
         "x": [
          250,
          500,
          750,
          1000,
          1250,
          1500,
          1750,
          2000,
          2250,
          2500,
          2750,
          3000,
          3250,
          3500,
          3750,
          4000,
          4250,
          4500,
          4750,
          5000,
          5250,
          5500,
          5750,
          6000,
          6250,
          6500,
          6750,
          7000,
          7250,
          7500,
          7750,
          8000,
          8250,
          8500,
          8750,
          9000,
          9250,
          9500,
          9750,
          10000,
          10250,
          10500,
          10750,
          11000,
          11250,
          11500,
          11750,
          12000,
          12250,
          12500,
          12750,
          13000,
          13250,
          13500,
          13750,
          14000,
          14250,
          14500,
          14750,
          15000,
          15250,
          15500,
          15750,
          16000,
          16250,
          16500,
          16750,
          17000,
          17250,
          17500,
          17750,
          18000,
          18250,
          18500,
          18750,
          19000,
          19250,
          19500,
          19750,
          20000
         ],
         "xaxis": "x",
         "y": [
          -0.8,
          -0.432,
          -0.336,
          -0.072,
          -0.048,
          -0.112,
          -0.04,
          0.064,
          0.136,
          0.064,
          0.08,
          0.04,
          0.088,
          0.192,
          0.128,
          0.136,
          0.192,
          0.12,
          0.152,
          0.184,
          0.36,
          0.232,
          0.2,
          0.344,
          0.312,
          0.224,
          0.232,
          0.32,
          0.312,
          0.336,
          0.384,
          0.304,
          0.328,
          0.448,
          0.392,
          0.36,
          0.368,
          0.288,
          0.44,
          0.368,
          0.368,
          0.384,
          0.288,
          0.352,
          0.44,
          0.504,
          0.368,
          0.32,
          0.376,
          0.368,
          0.304,
          0.288,
          0.392,
          0.512,
          0.432,
          0.384,
          0.44,
          0.536,
          0.4,
          0.52,
          0.408,
          0.496,
          0.416,
          0.456,
          0.472,
          0.36,
          0.496,
          0.44,
          0.52,
          0.488,
          0.488,
          0.472,
          0.432,
          0.472,
          0.512,
          0.48,
          0.392,
          0.48,
          0.328,
          0.592
         ],
         "yaxis": "y"
        }
       ],
       "layout": {
        "legend": {
         "title": {
          "text": "variable"
         },
         "tracegroupgap": 0
        },
        "template": {
         "data": {
          "bar": [
           {
            "error_x": {
             "color": "#2a3f5f"
            },
            "error_y": {
             "color": "#2a3f5f"
            },
            "marker": {
             "line": {
              "color": "#E5ECF6",
              "width": 0.5
             },
             "pattern": {
              "fillmode": "overlay",
              "size": 10,
              "solidity": 0.2
             }
            },
            "type": "bar"
           }
          ],
          "barpolar": [
           {
            "marker": {
             "line": {
              "color": "#E5ECF6",
              "width": 0.5
             },
             "pattern": {
              "fillmode": "overlay",
              "size": 10,
              "solidity": 0.2
             }
            },
            "type": "barpolar"
           }
          ],
          "carpet": [
           {
            "aaxis": {
             "endlinecolor": "#2a3f5f",
             "gridcolor": "white",
             "linecolor": "white",
             "minorgridcolor": "white",
             "startlinecolor": "#2a3f5f"
            },
            "baxis": {
             "endlinecolor": "#2a3f5f",
             "gridcolor": "white",
             "linecolor": "white",
             "minorgridcolor": "white",
             "startlinecolor": "#2a3f5f"
            },
            "type": "carpet"
           }
          ],
          "choropleth": [
           {
            "colorbar": {
             "outlinewidth": 0,
             "ticks": ""
            },
            "type": "choropleth"
           }
          ],
          "contour": [
           {
            "colorbar": {
             "outlinewidth": 0,
             "ticks": ""
            },
            "colorscale": [
             [
              0,
              "#0d0887"
             ],
             [
              0.1111111111111111,
              "#46039f"
             ],
             [
              0.2222222222222222,
              "#7201a8"
             ],
             [
              0.3333333333333333,
              "#9c179e"
             ],
             [
              0.4444444444444444,
              "#bd3786"
             ],
             [
              0.5555555555555556,
              "#d8576b"
             ],
             [
              0.6666666666666666,
              "#ed7953"
             ],
             [
              0.7777777777777778,
              "#fb9f3a"
             ],
             [
              0.8888888888888888,
              "#fdca26"
             ],
             [
              1,
              "#f0f921"
             ]
            ],
            "type": "contour"
           }
          ],
          "contourcarpet": [
           {
            "colorbar": {
             "outlinewidth": 0,
             "ticks": ""
            },
            "type": "contourcarpet"
           }
          ],
          "heatmap": [
           {
            "colorbar": {
             "outlinewidth": 0,
             "ticks": ""
            },
            "colorscale": [
             [
              0,
              "#0d0887"
             ],
             [
              0.1111111111111111,
              "#46039f"
             ],
             [
              0.2222222222222222,
              "#7201a8"
             ],
             [
              0.3333333333333333,
              "#9c179e"
             ],
             [
              0.4444444444444444,
              "#bd3786"
             ],
             [
              0.5555555555555556,
              "#d8576b"
             ],
             [
              0.6666666666666666,
              "#ed7953"
             ],
             [
              0.7777777777777778,
              "#fb9f3a"
             ],
             [
              0.8888888888888888,
              "#fdca26"
             ],
             [
              1,
              "#f0f921"
             ]
            ],
            "type": "heatmap"
           }
          ],
          "heatmapgl": [
           {
            "colorbar": {
             "outlinewidth": 0,
             "ticks": ""
            },
            "colorscale": [
             [
              0,
              "#0d0887"
             ],
             [
              0.1111111111111111,
              "#46039f"
             ],
             [
              0.2222222222222222,
              "#7201a8"
             ],
             [
              0.3333333333333333,
              "#9c179e"
             ],
             [
              0.4444444444444444,
              "#bd3786"
             ],
             [
              0.5555555555555556,
              "#d8576b"
             ],
             [
              0.6666666666666666,
              "#ed7953"
             ],
             [
              0.7777777777777778,
              "#fb9f3a"
             ],
             [
              0.8888888888888888,
              "#fdca26"
             ],
             [
              1,
              "#f0f921"
             ]
            ],
            "type": "heatmapgl"
           }
          ],
          "histogram": [
           {
            "marker": {
             "pattern": {
              "fillmode": "overlay",
              "size": 10,
              "solidity": 0.2
             }
            },
            "type": "histogram"
           }
          ],
          "histogram2d": [
           {
            "colorbar": {
             "outlinewidth": 0,
             "ticks": ""
            },
            "colorscale": [
             [
              0,
              "#0d0887"
             ],
             [
              0.1111111111111111,
              "#46039f"
             ],
             [
              0.2222222222222222,
              "#7201a8"
             ],
             [
              0.3333333333333333,
              "#9c179e"
             ],
             [
              0.4444444444444444,
              "#bd3786"
             ],
             [
              0.5555555555555556,
              "#d8576b"
             ],
             [
              0.6666666666666666,
              "#ed7953"
             ],
             [
              0.7777777777777778,
              "#fb9f3a"
             ],
             [
              0.8888888888888888,
              "#fdca26"
             ],
             [
              1,
              "#f0f921"
             ]
            ],
            "type": "histogram2d"
           }
          ],
          "histogram2dcontour": [
           {
            "colorbar": {
             "outlinewidth": 0,
             "ticks": ""
            },
            "colorscale": [
             [
              0,
              "#0d0887"
             ],
             [
              0.1111111111111111,
              "#46039f"
             ],
             [
              0.2222222222222222,
              "#7201a8"
             ],
             [
              0.3333333333333333,
              "#9c179e"
             ],
             [
              0.4444444444444444,
              "#bd3786"
             ],
             [
              0.5555555555555556,
              "#d8576b"
             ],
             [
              0.6666666666666666,
              "#ed7953"
             ],
             [
              0.7777777777777778,
              "#fb9f3a"
             ],
             [
              0.8888888888888888,
              "#fdca26"
             ],
             [
              1,
              "#f0f921"
             ]
            ],
            "type": "histogram2dcontour"
           }
          ],
          "mesh3d": [
           {
            "colorbar": {
             "outlinewidth": 0,
             "ticks": ""
            },
            "type": "mesh3d"
           }
          ],
          "parcoords": [
           {
            "line": {
             "colorbar": {
              "outlinewidth": 0,
              "ticks": ""
             }
            },
            "type": "parcoords"
           }
          ],
          "pie": [
           {
            "automargin": true,
            "type": "pie"
           }
          ],
          "scatter": [
           {
            "fillpattern": {
             "fillmode": "overlay",
             "size": 10,
             "solidity": 0.2
            },
            "type": "scatter"
           }
          ],
          "scatter3d": [
           {
            "line": {
             "colorbar": {
              "outlinewidth": 0,
              "ticks": ""
             }
            },
            "marker": {
             "colorbar": {
              "outlinewidth": 0,
              "ticks": ""
             }
            },
            "type": "scatter3d"
           }
          ],
          "scattercarpet": [
           {
            "marker": {
             "colorbar": {
              "outlinewidth": 0,
              "ticks": ""
             }
            },
            "type": "scattercarpet"
           }
          ],
          "scattergeo": [
           {
            "marker": {
             "colorbar": {
              "outlinewidth": 0,
              "ticks": ""
             }
            },
            "type": "scattergeo"
           }
          ],
          "scattergl": [
           {
            "marker": {
             "colorbar": {
              "outlinewidth": 0,
              "ticks": ""
             }
            },
            "type": "scattergl"
           }
          ],
          "scattermapbox": [
           {
            "marker": {
             "colorbar": {
              "outlinewidth": 0,
              "ticks": ""
             }
            },
            "type": "scattermapbox"
           }
          ],
          "scatterpolar": [
           {
            "marker": {
             "colorbar": {
              "outlinewidth": 0,
              "ticks": ""
             }
            },
            "type": "scatterpolar"
           }
          ],
          "scatterpolargl": [
           {
            "marker": {
             "colorbar": {
              "outlinewidth": 0,
              "ticks": ""
             }
            },
            "type": "scatterpolargl"
           }
          ],
          "scatterternary": [
           {
            "marker": {
             "colorbar": {
              "outlinewidth": 0,
              "ticks": ""
             }
            },
            "type": "scatterternary"
           }
          ],
          "surface": [
           {
            "colorbar": {
             "outlinewidth": 0,
             "ticks": ""
            },
            "colorscale": [
             [
              0,
              "#0d0887"
             ],
             [
              0.1111111111111111,
              "#46039f"
             ],
             [
              0.2222222222222222,
              "#7201a8"
             ],
             [
              0.3333333333333333,
              "#9c179e"
             ],
             [
              0.4444444444444444,
              "#bd3786"
             ],
             [
              0.5555555555555556,
              "#d8576b"
             ],
             [
              0.6666666666666666,
              "#ed7953"
             ],
             [
              0.7777777777777778,
              "#fb9f3a"
             ],
             [
              0.8888888888888888,
              "#fdca26"
             ],
             [
              1,
              "#f0f921"
             ]
            ],
            "type": "surface"
           }
          ],
          "table": [
           {
            "cells": {
             "fill": {
              "color": "#EBF0F8"
             },
             "line": {
              "color": "white"
             }
            },
            "header": {
             "fill": {
              "color": "#C8D4E3"
             },
             "line": {
              "color": "white"
             }
            },
            "type": "table"
           }
          ]
         },
         "layout": {
          "annotationdefaults": {
           "arrowcolor": "#2a3f5f",
           "arrowhead": 0,
           "arrowwidth": 1
          },
          "autotypenumbers": "strict",
          "coloraxis": {
           "colorbar": {
            "outlinewidth": 0,
            "ticks": ""
           }
          },
          "colorscale": {
           "diverging": [
            [
             0,
             "#8e0152"
            ],
            [
             0.1,
             "#c51b7d"
            ],
            [
             0.2,
             "#de77ae"
            ],
            [
             0.3,
             "#f1b6da"
            ],
            [
             0.4,
             "#fde0ef"
            ],
            [
             0.5,
             "#f7f7f7"
            ],
            [
             0.6,
             "#e6f5d0"
            ],
            [
             0.7,
             "#b8e186"
            ],
            [
             0.8,
             "#7fbc41"
            ],
            [
             0.9,
             "#4d9221"
            ],
            [
             1,
             "#276419"
            ]
           ],
           "sequential": [
            [
             0,
             "#0d0887"
            ],
            [
             0.1111111111111111,
             "#46039f"
            ],
            [
             0.2222222222222222,
             "#7201a8"
            ],
            [
             0.3333333333333333,
             "#9c179e"
            ],
            [
             0.4444444444444444,
             "#bd3786"
            ],
            [
             0.5555555555555556,
             "#d8576b"
            ],
            [
             0.6666666666666666,
             "#ed7953"
            ],
            [
             0.7777777777777778,
             "#fb9f3a"
            ],
            [
             0.8888888888888888,
             "#fdca26"
            ],
            [
             1,
             "#f0f921"
            ]
           ],
           "sequentialminus": [
            [
             0,
             "#0d0887"
            ],
            [
             0.1111111111111111,
             "#46039f"
            ],
            [
             0.2222222222222222,
             "#7201a8"
            ],
            [
             0.3333333333333333,
             "#9c179e"
            ],
            [
             0.4444444444444444,
             "#bd3786"
            ],
            [
             0.5555555555555556,
             "#d8576b"
            ],
            [
             0.6666666666666666,
             "#ed7953"
            ],
            [
             0.7777777777777778,
             "#fb9f3a"
            ],
            [
             0.8888888888888888,
             "#fdca26"
            ],
            [
             1,
             "#f0f921"
            ]
           ]
          },
          "colorway": [
           "#636efa",
           "#EF553B",
           "#00cc96",
           "#ab63fa",
           "#FFA15A",
           "#19d3f3",
           "#FF6692",
           "#B6E880",
           "#FF97FF",
           "#FECB52"
          ],
          "font": {
           "color": "#2a3f5f"
          },
          "geo": {
           "bgcolor": "white",
           "lakecolor": "white",
           "landcolor": "#E5ECF6",
           "showlakes": true,
           "showland": true,
           "subunitcolor": "white"
          },
          "hoverlabel": {
           "align": "left"
          },
          "hovermode": "closest",
          "mapbox": {
           "style": "light"
          },
          "paper_bgcolor": "white",
          "plot_bgcolor": "#E5ECF6",
          "polar": {
           "angularaxis": {
            "gridcolor": "white",
            "linecolor": "white",
            "ticks": ""
           },
           "bgcolor": "#E5ECF6",
           "radialaxis": {
            "gridcolor": "white",
            "linecolor": "white",
            "ticks": ""
           }
          },
          "scene": {
           "xaxis": {
            "backgroundcolor": "#E5ECF6",
            "gridcolor": "white",
            "gridwidth": 2,
            "linecolor": "white",
            "showbackground": true,
            "ticks": "",
            "zerolinecolor": "white"
           },
           "yaxis": {
            "backgroundcolor": "#E5ECF6",
            "gridcolor": "white",
            "gridwidth": 2,
            "linecolor": "white",
            "showbackground": true,
            "ticks": "",
            "zerolinecolor": "white"
           },
           "zaxis": {
            "backgroundcolor": "#E5ECF6",
            "gridcolor": "white",
            "gridwidth": 2,
            "linecolor": "white",
            "showbackground": true,
            "ticks": "",
            "zerolinecolor": "white"
           }
          },
          "shapedefaults": {
           "line": {
            "color": "#2a3f5f"
           }
          },
          "ternary": {
           "aaxis": {
            "gridcolor": "white",
            "linecolor": "white",
            "ticks": ""
           },
           "baxis": {
            "gridcolor": "white",
            "linecolor": "white",
            "ticks": ""
           },
           "bgcolor": "#E5ECF6",
           "caxis": {
            "gridcolor": "white",
            "linecolor": "white",
            "ticks": ""
           }
          },
          "title": {
           "x": 0.05
          },
          "xaxis": {
           "automargin": true,
           "gridcolor": "white",
           "linecolor": "white",
           "ticks": "",
           "title": {
            "standoff": 15
           },
           "zerolinecolor": "white",
           "zerolinewidth": 2
          },
          "yaxis": {
           "automargin": true,
           "gridcolor": "white",
           "linecolor": "white",
           "ticks": "",
           "title": {
            "standoff": 15
           },
           "zerolinecolor": "white",
           "zerolinewidth": 2
          }
         }
        },
        "title": {
         "text": "Average reward of Deep RL agent with policy epsilon=0.1"
        },
        "width": 600,
        "xaxis": {
         "anchor": "y",
         "domain": [
          0,
          1
         ],
         "title": {
          "text": "Games played"
         }
        },
        "yaxis": {
         "anchor": "x",
         "domain": [
          0,
          1
         ],
         "title": {
          "text": "Metrics"
         }
        }
       }
      }
     },
     "metadata": {},
     "output_type": "display_data"
    }
   ],
   "source": [
    "x, metrics = deep_q_questions_results[0][0], deep_q_questions_results[0][1]\n",
    "df = {'Games played':list(x),\n",
    "        'Mean reward':metrics[0],\n",
    "        'Loss':metrics[1]}\n",
    "df = pd.DataFrame(df)\n",
    "fig = px.line(df, x='Games played', y=df.columns.difference(['Games played']), title=f'Average reward of Deep RL agent with policy epsilon={0.1}')\n",
    "fig.update_layout(xaxis_title='Games played', yaxis_title='Metrics')\n",
    "fig.update_layout(width=600)\n",
    "fig.show()"
   ]
  },
  {
   "cell_type": "markdown",
   "metadata": {
    "collapsed": false,
    "pycharm": {
     "name": "#%% md\n"
    }
   },
   "source": [
    "### Question 12\n",
    "Repeat the training but without the replay buffer and with a batch size of 1: At every step, update the network by using only the latest transition. What do you observe?\n",
    "Expected answer: A figure with two subplots showing average reward and average training loss during training (caption length < 50 words)"
   ]
  },
  {
   "cell_type": "code",
   "execution_count": 34,
   "metadata": {
    "collapsed": false,
    "pycharm": {
     "name": "#%%\n"
    }
   },
   "outputs": [
    {
     "name": "stderr",
     "output_type": "stream",
     "text": [
      "100%|██████████| 20000/20000 [02:38<00:00, 126.17it/s]\n"
     ]
    }
   ],
   "source": [
    "if not use_backup:\n",
    "    metrics, _  =  deep_q_learning(player_dqn=DQNAgent(epsilon=0.1, buffer_size=1), adv_epsilon=0.5, maxGames=20000, test=False)\n",
    "    x = np.arange(1,len(metrics[0])+1)*METRICS_FREQUENCY\n",
    "    deep_q_questions_results.append([x,metrics])"
   ]
  },
  {
   "cell_type": "code",
   "execution_count": 35,
   "metadata": {},
   "outputs": [
    {
     "data": {
      "application/vnd.plotly.v1+json": {
       "config": {
        "plotlyServerURL": "https://plot.ly"
       },
       "data": [
        {
         "hovertemplate": "variable=Loss<br>Games played=%{x}<br>value=%{y}<extra></extra>",
         "legendgroup": "Loss",
         "line": {
          "color": "#636efa",
          "dash": "solid"
         },
         "marker": {
          "symbol": "circle"
         },
         "mode": "lines",
         "name": "Loss",
         "orientation": "v",
         "showlegend": true,
         "type": "scatter",
         "x": [
          250,
          500,
          750,
          1000,
          1250,
          1500,
          1750,
          2000,
          2250,
          2500,
          2750,
          3000,
          3250,
          3500,
          3750,
          4000,
          4250,
          4500,
          4750,
          5000,
          5250,
          5500,
          5750,
          6000,
          6250,
          6500,
          6750,
          7000,
          7250,
          7500,
          7750,
          8000,
          8250,
          8500,
          8750,
          9000,
          9250,
          9500,
          9750,
          10000,
          10250,
          10500,
          10750,
          11000,
          11250,
          11500,
          11750,
          12000,
          12250,
          12500,
          12750,
          13000,
          13250,
          13500,
          13750,
          14000,
          14250,
          14500,
          14750,
          15000,
          15250,
          15500,
          15750,
          16000,
          16250,
          16500,
          16750,
          17000,
          17250,
          17500,
          17750,
          18000,
          18250,
          18500,
          18750,
          19000,
          19250,
          19500,
          19750,
          20000
         ],
         "xaxis": "x",
         "y": [
          0.1373185512111207,
          0.08270307407752235,
          0.0722777266660014,
          0.07895576916363192,
          0.08896707484683779,
          0.1019635330213539,
          0.11643470636905884,
          0.09770369482562719,
          0.10729600376777305,
          0.09255021621637417,
          0.11229493826230856,
          0.10248743783567556,
          0.13182225888490323,
          0.13024406629382618,
          0.12966178277016646,
          0.13435024776175633,
          0.15054100828081723,
          0.14796202587967008,
          0.14394539950902838,
          0.14721452054436257,
          0.13813161194048465,
          0.13688833484404664,
          0.12562823054345282,
          0.1329470519856319,
          0.12788501806592517,
          0.11698404462413887,
          0.12748679461640613,
          0.12429373698059759,
          0.14049439675831107,
          0.13257701009868286,
          0.1330138225619698,
          0.14176504798739561,
          0.13353417319716898,
          0.12018900181020423,
          0.1419911606624406,
          0.11749728484747113,
          0.11875450480751748,
          0.11971095237310769,
          0.15219487016986458,
          0.1442289497439485,
          0.15442644994839294,
          0.13277824877987743,
          0.14635067156839004,
          0.14544092168711772,
          0.14525322407188193,
          0.12565265104002935,
          0.12401542487842478,
          0.14435807156649497,
          0.12006141122271587,
          0.11295254819373675,
          0.13162124530514543,
          0.11942465876220373,
          0.12960782042528582,
          0.11483389091007191,
          0.15151006167027462,
          0.1424861453884449,
          0.1297540560819237,
          0.1343861475989122,
          0.12996405720460683,
          0.135283722727188,
          0.10861986679551904,
          0.1106458881950635,
          0.12394959483159394,
          0.12757324832477235,
          0.11698082357696753,
          0.12538067014185786,
          0.10936457594978458,
          0.1138401815264373,
          0.1241556887029746,
          0.12257881708707694,
          0.10196789503639936,
          0.11885539274757463,
          0.11417821725614344,
          0.1311330279659963,
          0.12114184631996786,
          0.11227092099536679,
          0.12985074453122397,
          0.128105366066176,
          0.13606718639588355,
          0.12983512193068167
         ],
         "yaxis": "y"
        },
        {
         "hovertemplate": "variable=Mean reward<br>Games played=%{x}<br>value=%{y}<extra></extra>",
         "legendgroup": "Mean reward",
         "line": {
          "color": "#EF553B",
          "dash": "solid"
         },
         "marker": {
          "symbol": "circle"
         },
         "mode": "lines",
         "name": "Mean reward",
         "orientation": "v",
         "showlegend": true,
         "type": "scatter",
         "x": [
          250,
          500,
          750,
          1000,
          1250,
          1500,
          1750,
          2000,
          2250,
          2500,
          2750,
          3000,
          3250,
          3500,
          3750,
          4000,
          4250,
          4500,
          4750,
          5000,
          5250,
          5500,
          5750,
          6000,
          6250,
          6500,
          6750,
          7000,
          7250,
          7500,
          7750,
          8000,
          8250,
          8500,
          8750,
          9000,
          9250,
          9500,
          9750,
          10000,
          10250,
          10500,
          10750,
          11000,
          11250,
          11500,
          11750,
          12000,
          12250,
          12500,
          12750,
          13000,
          13250,
          13500,
          13750,
          14000,
          14250,
          14500,
          14750,
          15000,
          15250,
          15500,
          15750,
          16000,
          16250,
          16500,
          16750,
          17000,
          17250,
          17500,
          17750,
          18000,
          18250,
          18500,
          18750,
          19000,
          19250,
          19500,
          19750,
          20000
         ],
         "xaxis": "x",
         "y": [
          -0.888,
          -0.752,
          -0.728,
          -0.552,
          -0.616,
          -0.424,
          -0.392,
          -0.36,
          -0.44,
          -0.376,
          -0.248,
          -0.136,
          -0.272,
          -0.24,
          -0.224,
          -0.16,
          -0.216,
          -0.048,
          -0.152,
          0.048,
          -0.064,
          -0.008,
          -0.08,
          0.064,
          -0.032,
          0.072,
          -0.024,
          -0.04,
          0.12,
          -0.08,
          -0.056,
          0.024,
          0.056,
          0.024,
          0.12,
          0.096,
          0.008,
          0.072,
          0.096,
          -0.008,
          0.096,
          0.032,
          0.056,
          0.08,
          0.104,
          0.088,
          0.072,
          0.016,
          0.064,
          0.224,
          0.128,
          0.176,
          0.16,
          0.192,
          0.16,
          0.2,
          0.112,
          0.192,
          0.168,
          0.16,
          0.152,
          0.312,
          0.264,
          0.184,
          0.112,
          0.392,
          0.272,
          0.272,
          0.216,
          0.208,
          0.28,
          0.264,
          0.224,
          0.176,
          0.288,
          0.2,
          0.264,
          0.144,
          0.24,
          0.24
         ],
         "yaxis": "y"
        }
       ],
       "layout": {
        "legend": {
         "title": {
          "text": "variable"
         },
         "tracegroupgap": 0
        },
        "template": {
         "data": {
          "bar": [
           {
            "error_x": {
             "color": "#2a3f5f"
            },
            "error_y": {
             "color": "#2a3f5f"
            },
            "marker": {
             "line": {
              "color": "#E5ECF6",
              "width": 0.5
             },
             "pattern": {
              "fillmode": "overlay",
              "size": 10,
              "solidity": 0.2
             }
            },
            "type": "bar"
           }
          ],
          "barpolar": [
           {
            "marker": {
             "line": {
              "color": "#E5ECF6",
              "width": 0.5
             },
             "pattern": {
              "fillmode": "overlay",
              "size": 10,
              "solidity": 0.2
             }
            },
            "type": "barpolar"
           }
          ],
          "carpet": [
           {
            "aaxis": {
             "endlinecolor": "#2a3f5f",
             "gridcolor": "white",
             "linecolor": "white",
             "minorgridcolor": "white",
             "startlinecolor": "#2a3f5f"
            },
            "baxis": {
             "endlinecolor": "#2a3f5f",
             "gridcolor": "white",
             "linecolor": "white",
             "minorgridcolor": "white",
             "startlinecolor": "#2a3f5f"
            },
            "type": "carpet"
           }
          ],
          "choropleth": [
           {
            "colorbar": {
             "outlinewidth": 0,
             "ticks": ""
            },
            "type": "choropleth"
           }
          ],
          "contour": [
           {
            "colorbar": {
             "outlinewidth": 0,
             "ticks": ""
            },
            "colorscale": [
             [
              0,
              "#0d0887"
             ],
             [
              0.1111111111111111,
              "#46039f"
             ],
             [
              0.2222222222222222,
              "#7201a8"
             ],
             [
              0.3333333333333333,
              "#9c179e"
             ],
             [
              0.4444444444444444,
              "#bd3786"
             ],
             [
              0.5555555555555556,
              "#d8576b"
             ],
             [
              0.6666666666666666,
              "#ed7953"
             ],
             [
              0.7777777777777778,
              "#fb9f3a"
             ],
             [
              0.8888888888888888,
              "#fdca26"
             ],
             [
              1,
              "#f0f921"
             ]
            ],
            "type": "contour"
           }
          ],
          "contourcarpet": [
           {
            "colorbar": {
             "outlinewidth": 0,
             "ticks": ""
            },
            "type": "contourcarpet"
           }
          ],
          "heatmap": [
           {
            "colorbar": {
             "outlinewidth": 0,
             "ticks": ""
            },
            "colorscale": [
             [
              0,
              "#0d0887"
             ],
             [
              0.1111111111111111,
              "#46039f"
             ],
             [
              0.2222222222222222,
              "#7201a8"
             ],
             [
              0.3333333333333333,
              "#9c179e"
             ],
             [
              0.4444444444444444,
              "#bd3786"
             ],
             [
              0.5555555555555556,
              "#d8576b"
             ],
             [
              0.6666666666666666,
              "#ed7953"
             ],
             [
              0.7777777777777778,
              "#fb9f3a"
             ],
             [
              0.8888888888888888,
              "#fdca26"
             ],
             [
              1,
              "#f0f921"
             ]
            ],
            "type": "heatmap"
           }
          ],
          "heatmapgl": [
           {
            "colorbar": {
             "outlinewidth": 0,
             "ticks": ""
            },
            "colorscale": [
             [
              0,
              "#0d0887"
             ],
             [
              0.1111111111111111,
              "#46039f"
             ],
             [
              0.2222222222222222,
              "#7201a8"
             ],
             [
              0.3333333333333333,
              "#9c179e"
             ],
             [
              0.4444444444444444,
              "#bd3786"
             ],
             [
              0.5555555555555556,
              "#d8576b"
             ],
             [
              0.6666666666666666,
              "#ed7953"
             ],
             [
              0.7777777777777778,
              "#fb9f3a"
             ],
             [
              0.8888888888888888,
              "#fdca26"
             ],
             [
              1,
              "#f0f921"
             ]
            ],
            "type": "heatmapgl"
           }
          ],
          "histogram": [
           {
            "marker": {
             "pattern": {
              "fillmode": "overlay",
              "size": 10,
              "solidity": 0.2
             }
            },
            "type": "histogram"
           }
          ],
          "histogram2d": [
           {
            "colorbar": {
             "outlinewidth": 0,
             "ticks": ""
            },
            "colorscale": [
             [
              0,
              "#0d0887"
             ],
             [
              0.1111111111111111,
              "#46039f"
             ],
             [
              0.2222222222222222,
              "#7201a8"
             ],
             [
              0.3333333333333333,
              "#9c179e"
             ],
             [
              0.4444444444444444,
              "#bd3786"
             ],
             [
              0.5555555555555556,
              "#d8576b"
             ],
             [
              0.6666666666666666,
              "#ed7953"
             ],
             [
              0.7777777777777778,
              "#fb9f3a"
             ],
             [
              0.8888888888888888,
              "#fdca26"
             ],
             [
              1,
              "#f0f921"
             ]
            ],
            "type": "histogram2d"
           }
          ],
          "histogram2dcontour": [
           {
            "colorbar": {
             "outlinewidth": 0,
             "ticks": ""
            },
            "colorscale": [
             [
              0,
              "#0d0887"
             ],
             [
              0.1111111111111111,
              "#46039f"
             ],
             [
              0.2222222222222222,
              "#7201a8"
             ],
             [
              0.3333333333333333,
              "#9c179e"
             ],
             [
              0.4444444444444444,
              "#bd3786"
             ],
             [
              0.5555555555555556,
              "#d8576b"
             ],
             [
              0.6666666666666666,
              "#ed7953"
             ],
             [
              0.7777777777777778,
              "#fb9f3a"
             ],
             [
              0.8888888888888888,
              "#fdca26"
             ],
             [
              1,
              "#f0f921"
             ]
            ],
            "type": "histogram2dcontour"
           }
          ],
          "mesh3d": [
           {
            "colorbar": {
             "outlinewidth": 0,
             "ticks": ""
            },
            "type": "mesh3d"
           }
          ],
          "parcoords": [
           {
            "line": {
             "colorbar": {
              "outlinewidth": 0,
              "ticks": ""
             }
            },
            "type": "parcoords"
           }
          ],
          "pie": [
           {
            "automargin": true,
            "type": "pie"
           }
          ],
          "scatter": [
           {
            "fillpattern": {
             "fillmode": "overlay",
             "size": 10,
             "solidity": 0.2
            },
            "type": "scatter"
           }
          ],
          "scatter3d": [
           {
            "line": {
             "colorbar": {
              "outlinewidth": 0,
              "ticks": ""
             }
            },
            "marker": {
             "colorbar": {
              "outlinewidth": 0,
              "ticks": ""
             }
            },
            "type": "scatter3d"
           }
          ],
          "scattercarpet": [
           {
            "marker": {
             "colorbar": {
              "outlinewidth": 0,
              "ticks": ""
             }
            },
            "type": "scattercarpet"
           }
          ],
          "scattergeo": [
           {
            "marker": {
             "colorbar": {
              "outlinewidth": 0,
              "ticks": ""
             }
            },
            "type": "scattergeo"
           }
          ],
          "scattergl": [
           {
            "marker": {
             "colorbar": {
              "outlinewidth": 0,
              "ticks": ""
             }
            },
            "type": "scattergl"
           }
          ],
          "scattermapbox": [
           {
            "marker": {
             "colorbar": {
              "outlinewidth": 0,
              "ticks": ""
             }
            },
            "type": "scattermapbox"
           }
          ],
          "scatterpolar": [
           {
            "marker": {
             "colorbar": {
              "outlinewidth": 0,
              "ticks": ""
             }
            },
            "type": "scatterpolar"
           }
          ],
          "scatterpolargl": [
           {
            "marker": {
             "colorbar": {
              "outlinewidth": 0,
              "ticks": ""
             }
            },
            "type": "scatterpolargl"
           }
          ],
          "scatterternary": [
           {
            "marker": {
             "colorbar": {
              "outlinewidth": 0,
              "ticks": ""
             }
            },
            "type": "scatterternary"
           }
          ],
          "surface": [
           {
            "colorbar": {
             "outlinewidth": 0,
             "ticks": ""
            },
            "colorscale": [
             [
              0,
              "#0d0887"
             ],
             [
              0.1111111111111111,
              "#46039f"
             ],
             [
              0.2222222222222222,
              "#7201a8"
             ],
             [
              0.3333333333333333,
              "#9c179e"
             ],
             [
              0.4444444444444444,
              "#bd3786"
             ],
             [
              0.5555555555555556,
              "#d8576b"
             ],
             [
              0.6666666666666666,
              "#ed7953"
             ],
             [
              0.7777777777777778,
              "#fb9f3a"
             ],
             [
              0.8888888888888888,
              "#fdca26"
             ],
             [
              1,
              "#f0f921"
             ]
            ],
            "type": "surface"
           }
          ],
          "table": [
           {
            "cells": {
             "fill": {
              "color": "#EBF0F8"
             },
             "line": {
              "color": "white"
             }
            },
            "header": {
             "fill": {
              "color": "#C8D4E3"
             },
             "line": {
              "color": "white"
             }
            },
            "type": "table"
           }
          ]
         },
         "layout": {
          "annotationdefaults": {
           "arrowcolor": "#2a3f5f",
           "arrowhead": 0,
           "arrowwidth": 1
          },
          "autotypenumbers": "strict",
          "coloraxis": {
           "colorbar": {
            "outlinewidth": 0,
            "ticks": ""
           }
          },
          "colorscale": {
           "diverging": [
            [
             0,
             "#8e0152"
            ],
            [
             0.1,
             "#c51b7d"
            ],
            [
             0.2,
             "#de77ae"
            ],
            [
             0.3,
             "#f1b6da"
            ],
            [
             0.4,
             "#fde0ef"
            ],
            [
             0.5,
             "#f7f7f7"
            ],
            [
             0.6,
             "#e6f5d0"
            ],
            [
             0.7,
             "#b8e186"
            ],
            [
             0.8,
             "#7fbc41"
            ],
            [
             0.9,
             "#4d9221"
            ],
            [
             1,
             "#276419"
            ]
           ],
           "sequential": [
            [
             0,
             "#0d0887"
            ],
            [
             0.1111111111111111,
             "#46039f"
            ],
            [
             0.2222222222222222,
             "#7201a8"
            ],
            [
             0.3333333333333333,
             "#9c179e"
            ],
            [
             0.4444444444444444,
             "#bd3786"
            ],
            [
             0.5555555555555556,
             "#d8576b"
            ],
            [
             0.6666666666666666,
             "#ed7953"
            ],
            [
             0.7777777777777778,
             "#fb9f3a"
            ],
            [
             0.8888888888888888,
             "#fdca26"
            ],
            [
             1,
             "#f0f921"
            ]
           ],
           "sequentialminus": [
            [
             0,
             "#0d0887"
            ],
            [
             0.1111111111111111,
             "#46039f"
            ],
            [
             0.2222222222222222,
             "#7201a8"
            ],
            [
             0.3333333333333333,
             "#9c179e"
            ],
            [
             0.4444444444444444,
             "#bd3786"
            ],
            [
             0.5555555555555556,
             "#d8576b"
            ],
            [
             0.6666666666666666,
             "#ed7953"
            ],
            [
             0.7777777777777778,
             "#fb9f3a"
            ],
            [
             0.8888888888888888,
             "#fdca26"
            ],
            [
             1,
             "#f0f921"
            ]
           ]
          },
          "colorway": [
           "#636efa",
           "#EF553B",
           "#00cc96",
           "#ab63fa",
           "#FFA15A",
           "#19d3f3",
           "#FF6692",
           "#B6E880",
           "#FF97FF",
           "#FECB52"
          ],
          "font": {
           "color": "#2a3f5f"
          },
          "geo": {
           "bgcolor": "white",
           "lakecolor": "white",
           "landcolor": "#E5ECF6",
           "showlakes": true,
           "showland": true,
           "subunitcolor": "white"
          },
          "hoverlabel": {
           "align": "left"
          },
          "hovermode": "closest",
          "mapbox": {
           "style": "light"
          },
          "paper_bgcolor": "white",
          "plot_bgcolor": "#E5ECF6",
          "polar": {
           "angularaxis": {
            "gridcolor": "white",
            "linecolor": "white",
            "ticks": ""
           },
           "bgcolor": "#E5ECF6",
           "radialaxis": {
            "gridcolor": "white",
            "linecolor": "white",
            "ticks": ""
           }
          },
          "scene": {
           "xaxis": {
            "backgroundcolor": "#E5ECF6",
            "gridcolor": "white",
            "gridwidth": 2,
            "linecolor": "white",
            "showbackground": true,
            "ticks": "",
            "zerolinecolor": "white"
           },
           "yaxis": {
            "backgroundcolor": "#E5ECF6",
            "gridcolor": "white",
            "gridwidth": 2,
            "linecolor": "white",
            "showbackground": true,
            "ticks": "",
            "zerolinecolor": "white"
           },
           "zaxis": {
            "backgroundcolor": "#E5ECF6",
            "gridcolor": "white",
            "gridwidth": 2,
            "linecolor": "white",
            "showbackground": true,
            "ticks": "",
            "zerolinecolor": "white"
           }
          },
          "shapedefaults": {
           "line": {
            "color": "#2a3f5f"
           }
          },
          "ternary": {
           "aaxis": {
            "gridcolor": "white",
            "linecolor": "white",
            "ticks": ""
           },
           "baxis": {
            "gridcolor": "white",
            "linecolor": "white",
            "ticks": ""
           },
           "bgcolor": "#E5ECF6",
           "caxis": {
            "gridcolor": "white",
            "linecolor": "white",
            "ticks": ""
           }
          },
          "title": {
           "x": 0.05
          },
          "xaxis": {
           "automargin": true,
           "gridcolor": "white",
           "linecolor": "white",
           "ticks": "",
           "title": {
            "standoff": 15
           },
           "zerolinecolor": "white",
           "zerolinewidth": 2
          },
          "yaxis": {
           "automargin": true,
           "gridcolor": "white",
           "linecolor": "white",
           "ticks": "",
           "title": {
            "standoff": 15
           },
           "zerolinecolor": "white",
           "zerolinewidth": 2
          }
         }
        },
        "title": {
         "text": "Average reward of Deep RL agent with policy epsilon=0.1, no buffer"
        },
        "width": 600,
        "xaxis": {
         "anchor": "y",
         "domain": [
          0,
          1
         ],
         "title": {
          "text": "Games played"
         }
        },
        "yaxis": {
         "anchor": "x",
         "domain": [
          0,
          1
         ],
         "title": {
          "text": "Metrics"
         }
        }
       }
      }
     },
     "metadata": {},
     "output_type": "display_data"
    }
   ],
   "source": [
    "x, metrics = deep_q_questions_results[1][0], deep_q_questions_results[1][1]\n",
    "df = {'Games played':list(x),\n",
    "        'Mean reward':metrics[0],\n",
    "        'Loss':metrics[1]}\n",
    "df = pd.DataFrame(df)\n",
    "fig = px.line(df, x='Games played', y=df.columns.difference(['Games played']), title=f'Average reward of Deep RL agent with policy epsilon={0.1}, no buffer')\n",
    "fig.update_layout(xaxis_title='Games played', yaxis_title='Metrics')\n",
    "fig.update_layout(width=600)\n",
    "fig.show()"
   ]
  },
  {
   "cell_type": "markdown",
   "metadata": {
    "collapsed": false,
    "pycharm": {
     "name": "#%% md\n"
    }
   },
   "source": [
    "Instead of fixing eps, use eps(n) in Equation 1. For different values of n, run your DQN against Opt(0.5) for 20’000 games – switch the 1st player after every game. Choose several values of n from a reasonably wide interval between 1 to 40’000 – particularly, include n* = 1.\n",
    "### Question 13\n",
    "After every 250 games during training, compute the ‘test’ Mopt and Mrand for your agents. Plot Mopt and Mrand over time. Does decreasing eps help training compared to having a fixed eps? What is the effect of n* ?\n",
    "Expected answer: A figure showing Mopt and Mrand over time for different values of speeds of n* (caption length < 250 words)."
   ]
  },
  {
   "cell_type": "code",
   "execution_count": 38,
   "metadata": {
    "collapsed": false,
    "pycharm": {
     "name": "#%%\n"
    }
   },
   "outputs": [],
   "source": [
    "if not use_backup:\n",
    "    question13_results=[]\n",
    "    n_star_values=np.linspace(1,40000,6)\n",
    "    for n_star in n_star_values:\n",
    "        metrics, _  =  deep_q_learning(player_dqn=DQNAgent(epsilon_min=0.1, epsilon_max=0.8, n_star= n_star), adv_epsilon=0.5, maxGames=20000, test=True)\n",
    "        question13_results.append(metrics)\n",
    "    deep_q_questions_results.append(question13_results)"
   ]
  },
  {
   "cell_type": "code",
   "execution_count": 54,
   "metadata": {},
   "outputs": [
    {
     "data": {
      "application/vnd.plotly.v1+json": {
       "config": {
        "plotlyServerURL": "https://plot.ly"
       },
       "data": [
        {
         "hovertemplate": "variable=n* = 1<br>Games played=%{x}<br>value=%{y}<extra></extra>",
         "legendgroup": "n* = 1",
         "line": {
          "color": "#636efa",
          "dash": "solid"
         },
         "marker": {
          "symbol": "circle"
         },
         "mode": "lines",
         "name": "n* = 1",
         "orientation": "v",
         "showlegend": true,
         "type": "scatter",
         "x": [
          0,
          250,
          500,
          750,
          1000,
          1250,
          1500,
          1750,
          2000,
          2250,
          2500,
          2750,
          3000,
          3250,
          3500,
          3750,
          4000,
          4250,
          4500,
          4750,
          5000,
          5250,
          5500,
          5750,
          6000,
          6250,
          6500,
          6750,
          7000,
          7250,
          7500,
          7750,
          8000,
          8250,
          8500,
          8750,
          9000,
          9250,
          9500,
          9750,
          10000,
          10250,
          10500,
          10750,
          11000,
          11250,
          11500,
          11750,
          12000,
          12250,
          12500,
          12750,
          13000,
          13250,
          13500,
          13750,
          14000,
          14250,
          14500,
          14750,
          15000,
          15250,
          15500,
          15750,
          16000,
          16250,
          16500,
          16750,
          17000,
          17250,
          17500,
          17750,
          18000,
          18250,
          18500,
          18750,
          19000,
          19250,
          19500,
          19750
         ],
         "xaxis": "x",
         "y": [
          -0.816,
          -0.432,
          -0.28,
          -0.144,
          -0.104,
          -0.008,
          0.016,
          -0.032,
          0.04,
          0.12,
          0.096,
          0.072,
          0.208,
          0.304,
          0.184,
          0.24,
          0.24,
          0.24,
          0.312,
          0.32,
          0.336,
          0.36,
          0.4,
          0.36,
          0.432,
          0.4,
          0.32,
          0.432,
          0.376,
          0.504,
          0.344,
          0.312,
          0.416,
          0.4,
          0.408,
          0.312,
          0.448,
          0.432,
          0.376,
          0.448,
          0.4,
          0.336,
          0.4,
          0.368,
          0.496,
          0.296,
          0.344,
          0.432,
          0.4,
          0.456,
          0.448,
          0.4,
          0.432,
          0.48,
          0.392,
          0.432,
          0.344,
          0.424,
          0.448,
          0.456,
          0.504,
          0.504,
          0.528,
          0.408,
          0.44,
          0.544,
          0.472,
          0.432,
          0.552,
          0.456,
          0.536,
          0.44,
          0.472,
          0.424,
          0.44,
          0.536,
          0.472,
          0.416,
          0.376,
          0.424
         ],
         "yaxis": "y"
        },
        {
         "hovertemplate": "variable=n* = 16001<br>Games played=%{x}<br>value=%{y}<extra></extra>",
         "legendgroup": "n* = 16001",
         "line": {
          "color": "#EF553B",
          "dash": "solid"
         },
         "marker": {
          "symbol": "circle"
         },
         "mode": "lines",
         "name": "n* = 16001",
         "orientation": "v",
         "showlegend": true,
         "type": "scatter",
         "x": [
          0,
          250,
          500,
          750,
          1000,
          1250,
          1500,
          1750,
          2000,
          2250,
          2500,
          2750,
          3000,
          3250,
          3500,
          3750,
          4000,
          4250,
          4500,
          4750,
          5000,
          5250,
          5500,
          5750,
          6000,
          6250,
          6500,
          6750,
          7000,
          7250,
          7500,
          7750,
          8000,
          8250,
          8500,
          8750,
          9000,
          9250,
          9500,
          9750,
          10000,
          10250,
          10500,
          10750,
          11000,
          11250,
          11500,
          11750,
          12000,
          12250,
          12500,
          12750,
          13000,
          13250,
          13500,
          13750,
          14000,
          14250,
          14500,
          14750,
          15000,
          15250,
          15500,
          15750,
          16000,
          16250,
          16500,
          16750,
          17000,
          17250,
          17500,
          17750,
          18000,
          18250,
          18500,
          18750,
          19000,
          19250,
          19500,
          19750
         ],
         "xaxis": "x",
         "y": [
          -0.512,
          -0.552,
          -0.448,
          -0.408,
          -0.456,
          -0.344,
          -0.44,
          -0.392,
          -0.392,
          -0.28,
          -0.328,
          -0.248,
          -0.2,
          -0.248,
          -0.24,
          -0.248,
          -0.352,
          -0.352,
          -0.36,
          -0.128,
          -0.136,
          -0.144,
          -0.096,
          -0.168,
          -0.12,
          -0.056,
          0,
          -0.072,
          -0.056,
          0.088,
          -0.056,
          -0.032,
          0.024,
          0.072,
          0.128,
          0.008,
          0.064,
          0.104,
          0.016,
          0.168,
          0.08,
          0.144,
          0.264,
          0.192,
          0.256,
          0.232,
          0.168,
          0.296,
          0.216,
          0.376,
          0.424,
          0.432,
          0.368,
          0.368,
          0.312,
          0.392,
          0.448,
          0.472,
          0.44,
          0.472,
          0.44,
          0.528,
          0.528,
          0.4,
          0.6,
          0.472,
          0.488,
          0.472,
          0.4,
          0.52,
          0.56,
          0.512,
          0.584,
          0.504,
          0.496,
          0.472,
          0.624,
          0.544,
          0.488,
          0.52
         ],
         "yaxis": "y"
        },
        {
         "hovertemplate": "variable=n* = 24000<br>Games played=%{x}<br>value=%{y}<extra></extra>",
         "legendgroup": "n* = 24000",
         "line": {
          "color": "#00cc96",
          "dash": "solid"
         },
         "marker": {
          "symbol": "circle"
         },
         "mode": "lines",
         "name": "n* = 24000",
         "orientation": "v",
         "showlegend": true,
         "type": "scatter",
         "x": [
          0,
          250,
          500,
          750,
          1000,
          1250,
          1500,
          1750,
          2000,
          2250,
          2500,
          2750,
          3000,
          3250,
          3500,
          3750,
          4000,
          4250,
          4500,
          4750,
          5000,
          5250,
          5500,
          5750,
          6000,
          6250,
          6500,
          6750,
          7000,
          7250,
          7500,
          7750,
          8000,
          8250,
          8500,
          8750,
          9000,
          9250,
          9500,
          9750,
          10000,
          10250,
          10500,
          10750,
          11000,
          11250,
          11500,
          11750,
          12000,
          12250,
          12500,
          12750,
          13000,
          13250,
          13500,
          13750,
          14000,
          14250,
          14500,
          14750,
          15000,
          15250,
          15500,
          15750,
          16000,
          16250,
          16500,
          16750,
          17000,
          17250,
          17500,
          17750,
          18000,
          18250,
          18500,
          18750,
          19000,
          19250,
          19500,
          19750
         ],
         "xaxis": "x",
         "y": [
          -0.544,
          -0.584,
          -0.464,
          -0.408,
          -0.36,
          -0.408,
          -0.296,
          -0.376,
          -0.376,
          -0.264,
          -0.304,
          -0.168,
          -0.352,
          -0.4,
          -0.28,
          -0.24,
          -0.304,
          -0.2,
          -0.32,
          -0.28,
          -0.232,
          -0.368,
          -0.28,
          -0.272,
          -0.184,
          -0.152,
          -0.144,
          -0.088,
          -0.088,
          -0.216,
          -0.152,
          -0.12,
          -0.072,
          -0.12,
          -0.12,
          -0.112,
          -0.08,
          -0.016,
          0.016,
          -0.016,
          -0.04,
          -0.04,
          0.04,
          0.016,
          -0.048,
          0.064,
          0.048,
          -0.112,
          0.008,
          -0.048,
          -0.008,
          0.008,
          0.152,
          0.08,
          0.136,
          0.144,
          0.144,
          0.064,
          0.224,
          0.104,
          0.104,
          0.248,
          0.248,
          0.264,
          0.296,
          0.328,
          0.368,
          0.232,
          0.288,
          0.16,
          0.248,
          0.264,
          0.368,
          0.304,
          0.392,
          0.352,
          0.496,
          0.448,
          0.344,
          0.472
         ],
         "yaxis": "y"
        },
        {
         "hovertemplate": "variable=n* = 32000<br>Games played=%{x}<br>value=%{y}<extra></extra>",
         "legendgroup": "n* = 32000",
         "line": {
          "color": "#ab63fa",
          "dash": "solid"
         },
         "marker": {
          "symbol": "circle"
         },
         "mode": "lines",
         "name": "n* = 32000",
         "orientation": "v",
         "showlegend": true,
         "type": "scatter",
         "x": [
          0,
          250,
          500,
          750,
          1000,
          1250,
          1500,
          1750,
          2000,
          2250,
          2500,
          2750,
          3000,
          3250,
          3500,
          3750,
          4000,
          4250,
          4500,
          4750,
          5000,
          5250,
          5500,
          5750,
          6000,
          6250,
          6500,
          6750,
          7000,
          7250,
          7500,
          7750,
          8000,
          8250,
          8500,
          8750,
          9000,
          9250,
          9500,
          9750,
          10000,
          10250,
          10500,
          10750,
          11000,
          11250,
          11500,
          11750,
          12000,
          12250,
          12500,
          12750,
          13000,
          13250,
          13500,
          13750,
          14000,
          14250,
          14500,
          14750,
          15000,
          15250,
          15500,
          15750,
          16000,
          16250,
          16500,
          16750,
          17000,
          17250,
          17500,
          17750,
          18000,
          18250,
          18500,
          18750,
          19000,
          19250,
          19500,
          19750
         ],
         "xaxis": "x",
         "y": [
          -0.584,
          -0.424,
          -0.496,
          -0.448,
          -0.4,
          -0.544,
          -0.52,
          -0.472,
          -0.408,
          -0.36,
          -0.304,
          -0.344,
          -0.36,
          -0.288,
          -0.36,
          -0.376,
          -0.352,
          -0.328,
          -0.408,
          -0.208,
          -0.232,
          -0.224,
          -0.328,
          -0.272,
          -0.192,
          -0.272,
          -0.08,
          -0.232,
          -0.208,
          -0.224,
          -0.144,
          -0.344,
          -0.12,
          -0.152,
          -0.208,
          -0.16,
          -0.032,
          -0.144,
          -0.256,
          -0.168,
          -0.128,
          -0.168,
          -0.144,
          -0.176,
          -0.072,
          -0.08,
          -0.08,
          -0.024,
          -0.16,
          -0.088,
          -0.048,
          -0.16,
          0.04,
          0,
          -0.04,
          -0.024,
          -0.048,
          -0.016,
          0.008,
          -0.008,
          -0.088,
          0,
          -0.016,
          -0.04,
          0.072,
          0.088,
          0.136,
          0.08,
          0.08,
          0.088,
          0.16,
          0.08,
          0.064,
          0.136,
          0.16,
          0.232,
          0.168,
          0.216,
          0.28,
          0.32
         ],
         "yaxis": "y"
        },
        {
         "hovertemplate": "variable=n* = 40000<br>Games played=%{x}<br>value=%{y}<extra></extra>",
         "legendgroup": "n* = 40000",
         "line": {
          "color": "#FFA15A",
          "dash": "solid"
         },
         "marker": {
          "symbol": "circle"
         },
         "mode": "lines",
         "name": "n* = 40000",
         "orientation": "v",
         "showlegend": true,
         "type": "scatter",
         "x": [
          0,
          250,
          500,
          750,
          1000,
          1250,
          1500,
          1750,
          2000,
          2250,
          2500,
          2750,
          3000,
          3250,
          3500,
          3750,
          4000,
          4250,
          4500,
          4750,
          5000,
          5250,
          5500,
          5750,
          6000,
          6250,
          6500,
          6750,
          7000,
          7250,
          7500,
          7750,
          8000,
          8250,
          8500,
          8750,
          9000,
          9250,
          9500,
          9750,
          10000,
          10250,
          10500,
          10750,
          11000,
          11250,
          11500,
          11750,
          12000,
          12250,
          12500,
          12750,
          13000,
          13250,
          13500,
          13750,
          14000,
          14250,
          14500,
          14750,
          15000,
          15250,
          15500,
          15750,
          16000,
          16250,
          16500,
          16750,
          17000,
          17250,
          17500,
          17750,
          18000,
          18250,
          18500,
          18750,
          19000,
          19250,
          19500,
          19750
         ],
         "xaxis": "x",
         "y": [
          -0.696,
          -0.464,
          -0.464,
          -0.376,
          -0.36,
          -0.408,
          -0.4,
          -0.184,
          -0.416,
          -0.392,
          -0.32,
          -0.28,
          -0.392,
          -0.368,
          -0.304,
          -0.384,
          -0.288,
          -0.344,
          -0.352,
          -0.28,
          -0.224,
          -0.336,
          -0.32,
          -0.24,
          -0.184,
          -0.296,
          -0.296,
          -0.256,
          -0.28,
          -0.256,
          -0.208,
          -0.104,
          -0.224,
          -0.12,
          -0.232,
          -0.304,
          -0.304,
          -0.216,
          -0.16,
          -0.152,
          -0.296,
          -0.152,
          -0.232,
          -0.208,
          -0.192,
          -0.096,
          -0.104,
          -0.032,
          -0.208,
          -0.168,
          -0.176,
          -0.176,
          -0.12,
          -0.112,
          -0.04,
          -0.048,
          -0.224,
          -0.184,
          -0.16,
          -0.144,
          -0.144,
          -0.2,
          -0.024,
          -0.04,
          -0.104,
          -0.032,
          -0.08,
          -0.04,
          -0.096,
          -0.112,
          -0.064,
          -0.032,
          0.032,
          -0.024,
          0.072,
          0.04,
          -0.096,
          0.056,
          0.016,
          0.08
         ],
         "yaxis": "y"
        },
        {
         "hovertemplate": "variable=n* = 8001<br>Games played=%{x}<br>value=%{y}<extra></extra>",
         "legendgroup": "n* = 8001",
         "line": {
          "color": "#19d3f3",
          "dash": "solid"
         },
         "marker": {
          "symbol": "circle"
         },
         "mode": "lines",
         "name": "n* = 8001",
         "orientation": "v",
         "showlegend": true,
         "type": "scatter",
         "x": [
          0,
          250,
          500,
          750,
          1000,
          1250,
          1500,
          1750,
          2000,
          2250,
          2500,
          2750,
          3000,
          3250,
          3500,
          3750,
          4000,
          4250,
          4500,
          4750,
          5000,
          5250,
          5500,
          5750,
          6000,
          6250,
          6500,
          6750,
          7000,
          7250,
          7500,
          7750,
          8000,
          8250,
          8500,
          8750,
          9000,
          9250,
          9500,
          9750,
          10000,
          10250,
          10500,
          10750,
          11000,
          11250,
          11500,
          11750,
          12000,
          12250,
          12500,
          12750,
          13000,
          13250,
          13500,
          13750,
          14000,
          14250,
          14500,
          14750,
          15000,
          15250,
          15500,
          15750,
          16000,
          16250,
          16500,
          16750,
          17000,
          17250,
          17500,
          17750,
          18000,
          18250,
          18500,
          18750,
          19000,
          19250,
          19500,
          19750
         ],
         "xaxis": "x",
         "y": [
          -0.576,
          -0.536,
          -0.512,
          -0.408,
          -0.368,
          -0.344,
          -0.304,
          -0.288,
          -0.16,
          -0.184,
          -0.208,
          -0.184,
          -0.128,
          -0.152,
          -0.088,
          -0.04,
          -0.04,
          0.08,
          0,
          0.024,
          0.096,
          0.152,
          0.168,
          0.176,
          0.128,
          0.28,
          0.312,
          0.496,
          0.352,
          0.432,
          0.416,
          0.448,
          0.272,
          0.4,
          0.44,
          0.44,
          0.536,
          0.584,
          0.384,
          0.424,
          0.48,
          0.376,
          0.488,
          0.408,
          0.56,
          0.48,
          0.456,
          0.488,
          0.424,
          0.544,
          0.504,
          0.576,
          0.472,
          0.448,
          0.496,
          0.368,
          0.52,
          0.432,
          0.392,
          0.528,
          0.416,
          0.48,
          0.464,
          0.456,
          0.536,
          0.488,
          0.56,
          0.48,
          0.432,
          0.392,
          0.528,
          0.448,
          0.528,
          0.424,
          0.512,
          0.448,
          0.576,
          0.416,
          0.456,
          0.608
         ],
         "yaxis": "y"
        }
       ],
       "layout": {
        "legend": {
         "title": {
          "text": "variable"
         },
         "tracegroupgap": 0
        },
        "template": {
         "data": {
          "bar": [
           {
            "error_x": {
             "color": "#2a3f5f"
            },
            "error_y": {
             "color": "#2a3f5f"
            },
            "marker": {
             "line": {
              "color": "#E5ECF6",
              "width": 0.5
             },
             "pattern": {
              "fillmode": "overlay",
              "size": 10,
              "solidity": 0.2
             }
            },
            "type": "bar"
           }
          ],
          "barpolar": [
           {
            "marker": {
             "line": {
              "color": "#E5ECF6",
              "width": 0.5
             },
             "pattern": {
              "fillmode": "overlay",
              "size": 10,
              "solidity": 0.2
             }
            },
            "type": "barpolar"
           }
          ],
          "carpet": [
           {
            "aaxis": {
             "endlinecolor": "#2a3f5f",
             "gridcolor": "white",
             "linecolor": "white",
             "minorgridcolor": "white",
             "startlinecolor": "#2a3f5f"
            },
            "baxis": {
             "endlinecolor": "#2a3f5f",
             "gridcolor": "white",
             "linecolor": "white",
             "minorgridcolor": "white",
             "startlinecolor": "#2a3f5f"
            },
            "type": "carpet"
           }
          ],
          "choropleth": [
           {
            "colorbar": {
             "outlinewidth": 0,
             "ticks": ""
            },
            "type": "choropleth"
           }
          ],
          "contour": [
           {
            "colorbar": {
             "outlinewidth": 0,
             "ticks": ""
            },
            "colorscale": [
             [
              0,
              "#0d0887"
             ],
             [
              0.1111111111111111,
              "#46039f"
             ],
             [
              0.2222222222222222,
              "#7201a8"
             ],
             [
              0.3333333333333333,
              "#9c179e"
             ],
             [
              0.4444444444444444,
              "#bd3786"
             ],
             [
              0.5555555555555556,
              "#d8576b"
             ],
             [
              0.6666666666666666,
              "#ed7953"
             ],
             [
              0.7777777777777778,
              "#fb9f3a"
             ],
             [
              0.8888888888888888,
              "#fdca26"
             ],
             [
              1,
              "#f0f921"
             ]
            ],
            "type": "contour"
           }
          ],
          "contourcarpet": [
           {
            "colorbar": {
             "outlinewidth": 0,
             "ticks": ""
            },
            "type": "contourcarpet"
           }
          ],
          "heatmap": [
           {
            "colorbar": {
             "outlinewidth": 0,
             "ticks": ""
            },
            "colorscale": [
             [
              0,
              "#0d0887"
             ],
             [
              0.1111111111111111,
              "#46039f"
             ],
             [
              0.2222222222222222,
              "#7201a8"
             ],
             [
              0.3333333333333333,
              "#9c179e"
             ],
             [
              0.4444444444444444,
              "#bd3786"
             ],
             [
              0.5555555555555556,
              "#d8576b"
             ],
             [
              0.6666666666666666,
              "#ed7953"
             ],
             [
              0.7777777777777778,
              "#fb9f3a"
             ],
             [
              0.8888888888888888,
              "#fdca26"
             ],
             [
              1,
              "#f0f921"
             ]
            ],
            "type": "heatmap"
           }
          ],
          "heatmapgl": [
           {
            "colorbar": {
             "outlinewidth": 0,
             "ticks": ""
            },
            "colorscale": [
             [
              0,
              "#0d0887"
             ],
             [
              0.1111111111111111,
              "#46039f"
             ],
             [
              0.2222222222222222,
              "#7201a8"
             ],
             [
              0.3333333333333333,
              "#9c179e"
             ],
             [
              0.4444444444444444,
              "#bd3786"
             ],
             [
              0.5555555555555556,
              "#d8576b"
             ],
             [
              0.6666666666666666,
              "#ed7953"
             ],
             [
              0.7777777777777778,
              "#fb9f3a"
             ],
             [
              0.8888888888888888,
              "#fdca26"
             ],
             [
              1,
              "#f0f921"
             ]
            ],
            "type": "heatmapgl"
           }
          ],
          "histogram": [
           {
            "marker": {
             "pattern": {
              "fillmode": "overlay",
              "size": 10,
              "solidity": 0.2
             }
            },
            "type": "histogram"
           }
          ],
          "histogram2d": [
           {
            "colorbar": {
             "outlinewidth": 0,
             "ticks": ""
            },
            "colorscale": [
             [
              0,
              "#0d0887"
             ],
             [
              0.1111111111111111,
              "#46039f"
             ],
             [
              0.2222222222222222,
              "#7201a8"
             ],
             [
              0.3333333333333333,
              "#9c179e"
             ],
             [
              0.4444444444444444,
              "#bd3786"
             ],
             [
              0.5555555555555556,
              "#d8576b"
             ],
             [
              0.6666666666666666,
              "#ed7953"
             ],
             [
              0.7777777777777778,
              "#fb9f3a"
             ],
             [
              0.8888888888888888,
              "#fdca26"
             ],
             [
              1,
              "#f0f921"
             ]
            ],
            "type": "histogram2d"
           }
          ],
          "histogram2dcontour": [
           {
            "colorbar": {
             "outlinewidth": 0,
             "ticks": ""
            },
            "colorscale": [
             [
              0,
              "#0d0887"
             ],
             [
              0.1111111111111111,
              "#46039f"
             ],
             [
              0.2222222222222222,
              "#7201a8"
             ],
             [
              0.3333333333333333,
              "#9c179e"
             ],
             [
              0.4444444444444444,
              "#bd3786"
             ],
             [
              0.5555555555555556,
              "#d8576b"
             ],
             [
              0.6666666666666666,
              "#ed7953"
             ],
             [
              0.7777777777777778,
              "#fb9f3a"
             ],
             [
              0.8888888888888888,
              "#fdca26"
             ],
             [
              1,
              "#f0f921"
             ]
            ],
            "type": "histogram2dcontour"
           }
          ],
          "mesh3d": [
           {
            "colorbar": {
             "outlinewidth": 0,
             "ticks": ""
            },
            "type": "mesh3d"
           }
          ],
          "parcoords": [
           {
            "line": {
             "colorbar": {
              "outlinewidth": 0,
              "ticks": ""
             }
            },
            "type": "parcoords"
           }
          ],
          "pie": [
           {
            "automargin": true,
            "type": "pie"
           }
          ],
          "scatter": [
           {
            "fillpattern": {
             "fillmode": "overlay",
             "size": 10,
             "solidity": 0.2
            },
            "type": "scatter"
           }
          ],
          "scatter3d": [
           {
            "line": {
             "colorbar": {
              "outlinewidth": 0,
              "ticks": ""
             }
            },
            "marker": {
             "colorbar": {
              "outlinewidth": 0,
              "ticks": ""
             }
            },
            "type": "scatter3d"
           }
          ],
          "scattercarpet": [
           {
            "marker": {
             "colorbar": {
              "outlinewidth": 0,
              "ticks": ""
             }
            },
            "type": "scattercarpet"
           }
          ],
          "scattergeo": [
           {
            "marker": {
             "colorbar": {
              "outlinewidth": 0,
              "ticks": ""
             }
            },
            "type": "scattergeo"
           }
          ],
          "scattergl": [
           {
            "marker": {
             "colorbar": {
              "outlinewidth": 0,
              "ticks": ""
             }
            },
            "type": "scattergl"
           }
          ],
          "scattermapbox": [
           {
            "marker": {
             "colorbar": {
              "outlinewidth": 0,
              "ticks": ""
             }
            },
            "type": "scattermapbox"
           }
          ],
          "scatterpolar": [
           {
            "marker": {
             "colorbar": {
              "outlinewidth": 0,
              "ticks": ""
             }
            },
            "type": "scatterpolar"
           }
          ],
          "scatterpolargl": [
           {
            "marker": {
             "colorbar": {
              "outlinewidth": 0,
              "ticks": ""
             }
            },
            "type": "scatterpolargl"
           }
          ],
          "scatterternary": [
           {
            "marker": {
             "colorbar": {
              "outlinewidth": 0,
              "ticks": ""
             }
            },
            "type": "scatterternary"
           }
          ],
          "surface": [
           {
            "colorbar": {
             "outlinewidth": 0,
             "ticks": ""
            },
            "colorscale": [
             [
              0,
              "#0d0887"
             ],
             [
              0.1111111111111111,
              "#46039f"
             ],
             [
              0.2222222222222222,
              "#7201a8"
             ],
             [
              0.3333333333333333,
              "#9c179e"
             ],
             [
              0.4444444444444444,
              "#bd3786"
             ],
             [
              0.5555555555555556,
              "#d8576b"
             ],
             [
              0.6666666666666666,
              "#ed7953"
             ],
             [
              0.7777777777777778,
              "#fb9f3a"
             ],
             [
              0.8888888888888888,
              "#fdca26"
             ],
             [
              1,
              "#f0f921"
             ]
            ],
            "type": "surface"
           }
          ],
          "table": [
           {
            "cells": {
             "fill": {
              "color": "#EBF0F8"
             },
             "line": {
              "color": "white"
             }
            },
            "header": {
             "fill": {
              "color": "#C8D4E3"
             },
             "line": {
              "color": "white"
             }
            },
            "type": "table"
           }
          ]
         },
         "layout": {
          "annotationdefaults": {
           "arrowcolor": "#2a3f5f",
           "arrowhead": 0,
           "arrowwidth": 1
          },
          "autotypenumbers": "strict",
          "coloraxis": {
           "colorbar": {
            "outlinewidth": 0,
            "ticks": ""
           }
          },
          "colorscale": {
           "diverging": [
            [
             0,
             "#8e0152"
            ],
            [
             0.1,
             "#c51b7d"
            ],
            [
             0.2,
             "#de77ae"
            ],
            [
             0.3,
             "#f1b6da"
            ],
            [
             0.4,
             "#fde0ef"
            ],
            [
             0.5,
             "#f7f7f7"
            ],
            [
             0.6,
             "#e6f5d0"
            ],
            [
             0.7,
             "#b8e186"
            ],
            [
             0.8,
             "#7fbc41"
            ],
            [
             0.9,
             "#4d9221"
            ],
            [
             1,
             "#276419"
            ]
           ],
           "sequential": [
            [
             0,
             "#0d0887"
            ],
            [
             0.1111111111111111,
             "#46039f"
            ],
            [
             0.2222222222222222,
             "#7201a8"
            ],
            [
             0.3333333333333333,
             "#9c179e"
            ],
            [
             0.4444444444444444,
             "#bd3786"
            ],
            [
             0.5555555555555556,
             "#d8576b"
            ],
            [
             0.6666666666666666,
             "#ed7953"
            ],
            [
             0.7777777777777778,
             "#fb9f3a"
            ],
            [
             0.8888888888888888,
             "#fdca26"
            ],
            [
             1,
             "#f0f921"
            ]
           ],
           "sequentialminus": [
            [
             0,
             "#0d0887"
            ],
            [
             0.1111111111111111,
             "#46039f"
            ],
            [
             0.2222222222222222,
             "#7201a8"
            ],
            [
             0.3333333333333333,
             "#9c179e"
            ],
            [
             0.4444444444444444,
             "#bd3786"
            ],
            [
             0.5555555555555556,
             "#d8576b"
            ],
            [
             0.6666666666666666,
             "#ed7953"
            ],
            [
             0.7777777777777778,
             "#fb9f3a"
            ],
            [
             0.8888888888888888,
             "#fdca26"
            ],
            [
             1,
             "#f0f921"
            ]
           ]
          },
          "colorway": [
           "#636efa",
           "#EF553B",
           "#00cc96",
           "#ab63fa",
           "#FFA15A",
           "#19d3f3",
           "#FF6692",
           "#B6E880",
           "#FF97FF",
           "#FECB52"
          ],
          "font": {
           "color": "#2a3f5f"
          },
          "geo": {
           "bgcolor": "white",
           "lakecolor": "white",
           "landcolor": "#E5ECF6",
           "showlakes": true,
           "showland": true,
           "subunitcolor": "white"
          },
          "hoverlabel": {
           "align": "left"
          },
          "hovermode": "closest",
          "mapbox": {
           "style": "light"
          },
          "paper_bgcolor": "white",
          "plot_bgcolor": "#E5ECF6",
          "polar": {
           "angularaxis": {
            "gridcolor": "white",
            "linecolor": "white",
            "ticks": ""
           },
           "bgcolor": "#E5ECF6",
           "radialaxis": {
            "gridcolor": "white",
            "linecolor": "white",
            "ticks": ""
           }
          },
          "scene": {
           "xaxis": {
            "backgroundcolor": "#E5ECF6",
            "gridcolor": "white",
            "gridwidth": 2,
            "linecolor": "white",
            "showbackground": true,
            "ticks": "",
            "zerolinecolor": "white"
           },
           "yaxis": {
            "backgroundcolor": "#E5ECF6",
            "gridcolor": "white",
            "gridwidth": 2,
            "linecolor": "white",
            "showbackground": true,
            "ticks": "",
            "zerolinecolor": "white"
           },
           "zaxis": {
            "backgroundcolor": "#E5ECF6",
            "gridcolor": "white",
            "gridwidth": 2,
            "linecolor": "white",
            "showbackground": true,
            "ticks": "",
            "zerolinecolor": "white"
           }
          },
          "shapedefaults": {
           "line": {
            "color": "#2a3f5f"
           }
          },
          "ternary": {
           "aaxis": {
            "gridcolor": "white",
            "linecolor": "white",
            "ticks": ""
           },
           "baxis": {
            "gridcolor": "white",
            "linecolor": "white",
            "ticks": ""
           },
           "bgcolor": "#E5ECF6",
           "caxis": {
            "gridcolor": "white",
            "linecolor": "white",
            "ticks": ""
           }
          },
          "title": {
           "x": 0.05
          },
          "xaxis": {
           "automargin": true,
           "gridcolor": "white",
           "linecolor": "white",
           "ticks": "",
           "title": {
            "standoff": 15
           },
           "zerolinecolor": "white",
           "zerolinewidth": 2
          },
          "yaxis": {
           "automargin": true,
           "gridcolor": "white",
           "linecolor": "white",
           "ticks": "",
           "title": {
            "standoff": 15
           },
           "zerolinecolor": "white",
           "zerolinewidth": 2
          }
         }
        },
        "title": {
         "text": "Training with testing on different decreasing exploration rates"
        },
        "width": 800,
        "xaxis": {
         "anchor": "y",
         "domain": [
          0,
          1
         ],
         "title": {
          "text": "Games played"
         }
        },
        "yaxis": {
         "anchor": "x",
         "domain": [
          0,
          1
         ],
         "title": {
          "text": "Reward"
         }
        }
       }
      }
     },
     "metadata": {},
     "output_type": "display_data"
    },
    {
     "data": {
      "application/vnd.plotly.v1+json": {
       "config": {
        "plotlyServerURL": "https://plot.ly"
       },
       "data": [
        {
         "hovertemplate": "variable=n* = 1<br>Games played=%{x}<br>value=%{y}<extra></extra>",
         "legendgroup": "n* = 1",
         "line": {
          "color": "#636efa",
          "dash": "solid"
         },
         "marker": {
          "symbol": "circle"
         },
         "mode": "lines",
         "name": "n* = 1",
         "orientation": "v",
         "showlegend": true,
         "type": "scatter",
         "x": [
          0,
          250,
          500,
          750,
          1000,
          1250,
          1500,
          1750,
          2000,
          2250,
          2500,
          2750,
          3000,
          3250,
          3500,
          3750,
          4000,
          4250,
          4500,
          4750,
          5000,
          5250,
          5500,
          5750,
          6000,
          6250,
          6500,
          6750,
          7000,
          7250,
          7500,
          7750,
          8000,
          8250,
          8500,
          8750,
          9000,
          9250,
          9500,
          9750,
          10000,
          10250,
          10500,
          10750,
          11000,
          11250,
          11500,
          11750,
          12000,
          12250,
          12500,
          12750,
          13000,
          13250,
          13500,
          13750,
          14000,
          14250,
          14500,
          14750,
          15000,
          15250,
          15500,
          15750,
          16000,
          16250,
          16500,
          16750,
          17000,
          17250,
          17500,
          17750,
          18000,
          18250,
          18500,
          18750,
          19000,
          19250,
          19500,
          19750
         ],
         "xaxis": "x",
         "y": [
          0.06556311450142147,
          0.0160010190949487,
          0.06808303524318676,
          0.061790842940841896,
          0.09876986339269042,
          0.09256004142069453,
          0.11028718904866648,
          0.10745263663126119,
          0.1033677832726579,
          0.10155616072297231,
          0.09877815030695715,
          0.09538947216458826,
          0.1087798624286118,
          0.10237997824653884,
          0.09893831576964708,
          0.09620622091876742,
          0.09684271737521069,
          0.09165178353521114,
          0.08707246063440516,
          0.08512482483545211,
          0.08705966745076006,
          0.08277272407052129,
          0.08586784499583014,
          0.08465527444656959,
          0.08155729808743914,
          0.07918816880316959,
          0.07649531457003808,
          0.07198907135515123,
          0.07575193681802116,
          0.0732237452616239,
          0.07353495719049934,
          0.06996241926636827,
          0.06651015458285098,
          0.06470881790611975,
          0.06952447382729114,
          0.06681949387647604,
          0.07287246804733961,
          0.07184605656508752,
          0.06986090304559021,
          0.07267830901807953,
          0.06470275884019232,
          0.06399170454177591,
          0.06784354012138796,
          0.06617960645689991,
          0.06603152528889518,
          0.06625549726121437,
          0.06911977844168271,
          0.06829658433256329,
          0.06686539520487342,
          0.06554560572478896,
          0.06568963326008367,
          0.06462859591897742,
          0.0652299904329362,
          0.06493888062047777,
          0.06000251918373489,
          0.06014081058261308,
          0.0635950107099716,
          0.0629207038657632,
          0.0649805097102424,
          0.062172940413808164,
          0.05932276698417569,
          0.06058965422139228,
          0.056470818648637275,
          0.05638547403631127,
          0.055256272128854804,
          0.05392439066636459,
          0.056172332384592884,
          0.05474817532860138,
          0.05552782765128007,
          0.05405058266390213,
          0.055998942364457543,
          0.05520603348020616,
          0.05992159628147907,
          0.057974427532756403,
          0.06045834211302238,
          0.05881733065460808,
          0.058252155644891085,
          0.05667689138132593,
          0.057798801592247505,
          0.05579753647892074
         ],
         "yaxis": "y"
        },
        {
         "hovertemplate": "variable=n* = 16001<br>Games played=%{x}<br>value=%{y}<extra></extra>",
         "legendgroup": "n* = 16001",
         "line": {
          "color": "#EF553B",
          "dash": "solid"
         },
         "marker": {
          "symbol": "circle"
         },
         "mode": "lines",
         "name": "n* = 16001",
         "orientation": "v",
         "showlegend": true,
         "type": "scatter",
         "x": [
          0,
          250,
          500,
          750,
          1000,
          1250,
          1500,
          1750,
          2000,
          2250,
          2500,
          2750,
          3000,
          3250,
          3500,
          3750,
          4000,
          4250,
          4500,
          4750,
          5000,
          5250,
          5500,
          5750,
          6000,
          6250,
          6500,
          6750,
          7000,
          7250,
          7500,
          7750,
          8000,
          8250,
          8500,
          8750,
          9000,
          9250,
          9500,
          9750,
          10000,
          10250,
          10500,
          10750,
          11000,
          11250,
          11500,
          11750,
          12000,
          12250,
          12500,
          12750,
          13000,
          13250,
          13500,
          13750,
          14000,
          14250,
          14500,
          14750,
          15000,
          15250,
          15500,
          15750,
          16000,
          16250,
          16500,
          16750,
          17000,
          17250,
          17500,
          17750,
          18000,
          18250,
          18500,
          18750,
          19000,
          19250,
          19500,
          19750
         ],
         "xaxis": "x",
         "y": [
          0.06687979536183906,
          0.031809451188398535,
          0.08634500130077229,
          0.08031804764316125,
          0.10968872240660323,
          0.10672249747604495,
          0.11883615924706382,
          0.1200030855531204,
          0.1200363532113855,
          0.1168942773914057,
          0.12299998680882107,
          0.12245598657764206,
          0.12799533000167126,
          0.12632682770094866,
          0.1319288935172747,
          0.1306719159702805,
          0.13100802126669125,
          0.1315547907182937,
          0.1190903443247848,
          0.11917103372267163,
          0.1194368844186279,
          0.12003630435478214,
          0.11974825300507663,
          0.11751702408079502,
          0.12165904866874294,
          0.11805319771708096,
          0.11352655990106239,
          0.111750767945087,
          0.11309728870196409,
          0.10912285135053508,
          0.10057670978427972,
          0.10067885202574141,
          0.09592485966206324,
          0.09423383089240893,
          0.0955234384584526,
          0.09293465983356798,
          0.09233797726458347,
          0.09132767172911799,
          0.09576576306661251,
          0.0924615856631684,
          0.10157142099962779,
          0.09989532242800915,
          0.09010221690942462,
          0.088607622879906,
          0.08486357007264281,
          0.08393324980013686,
          0.08011941468077047,
          0.07867393977242136,
          0.08254815961022272,
          0.08032400759429424,
          0.07624645146174477,
          0.0747833854100598,
          0.07089449563409601,
          0.06946945633538769,
          0.06887696131106166,
          0.06598485484467,
          0.06494709566050307,
          0.0631739473807666,
          0.05929051208668659,
          0.05576493722197186,
          0.06033283463953661,
          0.05790957622431856,
          0.060898754470513,
          0.06083987213104315,
          0.05538163964909562,
          0.054473106917315696,
          0.053384805322554046,
          0.05349254733795948,
          0.05671609939084359,
          0.05504605973036038,
          0.05179760247204288,
          0.051939504401739625,
          0.05141802881019119,
          0.051043728744507334,
          0.052993149846244265,
          0.05102240643905291,
          0.048082886405930086,
          0.04800839015615518,
          0.04858112312484901,
          0.04775751352253306
         ],
         "yaxis": "y"
        },
        {
         "hovertemplate": "variable=n* = 24000<br>Games played=%{x}<br>value=%{y}<extra></extra>",
         "legendgroup": "n* = 24000",
         "line": {
          "color": "#00cc96",
          "dash": "solid"
         },
         "marker": {
          "symbol": "circle"
         },
         "mode": "lines",
         "name": "n* = 24000",
         "orientation": "v",
         "showlegend": true,
         "type": "scatter",
         "x": [
          0,
          250,
          500,
          750,
          1000,
          1250,
          1500,
          1750,
          2000,
          2250,
          2500,
          2750,
          3000,
          3250,
          3500,
          3750,
          4000,
          4250,
          4500,
          4750,
          5000,
          5250,
          5500,
          5750,
          6000,
          6250,
          6500,
          6750,
          7000,
          7250,
          7500,
          7750,
          8000,
          8250,
          8500,
          8750,
          9000,
          9250,
          9500,
          9750,
          10000,
          10250,
          10500,
          10750,
          11000,
          11250,
          11500,
          11750,
          12000,
          12250,
          12500,
          12750,
          13000,
          13250,
          13500,
          13750,
          14000,
          14250,
          14500,
          14750,
          15000,
          15250,
          15500,
          15750,
          16000,
          16250,
          16500,
          16750,
          17000,
          17250,
          17500,
          17750,
          18000,
          18250,
          18500,
          18750,
          19000,
          19250,
          19500,
          19750
         ],
         "xaxis": "x",
         "y": [
          0.07070370784974273,
          0.02923386428017951,
          0.08056624749491752,
          0.07219946869425324,
          0.10095185793137976,
          0.1017010926241944,
          0.1101548704170087,
          0.10835327160474593,
          0.10894036206653235,
          0.10963762777473406,
          0.11905360400201158,
          0.11872834951338387,
          0.12231181289115556,
          0.12219835576615379,
          0.1286445500013393,
          0.12401222172217356,
          0.12700356893477308,
          0.12552930138965868,
          0.11930456047062,
          0.11814498686540487,
          0.12037707674898389,
          0.11702825287406776,
          0.12176038554968616,
          0.11896579200283414,
          0.11340096937653704,
          0.11125205925968297,
          0.11159267090497658,
          0.11474905776454829,
          0.11271403678704207,
          0.1088768356343984,
          0.11419649734031456,
          0.11147067888527742,
          0.10614205976854166,
          0.10343520074334844,
          0.11259579751290875,
          0.11071966106737469,
          0.10948678258404856,
          0.10447583705122376,
          0.10372772097170505,
          0.10424541804585175,
          0.10648828548895325,
          0.10484076841156693,
          0.10098684355616569,
          0.10011698079965743,
          0.10519591501133159,
          0.10050499695940178,
          0.09423525629918678,
          0.09338924148016506,
          0.09429039441619479,
          0.09190638006169144,
          0.09207023787564539,
          0.08987371737200855,
          0.08967734982624002,
          0.08869312129007495,
          0.088979587337579,
          0.08835524817819104,
          0.08599030858859784,
          0.08457254977647083,
          0.08625730844775596,
          0.08427298305962655,
          0.08379782608671654,
          0.08293208579208121,
          0.08149086638135469,
          0.08120486196323869,
          0.08033284635030638,
          0.07784669287063463,
          0.07653561682242004,
          0.07607319191316844,
          0.07289329794847979,
          0.0725864501734979,
          0.06972876500013635,
          0.06770851752729318,
          0.07023088987368871,
          0.06916650849047119,
          0.06738768022511582,
          0.06554638914794145,
          0.06589652651153435,
          0.0641640381539358,
          0.06259728474542499,
          0.05967603201109372
         ],
         "yaxis": "y"
        },
        {
         "hovertemplate": "variable=n* = 32000<br>Games played=%{x}<br>value=%{y}<extra></extra>",
         "legendgroup": "n* = 32000",
         "line": {
          "color": "#ab63fa",
          "dash": "solid"
         },
         "marker": {
          "symbol": "circle"
         },
         "mode": "lines",
         "name": "n* = 32000",
         "orientation": "v",
         "showlegend": true,
         "type": "scatter",
         "x": [
          0,
          250,
          500,
          750,
          1000,
          1250,
          1500,
          1750,
          2000,
          2250,
          2500,
          2750,
          3000,
          3250,
          3500,
          3750,
          4000,
          4250,
          4500,
          4750,
          5000,
          5250,
          5500,
          5750,
          6000,
          6250,
          6500,
          6750,
          7000,
          7250,
          7500,
          7750,
          8000,
          8250,
          8500,
          8750,
          9000,
          9250,
          9500,
          9750,
          10000,
          10250,
          10500,
          10750,
          11000,
          11250,
          11500,
          11750,
          12000,
          12250,
          12500,
          12750,
          13000,
          13250,
          13500,
          13750,
          14000,
          14250,
          14500,
          14750,
          15000,
          15250,
          15500,
          15750,
          16000,
          16250,
          16500,
          16750,
          17000,
          17250,
          17500,
          17750,
          18000,
          18250,
          18500,
          18750,
          19000,
          19250,
          19500,
          19750
         ],
         "xaxis": "x",
         "y": [
          0.07072709037960079,
          0.02983587733322987,
          0.09856214427822073,
          0.08899632802880976,
          0.11096336941753274,
          0.11137127851680764,
          0.12093137746125879,
          0.12272651403716052,
          0.12082769061695009,
          0.1191790490109345,
          0.12014787821196175,
          0.12028982238856244,
          0.12152972004676614,
          0.12386609038257505,
          0.1304564017355442,
          0.13072362750168615,
          0.13349401637852742,
          0.13152518990627893,
          0.12119405756130913,
          0.12117629859888379,
          0.1256987254720455,
          0.12157857051724211,
          0.11643952876816388,
          0.11668673988304583,
          0.11800965967040074,
          0.11740154101600124,
          0.11515233137155163,
          0.1151979638220709,
          0.11425272895936753,
          0.11035828925055394,
          0.10822509993949245,
          0.1066985115477431,
          0.1077732230546047,
          0.10858024234959587,
          0.11063848983800828,
          0.11133264416772604,
          0.10859935906817123,
          0.107076939181563,
          0.10858602677061768,
          0.10821586204752041,
          0.11159902800135552,
          0.1117859452656687,
          0.10450765517755196,
          0.10240077200813769,
          0.10419486130878425,
          0.10477523506169018,
          0.105047057949044,
          0.10374970466102894,
          0.1028576656208029,
          0.10178177706613166,
          0.10119710785656398,
          0.10086039069920115,
          0.10367205979725445,
          0.10090834945810968,
          0.10083536621556596,
          0.09780088654379471,
          0.09793267434720229,
          0.0986284955749006,
          0.09635335250549235,
          0.09281343999255774,
          0.09499592727965568,
          0.09419135570040801,
          0.09256301477025862,
          0.09103326022103068,
          0.09387774389584018,
          0.09380175257670068,
          0.08984509362962809,
          0.08858663255482659,
          0.09136623975625911,
          0.08912093869789883,
          0.0911889275205191,
          0.09045183882794597,
          0.08926135641374405,
          0.08897864077598691,
          0.08404484731396158,
          0.0822876309718581,
          0.08422939278584182,
          0.08280312970998775,
          0.08298889193335705,
          0.08091767640393036
         ],
         "yaxis": "y"
        },
        {
         "hovertemplate": "variable=n* = 40000<br>Games played=%{x}<br>value=%{y}<extra></extra>",
         "legendgroup": "n* = 40000",
         "line": {
          "color": "#FFA15A",
          "dash": "solid"
         },
         "marker": {
          "symbol": "circle"
         },
         "mode": "lines",
         "name": "n* = 40000",
         "orientation": "v",
         "showlegend": true,
         "type": "scatter",
         "x": [
          0,
          250,
          500,
          750,
          1000,
          1250,
          1500,
          1750,
          2000,
          2250,
          2500,
          2750,
          3000,
          3250,
          3500,
          3750,
          4000,
          4250,
          4500,
          4750,
          5000,
          5250,
          5500,
          5750,
          6000,
          6250,
          6500,
          6750,
          7000,
          7250,
          7500,
          7750,
          8000,
          8250,
          8500,
          8750,
          9000,
          9250,
          9500,
          9750,
          10000,
          10250,
          10500,
          10750,
          11000,
          11250,
          11500,
          11750,
          12000,
          12250,
          12500,
          12750,
          13000,
          13250,
          13500,
          13750,
          14000,
          14250,
          14500,
          14750,
          15000,
          15250,
          15500,
          15750,
          16000,
          16250,
          16500,
          16750,
          17000,
          17250,
          17500,
          17750,
          18000,
          18250,
          18500,
          18750,
          19000,
          19250,
          19500,
          19750
         ],
         "xaxis": "x",
         "y": [
          0.0645291730626987,
          0.027630727290828792,
          0.08295160210291165,
          0.07863161693677165,
          0.10759598123769547,
          0.10603961065411567,
          0.11766178362650782,
          0.11782501257051736,
          0.11884547085632867,
          0.11970987112951509,
          0.12938196164852755,
          0.12964584981935784,
          0.12437875866097339,
          0.12341836455899813,
          0.12449295862316304,
          0.12182552376962318,
          0.12682929971185933,
          0.12640344700280656,
          0.12523139696421587,
          0.12373937754423027,
          0.12108024237808292,
          0.11935017703397202,
          0.1148091030739643,
          0.11273078039712615,
          0.11687402033339475,
          0.11643312828138817,
          0.11260092605158821,
          0.11013325648319801,
          0.11624988974566385,
          0.11695401043016439,
          0.1205521921794384,
          0.12024906653189851,
          0.11908777606649659,
          0.11826112978255172,
          0.1248944427012854,
          0.12374461760557202,
          0.11919306026462043,
          0.11798198448389105,
          0.11867174958440581,
          0.11411378126815057,
          0.11482712685818804,
          0.11353886346887229,
          0.11728968952769368,
          0.11690753841963036,
          0.11163716892621847,
          0.11008079189807177,
          0.11264040423233537,
          0.1129873340363203,
          0.11688105222792962,
          0.11701785418203768,
          0.10953231540388696,
          0.10735228528411019,
          0.10476936676482461,
          0.10354493598017511,
          0.10252028909943453,
          0.10124867049277209,
          0.1072088327182799,
          0.10363429984130636,
          0.10208559196577915,
          0.10021120038688108,
          0.10126481240727105,
          0.1009078544585344,
          0.09875925350242691,
          0.09800273634795913,
          0.09658869807637713,
          0.09887761043389436,
          0.10066329623183724,
          0.0980805535547177,
          0.09725681326393061,
          0.09662927963081143,
          0.09888199177619658,
          0.09864523272133535,
          0.0961372242554238,
          0.09544924453352437,
          0.09663064850633125,
          0.09518533992993,
          0.09599865710767305,
          0.09312184055798624,
          0.09506327185131934,
          0.0954872201574911
         ],
         "yaxis": "y"
        },
        {
         "hovertemplate": "variable=n* = 8001<br>Games played=%{x}<br>value=%{y}<extra></extra>",
         "legendgroup": "n* = 8001",
         "line": {
          "color": "#19d3f3",
          "dash": "solid"
         },
         "marker": {
          "symbol": "circle"
         },
         "mode": "lines",
         "name": "n* = 8001",
         "orientation": "v",
         "showlegend": true,
         "type": "scatter",
         "x": [
          0,
          250,
          500,
          750,
          1000,
          1250,
          1500,
          1750,
          2000,
          2250,
          2500,
          2750,
          3000,
          3250,
          3500,
          3750,
          4000,
          4250,
          4500,
          4750,
          5000,
          5250,
          5500,
          5750,
          6000,
          6250,
          6500,
          6750,
          7000,
          7250,
          7500,
          7750,
          8000,
          8250,
          8500,
          8750,
          9000,
          9250,
          9500,
          9750,
          10000,
          10250,
          10500,
          10750,
          11000,
          11250,
          11500,
          11750,
          12000,
          12250,
          12500,
          12750,
          13000,
          13250,
          13500,
          13750,
          14000,
          14250,
          14500,
          14750,
          15000,
          15250,
          15500,
          15750,
          16000,
          16250,
          16500,
          16750,
          17000,
          17250,
          17500,
          17750,
          18000,
          18250,
          18500,
          18750,
          19000,
          19250,
          19500,
          19750
         ],
         "xaxis": "x",
         "y": [
          0.05593730452415356,
          0.028166817050339604,
          0.08607132330682524,
          0.07827069547247086,
          0.10444301437571382,
          0.10405617058178053,
          0.11213850342296318,
          0.11021703942524676,
          0.11589026889856667,
          0.1150237567808001,
          0.12539822772260042,
          0.12466797564844109,
          0.1254906924488023,
          0.1264622612039984,
          0.11873086089666803,
          0.1158407831093274,
          0.11723417838170429,
          0.11632984018605538,
          0.11397392113966842,
          0.11058870947190491,
          0.1095693489120287,
          0.10563017422250479,
          0.10353541344921025,
          0.09906712454241541,
          0.09509604636716147,
          0.08970271096686307,
          0.09020634391903877,
          0.08683911334494306,
          0.08340212738327478,
          0.0791505656670779,
          0.0791425538438839,
          0.07747833019247735,
          0.07081467388307347,
          0.06775288454584735,
          0.06726693560545509,
          0.06529099214822054,
          0.066476526339817,
          0.06371664427130462,
          0.06144766261462461,
          0.06131770914835953,
          0.05791382318853426,
          0.05767637514880404,
          0.05657968132283288,
          0.05523764410999751,
          0.056084371021907206,
          0.054706572467596505,
          0.05560429473723442,
          0.054360245081677555,
          0.057824521580713016,
          0.05703953546935539,
          0.053838566695152086,
          0.0533000871247888,
          0.05111822520469572,
          0.05102161839180131,
          0.05226474113405187,
          0.05181879783945743,
          0.056606890174141354,
          0.05592810443326176,
          0.05675251376836022,
          0.05704159765584836,
          0.05682175452038164,
          0.055443446012365505,
          0.05970563930017745,
          0.0586589828955278,
          0.05514071780771269,
          0.054229474990646,
          0.059451661349031265,
          0.05833272282836659,
          0.05752828515010645,
          0.05650406331031551,
          0.053484133819661495,
          0.05230618681219455,
          0.05020815205963901,
          0.05010249836020349,
          0.05324718328693541,
          0.053338528015927915,
          0.05245790767134288,
          0.05183126544877094,
          0.050566841176319266,
          0.050450383776365626
         ],
         "yaxis": "y"
        }
       ],
       "layout": {
        "legend": {
         "title": {
          "text": "variable"
         },
         "tracegroupgap": 0
        },
        "margin": {
         "t": 60
        },
        "template": {
         "data": {
          "bar": [
           {
            "error_x": {
             "color": "#2a3f5f"
            },
            "error_y": {
             "color": "#2a3f5f"
            },
            "marker": {
             "line": {
              "color": "#E5ECF6",
              "width": 0.5
             },
             "pattern": {
              "fillmode": "overlay",
              "size": 10,
              "solidity": 0.2
             }
            },
            "type": "bar"
           }
          ],
          "barpolar": [
           {
            "marker": {
             "line": {
              "color": "#E5ECF6",
              "width": 0.5
             },
             "pattern": {
              "fillmode": "overlay",
              "size": 10,
              "solidity": 0.2
             }
            },
            "type": "barpolar"
           }
          ],
          "carpet": [
           {
            "aaxis": {
             "endlinecolor": "#2a3f5f",
             "gridcolor": "white",
             "linecolor": "white",
             "minorgridcolor": "white",
             "startlinecolor": "#2a3f5f"
            },
            "baxis": {
             "endlinecolor": "#2a3f5f",
             "gridcolor": "white",
             "linecolor": "white",
             "minorgridcolor": "white",
             "startlinecolor": "#2a3f5f"
            },
            "type": "carpet"
           }
          ],
          "choropleth": [
           {
            "colorbar": {
             "outlinewidth": 0,
             "ticks": ""
            },
            "type": "choropleth"
           }
          ],
          "contour": [
           {
            "colorbar": {
             "outlinewidth": 0,
             "ticks": ""
            },
            "colorscale": [
             [
              0,
              "#0d0887"
             ],
             [
              0.1111111111111111,
              "#46039f"
             ],
             [
              0.2222222222222222,
              "#7201a8"
             ],
             [
              0.3333333333333333,
              "#9c179e"
             ],
             [
              0.4444444444444444,
              "#bd3786"
             ],
             [
              0.5555555555555556,
              "#d8576b"
             ],
             [
              0.6666666666666666,
              "#ed7953"
             ],
             [
              0.7777777777777778,
              "#fb9f3a"
             ],
             [
              0.8888888888888888,
              "#fdca26"
             ],
             [
              1,
              "#f0f921"
             ]
            ],
            "type": "contour"
           }
          ],
          "contourcarpet": [
           {
            "colorbar": {
             "outlinewidth": 0,
             "ticks": ""
            },
            "type": "contourcarpet"
           }
          ],
          "heatmap": [
           {
            "colorbar": {
             "outlinewidth": 0,
             "ticks": ""
            },
            "colorscale": [
             [
              0,
              "#0d0887"
             ],
             [
              0.1111111111111111,
              "#46039f"
             ],
             [
              0.2222222222222222,
              "#7201a8"
             ],
             [
              0.3333333333333333,
              "#9c179e"
             ],
             [
              0.4444444444444444,
              "#bd3786"
             ],
             [
              0.5555555555555556,
              "#d8576b"
             ],
             [
              0.6666666666666666,
              "#ed7953"
             ],
             [
              0.7777777777777778,
              "#fb9f3a"
             ],
             [
              0.8888888888888888,
              "#fdca26"
             ],
             [
              1,
              "#f0f921"
             ]
            ],
            "type": "heatmap"
           }
          ],
          "heatmapgl": [
           {
            "colorbar": {
             "outlinewidth": 0,
             "ticks": ""
            },
            "colorscale": [
             [
              0,
              "#0d0887"
             ],
             [
              0.1111111111111111,
              "#46039f"
             ],
             [
              0.2222222222222222,
              "#7201a8"
             ],
             [
              0.3333333333333333,
              "#9c179e"
             ],
             [
              0.4444444444444444,
              "#bd3786"
             ],
             [
              0.5555555555555556,
              "#d8576b"
             ],
             [
              0.6666666666666666,
              "#ed7953"
             ],
             [
              0.7777777777777778,
              "#fb9f3a"
             ],
             [
              0.8888888888888888,
              "#fdca26"
             ],
             [
              1,
              "#f0f921"
             ]
            ],
            "type": "heatmapgl"
           }
          ],
          "histogram": [
           {
            "marker": {
             "pattern": {
              "fillmode": "overlay",
              "size": 10,
              "solidity": 0.2
             }
            },
            "type": "histogram"
           }
          ],
          "histogram2d": [
           {
            "colorbar": {
             "outlinewidth": 0,
             "ticks": ""
            },
            "colorscale": [
             [
              0,
              "#0d0887"
             ],
             [
              0.1111111111111111,
              "#46039f"
             ],
             [
              0.2222222222222222,
              "#7201a8"
             ],
             [
              0.3333333333333333,
              "#9c179e"
             ],
             [
              0.4444444444444444,
              "#bd3786"
             ],
             [
              0.5555555555555556,
              "#d8576b"
             ],
             [
              0.6666666666666666,
              "#ed7953"
             ],
             [
              0.7777777777777778,
              "#fb9f3a"
             ],
             [
              0.8888888888888888,
              "#fdca26"
             ],
             [
              1,
              "#f0f921"
             ]
            ],
            "type": "histogram2d"
           }
          ],
          "histogram2dcontour": [
           {
            "colorbar": {
             "outlinewidth": 0,
             "ticks": ""
            },
            "colorscale": [
             [
              0,
              "#0d0887"
             ],
             [
              0.1111111111111111,
              "#46039f"
             ],
             [
              0.2222222222222222,
              "#7201a8"
             ],
             [
              0.3333333333333333,
              "#9c179e"
             ],
             [
              0.4444444444444444,
              "#bd3786"
             ],
             [
              0.5555555555555556,
              "#d8576b"
             ],
             [
              0.6666666666666666,
              "#ed7953"
             ],
             [
              0.7777777777777778,
              "#fb9f3a"
             ],
             [
              0.8888888888888888,
              "#fdca26"
             ],
             [
              1,
              "#f0f921"
             ]
            ],
            "type": "histogram2dcontour"
           }
          ],
          "mesh3d": [
           {
            "colorbar": {
             "outlinewidth": 0,
             "ticks": ""
            },
            "type": "mesh3d"
           }
          ],
          "parcoords": [
           {
            "line": {
             "colorbar": {
              "outlinewidth": 0,
              "ticks": ""
             }
            },
            "type": "parcoords"
           }
          ],
          "pie": [
           {
            "automargin": true,
            "type": "pie"
           }
          ],
          "scatter": [
           {
            "fillpattern": {
             "fillmode": "overlay",
             "size": 10,
             "solidity": 0.2
            },
            "type": "scatter"
           }
          ],
          "scatter3d": [
           {
            "line": {
             "colorbar": {
              "outlinewidth": 0,
              "ticks": ""
             }
            },
            "marker": {
             "colorbar": {
              "outlinewidth": 0,
              "ticks": ""
             }
            },
            "type": "scatter3d"
           }
          ],
          "scattercarpet": [
           {
            "marker": {
             "colorbar": {
              "outlinewidth": 0,
              "ticks": ""
             }
            },
            "type": "scattercarpet"
           }
          ],
          "scattergeo": [
           {
            "marker": {
             "colorbar": {
              "outlinewidth": 0,
              "ticks": ""
             }
            },
            "type": "scattergeo"
           }
          ],
          "scattergl": [
           {
            "marker": {
             "colorbar": {
              "outlinewidth": 0,
              "ticks": ""
             }
            },
            "type": "scattergl"
           }
          ],
          "scattermapbox": [
           {
            "marker": {
             "colorbar": {
              "outlinewidth": 0,
              "ticks": ""
             }
            },
            "type": "scattermapbox"
           }
          ],
          "scatterpolar": [
           {
            "marker": {
             "colorbar": {
              "outlinewidth": 0,
              "ticks": ""
             }
            },
            "type": "scatterpolar"
           }
          ],
          "scatterpolargl": [
           {
            "marker": {
             "colorbar": {
              "outlinewidth": 0,
              "ticks": ""
             }
            },
            "type": "scatterpolargl"
           }
          ],
          "scatterternary": [
           {
            "marker": {
             "colorbar": {
              "outlinewidth": 0,
              "ticks": ""
             }
            },
            "type": "scatterternary"
           }
          ],
          "surface": [
           {
            "colorbar": {
             "outlinewidth": 0,
             "ticks": ""
            },
            "colorscale": [
             [
              0,
              "#0d0887"
             ],
             [
              0.1111111111111111,
              "#46039f"
             ],
             [
              0.2222222222222222,
              "#7201a8"
             ],
             [
              0.3333333333333333,
              "#9c179e"
             ],
             [
              0.4444444444444444,
              "#bd3786"
             ],
             [
              0.5555555555555556,
              "#d8576b"
             ],
             [
              0.6666666666666666,
              "#ed7953"
             ],
             [
              0.7777777777777778,
              "#fb9f3a"
             ],
             [
              0.8888888888888888,
              "#fdca26"
             ],
             [
              1,
              "#f0f921"
             ]
            ],
            "type": "surface"
           }
          ],
          "table": [
           {
            "cells": {
             "fill": {
              "color": "#EBF0F8"
             },
             "line": {
              "color": "white"
             }
            },
            "header": {
             "fill": {
              "color": "#C8D4E3"
             },
             "line": {
              "color": "white"
             }
            },
            "type": "table"
           }
          ]
         },
         "layout": {
          "annotationdefaults": {
           "arrowcolor": "#2a3f5f",
           "arrowhead": 0,
           "arrowwidth": 1
          },
          "autotypenumbers": "strict",
          "coloraxis": {
           "colorbar": {
            "outlinewidth": 0,
            "ticks": ""
           }
          },
          "colorscale": {
           "diverging": [
            [
             0,
             "#8e0152"
            ],
            [
             0.1,
             "#c51b7d"
            ],
            [
             0.2,
             "#de77ae"
            ],
            [
             0.3,
             "#f1b6da"
            ],
            [
             0.4,
             "#fde0ef"
            ],
            [
             0.5,
             "#f7f7f7"
            ],
            [
             0.6,
             "#e6f5d0"
            ],
            [
             0.7,
             "#b8e186"
            ],
            [
             0.8,
             "#7fbc41"
            ],
            [
             0.9,
             "#4d9221"
            ],
            [
             1,
             "#276419"
            ]
           ],
           "sequential": [
            [
             0,
             "#0d0887"
            ],
            [
             0.1111111111111111,
             "#46039f"
            ],
            [
             0.2222222222222222,
             "#7201a8"
            ],
            [
             0.3333333333333333,
             "#9c179e"
            ],
            [
             0.4444444444444444,
             "#bd3786"
            ],
            [
             0.5555555555555556,
             "#d8576b"
            ],
            [
             0.6666666666666666,
             "#ed7953"
            ],
            [
             0.7777777777777778,
             "#fb9f3a"
            ],
            [
             0.8888888888888888,
             "#fdca26"
            ],
            [
             1,
             "#f0f921"
            ]
           ],
           "sequentialminus": [
            [
             0,
             "#0d0887"
            ],
            [
             0.1111111111111111,
             "#46039f"
            ],
            [
             0.2222222222222222,
             "#7201a8"
            ],
            [
             0.3333333333333333,
             "#9c179e"
            ],
            [
             0.4444444444444444,
             "#bd3786"
            ],
            [
             0.5555555555555556,
             "#d8576b"
            ],
            [
             0.6666666666666666,
             "#ed7953"
            ],
            [
             0.7777777777777778,
             "#fb9f3a"
            ],
            [
             0.8888888888888888,
             "#fdca26"
            ],
            [
             1,
             "#f0f921"
            ]
           ]
          },
          "colorway": [
           "#636efa",
           "#EF553B",
           "#00cc96",
           "#ab63fa",
           "#FFA15A",
           "#19d3f3",
           "#FF6692",
           "#B6E880",
           "#FF97FF",
           "#FECB52"
          ],
          "font": {
           "color": "#2a3f5f"
          },
          "geo": {
           "bgcolor": "white",
           "lakecolor": "white",
           "landcolor": "#E5ECF6",
           "showlakes": true,
           "showland": true,
           "subunitcolor": "white"
          },
          "hoverlabel": {
           "align": "left"
          },
          "hovermode": "closest",
          "mapbox": {
           "style": "light"
          },
          "paper_bgcolor": "white",
          "plot_bgcolor": "#E5ECF6",
          "polar": {
           "angularaxis": {
            "gridcolor": "white",
            "linecolor": "white",
            "ticks": ""
           },
           "bgcolor": "#E5ECF6",
           "radialaxis": {
            "gridcolor": "white",
            "linecolor": "white",
            "ticks": ""
           }
          },
          "scene": {
           "xaxis": {
            "backgroundcolor": "#E5ECF6",
            "gridcolor": "white",
            "gridwidth": 2,
            "linecolor": "white",
            "showbackground": true,
            "ticks": "",
            "zerolinecolor": "white"
           },
           "yaxis": {
            "backgroundcolor": "#E5ECF6",
            "gridcolor": "white",
            "gridwidth": 2,
            "linecolor": "white",
            "showbackground": true,
            "ticks": "",
            "zerolinecolor": "white"
           },
           "zaxis": {
            "backgroundcolor": "#E5ECF6",
            "gridcolor": "white",
            "gridwidth": 2,
            "linecolor": "white",
            "showbackground": true,
            "ticks": "",
            "zerolinecolor": "white"
           }
          },
          "shapedefaults": {
           "line": {
            "color": "#2a3f5f"
           }
          },
          "ternary": {
           "aaxis": {
            "gridcolor": "white",
            "linecolor": "white",
            "ticks": ""
           },
           "baxis": {
            "gridcolor": "white",
            "linecolor": "white",
            "ticks": ""
           },
           "bgcolor": "#E5ECF6",
           "caxis": {
            "gridcolor": "white",
            "linecolor": "white",
            "ticks": ""
           }
          },
          "title": {
           "x": 0.05
          },
          "xaxis": {
           "automargin": true,
           "gridcolor": "white",
           "linecolor": "white",
           "ticks": "",
           "title": {
            "standoff": 15
           },
           "zerolinecolor": "white",
           "zerolinewidth": 2
          },
          "yaxis": {
           "automargin": true,
           "gridcolor": "white",
           "linecolor": "white",
           "ticks": "",
           "title": {
            "standoff": 15
           },
           "zerolinecolor": "white",
           "zerolinewidth": 2
          }
         }
        },
        "width": 800,
        "xaxis": {
         "anchor": "y",
         "domain": [
          0,
          1
         ],
         "title": {
          "text": "Games played"
         }
        },
        "yaxis": {
         "anchor": "x",
         "domain": [
          0,
          1
         ],
         "title": {
          "text": "Loss"
         }
        }
       }
      }
     },
     "metadata": {},
     "output_type": "display_data"
    },
    {
     "data": {
      "application/vnd.plotly.v1+json": {
       "config": {
        "plotlyServerURL": "https://plot.ly"
       },
       "data": [
        {
         "hovertemplate": "variable=n* = 1<br>Games played=%{x}<br>value=%{y}<extra></extra>",
         "legendgroup": "n* = 1",
         "line": {
          "color": "#636efa",
          "dash": "solid"
         },
         "marker": {
          "symbol": "circle"
         },
         "mode": "lines",
         "name": "n* = 1",
         "orientation": "v",
         "showlegend": true,
         "type": "scatter",
         "x": [
          0,
          250,
          500,
          750,
          1000,
          1250,
          1500,
          1750,
          2000,
          2250,
          2500,
          2750,
          3000,
          3250,
          3500,
          3750,
          4000,
          4250,
          4500,
          4750,
          5000,
          5250,
          5500,
          5750,
          6000,
          6250,
          6500,
          6750,
          7000,
          7250,
          7500,
          7750,
          8000,
          8250,
          8500,
          8750,
          9000,
          9250,
          9500,
          9750,
          10000,
          10250,
          10500,
          10750,
          11000,
          11250,
          11500,
          11750,
          12000,
          12250,
          12500,
          12750,
          13000,
          13250,
          13500,
          13750,
          14000,
          14250,
          14500,
          14750,
          15000,
          15250,
          15500,
          15750,
          16000,
          16250,
          16500,
          16750,
          17000,
          17250,
          17500,
          17750,
          18000,
          18250,
          18500,
          18750,
          19000,
          19250,
          19500,
          19750
         ],
         "xaxis": "x",
         "y": [
          -1,
          -0.96,
          -0.984,
          -0.924,
          -0.996,
          -0.888,
          -0.928,
          -0.932,
          -0.912,
          -0.912,
          -0.844,
          -0.876,
          -0.916,
          -0.84,
          -0.86,
          -0.808,
          -0.856,
          -0.804,
          -0.776,
          -0.728,
          -0.84,
          -0.8,
          -0.76,
          -0.8,
          -0.768,
          -0.728,
          -0.792,
          -0.748,
          -0.72,
          -0.716,
          -0.8,
          -0.764,
          -0.776,
          -0.748,
          -0.76,
          -0.768,
          -0.752,
          -0.748,
          -0.732,
          -0.772,
          -0.728,
          -0.696,
          -0.728,
          -0.72,
          -0.772,
          -0.692,
          -0.7,
          -0.756,
          -0.696,
          -0.756,
          -0.64,
          -0.684,
          -0.656,
          -0.652,
          -0.644,
          -0.712,
          -0.676,
          -0.68,
          -0.716,
          -0.564,
          -0.592,
          -0.656,
          -0.512,
          -0.608,
          -0.58,
          -0.56,
          -0.66,
          -0.656,
          -0.684,
          -0.656,
          -0.632,
          -0.632,
          -0.704,
          -0.64,
          -0.672,
          -0.68,
          -0.6,
          -0.688,
          -0.584,
          -0.636
         ],
         "yaxis": "y"
        },
        {
         "hovertemplate": "variable=n* = 16001<br>Games played=%{x}<br>value=%{y}<extra></extra>",
         "legendgroup": "n* = 16001",
         "line": {
          "color": "#EF553B",
          "dash": "solid"
         },
         "marker": {
          "symbol": "circle"
         },
         "mode": "lines",
         "name": "n* = 16001",
         "orientation": "v",
         "showlegend": true,
         "type": "scatter",
         "x": [
          0,
          250,
          500,
          750,
          1000,
          1250,
          1500,
          1750,
          2000,
          2250,
          2500,
          2750,
          3000,
          3250,
          3500,
          3750,
          4000,
          4250,
          4500,
          4750,
          5000,
          5250,
          5500,
          5750,
          6000,
          6250,
          6500,
          6750,
          7000,
          7250,
          7500,
          7750,
          8000,
          8250,
          8500,
          8750,
          9000,
          9250,
          9500,
          9750,
          10000,
          10250,
          10500,
          10750,
          11000,
          11250,
          11500,
          11750,
          12000,
          12250,
          12500,
          12750,
          13000,
          13250,
          13500,
          13750,
          14000,
          14250,
          14500,
          14750,
          15000,
          15250,
          15500,
          15750,
          16000,
          16250,
          16500,
          16750,
          17000,
          17250,
          17500,
          17750,
          18000,
          18250,
          18500,
          18750,
          19000,
          19250,
          19500,
          19750
         ],
         "xaxis": "x",
         "y": [
          -1,
          -1,
          -0.992,
          -0.932,
          -0.924,
          -0.972,
          -0.924,
          -0.952,
          -0.968,
          -0.88,
          -0.908,
          -0.92,
          -0.84,
          -0.888,
          -0.868,
          -0.864,
          -0.848,
          -0.84,
          -0.808,
          -0.912,
          -0.768,
          -0.796,
          -0.828,
          -0.74,
          -0.772,
          -0.756,
          -0.764,
          -0.756,
          -0.864,
          -0.788,
          -0.704,
          -0.748,
          -0.776,
          -0.764,
          -0.708,
          -0.8,
          -0.628,
          -0.616,
          -0.684,
          -0.66,
          -0.66,
          -0.62,
          -0.7,
          -0.696,
          -0.708,
          -0.7,
          -0.668,
          -0.7,
          -0.716,
          -0.64,
          -0.7,
          -0.676,
          -0.748,
          -0.608,
          -0.676,
          -0.588,
          -0.592,
          -0.652,
          -0.636,
          -0.48,
          -0.476,
          -0.516,
          -0.648,
          -0.592,
          -0.56,
          -0.6,
          -0.612,
          -0.472,
          -0.496,
          -0.592,
          -0.62,
          -0.56,
          -0.508,
          -0.432,
          -0.528,
          -0.5,
          -0.496,
          -0.484,
          -0.532,
          -0.548
         ],
         "yaxis": "y"
        },
        {
         "hovertemplate": "variable=n* = 24000<br>Games played=%{x}<br>value=%{y}<extra></extra>",
         "legendgroup": "n* = 24000",
         "line": {
          "color": "#00cc96",
          "dash": "solid"
         },
         "marker": {
          "symbol": "circle"
         },
         "mode": "lines",
         "name": "n* = 24000",
         "orientation": "v",
         "showlegend": true,
         "type": "scatter",
         "x": [
          0,
          250,
          500,
          750,
          1000,
          1250,
          1500,
          1750,
          2000,
          2250,
          2500,
          2750,
          3000,
          3250,
          3500,
          3750,
          4000,
          4250,
          4500,
          4750,
          5000,
          5250,
          5500,
          5750,
          6000,
          6250,
          6500,
          6750,
          7000,
          7250,
          7500,
          7750,
          8000,
          8250,
          8500,
          8750,
          9000,
          9250,
          9500,
          9750,
          10000,
          10250,
          10500,
          10750,
          11000,
          11250,
          11500,
          11750,
          12000,
          12250,
          12500,
          12750,
          13000,
          13250,
          13500,
          13750,
          14000,
          14250,
          14500,
          14750,
          15000,
          15250,
          15500,
          15750,
          16000,
          16250,
          16500,
          16750,
          17000,
          17250,
          17500,
          17750,
          18000,
          18250,
          18500,
          18750,
          19000,
          19250,
          19500,
          19750
         ],
         "xaxis": "x",
         "y": [
          -1,
          -1,
          -0.988,
          -0.952,
          -0.952,
          -0.944,
          -0.932,
          -0.928,
          -0.944,
          -0.896,
          -0.9,
          -0.856,
          -0.872,
          -0.908,
          -0.908,
          -0.828,
          -0.78,
          -0.86,
          -0.888,
          -0.824,
          -0.824,
          -0.792,
          -0.888,
          -0.82,
          -0.784,
          -0.788,
          -0.792,
          -0.832,
          -0.676,
          -0.796,
          -0.8,
          -0.756,
          -0.772,
          -0.776,
          -0.712,
          -0.732,
          -0.804,
          -0.732,
          -0.624,
          -0.608,
          -0.664,
          -0.72,
          -0.676,
          -0.708,
          -0.68,
          -0.708,
          -0.752,
          -0.624,
          -0.716,
          -0.592,
          -0.728,
          -0.628,
          -0.676,
          -0.676,
          -0.504,
          -0.66,
          -0.672,
          -0.72,
          -0.632,
          -0.636,
          -0.568,
          -0.628,
          -0.632,
          -0.66,
          -0.68,
          -0.7,
          -0.636,
          -0.624,
          -0.54,
          -0.668,
          -0.604,
          -0.66,
          -0.448,
          -0.592,
          -0.536,
          -0.516,
          -0.568,
          -0.508,
          -0.56,
          -0.5
         ],
         "yaxis": "y"
        },
        {
         "hovertemplate": "variable=n* = 32000<br>Games played=%{x}<br>value=%{y}<extra></extra>",
         "legendgroup": "n* = 32000",
         "line": {
          "color": "#ab63fa",
          "dash": "solid"
         },
         "marker": {
          "symbol": "circle"
         },
         "mode": "lines",
         "name": "n* = 32000",
         "orientation": "v",
         "showlegend": true,
         "type": "scatter",
         "x": [
          0,
          250,
          500,
          750,
          1000,
          1250,
          1500,
          1750,
          2000,
          2250,
          2500,
          2750,
          3000,
          3250,
          3500,
          3750,
          4000,
          4250,
          4500,
          4750,
          5000,
          5250,
          5500,
          5750,
          6000,
          6250,
          6500,
          6750,
          7000,
          7250,
          7500,
          7750,
          8000,
          8250,
          8500,
          8750,
          9000,
          9250,
          9500,
          9750,
          10000,
          10250,
          10500,
          10750,
          11000,
          11250,
          11500,
          11750,
          12000,
          12250,
          12500,
          12750,
          13000,
          13250,
          13500,
          13750,
          14000,
          14250,
          14500,
          14750,
          15000,
          15250,
          15500,
          15750,
          16000,
          16250,
          16500,
          16750,
          17000,
          17250,
          17500,
          17750,
          18000,
          18250,
          18500,
          18750,
          19000,
          19250,
          19500,
          19750
         ],
         "xaxis": "x",
         "y": [
          -1,
          -0.98,
          -0.98,
          -0.964,
          -0.952,
          -0.932,
          -0.936,
          -0.968,
          -0.936,
          -0.924,
          -0.908,
          -0.892,
          -0.892,
          -0.904,
          -0.888,
          -0.812,
          -0.864,
          -0.84,
          -0.692,
          -0.852,
          -0.8,
          -0.824,
          -0.852,
          -0.8,
          -0.812,
          -0.78,
          -0.796,
          -0.78,
          -0.76,
          -0.8,
          -0.736,
          -0.796,
          -0.82,
          -0.744,
          -0.796,
          -0.752,
          -0.764,
          -0.8,
          -0.788,
          -0.752,
          -0.712,
          -0.756,
          -0.812,
          -0.748,
          -0.784,
          -0.752,
          -0.888,
          -0.736,
          -0.688,
          -0.768,
          -0.788,
          -0.732,
          -0.732,
          -0.704,
          -0.748,
          -0.66,
          -0.688,
          -0.596,
          -0.676,
          -0.636,
          -0.728,
          -0.616,
          -0.672,
          -0.536,
          -0.544,
          -0.724,
          -0.72,
          -0.616,
          -0.656,
          -0.632,
          -0.616,
          -0.644,
          -0.552,
          -0.604,
          -0.672,
          -0.624,
          -0.652,
          -0.604,
          -0.604,
          -0.62
         ],
         "yaxis": "y"
        },
        {
         "hovertemplate": "variable=n* = 40000<br>Games played=%{x}<br>value=%{y}<extra></extra>",
         "legendgroup": "n* = 40000",
         "line": {
          "color": "#FFA15A",
          "dash": "solid"
         },
         "marker": {
          "symbol": "circle"
         },
         "mode": "lines",
         "name": "n* = 40000",
         "orientation": "v",
         "showlegend": true,
         "type": "scatter",
         "x": [
          0,
          250,
          500,
          750,
          1000,
          1250,
          1500,
          1750,
          2000,
          2250,
          2500,
          2750,
          3000,
          3250,
          3500,
          3750,
          4000,
          4250,
          4500,
          4750,
          5000,
          5250,
          5500,
          5750,
          6000,
          6250,
          6500,
          6750,
          7000,
          7250,
          7500,
          7750,
          8000,
          8250,
          8500,
          8750,
          9000,
          9250,
          9500,
          9750,
          10000,
          10250,
          10500,
          10750,
          11000,
          11250,
          11500,
          11750,
          12000,
          12250,
          12500,
          12750,
          13000,
          13250,
          13500,
          13750,
          14000,
          14250,
          14500,
          14750,
          15000,
          15250,
          15500,
          15750,
          16000,
          16250,
          16500,
          16750,
          17000,
          17250,
          17500,
          17750,
          18000,
          18250,
          18500,
          18750,
          19000,
          19250,
          19500,
          19750
         ],
         "xaxis": "x",
         "y": [
          -1,
          -1,
          -1,
          -1,
          -0.948,
          -0.944,
          -0.928,
          -0.908,
          -0.936,
          -0.92,
          -0.952,
          -0.912,
          -0.9,
          -0.888,
          -0.876,
          -0.888,
          -0.88,
          -0.876,
          -0.876,
          -0.868,
          -0.824,
          -0.864,
          -0.78,
          -0.78,
          -0.732,
          -0.78,
          -0.84,
          -0.864,
          -0.8,
          -0.764,
          -0.792,
          -0.764,
          -0.824,
          -0.764,
          -0.816,
          -0.816,
          -0.808,
          -0.772,
          -0.728,
          -0.74,
          -0.724,
          -0.78,
          -0.72,
          -0.74,
          -0.712,
          -0.736,
          -0.764,
          -0.672,
          -0.72,
          -0.672,
          -0.728,
          -0.648,
          -0.696,
          -0.704,
          -0.72,
          -0.708,
          -0.648,
          -0.7,
          -0.704,
          -0.756,
          -0.844,
          -0.72,
          -0.772,
          -0.808,
          -0.764,
          -0.772,
          -0.68,
          -0.688,
          -0.744,
          -0.74,
          -0.72,
          -0.628,
          -0.652,
          -0.68,
          -0.68,
          -0.648,
          -0.684,
          -0.624,
          -0.616,
          -0.696
         ],
         "yaxis": "y"
        },
        {
         "hovertemplate": "variable=n* = 8001<br>Games played=%{x}<br>value=%{y}<extra></extra>",
         "legendgroup": "n* = 8001",
         "line": {
          "color": "#19d3f3",
          "dash": "solid"
         },
         "marker": {
          "symbol": "circle"
         },
         "mode": "lines",
         "name": "n* = 8001",
         "orientation": "v",
         "showlegend": true,
         "type": "scatter",
         "x": [
          0,
          250,
          500,
          750,
          1000,
          1250,
          1500,
          1750,
          2000,
          2250,
          2500,
          2750,
          3000,
          3250,
          3500,
          3750,
          4000,
          4250,
          4500,
          4750,
          5000,
          5250,
          5500,
          5750,
          6000,
          6250,
          6500,
          6750,
          7000,
          7250,
          7500,
          7750,
          8000,
          8250,
          8500,
          8750,
          9000,
          9250,
          9500,
          9750,
          10000,
          10250,
          10500,
          10750,
          11000,
          11250,
          11500,
          11750,
          12000,
          12250,
          12500,
          12750,
          13000,
          13250,
          13500,
          13750,
          14000,
          14250,
          14500,
          14750,
          15000,
          15250,
          15500,
          15750,
          16000,
          16250,
          16500,
          16750,
          17000,
          17250,
          17500,
          17750,
          18000,
          18250,
          18500,
          18750,
          19000,
          19250,
          19500,
          19750
         ],
         "xaxis": "x",
         "y": [
          -1,
          -0.988,
          -0.98,
          -0.948,
          -0.916,
          -0.964,
          -0.952,
          -0.98,
          -0.936,
          -0.936,
          -0.924,
          -0.952,
          -0.912,
          -0.896,
          -0.88,
          -0.86,
          -0.848,
          -0.756,
          -0.86,
          -0.772,
          -0.796,
          -0.852,
          -0.804,
          -0.772,
          -0.812,
          -0.724,
          -0.756,
          -0.8,
          -0.728,
          -0.776,
          -0.744,
          -0.736,
          -0.716,
          -0.66,
          -0.708,
          -0.652,
          -0.616,
          -0.756,
          -0.68,
          -0.592,
          -0.644,
          -0.68,
          -0.564,
          -0.6,
          -0.664,
          -0.736,
          -0.656,
          -0.656,
          -0.6,
          -0.692,
          -0.564,
          -0.628,
          -0.664,
          -0.588,
          -0.576,
          -0.648,
          -0.532,
          -0.528,
          -0.632,
          -0.584,
          -0.588,
          -0.596,
          -0.52,
          -0.52,
          -0.66,
          -0.52,
          -0.556,
          -0.608,
          -0.476,
          -0.552,
          -0.484,
          -0.472,
          -0.532,
          -0.524,
          -0.656,
          -0.492,
          -0.42,
          -0.464,
          -0.42,
          -0.372
         ],
         "yaxis": "y"
        }
       ],
       "layout": {
        "legend": {
         "title": {
          "text": "variable"
         },
         "tracegroupgap": 0
        },
        "margin": {
         "t": 60
        },
        "template": {
         "data": {
          "bar": [
           {
            "error_x": {
             "color": "#2a3f5f"
            },
            "error_y": {
             "color": "#2a3f5f"
            },
            "marker": {
             "line": {
              "color": "#E5ECF6",
              "width": 0.5
             },
             "pattern": {
              "fillmode": "overlay",
              "size": 10,
              "solidity": 0.2
             }
            },
            "type": "bar"
           }
          ],
          "barpolar": [
           {
            "marker": {
             "line": {
              "color": "#E5ECF6",
              "width": 0.5
             },
             "pattern": {
              "fillmode": "overlay",
              "size": 10,
              "solidity": 0.2
             }
            },
            "type": "barpolar"
           }
          ],
          "carpet": [
           {
            "aaxis": {
             "endlinecolor": "#2a3f5f",
             "gridcolor": "white",
             "linecolor": "white",
             "minorgridcolor": "white",
             "startlinecolor": "#2a3f5f"
            },
            "baxis": {
             "endlinecolor": "#2a3f5f",
             "gridcolor": "white",
             "linecolor": "white",
             "minorgridcolor": "white",
             "startlinecolor": "#2a3f5f"
            },
            "type": "carpet"
           }
          ],
          "choropleth": [
           {
            "colorbar": {
             "outlinewidth": 0,
             "ticks": ""
            },
            "type": "choropleth"
           }
          ],
          "contour": [
           {
            "colorbar": {
             "outlinewidth": 0,
             "ticks": ""
            },
            "colorscale": [
             [
              0,
              "#0d0887"
             ],
             [
              0.1111111111111111,
              "#46039f"
             ],
             [
              0.2222222222222222,
              "#7201a8"
             ],
             [
              0.3333333333333333,
              "#9c179e"
             ],
             [
              0.4444444444444444,
              "#bd3786"
             ],
             [
              0.5555555555555556,
              "#d8576b"
             ],
             [
              0.6666666666666666,
              "#ed7953"
             ],
             [
              0.7777777777777778,
              "#fb9f3a"
             ],
             [
              0.8888888888888888,
              "#fdca26"
             ],
             [
              1,
              "#f0f921"
             ]
            ],
            "type": "contour"
           }
          ],
          "contourcarpet": [
           {
            "colorbar": {
             "outlinewidth": 0,
             "ticks": ""
            },
            "type": "contourcarpet"
           }
          ],
          "heatmap": [
           {
            "colorbar": {
             "outlinewidth": 0,
             "ticks": ""
            },
            "colorscale": [
             [
              0,
              "#0d0887"
             ],
             [
              0.1111111111111111,
              "#46039f"
             ],
             [
              0.2222222222222222,
              "#7201a8"
             ],
             [
              0.3333333333333333,
              "#9c179e"
             ],
             [
              0.4444444444444444,
              "#bd3786"
             ],
             [
              0.5555555555555556,
              "#d8576b"
             ],
             [
              0.6666666666666666,
              "#ed7953"
             ],
             [
              0.7777777777777778,
              "#fb9f3a"
             ],
             [
              0.8888888888888888,
              "#fdca26"
             ],
             [
              1,
              "#f0f921"
             ]
            ],
            "type": "heatmap"
           }
          ],
          "heatmapgl": [
           {
            "colorbar": {
             "outlinewidth": 0,
             "ticks": ""
            },
            "colorscale": [
             [
              0,
              "#0d0887"
             ],
             [
              0.1111111111111111,
              "#46039f"
             ],
             [
              0.2222222222222222,
              "#7201a8"
             ],
             [
              0.3333333333333333,
              "#9c179e"
             ],
             [
              0.4444444444444444,
              "#bd3786"
             ],
             [
              0.5555555555555556,
              "#d8576b"
             ],
             [
              0.6666666666666666,
              "#ed7953"
             ],
             [
              0.7777777777777778,
              "#fb9f3a"
             ],
             [
              0.8888888888888888,
              "#fdca26"
             ],
             [
              1,
              "#f0f921"
             ]
            ],
            "type": "heatmapgl"
           }
          ],
          "histogram": [
           {
            "marker": {
             "pattern": {
              "fillmode": "overlay",
              "size": 10,
              "solidity": 0.2
             }
            },
            "type": "histogram"
           }
          ],
          "histogram2d": [
           {
            "colorbar": {
             "outlinewidth": 0,
             "ticks": ""
            },
            "colorscale": [
             [
              0,
              "#0d0887"
             ],
             [
              0.1111111111111111,
              "#46039f"
             ],
             [
              0.2222222222222222,
              "#7201a8"
             ],
             [
              0.3333333333333333,
              "#9c179e"
             ],
             [
              0.4444444444444444,
              "#bd3786"
             ],
             [
              0.5555555555555556,
              "#d8576b"
             ],
             [
              0.6666666666666666,
              "#ed7953"
             ],
             [
              0.7777777777777778,
              "#fb9f3a"
             ],
             [
              0.8888888888888888,
              "#fdca26"
             ],
             [
              1,
              "#f0f921"
             ]
            ],
            "type": "histogram2d"
           }
          ],
          "histogram2dcontour": [
           {
            "colorbar": {
             "outlinewidth": 0,
             "ticks": ""
            },
            "colorscale": [
             [
              0,
              "#0d0887"
             ],
             [
              0.1111111111111111,
              "#46039f"
             ],
             [
              0.2222222222222222,
              "#7201a8"
             ],
             [
              0.3333333333333333,
              "#9c179e"
             ],
             [
              0.4444444444444444,
              "#bd3786"
             ],
             [
              0.5555555555555556,
              "#d8576b"
             ],
             [
              0.6666666666666666,
              "#ed7953"
             ],
             [
              0.7777777777777778,
              "#fb9f3a"
             ],
             [
              0.8888888888888888,
              "#fdca26"
             ],
             [
              1,
              "#f0f921"
             ]
            ],
            "type": "histogram2dcontour"
           }
          ],
          "mesh3d": [
           {
            "colorbar": {
             "outlinewidth": 0,
             "ticks": ""
            },
            "type": "mesh3d"
           }
          ],
          "parcoords": [
           {
            "line": {
             "colorbar": {
              "outlinewidth": 0,
              "ticks": ""
             }
            },
            "type": "parcoords"
           }
          ],
          "pie": [
           {
            "automargin": true,
            "type": "pie"
           }
          ],
          "scatter": [
           {
            "fillpattern": {
             "fillmode": "overlay",
             "size": 10,
             "solidity": 0.2
            },
            "type": "scatter"
           }
          ],
          "scatter3d": [
           {
            "line": {
             "colorbar": {
              "outlinewidth": 0,
              "ticks": ""
             }
            },
            "marker": {
             "colorbar": {
              "outlinewidth": 0,
              "ticks": ""
             }
            },
            "type": "scatter3d"
           }
          ],
          "scattercarpet": [
           {
            "marker": {
             "colorbar": {
              "outlinewidth": 0,
              "ticks": ""
             }
            },
            "type": "scattercarpet"
           }
          ],
          "scattergeo": [
           {
            "marker": {
             "colorbar": {
              "outlinewidth": 0,
              "ticks": ""
             }
            },
            "type": "scattergeo"
           }
          ],
          "scattergl": [
           {
            "marker": {
             "colorbar": {
              "outlinewidth": 0,
              "ticks": ""
             }
            },
            "type": "scattergl"
           }
          ],
          "scattermapbox": [
           {
            "marker": {
             "colorbar": {
              "outlinewidth": 0,
              "ticks": ""
             }
            },
            "type": "scattermapbox"
           }
          ],
          "scatterpolar": [
           {
            "marker": {
             "colorbar": {
              "outlinewidth": 0,
              "ticks": ""
             }
            },
            "type": "scatterpolar"
           }
          ],
          "scatterpolargl": [
           {
            "marker": {
             "colorbar": {
              "outlinewidth": 0,
              "ticks": ""
             }
            },
            "type": "scatterpolargl"
           }
          ],
          "scatterternary": [
           {
            "marker": {
             "colorbar": {
              "outlinewidth": 0,
              "ticks": ""
             }
            },
            "type": "scatterternary"
           }
          ],
          "surface": [
           {
            "colorbar": {
             "outlinewidth": 0,
             "ticks": ""
            },
            "colorscale": [
             [
              0,
              "#0d0887"
             ],
             [
              0.1111111111111111,
              "#46039f"
             ],
             [
              0.2222222222222222,
              "#7201a8"
             ],
             [
              0.3333333333333333,
              "#9c179e"
             ],
             [
              0.4444444444444444,
              "#bd3786"
             ],
             [
              0.5555555555555556,
              "#d8576b"
             ],
             [
              0.6666666666666666,
              "#ed7953"
             ],
             [
              0.7777777777777778,
              "#fb9f3a"
             ],
             [
              0.8888888888888888,
              "#fdca26"
             ],
             [
              1,
              "#f0f921"
             ]
            ],
            "type": "surface"
           }
          ],
          "table": [
           {
            "cells": {
             "fill": {
              "color": "#EBF0F8"
             },
             "line": {
              "color": "white"
             }
            },
            "header": {
             "fill": {
              "color": "#C8D4E3"
             },
             "line": {
              "color": "white"
             }
            },
            "type": "table"
           }
          ]
         },
         "layout": {
          "annotationdefaults": {
           "arrowcolor": "#2a3f5f",
           "arrowhead": 0,
           "arrowwidth": 1
          },
          "autotypenumbers": "strict",
          "coloraxis": {
           "colorbar": {
            "outlinewidth": 0,
            "ticks": ""
           }
          },
          "colorscale": {
           "diverging": [
            [
             0,
             "#8e0152"
            ],
            [
             0.1,
             "#c51b7d"
            ],
            [
             0.2,
             "#de77ae"
            ],
            [
             0.3,
             "#f1b6da"
            ],
            [
             0.4,
             "#fde0ef"
            ],
            [
             0.5,
             "#f7f7f7"
            ],
            [
             0.6,
             "#e6f5d0"
            ],
            [
             0.7,
             "#b8e186"
            ],
            [
             0.8,
             "#7fbc41"
            ],
            [
             0.9,
             "#4d9221"
            ],
            [
             1,
             "#276419"
            ]
           ],
           "sequential": [
            [
             0,
             "#0d0887"
            ],
            [
             0.1111111111111111,
             "#46039f"
            ],
            [
             0.2222222222222222,
             "#7201a8"
            ],
            [
             0.3333333333333333,
             "#9c179e"
            ],
            [
             0.4444444444444444,
             "#bd3786"
            ],
            [
             0.5555555555555556,
             "#d8576b"
            ],
            [
             0.6666666666666666,
             "#ed7953"
            ],
            [
             0.7777777777777778,
             "#fb9f3a"
            ],
            [
             0.8888888888888888,
             "#fdca26"
            ],
            [
             1,
             "#f0f921"
            ]
           ],
           "sequentialminus": [
            [
             0,
             "#0d0887"
            ],
            [
             0.1111111111111111,
             "#46039f"
            ],
            [
             0.2222222222222222,
             "#7201a8"
            ],
            [
             0.3333333333333333,
             "#9c179e"
            ],
            [
             0.4444444444444444,
             "#bd3786"
            ],
            [
             0.5555555555555556,
             "#d8576b"
            ],
            [
             0.6666666666666666,
             "#ed7953"
            ],
            [
             0.7777777777777778,
             "#fb9f3a"
            ],
            [
             0.8888888888888888,
             "#fdca26"
            ],
            [
             1,
             "#f0f921"
            ]
           ]
          },
          "colorway": [
           "#636efa",
           "#EF553B",
           "#00cc96",
           "#ab63fa",
           "#FFA15A",
           "#19d3f3",
           "#FF6692",
           "#B6E880",
           "#FF97FF",
           "#FECB52"
          ],
          "font": {
           "color": "#2a3f5f"
          },
          "geo": {
           "bgcolor": "white",
           "lakecolor": "white",
           "landcolor": "#E5ECF6",
           "showlakes": true,
           "showland": true,
           "subunitcolor": "white"
          },
          "hoverlabel": {
           "align": "left"
          },
          "hovermode": "closest",
          "mapbox": {
           "style": "light"
          },
          "paper_bgcolor": "white",
          "plot_bgcolor": "#E5ECF6",
          "polar": {
           "angularaxis": {
            "gridcolor": "white",
            "linecolor": "white",
            "ticks": ""
           },
           "bgcolor": "#E5ECF6",
           "radialaxis": {
            "gridcolor": "white",
            "linecolor": "white",
            "ticks": ""
           }
          },
          "scene": {
           "xaxis": {
            "backgroundcolor": "#E5ECF6",
            "gridcolor": "white",
            "gridwidth": 2,
            "linecolor": "white",
            "showbackground": true,
            "ticks": "",
            "zerolinecolor": "white"
           },
           "yaxis": {
            "backgroundcolor": "#E5ECF6",
            "gridcolor": "white",
            "gridwidth": 2,
            "linecolor": "white",
            "showbackground": true,
            "ticks": "",
            "zerolinecolor": "white"
           },
           "zaxis": {
            "backgroundcolor": "#E5ECF6",
            "gridcolor": "white",
            "gridwidth": 2,
            "linecolor": "white",
            "showbackground": true,
            "ticks": "",
            "zerolinecolor": "white"
           }
          },
          "shapedefaults": {
           "line": {
            "color": "#2a3f5f"
           }
          },
          "ternary": {
           "aaxis": {
            "gridcolor": "white",
            "linecolor": "white",
            "ticks": ""
           },
           "baxis": {
            "gridcolor": "white",
            "linecolor": "white",
            "ticks": ""
           },
           "bgcolor": "#E5ECF6",
           "caxis": {
            "gridcolor": "white",
            "linecolor": "white",
            "ticks": ""
           }
          },
          "title": {
           "x": 0.05
          },
          "xaxis": {
           "automargin": true,
           "gridcolor": "white",
           "linecolor": "white",
           "ticks": "",
           "title": {
            "standoff": 15
           },
           "zerolinecolor": "white",
           "zerolinewidth": 2
          },
          "yaxis": {
           "automargin": true,
           "gridcolor": "white",
           "linecolor": "white",
           "ticks": "",
           "title": {
            "standoff": 15
           },
           "zerolinecolor": "white",
           "zerolinewidth": 2
          }
         }
        },
        "width": 800,
        "xaxis": {
         "anchor": "y",
         "domain": [
          0,
          1
         ],
         "title": {
          "text": "Games played"
         }
        },
        "yaxis": {
         "anchor": "x",
         "domain": [
          0,
          1
         ],
         "title": {
          "text": "Mopt"
         }
        }
       }
      }
     },
     "metadata": {},
     "output_type": "display_data"
    },
    {
     "data": {
      "application/vnd.plotly.v1+json": {
       "config": {
        "plotlyServerURL": "https://plot.ly"
       },
       "data": [
        {
         "hovertemplate": "variable=n* = 1<br>Games played=%{x}<br>value=%{y}<extra></extra>",
         "legendgroup": "n* = 1",
         "line": {
          "color": "#636efa",
          "dash": "solid"
         },
         "marker": {
          "symbol": "circle"
         },
         "mode": "lines",
         "name": "n* = 1",
         "orientation": "v",
         "showlegend": true,
         "type": "scatter",
         "x": [
          0,
          250,
          500,
          750,
          1000,
          1250,
          1500,
          1750,
          2000,
          2250,
          2500,
          2750,
          3000,
          3250,
          3500,
          3750,
          4000,
          4250,
          4500,
          4750,
          5000,
          5250,
          5500,
          5750,
          6000,
          6250,
          6500,
          6750,
          7000,
          7250,
          7500,
          7750,
          8000,
          8250,
          8500,
          8750,
          9000,
          9250,
          9500,
          9750,
          10000,
          10250,
          10500,
          10750,
          11000,
          11250,
          11500,
          11750,
          12000,
          12250,
          12500,
          12750,
          13000,
          13250,
          13500,
          13750,
          14000,
          14250,
          14500,
          14750,
          15000,
          15250,
          15500,
          15750,
          16000,
          16250,
          16500,
          16750,
          17000,
          17250,
          17500,
          17750,
          18000,
          18250,
          18500,
          18750,
          19000,
          19250,
          19500,
          19750
         ],
         "xaxis": "x",
         "y": [
          -0.164,
          0.128,
          0.268,
          0.408,
          0.512,
          0.608,
          0.624,
          0.604,
          0.82,
          0.724,
          0.824,
          0.82,
          0.748,
          0.86,
          0.764,
          0.76,
          0.824,
          0.836,
          0.832,
          0.736,
          0.916,
          0.86,
          0.804,
          0.876,
          0.864,
          0.9,
          0.512,
          0.904,
          0.912,
          0.844,
          0.868,
          0.924,
          0.9,
          0.9,
          0.892,
          0.88,
          0.896,
          0.844,
          0.88,
          0.896,
          0.864,
          0.916,
          0.884,
          0.808,
          0.936,
          0.904,
          0.916,
          0.872,
          0.92,
          0.86,
          0.912,
          0.928,
          0.944,
          0.912,
          0.856,
          0.944,
          0.964,
          0.956,
          0.916,
          0.908,
          0.92,
          0.928,
          0.956,
          0.928,
          0.956,
          0.94,
          0.876,
          0.944,
          0.956,
          0.904,
          0.948,
          0.932,
          0.92,
          0.912,
          0.924,
          0.944,
          0.94,
          0.812,
          0.908,
          0.9
         ],
         "yaxis": "y"
        },
        {
         "hovertemplate": "variable=n* = 16001<br>Games played=%{x}<br>value=%{y}<extra></extra>",
         "legendgroup": "n* = 16001",
         "line": {
          "color": "#EF553B",
          "dash": "solid"
         },
         "marker": {
          "symbol": "circle"
         },
         "mode": "lines",
         "name": "n* = 16001",
         "orientation": "v",
         "showlegend": true,
         "type": "scatter",
         "x": [
          0,
          250,
          500,
          750,
          1000,
          1250,
          1500,
          1750,
          2000,
          2250,
          2500,
          2750,
          3000,
          3250,
          3500,
          3750,
          4000,
          4250,
          4500,
          4750,
          5000,
          5250,
          5500,
          5750,
          6000,
          6250,
          6500,
          6750,
          7000,
          7250,
          7500,
          7750,
          8000,
          8250,
          8500,
          8750,
          9000,
          9250,
          9500,
          9750,
          10000,
          10250,
          10500,
          10750,
          11000,
          11250,
          11500,
          11750,
          12000,
          12250,
          12500,
          12750,
          13000,
          13250,
          13500,
          13750,
          14000,
          14250,
          14500,
          14750,
          15000,
          15250,
          15500,
          15750,
          16000,
          16250,
          16500,
          16750,
          17000,
          17250,
          17500,
          17750,
          18000,
          18250,
          18500,
          18750,
          19000,
          19250,
          19500,
          19750
         ],
         "xaxis": "x",
         "y": [
          -0.232,
          0,
          0.316,
          0.356,
          0.488,
          0.452,
          0.54,
          0.552,
          0.696,
          0.668,
          0.676,
          0.736,
          0.736,
          0.748,
          0.768,
          0.772,
          0.748,
          0.708,
          0.816,
          0.772,
          0.848,
          0.86,
          0.852,
          0.86,
          0.824,
          0.824,
          0.828,
          0.836,
          0.856,
          0.908,
          0.896,
          0.916,
          0.876,
          0.896,
          0.888,
          0.924,
          0.924,
          0.916,
          0.94,
          0.916,
          0.872,
          0.924,
          0.928,
          0.912,
          0.948,
          0.932,
          0.916,
          0.9,
          0.924,
          0.928,
          0.868,
          0.944,
          0.932,
          0.872,
          0.964,
          0.912,
          0.984,
          0.94,
          0.964,
          0.968,
          0.972,
          0.956,
          0.936,
          0.948,
          0.928,
          0.936,
          0.94,
          0.56,
          0.972,
          0.976,
          0.964,
          0.924,
          0.964,
          0.96,
          0.964,
          0.948,
          0.94,
          0.904,
          0.964,
          0.956
         ],
         "yaxis": "y"
        },
        {
         "hovertemplate": "variable=n* = 24000<br>Games played=%{x}<br>value=%{y}<extra></extra>",
         "legendgroup": "n* = 24000",
         "line": {
          "color": "#00cc96",
          "dash": "solid"
         },
         "marker": {
          "symbol": "circle"
         },
         "mode": "lines",
         "name": "n* = 24000",
         "orientation": "v",
         "showlegend": true,
         "type": "scatter",
         "x": [
          0,
          250,
          500,
          750,
          1000,
          1250,
          1500,
          1750,
          2000,
          2250,
          2500,
          2750,
          3000,
          3250,
          3500,
          3750,
          4000,
          4250,
          4500,
          4750,
          5000,
          5250,
          5500,
          5750,
          6000,
          6250,
          6500,
          6750,
          7000,
          7250,
          7500,
          7750,
          8000,
          8250,
          8500,
          8750,
          9000,
          9250,
          9500,
          9750,
          10000,
          10250,
          10500,
          10750,
          11000,
          11250,
          11500,
          11750,
          12000,
          12250,
          12500,
          12750,
          13000,
          13250,
          13500,
          13750,
          14000,
          14250,
          14500,
          14750,
          15000,
          15250,
          15500,
          15750,
          16000,
          16250,
          16500,
          16750,
          17000,
          17250,
          17500,
          17750,
          18000,
          18250,
          18500,
          18750,
          19000,
          19250,
          19500,
          19750
         ],
         "xaxis": "x",
         "y": [
          -0.256,
          0.236,
          0.308,
          0.38,
          0.456,
          0.528,
          0.692,
          0.604,
          0.632,
          0.688,
          0.676,
          0.66,
          0.764,
          0.82,
          0.788,
          0.788,
          0.8,
          0.816,
          0.732,
          0.776,
          0.84,
          0.84,
          0.848,
          0.752,
          0.82,
          0.736,
          0.752,
          0.888,
          0.864,
          0.868,
          0.916,
          0.876,
          0.912,
          0.928,
          0.888,
          0.808,
          0.916,
          0.872,
          0.872,
          0.868,
          0.868,
          0.852,
          0.88,
          0.94,
          0.892,
          0.892,
          0.944,
          0.92,
          0.884,
          0.952,
          0.928,
          0.916,
          0.924,
          0.908,
          0.912,
          0.912,
          0.828,
          0.932,
          0.968,
          0.944,
          0.916,
          0.944,
          0.932,
          0.936,
          0.908,
          0.96,
          0.928,
          0.936,
          0.936,
          0.912,
          0.92,
          0.904,
          0.94,
          0.956,
          0.972,
          0.964,
          0.948,
          0.912,
          0.984,
          0.952
         ],
         "yaxis": "y"
        },
        {
         "hovertemplate": "variable=n* = 32000<br>Games played=%{x}<br>value=%{y}<extra></extra>",
         "legendgroup": "n* = 32000",
         "line": {
          "color": "#ab63fa",
          "dash": "solid"
         },
         "marker": {
          "symbol": "circle"
         },
         "mode": "lines",
         "name": "n* = 32000",
         "orientation": "v",
         "showlegend": true,
         "type": "scatter",
         "x": [
          0,
          250,
          500,
          750,
          1000,
          1250,
          1500,
          1750,
          2000,
          2250,
          2500,
          2750,
          3000,
          3250,
          3500,
          3750,
          4000,
          4250,
          4500,
          4750,
          5000,
          5250,
          5500,
          5750,
          6000,
          6250,
          6500,
          6750,
          7000,
          7250,
          7500,
          7750,
          8000,
          8250,
          8500,
          8750,
          9000,
          9250,
          9500,
          9750,
          10000,
          10250,
          10500,
          10750,
          11000,
          11250,
          11500,
          11750,
          12000,
          12250,
          12500,
          12750,
          13000,
          13250,
          13500,
          13750,
          14000,
          14250,
          14500,
          14750,
          15000,
          15250,
          15500,
          15750,
          16000,
          16250,
          16500,
          16750,
          17000,
          17250,
          17500,
          17750,
          18000,
          18250,
          18500,
          18750,
          19000,
          19250,
          19500,
          19750
         ],
         "xaxis": "x",
         "y": [
          -0.108,
          0.3,
          0.184,
          0.4,
          0.484,
          0.608,
          0.6,
          0.632,
          0.612,
          0.652,
          0.696,
          0.728,
          0.708,
          0.72,
          0.736,
          0.784,
          0.736,
          0.744,
          0.816,
          0.876,
          0.836,
          0.848,
          0.8,
          0.868,
          0.884,
          0.804,
          0.864,
          0.892,
          0.94,
          0.868,
          0.876,
          0.908,
          0.844,
          0.892,
          0.864,
          0.892,
          0.888,
          0.892,
          0.892,
          0.896,
          0.892,
          0.88,
          0.812,
          0.884,
          0.876,
          0.932,
          0.868,
          0.916,
          0.932,
          0.948,
          0.896,
          0.916,
          0.884,
          0.884,
          0.936,
          0.912,
          0.92,
          0.892,
          0.932,
          0.904,
          0.94,
          0.932,
          0.968,
          0.96,
          0.98,
          0.952,
          0.956,
          0.968,
          0.916,
          0.94,
          0.924,
          0.908,
          0.912,
          0.912,
          0.96,
          0.984,
          0.948,
          0.964,
          0.912,
          0.96
         ],
         "yaxis": "y"
        },
        {
         "hovertemplate": "variable=n* = 40000<br>Games played=%{x}<br>value=%{y}<extra></extra>",
         "legendgroup": "n* = 40000",
         "line": {
          "color": "#FFA15A",
          "dash": "solid"
         },
         "marker": {
          "symbol": "circle"
         },
         "mode": "lines",
         "name": "n* = 40000",
         "orientation": "v",
         "showlegend": true,
         "type": "scatter",
         "x": [
          0,
          250,
          500,
          750,
          1000,
          1250,
          1500,
          1750,
          2000,
          2250,
          2500,
          2750,
          3000,
          3250,
          3500,
          3750,
          4000,
          4250,
          4500,
          4750,
          5000,
          5250,
          5500,
          5750,
          6000,
          6250,
          6500,
          6750,
          7000,
          7250,
          7500,
          7750,
          8000,
          8250,
          8500,
          8750,
          9000,
          9250,
          9500,
          9750,
          10000,
          10250,
          10500,
          10750,
          11000,
          11250,
          11500,
          11750,
          12000,
          12250,
          12500,
          12750,
          13000,
          13250,
          13500,
          13750,
          14000,
          14250,
          14500,
          14750,
          15000,
          15250,
          15500,
          15750,
          16000,
          16250,
          16500,
          16750,
          17000,
          17250,
          17500,
          17750,
          18000,
          18250,
          18500,
          18750,
          19000,
          19250,
          19500,
          19750
         ],
         "xaxis": "x",
         "y": [
          -0.464,
          0.096,
          0.288,
          0.256,
          0.428,
          0.356,
          0.432,
          0.564,
          0.64,
          0.72,
          0.664,
          0.748,
          0.748,
          0.768,
          0.8,
          0.8,
          0.748,
          0.82,
          0.804,
          0.824,
          0.86,
          0.888,
          0.88,
          0.708,
          0.848,
          0.8,
          0.812,
          0.868,
          0.804,
          0.848,
          0.88,
          0.864,
          0.852,
          0.9,
          0.568,
          0.872,
          0.888,
          0.908,
          0.884,
          0.848,
          0.74,
          0.74,
          0.856,
          0.888,
          0.844,
          0.908,
          0.9,
          0.852,
          0.832,
          0.812,
          0.892,
          0.856,
          0.888,
          0.88,
          0.896,
          0.852,
          0.904,
          0.916,
          0.912,
          0.924,
          0.528,
          0.892,
          0.872,
          0.868,
          0.856,
          0.912,
          0.924,
          0.904,
          0.908,
          0.936,
          0.956,
          0.94,
          0.912,
          0.932,
          0.92,
          0.896,
          0.944,
          0.916,
          0.908,
          0.892
         ],
         "yaxis": "y"
        },
        {
         "hovertemplate": "variable=n* = 8001<br>Games played=%{x}<br>value=%{y}<extra></extra>",
         "legendgroup": "n* = 8001",
         "line": {
          "color": "#19d3f3",
          "dash": "solid"
         },
         "marker": {
          "symbol": "circle"
         },
         "mode": "lines",
         "name": "n* = 8001",
         "orientation": "v",
         "showlegend": true,
         "type": "scatter",
         "x": [
          0,
          250,
          500,
          750,
          1000,
          1250,
          1500,
          1750,
          2000,
          2250,
          2500,
          2750,
          3000,
          3250,
          3500,
          3750,
          4000,
          4250,
          4500,
          4750,
          5000,
          5250,
          5500,
          5750,
          6000,
          6250,
          6500,
          6750,
          7000,
          7250,
          7500,
          7750,
          8000,
          8250,
          8500,
          8750,
          9000,
          9250,
          9500,
          9750,
          10000,
          10250,
          10500,
          10750,
          11000,
          11250,
          11500,
          11750,
          12000,
          12250,
          12500,
          12750,
          13000,
          13250,
          13500,
          13750,
          14000,
          14250,
          14500,
          14750,
          15000,
          15250,
          15500,
          15750,
          16000,
          16250,
          16500,
          16750,
          17000,
          17250,
          17500,
          17750,
          18000,
          18250,
          18500,
          18750,
          19000,
          19250,
          19500,
          19750
         ],
         "xaxis": "x",
         "y": [
          -0.124,
          0.176,
          0.224,
          0.292,
          0.56,
          0.596,
          0.592,
          0.664,
          0.744,
          0.744,
          0.776,
          0.712,
          0.696,
          0.804,
          0.808,
          0.904,
          0.896,
          0.9,
          0.916,
          0.852,
          0.844,
          0.904,
          0.876,
          0.904,
          0.924,
          0.916,
          0.9,
          0.896,
          0.908,
          0.896,
          0.912,
          0.928,
          0.924,
          0.908,
          0.928,
          0.94,
          0.944,
          0.948,
          0.908,
          0.912,
          0.944,
          0.96,
          0.968,
          0.952,
          0.904,
          0.928,
          0.92,
          0.932,
          0.956,
          0.94,
          0.928,
          0.952,
          0.936,
          0.948,
          0.948,
          0.948,
          0.932,
          0.948,
          0.944,
          0.96,
          0.964,
          0.932,
          0.956,
          0.912,
          0.948,
          0.928,
          0.936,
          0.96,
          0.972,
          0.964,
          0.964,
          0.944,
          0.976,
          0.86,
          0.916,
          0.956,
          0.924,
          0.936,
          0.916,
          0.972
         ],
         "yaxis": "y"
        }
       ],
       "layout": {
        "legend": {
         "title": {
          "text": "variable"
         },
         "tracegroupgap": 0
        },
        "margin": {
         "t": 60
        },
        "template": {
         "data": {
          "bar": [
           {
            "error_x": {
             "color": "#2a3f5f"
            },
            "error_y": {
             "color": "#2a3f5f"
            },
            "marker": {
             "line": {
              "color": "#E5ECF6",
              "width": 0.5
             },
             "pattern": {
              "fillmode": "overlay",
              "size": 10,
              "solidity": 0.2
             }
            },
            "type": "bar"
           }
          ],
          "barpolar": [
           {
            "marker": {
             "line": {
              "color": "#E5ECF6",
              "width": 0.5
             },
             "pattern": {
              "fillmode": "overlay",
              "size": 10,
              "solidity": 0.2
             }
            },
            "type": "barpolar"
           }
          ],
          "carpet": [
           {
            "aaxis": {
             "endlinecolor": "#2a3f5f",
             "gridcolor": "white",
             "linecolor": "white",
             "minorgridcolor": "white",
             "startlinecolor": "#2a3f5f"
            },
            "baxis": {
             "endlinecolor": "#2a3f5f",
             "gridcolor": "white",
             "linecolor": "white",
             "minorgridcolor": "white",
             "startlinecolor": "#2a3f5f"
            },
            "type": "carpet"
           }
          ],
          "choropleth": [
           {
            "colorbar": {
             "outlinewidth": 0,
             "ticks": ""
            },
            "type": "choropleth"
           }
          ],
          "contour": [
           {
            "colorbar": {
             "outlinewidth": 0,
             "ticks": ""
            },
            "colorscale": [
             [
              0,
              "#0d0887"
             ],
             [
              0.1111111111111111,
              "#46039f"
             ],
             [
              0.2222222222222222,
              "#7201a8"
             ],
             [
              0.3333333333333333,
              "#9c179e"
             ],
             [
              0.4444444444444444,
              "#bd3786"
             ],
             [
              0.5555555555555556,
              "#d8576b"
             ],
             [
              0.6666666666666666,
              "#ed7953"
             ],
             [
              0.7777777777777778,
              "#fb9f3a"
             ],
             [
              0.8888888888888888,
              "#fdca26"
             ],
             [
              1,
              "#f0f921"
             ]
            ],
            "type": "contour"
           }
          ],
          "contourcarpet": [
           {
            "colorbar": {
             "outlinewidth": 0,
             "ticks": ""
            },
            "type": "contourcarpet"
           }
          ],
          "heatmap": [
           {
            "colorbar": {
             "outlinewidth": 0,
             "ticks": ""
            },
            "colorscale": [
             [
              0,
              "#0d0887"
             ],
             [
              0.1111111111111111,
              "#46039f"
             ],
             [
              0.2222222222222222,
              "#7201a8"
             ],
             [
              0.3333333333333333,
              "#9c179e"
             ],
             [
              0.4444444444444444,
              "#bd3786"
             ],
             [
              0.5555555555555556,
              "#d8576b"
             ],
             [
              0.6666666666666666,
              "#ed7953"
             ],
             [
              0.7777777777777778,
              "#fb9f3a"
             ],
             [
              0.8888888888888888,
              "#fdca26"
             ],
             [
              1,
              "#f0f921"
             ]
            ],
            "type": "heatmap"
           }
          ],
          "heatmapgl": [
           {
            "colorbar": {
             "outlinewidth": 0,
             "ticks": ""
            },
            "colorscale": [
             [
              0,
              "#0d0887"
             ],
             [
              0.1111111111111111,
              "#46039f"
             ],
             [
              0.2222222222222222,
              "#7201a8"
             ],
             [
              0.3333333333333333,
              "#9c179e"
             ],
             [
              0.4444444444444444,
              "#bd3786"
             ],
             [
              0.5555555555555556,
              "#d8576b"
             ],
             [
              0.6666666666666666,
              "#ed7953"
             ],
             [
              0.7777777777777778,
              "#fb9f3a"
             ],
             [
              0.8888888888888888,
              "#fdca26"
             ],
             [
              1,
              "#f0f921"
             ]
            ],
            "type": "heatmapgl"
           }
          ],
          "histogram": [
           {
            "marker": {
             "pattern": {
              "fillmode": "overlay",
              "size": 10,
              "solidity": 0.2
             }
            },
            "type": "histogram"
           }
          ],
          "histogram2d": [
           {
            "colorbar": {
             "outlinewidth": 0,
             "ticks": ""
            },
            "colorscale": [
             [
              0,
              "#0d0887"
             ],
             [
              0.1111111111111111,
              "#46039f"
             ],
             [
              0.2222222222222222,
              "#7201a8"
             ],
             [
              0.3333333333333333,
              "#9c179e"
             ],
             [
              0.4444444444444444,
              "#bd3786"
             ],
             [
              0.5555555555555556,
              "#d8576b"
             ],
             [
              0.6666666666666666,
              "#ed7953"
             ],
             [
              0.7777777777777778,
              "#fb9f3a"
             ],
             [
              0.8888888888888888,
              "#fdca26"
             ],
             [
              1,
              "#f0f921"
             ]
            ],
            "type": "histogram2d"
           }
          ],
          "histogram2dcontour": [
           {
            "colorbar": {
             "outlinewidth": 0,
             "ticks": ""
            },
            "colorscale": [
             [
              0,
              "#0d0887"
             ],
             [
              0.1111111111111111,
              "#46039f"
             ],
             [
              0.2222222222222222,
              "#7201a8"
             ],
             [
              0.3333333333333333,
              "#9c179e"
             ],
             [
              0.4444444444444444,
              "#bd3786"
             ],
             [
              0.5555555555555556,
              "#d8576b"
             ],
             [
              0.6666666666666666,
              "#ed7953"
             ],
             [
              0.7777777777777778,
              "#fb9f3a"
             ],
             [
              0.8888888888888888,
              "#fdca26"
             ],
             [
              1,
              "#f0f921"
             ]
            ],
            "type": "histogram2dcontour"
           }
          ],
          "mesh3d": [
           {
            "colorbar": {
             "outlinewidth": 0,
             "ticks": ""
            },
            "type": "mesh3d"
           }
          ],
          "parcoords": [
           {
            "line": {
             "colorbar": {
              "outlinewidth": 0,
              "ticks": ""
             }
            },
            "type": "parcoords"
           }
          ],
          "pie": [
           {
            "automargin": true,
            "type": "pie"
           }
          ],
          "scatter": [
           {
            "fillpattern": {
             "fillmode": "overlay",
             "size": 10,
             "solidity": 0.2
            },
            "type": "scatter"
           }
          ],
          "scatter3d": [
           {
            "line": {
             "colorbar": {
              "outlinewidth": 0,
              "ticks": ""
             }
            },
            "marker": {
             "colorbar": {
              "outlinewidth": 0,
              "ticks": ""
             }
            },
            "type": "scatter3d"
           }
          ],
          "scattercarpet": [
           {
            "marker": {
             "colorbar": {
              "outlinewidth": 0,
              "ticks": ""
             }
            },
            "type": "scattercarpet"
           }
          ],
          "scattergeo": [
           {
            "marker": {
             "colorbar": {
              "outlinewidth": 0,
              "ticks": ""
             }
            },
            "type": "scattergeo"
           }
          ],
          "scattergl": [
           {
            "marker": {
             "colorbar": {
              "outlinewidth": 0,
              "ticks": ""
             }
            },
            "type": "scattergl"
           }
          ],
          "scattermapbox": [
           {
            "marker": {
             "colorbar": {
              "outlinewidth": 0,
              "ticks": ""
             }
            },
            "type": "scattermapbox"
           }
          ],
          "scatterpolar": [
           {
            "marker": {
             "colorbar": {
              "outlinewidth": 0,
              "ticks": ""
             }
            },
            "type": "scatterpolar"
           }
          ],
          "scatterpolargl": [
           {
            "marker": {
             "colorbar": {
              "outlinewidth": 0,
              "ticks": ""
             }
            },
            "type": "scatterpolargl"
           }
          ],
          "scatterternary": [
           {
            "marker": {
             "colorbar": {
              "outlinewidth": 0,
              "ticks": ""
             }
            },
            "type": "scatterternary"
           }
          ],
          "surface": [
           {
            "colorbar": {
             "outlinewidth": 0,
             "ticks": ""
            },
            "colorscale": [
             [
              0,
              "#0d0887"
             ],
             [
              0.1111111111111111,
              "#46039f"
             ],
             [
              0.2222222222222222,
              "#7201a8"
             ],
             [
              0.3333333333333333,
              "#9c179e"
             ],
             [
              0.4444444444444444,
              "#bd3786"
             ],
             [
              0.5555555555555556,
              "#d8576b"
             ],
             [
              0.6666666666666666,
              "#ed7953"
             ],
             [
              0.7777777777777778,
              "#fb9f3a"
             ],
             [
              0.8888888888888888,
              "#fdca26"
             ],
             [
              1,
              "#f0f921"
             ]
            ],
            "type": "surface"
           }
          ],
          "table": [
           {
            "cells": {
             "fill": {
              "color": "#EBF0F8"
             },
             "line": {
              "color": "white"
             }
            },
            "header": {
             "fill": {
              "color": "#C8D4E3"
             },
             "line": {
              "color": "white"
             }
            },
            "type": "table"
           }
          ]
         },
         "layout": {
          "annotationdefaults": {
           "arrowcolor": "#2a3f5f",
           "arrowhead": 0,
           "arrowwidth": 1
          },
          "autotypenumbers": "strict",
          "coloraxis": {
           "colorbar": {
            "outlinewidth": 0,
            "ticks": ""
           }
          },
          "colorscale": {
           "diverging": [
            [
             0,
             "#8e0152"
            ],
            [
             0.1,
             "#c51b7d"
            ],
            [
             0.2,
             "#de77ae"
            ],
            [
             0.3,
             "#f1b6da"
            ],
            [
             0.4,
             "#fde0ef"
            ],
            [
             0.5,
             "#f7f7f7"
            ],
            [
             0.6,
             "#e6f5d0"
            ],
            [
             0.7,
             "#b8e186"
            ],
            [
             0.8,
             "#7fbc41"
            ],
            [
             0.9,
             "#4d9221"
            ],
            [
             1,
             "#276419"
            ]
           ],
           "sequential": [
            [
             0,
             "#0d0887"
            ],
            [
             0.1111111111111111,
             "#46039f"
            ],
            [
             0.2222222222222222,
             "#7201a8"
            ],
            [
             0.3333333333333333,
             "#9c179e"
            ],
            [
             0.4444444444444444,
             "#bd3786"
            ],
            [
             0.5555555555555556,
             "#d8576b"
            ],
            [
             0.6666666666666666,
             "#ed7953"
            ],
            [
             0.7777777777777778,
             "#fb9f3a"
            ],
            [
             0.8888888888888888,
             "#fdca26"
            ],
            [
             1,
             "#f0f921"
            ]
           ],
           "sequentialminus": [
            [
             0,
             "#0d0887"
            ],
            [
             0.1111111111111111,
             "#46039f"
            ],
            [
             0.2222222222222222,
             "#7201a8"
            ],
            [
             0.3333333333333333,
             "#9c179e"
            ],
            [
             0.4444444444444444,
             "#bd3786"
            ],
            [
             0.5555555555555556,
             "#d8576b"
            ],
            [
             0.6666666666666666,
             "#ed7953"
            ],
            [
             0.7777777777777778,
             "#fb9f3a"
            ],
            [
             0.8888888888888888,
             "#fdca26"
            ],
            [
             1,
             "#f0f921"
            ]
           ]
          },
          "colorway": [
           "#636efa",
           "#EF553B",
           "#00cc96",
           "#ab63fa",
           "#FFA15A",
           "#19d3f3",
           "#FF6692",
           "#B6E880",
           "#FF97FF",
           "#FECB52"
          ],
          "font": {
           "color": "#2a3f5f"
          },
          "geo": {
           "bgcolor": "white",
           "lakecolor": "white",
           "landcolor": "#E5ECF6",
           "showlakes": true,
           "showland": true,
           "subunitcolor": "white"
          },
          "hoverlabel": {
           "align": "left"
          },
          "hovermode": "closest",
          "mapbox": {
           "style": "light"
          },
          "paper_bgcolor": "white",
          "plot_bgcolor": "#E5ECF6",
          "polar": {
           "angularaxis": {
            "gridcolor": "white",
            "linecolor": "white",
            "ticks": ""
           },
           "bgcolor": "#E5ECF6",
           "radialaxis": {
            "gridcolor": "white",
            "linecolor": "white",
            "ticks": ""
           }
          },
          "scene": {
           "xaxis": {
            "backgroundcolor": "#E5ECF6",
            "gridcolor": "white",
            "gridwidth": 2,
            "linecolor": "white",
            "showbackground": true,
            "ticks": "",
            "zerolinecolor": "white"
           },
           "yaxis": {
            "backgroundcolor": "#E5ECF6",
            "gridcolor": "white",
            "gridwidth": 2,
            "linecolor": "white",
            "showbackground": true,
            "ticks": "",
            "zerolinecolor": "white"
           },
           "zaxis": {
            "backgroundcolor": "#E5ECF6",
            "gridcolor": "white",
            "gridwidth": 2,
            "linecolor": "white",
            "showbackground": true,
            "ticks": "",
            "zerolinecolor": "white"
           }
          },
          "shapedefaults": {
           "line": {
            "color": "#2a3f5f"
           }
          },
          "ternary": {
           "aaxis": {
            "gridcolor": "white",
            "linecolor": "white",
            "ticks": ""
           },
           "baxis": {
            "gridcolor": "white",
            "linecolor": "white",
            "ticks": ""
           },
           "bgcolor": "#E5ECF6",
           "caxis": {
            "gridcolor": "white",
            "linecolor": "white",
            "ticks": ""
           }
          },
          "title": {
           "x": 0.05
          },
          "xaxis": {
           "automargin": true,
           "gridcolor": "white",
           "linecolor": "white",
           "ticks": "",
           "title": {
            "standoff": 15
           },
           "zerolinecolor": "white",
           "zerolinewidth": 2
          },
          "yaxis": {
           "automargin": true,
           "gridcolor": "white",
           "linecolor": "white",
           "ticks": "",
           "title": {
            "standoff": 15
           },
           "zerolinecolor": "white",
           "zerolinewidth": 2
          }
         }
        },
        "width": 800,
        "xaxis": {
         "anchor": "y",
         "domain": [
          0,
          1
         ],
         "title": {
          "text": "Games played"
         }
        },
        "yaxis": {
         "anchor": "x",
         "domain": [
          0,
          1
         ],
         "title": {
          "text": "Mrand"
         }
        }
       }
      }
     },
     "metadata": {},
     "output_type": "display_data"
    }
   ],
   "source": [
    "n_star_values=np.linspace(1,40000,6)\n",
    "question13_results = deep_q_questions_results[2]\n",
    "\n",
    "df1 = {'Games played':list(np.arange(0,20000//METRICS_FREQUENCY)*METRICS_FREQUENCY)} # mean reward\n",
    "df2 = {'Games played':list(np.arange(0,20000//METRICS_FREQUENCY)*METRICS_FREQUENCY)} # loss\n",
    "df3 = {'Games played':list(np.arange(0,20000//METRICS_FREQUENCY)*METRICS_FREQUENCY)} # Mopt\n",
    "df4 = {'Games played':list(np.arange(0,20000//METRICS_FREQUENCY)*METRICS_FREQUENCY)} # Mrand\n",
    "\n",
    "for idx, metrics in enumerate(question13_results):\n",
    "    df1[f\"n* = {n_star_values[idx]:0.0f}\"] = metrics[0]\n",
    "    df2[f\"n* = {n_star_values[idx]:0.0f}\"] = metrics[1]\n",
    "    df3[f\"n* = {n_star_values[idx]:0.0f}\"] = metrics[2]\n",
    "    df4[f\"n* = {n_star_values[idx]:0.0f}\"] = metrics[3]\n",
    "\n",
    "df1 = pd.DataFrame(df1)\n",
    "df2 = pd.DataFrame(df2)\n",
    "df3 = pd.DataFrame(df3)\n",
    "df4 = pd.DataFrame(df4)\n",
    "\n",
    "fig1 = px.line(df1, x='Games played', y=df1.columns.difference(['Games played']), title='Training with testing on different decreasing exploration rates')\n",
    "fig1.update_layout(xaxis_title='Games played', yaxis_title='Reward', width = 800)\n",
    "fig2 = px.line(df2, x='Games played', y=df2.columns.difference(['Games played']))\n",
    "fig2.update_layout(xaxis_title='Games played', yaxis_title='Loss', width = 800)\n",
    "fig3 = px.line(df3, x='Games played', y=df3.columns.difference(['Games played']))\n",
    "fig3.update_layout(xaxis_title='Games played', yaxis_title='Mopt', width = 800)\n",
    "fig4 = px.line(df4, x='Games played', y=df4.columns.difference(['Games played']))\n",
    "fig4.update_layout(xaxis_title='Games played', yaxis_title='Mrand', width = 800)\n",
    "\n",
    "fig1.show()\n",
    "fig2.show()\n",
    "fig3.show()\n",
    "fig4.show()"
   ]
  },
  {
   "cell_type": "markdown",
   "metadata": {
    "collapsed": false,
    "pycharm": {
     "name": "#%% md\n"
    }
   },
   "source": [
    "Choose the best value of n* that you found. Run DQN against Opt(eps_opt) for different values of eps_opt for 20’000 games – switch the 1st player after every game.\n",
    "Choose several values of eps_opt from a reasonably wide interval between 0 to 1 – particularly, include eps_opt = 0.\n",
    "### Question 14\n",
    " After every 250 games during training, compute the ‘test’ Mopt and Mrand for your agents – for each value of eps_opt. Plot Mopt and Mrand over time. What do you observe? How can you explain it?\n",
    " Expected answer: A figure showing Mopt and Mrand over time for different values of eps_opt (caption length < 250 words).\n"
   ]
  },
  {
   "cell_type": "code",
   "execution_count": 52,
   "metadata": {
    "collapsed": false,
    "pycharm": {
     "name": "#%%\n"
    }
   },
   "outputs": [],
   "source": [
    "if not use_backup:\n",
    "    question14_results=[]\n",
    "    eps_adv_values = np.linspace(0,1,11)\n",
    "    for eps_adv in eps_adv_values:\n",
    "        metrics, _  =  deep_q_learning(player_dqn=DQNAgent(epsilon_min=0.1, epsilon_max=0.8, n_star= 8000), adv_epsilon=eps_adv, maxGames=20000, test=True)\n",
    "        question14_results.append(metrics)\n",
    "    deep_q_questions_results.append(question14_results)"
   ]
  },
  {
   "cell_type": "code",
   "execution_count": 65,
   "metadata": {
    "collapsed": false,
    "pycharm": {
     "name": "#%%\n"
    }
   },
   "outputs": [
    {
     "data": {
      "application/vnd.plotly.v1+json": {
       "config": {
        "plotlyServerURL": "https://plot.ly"
       },
       "data": [
        {
         "hovertemplate": "variable=eps_adv = 0.00<br>Games played=%{x}<br>value=%{y}<extra></extra>",
         "legendgroup": "eps_adv = 0.00",
         "line": {
          "color": "#636efa",
          "dash": "solid"
         },
         "marker": {
          "symbol": "circle"
         },
         "mode": "lines",
         "name": "eps_adv = 0.00",
         "orientation": "v",
         "showlegend": true,
         "type": "scatter",
         "x": [
          0,
          250,
          500,
          750,
          1000,
          1250,
          1500,
          1750,
          2000,
          2250,
          2500,
          2750,
          3000,
          3250,
          3500,
          3750,
          4000,
          4250,
          4500,
          4750,
          5000,
          5250,
          5500,
          5750,
          6000,
          6250,
          6500,
          6750,
          7000,
          7250,
          7500,
          7750,
          8000,
          8250,
          8500,
          8750,
          9000,
          9250,
          9500,
          9750,
          10000,
          10250,
          10500,
          10750,
          11000,
          11250,
          11500,
          11750,
          12000,
          12250,
          12500,
          12750,
          13000,
          13250,
          13500,
          13750,
          14000,
          14250,
          14500,
          14750,
          15000,
          15250,
          15500,
          15750,
          16000,
          16250,
          16500,
          16750,
          17000,
          17250,
          17500,
          17750,
          18000,
          18250,
          18500,
          18750,
          19000,
          19250,
          19500,
          19750
         ],
         "xaxis": "x",
         "y": [
          -1,
          -0.992,
          -0.992,
          -1,
          -0.992,
          -0.992,
          -0.984,
          -0.968,
          -0.968,
          -0.992,
          -0.96,
          -0.968,
          -0.936,
          -0.968,
          -0.888,
          -0.888,
          -0.864,
          -0.872,
          -0.872,
          -0.816,
          -0.776,
          -0.712,
          -0.744,
          -0.568,
          -0.592,
          -0.56,
          -0.512,
          -0.392,
          -0.408,
          -0.336,
          -0.424,
          -0.432,
          -0.392,
          -0.32,
          -0.352,
          -0.48,
          -0.424,
          -0.448,
          -0.408,
          -0.432,
          -0.288,
          -0.384,
          -0.312,
          -0.368,
          -0.392,
          -0.368,
          -0.32,
          -0.392,
          -0.32,
          -0.256,
          -0.416,
          -0.344,
          -0.376,
          -0.408,
          -0.368,
          -0.384,
          -0.448,
          -0.344,
          -0.32,
          -0.312,
          -0.304,
          -0.376,
          -0.312,
          -0.304,
          -0.296,
          -0.344,
          -0.376,
          -0.344,
          -0.304,
          -0.312,
          -0.24,
          -0.376,
          -0.328,
          -0.32,
          -0.384,
          -0.344,
          -0.384,
          -0.36,
          -0.28,
          -0.416
         ],
         "yaxis": "y"
        },
        {
         "hovertemplate": "variable=eps_adv = 0.10<br>Games played=%{x}<br>value=%{y}<extra></extra>",
         "legendgroup": "eps_adv = 0.10",
         "line": {
          "color": "#EF553B",
          "dash": "solid"
         },
         "marker": {
          "symbol": "circle"
         },
         "mode": "lines",
         "name": "eps_adv = 0.10",
         "orientation": "v",
         "showlegend": true,
         "type": "scatter",
         "x": [
          0,
          250,
          500,
          750,
          1000,
          1250,
          1500,
          1750,
          2000,
          2250,
          2500,
          2750,
          3000,
          3250,
          3500,
          3750,
          4000,
          4250,
          4500,
          4750,
          5000,
          5250,
          5500,
          5750,
          6000,
          6250,
          6500,
          6750,
          7000,
          7250,
          7500,
          7750,
          8000,
          8250,
          8500,
          8750,
          9000,
          9250,
          9500,
          9750,
          10000,
          10250,
          10500,
          10750,
          11000,
          11250,
          11500,
          11750,
          12000,
          12250,
          12500,
          12750,
          13000,
          13250,
          13500,
          13750,
          14000,
          14250,
          14500,
          14750,
          15000,
          15250,
          15500,
          15750,
          16000,
          16250,
          16500,
          16750,
          17000,
          17250,
          17500,
          17750,
          18000,
          18250,
          18500,
          18750,
          19000,
          19250,
          19500,
          19750
         ],
         "xaxis": "x",
         "y": [
          -0.904,
          -0.912,
          -0.88,
          -0.872,
          -0.848,
          -0.864,
          -0.848,
          -0.872,
          -0.792,
          -0.816,
          -0.784,
          -0.744,
          -0.728,
          -0.8,
          -0.696,
          -0.776,
          -0.744,
          -0.736,
          -0.752,
          -0.68,
          -0.6,
          -0.536,
          -0.608,
          -0.528,
          -0.488,
          -0.416,
          -0.376,
          -0.216,
          -0.168,
          -0.224,
          -0.184,
          -0.344,
          -0.256,
          -0.416,
          -0.312,
          -0.208,
          -0.176,
          -0.24,
          -0.152,
          -0.272,
          -0.176,
          -0.216,
          -0.064,
          -0.152,
          -0.16,
          -0.128,
          -0.088,
          -0.08,
          -0.224,
          -0.144,
          -0.152,
          -0.168,
          -0.12,
          -0.176,
          -0.208,
          -0.136,
          -0.032,
          -0.216,
          -0.144,
          -0.16,
          -0.088,
          -0.104,
          -0.136,
          -0.016,
          -0.016,
          -0.032,
          -0.192,
          -0.096,
          -0.128,
          -0.176,
          -0.096,
          -0.128,
          -0.096,
          -0.176,
          -0.08,
          -0.104,
          -0.152,
          -0.024,
          -0.112,
          -0.04
         ],
         "yaxis": "y"
        },
        {
         "hovertemplate": "variable=eps_adv = 0.20<br>Games played=%{x}<br>value=%{y}<extra></extra>",
         "legendgroup": "eps_adv = 0.20",
         "line": {
          "color": "#00cc96",
          "dash": "solid"
         },
         "marker": {
          "symbol": "circle"
         },
         "mode": "lines",
         "name": "eps_adv = 0.20",
         "orientation": "v",
         "showlegend": true,
         "type": "scatter",
         "x": [
          0,
          250,
          500,
          750,
          1000,
          1250,
          1500,
          1750,
          2000,
          2250,
          2500,
          2750,
          3000,
          3250,
          3500,
          3750,
          4000,
          4250,
          4500,
          4750,
          5000,
          5250,
          5500,
          5750,
          6000,
          6250,
          6500,
          6750,
          7000,
          7250,
          7500,
          7750,
          8000,
          8250,
          8500,
          8750,
          9000,
          9250,
          9500,
          9750,
          10000,
          10250,
          10500,
          10750,
          11000,
          11250,
          11500,
          11750,
          12000,
          12250,
          12500,
          12750,
          13000,
          13250,
          13500,
          13750,
          14000,
          14250,
          14500,
          14750,
          15000,
          15250,
          15500,
          15750,
          16000,
          16250,
          16500,
          16750,
          17000,
          17250,
          17500,
          17750,
          18000,
          18250,
          18500,
          18750,
          19000,
          19250,
          19500,
          19750
         ],
         "xaxis": "x",
         "y": [
          -0.856,
          -0.8,
          -0.776,
          -0.816,
          -0.736,
          -0.784,
          -0.704,
          -0.792,
          -0.656,
          -0.68,
          -0.696,
          -0.688,
          -0.624,
          -0.552,
          -0.568,
          -0.592,
          -0.536,
          -0.408,
          -0.536,
          -0.416,
          -0.384,
          -0.416,
          -0.296,
          -0.248,
          -0.216,
          -0.28,
          -0.12,
          -0.12,
          -0.176,
          -0.016,
          -0.096,
          0.008,
          0.016,
          0.048,
          -0.048,
          0.032,
          0.2,
          0.104,
          -0.024,
          0.056,
          0.072,
          0,
          0.176,
          0.072,
          0.088,
          0.112,
          0.04,
          0.096,
          0.12,
          0.128,
          0.216,
          0.064,
          0.04,
          0.072,
          0.096,
          0.112,
          0.048,
          0.232,
          0.208,
          0.112,
          0.104,
          0.144,
          0.12,
          0.064,
          0.12,
          0.056,
          0.168,
          0.224,
          0.088,
          0.152,
          0.136,
          0.016,
          0.232,
          0.144,
          0.24,
          0.024,
          0.144,
          0.152,
          0.16,
          0.08
         ],
         "yaxis": "y"
        },
        {
         "hovertemplate": "variable=eps_adv = 0.30<br>Games played=%{x}<br>value=%{y}<extra></extra>",
         "legendgroup": "eps_adv = 0.30",
         "line": {
          "color": "#ab63fa",
          "dash": "solid"
         },
         "marker": {
          "symbol": "circle"
         },
         "mode": "lines",
         "name": "eps_adv = 0.30",
         "orientation": "v",
         "showlegend": true,
         "type": "scatter",
         "x": [
          0,
          250,
          500,
          750,
          1000,
          1250,
          1500,
          1750,
          2000,
          2250,
          2500,
          2750,
          3000,
          3250,
          3500,
          3750,
          4000,
          4250,
          4500,
          4750,
          5000,
          5250,
          5500,
          5750,
          6000,
          6250,
          6500,
          6750,
          7000,
          7250,
          7500,
          7750,
          8000,
          8250,
          8500,
          8750,
          9000,
          9250,
          9500,
          9750,
          10000,
          10250,
          10500,
          10750,
          11000,
          11250,
          11500,
          11750,
          12000,
          12250,
          12500,
          12750,
          13000,
          13250,
          13500,
          13750,
          14000,
          14250,
          14500,
          14750,
          15000,
          15250,
          15500,
          15750,
          16000,
          16250,
          16500,
          16750,
          17000,
          17250,
          17500,
          17750,
          18000,
          18250,
          18500,
          18750,
          19000,
          19250,
          19500,
          19750
         ],
         "xaxis": "x",
         "y": [
          -0.768,
          -0.704,
          -0.68,
          -0.616,
          -0.48,
          -0.584,
          -0.528,
          -0.592,
          -0.512,
          -0.584,
          -0.44,
          -0.512,
          -0.504,
          -0.376,
          -0.336,
          -0.312,
          -0.336,
          -0.36,
          -0.272,
          -0.288,
          -0.176,
          -0.12,
          -0.224,
          0.048,
          -0.048,
          -0.056,
          -0.024,
          0.152,
          0.16,
          0.248,
          0.216,
          0.184,
          0.176,
          0.184,
          0.304,
          0.112,
          0.256,
          0.2,
          0.296,
          0.224,
          0.144,
          0.168,
          0.224,
          0.16,
          0.176,
          0.128,
          0.224,
          0.2,
          0.336,
          0.24,
          0.272,
          0.288,
          0.232,
          0.192,
          0.288,
          0.248,
          0.24,
          0.128,
          0.304,
          0.168,
          0.368,
          0.264,
          0.176,
          0.32,
          0.272,
          0.208,
          0.384,
          0.304,
          0.32,
          0.384,
          0.208,
          0.344,
          0.368,
          0.24,
          0.152,
          0.208,
          0.256,
          0.272,
          0.304,
          0.176
         ],
         "yaxis": "y"
        },
        {
         "hovertemplate": "variable=eps_adv = 0.40<br>Games played=%{x}<br>value=%{y}<extra></extra>",
         "legendgroup": "eps_adv = 0.40",
         "line": {
          "color": "#FFA15A",
          "dash": "solid"
         },
         "marker": {
          "symbol": "circle"
         },
         "mode": "lines",
         "name": "eps_adv = 0.40",
         "orientation": "v",
         "showlegend": true,
         "type": "scatter",
         "x": [
          0,
          250,
          500,
          750,
          1000,
          1250,
          1500,
          1750,
          2000,
          2250,
          2500,
          2750,
          3000,
          3250,
          3500,
          3750,
          4000,
          4250,
          4500,
          4750,
          5000,
          5250,
          5500,
          5750,
          6000,
          6250,
          6500,
          6750,
          7000,
          7250,
          7500,
          7750,
          8000,
          8250,
          8500,
          8750,
          9000,
          9250,
          9500,
          9750,
          10000,
          10250,
          10500,
          10750,
          11000,
          11250,
          11500,
          11750,
          12000,
          12250,
          12500,
          12750,
          13000,
          13250,
          13500,
          13750,
          14000,
          14250,
          14500,
          14750,
          15000,
          15250,
          15500,
          15750,
          16000,
          16250,
          16500,
          16750,
          17000,
          17250,
          17500,
          17750,
          18000,
          18250,
          18500,
          18750,
          19000,
          19250,
          19500,
          19750
         ],
         "xaxis": "x",
         "y": [
          -0.64,
          -0.536,
          -0.568,
          -0.536,
          -0.392,
          -0.48,
          -0.44,
          -0.52,
          -0.424,
          -0.376,
          -0.256,
          -0.4,
          -0.328,
          -0.352,
          -0.224,
          -0.336,
          -0.232,
          -0.144,
          -0.128,
          -0.056,
          0.04,
          -0.024,
          -0.024,
          -0.032,
          0.064,
          0.168,
          0.24,
          0.256,
          0.352,
          0.12,
          0.24,
          0.152,
          0.336,
          0.32,
          0.24,
          0.28,
          0.28,
          0.328,
          0.416,
          0.304,
          0.304,
          0.344,
          0.392,
          0.36,
          0.376,
          0.376,
          0.312,
          0.456,
          0.432,
          0.472,
          0.448,
          0.376,
          0.36,
          0.48,
          0.328,
          0.392,
          0.464,
          0.328,
          0.336,
          0.28,
          0.36,
          0.368,
          0.352,
          0.44,
          0.36,
          0.392,
          0.464,
          0.36,
          0.416,
          0.424,
          0.44,
          0.296,
          0.272,
          0.424,
          0.424,
          0.376,
          0.448,
          0.448,
          0.536,
          0.336
         ],
         "yaxis": "y"
        },
        {
         "hovertemplate": "variable=eps_adv = 0.50<br>Games played=%{x}<br>value=%{y}<extra></extra>",
         "legendgroup": "eps_adv = 0.50",
         "line": {
          "color": "#19d3f3",
          "dash": "solid"
         },
         "marker": {
          "symbol": "circle"
         },
         "mode": "lines",
         "name": "eps_adv = 0.50",
         "orientation": "v",
         "showlegend": true,
         "type": "scatter",
         "x": [
          0,
          250,
          500,
          750,
          1000,
          1250,
          1500,
          1750,
          2000,
          2250,
          2500,
          2750,
          3000,
          3250,
          3500,
          3750,
          4000,
          4250,
          4500,
          4750,
          5000,
          5250,
          5500,
          5750,
          6000,
          6250,
          6500,
          6750,
          7000,
          7250,
          7500,
          7750,
          8000,
          8250,
          8500,
          8750,
          9000,
          9250,
          9500,
          9750,
          10000,
          10250,
          10500,
          10750,
          11000,
          11250,
          11500,
          11750,
          12000,
          12250,
          12500,
          12750,
          13000,
          13250,
          13500,
          13750,
          14000,
          14250,
          14500,
          14750,
          15000,
          15250,
          15500,
          15750,
          16000,
          16250,
          16500,
          16750,
          17000,
          17250,
          17500,
          17750,
          18000,
          18250,
          18500,
          18750,
          19000,
          19250,
          19500,
          19750
         ],
         "xaxis": "x",
         "y": [
          -0.68,
          -0.472,
          -0.504,
          -0.408,
          -0.344,
          -0.328,
          -0.312,
          -0.384,
          -0.256,
          -0.312,
          -0.136,
          -0.128,
          -0.176,
          -0.072,
          -0.112,
          0,
          0,
          0.104,
          0.056,
          0.112,
          0.024,
          -0.016,
          0.176,
          0.256,
          0.368,
          0.28,
          0.352,
          0.4,
          0.432,
          0.392,
          0.376,
          0.352,
          0.432,
          0.448,
          0.304,
          0.36,
          0.384,
          0.48,
          0.4,
          0.528,
          0.392,
          0.28,
          0.384,
          0.4,
          0.432,
          0.504,
          0.488,
          0.376,
          0.6,
          0.472,
          0.408,
          0.576,
          0.52,
          0.432,
          0.464,
          0.464,
          0.4,
          0.552,
          0.576,
          0.48,
          0.528,
          0.52,
          0.448,
          0.52,
          0.48,
          0.456,
          0.448,
          0.464,
          0.512,
          0.6,
          0.52,
          0.568,
          0.384,
          0.496,
          0.48,
          0.656,
          0.512,
          0.64,
          0.512,
          0.48
         ],
         "yaxis": "y"
        },
        {
         "hovertemplate": "variable=eps_adv = 0.60<br>Games played=%{x}<br>value=%{y}<extra></extra>",
         "legendgroup": "eps_adv = 0.60",
         "line": {
          "color": "#FF6692",
          "dash": "solid"
         },
         "marker": {
          "symbol": "circle"
         },
         "mode": "lines",
         "name": "eps_adv = 0.60",
         "orientation": "v",
         "showlegend": true,
         "type": "scatter",
         "x": [
          0,
          250,
          500,
          750,
          1000,
          1250,
          1500,
          1750,
          2000,
          2250,
          2500,
          2750,
          3000,
          3250,
          3500,
          3750,
          4000,
          4250,
          4500,
          4750,
          5000,
          5250,
          5500,
          5750,
          6000,
          6250,
          6500,
          6750,
          7000,
          7250,
          7500,
          7750,
          8000,
          8250,
          8500,
          8750,
          9000,
          9250,
          9500,
          9750,
          10000,
          10250,
          10500,
          10750,
          11000,
          11250,
          11500,
          11750,
          12000,
          12250,
          12500,
          12750,
          13000,
          13250,
          13500,
          13750,
          14000,
          14250,
          14500,
          14750,
          15000,
          15250,
          15500,
          15750,
          16000,
          16250,
          16500,
          16750,
          17000,
          17250,
          17500,
          17750,
          18000,
          18250,
          18500,
          18750,
          19000,
          19250,
          19500,
          19750
         ],
         "xaxis": "x",
         "y": [
          -0.448,
          -0.344,
          -0.328,
          -0.248,
          -0.256,
          -0.264,
          -0.176,
          -0.104,
          -0.176,
          -0.12,
          -0.16,
          -0.168,
          -0.064,
          -0.096,
          0.024,
          -0.04,
          0.088,
          0.136,
          0.096,
          0.088,
          0.136,
          0.32,
          0.152,
          0.288,
          0.216,
          0.384,
          0.344,
          0.512,
          0.4,
          0.456,
          0.536,
          0.48,
          0.472,
          0.536,
          0.448,
          0.56,
          0.552,
          0.496,
          0.544,
          0.512,
          0.584,
          0.456,
          0.472,
          0.64,
          0.6,
          0.512,
          0.448,
          0.584,
          0.6,
          0.536,
          0.52,
          0.52,
          0.56,
          0.584,
          0.568,
          0.568,
          0.512,
          0.6,
          0.456,
          0.528,
          0.52,
          0.6,
          0.472,
          0.64,
          0.536,
          0.56,
          0.472,
          0.576,
          0.448,
          0.568,
          0.52,
          0.52,
          0.496,
          0.544,
          0.576,
          0.552,
          0.52,
          0.536,
          0.584,
          0.568
         ],
         "yaxis": "y"
        },
        {
         "hovertemplate": "variable=eps_adv = 0.70<br>Games played=%{x}<br>value=%{y}<extra></extra>",
         "legendgroup": "eps_adv = 0.70",
         "line": {
          "color": "#B6E880",
          "dash": "solid"
         },
         "marker": {
          "symbol": "circle"
         },
         "mode": "lines",
         "name": "eps_adv = 0.70",
         "orientation": "v",
         "showlegend": true,
         "type": "scatter",
         "x": [
          0,
          250,
          500,
          750,
          1000,
          1250,
          1500,
          1750,
          2000,
          2250,
          2500,
          2750,
          3000,
          3250,
          3500,
          3750,
          4000,
          4250,
          4500,
          4750,
          5000,
          5250,
          5500,
          5750,
          6000,
          6250,
          6500,
          6750,
          7000,
          7250,
          7500,
          7750,
          8000,
          8250,
          8500,
          8750,
          9000,
          9250,
          9500,
          9750,
          10000,
          10250,
          10500,
          10750,
          11000,
          11250,
          11500,
          11750,
          12000,
          12250,
          12500,
          12750,
          13000,
          13250,
          13500,
          13750,
          14000,
          14250,
          14500,
          14750,
          15000,
          15250,
          15500,
          15750,
          16000,
          16250,
          16500,
          16750,
          17000,
          17250,
          17500,
          17750,
          18000,
          18250,
          18500,
          18750,
          19000,
          19250,
          19500,
          19750
         ],
         "xaxis": "x",
         "y": [
          -0.368,
          -0.272,
          -0.192,
          -0.24,
          -0.336,
          -0.168,
          -0.12,
          -0.024,
          0.008,
          -0.136,
          -0.032,
          -0.056,
          0.088,
          0.12,
          0.208,
          0.16,
          0.152,
          0.192,
          0.256,
          0.264,
          0.312,
          0.312,
          0.384,
          0.472,
          0.376,
          0.384,
          0.52,
          0.568,
          0.504,
          0.648,
          0.64,
          0.608,
          0.576,
          0.552,
          0.56,
          0.528,
          0.552,
          0.6,
          0.568,
          0.632,
          0.664,
          0.544,
          0.592,
          0.608,
          0.672,
          0.64,
          0.688,
          0.6,
          0.64,
          0.544,
          0.544,
          0.656,
          0.52,
          0.616,
          0.616,
          0.616,
          0.68,
          0.592,
          0.656,
          0.496,
          0.672,
          0.592,
          0.672,
          0.632,
          0.648,
          0.592,
          0.648,
          0.592,
          0.616,
          0.632,
          0.624,
          0.616,
          0.688,
          0.68,
          0.52,
          0.68,
          0.616,
          0.568,
          0.656,
          0.696
         ],
         "yaxis": "y"
        },
        {
         "hovertemplate": "variable=eps_adv = 0.80<br>Games played=%{x}<br>value=%{y}<extra></extra>",
         "legendgroup": "eps_adv = 0.80",
         "line": {
          "color": "#FF97FF",
          "dash": "solid"
         },
         "marker": {
          "symbol": "circle"
         },
         "mode": "lines",
         "name": "eps_adv = 0.80",
         "orientation": "v",
         "showlegend": true,
         "type": "scatter",
         "x": [
          0,
          250,
          500,
          750,
          1000,
          1250,
          1500,
          1750,
          2000,
          2250,
          2500,
          2750,
          3000,
          3250,
          3500,
          3750,
          4000,
          4250,
          4500,
          4750,
          5000,
          5250,
          5500,
          5750,
          6000,
          6250,
          6500,
          6750,
          7000,
          7250,
          7500,
          7750,
          8000,
          8250,
          8500,
          8750,
          9000,
          9250,
          9500,
          9750,
          10000,
          10250,
          10500,
          10750,
          11000,
          11250,
          11500,
          11750,
          12000,
          12250,
          12500,
          12750,
          13000,
          13250,
          13500,
          13750,
          14000,
          14250,
          14500,
          14750,
          15000,
          15250,
          15500,
          15750,
          16000,
          16250,
          16500,
          16750,
          17000,
          17250,
          17500,
          17750,
          18000,
          18250,
          18500,
          18750,
          19000,
          19250,
          19500,
          19750
         ],
         "xaxis": "x",
         "y": [
          -0.328,
          -0.184,
          0.016,
          0.04,
          0.048,
          0.088,
          -0.08,
          0.152,
          0.144,
          0.016,
          0.008,
          0.176,
          0.152,
          0.352,
          0.2,
          0.32,
          0.36,
          0.344,
          0.408,
          0.464,
          0.44,
          0.448,
          0.424,
          0.448,
          0.632,
          0.528,
          0.608,
          0.544,
          0.656,
          0.608,
          0.504,
          0.64,
          0.736,
          0.632,
          0.608,
          0.648,
          0.584,
          0.704,
          0.6,
          0.656,
          0.68,
          0.72,
          0.68,
          0.76,
          0.712,
          0.68,
          0.696,
          0.664,
          0.72,
          0.744,
          0.616,
          0.672,
          0.688,
          0.624,
          0.6,
          0.6,
          0.672,
          0.68,
          0.6,
          0.744,
          0.68,
          0.656,
          0.672,
          0.648,
          0.696,
          0.728,
          0.672,
          0.656,
          0.664,
          0.72,
          0.648,
          0.704,
          0.704,
          0.592,
          0.648,
          0.744,
          0.696,
          0.68,
          0.72,
          0.664
         ],
         "yaxis": "y"
        },
        {
         "hovertemplate": "variable=eps_adv = 0.90<br>Games played=%{x}<br>value=%{y}<extra></extra>",
         "legendgroup": "eps_adv = 0.90",
         "line": {
          "color": "#FECB52",
          "dash": "solid"
         },
         "marker": {
          "symbol": "circle"
         },
         "mode": "lines",
         "name": "eps_adv = 0.90",
         "orientation": "v",
         "showlegend": true,
         "type": "scatter",
         "x": [
          0,
          250,
          500,
          750,
          1000,
          1250,
          1500,
          1750,
          2000,
          2250,
          2500,
          2750,
          3000,
          3250,
          3500,
          3750,
          4000,
          4250,
          4500,
          4750,
          5000,
          5250,
          5500,
          5750,
          6000,
          6250,
          6500,
          6750,
          7000,
          7250,
          7500,
          7750,
          8000,
          8250,
          8500,
          8750,
          9000,
          9250,
          9500,
          9750,
          10000,
          10250,
          10500,
          10750,
          11000,
          11250,
          11500,
          11750,
          12000,
          12250,
          12500,
          12750,
          13000,
          13250,
          13500,
          13750,
          14000,
          14250,
          14500,
          14750,
          15000,
          15250,
          15500,
          15750,
          16000,
          16250,
          16500,
          16750,
          17000,
          17250,
          17500,
          17750,
          18000,
          18250,
          18500,
          18750,
          19000,
          19250,
          19500,
          19750
         ],
         "xaxis": "x",
         "y": [
          -0.256,
          -0.128,
          0.024,
          0.088,
          -0.032,
          0.08,
          0.072,
          0.12,
          0.128,
          0.216,
          0.32,
          0.272,
          0.192,
          0.28,
          0.352,
          0.4,
          0.456,
          0.408,
          0.536,
          0.376,
          0.488,
          0.576,
          0.552,
          0.472,
          0.552,
          0.6,
          0.656,
          0.568,
          0.728,
          0.672,
          0.656,
          0.696,
          0.736,
          0.728,
          0.824,
          0.68,
          0.792,
          0.792,
          0.712,
          0.68,
          0.784,
          0.744,
          0.792,
          0.72,
          0.704,
          0.712,
          0.624,
          0.688,
          0.736,
          0.72,
          0.704,
          0.736,
          0.752,
          0.72,
          0.688,
          0.632,
          0.8,
          0.72,
          0.784,
          0.712,
          0.72,
          0.768,
          0.712,
          0.72,
          0.736,
          0.744,
          0.792,
          0.728,
          0.672,
          0.64,
          0.68,
          0.736,
          0.776,
          0.728,
          0.696,
          0.8,
          0.784,
          0.68,
          0.808,
          0.824
         ],
         "yaxis": "y"
        },
        {
         "hovertemplate": "variable=eps_adv = 1.00<br>Games played=%{x}<br>value=%{y}<extra></extra>",
         "legendgroup": "eps_adv = 1.00",
         "line": {
          "color": "#636efa",
          "dash": "solid"
         },
         "marker": {
          "symbol": "circle"
         },
         "mode": "lines",
         "name": "eps_adv = 1.00",
         "orientation": "v",
         "showlegend": true,
         "type": "scatter",
         "x": [
          0,
          250,
          500,
          750,
          1000,
          1250,
          1500,
          1750,
          2000,
          2250,
          2500,
          2750,
          3000,
          3250,
          3500,
          3750,
          4000,
          4250,
          4500,
          4750,
          5000,
          5250,
          5500,
          5750,
          6000,
          6250,
          6500,
          6750,
          7000,
          7250,
          7500,
          7750,
          8000,
          8250,
          8500,
          8750,
          9000,
          9250,
          9500,
          9750,
          10000,
          10250,
          10500,
          10750,
          11000,
          11250,
          11500,
          11750,
          12000,
          12250,
          12500,
          12750,
          13000,
          13250,
          13500,
          13750,
          14000,
          14250,
          14500,
          14750,
          15000,
          15250,
          15500,
          15750,
          16000,
          16250,
          16500,
          16750,
          17000,
          17250,
          17500,
          17750,
          18000,
          18250,
          18500,
          18750,
          19000,
          19250,
          19500,
          19750
         ],
         "xaxis": "x",
         "y": [
          -0.08,
          0,
          0.176,
          0.216,
          0.088,
          0.224,
          0.344,
          0.192,
          0.152,
          0.4,
          0.288,
          0.352,
          0.344,
          0.448,
          0.376,
          0.352,
          0.464,
          0.464,
          0.496,
          0.424,
          0.6,
          0.584,
          0.616,
          0.696,
          0.696,
          0.68,
          0.768,
          0.76,
          0.832,
          0.816,
          0.744,
          0.76,
          0.728,
          0.768,
          0.696,
          0.768,
          0.816,
          0.72,
          0.76,
          0.784,
          0.744,
          0.76,
          0.808,
          0.776,
          0.64,
          0.768,
          0.8,
          0.784,
          0.768,
          0.792,
          0.712,
          0.76,
          0.8,
          0.808,
          0.776,
          0.816,
          0.696,
          0.768,
          0.816,
          0.84,
          0.832,
          0.856,
          0.784,
          0.76,
          0.8,
          0.76,
          0.72,
          0.84,
          0.784,
          0.752,
          0.768,
          0.848,
          0.752,
          0.848,
          0.872,
          0.704,
          0.744,
          0.792,
          0.824,
          0.792
         ],
         "yaxis": "y"
        }
       ],
       "layout": {
        "legend": {
         "title": {
          "text": "variable"
         },
         "tracegroupgap": 0
        },
        "template": {
         "data": {
          "bar": [
           {
            "error_x": {
             "color": "#2a3f5f"
            },
            "error_y": {
             "color": "#2a3f5f"
            },
            "marker": {
             "line": {
              "color": "#E5ECF6",
              "width": 0.5
             },
             "pattern": {
              "fillmode": "overlay",
              "size": 10,
              "solidity": 0.2
             }
            },
            "type": "bar"
           }
          ],
          "barpolar": [
           {
            "marker": {
             "line": {
              "color": "#E5ECF6",
              "width": 0.5
             },
             "pattern": {
              "fillmode": "overlay",
              "size": 10,
              "solidity": 0.2
             }
            },
            "type": "barpolar"
           }
          ],
          "carpet": [
           {
            "aaxis": {
             "endlinecolor": "#2a3f5f",
             "gridcolor": "white",
             "linecolor": "white",
             "minorgridcolor": "white",
             "startlinecolor": "#2a3f5f"
            },
            "baxis": {
             "endlinecolor": "#2a3f5f",
             "gridcolor": "white",
             "linecolor": "white",
             "minorgridcolor": "white",
             "startlinecolor": "#2a3f5f"
            },
            "type": "carpet"
           }
          ],
          "choropleth": [
           {
            "colorbar": {
             "outlinewidth": 0,
             "ticks": ""
            },
            "type": "choropleth"
           }
          ],
          "contour": [
           {
            "colorbar": {
             "outlinewidth": 0,
             "ticks": ""
            },
            "colorscale": [
             [
              0,
              "#0d0887"
             ],
             [
              0.1111111111111111,
              "#46039f"
             ],
             [
              0.2222222222222222,
              "#7201a8"
             ],
             [
              0.3333333333333333,
              "#9c179e"
             ],
             [
              0.4444444444444444,
              "#bd3786"
             ],
             [
              0.5555555555555556,
              "#d8576b"
             ],
             [
              0.6666666666666666,
              "#ed7953"
             ],
             [
              0.7777777777777778,
              "#fb9f3a"
             ],
             [
              0.8888888888888888,
              "#fdca26"
             ],
             [
              1,
              "#f0f921"
             ]
            ],
            "type": "contour"
           }
          ],
          "contourcarpet": [
           {
            "colorbar": {
             "outlinewidth": 0,
             "ticks": ""
            },
            "type": "contourcarpet"
           }
          ],
          "heatmap": [
           {
            "colorbar": {
             "outlinewidth": 0,
             "ticks": ""
            },
            "colorscale": [
             [
              0,
              "#0d0887"
             ],
             [
              0.1111111111111111,
              "#46039f"
             ],
             [
              0.2222222222222222,
              "#7201a8"
             ],
             [
              0.3333333333333333,
              "#9c179e"
             ],
             [
              0.4444444444444444,
              "#bd3786"
             ],
             [
              0.5555555555555556,
              "#d8576b"
             ],
             [
              0.6666666666666666,
              "#ed7953"
             ],
             [
              0.7777777777777778,
              "#fb9f3a"
             ],
             [
              0.8888888888888888,
              "#fdca26"
             ],
             [
              1,
              "#f0f921"
             ]
            ],
            "type": "heatmap"
           }
          ],
          "heatmapgl": [
           {
            "colorbar": {
             "outlinewidth": 0,
             "ticks": ""
            },
            "colorscale": [
             [
              0,
              "#0d0887"
             ],
             [
              0.1111111111111111,
              "#46039f"
             ],
             [
              0.2222222222222222,
              "#7201a8"
             ],
             [
              0.3333333333333333,
              "#9c179e"
             ],
             [
              0.4444444444444444,
              "#bd3786"
             ],
             [
              0.5555555555555556,
              "#d8576b"
             ],
             [
              0.6666666666666666,
              "#ed7953"
             ],
             [
              0.7777777777777778,
              "#fb9f3a"
             ],
             [
              0.8888888888888888,
              "#fdca26"
             ],
             [
              1,
              "#f0f921"
             ]
            ],
            "type": "heatmapgl"
           }
          ],
          "histogram": [
           {
            "marker": {
             "pattern": {
              "fillmode": "overlay",
              "size": 10,
              "solidity": 0.2
             }
            },
            "type": "histogram"
           }
          ],
          "histogram2d": [
           {
            "colorbar": {
             "outlinewidth": 0,
             "ticks": ""
            },
            "colorscale": [
             [
              0,
              "#0d0887"
             ],
             [
              0.1111111111111111,
              "#46039f"
             ],
             [
              0.2222222222222222,
              "#7201a8"
             ],
             [
              0.3333333333333333,
              "#9c179e"
             ],
             [
              0.4444444444444444,
              "#bd3786"
             ],
             [
              0.5555555555555556,
              "#d8576b"
             ],
             [
              0.6666666666666666,
              "#ed7953"
             ],
             [
              0.7777777777777778,
              "#fb9f3a"
             ],
             [
              0.8888888888888888,
              "#fdca26"
             ],
             [
              1,
              "#f0f921"
             ]
            ],
            "type": "histogram2d"
           }
          ],
          "histogram2dcontour": [
           {
            "colorbar": {
             "outlinewidth": 0,
             "ticks": ""
            },
            "colorscale": [
             [
              0,
              "#0d0887"
             ],
             [
              0.1111111111111111,
              "#46039f"
             ],
             [
              0.2222222222222222,
              "#7201a8"
             ],
             [
              0.3333333333333333,
              "#9c179e"
             ],
             [
              0.4444444444444444,
              "#bd3786"
             ],
             [
              0.5555555555555556,
              "#d8576b"
             ],
             [
              0.6666666666666666,
              "#ed7953"
             ],
             [
              0.7777777777777778,
              "#fb9f3a"
             ],
             [
              0.8888888888888888,
              "#fdca26"
             ],
             [
              1,
              "#f0f921"
             ]
            ],
            "type": "histogram2dcontour"
           }
          ],
          "mesh3d": [
           {
            "colorbar": {
             "outlinewidth": 0,
             "ticks": ""
            },
            "type": "mesh3d"
           }
          ],
          "parcoords": [
           {
            "line": {
             "colorbar": {
              "outlinewidth": 0,
              "ticks": ""
             }
            },
            "type": "parcoords"
           }
          ],
          "pie": [
           {
            "automargin": true,
            "type": "pie"
           }
          ],
          "scatter": [
           {
            "fillpattern": {
             "fillmode": "overlay",
             "size": 10,
             "solidity": 0.2
            },
            "type": "scatter"
           }
          ],
          "scatter3d": [
           {
            "line": {
             "colorbar": {
              "outlinewidth": 0,
              "ticks": ""
             }
            },
            "marker": {
             "colorbar": {
              "outlinewidth": 0,
              "ticks": ""
             }
            },
            "type": "scatter3d"
           }
          ],
          "scattercarpet": [
           {
            "marker": {
             "colorbar": {
              "outlinewidth": 0,
              "ticks": ""
             }
            },
            "type": "scattercarpet"
           }
          ],
          "scattergeo": [
           {
            "marker": {
             "colorbar": {
              "outlinewidth": 0,
              "ticks": ""
             }
            },
            "type": "scattergeo"
           }
          ],
          "scattergl": [
           {
            "marker": {
             "colorbar": {
              "outlinewidth": 0,
              "ticks": ""
             }
            },
            "type": "scattergl"
           }
          ],
          "scattermapbox": [
           {
            "marker": {
             "colorbar": {
              "outlinewidth": 0,
              "ticks": ""
             }
            },
            "type": "scattermapbox"
           }
          ],
          "scatterpolar": [
           {
            "marker": {
             "colorbar": {
              "outlinewidth": 0,
              "ticks": ""
             }
            },
            "type": "scatterpolar"
           }
          ],
          "scatterpolargl": [
           {
            "marker": {
             "colorbar": {
              "outlinewidth": 0,
              "ticks": ""
             }
            },
            "type": "scatterpolargl"
           }
          ],
          "scatterternary": [
           {
            "marker": {
             "colorbar": {
              "outlinewidth": 0,
              "ticks": ""
             }
            },
            "type": "scatterternary"
           }
          ],
          "surface": [
           {
            "colorbar": {
             "outlinewidth": 0,
             "ticks": ""
            },
            "colorscale": [
             [
              0,
              "#0d0887"
             ],
             [
              0.1111111111111111,
              "#46039f"
             ],
             [
              0.2222222222222222,
              "#7201a8"
             ],
             [
              0.3333333333333333,
              "#9c179e"
             ],
             [
              0.4444444444444444,
              "#bd3786"
             ],
             [
              0.5555555555555556,
              "#d8576b"
             ],
             [
              0.6666666666666666,
              "#ed7953"
             ],
             [
              0.7777777777777778,
              "#fb9f3a"
             ],
             [
              0.8888888888888888,
              "#fdca26"
             ],
             [
              1,
              "#f0f921"
             ]
            ],
            "type": "surface"
           }
          ],
          "table": [
           {
            "cells": {
             "fill": {
              "color": "#EBF0F8"
             },
             "line": {
              "color": "white"
             }
            },
            "header": {
             "fill": {
              "color": "#C8D4E3"
             },
             "line": {
              "color": "white"
             }
            },
            "type": "table"
           }
          ]
         },
         "layout": {
          "annotationdefaults": {
           "arrowcolor": "#2a3f5f",
           "arrowhead": 0,
           "arrowwidth": 1
          },
          "autotypenumbers": "strict",
          "coloraxis": {
           "colorbar": {
            "outlinewidth": 0,
            "ticks": ""
           }
          },
          "colorscale": {
           "diverging": [
            [
             0,
             "#8e0152"
            ],
            [
             0.1,
             "#c51b7d"
            ],
            [
             0.2,
             "#de77ae"
            ],
            [
             0.3,
             "#f1b6da"
            ],
            [
             0.4,
             "#fde0ef"
            ],
            [
             0.5,
             "#f7f7f7"
            ],
            [
             0.6,
             "#e6f5d0"
            ],
            [
             0.7,
             "#b8e186"
            ],
            [
             0.8,
             "#7fbc41"
            ],
            [
             0.9,
             "#4d9221"
            ],
            [
             1,
             "#276419"
            ]
           ],
           "sequential": [
            [
             0,
             "#0d0887"
            ],
            [
             0.1111111111111111,
             "#46039f"
            ],
            [
             0.2222222222222222,
             "#7201a8"
            ],
            [
             0.3333333333333333,
             "#9c179e"
            ],
            [
             0.4444444444444444,
             "#bd3786"
            ],
            [
             0.5555555555555556,
             "#d8576b"
            ],
            [
             0.6666666666666666,
             "#ed7953"
            ],
            [
             0.7777777777777778,
             "#fb9f3a"
            ],
            [
             0.8888888888888888,
             "#fdca26"
            ],
            [
             1,
             "#f0f921"
            ]
           ],
           "sequentialminus": [
            [
             0,
             "#0d0887"
            ],
            [
             0.1111111111111111,
             "#46039f"
            ],
            [
             0.2222222222222222,
             "#7201a8"
            ],
            [
             0.3333333333333333,
             "#9c179e"
            ],
            [
             0.4444444444444444,
             "#bd3786"
            ],
            [
             0.5555555555555556,
             "#d8576b"
            ],
            [
             0.6666666666666666,
             "#ed7953"
            ],
            [
             0.7777777777777778,
             "#fb9f3a"
            ],
            [
             0.8888888888888888,
             "#fdca26"
            ],
            [
             1,
             "#f0f921"
            ]
           ]
          },
          "colorway": [
           "#636efa",
           "#EF553B",
           "#00cc96",
           "#ab63fa",
           "#FFA15A",
           "#19d3f3",
           "#FF6692",
           "#B6E880",
           "#FF97FF",
           "#FECB52"
          ],
          "font": {
           "color": "#2a3f5f"
          },
          "geo": {
           "bgcolor": "white",
           "lakecolor": "white",
           "landcolor": "#E5ECF6",
           "showlakes": true,
           "showland": true,
           "subunitcolor": "white"
          },
          "hoverlabel": {
           "align": "left"
          },
          "hovermode": "closest",
          "mapbox": {
           "style": "light"
          },
          "paper_bgcolor": "white",
          "plot_bgcolor": "#E5ECF6",
          "polar": {
           "angularaxis": {
            "gridcolor": "white",
            "linecolor": "white",
            "ticks": ""
           },
           "bgcolor": "#E5ECF6",
           "radialaxis": {
            "gridcolor": "white",
            "linecolor": "white",
            "ticks": ""
           }
          },
          "scene": {
           "xaxis": {
            "backgroundcolor": "#E5ECF6",
            "gridcolor": "white",
            "gridwidth": 2,
            "linecolor": "white",
            "showbackground": true,
            "ticks": "",
            "zerolinecolor": "white"
           },
           "yaxis": {
            "backgroundcolor": "#E5ECF6",
            "gridcolor": "white",
            "gridwidth": 2,
            "linecolor": "white",
            "showbackground": true,
            "ticks": "",
            "zerolinecolor": "white"
           },
           "zaxis": {
            "backgroundcolor": "#E5ECF6",
            "gridcolor": "white",
            "gridwidth": 2,
            "linecolor": "white",
            "showbackground": true,
            "ticks": "",
            "zerolinecolor": "white"
           }
          },
          "shapedefaults": {
           "line": {
            "color": "#2a3f5f"
           }
          },
          "ternary": {
           "aaxis": {
            "gridcolor": "white",
            "linecolor": "white",
            "ticks": ""
           },
           "baxis": {
            "gridcolor": "white",
            "linecolor": "white",
            "ticks": ""
           },
           "bgcolor": "#E5ECF6",
           "caxis": {
            "gridcolor": "white",
            "linecolor": "white",
            "ticks": ""
           }
          },
          "title": {
           "x": 0.05
          },
          "xaxis": {
           "automargin": true,
           "gridcolor": "white",
           "linecolor": "white",
           "ticks": "",
           "title": {
            "standoff": 15
           },
           "zerolinecolor": "white",
           "zerolinewidth": 2
          },
          "yaxis": {
           "automargin": true,
           "gridcolor": "white",
           "linecolor": "white",
           "ticks": "",
           "title": {
            "standoff": 15
           },
           "zerolinecolor": "white",
           "zerolinewidth": 2
          }
         }
        },
        "title": {
         "text": "Training with testing on different adversary's eps values"
        },
        "width": 800,
        "xaxis": {
         "anchor": "y",
         "domain": [
          0,
          1
         ],
         "title": {
          "text": "Games played"
         }
        },
        "yaxis": {
         "anchor": "x",
         "domain": [
          0,
          1
         ],
         "title": {
          "text": "Reward"
         }
        }
       }
      }
     },
     "metadata": {},
     "output_type": "display_data"
    },
    {
     "data": {
      "application/vnd.plotly.v1+json": {
       "config": {
        "plotlyServerURL": "https://plot.ly"
       },
       "data": [
        {
         "hovertemplate": "variable=eps_adv = 0.00<br>Games played=%{x}<br>value=%{y}<extra></extra>",
         "legendgroup": "eps_adv = 0.00",
         "line": {
          "color": "#636efa",
          "dash": "solid"
         },
         "marker": {
          "symbol": "circle"
         },
         "mode": "lines",
         "name": "eps_adv = 0.00",
         "orientation": "v",
         "showlegend": true,
         "type": "scatter",
         "x": [
          0,
          250,
          500,
          750,
          1000,
          1250,
          1500,
          1750,
          2000,
          2250,
          2500,
          2750,
          3000,
          3250,
          3500,
          3750,
          4000,
          4250,
          4500,
          4750,
          5000,
          5250,
          5500,
          5750,
          6000,
          6250,
          6500,
          6750,
          7000,
          7250,
          7500,
          7750,
          8000,
          8250,
          8500,
          8750,
          9000,
          9250,
          9500,
          9750,
          10000,
          10250,
          10500,
          10750,
          11000,
          11250,
          11500,
          11750,
          12000,
          12250,
          12500,
          12750,
          13000,
          13250,
          13500,
          13750,
          14000,
          14250,
          14500,
          14750,
          15000,
          15250,
          15500,
          15750,
          16000,
          16250,
          16500,
          16750,
          17000,
          17250,
          17500,
          17750,
          18000,
          18250,
          18500,
          18750,
          19000,
          19250,
          19500,
          19750
         ],
         "xaxis": "x",
         "y": [
          0.0249311245514792,
          0.003040233265934698,
          0.009706301595776418,
          0.002857579378599583,
          0.011511167483914592,
          0.004318579284618015,
          0.011155397974661025,
          0.003291158893126399,
          0.0073838352224027005,
          0.0034495376778210687,
          0.006946515807361178,
          0.0036980028261287792,
          0.003874612546662994,
          0.0022439980925893113,
          0.0026559115850495942,
          0.0020495622931104786,
          0.0044771142337363245,
          0.003143025485345396,
          0.004095376325391933,
          0.002765297959196923,
          0.004403014537687836,
          0.0026840971212911467,
          0.0037867596332825555,
          0.002022350839531492,
          0.0030268277768571573,
          0.0016334514379439057,
          0.0019269702003523945,
          0.0012960804353007098,
          0.0012884242248440807,
          0.0007127976565541871,
          0.0010221921375359823,
          0.0005561654606837156,
          0.0007203193971839343,
          0.0005321254957468221,
          0.0003550564976831432,
          0.0004469350054212143,
          0.0006013837172018256,
          0.0004563834464510449,
          0.0005231561037112791,
          0.0003341895897740281,
          0.0005580446350997919,
          0.0003407194675047893,
          0.00037901631728039844,
          0.0004618873627026008,
          0.0003368198454538648,
          0.0003800128001069059,
          0.0003716149546682375,
          0.0002907010497621154,
          0.00023588670034466002,
          0.00022129272894984888,
          0.0003125551216199934,
          0.00035130889823187136,
          0.00022014037645166177,
          0.00018802351291748165,
          0.0002475295161326188,
          0.0001892412087244247,
          0.00023350762120140549,
          0.00020206222164283422,
          0.00017933040584756037,
          0.00015199669282725046,
          0.00019011867577357636,
          0.0002955482390337201,
          0.000182499716622054,
          0.00016610408211378336,
          0.00019458124212604023,
          0.00018636702274115377,
          0.00022072456735970817,
          0.0002623852786645907,
          0.00023785454001602017,
          0.00022374763531362506,
          0.00017108345483619688,
          0.00019988053252097392,
          0.00017485287237770962,
          0.00020345832118572412,
          0.00024237666249732586,
          0.0002845941667188874,
          0.00024851405562586944,
          0.00015309901011495338,
          0.00012597044448231173,
          0.00015630189966322667
         ],
         "yaxis": "y"
        },
        {
         "hovertemplate": "variable=eps_adv = 0.10<br>Games played=%{x}<br>value=%{y}<extra></extra>",
         "legendgroup": "eps_adv = 0.10",
         "line": {
          "color": "#EF553B",
          "dash": "solid"
         },
         "marker": {
          "symbol": "circle"
         },
         "mode": "lines",
         "name": "eps_adv = 0.10",
         "orientation": "v",
         "showlegend": true,
         "type": "scatter",
         "x": [
          0,
          250,
          500,
          750,
          1000,
          1250,
          1500,
          1750,
          2000,
          2250,
          2500,
          2750,
          3000,
          3250,
          3500,
          3750,
          4000,
          4250,
          4500,
          4750,
          5000,
          5250,
          5500,
          5750,
          6000,
          6250,
          6500,
          6750,
          7000,
          7250,
          7500,
          7750,
          8000,
          8250,
          8500,
          8750,
          9000,
          9250,
          9500,
          9750,
          10000,
          10250,
          10500,
          10750,
          11000,
          11250,
          11500,
          11750,
          12000,
          12250,
          12500,
          12750,
          13000,
          13250,
          13500,
          13750,
          14000,
          14250,
          14500,
          14750,
          15000,
          15250,
          15500,
          15750,
          16000,
          16250,
          16500,
          16750,
          17000,
          17250,
          17500,
          17750,
          18000,
          18250,
          18500,
          18750,
          19000,
          19250,
          19500,
          19750
         ],
         "xaxis": "x",
         "y": [
          0.04341818807778395,
          0.012201707833697593,
          0.041554945754504885,
          0.030392554340871916,
          0.04203273998660695,
          0.03699626046674032,
          0.041429973462404686,
          0.03650547265219964,
          0.04006279462539568,
          0.03887748386011529,
          0.043513117870078326,
          0.04219381329164408,
          0.04305946831529037,
          0.042015184361506204,
          0.04535854821205958,
          0.04715185567746688,
          0.04851140866839121,
          0.046591438824207784,
          0.04796208994937572,
          0.04653177626360543,
          0.04673333491404501,
          0.046047681056780934,
          0.046824382636370745,
          0.0429095451664526,
          0.045368796410972315,
          0.044253126921517144,
          0.045581838434830824,
          0.04520602431910534,
          0.045305009905007985,
          0.04425201150032945,
          0.043369579216481276,
          0.042005493764389536,
          0.042339595438548316,
          0.04095476635339645,
          0.044558510777899143,
          0.04071603351685283,
          0.042141787033261345,
          0.04030656544838656,
          0.04002300609456564,
          0.03994033610577942,
          0.03922610291688938,
          0.03998408036761385,
          0.03932462414332936,
          0.03798499726306813,
          0.037516211784916126,
          0.03832672116405704,
          0.03523972542959535,
          0.035229295248671084,
          0.03664896552305463,
          0.036355591198790095,
          0.03624635746960227,
          0.03654831759260486,
          0.03754131603970201,
          0.035586634695273955,
          0.036782179441519645,
          0.03539462291947646,
          0.03639598200396415,
          0.036610928040066486,
          0.03602376838580312,
          0.03642606312557326,
          0.03688924576753151,
          0.03689335750216048,
          0.036339372376977805,
          0.03386805171326383,
          0.034791836891053085,
          0.03455721074109628,
          0.03533142672194944,
          0.0326470187428363,
          0.034360740148497416,
          0.03361314489122831,
          0.033160037664029834,
          0.03357470222822235,
          0.03504415488187025,
          0.03342907382231094,
          0.032636148897301806,
          0.031378472446903366,
          0.03377247259721983,
          0.032726984298229886,
          0.0342208764623463,
          0.033432241436224724
         ],
         "yaxis": "y"
        },
        {
         "hovertemplate": "variable=eps_adv = 0.20<br>Games played=%{x}<br>value=%{y}<extra></extra>",
         "legendgroup": "eps_adv = 0.20",
         "line": {
          "color": "#00cc96",
          "dash": "solid"
         },
         "marker": {
          "symbol": "circle"
         },
         "mode": "lines",
         "name": "eps_adv = 0.20",
         "orientation": "v",
         "showlegend": true,
         "type": "scatter",
         "x": [
          0,
          250,
          500,
          750,
          1000,
          1250,
          1500,
          1750,
          2000,
          2250,
          2500,
          2750,
          3000,
          3250,
          3500,
          3750,
          4000,
          4250,
          4500,
          4750,
          5000,
          5250,
          5500,
          5750,
          6000,
          6250,
          6500,
          6750,
          7000,
          7250,
          7500,
          7750,
          8000,
          8250,
          8500,
          8750,
          9000,
          9250,
          9500,
          9750,
          10000,
          10250,
          10500,
          10750,
          11000,
          11250,
          11500,
          11750,
          12000,
          12250,
          12500,
          12750,
          13000,
          13250,
          13500,
          13750,
          14000,
          14250,
          14500,
          14750,
          15000,
          15250,
          15500,
          15750,
          16000,
          16250,
          16500,
          16750,
          17000,
          17250,
          17500,
          17750,
          18000,
          18250,
          18500,
          18750,
          19000,
          19250,
          19500,
          19750
         ],
         "xaxis": "x",
         "y": [
          0.047717728612584824,
          0.020646505211441794,
          0.05720807856845635,
          0.04428091102135293,
          0.05705118683645837,
          0.0501310327806725,
          0.06045689937557298,
          0.05713911938506204,
          0.06269843501604211,
          0.060037694445713836,
          0.06406948165035557,
          0.06302115893188757,
          0.07063276110887341,
          0.06985939478724258,
          0.07268912169674518,
          0.07041575763558532,
          0.07864285148635489,
          0.07997661810846458,
          0.07899770943364613,
          0.08026303139068144,
          0.08418552286315142,
          0.08020201237019846,
          0.08264828200824165,
          0.0798753564828698,
          0.08528250451189565,
          0.08038454247628622,
          0.0818209036103802,
          0.0792378666570945,
          0.0765132517544928,
          0.07165493935525916,
          0.0663364095010269,
          0.06463571997289728,
          0.06405574307413434,
          0.05986325182498266,
          0.06360972125155194,
          0.061833161045113716,
          0.06130926746243702,
          0.059862478677098964,
          0.061231504450455554,
          0.06082587353497123,
          0.05767172932711676,
          0.05877290429786963,
          0.057248220011697486,
          0.057668429433863806,
          0.056651473477549716,
          0.0569105468256245,
          0.0557003975587416,
          0.05267867435111046,
          0.05361810156680143,
          0.05280448438415869,
          0.05190851298330425,
          0.051003234274911435,
          0.050471840719131425,
          0.052058769852097,
          0.04963169022996351,
          0.04775767294210073,
          0.048353658706993013,
          0.049215845624441465,
          0.05019498811095428,
          0.05093011271327023,
          0.050150997034869624,
          0.05097711017260254,
          0.050309788076082614,
          0.05054096299028757,
          0.050390061430010374,
          0.0506479298331373,
          0.05075083626477727,
          0.048316506924437244,
          0.04721217895750322,
          0.04888667038914664,
          0.052420399333151735,
          0.05164498823236977,
          0.051931357478665174,
          0.0538990695635623,
          0.051011415471297186,
          0.048090295195263824,
          0.048474997331807344,
          0.04788143570025259,
          0.04966928944493278,
          0.04761264515095348
         ],
         "yaxis": "y"
        },
        {
         "hovertemplate": "variable=eps_adv = 0.30<br>Games played=%{x}<br>value=%{y}<extra></extra>",
         "legendgroup": "eps_adv = 0.30",
         "line": {
          "color": "#ab63fa",
          "dash": "solid"
         },
         "marker": {
          "symbol": "circle"
         },
         "mode": "lines",
         "name": "eps_adv = 0.30",
         "orientation": "v",
         "showlegend": true,
         "type": "scatter",
         "x": [
          0,
          250,
          500,
          750,
          1000,
          1250,
          1500,
          1750,
          2000,
          2250,
          2500,
          2750,
          3000,
          3250,
          3500,
          3750,
          4000,
          4250,
          4500,
          4750,
          5000,
          5250,
          5500,
          5750,
          6000,
          6250,
          6500,
          6750,
          7000,
          7250,
          7500,
          7750,
          8000,
          8250,
          8500,
          8750,
          9000,
          9250,
          9500,
          9750,
          10000,
          10250,
          10500,
          10750,
          11000,
          11250,
          11500,
          11750,
          12000,
          12250,
          12500,
          12750,
          13000,
          13250,
          13500,
          13750,
          14000,
          14250,
          14500,
          14750,
          15000,
          15250,
          15500,
          15750,
          16000,
          16250,
          16500,
          16750,
          17000,
          17250,
          17500,
          17750,
          18000,
          18250,
          18500,
          18750,
          19000,
          19250,
          19500,
          19750
         ],
         "xaxis": "x",
         "y": [
          0.056070940052438956,
          0.02184755032437015,
          0.07051188872563373,
          0.06104138724881761,
          0.08541587316363618,
          0.08268331568614917,
          0.08873918089579971,
          0.087377503686757,
          0.09375988707134995,
          0.08891805275590346,
          0.0999911588130507,
          0.09968985700599446,
          0.10408245306943353,
          0.10842607373242857,
          0.10610668299174805,
          0.10522069731735988,
          0.10236914284808285,
          0.09695033153061304,
          0.10584791625389851,
          0.10128643246248116,
          0.10259544053461832,
          0.10122860641734276,
          0.10208265763893318,
          0.09992081998369179,
          0.09736006190604736,
          0.0937275542328744,
          0.09279747964681816,
          0.08838008744029294,
          0.08854593335802835,
          0.08632835392059098,
          0.07869543389727672,
          0.07441673937302773,
          0.0751930487431804,
          0.07256641428287386,
          0.06951336543596459,
          0.06719312287966106,
          0.06850348282662487,
          0.06916923347902908,
          0.07026902712290971,
          0.06582591575598289,
          0.06733589047887718,
          0.06540252210714491,
          0.06274422100658787,
          0.06436971356189507,
          0.06442469720195326,
          0.06128965653956701,
          0.06896393085701785,
          0.06608657813006916,
          0.06176706562163653,
          0.061400782096013816,
          0.060562666028804675,
          0.06014419388707173,
          0.060688874601931654,
          0.05944618352069945,
          0.060083202007367754,
          0.05925497606220557,
          0.060835916249786015,
          0.06074937319249979,
          0.061072536164159155,
          0.06119766685417684,
          0.05816969266096966,
          0.0572868454883466,
          0.056067376543658405,
          0.0580576597005909,
          0.058092612347540165,
          0.05639383951407337,
          0.058156174261655126,
          0.05700393898231622,
          0.05464933803536702,
          0.05411406479786895,
          0.053542479000046966,
          0.05547522835537687,
          0.0565600803967554,
          0.056591571299302985,
          0.058160001392495796,
          0.05652785904239863,
          0.06242942566692421,
          0.061268164281977615,
          0.06569380312702844,
          0.06364799091772078
         ],
         "yaxis": "y"
        },
        {
         "hovertemplate": "variable=eps_adv = 0.40<br>Games played=%{x}<br>value=%{y}<extra></extra>",
         "legendgroup": "eps_adv = 0.40",
         "line": {
          "color": "#FFA15A",
          "dash": "solid"
         },
         "marker": {
          "symbol": "circle"
         },
         "mode": "lines",
         "name": "eps_adv = 0.40",
         "orientation": "v",
         "showlegend": true,
         "type": "scatter",
         "x": [
          0,
          250,
          500,
          750,
          1000,
          1250,
          1500,
          1750,
          2000,
          2250,
          2500,
          2750,
          3000,
          3250,
          3500,
          3750,
          4000,
          4250,
          4500,
          4750,
          5000,
          5250,
          5500,
          5750,
          6000,
          6250,
          6500,
          6750,
          7000,
          7250,
          7500,
          7750,
          8000,
          8250,
          8500,
          8750,
          9000,
          9250,
          9500,
          9750,
          10000,
          10250,
          10500,
          10750,
          11000,
          11250,
          11500,
          11750,
          12000,
          12250,
          12500,
          12750,
          13000,
          13250,
          13500,
          13750,
          14000,
          14250,
          14500,
          14750,
          15000,
          15250,
          15500,
          15750,
          16000,
          16250,
          16500,
          16750,
          17000,
          17250,
          17500,
          17750,
          18000,
          18250,
          18500,
          18750,
          19000,
          19250,
          19500,
          19750
         ],
         "xaxis": "x",
         "y": [
          0.059190398764232516,
          0.02356825543329646,
          0.0926583148588539,
          0.09000339380691985,
          0.09233820556155431,
          0.09055697151397503,
          0.10654352571996277,
          0.10368027742731241,
          0.11226059007986842,
          0.1113400792312478,
          0.1112965666939078,
          0.11026017294403934,
          0.11440397409299514,
          0.11350516536107338,
          0.11901333155617634,
          0.11697924497363331,
          0.11725998095966675,
          0.11390538913151754,
          0.11923423135784797,
          0.1153150406820235,
          0.1104457853953628,
          0.10891714159869284,
          0.10212696534385023,
          0.09936373048162056,
          0.1014998296976363,
          0.09710870612881436,
          0.09574375615659851,
          0.09352052014564043,
          0.08658512044342441,
          0.0846391637598612,
          0.07920658818714789,
          0.07603754378704373,
          0.07586262225669262,
          0.07218599020474657,
          0.07253860009156844,
          0.07193896050938295,
          0.07177976575927121,
          0.06919785633356844,
          0.0677078133973792,
          0.06551737428291061,
          0.06715218903238833,
          0.0659289163722425,
          0.0713494059159196,
          0.06867680555882905,
          0.07153361147563708,
          0.06921725346190478,
          0.06337256728644663,
          0.0615595148817489,
          0.05902607777349304,
          0.058144119304062714,
          0.05848317105447789,
          0.058585788752025796,
          0.05290010185214734,
          0.053251433255040434,
          0.056588190380526954,
          0.05586932045958375,
          0.05701415839485633,
          0.05558631288687625,
          0.058063360312365586,
          0.05705713281909434,
          0.06181097565928854,
          0.061283224831711905,
          0.06250693481819179,
          0.061917537261230886,
          0.060604607891130806,
          0.059917087437320035,
          0.06228210952454687,
          0.0610058126205762,
          0.05997652602469498,
          0.05851958754883949,
          0.05627650581589489,
          0.05541381203181253,
          0.058069656634049054,
          0.05588156227532464,
          0.05532232334628185,
          0.055028344723928604,
          0.055309145938934,
          0.0546561958961181,
          0.05515022294542181,
          0.05583217601506436
         ],
         "yaxis": "y"
        },
        {
         "hovertemplate": "variable=eps_adv = 0.50<br>Games played=%{x}<br>value=%{y}<extra></extra>",
         "legendgroup": "eps_adv = 0.50",
         "line": {
          "color": "#19d3f3",
          "dash": "solid"
         },
         "marker": {
          "symbol": "circle"
         },
         "mode": "lines",
         "name": "eps_adv = 0.50",
         "orientation": "v",
         "showlegend": true,
         "type": "scatter",
         "x": [
          0,
          250,
          500,
          750,
          1000,
          1250,
          1500,
          1750,
          2000,
          2250,
          2500,
          2750,
          3000,
          3250,
          3500,
          3750,
          4000,
          4250,
          4500,
          4750,
          5000,
          5250,
          5500,
          5750,
          6000,
          6250,
          6500,
          6750,
          7000,
          7250,
          7500,
          7750,
          8000,
          8250,
          8500,
          8750,
          9000,
          9250,
          9500,
          9750,
          10000,
          10250,
          10500,
          10750,
          11000,
          11250,
          11500,
          11750,
          12000,
          12250,
          12500,
          12750,
          13000,
          13250,
          13500,
          13750,
          14000,
          14250,
          14500,
          14750,
          15000,
          15250,
          15500,
          15750,
          16000,
          16250,
          16500,
          16750,
          17000,
          17250,
          17500,
          17750,
          18000,
          18250,
          18500,
          18750,
          19000,
          19250,
          19500,
          19750
         ],
         "xaxis": "x",
         "y": [
          0.06769775524615086,
          0.031913539744618406,
          0.09787995235739227,
          0.09016482046623107,
          0.10112505981731222,
          0.10070480478706753,
          0.11623065588384987,
          0.11401313590122207,
          0.11499426758305169,
          0.11094582692853042,
          0.12263933250991006,
          0.12084919365183,
          0.12359796744445521,
          0.12221835231319332,
          0.12310613735157358,
          0.12088926118289046,
          0.12269256400687648,
          0.11873271429898045,
          0.11253201761815827,
          0.11040236743142026,
          0.10613004407752746,
          0.1044734159572987,
          0.10728590938507955,
          0.10426943426979252,
          0.09849066197803334,
          0.09419840284615652,
          0.08316045445680412,
          0.07826691539905974,
          0.0804120162177993,
          0.07761077714049154,
          0.07754197839740765,
          0.07609832551846912,
          0.07223493361242107,
          0.06930233962134102,
          0.06426866914929644,
          0.06467331574651702,
          0.06767084631065594,
          0.06697787976588312,
          0.0650476643156612,
          0.06443732411116695,
          0.06639065880781261,
          0.06453270734161272,
          0.06441988155422375,
          0.06217256043703187,
          0.06283702772970383,
          0.06345869112403706,
          0.06503167099420216,
          0.061570077095310656,
          0.06067832957686281,
          0.05731864998364488,
          0.06155282988232512,
          0.060204716166982086,
          0.055396840941706084,
          0.05713123242092306,
          0.05459417808066371,
          0.05414532783481997,
          0.05489658682064258,
          0.05502684776334837,
          0.05809490592655332,
          0.058313680640096205,
          0.052482246412126975,
          0.053041144915463016,
          0.049361254661385204,
          0.048683035568965055,
          0.05006951013433511,
          0.04835416630371166,
          0.05066034991019564,
          0.05223241002814481,
          0.04958347742541823,
          0.05049286877997687,
          0.050641616130032215,
          0.050535326332311996,
          0.05620206035896084,
          0.055381991004230836,
          0.051061602881458765,
          0.050756882651427845,
          0.049683941992843435,
          0.04926104780675455,
          0.05157014521033761,
          0.050014498749126994
         ],
         "yaxis": "y"
        },
        {
         "hovertemplate": "variable=eps_adv = 0.60<br>Games played=%{x}<br>value=%{y}<extra></extra>",
         "legendgroup": "eps_adv = 0.60",
         "line": {
          "color": "#FF6692",
          "dash": "solid"
         },
         "marker": {
          "symbol": "circle"
         },
         "mode": "lines",
         "name": "eps_adv = 0.60",
         "orientation": "v",
         "showlegend": true,
         "type": "scatter",
         "x": [
          0,
          250,
          500,
          750,
          1000,
          1250,
          1500,
          1750,
          2000,
          2250,
          2500,
          2750,
          3000,
          3250,
          3500,
          3750,
          4000,
          4250,
          4500,
          4750,
          5000,
          5250,
          5500,
          5750,
          6000,
          6250,
          6500,
          6750,
          7000,
          7250,
          7500,
          7750,
          8000,
          8250,
          8500,
          8750,
          9000,
          9250,
          9500,
          9750,
          10000,
          10250,
          10500,
          10750,
          11000,
          11250,
          11500,
          11750,
          12000,
          12250,
          12500,
          12750,
          13000,
          13250,
          13500,
          13750,
          14000,
          14250,
          14500,
          14750,
          15000,
          15250,
          15500,
          15750,
          16000,
          16250,
          16500,
          16750,
          17000,
          17250,
          17500,
          17750,
          18000,
          18250,
          18500,
          18750,
          19000,
          19250,
          19500,
          19750
         ],
         "xaxis": "x",
         "y": [
          0.07046487127630094,
          0.03518295428761235,
          0.09319604498900176,
          0.08661860705957772,
          0.11605854190718702,
          0.11391152667970768,
          0.11931608040127661,
          0.117035033213297,
          0.12047861740979927,
          0.11944997252430767,
          0.1255899572538005,
          0.12896235524391642,
          0.12483649893168644,
          0.1229819717602088,
          0.1247472676767407,
          0.12115673600053935,
          0.12743794651437282,
          0.12219125257675038,
          0.11163440329022706,
          0.10702276051595701,
          0.10814248355582116,
          0.10542980435236197,
          0.10228658764419822,
          0.09770034129271846,
          0.09785650940282989,
          0.09377833724347423,
          0.08905493311992604,
          0.08537963771952763,
          0.08326930155057505,
          0.07879598117363343,
          0.0783133532919259,
          0.07703574585982344,
          0.07724072805074887,
          0.07367985625592928,
          0.07066312021373028,
          0.06856002011923706,
          0.06311501627661809,
          0.06171638136272963,
          0.05907675952375175,
          0.05919213038166808,
          0.058043499017565496,
          0.05900970055444703,
          0.05938637661471215,
          0.057081976347938684,
          0.05381559324934734,
          0.054065508066781946,
          0.05751492665066805,
          0.05692374203332512,
          0.057544547908522835,
          0.05702859824704687,
          0.05174599478190595,
          0.05229021985882726,
          0.05390342606413541,
          0.05162200991534224,
          0.05549978820972868,
          0.05332637009107404,
          0.05565018574696603,
          0.052588145449317274,
          0.054816510576763615,
          0.05410139128067639,
          0.05068640006059895,
          0.0511026728449636,
          0.0533279256165229,
          0.05339788605812809,
          0.05106383050124278,
          0.05084469899165231,
          0.05172413686422042,
          0.05012197606369256,
          0.0531237329633194,
          0.05380582475511689,
          0.053534210728818386,
          0.05349831710021212,
          0.05186372761498894,
          0.05054464381190315,
          0.050864907003537775,
          0.050246002871458195,
          0.05040189696770191,
          0.051643153999136875,
          0.04701471951406668,
          0.04734643245620964
         ],
         "yaxis": "y"
        },
        {
         "hovertemplate": "variable=eps_adv = 0.70<br>Games played=%{x}<br>value=%{y}<extra></extra>",
         "legendgroup": "eps_adv = 0.70",
         "line": {
          "color": "#B6E880",
          "dash": "solid"
         },
         "marker": {
          "symbol": "circle"
         },
         "mode": "lines",
         "name": "eps_adv = 0.70",
         "orientation": "v",
         "showlegend": true,
         "type": "scatter",
         "x": [
          0,
          250,
          500,
          750,
          1000,
          1250,
          1500,
          1750,
          2000,
          2250,
          2500,
          2750,
          3000,
          3250,
          3500,
          3750,
          4000,
          4250,
          4500,
          4750,
          5000,
          5250,
          5500,
          5750,
          6000,
          6250,
          6500,
          6750,
          7000,
          7250,
          7500,
          7750,
          8000,
          8250,
          8500,
          8750,
          9000,
          9250,
          9500,
          9750,
          10000,
          10250,
          10500,
          10750,
          11000,
          11250,
          11500,
          11750,
          12000,
          12250,
          12500,
          12750,
          13000,
          13250,
          13500,
          13750,
          14000,
          14250,
          14500,
          14750,
          15000,
          15250,
          15500,
          15750,
          16000,
          16250,
          16500,
          16750,
          17000,
          17250,
          17500,
          17750,
          18000,
          18250,
          18500,
          18750,
          19000,
          19250,
          19500,
          19750
         ],
         "xaxis": "x",
         "y": [
          0.06537706460356713,
          0.030331824731386146,
          0.09669783948497339,
          0.09232032060241088,
          0.1180914338454708,
          0.11362216951433625,
          0.12400143664580641,
          0.12093432256866932,
          0.12146556550761065,
          0.11594243474237031,
          0.12042936402695631,
          0.11770992248486249,
          0.11857303181482899,
          0.11814598262193461,
          0.11389592831660976,
          0.1111197319581424,
          0.1078436111945515,
          0.10066237334372863,
          0.09853203094431333,
          0.09344162690641343,
          0.09844508667126244,
          0.0948635965623243,
          0.0932864892422469,
          0.0890556031537486,
          0.08165179261064838,
          0.07840447572450485,
          0.07913284017889793,
          0.07379612141036467,
          0.07056027488448681,
          0.06858456648981948,
          0.06438424547818851,
          0.06199233356976148,
          0.06004395748293169,
          0.05748252554483344,
          0.05913049380548976,
          0.05688482185109987,
          0.053418601041838855,
          0.050742237895643444,
          0.04894070666092551,
          0.04952715058429463,
          0.0482877326008557,
          0.048608032262521535,
          0.04766326789251145,
          0.048108218075498616,
          0.04428081581705562,
          0.0442434716439438,
          0.047384954025339696,
          0.04650679782344118,
          0.04545585956677971,
          0.045265005107125,
          0.04610882208097389,
          0.04438448684270627,
          0.04661646238562182,
          0.045017208096774286,
          0.04702030941667013,
          0.046824680657583245,
          0.04504835317344759,
          0.046565937163454814,
          0.046864683540116796,
          0.04718414187479488,
          0.0448959838822484,
          0.04504335718441559,
          0.04720861683994462,
          0.04834778415595834,
          0.04688701156894086,
          0.04493433366530751,
          0.04483688264431514,
          0.04414685334444844,
          0.041292033042237775,
          0.039885317991925955,
          0.041322713101908014,
          0.042112512508153545,
          0.04056359080595627,
          0.0393110270316405,
          0.040229200815646404,
          0.041069076419266506,
          0.04065498804571139,
          0.03926654869277337,
          0.04320422284659781,
          0.04222818387496666
         ],
         "yaxis": "y"
        },
        {
         "hovertemplate": "variable=eps_adv = 0.80<br>Games played=%{x}<br>value=%{y}<extra></extra>",
         "legendgroup": "eps_adv = 0.80",
         "line": {
          "color": "#FF97FF",
          "dash": "solid"
         },
         "marker": {
          "symbol": "circle"
         },
         "mode": "lines",
         "name": "eps_adv = 0.80",
         "orientation": "v",
         "showlegend": true,
         "type": "scatter",
         "x": [
          0,
          250,
          500,
          750,
          1000,
          1250,
          1500,
          1750,
          2000,
          2250,
          2500,
          2750,
          3000,
          3250,
          3500,
          3750,
          4000,
          4250,
          4500,
          4750,
          5000,
          5250,
          5500,
          5750,
          6000,
          6250,
          6500,
          6750,
          7000,
          7250,
          7500,
          7750,
          8000,
          8250,
          8500,
          8750,
          9000,
          9250,
          9500,
          9750,
          10000,
          10250,
          10500,
          10750,
          11000,
          11250,
          11500,
          11750,
          12000,
          12250,
          12500,
          12750,
          13000,
          13250,
          13500,
          13750,
          14000,
          14250,
          14500,
          14750,
          15000,
          15250,
          15500,
          15750,
          16000,
          16250,
          16500,
          16750,
          17000,
          17250,
          17500,
          17750,
          18000,
          18250,
          18500,
          18750,
          19000,
          19250,
          19500,
          19750
         ],
         "xaxis": "x",
         "y": [
          0.07013891262795068,
          0.03222401293828564,
          0.0846032100821892,
          0.08443468917631408,
          0.09884090988464604,
          0.09525927682192668,
          0.10650071829850008,
          0.10582400258793774,
          0.10659762862948031,
          0.10527567602500261,
          0.10512525153171737,
          0.10559269711182466,
          0.1084316278771227,
          0.10609132652710265,
          0.10271475798047869,
          0.09765298450934871,
          0.09947811211383951,
          0.09659506140868793,
          0.0866768858825358,
          0.08412398302102628,
          0.08523199919043277,
          0.08308943839909666,
          0.08037079331757041,
          0.07905865444254186,
          0.07448907461451384,
          0.07297955946929645,
          0.07209138839445885,
          0.06789618684149072,
          0.06750318847239731,
          0.0657925792444836,
          0.06658757299138522,
          0.06287382756419517,
          0.05795119438436954,
          0.052527005286751,
          0.05148293179667835,
          0.05133917073155163,
          0.047143885072054297,
          0.045135211939831735,
          0.04824900132088015,
          0.04605420691271623,
          0.04309221948350775,
          0.04367506977499408,
          0.041645548861680516,
          0.03994590419686939,
          0.03931276838969723,
          0.04058167975923488,
          0.04059744648912385,
          0.041045281706178445,
          0.03958124918521015,
          0.03923537958936404,
          0.036623288349502674,
          0.03535901681548735,
          0.03804909310418661,
          0.03748645539183104,
          0.03879085265267798,
          0.04136690903156906,
          0.040316178319447914,
          0.0403470429670165,
          0.0359111755178363,
          0.03614801880199318,
          0.03849756679209393,
          0.037439777494086744,
          0.03789599661154749,
          0.038125790770026036,
          0.03816040562074393,
          0.038184175425985574,
          0.03523037864026738,
          0.035941904255591614,
          0.03765493253564851,
          0.03858269213024014,
          0.03511350864693302,
          0.03599123869383664,
          0.03563245103133391,
          0.036631263194084614,
          0.03703725866670693,
          0.03650050245499604,
          0.034444674594505204,
          0.03604199609494415,
          0.036770750947374684,
          0.03655489406368044
         ],
         "yaxis": "y"
        },
        {
         "hovertemplate": "variable=eps_adv = 0.90<br>Games played=%{x}<br>value=%{y}<extra></extra>",
         "legendgroup": "eps_adv = 0.90",
         "line": {
          "color": "#FECB52",
          "dash": "solid"
         },
         "marker": {
          "symbol": "circle"
         },
         "mode": "lines",
         "name": "eps_adv = 0.90",
         "orientation": "v",
         "showlegend": true,
         "type": "scatter",
         "x": [
          0,
          250,
          500,
          750,
          1000,
          1250,
          1500,
          1750,
          2000,
          2250,
          2500,
          2750,
          3000,
          3250,
          3500,
          3750,
          4000,
          4250,
          4500,
          4750,
          5000,
          5250,
          5500,
          5750,
          6000,
          6250,
          6500,
          6750,
          7000,
          7250,
          7500,
          7750,
          8000,
          8250,
          8500,
          8750,
          9000,
          9250,
          9500,
          9750,
          10000,
          10250,
          10500,
          10750,
          11000,
          11250,
          11500,
          11750,
          12000,
          12250,
          12500,
          12750,
          13000,
          13250,
          13500,
          13750,
          14000,
          14250,
          14500,
          14750,
          15000,
          15250,
          15500,
          15750,
          16000,
          16250,
          16500,
          16750,
          17000,
          17250,
          17500,
          17750,
          18000,
          18250,
          18500,
          18750,
          19000,
          19250,
          19500,
          19750
         ],
         "xaxis": "x",
         "y": [
          0.06839180934492131,
          0.035628387450614134,
          0.08561028313354752,
          0.08330372906173415,
          0.10703907688791282,
          0.10043944707828752,
          0.1053010083392202,
          0.10544270373110114,
          0.10578220328700527,
          0.10495338089046355,
          0.1042488909063813,
          0.10797095395186368,
          0.09927645516839852,
          0.09732859292125795,
          0.09757887968153957,
          0.09378335806589651,
          0.08885661650705955,
          0.08681512420956788,
          0.08142213610713632,
          0.07654675469838534,
          0.07509172242732577,
          0.07402079559258257,
          0.06886783033448246,
          0.06733650334165182,
          0.06425802684406452,
          0.06229052754380263,
          0.05671558734607359,
          0.05371476705244277,
          0.055467081264359876,
          0.051392105935650655,
          0.050139980594785624,
          0.047996248377673564,
          0.04630440577719092,
          0.043843957448180246,
          0.04070774214881483,
          0.03809815226779805,
          0.03718771303494509,
          0.03319486675398617,
          0.030883519893039686,
          0.032011452346552074,
          0.0313070562182455,
          0.030475280941626905,
          0.029600214959724532,
          0.030305423560514102,
          0.030928749377076258,
          0.03202420745075954,
          0.032289504288769706,
          0.03261941103281851,
          0.03355383360014739,
          0.03467944879417441,
          0.03619772908958305,
          0.035734026724775915,
          0.0326220053749849,
          0.03371312262808242,
          0.034774425967439716,
          0.03798096549037014,
          0.03868800206964466,
          0.038665710166844044,
          0.038513795367346525,
          0.03516323399337533,
          0.03469704321839593,
          0.03385045823171004,
          0.03389604659274176,
          0.03295153572311392,
          0.032971504641859675,
          0.032568634067331736,
          0.03253305374221566,
          0.03194543060143952,
          0.030346094795155543,
          0.030302554662756064,
          0.03135015746607961,
          0.03174856344435931,
          0.03188546932147195,
          0.03152810450549723,
          0.0307777230202137,
          0.030825638157693902,
          0.02965598898477971,
          0.030942812668667597,
          0.031740848989452036,
          0.03175470056204648
         ],
         "yaxis": "y"
        },
        {
         "hovertemplate": "variable=eps_adv = 1.00<br>Games played=%{x}<br>value=%{y}<extra></extra>",
         "legendgroup": "eps_adv = 1.00",
         "line": {
          "color": "#636efa",
          "dash": "solid"
         },
         "marker": {
          "symbol": "circle"
         },
         "mode": "lines",
         "name": "eps_adv = 1.00",
         "orientation": "v",
         "showlegend": true,
         "type": "scatter",
         "x": [
          0,
          250,
          500,
          750,
          1000,
          1250,
          1500,
          1750,
          2000,
          2250,
          2500,
          2750,
          3000,
          3250,
          3500,
          3750,
          4000,
          4250,
          4500,
          4750,
          5000,
          5250,
          5500,
          5750,
          6000,
          6250,
          6500,
          6750,
          7000,
          7250,
          7500,
          7750,
          8000,
          8250,
          8500,
          8750,
          9000,
          9250,
          9500,
          9750,
          10000,
          10250,
          10500,
          10750,
          11000,
          11250,
          11500,
          11750,
          12000,
          12250,
          12500,
          12750,
          13000,
          13250,
          13500,
          13750,
          14000,
          14250,
          14500,
          14750,
          15000,
          15250,
          15500,
          15750,
          16000,
          16250,
          16500,
          16750,
          17000,
          17250,
          17500,
          17750,
          18000,
          18250,
          18500,
          18750,
          19000,
          19250,
          19500,
          19750
         ],
         "xaxis": "x",
         "y": [
          0.0661956024009223,
          0.032480579654061745,
          0.10069735506821216,
          0.08806221882782467,
          0.08836443751886876,
          0.08177800741882957,
          0.0827555916214522,
          0.08357628512797982,
          0.08340592087979955,
          0.081476242188,
          0.08736934068684395,
          0.08631046502623947,
          0.0825391480021856,
          0.08061309608565584,
          0.0781618146124297,
          0.07716660252796274,
          0.07515713636409298,
          0.0746058249685899,
          0.07068516965594984,
          0.07060214120715895,
          0.06838887569373485,
          0.06605813124923,
          0.06667344531792813,
          0.061791488762584425,
          0.060408745668681825,
          0.05889464821361727,
          0.05215242159820571,
          0.04989842503578458,
          0.045332945576086914,
          0.04351283269435641,
          0.0397830965887988,
          0.0379108934918782,
          0.03467751793321912,
          0.033393678934923135,
          0.029909619227375672,
          0.0290196773105923,
          0.030577180520862758,
          0.028407763864162452,
          0.029466835273164665,
          0.0299275085406528,
          0.02745850602128397,
          0.027995628441799335,
          0.028204775937649265,
          0.026948050794300887,
          0.026834845800391013,
          0.028239405147710037,
          0.027118277671378057,
          0.025747039927285123,
          0.025812978869888613,
          0.025252328063732732,
          0.02618350813912596,
          0.02573261312529178,
          0.024457465251795634,
          0.025040681180482336,
          0.023935716705226713,
          0.02415558775522144,
          0.02397475579052159,
          0.02343376581881975,
          0.022972815589728073,
          0.022521093521339675,
          0.02272506063388577,
          0.02269574342684818,
          0.021138857657826252,
          0.02217656923170535,
          0.021783273024617644,
          0.024101168099498745,
          0.02360209163934422,
          0.026751925539273216,
          0.024482968379743397,
          0.024527445872152255,
          0.024250049945298842,
          0.0246287553567711,
          0.02472388763430224,
          0.024805523370827972,
          0.025401231058704843,
          0.02436427867895204,
          0.025161415061212323,
          0.025768730192758712,
          0.024009929934939566,
          0.023755342334447038
         ],
         "yaxis": "y"
        }
       ],
       "layout": {
        "legend": {
         "title": {
          "text": "variable"
         },
         "tracegroupgap": 0
        },
        "margin": {
         "t": 60
        },
        "template": {
         "data": {
          "bar": [
           {
            "error_x": {
             "color": "#2a3f5f"
            },
            "error_y": {
             "color": "#2a3f5f"
            },
            "marker": {
             "line": {
              "color": "#E5ECF6",
              "width": 0.5
             },
             "pattern": {
              "fillmode": "overlay",
              "size": 10,
              "solidity": 0.2
             }
            },
            "type": "bar"
           }
          ],
          "barpolar": [
           {
            "marker": {
             "line": {
              "color": "#E5ECF6",
              "width": 0.5
             },
             "pattern": {
              "fillmode": "overlay",
              "size": 10,
              "solidity": 0.2
             }
            },
            "type": "barpolar"
           }
          ],
          "carpet": [
           {
            "aaxis": {
             "endlinecolor": "#2a3f5f",
             "gridcolor": "white",
             "linecolor": "white",
             "minorgridcolor": "white",
             "startlinecolor": "#2a3f5f"
            },
            "baxis": {
             "endlinecolor": "#2a3f5f",
             "gridcolor": "white",
             "linecolor": "white",
             "minorgridcolor": "white",
             "startlinecolor": "#2a3f5f"
            },
            "type": "carpet"
           }
          ],
          "choropleth": [
           {
            "colorbar": {
             "outlinewidth": 0,
             "ticks": ""
            },
            "type": "choropleth"
           }
          ],
          "contour": [
           {
            "colorbar": {
             "outlinewidth": 0,
             "ticks": ""
            },
            "colorscale": [
             [
              0,
              "#0d0887"
             ],
             [
              0.1111111111111111,
              "#46039f"
             ],
             [
              0.2222222222222222,
              "#7201a8"
             ],
             [
              0.3333333333333333,
              "#9c179e"
             ],
             [
              0.4444444444444444,
              "#bd3786"
             ],
             [
              0.5555555555555556,
              "#d8576b"
             ],
             [
              0.6666666666666666,
              "#ed7953"
             ],
             [
              0.7777777777777778,
              "#fb9f3a"
             ],
             [
              0.8888888888888888,
              "#fdca26"
             ],
             [
              1,
              "#f0f921"
             ]
            ],
            "type": "contour"
           }
          ],
          "contourcarpet": [
           {
            "colorbar": {
             "outlinewidth": 0,
             "ticks": ""
            },
            "type": "contourcarpet"
           }
          ],
          "heatmap": [
           {
            "colorbar": {
             "outlinewidth": 0,
             "ticks": ""
            },
            "colorscale": [
             [
              0,
              "#0d0887"
             ],
             [
              0.1111111111111111,
              "#46039f"
             ],
             [
              0.2222222222222222,
              "#7201a8"
             ],
             [
              0.3333333333333333,
              "#9c179e"
             ],
             [
              0.4444444444444444,
              "#bd3786"
             ],
             [
              0.5555555555555556,
              "#d8576b"
             ],
             [
              0.6666666666666666,
              "#ed7953"
             ],
             [
              0.7777777777777778,
              "#fb9f3a"
             ],
             [
              0.8888888888888888,
              "#fdca26"
             ],
             [
              1,
              "#f0f921"
             ]
            ],
            "type": "heatmap"
           }
          ],
          "heatmapgl": [
           {
            "colorbar": {
             "outlinewidth": 0,
             "ticks": ""
            },
            "colorscale": [
             [
              0,
              "#0d0887"
             ],
             [
              0.1111111111111111,
              "#46039f"
             ],
             [
              0.2222222222222222,
              "#7201a8"
             ],
             [
              0.3333333333333333,
              "#9c179e"
             ],
             [
              0.4444444444444444,
              "#bd3786"
             ],
             [
              0.5555555555555556,
              "#d8576b"
             ],
             [
              0.6666666666666666,
              "#ed7953"
             ],
             [
              0.7777777777777778,
              "#fb9f3a"
             ],
             [
              0.8888888888888888,
              "#fdca26"
             ],
             [
              1,
              "#f0f921"
             ]
            ],
            "type": "heatmapgl"
           }
          ],
          "histogram": [
           {
            "marker": {
             "pattern": {
              "fillmode": "overlay",
              "size": 10,
              "solidity": 0.2
             }
            },
            "type": "histogram"
           }
          ],
          "histogram2d": [
           {
            "colorbar": {
             "outlinewidth": 0,
             "ticks": ""
            },
            "colorscale": [
             [
              0,
              "#0d0887"
             ],
             [
              0.1111111111111111,
              "#46039f"
             ],
             [
              0.2222222222222222,
              "#7201a8"
             ],
             [
              0.3333333333333333,
              "#9c179e"
             ],
             [
              0.4444444444444444,
              "#bd3786"
             ],
             [
              0.5555555555555556,
              "#d8576b"
             ],
             [
              0.6666666666666666,
              "#ed7953"
             ],
             [
              0.7777777777777778,
              "#fb9f3a"
             ],
             [
              0.8888888888888888,
              "#fdca26"
             ],
             [
              1,
              "#f0f921"
             ]
            ],
            "type": "histogram2d"
           }
          ],
          "histogram2dcontour": [
           {
            "colorbar": {
             "outlinewidth": 0,
             "ticks": ""
            },
            "colorscale": [
             [
              0,
              "#0d0887"
             ],
             [
              0.1111111111111111,
              "#46039f"
             ],
             [
              0.2222222222222222,
              "#7201a8"
             ],
             [
              0.3333333333333333,
              "#9c179e"
             ],
             [
              0.4444444444444444,
              "#bd3786"
             ],
             [
              0.5555555555555556,
              "#d8576b"
             ],
             [
              0.6666666666666666,
              "#ed7953"
             ],
             [
              0.7777777777777778,
              "#fb9f3a"
             ],
             [
              0.8888888888888888,
              "#fdca26"
             ],
             [
              1,
              "#f0f921"
             ]
            ],
            "type": "histogram2dcontour"
           }
          ],
          "mesh3d": [
           {
            "colorbar": {
             "outlinewidth": 0,
             "ticks": ""
            },
            "type": "mesh3d"
           }
          ],
          "parcoords": [
           {
            "line": {
             "colorbar": {
              "outlinewidth": 0,
              "ticks": ""
             }
            },
            "type": "parcoords"
           }
          ],
          "pie": [
           {
            "automargin": true,
            "type": "pie"
           }
          ],
          "scatter": [
           {
            "fillpattern": {
             "fillmode": "overlay",
             "size": 10,
             "solidity": 0.2
            },
            "type": "scatter"
           }
          ],
          "scatter3d": [
           {
            "line": {
             "colorbar": {
              "outlinewidth": 0,
              "ticks": ""
             }
            },
            "marker": {
             "colorbar": {
              "outlinewidth": 0,
              "ticks": ""
             }
            },
            "type": "scatter3d"
           }
          ],
          "scattercarpet": [
           {
            "marker": {
             "colorbar": {
              "outlinewidth": 0,
              "ticks": ""
             }
            },
            "type": "scattercarpet"
           }
          ],
          "scattergeo": [
           {
            "marker": {
             "colorbar": {
              "outlinewidth": 0,
              "ticks": ""
             }
            },
            "type": "scattergeo"
           }
          ],
          "scattergl": [
           {
            "marker": {
             "colorbar": {
              "outlinewidth": 0,
              "ticks": ""
             }
            },
            "type": "scattergl"
           }
          ],
          "scattermapbox": [
           {
            "marker": {
             "colorbar": {
              "outlinewidth": 0,
              "ticks": ""
             }
            },
            "type": "scattermapbox"
           }
          ],
          "scatterpolar": [
           {
            "marker": {
             "colorbar": {
              "outlinewidth": 0,
              "ticks": ""
             }
            },
            "type": "scatterpolar"
           }
          ],
          "scatterpolargl": [
           {
            "marker": {
             "colorbar": {
              "outlinewidth": 0,
              "ticks": ""
             }
            },
            "type": "scatterpolargl"
           }
          ],
          "scatterternary": [
           {
            "marker": {
             "colorbar": {
              "outlinewidth": 0,
              "ticks": ""
             }
            },
            "type": "scatterternary"
           }
          ],
          "surface": [
           {
            "colorbar": {
             "outlinewidth": 0,
             "ticks": ""
            },
            "colorscale": [
             [
              0,
              "#0d0887"
             ],
             [
              0.1111111111111111,
              "#46039f"
             ],
             [
              0.2222222222222222,
              "#7201a8"
             ],
             [
              0.3333333333333333,
              "#9c179e"
             ],
             [
              0.4444444444444444,
              "#bd3786"
             ],
             [
              0.5555555555555556,
              "#d8576b"
             ],
             [
              0.6666666666666666,
              "#ed7953"
             ],
             [
              0.7777777777777778,
              "#fb9f3a"
             ],
             [
              0.8888888888888888,
              "#fdca26"
             ],
             [
              1,
              "#f0f921"
             ]
            ],
            "type": "surface"
           }
          ],
          "table": [
           {
            "cells": {
             "fill": {
              "color": "#EBF0F8"
             },
             "line": {
              "color": "white"
             }
            },
            "header": {
             "fill": {
              "color": "#C8D4E3"
             },
             "line": {
              "color": "white"
             }
            },
            "type": "table"
           }
          ]
         },
         "layout": {
          "annotationdefaults": {
           "arrowcolor": "#2a3f5f",
           "arrowhead": 0,
           "arrowwidth": 1
          },
          "autotypenumbers": "strict",
          "coloraxis": {
           "colorbar": {
            "outlinewidth": 0,
            "ticks": ""
           }
          },
          "colorscale": {
           "diverging": [
            [
             0,
             "#8e0152"
            ],
            [
             0.1,
             "#c51b7d"
            ],
            [
             0.2,
             "#de77ae"
            ],
            [
             0.3,
             "#f1b6da"
            ],
            [
             0.4,
             "#fde0ef"
            ],
            [
             0.5,
             "#f7f7f7"
            ],
            [
             0.6,
             "#e6f5d0"
            ],
            [
             0.7,
             "#b8e186"
            ],
            [
             0.8,
             "#7fbc41"
            ],
            [
             0.9,
             "#4d9221"
            ],
            [
             1,
             "#276419"
            ]
           ],
           "sequential": [
            [
             0,
             "#0d0887"
            ],
            [
             0.1111111111111111,
             "#46039f"
            ],
            [
             0.2222222222222222,
             "#7201a8"
            ],
            [
             0.3333333333333333,
             "#9c179e"
            ],
            [
             0.4444444444444444,
             "#bd3786"
            ],
            [
             0.5555555555555556,
             "#d8576b"
            ],
            [
             0.6666666666666666,
             "#ed7953"
            ],
            [
             0.7777777777777778,
             "#fb9f3a"
            ],
            [
             0.8888888888888888,
             "#fdca26"
            ],
            [
             1,
             "#f0f921"
            ]
           ],
           "sequentialminus": [
            [
             0,
             "#0d0887"
            ],
            [
             0.1111111111111111,
             "#46039f"
            ],
            [
             0.2222222222222222,
             "#7201a8"
            ],
            [
             0.3333333333333333,
             "#9c179e"
            ],
            [
             0.4444444444444444,
             "#bd3786"
            ],
            [
             0.5555555555555556,
             "#d8576b"
            ],
            [
             0.6666666666666666,
             "#ed7953"
            ],
            [
             0.7777777777777778,
             "#fb9f3a"
            ],
            [
             0.8888888888888888,
             "#fdca26"
            ],
            [
             1,
             "#f0f921"
            ]
           ]
          },
          "colorway": [
           "#636efa",
           "#EF553B",
           "#00cc96",
           "#ab63fa",
           "#FFA15A",
           "#19d3f3",
           "#FF6692",
           "#B6E880",
           "#FF97FF",
           "#FECB52"
          ],
          "font": {
           "color": "#2a3f5f"
          },
          "geo": {
           "bgcolor": "white",
           "lakecolor": "white",
           "landcolor": "#E5ECF6",
           "showlakes": true,
           "showland": true,
           "subunitcolor": "white"
          },
          "hoverlabel": {
           "align": "left"
          },
          "hovermode": "closest",
          "mapbox": {
           "style": "light"
          },
          "paper_bgcolor": "white",
          "plot_bgcolor": "#E5ECF6",
          "polar": {
           "angularaxis": {
            "gridcolor": "white",
            "linecolor": "white",
            "ticks": ""
           },
           "bgcolor": "#E5ECF6",
           "radialaxis": {
            "gridcolor": "white",
            "linecolor": "white",
            "ticks": ""
           }
          },
          "scene": {
           "xaxis": {
            "backgroundcolor": "#E5ECF6",
            "gridcolor": "white",
            "gridwidth": 2,
            "linecolor": "white",
            "showbackground": true,
            "ticks": "",
            "zerolinecolor": "white"
           },
           "yaxis": {
            "backgroundcolor": "#E5ECF6",
            "gridcolor": "white",
            "gridwidth": 2,
            "linecolor": "white",
            "showbackground": true,
            "ticks": "",
            "zerolinecolor": "white"
           },
           "zaxis": {
            "backgroundcolor": "#E5ECF6",
            "gridcolor": "white",
            "gridwidth": 2,
            "linecolor": "white",
            "showbackground": true,
            "ticks": "",
            "zerolinecolor": "white"
           }
          },
          "shapedefaults": {
           "line": {
            "color": "#2a3f5f"
           }
          },
          "ternary": {
           "aaxis": {
            "gridcolor": "white",
            "linecolor": "white",
            "ticks": ""
           },
           "baxis": {
            "gridcolor": "white",
            "linecolor": "white",
            "ticks": ""
           },
           "bgcolor": "#E5ECF6",
           "caxis": {
            "gridcolor": "white",
            "linecolor": "white",
            "ticks": ""
           }
          },
          "title": {
           "x": 0.05
          },
          "xaxis": {
           "automargin": true,
           "gridcolor": "white",
           "linecolor": "white",
           "ticks": "",
           "title": {
            "standoff": 15
           },
           "zerolinecolor": "white",
           "zerolinewidth": 2
          },
          "yaxis": {
           "automargin": true,
           "gridcolor": "white",
           "linecolor": "white",
           "ticks": "",
           "title": {
            "standoff": 15
           },
           "zerolinecolor": "white",
           "zerolinewidth": 2
          }
         }
        },
        "width": 800,
        "xaxis": {
         "anchor": "y",
         "domain": [
          0,
          1
         ],
         "title": {
          "text": "Games played"
         }
        },
        "yaxis": {
         "anchor": "x",
         "domain": [
          0,
          1
         ],
         "title": {
          "text": "Loss"
         }
        }
       }
      }
     },
     "metadata": {},
     "output_type": "display_data"
    },
    {
     "data": {
      "application/vnd.plotly.v1+json": {
       "config": {
        "plotlyServerURL": "https://plot.ly"
       },
       "data": [
        {
         "hovertemplate": "variable=eps_adv = 0.00<br>Games played=%{x}<br>value=%{y}<extra></extra>",
         "legendgroup": "eps_adv = 0.00",
         "line": {
          "color": "#636efa",
          "dash": "solid"
         },
         "marker": {
          "symbol": "circle"
         },
         "mode": "lines",
         "name": "eps_adv = 0.00",
         "orientation": "v",
         "showlegend": true,
         "type": "scatter",
         "x": [
          0,
          250,
          500,
          750,
          1000,
          1250,
          1500,
          1750,
          2000,
          2250,
          2500,
          2750,
          3000,
          3250,
          3500,
          3750,
          4000,
          4250,
          4500,
          4750,
          5000,
          5250,
          5500,
          5750,
          6000,
          6250,
          6500,
          6750,
          7000,
          7250,
          7500,
          7750,
          8000,
          8250,
          8500,
          8750,
          9000,
          9250,
          9500,
          9750,
          10000,
          10250,
          10500,
          10750,
          11000,
          11250,
          11500,
          11750,
          12000,
          12250,
          12500,
          12750,
          13000,
          13250,
          13500,
          13750,
          14000,
          14250,
          14500,
          14750,
          15000,
          15250,
          15500,
          15750,
          16000,
          16250,
          16500,
          16750,
          17000,
          17250,
          17500,
          17750,
          18000,
          18250,
          18500,
          18750,
          19000,
          19250,
          19500,
          19750
         ],
         "xaxis": "x",
         "y": [
          -1,
          -1,
          -1,
          -1,
          -0.968,
          -0.888,
          -0.96,
          -0.932,
          -0.82,
          -0.84,
          -0.916,
          -0.764,
          -0.7,
          -0.648,
          -0.536,
          -0.432,
          -0.432,
          -0.548,
          -0.356,
          -0.436,
          -0.304,
          -0.348,
          -0.232,
          -0.204,
          -0.188,
          -0.224,
          -0.196,
          -0.16,
          -0.076,
          -0.12,
          -0.08,
          -0.024,
          -0.116,
          -0.112,
          -0.048,
          -0.048,
          -0.092,
          -0.112,
          -0.1,
          -0.1,
          -0.08,
          -0.052,
          0.024,
          -0.036,
          0.008,
          -0.076,
          -0.052,
          -0.036,
          0.004,
          -0.04,
          -0.028,
          -0.084,
          -0.072,
          -0.02,
          -0.104,
          -0.004,
          -0.044,
          -0.032,
          -0.016,
          -0.028,
          -0.032,
          -0.072,
          -0.028,
          -0.068,
          -0.028,
          -0.056,
          -0.036,
          -0.072,
          -0.112,
          -0.028,
          0.012,
          -0.008,
          -0.028,
          -0.032,
          -0.024,
          -0.016,
          -0.012,
          -0.036,
          -0.02,
          -0.016
         ],
         "yaxis": "y"
        },
        {
         "hovertemplate": "variable=eps_adv = 0.10<br>Games played=%{x}<br>value=%{y}<extra></extra>",
         "legendgroup": "eps_adv = 0.10",
         "line": {
          "color": "#EF553B",
          "dash": "solid"
         },
         "marker": {
          "symbol": "circle"
         },
         "mode": "lines",
         "name": "eps_adv = 0.10",
         "orientation": "v",
         "showlegend": true,
         "type": "scatter",
         "x": [
          0,
          250,
          500,
          750,
          1000,
          1250,
          1500,
          1750,
          2000,
          2250,
          2500,
          2750,
          3000,
          3250,
          3500,
          3750,
          4000,
          4250,
          4500,
          4750,
          5000,
          5250,
          5500,
          5750,
          6000,
          6250,
          6500,
          6750,
          7000,
          7250,
          7500,
          7750,
          8000,
          8250,
          8500,
          8750,
          9000,
          9250,
          9500,
          9750,
          10000,
          10250,
          10500,
          10750,
          11000,
          11250,
          11500,
          11750,
          12000,
          12250,
          12500,
          12750,
          13000,
          13250,
          13500,
          13750,
          14000,
          14250,
          14500,
          14750,
          15000,
          15250,
          15500,
          15750,
          16000,
          16250,
          16500,
          16750,
          17000,
          17250,
          17500,
          17750,
          18000,
          18250,
          18500,
          18750,
          19000,
          19250,
          19500,
          19750
         ],
         "xaxis": "x",
         "y": [
          -1,
          -0.976,
          -0.956,
          -0.944,
          -0.936,
          -0.94,
          -0.916,
          -0.92,
          -0.748,
          -0.804,
          -0.772,
          -0.748,
          -0.78,
          -0.716,
          -0.76,
          -0.72,
          -0.688,
          -0.6,
          -0.564,
          -0.58,
          -0.588,
          -0.588,
          -0.444,
          -0.488,
          -0.472,
          -0.4,
          -0.376,
          -0.356,
          -0.376,
          -0.4,
          -0.272,
          -0.356,
          -0.228,
          -0.348,
          -0.356,
          -0.344,
          -0.28,
          -0.232,
          -0.284,
          -0.14,
          -0.144,
          -0.136,
          -0.192,
          -0.136,
          -0.132,
          -0.12,
          -0.164,
          -0.088,
          -0.052,
          -0.092,
          -0.096,
          -0.032,
          -0.168,
          -0.036,
          -0.064,
          -0.088,
          -0.164,
          -0.212,
          -0.076,
          -0.136,
          -0.044,
          -0.1,
          -0.088,
          -0.1,
          -0.116,
          -0.096,
          -0.052,
          -0.044,
          -0.048,
          -0.036,
          -0.06,
          -0.06,
          -0.1,
          -0.044,
          -0.06,
          -0.032,
          -0.08,
          -0.088,
          -0.104,
          0.036
         ],
         "yaxis": "y"
        },
        {
         "hovertemplate": "variable=eps_adv = 0.20<br>Games played=%{x}<br>value=%{y}<extra></extra>",
         "legendgroup": "eps_adv = 0.20",
         "line": {
          "color": "#00cc96",
          "dash": "solid"
         },
         "marker": {
          "symbol": "circle"
         },
         "mode": "lines",
         "name": "eps_adv = 0.20",
         "orientation": "v",
         "showlegend": true,
         "type": "scatter",
         "x": [
          0,
          250,
          500,
          750,
          1000,
          1250,
          1500,
          1750,
          2000,
          2250,
          2500,
          2750,
          3000,
          3250,
          3500,
          3750,
          4000,
          4250,
          4500,
          4750,
          5000,
          5250,
          5500,
          5750,
          6000,
          6250,
          6500,
          6750,
          7000,
          7250,
          7500,
          7750,
          8000,
          8250,
          8500,
          8750,
          9000,
          9250,
          9500,
          9750,
          10000,
          10250,
          10500,
          10750,
          11000,
          11250,
          11500,
          11750,
          12000,
          12250,
          12500,
          12750,
          13000,
          13250,
          13500,
          13750,
          14000,
          14250,
          14500,
          14750,
          15000,
          15250,
          15500,
          15750,
          16000,
          16250,
          16500,
          16750,
          17000,
          17250,
          17500,
          17750,
          18000,
          18250,
          18500,
          18750,
          19000,
          19250,
          19500,
          19750
         ],
         "xaxis": "x",
         "y": [
          -1,
          -1,
          -0.98,
          -0.984,
          -0.944,
          -0.964,
          -0.96,
          -0.928,
          -0.932,
          -0.928,
          -0.936,
          -0.932,
          -0.792,
          -0.848,
          -0.8,
          -0.744,
          -0.74,
          -0.648,
          -0.728,
          -0.72,
          -0.72,
          -0.68,
          -0.728,
          -0.656,
          -0.532,
          -0.452,
          -0.608,
          -0.488,
          -0.336,
          -0.372,
          -0.376,
          -0.344,
          -0.296,
          -0.292,
          -0.26,
          -0.256,
          -0.216,
          -0.26,
          -0.212,
          -0.188,
          -0.116,
          -0.096,
          -0.204,
          -0.232,
          -0.124,
          -0.068,
          -0.124,
          -0.072,
          -0.1,
          -0.084,
          -0.112,
          -0.124,
          -0.108,
          -0.132,
          -0.184,
          -0.18,
          -0.048,
          0.004,
          -0.072,
          -0.12,
          -0.088,
          -0.08,
          -0.108,
          -0.012,
          -0.104,
          0.048,
          -0.172,
          -0.18,
          -0.084,
          -0.06,
          -0.228,
          -0.012,
          -0.028,
          -0.024,
          -0.168,
          -0.056,
          -0.108,
          0,
          -0.036,
          -0.104
         ],
         "yaxis": "y"
        },
        {
         "hovertemplate": "variable=eps_adv = 0.30<br>Games played=%{x}<br>value=%{y}<extra></extra>",
         "legendgroup": "eps_adv = 0.30",
         "line": {
          "color": "#ab63fa",
          "dash": "solid"
         },
         "marker": {
          "symbol": "circle"
         },
         "mode": "lines",
         "name": "eps_adv = 0.30",
         "orientation": "v",
         "showlegend": true,
         "type": "scatter",
         "x": [
          0,
          250,
          500,
          750,
          1000,
          1250,
          1500,
          1750,
          2000,
          2250,
          2500,
          2750,
          3000,
          3250,
          3500,
          3750,
          4000,
          4250,
          4500,
          4750,
          5000,
          5250,
          5500,
          5750,
          6000,
          6250,
          6500,
          6750,
          7000,
          7250,
          7500,
          7750,
          8000,
          8250,
          8500,
          8750,
          9000,
          9250,
          9500,
          9750,
          10000,
          10250,
          10500,
          10750,
          11000,
          11250,
          11500,
          11750,
          12000,
          12250,
          12500,
          12750,
          13000,
          13250,
          13500,
          13750,
          14000,
          14250,
          14500,
          14750,
          15000,
          15250,
          15500,
          15750,
          16000,
          16250,
          16500,
          16750,
          17000,
          17250,
          17500,
          17750,
          18000,
          18250,
          18500,
          18750,
          19000,
          19250,
          19500,
          19750
         ],
         "xaxis": "x",
         "y": [
          -1,
          -1,
          -0.988,
          -0.956,
          -0.976,
          -0.924,
          -0.94,
          -0.912,
          -0.74,
          -0.872,
          -0.824,
          -0.864,
          -0.808,
          -0.772,
          -0.752,
          -0.772,
          -0.716,
          -0.668,
          -0.624,
          -0.684,
          -0.668,
          -0.7,
          -0.656,
          -0.72,
          -0.656,
          -0.596,
          -0.636,
          -0.588,
          -0.528,
          -0.532,
          -0.46,
          -0.576,
          -0.464,
          -0.536,
          -0.448,
          -0.416,
          -0.436,
          -0.476,
          -0.512,
          -0.42,
          -0.48,
          -0.504,
          -0.448,
          -0.376,
          -0.376,
          -0.488,
          -0.428,
          -0.532,
          -0.428,
          -0.32,
          -0.356,
          -0.384,
          -0.376,
          -0.276,
          -0.324,
          -0.264,
          -0.524,
          -0.392,
          -0.3,
          -0.348,
          -0.264,
          -0.288,
          -0.268,
          -0.196,
          -0.272,
          -0.252,
          -0.272,
          -0.16,
          -0.232,
          -0.272,
          -0.236,
          -0.22,
          -0.292,
          -0.348,
          -0.448,
          -0.252,
          -0.14,
          -0.212,
          -0.192,
          -0.376
         ],
         "yaxis": "y"
        },
        {
         "hovertemplate": "variable=eps_adv = 0.40<br>Games played=%{x}<br>value=%{y}<extra></extra>",
         "legendgroup": "eps_adv = 0.40",
         "line": {
          "color": "#FFA15A",
          "dash": "solid"
         },
         "marker": {
          "symbol": "circle"
         },
         "mode": "lines",
         "name": "eps_adv = 0.40",
         "orientation": "v",
         "showlegend": true,
         "type": "scatter",
         "x": [
          0,
          250,
          500,
          750,
          1000,
          1250,
          1500,
          1750,
          2000,
          2250,
          2500,
          2750,
          3000,
          3250,
          3500,
          3750,
          4000,
          4250,
          4500,
          4750,
          5000,
          5250,
          5500,
          5750,
          6000,
          6250,
          6500,
          6750,
          7000,
          7250,
          7500,
          7750,
          8000,
          8250,
          8500,
          8750,
          9000,
          9250,
          9500,
          9750,
          10000,
          10250,
          10500,
          10750,
          11000,
          11250,
          11500,
          11750,
          12000,
          12250,
          12500,
          12750,
          13000,
          13250,
          13500,
          13750,
          14000,
          14250,
          14500,
          14750,
          15000,
          15250,
          15500,
          15750,
          16000,
          16250,
          16500,
          16750,
          17000,
          17250,
          17500,
          17750,
          18000,
          18250,
          18500,
          18750,
          19000,
          19250,
          19500,
          19750
         ],
         "xaxis": "x",
         "y": [
          -1,
          -1,
          -0.936,
          -0.944,
          -0.944,
          -0.932,
          -0.932,
          -0.948,
          -0.88,
          -0.904,
          -0.872,
          -0.88,
          -0.892,
          -0.9,
          -0.864,
          -0.856,
          -0.9,
          -0.848,
          -0.76,
          -0.8,
          -0.844,
          -0.724,
          -0.784,
          -0.668,
          -0.712,
          -0.732,
          -0.616,
          -0.632,
          -0.7,
          -0.644,
          -0.588,
          -0.672,
          -0.616,
          -0.652,
          -0.6,
          -0.6,
          -0.56,
          -0.544,
          -0.596,
          -0.56,
          -0.524,
          -0.528,
          -0.548,
          -0.624,
          -0.54,
          -0.524,
          -0.556,
          -0.58,
          -0.544,
          -0.496,
          -0.432,
          -0.476,
          -0.452,
          -0.544,
          -0.448,
          -0.58,
          -0.488,
          -0.54,
          -0.48,
          -0.544,
          -0.368,
          -0.404,
          -0.512,
          -0.42,
          -0.436,
          -0.412,
          -0.396,
          -0.5,
          -0.444,
          -0.404,
          -0.496,
          -0.472,
          -0.448,
          -0.408,
          -0.364,
          -0.38,
          -0.396,
          -0.34,
          -0.512,
          -0.432
         ],
         "yaxis": "y"
        },
        {
         "hovertemplate": "variable=eps_adv = 0.50<br>Games played=%{x}<br>value=%{y}<extra></extra>",
         "legendgroup": "eps_adv = 0.50",
         "line": {
          "color": "#19d3f3",
          "dash": "solid"
         },
         "marker": {
          "symbol": "circle"
         },
         "mode": "lines",
         "name": "eps_adv = 0.50",
         "orientation": "v",
         "showlegend": true,
         "type": "scatter",
         "x": [
          0,
          250,
          500,
          750,
          1000,
          1250,
          1500,
          1750,
          2000,
          2250,
          2500,
          2750,
          3000,
          3250,
          3500,
          3750,
          4000,
          4250,
          4500,
          4750,
          5000,
          5250,
          5500,
          5750,
          6000,
          6250,
          6500,
          6750,
          7000,
          7250,
          7500,
          7750,
          8000,
          8250,
          8500,
          8750,
          9000,
          9250,
          9500,
          9750,
          10000,
          10250,
          10500,
          10750,
          11000,
          11250,
          11500,
          11750,
          12000,
          12250,
          12500,
          12750,
          13000,
          13250,
          13500,
          13750,
          14000,
          14250,
          14500,
          14750,
          15000,
          15250,
          15500,
          15750,
          16000,
          16250,
          16500,
          16750,
          17000,
          17250,
          17500,
          17750,
          18000,
          18250,
          18500,
          18750,
          19000,
          19250,
          19500,
          19750
         ],
         "xaxis": "x",
         "y": [
          -1,
          -0.98,
          -1,
          -0.984,
          -0.952,
          -0.936,
          -0.952,
          -0.972,
          -0.888,
          -0.848,
          -0.928,
          -0.964,
          -0.884,
          -0.884,
          -0.884,
          -0.896,
          -0.868,
          -0.912,
          -0.828,
          -0.848,
          -0.844,
          -0.86,
          -0.788,
          -0.78,
          -0.772,
          -0.744,
          -0.844,
          -0.808,
          -0.828,
          -0.816,
          -0.788,
          -0.692,
          -0.784,
          -0.68,
          -0.704,
          -0.648,
          -0.612,
          -0.656,
          -0.688,
          -0.62,
          -0.572,
          -0.616,
          -0.628,
          -0.644,
          -0.592,
          -0.66,
          -0.524,
          -0.632,
          -0.684,
          -0.704,
          -0.516,
          -0.52,
          -0.584,
          -0.52,
          -0.484,
          -0.48,
          -0.644,
          -0.564,
          -0.424,
          -0.476,
          -0.488,
          -0.52,
          -0.532,
          -0.556,
          -0.524,
          -0.52,
          -0.568,
          -0.64,
          -0.584,
          -0.436,
          -0.428,
          -0.452,
          -0.456,
          -0.48,
          -0.372,
          -0.724,
          -0.608,
          -0.584,
          -0.46,
          -0.58
         ],
         "yaxis": "y"
        },
        {
         "hovertemplate": "variable=eps_adv = 0.60<br>Games played=%{x}<br>value=%{y}<extra></extra>",
         "legendgroup": "eps_adv = 0.60",
         "line": {
          "color": "#FF6692",
          "dash": "solid"
         },
         "marker": {
          "symbol": "circle"
         },
         "mode": "lines",
         "name": "eps_adv = 0.60",
         "orientation": "v",
         "showlegend": true,
         "type": "scatter",
         "x": [
          0,
          250,
          500,
          750,
          1000,
          1250,
          1500,
          1750,
          2000,
          2250,
          2500,
          2750,
          3000,
          3250,
          3500,
          3750,
          4000,
          4250,
          4500,
          4750,
          5000,
          5250,
          5500,
          5750,
          6000,
          6250,
          6500,
          6750,
          7000,
          7250,
          7500,
          7750,
          8000,
          8250,
          8500,
          8750,
          9000,
          9250,
          9500,
          9750,
          10000,
          10250,
          10500,
          10750,
          11000,
          11250,
          11500,
          11750,
          12000,
          12250,
          12500,
          12750,
          13000,
          13250,
          13500,
          13750,
          14000,
          14250,
          14500,
          14750,
          15000,
          15250,
          15500,
          15750,
          16000,
          16250,
          16500,
          16750,
          17000,
          17250,
          17500,
          17750,
          18000,
          18250,
          18500,
          18750,
          19000,
          19250,
          19500,
          19750
         ],
         "xaxis": "x",
         "y": [
          -1,
          -1,
          -0.984,
          -0.98,
          -0.928,
          -0.928,
          -0.94,
          -0.964,
          -0.944,
          -0.94,
          -0.94,
          -0.88,
          -0.924,
          -0.884,
          -0.944,
          -0.94,
          -0.876,
          -0.944,
          -0.82,
          -0.872,
          -0.876,
          -0.856,
          -0.86,
          -0.896,
          -0.808,
          -0.772,
          -0.808,
          -0.792,
          -0.848,
          -0.856,
          -0.864,
          -0.82,
          -0.76,
          -0.72,
          -0.764,
          -0.84,
          -0.752,
          -0.76,
          -0.784,
          -0.776,
          -0.748,
          -0.772,
          -0.76,
          -0.688,
          -0.792,
          -0.688,
          -0.728,
          -0.764,
          -0.668,
          -0.688,
          -0.84,
          -0.696,
          -0.692,
          -0.832,
          -0.688,
          -0.74,
          -0.696,
          -0.764,
          -0.712,
          -0.692,
          -0.684,
          -0.7,
          -0.676,
          -0.72,
          -0.724,
          -0.708,
          -0.708,
          -0.768,
          -0.7,
          -0.752,
          -0.664,
          -0.804,
          -0.7,
          -0.716,
          -0.652,
          -0.78,
          -0.756,
          -0.66,
          -0.656,
          -0.66
         ],
         "yaxis": "y"
        },
        {
         "hovertemplate": "variable=eps_adv = 0.70<br>Games played=%{x}<br>value=%{y}<extra></extra>",
         "legendgroup": "eps_adv = 0.70",
         "line": {
          "color": "#B6E880",
          "dash": "solid"
         },
         "marker": {
          "symbol": "circle"
         },
         "mode": "lines",
         "name": "eps_adv = 0.70",
         "orientation": "v",
         "showlegend": true,
         "type": "scatter",
         "x": [
          0,
          250,
          500,
          750,
          1000,
          1250,
          1500,
          1750,
          2000,
          2250,
          2500,
          2750,
          3000,
          3250,
          3500,
          3750,
          4000,
          4250,
          4500,
          4750,
          5000,
          5250,
          5500,
          5750,
          6000,
          6250,
          6500,
          6750,
          7000,
          7250,
          7500,
          7750,
          8000,
          8250,
          8500,
          8750,
          9000,
          9250,
          9500,
          9750,
          10000,
          10250,
          10500,
          10750,
          11000,
          11250,
          11500,
          11750,
          12000,
          12250,
          12500,
          12750,
          13000,
          13250,
          13500,
          13750,
          14000,
          14250,
          14500,
          14750,
          15000,
          15250,
          15500,
          15750,
          16000,
          16250,
          16500,
          16750,
          17000,
          17250,
          17500,
          17750,
          18000,
          18250,
          18500,
          18750,
          19000,
          19250,
          19500,
          19750
         ],
         "xaxis": "x",
         "y": [
          -1,
          -1,
          -0.952,
          -0.948,
          -0.972,
          -0.968,
          -0.932,
          -0.968,
          -0.984,
          -0.928,
          -0.92,
          -0.932,
          -0.904,
          -0.952,
          -0.94,
          -0.912,
          -0.904,
          -0.884,
          -0.972,
          -0.88,
          -0.852,
          -0.916,
          -0.928,
          -0.896,
          -0.812,
          -0.848,
          -0.884,
          -0.864,
          -0.848,
          -0.884,
          -0.816,
          -0.836,
          -0.9,
          -0.812,
          -0.86,
          -0.856,
          -0.832,
          -0.852,
          -0.844,
          -0.816,
          -0.872,
          -0.74,
          -0.808,
          -0.784,
          -0.784,
          -0.804,
          -0.8,
          -0.768,
          -0.796,
          -0.76,
          -0.824,
          -0.824,
          -0.756,
          -0.768,
          -0.804,
          -0.764,
          -0.812,
          -0.82,
          -0.748,
          -0.784,
          -0.796,
          -0.78,
          -0.716,
          -0.804,
          -0.756,
          -0.732,
          -0.768,
          -0.744,
          -0.8,
          -0.732,
          -0.776,
          -0.76,
          -0.744,
          -0.716,
          -0.796,
          -0.808,
          -0.732,
          -0.712,
          -0.796,
          -0.792
         ],
         "yaxis": "y"
        },
        {
         "hovertemplate": "variable=eps_adv = 0.80<br>Games played=%{x}<br>value=%{y}<extra></extra>",
         "legendgroup": "eps_adv = 0.80",
         "line": {
          "color": "#FF97FF",
          "dash": "solid"
         },
         "marker": {
          "symbol": "circle"
         },
         "mode": "lines",
         "name": "eps_adv = 0.80",
         "orientation": "v",
         "showlegend": true,
         "type": "scatter",
         "x": [
          0,
          250,
          500,
          750,
          1000,
          1250,
          1500,
          1750,
          2000,
          2250,
          2500,
          2750,
          3000,
          3250,
          3500,
          3750,
          4000,
          4250,
          4500,
          4750,
          5000,
          5250,
          5500,
          5750,
          6000,
          6250,
          6500,
          6750,
          7000,
          7250,
          7500,
          7750,
          8000,
          8250,
          8500,
          8750,
          9000,
          9250,
          9500,
          9750,
          10000,
          10250,
          10500,
          10750,
          11000,
          11250,
          11500,
          11750,
          12000,
          12250,
          12500,
          12750,
          13000,
          13250,
          13500,
          13750,
          14000,
          14250,
          14500,
          14750,
          15000,
          15250,
          15500,
          15750,
          16000,
          16250,
          16500,
          16750,
          17000,
          17250,
          17500,
          17750,
          18000,
          18250,
          18500,
          18750,
          19000,
          19250,
          19500,
          19750
         ],
         "xaxis": "x",
         "y": [
          -1,
          -1,
          -0.996,
          -0.992,
          -0.996,
          -0.988,
          -0.976,
          -0.972,
          -0.92,
          -0.964,
          -0.96,
          -0.912,
          -0.924,
          -0.896,
          -0.932,
          -0.94,
          -0.944,
          -0.892,
          -0.876,
          -0.884,
          -0.932,
          -0.908,
          -0.92,
          -0.884,
          -0.848,
          -0.844,
          -0.88,
          -0.884,
          -0.86,
          -0.808,
          -0.88,
          -0.872,
          -0.884,
          -0.896,
          -0.832,
          -0.884,
          -0.852,
          -0.86,
          -0.88,
          -0.888,
          -0.88,
          -0.88,
          -0.804,
          -0.724,
          -0.828,
          -0.78,
          -0.88,
          -0.84,
          -0.788,
          -0.876,
          -0.808,
          -0.828,
          -0.828,
          -0.872,
          -0.848,
          -0.88,
          -0.804,
          -0.832,
          -0.784,
          -0.752,
          -0.796,
          -0.848,
          -0.836,
          -0.94,
          -0.808,
          -0.848,
          -0.848,
          -0.852,
          -0.848,
          -0.8,
          -0.884,
          -0.776,
          -0.82,
          -0.792,
          -0.78,
          -0.832,
          -0.864,
          -0.788,
          -0.808,
          -0.856
         ],
         "yaxis": "y"
        },
        {
         "hovertemplate": "variable=eps_adv = 0.90<br>Games played=%{x}<br>value=%{y}<extra></extra>",
         "legendgroup": "eps_adv = 0.90",
         "line": {
          "color": "#FECB52",
          "dash": "solid"
         },
         "marker": {
          "symbol": "circle"
         },
         "mode": "lines",
         "name": "eps_adv = 0.90",
         "orientation": "v",
         "showlegend": true,
         "type": "scatter",
         "x": [
          0,
          250,
          500,
          750,
          1000,
          1250,
          1500,
          1750,
          2000,
          2250,
          2500,
          2750,
          3000,
          3250,
          3500,
          3750,
          4000,
          4250,
          4500,
          4750,
          5000,
          5250,
          5500,
          5750,
          6000,
          6250,
          6500,
          6750,
          7000,
          7250,
          7500,
          7750,
          8000,
          8250,
          8500,
          8750,
          9000,
          9250,
          9500,
          9750,
          10000,
          10250,
          10500,
          10750,
          11000,
          11250,
          11500,
          11750,
          12000,
          12250,
          12500,
          12750,
          13000,
          13250,
          13500,
          13750,
          14000,
          14250,
          14500,
          14750,
          15000,
          15250,
          15500,
          15750,
          16000,
          16250,
          16500,
          16750,
          17000,
          17250,
          17500,
          17750,
          18000,
          18250,
          18500,
          18750,
          19000,
          19250,
          19500,
          19750
         ],
         "xaxis": "x",
         "y": [
          -1,
          -1,
          -0.976,
          -0.988,
          -0.964,
          -0.964,
          -0.944,
          -0.928,
          -0.956,
          -0.9,
          -0.892,
          -0.972,
          -0.956,
          -0.932,
          -0.884,
          -0.96,
          -0.92,
          -0.94,
          -0.96,
          -0.948,
          -0.952,
          -0.928,
          -0.964,
          -0.94,
          -0.916,
          -0.92,
          -0.888,
          -0.92,
          -0.928,
          -0.892,
          -0.924,
          -0.912,
          -0.936,
          -0.876,
          -0.924,
          -0.892,
          -0.904,
          -0.944,
          -0.936,
          -0.944,
          -0.872,
          -0.92,
          -0.868,
          -0.896,
          -0.932,
          -0.932,
          -0.916,
          -0.936,
          -0.928,
          -0.928,
          -0.908,
          -0.916,
          -0.948,
          -0.9,
          -0.928,
          -0.892,
          -0.884,
          -0.912,
          -0.904,
          -0.892,
          -0.84,
          -0.868,
          -0.904,
          -0.892,
          -0.9,
          -0.928,
          -0.912,
          -0.86,
          -0.932,
          -0.928,
          -0.952,
          -0.908,
          -0.928,
          -0.904,
          -0.924,
          -0.904,
          -0.924,
          -0.9,
          -0.88,
          -0.856
         ],
         "yaxis": "y"
        },
        {
         "hovertemplate": "variable=eps_adv = 1.00<br>Games played=%{x}<br>value=%{y}<extra></extra>",
         "legendgroup": "eps_adv = 1.00",
         "line": {
          "color": "#636efa",
          "dash": "solid"
         },
         "marker": {
          "symbol": "circle"
         },
         "mode": "lines",
         "name": "eps_adv = 1.00",
         "orientation": "v",
         "showlegend": true,
         "type": "scatter",
         "x": [
          0,
          250,
          500,
          750,
          1000,
          1250,
          1500,
          1750,
          2000,
          2250,
          2500,
          2750,
          3000,
          3250,
          3500,
          3750,
          4000,
          4250,
          4500,
          4750,
          5000,
          5250,
          5500,
          5750,
          6000,
          6250,
          6500,
          6750,
          7000,
          7250,
          7500,
          7750,
          8000,
          8250,
          8500,
          8750,
          9000,
          9250,
          9500,
          9750,
          10000,
          10250,
          10500,
          10750,
          11000,
          11250,
          11500,
          11750,
          12000,
          12250,
          12500,
          12750,
          13000,
          13250,
          13500,
          13750,
          14000,
          14250,
          14500,
          14750,
          15000,
          15250,
          15500,
          15750,
          16000,
          16250,
          16500,
          16750,
          17000,
          17250,
          17500,
          17750,
          18000,
          18250,
          18500,
          18750,
          19000,
          19250,
          19500,
          19750
         ],
         "xaxis": "x",
         "y": [
          -1,
          -0.996,
          -0.972,
          -0.98,
          -0.988,
          -0.92,
          -0.956,
          -0.992,
          -0.964,
          -0.968,
          -0.98,
          -0.984,
          -0.972,
          -0.988,
          -0.94,
          -0.98,
          -0.984,
          -0.96,
          -0.976,
          -0.956,
          -0.98,
          -0.912,
          -0.976,
          -0.912,
          -0.964,
          -0.944,
          -0.924,
          -0.956,
          -0.968,
          -0.984,
          -0.976,
          -0.968,
          -0.984,
          -0.996,
          -0.944,
          -0.932,
          -0.94,
          -0.984,
          -0.924,
          -0.92,
          -0.916,
          -0.984,
          -0.984,
          -0.908,
          -0.884,
          -0.936,
          -0.928,
          -0.94,
          -0.984,
          -0.952,
          -0.952,
          -0.952,
          -0.924,
          -0.9,
          -0.928,
          -0.98,
          -0.936,
          -0.932,
          -0.956,
          -0.936,
          -0.94,
          -0.988,
          -0.936,
          -0.968,
          -0.988,
          -0.968,
          -0.9,
          -0.932,
          -0.888,
          -0.92,
          -0.96,
          -0.948,
          -0.972,
          -0.952,
          -0.94,
          -0.948,
          -0.98,
          -0.964,
          -0.968,
          -0.876
         ],
         "yaxis": "y"
        }
       ],
       "layout": {
        "legend": {
         "title": {
          "text": "variable"
         },
         "tracegroupgap": 0
        },
        "margin": {
         "t": 60
        },
        "template": {
         "data": {
          "bar": [
           {
            "error_x": {
             "color": "#2a3f5f"
            },
            "error_y": {
             "color": "#2a3f5f"
            },
            "marker": {
             "line": {
              "color": "#E5ECF6",
              "width": 0.5
             },
             "pattern": {
              "fillmode": "overlay",
              "size": 10,
              "solidity": 0.2
             }
            },
            "type": "bar"
           }
          ],
          "barpolar": [
           {
            "marker": {
             "line": {
              "color": "#E5ECF6",
              "width": 0.5
             },
             "pattern": {
              "fillmode": "overlay",
              "size": 10,
              "solidity": 0.2
             }
            },
            "type": "barpolar"
           }
          ],
          "carpet": [
           {
            "aaxis": {
             "endlinecolor": "#2a3f5f",
             "gridcolor": "white",
             "linecolor": "white",
             "minorgridcolor": "white",
             "startlinecolor": "#2a3f5f"
            },
            "baxis": {
             "endlinecolor": "#2a3f5f",
             "gridcolor": "white",
             "linecolor": "white",
             "minorgridcolor": "white",
             "startlinecolor": "#2a3f5f"
            },
            "type": "carpet"
           }
          ],
          "choropleth": [
           {
            "colorbar": {
             "outlinewidth": 0,
             "ticks": ""
            },
            "type": "choropleth"
           }
          ],
          "contour": [
           {
            "colorbar": {
             "outlinewidth": 0,
             "ticks": ""
            },
            "colorscale": [
             [
              0,
              "#0d0887"
             ],
             [
              0.1111111111111111,
              "#46039f"
             ],
             [
              0.2222222222222222,
              "#7201a8"
             ],
             [
              0.3333333333333333,
              "#9c179e"
             ],
             [
              0.4444444444444444,
              "#bd3786"
             ],
             [
              0.5555555555555556,
              "#d8576b"
             ],
             [
              0.6666666666666666,
              "#ed7953"
             ],
             [
              0.7777777777777778,
              "#fb9f3a"
             ],
             [
              0.8888888888888888,
              "#fdca26"
             ],
             [
              1,
              "#f0f921"
             ]
            ],
            "type": "contour"
           }
          ],
          "contourcarpet": [
           {
            "colorbar": {
             "outlinewidth": 0,
             "ticks": ""
            },
            "type": "contourcarpet"
           }
          ],
          "heatmap": [
           {
            "colorbar": {
             "outlinewidth": 0,
             "ticks": ""
            },
            "colorscale": [
             [
              0,
              "#0d0887"
             ],
             [
              0.1111111111111111,
              "#46039f"
             ],
             [
              0.2222222222222222,
              "#7201a8"
             ],
             [
              0.3333333333333333,
              "#9c179e"
             ],
             [
              0.4444444444444444,
              "#bd3786"
             ],
             [
              0.5555555555555556,
              "#d8576b"
             ],
             [
              0.6666666666666666,
              "#ed7953"
             ],
             [
              0.7777777777777778,
              "#fb9f3a"
             ],
             [
              0.8888888888888888,
              "#fdca26"
             ],
             [
              1,
              "#f0f921"
             ]
            ],
            "type": "heatmap"
           }
          ],
          "heatmapgl": [
           {
            "colorbar": {
             "outlinewidth": 0,
             "ticks": ""
            },
            "colorscale": [
             [
              0,
              "#0d0887"
             ],
             [
              0.1111111111111111,
              "#46039f"
             ],
             [
              0.2222222222222222,
              "#7201a8"
             ],
             [
              0.3333333333333333,
              "#9c179e"
             ],
             [
              0.4444444444444444,
              "#bd3786"
             ],
             [
              0.5555555555555556,
              "#d8576b"
             ],
             [
              0.6666666666666666,
              "#ed7953"
             ],
             [
              0.7777777777777778,
              "#fb9f3a"
             ],
             [
              0.8888888888888888,
              "#fdca26"
             ],
             [
              1,
              "#f0f921"
             ]
            ],
            "type": "heatmapgl"
           }
          ],
          "histogram": [
           {
            "marker": {
             "pattern": {
              "fillmode": "overlay",
              "size": 10,
              "solidity": 0.2
             }
            },
            "type": "histogram"
           }
          ],
          "histogram2d": [
           {
            "colorbar": {
             "outlinewidth": 0,
             "ticks": ""
            },
            "colorscale": [
             [
              0,
              "#0d0887"
             ],
             [
              0.1111111111111111,
              "#46039f"
             ],
             [
              0.2222222222222222,
              "#7201a8"
             ],
             [
              0.3333333333333333,
              "#9c179e"
             ],
             [
              0.4444444444444444,
              "#bd3786"
             ],
             [
              0.5555555555555556,
              "#d8576b"
             ],
             [
              0.6666666666666666,
              "#ed7953"
             ],
             [
              0.7777777777777778,
              "#fb9f3a"
             ],
             [
              0.8888888888888888,
              "#fdca26"
             ],
             [
              1,
              "#f0f921"
             ]
            ],
            "type": "histogram2d"
           }
          ],
          "histogram2dcontour": [
           {
            "colorbar": {
             "outlinewidth": 0,
             "ticks": ""
            },
            "colorscale": [
             [
              0,
              "#0d0887"
             ],
             [
              0.1111111111111111,
              "#46039f"
             ],
             [
              0.2222222222222222,
              "#7201a8"
             ],
             [
              0.3333333333333333,
              "#9c179e"
             ],
             [
              0.4444444444444444,
              "#bd3786"
             ],
             [
              0.5555555555555556,
              "#d8576b"
             ],
             [
              0.6666666666666666,
              "#ed7953"
             ],
             [
              0.7777777777777778,
              "#fb9f3a"
             ],
             [
              0.8888888888888888,
              "#fdca26"
             ],
             [
              1,
              "#f0f921"
             ]
            ],
            "type": "histogram2dcontour"
           }
          ],
          "mesh3d": [
           {
            "colorbar": {
             "outlinewidth": 0,
             "ticks": ""
            },
            "type": "mesh3d"
           }
          ],
          "parcoords": [
           {
            "line": {
             "colorbar": {
              "outlinewidth": 0,
              "ticks": ""
             }
            },
            "type": "parcoords"
           }
          ],
          "pie": [
           {
            "automargin": true,
            "type": "pie"
           }
          ],
          "scatter": [
           {
            "fillpattern": {
             "fillmode": "overlay",
             "size": 10,
             "solidity": 0.2
            },
            "type": "scatter"
           }
          ],
          "scatter3d": [
           {
            "line": {
             "colorbar": {
              "outlinewidth": 0,
              "ticks": ""
             }
            },
            "marker": {
             "colorbar": {
              "outlinewidth": 0,
              "ticks": ""
             }
            },
            "type": "scatter3d"
           }
          ],
          "scattercarpet": [
           {
            "marker": {
             "colorbar": {
              "outlinewidth": 0,
              "ticks": ""
             }
            },
            "type": "scattercarpet"
           }
          ],
          "scattergeo": [
           {
            "marker": {
             "colorbar": {
              "outlinewidth": 0,
              "ticks": ""
             }
            },
            "type": "scattergeo"
           }
          ],
          "scattergl": [
           {
            "marker": {
             "colorbar": {
              "outlinewidth": 0,
              "ticks": ""
             }
            },
            "type": "scattergl"
           }
          ],
          "scattermapbox": [
           {
            "marker": {
             "colorbar": {
              "outlinewidth": 0,
              "ticks": ""
             }
            },
            "type": "scattermapbox"
           }
          ],
          "scatterpolar": [
           {
            "marker": {
             "colorbar": {
              "outlinewidth": 0,
              "ticks": ""
             }
            },
            "type": "scatterpolar"
           }
          ],
          "scatterpolargl": [
           {
            "marker": {
             "colorbar": {
              "outlinewidth": 0,
              "ticks": ""
             }
            },
            "type": "scatterpolargl"
           }
          ],
          "scatterternary": [
           {
            "marker": {
             "colorbar": {
              "outlinewidth": 0,
              "ticks": ""
             }
            },
            "type": "scatterternary"
           }
          ],
          "surface": [
           {
            "colorbar": {
             "outlinewidth": 0,
             "ticks": ""
            },
            "colorscale": [
             [
              0,
              "#0d0887"
             ],
             [
              0.1111111111111111,
              "#46039f"
             ],
             [
              0.2222222222222222,
              "#7201a8"
             ],
             [
              0.3333333333333333,
              "#9c179e"
             ],
             [
              0.4444444444444444,
              "#bd3786"
             ],
             [
              0.5555555555555556,
              "#d8576b"
             ],
             [
              0.6666666666666666,
              "#ed7953"
             ],
             [
              0.7777777777777778,
              "#fb9f3a"
             ],
             [
              0.8888888888888888,
              "#fdca26"
             ],
             [
              1,
              "#f0f921"
             ]
            ],
            "type": "surface"
           }
          ],
          "table": [
           {
            "cells": {
             "fill": {
              "color": "#EBF0F8"
             },
             "line": {
              "color": "white"
             }
            },
            "header": {
             "fill": {
              "color": "#C8D4E3"
             },
             "line": {
              "color": "white"
             }
            },
            "type": "table"
           }
          ]
         },
         "layout": {
          "annotationdefaults": {
           "arrowcolor": "#2a3f5f",
           "arrowhead": 0,
           "arrowwidth": 1
          },
          "autotypenumbers": "strict",
          "coloraxis": {
           "colorbar": {
            "outlinewidth": 0,
            "ticks": ""
           }
          },
          "colorscale": {
           "diverging": [
            [
             0,
             "#8e0152"
            ],
            [
             0.1,
             "#c51b7d"
            ],
            [
             0.2,
             "#de77ae"
            ],
            [
             0.3,
             "#f1b6da"
            ],
            [
             0.4,
             "#fde0ef"
            ],
            [
             0.5,
             "#f7f7f7"
            ],
            [
             0.6,
             "#e6f5d0"
            ],
            [
             0.7,
             "#b8e186"
            ],
            [
             0.8,
             "#7fbc41"
            ],
            [
             0.9,
             "#4d9221"
            ],
            [
             1,
             "#276419"
            ]
           ],
           "sequential": [
            [
             0,
             "#0d0887"
            ],
            [
             0.1111111111111111,
             "#46039f"
            ],
            [
             0.2222222222222222,
             "#7201a8"
            ],
            [
             0.3333333333333333,
             "#9c179e"
            ],
            [
             0.4444444444444444,
             "#bd3786"
            ],
            [
             0.5555555555555556,
             "#d8576b"
            ],
            [
             0.6666666666666666,
             "#ed7953"
            ],
            [
             0.7777777777777778,
             "#fb9f3a"
            ],
            [
             0.8888888888888888,
             "#fdca26"
            ],
            [
             1,
             "#f0f921"
            ]
           ],
           "sequentialminus": [
            [
             0,
             "#0d0887"
            ],
            [
             0.1111111111111111,
             "#46039f"
            ],
            [
             0.2222222222222222,
             "#7201a8"
            ],
            [
             0.3333333333333333,
             "#9c179e"
            ],
            [
             0.4444444444444444,
             "#bd3786"
            ],
            [
             0.5555555555555556,
             "#d8576b"
            ],
            [
             0.6666666666666666,
             "#ed7953"
            ],
            [
             0.7777777777777778,
             "#fb9f3a"
            ],
            [
             0.8888888888888888,
             "#fdca26"
            ],
            [
             1,
             "#f0f921"
            ]
           ]
          },
          "colorway": [
           "#636efa",
           "#EF553B",
           "#00cc96",
           "#ab63fa",
           "#FFA15A",
           "#19d3f3",
           "#FF6692",
           "#B6E880",
           "#FF97FF",
           "#FECB52"
          ],
          "font": {
           "color": "#2a3f5f"
          },
          "geo": {
           "bgcolor": "white",
           "lakecolor": "white",
           "landcolor": "#E5ECF6",
           "showlakes": true,
           "showland": true,
           "subunitcolor": "white"
          },
          "hoverlabel": {
           "align": "left"
          },
          "hovermode": "closest",
          "mapbox": {
           "style": "light"
          },
          "paper_bgcolor": "white",
          "plot_bgcolor": "#E5ECF6",
          "polar": {
           "angularaxis": {
            "gridcolor": "white",
            "linecolor": "white",
            "ticks": ""
           },
           "bgcolor": "#E5ECF6",
           "radialaxis": {
            "gridcolor": "white",
            "linecolor": "white",
            "ticks": ""
           }
          },
          "scene": {
           "xaxis": {
            "backgroundcolor": "#E5ECF6",
            "gridcolor": "white",
            "gridwidth": 2,
            "linecolor": "white",
            "showbackground": true,
            "ticks": "",
            "zerolinecolor": "white"
           },
           "yaxis": {
            "backgroundcolor": "#E5ECF6",
            "gridcolor": "white",
            "gridwidth": 2,
            "linecolor": "white",
            "showbackground": true,
            "ticks": "",
            "zerolinecolor": "white"
           },
           "zaxis": {
            "backgroundcolor": "#E5ECF6",
            "gridcolor": "white",
            "gridwidth": 2,
            "linecolor": "white",
            "showbackground": true,
            "ticks": "",
            "zerolinecolor": "white"
           }
          },
          "shapedefaults": {
           "line": {
            "color": "#2a3f5f"
           }
          },
          "ternary": {
           "aaxis": {
            "gridcolor": "white",
            "linecolor": "white",
            "ticks": ""
           },
           "baxis": {
            "gridcolor": "white",
            "linecolor": "white",
            "ticks": ""
           },
           "bgcolor": "#E5ECF6",
           "caxis": {
            "gridcolor": "white",
            "linecolor": "white",
            "ticks": ""
           }
          },
          "title": {
           "x": 0.05
          },
          "xaxis": {
           "automargin": true,
           "gridcolor": "white",
           "linecolor": "white",
           "ticks": "",
           "title": {
            "standoff": 15
           },
           "zerolinecolor": "white",
           "zerolinewidth": 2
          },
          "yaxis": {
           "automargin": true,
           "gridcolor": "white",
           "linecolor": "white",
           "ticks": "",
           "title": {
            "standoff": 15
           },
           "zerolinecolor": "white",
           "zerolinewidth": 2
          }
         }
        },
        "width": 800,
        "xaxis": {
         "anchor": "y",
         "domain": [
          0,
          1
         ],
         "title": {
          "text": "Games played"
         }
        },
        "yaxis": {
         "anchor": "x",
         "domain": [
          0,
          1
         ],
         "title": {
          "text": "Mopt"
         }
        }
       }
      }
     },
     "metadata": {},
     "output_type": "display_data"
    },
    {
     "data": {
      "application/vnd.plotly.v1+json": {
       "config": {
        "plotlyServerURL": "https://plot.ly"
       },
       "data": [
        {
         "hovertemplate": "variable=eps_adv = 0.00<br>Games played=%{x}<br>value=%{y}<extra></extra>",
         "legendgroup": "eps_adv = 0.00",
         "line": {
          "color": "#636efa",
          "dash": "solid"
         },
         "marker": {
          "symbol": "circle"
         },
         "mode": "lines",
         "name": "eps_adv = 0.00",
         "orientation": "v",
         "showlegend": true,
         "type": "scatter",
         "x": [
          0,
          250,
          500,
          750,
          1000,
          1250,
          1500,
          1750,
          2000,
          2250,
          2500,
          2750,
          3000,
          3250,
          3500,
          3750,
          4000,
          4250,
          4500,
          4750,
          5000,
          5250,
          5500,
          5750,
          6000,
          6250,
          6500,
          6750,
          7000,
          7250,
          7500,
          7750,
          8000,
          8250,
          8500,
          8750,
          9000,
          9250,
          9500,
          9750,
          10000,
          10250,
          10500,
          10750,
          11000,
          11250,
          11500,
          11750,
          12000,
          12250,
          12500,
          12750,
          13000,
          13250,
          13500,
          13750,
          14000,
          14250,
          14500,
          14750,
          15000,
          15250,
          15500,
          15750,
          16000,
          16250,
          16500,
          16750,
          17000,
          17250,
          17500,
          17750,
          18000,
          18250,
          18500,
          18750,
          19000,
          19250,
          19500,
          19750
         ],
         "xaxis": "x",
         "y": [
          -1,
          -0.752,
          -0.792,
          -0.844,
          -0.9,
          -0.788,
          -0.808,
          -0.732,
          -0.8,
          -0.78,
          -0.808,
          -0.744,
          -0.728,
          -0.496,
          -0.628,
          -0.596,
          -0.528,
          -0.556,
          -0.592,
          -0.512,
          -0.46,
          -0.54,
          -0.464,
          -0.54,
          -0.528,
          -0.504,
          -0.432,
          -0.504,
          -0.528,
          -0.412,
          -0.528,
          -0.428,
          -0.444,
          -0.448,
          -0.404,
          -0.076,
          -0.444,
          -0.088,
          -0.38,
          -0.484,
          -0.38,
          -0.352,
          -0.412,
          -0.504,
          -0.316,
          -0.296,
          -0.328,
          -0.376,
          -0.348,
          -0.336,
          -0.252,
          -0.416,
          -0.3,
          -0.372,
          -0.304,
          -0.4,
          -0.416,
          -0.436,
          -0.404,
          -0.328,
          -0.376,
          -0.396,
          -0.428,
          -0.392,
          -0.38,
          -0.428,
          -0.288,
          -0.392,
          -0.476,
          -0.428,
          -0.328,
          -0.396,
          -0.408,
          -0.32,
          -0.26,
          -0.268,
          -0.372,
          -0.324,
          -0.348,
          -0.316
         ],
         "yaxis": "y"
        },
        {
         "hovertemplate": "variable=eps_adv = 0.10<br>Games played=%{x}<br>value=%{y}<extra></extra>",
         "legendgroup": "eps_adv = 0.10",
         "line": {
          "color": "#EF553B",
          "dash": "solid"
         },
         "marker": {
          "symbol": "circle"
         },
         "mode": "lines",
         "name": "eps_adv = 0.10",
         "orientation": "v",
         "showlegend": true,
         "type": "scatter",
         "x": [
          0,
          250,
          500,
          750,
          1000,
          1250,
          1500,
          1750,
          2000,
          2250,
          2500,
          2750,
          3000,
          3250,
          3500,
          3750,
          4000,
          4250,
          4500,
          4750,
          5000,
          5250,
          5500,
          5750,
          6000,
          6250,
          6500,
          6750,
          7000,
          7250,
          7500,
          7750,
          8000,
          8250,
          8500,
          8750,
          9000,
          9250,
          9500,
          9750,
          10000,
          10250,
          10500,
          10750,
          11000,
          11250,
          11500,
          11750,
          12000,
          12250,
          12500,
          12750,
          13000,
          13250,
          13500,
          13750,
          14000,
          14250,
          14500,
          14750,
          15000,
          15250,
          15500,
          15750,
          16000,
          16250,
          16500,
          16750,
          17000,
          17250,
          17500,
          17750,
          18000,
          18250,
          18500,
          18750,
          19000,
          19250,
          19500,
          19750
         ],
         "xaxis": "x",
         "y": [
          -0.324,
          -0.192,
          0.02,
          -0.028,
          0.028,
          0.092,
          0.192,
          0.332,
          0.284,
          0.276,
          0.296,
          0.544,
          0.4,
          0.544,
          0.512,
          0.524,
          0.516,
          0.564,
          0.676,
          0.612,
          0.604,
          0.66,
          0.648,
          0.676,
          0.66,
          0.716,
          0.708,
          0.712,
          0.768,
          0.776,
          0.692,
          0.752,
          0.644,
          0.732,
          0.768,
          0.768,
          0.74,
          0.788,
          0.812,
          0.836,
          0.864,
          0.844,
          0.824,
          0.88,
          0.872,
          0.868,
          0.772,
          0.848,
          0.78,
          0.872,
          0.884,
          0.868,
          0.884,
          0.896,
          0.864,
          0.816,
          0.896,
          0.852,
          0.884,
          0.888,
          0.916,
          0.952,
          0.908,
          0.916,
          0.908,
          0.924,
          0.94,
          0.94,
          0.864,
          0.936,
          0.932,
          0.912,
          0.94,
          0.932,
          0.94,
          0.916,
          0.924,
          0.904,
          0.94,
          0.9
         ],
         "yaxis": "y"
        },
        {
         "hovertemplate": "variable=eps_adv = 0.20<br>Games played=%{x}<br>value=%{y}<extra></extra>",
         "legendgroup": "eps_adv = 0.20",
         "line": {
          "color": "#00cc96",
          "dash": "solid"
         },
         "marker": {
          "symbol": "circle"
         },
         "mode": "lines",
         "name": "eps_adv = 0.20",
         "orientation": "v",
         "showlegend": true,
         "type": "scatter",
         "x": [
          0,
          250,
          500,
          750,
          1000,
          1250,
          1500,
          1750,
          2000,
          2250,
          2500,
          2750,
          3000,
          3250,
          3500,
          3750,
          4000,
          4250,
          4500,
          4750,
          5000,
          5250,
          5500,
          5750,
          6000,
          6250,
          6500,
          6750,
          7000,
          7250,
          7500,
          7750,
          8000,
          8250,
          8500,
          8750,
          9000,
          9250,
          9500,
          9750,
          10000,
          10250,
          10500,
          10750,
          11000,
          11250,
          11500,
          11750,
          12000,
          12250,
          12500,
          12750,
          13000,
          13250,
          13500,
          13750,
          14000,
          14250,
          14500,
          14750,
          15000,
          15250,
          15500,
          15750,
          16000,
          16250,
          16500,
          16750,
          17000,
          17250,
          17500,
          17750,
          18000,
          18250,
          18500,
          18750,
          19000,
          19250,
          19500,
          19750
         ],
         "xaxis": "x",
         "y": [
          -0.416,
          -0.148,
          -0.1,
          0.052,
          0.092,
          0.06,
          0.132,
          0.18,
          0.292,
          0.428,
          0.384,
          0.532,
          0.46,
          0.512,
          0.692,
          0.628,
          0.612,
          0.664,
          0.616,
          0.624,
          0.696,
          0.584,
          0.7,
          0.636,
          0.768,
          0.8,
          0.808,
          0.86,
          0.924,
          0.864,
          0.924,
          0.916,
          0.86,
          0.868,
          0.844,
          0.868,
          0.928,
          0.944,
          0.868,
          0.912,
          0.892,
          0.904,
          0.868,
          0.884,
          0.928,
          0.9,
          0.912,
          0.94,
          0.936,
          0.9,
          0.916,
          0.904,
          0.884,
          0.876,
          0.876,
          0.9,
          0.908,
          0.864,
          0.936,
          0.944,
          0.9,
          0.892,
          0.884,
          0.96,
          0.952,
          0.952,
          0.944,
          0.956,
          0.96,
          0.936,
          0.948,
          0.94,
          0.94,
          0.936,
          0.904,
          0.96,
          0.952,
          0.9,
          0.928,
          0.932
         ],
         "yaxis": "y"
        },
        {
         "hovertemplate": "variable=eps_adv = 0.30<br>Games played=%{x}<br>value=%{y}<extra></extra>",
         "legendgroup": "eps_adv = 0.30",
         "line": {
          "color": "#ab63fa",
          "dash": "solid"
         },
         "marker": {
          "symbol": "circle"
         },
         "mode": "lines",
         "name": "eps_adv = 0.30",
         "orientation": "v",
         "showlegend": true,
         "type": "scatter",
         "x": [
          0,
          250,
          500,
          750,
          1000,
          1250,
          1500,
          1750,
          2000,
          2250,
          2500,
          2750,
          3000,
          3250,
          3500,
          3750,
          4000,
          4250,
          4500,
          4750,
          5000,
          5250,
          5500,
          5750,
          6000,
          6250,
          6500,
          6750,
          7000,
          7250,
          7500,
          7750,
          8000,
          8250,
          8500,
          8750,
          9000,
          9250,
          9500,
          9750,
          10000,
          10250,
          10500,
          10750,
          11000,
          11250,
          11500,
          11750,
          12000,
          12250,
          12500,
          12750,
          13000,
          13250,
          13500,
          13750,
          14000,
          14250,
          14500,
          14750,
          15000,
          15250,
          15500,
          15750,
          16000,
          16250,
          16500,
          16750,
          17000,
          17250,
          17500,
          17750,
          18000,
          18250,
          18500,
          18750,
          19000,
          19250,
          19500,
          19750
         ],
         "xaxis": "x",
         "y": [
          0.056,
          0.112,
          0.108,
          0.264,
          0.252,
          0.452,
          0.5,
          0.64,
          0.628,
          0.624,
          0.68,
          0.676,
          0.636,
          0.724,
          0.764,
          0.848,
          0.788,
          0.756,
          0.76,
          0.816,
          0.68,
          0.816,
          0.856,
          0.872,
          0.824,
          0.872,
          0.868,
          0.816,
          0.888,
          0.86,
          0.904,
          0.944,
          0.904,
          0.88,
          0.924,
          0.968,
          0.928,
          0.94,
          0.892,
          0.944,
          0.972,
          0.964,
          0.928,
          0.964,
          0.912,
          0.952,
          0.948,
          0.912,
          0.948,
          0.892,
          0.94,
          0.94,
          0.924,
          0.944,
          0.968,
          0.952,
          0.956,
          0.948,
          0.96,
          0.94,
          0.872,
          0.908,
          0.904,
          0.96,
          0.94,
          0.936,
          0.98,
          0.952,
          0.952,
          0.964,
          0.9,
          0.956,
          0.88,
          0.968,
          0.976,
          0.928,
          0.94,
          0.94,
          0.972,
          0.956
         ],
         "yaxis": "y"
        },
        {
         "hovertemplate": "variable=eps_adv = 0.40<br>Games played=%{x}<br>value=%{y}<extra></extra>",
         "legendgroup": "eps_adv = 0.40",
         "line": {
          "color": "#FFA15A",
          "dash": "solid"
         },
         "marker": {
          "symbol": "circle"
         },
         "mode": "lines",
         "name": "eps_adv = 0.40",
         "orientation": "v",
         "showlegend": true,
         "type": "scatter",
         "x": [
          0,
          250,
          500,
          750,
          1000,
          1250,
          1500,
          1750,
          2000,
          2250,
          2500,
          2750,
          3000,
          3250,
          3500,
          3750,
          4000,
          4250,
          4500,
          4750,
          5000,
          5250,
          5500,
          5750,
          6000,
          6250,
          6500,
          6750,
          7000,
          7250,
          7500,
          7750,
          8000,
          8250,
          8500,
          8750,
          9000,
          9250,
          9500,
          9750,
          10000,
          10250,
          10500,
          10750,
          11000,
          11250,
          11500,
          11750,
          12000,
          12250,
          12500,
          12750,
          13000,
          13250,
          13500,
          13750,
          14000,
          14250,
          14500,
          14750,
          15000,
          15250,
          15500,
          15750,
          16000,
          16250,
          16500,
          16750,
          17000,
          17250,
          17500,
          17750,
          18000,
          18250,
          18500,
          18750,
          19000,
          19250,
          19500,
          19750
         ],
         "xaxis": "x",
         "y": [
          -0.264,
          -0.048,
          0.08,
          0.444,
          0.344,
          0.388,
          0.48,
          0.644,
          0.668,
          0.692,
          0.724,
          0.668,
          0.7,
          0.792,
          0.812,
          0.788,
          0.38,
          0.808,
          0.848,
          0.864,
          0.812,
          0.856,
          0.9,
          0.872,
          0.896,
          0.892,
          0.92,
          0.908,
          0.904,
          0.828,
          0.844,
          0.884,
          0.932,
          0.884,
          0.892,
          0.892,
          0.956,
          0.964,
          0.924,
          0.956,
          0.92,
          0.908,
          0.96,
          0.936,
          0.952,
          0.948,
          0.948,
          0.972,
          0.98,
          0.932,
          0.928,
          0.9,
          0.812,
          0.924,
          0.968,
          0.924,
          0.968,
          0.948,
          0.94,
          0.92,
          0.908,
          0.956,
          0.96,
          0.904,
          0.928,
          0.968,
          0.952,
          0.956,
          0.976,
          0.972,
          0.972,
          0.972,
          0.96,
          0.92,
          0.948,
          0.944,
          0.976,
          0.98,
          0.956,
          0.904
         ],
         "yaxis": "y"
        },
        {
         "hovertemplate": "variable=eps_adv = 0.50<br>Games played=%{x}<br>value=%{y}<extra></extra>",
         "legendgroup": "eps_adv = 0.50",
         "line": {
          "color": "#19d3f3",
          "dash": "solid"
         },
         "marker": {
          "symbol": "circle"
         },
         "mode": "lines",
         "name": "eps_adv = 0.50",
         "orientation": "v",
         "showlegend": true,
         "type": "scatter",
         "x": [
          0,
          250,
          500,
          750,
          1000,
          1250,
          1500,
          1750,
          2000,
          2250,
          2500,
          2750,
          3000,
          3250,
          3500,
          3750,
          4000,
          4250,
          4500,
          4750,
          5000,
          5250,
          5500,
          5750,
          6000,
          6250,
          6500,
          6750,
          7000,
          7250,
          7500,
          7750,
          8000,
          8250,
          8500,
          8750,
          9000,
          9250,
          9500,
          9750,
          10000,
          10250,
          10500,
          10750,
          11000,
          11250,
          11500,
          11750,
          12000,
          12250,
          12500,
          12750,
          13000,
          13250,
          13500,
          13750,
          14000,
          14250,
          14500,
          14750,
          15000,
          15250,
          15500,
          15750,
          16000,
          16250,
          16500,
          16750,
          17000,
          17250,
          17500,
          17750,
          18000,
          18250,
          18500,
          18750,
          19000,
          19250,
          19500,
          19750
         ],
         "xaxis": "x",
         "y": [
          -0.28,
          0.236,
          0.12,
          0.204,
          0.472,
          0.644,
          0.5,
          0.668,
          0.848,
          0.652,
          0.748,
          0.784,
          0.852,
          0.816,
          0.812,
          0.896,
          0.912,
          0.86,
          0.82,
          0.848,
          0.9,
          0.896,
          0.912,
          0.944,
          0.904,
          0.896,
          0.924,
          0.956,
          0.92,
          0.94,
          0.948,
          0.928,
          0.88,
          0.924,
          0.952,
          0.956,
          0.924,
          0.9,
          0.92,
          0.896,
          0.888,
          0.96,
          0.944,
          0.948,
          0.92,
          0.96,
          0.964,
          0.94,
          0.948,
          0.944,
          0.792,
          0.944,
          0.936,
          0.98,
          0.952,
          0.908,
          0.936,
          0.976,
          0.872,
          0.828,
          0.916,
          0.936,
          0.968,
          0.936,
          0.928,
          0.968,
          0.952,
          0.976,
          0.948,
          0.952,
          0.928,
          0.956,
          0.964,
          0.952,
          0.964,
          0.948,
          0.944,
          0.936,
          0.956,
          0.936
         ],
         "yaxis": "y"
        },
        {
         "hovertemplate": "variable=eps_adv = 0.60<br>Games played=%{x}<br>value=%{y}<extra></extra>",
         "legendgroup": "eps_adv = 0.60",
         "line": {
          "color": "#FF6692",
          "dash": "solid"
         },
         "marker": {
          "symbol": "circle"
         },
         "mode": "lines",
         "name": "eps_adv = 0.60",
         "orientation": "v",
         "showlegend": true,
         "type": "scatter",
         "x": [
          0,
          250,
          500,
          750,
          1000,
          1250,
          1500,
          1750,
          2000,
          2250,
          2500,
          2750,
          3000,
          3250,
          3500,
          3750,
          4000,
          4250,
          4500,
          4750,
          5000,
          5250,
          5500,
          5750,
          6000,
          6250,
          6500,
          6750,
          7000,
          7250,
          7500,
          7750,
          8000,
          8250,
          8500,
          8750,
          9000,
          9250,
          9500,
          9750,
          10000,
          10250,
          10500,
          10750,
          11000,
          11250,
          11500,
          11750,
          12000,
          12250,
          12500,
          12750,
          13000,
          13250,
          13500,
          13750,
          14000,
          14250,
          14500,
          14750,
          15000,
          15250,
          15500,
          15750,
          16000,
          16250,
          16500,
          16750,
          17000,
          17250,
          17500,
          17750,
          18000,
          18250,
          18500,
          18750,
          19000,
          19250,
          19500,
          19750
         ],
         "xaxis": "x",
         "y": [
          -0.164,
          0.344,
          0.328,
          0.548,
          0.596,
          0.612,
          0.704,
          0.664,
          0.624,
          0.636,
          0.712,
          0.744,
          0.772,
          0.776,
          0.832,
          0.872,
          0.816,
          0.86,
          0.864,
          0.848,
          0.824,
          0.792,
          0.892,
          0.836,
          0.872,
          0.884,
          0.88,
          0.904,
          0.828,
          0.892,
          0.888,
          0.916,
          0.904,
          0.884,
          0.892,
          0.884,
          0.876,
          0.932,
          0.876,
          0.936,
          0.9,
          0.896,
          0.928,
          0.9,
          0.912,
          0.908,
          0.936,
          0.936,
          0.968,
          0.924,
          0.932,
          0.936,
          0.928,
          0.884,
          0.92,
          0.928,
          0.864,
          0.904,
          0.952,
          0.936,
          0.936,
          0.928,
          0.932,
          0.956,
          0.964,
          0.964,
          0.916,
          0.964,
          0.936,
          0.96,
          0.936,
          0.948,
          0.932,
          0.864,
          0.972,
          0.888,
          0.964,
          0.936,
          0.972,
          0.912
         ],
         "yaxis": "y"
        },
        {
         "hovertemplate": "variable=eps_adv = 0.70<br>Games played=%{x}<br>value=%{y}<extra></extra>",
         "legendgroup": "eps_adv = 0.70",
         "line": {
          "color": "#B6E880",
          "dash": "solid"
         },
         "marker": {
          "symbol": "circle"
         },
         "mode": "lines",
         "name": "eps_adv = 0.70",
         "orientation": "v",
         "showlegend": true,
         "type": "scatter",
         "x": [
          0,
          250,
          500,
          750,
          1000,
          1250,
          1500,
          1750,
          2000,
          2250,
          2500,
          2750,
          3000,
          3250,
          3500,
          3750,
          4000,
          4250,
          4500,
          4750,
          5000,
          5250,
          5500,
          5750,
          6000,
          6250,
          6500,
          6750,
          7000,
          7250,
          7500,
          7750,
          8000,
          8250,
          8500,
          8750,
          9000,
          9250,
          9500,
          9750,
          10000,
          10250,
          10500,
          10750,
          11000,
          11250,
          11500,
          11750,
          12000,
          12250,
          12500,
          12750,
          13000,
          13250,
          13500,
          13750,
          14000,
          14250,
          14500,
          14750,
          15000,
          15250,
          15500,
          15750,
          16000,
          16250,
          16500,
          16750,
          17000,
          17250,
          17500,
          17750,
          18000,
          18250,
          18500,
          18750,
          19000,
          19250,
          19500,
          19750
         ],
         "xaxis": "x",
         "y": [
          -0.156,
          0.016,
          0.408,
          0.448,
          0.532,
          0.576,
          0.6,
          0.592,
          0.708,
          0.684,
          0.832,
          0.856,
          0.82,
          0.78,
          0.82,
          0.88,
          0.892,
          0.856,
          0.88,
          0.876,
          0.88,
          0.88,
          0.888,
          0.916,
          0.908,
          0.912,
          0.904,
          0.932,
          0.896,
          0.928,
          0.896,
          0.9,
          0.932,
          0.888,
          0.948,
          0.924,
          0.92,
          0.956,
          0.96,
          0.948,
          0.856,
          0.884,
          0.916,
          0.916,
          0.904,
          0.916,
          0.944,
          0.92,
          0.952,
          0.932,
          0.932,
          0.948,
          0.912,
          0.928,
          0.916,
          0.924,
          0.932,
          0.912,
          0.912,
          0.908,
          0.94,
          0.96,
          0.956,
          0.956,
          0.924,
          0.916,
          0.896,
          0.924,
          0.944,
          0.912,
          0.944,
          0.944,
          0.924,
          0.892,
          0.932,
          0.92,
          0.952,
          0.944,
          0.9,
          0.944
         ],
         "yaxis": "y"
        },
        {
         "hovertemplate": "variable=eps_adv = 0.80<br>Games played=%{x}<br>value=%{y}<extra></extra>",
         "legendgroup": "eps_adv = 0.80",
         "line": {
          "color": "#FF97FF",
          "dash": "solid"
         },
         "marker": {
          "symbol": "circle"
         },
         "mode": "lines",
         "name": "eps_adv = 0.80",
         "orientation": "v",
         "showlegend": true,
         "type": "scatter",
         "x": [
          0,
          250,
          500,
          750,
          1000,
          1250,
          1500,
          1750,
          2000,
          2250,
          2500,
          2750,
          3000,
          3250,
          3500,
          3750,
          4000,
          4250,
          4500,
          4750,
          5000,
          5250,
          5500,
          5750,
          6000,
          6250,
          6500,
          6750,
          7000,
          7250,
          7500,
          7750,
          8000,
          8250,
          8500,
          8750,
          9000,
          9250,
          9500,
          9750,
          10000,
          10250,
          10500,
          10750,
          11000,
          11250,
          11500,
          11750,
          12000,
          12250,
          12500,
          12750,
          13000,
          13250,
          13500,
          13750,
          14000,
          14250,
          14500,
          14750,
          15000,
          15250,
          15500,
          15750,
          16000,
          16250,
          16500,
          16750,
          17000,
          17250,
          17500,
          17750,
          18000,
          18250,
          18500,
          18750,
          19000,
          19250,
          19500,
          19750
         ],
         "xaxis": "x",
         "y": [
          -0.364,
          0.096,
          0.416,
          0.556,
          0.68,
          0.764,
          0.7,
          0.728,
          0.732,
          0.672,
          0.868,
          0.808,
          0.8,
          0.856,
          0.86,
          0.868,
          0.876,
          0.816,
          0.856,
          0.804,
          0.856,
          0.848,
          0.84,
          0.9,
          0.856,
          0.88,
          0.928,
          0.872,
          0.812,
          0.848,
          0.904,
          0.888,
          0.92,
          0.892,
          0.844,
          0.876,
          0.96,
          0.956,
          0.916,
          0.9,
          0.952,
          0.876,
          0.952,
          0.916,
          0.948,
          0.948,
          0.924,
          0.9,
          0.952,
          0.908,
          0.904,
          0.924,
          0.924,
          0.936,
          0.916,
          0.94,
          0.868,
          0.912,
          0.876,
          0.92,
          0.908,
          0.928,
          0.876,
          0.884,
          0.92,
          0.936,
          0.952,
          0.964,
          0.94,
          0.888,
          0.9,
          0.888,
          0.852,
          0.9,
          0.912,
          0.896,
          0.936,
          0.944,
          0.924,
          0.86
         ],
         "yaxis": "y"
        },
        {
         "hovertemplate": "variable=eps_adv = 0.90<br>Games played=%{x}<br>value=%{y}<extra></extra>",
         "legendgroup": "eps_adv = 0.90",
         "line": {
          "color": "#FECB52",
          "dash": "solid"
         },
         "marker": {
          "symbol": "circle"
         },
         "mode": "lines",
         "name": "eps_adv = 0.90",
         "orientation": "v",
         "showlegend": true,
         "type": "scatter",
         "x": [
          0,
          250,
          500,
          750,
          1000,
          1250,
          1500,
          1750,
          2000,
          2250,
          2500,
          2750,
          3000,
          3250,
          3500,
          3750,
          4000,
          4250,
          4500,
          4750,
          5000,
          5250,
          5500,
          5750,
          6000,
          6250,
          6500,
          6750,
          7000,
          7250,
          7500,
          7750,
          8000,
          8250,
          8500,
          8750,
          9000,
          9250,
          9500,
          9750,
          10000,
          10250,
          10500,
          10750,
          11000,
          11250,
          11500,
          11750,
          12000,
          12250,
          12500,
          12750,
          13000,
          13250,
          13500,
          13750,
          14000,
          14250,
          14500,
          14750,
          15000,
          15250,
          15500,
          15750,
          16000,
          16250,
          16500,
          16750,
          17000,
          17250,
          17500,
          17750,
          18000,
          18250,
          18500,
          18750,
          19000,
          19250,
          19500,
          19750
         ],
         "xaxis": "x",
         "y": [
          0.012,
          0.432,
          0.28,
          0.524,
          0.588,
          0.58,
          0.716,
          0.756,
          0.72,
          0.68,
          0.756,
          0.796,
          0.812,
          0.84,
          0.78,
          0.824,
          0.828,
          0.84,
          0.904,
          0.852,
          0.876,
          0.852,
          0.812,
          0.788,
          0.84,
          0.84,
          0.9,
          0.836,
          0.788,
          0.884,
          0.908,
          0.896,
          0.896,
          0.9,
          0.908,
          0.928,
          0.892,
          0.888,
          0.884,
          0.924,
          0.832,
          0.9,
          0.884,
          0.864,
          0.884,
          0.908,
          0.876,
          0.884,
          0.888,
          0.888,
          0.888,
          0.92,
          0.92,
          0.868,
          0.896,
          0.88,
          0.836,
          0.908,
          0.888,
          0.884,
          0.9,
          0.916,
          0.916,
          0.828,
          0.864,
          0.964,
          0.888,
          0.932,
          0.852,
          0.916,
          0.844,
          0.892,
          0.928,
          0.856,
          0.932,
          0.912,
          0.92,
          0.896,
          0.952,
          0.952
         ],
         "yaxis": "y"
        },
        {
         "hovertemplate": "variable=eps_adv = 1.00<br>Games played=%{x}<br>value=%{y}<extra></extra>",
         "legendgroup": "eps_adv = 1.00",
         "line": {
          "color": "#636efa",
          "dash": "solid"
         },
         "marker": {
          "symbol": "circle"
         },
         "mode": "lines",
         "name": "eps_adv = 1.00",
         "orientation": "v",
         "showlegend": true,
         "type": "scatter",
         "x": [
          0,
          250,
          500,
          750,
          1000,
          1250,
          1500,
          1750,
          2000,
          2250,
          2500,
          2750,
          3000,
          3250,
          3500,
          3750,
          4000,
          4250,
          4500,
          4750,
          5000,
          5250,
          5500,
          5750,
          6000,
          6250,
          6500,
          6750,
          7000,
          7250,
          7500,
          7750,
          8000,
          8250,
          8500,
          8750,
          9000,
          9250,
          9500,
          9750,
          10000,
          10250,
          10500,
          10750,
          11000,
          11250,
          11500,
          11750,
          12000,
          12250,
          12500,
          12750,
          13000,
          13250,
          13500,
          13750,
          14000,
          14250,
          14500,
          14750,
          15000,
          15250,
          15500,
          15750,
          16000,
          16250,
          16500,
          16750,
          17000,
          17250,
          17500,
          17750,
          18000,
          18250,
          18500,
          18750,
          19000,
          19250,
          19500,
          19750
         ],
         "xaxis": "x",
         "y": [
          -0.176,
          0.132,
          0.312,
          0.484,
          0.48,
          0.516,
          0.516,
          0.624,
          0.696,
          0.732,
          0.684,
          0.736,
          0.752,
          0.772,
          0.74,
          0.728,
          0.772,
          0.676,
          0.66,
          0.796,
          0.816,
          0.756,
          0.824,
          0.828,
          0.784,
          0.848,
          0.84,
          0.84,
          0.884,
          0.808,
          0.816,
          0.856,
          0.832,
          0.824,
          0.852,
          0.884,
          0.888,
          0.8,
          0.884,
          0.88,
          0.836,
          0.74,
          0.804,
          0.832,
          0.904,
          0.94,
          0.904,
          0.896,
          0.884,
          0.872,
          0.892,
          0.872,
          0.868,
          0.9,
          0.888,
          0.9,
          0.844,
          0.904,
          0.856,
          0.848,
          0.86,
          0.92,
          0.848,
          0.848,
          0.888,
          0.884,
          0.856,
          0.912,
          0.92,
          0.908,
          0.908,
          0.848,
          0.868,
          0.928,
          0.896,
          0.872,
          0.88,
          0.848,
          0.92,
          0.86
         ],
         "yaxis": "y"
        }
       ],
       "layout": {
        "legend": {
         "title": {
          "text": "variable"
         },
         "tracegroupgap": 0
        },
        "margin": {
         "t": 60
        },
        "template": {
         "data": {
          "bar": [
           {
            "error_x": {
             "color": "#2a3f5f"
            },
            "error_y": {
             "color": "#2a3f5f"
            },
            "marker": {
             "line": {
              "color": "#E5ECF6",
              "width": 0.5
             },
             "pattern": {
              "fillmode": "overlay",
              "size": 10,
              "solidity": 0.2
             }
            },
            "type": "bar"
           }
          ],
          "barpolar": [
           {
            "marker": {
             "line": {
              "color": "#E5ECF6",
              "width": 0.5
             },
             "pattern": {
              "fillmode": "overlay",
              "size": 10,
              "solidity": 0.2
             }
            },
            "type": "barpolar"
           }
          ],
          "carpet": [
           {
            "aaxis": {
             "endlinecolor": "#2a3f5f",
             "gridcolor": "white",
             "linecolor": "white",
             "minorgridcolor": "white",
             "startlinecolor": "#2a3f5f"
            },
            "baxis": {
             "endlinecolor": "#2a3f5f",
             "gridcolor": "white",
             "linecolor": "white",
             "minorgridcolor": "white",
             "startlinecolor": "#2a3f5f"
            },
            "type": "carpet"
           }
          ],
          "choropleth": [
           {
            "colorbar": {
             "outlinewidth": 0,
             "ticks": ""
            },
            "type": "choropleth"
           }
          ],
          "contour": [
           {
            "colorbar": {
             "outlinewidth": 0,
             "ticks": ""
            },
            "colorscale": [
             [
              0,
              "#0d0887"
             ],
             [
              0.1111111111111111,
              "#46039f"
             ],
             [
              0.2222222222222222,
              "#7201a8"
             ],
             [
              0.3333333333333333,
              "#9c179e"
             ],
             [
              0.4444444444444444,
              "#bd3786"
             ],
             [
              0.5555555555555556,
              "#d8576b"
             ],
             [
              0.6666666666666666,
              "#ed7953"
             ],
             [
              0.7777777777777778,
              "#fb9f3a"
             ],
             [
              0.8888888888888888,
              "#fdca26"
             ],
             [
              1,
              "#f0f921"
             ]
            ],
            "type": "contour"
           }
          ],
          "contourcarpet": [
           {
            "colorbar": {
             "outlinewidth": 0,
             "ticks": ""
            },
            "type": "contourcarpet"
           }
          ],
          "heatmap": [
           {
            "colorbar": {
             "outlinewidth": 0,
             "ticks": ""
            },
            "colorscale": [
             [
              0,
              "#0d0887"
             ],
             [
              0.1111111111111111,
              "#46039f"
             ],
             [
              0.2222222222222222,
              "#7201a8"
             ],
             [
              0.3333333333333333,
              "#9c179e"
             ],
             [
              0.4444444444444444,
              "#bd3786"
             ],
             [
              0.5555555555555556,
              "#d8576b"
             ],
             [
              0.6666666666666666,
              "#ed7953"
             ],
             [
              0.7777777777777778,
              "#fb9f3a"
             ],
             [
              0.8888888888888888,
              "#fdca26"
             ],
             [
              1,
              "#f0f921"
             ]
            ],
            "type": "heatmap"
           }
          ],
          "heatmapgl": [
           {
            "colorbar": {
             "outlinewidth": 0,
             "ticks": ""
            },
            "colorscale": [
             [
              0,
              "#0d0887"
             ],
             [
              0.1111111111111111,
              "#46039f"
             ],
             [
              0.2222222222222222,
              "#7201a8"
             ],
             [
              0.3333333333333333,
              "#9c179e"
             ],
             [
              0.4444444444444444,
              "#bd3786"
             ],
             [
              0.5555555555555556,
              "#d8576b"
             ],
             [
              0.6666666666666666,
              "#ed7953"
             ],
             [
              0.7777777777777778,
              "#fb9f3a"
             ],
             [
              0.8888888888888888,
              "#fdca26"
             ],
             [
              1,
              "#f0f921"
             ]
            ],
            "type": "heatmapgl"
           }
          ],
          "histogram": [
           {
            "marker": {
             "pattern": {
              "fillmode": "overlay",
              "size": 10,
              "solidity": 0.2
             }
            },
            "type": "histogram"
           }
          ],
          "histogram2d": [
           {
            "colorbar": {
             "outlinewidth": 0,
             "ticks": ""
            },
            "colorscale": [
             [
              0,
              "#0d0887"
             ],
             [
              0.1111111111111111,
              "#46039f"
             ],
             [
              0.2222222222222222,
              "#7201a8"
             ],
             [
              0.3333333333333333,
              "#9c179e"
             ],
             [
              0.4444444444444444,
              "#bd3786"
             ],
             [
              0.5555555555555556,
              "#d8576b"
             ],
             [
              0.6666666666666666,
              "#ed7953"
             ],
             [
              0.7777777777777778,
              "#fb9f3a"
             ],
             [
              0.8888888888888888,
              "#fdca26"
             ],
             [
              1,
              "#f0f921"
             ]
            ],
            "type": "histogram2d"
           }
          ],
          "histogram2dcontour": [
           {
            "colorbar": {
             "outlinewidth": 0,
             "ticks": ""
            },
            "colorscale": [
             [
              0,
              "#0d0887"
             ],
             [
              0.1111111111111111,
              "#46039f"
             ],
             [
              0.2222222222222222,
              "#7201a8"
             ],
             [
              0.3333333333333333,
              "#9c179e"
             ],
             [
              0.4444444444444444,
              "#bd3786"
             ],
             [
              0.5555555555555556,
              "#d8576b"
             ],
             [
              0.6666666666666666,
              "#ed7953"
             ],
             [
              0.7777777777777778,
              "#fb9f3a"
             ],
             [
              0.8888888888888888,
              "#fdca26"
             ],
             [
              1,
              "#f0f921"
             ]
            ],
            "type": "histogram2dcontour"
           }
          ],
          "mesh3d": [
           {
            "colorbar": {
             "outlinewidth": 0,
             "ticks": ""
            },
            "type": "mesh3d"
           }
          ],
          "parcoords": [
           {
            "line": {
             "colorbar": {
              "outlinewidth": 0,
              "ticks": ""
             }
            },
            "type": "parcoords"
           }
          ],
          "pie": [
           {
            "automargin": true,
            "type": "pie"
           }
          ],
          "scatter": [
           {
            "fillpattern": {
             "fillmode": "overlay",
             "size": 10,
             "solidity": 0.2
            },
            "type": "scatter"
           }
          ],
          "scatter3d": [
           {
            "line": {
             "colorbar": {
              "outlinewidth": 0,
              "ticks": ""
             }
            },
            "marker": {
             "colorbar": {
              "outlinewidth": 0,
              "ticks": ""
             }
            },
            "type": "scatter3d"
           }
          ],
          "scattercarpet": [
           {
            "marker": {
             "colorbar": {
              "outlinewidth": 0,
              "ticks": ""
             }
            },
            "type": "scattercarpet"
           }
          ],
          "scattergeo": [
           {
            "marker": {
             "colorbar": {
              "outlinewidth": 0,
              "ticks": ""
             }
            },
            "type": "scattergeo"
           }
          ],
          "scattergl": [
           {
            "marker": {
             "colorbar": {
              "outlinewidth": 0,
              "ticks": ""
             }
            },
            "type": "scattergl"
           }
          ],
          "scattermapbox": [
           {
            "marker": {
             "colorbar": {
              "outlinewidth": 0,
              "ticks": ""
             }
            },
            "type": "scattermapbox"
           }
          ],
          "scatterpolar": [
           {
            "marker": {
             "colorbar": {
              "outlinewidth": 0,
              "ticks": ""
             }
            },
            "type": "scatterpolar"
           }
          ],
          "scatterpolargl": [
           {
            "marker": {
             "colorbar": {
              "outlinewidth": 0,
              "ticks": ""
             }
            },
            "type": "scatterpolargl"
           }
          ],
          "scatterternary": [
           {
            "marker": {
             "colorbar": {
              "outlinewidth": 0,
              "ticks": ""
             }
            },
            "type": "scatterternary"
           }
          ],
          "surface": [
           {
            "colorbar": {
             "outlinewidth": 0,
             "ticks": ""
            },
            "colorscale": [
             [
              0,
              "#0d0887"
             ],
             [
              0.1111111111111111,
              "#46039f"
             ],
             [
              0.2222222222222222,
              "#7201a8"
             ],
             [
              0.3333333333333333,
              "#9c179e"
             ],
             [
              0.4444444444444444,
              "#bd3786"
             ],
             [
              0.5555555555555556,
              "#d8576b"
             ],
             [
              0.6666666666666666,
              "#ed7953"
             ],
             [
              0.7777777777777778,
              "#fb9f3a"
             ],
             [
              0.8888888888888888,
              "#fdca26"
             ],
             [
              1,
              "#f0f921"
             ]
            ],
            "type": "surface"
           }
          ],
          "table": [
           {
            "cells": {
             "fill": {
              "color": "#EBF0F8"
             },
             "line": {
              "color": "white"
             }
            },
            "header": {
             "fill": {
              "color": "#C8D4E3"
             },
             "line": {
              "color": "white"
             }
            },
            "type": "table"
           }
          ]
         },
         "layout": {
          "annotationdefaults": {
           "arrowcolor": "#2a3f5f",
           "arrowhead": 0,
           "arrowwidth": 1
          },
          "autotypenumbers": "strict",
          "coloraxis": {
           "colorbar": {
            "outlinewidth": 0,
            "ticks": ""
           }
          },
          "colorscale": {
           "diverging": [
            [
             0,
             "#8e0152"
            ],
            [
             0.1,
             "#c51b7d"
            ],
            [
             0.2,
             "#de77ae"
            ],
            [
             0.3,
             "#f1b6da"
            ],
            [
             0.4,
             "#fde0ef"
            ],
            [
             0.5,
             "#f7f7f7"
            ],
            [
             0.6,
             "#e6f5d0"
            ],
            [
             0.7,
             "#b8e186"
            ],
            [
             0.8,
             "#7fbc41"
            ],
            [
             0.9,
             "#4d9221"
            ],
            [
             1,
             "#276419"
            ]
           ],
           "sequential": [
            [
             0,
             "#0d0887"
            ],
            [
             0.1111111111111111,
             "#46039f"
            ],
            [
             0.2222222222222222,
             "#7201a8"
            ],
            [
             0.3333333333333333,
             "#9c179e"
            ],
            [
             0.4444444444444444,
             "#bd3786"
            ],
            [
             0.5555555555555556,
             "#d8576b"
            ],
            [
             0.6666666666666666,
             "#ed7953"
            ],
            [
             0.7777777777777778,
             "#fb9f3a"
            ],
            [
             0.8888888888888888,
             "#fdca26"
            ],
            [
             1,
             "#f0f921"
            ]
           ],
           "sequentialminus": [
            [
             0,
             "#0d0887"
            ],
            [
             0.1111111111111111,
             "#46039f"
            ],
            [
             0.2222222222222222,
             "#7201a8"
            ],
            [
             0.3333333333333333,
             "#9c179e"
            ],
            [
             0.4444444444444444,
             "#bd3786"
            ],
            [
             0.5555555555555556,
             "#d8576b"
            ],
            [
             0.6666666666666666,
             "#ed7953"
            ],
            [
             0.7777777777777778,
             "#fb9f3a"
            ],
            [
             0.8888888888888888,
             "#fdca26"
            ],
            [
             1,
             "#f0f921"
            ]
           ]
          },
          "colorway": [
           "#636efa",
           "#EF553B",
           "#00cc96",
           "#ab63fa",
           "#FFA15A",
           "#19d3f3",
           "#FF6692",
           "#B6E880",
           "#FF97FF",
           "#FECB52"
          ],
          "font": {
           "color": "#2a3f5f"
          },
          "geo": {
           "bgcolor": "white",
           "lakecolor": "white",
           "landcolor": "#E5ECF6",
           "showlakes": true,
           "showland": true,
           "subunitcolor": "white"
          },
          "hoverlabel": {
           "align": "left"
          },
          "hovermode": "closest",
          "mapbox": {
           "style": "light"
          },
          "paper_bgcolor": "white",
          "plot_bgcolor": "#E5ECF6",
          "polar": {
           "angularaxis": {
            "gridcolor": "white",
            "linecolor": "white",
            "ticks": ""
           },
           "bgcolor": "#E5ECF6",
           "radialaxis": {
            "gridcolor": "white",
            "linecolor": "white",
            "ticks": ""
           }
          },
          "scene": {
           "xaxis": {
            "backgroundcolor": "#E5ECF6",
            "gridcolor": "white",
            "gridwidth": 2,
            "linecolor": "white",
            "showbackground": true,
            "ticks": "",
            "zerolinecolor": "white"
           },
           "yaxis": {
            "backgroundcolor": "#E5ECF6",
            "gridcolor": "white",
            "gridwidth": 2,
            "linecolor": "white",
            "showbackground": true,
            "ticks": "",
            "zerolinecolor": "white"
           },
           "zaxis": {
            "backgroundcolor": "#E5ECF6",
            "gridcolor": "white",
            "gridwidth": 2,
            "linecolor": "white",
            "showbackground": true,
            "ticks": "",
            "zerolinecolor": "white"
           }
          },
          "shapedefaults": {
           "line": {
            "color": "#2a3f5f"
           }
          },
          "ternary": {
           "aaxis": {
            "gridcolor": "white",
            "linecolor": "white",
            "ticks": ""
           },
           "baxis": {
            "gridcolor": "white",
            "linecolor": "white",
            "ticks": ""
           },
           "bgcolor": "#E5ECF6",
           "caxis": {
            "gridcolor": "white",
            "linecolor": "white",
            "ticks": ""
           }
          },
          "title": {
           "x": 0.05
          },
          "xaxis": {
           "automargin": true,
           "gridcolor": "white",
           "linecolor": "white",
           "ticks": "",
           "title": {
            "standoff": 15
           },
           "zerolinecolor": "white",
           "zerolinewidth": 2
          },
          "yaxis": {
           "automargin": true,
           "gridcolor": "white",
           "linecolor": "white",
           "ticks": "",
           "title": {
            "standoff": 15
           },
           "zerolinecolor": "white",
           "zerolinewidth": 2
          }
         }
        },
        "width": 800,
        "xaxis": {
         "anchor": "y",
         "domain": [
          0,
          1
         ],
         "title": {
          "text": "Games played"
         }
        },
        "yaxis": {
         "anchor": "x",
         "domain": [
          0,
          1
         ],
         "title": {
          "text": "Mrand"
         }
        }
       }
      }
     },
     "metadata": {},
     "output_type": "display_data"
    }
   ],
   "source": [
    "eps_adv_values = np.linspace(0,1,11)\n",
    "question14_results = deep_q_questions_results[3]\n",
    "\n",
    "df1 = {'Games played':list(np.arange(0,20000//METRICS_FREQUENCY)*METRICS_FREQUENCY)} # mean reward\n",
    "df2 = {'Games played':list(np.arange(0,20000//METRICS_FREQUENCY)*METRICS_FREQUENCY)} # loss\n",
    "df3 = {'Games played':list(np.arange(0,20000//METRICS_FREQUENCY)*METRICS_FREQUENCY)} # Mopt\n",
    "df4 = {'Games played':list(np.arange(0,20000//METRICS_FREQUENCY)*METRICS_FREQUENCY)} # Mrand\n",
    "\n",
    "for idx, metrics in enumerate(question14_results):\n",
    "    df1[f\"eps_adv = {eps_adv_values[idx]:0.2f}\"] = metrics[0]\n",
    "    df2[f\"eps_adv = {eps_adv_values[idx]:0.2f}\"] = metrics[1]\n",
    "    df3[f\"eps_adv = {eps_adv_values[idx]:0.2f}\"] = metrics[2]\n",
    "    df4[f\"eps_adv = {eps_adv_values[idx]:0.2f}\"] = metrics[3]\n",
    "\n",
    "df1 = pd.DataFrame(df1)\n",
    "df2 = pd.DataFrame(df2)\n",
    "df3 = pd.DataFrame(df3)\n",
    "df4 = pd.DataFrame(df4)\n",
    "\n",
    "fig1 = px.line(df1, x='Games played', y=df1.columns.difference(['Games played']), title=\"Training with testing on different adversary's eps values\")\n",
    "fig1.update_layout(xaxis_title='Games played', yaxis_title='Reward', width = 800)\n",
    "fig2 = px.line(df2, x='Games played', y=df2.columns.difference(['Games played']))\n",
    "fig2.update_layout(xaxis_title='Games played', yaxis_title='Loss', width = 800)\n",
    "fig3 = px.line(df3, x='Games played', y=df3.columns.difference(['Games played']))\n",
    "fig3.update_layout(xaxis_title='Games played', yaxis_title='Mopt', width = 800)\n",
    "fig4 = px.line(df4, x='Games played', y=df4.columns.difference(['Games played']))\n",
    "fig4.update_layout(xaxis_title='Games played', yaxis_title='Mrand', width = 800)\n",
    "\n",
    "fig1.show()\n",
    "fig2.show()\n",
    "fig3.show()\n",
    "fig4.show()\n",
    "#single_image_subplots(\"Training with testing on different adversary's eps values\", question14_results, eps_adv_values, 3, tot_height=12, tot_width=18)"
   ]
  },
  {
   "cell_type": "markdown",
   "metadata": {
    "collapsed": false,
    "pycharm": {
     "name": "#%% md\n"
    }
   },
   "source": [
    "### Question 15\n",
    "What are the highest values of Mopt and Mrand that you could achieve after playing 20’000 games?"
   ]
  },
  {
   "cell_type": "markdown",
   "metadata": {
    "collapsed": false,
    "pycharm": {
     "name": "#%% md\n"
    }
   },
   "source": [
    "## 3.3 Learning by self-practice\n",
    "For different values of eps ∈ [0, 1), run a DQN agent against itself for 20’000 games – i.e. both players use the same neural network and share the same replay buffer.\n",
    "### Question 16\n",
    "After every 250 games during training, compute the ‘test’ Mopt and Mrand for different values of eps ∈ [0, 1). Plot Mopt and Mrand over time. Does the agent learn to play Nim? What is the effect of eps?\n",
    "Expected answer: A figure showing Mopt and Mrand over time for different values of eps ∈ [0, 1) (caption length < 100 words)"
   ]
  },
  {
   "cell_type": "code",
   "execution_count": 56,
   "metadata": {
    "collapsed": false,
    "pycharm": {
     "name": "#%%\n"
    }
   },
   "outputs": [],
   "source": [
    "if not use_backup:\n",
    "    question16_results=[]\n",
    "    eps_values = np.linspace(0,1,11)\n",
    "    for eps in eps_values:\n",
    "        metrics, _  =  deep_q_learning(player_dqn=DQNAgent( epsilon= eps), maxGames=20000, test=True, self_learning= True)\n",
    "        question16_results.append(metrics)\n",
    "    deep_q_questions_results.append(question16_results)"
   ]
  },
  {
   "cell_type": "code",
   "execution_count": 68,
   "metadata": {
    "collapsed": false,
    "pycharm": {
     "name": "#%%\n"
    }
   },
   "outputs": [
    {
     "data": {
      "application/vnd.plotly.v1+json": {
       "config": {
        "plotlyServerURL": "https://plot.ly"
       },
       "data": [
        {
         "hovertemplate": "variable=eps = 0.00<br>Games played=%{x}<br>value=%{y}<extra></extra>",
         "legendgroup": "eps = 0.00",
         "line": {
          "color": "#636efa",
          "dash": "solid"
         },
         "marker": {
          "symbol": "circle"
         },
         "mode": "lines",
         "name": "eps = 0.00",
         "orientation": "v",
         "showlegend": true,
         "type": "scatter",
         "x": [
          0,
          250,
          500,
          750,
          1000,
          1250,
          1500,
          1750,
          2000,
          2250,
          2500,
          2750,
          3000,
          3250,
          3500,
          3750,
          4000,
          4250,
          4500,
          4750,
          5000,
          5250,
          5500,
          5750,
          6000,
          6250,
          6500,
          6750,
          7000,
          7250,
          7500,
          7750,
          8000,
          8250,
          8500,
          8750,
          9000,
          9250,
          9500,
          9750,
          10000,
          10250,
          10500,
          10750,
          11000,
          11250,
          11500,
          11750,
          12000,
          12250,
          12500,
          12750,
          13000,
          13250,
          13500,
          13750,
          14000,
          14250,
          14500,
          14750,
          15000,
          15250,
          15500,
          15750,
          16000,
          16250,
          16500,
          16750,
          17000,
          17250,
          17500,
          17750,
          18000,
          18250,
          18500,
          18750,
          19000,
          19250,
          19500,
          19750
         ],
         "xaxis": "x",
         "y": [
          -0.04,
          -0.056,
          0,
          -0.048,
          0.056,
          0.104,
          0,
          0.072,
          -0.08,
          0.08,
          -0.016,
          -0.04,
          -0.104,
          -0.024,
          0.136,
          -0.064,
          0.032,
          -0.056,
          0.096,
          -0.008,
          -0.096,
          0.008,
          -0.032,
          0.016,
          -0.008,
          0.032,
          -0.2,
          0.032,
          0.04,
          -0.04,
          -0.032,
          0.032,
          -0.024,
          -0.016,
          0.12,
          -0.088,
          -0.04,
          0,
          -0.032,
          -0.024,
          0.104,
          -0.112,
          -0.032,
          0.08,
          -0.024,
          0.072,
          -0.024,
          0.048,
          0.112,
          -0.024,
          0.072,
          0.008,
          0.072,
          0.088,
          0,
          0.04,
          0.072,
          0.064,
          -0.008,
          0.088,
          0.008,
          -0.088,
          -0.128,
          -0.024,
          0.088,
          0,
          0.024,
          0.04,
          -0.064,
          0.04,
          -0.032,
          -0.024,
          0.008,
          -0.016,
          0.032,
          -0.016,
          0.088,
          0.04,
          -0.08,
          -0.048
         ],
         "yaxis": "y"
        },
        {
         "hovertemplate": "variable=eps = 0.10<br>Games played=%{x}<br>value=%{y}<extra></extra>",
         "legendgroup": "eps = 0.10",
         "line": {
          "color": "#EF553B",
          "dash": "solid"
         },
         "marker": {
          "symbol": "circle"
         },
         "mode": "lines",
         "name": "eps = 0.10",
         "orientation": "v",
         "showlegend": true,
         "type": "scatter",
         "x": [
          0,
          250,
          500,
          750,
          1000,
          1250,
          1500,
          1750,
          2000,
          2250,
          2500,
          2750,
          3000,
          3250,
          3500,
          3750,
          4000,
          4250,
          4500,
          4750,
          5000,
          5250,
          5500,
          5750,
          6000,
          6250,
          6500,
          6750,
          7000,
          7250,
          7500,
          7750,
          8000,
          8250,
          8500,
          8750,
          9000,
          9250,
          9500,
          9750,
          10000,
          10250,
          10500,
          10750,
          11000,
          11250,
          11500,
          11750,
          12000,
          12250,
          12500,
          12750,
          13000,
          13250,
          13500,
          13750,
          14000,
          14250,
          14500,
          14750,
          15000,
          15250,
          15500,
          15750,
          16000,
          16250,
          16500,
          16750,
          17000,
          17250,
          17500,
          17750,
          18000,
          18250,
          18500,
          18750,
          19000,
          19250,
          19500,
          19750
         ],
         "xaxis": "x",
         "y": [
          0.064,
          -0.024,
          0.064,
          0.048,
          0.024,
          -0.032,
          -0.064,
          0.016,
          0.008,
          -0.088,
          -0.048,
          -0.064,
          0.048,
          -0.024,
          0.08,
          -0.032,
          -0.008,
          0.024,
          -0.016,
          -0.064,
          0.088,
          -0.048,
          -0.024,
          -0.048,
          0.104,
          -0.152,
          -0.072,
          0.088,
          0.144,
          -0.056,
          0.088,
          -0.024,
          0.056,
          -0.072,
          -0.04,
          0.008,
          -0.04,
          -0.064,
          0.056,
          0.04,
          0.04,
          -0.024,
          0,
          0.056,
          -0.072,
          -0.048,
          0.016,
          -0.04,
          0.032,
          0.056,
          0.008,
          0.04,
          0.064,
          -0.04,
          0.016,
          0.12,
          -0.008,
          0.112,
          0.032,
          -0.016,
          -0.064,
          0.04,
          -0.04,
          -0.008,
          -0.056,
          0.048,
          0.032,
          0.04,
          -0.072,
          0.152,
          0.008,
          -0.024,
          0.104,
          -0.032,
          0.144,
          0.04,
          0.048,
          0.064,
          0.064,
          0.024
         ],
         "yaxis": "y"
        },
        {
         "hovertemplate": "variable=eps = 0.20<br>Games played=%{x}<br>value=%{y}<extra></extra>",
         "legendgroup": "eps = 0.20",
         "line": {
          "color": "#00cc96",
          "dash": "solid"
         },
         "marker": {
          "symbol": "circle"
         },
         "mode": "lines",
         "name": "eps = 0.20",
         "orientation": "v",
         "showlegend": true,
         "type": "scatter",
         "x": [
          0,
          250,
          500,
          750,
          1000,
          1250,
          1500,
          1750,
          2000,
          2250,
          2500,
          2750,
          3000,
          3250,
          3500,
          3750,
          4000,
          4250,
          4500,
          4750,
          5000,
          5250,
          5500,
          5750,
          6000,
          6250,
          6500,
          6750,
          7000,
          7250,
          7500,
          7750,
          8000,
          8250,
          8500,
          8750,
          9000,
          9250,
          9500,
          9750,
          10000,
          10250,
          10500,
          10750,
          11000,
          11250,
          11500,
          11750,
          12000,
          12250,
          12500,
          12750,
          13000,
          13250,
          13500,
          13750,
          14000,
          14250,
          14500,
          14750,
          15000,
          15250,
          15500,
          15750,
          16000,
          16250,
          16500,
          16750,
          17000,
          17250,
          17500,
          17750,
          18000,
          18250,
          18500,
          18750,
          19000,
          19250,
          19500,
          19750
         ],
         "xaxis": "x",
         "y": [
          -0.12,
          -0.064,
          0.056,
          -0.136,
          0.064,
          0.064,
          0.056,
          0,
          -0.112,
          -0.048,
          0.128,
          0.184,
          0.024,
          -0.032,
          0.04,
          0.232,
          0.008,
          -0.024,
          -0.136,
          0.12,
          0.08,
          -0.12,
          -0.016,
          0,
          0.128,
          -0.024,
          -0.04,
          0.072,
          0.04,
          0,
          0.04,
          0.056,
          0.024,
          0.04,
          0.04,
          0.016,
          -0.04,
          -0.016,
          0.032,
          0.032,
          0.056,
          -0.048,
          -0.128,
          -0.016,
          -0.016,
          -0.056,
          -0.032,
          0.016,
          0.08,
          0.016,
          -0.008,
          0.032,
          -0.056,
          -0.128,
          0.024,
          0.152,
          0.144,
          0.056,
          0.072,
          -0.104,
          -0.032,
          -0.024,
          -0.016,
          -0.064,
          0.072,
          -0.032,
          0.104,
          -0.016,
          0.016,
          -0.048,
          -0.048,
          0.032,
          0.008,
          -0.048,
          0.048,
          0,
          -0.088,
          -0.144,
          0.112,
          -0.032
         ],
         "yaxis": "y"
        },
        {
         "hovertemplate": "variable=eps = 0.30<br>Games played=%{x}<br>value=%{y}<extra></extra>",
         "legendgroup": "eps = 0.30",
         "line": {
          "color": "#ab63fa",
          "dash": "solid"
         },
         "marker": {
          "symbol": "circle"
         },
         "mode": "lines",
         "name": "eps = 0.30",
         "orientation": "v",
         "showlegend": true,
         "type": "scatter",
         "x": [
          0,
          250,
          500,
          750,
          1000,
          1250,
          1500,
          1750,
          2000,
          2250,
          2500,
          2750,
          3000,
          3250,
          3500,
          3750,
          4000,
          4250,
          4500,
          4750,
          5000,
          5250,
          5500,
          5750,
          6000,
          6250,
          6500,
          6750,
          7000,
          7250,
          7500,
          7750,
          8000,
          8250,
          8500,
          8750,
          9000,
          9250,
          9500,
          9750,
          10000,
          10250,
          10500,
          10750,
          11000,
          11250,
          11500,
          11750,
          12000,
          12250,
          12500,
          12750,
          13000,
          13250,
          13500,
          13750,
          14000,
          14250,
          14500,
          14750,
          15000,
          15250,
          15500,
          15750,
          16000,
          16250,
          16500,
          16750,
          17000,
          17250,
          17500,
          17750,
          18000,
          18250,
          18500,
          18750,
          19000,
          19250,
          19500,
          19750
         ],
         "xaxis": "x",
         "y": [
          0,
          -0.096,
          0.048,
          -0.04,
          0.128,
          -0.016,
          0.088,
          -0.072,
          -0.112,
          -0.064,
          -0.024,
          0.112,
          0.048,
          -0.024,
          -0.008,
          0.056,
          0.056,
          -0.064,
          0.08,
          0.04,
          0.016,
          0.04,
          0.088,
          -0.016,
          0.016,
          0.056,
          -0.056,
          -0.008,
          0.032,
          -0.008,
          0.104,
          0.04,
          -0.12,
          -0.096,
          0.04,
          0.056,
          0.008,
          -0.08,
          0.064,
          0.048,
          0.128,
          0.072,
          -0.048,
          0.032,
          0.024,
          -0.048,
          -0.008,
          -0.016,
          0,
          -0.072,
          0.008,
          0.008,
          0,
          0.072,
          0,
          -0.104,
          0.016,
          0.072,
          -0.016,
          -0.024,
          0.056,
          0.072,
          0.048,
          0.032,
          0.112,
          -0.072,
          0,
          -0.048,
          -0.104,
          0,
          0,
          0.056,
          0.008,
          -0.008,
          0.056,
          -0.008,
          -0.096,
          0.024,
          0.072,
          -0.024
         ],
         "yaxis": "y"
        },
        {
         "hovertemplate": "variable=eps = 0.40<br>Games played=%{x}<br>value=%{y}<extra></extra>",
         "legendgroup": "eps = 0.40",
         "line": {
          "color": "#FFA15A",
          "dash": "solid"
         },
         "marker": {
          "symbol": "circle"
         },
         "mode": "lines",
         "name": "eps = 0.40",
         "orientation": "v",
         "showlegend": true,
         "type": "scatter",
         "x": [
          0,
          250,
          500,
          750,
          1000,
          1250,
          1500,
          1750,
          2000,
          2250,
          2500,
          2750,
          3000,
          3250,
          3500,
          3750,
          4000,
          4250,
          4500,
          4750,
          5000,
          5250,
          5500,
          5750,
          6000,
          6250,
          6500,
          6750,
          7000,
          7250,
          7500,
          7750,
          8000,
          8250,
          8500,
          8750,
          9000,
          9250,
          9500,
          9750,
          10000,
          10250,
          10500,
          10750,
          11000,
          11250,
          11500,
          11750,
          12000,
          12250,
          12500,
          12750,
          13000,
          13250,
          13500,
          13750,
          14000,
          14250,
          14500,
          14750,
          15000,
          15250,
          15500,
          15750,
          16000,
          16250,
          16500,
          16750,
          17000,
          17250,
          17500,
          17750,
          18000,
          18250,
          18500,
          18750,
          19000,
          19250,
          19500,
          19750
         ],
         "xaxis": "x",
         "y": [
          -0.064,
          0.12,
          0.096,
          -0.104,
          -0.016,
          0.136,
          0.072,
          0.096,
          0,
          -0.064,
          0.048,
          0.032,
          -0.088,
          -0.088,
          0.024,
          -0.096,
          -0.024,
          0.032,
          -0.032,
          -0.072,
          0.064,
          -0.072,
          -0.032,
          0.128,
          -0.008,
          -0.04,
          0.04,
          0.032,
          0.016,
          -0.12,
          0.024,
          0.048,
          0.048,
          0.008,
          -0.08,
          -0.088,
          0.048,
          -0.016,
          0.008,
          0.024,
          -0.04,
          -0.136,
          -0.016,
          0,
          -0.072,
          0.016,
          0.008,
          0.032,
          0.024,
          0.104,
          -0.016,
          0.104,
          -0.008,
          -0.096,
          -0.12,
          0.016,
          -0.016,
          0.024,
          0.024,
          0.072,
          0.048,
          -0.048,
          -0.136,
          -0.048,
          0.096,
          0.072,
          0.064,
          -0.016,
          0.104,
          -0.048,
          0.144,
          0.008,
          -0.04,
          0.04,
          0.008,
          -0.04,
          -0.016,
          -0.08,
          0.024,
          -0.024
         ],
         "yaxis": "y"
        },
        {
         "hovertemplate": "variable=eps = 0.50<br>Games played=%{x}<br>value=%{y}<extra></extra>",
         "legendgroup": "eps = 0.50",
         "line": {
          "color": "#19d3f3",
          "dash": "solid"
         },
         "marker": {
          "symbol": "circle"
         },
         "mode": "lines",
         "name": "eps = 0.50",
         "orientation": "v",
         "showlegend": true,
         "type": "scatter",
         "x": [
          0,
          250,
          500,
          750,
          1000,
          1250,
          1500,
          1750,
          2000,
          2250,
          2500,
          2750,
          3000,
          3250,
          3500,
          3750,
          4000,
          4250,
          4500,
          4750,
          5000,
          5250,
          5500,
          5750,
          6000,
          6250,
          6500,
          6750,
          7000,
          7250,
          7500,
          7750,
          8000,
          8250,
          8500,
          8750,
          9000,
          9250,
          9500,
          9750,
          10000,
          10250,
          10500,
          10750,
          11000,
          11250,
          11500,
          11750,
          12000,
          12250,
          12500,
          12750,
          13000,
          13250,
          13500,
          13750,
          14000,
          14250,
          14500,
          14750,
          15000,
          15250,
          15500,
          15750,
          16000,
          16250,
          16500,
          16750,
          17000,
          17250,
          17500,
          17750,
          18000,
          18250,
          18500,
          18750,
          19000,
          19250,
          19500,
          19750
         ],
         "xaxis": "x",
         "y": [
          0.144,
          -0.08,
          -0.048,
          0.08,
          -0.072,
          -0.112,
          0.072,
          0.096,
          0.04,
          0.008,
          0,
          -0.056,
          -0.088,
          0.064,
          0,
          0.048,
          -0.096,
          -0.032,
          0.064,
          0.08,
          -0.136,
          -0.016,
          0.064,
          0.04,
          0.136,
          0.032,
          0.048,
          -0.008,
          -0.032,
          -0.008,
          -0.056,
          0.104,
          -0.024,
          -0.008,
          0.048,
          0.16,
          0.032,
          -0.088,
          0.024,
          0.04,
          0.048,
          -0.04,
          -0.144,
          0.088,
          0.072,
          0.024,
          -0.136,
          -0.032,
          -0.056,
          0.04,
          -0.032,
          -0.008,
          -0.04,
          0.088,
          -0.016,
          0.088,
          0.064,
          -0.016,
          -0.072,
          0.088,
          0.048,
          0,
          0.056,
          0.04,
          -0.032,
          -0.032,
          -0.04,
          -0.024,
          0.04,
          -0.008,
          0.008,
          0.048,
          -0.024,
          0.008,
          -0.008,
          -0.112,
          -0.008,
          -0.008,
          0.016,
          0.064
         ],
         "yaxis": "y"
        },
        {
         "hovertemplate": "variable=eps = 0.60<br>Games played=%{x}<br>value=%{y}<extra></extra>",
         "legendgroup": "eps = 0.60",
         "line": {
          "color": "#FF6692",
          "dash": "solid"
         },
         "marker": {
          "symbol": "circle"
         },
         "mode": "lines",
         "name": "eps = 0.60",
         "orientation": "v",
         "showlegend": true,
         "type": "scatter",
         "x": [
          0,
          250,
          500,
          750,
          1000,
          1250,
          1500,
          1750,
          2000,
          2250,
          2500,
          2750,
          3000,
          3250,
          3500,
          3750,
          4000,
          4250,
          4500,
          4750,
          5000,
          5250,
          5500,
          5750,
          6000,
          6250,
          6500,
          6750,
          7000,
          7250,
          7500,
          7750,
          8000,
          8250,
          8500,
          8750,
          9000,
          9250,
          9500,
          9750,
          10000,
          10250,
          10500,
          10750,
          11000,
          11250,
          11500,
          11750,
          12000,
          12250,
          12500,
          12750,
          13000,
          13250,
          13500,
          13750,
          14000,
          14250,
          14500,
          14750,
          15000,
          15250,
          15500,
          15750,
          16000,
          16250,
          16500,
          16750,
          17000,
          17250,
          17500,
          17750,
          18000,
          18250,
          18500,
          18750,
          19000,
          19250,
          19500,
          19750
         ],
         "xaxis": "x",
         "y": [
          -0.032,
          0.088,
          -0.064,
          0.112,
          -0.056,
          -0.016,
          0.008,
          -0.128,
          -0.016,
          0.032,
          0.12,
          0.016,
          -0.056,
          0,
          0.088,
          -0.008,
          -0.008,
          0.008,
          -0.152,
          0.072,
          0.064,
          -0.128,
          0.096,
          0.056,
          0.088,
          0.064,
          -0.032,
          -0.104,
          -0.032,
          -0.032,
          0,
          0.016,
          0.096,
          0.096,
          0.016,
          -0.072,
          -0.096,
          -0.04,
          -0.104,
          0.04,
          0.064,
          0.024,
          -0.048,
          -0.048,
          -0.048,
          0.144,
          -0.048,
          0.056,
          -0.064,
          0.024,
          -0.072,
          -0.096,
          0.048,
          -0.168,
          0.064,
          -0.048,
          0.056,
          -0.08,
          0.048,
          0.016,
          -0.024,
          -0.096,
          0.016,
          0.064,
          0.112,
          -0.096,
          -0.016,
          -0.128,
          -0.008,
          0.088,
          0.016,
          0.024,
          0.088,
          0.032,
          -0.176,
          0.016,
          0.112,
          -0.064,
          -0.072,
          -0.024
         ],
         "yaxis": "y"
        },
        {
         "hovertemplate": "variable=eps = 0.70<br>Games played=%{x}<br>value=%{y}<extra></extra>",
         "legendgroup": "eps = 0.70",
         "line": {
          "color": "#B6E880",
          "dash": "solid"
         },
         "marker": {
          "symbol": "circle"
         },
         "mode": "lines",
         "name": "eps = 0.70",
         "orientation": "v",
         "showlegend": true,
         "type": "scatter",
         "x": [
          0,
          250,
          500,
          750,
          1000,
          1250,
          1500,
          1750,
          2000,
          2250,
          2500,
          2750,
          3000,
          3250,
          3500,
          3750,
          4000,
          4250,
          4500,
          4750,
          5000,
          5250,
          5500,
          5750,
          6000,
          6250,
          6500,
          6750,
          7000,
          7250,
          7500,
          7750,
          8000,
          8250,
          8500,
          8750,
          9000,
          9250,
          9500,
          9750,
          10000,
          10250,
          10500,
          10750,
          11000,
          11250,
          11500,
          11750,
          12000,
          12250,
          12500,
          12750,
          13000,
          13250,
          13500,
          13750,
          14000,
          14250,
          14500,
          14750,
          15000,
          15250,
          15500,
          15750,
          16000,
          16250,
          16500,
          16750,
          17000,
          17250,
          17500,
          17750,
          18000,
          18250,
          18500,
          18750,
          19000,
          19250,
          19500,
          19750
         ],
         "xaxis": "x",
         "y": [
          -0.056,
          -0.016,
          0.064,
          0.128,
          -0.048,
          0.024,
          0.016,
          -0.008,
          0.016,
          -0.08,
          0.016,
          -0.008,
          -0.072,
          -0.048,
          0.016,
          -0.032,
          -0.08,
          0.024,
          0.04,
          0.024,
          0.016,
          0.072,
          0.048,
          0,
          0.064,
          -0.04,
          0.008,
          -0.08,
          0.04,
          -0.008,
          0.064,
          0.056,
          0.136,
          0.056,
          0.064,
          0.096,
          0.008,
          0.088,
          -0.032,
          -0.128,
          0,
          -0.088,
          -0.032,
          0.008,
          -0.032,
          0.032,
          -0.008,
          0.032,
          0.056,
          0.04,
          -0.016,
          0.024,
          -0.056,
          -0.072,
          0.072,
          -0.04,
          -0.096,
          -0.024,
          -0.016,
          0.072,
          0.048,
          -0.008,
          0.016,
          0.088,
          -0.056,
          -0.008,
          0.04,
          -0.072,
          0.104,
          0.064,
          -0.04,
          -0.032,
          -0.024,
          0,
          0.08,
          0,
          0.008,
          -0.048,
          0.024,
          0.08
         ],
         "yaxis": "y"
        },
        {
         "hovertemplate": "variable=eps = 0.80<br>Games played=%{x}<br>value=%{y}<extra></extra>",
         "legendgroup": "eps = 0.80",
         "line": {
          "color": "#FF97FF",
          "dash": "solid"
         },
         "marker": {
          "symbol": "circle"
         },
         "mode": "lines",
         "name": "eps = 0.80",
         "orientation": "v",
         "showlegend": true,
         "type": "scatter",
         "x": [
          0,
          250,
          500,
          750,
          1000,
          1250,
          1500,
          1750,
          2000,
          2250,
          2500,
          2750,
          3000,
          3250,
          3500,
          3750,
          4000,
          4250,
          4500,
          4750,
          5000,
          5250,
          5500,
          5750,
          6000,
          6250,
          6500,
          6750,
          7000,
          7250,
          7500,
          7750,
          8000,
          8250,
          8500,
          8750,
          9000,
          9250,
          9500,
          9750,
          10000,
          10250,
          10500,
          10750,
          11000,
          11250,
          11500,
          11750,
          12000,
          12250,
          12500,
          12750,
          13000,
          13250,
          13500,
          13750,
          14000,
          14250,
          14500,
          14750,
          15000,
          15250,
          15500,
          15750,
          16000,
          16250,
          16500,
          16750,
          17000,
          17250,
          17500,
          17750,
          18000,
          18250,
          18500,
          18750,
          19000,
          19250,
          19500,
          19750
         ],
         "xaxis": "x",
         "y": [
          0.104,
          -0.032,
          0.032,
          0,
          0.056,
          -0.08,
          -0.16,
          0.008,
          0.016,
          -0.088,
          -0.08,
          -0.088,
          0.032,
          0.072,
          0.024,
          -0.048,
          -0.096,
          -0.112,
          0.032,
          -0.064,
          0.048,
          0.032,
          0.016,
          0.056,
          -0.032,
          0,
          -0.184,
          0.04,
          -0.008,
          -0.032,
          -0.024,
          0,
          -0.088,
          0.056,
          0.016,
          0.04,
          -0.104,
          0.008,
          0.064,
          -0.048,
          -0.016,
          -0.016,
          0.024,
          0.016,
          0.096,
          -0.016,
          0.032,
          -0.064,
          0.112,
          0.048,
          -0.072,
          -0.024,
          -0.016,
          -0.056,
          0.024,
          -0.04,
          -0.04,
          0.136,
          -0.032,
          -0.032,
          -0.048,
          0,
          0.024,
          0.016,
          -0.008,
          0.032,
          -0.168,
          0.032,
          -0.024,
          0.032,
          0.072,
          0.08,
          -0.008,
          0,
          -0.016,
          -0.008,
          -0.088,
          0.072,
          -0.048,
          0.048
         ],
         "yaxis": "y"
        },
        {
         "hovertemplate": "variable=eps = 0.90<br>Games played=%{x}<br>value=%{y}<extra></extra>",
         "legendgroup": "eps = 0.90",
         "line": {
          "color": "#FECB52",
          "dash": "solid"
         },
         "marker": {
          "symbol": "circle"
         },
         "mode": "lines",
         "name": "eps = 0.90",
         "orientation": "v",
         "showlegend": true,
         "type": "scatter",
         "x": [
          0,
          250,
          500,
          750,
          1000,
          1250,
          1500,
          1750,
          2000,
          2250,
          2500,
          2750,
          3000,
          3250,
          3500,
          3750,
          4000,
          4250,
          4500,
          4750,
          5000,
          5250,
          5500,
          5750,
          6000,
          6250,
          6500,
          6750,
          7000,
          7250,
          7500,
          7750,
          8000,
          8250,
          8500,
          8750,
          9000,
          9250,
          9500,
          9750,
          10000,
          10250,
          10500,
          10750,
          11000,
          11250,
          11500,
          11750,
          12000,
          12250,
          12500,
          12750,
          13000,
          13250,
          13500,
          13750,
          14000,
          14250,
          14500,
          14750,
          15000,
          15250,
          15500,
          15750,
          16000,
          16250,
          16500,
          16750,
          17000,
          17250,
          17500,
          17750,
          18000,
          18250,
          18500,
          18750,
          19000,
          19250,
          19500,
          19750
         ],
         "xaxis": "x",
         "y": [
          -0.024,
          0.032,
          0.096,
          0.032,
          0,
          0.04,
          0.08,
          0.048,
          0.072,
          0.088,
          -0.016,
          -0.08,
          0.016,
          0.136,
          0,
          -0.032,
          0.032,
          0.024,
          0.008,
          0.016,
          -0.064,
          -0.048,
          0.072,
          -0.096,
          0.016,
          -0.024,
          -0.04,
          -0.008,
          0,
          0.048,
          0.12,
          0.04,
          0.072,
          0.016,
          -0.016,
          0.04,
          0.08,
          0.024,
          -0.072,
          0.032,
          0.008,
          0.096,
          0.04,
          -0.096,
          -0.016,
          -0.008,
          -0.048,
          0.104,
          0.008,
          -0.176,
          0.064,
          -0.048,
          -0.04,
          0.096,
          0.048,
          0,
          0,
          -0.04,
          -0.064,
          -0.056,
          0.064,
          0.04,
          -0.096,
          0.016,
          0.08,
          -0.08,
          -0.056,
          -0.072,
          0.04,
          0.04,
          -0.056,
          -0.024,
          -0.184,
          0.072,
          0.032,
          0.096,
          -0.048,
          0.032,
          0.08,
          -0.064
         ],
         "yaxis": "y"
        },
        {
         "hovertemplate": "variable=eps = 1.00<br>Games played=%{x}<br>value=%{y}<extra></extra>",
         "legendgroup": "eps = 1.00",
         "line": {
          "color": "#636efa",
          "dash": "solid"
         },
         "marker": {
          "symbol": "circle"
         },
         "mode": "lines",
         "name": "eps = 1.00",
         "orientation": "v",
         "showlegend": true,
         "type": "scatter",
         "x": [
          0,
          250,
          500,
          750,
          1000,
          1250,
          1500,
          1750,
          2000,
          2250,
          2500,
          2750,
          3000,
          3250,
          3500,
          3750,
          4000,
          4250,
          4500,
          4750,
          5000,
          5250,
          5500,
          5750,
          6000,
          6250,
          6500,
          6750,
          7000,
          7250,
          7500,
          7750,
          8000,
          8250,
          8500,
          8750,
          9000,
          9250,
          9500,
          9750,
          10000,
          10250,
          10500,
          10750,
          11000,
          11250,
          11500,
          11750,
          12000,
          12250,
          12500,
          12750,
          13000,
          13250,
          13500,
          13750,
          14000,
          14250,
          14500,
          14750,
          15000,
          15250,
          15500,
          15750,
          16000,
          16250,
          16500,
          16750,
          17000,
          17250,
          17500,
          17750,
          18000,
          18250,
          18500,
          18750,
          19000,
          19250,
          19500,
          19750
         ],
         "xaxis": "x",
         "y": [
          -0.008,
          0.072,
          0.008,
          -0.08,
          0.032,
          -0.008,
          -0.04,
          0.024,
          0.056,
          -0.032,
          -0.048,
          -0.048,
          -0.072,
          -0.016,
          -0.136,
          -0.056,
          0.04,
          0.016,
          0.024,
          0.032,
          0.088,
          0.016,
          0.024,
          -0.016,
          -0.008,
          0.008,
          -0.008,
          0.016,
          0.008,
          -0.056,
          -0.016,
          -0.008,
          -0.032,
          -0.064,
          -0.08,
          -0.024,
          -0.024,
          0.12,
          -0.056,
          0.016,
          -0.04,
          0.08,
          -0.032,
          0.056,
          -0.112,
          -0.016,
          0.168,
          0.048,
          0.008,
          -0.024,
          0.088,
          -0.136,
          0.104,
          -0.008,
          -0.032,
          -0.016,
          0.008,
          -0.032,
          -0.008,
          -0.08,
          -0.016,
          0.04,
          0.04,
          0.088,
          0.12,
          -0.048,
          0.016,
          -0.016,
          0.008,
          0.104,
          -0.096,
          -0.04,
          0.008,
          -0.088,
          -0.048,
          0.04,
          -0.096,
          0.024,
          -0.024,
          0.008
         ],
         "yaxis": "y"
        }
       ],
       "layout": {
        "legend": {
         "title": {
          "text": "variable"
         },
         "tracegroupgap": 0
        },
        "template": {
         "data": {
          "bar": [
           {
            "error_x": {
             "color": "#2a3f5f"
            },
            "error_y": {
             "color": "#2a3f5f"
            },
            "marker": {
             "line": {
              "color": "#E5ECF6",
              "width": 0.5
             },
             "pattern": {
              "fillmode": "overlay",
              "size": 10,
              "solidity": 0.2
             }
            },
            "type": "bar"
           }
          ],
          "barpolar": [
           {
            "marker": {
             "line": {
              "color": "#E5ECF6",
              "width": 0.5
             },
             "pattern": {
              "fillmode": "overlay",
              "size": 10,
              "solidity": 0.2
             }
            },
            "type": "barpolar"
           }
          ],
          "carpet": [
           {
            "aaxis": {
             "endlinecolor": "#2a3f5f",
             "gridcolor": "white",
             "linecolor": "white",
             "minorgridcolor": "white",
             "startlinecolor": "#2a3f5f"
            },
            "baxis": {
             "endlinecolor": "#2a3f5f",
             "gridcolor": "white",
             "linecolor": "white",
             "minorgridcolor": "white",
             "startlinecolor": "#2a3f5f"
            },
            "type": "carpet"
           }
          ],
          "choropleth": [
           {
            "colorbar": {
             "outlinewidth": 0,
             "ticks": ""
            },
            "type": "choropleth"
           }
          ],
          "contour": [
           {
            "colorbar": {
             "outlinewidth": 0,
             "ticks": ""
            },
            "colorscale": [
             [
              0,
              "#0d0887"
             ],
             [
              0.1111111111111111,
              "#46039f"
             ],
             [
              0.2222222222222222,
              "#7201a8"
             ],
             [
              0.3333333333333333,
              "#9c179e"
             ],
             [
              0.4444444444444444,
              "#bd3786"
             ],
             [
              0.5555555555555556,
              "#d8576b"
             ],
             [
              0.6666666666666666,
              "#ed7953"
             ],
             [
              0.7777777777777778,
              "#fb9f3a"
             ],
             [
              0.8888888888888888,
              "#fdca26"
             ],
             [
              1,
              "#f0f921"
             ]
            ],
            "type": "contour"
           }
          ],
          "contourcarpet": [
           {
            "colorbar": {
             "outlinewidth": 0,
             "ticks": ""
            },
            "type": "contourcarpet"
           }
          ],
          "heatmap": [
           {
            "colorbar": {
             "outlinewidth": 0,
             "ticks": ""
            },
            "colorscale": [
             [
              0,
              "#0d0887"
             ],
             [
              0.1111111111111111,
              "#46039f"
             ],
             [
              0.2222222222222222,
              "#7201a8"
             ],
             [
              0.3333333333333333,
              "#9c179e"
             ],
             [
              0.4444444444444444,
              "#bd3786"
             ],
             [
              0.5555555555555556,
              "#d8576b"
             ],
             [
              0.6666666666666666,
              "#ed7953"
             ],
             [
              0.7777777777777778,
              "#fb9f3a"
             ],
             [
              0.8888888888888888,
              "#fdca26"
             ],
             [
              1,
              "#f0f921"
             ]
            ],
            "type": "heatmap"
           }
          ],
          "heatmapgl": [
           {
            "colorbar": {
             "outlinewidth": 0,
             "ticks": ""
            },
            "colorscale": [
             [
              0,
              "#0d0887"
             ],
             [
              0.1111111111111111,
              "#46039f"
             ],
             [
              0.2222222222222222,
              "#7201a8"
             ],
             [
              0.3333333333333333,
              "#9c179e"
             ],
             [
              0.4444444444444444,
              "#bd3786"
             ],
             [
              0.5555555555555556,
              "#d8576b"
             ],
             [
              0.6666666666666666,
              "#ed7953"
             ],
             [
              0.7777777777777778,
              "#fb9f3a"
             ],
             [
              0.8888888888888888,
              "#fdca26"
             ],
             [
              1,
              "#f0f921"
             ]
            ],
            "type": "heatmapgl"
           }
          ],
          "histogram": [
           {
            "marker": {
             "pattern": {
              "fillmode": "overlay",
              "size": 10,
              "solidity": 0.2
             }
            },
            "type": "histogram"
           }
          ],
          "histogram2d": [
           {
            "colorbar": {
             "outlinewidth": 0,
             "ticks": ""
            },
            "colorscale": [
             [
              0,
              "#0d0887"
             ],
             [
              0.1111111111111111,
              "#46039f"
             ],
             [
              0.2222222222222222,
              "#7201a8"
             ],
             [
              0.3333333333333333,
              "#9c179e"
             ],
             [
              0.4444444444444444,
              "#bd3786"
             ],
             [
              0.5555555555555556,
              "#d8576b"
             ],
             [
              0.6666666666666666,
              "#ed7953"
             ],
             [
              0.7777777777777778,
              "#fb9f3a"
             ],
             [
              0.8888888888888888,
              "#fdca26"
             ],
             [
              1,
              "#f0f921"
             ]
            ],
            "type": "histogram2d"
           }
          ],
          "histogram2dcontour": [
           {
            "colorbar": {
             "outlinewidth": 0,
             "ticks": ""
            },
            "colorscale": [
             [
              0,
              "#0d0887"
             ],
             [
              0.1111111111111111,
              "#46039f"
             ],
             [
              0.2222222222222222,
              "#7201a8"
             ],
             [
              0.3333333333333333,
              "#9c179e"
             ],
             [
              0.4444444444444444,
              "#bd3786"
             ],
             [
              0.5555555555555556,
              "#d8576b"
             ],
             [
              0.6666666666666666,
              "#ed7953"
             ],
             [
              0.7777777777777778,
              "#fb9f3a"
             ],
             [
              0.8888888888888888,
              "#fdca26"
             ],
             [
              1,
              "#f0f921"
             ]
            ],
            "type": "histogram2dcontour"
           }
          ],
          "mesh3d": [
           {
            "colorbar": {
             "outlinewidth": 0,
             "ticks": ""
            },
            "type": "mesh3d"
           }
          ],
          "parcoords": [
           {
            "line": {
             "colorbar": {
              "outlinewidth": 0,
              "ticks": ""
             }
            },
            "type": "parcoords"
           }
          ],
          "pie": [
           {
            "automargin": true,
            "type": "pie"
           }
          ],
          "scatter": [
           {
            "fillpattern": {
             "fillmode": "overlay",
             "size": 10,
             "solidity": 0.2
            },
            "type": "scatter"
           }
          ],
          "scatter3d": [
           {
            "line": {
             "colorbar": {
              "outlinewidth": 0,
              "ticks": ""
             }
            },
            "marker": {
             "colorbar": {
              "outlinewidth": 0,
              "ticks": ""
             }
            },
            "type": "scatter3d"
           }
          ],
          "scattercarpet": [
           {
            "marker": {
             "colorbar": {
              "outlinewidth": 0,
              "ticks": ""
             }
            },
            "type": "scattercarpet"
           }
          ],
          "scattergeo": [
           {
            "marker": {
             "colorbar": {
              "outlinewidth": 0,
              "ticks": ""
             }
            },
            "type": "scattergeo"
           }
          ],
          "scattergl": [
           {
            "marker": {
             "colorbar": {
              "outlinewidth": 0,
              "ticks": ""
             }
            },
            "type": "scattergl"
           }
          ],
          "scattermapbox": [
           {
            "marker": {
             "colorbar": {
              "outlinewidth": 0,
              "ticks": ""
             }
            },
            "type": "scattermapbox"
           }
          ],
          "scatterpolar": [
           {
            "marker": {
             "colorbar": {
              "outlinewidth": 0,
              "ticks": ""
             }
            },
            "type": "scatterpolar"
           }
          ],
          "scatterpolargl": [
           {
            "marker": {
             "colorbar": {
              "outlinewidth": 0,
              "ticks": ""
             }
            },
            "type": "scatterpolargl"
           }
          ],
          "scatterternary": [
           {
            "marker": {
             "colorbar": {
              "outlinewidth": 0,
              "ticks": ""
             }
            },
            "type": "scatterternary"
           }
          ],
          "surface": [
           {
            "colorbar": {
             "outlinewidth": 0,
             "ticks": ""
            },
            "colorscale": [
             [
              0,
              "#0d0887"
             ],
             [
              0.1111111111111111,
              "#46039f"
             ],
             [
              0.2222222222222222,
              "#7201a8"
             ],
             [
              0.3333333333333333,
              "#9c179e"
             ],
             [
              0.4444444444444444,
              "#bd3786"
             ],
             [
              0.5555555555555556,
              "#d8576b"
             ],
             [
              0.6666666666666666,
              "#ed7953"
             ],
             [
              0.7777777777777778,
              "#fb9f3a"
             ],
             [
              0.8888888888888888,
              "#fdca26"
             ],
             [
              1,
              "#f0f921"
             ]
            ],
            "type": "surface"
           }
          ],
          "table": [
           {
            "cells": {
             "fill": {
              "color": "#EBF0F8"
             },
             "line": {
              "color": "white"
             }
            },
            "header": {
             "fill": {
              "color": "#C8D4E3"
             },
             "line": {
              "color": "white"
             }
            },
            "type": "table"
           }
          ]
         },
         "layout": {
          "annotationdefaults": {
           "arrowcolor": "#2a3f5f",
           "arrowhead": 0,
           "arrowwidth": 1
          },
          "autotypenumbers": "strict",
          "coloraxis": {
           "colorbar": {
            "outlinewidth": 0,
            "ticks": ""
           }
          },
          "colorscale": {
           "diverging": [
            [
             0,
             "#8e0152"
            ],
            [
             0.1,
             "#c51b7d"
            ],
            [
             0.2,
             "#de77ae"
            ],
            [
             0.3,
             "#f1b6da"
            ],
            [
             0.4,
             "#fde0ef"
            ],
            [
             0.5,
             "#f7f7f7"
            ],
            [
             0.6,
             "#e6f5d0"
            ],
            [
             0.7,
             "#b8e186"
            ],
            [
             0.8,
             "#7fbc41"
            ],
            [
             0.9,
             "#4d9221"
            ],
            [
             1,
             "#276419"
            ]
           ],
           "sequential": [
            [
             0,
             "#0d0887"
            ],
            [
             0.1111111111111111,
             "#46039f"
            ],
            [
             0.2222222222222222,
             "#7201a8"
            ],
            [
             0.3333333333333333,
             "#9c179e"
            ],
            [
             0.4444444444444444,
             "#bd3786"
            ],
            [
             0.5555555555555556,
             "#d8576b"
            ],
            [
             0.6666666666666666,
             "#ed7953"
            ],
            [
             0.7777777777777778,
             "#fb9f3a"
            ],
            [
             0.8888888888888888,
             "#fdca26"
            ],
            [
             1,
             "#f0f921"
            ]
           ],
           "sequentialminus": [
            [
             0,
             "#0d0887"
            ],
            [
             0.1111111111111111,
             "#46039f"
            ],
            [
             0.2222222222222222,
             "#7201a8"
            ],
            [
             0.3333333333333333,
             "#9c179e"
            ],
            [
             0.4444444444444444,
             "#bd3786"
            ],
            [
             0.5555555555555556,
             "#d8576b"
            ],
            [
             0.6666666666666666,
             "#ed7953"
            ],
            [
             0.7777777777777778,
             "#fb9f3a"
            ],
            [
             0.8888888888888888,
             "#fdca26"
            ],
            [
             1,
             "#f0f921"
            ]
           ]
          },
          "colorway": [
           "#636efa",
           "#EF553B",
           "#00cc96",
           "#ab63fa",
           "#FFA15A",
           "#19d3f3",
           "#FF6692",
           "#B6E880",
           "#FF97FF",
           "#FECB52"
          ],
          "font": {
           "color": "#2a3f5f"
          },
          "geo": {
           "bgcolor": "white",
           "lakecolor": "white",
           "landcolor": "#E5ECF6",
           "showlakes": true,
           "showland": true,
           "subunitcolor": "white"
          },
          "hoverlabel": {
           "align": "left"
          },
          "hovermode": "closest",
          "mapbox": {
           "style": "light"
          },
          "paper_bgcolor": "white",
          "plot_bgcolor": "#E5ECF6",
          "polar": {
           "angularaxis": {
            "gridcolor": "white",
            "linecolor": "white",
            "ticks": ""
           },
           "bgcolor": "#E5ECF6",
           "radialaxis": {
            "gridcolor": "white",
            "linecolor": "white",
            "ticks": ""
           }
          },
          "scene": {
           "xaxis": {
            "backgroundcolor": "#E5ECF6",
            "gridcolor": "white",
            "gridwidth": 2,
            "linecolor": "white",
            "showbackground": true,
            "ticks": "",
            "zerolinecolor": "white"
           },
           "yaxis": {
            "backgroundcolor": "#E5ECF6",
            "gridcolor": "white",
            "gridwidth": 2,
            "linecolor": "white",
            "showbackground": true,
            "ticks": "",
            "zerolinecolor": "white"
           },
           "zaxis": {
            "backgroundcolor": "#E5ECF6",
            "gridcolor": "white",
            "gridwidth": 2,
            "linecolor": "white",
            "showbackground": true,
            "ticks": "",
            "zerolinecolor": "white"
           }
          },
          "shapedefaults": {
           "line": {
            "color": "#2a3f5f"
           }
          },
          "ternary": {
           "aaxis": {
            "gridcolor": "white",
            "linecolor": "white",
            "ticks": ""
           },
           "baxis": {
            "gridcolor": "white",
            "linecolor": "white",
            "ticks": ""
           },
           "bgcolor": "#E5ECF6",
           "caxis": {
            "gridcolor": "white",
            "linecolor": "white",
            "ticks": ""
           }
          },
          "title": {
           "x": 0.05
          },
          "xaxis": {
           "automargin": true,
           "gridcolor": "white",
           "linecolor": "white",
           "ticks": "",
           "title": {
            "standoff": 15
           },
           "zerolinecolor": "white",
           "zerolinewidth": 2
          },
          "yaxis": {
           "automargin": true,
           "gridcolor": "white",
           "linecolor": "white",
           "ticks": "",
           "title": {
            "standoff": 15
           },
           "zerolinecolor": "white",
           "zerolinewidth": 2
          }
         }
        },
        "title": {
         "text": "Training (self-learning) with testing on different eps values"
        },
        "width": 800,
        "xaxis": {
         "anchor": "y",
         "domain": [
          0,
          1
         ],
         "title": {
          "text": "Games played"
         }
        },
        "yaxis": {
         "anchor": "x",
         "domain": [
          0,
          1
         ],
         "title": {
          "text": "Reward"
         }
        }
       }
      }
     },
     "metadata": {},
     "output_type": "display_data"
    },
    {
     "data": {
      "application/vnd.plotly.v1+json": {
       "config": {
        "plotlyServerURL": "https://plot.ly"
       },
       "data": [
        {
         "hovertemplate": "variable=eps = 0.00<br>Games played=%{x}<br>value=%{y}<extra></extra>",
         "legendgroup": "eps = 0.00",
         "line": {
          "color": "#636efa",
          "dash": "solid"
         },
         "marker": {
          "symbol": "circle"
         },
         "mode": "lines",
         "name": "eps = 0.00",
         "orientation": "v",
         "showlegend": true,
         "type": "scatter",
         "x": [
          0,
          250,
          500,
          750,
          1000,
          1250,
          1500,
          1750,
          2000,
          2250,
          2500,
          2750,
          3000,
          3250,
          3500,
          3750,
          4000,
          4250,
          4500,
          4750,
          5000,
          5250,
          5500,
          5750,
          6000,
          6250,
          6500,
          6750,
          7000,
          7250,
          7500,
          7750,
          8000,
          8250,
          8500,
          8750,
          9000,
          9250,
          9500,
          9750,
          10000,
          10250,
          10500,
          10750,
          11000,
          11250,
          11500,
          11750,
          12000,
          12250,
          12500,
          12750,
          13000,
          13250,
          13500,
          13750,
          14000,
          14250,
          14500,
          14750,
          15000,
          15250,
          15500,
          15750,
          16000,
          16250,
          16500,
          16750,
          17000,
          17250,
          17500,
          17750,
          18000,
          18250,
          18500,
          18750,
          19000,
          19250,
          19500,
          19750
         ],
         "xaxis": "x",
         "y": [
          0.02548835986695757,
          0.002686242466198825,
          0.026859369424872194,
          0.01939814404567188,
          0.05248904870691342,
          0.04059124856702083,
          0.04952167597958068,
          0.03559322286874975,
          0.051858948210716044,
          0.04712743123595192,
          0.05365384937669208,
          0.03786300024442592,
          0.04493555752355246,
          0.03148157883313822,
          0.03613770506245201,
          0.033669226509336306,
          0.04600754154342745,
          0.03917352372139964,
          0.04534151014280662,
          0.040512844934606114,
          0.042535963765129754,
          0.03481974234723574,
          0.0358881053585176,
          0.03155337556508248,
          0.051783508534816836,
          0.05803883307414213,
          0.0686840027437245,
          0.05907602134338642,
          0.059574099756469566,
          0.04357783041792945,
          0.05286931770599701,
          0.05174431246333419,
          0.05559440269055629,
          0.05294783013053015,
          0.06217552789758459,
          0.04945264486354086,
          0.05302668255048614,
          0.03545458765169061,
          0.04569082618691027,
          0.04005231098916146,
          0.04620107680452658,
          0.03648725357820834,
          0.03883497402861187,
          0.03234362819107908,
          0.03708433520548562,
          0.030579997853447612,
          0.0310327112382016,
          0.02504412599643921,
          0.039441038968854904,
          0.03877456460790388,
          0.04884267444666251,
          0.039146167193497325,
          0.04729580419419819,
          0.03841633799299364,
          0.04596666314700984,
          0.041503298035513995,
          0.05117524429506369,
          0.04925785171774493,
          0.05600121593176259,
          0.04787357749173933,
          0.0401028126346301,
          0.027357247386924084,
          0.02529040649582874,
          0.016875091368927373,
          0.01740319610010486,
          0.013799830057871137,
          0.015009038393687106,
          0.013963263726947873,
          0.018540343445696883,
          0.017844496655307556,
          0.02018799176601673,
          0.018269578407794095,
          0.020876624666325182,
          0.021097391264117388,
          0.018936199427287734,
          0.016195008828752622,
          0.018072226793716235,
          0.018885914695479455,
          0.025404858613403882,
          0.023601024220628666
         ],
         "yaxis": "y"
        },
        {
         "hovertemplate": "variable=eps = 0.10<br>Games played=%{x}<br>value=%{y}<extra></extra>",
         "legendgroup": "eps = 0.10",
         "line": {
          "color": "#EF553B",
          "dash": "solid"
         },
         "marker": {
          "symbol": "circle"
         },
         "mode": "lines",
         "name": "eps = 0.10",
         "orientation": "v",
         "showlegend": true,
         "type": "scatter",
         "x": [
          0,
          250,
          500,
          750,
          1000,
          1250,
          1500,
          1750,
          2000,
          2250,
          2500,
          2750,
          3000,
          3250,
          3500,
          3750,
          4000,
          4250,
          4500,
          4750,
          5000,
          5250,
          5500,
          5750,
          6000,
          6250,
          6500,
          6750,
          7000,
          7250,
          7500,
          7750,
          8000,
          8250,
          8500,
          8750,
          9000,
          9250,
          9500,
          9750,
          10000,
          10250,
          10500,
          10750,
          11000,
          11250,
          11500,
          11750,
          12000,
          12250,
          12500,
          12750,
          13000,
          13250,
          13500,
          13750,
          14000,
          14250,
          14500,
          14750,
          15000,
          15250,
          15500,
          15750,
          16000,
          16250,
          16500,
          16750,
          17000,
          17250,
          17500,
          17750,
          18000,
          18250,
          18500,
          18750,
          19000,
          19250,
          19500,
          19750
         ],
         "xaxis": "x",
         "y": [
          0.035537284530532405,
          0.0130033814497967,
          0.06326445989514938,
          0.06213612007752208,
          0.08385160282040156,
          0.07849997792357935,
          0.09109590809948763,
          0.08937080708504437,
          0.09116141165278929,
          0.08400476643666255,
          0.08517969716391405,
          0.07840123171260235,
          0.08450150330633277,
          0.07263891175389289,
          0.08034756896467184,
          0.0720633750320517,
          0.0762034806067629,
          0.0712793087802315,
          0.07981251843977218,
          0.07604649508925003,
          0.07633703267878238,
          0.07586648655299258,
          0.07360076187755303,
          0.06858287498314855,
          0.06811339481810406,
          0.0629156197604515,
          0.06320187102605647,
          0.05745239203006684,
          0.057656539017407915,
          0.052386235557813285,
          0.05550796864616127,
          0.054270234477004145,
          0.0621330208962693,
          0.0640311592777767,
          0.06677789263051287,
          0.06440136826650135,
          0.061867424525820745,
          0.059051724949780386,
          0.06348799627490005,
          0.059020960651785616,
          0.06296217724180411,
          0.06156971361308634,
          0.06460158343184484,
          0.06179717200377513,
          0.06337123095869844,
          0.057282143174879736,
          0.06000921837735895,
          0.05356121767058553,
          0.05162775975500755,
          0.04953242948113756,
          0.05114759476880774,
          0.05284420544709781,
          0.054015060998314976,
          0.05192538324617831,
          0.05187839460351783,
          0.05229417063274717,
          0.0535000285970919,
          0.05423357271167937,
          0.05536679747980418,
          0.057098511962355464,
          0.060884757721789584,
          0.05723630538593212,
          0.06356014576180109,
          0.057997983418877824,
          0.05771178471012272,
          0.05548833798776884,
          0.057405680744236846,
          0.05331598045523921,
          0.05450295776116268,
          0.04892262401958498,
          0.04852316879377018,
          0.04589378352328181,
          0.048923278099175335,
          0.05040236453974752,
          0.052122267433917756,
          0.055108875380733946,
          0.056919404951476786,
          0.05495580366916565,
          0.05974880483637374,
          0.05822598099730716
         ],
         "yaxis": "y"
        },
        {
         "hovertemplate": "variable=eps = 0.20<br>Games played=%{x}<br>value=%{y}<extra></extra>",
         "legendgroup": "eps = 0.20",
         "line": {
          "color": "#00cc96",
          "dash": "solid"
         },
         "marker": {
          "symbol": "circle"
         },
         "mode": "lines",
         "name": "eps = 0.20",
         "orientation": "v",
         "showlegend": true,
         "type": "scatter",
         "x": [
          0,
          250,
          500,
          750,
          1000,
          1250,
          1500,
          1750,
          2000,
          2250,
          2500,
          2750,
          3000,
          3250,
          3500,
          3750,
          4000,
          4250,
          4500,
          4750,
          5000,
          5250,
          5500,
          5750,
          6000,
          6250,
          6500,
          6750,
          7000,
          7250,
          7500,
          7750,
          8000,
          8250,
          8500,
          8750,
          9000,
          9250,
          9500,
          9750,
          10000,
          10250,
          10500,
          10750,
          11000,
          11250,
          11500,
          11750,
          12000,
          12250,
          12500,
          12750,
          13000,
          13250,
          13500,
          13750,
          14000,
          14250,
          14500,
          14750,
          15000,
          15250,
          15500,
          15750,
          16000,
          16250,
          16500,
          16750,
          17000,
          17250,
          17500,
          17750,
          18000,
          18250,
          18500,
          18750,
          19000,
          19250,
          19500,
          19750
         ],
         "xaxis": "x",
         "y": [
          0.042510686632682385,
          0.019396401038748113,
          0.08017949457280338,
          0.07504263786605862,
          0.09963277521134684,
          0.09420893040987982,
          0.10220542626040774,
          0.09430532923694385,
          0.08907261375765331,
          0.08292507718254093,
          0.09298256975589213,
          0.08861609453049815,
          0.09380857887895709,
          0.08914503143782491,
          0.08985037874642768,
          0.08535411330024098,
          0.08822459951299162,
          0.08150031255521664,
          0.09069982864903457,
          0.08521004228823292,
          0.08751118938262398,
          0.081583378825491,
          0.08223531382598122,
          0.0777576278638661,
          0.07862452442262924,
          0.0776986702555931,
          0.08019489441966188,
          0.07583303569085402,
          0.0723317137867983,
          0.07189639203335017,
          0.07388043318542518,
          0.075934461250735,
          0.08275090152495786,
          0.0803620725883296,
          0.0777934384113424,
          0.07422529163573484,
          0.0741316804063293,
          0.07155790694887158,
          0.06957683916153352,
          0.06662421775217808,
          0.07177540762343632,
          0.06748429909310578,
          0.0681054777592163,
          0.06689280211367363,
          0.07065026560380776,
          0.06949295546296229,
          0.07215315490512544,
          0.0742827865783013,
          0.07181591543341333,
          0.07178525848642424,
          0.0736561305377455,
          0.0723904759016913,
          0.07163601205307699,
          0.07037690958999303,
          0.0709033034173717,
          0.06788611304121141,
          0.06950000619835157,
          0.06832000713926019,
          0.06991621202555821,
          0.06813105837072408,
          0.06618171181270464,
          0.06538988263203219,
          0.07158352875686047,
          0.07153391777889205,
          0.06493354712606174,
          0.067071173676258,
          0.07141582938682838,
          0.06968641872499598,
          0.06872805103201388,
          0.06875316905724188,
          0.06899264912265003,
          0.066804013512321,
          0.06646763993292584,
          0.06406643420554248,
          0.0687509285237052,
          0.06767949810838678,
          0.06782696640330031,
          0.06463120948631244,
          0.06873808376430822,
          0.0691924654174347
         ],
         "yaxis": "y"
        },
        {
         "hovertemplate": "variable=eps = 0.30<br>Games played=%{x}<br>value=%{y}<extra></extra>",
         "legendgroup": "eps = 0.30",
         "line": {
          "color": "#ab63fa",
          "dash": "solid"
         },
         "marker": {
          "symbol": "circle"
         },
         "mode": "lines",
         "name": "eps = 0.30",
         "orientation": "v",
         "showlegend": true,
         "type": "scatter",
         "x": [
          0,
          250,
          500,
          750,
          1000,
          1250,
          1500,
          1750,
          2000,
          2250,
          2500,
          2750,
          3000,
          3250,
          3500,
          3750,
          4000,
          4250,
          4500,
          4750,
          5000,
          5250,
          5500,
          5750,
          6000,
          6250,
          6500,
          6750,
          7000,
          7250,
          7500,
          7750,
          8000,
          8250,
          8500,
          8750,
          9000,
          9250,
          9500,
          9750,
          10000,
          10250,
          10500,
          10750,
          11000,
          11250,
          11500,
          11750,
          12000,
          12250,
          12500,
          12750,
          13000,
          13250,
          13500,
          13750,
          14000,
          14250,
          14500,
          14750,
          15000,
          15250,
          15500,
          15750,
          16000,
          16250,
          16500,
          16750,
          17000,
          17250,
          17500,
          17750,
          18000,
          18250,
          18500,
          18750,
          19000,
          19250,
          19500,
          19750
         ],
         "xaxis": "x",
         "y": [
          0.053787924099009544,
          0.020217071338686984,
          0.08167132013840372,
          0.07669495610026017,
          0.10497540149927401,
          0.10189790026411567,
          0.10754741293148717,
          0.10654719779991732,
          0.1076435380683312,
          0.10140699043357683,
          0.0988953999776306,
          0.09282739144165386,
          0.09244100572063754,
          0.08611280972298599,
          0.0925995285986653,
          0.09088199030676224,
          0.09402386190162765,
          0.09098983081846493,
          0.09559918410718067,
          0.0931470513909678,
          0.08761342899313623,
          0.08547679854762763,
          0.0887255186208936,
          0.0861648043947045,
          0.0834147223339694,
          0.08293382323805303,
          0.08829516589264622,
          0.08736182200620375,
          0.08775148128663368,
          0.0837565329677147,
          0.08213539930450481,
          0.08164701530219294,
          0.08125134444091016,
          0.08129284979701147,
          0.0835871031272056,
          0.08281829839234883,
          0.08164371805060318,
          0.0818138040215899,
          0.08357803540568166,
          0.0846351740687585,
          0.08461582396513465,
          0.08561504742888004,
          0.08391534445565468,
          0.08383931951022254,
          0.08502503111083073,
          0.08447278420262075,
          0.08603380900333207,
          0.08528536220441642,
          0.0906843774086509,
          0.09088140963760329,
          0.09101147076523886,
          0.08878620744926528,
          0.08770755246474311,
          0.08389765155681393,
          0.07432202276374612,
          0.07274101795549587,
          0.07843791468769791,
          0.07923109691659888,
          0.0782086253068678,
          0.07771441706609661,
          0.07825971938942079,
          0.07821045261472664,
          0.08019602286220774,
          0.075947333584101,
          0.07870139857965804,
          0.07799642674473121,
          0.0782555195486824,
          0.07866724061611893,
          0.08105509889466332,
          0.0834480488802685,
          0.08061579471400306,
          0.07973082129899665,
          0.08230412626929194,
          0.08354691239107254,
          0.0847868218010514,
          0.08826409412927609,
          0.08971837238142533,
          0.0881787684987447,
          0.08858645312331825,
          0.08674024724056043
         ],
         "yaxis": "y"
        },
        {
         "hovertemplate": "variable=eps = 0.40<br>Games played=%{x}<br>value=%{y}<extra></extra>",
         "legendgroup": "eps = 0.40",
         "line": {
          "color": "#FFA15A",
          "dash": "solid"
         },
         "marker": {
          "symbol": "circle"
         },
         "mode": "lines",
         "name": "eps = 0.40",
         "orientation": "v",
         "showlegend": true,
         "type": "scatter",
         "x": [
          0,
          250,
          500,
          750,
          1000,
          1250,
          1500,
          1750,
          2000,
          2250,
          2500,
          2750,
          3000,
          3250,
          3500,
          3750,
          4000,
          4250,
          4500,
          4750,
          5000,
          5250,
          5500,
          5750,
          6000,
          6250,
          6500,
          6750,
          7000,
          7250,
          7500,
          7750,
          8000,
          8250,
          8500,
          8750,
          9000,
          9250,
          9500,
          9750,
          10000,
          10250,
          10500,
          10750,
          11000,
          11250,
          11500,
          11750,
          12000,
          12250,
          12500,
          12750,
          13000,
          13250,
          13500,
          13750,
          14000,
          14250,
          14500,
          14750,
          15000,
          15250,
          15500,
          15750,
          16000,
          16250,
          16500,
          16750,
          17000,
          17250,
          17500,
          17750,
          18000,
          18250,
          18500,
          18750,
          19000,
          19250,
          19500,
          19750
         ],
         "xaxis": "x",
         "y": [
          0.0461539447396284,
          0.020335627296016994,
          0.08686230141587936,
          0.09160303187812181,
          0.10590297736703082,
          0.10090468315644698,
          0.10633083888966247,
          0.10267099237215191,
          0.10630936548113823,
          0.10329329311623456,
          0.10492665615219735,
          0.10373989531646524,
          0.1060088135515959,
          0.1051062056276997,
          0.09805157835001135,
          0.09919049221136797,
          0.09206912324085074,
          0.0882126031297288,
          0.09823735863708428,
          0.09499362219304772,
          0.09417646397542986,
          0.0932475916934029,
          0.09724939692215841,
          0.09530532036838617,
          0.09308321929290593,
          0.0930891005538296,
          0.0901528695586864,
          0.08958574600940408,
          0.09443525447946191,
          0.09099078448814946,
          0.09726245226096439,
          0.09538729806714084,
          0.0936052440601873,
          0.09154371243710094,
          0.09116603851761718,
          0.09280678983181184,
          0.0942312145253291,
          0.09272403652359015,
          0.09448506728634086,
          0.09315608373936518,
          0.09210037597180157,
          0.09146850820551744,
          0.09746367175682509,
          0.095035724201811,
          0.09200580514846848,
          0.08946025551647441,
          0.08913122634978218,
          0.08791036534403672,
          0.09137604074463451,
          0.09323837821101887,
          0.09410430514500144,
          0.09589213147493346,
          0.09108533899199463,
          0.08978217517240288,
          0.09047143789701838,
          0.08804204071845471,
          0.09305134017617916,
          0.09202571494149583,
          0.08881600104795401,
          0.08545699401325743,
          0.08801678592209572,
          0.08757182963448479,
          0.09419081343774165,
          0.09318042929256241,
          0.0933051906090428,
          0.09248246082524378,
          0.09499030746391725,
          0.0954816664570929,
          0.09912292123885938,
          0.09595631600419681,
          0.0977900564036193,
          0.09608164780794115,
          0.09940583147542618,
          0.09983815888631106,
          0.09152957340005506,
          0.08983244034270671,
          0.08892795428470278,
          0.08767277949376746,
          0.09027759049325325,
          0.08949884396627455
         ],
         "yaxis": "y"
        },
        {
         "hovertemplate": "variable=eps = 0.50<br>Games played=%{x}<br>value=%{y}<extra></extra>",
         "legendgroup": "eps = 0.50",
         "line": {
          "color": "#19d3f3",
          "dash": "solid"
         },
         "marker": {
          "symbol": "circle"
         },
         "mode": "lines",
         "name": "eps = 0.50",
         "orientation": "v",
         "showlegend": true,
         "type": "scatter",
         "x": [
          0,
          250,
          500,
          750,
          1000,
          1250,
          1500,
          1750,
          2000,
          2250,
          2500,
          2750,
          3000,
          3250,
          3500,
          3750,
          4000,
          4250,
          4500,
          4750,
          5000,
          5250,
          5500,
          5750,
          6000,
          6250,
          6500,
          6750,
          7000,
          7250,
          7500,
          7750,
          8000,
          8250,
          8500,
          8750,
          9000,
          9250,
          9500,
          9750,
          10000,
          10250,
          10500,
          10750,
          11000,
          11250,
          11500,
          11750,
          12000,
          12250,
          12500,
          12750,
          13000,
          13250,
          13500,
          13750,
          14000,
          14250,
          14500,
          14750,
          15000,
          15250,
          15500,
          15750,
          16000,
          16250,
          16500,
          16750,
          17000,
          17250,
          17500,
          17750,
          18000,
          18250,
          18500,
          18750,
          19000,
          19250,
          19500,
          19750
         ],
         "xaxis": "x",
         "y": [
          0.0496145561476821,
          0.022028285895980985,
          0.09458479243185028,
          0.09167369417186859,
          0.10262901007423053,
          0.10205194504791601,
          0.10290153612396918,
          0.10218283208185953,
          0.10731132519903641,
          0.10806089142285737,
          0.10968240365186487,
          0.10636818827161544,
          0.10895509239928822,
          0.10706978362181371,
          0.10979612373599881,
          0.10760289208778011,
          0.10519398838878104,
          0.10296725031066607,
          0.09954177719489561,
          0.09832242552618511,
          0.10089260706583322,
          0.09910757539586888,
          0.09626308243651999,
          0.09207912535860661,
          0.09872470203575742,
          0.09897537319795102,
          0.10313638924992939,
          0.10263469526183824,
          0.10165746506928565,
          0.10204824964741879,
          0.098717520132966,
          0.09835023702370287,
          0.09567243813793418,
          0.09411502779554255,
          0.0959659127686446,
          0.09522832718562999,
          0.09597712414478655,
          0.09518252369736095,
          0.09775316035081166,
          0.09903873925844968,
          0.09256747659754654,
          0.09265424039406554,
          0.0914397903937189,
          0.0910058602477823,
          0.09290183727358306,
          0.09419513713763408,
          0.09205969619544395,
          0.0907824773506071,
          0.09731042598691314,
          0.09773213501342093,
          0.09859154607098068,
          0.09732081594960235,
          0.09938655770149224,
          0.09736207205956315,
          0.10077899319591863,
          0.10007095584310878,
          0.09768166965642361,
          0.09707486031465637,
          0.09429400196856093,
          0.09627736942766445,
          0.09501737241054409,
          0.09582793420217825,
          0.09919432601715329,
          0.09887915249514422,
          0.09924042411400769,
          0.09891335453455626,
          0.09983679121973948,
          0.09963222823719475,
          0.09921154249246845,
          0.09925182961590895,
          0.09894468433664542,
          0.09949568041835097,
          0.0918619733508939,
          0.09164328774681589,
          0.09525350098722968,
          0.09658773490621934,
          0.10070374814274999,
          0.10093967226139233,
          0.09887250713348986,
          0.09996936176442561
         ],
         "yaxis": "y"
        },
        {
         "hovertemplate": "variable=eps = 0.60<br>Games played=%{x}<br>value=%{y}<extra></extra>",
         "legendgroup": "eps = 0.60",
         "line": {
          "color": "#FF6692",
          "dash": "solid"
         },
         "marker": {
          "symbol": "circle"
         },
         "mode": "lines",
         "name": "eps = 0.60",
         "orientation": "v",
         "showlegend": true,
         "type": "scatter",
         "x": [
          0,
          250,
          500,
          750,
          1000,
          1250,
          1500,
          1750,
          2000,
          2250,
          2500,
          2750,
          3000,
          3250,
          3500,
          3750,
          4000,
          4250,
          4500,
          4750,
          5000,
          5250,
          5500,
          5750,
          6000,
          6250,
          6500,
          6750,
          7000,
          7250,
          7500,
          7750,
          8000,
          8250,
          8500,
          8750,
          9000,
          9250,
          9500,
          9750,
          10000,
          10250,
          10500,
          10750,
          11000,
          11250,
          11500,
          11750,
          12000,
          12250,
          12500,
          12750,
          13000,
          13250,
          13500,
          13750,
          14000,
          14250,
          14500,
          14750,
          15000,
          15250,
          15500,
          15750,
          16000,
          16250,
          16500,
          16750,
          17000,
          17250,
          17500,
          17750,
          18000,
          18250,
          18500,
          18750,
          19000,
          19250,
          19500,
          19750
         ],
         "xaxis": "x",
         "y": [
          0.05972772353225284,
          0.027183264468710958,
          0.09525714647586817,
          0.09081079417237026,
          0.10123113672141887,
          0.09776190877606292,
          0.10383528101579237,
          0.10212867120462457,
          0.10486439968245989,
          0.10684739342492437,
          0.10622420135829477,
          0.10559177538347024,
          0.10690200348362294,
          0.1066646356793011,
          0.10717705750384987,
          0.10299867371088295,
          0.10834777814239427,
          0.10387584253922308,
          0.1017201769444778,
          0.09659246440677363,
          0.10073380485276871,
          0.09834438609283143,
          0.09596007276278301,
          0.09522125956964683,
          0.10227871831092569,
          0.10043409317360566,
          0.10028089723241003,
          0.0984060685283557,
          0.1000103235488511,
          0.09755022008221394,
          0.09278172246390606,
          0.09345645907285431,
          0.10006763939564725,
          0.09896266401011217,
          0.09659786734465395,
          0.09948813304747584,
          0.09536577945041673,
          0.0962722209940319,
          0.09616500718824672,
          0.09666180164965948,
          0.10287586693108164,
          0.10445479331912642,
          0.09993527444759251,
          0.09712138281776361,
          0.10034327690600944,
          0.09985946454848224,
          0.09867633833437754,
          0.09741989463250578,
          0.09969654744425854,
          0.10162348954123115,
          0.10353856763053361,
          0.10202110138602723,
          0.09648765670898997,
          0.09674959330305158,
          0.10261977372985137,
          0.10258572141166258,
          0.10084240921022408,
          0.10062070857469246,
          0.09969386547793574,
          0.0993557499554633,
          0.09982917759167433,
          0.09964083628269928,
          0.09995489971114059,
          0.10054425755482739,
          0.10457224061255017,
          0.1029570361090853,
          0.1011731800299587,
          0.10219983308988166,
          0.10114258462985011,
          0.10443477974612954,
          0.1030937149850937,
          0.10251808704717176,
          0.10116520481244962,
          0.09923739175321139,
          0.10102087637340582,
          0.09772250204811764,
          0.10066871239947803,
          0.09777721252181742,
          0.09909475088786723,
          0.10025951476760935
         ],
         "yaxis": "y"
        },
        {
         "hovertemplate": "variable=eps = 0.70<br>Games played=%{x}<br>value=%{y}<extra></extra>",
         "legendgroup": "eps = 0.70",
         "line": {
          "color": "#B6E880",
          "dash": "solid"
         },
         "marker": {
          "symbol": "circle"
         },
         "mode": "lines",
         "name": "eps = 0.70",
         "orientation": "v",
         "showlegend": true,
         "type": "scatter",
         "x": [
          0,
          250,
          500,
          750,
          1000,
          1250,
          1500,
          1750,
          2000,
          2250,
          2500,
          2750,
          3000,
          3250,
          3500,
          3750,
          4000,
          4250,
          4500,
          4750,
          5000,
          5250,
          5500,
          5750,
          6000,
          6250,
          6500,
          6750,
          7000,
          7250,
          7500,
          7750,
          8000,
          8250,
          8500,
          8750,
          9000,
          9250,
          9500,
          9750,
          10000,
          10250,
          10500,
          10750,
          11000,
          11250,
          11500,
          11750,
          12000,
          12250,
          12500,
          12750,
          13000,
          13250,
          13500,
          13750,
          14000,
          14250,
          14500,
          14750,
          15000,
          15250,
          15500,
          15750,
          16000,
          16250,
          16500,
          16750,
          17000,
          17250,
          17500,
          17750,
          18000,
          18250,
          18500,
          18750,
          19000,
          19250,
          19500,
          19750
         ],
         "xaxis": "x",
         "y": [
          0.04969893004982022,
          0.024652901552237417,
          0.10127969456461815,
          0.10070007655093485,
          0.10688323841677781,
          0.10527285372217496,
          0.10727119718475324,
          0.11029814882203937,
          0.10980385472731931,
          0.1095199952179281,
          0.11293529850474403,
          0.11043668375632563,
          0.105776932875741,
          0.10405677211899851,
          0.10690960106276216,
          0.10527409261500159,
          0.10242404341445131,
          0.10190252633090469,
          0.10890599857106734,
          0.11209508921608648,
          0.11003095966900563,
          0.10541590309447982,
          0.11062734934730073,
          0.10971471803156319,
          0.10720042620847452,
          0.10752841420336204,
          0.10748678445556799,
          0.10618162651127301,
          0.10577791620936286,
          0.10674770719481415,
          0.10758204940281041,
          0.10444327407153568,
          0.09740563211378453,
          0.0968843044840401,
          0.09587177189215171,
          0.0957577748783591,
          0.10290928958710323,
          0.10427431433470127,
          0.0994147606974281,
          0.100797871620739,
          0.09788790656857088,
          0.09708599935402162,
          0.09845583201131099,
          0.09998663041289516,
          0.1030601407866925,
          0.10307630480058329,
          0.10137023136706565,
          0.09883502474298331,
          0.10472699370274145,
          0.10377146062054332,
          0.10158846032414051,
          0.10042098875506025,
          0.09826194320483642,
          0.09971413658408063,
          0.10550925755232426,
          0.1056826288048922,
          0.1032784206704137,
          0.10043053671379451,
          0.10233746084565525,
          0.10250843595404378,
          0.10280349172610999,
          0.10436241415284433,
          0.10652041967094564,
          0.10688729131655562,
          0.10537985068726123,
          0.10404219662314629,
          0.1062199987904517,
          0.10565795492076752,
          0.10253480460351976,
          0.10190879272067523,
          0.1064478343652782,
          0.1061670418231956,
          0.1058504371174948,
          0.10839919412444378,
          0.10232145697221587,
          0.10360856304459017,
          0.10363082319466779,
          0.10291184456585492,
          0.10379009897323241,
          0.10689038548134717
         ],
         "yaxis": "y"
        },
        {
         "hovertemplate": "variable=eps = 0.80<br>Games played=%{x}<br>value=%{y}<extra></extra>",
         "legendgroup": "eps = 0.80",
         "line": {
          "color": "#FF97FF",
          "dash": "solid"
         },
         "marker": {
          "symbol": "circle"
         },
         "mode": "lines",
         "name": "eps = 0.80",
         "orientation": "v",
         "showlegend": true,
         "type": "scatter",
         "x": [
          0,
          250,
          500,
          750,
          1000,
          1250,
          1500,
          1750,
          2000,
          2250,
          2500,
          2750,
          3000,
          3250,
          3500,
          3750,
          4000,
          4250,
          4500,
          4750,
          5000,
          5250,
          5500,
          5750,
          6000,
          6250,
          6500,
          6750,
          7000,
          7250,
          7500,
          7750,
          8000,
          8250,
          8500,
          8750,
          9000,
          9250,
          9500,
          9750,
          10000,
          10250,
          10500,
          10750,
          11000,
          11250,
          11500,
          11750,
          12000,
          12250,
          12500,
          12750,
          13000,
          13250,
          13500,
          13750,
          14000,
          14250,
          14500,
          14750,
          15000,
          15250,
          15500,
          15750,
          16000,
          16250,
          16500,
          16750,
          17000,
          17250,
          17500,
          17750,
          18000,
          18250,
          18500,
          18750,
          19000,
          19250,
          19500,
          19750
         ],
         "xaxis": "x",
         "y": [
          0.048573742608270576,
          0.02499775482998033,
          0.0921402330687811,
          0.08590877543295923,
          0.0944985492859384,
          0.09482957781130998,
          0.09926282525902577,
          0.10176168493292972,
          0.10539031947983296,
          0.10434360440721148,
          0.10290584004464089,
          0.10068505623957882,
          0.10187243624048146,
          0.10121834570371256,
          0.10128989172914284,
          0.10061578927094084,
          0.10034744122925,
          0.10084507449006358,
          0.10623723202402507,
          0.108109492876838,
          0.1079368415218191,
          0.10877466370084125,
          0.10997626468121924,
          0.1070174778642714,
          0.10714434142021803,
          0.10651865872864921,
          0.10822810262009348,
          0.10708852864691777,
          0.10685336381202143,
          0.10818233072870609,
          0.10201592627253847,
          0.09966006263061507,
          0.09897294026878915,
          0.10169310376195172,
          0.1031482863829148,
          0.10204504931635443,
          0.10220773218393082,
          0.10113425305893459,
          0.1020807697069204,
          0.10289147906133841,
          0.10271864537854164,
          0.10233259569634709,
          0.10136319336845473,
          0.10113553448295527,
          0.10381784487206312,
          0.10110299718925858,
          0.10490612012788328,
          0.10458522092980835,
          0.1031922168329606,
          0.10490837835353375,
          0.10198118730930361,
          0.10470041712136936,
          0.10546015544775027,
          0.10539672635340118,
          0.1043216143912587,
          0.10360636946439908,
          0.10552836219050861,
          0.104703499447015,
          0.1057806467225677,
          0.1056899530730342,
          0.10671923918660228,
          0.10720494666604125,
          0.10810922379963674,
          0.10635131927685931,
          0.1042410657101052,
          0.10374145882555863,
          0.10588349905883865,
          0.10708158304777778,
          0.10567532463102054,
          0.10561759794945005,
          0.10877096380359973,
          0.10711664534444859,
          0.11065594583008886,
          0.1074882825745994,
          0.10936278969122548,
          0.10941118879415239,
          0.10728438623553636,
          0.10656863276700311,
          0.10802702740957476,
          0.10689787351276715
         ],
         "yaxis": "y"
        },
        {
         "hovertemplate": "variable=eps = 0.90<br>Games played=%{x}<br>value=%{y}<extra></extra>",
         "legendgroup": "eps = 0.90",
         "line": {
          "color": "#FECB52",
          "dash": "solid"
         },
         "marker": {
          "symbol": "circle"
         },
         "mode": "lines",
         "name": "eps = 0.90",
         "orientation": "v",
         "showlegend": true,
         "type": "scatter",
         "x": [
          0,
          250,
          500,
          750,
          1000,
          1250,
          1500,
          1750,
          2000,
          2250,
          2500,
          2750,
          3000,
          3250,
          3500,
          3750,
          4000,
          4250,
          4500,
          4750,
          5000,
          5250,
          5500,
          5750,
          6000,
          6250,
          6500,
          6750,
          7000,
          7250,
          7500,
          7750,
          8000,
          8250,
          8500,
          8750,
          9000,
          9250,
          9500,
          9750,
          10000,
          10250,
          10500,
          10750,
          11000,
          11250,
          11500,
          11750,
          12000,
          12250,
          12500,
          12750,
          13000,
          13250,
          13500,
          13750,
          14000,
          14250,
          14500,
          14750,
          15000,
          15250,
          15500,
          15750,
          16000,
          16250,
          16500,
          16750,
          17000,
          17250,
          17500,
          17750,
          18000,
          18250,
          18500,
          18750,
          19000,
          19250,
          19500,
          19750
         ],
         "xaxis": "x",
         "y": [
          0.043472619488061776,
          0.024019739080098298,
          0.09371603987305692,
          0.09041465629977297,
          0.09503018041157289,
          0.09079136760009808,
          0.10193279065722458,
          0.10216072176186218,
          0.10291151131802298,
          0.10151056779805755,
          0.10080311169678514,
          0.09935483086551085,
          0.09842183425197552,
          0.09764502339199041,
          0.09854606584994244,
          0.09854918905622456,
          0.10232404479822445,
          0.0996752634405968,
          0.09872997867508947,
          0.0995600304285774,
          0.10498522499245991,
          0.10410109405070336,
          0.10265868322645601,
          0.10584530920088994,
          0.10047051855691241,
          0.10065609849857311,
          0.09868828665771132,
          0.09937326745120192,
          0.1037846264326787,
          0.10165543418601562,
          0.10241007047074288,
          0.10196895069966762,
          0.10259329765672279,
          0.10044067468432687,
          0.10070858334608952,
          0.1004781914899369,
          0.10344940716005181,
          0.10230421094472548,
          0.10541166501348478,
          0.10345500007143309,
          0.10086702617031572,
          0.09779601557783318,
          0.10200876736293889,
          0.10203476144215043,
          0.09964899858524416,
          0.10122270445933955,
          0.10057717068198233,
          0.10002435530805844,
          0.10713483580630742,
          0.1033221672282738,
          0.10169588999801388,
          0.10236974558089583,
          0.10305915691628685,
          0.1024101472113595,
          0.10025531117514049,
          0.09964554629528025,
          0.10364738005200322,
          0.10264218607436278,
          0.10120748765792689,
          0.10370869804714725,
          0.10288162746713911,
          0.10324246107950519,
          0.10223396151009986,
          0.10385866219790389,
          0.09959068019777657,
          0.09767701117614391,
          0.09536508767286668,
          0.09451728067926761,
          0.09798827731367057,
          0.09973551392994709,
          0.09881571373817595,
          0.0992134785180101,
          0.09951333182959132,
          0.09848936874356311,
          0.09924477214141907,
          0.0965023131054076,
          0.09810475995489278,
          0.09559418845037787,
          0.09888672814385532,
          0.10185419017212054
         ],
         "yaxis": "y"
        },
        {
         "hovertemplate": "variable=eps = 1.00<br>Games played=%{x}<br>value=%{y}<extra></extra>",
         "legendgroup": "eps = 1.00",
         "line": {
          "color": "#636efa",
          "dash": "solid"
         },
         "marker": {
          "symbol": "circle"
         },
         "mode": "lines",
         "name": "eps = 1.00",
         "orientation": "v",
         "showlegend": true,
         "type": "scatter",
         "x": [
          0,
          250,
          500,
          750,
          1000,
          1250,
          1500,
          1750,
          2000,
          2250,
          2500,
          2750,
          3000,
          3250,
          3500,
          3750,
          4000,
          4250,
          4500,
          4750,
          5000,
          5250,
          5500,
          5750,
          6000,
          6250,
          6500,
          6750,
          7000,
          7250,
          7500,
          7750,
          8000,
          8250,
          8500,
          8750,
          9000,
          9250,
          9500,
          9750,
          10000,
          10250,
          10500,
          10750,
          11000,
          11250,
          11500,
          11750,
          12000,
          12250,
          12500,
          12750,
          13000,
          13250,
          13500,
          13750,
          14000,
          14250,
          14500,
          14750,
          15000,
          15250,
          15500,
          15750,
          16000,
          16250,
          16500,
          16750,
          17000,
          17250,
          17500,
          17750,
          18000,
          18250,
          18500,
          18750,
          19000,
          19250,
          19500,
          19750
         ],
         "xaxis": "x",
         "y": [
          0.0417968091739264,
          0.021411399346346227,
          0.11778236819928994,
          0.10976537152657283,
          0.2676223759005467,
          0.25303047837247994,
          0.37725229001626737,
          0.3615205793010532,
          0.5061141184105497,
          0.4935738538131324,
          0.6521036800864625,
          0.6245086149855412,
          1.0019168024990746,
          0.9653713534500564,
          1.2545170737037843,
          1.2290768684547784,
          1.439712687314334,
          1.4238195001997582,
          1.555458746763199,
          1.534073538259271,
          1.4710629028395186,
          1.4479249893796855,
          1.388652806076707,
          1.3448398906482408,
          1.1358535026861762,
          1.0984848394550797,
          1.0176113086616347,
          0.9583857250663469,
          0.8960506707450256,
          0.8542072772167131,
          0.7515443577336879,
          0.7348860347905998,
          0.7640824019505627,
          0.748203425117452,
          0.7556034872998434,
          0.7412005416582308,
          0.722015400796243,
          0.6893875654646968,
          0.6964802632926669,
          0.6816258552897321,
          0.690404574303518,
          0.6682317717620025,
          0.7033526035944068,
          0.7022187806721536,
          0.780092313762877,
          0.7533748367785743,
          0.7929373378711975,
          0.7724196098465971,
          0.8741558826240445,
          0.837977723933991,
          0.9229551452974599,
          0.8970338607851752,
          0.9196107722539518,
          0.9134241002744308,
          1.0341907381889106,
          1.007017525021042,
          1.2293084559243652,
          1.2093377712020732,
          1.4797214246697985,
          1.4612342536368117,
          1.767517719145479,
          1.7509633641839433,
          1.9296017188535732,
          1.9000799545956113,
          2.225569794130358,
          2.1359547253438915,
          2.2813978809663045,
          2.2691983997741585,
          2.339966398713653,
          2.3323973021668905,
          2.2829775608885496,
          2.2763911511499333,
          2.346479843172687,
          2.292948635728,
          2.4241595364972723,
          2.3565499870180684,
          2.4156472364250496,
          2.385572334573912,
          2.5201815383176323,
          2.4514020934877006
         ],
         "yaxis": "y"
        }
       ],
       "layout": {
        "legend": {
         "title": {
          "text": "variable"
         },
         "tracegroupgap": 0
        },
        "margin": {
         "t": 60
        },
        "template": {
         "data": {
          "bar": [
           {
            "error_x": {
             "color": "#2a3f5f"
            },
            "error_y": {
             "color": "#2a3f5f"
            },
            "marker": {
             "line": {
              "color": "#E5ECF6",
              "width": 0.5
             },
             "pattern": {
              "fillmode": "overlay",
              "size": 10,
              "solidity": 0.2
             }
            },
            "type": "bar"
           }
          ],
          "barpolar": [
           {
            "marker": {
             "line": {
              "color": "#E5ECF6",
              "width": 0.5
             },
             "pattern": {
              "fillmode": "overlay",
              "size": 10,
              "solidity": 0.2
             }
            },
            "type": "barpolar"
           }
          ],
          "carpet": [
           {
            "aaxis": {
             "endlinecolor": "#2a3f5f",
             "gridcolor": "white",
             "linecolor": "white",
             "minorgridcolor": "white",
             "startlinecolor": "#2a3f5f"
            },
            "baxis": {
             "endlinecolor": "#2a3f5f",
             "gridcolor": "white",
             "linecolor": "white",
             "minorgridcolor": "white",
             "startlinecolor": "#2a3f5f"
            },
            "type": "carpet"
           }
          ],
          "choropleth": [
           {
            "colorbar": {
             "outlinewidth": 0,
             "ticks": ""
            },
            "type": "choropleth"
           }
          ],
          "contour": [
           {
            "colorbar": {
             "outlinewidth": 0,
             "ticks": ""
            },
            "colorscale": [
             [
              0,
              "#0d0887"
             ],
             [
              0.1111111111111111,
              "#46039f"
             ],
             [
              0.2222222222222222,
              "#7201a8"
             ],
             [
              0.3333333333333333,
              "#9c179e"
             ],
             [
              0.4444444444444444,
              "#bd3786"
             ],
             [
              0.5555555555555556,
              "#d8576b"
             ],
             [
              0.6666666666666666,
              "#ed7953"
             ],
             [
              0.7777777777777778,
              "#fb9f3a"
             ],
             [
              0.8888888888888888,
              "#fdca26"
             ],
             [
              1,
              "#f0f921"
             ]
            ],
            "type": "contour"
           }
          ],
          "contourcarpet": [
           {
            "colorbar": {
             "outlinewidth": 0,
             "ticks": ""
            },
            "type": "contourcarpet"
           }
          ],
          "heatmap": [
           {
            "colorbar": {
             "outlinewidth": 0,
             "ticks": ""
            },
            "colorscale": [
             [
              0,
              "#0d0887"
             ],
             [
              0.1111111111111111,
              "#46039f"
             ],
             [
              0.2222222222222222,
              "#7201a8"
             ],
             [
              0.3333333333333333,
              "#9c179e"
             ],
             [
              0.4444444444444444,
              "#bd3786"
             ],
             [
              0.5555555555555556,
              "#d8576b"
             ],
             [
              0.6666666666666666,
              "#ed7953"
             ],
             [
              0.7777777777777778,
              "#fb9f3a"
             ],
             [
              0.8888888888888888,
              "#fdca26"
             ],
             [
              1,
              "#f0f921"
             ]
            ],
            "type": "heatmap"
           }
          ],
          "heatmapgl": [
           {
            "colorbar": {
             "outlinewidth": 0,
             "ticks": ""
            },
            "colorscale": [
             [
              0,
              "#0d0887"
             ],
             [
              0.1111111111111111,
              "#46039f"
             ],
             [
              0.2222222222222222,
              "#7201a8"
             ],
             [
              0.3333333333333333,
              "#9c179e"
             ],
             [
              0.4444444444444444,
              "#bd3786"
             ],
             [
              0.5555555555555556,
              "#d8576b"
             ],
             [
              0.6666666666666666,
              "#ed7953"
             ],
             [
              0.7777777777777778,
              "#fb9f3a"
             ],
             [
              0.8888888888888888,
              "#fdca26"
             ],
             [
              1,
              "#f0f921"
             ]
            ],
            "type": "heatmapgl"
           }
          ],
          "histogram": [
           {
            "marker": {
             "pattern": {
              "fillmode": "overlay",
              "size": 10,
              "solidity": 0.2
             }
            },
            "type": "histogram"
           }
          ],
          "histogram2d": [
           {
            "colorbar": {
             "outlinewidth": 0,
             "ticks": ""
            },
            "colorscale": [
             [
              0,
              "#0d0887"
             ],
             [
              0.1111111111111111,
              "#46039f"
             ],
             [
              0.2222222222222222,
              "#7201a8"
             ],
             [
              0.3333333333333333,
              "#9c179e"
             ],
             [
              0.4444444444444444,
              "#bd3786"
             ],
             [
              0.5555555555555556,
              "#d8576b"
             ],
             [
              0.6666666666666666,
              "#ed7953"
             ],
             [
              0.7777777777777778,
              "#fb9f3a"
             ],
             [
              0.8888888888888888,
              "#fdca26"
             ],
             [
              1,
              "#f0f921"
             ]
            ],
            "type": "histogram2d"
           }
          ],
          "histogram2dcontour": [
           {
            "colorbar": {
             "outlinewidth": 0,
             "ticks": ""
            },
            "colorscale": [
             [
              0,
              "#0d0887"
             ],
             [
              0.1111111111111111,
              "#46039f"
             ],
             [
              0.2222222222222222,
              "#7201a8"
             ],
             [
              0.3333333333333333,
              "#9c179e"
             ],
             [
              0.4444444444444444,
              "#bd3786"
             ],
             [
              0.5555555555555556,
              "#d8576b"
             ],
             [
              0.6666666666666666,
              "#ed7953"
             ],
             [
              0.7777777777777778,
              "#fb9f3a"
             ],
             [
              0.8888888888888888,
              "#fdca26"
             ],
             [
              1,
              "#f0f921"
             ]
            ],
            "type": "histogram2dcontour"
           }
          ],
          "mesh3d": [
           {
            "colorbar": {
             "outlinewidth": 0,
             "ticks": ""
            },
            "type": "mesh3d"
           }
          ],
          "parcoords": [
           {
            "line": {
             "colorbar": {
              "outlinewidth": 0,
              "ticks": ""
             }
            },
            "type": "parcoords"
           }
          ],
          "pie": [
           {
            "automargin": true,
            "type": "pie"
           }
          ],
          "scatter": [
           {
            "fillpattern": {
             "fillmode": "overlay",
             "size": 10,
             "solidity": 0.2
            },
            "type": "scatter"
           }
          ],
          "scatter3d": [
           {
            "line": {
             "colorbar": {
              "outlinewidth": 0,
              "ticks": ""
             }
            },
            "marker": {
             "colorbar": {
              "outlinewidth": 0,
              "ticks": ""
             }
            },
            "type": "scatter3d"
           }
          ],
          "scattercarpet": [
           {
            "marker": {
             "colorbar": {
              "outlinewidth": 0,
              "ticks": ""
             }
            },
            "type": "scattercarpet"
           }
          ],
          "scattergeo": [
           {
            "marker": {
             "colorbar": {
              "outlinewidth": 0,
              "ticks": ""
             }
            },
            "type": "scattergeo"
           }
          ],
          "scattergl": [
           {
            "marker": {
             "colorbar": {
              "outlinewidth": 0,
              "ticks": ""
             }
            },
            "type": "scattergl"
           }
          ],
          "scattermapbox": [
           {
            "marker": {
             "colorbar": {
              "outlinewidth": 0,
              "ticks": ""
             }
            },
            "type": "scattermapbox"
           }
          ],
          "scatterpolar": [
           {
            "marker": {
             "colorbar": {
              "outlinewidth": 0,
              "ticks": ""
             }
            },
            "type": "scatterpolar"
           }
          ],
          "scatterpolargl": [
           {
            "marker": {
             "colorbar": {
              "outlinewidth": 0,
              "ticks": ""
             }
            },
            "type": "scatterpolargl"
           }
          ],
          "scatterternary": [
           {
            "marker": {
             "colorbar": {
              "outlinewidth": 0,
              "ticks": ""
             }
            },
            "type": "scatterternary"
           }
          ],
          "surface": [
           {
            "colorbar": {
             "outlinewidth": 0,
             "ticks": ""
            },
            "colorscale": [
             [
              0,
              "#0d0887"
             ],
             [
              0.1111111111111111,
              "#46039f"
             ],
             [
              0.2222222222222222,
              "#7201a8"
             ],
             [
              0.3333333333333333,
              "#9c179e"
             ],
             [
              0.4444444444444444,
              "#bd3786"
             ],
             [
              0.5555555555555556,
              "#d8576b"
             ],
             [
              0.6666666666666666,
              "#ed7953"
             ],
             [
              0.7777777777777778,
              "#fb9f3a"
             ],
             [
              0.8888888888888888,
              "#fdca26"
             ],
             [
              1,
              "#f0f921"
             ]
            ],
            "type": "surface"
           }
          ],
          "table": [
           {
            "cells": {
             "fill": {
              "color": "#EBF0F8"
             },
             "line": {
              "color": "white"
             }
            },
            "header": {
             "fill": {
              "color": "#C8D4E3"
             },
             "line": {
              "color": "white"
             }
            },
            "type": "table"
           }
          ]
         },
         "layout": {
          "annotationdefaults": {
           "arrowcolor": "#2a3f5f",
           "arrowhead": 0,
           "arrowwidth": 1
          },
          "autotypenumbers": "strict",
          "coloraxis": {
           "colorbar": {
            "outlinewidth": 0,
            "ticks": ""
           }
          },
          "colorscale": {
           "diverging": [
            [
             0,
             "#8e0152"
            ],
            [
             0.1,
             "#c51b7d"
            ],
            [
             0.2,
             "#de77ae"
            ],
            [
             0.3,
             "#f1b6da"
            ],
            [
             0.4,
             "#fde0ef"
            ],
            [
             0.5,
             "#f7f7f7"
            ],
            [
             0.6,
             "#e6f5d0"
            ],
            [
             0.7,
             "#b8e186"
            ],
            [
             0.8,
             "#7fbc41"
            ],
            [
             0.9,
             "#4d9221"
            ],
            [
             1,
             "#276419"
            ]
           ],
           "sequential": [
            [
             0,
             "#0d0887"
            ],
            [
             0.1111111111111111,
             "#46039f"
            ],
            [
             0.2222222222222222,
             "#7201a8"
            ],
            [
             0.3333333333333333,
             "#9c179e"
            ],
            [
             0.4444444444444444,
             "#bd3786"
            ],
            [
             0.5555555555555556,
             "#d8576b"
            ],
            [
             0.6666666666666666,
             "#ed7953"
            ],
            [
             0.7777777777777778,
             "#fb9f3a"
            ],
            [
             0.8888888888888888,
             "#fdca26"
            ],
            [
             1,
             "#f0f921"
            ]
           ],
           "sequentialminus": [
            [
             0,
             "#0d0887"
            ],
            [
             0.1111111111111111,
             "#46039f"
            ],
            [
             0.2222222222222222,
             "#7201a8"
            ],
            [
             0.3333333333333333,
             "#9c179e"
            ],
            [
             0.4444444444444444,
             "#bd3786"
            ],
            [
             0.5555555555555556,
             "#d8576b"
            ],
            [
             0.6666666666666666,
             "#ed7953"
            ],
            [
             0.7777777777777778,
             "#fb9f3a"
            ],
            [
             0.8888888888888888,
             "#fdca26"
            ],
            [
             1,
             "#f0f921"
            ]
           ]
          },
          "colorway": [
           "#636efa",
           "#EF553B",
           "#00cc96",
           "#ab63fa",
           "#FFA15A",
           "#19d3f3",
           "#FF6692",
           "#B6E880",
           "#FF97FF",
           "#FECB52"
          ],
          "font": {
           "color": "#2a3f5f"
          },
          "geo": {
           "bgcolor": "white",
           "lakecolor": "white",
           "landcolor": "#E5ECF6",
           "showlakes": true,
           "showland": true,
           "subunitcolor": "white"
          },
          "hoverlabel": {
           "align": "left"
          },
          "hovermode": "closest",
          "mapbox": {
           "style": "light"
          },
          "paper_bgcolor": "white",
          "plot_bgcolor": "#E5ECF6",
          "polar": {
           "angularaxis": {
            "gridcolor": "white",
            "linecolor": "white",
            "ticks": ""
           },
           "bgcolor": "#E5ECF6",
           "radialaxis": {
            "gridcolor": "white",
            "linecolor": "white",
            "ticks": ""
           }
          },
          "scene": {
           "xaxis": {
            "backgroundcolor": "#E5ECF6",
            "gridcolor": "white",
            "gridwidth": 2,
            "linecolor": "white",
            "showbackground": true,
            "ticks": "",
            "zerolinecolor": "white"
           },
           "yaxis": {
            "backgroundcolor": "#E5ECF6",
            "gridcolor": "white",
            "gridwidth": 2,
            "linecolor": "white",
            "showbackground": true,
            "ticks": "",
            "zerolinecolor": "white"
           },
           "zaxis": {
            "backgroundcolor": "#E5ECF6",
            "gridcolor": "white",
            "gridwidth": 2,
            "linecolor": "white",
            "showbackground": true,
            "ticks": "",
            "zerolinecolor": "white"
           }
          },
          "shapedefaults": {
           "line": {
            "color": "#2a3f5f"
           }
          },
          "ternary": {
           "aaxis": {
            "gridcolor": "white",
            "linecolor": "white",
            "ticks": ""
           },
           "baxis": {
            "gridcolor": "white",
            "linecolor": "white",
            "ticks": ""
           },
           "bgcolor": "#E5ECF6",
           "caxis": {
            "gridcolor": "white",
            "linecolor": "white",
            "ticks": ""
           }
          },
          "title": {
           "x": 0.05
          },
          "xaxis": {
           "automargin": true,
           "gridcolor": "white",
           "linecolor": "white",
           "ticks": "",
           "title": {
            "standoff": 15
           },
           "zerolinecolor": "white",
           "zerolinewidth": 2
          },
          "yaxis": {
           "automargin": true,
           "gridcolor": "white",
           "linecolor": "white",
           "ticks": "",
           "title": {
            "standoff": 15
           },
           "zerolinecolor": "white",
           "zerolinewidth": 2
          }
         }
        },
        "width": 800,
        "xaxis": {
         "anchor": "y",
         "domain": [
          0,
          1
         ],
         "title": {
          "text": "Games played"
         }
        },
        "yaxis": {
         "anchor": "x",
         "domain": [
          0,
          1
         ],
         "title": {
          "text": "Loss"
         }
        }
       }
      }
     },
     "metadata": {},
     "output_type": "display_data"
    },
    {
     "data": {
      "application/vnd.plotly.v1+json": {
       "config": {
        "plotlyServerURL": "https://plot.ly"
       },
       "data": [
        {
         "hovertemplate": "variable=eps = 0.00<br>Games played=%{x}<br>value=%{y}<extra></extra>",
         "legendgroup": "eps = 0.00",
         "line": {
          "color": "#636efa",
          "dash": "solid"
         },
         "marker": {
          "symbol": "circle"
         },
         "mode": "lines",
         "name": "eps = 0.00",
         "orientation": "v",
         "showlegend": true,
         "type": "scatter",
         "x": [
          0,
          250,
          500,
          750,
          1000,
          1250,
          1500,
          1750,
          2000,
          2250,
          2500,
          2750,
          3000,
          3250,
          3500,
          3750,
          4000,
          4250,
          4500,
          4750,
          5000,
          5250,
          5500,
          5750,
          6000,
          6250,
          6500,
          6750,
          7000,
          7250,
          7500,
          7750,
          8000,
          8250,
          8500,
          8750,
          9000,
          9250,
          9500,
          9750,
          10000,
          10250,
          10500,
          10750,
          11000,
          11250,
          11500,
          11750,
          12000,
          12250,
          12500,
          12750,
          13000,
          13250,
          13500,
          13750,
          14000,
          14250,
          14500,
          14750,
          15000,
          15250,
          15500,
          15750,
          16000,
          16250,
          16500,
          16750,
          17000,
          17250,
          17500,
          17750,
          18000,
          18250,
          18500,
          18750,
          19000,
          19250,
          19500,
          19750
         ],
         "xaxis": "x",
         "y": [
          -1,
          -1,
          -0.976,
          -0.976,
          -0.992,
          -0.96,
          -0.96,
          -0.988,
          -0.968,
          -0.992,
          -0.944,
          -0.964,
          -0.88,
          -0.956,
          -0.92,
          -0.944,
          -0.916,
          -0.944,
          -0.98,
          -0.876,
          -0.896,
          -0.96,
          -0.86,
          -0.94,
          -0.952,
          -0.932,
          -0.96,
          -0.912,
          -0.996,
          -0.976,
          -0.972,
          -0.976,
          -0.948,
          -0.936,
          -0.932,
          -0.944,
          -0.944,
          -0.952,
          -0.944,
          -0.956,
          -0.924,
          -0.944,
          -0.936,
          -0.944,
          -0.936,
          -0.94,
          -0.944,
          -0.944,
          -0.888,
          -0.94,
          -0.928,
          -0.904,
          -0.916,
          -0.932,
          -0.948,
          -0.888,
          -0.912,
          -0.9,
          -0.952,
          -0.924,
          -0.936,
          -0.936,
          -0.948,
          -0.952,
          -0.892,
          -0.876,
          -0.896,
          -0.892,
          -0.916,
          -0.916,
          -0.908,
          -0.912,
          -0.952,
          -0.928,
          -0.9,
          -0.94,
          -0.9,
          -0.932,
          -0.964,
          -0.932
         ],
         "yaxis": "y"
        },
        {
         "hovertemplate": "variable=eps = 0.10<br>Games played=%{x}<br>value=%{y}<extra></extra>",
         "legendgroup": "eps = 0.10",
         "line": {
          "color": "#EF553B",
          "dash": "solid"
         },
         "marker": {
          "symbol": "circle"
         },
         "mode": "lines",
         "name": "eps = 0.10",
         "orientation": "v",
         "showlegend": true,
         "type": "scatter",
         "x": [
          0,
          250,
          500,
          750,
          1000,
          1250,
          1500,
          1750,
          2000,
          2250,
          2500,
          2750,
          3000,
          3250,
          3500,
          3750,
          4000,
          4250,
          4500,
          4750,
          5000,
          5250,
          5500,
          5750,
          6000,
          6250,
          6500,
          6750,
          7000,
          7250,
          7500,
          7750,
          8000,
          8250,
          8500,
          8750,
          9000,
          9250,
          9500,
          9750,
          10000,
          10250,
          10500,
          10750,
          11000,
          11250,
          11500,
          11750,
          12000,
          12250,
          12500,
          12750,
          13000,
          13250,
          13500,
          13750,
          14000,
          14250,
          14500,
          14750,
          15000,
          15250,
          15500,
          15750,
          16000,
          16250,
          16500,
          16750,
          17000,
          17250,
          17500,
          17750,
          18000,
          18250,
          18500,
          18750,
          19000,
          19250,
          19500,
          19750
         ],
         "xaxis": "x",
         "y": [
          -1,
          -1,
          -0.976,
          -0.956,
          -0.94,
          -0.96,
          -0.984,
          -0.972,
          -0.908,
          -0.96,
          -0.928,
          -0.928,
          -0.872,
          -0.92,
          -0.92,
          -0.916,
          -0.856,
          -0.892,
          -0.856,
          -0.816,
          -0.836,
          -0.844,
          -0.788,
          -0.772,
          -0.876,
          -0.748,
          -0.72,
          -0.78,
          -0.724,
          -0.712,
          -0.676,
          -0.752,
          -0.732,
          -0.772,
          -0.712,
          -0.672,
          -0.8,
          -0.724,
          -0.808,
          -0.776,
          -0.796,
          -0.792,
          -0.764,
          -0.784,
          -0.768,
          -0.796,
          -0.76,
          -0.764,
          -0.776,
          -0.732,
          -0.728,
          -0.748,
          -0.716,
          -0.652,
          -0.704,
          -0.776,
          -0.708,
          -0.7,
          -0.62,
          -0.744,
          -0.712,
          -0.676,
          -0.692,
          -0.588,
          -0.576,
          -0.572,
          -0.548,
          -0.58,
          -0.496,
          -0.48,
          -0.46,
          -0.476,
          -0.476,
          -0.512,
          -0.528,
          -0.412,
          -0.368,
          -0.352,
          -0.352,
          -0.32
         ],
         "yaxis": "y"
        },
        {
         "hovertemplate": "variable=eps = 0.20<br>Games played=%{x}<br>value=%{y}<extra></extra>",
         "legendgroup": "eps = 0.20",
         "line": {
          "color": "#00cc96",
          "dash": "solid"
         },
         "marker": {
          "symbol": "circle"
         },
         "mode": "lines",
         "name": "eps = 0.20",
         "orientation": "v",
         "showlegend": true,
         "type": "scatter",
         "x": [
          0,
          250,
          500,
          750,
          1000,
          1250,
          1500,
          1750,
          2000,
          2250,
          2500,
          2750,
          3000,
          3250,
          3500,
          3750,
          4000,
          4250,
          4500,
          4750,
          5000,
          5250,
          5500,
          5750,
          6000,
          6250,
          6500,
          6750,
          7000,
          7250,
          7500,
          7750,
          8000,
          8250,
          8500,
          8750,
          9000,
          9250,
          9500,
          9750,
          10000,
          10250,
          10500,
          10750,
          11000,
          11250,
          11500,
          11750,
          12000,
          12250,
          12500,
          12750,
          13000,
          13250,
          13500,
          13750,
          14000,
          14250,
          14500,
          14750,
          15000,
          15250,
          15500,
          15750,
          16000,
          16250,
          16500,
          16750,
          17000,
          17250,
          17500,
          17750,
          18000,
          18250,
          18500,
          18750,
          19000,
          19250,
          19500,
          19750
         ],
         "xaxis": "x",
         "y": [
          -1,
          -0.992,
          -0.968,
          -0.988,
          -0.94,
          -0.952,
          -0.916,
          -0.936,
          -0.924,
          -0.96,
          -0.948,
          -0.916,
          -0.956,
          -0.904,
          -0.896,
          -0.832,
          -0.836,
          -0.864,
          -0.892,
          -0.776,
          -0.824,
          -0.724,
          -0.772,
          -0.744,
          -0.744,
          -0.752,
          -0.78,
          -0.78,
          -0.692,
          -0.7,
          -0.74,
          -0.708,
          -0.652,
          -0.728,
          -0.648,
          -0.584,
          -0.64,
          -0.592,
          -0.488,
          -0.584,
          -0.54,
          -0.552,
          -0.456,
          -0.58,
          -0.556,
          -0.512,
          -0.516,
          -0.54,
          -0.556,
          -0.552,
          -0.444,
          -0.464,
          -0.44,
          -0.4,
          -0.436,
          -0.424,
          -0.392,
          -0.38,
          -0.456,
          -0.468,
          -0.432,
          -0.416,
          -0.432,
          -0.4,
          -0.504,
          -0.38,
          -0.348,
          -0.308,
          -0.348,
          -0.404,
          -0.368,
          -0.356,
          -0.324,
          -0.424,
          -0.352,
          -0.344,
          -0.432,
          -0.332,
          -0.4,
          -0.508
         ],
         "yaxis": "y"
        },
        {
         "hovertemplate": "variable=eps = 0.30<br>Games played=%{x}<br>value=%{y}<extra></extra>",
         "legendgroup": "eps = 0.30",
         "line": {
          "color": "#ab63fa",
          "dash": "solid"
         },
         "marker": {
          "symbol": "circle"
         },
         "mode": "lines",
         "name": "eps = 0.30",
         "orientation": "v",
         "showlegend": true,
         "type": "scatter",
         "x": [
          0,
          250,
          500,
          750,
          1000,
          1250,
          1500,
          1750,
          2000,
          2250,
          2500,
          2750,
          3000,
          3250,
          3500,
          3750,
          4000,
          4250,
          4500,
          4750,
          5000,
          5250,
          5500,
          5750,
          6000,
          6250,
          6500,
          6750,
          7000,
          7250,
          7500,
          7750,
          8000,
          8250,
          8500,
          8750,
          9000,
          9250,
          9500,
          9750,
          10000,
          10250,
          10500,
          10750,
          11000,
          11250,
          11500,
          11750,
          12000,
          12250,
          12500,
          12750,
          13000,
          13250,
          13500,
          13750,
          14000,
          14250,
          14500,
          14750,
          15000,
          15250,
          15500,
          15750,
          16000,
          16250,
          16500,
          16750,
          17000,
          17250,
          17500,
          17750,
          18000,
          18250,
          18500,
          18750,
          19000,
          19250,
          19500,
          19750
         ],
         "xaxis": "x",
         "y": [
          -1,
          -1,
          -1,
          -1,
          -1,
          -1,
          -1,
          -0.984,
          -0.98,
          -0.964,
          -0.924,
          -0.936,
          -0.924,
          -0.904,
          -0.86,
          -0.904,
          -0.852,
          -0.852,
          -0.812,
          -0.812,
          -0.852,
          -0.772,
          -0.748,
          -0.668,
          -0.804,
          -0.736,
          -0.784,
          -0.752,
          -0.708,
          -0.652,
          -0.708,
          -0.672,
          -0.644,
          -0.716,
          -0.608,
          -0.632,
          -0.708,
          -0.692,
          -0.692,
          -0.64,
          -0.568,
          -0.612,
          -0.664,
          -0.612,
          -0.572,
          -0.552,
          -0.652,
          -0.568,
          -0.504,
          -0.572,
          -0.636,
          -0.46,
          -0.568,
          -0.488,
          -0.54,
          -0.576,
          -0.52,
          -0.376,
          -0.46,
          -0.404,
          -0.44,
          -0.476,
          -0.476,
          -0.5,
          -0.464,
          -0.436,
          -0.46,
          -0.424,
          -0.444,
          -0.528,
          -0.52,
          -0.476,
          -0.568,
          -0.512,
          -0.42,
          -0.432,
          -0.412,
          -0.36,
          -0.532,
          -0.412
         ],
         "yaxis": "y"
        },
        {
         "hovertemplate": "variable=eps = 0.40<br>Games played=%{x}<br>value=%{y}<extra></extra>",
         "legendgroup": "eps = 0.40",
         "line": {
          "color": "#FFA15A",
          "dash": "solid"
         },
         "marker": {
          "symbol": "circle"
         },
         "mode": "lines",
         "name": "eps = 0.40",
         "orientation": "v",
         "showlegend": true,
         "type": "scatter",
         "x": [
          0,
          250,
          500,
          750,
          1000,
          1250,
          1500,
          1750,
          2000,
          2250,
          2500,
          2750,
          3000,
          3250,
          3500,
          3750,
          4000,
          4250,
          4500,
          4750,
          5000,
          5250,
          5500,
          5750,
          6000,
          6250,
          6500,
          6750,
          7000,
          7250,
          7500,
          7750,
          8000,
          8250,
          8500,
          8750,
          9000,
          9250,
          9500,
          9750,
          10000,
          10250,
          10500,
          10750,
          11000,
          11250,
          11500,
          11750,
          12000,
          12250,
          12500,
          12750,
          13000,
          13250,
          13500,
          13750,
          14000,
          14250,
          14500,
          14750,
          15000,
          15250,
          15500,
          15750,
          16000,
          16250,
          16500,
          16750,
          17000,
          17250,
          17500,
          17750,
          18000,
          18250,
          18500,
          18750,
          19000,
          19250,
          19500,
          19750
         ],
         "xaxis": "x",
         "y": [
          -1,
          -1,
          -0.984,
          -0.972,
          -0.968,
          -0.992,
          -0.96,
          -0.968,
          -0.952,
          -0.932,
          -0.972,
          -0.912,
          -0.916,
          -0.92,
          -0.924,
          -0.892,
          -0.936,
          -0.904,
          -0.904,
          -0.844,
          -0.788,
          -0.816,
          -0.796,
          -0.832,
          -0.828,
          -0.776,
          -0.78,
          -0.724,
          -0.788,
          -0.772,
          -0.68,
          -0.812,
          -0.724,
          -0.732,
          -0.788,
          -0.776,
          -0.692,
          -0.736,
          -0.64,
          -0.692,
          -0.628,
          -0.696,
          -0.708,
          -0.776,
          -0.66,
          -0.696,
          -0.708,
          -0.692,
          -0.64,
          -0.812,
          -0.644,
          -0.6,
          -0.612,
          -0.584,
          -0.596,
          -0.56,
          -0.628,
          -0.672,
          -0.612,
          -0.6,
          -0.548,
          -0.872,
          -0.644,
          -0.704,
          -0.564,
          -0.556,
          -0.468,
          -0.592,
          -0.608,
          -0.496,
          -0.568,
          -0.64,
          -0.572,
          -0.664,
          -0.584,
          -0.556,
          -0.66,
          -0.6,
          -0.58,
          -0.488
         ],
         "yaxis": "y"
        },
        {
         "hovertemplate": "variable=eps = 0.50<br>Games played=%{x}<br>value=%{y}<extra></extra>",
         "legendgroup": "eps = 0.50",
         "line": {
          "color": "#19d3f3",
          "dash": "solid"
         },
         "marker": {
          "symbol": "circle"
         },
         "mode": "lines",
         "name": "eps = 0.50",
         "orientation": "v",
         "showlegend": true,
         "type": "scatter",
         "x": [
          0,
          250,
          500,
          750,
          1000,
          1250,
          1500,
          1750,
          2000,
          2250,
          2500,
          2750,
          3000,
          3250,
          3500,
          3750,
          4000,
          4250,
          4500,
          4750,
          5000,
          5250,
          5500,
          5750,
          6000,
          6250,
          6500,
          6750,
          7000,
          7250,
          7500,
          7750,
          8000,
          8250,
          8500,
          8750,
          9000,
          9250,
          9500,
          9750,
          10000,
          10250,
          10500,
          10750,
          11000,
          11250,
          11500,
          11750,
          12000,
          12250,
          12500,
          12750,
          13000,
          13250,
          13500,
          13750,
          14000,
          14250,
          14500,
          14750,
          15000,
          15250,
          15500,
          15750,
          16000,
          16250,
          16500,
          16750,
          17000,
          17250,
          17500,
          17750,
          18000,
          18250,
          18500,
          18750,
          19000,
          19250,
          19500,
          19750
         ],
         "xaxis": "x",
         "y": [
          -1,
          -1,
          -0.972,
          -0.976,
          -0.964,
          -0.98,
          -1,
          -1,
          -0.952,
          -0.98,
          -0.896,
          -0.964,
          -0.892,
          -0.9,
          -0.86,
          -0.888,
          -0.872,
          -0.892,
          -0.86,
          -0.892,
          -0.848,
          -0.836,
          -0.892,
          -0.836,
          -0.896,
          -0.84,
          -0.792,
          -0.824,
          -0.716,
          -0.684,
          -0.744,
          -0.704,
          -0.752,
          -0.856,
          -0.712,
          -0.748,
          -0.824,
          -0.796,
          -0.792,
          -0.736,
          -0.696,
          -0.696,
          -0.744,
          -0.836,
          -0.78,
          -0.736,
          -0.704,
          -0.664,
          -0.704,
          -0.704,
          -0.66,
          -0.644,
          -0.724,
          -0.696,
          -0.684,
          -0.772,
          -0.8,
          -0.708,
          -0.74,
          -0.792,
          -0.648,
          -0.776,
          -0.7,
          -0.692,
          -0.68,
          -0.704,
          -0.66,
          -0.644,
          -0.608,
          -0.688,
          -0.668,
          -0.656,
          -0.692,
          -0.72,
          -0.632,
          -0.616,
          -0.632,
          -0.632,
          -0.692,
          -0.644
         ],
         "yaxis": "y"
        },
        {
         "hovertemplate": "variable=eps = 0.60<br>Games played=%{x}<br>value=%{y}<extra></extra>",
         "legendgroup": "eps = 0.60",
         "line": {
          "color": "#FF6692",
          "dash": "solid"
         },
         "marker": {
          "symbol": "circle"
         },
         "mode": "lines",
         "name": "eps = 0.60",
         "orientation": "v",
         "showlegend": true,
         "type": "scatter",
         "x": [
          0,
          250,
          500,
          750,
          1000,
          1250,
          1500,
          1750,
          2000,
          2250,
          2500,
          2750,
          3000,
          3250,
          3500,
          3750,
          4000,
          4250,
          4500,
          4750,
          5000,
          5250,
          5500,
          5750,
          6000,
          6250,
          6500,
          6750,
          7000,
          7250,
          7500,
          7750,
          8000,
          8250,
          8500,
          8750,
          9000,
          9250,
          9500,
          9750,
          10000,
          10250,
          10500,
          10750,
          11000,
          11250,
          11500,
          11750,
          12000,
          12250,
          12500,
          12750,
          13000,
          13250,
          13500,
          13750,
          14000,
          14250,
          14500,
          14750,
          15000,
          15250,
          15500,
          15750,
          16000,
          16250,
          16500,
          16750,
          17000,
          17250,
          17500,
          17750,
          18000,
          18250,
          18500,
          18750,
          19000,
          19250,
          19500,
          19750
         ],
         "xaxis": "x",
         "y": [
          -0.992,
          -1,
          -0.992,
          -0.992,
          -0.996,
          -0.94,
          -0.976,
          -0.948,
          -0.96,
          -0.952,
          -0.948,
          -0.96,
          -0.956,
          -0.944,
          -0.94,
          -0.972,
          -0.972,
          -0.936,
          -0.96,
          -0.936,
          -0.9,
          -0.904,
          -0.892,
          -0.88,
          -0.888,
          -0.86,
          -0.908,
          -0.84,
          -0.812,
          -0.864,
          -0.864,
          -0.932,
          -0.876,
          -0.84,
          -0.824,
          -0.904,
          -0.832,
          -0.896,
          -0.868,
          -0.848,
          -0.88,
          -0.88,
          -0.86,
          -0.896,
          -0.904,
          -0.856,
          -0.86,
          -0.88,
          -0.884,
          -0.84,
          -0.84,
          -0.832,
          -0.84,
          -0.784,
          -0.864,
          -0.796,
          -0.832,
          -0.884,
          -0.884,
          -0.896,
          -0.868,
          -0.776,
          -0.9,
          -0.928,
          -0.868,
          -0.82,
          -0.86,
          -0.872,
          -0.832,
          -0.744,
          -0.844,
          -0.884,
          -0.768,
          -0.836,
          -0.948,
          -0.888,
          -0.832,
          -0.88,
          -0.928,
          -0.896
         ],
         "yaxis": "y"
        },
        {
         "hovertemplate": "variable=eps = 0.70<br>Games played=%{x}<br>value=%{y}<extra></extra>",
         "legendgroup": "eps = 0.70",
         "line": {
          "color": "#B6E880",
          "dash": "solid"
         },
         "marker": {
          "symbol": "circle"
         },
         "mode": "lines",
         "name": "eps = 0.70",
         "orientation": "v",
         "showlegend": true,
         "type": "scatter",
         "x": [
          0,
          250,
          500,
          750,
          1000,
          1250,
          1500,
          1750,
          2000,
          2250,
          2500,
          2750,
          3000,
          3250,
          3500,
          3750,
          4000,
          4250,
          4500,
          4750,
          5000,
          5250,
          5500,
          5750,
          6000,
          6250,
          6500,
          6750,
          7000,
          7250,
          7500,
          7750,
          8000,
          8250,
          8500,
          8750,
          9000,
          9250,
          9500,
          9750,
          10000,
          10250,
          10500,
          10750,
          11000,
          11250,
          11500,
          11750,
          12000,
          12250,
          12500,
          12750,
          13000,
          13250,
          13500,
          13750,
          14000,
          14250,
          14500,
          14750,
          15000,
          15250,
          15500,
          15750,
          16000,
          16250,
          16500,
          16750,
          17000,
          17250,
          17500,
          17750,
          18000,
          18250,
          18500,
          18750,
          19000,
          19250,
          19500,
          19750
         ],
         "xaxis": "x",
         "y": [
          -0.968,
          -1,
          -0.984,
          -0.984,
          -0.976,
          -0.94,
          -1,
          -0.988,
          -0.968,
          -0.936,
          -0.972,
          -0.904,
          -0.94,
          -0.896,
          -0.92,
          -0.916,
          -0.876,
          -0.888,
          -0.928,
          -0.908,
          -0.968,
          -0.924,
          -0.972,
          -0.908,
          -0.908,
          -0.952,
          -0.936,
          -0.908,
          -0.92,
          -0.908,
          -0.908,
          -0.884,
          -0.904,
          -0.936,
          -0.848,
          -0.888,
          -0.872,
          -0.92,
          -0.948,
          -0.924,
          -0.904,
          -0.968,
          -0.956,
          -0.948,
          -0.844,
          -0.956,
          -0.884,
          -0.892,
          -0.9,
          -0.924,
          -0.868,
          -0.948,
          -0.88,
          -0.872,
          -0.908,
          -0.976,
          -0.896,
          -0.876,
          -0.896,
          -0.836,
          -0.884,
          -0.888,
          -0.872,
          -0.9,
          -0.936,
          -0.9,
          -0.916,
          -0.876,
          -0.876,
          -0.912,
          -0.888,
          -0.912,
          -0.904,
          -0.924,
          -0.912,
          -0.94,
          -0.896,
          -0.912,
          -0.908,
          -0.948
         ],
         "yaxis": "y"
        },
        {
         "hovertemplate": "variable=eps = 0.80<br>Games played=%{x}<br>value=%{y}<extra></extra>",
         "legendgroup": "eps = 0.80",
         "line": {
          "color": "#FF97FF",
          "dash": "solid"
         },
         "marker": {
          "symbol": "circle"
         },
         "mode": "lines",
         "name": "eps = 0.80",
         "orientation": "v",
         "showlegend": true,
         "type": "scatter",
         "x": [
          0,
          250,
          500,
          750,
          1000,
          1250,
          1500,
          1750,
          2000,
          2250,
          2500,
          2750,
          3000,
          3250,
          3500,
          3750,
          4000,
          4250,
          4500,
          4750,
          5000,
          5250,
          5500,
          5750,
          6000,
          6250,
          6500,
          6750,
          7000,
          7250,
          7500,
          7750,
          8000,
          8250,
          8500,
          8750,
          9000,
          9250,
          9500,
          9750,
          10000,
          10250,
          10500,
          10750,
          11000,
          11250,
          11500,
          11750,
          12000,
          12250,
          12500,
          12750,
          13000,
          13250,
          13500,
          13750,
          14000,
          14250,
          14500,
          14750,
          15000,
          15250,
          15500,
          15750,
          16000,
          16250,
          16500,
          16750,
          17000,
          17250,
          17500,
          17750,
          18000,
          18250,
          18500,
          18750,
          19000,
          19250,
          19500,
          19750
         ],
         "xaxis": "x",
         "y": [
          -1,
          -0.972,
          -0.972,
          -1,
          -0.96,
          -0.94,
          -0.964,
          -0.992,
          -0.988,
          -0.972,
          -0.98,
          -0.924,
          -0.932,
          -0.952,
          -0.98,
          -0.944,
          -0.932,
          -0.948,
          -0.868,
          -0.88,
          -0.908,
          -0.912,
          -0.92,
          -0.928,
          -0.952,
          -0.896,
          -0.912,
          -0.932,
          -0.984,
          -0.976,
          -0.912,
          -0.96,
          -0.964,
          -0.952,
          -0.98,
          -0.928,
          -0.944,
          -0.92,
          -0.948,
          -0.96,
          -0.92,
          -0.94,
          -0.92,
          -0.936,
          -0.98,
          -0.916,
          -0.86,
          -0.904,
          -0.944,
          -0.936,
          -0.936,
          -0.912,
          -0.92,
          -0.896,
          -0.88,
          -0.936,
          -0.912,
          -0.948,
          -0.936,
          -0.908,
          -0.984,
          -0.896,
          -0.932,
          -0.912,
          -0.936,
          -0.868,
          -0.896,
          -0.888,
          -0.924,
          -0.936,
          -0.9,
          -0.9,
          -0.924,
          -0.932,
          -0.924,
          -0.852,
          -0.944,
          -0.912,
          -0.96,
          -0.964
         ],
         "yaxis": "y"
        },
        {
         "hovertemplate": "variable=eps = 0.90<br>Games played=%{x}<br>value=%{y}<extra></extra>",
         "legendgroup": "eps = 0.90",
         "line": {
          "color": "#FECB52",
          "dash": "solid"
         },
         "marker": {
          "symbol": "circle"
         },
         "mode": "lines",
         "name": "eps = 0.90",
         "orientation": "v",
         "showlegend": true,
         "type": "scatter",
         "x": [
          0,
          250,
          500,
          750,
          1000,
          1250,
          1500,
          1750,
          2000,
          2250,
          2500,
          2750,
          3000,
          3250,
          3500,
          3750,
          4000,
          4250,
          4500,
          4750,
          5000,
          5250,
          5500,
          5750,
          6000,
          6250,
          6500,
          6750,
          7000,
          7250,
          7500,
          7750,
          8000,
          8250,
          8500,
          8750,
          9000,
          9250,
          9500,
          9750,
          10000,
          10250,
          10500,
          10750,
          11000,
          11250,
          11500,
          11750,
          12000,
          12250,
          12500,
          12750,
          13000,
          13250,
          13500,
          13750,
          14000,
          14250,
          14500,
          14750,
          15000,
          15250,
          15500,
          15750,
          16000,
          16250,
          16500,
          16750,
          17000,
          17250,
          17500,
          17750,
          18000,
          18250,
          18500,
          18750,
          19000,
          19250,
          19500,
          19750
         ],
         "xaxis": "x",
         "y": [
          -1,
          -0.988,
          -0.992,
          -0.976,
          -0.984,
          -0.984,
          -0.968,
          -0.964,
          -0.964,
          -0.98,
          -0.948,
          -0.924,
          -0.928,
          -0.924,
          -0.936,
          -0.932,
          -0.944,
          -0.916,
          -0.956,
          -0.92,
          -0.956,
          -0.94,
          -0.98,
          -0.968,
          -0.928,
          -0.908,
          -0.944,
          -0.928,
          -1,
          -0.964,
          -0.944,
          -0.968,
          -0.916,
          -0.944,
          -0.92,
          -0.892,
          -0.932,
          -0.9,
          -0.92,
          -0.956,
          -0.96,
          -0.956,
          -0.972,
          -0.944,
          -0.928,
          -0.92,
          -0.996,
          -0.96,
          -0.952,
          -0.952,
          -0.956,
          -0.916,
          -0.948,
          -0.968,
          -0.932,
          -0.884,
          -0.968,
          -0.944,
          -0.98,
          -0.9,
          -0.984,
          -0.916,
          -0.944,
          -0.884,
          -0.892,
          -0.916,
          -0.932,
          -0.964,
          -0.956,
          -0.992,
          -0.972,
          -0.972,
          -0.968,
          -0.944,
          -0.94,
          -0.908,
          -0.94,
          -0.956,
          -0.96,
          -0.936
         ],
         "yaxis": "y"
        },
        {
         "hovertemplate": "variable=eps = 1.00<br>Games played=%{x}<br>value=%{y}<extra></extra>",
         "legendgroup": "eps = 1.00",
         "line": {
          "color": "#636efa",
          "dash": "solid"
         },
         "marker": {
          "symbol": "circle"
         },
         "mode": "lines",
         "name": "eps = 1.00",
         "orientation": "v",
         "showlegend": true,
         "type": "scatter",
         "x": [
          0,
          250,
          500,
          750,
          1000,
          1250,
          1500,
          1750,
          2000,
          2250,
          2500,
          2750,
          3000,
          3250,
          3500,
          3750,
          4000,
          4250,
          4500,
          4750,
          5000,
          5250,
          5500,
          5750,
          6000,
          6250,
          6500,
          6750,
          7000,
          7250,
          7500,
          7750,
          8000,
          8250,
          8500,
          8750,
          9000,
          9250,
          9500,
          9750,
          10000,
          10250,
          10500,
          10750,
          11000,
          11250,
          11500,
          11750,
          12000,
          12250,
          12500,
          12750,
          13000,
          13250,
          13500,
          13750,
          14000,
          14250,
          14500,
          14750,
          15000,
          15250,
          15500,
          15750,
          16000,
          16250,
          16500,
          16750,
          17000,
          17250,
          17500,
          17750,
          18000,
          18250,
          18500,
          18750,
          19000,
          19250,
          19500,
          19750
         ],
         "xaxis": "x",
         "y": [
          -1,
          -1,
          -1,
          -1,
          -1,
          -1,
          -1,
          -1,
          -1,
          -1,
          -1,
          -1,
          -1,
          -1,
          -1,
          -1,
          -1,
          -1,
          -1,
          -1,
          -1,
          -1,
          -1,
          -1,
          -1,
          -1,
          -1,
          -1,
          -1,
          -1,
          -1,
          -1,
          -1,
          -1,
          -1,
          -1,
          -1,
          -1,
          -1,
          -1,
          -1,
          -1,
          -1,
          -1,
          -1,
          -1,
          -1,
          -1,
          -1,
          -1,
          -1,
          -1,
          -1,
          -1,
          -1,
          -1,
          -1,
          -1,
          -1,
          -1,
          -1,
          -1,
          -1,
          -1,
          -1,
          -1,
          -1,
          -1,
          -1,
          -1,
          -1,
          -1,
          -1,
          -1,
          -1,
          -1,
          -1,
          -1,
          -1,
          -1
         ],
         "yaxis": "y"
        }
       ],
       "layout": {
        "legend": {
         "title": {
          "text": "variable"
         },
         "tracegroupgap": 0
        },
        "margin": {
         "t": 60
        },
        "template": {
         "data": {
          "bar": [
           {
            "error_x": {
             "color": "#2a3f5f"
            },
            "error_y": {
             "color": "#2a3f5f"
            },
            "marker": {
             "line": {
              "color": "#E5ECF6",
              "width": 0.5
             },
             "pattern": {
              "fillmode": "overlay",
              "size": 10,
              "solidity": 0.2
             }
            },
            "type": "bar"
           }
          ],
          "barpolar": [
           {
            "marker": {
             "line": {
              "color": "#E5ECF6",
              "width": 0.5
             },
             "pattern": {
              "fillmode": "overlay",
              "size": 10,
              "solidity": 0.2
             }
            },
            "type": "barpolar"
           }
          ],
          "carpet": [
           {
            "aaxis": {
             "endlinecolor": "#2a3f5f",
             "gridcolor": "white",
             "linecolor": "white",
             "minorgridcolor": "white",
             "startlinecolor": "#2a3f5f"
            },
            "baxis": {
             "endlinecolor": "#2a3f5f",
             "gridcolor": "white",
             "linecolor": "white",
             "minorgridcolor": "white",
             "startlinecolor": "#2a3f5f"
            },
            "type": "carpet"
           }
          ],
          "choropleth": [
           {
            "colorbar": {
             "outlinewidth": 0,
             "ticks": ""
            },
            "type": "choropleth"
           }
          ],
          "contour": [
           {
            "colorbar": {
             "outlinewidth": 0,
             "ticks": ""
            },
            "colorscale": [
             [
              0,
              "#0d0887"
             ],
             [
              0.1111111111111111,
              "#46039f"
             ],
             [
              0.2222222222222222,
              "#7201a8"
             ],
             [
              0.3333333333333333,
              "#9c179e"
             ],
             [
              0.4444444444444444,
              "#bd3786"
             ],
             [
              0.5555555555555556,
              "#d8576b"
             ],
             [
              0.6666666666666666,
              "#ed7953"
             ],
             [
              0.7777777777777778,
              "#fb9f3a"
             ],
             [
              0.8888888888888888,
              "#fdca26"
             ],
             [
              1,
              "#f0f921"
             ]
            ],
            "type": "contour"
           }
          ],
          "contourcarpet": [
           {
            "colorbar": {
             "outlinewidth": 0,
             "ticks": ""
            },
            "type": "contourcarpet"
           }
          ],
          "heatmap": [
           {
            "colorbar": {
             "outlinewidth": 0,
             "ticks": ""
            },
            "colorscale": [
             [
              0,
              "#0d0887"
             ],
             [
              0.1111111111111111,
              "#46039f"
             ],
             [
              0.2222222222222222,
              "#7201a8"
             ],
             [
              0.3333333333333333,
              "#9c179e"
             ],
             [
              0.4444444444444444,
              "#bd3786"
             ],
             [
              0.5555555555555556,
              "#d8576b"
             ],
             [
              0.6666666666666666,
              "#ed7953"
             ],
             [
              0.7777777777777778,
              "#fb9f3a"
             ],
             [
              0.8888888888888888,
              "#fdca26"
             ],
             [
              1,
              "#f0f921"
             ]
            ],
            "type": "heatmap"
           }
          ],
          "heatmapgl": [
           {
            "colorbar": {
             "outlinewidth": 0,
             "ticks": ""
            },
            "colorscale": [
             [
              0,
              "#0d0887"
             ],
             [
              0.1111111111111111,
              "#46039f"
             ],
             [
              0.2222222222222222,
              "#7201a8"
             ],
             [
              0.3333333333333333,
              "#9c179e"
             ],
             [
              0.4444444444444444,
              "#bd3786"
             ],
             [
              0.5555555555555556,
              "#d8576b"
             ],
             [
              0.6666666666666666,
              "#ed7953"
             ],
             [
              0.7777777777777778,
              "#fb9f3a"
             ],
             [
              0.8888888888888888,
              "#fdca26"
             ],
             [
              1,
              "#f0f921"
             ]
            ],
            "type": "heatmapgl"
           }
          ],
          "histogram": [
           {
            "marker": {
             "pattern": {
              "fillmode": "overlay",
              "size": 10,
              "solidity": 0.2
             }
            },
            "type": "histogram"
           }
          ],
          "histogram2d": [
           {
            "colorbar": {
             "outlinewidth": 0,
             "ticks": ""
            },
            "colorscale": [
             [
              0,
              "#0d0887"
             ],
             [
              0.1111111111111111,
              "#46039f"
             ],
             [
              0.2222222222222222,
              "#7201a8"
             ],
             [
              0.3333333333333333,
              "#9c179e"
             ],
             [
              0.4444444444444444,
              "#bd3786"
             ],
             [
              0.5555555555555556,
              "#d8576b"
             ],
             [
              0.6666666666666666,
              "#ed7953"
             ],
             [
              0.7777777777777778,
              "#fb9f3a"
             ],
             [
              0.8888888888888888,
              "#fdca26"
             ],
             [
              1,
              "#f0f921"
             ]
            ],
            "type": "histogram2d"
           }
          ],
          "histogram2dcontour": [
           {
            "colorbar": {
             "outlinewidth": 0,
             "ticks": ""
            },
            "colorscale": [
             [
              0,
              "#0d0887"
             ],
             [
              0.1111111111111111,
              "#46039f"
             ],
             [
              0.2222222222222222,
              "#7201a8"
             ],
             [
              0.3333333333333333,
              "#9c179e"
             ],
             [
              0.4444444444444444,
              "#bd3786"
             ],
             [
              0.5555555555555556,
              "#d8576b"
             ],
             [
              0.6666666666666666,
              "#ed7953"
             ],
             [
              0.7777777777777778,
              "#fb9f3a"
             ],
             [
              0.8888888888888888,
              "#fdca26"
             ],
             [
              1,
              "#f0f921"
             ]
            ],
            "type": "histogram2dcontour"
           }
          ],
          "mesh3d": [
           {
            "colorbar": {
             "outlinewidth": 0,
             "ticks": ""
            },
            "type": "mesh3d"
           }
          ],
          "parcoords": [
           {
            "line": {
             "colorbar": {
              "outlinewidth": 0,
              "ticks": ""
             }
            },
            "type": "parcoords"
           }
          ],
          "pie": [
           {
            "automargin": true,
            "type": "pie"
           }
          ],
          "scatter": [
           {
            "fillpattern": {
             "fillmode": "overlay",
             "size": 10,
             "solidity": 0.2
            },
            "type": "scatter"
           }
          ],
          "scatter3d": [
           {
            "line": {
             "colorbar": {
              "outlinewidth": 0,
              "ticks": ""
             }
            },
            "marker": {
             "colorbar": {
              "outlinewidth": 0,
              "ticks": ""
             }
            },
            "type": "scatter3d"
           }
          ],
          "scattercarpet": [
           {
            "marker": {
             "colorbar": {
              "outlinewidth": 0,
              "ticks": ""
             }
            },
            "type": "scattercarpet"
           }
          ],
          "scattergeo": [
           {
            "marker": {
             "colorbar": {
              "outlinewidth": 0,
              "ticks": ""
             }
            },
            "type": "scattergeo"
           }
          ],
          "scattergl": [
           {
            "marker": {
             "colorbar": {
              "outlinewidth": 0,
              "ticks": ""
             }
            },
            "type": "scattergl"
           }
          ],
          "scattermapbox": [
           {
            "marker": {
             "colorbar": {
              "outlinewidth": 0,
              "ticks": ""
             }
            },
            "type": "scattermapbox"
           }
          ],
          "scatterpolar": [
           {
            "marker": {
             "colorbar": {
              "outlinewidth": 0,
              "ticks": ""
             }
            },
            "type": "scatterpolar"
           }
          ],
          "scatterpolargl": [
           {
            "marker": {
             "colorbar": {
              "outlinewidth": 0,
              "ticks": ""
             }
            },
            "type": "scatterpolargl"
           }
          ],
          "scatterternary": [
           {
            "marker": {
             "colorbar": {
              "outlinewidth": 0,
              "ticks": ""
             }
            },
            "type": "scatterternary"
           }
          ],
          "surface": [
           {
            "colorbar": {
             "outlinewidth": 0,
             "ticks": ""
            },
            "colorscale": [
             [
              0,
              "#0d0887"
             ],
             [
              0.1111111111111111,
              "#46039f"
             ],
             [
              0.2222222222222222,
              "#7201a8"
             ],
             [
              0.3333333333333333,
              "#9c179e"
             ],
             [
              0.4444444444444444,
              "#bd3786"
             ],
             [
              0.5555555555555556,
              "#d8576b"
             ],
             [
              0.6666666666666666,
              "#ed7953"
             ],
             [
              0.7777777777777778,
              "#fb9f3a"
             ],
             [
              0.8888888888888888,
              "#fdca26"
             ],
             [
              1,
              "#f0f921"
             ]
            ],
            "type": "surface"
           }
          ],
          "table": [
           {
            "cells": {
             "fill": {
              "color": "#EBF0F8"
             },
             "line": {
              "color": "white"
             }
            },
            "header": {
             "fill": {
              "color": "#C8D4E3"
             },
             "line": {
              "color": "white"
             }
            },
            "type": "table"
           }
          ]
         },
         "layout": {
          "annotationdefaults": {
           "arrowcolor": "#2a3f5f",
           "arrowhead": 0,
           "arrowwidth": 1
          },
          "autotypenumbers": "strict",
          "coloraxis": {
           "colorbar": {
            "outlinewidth": 0,
            "ticks": ""
           }
          },
          "colorscale": {
           "diverging": [
            [
             0,
             "#8e0152"
            ],
            [
             0.1,
             "#c51b7d"
            ],
            [
             0.2,
             "#de77ae"
            ],
            [
             0.3,
             "#f1b6da"
            ],
            [
             0.4,
             "#fde0ef"
            ],
            [
             0.5,
             "#f7f7f7"
            ],
            [
             0.6,
             "#e6f5d0"
            ],
            [
             0.7,
             "#b8e186"
            ],
            [
             0.8,
             "#7fbc41"
            ],
            [
             0.9,
             "#4d9221"
            ],
            [
             1,
             "#276419"
            ]
           ],
           "sequential": [
            [
             0,
             "#0d0887"
            ],
            [
             0.1111111111111111,
             "#46039f"
            ],
            [
             0.2222222222222222,
             "#7201a8"
            ],
            [
             0.3333333333333333,
             "#9c179e"
            ],
            [
             0.4444444444444444,
             "#bd3786"
            ],
            [
             0.5555555555555556,
             "#d8576b"
            ],
            [
             0.6666666666666666,
             "#ed7953"
            ],
            [
             0.7777777777777778,
             "#fb9f3a"
            ],
            [
             0.8888888888888888,
             "#fdca26"
            ],
            [
             1,
             "#f0f921"
            ]
           ],
           "sequentialminus": [
            [
             0,
             "#0d0887"
            ],
            [
             0.1111111111111111,
             "#46039f"
            ],
            [
             0.2222222222222222,
             "#7201a8"
            ],
            [
             0.3333333333333333,
             "#9c179e"
            ],
            [
             0.4444444444444444,
             "#bd3786"
            ],
            [
             0.5555555555555556,
             "#d8576b"
            ],
            [
             0.6666666666666666,
             "#ed7953"
            ],
            [
             0.7777777777777778,
             "#fb9f3a"
            ],
            [
             0.8888888888888888,
             "#fdca26"
            ],
            [
             1,
             "#f0f921"
            ]
           ]
          },
          "colorway": [
           "#636efa",
           "#EF553B",
           "#00cc96",
           "#ab63fa",
           "#FFA15A",
           "#19d3f3",
           "#FF6692",
           "#B6E880",
           "#FF97FF",
           "#FECB52"
          ],
          "font": {
           "color": "#2a3f5f"
          },
          "geo": {
           "bgcolor": "white",
           "lakecolor": "white",
           "landcolor": "#E5ECF6",
           "showlakes": true,
           "showland": true,
           "subunitcolor": "white"
          },
          "hoverlabel": {
           "align": "left"
          },
          "hovermode": "closest",
          "mapbox": {
           "style": "light"
          },
          "paper_bgcolor": "white",
          "plot_bgcolor": "#E5ECF6",
          "polar": {
           "angularaxis": {
            "gridcolor": "white",
            "linecolor": "white",
            "ticks": ""
           },
           "bgcolor": "#E5ECF6",
           "radialaxis": {
            "gridcolor": "white",
            "linecolor": "white",
            "ticks": ""
           }
          },
          "scene": {
           "xaxis": {
            "backgroundcolor": "#E5ECF6",
            "gridcolor": "white",
            "gridwidth": 2,
            "linecolor": "white",
            "showbackground": true,
            "ticks": "",
            "zerolinecolor": "white"
           },
           "yaxis": {
            "backgroundcolor": "#E5ECF6",
            "gridcolor": "white",
            "gridwidth": 2,
            "linecolor": "white",
            "showbackground": true,
            "ticks": "",
            "zerolinecolor": "white"
           },
           "zaxis": {
            "backgroundcolor": "#E5ECF6",
            "gridcolor": "white",
            "gridwidth": 2,
            "linecolor": "white",
            "showbackground": true,
            "ticks": "",
            "zerolinecolor": "white"
           }
          },
          "shapedefaults": {
           "line": {
            "color": "#2a3f5f"
           }
          },
          "ternary": {
           "aaxis": {
            "gridcolor": "white",
            "linecolor": "white",
            "ticks": ""
           },
           "baxis": {
            "gridcolor": "white",
            "linecolor": "white",
            "ticks": ""
           },
           "bgcolor": "#E5ECF6",
           "caxis": {
            "gridcolor": "white",
            "linecolor": "white",
            "ticks": ""
           }
          },
          "title": {
           "x": 0.05
          },
          "xaxis": {
           "automargin": true,
           "gridcolor": "white",
           "linecolor": "white",
           "ticks": "",
           "title": {
            "standoff": 15
           },
           "zerolinecolor": "white",
           "zerolinewidth": 2
          },
          "yaxis": {
           "automargin": true,
           "gridcolor": "white",
           "linecolor": "white",
           "ticks": "",
           "title": {
            "standoff": 15
           },
           "zerolinecolor": "white",
           "zerolinewidth": 2
          }
         }
        },
        "width": 800,
        "xaxis": {
         "anchor": "y",
         "domain": [
          0,
          1
         ],
         "title": {
          "text": "Games played"
         }
        },
        "yaxis": {
         "anchor": "x",
         "domain": [
          0,
          1
         ],
         "title": {
          "text": "Mopt"
         }
        }
       }
      }
     },
     "metadata": {},
     "output_type": "display_data"
    },
    {
     "data": {
      "application/vnd.plotly.v1+json": {
       "config": {
        "plotlyServerURL": "https://plot.ly"
       },
       "data": [
        {
         "hovertemplate": "variable=eps = 0.00<br>Games played=%{x}<br>value=%{y}<extra></extra>",
         "legendgroup": "eps = 0.00",
         "line": {
          "color": "#636efa",
          "dash": "solid"
         },
         "marker": {
          "symbol": "circle"
         },
         "mode": "lines",
         "name": "eps = 0.00",
         "orientation": "v",
         "showlegend": true,
         "type": "scatter",
         "x": [
          0,
          250,
          500,
          750,
          1000,
          1250,
          1500,
          1750,
          2000,
          2250,
          2500,
          2750,
          3000,
          3250,
          3500,
          3750,
          4000,
          4250,
          4500,
          4750,
          5000,
          5250,
          5500,
          5750,
          6000,
          6250,
          6500,
          6750,
          7000,
          7250,
          7500,
          7750,
          8000,
          8250,
          8500,
          8750,
          9000,
          9250,
          9500,
          9750,
          10000,
          10250,
          10500,
          10750,
          11000,
          11250,
          11500,
          11750,
          12000,
          12250,
          12500,
          12750,
          13000,
          13250,
          13500,
          13750,
          14000,
          14250,
          14500,
          14750,
          15000,
          15250,
          15500,
          15750,
          16000,
          16250,
          16500,
          16750,
          17000,
          17250,
          17500,
          17750,
          18000,
          18250,
          18500,
          18750,
          19000,
          19250,
          19500,
          19750
         ],
         "xaxis": "x",
         "y": [
          0.176,
          0.2,
          0.368,
          0.384,
          0.456,
          0.432,
          0.4,
          0.348,
          0.336,
          0.36,
          0.448,
          0.404,
          0.432,
          0.388,
          0.476,
          0.444,
          0.448,
          0.444,
          0.512,
          0.34,
          0.548,
          0.48,
          0.452,
          0.532,
          0.504,
          0.48,
          0.612,
          0.588,
          0.524,
          0.544,
          0.568,
          0.624,
          0.64,
          0.676,
          0.636,
          0.672,
          0.668,
          0.672,
          0.668,
          0.608,
          0.592,
          0.608,
          0.664,
          0.632,
          0.66,
          0.62,
          0.636,
          0.668,
          0.524,
          0.54,
          0.648,
          0.652,
          0.632,
          0.664,
          0.668,
          0.772,
          0.608,
          0.708,
          0.708,
          0.744,
          0.668,
          0.828,
          0.644,
          0.728,
          0.716,
          0.736,
          0.784,
          0.64,
          0.704,
          0.672,
          0.752,
          0.668,
          0.788,
          0.78,
          0.768,
          0.788,
          0.784,
          0.772,
          0.688,
          0.8
         ],
         "yaxis": "y"
        },
        {
         "hovertemplate": "variable=eps = 0.10<br>Games played=%{x}<br>value=%{y}<extra></extra>",
         "legendgroup": "eps = 0.10",
         "line": {
          "color": "#EF553B",
          "dash": "solid"
         },
         "marker": {
          "symbol": "circle"
         },
         "mode": "lines",
         "name": "eps = 0.10",
         "orientation": "v",
         "showlegend": true,
         "type": "scatter",
         "x": [
          0,
          250,
          500,
          750,
          1000,
          1250,
          1500,
          1750,
          2000,
          2250,
          2500,
          2750,
          3000,
          3250,
          3500,
          3750,
          4000,
          4250,
          4500,
          4750,
          5000,
          5250,
          5500,
          5750,
          6000,
          6250,
          6500,
          6750,
          7000,
          7250,
          7500,
          7750,
          8000,
          8250,
          8500,
          8750,
          9000,
          9250,
          9500,
          9750,
          10000,
          10250,
          10500,
          10750,
          11000,
          11250,
          11500,
          11750,
          12000,
          12250,
          12500,
          12750,
          13000,
          13250,
          13500,
          13750,
          14000,
          14250,
          14500,
          14750,
          15000,
          15250,
          15500,
          15750,
          16000,
          16250,
          16500,
          16750,
          17000,
          17250,
          17500,
          17750,
          18000,
          18250,
          18500,
          18750,
          19000,
          19250,
          19500,
          19750
         ],
         "xaxis": "x",
         "y": [
          0.196,
          0.296,
          0.492,
          0.604,
          0.688,
          0.68,
          0.8,
          0.7,
          0.816,
          0.824,
          0.736,
          0.636,
          0.804,
          0.772,
          0.748,
          0.776,
          0.82,
          0.876,
          0.848,
          0.824,
          0.78,
          0.872,
          0.804,
          0.904,
          0.592,
          0.908,
          0.88,
          0.88,
          0.88,
          0.932,
          0.712,
          0.792,
          0.884,
          0.856,
          0.904,
          0.836,
          0.928,
          0.94,
          0.812,
          0.932,
          0.94,
          0.868,
          0.908,
          0.88,
          0.92,
          0.812,
          0.932,
          0.832,
          0.9,
          0.912,
          0.908,
          0.884,
          0.948,
          0.932,
          0.924,
          0.944,
          0.94,
          0.944,
          0.948,
          0.864,
          0.9,
          0.912,
          0.852,
          0.928,
          0.896,
          0.948,
          0.948,
          0.932,
          0.896,
          0.98,
          0.964,
          0.936,
          0.976,
          0.9,
          0.944,
          0.912,
          0.944,
          0.944,
          0.912,
          0.936
         ],
         "yaxis": "y"
        },
        {
         "hovertemplate": "variable=eps = 0.20<br>Games played=%{x}<br>value=%{y}<extra></extra>",
         "legendgroup": "eps = 0.20",
         "line": {
          "color": "#00cc96",
          "dash": "solid"
         },
         "marker": {
          "symbol": "circle"
         },
         "mode": "lines",
         "name": "eps = 0.20",
         "orientation": "v",
         "showlegend": true,
         "type": "scatter",
         "x": [
          0,
          250,
          500,
          750,
          1000,
          1250,
          1500,
          1750,
          2000,
          2250,
          2500,
          2750,
          3000,
          3250,
          3500,
          3750,
          4000,
          4250,
          4500,
          4750,
          5000,
          5250,
          5500,
          5750,
          6000,
          6250,
          6500,
          6750,
          7000,
          7250,
          7500,
          7750,
          8000,
          8250,
          8500,
          8750,
          9000,
          9250,
          9500,
          9750,
          10000,
          10250,
          10500,
          10750,
          11000,
          11250,
          11500,
          11750,
          12000,
          12250,
          12500,
          12750,
          13000,
          13250,
          13500,
          13750,
          14000,
          14250,
          14500,
          14750,
          15000,
          15250,
          15500,
          15750,
          16000,
          16250,
          16500,
          16750,
          17000,
          17250,
          17500,
          17750,
          18000,
          18250,
          18500,
          18750,
          19000,
          19250,
          19500,
          19750
         ],
         "xaxis": "x",
         "y": [
          0.284,
          0.428,
          0.584,
          0.552,
          0.752,
          0.724,
          0.764,
          0.812,
          0.8,
          0.776,
          0.72,
          0.824,
          0.828,
          0.768,
          0.864,
          0.9,
          0.884,
          0.904,
          0.852,
          0.92,
          0.936,
          0.924,
          0.852,
          0.928,
          0.84,
          0.896,
          0.896,
          0.9,
          0.92,
          0.928,
          0.94,
          0.932,
          0.924,
          0.984,
          0.96,
          0.956,
          0.96,
          0.916,
          0.908,
          0.956,
          0.912,
          0.944,
          0.916,
          0.932,
          0.952,
          0.952,
          0.948,
          0.952,
          0.968,
          0.952,
          0.964,
          0.972,
          0.988,
          0.944,
          0.964,
          0.968,
          0.944,
          0.964,
          0.96,
          0.956,
          0.932,
          0.964,
          0.944,
          0.964,
          0.936,
          0.944,
          0.972,
          0.952,
          0.976,
          0.98,
          0.948,
          0.928,
          0.968,
          0.948,
          0.948,
          0.948,
          0.96,
          0.956,
          0.94,
          0.976
         ],
         "yaxis": "y"
        },
        {
         "hovertemplate": "variable=eps = 0.30<br>Games played=%{x}<br>value=%{y}<extra></extra>",
         "legendgroup": "eps = 0.30",
         "line": {
          "color": "#ab63fa",
          "dash": "solid"
         },
         "marker": {
          "symbol": "circle"
         },
         "mode": "lines",
         "name": "eps = 0.30",
         "orientation": "v",
         "showlegend": true,
         "type": "scatter",
         "x": [
          0,
          250,
          500,
          750,
          1000,
          1250,
          1500,
          1750,
          2000,
          2250,
          2500,
          2750,
          3000,
          3250,
          3500,
          3750,
          4000,
          4250,
          4500,
          4750,
          5000,
          5250,
          5500,
          5750,
          6000,
          6250,
          6500,
          6750,
          7000,
          7250,
          7500,
          7750,
          8000,
          8250,
          8500,
          8750,
          9000,
          9250,
          9500,
          9750,
          10000,
          10250,
          10500,
          10750,
          11000,
          11250,
          11500,
          11750,
          12000,
          12250,
          12500,
          12750,
          13000,
          13250,
          13500,
          13750,
          14000,
          14250,
          14500,
          14750,
          15000,
          15250,
          15500,
          15750,
          16000,
          16250,
          16500,
          16750,
          17000,
          17250,
          17500,
          17750,
          18000,
          18250,
          18500,
          18750,
          19000,
          19250,
          19500,
          19750
         ],
         "xaxis": "x",
         "y": [
          0.144,
          0.544,
          0.508,
          0.668,
          0.712,
          0.74,
          0.788,
          0.772,
          0.852,
          0.848,
          0.848,
          0.508,
          0.844,
          0.908,
          0.9,
          0.904,
          0.888,
          0.872,
          0.88,
          0.924,
          0.928,
          0.916,
          0.904,
          0.92,
          0.92,
          0.92,
          0.98,
          0.956,
          0.94,
          0.94,
          0.928,
          0.932,
          0.936,
          0.952,
          0.968,
          0.924,
          0.94,
          0.932,
          0.928,
          0.972,
          0.936,
          0.968,
          0.964,
          0.908,
          0.956,
          0.94,
          0.964,
          0.976,
          0.964,
          0.908,
          0.976,
          0.944,
          0.928,
          0.96,
          0.98,
          0.964,
          0.924,
          0.98,
          0.964,
          0.956,
          0.932,
          0.888,
          0.94,
          0.864,
          0.932,
          0.976,
          0.964,
          0.956,
          0.964,
          0.908,
          0.956,
          0.944,
          0.94,
          0.96,
          0.976,
          0.992,
          0.944,
          0.944,
          0.988,
          0.984
         ],
         "yaxis": "y"
        },
        {
         "hovertemplate": "variable=eps = 0.40<br>Games played=%{x}<br>value=%{y}<extra></extra>",
         "legendgroup": "eps = 0.40",
         "line": {
          "color": "#FFA15A",
          "dash": "solid"
         },
         "marker": {
          "symbol": "circle"
         },
         "mode": "lines",
         "name": "eps = 0.40",
         "orientation": "v",
         "showlegend": true,
         "type": "scatter",
         "x": [
          0,
          250,
          500,
          750,
          1000,
          1250,
          1500,
          1750,
          2000,
          2250,
          2500,
          2750,
          3000,
          3250,
          3500,
          3750,
          4000,
          4250,
          4500,
          4750,
          5000,
          5250,
          5500,
          5750,
          6000,
          6250,
          6500,
          6750,
          7000,
          7250,
          7500,
          7750,
          8000,
          8250,
          8500,
          8750,
          9000,
          9250,
          9500,
          9750,
          10000,
          10250,
          10500,
          10750,
          11000,
          11250,
          11500,
          11750,
          12000,
          12250,
          12500,
          12750,
          13000,
          13250,
          13500,
          13750,
          14000,
          14250,
          14500,
          14750,
          15000,
          15250,
          15500,
          15750,
          16000,
          16250,
          16500,
          16750,
          17000,
          17250,
          17500,
          17750,
          18000,
          18250,
          18500,
          18750,
          19000,
          19250,
          19500,
          19750
         ],
         "xaxis": "x",
         "y": [
          0.296,
          0.488,
          0.6,
          0.772,
          0.796,
          0.8,
          0.808,
          0.756,
          0.876,
          0.8,
          0.856,
          0.848,
          0.832,
          0.892,
          0.848,
          0.848,
          0.868,
          0.924,
          0.9,
          0.908,
          0.936,
          0.916,
          0.944,
          0.916,
          0.916,
          0.924,
          0.884,
          0.876,
          0.816,
          0.948,
          0.868,
          0.896,
          0.904,
          0.904,
          0.768,
          0.928,
          0.9,
          0.896,
          0.92,
          0.872,
          0.892,
          0.896,
          0.928,
          0.896,
          0.88,
          0.872,
          0.976,
          0.976,
          0.94,
          0.5,
          0.88,
          0.928,
          0.916,
          0.928,
          0.952,
          0.944,
          0.976,
          0.94,
          0.94,
          0.92,
          0.86,
          0.5,
          0.944,
          0.952,
          0.948,
          0.948,
          0.96,
          0.94,
          0.936,
          0.832,
          0.964,
          0.948,
          0.888,
          0.948,
          0.912,
          0.892,
          0.936,
          0.972,
          0.924,
          0.956
         ],
         "yaxis": "y"
        },
        {
         "hovertemplate": "variable=eps = 0.50<br>Games played=%{x}<br>value=%{y}<extra></extra>",
         "legendgroup": "eps = 0.50",
         "line": {
          "color": "#19d3f3",
          "dash": "solid"
         },
         "marker": {
          "symbol": "circle"
         },
         "mode": "lines",
         "name": "eps = 0.50",
         "orientation": "v",
         "showlegend": true,
         "type": "scatter",
         "x": [
          0,
          250,
          500,
          750,
          1000,
          1250,
          1500,
          1750,
          2000,
          2250,
          2500,
          2750,
          3000,
          3250,
          3500,
          3750,
          4000,
          4250,
          4500,
          4750,
          5000,
          5250,
          5500,
          5750,
          6000,
          6250,
          6500,
          6750,
          7000,
          7250,
          7500,
          7750,
          8000,
          8250,
          8500,
          8750,
          9000,
          9250,
          9500,
          9750,
          10000,
          10250,
          10500,
          10750,
          11000,
          11250,
          11500,
          11750,
          12000,
          12250,
          12500,
          12750,
          13000,
          13250,
          13500,
          13750,
          14000,
          14250,
          14500,
          14750,
          15000,
          15250,
          15500,
          15750,
          16000,
          16250,
          16500,
          16750,
          17000,
          17250,
          17500,
          17750,
          18000,
          18250,
          18500,
          18750,
          19000,
          19250,
          19500,
          19750
         ],
         "xaxis": "x",
         "y": [
          0.156,
          0.564,
          0.696,
          0.692,
          0.672,
          0.76,
          0.82,
          0.784,
          0.776,
          0.808,
          0.872,
          0.816,
          0.896,
          0.808,
          0.864,
          0.832,
          0.896,
          0.928,
          0.888,
          0.9,
          0.924,
          0.924,
          0.932,
          0.692,
          0.856,
          0.92,
          0.94,
          0.912,
          0.944,
          0.948,
          0.944,
          0.908,
          0.932,
          0.86,
          0.948,
          0.916,
          0.948,
          0.872,
          0.848,
          0.916,
          0.928,
          0.92,
          0.908,
          0.872,
          0.884,
          0.936,
          0.948,
          0.92,
          0.956,
          0.94,
          0.864,
          0.924,
          0.896,
          0.932,
          0.928,
          0.944,
          0.912,
          0.98,
          0.968,
          0.928,
          0.908,
          0.788,
          0.944,
          0.892,
          0.908,
          0.888,
          0.884,
          0.952,
          0.896,
          0.948,
          0.92,
          0.872,
          0.94,
          0.924,
          0.944,
          0.932,
          0.924,
          0.9,
          0.864,
          0.972
         ],
         "yaxis": "y"
        },
        {
         "hovertemplate": "variable=eps = 0.60<br>Games played=%{x}<br>value=%{y}<extra></extra>",
         "legendgroup": "eps = 0.60",
         "line": {
          "color": "#FF6692",
          "dash": "solid"
         },
         "marker": {
          "symbol": "circle"
         },
         "mode": "lines",
         "name": "eps = 0.60",
         "orientation": "v",
         "showlegend": true,
         "type": "scatter",
         "x": [
          0,
          250,
          500,
          750,
          1000,
          1250,
          1500,
          1750,
          2000,
          2250,
          2500,
          2750,
          3000,
          3250,
          3500,
          3750,
          4000,
          4250,
          4500,
          4750,
          5000,
          5250,
          5500,
          5750,
          6000,
          6250,
          6500,
          6750,
          7000,
          7250,
          7500,
          7750,
          8000,
          8250,
          8500,
          8750,
          9000,
          9250,
          9500,
          9750,
          10000,
          10250,
          10500,
          10750,
          11000,
          11250,
          11500,
          11750,
          12000,
          12250,
          12500,
          12750,
          13000,
          13250,
          13500,
          13750,
          14000,
          14250,
          14500,
          14750,
          15000,
          15250,
          15500,
          15750,
          16000,
          16250,
          16500,
          16750,
          17000,
          17250,
          17500,
          17750,
          18000,
          18250,
          18500,
          18750,
          19000,
          19250,
          19500,
          19750
         ],
         "xaxis": "x",
         "y": [
          0.2,
          0.364,
          0.496,
          0.656,
          0.676,
          0.792,
          0.808,
          0.816,
          0.86,
          0.82,
          0.86,
          0.848,
          0.72,
          0.888,
          0.832,
          0.824,
          0.856,
          0.868,
          0.912,
          0.824,
          0.868,
          0.924,
          0.904,
          0.872,
          0.868,
          0.904,
          0.796,
          0.92,
          0.848,
          0.88,
          0.928,
          0.86,
          0.936,
          0.88,
          0.9,
          0.884,
          0.94,
          0.944,
          0.888,
          0.908,
          0.896,
          0.92,
          0.896,
          0.86,
          0.916,
          0.916,
          0.88,
          0.936,
          0.908,
          0.956,
          0.884,
          0.88,
          0.896,
          0.884,
          0.896,
          0.788,
          0.864,
          0.9,
          0.948,
          0.904,
          0.908,
          0.884,
          0.844,
          0.884,
          0.868,
          0.9,
          0.84,
          0.916,
          0.912,
          0.936,
          0.888,
          0.952,
          0.856,
          0.904,
          0.5,
          0.852,
          0.928,
          0.88,
          0.848,
          0.888
         ],
         "yaxis": "y"
        },
        {
         "hovertemplate": "variable=eps = 0.70<br>Games played=%{x}<br>value=%{y}<extra></extra>",
         "legendgroup": "eps = 0.70",
         "line": {
          "color": "#B6E880",
          "dash": "solid"
         },
         "marker": {
          "symbol": "circle"
         },
         "mode": "lines",
         "name": "eps = 0.70",
         "orientation": "v",
         "showlegend": true,
         "type": "scatter",
         "x": [
          0,
          250,
          500,
          750,
          1000,
          1250,
          1500,
          1750,
          2000,
          2250,
          2500,
          2750,
          3000,
          3250,
          3500,
          3750,
          4000,
          4250,
          4500,
          4750,
          5000,
          5250,
          5500,
          5750,
          6000,
          6250,
          6500,
          6750,
          7000,
          7250,
          7500,
          7750,
          8000,
          8250,
          8500,
          8750,
          9000,
          9250,
          9500,
          9750,
          10000,
          10250,
          10500,
          10750,
          11000,
          11250,
          11500,
          11750,
          12000,
          12250,
          12500,
          12750,
          13000,
          13250,
          13500,
          13750,
          14000,
          14250,
          14500,
          14750,
          15000,
          15250,
          15500,
          15750,
          16000,
          16250,
          16500,
          16750,
          17000,
          17250,
          17500,
          17750,
          18000,
          18250,
          18500,
          18750,
          19000,
          19250,
          19500,
          19750
         ],
         "xaxis": "x",
         "y": [
          0.04,
          0.348,
          0.552,
          0.656,
          0.652,
          0.78,
          0.804,
          0.812,
          0.832,
          0.744,
          0.848,
          0.66,
          0.748,
          0.756,
          0.796,
          0.824,
          0.756,
          0.792,
          0.916,
          0.856,
          0.908,
          0.872,
          0.904,
          0.892,
          0.844,
          0.92,
          0.912,
          0.892,
          0.86,
          0.888,
          0.912,
          0.832,
          0.852,
          0.868,
          0.88,
          0.828,
          0.868,
          0.832,
          0.856,
          0.876,
          0.844,
          0.86,
          0.916,
          0.88,
          0.872,
          0.84,
          0.884,
          0.856,
          0.856,
          0.8,
          0.784,
          0.864,
          0.84,
          0.876,
          0.872,
          0.464,
          0.828,
          0.864,
          0.86,
          0.856,
          0.852,
          0.868,
          0.872,
          0.908,
          0.896,
          0.796,
          0.78,
          0.812,
          0.828,
          0.84,
          0.808,
          0.928,
          0.896,
          0.876,
          0.868,
          0.924,
          0.892,
          0.852,
          0.776,
          0.892
         ],
         "yaxis": "y"
        },
        {
         "hovertemplate": "variable=eps = 0.80<br>Games played=%{x}<br>value=%{y}<extra></extra>",
         "legendgroup": "eps = 0.80",
         "line": {
          "color": "#FF97FF",
          "dash": "solid"
         },
         "marker": {
          "symbol": "circle"
         },
         "mode": "lines",
         "name": "eps = 0.80",
         "orientation": "v",
         "showlegend": true,
         "type": "scatter",
         "x": [
          0,
          250,
          500,
          750,
          1000,
          1250,
          1500,
          1750,
          2000,
          2250,
          2500,
          2750,
          3000,
          3250,
          3500,
          3750,
          4000,
          4250,
          4500,
          4750,
          5000,
          5250,
          5500,
          5750,
          6000,
          6250,
          6500,
          6750,
          7000,
          7250,
          7500,
          7750,
          8000,
          8250,
          8500,
          8750,
          9000,
          9250,
          9500,
          9750,
          10000,
          10250,
          10500,
          10750,
          11000,
          11250,
          11500,
          11750,
          12000,
          12250,
          12500,
          12750,
          13000,
          13250,
          13500,
          13750,
          14000,
          14250,
          14500,
          14750,
          15000,
          15250,
          15500,
          15750,
          16000,
          16250,
          16500,
          16750,
          17000,
          17250,
          17500,
          17750,
          18000,
          18250,
          18500,
          18750,
          19000,
          19250,
          19500,
          19750
         ],
         "xaxis": "x",
         "y": [
          -0.192,
          0.248,
          0.536,
          0.564,
          0.632,
          0.676,
          0.72,
          0.76,
          0.78,
          0.732,
          0.784,
          0.712,
          0.752,
          0.728,
          0.724,
          0.768,
          0.668,
          0.7,
          0.828,
          0.8,
          0.764,
          0.784,
          0.776,
          0.844,
          0.856,
          0.776,
          0.816,
          0.824,
          0.792,
          0.76,
          0.74,
          0.86,
          0.788,
          0.864,
          0.716,
          0.796,
          0.788,
          0.772,
          0.792,
          0.436,
          0.792,
          0.736,
          0.724,
          0.832,
          0.824,
          0.672,
          0.684,
          0.732,
          0.812,
          0.78,
          0.86,
          0.844,
          0.876,
          0.864,
          0.76,
          0.784,
          0.752,
          0.84,
          0.776,
          0.872,
          0.812,
          0.864,
          0.796,
          0.432,
          0.728,
          0.772,
          0.8,
          0.744,
          0.776,
          0.888,
          0.824,
          0.828,
          0.584,
          0.708,
          0.796,
          0.824,
          0.884,
          0.812,
          0.8,
          0.792
         ],
         "yaxis": "y"
        },
        {
         "hovertemplate": "variable=eps = 0.90<br>Games played=%{x}<br>value=%{y}<extra></extra>",
         "legendgroup": "eps = 0.90",
         "line": {
          "color": "#FECB52",
          "dash": "solid"
         },
         "marker": {
          "symbol": "circle"
         },
         "mode": "lines",
         "name": "eps = 0.90",
         "orientation": "v",
         "showlegend": true,
         "type": "scatter",
         "x": [
          0,
          250,
          500,
          750,
          1000,
          1250,
          1500,
          1750,
          2000,
          2250,
          2500,
          2750,
          3000,
          3250,
          3500,
          3750,
          4000,
          4250,
          4500,
          4750,
          5000,
          5250,
          5500,
          5750,
          6000,
          6250,
          6500,
          6750,
          7000,
          7250,
          7500,
          7750,
          8000,
          8250,
          8500,
          8750,
          9000,
          9250,
          9500,
          9750,
          10000,
          10250,
          10500,
          10750,
          11000,
          11250,
          11500,
          11750,
          12000,
          12250,
          12500,
          12750,
          13000,
          13250,
          13500,
          13750,
          14000,
          14250,
          14500,
          14750,
          15000,
          15250,
          15500,
          15750,
          16000,
          16250,
          16500,
          16750,
          17000,
          17250,
          17500,
          17750,
          18000,
          18250,
          18500,
          18750,
          19000,
          19250,
          19500,
          19750
         ],
         "xaxis": "x",
         "y": [
          -0.236,
          0.32,
          0.396,
          0.584,
          0.624,
          0.448,
          0.348,
          0.356,
          0.468,
          0.612,
          0.768,
          0.72,
          0.748,
          0.772,
          0.86,
          0.72,
          0.672,
          0.684,
          0.44,
          0.556,
          0.48,
          0.612,
          0.676,
          0.676,
          0.612,
          0.688,
          0.72,
          0.708,
          0.288,
          0.676,
          0.672,
          0.68,
          0.796,
          0.7,
          0.812,
          0.792,
          0.764,
          0.776,
          0.752,
          0.66,
          0.704,
          0.752,
          0.768,
          0.74,
          0.668,
          0.52,
          0.692,
          0.652,
          0.716,
          0.772,
          0.752,
          0.74,
          0.568,
          0.672,
          0.712,
          0.62,
          0.64,
          0.62,
          0.516,
          0.64,
          0.672,
          0.744,
          0.744,
          0.7,
          0.704,
          0.808,
          0.736,
          0.752,
          0.712,
          0.652,
          0.468,
          0.676,
          0.6,
          0.644,
          0.692,
          0.676,
          0.76,
          0.728,
          0.704,
          0.64
         ],
         "yaxis": "y"
        },
        {
         "hovertemplate": "variable=eps = 1.00<br>Games played=%{x}<br>value=%{y}<extra></extra>",
         "legendgroup": "eps = 1.00",
         "line": {
          "color": "#636efa",
          "dash": "solid"
         },
         "marker": {
          "symbol": "circle"
         },
         "mode": "lines",
         "name": "eps = 1.00",
         "orientation": "v",
         "showlegend": true,
         "type": "scatter",
         "x": [
          0,
          250,
          500,
          750,
          1000,
          1250,
          1500,
          1750,
          2000,
          2250,
          2500,
          2750,
          3000,
          3250,
          3500,
          3750,
          4000,
          4250,
          4500,
          4750,
          5000,
          5250,
          5500,
          5750,
          6000,
          6250,
          6500,
          6750,
          7000,
          7250,
          7500,
          7750,
          8000,
          8250,
          8500,
          8750,
          9000,
          9250,
          9500,
          9750,
          10000,
          10250,
          10500,
          10750,
          11000,
          11250,
          11500,
          11750,
          12000,
          12250,
          12500,
          12750,
          13000,
          13250,
          13500,
          13750,
          14000,
          14250,
          14500,
          14750,
          15000,
          15250,
          15500,
          15750,
          16000,
          16250,
          16500,
          16750,
          17000,
          17250,
          17500,
          17750,
          18000,
          18250,
          18500,
          18750,
          19000,
          19250,
          19500,
          19750
         ],
         "xaxis": "x",
         "y": [
          -0.98,
          -0.996,
          -1,
          -1,
          -1,
          -1,
          -1,
          -1,
          -1,
          -1,
          -1,
          -1,
          -1,
          -1,
          -1,
          -1,
          -1,
          -1,
          -1,
          -1,
          -1,
          -1,
          -1,
          -1,
          -1,
          -1,
          -0.996,
          -1,
          -1,
          -1,
          -1,
          -1,
          -1,
          -1,
          -1,
          -1,
          -1,
          -1,
          -1,
          -1,
          -1,
          -1,
          -1,
          -1,
          -1,
          -1,
          -1,
          -1,
          -1,
          -1,
          -1,
          -1,
          -1,
          -1,
          -1,
          -1,
          -1,
          -1,
          -1,
          -1,
          -1,
          -1,
          -1,
          -1,
          -1,
          -1,
          -1,
          -1,
          -1,
          -1,
          -1,
          -1,
          -1,
          -1,
          -1,
          -1,
          -1,
          -1,
          -1,
          -1
         ],
         "yaxis": "y"
        }
       ],
       "layout": {
        "legend": {
         "title": {
          "text": "variable"
         },
         "tracegroupgap": 0
        },
        "margin": {
         "t": 60
        },
        "template": {
         "data": {
          "bar": [
           {
            "error_x": {
             "color": "#2a3f5f"
            },
            "error_y": {
             "color": "#2a3f5f"
            },
            "marker": {
             "line": {
              "color": "#E5ECF6",
              "width": 0.5
             },
             "pattern": {
              "fillmode": "overlay",
              "size": 10,
              "solidity": 0.2
             }
            },
            "type": "bar"
           }
          ],
          "barpolar": [
           {
            "marker": {
             "line": {
              "color": "#E5ECF6",
              "width": 0.5
             },
             "pattern": {
              "fillmode": "overlay",
              "size": 10,
              "solidity": 0.2
             }
            },
            "type": "barpolar"
           }
          ],
          "carpet": [
           {
            "aaxis": {
             "endlinecolor": "#2a3f5f",
             "gridcolor": "white",
             "linecolor": "white",
             "minorgridcolor": "white",
             "startlinecolor": "#2a3f5f"
            },
            "baxis": {
             "endlinecolor": "#2a3f5f",
             "gridcolor": "white",
             "linecolor": "white",
             "minorgridcolor": "white",
             "startlinecolor": "#2a3f5f"
            },
            "type": "carpet"
           }
          ],
          "choropleth": [
           {
            "colorbar": {
             "outlinewidth": 0,
             "ticks": ""
            },
            "type": "choropleth"
           }
          ],
          "contour": [
           {
            "colorbar": {
             "outlinewidth": 0,
             "ticks": ""
            },
            "colorscale": [
             [
              0,
              "#0d0887"
             ],
             [
              0.1111111111111111,
              "#46039f"
             ],
             [
              0.2222222222222222,
              "#7201a8"
             ],
             [
              0.3333333333333333,
              "#9c179e"
             ],
             [
              0.4444444444444444,
              "#bd3786"
             ],
             [
              0.5555555555555556,
              "#d8576b"
             ],
             [
              0.6666666666666666,
              "#ed7953"
             ],
             [
              0.7777777777777778,
              "#fb9f3a"
             ],
             [
              0.8888888888888888,
              "#fdca26"
             ],
             [
              1,
              "#f0f921"
             ]
            ],
            "type": "contour"
           }
          ],
          "contourcarpet": [
           {
            "colorbar": {
             "outlinewidth": 0,
             "ticks": ""
            },
            "type": "contourcarpet"
           }
          ],
          "heatmap": [
           {
            "colorbar": {
             "outlinewidth": 0,
             "ticks": ""
            },
            "colorscale": [
             [
              0,
              "#0d0887"
             ],
             [
              0.1111111111111111,
              "#46039f"
             ],
             [
              0.2222222222222222,
              "#7201a8"
             ],
             [
              0.3333333333333333,
              "#9c179e"
             ],
             [
              0.4444444444444444,
              "#bd3786"
             ],
             [
              0.5555555555555556,
              "#d8576b"
             ],
             [
              0.6666666666666666,
              "#ed7953"
             ],
             [
              0.7777777777777778,
              "#fb9f3a"
             ],
             [
              0.8888888888888888,
              "#fdca26"
             ],
             [
              1,
              "#f0f921"
             ]
            ],
            "type": "heatmap"
           }
          ],
          "heatmapgl": [
           {
            "colorbar": {
             "outlinewidth": 0,
             "ticks": ""
            },
            "colorscale": [
             [
              0,
              "#0d0887"
             ],
             [
              0.1111111111111111,
              "#46039f"
             ],
             [
              0.2222222222222222,
              "#7201a8"
             ],
             [
              0.3333333333333333,
              "#9c179e"
             ],
             [
              0.4444444444444444,
              "#bd3786"
             ],
             [
              0.5555555555555556,
              "#d8576b"
             ],
             [
              0.6666666666666666,
              "#ed7953"
             ],
             [
              0.7777777777777778,
              "#fb9f3a"
             ],
             [
              0.8888888888888888,
              "#fdca26"
             ],
             [
              1,
              "#f0f921"
             ]
            ],
            "type": "heatmapgl"
           }
          ],
          "histogram": [
           {
            "marker": {
             "pattern": {
              "fillmode": "overlay",
              "size": 10,
              "solidity": 0.2
             }
            },
            "type": "histogram"
           }
          ],
          "histogram2d": [
           {
            "colorbar": {
             "outlinewidth": 0,
             "ticks": ""
            },
            "colorscale": [
             [
              0,
              "#0d0887"
             ],
             [
              0.1111111111111111,
              "#46039f"
             ],
             [
              0.2222222222222222,
              "#7201a8"
             ],
             [
              0.3333333333333333,
              "#9c179e"
             ],
             [
              0.4444444444444444,
              "#bd3786"
             ],
             [
              0.5555555555555556,
              "#d8576b"
             ],
             [
              0.6666666666666666,
              "#ed7953"
             ],
             [
              0.7777777777777778,
              "#fb9f3a"
             ],
             [
              0.8888888888888888,
              "#fdca26"
             ],
             [
              1,
              "#f0f921"
             ]
            ],
            "type": "histogram2d"
           }
          ],
          "histogram2dcontour": [
           {
            "colorbar": {
             "outlinewidth": 0,
             "ticks": ""
            },
            "colorscale": [
             [
              0,
              "#0d0887"
             ],
             [
              0.1111111111111111,
              "#46039f"
             ],
             [
              0.2222222222222222,
              "#7201a8"
             ],
             [
              0.3333333333333333,
              "#9c179e"
             ],
             [
              0.4444444444444444,
              "#bd3786"
             ],
             [
              0.5555555555555556,
              "#d8576b"
             ],
             [
              0.6666666666666666,
              "#ed7953"
             ],
             [
              0.7777777777777778,
              "#fb9f3a"
             ],
             [
              0.8888888888888888,
              "#fdca26"
             ],
             [
              1,
              "#f0f921"
             ]
            ],
            "type": "histogram2dcontour"
           }
          ],
          "mesh3d": [
           {
            "colorbar": {
             "outlinewidth": 0,
             "ticks": ""
            },
            "type": "mesh3d"
           }
          ],
          "parcoords": [
           {
            "line": {
             "colorbar": {
              "outlinewidth": 0,
              "ticks": ""
             }
            },
            "type": "parcoords"
           }
          ],
          "pie": [
           {
            "automargin": true,
            "type": "pie"
           }
          ],
          "scatter": [
           {
            "fillpattern": {
             "fillmode": "overlay",
             "size": 10,
             "solidity": 0.2
            },
            "type": "scatter"
           }
          ],
          "scatter3d": [
           {
            "line": {
             "colorbar": {
              "outlinewidth": 0,
              "ticks": ""
             }
            },
            "marker": {
             "colorbar": {
              "outlinewidth": 0,
              "ticks": ""
             }
            },
            "type": "scatter3d"
           }
          ],
          "scattercarpet": [
           {
            "marker": {
             "colorbar": {
              "outlinewidth": 0,
              "ticks": ""
             }
            },
            "type": "scattercarpet"
           }
          ],
          "scattergeo": [
           {
            "marker": {
             "colorbar": {
              "outlinewidth": 0,
              "ticks": ""
             }
            },
            "type": "scattergeo"
           }
          ],
          "scattergl": [
           {
            "marker": {
             "colorbar": {
              "outlinewidth": 0,
              "ticks": ""
             }
            },
            "type": "scattergl"
           }
          ],
          "scattermapbox": [
           {
            "marker": {
             "colorbar": {
              "outlinewidth": 0,
              "ticks": ""
             }
            },
            "type": "scattermapbox"
           }
          ],
          "scatterpolar": [
           {
            "marker": {
             "colorbar": {
              "outlinewidth": 0,
              "ticks": ""
             }
            },
            "type": "scatterpolar"
           }
          ],
          "scatterpolargl": [
           {
            "marker": {
             "colorbar": {
              "outlinewidth": 0,
              "ticks": ""
             }
            },
            "type": "scatterpolargl"
           }
          ],
          "scatterternary": [
           {
            "marker": {
             "colorbar": {
              "outlinewidth": 0,
              "ticks": ""
             }
            },
            "type": "scatterternary"
           }
          ],
          "surface": [
           {
            "colorbar": {
             "outlinewidth": 0,
             "ticks": ""
            },
            "colorscale": [
             [
              0,
              "#0d0887"
             ],
             [
              0.1111111111111111,
              "#46039f"
             ],
             [
              0.2222222222222222,
              "#7201a8"
             ],
             [
              0.3333333333333333,
              "#9c179e"
             ],
             [
              0.4444444444444444,
              "#bd3786"
             ],
             [
              0.5555555555555556,
              "#d8576b"
             ],
             [
              0.6666666666666666,
              "#ed7953"
             ],
             [
              0.7777777777777778,
              "#fb9f3a"
             ],
             [
              0.8888888888888888,
              "#fdca26"
             ],
             [
              1,
              "#f0f921"
             ]
            ],
            "type": "surface"
           }
          ],
          "table": [
           {
            "cells": {
             "fill": {
              "color": "#EBF0F8"
             },
             "line": {
              "color": "white"
             }
            },
            "header": {
             "fill": {
              "color": "#C8D4E3"
             },
             "line": {
              "color": "white"
             }
            },
            "type": "table"
           }
          ]
         },
         "layout": {
          "annotationdefaults": {
           "arrowcolor": "#2a3f5f",
           "arrowhead": 0,
           "arrowwidth": 1
          },
          "autotypenumbers": "strict",
          "coloraxis": {
           "colorbar": {
            "outlinewidth": 0,
            "ticks": ""
           }
          },
          "colorscale": {
           "diverging": [
            [
             0,
             "#8e0152"
            ],
            [
             0.1,
             "#c51b7d"
            ],
            [
             0.2,
             "#de77ae"
            ],
            [
             0.3,
             "#f1b6da"
            ],
            [
             0.4,
             "#fde0ef"
            ],
            [
             0.5,
             "#f7f7f7"
            ],
            [
             0.6,
             "#e6f5d0"
            ],
            [
             0.7,
             "#b8e186"
            ],
            [
             0.8,
             "#7fbc41"
            ],
            [
             0.9,
             "#4d9221"
            ],
            [
             1,
             "#276419"
            ]
           ],
           "sequential": [
            [
             0,
             "#0d0887"
            ],
            [
             0.1111111111111111,
             "#46039f"
            ],
            [
             0.2222222222222222,
             "#7201a8"
            ],
            [
             0.3333333333333333,
             "#9c179e"
            ],
            [
             0.4444444444444444,
             "#bd3786"
            ],
            [
             0.5555555555555556,
             "#d8576b"
            ],
            [
             0.6666666666666666,
             "#ed7953"
            ],
            [
             0.7777777777777778,
             "#fb9f3a"
            ],
            [
             0.8888888888888888,
             "#fdca26"
            ],
            [
             1,
             "#f0f921"
            ]
           ],
           "sequentialminus": [
            [
             0,
             "#0d0887"
            ],
            [
             0.1111111111111111,
             "#46039f"
            ],
            [
             0.2222222222222222,
             "#7201a8"
            ],
            [
             0.3333333333333333,
             "#9c179e"
            ],
            [
             0.4444444444444444,
             "#bd3786"
            ],
            [
             0.5555555555555556,
             "#d8576b"
            ],
            [
             0.6666666666666666,
             "#ed7953"
            ],
            [
             0.7777777777777778,
             "#fb9f3a"
            ],
            [
             0.8888888888888888,
             "#fdca26"
            ],
            [
             1,
             "#f0f921"
            ]
           ]
          },
          "colorway": [
           "#636efa",
           "#EF553B",
           "#00cc96",
           "#ab63fa",
           "#FFA15A",
           "#19d3f3",
           "#FF6692",
           "#B6E880",
           "#FF97FF",
           "#FECB52"
          ],
          "font": {
           "color": "#2a3f5f"
          },
          "geo": {
           "bgcolor": "white",
           "lakecolor": "white",
           "landcolor": "#E5ECF6",
           "showlakes": true,
           "showland": true,
           "subunitcolor": "white"
          },
          "hoverlabel": {
           "align": "left"
          },
          "hovermode": "closest",
          "mapbox": {
           "style": "light"
          },
          "paper_bgcolor": "white",
          "plot_bgcolor": "#E5ECF6",
          "polar": {
           "angularaxis": {
            "gridcolor": "white",
            "linecolor": "white",
            "ticks": ""
           },
           "bgcolor": "#E5ECF6",
           "radialaxis": {
            "gridcolor": "white",
            "linecolor": "white",
            "ticks": ""
           }
          },
          "scene": {
           "xaxis": {
            "backgroundcolor": "#E5ECF6",
            "gridcolor": "white",
            "gridwidth": 2,
            "linecolor": "white",
            "showbackground": true,
            "ticks": "",
            "zerolinecolor": "white"
           },
           "yaxis": {
            "backgroundcolor": "#E5ECF6",
            "gridcolor": "white",
            "gridwidth": 2,
            "linecolor": "white",
            "showbackground": true,
            "ticks": "",
            "zerolinecolor": "white"
           },
           "zaxis": {
            "backgroundcolor": "#E5ECF6",
            "gridcolor": "white",
            "gridwidth": 2,
            "linecolor": "white",
            "showbackground": true,
            "ticks": "",
            "zerolinecolor": "white"
           }
          },
          "shapedefaults": {
           "line": {
            "color": "#2a3f5f"
           }
          },
          "ternary": {
           "aaxis": {
            "gridcolor": "white",
            "linecolor": "white",
            "ticks": ""
           },
           "baxis": {
            "gridcolor": "white",
            "linecolor": "white",
            "ticks": ""
           },
           "bgcolor": "#E5ECF6",
           "caxis": {
            "gridcolor": "white",
            "linecolor": "white",
            "ticks": ""
           }
          },
          "title": {
           "x": 0.05
          },
          "xaxis": {
           "automargin": true,
           "gridcolor": "white",
           "linecolor": "white",
           "ticks": "",
           "title": {
            "standoff": 15
           },
           "zerolinecolor": "white",
           "zerolinewidth": 2
          },
          "yaxis": {
           "automargin": true,
           "gridcolor": "white",
           "linecolor": "white",
           "ticks": "",
           "title": {
            "standoff": 15
           },
           "zerolinecolor": "white",
           "zerolinewidth": 2
          }
         }
        },
        "width": 800,
        "xaxis": {
         "anchor": "y",
         "domain": [
          0,
          1
         ],
         "title": {
          "text": "Games played"
         }
        },
        "yaxis": {
         "anchor": "x",
         "domain": [
          0,
          1
         ],
         "title": {
          "text": "Mrand"
         }
        }
       }
      }
     },
     "metadata": {},
     "output_type": "display_data"
    }
   ],
   "source": [
    "eps_values = np.linspace(0,1,11)\n",
    "question16_results = deep_q_questions_results[4]\n",
    "\n",
    "df1 = {'Games played':list(np.arange(0,20000//METRICS_FREQUENCY)*METRICS_FREQUENCY)} # mean reward\n",
    "df2 = {'Games played':list(np.arange(0,20000//METRICS_FREQUENCY)*METRICS_FREQUENCY)} # loss\n",
    "df3 = {'Games played':list(np.arange(0,20000//METRICS_FREQUENCY)*METRICS_FREQUENCY)} # Mopt\n",
    "df4 = {'Games played':list(np.arange(0,20000//METRICS_FREQUENCY)*METRICS_FREQUENCY)} # Mrand\n",
    "\n",
    "for idx, metrics in enumerate(question16_results):\n",
    "    df1[f\"eps = {eps_values[idx]:0.2f}\"] = metrics[0]\n",
    "    df2[f\"eps = {eps_values[idx]:0.2f}\"] = metrics[1]\n",
    "    df3[f\"eps = {eps_values[idx]:0.2f}\"] = metrics[2]\n",
    "    df4[f\"eps = {eps_values[idx]:0.2f}\"] = metrics[3]\n",
    "\n",
    "df1 = pd.DataFrame(df1)\n",
    "df2 = pd.DataFrame(df2)\n",
    "df3 = pd.DataFrame(df3)\n",
    "df4 = pd.DataFrame(df4)\n",
    "\n",
    "fig1 = px.line(df1, x='Games played', y=df1.columns.difference(['Games played']), title=\"Training (self-learning) with testing on different eps values\")\n",
    "fig1.update_layout(xaxis_title='Games played', yaxis_title='Reward', width = 800)\n",
    "fig2 = px.line(df2, x='Games played', y=df2.columns.difference(['Games played']))\n",
    "fig2.update_layout(xaxis_title='Games played', yaxis_title='Loss', width = 800)\n",
    "fig3 = px.line(df3, x='Games played', y=df3.columns.difference(['Games played']))\n",
    "fig3.update_layout(xaxis_title='Games played', yaxis_title='Mopt', width = 800)\n",
    "fig4 = px.line(df4, x='Games played', y=df4.columns.difference(['Games played']))\n",
    "fig4.update_layout(xaxis_title='Games played', yaxis_title='Mrand', width = 800)\n",
    "\n",
    "fig1.show()\n",
    "fig2.show()\n",
    "fig3.show()\n",
    "fig4.show()\n",
    "\n",
    "#single_image_subplots(\"Training with testing on different adversary's eps values\", question16_results, eps_values, 3, tot_height=12, tot_width=18)"
   ]
  },
  {
   "cell_type": "markdown",
   "metadata": {
    "collapsed": false,
    "pycharm": {
     "name": "#%% md\n"
    }
   },
   "source": [
    "Instead of fixing eps, use eps(n) in Equation 1 with different values of n*.\n",
    "### Question 17\n",
    "After every 250 games during training, compute the ‘test’ Mopt and Mrand for your agents. Plot Mopt and Mrand over time. Does decreasing eps help training compared to having a fixed eps? What is the effect of n*?\n",
    "Expected answer: A figure showing Mopt and Mrand over time for different values of speeds of n* (caption length < 100 words)."
   ]
  },
  {
   "cell_type": "code",
   "execution_count": 58,
   "metadata": {
    "collapsed": false,
    "pycharm": {
     "name": "#%%\n"
    }
   },
   "outputs": [],
   "source": [
    "if not use_backup:\n",
    "    question17_results=[]\n",
    "    n_star_values=np.linspace(1,40000,6)\n",
    "    for n_star in n_star_values:\n",
    "        metrics, _  =  deep_q_learning(player_dqn=DQNAgent(epsilon_min=0.1, epsilon_max=0.8, n_star= n_star), maxGames=20000, test=True,self_learning= True)\n",
    "        question17_results.append(metrics)\n",
    "    deep_q_questions_results.append(question17_results)"
   ]
  },
  {
   "cell_type": "code",
   "execution_count": 59,
   "metadata": {
    "collapsed": false,
    "pycharm": {
     "name": "#%%\n"
    }
   },
   "outputs": [
    {
     "data": {
      "application/vnd.plotly.v1+json": {
       "config": {
        "plotlyServerURL": "https://plot.ly"
       },
       "data": [
        {
         "hovertemplate": "variable=n* = 1<br>Games played=%{x}<br>value=%{y}<extra></extra>",
         "legendgroup": "n* = 1",
         "line": {
          "color": "#636efa",
          "dash": "solid"
         },
         "marker": {
          "symbol": "circle"
         },
         "mode": "lines",
         "name": "n* = 1",
         "orientation": "v",
         "showlegend": true,
         "type": "scatter",
         "x": [
          0,
          250,
          500,
          750,
          1000,
          1250,
          1500,
          1750,
          2000,
          2250,
          2500,
          2750,
          3000,
          3250,
          3500,
          3750,
          4000,
          4250,
          4500,
          4750,
          5000,
          5250,
          5500,
          5750,
          6000,
          6250,
          6500,
          6750,
          7000,
          7250,
          7500,
          7750,
          8000,
          8250,
          8500,
          8750,
          9000,
          9250,
          9500,
          9750,
          10000,
          10250,
          10500,
          10750,
          11000,
          11250,
          11500,
          11750,
          12000,
          12250,
          12500,
          12750,
          13000,
          13250,
          13500,
          13750,
          14000,
          14250,
          14500,
          14750,
          15000,
          15250,
          15500,
          15750,
          16000,
          16250,
          16500,
          16750,
          17000,
          17250,
          17500,
          17750,
          18000,
          18250,
          18500,
          18750,
          19000,
          19250,
          19500,
          19750
         ],
         "xaxis": "x",
         "y": [
          0.024,
          -0.04,
          -0.056,
          -0.008,
          -0.008,
          0,
          0.056,
          0,
          0.016,
          0.04,
          -0.096,
          -0.024,
          0.088,
          0.024,
          0.032,
          -0.032,
          -0.096,
          -0.04,
          -0.08,
          0.016,
          -0.04,
          -0.064,
          0.048,
          0.032,
          -0.024,
          0.024,
          0.016,
          0.128,
          -0.008,
          -0.032,
          0.064,
          0.048,
          -0.024,
          -0.104,
          0.112,
          -0.048,
          0.048,
          -0.072,
          -0.08,
          0.024,
          0.024,
          -0.096,
          0.064,
          0.04,
          -0.064,
          -0.024,
          0.072,
          0.12,
          0.12,
          0,
          0.016,
          0.008,
          -0.008,
          -0.048,
          0.032,
          0.024,
          0.064,
          -0.032,
          0.016,
          -0.04,
          -0.064,
          -0.04,
          0.056,
          0.016,
          -0.04,
          0.024,
          -0.104,
          0.088,
          -0.056,
          -0.056,
          -0.072,
          -0.048,
          -0.008,
          -0.104,
          0.08,
          0.032,
          -0.024,
          0.056,
          -0.024,
          0.104
         ],
         "yaxis": "y"
        },
        {
         "hovertemplate": "variable=n* = 16001<br>Games played=%{x}<br>value=%{y}<extra></extra>",
         "legendgroup": "n* = 16001",
         "line": {
          "color": "#EF553B",
          "dash": "solid"
         },
         "marker": {
          "symbol": "circle"
         },
         "mode": "lines",
         "name": "n* = 16001",
         "orientation": "v",
         "showlegend": true,
         "type": "scatter",
         "x": [
          0,
          250,
          500,
          750,
          1000,
          1250,
          1500,
          1750,
          2000,
          2250,
          2500,
          2750,
          3000,
          3250,
          3500,
          3750,
          4000,
          4250,
          4500,
          4750,
          5000,
          5250,
          5500,
          5750,
          6000,
          6250,
          6500,
          6750,
          7000,
          7250,
          7500,
          7750,
          8000,
          8250,
          8500,
          8750,
          9000,
          9250,
          9500,
          9750,
          10000,
          10250,
          10500,
          10750,
          11000,
          11250,
          11500,
          11750,
          12000,
          12250,
          12500,
          12750,
          13000,
          13250,
          13500,
          13750,
          14000,
          14250,
          14500,
          14750,
          15000,
          15250,
          15500,
          15750,
          16000,
          16250,
          16500,
          16750,
          17000,
          17250,
          17500,
          17750,
          18000,
          18250,
          18500,
          18750,
          19000,
          19250,
          19500,
          19750
         ],
         "xaxis": "x",
         "y": [
          0.008,
          -0.048,
          -0.032,
          -0.064,
          -0.088,
          -0.032,
          -0.016,
          -0.104,
          -0.048,
          0,
          -0.128,
          -0.016,
          -0.032,
          -0.128,
          -0.088,
          -0.056,
          -0.088,
          -0.032,
          -0.032,
          -0.048,
          -0.008,
          0.008,
          -0.072,
          -0.104,
          -0.096,
          0.04,
          0.032,
          -0.088,
          0.184,
          -0.008,
          -0.008,
          -0.032,
          0.08,
          0.024,
          0.056,
          0.024,
          -0.088,
          0.048,
          -0.096,
          -0.04,
          -0.008,
          0.056,
          0.008,
          0.016,
          0.088,
          0.184,
          0.032,
          -0.056,
          -0.072,
          0,
          0.008,
          -0.064,
          0.032,
          0.048,
          0.088,
          -0.048,
          -0.024,
          -0.152,
          0,
          0.016,
          0.08,
          -0.024,
          0,
          0.168,
          -0.048,
          0.056,
          -0.104,
          -0.048,
          -0.008,
          -0.048,
          0.032,
          -0.024,
          -0.016,
          0.04,
          -0.056,
          -0.168,
          -0.016,
          0.08,
          -0.04,
          0.056
         ],
         "yaxis": "y"
        },
        {
         "hovertemplate": "variable=n* = 24000<br>Games played=%{x}<br>value=%{y}<extra></extra>",
         "legendgroup": "n* = 24000",
         "line": {
          "color": "#00cc96",
          "dash": "solid"
         },
         "marker": {
          "symbol": "circle"
         },
         "mode": "lines",
         "name": "n* = 24000",
         "orientation": "v",
         "showlegend": true,
         "type": "scatter",
         "x": [
          0,
          250,
          500,
          750,
          1000,
          1250,
          1500,
          1750,
          2000,
          2250,
          2500,
          2750,
          3000,
          3250,
          3500,
          3750,
          4000,
          4250,
          4500,
          4750,
          5000,
          5250,
          5500,
          5750,
          6000,
          6250,
          6500,
          6750,
          7000,
          7250,
          7500,
          7750,
          8000,
          8250,
          8500,
          8750,
          9000,
          9250,
          9500,
          9750,
          10000,
          10250,
          10500,
          10750,
          11000,
          11250,
          11500,
          11750,
          12000,
          12250,
          12500,
          12750,
          13000,
          13250,
          13500,
          13750,
          14000,
          14250,
          14500,
          14750,
          15000,
          15250,
          15500,
          15750,
          16000,
          16250,
          16500,
          16750,
          17000,
          17250,
          17500,
          17750,
          18000,
          18250,
          18500,
          18750,
          19000,
          19250,
          19500,
          19750
         ],
         "xaxis": "x",
         "y": [
          0.032,
          -0.072,
          -0.08,
          0.04,
          0.024,
          0.088,
          0.072,
          0.024,
          0.056,
          -0.032,
          -0.056,
          -0.032,
          -0.048,
          -0.056,
          0.008,
          0.088,
          -0.04,
          -0.048,
          0.04,
          0,
          0.024,
          -0.08,
          0.064,
          -0.048,
          0.104,
          -0.072,
          -0.096,
          -0.072,
          -0.08,
          0.016,
          0.048,
          -0.056,
          -0.016,
          0.152,
          -0.016,
          -0.08,
          0.008,
          0.096,
          0.104,
          0.016,
          0.112,
          -0.12,
          0.056,
          -0.144,
          -0.016,
          -0.048,
          -0.016,
          -0.048,
          -0.08,
          0.056,
          0.072,
          -0.16,
          0.016,
          -0.016,
          0.072,
          -0.112,
          -0.008,
          0.008,
          0.016,
          0.04,
          -0.024,
          -0.024,
          -0.104,
          -0.176,
          0.056,
          0.112,
          -0.008,
          0.08,
          0,
          -0.096,
          0.072,
          -0.048,
          -0.096,
          0.04,
          0,
          0.096,
          -0.08,
          0.024,
          0.032,
          -0.016
         ],
         "yaxis": "y"
        },
        {
         "hovertemplate": "variable=n* = 32000<br>Games played=%{x}<br>value=%{y}<extra></extra>",
         "legendgroup": "n* = 32000",
         "line": {
          "color": "#ab63fa",
          "dash": "solid"
         },
         "marker": {
          "symbol": "circle"
         },
         "mode": "lines",
         "name": "n* = 32000",
         "orientation": "v",
         "showlegend": true,
         "type": "scatter",
         "x": [
          0,
          250,
          500,
          750,
          1000,
          1250,
          1500,
          1750,
          2000,
          2250,
          2500,
          2750,
          3000,
          3250,
          3500,
          3750,
          4000,
          4250,
          4500,
          4750,
          5000,
          5250,
          5500,
          5750,
          6000,
          6250,
          6500,
          6750,
          7000,
          7250,
          7500,
          7750,
          8000,
          8250,
          8500,
          8750,
          9000,
          9250,
          9500,
          9750,
          10000,
          10250,
          10500,
          10750,
          11000,
          11250,
          11500,
          11750,
          12000,
          12250,
          12500,
          12750,
          13000,
          13250,
          13500,
          13750,
          14000,
          14250,
          14500,
          14750,
          15000,
          15250,
          15500,
          15750,
          16000,
          16250,
          16500,
          16750,
          17000,
          17250,
          17500,
          17750,
          18000,
          18250,
          18500,
          18750,
          19000,
          19250,
          19500,
          19750
         ],
         "xaxis": "x",
         "y": [
          -0.016,
          -0.064,
          0.032,
          0.048,
          0.04,
          0.128,
          -0.016,
          0.032,
          0.128,
          0.024,
          0,
          0.008,
          0.008,
          -0.112,
          0,
          -0.088,
          -0.128,
          -0.016,
          -0.008,
          -0.048,
          -0.112,
          -0.096,
          -0.008,
          0.024,
          0.04,
          -0.032,
          0.024,
          -0.032,
          -0.112,
          0.008,
          0.032,
          -0.064,
          -0.024,
          0.064,
          -0.008,
          0.032,
          0.104,
          -0.008,
          0.024,
          0.048,
          0.04,
          -0.08,
          0.024,
          0.064,
          -0.064,
          0.056,
          0,
          -0.032,
          -0.064,
          -0.064,
          -0.064,
          -0.016,
          -0.168,
          0.016,
          0.016,
          0.04,
          0.024,
          0.096,
          -0.008,
          0.048,
          -0.032,
          0.016,
          0,
          -0.072,
          -0.072,
          -0.008,
          0.04,
          -0.064,
          0.04,
          0.024,
          0.072,
          0.024,
          -0.072,
          -0.016,
          0.072,
          0.008,
          -0.04,
          0.088,
          0.024,
          -0.04
         ],
         "yaxis": "y"
        },
        {
         "hovertemplate": "variable=n* = 40000<br>Games played=%{x}<br>value=%{y}<extra></extra>",
         "legendgroup": "n* = 40000",
         "line": {
          "color": "#FFA15A",
          "dash": "solid"
         },
         "marker": {
          "symbol": "circle"
         },
         "mode": "lines",
         "name": "n* = 40000",
         "orientation": "v",
         "showlegend": true,
         "type": "scatter",
         "x": [
          0,
          250,
          500,
          750,
          1000,
          1250,
          1500,
          1750,
          2000,
          2250,
          2500,
          2750,
          3000,
          3250,
          3500,
          3750,
          4000,
          4250,
          4500,
          4750,
          5000,
          5250,
          5500,
          5750,
          6000,
          6250,
          6500,
          6750,
          7000,
          7250,
          7500,
          7750,
          8000,
          8250,
          8500,
          8750,
          9000,
          9250,
          9500,
          9750,
          10000,
          10250,
          10500,
          10750,
          11000,
          11250,
          11500,
          11750,
          12000,
          12250,
          12500,
          12750,
          13000,
          13250,
          13500,
          13750,
          14000,
          14250,
          14500,
          14750,
          15000,
          15250,
          15500,
          15750,
          16000,
          16250,
          16500,
          16750,
          17000,
          17250,
          17500,
          17750,
          18000,
          18250,
          18500,
          18750,
          19000,
          19250,
          19500,
          19750
         ],
         "xaxis": "x",
         "y": [
          -0.096,
          -0.04,
          0.08,
          0,
          -0.096,
          0.04,
          -0.016,
          0.024,
          0.008,
          0.088,
          -0.032,
          -0.088,
          -0.016,
          -0.024,
          -0.032,
          -0.04,
          0.032,
          -0.016,
          0.04,
          -0.072,
          -0.064,
          -0.096,
          -0.088,
          -0.024,
          -0.024,
          0.056,
          -0.08,
          0.016,
          -0.032,
          -0.024,
          0.04,
          0.128,
          0.096,
          -0.016,
          -0.096,
          0,
          0.008,
          -0.104,
          -0.024,
          0.088,
          -0.016,
          0.032,
          0,
          0.016,
          -0.016,
          0.12,
          -0.064,
          0.08,
          0.008,
          -0.008,
          -0.016,
          0.008,
          0.064,
          -0.088,
          0.032,
          0.04,
          0.048,
          0.024,
          0.024,
          0.048,
          0.128,
          0.032,
          -0.176,
          -0.176,
          0.008,
          0.008,
          -0.04,
          -0.024,
          0.008,
          0.016,
          -0.136,
          0.128,
          0.016,
          -0.04,
          -0.032,
          0.04,
          -0.08,
          -0.032,
          -0.064,
          -0.096
         ],
         "yaxis": "y"
        },
        {
         "hovertemplate": "variable=n* = 8001<br>Games played=%{x}<br>value=%{y}<extra></extra>",
         "legendgroup": "n* = 8001",
         "line": {
          "color": "#19d3f3",
          "dash": "solid"
         },
         "marker": {
          "symbol": "circle"
         },
         "mode": "lines",
         "name": "n* = 8001",
         "orientation": "v",
         "showlegend": true,
         "type": "scatter",
         "x": [
          0,
          250,
          500,
          750,
          1000,
          1250,
          1500,
          1750,
          2000,
          2250,
          2500,
          2750,
          3000,
          3250,
          3500,
          3750,
          4000,
          4250,
          4500,
          4750,
          5000,
          5250,
          5500,
          5750,
          6000,
          6250,
          6500,
          6750,
          7000,
          7250,
          7500,
          7750,
          8000,
          8250,
          8500,
          8750,
          9000,
          9250,
          9500,
          9750,
          10000,
          10250,
          10500,
          10750,
          11000,
          11250,
          11500,
          11750,
          12000,
          12250,
          12500,
          12750,
          13000,
          13250,
          13500,
          13750,
          14000,
          14250,
          14500,
          14750,
          15000,
          15250,
          15500,
          15750,
          16000,
          16250,
          16500,
          16750,
          17000,
          17250,
          17500,
          17750,
          18000,
          18250,
          18500,
          18750,
          19000,
          19250,
          19500,
          19750
         ],
         "xaxis": "x",
         "y": [
          0.008,
          -0.088,
          -0.112,
          0.024,
          0.112,
          -0.096,
          -0.048,
          -0.024,
          0.048,
          -0.056,
          0.056,
          0.088,
          -0.088,
          0.104,
          0.04,
          -0.048,
          0,
          0.056,
          -0.024,
          0.048,
          0.08,
          -0.024,
          -0.12,
          -0.096,
          -0.064,
          0.056,
          -0.024,
          0.096,
          0.048,
          0.08,
          0.064,
          -0.048,
          -0.032,
          0.016,
          0.056,
          -0.048,
          -0.032,
          -0.08,
          0.016,
          0.04,
          0.048,
          0.088,
          -0.024,
          0,
          -0.072,
          0.008,
          -0.176,
          0.072,
          -0.072,
          -0.032,
          0.008,
          0.008,
          -0.08,
          -0.032,
          -0.096,
          0.072,
          -0.048,
          -0.104,
          0.048,
          0.12,
          0.056,
          -0.032,
          0.04,
          -0.04,
          0.032,
          -0.056,
          -0.064,
          0.072,
          -0.008,
          0.04,
          0.016,
          -0.008,
          0.016,
          0.104,
          -0.016,
          -0.104,
          -0.056,
          -0.08,
          0.024,
          0.008
         ],
         "yaxis": "y"
        }
       ],
       "layout": {
        "legend": {
         "title": {
          "text": "variable"
         },
         "tracegroupgap": 0
        },
        "template": {
         "data": {
          "bar": [
           {
            "error_x": {
             "color": "#2a3f5f"
            },
            "error_y": {
             "color": "#2a3f5f"
            },
            "marker": {
             "line": {
              "color": "#E5ECF6",
              "width": 0.5
             },
             "pattern": {
              "fillmode": "overlay",
              "size": 10,
              "solidity": 0.2
             }
            },
            "type": "bar"
           }
          ],
          "barpolar": [
           {
            "marker": {
             "line": {
              "color": "#E5ECF6",
              "width": 0.5
             },
             "pattern": {
              "fillmode": "overlay",
              "size": 10,
              "solidity": 0.2
             }
            },
            "type": "barpolar"
           }
          ],
          "carpet": [
           {
            "aaxis": {
             "endlinecolor": "#2a3f5f",
             "gridcolor": "white",
             "linecolor": "white",
             "minorgridcolor": "white",
             "startlinecolor": "#2a3f5f"
            },
            "baxis": {
             "endlinecolor": "#2a3f5f",
             "gridcolor": "white",
             "linecolor": "white",
             "minorgridcolor": "white",
             "startlinecolor": "#2a3f5f"
            },
            "type": "carpet"
           }
          ],
          "choropleth": [
           {
            "colorbar": {
             "outlinewidth": 0,
             "ticks": ""
            },
            "type": "choropleth"
           }
          ],
          "contour": [
           {
            "colorbar": {
             "outlinewidth": 0,
             "ticks": ""
            },
            "colorscale": [
             [
              0,
              "#0d0887"
             ],
             [
              0.1111111111111111,
              "#46039f"
             ],
             [
              0.2222222222222222,
              "#7201a8"
             ],
             [
              0.3333333333333333,
              "#9c179e"
             ],
             [
              0.4444444444444444,
              "#bd3786"
             ],
             [
              0.5555555555555556,
              "#d8576b"
             ],
             [
              0.6666666666666666,
              "#ed7953"
             ],
             [
              0.7777777777777778,
              "#fb9f3a"
             ],
             [
              0.8888888888888888,
              "#fdca26"
             ],
             [
              1,
              "#f0f921"
             ]
            ],
            "type": "contour"
           }
          ],
          "contourcarpet": [
           {
            "colorbar": {
             "outlinewidth": 0,
             "ticks": ""
            },
            "type": "contourcarpet"
           }
          ],
          "heatmap": [
           {
            "colorbar": {
             "outlinewidth": 0,
             "ticks": ""
            },
            "colorscale": [
             [
              0,
              "#0d0887"
             ],
             [
              0.1111111111111111,
              "#46039f"
             ],
             [
              0.2222222222222222,
              "#7201a8"
             ],
             [
              0.3333333333333333,
              "#9c179e"
             ],
             [
              0.4444444444444444,
              "#bd3786"
             ],
             [
              0.5555555555555556,
              "#d8576b"
             ],
             [
              0.6666666666666666,
              "#ed7953"
             ],
             [
              0.7777777777777778,
              "#fb9f3a"
             ],
             [
              0.8888888888888888,
              "#fdca26"
             ],
             [
              1,
              "#f0f921"
             ]
            ],
            "type": "heatmap"
           }
          ],
          "heatmapgl": [
           {
            "colorbar": {
             "outlinewidth": 0,
             "ticks": ""
            },
            "colorscale": [
             [
              0,
              "#0d0887"
             ],
             [
              0.1111111111111111,
              "#46039f"
             ],
             [
              0.2222222222222222,
              "#7201a8"
             ],
             [
              0.3333333333333333,
              "#9c179e"
             ],
             [
              0.4444444444444444,
              "#bd3786"
             ],
             [
              0.5555555555555556,
              "#d8576b"
             ],
             [
              0.6666666666666666,
              "#ed7953"
             ],
             [
              0.7777777777777778,
              "#fb9f3a"
             ],
             [
              0.8888888888888888,
              "#fdca26"
             ],
             [
              1,
              "#f0f921"
             ]
            ],
            "type": "heatmapgl"
           }
          ],
          "histogram": [
           {
            "marker": {
             "pattern": {
              "fillmode": "overlay",
              "size": 10,
              "solidity": 0.2
             }
            },
            "type": "histogram"
           }
          ],
          "histogram2d": [
           {
            "colorbar": {
             "outlinewidth": 0,
             "ticks": ""
            },
            "colorscale": [
             [
              0,
              "#0d0887"
             ],
             [
              0.1111111111111111,
              "#46039f"
             ],
             [
              0.2222222222222222,
              "#7201a8"
             ],
             [
              0.3333333333333333,
              "#9c179e"
             ],
             [
              0.4444444444444444,
              "#bd3786"
             ],
             [
              0.5555555555555556,
              "#d8576b"
             ],
             [
              0.6666666666666666,
              "#ed7953"
             ],
             [
              0.7777777777777778,
              "#fb9f3a"
             ],
             [
              0.8888888888888888,
              "#fdca26"
             ],
             [
              1,
              "#f0f921"
             ]
            ],
            "type": "histogram2d"
           }
          ],
          "histogram2dcontour": [
           {
            "colorbar": {
             "outlinewidth": 0,
             "ticks": ""
            },
            "colorscale": [
             [
              0,
              "#0d0887"
             ],
             [
              0.1111111111111111,
              "#46039f"
             ],
             [
              0.2222222222222222,
              "#7201a8"
             ],
             [
              0.3333333333333333,
              "#9c179e"
             ],
             [
              0.4444444444444444,
              "#bd3786"
             ],
             [
              0.5555555555555556,
              "#d8576b"
             ],
             [
              0.6666666666666666,
              "#ed7953"
             ],
             [
              0.7777777777777778,
              "#fb9f3a"
             ],
             [
              0.8888888888888888,
              "#fdca26"
             ],
             [
              1,
              "#f0f921"
             ]
            ],
            "type": "histogram2dcontour"
           }
          ],
          "mesh3d": [
           {
            "colorbar": {
             "outlinewidth": 0,
             "ticks": ""
            },
            "type": "mesh3d"
           }
          ],
          "parcoords": [
           {
            "line": {
             "colorbar": {
              "outlinewidth": 0,
              "ticks": ""
             }
            },
            "type": "parcoords"
           }
          ],
          "pie": [
           {
            "automargin": true,
            "type": "pie"
           }
          ],
          "scatter": [
           {
            "fillpattern": {
             "fillmode": "overlay",
             "size": 10,
             "solidity": 0.2
            },
            "type": "scatter"
           }
          ],
          "scatter3d": [
           {
            "line": {
             "colorbar": {
              "outlinewidth": 0,
              "ticks": ""
             }
            },
            "marker": {
             "colorbar": {
              "outlinewidth": 0,
              "ticks": ""
             }
            },
            "type": "scatter3d"
           }
          ],
          "scattercarpet": [
           {
            "marker": {
             "colorbar": {
              "outlinewidth": 0,
              "ticks": ""
             }
            },
            "type": "scattercarpet"
           }
          ],
          "scattergeo": [
           {
            "marker": {
             "colorbar": {
              "outlinewidth": 0,
              "ticks": ""
             }
            },
            "type": "scattergeo"
           }
          ],
          "scattergl": [
           {
            "marker": {
             "colorbar": {
              "outlinewidth": 0,
              "ticks": ""
             }
            },
            "type": "scattergl"
           }
          ],
          "scattermapbox": [
           {
            "marker": {
             "colorbar": {
              "outlinewidth": 0,
              "ticks": ""
             }
            },
            "type": "scattermapbox"
           }
          ],
          "scatterpolar": [
           {
            "marker": {
             "colorbar": {
              "outlinewidth": 0,
              "ticks": ""
             }
            },
            "type": "scatterpolar"
           }
          ],
          "scatterpolargl": [
           {
            "marker": {
             "colorbar": {
              "outlinewidth": 0,
              "ticks": ""
             }
            },
            "type": "scatterpolargl"
           }
          ],
          "scatterternary": [
           {
            "marker": {
             "colorbar": {
              "outlinewidth": 0,
              "ticks": ""
             }
            },
            "type": "scatterternary"
           }
          ],
          "surface": [
           {
            "colorbar": {
             "outlinewidth": 0,
             "ticks": ""
            },
            "colorscale": [
             [
              0,
              "#0d0887"
             ],
             [
              0.1111111111111111,
              "#46039f"
             ],
             [
              0.2222222222222222,
              "#7201a8"
             ],
             [
              0.3333333333333333,
              "#9c179e"
             ],
             [
              0.4444444444444444,
              "#bd3786"
             ],
             [
              0.5555555555555556,
              "#d8576b"
             ],
             [
              0.6666666666666666,
              "#ed7953"
             ],
             [
              0.7777777777777778,
              "#fb9f3a"
             ],
             [
              0.8888888888888888,
              "#fdca26"
             ],
             [
              1,
              "#f0f921"
             ]
            ],
            "type": "surface"
           }
          ],
          "table": [
           {
            "cells": {
             "fill": {
              "color": "#EBF0F8"
             },
             "line": {
              "color": "white"
             }
            },
            "header": {
             "fill": {
              "color": "#C8D4E3"
             },
             "line": {
              "color": "white"
             }
            },
            "type": "table"
           }
          ]
         },
         "layout": {
          "annotationdefaults": {
           "arrowcolor": "#2a3f5f",
           "arrowhead": 0,
           "arrowwidth": 1
          },
          "autotypenumbers": "strict",
          "coloraxis": {
           "colorbar": {
            "outlinewidth": 0,
            "ticks": ""
           }
          },
          "colorscale": {
           "diverging": [
            [
             0,
             "#8e0152"
            ],
            [
             0.1,
             "#c51b7d"
            ],
            [
             0.2,
             "#de77ae"
            ],
            [
             0.3,
             "#f1b6da"
            ],
            [
             0.4,
             "#fde0ef"
            ],
            [
             0.5,
             "#f7f7f7"
            ],
            [
             0.6,
             "#e6f5d0"
            ],
            [
             0.7,
             "#b8e186"
            ],
            [
             0.8,
             "#7fbc41"
            ],
            [
             0.9,
             "#4d9221"
            ],
            [
             1,
             "#276419"
            ]
           ],
           "sequential": [
            [
             0,
             "#0d0887"
            ],
            [
             0.1111111111111111,
             "#46039f"
            ],
            [
             0.2222222222222222,
             "#7201a8"
            ],
            [
             0.3333333333333333,
             "#9c179e"
            ],
            [
             0.4444444444444444,
             "#bd3786"
            ],
            [
             0.5555555555555556,
             "#d8576b"
            ],
            [
             0.6666666666666666,
             "#ed7953"
            ],
            [
             0.7777777777777778,
             "#fb9f3a"
            ],
            [
             0.8888888888888888,
             "#fdca26"
            ],
            [
             1,
             "#f0f921"
            ]
           ],
           "sequentialminus": [
            [
             0,
             "#0d0887"
            ],
            [
             0.1111111111111111,
             "#46039f"
            ],
            [
             0.2222222222222222,
             "#7201a8"
            ],
            [
             0.3333333333333333,
             "#9c179e"
            ],
            [
             0.4444444444444444,
             "#bd3786"
            ],
            [
             0.5555555555555556,
             "#d8576b"
            ],
            [
             0.6666666666666666,
             "#ed7953"
            ],
            [
             0.7777777777777778,
             "#fb9f3a"
            ],
            [
             0.8888888888888888,
             "#fdca26"
            ],
            [
             1,
             "#f0f921"
            ]
           ]
          },
          "colorway": [
           "#636efa",
           "#EF553B",
           "#00cc96",
           "#ab63fa",
           "#FFA15A",
           "#19d3f3",
           "#FF6692",
           "#B6E880",
           "#FF97FF",
           "#FECB52"
          ],
          "font": {
           "color": "#2a3f5f"
          },
          "geo": {
           "bgcolor": "white",
           "lakecolor": "white",
           "landcolor": "#E5ECF6",
           "showlakes": true,
           "showland": true,
           "subunitcolor": "white"
          },
          "hoverlabel": {
           "align": "left"
          },
          "hovermode": "closest",
          "mapbox": {
           "style": "light"
          },
          "paper_bgcolor": "white",
          "plot_bgcolor": "#E5ECF6",
          "polar": {
           "angularaxis": {
            "gridcolor": "white",
            "linecolor": "white",
            "ticks": ""
           },
           "bgcolor": "#E5ECF6",
           "radialaxis": {
            "gridcolor": "white",
            "linecolor": "white",
            "ticks": ""
           }
          },
          "scene": {
           "xaxis": {
            "backgroundcolor": "#E5ECF6",
            "gridcolor": "white",
            "gridwidth": 2,
            "linecolor": "white",
            "showbackground": true,
            "ticks": "",
            "zerolinecolor": "white"
           },
           "yaxis": {
            "backgroundcolor": "#E5ECF6",
            "gridcolor": "white",
            "gridwidth": 2,
            "linecolor": "white",
            "showbackground": true,
            "ticks": "",
            "zerolinecolor": "white"
           },
           "zaxis": {
            "backgroundcolor": "#E5ECF6",
            "gridcolor": "white",
            "gridwidth": 2,
            "linecolor": "white",
            "showbackground": true,
            "ticks": "",
            "zerolinecolor": "white"
           }
          },
          "shapedefaults": {
           "line": {
            "color": "#2a3f5f"
           }
          },
          "ternary": {
           "aaxis": {
            "gridcolor": "white",
            "linecolor": "white",
            "ticks": ""
           },
           "baxis": {
            "gridcolor": "white",
            "linecolor": "white",
            "ticks": ""
           },
           "bgcolor": "#E5ECF6",
           "caxis": {
            "gridcolor": "white",
            "linecolor": "white",
            "ticks": ""
           }
          },
          "title": {
           "x": 0.05
          },
          "xaxis": {
           "automargin": true,
           "gridcolor": "white",
           "linecolor": "white",
           "ticks": "",
           "title": {
            "standoff": 15
           },
           "zerolinecolor": "white",
           "zerolinewidth": 2
          },
          "yaxis": {
           "automargin": true,
           "gridcolor": "white",
           "linecolor": "white",
           "ticks": "",
           "title": {
            "standoff": 15
           },
           "zerolinecolor": "white",
           "zerolinewidth": 2
          }
         }
        },
        "title": {
         "text": "Training with testing on different decreasing exploration rates"
        },
        "width": 800,
        "xaxis": {
         "anchor": "y",
         "domain": [
          0,
          1
         ],
         "title": {
          "text": "Games played"
         }
        },
        "yaxis": {
         "anchor": "x",
         "domain": [
          0,
          1
         ],
         "title": {
          "text": "Reward"
         }
        }
       }
      }
     },
     "metadata": {},
     "output_type": "display_data"
    },
    {
     "data": {
      "application/vnd.plotly.v1+json": {
       "config": {
        "plotlyServerURL": "https://plot.ly"
       },
       "data": [
        {
         "hovertemplate": "variable=n* = 1<br>Games played=%{x}<br>value=%{y}<extra></extra>",
         "legendgroup": "n* = 1",
         "line": {
          "color": "#636efa",
          "dash": "solid"
         },
         "marker": {
          "symbol": "circle"
         },
         "mode": "lines",
         "name": "n* = 1",
         "orientation": "v",
         "showlegend": true,
         "type": "scatter",
         "x": [
          0,
          250,
          500,
          750,
          1000,
          1250,
          1500,
          1750,
          2000,
          2250,
          2500,
          2750,
          3000,
          3250,
          3500,
          3750,
          4000,
          4250,
          4500,
          4750,
          5000,
          5250,
          5500,
          5750,
          6000,
          6250,
          6500,
          6750,
          7000,
          7250,
          7500,
          7750,
          8000,
          8250,
          8500,
          8750,
          9000,
          9250,
          9500,
          9750,
          10000,
          10250,
          10500,
          10750,
          11000,
          11250,
          11500,
          11750,
          12000,
          12250,
          12500,
          12750,
          13000,
          13250,
          13500,
          13750,
          14000,
          14250,
          14500,
          14750,
          15000,
          15250,
          15500,
          15750,
          16000,
          16250,
          16500,
          16750,
          17000,
          17250,
          17500,
          17750,
          18000,
          18250,
          18500,
          18750,
          19000,
          19250,
          19500,
          19750
         ],
         "xaxis": "x",
         "y": [
          0.03814345938092024,
          0.014895984671212278,
          0.05582786161590885,
          0.05129093324565121,
          0.0820316573096493,
          0.07653343205555327,
          0.09140436749396376,
          0.08267107264281166,
          0.07678663392585737,
          0.06791908138763182,
          0.07860112505492128,
          0.06885346942909526,
          0.08011925792163711,
          0.0718388475663593,
          0.07545654295725655,
          0.07055517232843808,
          0.08047003137804998,
          0.0758237688082224,
          0.07900976376687247,
          0.07857258893911814,
          0.07821362196528091,
          0.07387632091831803,
          0.07656263054631803,
          0.06961480079997857,
          0.07285554670309488,
          0.06849391762798218,
          0.07092167543813892,
          0.06758768328072413,
          0.06679321088202331,
          0.05863064423057151,
          0.06017422607949664,
          0.05666810214863834,
          0.06350691603286795,
          0.06361400730562375,
          0.0667043292793245,
          0.06167287972139404,
          0.05651342553857008,
          0.05135838513739133,
          0.05586579643472642,
          0.05418172622111217,
          0.05473017821385885,
          0.05375387491520044,
          0.05674898180976705,
          0.055939403844578094,
          0.059023919876912675,
          0.05774144761401407,
          0.0543641408587206,
          0.0516130397379036,
          0.0548297553859444,
          0.05155359489287724,
          0.05184766278953402,
          0.05244056014459746,
          0.05149605655844145,
          0.04947220346651558,
          0.04902444556640322,
          0.04443239602325669,
          0.04790951483962589,
          0.04645638713974837,
          0.048853145533330956,
          0.04873531400132185,
          0.05146923837229731,
          0.04912941980190457,
          0.05001406021956066,
          0.04921352417708318,
          0.04953361865136872,
          0.0499615792546801,
          0.04902717607668863,
          0.048764019528074604,
          0.04903812942011653,
          0.04810190120144283,
          0.04934585776421292,
          0.047037757176801746,
          0.04723748600772397,
          0.046022670658100374,
          0.048410122252994806,
          0.04911197080021125,
          0.04647716920187811,
          0.04561510939004059,
          0.04522569305965343,
          0.04208096872933241
         ],
         "yaxis": "y"
        },
        {
         "hovertemplate": "variable=n* = 16001<br>Games played=%{x}<br>value=%{y}<extra></extra>",
         "legendgroup": "n* = 16001",
         "line": {
          "color": "#EF553B",
          "dash": "solid"
         },
         "marker": {
          "symbol": "circle"
         },
         "mode": "lines",
         "name": "n* = 16001",
         "orientation": "v",
         "showlegend": true,
         "type": "scatter",
         "x": [
          0,
          250,
          500,
          750,
          1000,
          1250,
          1500,
          1750,
          2000,
          2250,
          2500,
          2750,
          3000,
          3250,
          3500,
          3750,
          4000,
          4250,
          4500,
          4750,
          5000,
          5250,
          5500,
          5750,
          6000,
          6250,
          6500,
          6750,
          7000,
          7250,
          7500,
          7750,
          8000,
          8250,
          8500,
          8750,
          9000,
          9250,
          9500,
          9750,
          10000,
          10250,
          10500,
          10750,
          11000,
          11250,
          11500,
          11750,
          12000,
          12250,
          12500,
          12750,
          13000,
          13250,
          13500,
          13750,
          14000,
          14250,
          14500,
          14750,
          15000,
          15250,
          15500,
          15750,
          16000,
          16250,
          16500,
          16750,
          17000,
          17250,
          17500,
          17750,
          18000,
          18250,
          18500,
          18750,
          19000,
          19250,
          19500,
          19750
         ],
         "xaxis": "x",
         "y": [
          0.049344312458273296,
          0.020798830477145196,
          0.09069103234595378,
          0.09102868213701774,
          0.10044043466405654,
          0.09594879362192466,
          0.10488786897877907,
          0.10756290692444326,
          0.10779892542457832,
          0.10996369094399037,
          0.11016720354706547,
          0.10856855202160572,
          0.11301518769868794,
          0.11115504501420849,
          0.10928226107067161,
          0.10970108757450452,
          0.11128983073774991,
          0.11049457019934915,
          0.10911386915209112,
          0.10764443861384242,
          0.10397062439435316,
          0.10040447201359183,
          0.10269304503699843,
          0.10178565182057875,
          0.09901435999480455,
          0.09582268927659085,
          0.09635805939905073,
          0.09772770198123808,
          0.09601278815355341,
          0.09485728510387956,
          0.09922918621157031,
          0.0968268037363474,
          0.09742149469592878,
          0.09295026247317974,
          0.09739908926469619,
          0.09628866631415134,
          0.09148783326512551,
          0.08843397190018247,
          0.09247599068421952,
          0.08943336267208418,
          0.08786316305384465,
          0.08420562796890332,
          0.08519743694502693,
          0.07937685759069885,
          0.08163860274347753,
          0.07833944790388607,
          0.07595581102222593,
          0.0729138269540617,
          0.07671458570389818,
          0.07441090798554638,
          0.07280423712021847,
          0.07011054167584066,
          0.06925411378176008,
          0.06292653818941653,
          0.05946968558014132,
          0.05398768480685978,
          0.05465506997585732,
          0.05039087445762676,
          0.05236539341942288,
          0.04906644178180737,
          0.04973306895560881,
          0.04725498572471517,
          0.05042624498030153,
          0.04870895664133957,
          0.04829638365871749,
          0.049413386485241476,
          0.0485264638443079,
          0.04845081465553884,
          0.051394208446689175,
          0.05061422299382694,
          0.05304282794175343,
          0.05190907693050331,
          0.05282272472493673,
          0.053604292054787846,
          0.050922918757853784,
          0.050922288177248184,
          0.051099128814655795,
          0.04727262580071545,
          0.046449404903880054,
          0.043979975568386266
         ],
         "yaxis": "y"
        },
        {
         "hovertemplate": "variable=n* = 24000<br>Games played=%{x}<br>value=%{y}<extra></extra>",
         "legendgroup": "n* = 24000",
         "line": {
          "color": "#00cc96",
          "dash": "solid"
         },
         "marker": {
          "symbol": "circle"
         },
         "mode": "lines",
         "name": "n* = 24000",
         "orientation": "v",
         "showlegend": true,
         "type": "scatter",
         "x": [
          0,
          250,
          500,
          750,
          1000,
          1250,
          1500,
          1750,
          2000,
          2250,
          2500,
          2750,
          3000,
          3250,
          3500,
          3750,
          4000,
          4250,
          4500,
          4750,
          5000,
          5250,
          5500,
          5750,
          6000,
          6250,
          6500,
          6750,
          7000,
          7250,
          7500,
          7750,
          8000,
          8250,
          8500,
          8750,
          9000,
          9250,
          9500,
          9750,
          10000,
          10250,
          10500,
          10750,
          11000,
          11250,
          11500,
          11750,
          12000,
          12250,
          12500,
          12750,
          13000,
          13250,
          13500,
          13750,
          14000,
          14250,
          14500,
          14750,
          15000,
          15250,
          15500,
          15750,
          16000,
          16250,
          16500,
          16750,
          17000,
          17250,
          17500,
          17750,
          18000,
          18250,
          18500,
          18750,
          19000,
          19250,
          19500,
          19750
         ],
         "xaxis": "x",
         "y": [
          0.05700379883681564,
          0.029574578216882273,
          0.09949943900425383,
          0.09769563668391161,
          0.10404738266995484,
          0.10325841711839291,
          0.10990210770782474,
          0.11184428430641989,
          0.11212691771616083,
          0.11153065199698117,
          0.10762083269755245,
          0.1072796793054976,
          0.10704391302780805,
          0.10664121374832473,
          0.1117713367573114,
          0.111333956180262,
          0.10695777786250672,
          0.10668642519763315,
          0.10477699066673402,
          0.10311874732491312,
          0.10331180080015222,
          0.09999076709823539,
          0.10114274807795187,
          0.10172772279425205,
          0.10036401793787052,
          0.10062003441355646,
          0.09887440494511983,
          0.09866045329699286,
          0.10442723701513329,
          0.10102423442695328,
          0.09936553518575982,
          0.09914370541676742,
          0.09991662665883062,
          0.09928472609816968,
          0.09210939591345359,
          0.08738910820411176,
          0.09601329300973412,
          0.09330934617197612,
          0.10300096970104493,
          0.10209303013631299,
          0.09950538765517258,
          0.10022363145642567,
          0.09789790429473334,
          0.09657675270201331,
          0.09519039476450367,
          0.09190030986301893,
          0.09420488152383386,
          0.09323927175901618,
          0.09297319935353919,
          0.09048996898371235,
          0.09006963426815134,
          0.08973188463447815,
          0.09208965445056967,
          0.09038762246615699,
          0.08749706009831565,
          0.08437659894846146,
          0.08759611944290022,
          0.0820576783870815,
          0.08768676865956937,
          0.08587943040216323,
          0.08774669238242444,
          0.08724712790577495,
          0.08955039821501877,
          0.0856490211092577,
          0.08930103057394213,
          0.08461792829728175,
          0.08636059359125005,
          0.08086436698509819,
          0.07807091829131975,
          0.07553708679775523,
          0.07801543978347794,
          0.07620702006129755,
          0.07262660285234358,
          0.0691844436286726,
          0.06749345597563661,
          0.06332332405152685,
          0.06851930876239332,
          0.06499933652390195,
          0.06594297487013269,
          0.06408608480353714
         ],
         "yaxis": "y"
        },
        {
         "hovertemplate": "variable=n* = 32000<br>Games played=%{x}<br>value=%{y}<extra></extra>",
         "legendgroup": "n* = 32000",
         "line": {
          "color": "#ab63fa",
          "dash": "solid"
         },
         "marker": {
          "symbol": "circle"
         },
         "mode": "lines",
         "name": "n* = 32000",
         "orientation": "v",
         "showlegend": true,
         "type": "scatter",
         "x": [
          0,
          250,
          500,
          750,
          1000,
          1250,
          1500,
          1750,
          2000,
          2250,
          2500,
          2750,
          3000,
          3250,
          3500,
          3750,
          4000,
          4250,
          4500,
          4750,
          5000,
          5250,
          5500,
          5750,
          6000,
          6250,
          6500,
          6750,
          7000,
          7250,
          7500,
          7750,
          8000,
          8250,
          8500,
          8750,
          9000,
          9250,
          9500,
          9750,
          10000,
          10250,
          10500,
          10750,
          11000,
          11250,
          11500,
          11750,
          12000,
          12250,
          12500,
          12750,
          13000,
          13250,
          13500,
          13750,
          14000,
          14250,
          14500,
          14750,
          15000,
          15250,
          15500,
          15750,
          16000,
          16250,
          16500,
          16750,
          17000,
          17250,
          17500,
          17750,
          18000,
          18250,
          18500,
          18750,
          19000,
          19250,
          19500,
          19750
         ],
         "xaxis": "x",
         "y": [
          0.0454670822522436,
          0.02610624867408669,
          0.09561729015148007,
          0.09378406609712021,
          0.10129018985210919,
          0.09835800738993174,
          0.10596644887959378,
          0.1050502018356706,
          0.10677379013441905,
          0.10990174115854702,
          0.10505587497084844,
          0.10385285685511512,
          0.10355128360931407,
          0.1031313662374007,
          0.10434669888752611,
          0.10223997931830082,
          0.1063559260273561,
          0.10595029771754612,
          0.10422782988794017,
          0.10307358685075431,
          0.10668017933607958,
          0.10526482565735615,
          0.10022036219798605,
          0.10244742062092684,
          0.10773332149979506,
          0.10842162281553076,
          0.09940816821964611,
          0.09782756273218907,
          0.10358059239650351,
          0.10475920578849501,
          0.10211024024288788,
          0.09968637110289866,
          0.09733087032168711,
          0.0966649551227175,
          0.10122882776718935,
          0.09897372911452483,
          0.09992770837803157,
          0.09778798334790688,
          0.09490580063223635,
          0.09449826454314707,
          0.09771379582538504,
          0.09629389000707929,
          0.09836809030462472,
          0.09452740102131295,
          0.09723603317531031,
          0.0970465818175037,
          0.09719802790963317,
          0.09729826538477185,
          0.09625224067741157,
          0.09410884100550197,
          0.09847497652761067,
          0.09752350872262563,
          0.09414612383150205,
          0.09203878224237275,
          0.09060259432593981,
          0.08787842651369912,
          0.0929879110967645,
          0.09145690946052486,
          0.09479017696018453,
          0.09501657950190398,
          0.10173853482772052,
          0.10093220745353666,
          0.09789228458613367,
          0.09507415382550773,
          0.09206060187735583,
          0.0928784654322096,
          0.09828820365351351,
          0.09667673564510919,
          0.08737155942579125,
          0.08475993853124109,
          0.08636169738237377,
          0.08529452836284271,
          0.08995192076761171,
          0.08652668882076538,
          0.08964811125516445,
          0.08952053747536097,
          0.09046541704157161,
          0.08694760468198962,
          0.0891992478188282,
          0.08682255646054678
         ],
         "yaxis": "y"
        },
        {
         "hovertemplate": "variable=n* = 40000<br>Games played=%{x}<br>value=%{y}<extra></extra>",
         "legendgroup": "n* = 40000",
         "line": {
          "color": "#FFA15A",
          "dash": "solid"
         },
         "marker": {
          "symbol": "circle"
         },
         "mode": "lines",
         "name": "n* = 40000",
         "orientation": "v",
         "showlegend": true,
         "type": "scatter",
         "x": [
          0,
          250,
          500,
          750,
          1000,
          1250,
          1500,
          1750,
          2000,
          2250,
          2500,
          2750,
          3000,
          3250,
          3500,
          3750,
          4000,
          4250,
          4500,
          4750,
          5000,
          5250,
          5500,
          5750,
          6000,
          6250,
          6500,
          6750,
          7000,
          7250,
          7500,
          7750,
          8000,
          8250,
          8500,
          8750,
          9000,
          9250,
          9500,
          9750,
          10000,
          10250,
          10500,
          10750,
          11000,
          11250,
          11500,
          11750,
          12000,
          12250,
          12500,
          12750,
          13000,
          13250,
          13500,
          13750,
          14000,
          14250,
          14500,
          14750,
          15000,
          15250,
          15500,
          15750,
          16000,
          16250,
          16500,
          16750,
          17000,
          17250,
          17500,
          17750,
          18000,
          18250,
          18500,
          18750,
          19000,
          19250,
          19500,
          19750
         ],
         "xaxis": "x",
         "y": [
          0.04800732159111873,
          0.02531173495956368,
          0.10067330857661243,
          0.09901106467416124,
          0.10165564013551251,
          0.10212250091922535,
          0.1055269763579197,
          0.10744099119364835,
          0.10502805338086985,
          0.10707162719770222,
          0.11136473736773103,
          0.10952623205270626,
          0.10924895012417961,
          0.10809571278878645,
          0.10599887966628307,
          0.10588430010265651,
          0.11469154910824401,
          0.11544944562671478,
          0.1115241622156447,
          0.10947667677821507,
          0.10913890656445,
          0.10849488768506878,
          0.10456402794554681,
          0.10372648437713541,
          0.10789147787934873,
          0.10541353074204124,
          0.105428485942566,
          0.10569561952877078,
          0.10688438107915503,
          0.10628023083134736,
          0.10949142122491709,
          0.10967970793343491,
          0.11035670691777068,
          0.11010852170713936,
          0.10139152158604581,
          0.10291665309205683,
          0.10267364436463601,
          0.10400117623887066,
          0.10193654354439804,
          0.1020256441600536,
          0.10101767968932315,
          0.10036347857319176,
          0.09904428565953399,
          0.0988515626221855,
          0.09791039605247588,
          0.0973120028897867,
          0.09824793148286563,
          0.09535993192861028,
          0.09404211186794276,
          0.09390851049902119,
          0.09357353425726943,
          0.09434474327442359,
          0.10092466897668807,
          0.10065478198386792,
          0.10146812060967791,
          0.10158722610115171,
          0.1057318975908705,
          0.10437034917415249,
          0.09822624756594567,
          0.09432971106494888,
          0.09324751163628375,
          0.09255769627982191,
          0.09409212628873688,
          0.09557604145995535,
          0.09444786652605584,
          0.09244559433024663,
          0.09644406025799826,
          0.09172602789830997,
          0.09204958709320923,
          0.09022413849778159,
          0.09522702963464094,
          0.09382878348992205,
          0.09593633963841143,
          0.0948631687839664,
          0.09621307640091369,
          0.09320330229879797,
          0.095093620371434,
          0.0939693654218187,
          0.09445926778076232,
          0.09037002206723795
         ],
         "yaxis": "y"
        },
        {
         "hovertemplate": "variable=n* = 8001<br>Games played=%{x}<br>value=%{y}<extra></extra>",
         "legendgroup": "n* = 8001",
         "line": {
          "color": "#19d3f3",
          "dash": "solid"
         },
         "marker": {
          "symbol": "circle"
         },
         "mode": "lines",
         "name": "n* = 8001",
         "orientation": "v",
         "showlegend": true,
         "type": "scatter",
         "x": [
          0,
          250,
          500,
          750,
          1000,
          1250,
          1500,
          1750,
          2000,
          2250,
          2500,
          2750,
          3000,
          3250,
          3500,
          3750,
          4000,
          4250,
          4500,
          4750,
          5000,
          5250,
          5500,
          5750,
          6000,
          6250,
          6500,
          6750,
          7000,
          7250,
          7500,
          7750,
          8000,
          8250,
          8500,
          8750,
          9000,
          9250,
          9500,
          9750,
          10000,
          10250,
          10500,
          10750,
          11000,
          11250,
          11500,
          11750,
          12000,
          12250,
          12500,
          12750,
          13000,
          13250,
          13500,
          13750,
          14000,
          14250,
          14500,
          14750,
          15000,
          15250,
          15500,
          15750,
          16000,
          16250,
          16500,
          16750,
          17000,
          17250,
          17500,
          17750,
          18000,
          18250,
          18500,
          18750,
          19000,
          19250,
          19500,
          19750
         ],
         "xaxis": "x",
         "y": [
          0.0445076224516407,
          0.024162589509269573,
          0.09995723728771157,
          0.09920986920687508,
          0.10554790258821514,
          0.10427132370937657,
          0.10618628647872598,
          0.10622824555628371,
          0.10745026449594637,
          0.10524637505547,
          0.10726760628042498,
          0.10539657986073783,
          0.10137100396852164,
          0.09684337264582937,
          0.09843355663506122,
          0.09498492510003202,
          0.10378982657797572,
          0.0986680869013071,
          0.09759833712928145,
          0.09472298967341582,
          0.1010012634963792,
          0.09578039232244501,
          0.09239669557083312,
          0.08760008708460365,
          0.0853660680234591,
          0.08032512508792215,
          0.075427494547253,
          0.06920989719932252,
          0.07512912206998999,
          0.0658345723819819,
          0.06494321128069508,
          0.057527029978447275,
          0.05966388522653135,
          0.05684307488761726,
          0.05768830744341045,
          0.053406543995771424,
          0.05506736693632117,
          0.05058972914919777,
          0.05354416658506048,
          0.05349838526587034,
          0.05383062718129782,
          0.053567108017132624,
          0.05566724283147662,
          0.05355852627687834,
          0.05753052423976868,
          0.05739760967336091,
          0.05621261178615859,
          0.05257871606665586,
          0.051965910445957615,
          0.050827110847126995,
          0.051781984294113556,
          0.051481039823466725,
          0.04805197728976106,
          0.04767629498371985,
          0.05199389492279499,
          0.05099792562251449,
          0.04948733492987797,
          0.04915246970922453,
          0.04841383770200433,
          0.04804918971505855,
          0.04996690799402635,
          0.048785002788796425,
          0.0517865593591919,
          0.04983214663159977,
          0.050242022398788354,
          0.05027021129039185,
          0.05098962554831006,
          0.04761727044181282,
          0.04685987253201889,
          0.044050979576913264,
          0.04537639252078913,
          0.04807176334134145,
          0.04864761342167044,
          0.04648987256942235,
          0.04382043308734124,
          0.04251133735439134,
          0.04380170312339934,
          0.0431455403731695,
          0.043664053228687515,
          0.04193209181648224
         ],
         "yaxis": "y"
        }
       ],
       "layout": {
        "legend": {
         "title": {
          "text": "variable"
         },
         "tracegroupgap": 0
        },
        "margin": {
         "t": 60
        },
        "template": {
         "data": {
          "bar": [
           {
            "error_x": {
             "color": "#2a3f5f"
            },
            "error_y": {
             "color": "#2a3f5f"
            },
            "marker": {
             "line": {
              "color": "#E5ECF6",
              "width": 0.5
             },
             "pattern": {
              "fillmode": "overlay",
              "size": 10,
              "solidity": 0.2
             }
            },
            "type": "bar"
           }
          ],
          "barpolar": [
           {
            "marker": {
             "line": {
              "color": "#E5ECF6",
              "width": 0.5
             },
             "pattern": {
              "fillmode": "overlay",
              "size": 10,
              "solidity": 0.2
             }
            },
            "type": "barpolar"
           }
          ],
          "carpet": [
           {
            "aaxis": {
             "endlinecolor": "#2a3f5f",
             "gridcolor": "white",
             "linecolor": "white",
             "minorgridcolor": "white",
             "startlinecolor": "#2a3f5f"
            },
            "baxis": {
             "endlinecolor": "#2a3f5f",
             "gridcolor": "white",
             "linecolor": "white",
             "minorgridcolor": "white",
             "startlinecolor": "#2a3f5f"
            },
            "type": "carpet"
           }
          ],
          "choropleth": [
           {
            "colorbar": {
             "outlinewidth": 0,
             "ticks": ""
            },
            "type": "choropleth"
           }
          ],
          "contour": [
           {
            "colorbar": {
             "outlinewidth": 0,
             "ticks": ""
            },
            "colorscale": [
             [
              0,
              "#0d0887"
             ],
             [
              0.1111111111111111,
              "#46039f"
             ],
             [
              0.2222222222222222,
              "#7201a8"
             ],
             [
              0.3333333333333333,
              "#9c179e"
             ],
             [
              0.4444444444444444,
              "#bd3786"
             ],
             [
              0.5555555555555556,
              "#d8576b"
             ],
             [
              0.6666666666666666,
              "#ed7953"
             ],
             [
              0.7777777777777778,
              "#fb9f3a"
             ],
             [
              0.8888888888888888,
              "#fdca26"
             ],
             [
              1,
              "#f0f921"
             ]
            ],
            "type": "contour"
           }
          ],
          "contourcarpet": [
           {
            "colorbar": {
             "outlinewidth": 0,
             "ticks": ""
            },
            "type": "contourcarpet"
           }
          ],
          "heatmap": [
           {
            "colorbar": {
             "outlinewidth": 0,
             "ticks": ""
            },
            "colorscale": [
             [
              0,
              "#0d0887"
             ],
             [
              0.1111111111111111,
              "#46039f"
             ],
             [
              0.2222222222222222,
              "#7201a8"
             ],
             [
              0.3333333333333333,
              "#9c179e"
             ],
             [
              0.4444444444444444,
              "#bd3786"
             ],
             [
              0.5555555555555556,
              "#d8576b"
             ],
             [
              0.6666666666666666,
              "#ed7953"
             ],
             [
              0.7777777777777778,
              "#fb9f3a"
             ],
             [
              0.8888888888888888,
              "#fdca26"
             ],
             [
              1,
              "#f0f921"
             ]
            ],
            "type": "heatmap"
           }
          ],
          "heatmapgl": [
           {
            "colorbar": {
             "outlinewidth": 0,
             "ticks": ""
            },
            "colorscale": [
             [
              0,
              "#0d0887"
             ],
             [
              0.1111111111111111,
              "#46039f"
             ],
             [
              0.2222222222222222,
              "#7201a8"
             ],
             [
              0.3333333333333333,
              "#9c179e"
             ],
             [
              0.4444444444444444,
              "#bd3786"
             ],
             [
              0.5555555555555556,
              "#d8576b"
             ],
             [
              0.6666666666666666,
              "#ed7953"
             ],
             [
              0.7777777777777778,
              "#fb9f3a"
             ],
             [
              0.8888888888888888,
              "#fdca26"
             ],
             [
              1,
              "#f0f921"
             ]
            ],
            "type": "heatmapgl"
           }
          ],
          "histogram": [
           {
            "marker": {
             "pattern": {
              "fillmode": "overlay",
              "size": 10,
              "solidity": 0.2
             }
            },
            "type": "histogram"
           }
          ],
          "histogram2d": [
           {
            "colorbar": {
             "outlinewidth": 0,
             "ticks": ""
            },
            "colorscale": [
             [
              0,
              "#0d0887"
             ],
             [
              0.1111111111111111,
              "#46039f"
             ],
             [
              0.2222222222222222,
              "#7201a8"
             ],
             [
              0.3333333333333333,
              "#9c179e"
             ],
             [
              0.4444444444444444,
              "#bd3786"
             ],
             [
              0.5555555555555556,
              "#d8576b"
             ],
             [
              0.6666666666666666,
              "#ed7953"
             ],
             [
              0.7777777777777778,
              "#fb9f3a"
             ],
             [
              0.8888888888888888,
              "#fdca26"
             ],
             [
              1,
              "#f0f921"
             ]
            ],
            "type": "histogram2d"
           }
          ],
          "histogram2dcontour": [
           {
            "colorbar": {
             "outlinewidth": 0,
             "ticks": ""
            },
            "colorscale": [
             [
              0,
              "#0d0887"
             ],
             [
              0.1111111111111111,
              "#46039f"
             ],
             [
              0.2222222222222222,
              "#7201a8"
             ],
             [
              0.3333333333333333,
              "#9c179e"
             ],
             [
              0.4444444444444444,
              "#bd3786"
             ],
             [
              0.5555555555555556,
              "#d8576b"
             ],
             [
              0.6666666666666666,
              "#ed7953"
             ],
             [
              0.7777777777777778,
              "#fb9f3a"
             ],
             [
              0.8888888888888888,
              "#fdca26"
             ],
             [
              1,
              "#f0f921"
             ]
            ],
            "type": "histogram2dcontour"
           }
          ],
          "mesh3d": [
           {
            "colorbar": {
             "outlinewidth": 0,
             "ticks": ""
            },
            "type": "mesh3d"
           }
          ],
          "parcoords": [
           {
            "line": {
             "colorbar": {
              "outlinewidth": 0,
              "ticks": ""
             }
            },
            "type": "parcoords"
           }
          ],
          "pie": [
           {
            "automargin": true,
            "type": "pie"
           }
          ],
          "scatter": [
           {
            "fillpattern": {
             "fillmode": "overlay",
             "size": 10,
             "solidity": 0.2
            },
            "type": "scatter"
           }
          ],
          "scatter3d": [
           {
            "line": {
             "colorbar": {
              "outlinewidth": 0,
              "ticks": ""
             }
            },
            "marker": {
             "colorbar": {
              "outlinewidth": 0,
              "ticks": ""
             }
            },
            "type": "scatter3d"
           }
          ],
          "scattercarpet": [
           {
            "marker": {
             "colorbar": {
              "outlinewidth": 0,
              "ticks": ""
             }
            },
            "type": "scattercarpet"
           }
          ],
          "scattergeo": [
           {
            "marker": {
             "colorbar": {
              "outlinewidth": 0,
              "ticks": ""
             }
            },
            "type": "scattergeo"
           }
          ],
          "scattergl": [
           {
            "marker": {
             "colorbar": {
              "outlinewidth": 0,
              "ticks": ""
             }
            },
            "type": "scattergl"
           }
          ],
          "scattermapbox": [
           {
            "marker": {
             "colorbar": {
              "outlinewidth": 0,
              "ticks": ""
             }
            },
            "type": "scattermapbox"
           }
          ],
          "scatterpolar": [
           {
            "marker": {
             "colorbar": {
              "outlinewidth": 0,
              "ticks": ""
             }
            },
            "type": "scatterpolar"
           }
          ],
          "scatterpolargl": [
           {
            "marker": {
             "colorbar": {
              "outlinewidth": 0,
              "ticks": ""
             }
            },
            "type": "scatterpolargl"
           }
          ],
          "scatterternary": [
           {
            "marker": {
             "colorbar": {
              "outlinewidth": 0,
              "ticks": ""
             }
            },
            "type": "scatterternary"
           }
          ],
          "surface": [
           {
            "colorbar": {
             "outlinewidth": 0,
             "ticks": ""
            },
            "colorscale": [
             [
              0,
              "#0d0887"
             ],
             [
              0.1111111111111111,
              "#46039f"
             ],
             [
              0.2222222222222222,
              "#7201a8"
             ],
             [
              0.3333333333333333,
              "#9c179e"
             ],
             [
              0.4444444444444444,
              "#bd3786"
             ],
             [
              0.5555555555555556,
              "#d8576b"
             ],
             [
              0.6666666666666666,
              "#ed7953"
             ],
             [
              0.7777777777777778,
              "#fb9f3a"
             ],
             [
              0.8888888888888888,
              "#fdca26"
             ],
             [
              1,
              "#f0f921"
             ]
            ],
            "type": "surface"
           }
          ],
          "table": [
           {
            "cells": {
             "fill": {
              "color": "#EBF0F8"
             },
             "line": {
              "color": "white"
             }
            },
            "header": {
             "fill": {
              "color": "#C8D4E3"
             },
             "line": {
              "color": "white"
             }
            },
            "type": "table"
           }
          ]
         },
         "layout": {
          "annotationdefaults": {
           "arrowcolor": "#2a3f5f",
           "arrowhead": 0,
           "arrowwidth": 1
          },
          "autotypenumbers": "strict",
          "coloraxis": {
           "colorbar": {
            "outlinewidth": 0,
            "ticks": ""
           }
          },
          "colorscale": {
           "diverging": [
            [
             0,
             "#8e0152"
            ],
            [
             0.1,
             "#c51b7d"
            ],
            [
             0.2,
             "#de77ae"
            ],
            [
             0.3,
             "#f1b6da"
            ],
            [
             0.4,
             "#fde0ef"
            ],
            [
             0.5,
             "#f7f7f7"
            ],
            [
             0.6,
             "#e6f5d0"
            ],
            [
             0.7,
             "#b8e186"
            ],
            [
             0.8,
             "#7fbc41"
            ],
            [
             0.9,
             "#4d9221"
            ],
            [
             1,
             "#276419"
            ]
           ],
           "sequential": [
            [
             0,
             "#0d0887"
            ],
            [
             0.1111111111111111,
             "#46039f"
            ],
            [
             0.2222222222222222,
             "#7201a8"
            ],
            [
             0.3333333333333333,
             "#9c179e"
            ],
            [
             0.4444444444444444,
             "#bd3786"
            ],
            [
             0.5555555555555556,
             "#d8576b"
            ],
            [
             0.6666666666666666,
             "#ed7953"
            ],
            [
             0.7777777777777778,
             "#fb9f3a"
            ],
            [
             0.8888888888888888,
             "#fdca26"
            ],
            [
             1,
             "#f0f921"
            ]
           ],
           "sequentialminus": [
            [
             0,
             "#0d0887"
            ],
            [
             0.1111111111111111,
             "#46039f"
            ],
            [
             0.2222222222222222,
             "#7201a8"
            ],
            [
             0.3333333333333333,
             "#9c179e"
            ],
            [
             0.4444444444444444,
             "#bd3786"
            ],
            [
             0.5555555555555556,
             "#d8576b"
            ],
            [
             0.6666666666666666,
             "#ed7953"
            ],
            [
             0.7777777777777778,
             "#fb9f3a"
            ],
            [
             0.8888888888888888,
             "#fdca26"
            ],
            [
             1,
             "#f0f921"
            ]
           ]
          },
          "colorway": [
           "#636efa",
           "#EF553B",
           "#00cc96",
           "#ab63fa",
           "#FFA15A",
           "#19d3f3",
           "#FF6692",
           "#B6E880",
           "#FF97FF",
           "#FECB52"
          ],
          "font": {
           "color": "#2a3f5f"
          },
          "geo": {
           "bgcolor": "white",
           "lakecolor": "white",
           "landcolor": "#E5ECF6",
           "showlakes": true,
           "showland": true,
           "subunitcolor": "white"
          },
          "hoverlabel": {
           "align": "left"
          },
          "hovermode": "closest",
          "mapbox": {
           "style": "light"
          },
          "paper_bgcolor": "white",
          "plot_bgcolor": "#E5ECF6",
          "polar": {
           "angularaxis": {
            "gridcolor": "white",
            "linecolor": "white",
            "ticks": ""
           },
           "bgcolor": "#E5ECF6",
           "radialaxis": {
            "gridcolor": "white",
            "linecolor": "white",
            "ticks": ""
           }
          },
          "scene": {
           "xaxis": {
            "backgroundcolor": "#E5ECF6",
            "gridcolor": "white",
            "gridwidth": 2,
            "linecolor": "white",
            "showbackground": true,
            "ticks": "",
            "zerolinecolor": "white"
           },
           "yaxis": {
            "backgroundcolor": "#E5ECF6",
            "gridcolor": "white",
            "gridwidth": 2,
            "linecolor": "white",
            "showbackground": true,
            "ticks": "",
            "zerolinecolor": "white"
           },
           "zaxis": {
            "backgroundcolor": "#E5ECF6",
            "gridcolor": "white",
            "gridwidth": 2,
            "linecolor": "white",
            "showbackground": true,
            "ticks": "",
            "zerolinecolor": "white"
           }
          },
          "shapedefaults": {
           "line": {
            "color": "#2a3f5f"
           }
          },
          "ternary": {
           "aaxis": {
            "gridcolor": "white",
            "linecolor": "white",
            "ticks": ""
           },
           "baxis": {
            "gridcolor": "white",
            "linecolor": "white",
            "ticks": ""
           },
           "bgcolor": "#E5ECF6",
           "caxis": {
            "gridcolor": "white",
            "linecolor": "white",
            "ticks": ""
           }
          },
          "title": {
           "x": 0.05
          },
          "xaxis": {
           "automargin": true,
           "gridcolor": "white",
           "linecolor": "white",
           "ticks": "",
           "title": {
            "standoff": 15
           },
           "zerolinecolor": "white",
           "zerolinewidth": 2
          },
          "yaxis": {
           "automargin": true,
           "gridcolor": "white",
           "linecolor": "white",
           "ticks": "",
           "title": {
            "standoff": 15
           },
           "zerolinecolor": "white",
           "zerolinewidth": 2
          }
         }
        },
        "width": 800,
        "xaxis": {
         "anchor": "y",
         "domain": [
          0,
          1
         ],
         "title": {
          "text": "Games played"
         }
        },
        "yaxis": {
         "anchor": "x",
         "domain": [
          0,
          1
         ],
         "title": {
          "text": "Loss"
         }
        }
       }
      }
     },
     "metadata": {},
     "output_type": "display_data"
    },
    {
     "data": {
      "application/vnd.plotly.v1+json": {
       "config": {
        "plotlyServerURL": "https://plot.ly"
       },
       "data": [
        {
         "hovertemplate": "variable=n* = 1<br>Games played=%{x}<br>value=%{y}<extra></extra>",
         "legendgroup": "n* = 1",
         "line": {
          "color": "#636efa",
          "dash": "solid"
         },
         "marker": {
          "symbol": "circle"
         },
         "mode": "lines",
         "name": "n* = 1",
         "orientation": "v",
         "showlegend": true,
         "type": "scatter",
         "x": [
          0,
          250,
          500,
          750,
          1000,
          1250,
          1500,
          1750,
          2000,
          2250,
          2500,
          2750,
          3000,
          3250,
          3500,
          3750,
          4000,
          4250,
          4500,
          4750,
          5000,
          5250,
          5500,
          5750,
          6000,
          6250,
          6500,
          6750,
          7000,
          7250,
          7500,
          7750,
          8000,
          8250,
          8500,
          8750,
          9000,
          9250,
          9500,
          9750,
          10000,
          10250,
          10500,
          10750,
          11000,
          11250,
          11500,
          11750,
          12000,
          12250,
          12500,
          12750,
          13000,
          13250,
          13500,
          13750,
          14000,
          14250,
          14500,
          14750,
          15000,
          15250,
          15500,
          15750,
          16000,
          16250,
          16500,
          16750,
          17000,
          17250,
          17500,
          17750,
          18000,
          18250,
          18500,
          18750,
          19000,
          19250,
          19500,
          19750
         ],
         "xaxis": "x",
         "y": [
          -1,
          -0.992,
          -1,
          -1,
          -1,
          -0.976,
          -0.996,
          -0.964,
          -0.976,
          -0.964,
          -0.944,
          -0.924,
          -0.908,
          -0.944,
          -0.936,
          -0.916,
          -0.868,
          -0.86,
          -0.82,
          -0.848,
          -0.884,
          -0.824,
          -0.82,
          -0.768,
          -0.816,
          -0.796,
          -0.772,
          -0.8,
          -0.736,
          -0.724,
          -0.74,
          -0.708,
          -0.72,
          -0.728,
          -0.676,
          -0.704,
          -0.68,
          -0.6,
          -0.608,
          -0.592,
          -0.572,
          -0.548,
          -0.552,
          -0.636,
          -0.5,
          -0.54,
          -0.46,
          -0.528,
          -0.48,
          -0.44,
          -0.492,
          -0.484,
          -0.508,
          -0.464,
          -0.456,
          -0.396,
          -0.468,
          -0.424,
          -0.484,
          -0.344,
          -0.48,
          -0.448,
          -0.544,
          -0.508,
          -0.476,
          -0.444,
          -0.48,
          -0.412,
          -0.348,
          -0.296,
          -0.308,
          -0.384,
          -0.364,
          -0.304,
          -0.32,
          -0.344,
          -0.264,
          -0.236,
          -0.232,
          -0.184
         ],
         "yaxis": "y"
        },
        {
         "hovertemplate": "variable=n* = 16001<br>Games played=%{x}<br>value=%{y}<extra></extra>",
         "legendgroup": "n* = 16001",
         "line": {
          "color": "#EF553B",
          "dash": "solid"
         },
         "marker": {
          "symbol": "circle"
         },
         "mode": "lines",
         "name": "n* = 16001",
         "orientation": "v",
         "showlegend": true,
         "type": "scatter",
         "x": [
          0,
          250,
          500,
          750,
          1000,
          1250,
          1500,
          1750,
          2000,
          2250,
          2500,
          2750,
          3000,
          3250,
          3500,
          3750,
          4000,
          4250,
          4500,
          4750,
          5000,
          5250,
          5500,
          5750,
          6000,
          6250,
          6500,
          6750,
          7000,
          7250,
          7500,
          7750,
          8000,
          8250,
          8500,
          8750,
          9000,
          9250,
          9500,
          9750,
          10000,
          10250,
          10500,
          10750,
          11000,
          11250,
          11500,
          11750,
          12000,
          12250,
          12500,
          12750,
          13000,
          13250,
          13500,
          13750,
          14000,
          14250,
          14500,
          14750,
          15000,
          15250,
          15500,
          15750,
          16000,
          16250,
          16500,
          16750,
          17000,
          17250,
          17500,
          17750,
          18000,
          18250,
          18500,
          18750,
          19000,
          19250,
          19500,
          19750
         ],
         "xaxis": "x",
         "y": [
          -0.984,
          -1,
          -1,
          -1,
          -0.984,
          -0.96,
          -1,
          -0.976,
          -0.928,
          -0.956,
          -0.976,
          -0.948,
          -0.964,
          -0.916,
          -0.928,
          -0.936,
          -0.956,
          -0.932,
          -0.888,
          -0.948,
          -0.888,
          -0.876,
          -0.88,
          -0.904,
          -0.844,
          -0.876,
          -0.852,
          -0.836,
          -0.836,
          -0.832,
          -0.744,
          -0.768,
          -0.736,
          -0.816,
          -0.784,
          -0.776,
          -0.732,
          -0.712,
          -0.764,
          -0.716,
          -0.66,
          -0.744,
          -0.556,
          -0.608,
          -0.672,
          -0.58,
          -0.588,
          -0.612,
          -0.56,
          -0.544,
          -0.508,
          -0.504,
          -0.516,
          -0.444,
          -0.52,
          -0.476,
          -0.476,
          -0.44,
          -0.432,
          -0.412,
          -0.46,
          -0.448,
          -0.52,
          -0.304,
          -0.38,
          -0.404,
          -0.292,
          -0.376,
          -0.296,
          -0.408,
          -0.416,
          -0.332,
          -0.3,
          -0.22,
          -0.216,
          -0.168,
          -0.26,
          -0.248,
          -0.284,
          -0.304
         ],
         "yaxis": "y"
        },
        {
         "hovertemplate": "variable=n* = 24000<br>Games played=%{x}<br>value=%{y}<extra></extra>",
         "legendgroup": "n* = 24000",
         "line": {
          "color": "#00cc96",
          "dash": "solid"
         },
         "marker": {
          "symbol": "circle"
         },
         "mode": "lines",
         "name": "n* = 24000",
         "orientation": "v",
         "showlegend": true,
         "type": "scatter",
         "x": [
          0,
          250,
          500,
          750,
          1000,
          1250,
          1500,
          1750,
          2000,
          2250,
          2500,
          2750,
          3000,
          3250,
          3500,
          3750,
          4000,
          4250,
          4500,
          4750,
          5000,
          5250,
          5500,
          5750,
          6000,
          6250,
          6500,
          6750,
          7000,
          7250,
          7500,
          7750,
          8000,
          8250,
          8500,
          8750,
          9000,
          9250,
          9500,
          9750,
          10000,
          10250,
          10500,
          10750,
          11000,
          11250,
          11500,
          11750,
          12000,
          12250,
          12500,
          12750,
          13000,
          13250,
          13500,
          13750,
          14000,
          14250,
          14500,
          14750,
          15000,
          15250,
          15500,
          15750,
          16000,
          16250,
          16500,
          16750,
          17000,
          17250,
          17500,
          17750,
          18000,
          18250,
          18500,
          18750,
          19000,
          19250,
          19500,
          19750
         ],
         "xaxis": "x",
         "y": [
          -1,
          -1,
          -0.992,
          -1,
          -0.996,
          -0.984,
          -0.952,
          -0.968,
          -0.908,
          -0.944,
          -0.952,
          -0.94,
          -0.928,
          -0.964,
          -0.904,
          -0.956,
          -0.968,
          -0.936,
          -0.944,
          -0.896,
          -0.912,
          -0.896,
          -0.92,
          -0.912,
          -0.948,
          -0.924,
          -0.904,
          -0.956,
          -0.972,
          -0.892,
          -0.896,
          -0.896,
          -0.852,
          -0.892,
          -0.888,
          -0.896,
          -0.896,
          -0.844,
          -0.88,
          -0.808,
          -0.744,
          -0.768,
          -0.756,
          -0.712,
          -0.784,
          -0.852,
          -0.74,
          -0.812,
          -0.704,
          -0.668,
          -0.652,
          -0.72,
          -0.652,
          -0.704,
          -0.656,
          -0.724,
          -0.668,
          -0.696,
          -0.628,
          -0.652,
          -0.708,
          -0.704,
          -0.696,
          -0.592,
          -0.62,
          -0.56,
          -0.6,
          -0.444,
          -0.512,
          -0.496,
          -0.36,
          -0.4,
          -0.396,
          -0.404,
          -0.392,
          -0.496,
          -0.388,
          -0.356,
          -0.328,
          -0.32
         ],
         "yaxis": "y"
        },
        {
         "hovertemplate": "variable=n* = 32000<br>Games played=%{x}<br>value=%{y}<extra></extra>",
         "legendgroup": "n* = 32000",
         "line": {
          "color": "#ab63fa",
          "dash": "solid"
         },
         "marker": {
          "symbol": "circle"
         },
         "mode": "lines",
         "name": "n* = 32000",
         "orientation": "v",
         "showlegend": true,
         "type": "scatter",
         "x": [
          0,
          250,
          500,
          750,
          1000,
          1250,
          1500,
          1750,
          2000,
          2250,
          2500,
          2750,
          3000,
          3250,
          3500,
          3750,
          4000,
          4250,
          4500,
          4750,
          5000,
          5250,
          5500,
          5750,
          6000,
          6250,
          6500,
          6750,
          7000,
          7250,
          7500,
          7750,
          8000,
          8250,
          8500,
          8750,
          9000,
          9250,
          9500,
          9750,
          10000,
          10250,
          10500,
          10750,
          11000,
          11250,
          11500,
          11750,
          12000,
          12250,
          12500,
          12750,
          13000,
          13250,
          13500,
          13750,
          14000,
          14250,
          14500,
          14750,
          15000,
          15250,
          15500,
          15750,
          16000,
          16250,
          16500,
          16750,
          17000,
          17250,
          17500,
          17750,
          18000,
          18250,
          18500,
          18750,
          19000,
          19250,
          19500,
          19750
         ],
         "xaxis": "x",
         "y": [
          -1,
          -1,
          -0.976,
          -0.992,
          -0.964,
          -0.976,
          -0.944,
          -0.976,
          -0.944,
          -0.96,
          -0.964,
          -0.94,
          -0.916,
          -0.968,
          -0.952,
          -0.952,
          -0.92,
          -0.968,
          -0.984,
          -0.98,
          -0.908,
          -0.952,
          -0.944,
          -0.864,
          -0.924,
          -0.916,
          -0.936,
          -0.936,
          -0.932,
          -0.884,
          -0.924,
          -0.892,
          -0.864,
          -0.94,
          -0.872,
          -0.9,
          -0.916,
          -0.916,
          -0.852,
          -0.804,
          -0.856,
          -0.844,
          -0.88,
          -0.844,
          -0.96,
          -0.876,
          -0.828,
          -0.868,
          -0.832,
          -0.82,
          -0.844,
          -0.808,
          -0.828,
          -0.8,
          -0.808,
          -0.832,
          -0.8,
          -0.768,
          -0.78,
          -0.72,
          -0.744,
          -0.736,
          -0.768,
          -0.732,
          -0.704,
          -0.668,
          -0.684,
          -0.636,
          -0.604,
          -0.62,
          -0.66,
          -0.652,
          -0.62,
          -0.68,
          -0.636,
          -0.668,
          -0.54,
          -0.544,
          -0.624,
          -0.64
         ],
         "yaxis": "y"
        },
        {
         "hovertemplate": "variable=n* = 40000<br>Games played=%{x}<br>value=%{y}<extra></extra>",
         "legendgroup": "n* = 40000",
         "line": {
          "color": "#FFA15A",
          "dash": "solid"
         },
         "marker": {
          "symbol": "circle"
         },
         "mode": "lines",
         "name": "n* = 40000",
         "orientation": "v",
         "showlegend": true,
         "type": "scatter",
         "x": [
          0,
          250,
          500,
          750,
          1000,
          1250,
          1500,
          1750,
          2000,
          2250,
          2500,
          2750,
          3000,
          3250,
          3500,
          3750,
          4000,
          4250,
          4500,
          4750,
          5000,
          5250,
          5500,
          5750,
          6000,
          6250,
          6500,
          6750,
          7000,
          7250,
          7500,
          7750,
          8000,
          8250,
          8500,
          8750,
          9000,
          9250,
          9500,
          9750,
          10000,
          10250,
          10500,
          10750,
          11000,
          11250,
          11500,
          11750,
          12000,
          12250,
          12500,
          12750,
          13000,
          13250,
          13500,
          13750,
          14000,
          14250,
          14500,
          14750,
          15000,
          15250,
          15500,
          15750,
          16000,
          16250,
          16500,
          16750,
          17000,
          17250,
          17500,
          17750,
          18000,
          18250,
          18500,
          18750,
          19000,
          19250,
          19500,
          19750
         ],
         "xaxis": "x",
         "y": [
          -1,
          -0.964,
          -0.988,
          -0.984,
          -0.996,
          -0.972,
          -0.944,
          -0.944,
          -0.932,
          -0.964,
          -0.956,
          -0.956,
          -0.948,
          -0.952,
          -0.94,
          -0.912,
          -0.972,
          -0.944,
          -0.932,
          -0.924,
          -0.94,
          -0.908,
          -0.92,
          -0.936,
          -0.96,
          -0.952,
          -0.932,
          -0.936,
          -0.892,
          -0.92,
          -0.916,
          -0.94,
          -0.884,
          -0.86,
          -0.916,
          -0.9,
          -0.94,
          -0.916,
          -0.92,
          -0.928,
          -0.932,
          -0.9,
          -0.912,
          -0.896,
          -0.864,
          -0.904,
          -0.872,
          -0.884,
          -0.856,
          -0.872,
          -0.856,
          -0.824,
          -0.872,
          -0.876,
          -0.848,
          -0.792,
          -0.856,
          -0.832,
          -0.876,
          -0.744,
          -0.856,
          -0.768,
          -0.868,
          -0.744,
          -0.808,
          -0.784,
          -0.764,
          -0.76,
          -0.756,
          -0.804,
          -0.86,
          -0.784,
          -0.78,
          -0.692,
          -0.672,
          -0.668,
          -0.624,
          -0.708,
          -0.708,
          -0.688
         ],
         "yaxis": "y"
        },
        {
         "hovertemplate": "variable=n* = 8001<br>Games played=%{x}<br>value=%{y}<extra></extra>",
         "legendgroup": "n* = 8001",
         "line": {
          "color": "#19d3f3",
          "dash": "solid"
         },
         "marker": {
          "symbol": "circle"
         },
         "mode": "lines",
         "name": "n* = 8001",
         "orientation": "v",
         "showlegend": true,
         "type": "scatter",
         "x": [
          0,
          250,
          500,
          750,
          1000,
          1250,
          1500,
          1750,
          2000,
          2250,
          2500,
          2750,
          3000,
          3250,
          3500,
          3750,
          4000,
          4250,
          4500,
          4750,
          5000,
          5250,
          5500,
          5750,
          6000,
          6250,
          6500,
          6750,
          7000,
          7250,
          7500,
          7750,
          8000,
          8250,
          8500,
          8750,
          9000,
          9250,
          9500,
          9750,
          10000,
          10250,
          10500,
          10750,
          11000,
          11250,
          11500,
          11750,
          12000,
          12250,
          12500,
          12750,
          13000,
          13250,
          13500,
          13750,
          14000,
          14250,
          14500,
          14750,
          15000,
          15250,
          15500,
          15750,
          16000,
          16250,
          16500,
          16750,
          17000,
          17250,
          17500,
          17750,
          18000,
          18250,
          18500,
          18750,
          19000,
          19250,
          19500,
          19750
         ],
         "xaxis": "x",
         "y": [
          -1,
          -1,
          -0.988,
          -0.992,
          -0.972,
          -0.964,
          -0.984,
          -0.972,
          -0.928,
          -0.98,
          -0.94,
          -0.976,
          -0.936,
          -0.952,
          -0.96,
          -0.968,
          -0.972,
          -0.84,
          -0.876,
          -0.836,
          -0.856,
          -0.836,
          -0.752,
          -0.784,
          -0.772,
          -0.752,
          -0.732,
          -0.724,
          -0.72,
          -0.74,
          -0.732,
          -0.64,
          -0.712,
          -0.684,
          -0.636,
          -0.54,
          -0.596,
          -0.596,
          -0.588,
          -0.568,
          -0.632,
          -0.52,
          -0.572,
          -0.548,
          -0.624,
          -0.544,
          -0.376,
          -0.464,
          -0.436,
          -0.424,
          -0.388,
          -0.408,
          -0.388,
          -0.368,
          -0.412,
          -0.544,
          -0.568,
          -0.472,
          -0.376,
          -0.396,
          -0.44,
          -0.372,
          -0.408,
          -0.3,
          -0.316,
          -0.316,
          -0.288,
          -0.332,
          -0.38,
          -0.292,
          -0.34,
          -0.28,
          -0.32,
          -0.328,
          -0.316,
          -0.296,
          -0.332,
          -0.384,
          -0.388,
          -0.304
         ],
         "yaxis": "y"
        }
       ],
       "layout": {
        "legend": {
         "title": {
          "text": "variable"
         },
         "tracegroupgap": 0
        },
        "margin": {
         "t": 60
        },
        "template": {
         "data": {
          "bar": [
           {
            "error_x": {
             "color": "#2a3f5f"
            },
            "error_y": {
             "color": "#2a3f5f"
            },
            "marker": {
             "line": {
              "color": "#E5ECF6",
              "width": 0.5
             },
             "pattern": {
              "fillmode": "overlay",
              "size": 10,
              "solidity": 0.2
             }
            },
            "type": "bar"
           }
          ],
          "barpolar": [
           {
            "marker": {
             "line": {
              "color": "#E5ECF6",
              "width": 0.5
             },
             "pattern": {
              "fillmode": "overlay",
              "size": 10,
              "solidity": 0.2
             }
            },
            "type": "barpolar"
           }
          ],
          "carpet": [
           {
            "aaxis": {
             "endlinecolor": "#2a3f5f",
             "gridcolor": "white",
             "linecolor": "white",
             "minorgridcolor": "white",
             "startlinecolor": "#2a3f5f"
            },
            "baxis": {
             "endlinecolor": "#2a3f5f",
             "gridcolor": "white",
             "linecolor": "white",
             "minorgridcolor": "white",
             "startlinecolor": "#2a3f5f"
            },
            "type": "carpet"
           }
          ],
          "choropleth": [
           {
            "colorbar": {
             "outlinewidth": 0,
             "ticks": ""
            },
            "type": "choropleth"
           }
          ],
          "contour": [
           {
            "colorbar": {
             "outlinewidth": 0,
             "ticks": ""
            },
            "colorscale": [
             [
              0,
              "#0d0887"
             ],
             [
              0.1111111111111111,
              "#46039f"
             ],
             [
              0.2222222222222222,
              "#7201a8"
             ],
             [
              0.3333333333333333,
              "#9c179e"
             ],
             [
              0.4444444444444444,
              "#bd3786"
             ],
             [
              0.5555555555555556,
              "#d8576b"
             ],
             [
              0.6666666666666666,
              "#ed7953"
             ],
             [
              0.7777777777777778,
              "#fb9f3a"
             ],
             [
              0.8888888888888888,
              "#fdca26"
             ],
             [
              1,
              "#f0f921"
             ]
            ],
            "type": "contour"
           }
          ],
          "contourcarpet": [
           {
            "colorbar": {
             "outlinewidth": 0,
             "ticks": ""
            },
            "type": "contourcarpet"
           }
          ],
          "heatmap": [
           {
            "colorbar": {
             "outlinewidth": 0,
             "ticks": ""
            },
            "colorscale": [
             [
              0,
              "#0d0887"
             ],
             [
              0.1111111111111111,
              "#46039f"
             ],
             [
              0.2222222222222222,
              "#7201a8"
             ],
             [
              0.3333333333333333,
              "#9c179e"
             ],
             [
              0.4444444444444444,
              "#bd3786"
             ],
             [
              0.5555555555555556,
              "#d8576b"
             ],
             [
              0.6666666666666666,
              "#ed7953"
             ],
             [
              0.7777777777777778,
              "#fb9f3a"
             ],
             [
              0.8888888888888888,
              "#fdca26"
             ],
             [
              1,
              "#f0f921"
             ]
            ],
            "type": "heatmap"
           }
          ],
          "heatmapgl": [
           {
            "colorbar": {
             "outlinewidth": 0,
             "ticks": ""
            },
            "colorscale": [
             [
              0,
              "#0d0887"
             ],
             [
              0.1111111111111111,
              "#46039f"
             ],
             [
              0.2222222222222222,
              "#7201a8"
             ],
             [
              0.3333333333333333,
              "#9c179e"
             ],
             [
              0.4444444444444444,
              "#bd3786"
             ],
             [
              0.5555555555555556,
              "#d8576b"
             ],
             [
              0.6666666666666666,
              "#ed7953"
             ],
             [
              0.7777777777777778,
              "#fb9f3a"
             ],
             [
              0.8888888888888888,
              "#fdca26"
             ],
             [
              1,
              "#f0f921"
             ]
            ],
            "type": "heatmapgl"
           }
          ],
          "histogram": [
           {
            "marker": {
             "pattern": {
              "fillmode": "overlay",
              "size": 10,
              "solidity": 0.2
             }
            },
            "type": "histogram"
           }
          ],
          "histogram2d": [
           {
            "colorbar": {
             "outlinewidth": 0,
             "ticks": ""
            },
            "colorscale": [
             [
              0,
              "#0d0887"
             ],
             [
              0.1111111111111111,
              "#46039f"
             ],
             [
              0.2222222222222222,
              "#7201a8"
             ],
             [
              0.3333333333333333,
              "#9c179e"
             ],
             [
              0.4444444444444444,
              "#bd3786"
             ],
             [
              0.5555555555555556,
              "#d8576b"
             ],
             [
              0.6666666666666666,
              "#ed7953"
             ],
             [
              0.7777777777777778,
              "#fb9f3a"
             ],
             [
              0.8888888888888888,
              "#fdca26"
             ],
             [
              1,
              "#f0f921"
             ]
            ],
            "type": "histogram2d"
           }
          ],
          "histogram2dcontour": [
           {
            "colorbar": {
             "outlinewidth": 0,
             "ticks": ""
            },
            "colorscale": [
             [
              0,
              "#0d0887"
             ],
             [
              0.1111111111111111,
              "#46039f"
             ],
             [
              0.2222222222222222,
              "#7201a8"
             ],
             [
              0.3333333333333333,
              "#9c179e"
             ],
             [
              0.4444444444444444,
              "#bd3786"
             ],
             [
              0.5555555555555556,
              "#d8576b"
             ],
             [
              0.6666666666666666,
              "#ed7953"
             ],
             [
              0.7777777777777778,
              "#fb9f3a"
             ],
             [
              0.8888888888888888,
              "#fdca26"
             ],
             [
              1,
              "#f0f921"
             ]
            ],
            "type": "histogram2dcontour"
           }
          ],
          "mesh3d": [
           {
            "colorbar": {
             "outlinewidth": 0,
             "ticks": ""
            },
            "type": "mesh3d"
           }
          ],
          "parcoords": [
           {
            "line": {
             "colorbar": {
              "outlinewidth": 0,
              "ticks": ""
             }
            },
            "type": "parcoords"
           }
          ],
          "pie": [
           {
            "automargin": true,
            "type": "pie"
           }
          ],
          "scatter": [
           {
            "fillpattern": {
             "fillmode": "overlay",
             "size": 10,
             "solidity": 0.2
            },
            "type": "scatter"
           }
          ],
          "scatter3d": [
           {
            "line": {
             "colorbar": {
              "outlinewidth": 0,
              "ticks": ""
             }
            },
            "marker": {
             "colorbar": {
              "outlinewidth": 0,
              "ticks": ""
             }
            },
            "type": "scatter3d"
           }
          ],
          "scattercarpet": [
           {
            "marker": {
             "colorbar": {
              "outlinewidth": 0,
              "ticks": ""
             }
            },
            "type": "scattercarpet"
           }
          ],
          "scattergeo": [
           {
            "marker": {
             "colorbar": {
              "outlinewidth": 0,
              "ticks": ""
             }
            },
            "type": "scattergeo"
           }
          ],
          "scattergl": [
           {
            "marker": {
             "colorbar": {
              "outlinewidth": 0,
              "ticks": ""
             }
            },
            "type": "scattergl"
           }
          ],
          "scattermapbox": [
           {
            "marker": {
             "colorbar": {
              "outlinewidth": 0,
              "ticks": ""
             }
            },
            "type": "scattermapbox"
           }
          ],
          "scatterpolar": [
           {
            "marker": {
             "colorbar": {
              "outlinewidth": 0,
              "ticks": ""
             }
            },
            "type": "scatterpolar"
           }
          ],
          "scatterpolargl": [
           {
            "marker": {
             "colorbar": {
              "outlinewidth": 0,
              "ticks": ""
             }
            },
            "type": "scatterpolargl"
           }
          ],
          "scatterternary": [
           {
            "marker": {
             "colorbar": {
              "outlinewidth": 0,
              "ticks": ""
             }
            },
            "type": "scatterternary"
           }
          ],
          "surface": [
           {
            "colorbar": {
             "outlinewidth": 0,
             "ticks": ""
            },
            "colorscale": [
             [
              0,
              "#0d0887"
             ],
             [
              0.1111111111111111,
              "#46039f"
             ],
             [
              0.2222222222222222,
              "#7201a8"
             ],
             [
              0.3333333333333333,
              "#9c179e"
             ],
             [
              0.4444444444444444,
              "#bd3786"
             ],
             [
              0.5555555555555556,
              "#d8576b"
             ],
             [
              0.6666666666666666,
              "#ed7953"
             ],
             [
              0.7777777777777778,
              "#fb9f3a"
             ],
             [
              0.8888888888888888,
              "#fdca26"
             ],
             [
              1,
              "#f0f921"
             ]
            ],
            "type": "surface"
           }
          ],
          "table": [
           {
            "cells": {
             "fill": {
              "color": "#EBF0F8"
             },
             "line": {
              "color": "white"
             }
            },
            "header": {
             "fill": {
              "color": "#C8D4E3"
             },
             "line": {
              "color": "white"
             }
            },
            "type": "table"
           }
          ]
         },
         "layout": {
          "annotationdefaults": {
           "arrowcolor": "#2a3f5f",
           "arrowhead": 0,
           "arrowwidth": 1
          },
          "autotypenumbers": "strict",
          "coloraxis": {
           "colorbar": {
            "outlinewidth": 0,
            "ticks": ""
           }
          },
          "colorscale": {
           "diverging": [
            [
             0,
             "#8e0152"
            ],
            [
             0.1,
             "#c51b7d"
            ],
            [
             0.2,
             "#de77ae"
            ],
            [
             0.3,
             "#f1b6da"
            ],
            [
             0.4,
             "#fde0ef"
            ],
            [
             0.5,
             "#f7f7f7"
            ],
            [
             0.6,
             "#e6f5d0"
            ],
            [
             0.7,
             "#b8e186"
            ],
            [
             0.8,
             "#7fbc41"
            ],
            [
             0.9,
             "#4d9221"
            ],
            [
             1,
             "#276419"
            ]
           ],
           "sequential": [
            [
             0,
             "#0d0887"
            ],
            [
             0.1111111111111111,
             "#46039f"
            ],
            [
             0.2222222222222222,
             "#7201a8"
            ],
            [
             0.3333333333333333,
             "#9c179e"
            ],
            [
             0.4444444444444444,
             "#bd3786"
            ],
            [
             0.5555555555555556,
             "#d8576b"
            ],
            [
             0.6666666666666666,
             "#ed7953"
            ],
            [
             0.7777777777777778,
             "#fb9f3a"
            ],
            [
             0.8888888888888888,
             "#fdca26"
            ],
            [
             1,
             "#f0f921"
            ]
           ],
           "sequentialminus": [
            [
             0,
             "#0d0887"
            ],
            [
             0.1111111111111111,
             "#46039f"
            ],
            [
             0.2222222222222222,
             "#7201a8"
            ],
            [
             0.3333333333333333,
             "#9c179e"
            ],
            [
             0.4444444444444444,
             "#bd3786"
            ],
            [
             0.5555555555555556,
             "#d8576b"
            ],
            [
             0.6666666666666666,
             "#ed7953"
            ],
            [
             0.7777777777777778,
             "#fb9f3a"
            ],
            [
             0.8888888888888888,
             "#fdca26"
            ],
            [
             1,
             "#f0f921"
            ]
           ]
          },
          "colorway": [
           "#636efa",
           "#EF553B",
           "#00cc96",
           "#ab63fa",
           "#FFA15A",
           "#19d3f3",
           "#FF6692",
           "#B6E880",
           "#FF97FF",
           "#FECB52"
          ],
          "font": {
           "color": "#2a3f5f"
          },
          "geo": {
           "bgcolor": "white",
           "lakecolor": "white",
           "landcolor": "#E5ECF6",
           "showlakes": true,
           "showland": true,
           "subunitcolor": "white"
          },
          "hoverlabel": {
           "align": "left"
          },
          "hovermode": "closest",
          "mapbox": {
           "style": "light"
          },
          "paper_bgcolor": "white",
          "plot_bgcolor": "#E5ECF6",
          "polar": {
           "angularaxis": {
            "gridcolor": "white",
            "linecolor": "white",
            "ticks": ""
           },
           "bgcolor": "#E5ECF6",
           "radialaxis": {
            "gridcolor": "white",
            "linecolor": "white",
            "ticks": ""
           }
          },
          "scene": {
           "xaxis": {
            "backgroundcolor": "#E5ECF6",
            "gridcolor": "white",
            "gridwidth": 2,
            "linecolor": "white",
            "showbackground": true,
            "ticks": "",
            "zerolinecolor": "white"
           },
           "yaxis": {
            "backgroundcolor": "#E5ECF6",
            "gridcolor": "white",
            "gridwidth": 2,
            "linecolor": "white",
            "showbackground": true,
            "ticks": "",
            "zerolinecolor": "white"
           },
           "zaxis": {
            "backgroundcolor": "#E5ECF6",
            "gridcolor": "white",
            "gridwidth": 2,
            "linecolor": "white",
            "showbackground": true,
            "ticks": "",
            "zerolinecolor": "white"
           }
          },
          "shapedefaults": {
           "line": {
            "color": "#2a3f5f"
           }
          },
          "ternary": {
           "aaxis": {
            "gridcolor": "white",
            "linecolor": "white",
            "ticks": ""
           },
           "baxis": {
            "gridcolor": "white",
            "linecolor": "white",
            "ticks": ""
           },
           "bgcolor": "#E5ECF6",
           "caxis": {
            "gridcolor": "white",
            "linecolor": "white",
            "ticks": ""
           }
          },
          "title": {
           "x": 0.05
          },
          "xaxis": {
           "automargin": true,
           "gridcolor": "white",
           "linecolor": "white",
           "ticks": "",
           "title": {
            "standoff": 15
           },
           "zerolinecolor": "white",
           "zerolinewidth": 2
          },
          "yaxis": {
           "automargin": true,
           "gridcolor": "white",
           "linecolor": "white",
           "ticks": "",
           "title": {
            "standoff": 15
           },
           "zerolinecolor": "white",
           "zerolinewidth": 2
          }
         }
        },
        "width": 800,
        "xaxis": {
         "anchor": "y",
         "domain": [
          0,
          1
         ],
         "title": {
          "text": "Games played"
         }
        },
        "yaxis": {
         "anchor": "x",
         "domain": [
          0,
          1
         ],
         "title": {
          "text": "Mopt"
         }
        }
       }
      }
     },
     "metadata": {},
     "output_type": "display_data"
    },
    {
     "data": {
      "application/vnd.plotly.v1+json": {
       "config": {
        "plotlyServerURL": "https://plot.ly"
       },
       "data": [
        {
         "hovertemplate": "variable=n* = 1<br>Games played=%{x}<br>value=%{y}<extra></extra>",
         "legendgroup": "n* = 1",
         "line": {
          "color": "#636efa",
          "dash": "solid"
         },
         "marker": {
          "symbol": "circle"
         },
         "mode": "lines",
         "name": "n* = 1",
         "orientation": "v",
         "showlegend": true,
         "type": "scatter",
         "x": [
          0,
          250,
          500,
          750,
          1000,
          1250,
          1500,
          1750,
          2000,
          2250,
          2500,
          2750,
          3000,
          3250,
          3500,
          3750,
          4000,
          4250,
          4500,
          4750,
          5000,
          5250,
          5500,
          5750,
          6000,
          6250,
          6500,
          6750,
          7000,
          7250,
          7500,
          7750,
          8000,
          8250,
          8500,
          8750,
          9000,
          9250,
          9500,
          9750,
          10000,
          10250,
          10500,
          10750,
          11000,
          11250,
          11500,
          11750,
          12000,
          12250,
          12500,
          12750,
          13000,
          13250,
          13500,
          13750,
          14000,
          14250,
          14500,
          14750,
          15000,
          15250,
          15500,
          15750,
          16000,
          16250,
          16500,
          16750,
          17000,
          17250,
          17500,
          17750,
          18000,
          18250,
          18500,
          18750,
          19000,
          19250,
          19500,
          19750
         ],
         "xaxis": "x",
         "y": [
          0.124,
          0.364,
          0.376,
          0.616,
          0.46,
          0.512,
          0.636,
          0.804,
          0.78,
          0.78,
          0.64,
          0.744,
          0.784,
          0.784,
          0.728,
          0.836,
          0.808,
          0.896,
          0.852,
          0.9,
          0.86,
          0.904,
          0.852,
          0.924,
          0.796,
          0.916,
          0.896,
          0.932,
          0.952,
          0.9,
          0.908,
          0.952,
          0.86,
          0.92,
          0.88,
          0.904,
          0.944,
          0.9,
          0.952,
          0.92,
          0.916,
          0.92,
          0.944,
          0.9,
          0.944,
          0.972,
          0.964,
          0.924,
          0.96,
          0.956,
          0.964,
          0.94,
          0.944,
          0.956,
          0.968,
          0.904,
          0.928,
          0.904,
          0.864,
          0.924,
          0.928,
          0.972,
          0.944,
          0.884,
          0.912,
          0.956,
          0.98,
          0.948,
          0.9,
          0.972,
          0.964,
          0.92,
          0.916,
          0.936,
          0.956,
          0.968,
          0.94,
          0.944,
          0.96,
          0.964
         ],
         "yaxis": "y"
        },
        {
         "hovertemplate": "variable=n* = 16001<br>Games played=%{x}<br>value=%{y}<extra></extra>",
         "legendgroup": "n* = 16001",
         "line": {
          "color": "#EF553B",
          "dash": "solid"
         },
         "marker": {
          "symbol": "circle"
         },
         "mode": "lines",
         "name": "n* = 16001",
         "orientation": "v",
         "showlegend": true,
         "type": "scatter",
         "x": [
          0,
          250,
          500,
          750,
          1000,
          1250,
          1500,
          1750,
          2000,
          2250,
          2500,
          2750,
          3000,
          3250,
          3500,
          3750,
          4000,
          4250,
          4500,
          4750,
          5000,
          5250,
          5500,
          5750,
          6000,
          6250,
          6500,
          6750,
          7000,
          7250,
          7500,
          7750,
          8000,
          8250,
          8500,
          8750,
          9000,
          9250,
          9500,
          9750,
          10000,
          10250,
          10500,
          10750,
          11000,
          11250,
          11500,
          11750,
          12000,
          12250,
          12500,
          12750,
          13000,
          13250,
          13500,
          13750,
          14000,
          14250,
          14500,
          14750,
          15000,
          15250,
          15500,
          15750,
          16000,
          16250,
          16500,
          16750,
          17000,
          17250,
          17500,
          17750,
          18000,
          18250,
          18500,
          18750,
          19000,
          19250,
          19500,
          19750
         ],
         "xaxis": "x",
         "y": [
          0.056,
          0.448,
          0.548,
          0.58,
          0.644,
          0.728,
          0.732,
          0.748,
          0.788,
          0.776,
          0.828,
          0.804,
          0.844,
          0.852,
          0.796,
          0.876,
          0.896,
          0.892,
          0.912,
          0.94,
          0.844,
          0.884,
          0.86,
          0.908,
          0.88,
          0.908,
          0.972,
          0.936,
          0.932,
          0.908,
          0.84,
          0.944,
          0.952,
          0.944,
          0.94,
          0.944,
          0.932,
          0.964,
          0.964,
          0.888,
          0.868,
          0.952,
          0.936,
          0.988,
          0.968,
          0.96,
          0.948,
          0.98,
          0.948,
          0.952,
          0.936,
          0.972,
          0.972,
          0.952,
          0.956,
          0.968,
          0.92,
          0.976,
          0.956,
          0.928,
          0.936,
          0.964,
          0.924,
          0.948,
          0.94,
          0.924,
          0.924,
          0.94,
          0.96,
          0.94,
          0.952,
          0.944,
          0.976,
          0.972,
          0.948,
          0.964,
          0.9,
          0.904,
          0.964,
          0.936
         ],
         "yaxis": "y"
        },
        {
         "hovertemplate": "variable=n* = 24000<br>Games played=%{x}<br>value=%{y}<extra></extra>",
         "legendgroup": "n* = 24000",
         "line": {
          "color": "#00cc96",
          "dash": "solid"
         },
         "marker": {
          "symbol": "circle"
         },
         "mode": "lines",
         "name": "n* = 24000",
         "orientation": "v",
         "showlegend": true,
         "type": "scatter",
         "x": [
          0,
          250,
          500,
          750,
          1000,
          1250,
          1500,
          1750,
          2000,
          2250,
          2500,
          2750,
          3000,
          3250,
          3500,
          3750,
          4000,
          4250,
          4500,
          4750,
          5000,
          5250,
          5500,
          5750,
          6000,
          6250,
          6500,
          6750,
          7000,
          7250,
          7500,
          7750,
          8000,
          8250,
          8500,
          8750,
          9000,
          9250,
          9500,
          9750,
          10000,
          10250,
          10500,
          10750,
          11000,
          11250,
          11500,
          11750,
          12000,
          12250,
          12500,
          12750,
          13000,
          13250,
          13500,
          13750,
          14000,
          14250,
          14500,
          14750,
          15000,
          15250,
          15500,
          15750,
          16000,
          16250,
          16500,
          16750,
          17000,
          17250,
          17500,
          17750,
          18000,
          18250,
          18500,
          18750,
          19000,
          19250,
          19500,
          19750
         ],
         "xaxis": "x",
         "y": [
          -0.02,
          0.356,
          0.712,
          0.596,
          0.74,
          0.672,
          0.812,
          0.772,
          0.864,
          0.852,
          0.836,
          0.864,
          0.668,
          0.78,
          0.836,
          0.828,
          0.648,
          0.832,
          0.796,
          0.884,
          0.888,
          0.936,
          0.92,
          0.904,
          0.876,
          0.92,
          0.848,
          0.864,
          0.884,
          0.928,
          0.896,
          0.88,
          0.948,
          0.852,
          0.924,
          0.94,
          0.94,
          0.92,
          0.9,
          0.908,
          0.948,
          0.892,
          0.892,
          0.948,
          0.924,
          0.92,
          0.888,
          0.892,
          0.94,
          0.976,
          0.892,
          0.928,
          0.94,
          0.956,
          0.948,
          0.932,
          0.956,
          0.964,
          0.928,
          0.948,
          0.944,
          0.944,
          0.944,
          0.976,
          0.976,
          0.808,
          0.944,
          0.944,
          0.94,
          0.956,
          0.956,
          0.952,
          0.964,
          0.964,
          0.96,
          0.968,
          0.976,
          0.976,
          0.94,
          0.972
         ],
         "yaxis": "y"
        },
        {
         "hovertemplate": "variable=n* = 32000<br>Games played=%{x}<br>value=%{y}<extra></extra>",
         "legendgroup": "n* = 32000",
         "line": {
          "color": "#ab63fa",
          "dash": "solid"
         },
         "marker": {
          "symbol": "circle"
         },
         "mode": "lines",
         "name": "n* = 32000",
         "orientation": "v",
         "showlegend": true,
         "type": "scatter",
         "x": [
          0,
          250,
          500,
          750,
          1000,
          1250,
          1500,
          1750,
          2000,
          2250,
          2500,
          2750,
          3000,
          3250,
          3500,
          3750,
          4000,
          4250,
          4500,
          4750,
          5000,
          5250,
          5500,
          5750,
          6000,
          6250,
          6500,
          6750,
          7000,
          7250,
          7500,
          7750,
          8000,
          8250,
          8500,
          8750,
          9000,
          9250,
          9500,
          9750,
          10000,
          10250,
          10500,
          10750,
          11000,
          11250,
          11500,
          11750,
          12000,
          12250,
          12500,
          12750,
          13000,
          13250,
          13500,
          13750,
          14000,
          14250,
          14500,
          14750,
          15000,
          15250,
          15500,
          15750,
          16000,
          16250,
          16500,
          16750,
          17000,
          17250,
          17500,
          17750,
          18000,
          18250,
          18500,
          18750,
          19000,
          19250,
          19500,
          19750
         ],
         "xaxis": "x",
         "y": [
          -0.052,
          0.456,
          0.552,
          0.656,
          0.652,
          0.612,
          0.8,
          0.708,
          0.768,
          0.8,
          0.828,
          0.776,
          0.756,
          0.768,
          0.864,
          0.892,
          0.884,
          0.796,
          0.784,
          0.836,
          0.86,
          0.856,
          0.836,
          0.86,
          0.9,
          0.84,
          0.912,
          0.912,
          0.904,
          0.896,
          0.54,
          0.896,
          0.916,
          0.62,
          0.928,
          0.916,
          0.872,
          0.928,
          0.86,
          0.952,
          0.904,
          0.864,
          0.94,
          0.908,
          0.564,
          0.476,
          0.92,
          0.948,
          0.924,
          0.896,
          0.84,
          0.936,
          0.912,
          0.884,
          0.936,
          0.952,
          0.936,
          0.948,
          0.924,
          0.924,
          0.968,
          0.924,
          0.98,
          0.976,
          0.936,
          0.896,
          0.944,
          0.932,
          0.956,
          0.96,
          0.964,
          0.892,
          0.908,
          0.928,
          0.904,
          0.928,
          0.928,
          0.96,
          0.92,
          0.952
         ],
         "yaxis": "y"
        },
        {
         "hovertemplate": "variable=n* = 40000<br>Games played=%{x}<br>value=%{y}<extra></extra>",
         "legendgroup": "n* = 40000",
         "line": {
          "color": "#FFA15A",
          "dash": "solid"
         },
         "marker": {
          "symbol": "circle"
         },
         "mode": "lines",
         "name": "n* = 40000",
         "orientation": "v",
         "showlegend": true,
         "type": "scatter",
         "x": [
          0,
          250,
          500,
          750,
          1000,
          1250,
          1500,
          1750,
          2000,
          2250,
          2500,
          2750,
          3000,
          3250,
          3500,
          3750,
          4000,
          4250,
          4500,
          4750,
          5000,
          5250,
          5500,
          5750,
          6000,
          6250,
          6500,
          6750,
          7000,
          7250,
          7500,
          7750,
          8000,
          8250,
          8500,
          8750,
          9000,
          9250,
          9500,
          9750,
          10000,
          10250,
          10500,
          10750,
          11000,
          11250,
          11500,
          11750,
          12000,
          12250,
          12500,
          12750,
          13000,
          13250,
          13500,
          13750,
          14000,
          14250,
          14500,
          14750,
          15000,
          15250,
          15500,
          15750,
          16000,
          16250,
          16500,
          16750,
          17000,
          17250,
          17500,
          17750,
          18000,
          18250,
          18500,
          18750,
          19000,
          19250,
          19500,
          19750
         ],
         "xaxis": "x",
         "y": [
          0.2,
          0.448,
          0.552,
          0.596,
          0.704,
          0.8,
          0.792,
          0.852,
          0.872,
          0.792,
          0.792,
          0.772,
          0.8,
          0.812,
          0.832,
          0.776,
          0.796,
          0.796,
          0.892,
          0.876,
          0.88,
          0.82,
          0.824,
          0.812,
          0.852,
          0.816,
          0.868,
          0.896,
          0.848,
          0.784,
          0.82,
          0.86,
          0.876,
          0.788,
          0.864,
          0.844,
          0.796,
          0.888,
          0.872,
          0.892,
          0.836,
          0.888,
          0.892,
          0.788,
          0.896,
          0.896,
          0.888,
          0.9,
          0.468,
          0.852,
          0.892,
          0.916,
          0.892,
          0.868,
          0.896,
          0.96,
          0.912,
          0.912,
          0.924,
          0.924,
          0.9,
          0.916,
          0.912,
          0.928,
          0.908,
          0.924,
          0.944,
          0.892,
          0.892,
          0.904,
          0.82,
          0.944,
          0.94,
          0.94,
          0.96,
          0.9,
          0.5,
          0.872,
          0.952,
          0.916
         ],
         "yaxis": "y"
        },
        {
         "hovertemplate": "variable=n* = 8001<br>Games played=%{x}<br>value=%{y}<extra></extra>",
         "legendgroup": "n* = 8001",
         "line": {
          "color": "#19d3f3",
          "dash": "solid"
         },
         "marker": {
          "symbol": "circle"
         },
         "mode": "lines",
         "name": "n* = 8001",
         "orientation": "v",
         "showlegend": true,
         "type": "scatter",
         "x": [
          0,
          250,
          500,
          750,
          1000,
          1250,
          1500,
          1750,
          2000,
          2250,
          2500,
          2750,
          3000,
          3250,
          3500,
          3750,
          4000,
          4250,
          4500,
          4750,
          5000,
          5250,
          5500,
          5750,
          6000,
          6250,
          6500,
          6750,
          7000,
          7250,
          7500,
          7750,
          8000,
          8250,
          8500,
          8750,
          9000,
          9250,
          9500,
          9750,
          10000,
          10250,
          10500,
          10750,
          11000,
          11250,
          11500,
          11750,
          12000,
          12250,
          12500,
          12750,
          13000,
          13250,
          13500,
          13750,
          14000,
          14250,
          14500,
          14750,
          15000,
          15250,
          15500,
          15750,
          16000,
          16250,
          16500,
          16750,
          17000,
          17250,
          17500,
          17750,
          18000,
          18250,
          18500,
          18750,
          19000,
          19250,
          19500,
          19750
         ],
         "xaxis": "x",
         "y": [
          0.012,
          0.48,
          0.588,
          0.572,
          0.764,
          0.748,
          0.816,
          0.824,
          0.716,
          0.776,
          0.86,
          0.872,
          0.936,
          0.876,
          0.784,
          0.48,
          0.82,
          0.852,
          0.924,
          0.868,
          0.936,
          0.936,
          0.9,
          0.916,
          0.928,
          0.964,
          0.964,
          0.904,
          0.92,
          0.956,
          0.936,
          0.936,
          0.928,
          0.968,
          0.904,
          0.928,
          0.956,
          0.968,
          0.972,
          0.948,
          0.956,
          0.896,
          0.92,
          0.952,
          0.892,
          0.932,
          0.936,
          0.972,
          0.976,
          0.956,
          0.92,
          0.964,
          0.936,
          0.904,
          0.948,
          0.92,
          0.96,
          0.972,
          0.964,
          0.948,
          0.972,
          0.96,
          0.952,
          0.884,
          0.968,
          0.992,
          0.944,
          0.956,
          0.96,
          0.956,
          0.932,
          0.964,
          0.976,
          0.952,
          0.98,
          0.968,
          0.952,
          0.952,
          0.876,
          0.932
         ],
         "yaxis": "y"
        }
       ],
       "layout": {
        "legend": {
         "title": {
          "text": "variable"
         },
         "tracegroupgap": 0
        },
        "margin": {
         "t": 60
        },
        "template": {
         "data": {
          "bar": [
           {
            "error_x": {
             "color": "#2a3f5f"
            },
            "error_y": {
             "color": "#2a3f5f"
            },
            "marker": {
             "line": {
              "color": "#E5ECF6",
              "width": 0.5
             },
             "pattern": {
              "fillmode": "overlay",
              "size": 10,
              "solidity": 0.2
             }
            },
            "type": "bar"
           }
          ],
          "barpolar": [
           {
            "marker": {
             "line": {
              "color": "#E5ECF6",
              "width": 0.5
             },
             "pattern": {
              "fillmode": "overlay",
              "size": 10,
              "solidity": 0.2
             }
            },
            "type": "barpolar"
           }
          ],
          "carpet": [
           {
            "aaxis": {
             "endlinecolor": "#2a3f5f",
             "gridcolor": "white",
             "linecolor": "white",
             "minorgridcolor": "white",
             "startlinecolor": "#2a3f5f"
            },
            "baxis": {
             "endlinecolor": "#2a3f5f",
             "gridcolor": "white",
             "linecolor": "white",
             "minorgridcolor": "white",
             "startlinecolor": "#2a3f5f"
            },
            "type": "carpet"
           }
          ],
          "choropleth": [
           {
            "colorbar": {
             "outlinewidth": 0,
             "ticks": ""
            },
            "type": "choropleth"
           }
          ],
          "contour": [
           {
            "colorbar": {
             "outlinewidth": 0,
             "ticks": ""
            },
            "colorscale": [
             [
              0,
              "#0d0887"
             ],
             [
              0.1111111111111111,
              "#46039f"
             ],
             [
              0.2222222222222222,
              "#7201a8"
             ],
             [
              0.3333333333333333,
              "#9c179e"
             ],
             [
              0.4444444444444444,
              "#bd3786"
             ],
             [
              0.5555555555555556,
              "#d8576b"
             ],
             [
              0.6666666666666666,
              "#ed7953"
             ],
             [
              0.7777777777777778,
              "#fb9f3a"
             ],
             [
              0.8888888888888888,
              "#fdca26"
             ],
             [
              1,
              "#f0f921"
             ]
            ],
            "type": "contour"
           }
          ],
          "contourcarpet": [
           {
            "colorbar": {
             "outlinewidth": 0,
             "ticks": ""
            },
            "type": "contourcarpet"
           }
          ],
          "heatmap": [
           {
            "colorbar": {
             "outlinewidth": 0,
             "ticks": ""
            },
            "colorscale": [
             [
              0,
              "#0d0887"
             ],
             [
              0.1111111111111111,
              "#46039f"
             ],
             [
              0.2222222222222222,
              "#7201a8"
             ],
             [
              0.3333333333333333,
              "#9c179e"
             ],
             [
              0.4444444444444444,
              "#bd3786"
             ],
             [
              0.5555555555555556,
              "#d8576b"
             ],
             [
              0.6666666666666666,
              "#ed7953"
             ],
             [
              0.7777777777777778,
              "#fb9f3a"
             ],
             [
              0.8888888888888888,
              "#fdca26"
             ],
             [
              1,
              "#f0f921"
             ]
            ],
            "type": "heatmap"
           }
          ],
          "heatmapgl": [
           {
            "colorbar": {
             "outlinewidth": 0,
             "ticks": ""
            },
            "colorscale": [
             [
              0,
              "#0d0887"
             ],
             [
              0.1111111111111111,
              "#46039f"
             ],
             [
              0.2222222222222222,
              "#7201a8"
             ],
             [
              0.3333333333333333,
              "#9c179e"
             ],
             [
              0.4444444444444444,
              "#bd3786"
             ],
             [
              0.5555555555555556,
              "#d8576b"
             ],
             [
              0.6666666666666666,
              "#ed7953"
             ],
             [
              0.7777777777777778,
              "#fb9f3a"
             ],
             [
              0.8888888888888888,
              "#fdca26"
             ],
             [
              1,
              "#f0f921"
             ]
            ],
            "type": "heatmapgl"
           }
          ],
          "histogram": [
           {
            "marker": {
             "pattern": {
              "fillmode": "overlay",
              "size": 10,
              "solidity": 0.2
             }
            },
            "type": "histogram"
           }
          ],
          "histogram2d": [
           {
            "colorbar": {
             "outlinewidth": 0,
             "ticks": ""
            },
            "colorscale": [
             [
              0,
              "#0d0887"
             ],
             [
              0.1111111111111111,
              "#46039f"
             ],
             [
              0.2222222222222222,
              "#7201a8"
             ],
             [
              0.3333333333333333,
              "#9c179e"
             ],
             [
              0.4444444444444444,
              "#bd3786"
             ],
             [
              0.5555555555555556,
              "#d8576b"
             ],
             [
              0.6666666666666666,
              "#ed7953"
             ],
             [
              0.7777777777777778,
              "#fb9f3a"
             ],
             [
              0.8888888888888888,
              "#fdca26"
             ],
             [
              1,
              "#f0f921"
             ]
            ],
            "type": "histogram2d"
           }
          ],
          "histogram2dcontour": [
           {
            "colorbar": {
             "outlinewidth": 0,
             "ticks": ""
            },
            "colorscale": [
             [
              0,
              "#0d0887"
             ],
             [
              0.1111111111111111,
              "#46039f"
             ],
             [
              0.2222222222222222,
              "#7201a8"
             ],
             [
              0.3333333333333333,
              "#9c179e"
             ],
             [
              0.4444444444444444,
              "#bd3786"
             ],
             [
              0.5555555555555556,
              "#d8576b"
             ],
             [
              0.6666666666666666,
              "#ed7953"
             ],
             [
              0.7777777777777778,
              "#fb9f3a"
             ],
             [
              0.8888888888888888,
              "#fdca26"
             ],
             [
              1,
              "#f0f921"
             ]
            ],
            "type": "histogram2dcontour"
           }
          ],
          "mesh3d": [
           {
            "colorbar": {
             "outlinewidth": 0,
             "ticks": ""
            },
            "type": "mesh3d"
           }
          ],
          "parcoords": [
           {
            "line": {
             "colorbar": {
              "outlinewidth": 0,
              "ticks": ""
             }
            },
            "type": "parcoords"
           }
          ],
          "pie": [
           {
            "automargin": true,
            "type": "pie"
           }
          ],
          "scatter": [
           {
            "fillpattern": {
             "fillmode": "overlay",
             "size": 10,
             "solidity": 0.2
            },
            "type": "scatter"
           }
          ],
          "scatter3d": [
           {
            "line": {
             "colorbar": {
              "outlinewidth": 0,
              "ticks": ""
             }
            },
            "marker": {
             "colorbar": {
              "outlinewidth": 0,
              "ticks": ""
             }
            },
            "type": "scatter3d"
           }
          ],
          "scattercarpet": [
           {
            "marker": {
             "colorbar": {
              "outlinewidth": 0,
              "ticks": ""
             }
            },
            "type": "scattercarpet"
           }
          ],
          "scattergeo": [
           {
            "marker": {
             "colorbar": {
              "outlinewidth": 0,
              "ticks": ""
             }
            },
            "type": "scattergeo"
           }
          ],
          "scattergl": [
           {
            "marker": {
             "colorbar": {
              "outlinewidth": 0,
              "ticks": ""
             }
            },
            "type": "scattergl"
           }
          ],
          "scattermapbox": [
           {
            "marker": {
             "colorbar": {
              "outlinewidth": 0,
              "ticks": ""
             }
            },
            "type": "scattermapbox"
           }
          ],
          "scatterpolar": [
           {
            "marker": {
             "colorbar": {
              "outlinewidth": 0,
              "ticks": ""
             }
            },
            "type": "scatterpolar"
           }
          ],
          "scatterpolargl": [
           {
            "marker": {
             "colorbar": {
              "outlinewidth": 0,
              "ticks": ""
             }
            },
            "type": "scatterpolargl"
           }
          ],
          "scatterternary": [
           {
            "marker": {
             "colorbar": {
              "outlinewidth": 0,
              "ticks": ""
             }
            },
            "type": "scatterternary"
           }
          ],
          "surface": [
           {
            "colorbar": {
             "outlinewidth": 0,
             "ticks": ""
            },
            "colorscale": [
             [
              0,
              "#0d0887"
             ],
             [
              0.1111111111111111,
              "#46039f"
             ],
             [
              0.2222222222222222,
              "#7201a8"
             ],
             [
              0.3333333333333333,
              "#9c179e"
             ],
             [
              0.4444444444444444,
              "#bd3786"
             ],
             [
              0.5555555555555556,
              "#d8576b"
             ],
             [
              0.6666666666666666,
              "#ed7953"
             ],
             [
              0.7777777777777778,
              "#fb9f3a"
             ],
             [
              0.8888888888888888,
              "#fdca26"
             ],
             [
              1,
              "#f0f921"
             ]
            ],
            "type": "surface"
           }
          ],
          "table": [
           {
            "cells": {
             "fill": {
              "color": "#EBF0F8"
             },
             "line": {
              "color": "white"
             }
            },
            "header": {
             "fill": {
              "color": "#C8D4E3"
             },
             "line": {
              "color": "white"
             }
            },
            "type": "table"
           }
          ]
         },
         "layout": {
          "annotationdefaults": {
           "arrowcolor": "#2a3f5f",
           "arrowhead": 0,
           "arrowwidth": 1
          },
          "autotypenumbers": "strict",
          "coloraxis": {
           "colorbar": {
            "outlinewidth": 0,
            "ticks": ""
           }
          },
          "colorscale": {
           "diverging": [
            [
             0,
             "#8e0152"
            ],
            [
             0.1,
             "#c51b7d"
            ],
            [
             0.2,
             "#de77ae"
            ],
            [
             0.3,
             "#f1b6da"
            ],
            [
             0.4,
             "#fde0ef"
            ],
            [
             0.5,
             "#f7f7f7"
            ],
            [
             0.6,
             "#e6f5d0"
            ],
            [
             0.7,
             "#b8e186"
            ],
            [
             0.8,
             "#7fbc41"
            ],
            [
             0.9,
             "#4d9221"
            ],
            [
             1,
             "#276419"
            ]
           ],
           "sequential": [
            [
             0,
             "#0d0887"
            ],
            [
             0.1111111111111111,
             "#46039f"
            ],
            [
             0.2222222222222222,
             "#7201a8"
            ],
            [
             0.3333333333333333,
             "#9c179e"
            ],
            [
             0.4444444444444444,
             "#bd3786"
            ],
            [
             0.5555555555555556,
             "#d8576b"
            ],
            [
             0.6666666666666666,
             "#ed7953"
            ],
            [
             0.7777777777777778,
             "#fb9f3a"
            ],
            [
             0.8888888888888888,
             "#fdca26"
            ],
            [
             1,
             "#f0f921"
            ]
           ],
           "sequentialminus": [
            [
             0,
             "#0d0887"
            ],
            [
             0.1111111111111111,
             "#46039f"
            ],
            [
             0.2222222222222222,
             "#7201a8"
            ],
            [
             0.3333333333333333,
             "#9c179e"
            ],
            [
             0.4444444444444444,
             "#bd3786"
            ],
            [
             0.5555555555555556,
             "#d8576b"
            ],
            [
             0.6666666666666666,
             "#ed7953"
            ],
            [
             0.7777777777777778,
             "#fb9f3a"
            ],
            [
             0.8888888888888888,
             "#fdca26"
            ],
            [
             1,
             "#f0f921"
            ]
           ]
          },
          "colorway": [
           "#636efa",
           "#EF553B",
           "#00cc96",
           "#ab63fa",
           "#FFA15A",
           "#19d3f3",
           "#FF6692",
           "#B6E880",
           "#FF97FF",
           "#FECB52"
          ],
          "font": {
           "color": "#2a3f5f"
          },
          "geo": {
           "bgcolor": "white",
           "lakecolor": "white",
           "landcolor": "#E5ECF6",
           "showlakes": true,
           "showland": true,
           "subunitcolor": "white"
          },
          "hoverlabel": {
           "align": "left"
          },
          "hovermode": "closest",
          "mapbox": {
           "style": "light"
          },
          "paper_bgcolor": "white",
          "plot_bgcolor": "#E5ECF6",
          "polar": {
           "angularaxis": {
            "gridcolor": "white",
            "linecolor": "white",
            "ticks": ""
           },
           "bgcolor": "#E5ECF6",
           "radialaxis": {
            "gridcolor": "white",
            "linecolor": "white",
            "ticks": ""
           }
          },
          "scene": {
           "xaxis": {
            "backgroundcolor": "#E5ECF6",
            "gridcolor": "white",
            "gridwidth": 2,
            "linecolor": "white",
            "showbackground": true,
            "ticks": "",
            "zerolinecolor": "white"
           },
           "yaxis": {
            "backgroundcolor": "#E5ECF6",
            "gridcolor": "white",
            "gridwidth": 2,
            "linecolor": "white",
            "showbackground": true,
            "ticks": "",
            "zerolinecolor": "white"
           },
           "zaxis": {
            "backgroundcolor": "#E5ECF6",
            "gridcolor": "white",
            "gridwidth": 2,
            "linecolor": "white",
            "showbackground": true,
            "ticks": "",
            "zerolinecolor": "white"
           }
          },
          "shapedefaults": {
           "line": {
            "color": "#2a3f5f"
           }
          },
          "ternary": {
           "aaxis": {
            "gridcolor": "white",
            "linecolor": "white",
            "ticks": ""
           },
           "baxis": {
            "gridcolor": "white",
            "linecolor": "white",
            "ticks": ""
           },
           "bgcolor": "#E5ECF6",
           "caxis": {
            "gridcolor": "white",
            "linecolor": "white",
            "ticks": ""
           }
          },
          "title": {
           "x": 0.05
          },
          "xaxis": {
           "automargin": true,
           "gridcolor": "white",
           "linecolor": "white",
           "ticks": "",
           "title": {
            "standoff": 15
           },
           "zerolinecolor": "white",
           "zerolinewidth": 2
          },
          "yaxis": {
           "automargin": true,
           "gridcolor": "white",
           "linecolor": "white",
           "ticks": "",
           "title": {
            "standoff": 15
           },
           "zerolinecolor": "white",
           "zerolinewidth": 2
          }
         }
        },
        "width": 800,
        "xaxis": {
         "anchor": "y",
         "domain": [
          0,
          1
         ],
         "title": {
          "text": "Games played"
         }
        },
        "yaxis": {
         "anchor": "x",
         "domain": [
          0,
          1
         ],
         "title": {
          "text": "Mrand"
         }
        }
       }
      }
     },
     "metadata": {},
     "output_type": "display_data"
    }
   ],
   "source": [
    "n_star_values=np.linspace(1,40000,6)\n",
    "question17_results = deep_q_questions_results[5]\n",
    "\n",
    "df1 = {'Games played':list(np.arange(0,20000//METRICS_FREQUENCY)*METRICS_FREQUENCY)} # mean reward\n",
    "df2 = {'Games played':list(np.arange(0,20000//METRICS_FREQUENCY)*METRICS_FREQUENCY)} # loss\n",
    "df3 = {'Games played':list(np.arange(0,20000//METRICS_FREQUENCY)*METRICS_FREQUENCY)} # Mopt\n",
    "df4 = {'Games played':list(np.arange(0,20000//METRICS_FREQUENCY)*METRICS_FREQUENCY)} # Mrand\n",
    "\n",
    "for idx, metrics in enumerate(question17_results):\n",
    "    df1[f\"n* = {n_star_values[idx]:0.0f}\"] = metrics[0]\n",
    "    df2[f\"n* = {n_star_values[idx]:0.0f}\"] = metrics[1]\n",
    "    df3[f\"n* = {n_star_values[idx]:0.0f}\"] = metrics[2]\n",
    "    df4[f\"n* = {n_star_values[idx]:0.0f}\"] = metrics[3]\n",
    "\n",
    "df1 = pd.DataFrame(df1)\n",
    "df2 = pd.DataFrame(df2)\n",
    "df3 = pd.DataFrame(df3)\n",
    "df4 = pd.DataFrame(df4)\n",
    "\n",
    "fig1 = px.line(df1, x='Games played', y=df1.columns.difference(['Games played']), title='Training with testing on different decreasing exploration rates')\n",
    "fig1.update_layout(xaxis_title='Games played', yaxis_title='Reward', width = 800)\n",
    "fig2 = px.line(df2, x='Games played', y=df2.columns.difference(['Games played']))\n",
    "fig2.update_layout(xaxis_title='Games played', yaxis_title='Loss', width = 800)\n",
    "fig3 = px.line(df3, x='Games played', y=df3.columns.difference(['Games played']))\n",
    "fig3.update_layout(xaxis_title='Games played', yaxis_title='Mopt', width = 800)\n",
    "fig4 = px.line(df4, x='Games played', y=df4.columns.difference(['Games played']))\n",
    "fig4.update_layout(xaxis_title='Games played', yaxis_title='Mrand', width = 800)\n",
    "\n",
    "fig1.show()\n",
    "fig2.show()\n",
    "fig3.show()\n",
    "fig4.show()\n",
    "# single_image_subplots(\"Training with testing on different adversary's eps values\", question17_results, n_star_values, 3, tot_height=12, tot_width=18)"
   ]
  },
  {
   "cell_type": "markdown",
   "metadata": {
    "collapsed": false,
    "pycharm": {
     "name": "#%% md\n"
    }
   },
   "source": [
    "### Question 18\n",
    " What are the highest values of Mopt and Mrand that you could achieve after playing 20’000 games?"
   ]
  },
  {
   "cell_type": "markdown",
   "metadata": {
    "collapsed": false,
    "pycharm": {
     "name": "#%% md\n"
    }
   },
   "source": [
    "### Question 19\n",
    "For three board arrangements (i.e. states s), visualize Q-values of all actions (e.g. using heat maps). Does the result make sense? Did the agent learn the game well?\n",
    "Expected answer: A figure with 3 subplots each showing a state with Q-values shown at available actions (caption length < 200 words)."
   ]
  },
  {
   "cell_type": "code",
   "execution_count": 50,
   "metadata": {
    "collapsed": false,
    "pycharm": {
     "name": "#%%\n"
    }
   },
   "outputs": [
    {
     "name": "stderr",
     "output_type": "stream",
     "text": [
      "100%|██████████| 40000/40000 [13:23<00:00, 49.77it/s]\n"
     ]
    }
   ],
   "source": [
    "if not use_backup:\n",
    "    metrics, dqn_agent  =  deep_q_learning(player_dqn=DQNAgent(epsilon_min=0.1, epsilon_max=0.8, n_star=16000 ), maxGames=40000, test=True,self_learning= True)\n",
    "    deep_q_questions_results.append([metrics,dqn_agent])"
   ]
  },
  {
   "cell_type": "code",
   "execution_count": 60,
   "metadata": {
    "collapsed": false,
    "pycharm": {
     "name": "#%%\n"
    }
   },
   "outputs": [
    {
     "data": {
      "image/png": "[encoded data removed]",
      "text/plain": [
       "<Figure size 432x288 with 1 Axes>"
      ]
     },
     "metadata": {
      "needs_background": "light"
     },
     "output_type": "display_data"
    }
   ],
   "source": [
    "metrics = deep_q_questions_results[6][0]\n",
    "output = []\n",
    "output.append(metrics)\n",
    "single_image_subplots(\"Training with testing on different adversary's eps values\", output)"
   ]
  },
  {
   "cell_type": "code",
   "execution_count": 58,
   "metadata": {
    "collapsed": false,
    "pycharm": {
     "name": "#%%\n"
    }
   },
   "outputs": [
    {
     "name": "stdout",
     "output_type": "stream",
     "text": [
      "[4, 0, 0]\n",
      "tensor([-0.3201, -0.1153,  0.0427,  0.9872, -0.9467, -0.3508, -0.8502, -2.0463,\n",
      "        -1.2087, -0.9230, -2.1367, -1.0358, -1.4136, -0.7757, -0.9284, -1.2338,\n",
      "        -0.5651, -1.2060, -0.9917, -1.5171, -1.3308], device='cuda:0')\n",
      "[1, 2, 0]\n",
      "tensor([-0.8523, -0.9188, -0.6487, -0.8624, -0.8008, -1.0404, -1.1818,  0.9749,\n",
      "        -0.1337, -0.6339, -1.5225, -0.3761, -0.8642, -1.1355, -1.0133, -0.8510,\n",
      "        -2.1348, -1.0637, -1.0231, -1.0022, -1.0285], device='cuda:0')\n",
      "[1, 0, 1]\n",
      "tensor([-1.0246, -0.9893, -1.0169, -0.9870, -0.9605, -1.0090, -0.9879, -0.9895,\n",
      "        -0.9987, -0.9955, -0.9681, -0.9603, -1.0250, -1.0428, -1.0039, -1.0110,\n",
      "        -0.9760, -1.0099, -0.9984, -1.0015, -0.9757], device='cuda:0')\n"
     ]
    }
   ],
   "source": [
    "deep_q_agent = deep_q_questions_results[6][1]\n",
    "heaps=[[4,0,0],[1,2,0],[1,0,1]]\n",
    "for i in range(3):\n",
    "    state = deep_q_agent.heaps_to_binary(heaps[i])\n",
    "    with torch.no_grad():\n",
    "        q_values = deep_q_agent.model(state)\n",
    "    print(heaps[i])\n",
    "    print(q_values)"
   ]
  },
  {
   "cell_type": "code",
   "execution_count": 44,
   "metadata": {
    "collapsed": false,
    "pycharm": {
     "name": "#%%\n"
    }
   },
   "outputs": [],
   "source": [
    "file_name = \"deep_q_learning_results.pkl\"\n",
    "open_file = open(file_name, \"wb\")\n",
    "pickle.dump(deep_q_questions_results, open_file)\n",
    "open_file.close()"
   ]
  },
  {
   "cell_type": "markdown",
   "metadata": {
    "collapsed": false,
    "pycharm": {
     "name": "#%% md\n"
    }
   },
   "source": [
    "# 4 Comparing Q-Learning with Deep Q-Learning\n",
    "We define the training time Ttrain as the number of games an algorithm needs to play in order to reach 80% of its final performance according to both Mopt and Mrand.\n",
    "### Question 20\n",
    "Include a table showing the best performance (the highest Mopt and Mrand) of Q-Learning and DQN (both for learning from experts and for learning by self-practice) and their corresponding\n",
    "training time.\n",
    "Expected answer: A table showing 12 values.\n"
   ]
  },
  {
   "cell_type": "markdown",
   "metadata": {
    "collapsed": false,
    "pycharm": {
     "name": "#%% md\n"
    }
   },
   "source": [
    "### Question 21\n",
    " Compare your results for DQN and Q-Learning (answer length < 300 words)."
   ]
  },
  {
   "cell_type": "code",
   "execution_count": null,
   "metadata": {
    "collapsed": false,
    "pycharm": {
     "name": "#%%\n"
    }
   },
   "outputs": [],
   "source": []
  }
 ],
 "metadata": {
  "interpreter": {
   "hash": "98373fcc2b26572a704f22e3e227d87867db93faa2ec45ce4b9f33f2e000f694"
  },
  "kernelspec": {
   "display_name": "Python 3.9.7 ('butterfly')",
   "language": "python",
   "name": "python3"
  },
  "language_info": {
   "codemirror_mode": {
    "name": "ipython",
    "version": 3
   },
   "file_extension": ".py",
   "mimetype": "text/x-python",
   "name": "python",
   "nbconvert_exporter": "python",
   "pygments_lexer": "ipython3",
   "version": "3.9.7"
  }
 },
 "nbformat": 4,
 "nbformat_minor": 4
}
