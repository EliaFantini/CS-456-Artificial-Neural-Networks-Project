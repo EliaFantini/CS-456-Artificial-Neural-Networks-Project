{
 "cells": [
  {
   "cell_type": "markdown",
   "metadata": {},
   "source": [
    "# Q-Learning\n",
    "## Elia Fantini (336006) & Félix Klein (344259)"
   ]
  },
  {
   "cell_type": "code",
   "execution_count": 2,
   "metadata": {
    "collapsed": false,
    "pycharm": {
     "name": "#%%\n"
    }
   },
   "outputs": [],
   "source": [
    "MAX_STICKS=7\n",
    "NUM_HEAPS=3\n",
    "METRICS_FREQUENCY=250"
   ]
  },
  {
   "cell_type": "code",
   "execution_count": 33,
   "metadata": {
    "collapsed": false,
    "pycharm": {
     "name": "#%%\n"
    }
   },
   "outputs": [],
   "source": [
    "# basic libraries\n",
    "import numpy as np\n",
    "import pandas as pd\n",
    "from tqdm import tqdm\n",
    "import matplotlib.pyplot as plt\n",
    "import random\n",
    "\n",
    "# data visualization and parallel computation\n",
    "import plotly.express as px\n",
    "import plotly.graph_objects as go\n",
    "from plotly.subplots import make_subplots\n",
    "import multiprocessing as mp\n",
    "from joblib import Parallel, delayed\n",
    "\n",
    "from nim_env import NimEnv, OptimalPlayer\n",
    "\n",
    "\n",
    "def heaps_to_idx(heaps):\n",
    "    \"\"\"\n",
    "    Converts heaps state in the corresponding index of the row in the Q-table\n",
    "    Args:\n",
    "        heaps: list of integers\n",
    "            list of heap sizes.\n",
    "\n",
    "    Returns:\n",
    "        idx: int\n",
    "            index of the state's row in the Q-table\n",
    "    \"\"\"\n",
    "    idx=0\n",
    "    for i in range(NUM_HEAPS):\n",
    "        idx += heaps[i]*((MAX_STICKS + 1)**(NUM_HEAPS-i-1))\n",
    "    return idx\n",
    "\n",
    "def idx_to_heaps(idx):\n",
    "    \"\"\"\n",
    "    Converts index of the row in Q-table to the corresponding heaps' state\n",
    "    Args:\n",
    "        idx: int\n",
    "            index of the state's row in the Q-table\n",
    "\n",
    "    Returns:\n",
    "\n",
    "        heaps: list of integers\n",
    "            list of heap sizes.\n",
    "    \"\"\"\n",
    "    idx_copy=idx\n",
    "    heaps=[]\n",
    "    for i in range(NUM_HEAPS):\n",
    "        heaps.append(int(idx_copy//((MAX_STICKS + 1)**(NUM_HEAPS-i-1))))\n",
    "        idx_copy = idx_copy - heaps[i]*((MAX_STICKS + 1)**(NUM_HEAPS-i-1))\n",
    "    return heaps\n",
    "\n",
    "def create_q_table(num_heaps, max_sticks, initial_value=0.0):\n",
    "    \"\"\"\n",
    "    Creates a list of numpy.ndarray, one for every possible state. Each ndarray is initialized with initial value.\n",
    "    Args:\n",
    "        num_heaps: int\n",
    "            number of heaps\n",
    "        max_sticks: int\n",
    "            number of max sticks possible in a heap\n",
    "        initial_value: float\n",
    "            initial q-values value. Default is 0.0\n",
    "\n",
    "    Returns:\n",
    "\n",
    "        q-table: list of numpy.ndarray\n",
    "            matrix of q-values, initialized with initial_value\n",
    "    \"\"\"\n",
    "    q_table=[]\n",
    "    for i in range((max_sticks+1)**num_heaps):\n",
    "        if i==0:\n",
    "            q_table.append(np.full(shape=[1,1], fill_value=initial_value,dtype='float64'))\n",
    "            continue\n",
    "        else:\n",
    "            heaps = idx_to_heaps(i)\n",
    "            num_actions=0\n",
    "            for ii in range(num_heaps):\n",
    "                num_actions += heaps[ii]\n",
    "            q_table.append(np.full(shape=[num_actions,1], fill_value=initial_value,dtype='float64'))\n",
    "    return q_table\n",
    "\n",
    "def play_game(env,q_table, player_q, player_adv, eta, gamma, test= False, self_learning= False):\n",
    "    \"\"\"\n",
    "    Plays a full nim match, till one of the two players loses.\n",
    "    Args:\n",
    "        env: NimEnv\n",
    "            instance of the NimEnv class to play the game with\n",
    "        q_table: list on numpy.ndarray\n",
    "            matrix containing q-values to apply q-learning algorithm\n",
    "        player_q: OptimalPlayer\n",
    "            q-learning agent\n",
    "        player_adv: OptimalPlayer\n",
    "            optimal policy agent\n",
    "        eta: float\n",
    "            number that controls how much the q-values should vary during training\n",
    "        gamma: float\n",
    "            number that controls how much next expected rewards should count on the learning update\n",
    "        test: bool\n",
    "            if True, the learning process will be tested by playing against the optimal player without updating q-values. Default is False\n",
    "        self_learning: bool\n",
    "            if True, player_adv will be considered a q-learning agent as well, so the learning agent will play against itself. Default is False\n",
    "\n",
    "    Returns:\n",
    "        reward: int\n",
    "            1 if player-q won, -1 otherwise\n",
    "\n",
    "    \"\"\"\n",
    "    # resetting the variables and the NimEnv\n",
    "    seed = random.uniform(0,9999)\n",
    "    env.reset(seed)\n",
    "    heaps, _, __ = env.observe()\n",
    "    reward = 0 # stays at 0 until game is finished\n",
    "    while not env.end:\n",
    "        if env.current_player == player_q.player:   # player 1 : learning agent\n",
    "            # q-learning agent 1 choosing next action using q-values : making the move\n",
    "            state_idx = heaps_to_idx(heaps)\n",
    "            move, q_value, action = player_q.act_q(heaps, q_table[state_idx], greedy= False) # if greedy = False, it means eps-greedy\n",
    "            heaps, end, winner = env.step(move)\n",
    "            if self_learning and not test:\n",
    "                # q-learning agent 2 choosing next potential greedy-action using q-values, without actually taking it, then updating the q-table\n",
    "                next_state_ind_adv = heaps_to_idx(heaps)\n",
    "                _,q_value_next_adv,_= player_adv.act_q(heaps, q_table[next_state_ind_adv], greedy= True)\n",
    "                if not end and env.num_step>1:\n",
    "                    q_table[state_idx_adv][action_adv] += eta * (reward + gamma * q_value_next_adv - q_value_adv)\n",
    "\n",
    "\n",
    "        else:                                       # optimal player OR other learning agent if not self_learning\n",
    "            if not self_learning or test:\n",
    "                # choosing next action using the optimal policy\n",
    "                move = player_adv.act(heaps)\n",
    "                heaps, end, winner = env.step(move)\n",
    "            if not test:\n",
    "                if self_learning:\n",
    "                    # q-learning agent 2 choosing next action using q-values\n",
    "                    state_idx_adv = heaps_to_idx(heaps)\n",
    "                    move,q_value_adv,action_adv= player_adv.act_q(heaps, q_table[state_idx_adv], greedy= False)\n",
    "                    heaps, end, winner = env.step(move)\n",
    "                # q-learning agent 1 choosing next potential greedy-action using q-values, without actually taking it, then updating the q-table\n",
    "                next_state_ind = heaps_to_idx(heaps)\n",
    "                _,q_value_next,_= player_q.act_q(heaps, q_table[next_state_ind], greedy= True)\n",
    "                if not end and env.num_step>1:\n",
    "                    q_table[state_idx][action] += eta * (reward + gamma * q_value_next - q_value)\n",
    "\n",
    "\n",
    "        if end:\n",
    "            if winner== player_q.player:\n",
    "                reward = 1\n",
    "            else:\n",
    "                reward = -1\n",
    "            if not test:\n",
    "                # q-learning agent 1 updating q-table with final reward value\n",
    "                q_table[state_idx][action] += eta * (reward + gamma * q_table[0][0] - q_value)\n",
    "                if self_learning:\n",
    "                    # q-learning agent 2 updating q-table with final reward value\n",
    "                    q_table[state_idx_adv][action_adv] += eta * (-reward + gamma * q_table[0][0] - q_value_adv)\n",
    "            break\n",
    "    return reward\n",
    "\n",
    "\n",
    "def q_learning(env = None, q_table=None, num_games= 20000, eta=0.1, gamma=0.99, eps_q=0.2, eps_adv= 0.5, initial_table_value=0, decreasing_eps= False, eps_min=0.1, eps_max=0.8, n_star=1, test=False, verbose= False, self_learning=False):\n",
    "    \"\"\"\n",
    "    Main function that handles the whole training. It runs num_games Nim matches and updates the\n",
    "    q-table according to q-learning algorithm. It also calculates statistics of the learning\n",
    "    process, such as the mean of the learning agent's rewards, computed every METRICS_FREQUENCY games.\n",
    "    If test is True, also M-opt and M-rand metrics are computed. It returns a list of the metrics and the\n",
    "    trained q-table.\n",
    "    Args:\n",
    "\n",
    "        env: NimEnv\n",
    "            instance of the NimEnv class to play the game with. Default is None\n",
    "        q_table: list on numpy.ndarray\n",
    "            matrix containing q-values to apply q-learning algorithm. Default is None\n",
    "        num_games: int\n",
    "            num of games to be played to train the learning agent.Default is 20000\n",
    "        eta: float\n",
    "            number that controls how much the q-values should vary during training. Default is 0.1\n",
    "        gamma: float\n",
    "            number that controls how much next expected rewards should count on the learning update. Default is 0.99\n",
    "        eps_q: float\n",
    "            probability for the q-learning agent to perform a random action instead of the greedy one. Default is 0.2\n",
    "        eps_adv: float\n",
    "            probability for the adversarial agent to perform a random action instead of the optimal one. Default is 0.5\n",
    "        initial_value: float\n",
    "            initial q-values value. Default is 0.0\n",
    "        decreasing_eps: bool\n",
    "            if True, the learning agent eps value will decrease over the number of games played n. eps-q will be ignored.\n",
    "            eps(n) = max(eps_min, eps_max*(1 −n/n_star). . Default is False\n",
    "        eps_min: float\n",
    "            minimum eps value that decreasing eps can assume. Default is 0.1\n",
    "        eps_max: float\n",
    "             maximum eps value that decreasing eps can assume. Default is 0.8\n",
    "        n_star: int\n",
    "            number that controls how slow the decreasing eps reaches its minimum. Default is 1\n",
    "        test: bool\n",
    "            if True, the learning process will be tested every METRICS_FREQUENCY training games by playing 500 games\n",
    "            with frozen q-values against Opt(0), the optimal player, and 500 against Opt(1), the random player. Default is False\n",
    "        verbose: bool\n",
    "            if  True, it prints a progress bar. Default is False\n",
    "        self_learning: bool\n",
    "            if True, player_adv will be considered a q-learning agent as well, so the learning agent will play against itself. Default is False\n",
    "\n",
    "    Returns:\n",
    "        metrics: list of lists of float\n",
    "            list containing a list of mean reward values. If test is True, it also contains a list of M-opt values and a list of M-rand values.\n",
    "            Such values are computed and appended to the list every METRICS_FREQUENCY games\n",
    "        q_table: list of numpy.ndarray\n",
    "            the q-table with the learned q-values\n",
    "\n",
    "    \"\"\"\n",
    "\n",
    "    if env is None:\n",
    "        env = NimEnv()\n",
    "    if q_table is None:\n",
    "        q_table = create_q_table(NUM_HEAPS,MAX_STICKS,initial_table_value)\n",
    "\n",
    "    # initializing metrics\n",
    "    rewards = [] # -1 or 1, stored at the end of each game\n",
    "    rewards_mean=[] # mean of every x rewards (here 250) stored after the x_th game\n",
    "    m_opt=[]\n",
    "    m_rand=[]\n",
    "\n",
    "    Turn = 0\n",
    "    # both the agent and the adversary are OptimalPlayer instances but the agent is calling act_q whereas adv is calling act\n",
    "    # if self_learning = True, both are calling act_q\n",
    "    for i in tqdm(range(num_games), disable=(not verbose)):\n",
    "        if decreasing_eps:\n",
    "            eps = max(eps_min,eps_max*(1-i/n_star))\n",
    "            player_q = OptimalPlayer(epsilon=eps, player=Turn)\n",
    "        else:\n",
    "            eps = eps_q\n",
    "            player_q = OptimalPlayer(epsilon=eps, player=Turn)\n",
    "        if self_learning:\n",
    "            # at the beginning of every game, reinstantiate the optimal player (especially if eps changes, turn changes anyway)\n",
    "            player_adv = OptimalPlayer(epsilon=eps, player= 1-Turn)\n",
    "        else:\n",
    "            player_adv = OptimalPlayer(epsilon=eps_adv, player=1-Turn)\n",
    "        rewards.append(play_game(env, q_table, player_q, player_adv, eta, gamma, False, self_learning=self_learning))\n",
    "        if i%METRICS_FREQUENCY==0 and i!=0:\n",
    "            rewards_mean.append(np.asarray(rewards).mean())\n",
    "            rewards = []\n",
    "            if test:    # plays against optimal player (OPT(0)) and random player (OPT(1))\n",
    "                for eps_opt in [0,1]:\n",
    "                    won_count=0\n",
    "                    for ii in range(500):\n",
    "                        heaps, _, __ = env.observe()\n",
    "                        player_q = OptimalPlayer(epsilon=0, player=Turn)\n",
    "                        player_opt = OptimalPlayer(epsilon=eps_opt, player=1-Turn)\n",
    "                        if 1 == play_game(env, q_table, player_q, player_opt, eta, gamma, True):\n",
    "                            won_count +=1\n",
    "                        Turn = 1 - Turn\n",
    "                    m=(won_count-(500-won_count))/500\n",
    "                    if eps_opt==0:\n",
    "                        m_opt.append(m)\n",
    "                    else:\n",
    "                        m_rand.append(m)\n",
    "        Turn = 1 - Turn\n",
    "    metrics = []\n",
    "    metrics.append(rewards_mean)\n",
    "    if test:\n",
    "        # list of three lists, agent, optimal player and random player\n",
    "        metrics.append(m_opt)\n",
    "        metrics.append(m_rand)\n",
    "    return metrics, q_table"
   ]
  },
  {
   "cell_type": "markdown",
   "metadata": {
    "collapsed": false
   },
   "source": [
    "## 2.1 Learning from experts\n",
    "In this section, you will study whether Q-learning can learn to play Nim by playing against Opt(opt)\n",
    "for some opt ∈ [0, 1]. To do so, implement the Q-learning algorithm. To check the algorithm, run a\n",
    "Q-learning agent, with a fixed and arbitrary eps ∈ [0, 1), against Opt(0.5) for 20’000 games – switch the\n",
    "1st player after every game. Note that the agents are not allowed to take an unavailable action, i.e. they\n",
    "cannot take more than existing number of sticks in a heap from that heap.\n",
    "Question 1. Plot average reward for every 250 games during training – i.e. after the 250th game, plot\n",
    "the average reward of the first 250 games, after the 500th game, plot the average reward of games 251 to\n",
    "500, etc. Does the agent learn to play Nim?"
   ]
  },
  {
   "cell_type": "code",
   "execution_count": 109,
   "metadata": {
    "collapsed": false,
    "pycharm": {
     "name": "#%%\n"
    }
   },
   "outputs": [
    {
     "data": {
      "application/vnd.plotly.v1+json": {
       "config": {
        "plotlyServerURL": "https://plot.ly"
       },
       "data": [
        {
         "hovertemplate": "variable=wide_variable_0<br>x=%{x}<br>value=%{y}<extra></extra>",
         "legendgroup": "wide_variable_0",
         "line": {
          "color": "#636efa",
          "dash": "solid"
         },
         "marker": {
          "symbol": "circle"
         },
         "mode": "lines",
         "name": "wide_variable_0",
         "orientation": "v",
         "showlegend": true,
         "type": "scatter",
         "x": [
          250,
          500,
          750,
          1000,
          1250,
          1500,
          1750,
          2000,
          2250,
          2500,
          2750,
          3000,
          3250,
          3500,
          3750,
          4000,
          4250,
          4500,
          4750,
          5000,
          5250,
          5500,
          5750,
          6000,
          6250,
          6500,
          6750,
          7000,
          7250,
          7500,
          7750,
          8000,
          8250,
          8500,
          8750,
          9000,
          9250,
          9500,
          9750,
          10000,
          10250,
          10500,
          10750,
          11000,
          11250,
          11500,
          11750,
          12000,
          12250,
          12500,
          12750,
          13000,
          13250,
          13500,
          13750,
          14000,
          14250,
          14500,
          14750,
          15000,
          15250,
          15500,
          15750,
          16000,
          16250,
          16500,
          16750,
          17000,
          17250,
          17500,
          17750,
          18000,
          18250,
          18500,
          18750,
          19000,
          19250,
          19500,
          19750
         ],
         "xaxis": "x",
         "y": [
          -0.2749003984063745,
          -0.016,
          0.04,
          0.136,
          0.256,
          0.392,
          0.344,
          0.296,
          0.344,
          0.392,
          0.312,
          0.368,
          0.36,
          0.352,
          0.384,
          0.376,
          0.36,
          0.336,
          0.4,
          0.472,
          0.424,
          0.384,
          0.4,
          0.44,
          0.488,
          0.496,
          0.456,
          0.512,
          0.44,
          0.4,
          0.448,
          0.424,
          0.44,
          0.504,
          0.472,
          0.376,
          0.48,
          0.44,
          0.52,
          0.392,
          0.48,
          0.432,
          0.384,
          0.416,
          0.44,
          0.456,
          0.448,
          0.376,
          0.44,
          0.544,
          0.496,
          0.44,
          0.368,
          0.432,
          0.44,
          0.424,
          0.48,
          0.408,
          0.424,
          0.392,
          0.376,
          0.464,
          0.44,
          0.4,
          0.432,
          0.6,
          0.416,
          0.48,
          0.416,
          0.504,
          0.456,
          0.52,
          0.544,
          0.464,
          0.464,
          0.504,
          0.472,
          0.48,
          0.376
         ],
         "yaxis": "y"
        }
       ],
       "layout": {
        "legend": {
         "title": {
          "text": "variable"
         },
         "tracegroupgap": 0
        },
        "showlegend": false,
        "template": {
         "data": {
          "bar": [
           {
            "error_x": {
             "color": "#2a3f5f"
            },
            "error_y": {
             "color": "#2a3f5f"
            },
            "marker": {
             "line": {
              "color": "#E5ECF6",
              "width": 0.5
             },
             "pattern": {
              "fillmode": "overlay",
              "size": 10,
              "solidity": 0.2
             }
            },
            "type": "bar"
           }
          ],
          "barpolar": [
           {
            "marker": {
             "line": {
              "color": "#E5ECF6",
              "width": 0.5
             },
             "pattern": {
              "fillmode": "overlay",
              "size": 10,
              "solidity": 0.2
             }
            },
            "type": "barpolar"
           }
          ],
          "carpet": [
           {
            "aaxis": {
             "endlinecolor": "#2a3f5f",
             "gridcolor": "white",
             "linecolor": "white",
             "minorgridcolor": "white",
             "startlinecolor": "#2a3f5f"
            },
            "baxis": {
             "endlinecolor": "#2a3f5f",
             "gridcolor": "white",
             "linecolor": "white",
             "minorgridcolor": "white",
             "startlinecolor": "#2a3f5f"
            },
            "type": "carpet"
           }
          ],
          "choropleth": [
           {
            "colorbar": {
             "outlinewidth": 0,
             "ticks": ""
            },
            "type": "choropleth"
           }
          ],
          "contour": [
           {
            "colorbar": {
             "outlinewidth": 0,
             "ticks": ""
            },
            "colorscale": [
             [
              0,
              "#0d0887"
             ],
             [
              0.1111111111111111,
              "#46039f"
             ],
             [
              0.2222222222222222,
              "#7201a8"
             ],
             [
              0.3333333333333333,
              "#9c179e"
             ],
             [
              0.4444444444444444,
              "#bd3786"
             ],
             [
              0.5555555555555556,
              "#d8576b"
             ],
             [
              0.6666666666666666,
              "#ed7953"
             ],
             [
              0.7777777777777778,
              "#fb9f3a"
             ],
             [
              0.8888888888888888,
              "#fdca26"
             ],
             [
              1,
              "#f0f921"
             ]
            ],
            "type": "contour"
           }
          ],
          "contourcarpet": [
           {
            "colorbar": {
             "outlinewidth": 0,
             "ticks": ""
            },
            "type": "contourcarpet"
           }
          ],
          "heatmap": [
           {
            "colorbar": {
             "outlinewidth": 0,
             "ticks": ""
            },
            "colorscale": [
             [
              0,
              "#0d0887"
             ],
             [
              0.1111111111111111,
              "#46039f"
             ],
             [
              0.2222222222222222,
              "#7201a8"
             ],
             [
              0.3333333333333333,
              "#9c179e"
             ],
             [
              0.4444444444444444,
              "#bd3786"
             ],
             [
              0.5555555555555556,
              "#d8576b"
             ],
             [
              0.6666666666666666,
              "#ed7953"
             ],
             [
              0.7777777777777778,
              "#fb9f3a"
             ],
             [
              0.8888888888888888,
              "#fdca26"
             ],
             [
              1,
              "#f0f921"
             ]
            ],
            "type": "heatmap"
           }
          ],
          "heatmapgl": [
           {
            "colorbar": {
             "outlinewidth": 0,
             "ticks": ""
            },
            "colorscale": [
             [
              0,
              "#0d0887"
             ],
             [
              0.1111111111111111,
              "#46039f"
             ],
             [
              0.2222222222222222,
              "#7201a8"
             ],
             [
              0.3333333333333333,
              "#9c179e"
             ],
             [
              0.4444444444444444,
              "#bd3786"
             ],
             [
              0.5555555555555556,
              "#d8576b"
             ],
             [
              0.6666666666666666,
              "#ed7953"
             ],
             [
              0.7777777777777778,
              "#fb9f3a"
             ],
             [
              0.8888888888888888,
              "#fdca26"
             ],
             [
              1,
              "#f0f921"
             ]
            ],
            "type": "heatmapgl"
           }
          ],
          "histogram": [
           {
            "marker": {
             "pattern": {
              "fillmode": "overlay",
              "size": 10,
              "solidity": 0.2
             }
            },
            "type": "histogram"
           }
          ],
          "histogram2d": [
           {
            "colorbar": {
             "outlinewidth": 0,
             "ticks": ""
            },
            "colorscale": [
             [
              0,
              "#0d0887"
             ],
             [
              0.1111111111111111,
              "#46039f"
             ],
             [
              0.2222222222222222,
              "#7201a8"
             ],
             [
              0.3333333333333333,
              "#9c179e"
             ],
             [
              0.4444444444444444,
              "#bd3786"
             ],
             [
              0.5555555555555556,
              "#d8576b"
             ],
             [
              0.6666666666666666,
              "#ed7953"
             ],
             [
              0.7777777777777778,
              "#fb9f3a"
             ],
             [
              0.8888888888888888,
              "#fdca26"
             ],
             [
              1,
              "#f0f921"
             ]
            ],
            "type": "histogram2d"
           }
          ],
          "histogram2dcontour": [
           {
            "colorbar": {
             "outlinewidth": 0,
             "ticks": ""
            },
            "colorscale": [
             [
              0,
              "#0d0887"
             ],
             [
              0.1111111111111111,
              "#46039f"
             ],
             [
              0.2222222222222222,
              "#7201a8"
             ],
             [
              0.3333333333333333,
              "#9c179e"
             ],
             [
              0.4444444444444444,
              "#bd3786"
             ],
             [
              0.5555555555555556,
              "#d8576b"
             ],
             [
              0.6666666666666666,
              "#ed7953"
             ],
             [
              0.7777777777777778,
              "#fb9f3a"
             ],
             [
              0.8888888888888888,
              "#fdca26"
             ],
             [
              1,
              "#f0f921"
             ]
            ],
            "type": "histogram2dcontour"
           }
          ],
          "mesh3d": [
           {
            "colorbar": {
             "outlinewidth": 0,
             "ticks": ""
            },
            "type": "mesh3d"
           }
          ],
          "parcoords": [
           {
            "line": {
             "colorbar": {
              "outlinewidth": 0,
              "ticks": ""
             }
            },
            "type": "parcoords"
           }
          ],
          "pie": [
           {
            "automargin": true,
            "type": "pie"
           }
          ],
          "scatter": [
           {
            "fillpattern": {
             "fillmode": "overlay",
             "size": 10,
             "solidity": 0.2
            },
            "type": "scatter"
           }
          ],
          "scatter3d": [
           {
            "line": {
             "colorbar": {
              "outlinewidth": 0,
              "ticks": ""
             }
            },
            "marker": {
             "colorbar": {
              "outlinewidth": 0,
              "ticks": ""
             }
            },
            "type": "scatter3d"
           }
          ],
          "scattercarpet": [
           {
            "marker": {
             "colorbar": {
              "outlinewidth": 0,
              "ticks": ""
             }
            },
            "type": "scattercarpet"
           }
          ],
          "scattergeo": [
           {
            "marker": {
             "colorbar": {
              "outlinewidth": 0,
              "ticks": ""
             }
            },
            "type": "scattergeo"
           }
          ],
          "scattergl": [
           {
            "marker": {
             "colorbar": {
              "outlinewidth": 0,
              "ticks": ""
             }
            },
            "type": "scattergl"
           }
          ],
          "scattermapbox": [
           {
            "marker": {
             "colorbar": {
              "outlinewidth": 0,
              "ticks": ""
             }
            },
            "type": "scattermapbox"
           }
          ],
          "scatterpolar": [
           {
            "marker": {
             "colorbar": {
              "outlinewidth": 0,
              "ticks": ""
             }
            },
            "type": "scatterpolar"
           }
          ],
          "scatterpolargl": [
           {
            "marker": {
             "colorbar": {
              "outlinewidth": 0,
              "ticks": ""
             }
            },
            "type": "scatterpolargl"
           }
          ],
          "scatterternary": [
           {
            "marker": {
             "colorbar": {
              "outlinewidth": 0,
              "ticks": ""
             }
            },
            "type": "scatterternary"
           }
          ],
          "surface": [
           {
            "colorbar": {
             "outlinewidth": 0,
             "ticks": ""
            },
            "colorscale": [
             [
              0,
              "#0d0887"
             ],
             [
              0.1111111111111111,
              "#46039f"
             ],
             [
              0.2222222222222222,
              "#7201a8"
             ],
             [
              0.3333333333333333,
              "#9c179e"
             ],
             [
              0.4444444444444444,
              "#bd3786"
             ],
             [
              0.5555555555555556,
              "#d8576b"
             ],
             [
              0.6666666666666666,
              "#ed7953"
             ],
             [
              0.7777777777777778,
              "#fb9f3a"
             ],
             [
              0.8888888888888888,
              "#fdca26"
             ],
             [
              1,
              "#f0f921"
             ]
            ],
            "type": "surface"
           }
          ],
          "table": [
           {
            "cells": {
             "fill": {
              "color": "#EBF0F8"
             },
             "line": {
              "color": "white"
             }
            },
            "header": {
             "fill": {
              "color": "#C8D4E3"
             },
             "line": {
              "color": "white"
             }
            },
            "type": "table"
           }
          ]
         },
         "layout": {
          "annotationdefaults": {
           "arrowcolor": "#2a3f5f",
           "arrowhead": 0,
           "arrowwidth": 1
          },
          "autotypenumbers": "strict",
          "coloraxis": {
           "colorbar": {
            "outlinewidth": 0,
            "ticks": ""
           }
          },
          "colorscale": {
           "diverging": [
            [
             0,
             "#8e0152"
            ],
            [
             0.1,
             "#c51b7d"
            ],
            [
             0.2,
             "#de77ae"
            ],
            [
             0.3,
             "#f1b6da"
            ],
            [
             0.4,
             "#fde0ef"
            ],
            [
             0.5,
             "#f7f7f7"
            ],
            [
             0.6,
             "#e6f5d0"
            ],
            [
             0.7,
             "#b8e186"
            ],
            [
             0.8,
             "#7fbc41"
            ],
            [
             0.9,
             "#4d9221"
            ],
            [
             1,
             "#276419"
            ]
           ],
           "sequential": [
            [
             0,
             "#0d0887"
            ],
            [
             0.1111111111111111,
             "#46039f"
            ],
            [
             0.2222222222222222,
             "#7201a8"
            ],
            [
             0.3333333333333333,
             "#9c179e"
            ],
            [
             0.4444444444444444,
             "#bd3786"
            ],
            [
             0.5555555555555556,
             "#d8576b"
            ],
            [
             0.6666666666666666,
             "#ed7953"
            ],
            [
             0.7777777777777778,
             "#fb9f3a"
            ],
            [
             0.8888888888888888,
             "#fdca26"
            ],
            [
             1,
             "#f0f921"
            ]
           ],
           "sequentialminus": [
            [
             0,
             "#0d0887"
            ],
            [
             0.1111111111111111,
             "#46039f"
            ],
            [
             0.2222222222222222,
             "#7201a8"
            ],
            [
             0.3333333333333333,
             "#9c179e"
            ],
            [
             0.4444444444444444,
             "#bd3786"
            ],
            [
             0.5555555555555556,
             "#d8576b"
            ],
            [
             0.6666666666666666,
             "#ed7953"
            ],
            [
             0.7777777777777778,
             "#fb9f3a"
            ],
            [
             0.8888888888888888,
             "#fdca26"
            ],
            [
             1,
             "#f0f921"
            ]
           ]
          },
          "colorway": [
           "#636efa",
           "#EF553B",
           "#00cc96",
           "#ab63fa",
           "#FFA15A",
           "#19d3f3",
           "#FF6692",
           "#B6E880",
           "#FF97FF",
           "#FECB52"
          ],
          "font": {
           "color": "#2a3f5f"
          },
          "geo": {
           "bgcolor": "white",
           "lakecolor": "white",
           "landcolor": "#E5ECF6",
           "showlakes": true,
           "showland": true,
           "subunitcolor": "white"
          },
          "hoverlabel": {
           "align": "left"
          },
          "hovermode": "closest",
          "mapbox": {
           "style": "light"
          },
          "paper_bgcolor": "white",
          "plot_bgcolor": "#E5ECF6",
          "polar": {
           "angularaxis": {
            "gridcolor": "white",
            "linecolor": "white",
            "ticks": ""
           },
           "bgcolor": "#E5ECF6",
           "radialaxis": {
            "gridcolor": "white",
            "linecolor": "white",
            "ticks": ""
           }
          },
          "scene": {
           "xaxis": {
            "backgroundcolor": "#E5ECF6",
            "gridcolor": "white",
            "gridwidth": 2,
            "linecolor": "white",
            "showbackground": true,
            "ticks": "",
            "zerolinecolor": "white"
           },
           "yaxis": {
            "backgroundcolor": "#E5ECF6",
            "gridcolor": "white",
            "gridwidth": 2,
            "linecolor": "white",
            "showbackground": true,
            "ticks": "",
            "zerolinecolor": "white"
           },
           "zaxis": {
            "backgroundcolor": "#E5ECF6",
            "gridcolor": "white",
            "gridwidth": 2,
            "linecolor": "white",
            "showbackground": true,
            "ticks": "",
            "zerolinecolor": "white"
           }
          },
          "shapedefaults": {
           "line": {
            "color": "#2a3f5f"
           }
          },
          "ternary": {
           "aaxis": {
            "gridcolor": "white",
            "linecolor": "white",
            "ticks": ""
           },
           "baxis": {
            "gridcolor": "white",
            "linecolor": "white",
            "ticks": ""
           },
           "bgcolor": "#E5ECF6",
           "caxis": {
            "gridcolor": "white",
            "linecolor": "white",
            "ticks": ""
           }
          },
          "title": {
           "x": 0.05
          },
          "xaxis": {
           "automargin": true,
           "gridcolor": "white",
           "linecolor": "white",
           "ticks": "",
           "title": {
            "standoff": 15
           },
           "zerolinecolor": "white",
           "zerolinewidth": 2
          },
          "yaxis": {
           "automargin": true,
           "gridcolor": "white",
           "linecolor": "white",
           "ticks": "",
           "title": {
            "standoff": 15
           },
           "zerolinecolor": "white",
           "zerolinewidth": 2
          }
         }
        },
        "title": {
         "text": "Average reward over time of RL agent with policy epsilon=0.1"
        },
        "width": 600,
        "xaxis": {
         "anchor": "y",
         "domain": [
          0,
          1
         ],
         "title": {
          "text": "Games played"
         }
        },
        "yaxis": {
         "anchor": "x",
         "domain": [
          0,
          1
         ],
         "title": {
          "text": "Average reward"
         }
        }
       }
      }
     },
     "metadata": {},
     "output_type": "display_data"
    }
   ],
   "source": [
    "env = NimEnv()\n",
    "metrics,_=q_learning(env,num_games=20000, eps_q=0.1, gamma= 0.99, verbose=False)\n",
    "x = np.arange(1,len(metrics[0])+1)*METRICS_FREQUENCY\n",
    "fig = px.line(x=x, y=metrics, title=f'Average reward over time of RL agent with policy epsilon={0.1}')\n",
    "fig.update_layout(xaxis_title='Games played', yaxis_title='Average reward')\n",
    "fig.update_layout(showlegend=False)\n",
    "fig.update_layout(width=600)\n",
    "fig.show()"
   ]
  },
  {
   "cell_type": "markdown",
   "metadata": {
    "collapsed": false
   },
   "source": [
    "The learning agent plays against a player that does the best possible move half of the times, whereas the other half of the times it plays a random move. Given that every game the first player is switched, that heaps are randomly generated with a uniform distribution and mathematically is already possible to know who will win among two Opt(0) players just by knowing initial heaps and starting player, the probability of winning for each player is around 0.5 and hence the mean reward would be around 0.0, half of the game won (+1) and half lost (-1). Given that the adversary is Opt(0.5), even when Opt(0) is supposed to lose has a 50% chance that adversary will do a wrong move, so the expect win percentage is 75% and the mean reward is 0.5. Since the learning agent reaches such mean reward, it seems like it really has learned to play with the optimal policy, getting the same mean reward a Opt(0) agent would have reached."
   ]
  },
  {
   "cell_type": "markdown",
   "metadata": {
    "collapsed": false
   },
   "source": [
    "## 2.1.1 Decreasing exploration\n",
    "One way to make training more efficient is to decrease the exploration level eps over time. If we define eps(n)\n",
    "to be eps for game number n, then one feasible way to decrease exploration during training is to use\n",
    "eps(n) = max{eps_min, eps_max(1 −n/n∗)},where eps_min and eps_max are the minimum and maximum values for eps, respectively, and n∗ is the number of\n",
    "exploratory games and shows how fast eps decreases. For convenience, we assume eps_min = 0.1 and eps_max = 0.8;Use eps(n) as define above and\n",
    "run different Q-learning agents with different values of n∗ against Opt(0.5) for 20’000 games – switchthe 1st player after every game. Choose several values of n∗ from a reasonably wide interval between 1 to 40’000 – particularly, include n\n",
    "∗ = 1.\n",
    "Question 2. Plot average reward for every 250 games during training. Does decreasing eps help training\n",
    "compared to having a fixed eps? What is the effect of n∗?"
   ]
  },
  {
   "cell_type": "code",
   "execution_count": 103,
   "metadata": {},
   "outputs": [
    {
     "data": {
      "application/vnd.plotly.v1+json": {
       "config": {
        "plotlyServerURL": "https://plot.ly"
       },
       "data": [
        {
         "hovertemplate": "variable=Average reward (n*=1)<br>Games played=%{x}<br>value=%{y}<extra></extra>",
         "legendgroup": "Average reward (n*=1)",
         "line": {
          "color": "#636efa",
          "dash": "solid"
         },
         "marker": {
          "symbol": "circle"
         },
         "mode": "lines",
         "name": "Average reward (n*=1)",
         "orientation": "v",
         "showlegend": true,
         "type": "scatter",
         "x": [
          250,
          500,
          750,
          1000,
          1250,
          1500,
          1750,
          2000,
          2250,
          2500,
          2750,
          3000,
          3250,
          3500,
          3750,
          4000,
          4250,
          4500,
          4750,
          5000,
          5250,
          5500,
          5750,
          6000,
          6250,
          6500,
          6750,
          7000,
          7250,
          7500,
          7750,
          8000,
          8250,
          8500,
          8750,
          9000,
          9250,
          9500,
          9750,
          10000,
          10250,
          10500,
          10750,
          11000,
          11250,
          11500,
          11750,
          12000,
          12250,
          12500,
          12750,
          13000,
          13250,
          13500,
          13750,
          14000,
          14250,
          14500,
          14750,
          15000,
          15250,
          15500,
          15750,
          16000,
          16250,
          16500,
          16750,
          17000,
          17250,
          17500,
          17750,
          18000,
          18250,
          18500,
          18750,
          19000,
          19250,
          19500,
          19750
         ],
         "xaxis": "x",
         "y": [
          -0.1394422310756972,
          0.032,
          0.248,
          0.168,
          0.152,
          0.128,
          0.256,
          0.28,
          0.312,
          0.304,
          0.352,
          0.448,
          0.384,
          0.408,
          0.368,
          0.36,
          0.336,
          0.328,
          0.232,
          0.488,
          0.464,
          0.392,
          0.344,
          0.424,
          0.368,
          0.376,
          0.4,
          0.552,
          0.464,
          0.368,
          0.504,
          0.376,
          0.408,
          0.376,
          0.36,
          0.368,
          0.416,
          0.368,
          0.448,
          0.36,
          0.472,
          0.408,
          0.392,
          0.336,
          0.448,
          0.4,
          0.456,
          0.488,
          0.376,
          0.296,
          0.344,
          0.36,
          0.344,
          0.416,
          0.408,
          0.368,
          0.424,
          0.408,
          0.376,
          0.4,
          0.344,
          0.376,
          0.384,
          0.44,
          0.496,
          0.44,
          0.472,
          0.488,
          0.368,
          0.328,
          0.464,
          0.408,
          0.44,
          0.392,
          0.44,
          0.496,
          0.552,
          0.392,
          0.36
         ],
         "yaxis": "y"
        },
        {
         "hovertemplate": "variable=Average reward (n*=16001)<br>Games played=%{x}<br>value=%{y}<extra></extra>",
         "legendgroup": "Average reward (n*=16001)",
         "line": {
          "color": "#EF553B",
          "dash": "solid"
         },
         "marker": {
          "symbol": "circle"
         },
         "mode": "lines",
         "name": "Average reward (n*=16001)",
         "orientation": "v",
         "showlegend": true,
         "type": "scatter",
         "x": [
          250,
          500,
          750,
          1000,
          1250,
          1500,
          1750,
          2000,
          2250,
          2500,
          2750,
          3000,
          3250,
          3500,
          3750,
          4000,
          4250,
          4500,
          4750,
          5000,
          5250,
          5500,
          5750,
          6000,
          6250,
          6500,
          6750,
          7000,
          7250,
          7500,
          7750,
          8000,
          8250,
          8500,
          8750,
          9000,
          9250,
          9500,
          9750,
          10000,
          10250,
          10500,
          10750,
          11000,
          11250,
          11500,
          11750,
          12000,
          12250,
          12500,
          12750,
          13000,
          13250,
          13500,
          13750,
          14000,
          14250,
          14500,
          14750,
          15000,
          15250,
          15500,
          15750,
          16000,
          16250,
          16500,
          16750,
          17000,
          17250,
          17500,
          17750,
          18000,
          18250,
          18500,
          18750,
          19000,
          19250,
          19500,
          19750
         ],
         "xaxis": "x",
         "y": [
          -0.41832669322709165,
          -0.416,
          -0.376,
          -0.216,
          -0.336,
          -0.272,
          -0.336,
          -0.304,
          -0.208,
          -0.2,
          -0.2,
          -0.224,
          -0.248,
          -0.232,
          -0.28,
          -0.216,
          -0.008,
          -0.2,
          -0.144,
          -0.088,
          -0.144,
          -0.2,
          -0.024,
          -0.064,
          -0.12,
          -0.12,
          -0.088,
          -0.064,
          -0.016,
          0.136,
          0.104,
          0.136,
          0.008,
          0.128,
          0.064,
          0.112,
          0.104,
          0.144,
          0.216,
          0.184,
          0.152,
          0.192,
          0.288,
          0.264,
          0.28,
          0.32,
          0.376,
          0.256,
          0.312,
          0.352,
          0.32,
          0.32,
          0.376,
          0.4,
          0.36,
          0.488,
          0.528,
          0.44,
          0.512,
          0.464,
          0.472,
          0.544,
          0.368,
          0.544,
          0.496,
          0.456,
          0.48,
          0.44,
          0.44,
          0.496,
          0.488,
          0.552,
          0.432,
          0.544,
          0.52,
          0.496,
          0.456,
          0.464,
          0.488
         ],
         "yaxis": "y"
        },
        {
         "hovertemplate": "variable=Average reward (n*=24000)<br>Games played=%{x}<br>value=%{y}<extra></extra>",
         "legendgroup": "Average reward (n*=24000)",
         "line": {
          "color": "#00cc96",
          "dash": "solid"
         },
         "marker": {
          "symbol": "circle"
         },
         "mode": "lines",
         "name": "Average reward (n*=24000)",
         "orientation": "v",
         "showlegend": true,
         "type": "scatter",
         "x": [
          250,
          500,
          750,
          1000,
          1250,
          1500,
          1750,
          2000,
          2250,
          2500,
          2750,
          3000,
          3250,
          3500,
          3750,
          4000,
          4250,
          4500,
          4750,
          5000,
          5250,
          5500,
          5750,
          6000,
          6250,
          6500,
          6750,
          7000,
          7250,
          7500,
          7750,
          8000,
          8250,
          8500,
          8750,
          9000,
          9250,
          9500,
          9750,
          10000,
          10250,
          10500,
          10750,
          11000,
          11250,
          11500,
          11750,
          12000,
          12250,
          12500,
          12750,
          13000,
          13250,
          13500,
          13750,
          14000,
          14250,
          14500,
          14750,
          15000,
          15250,
          15500,
          15750,
          16000,
          16250,
          16500,
          16750,
          17000,
          17250,
          17500,
          17750,
          18000,
          18250,
          18500,
          18750,
          19000,
          19250,
          19500,
          19750
         ],
         "xaxis": "x",
         "y": [
          -0.4103585657370518,
          -0.336,
          -0.296,
          -0.288,
          -0.328,
          -0.344,
          -0.368,
          -0.312,
          -0.304,
          -0.296,
          -0.296,
          -0.32,
          -0.208,
          -0.312,
          -0.304,
          -0.2,
          -0.248,
          -0.24,
          -0.224,
          -0.216,
          -0.168,
          -0.28,
          -0.248,
          -0.112,
          -0.224,
          -0.088,
          -0.088,
          -0.144,
          -0.112,
          -0.016,
          -0.2,
          -0.176,
          -0.032,
          0.016,
          -0.144,
          0.016,
          -0.12,
          0.032,
          -0.04,
          -0.096,
          -0.008,
          0.04,
          -0.04,
          0.08,
          0.032,
          0.032,
          0.008,
          0.048,
          0.08,
          0.088,
          0.048,
          0.088,
          0.168,
          0.088,
          0.104,
          0.176,
          0.208,
          0.216,
          0.152,
          0.144,
          0.368,
          0.184,
          0.256,
          0.28,
          0.264,
          0.248,
          0.232,
          0.336,
          0.272,
          0.208,
          0.36,
          0.176,
          0.216,
          0.352,
          0.352,
          0.416,
          0.488,
          0.424,
          0.376
         ],
         "yaxis": "y"
        },
        {
         "hovertemplate": "variable=Average reward (n*=32000)<br>Games played=%{x}<br>value=%{y}<extra></extra>",
         "legendgroup": "Average reward (n*=32000)",
         "line": {
          "color": "#ab63fa",
          "dash": "solid"
         },
         "marker": {
          "symbol": "circle"
         },
         "mode": "lines",
         "name": "Average reward (n*=32000)",
         "orientation": "v",
         "showlegend": true,
         "type": "scatter",
         "x": [
          250,
          500,
          750,
          1000,
          1250,
          1500,
          1750,
          2000,
          2250,
          2500,
          2750,
          3000,
          3250,
          3500,
          3750,
          4000,
          4250,
          4500,
          4750,
          5000,
          5250,
          5500,
          5750,
          6000,
          6250,
          6500,
          6750,
          7000,
          7250,
          7500,
          7750,
          8000,
          8250,
          8500,
          8750,
          9000,
          9250,
          9500,
          9750,
          10000,
          10250,
          10500,
          10750,
          11000,
          11250,
          11500,
          11750,
          12000,
          12250,
          12500,
          12750,
          13000,
          13250,
          13500,
          13750,
          14000,
          14250,
          14500,
          14750,
          15000,
          15250,
          15500,
          15750,
          16000,
          16250,
          16500,
          16750,
          17000,
          17250,
          17500,
          17750,
          18000,
          18250,
          18500,
          18750,
          19000,
          19250,
          19500,
          19750
         ],
         "xaxis": "x",
         "y": [
          -0.40239043824701193,
          -0.32,
          -0.488,
          -0.36,
          -0.352,
          -0.32,
          -0.288,
          -0.336,
          -0.376,
          -0.352,
          -0.32,
          -0.36,
          -0.208,
          -0.312,
          -0.36,
          -0.16,
          -0.256,
          -0.224,
          -0.256,
          -0.184,
          -0.256,
          -0.264,
          -0.304,
          -0.184,
          -0.168,
          -0.192,
          -0.176,
          -0.288,
          -0.248,
          -0.12,
          -0.216,
          -0.16,
          -0.208,
          -0.232,
          -0.112,
          -0.224,
          -0.32,
          -0.104,
          -0.192,
          -0.128,
          -0.2,
          -0.144,
          -0.064,
          -0.096,
          0.04,
          0.016,
          -0.08,
          -0.016,
          0.024,
          0,
          0.168,
          -0.064,
          0.016,
          0.088,
          0.072,
          -0.064,
          -0.008,
          0.008,
          -0.056,
          0.064,
          0.04,
          -0.008,
          0.16,
          0.088,
          -0.032,
          0.12,
          0.144,
          0.136,
          0.096,
          0.12,
          0.184,
          0.088,
          0.16,
          0.232,
          0.184,
          0.128,
          0.2,
          0.12,
          0.152
         ],
         "yaxis": "y"
        },
        {
         "hovertemplate": "variable=Average reward (n*=40000)<br>Games played=%{x}<br>value=%{y}<extra></extra>",
         "legendgroup": "Average reward (n*=40000)",
         "line": {
          "color": "#FFA15A",
          "dash": "solid"
         },
         "marker": {
          "symbol": "circle"
         },
         "mode": "lines",
         "name": "Average reward (n*=40000)",
         "orientation": "v",
         "showlegend": true,
         "type": "scatter",
         "x": [
          250,
          500,
          750,
          1000,
          1250,
          1500,
          1750,
          2000,
          2250,
          2500,
          2750,
          3000,
          3250,
          3500,
          3750,
          4000,
          4250,
          4500,
          4750,
          5000,
          5250,
          5500,
          5750,
          6000,
          6250,
          6500,
          6750,
          7000,
          7250,
          7500,
          7750,
          8000,
          8250,
          8500,
          8750,
          9000,
          9250,
          9500,
          9750,
          10000,
          10250,
          10500,
          10750,
          11000,
          11250,
          11500,
          11750,
          12000,
          12250,
          12500,
          12750,
          13000,
          13250,
          13500,
          13750,
          14000,
          14250,
          14500,
          14750,
          15000,
          15250,
          15500,
          15750,
          16000,
          16250,
          16500,
          16750,
          17000,
          17250,
          17500,
          17750,
          18000,
          18250,
          18500,
          18750,
          19000,
          19250,
          19500,
          19750
         ],
         "xaxis": "x",
         "y": [
          -0.4820717131474104,
          -0.4,
          -0.384,
          -0.472,
          -0.464,
          -0.384,
          -0.408,
          -0.288,
          -0.24,
          -0.392,
          -0.336,
          -0.336,
          -0.24,
          -0.32,
          -0.296,
          -0.256,
          -0.216,
          -0.312,
          -0.432,
          -0.232,
          -0.272,
          -0.2,
          -0.072,
          -0.184,
          -0.16,
          -0.184,
          -0.2,
          -0.192,
          -0.24,
          -0.208,
          -0.144,
          -0.184,
          -0.192,
          -0.2,
          -0.112,
          -0.176,
          -0.16,
          -0.16,
          -0.064,
          -0.184,
          -0.008,
          -0.128,
          -0.216,
          -0.112,
          -0.056,
          -0.16,
          -0.032,
          0.016,
          -0.064,
          -0.128,
          -0.12,
          -0.088,
          -0.184,
          -0.064,
          0.088,
          -0.136,
          -0.056,
          -0.048,
          0.008,
          -0.048,
          0,
          -0.024,
          0.096,
          -0.024,
          -0.024,
          0.024,
          0,
          -0.048,
          -0.008,
          0.08,
          0.008,
          0.024,
          0.136,
          0.072,
          0.12,
          0.064,
          -0.048,
          0.152,
          -0.072
         ],
         "yaxis": "y"
        },
        {
         "hovertemplate": "variable=Average reward (n*=8001)<br>Games played=%{x}<br>value=%{y}<extra></extra>",
         "legendgroup": "Average reward (n*=8001)",
         "line": {
          "color": "#19d3f3",
          "dash": "solid"
         },
         "marker": {
          "symbol": "circle"
         },
         "mode": "lines",
         "name": "Average reward (n*=8001)",
         "orientation": "v",
         "showlegend": true,
         "type": "scatter",
         "x": [
          250,
          500,
          750,
          1000,
          1250,
          1500,
          1750,
          2000,
          2250,
          2500,
          2750,
          3000,
          3250,
          3500,
          3750,
          4000,
          4250,
          4500,
          4750,
          5000,
          5250,
          5500,
          5750,
          6000,
          6250,
          6500,
          6750,
          7000,
          7250,
          7500,
          7750,
          8000,
          8250,
          8500,
          8750,
          9000,
          9250,
          9500,
          9750,
          10000,
          10250,
          10500,
          10750,
          11000,
          11250,
          11500,
          11750,
          12000,
          12250,
          12500,
          12750,
          13000,
          13250,
          13500,
          13750,
          14000,
          14250,
          14500,
          14750,
          15000,
          15250,
          15500,
          15750,
          16000,
          16250,
          16500,
          16750,
          17000,
          17250,
          17500,
          17750,
          18000,
          18250,
          18500,
          18750,
          19000,
          19250,
          19500,
          19750
         ],
         "xaxis": "x",
         "y": [
          -0.4581673306772908,
          -0.456,
          -0.408,
          -0.28,
          -0.4,
          -0.392,
          -0.184,
          -0.328,
          -0.104,
          -0.24,
          -0.12,
          -0.064,
          -0.04,
          0.048,
          -0.008,
          -0.064,
          -0.024,
          0.048,
          0.064,
          0.136,
          0.16,
          0.088,
          0.296,
          0.184,
          0.12,
          0.416,
          0.296,
          0.352,
          0.48,
          0.456,
          0.32,
          0.4,
          0.512,
          0.432,
          0.4,
          0.48,
          0.368,
          0.424,
          0.512,
          0.496,
          0.448,
          0.464,
          0.448,
          0.392,
          0.528,
          0.504,
          0.36,
          0.456,
          0.576,
          0.496,
          0.472,
          0.6,
          0.512,
          0.528,
          0.504,
          0.376,
          0.376,
          0.376,
          0.48,
          0.48,
          0.44,
          0.536,
          0.52,
          0.48,
          0.344,
          0.432,
          0.488,
          0.536,
          0.56,
          0.504,
          0.376,
          0.592,
          0.536,
          0.6,
          0.488,
          0.448,
          0.512,
          0.48,
          0.504
         ],
         "yaxis": "y"
        }
       ],
       "layout": {
        "legend": {
         "title": {
          "text": "variable"
         },
         "tracegroupgap": 0
        },
        "template": {
         "data": {
          "bar": [
           {
            "error_x": {
             "color": "#2a3f5f"
            },
            "error_y": {
             "color": "#2a3f5f"
            },
            "marker": {
             "line": {
              "color": "#E5ECF6",
              "width": 0.5
             },
             "pattern": {
              "fillmode": "overlay",
              "size": 10,
              "solidity": 0.2
             }
            },
            "type": "bar"
           }
          ],
          "barpolar": [
           {
            "marker": {
             "line": {
              "color": "#E5ECF6",
              "width": 0.5
             },
             "pattern": {
              "fillmode": "overlay",
              "size": 10,
              "solidity": 0.2
             }
            },
            "type": "barpolar"
           }
          ],
          "carpet": [
           {
            "aaxis": {
             "endlinecolor": "#2a3f5f",
             "gridcolor": "white",
             "linecolor": "white",
             "minorgridcolor": "white",
             "startlinecolor": "#2a3f5f"
            },
            "baxis": {
             "endlinecolor": "#2a3f5f",
             "gridcolor": "white",
             "linecolor": "white",
             "minorgridcolor": "white",
             "startlinecolor": "#2a3f5f"
            },
            "type": "carpet"
           }
          ],
          "choropleth": [
           {
            "colorbar": {
             "outlinewidth": 0,
             "ticks": ""
            },
            "type": "choropleth"
           }
          ],
          "contour": [
           {
            "colorbar": {
             "outlinewidth": 0,
             "ticks": ""
            },
            "colorscale": [
             [
              0,
              "#0d0887"
             ],
             [
              0.1111111111111111,
              "#46039f"
             ],
             [
              0.2222222222222222,
              "#7201a8"
             ],
             [
              0.3333333333333333,
              "#9c179e"
             ],
             [
              0.4444444444444444,
              "#bd3786"
             ],
             [
              0.5555555555555556,
              "#d8576b"
             ],
             [
              0.6666666666666666,
              "#ed7953"
             ],
             [
              0.7777777777777778,
              "#fb9f3a"
             ],
             [
              0.8888888888888888,
              "#fdca26"
             ],
             [
              1,
              "#f0f921"
             ]
            ],
            "type": "contour"
           }
          ],
          "contourcarpet": [
           {
            "colorbar": {
             "outlinewidth": 0,
             "ticks": ""
            },
            "type": "contourcarpet"
           }
          ],
          "heatmap": [
           {
            "colorbar": {
             "outlinewidth": 0,
             "ticks": ""
            },
            "colorscale": [
             [
              0,
              "#0d0887"
             ],
             [
              0.1111111111111111,
              "#46039f"
             ],
             [
              0.2222222222222222,
              "#7201a8"
             ],
             [
              0.3333333333333333,
              "#9c179e"
             ],
             [
              0.4444444444444444,
              "#bd3786"
             ],
             [
              0.5555555555555556,
              "#d8576b"
             ],
             [
              0.6666666666666666,
              "#ed7953"
             ],
             [
              0.7777777777777778,
              "#fb9f3a"
             ],
             [
              0.8888888888888888,
              "#fdca26"
             ],
             [
              1,
              "#f0f921"
             ]
            ],
            "type": "heatmap"
           }
          ],
          "heatmapgl": [
           {
            "colorbar": {
             "outlinewidth": 0,
             "ticks": ""
            },
            "colorscale": [
             [
              0,
              "#0d0887"
             ],
             [
              0.1111111111111111,
              "#46039f"
             ],
             [
              0.2222222222222222,
              "#7201a8"
             ],
             [
              0.3333333333333333,
              "#9c179e"
             ],
             [
              0.4444444444444444,
              "#bd3786"
             ],
             [
              0.5555555555555556,
              "#d8576b"
             ],
             [
              0.6666666666666666,
              "#ed7953"
             ],
             [
              0.7777777777777778,
              "#fb9f3a"
             ],
             [
              0.8888888888888888,
              "#fdca26"
             ],
             [
              1,
              "#f0f921"
             ]
            ],
            "type": "heatmapgl"
           }
          ],
          "histogram": [
           {
            "marker": {
             "pattern": {
              "fillmode": "overlay",
              "size": 10,
              "solidity": 0.2
             }
            },
            "type": "histogram"
           }
          ],
          "histogram2d": [
           {
            "colorbar": {
             "outlinewidth": 0,
             "ticks": ""
            },
            "colorscale": [
             [
              0,
              "#0d0887"
             ],
             [
              0.1111111111111111,
              "#46039f"
             ],
             [
              0.2222222222222222,
              "#7201a8"
             ],
             [
              0.3333333333333333,
              "#9c179e"
             ],
             [
              0.4444444444444444,
              "#bd3786"
             ],
             [
              0.5555555555555556,
              "#d8576b"
             ],
             [
              0.6666666666666666,
              "#ed7953"
             ],
             [
              0.7777777777777778,
              "#fb9f3a"
             ],
             [
              0.8888888888888888,
              "#fdca26"
             ],
             [
              1,
              "#f0f921"
             ]
            ],
            "type": "histogram2d"
           }
          ],
          "histogram2dcontour": [
           {
            "colorbar": {
             "outlinewidth": 0,
             "ticks": ""
            },
            "colorscale": [
             [
              0,
              "#0d0887"
             ],
             [
              0.1111111111111111,
              "#46039f"
             ],
             [
              0.2222222222222222,
              "#7201a8"
             ],
             [
              0.3333333333333333,
              "#9c179e"
             ],
             [
              0.4444444444444444,
              "#bd3786"
             ],
             [
              0.5555555555555556,
              "#d8576b"
             ],
             [
              0.6666666666666666,
              "#ed7953"
             ],
             [
              0.7777777777777778,
              "#fb9f3a"
             ],
             [
              0.8888888888888888,
              "#fdca26"
             ],
             [
              1,
              "#f0f921"
             ]
            ],
            "type": "histogram2dcontour"
           }
          ],
          "mesh3d": [
           {
            "colorbar": {
             "outlinewidth": 0,
             "ticks": ""
            },
            "type": "mesh3d"
           }
          ],
          "parcoords": [
           {
            "line": {
             "colorbar": {
              "outlinewidth": 0,
              "ticks": ""
             }
            },
            "type": "parcoords"
           }
          ],
          "pie": [
           {
            "automargin": true,
            "type": "pie"
           }
          ],
          "scatter": [
           {
            "fillpattern": {
             "fillmode": "overlay",
             "size": 10,
             "solidity": 0.2
            },
            "type": "scatter"
           }
          ],
          "scatter3d": [
           {
            "line": {
             "colorbar": {
              "outlinewidth": 0,
              "ticks": ""
             }
            },
            "marker": {
             "colorbar": {
              "outlinewidth": 0,
              "ticks": ""
             }
            },
            "type": "scatter3d"
           }
          ],
          "scattercarpet": [
           {
            "marker": {
             "colorbar": {
              "outlinewidth": 0,
              "ticks": ""
             }
            },
            "type": "scattercarpet"
           }
          ],
          "scattergeo": [
           {
            "marker": {
             "colorbar": {
              "outlinewidth": 0,
              "ticks": ""
             }
            },
            "type": "scattergeo"
           }
          ],
          "scattergl": [
           {
            "marker": {
             "colorbar": {
              "outlinewidth": 0,
              "ticks": ""
             }
            },
            "type": "scattergl"
           }
          ],
          "scattermapbox": [
           {
            "marker": {
             "colorbar": {
              "outlinewidth": 0,
              "ticks": ""
             }
            },
            "type": "scattermapbox"
           }
          ],
          "scatterpolar": [
           {
            "marker": {
             "colorbar": {
              "outlinewidth": 0,
              "ticks": ""
             }
            },
            "type": "scatterpolar"
           }
          ],
          "scatterpolargl": [
           {
            "marker": {
             "colorbar": {
              "outlinewidth": 0,
              "ticks": ""
             }
            },
            "type": "scatterpolargl"
           }
          ],
          "scatterternary": [
           {
            "marker": {
             "colorbar": {
              "outlinewidth": 0,
              "ticks": ""
             }
            },
            "type": "scatterternary"
           }
          ],
          "surface": [
           {
            "colorbar": {
             "outlinewidth": 0,
             "ticks": ""
            },
            "colorscale": [
             [
              0,
              "#0d0887"
             ],
             [
              0.1111111111111111,
              "#46039f"
             ],
             [
              0.2222222222222222,
              "#7201a8"
             ],
             [
              0.3333333333333333,
              "#9c179e"
             ],
             [
              0.4444444444444444,
              "#bd3786"
             ],
             [
              0.5555555555555556,
              "#d8576b"
             ],
             [
              0.6666666666666666,
              "#ed7953"
             ],
             [
              0.7777777777777778,
              "#fb9f3a"
             ],
             [
              0.8888888888888888,
              "#fdca26"
             ],
             [
              1,
              "#f0f921"
             ]
            ],
            "type": "surface"
           }
          ],
          "table": [
           {
            "cells": {
             "fill": {
              "color": "#EBF0F8"
             },
             "line": {
              "color": "white"
             }
            },
            "header": {
             "fill": {
              "color": "#C8D4E3"
             },
             "line": {
              "color": "white"
             }
            },
            "type": "table"
           }
          ]
         },
         "layout": {
          "annotationdefaults": {
           "arrowcolor": "#2a3f5f",
           "arrowhead": 0,
           "arrowwidth": 1
          },
          "autotypenumbers": "strict",
          "coloraxis": {
           "colorbar": {
            "outlinewidth": 0,
            "ticks": ""
           }
          },
          "colorscale": {
           "diverging": [
            [
             0,
             "#8e0152"
            ],
            [
             0.1,
             "#c51b7d"
            ],
            [
             0.2,
             "#de77ae"
            ],
            [
             0.3,
             "#f1b6da"
            ],
            [
             0.4,
             "#fde0ef"
            ],
            [
             0.5,
             "#f7f7f7"
            ],
            [
             0.6,
             "#e6f5d0"
            ],
            [
             0.7,
             "#b8e186"
            ],
            [
             0.8,
             "#7fbc41"
            ],
            [
             0.9,
             "#4d9221"
            ],
            [
             1,
             "#276419"
            ]
           ],
           "sequential": [
            [
             0,
             "#0d0887"
            ],
            [
             0.1111111111111111,
             "#46039f"
            ],
            [
             0.2222222222222222,
             "#7201a8"
            ],
            [
             0.3333333333333333,
             "#9c179e"
            ],
            [
             0.4444444444444444,
             "#bd3786"
            ],
            [
             0.5555555555555556,
             "#d8576b"
            ],
            [
             0.6666666666666666,
             "#ed7953"
            ],
            [
             0.7777777777777778,
             "#fb9f3a"
            ],
            [
             0.8888888888888888,
             "#fdca26"
            ],
            [
             1,
             "#f0f921"
            ]
           ],
           "sequentialminus": [
            [
             0,
             "#0d0887"
            ],
            [
             0.1111111111111111,
             "#46039f"
            ],
            [
             0.2222222222222222,
             "#7201a8"
            ],
            [
             0.3333333333333333,
             "#9c179e"
            ],
            [
             0.4444444444444444,
             "#bd3786"
            ],
            [
             0.5555555555555556,
             "#d8576b"
            ],
            [
             0.6666666666666666,
             "#ed7953"
            ],
            [
             0.7777777777777778,
             "#fb9f3a"
            ],
            [
             0.8888888888888888,
             "#fdca26"
            ],
            [
             1,
             "#f0f921"
            ]
           ]
          },
          "colorway": [
           "#636efa",
           "#EF553B",
           "#00cc96",
           "#ab63fa",
           "#FFA15A",
           "#19d3f3",
           "#FF6692",
           "#B6E880",
           "#FF97FF",
           "#FECB52"
          ],
          "font": {
           "color": "#2a3f5f"
          },
          "geo": {
           "bgcolor": "white",
           "lakecolor": "white",
           "landcolor": "#E5ECF6",
           "showlakes": true,
           "showland": true,
           "subunitcolor": "white"
          },
          "hoverlabel": {
           "align": "left"
          },
          "hovermode": "closest",
          "mapbox": {
           "style": "light"
          },
          "paper_bgcolor": "white",
          "plot_bgcolor": "#E5ECF6",
          "polar": {
           "angularaxis": {
            "gridcolor": "white",
            "linecolor": "white",
            "ticks": ""
           },
           "bgcolor": "#E5ECF6",
           "radialaxis": {
            "gridcolor": "white",
            "linecolor": "white",
            "ticks": ""
           }
          },
          "scene": {
           "xaxis": {
            "backgroundcolor": "#E5ECF6",
            "gridcolor": "white",
            "gridwidth": 2,
            "linecolor": "white",
            "showbackground": true,
            "ticks": "",
            "zerolinecolor": "white"
           },
           "yaxis": {
            "backgroundcolor": "#E5ECF6",
            "gridcolor": "white",
            "gridwidth": 2,
            "linecolor": "white",
            "showbackground": true,
            "ticks": "",
            "zerolinecolor": "white"
           },
           "zaxis": {
            "backgroundcolor": "#E5ECF6",
            "gridcolor": "white",
            "gridwidth": 2,
            "linecolor": "white",
            "showbackground": true,
            "ticks": "",
            "zerolinecolor": "white"
           }
          },
          "shapedefaults": {
           "line": {
            "color": "#2a3f5f"
           }
          },
          "ternary": {
           "aaxis": {
            "gridcolor": "white",
            "linecolor": "white",
            "ticks": ""
           },
           "baxis": {
            "gridcolor": "white",
            "linecolor": "white",
            "ticks": ""
           },
           "bgcolor": "#E5ECF6",
           "caxis": {
            "gridcolor": "white",
            "linecolor": "white",
            "ticks": ""
           }
          },
          "title": {
           "x": 0.05
          },
          "xaxis": {
           "automargin": true,
           "gridcolor": "white",
           "linecolor": "white",
           "ticks": "",
           "title": {
            "standoff": 15
           },
           "zerolinecolor": "white",
           "zerolinewidth": 2
          },
          "yaxis": {
           "automargin": true,
           "gridcolor": "white",
           "linecolor": "white",
           "ticks": "",
           "title": {
            "standoff": 15
           },
           "zerolinecolor": "white",
           "zerolinewidth": 2
          }
         }
        },
        "title": {
         "text": "Training with Decreasing epsilon. Comparing different n* values"
        },
        "width": 800,
        "xaxis": {
         "anchor": "y",
         "domain": [
          0,
          1
         ],
         "title": {
          "text": "Games played"
         }
        },
        "yaxis": {
         "anchor": "x",
         "domain": [
          0,
          1
         ],
         "title": {
          "text": "value"
         }
        }
       }
      }
     },
     "metadata": {},
     "output_type": "display_data"
    }
   ],
   "source": [
    "env = NimEnv()\n",
    "#output=[]\n",
    "n_star_values=np.linspace(1,40000,6)\n",
    "\n",
    "df = {'Games played':list(np.arange(1,20000//METRICS_FREQUENCY)*METRICS_FREQUENCY)}\n",
    "num_cores = min(len(n_star_values),mp.cpu_count())\n",
    "def parallelGames(n_star):\n",
    "    df = {}\n",
    "    metrics,_=q_learning(env,num_games=20000, eps_q=0.1, gamma=0.99, decreasing_eps=True, n_star=n_star, verbose=False)\n",
    "    #y=metrics.reshape(metrics.size//METRICS_FREQUENCY, METRICS_FREQUENCY).mean(axis=1)\n",
    "    df[f'Average reward (n*={n_star:.0f})'] = metrics[0]\n",
    "    return df\n",
    "\n",
    "dfs = Parallel(n_jobs=num_cores)(delayed(parallelGames)(n_star) for n_star in n_star_values)\n",
    "for d in dfs:\n",
    "    df.update(d)\n",
    "\n",
    "df = pd.DataFrame(df)\n",
    "fig = px.line(df, x='Games played', y=df.columns.difference(['Games played']), title=f'Training with Decreasing epsilon. Comparing different n* values')\n",
    "fig.update_layout(width=800)\n",
    "fig.show()"
   ]
  },
  {
   "cell_type": "markdown",
   "metadata": {
    "collapsed": false
   },
   "source": [
    "It seems like n*=1 gives an extra boost in learning in the beginning, making the mean reward curve grow faster. Higher values seem to have similar results to fixed eps and n*>6000 means a slower learning curve but explores more possibilities. The sweet spot is converging to the same mean reward in 20'000 games while achieving a lower generalization error."
   ]
  },
  {
   "cell_type": "markdown",
   "metadata": {
    "collapsed": false
   },
   "source": [
    "Question 3. After every 250 games during training, compute the ‘test’ Mopt and Mrand for your agents\n",
    "– when measuring the ‘test’ performance, put eps = 0 and do not update the Q-values. Plot Mopt and\n",
    "Mrand over time. Describe the differences and the similarities between these curves and the ones of the\n",
    "previous question.\n",
    "\n",
    "M_opt/rand = (N_win - N_win)/ N_tot"
   ]
  },
  {
   "cell_type": "code",
   "execution_count": 110,
   "metadata": {
    "collapsed": false,
    "pycharm": {
     "name": "#%%\n"
    }
   },
   "outputs": [
    {
     "data": {
      "application/vnd.plotly.v1+json": {
       "config": {
        "plotlyServerURL": "https://plot.ly"
       },
       "data": [
        {
         "hovertemplate": "variable=M_opt<br>Games played=%{x}<br>value=%{y}<extra></extra>",
         "legendgroup": "M_opt",
         "line": {
          "color": "#636efa",
          "dash": "solid"
         },
         "marker": {
          "symbol": "circle"
         },
         "mode": "lines",
         "name": "M_opt",
         "orientation": "v",
         "showlegend": true,
         "type": "scatter",
         "x": [
          250,
          500,
          750,
          1000,
          1250,
          1500,
          1750,
          2000,
          2250,
          2500,
          2750,
          3000,
          3250,
          3500,
          3750,
          4000,
          4250,
          4500,
          4750,
          5000,
          5250,
          5500,
          5750,
          6000,
          6250,
          6500,
          6750,
          7000,
          7250,
          7500,
          7750,
          8000,
          8250,
          8500,
          8750,
          9000,
          9250,
          9500,
          9750,
          10000,
          10250,
          10500,
          10750,
          11000,
          11250,
          11500,
          11750,
          12000,
          12250,
          12500,
          12750,
          13000,
          13250,
          13500,
          13750,
          14000,
          14250,
          14500,
          14750,
          15000,
          15250,
          15500,
          15750,
          16000,
          16250,
          16500,
          16750,
          17000,
          17250,
          17500,
          17750,
          18000,
          18250,
          18500,
          18750,
          19000,
          19250,
          19500,
          19750
         ],
         "xaxis": "x",
         "y": [
          -0.972,
          -0.944,
          -0.964,
          -0.884,
          -0.9,
          -0.896,
          -0.9,
          -0.904,
          -0.9,
          -0.88,
          -0.888,
          -0.872,
          -0.876,
          -0.916,
          -0.876,
          -0.904,
          -0.884,
          -0.88,
          -0.872,
          -0.896,
          -0.908,
          -0.88,
          -0.916,
          -0.888,
          -0.9,
          -0.928,
          -0.896,
          -0.884,
          -0.876,
          -0.888,
          -0.884,
          -0.892,
          -0.916,
          -0.92,
          -0.9,
          -0.908,
          -0.904,
          -0.932,
          -0.904,
          -0.896,
          -0.908,
          -0.92,
          -0.904,
          -0.892,
          -0.888,
          -0.916,
          -0.872,
          -0.924,
          -0.856,
          -0.888,
          -0.888,
          -0.916,
          -0.856,
          -0.904,
          -0.904,
          -0.892,
          -0.908,
          -0.924,
          -0.876,
          -0.884,
          -0.884,
          -0.932,
          -0.888,
          -0.86,
          -0.892,
          -0.908,
          -0.876,
          -0.892,
          -0.884,
          -0.852,
          -0.912,
          -0.912,
          -0.876,
          -0.868,
          -0.944,
          -0.904,
          -0.888,
          -0.88,
          -0.912
         ],
         "yaxis": "y"
        },
        {
         "hovertemplate": "variable=M_rand<br>Games played=%{x}<br>value=%{y}<extra></extra>",
         "legendgroup": "M_rand",
         "line": {
          "color": "#EF553B",
          "dash": "solid"
         },
         "marker": {
          "symbol": "circle"
         },
         "mode": "lines",
         "name": "M_rand",
         "orientation": "v",
         "showlegend": true,
         "type": "scatter",
         "x": [
          250,
          500,
          750,
          1000,
          1250,
          1500,
          1750,
          2000,
          2250,
          2500,
          2750,
          3000,
          3250,
          3500,
          3750,
          4000,
          4250,
          4500,
          4750,
          5000,
          5250,
          5500,
          5750,
          6000,
          6250,
          6500,
          6750,
          7000,
          7250,
          7500,
          7750,
          8000,
          8250,
          8500,
          8750,
          9000,
          9250,
          9500,
          9750,
          10000,
          10250,
          10500,
          10750,
          11000,
          11250,
          11500,
          11750,
          12000,
          12250,
          12500,
          12750,
          13000,
          13250,
          13500,
          13750,
          14000,
          14250,
          14500,
          14750,
          15000,
          15250,
          15500,
          15750,
          16000,
          16250,
          16500,
          16750,
          17000,
          17250,
          17500,
          17750,
          18000,
          18250,
          18500,
          18750,
          19000,
          19250,
          19500,
          19750
         ],
         "xaxis": "x",
         "y": [
          0.584,
          0.752,
          0.788,
          0.82,
          0.776,
          0.82,
          0.888,
          0.868,
          0.86,
          0.856,
          0.92,
          0.94,
          0.936,
          0.94,
          0.952,
          0.956,
          0.956,
          0.932,
          0.932,
          0.936,
          0.956,
          0.956,
          0.96,
          0.948,
          0.96,
          0.916,
          0.936,
          0.932,
          0.956,
          0.94,
          0.944,
          0.94,
          0.956,
          0.956,
          0.984,
          0.972,
          0.96,
          0.968,
          0.972,
          0.972,
          0.972,
          0.952,
          0.976,
          0.98,
          0.984,
          0.948,
          0.992,
          0.98,
          0.968,
          0.976,
          0.98,
          0.98,
          0.992,
          1,
          0.98,
          0.988,
          0.996,
          0.992,
          0.992,
          0.976,
          0.992,
          0.988,
          0.984,
          0.992,
          0.988,
          0.992,
          0.984,
          0.988,
          0.992,
          0.996,
          0.992,
          0.968,
          0.972,
          0.984,
          0.98,
          0.988,
          0.988,
          0.996,
          0.988
         ],
         "yaxis": "y"
        },
        {
         "hovertemplate": "variable=Mean reward<br>Games played=%{x}<br>value=%{y}<extra></extra>",
         "legendgroup": "Mean reward",
         "line": {
          "color": "#00cc96",
          "dash": "solid"
         },
         "marker": {
          "symbol": "circle"
         },
         "mode": "lines",
         "name": "Mean reward",
         "orientation": "v",
         "showlegend": true,
         "type": "scatter",
         "x": [
          250,
          500,
          750,
          1000,
          1250,
          1500,
          1750,
          2000,
          2250,
          2500,
          2750,
          3000,
          3250,
          3500,
          3750,
          4000,
          4250,
          4500,
          4750,
          5000,
          5250,
          5500,
          5750,
          6000,
          6250,
          6500,
          6750,
          7000,
          7250,
          7500,
          7750,
          8000,
          8250,
          8500,
          8750,
          9000,
          9250,
          9500,
          9750,
          10000,
          10250,
          10500,
          10750,
          11000,
          11250,
          11500,
          11750,
          12000,
          12250,
          12500,
          12750,
          13000,
          13250,
          13500,
          13750,
          14000,
          14250,
          14500,
          14750,
          15000,
          15250,
          15500,
          15750,
          16000,
          16250,
          16500,
          16750,
          17000,
          17250,
          17500,
          17750,
          18000,
          18250,
          18500,
          18750,
          19000,
          19250,
          19500,
          19750
         ],
         "xaxis": "x",
         "y": [
          -0.18725099601593626,
          0.032,
          0.072,
          0.256,
          0.168,
          0.232,
          0.288,
          0.24,
          0.352,
          0.392,
          0.36,
          0.304,
          0.384,
          0.272,
          0.432,
          0.448,
          0.44,
          0.432,
          0.448,
          0.336,
          0.328,
          0.368,
          0.36,
          0.312,
          0.288,
          0.432,
          0.4,
          0.424,
          0.448,
          0.312,
          0.48,
          0.416,
          0.352,
          0.424,
          0.344,
          0.416,
          0.384,
          0.464,
          0.416,
          0.336,
          0.456,
          0.408,
          0.504,
          0.528,
          0.4,
          0.376,
          0.392,
          0.384,
          0.368,
          0.448,
          0.488,
          0.392,
          0.584,
          0.44,
          0.568,
          0.528,
          0.568,
          0.304,
          0.544,
          0.512,
          0.528,
          0.4,
          0.448,
          0.44,
          0.472,
          0.504,
          0.456,
          0.392,
          0.528,
          0.448,
          0.44,
          0.432,
          0.504,
          0.336,
          0.496,
          0.472,
          0.416,
          0.544,
          0.488
         ],
         "yaxis": "y"
        }
       ],
       "layout": {
        "legend": {
         "title": {
          "text": "variable"
         },
         "tracegroupgap": 0
        },
        "template": {
         "data": {
          "bar": [
           {
            "error_x": {
             "color": "#2a3f5f"
            },
            "error_y": {
             "color": "#2a3f5f"
            },
            "marker": {
             "line": {
              "color": "#E5ECF6",
              "width": 0.5
             },
             "pattern": {
              "fillmode": "overlay",
              "size": 10,
              "solidity": 0.2
             }
            },
            "type": "bar"
           }
          ],
          "barpolar": [
           {
            "marker": {
             "line": {
              "color": "#E5ECF6",
              "width": 0.5
             },
             "pattern": {
              "fillmode": "overlay",
              "size": 10,
              "solidity": 0.2
             }
            },
            "type": "barpolar"
           }
          ],
          "carpet": [
           {
            "aaxis": {
             "endlinecolor": "#2a3f5f",
             "gridcolor": "white",
             "linecolor": "white",
             "minorgridcolor": "white",
             "startlinecolor": "#2a3f5f"
            },
            "baxis": {
             "endlinecolor": "#2a3f5f",
             "gridcolor": "white",
             "linecolor": "white",
             "minorgridcolor": "white",
             "startlinecolor": "#2a3f5f"
            },
            "type": "carpet"
           }
          ],
          "choropleth": [
           {
            "colorbar": {
             "outlinewidth": 0,
             "ticks": ""
            },
            "type": "choropleth"
           }
          ],
          "contour": [
           {
            "colorbar": {
             "outlinewidth": 0,
             "ticks": ""
            },
            "colorscale": [
             [
              0,
              "#0d0887"
             ],
             [
              0.1111111111111111,
              "#46039f"
             ],
             [
              0.2222222222222222,
              "#7201a8"
             ],
             [
              0.3333333333333333,
              "#9c179e"
             ],
             [
              0.4444444444444444,
              "#bd3786"
             ],
             [
              0.5555555555555556,
              "#d8576b"
             ],
             [
              0.6666666666666666,
              "#ed7953"
             ],
             [
              0.7777777777777778,
              "#fb9f3a"
             ],
             [
              0.8888888888888888,
              "#fdca26"
             ],
             [
              1,
              "#f0f921"
             ]
            ],
            "type": "contour"
           }
          ],
          "contourcarpet": [
           {
            "colorbar": {
             "outlinewidth": 0,
             "ticks": ""
            },
            "type": "contourcarpet"
           }
          ],
          "heatmap": [
           {
            "colorbar": {
             "outlinewidth": 0,
             "ticks": ""
            },
            "colorscale": [
             [
              0,
              "#0d0887"
             ],
             [
              0.1111111111111111,
              "#46039f"
             ],
             [
              0.2222222222222222,
              "#7201a8"
             ],
             [
              0.3333333333333333,
              "#9c179e"
             ],
             [
              0.4444444444444444,
              "#bd3786"
             ],
             [
              0.5555555555555556,
              "#d8576b"
             ],
             [
              0.6666666666666666,
              "#ed7953"
             ],
             [
              0.7777777777777778,
              "#fb9f3a"
             ],
             [
              0.8888888888888888,
              "#fdca26"
             ],
             [
              1,
              "#f0f921"
             ]
            ],
            "type": "heatmap"
           }
          ],
          "heatmapgl": [
           {
            "colorbar": {
             "outlinewidth": 0,
             "ticks": ""
            },
            "colorscale": [
             [
              0,
              "#0d0887"
             ],
             [
              0.1111111111111111,
              "#46039f"
             ],
             [
              0.2222222222222222,
              "#7201a8"
             ],
             [
              0.3333333333333333,
              "#9c179e"
             ],
             [
              0.4444444444444444,
              "#bd3786"
             ],
             [
              0.5555555555555556,
              "#d8576b"
             ],
             [
              0.6666666666666666,
              "#ed7953"
             ],
             [
              0.7777777777777778,
              "#fb9f3a"
             ],
             [
              0.8888888888888888,
              "#fdca26"
             ],
             [
              1,
              "#f0f921"
             ]
            ],
            "type": "heatmapgl"
           }
          ],
          "histogram": [
           {
            "marker": {
             "pattern": {
              "fillmode": "overlay",
              "size": 10,
              "solidity": 0.2
             }
            },
            "type": "histogram"
           }
          ],
          "histogram2d": [
           {
            "colorbar": {
             "outlinewidth": 0,
             "ticks": ""
            },
            "colorscale": [
             [
              0,
              "#0d0887"
             ],
             [
              0.1111111111111111,
              "#46039f"
             ],
             [
              0.2222222222222222,
              "#7201a8"
             ],
             [
              0.3333333333333333,
              "#9c179e"
             ],
             [
              0.4444444444444444,
              "#bd3786"
             ],
             [
              0.5555555555555556,
              "#d8576b"
             ],
             [
              0.6666666666666666,
              "#ed7953"
             ],
             [
              0.7777777777777778,
              "#fb9f3a"
             ],
             [
              0.8888888888888888,
              "#fdca26"
             ],
             [
              1,
              "#f0f921"
             ]
            ],
            "type": "histogram2d"
           }
          ],
          "histogram2dcontour": [
           {
            "colorbar": {
             "outlinewidth": 0,
             "ticks": ""
            },
            "colorscale": [
             [
              0,
              "#0d0887"
             ],
             [
              0.1111111111111111,
              "#46039f"
             ],
             [
              0.2222222222222222,
              "#7201a8"
             ],
             [
              0.3333333333333333,
              "#9c179e"
             ],
             [
              0.4444444444444444,
              "#bd3786"
             ],
             [
              0.5555555555555556,
              "#d8576b"
             ],
             [
              0.6666666666666666,
              "#ed7953"
             ],
             [
              0.7777777777777778,
              "#fb9f3a"
             ],
             [
              0.8888888888888888,
              "#fdca26"
             ],
             [
              1,
              "#f0f921"
             ]
            ],
            "type": "histogram2dcontour"
           }
          ],
          "mesh3d": [
           {
            "colorbar": {
             "outlinewidth": 0,
             "ticks": ""
            },
            "type": "mesh3d"
           }
          ],
          "parcoords": [
           {
            "line": {
             "colorbar": {
              "outlinewidth": 0,
              "ticks": ""
             }
            },
            "type": "parcoords"
           }
          ],
          "pie": [
           {
            "automargin": true,
            "type": "pie"
           }
          ],
          "scatter": [
           {
            "fillpattern": {
             "fillmode": "overlay",
             "size": 10,
             "solidity": 0.2
            },
            "type": "scatter"
           }
          ],
          "scatter3d": [
           {
            "line": {
             "colorbar": {
              "outlinewidth": 0,
              "ticks": ""
             }
            },
            "marker": {
             "colorbar": {
              "outlinewidth": 0,
              "ticks": ""
             }
            },
            "type": "scatter3d"
           }
          ],
          "scattercarpet": [
           {
            "marker": {
             "colorbar": {
              "outlinewidth": 0,
              "ticks": ""
             }
            },
            "type": "scattercarpet"
           }
          ],
          "scattergeo": [
           {
            "marker": {
             "colorbar": {
              "outlinewidth": 0,
              "ticks": ""
             }
            },
            "type": "scattergeo"
           }
          ],
          "scattergl": [
           {
            "marker": {
             "colorbar": {
              "outlinewidth": 0,
              "ticks": ""
             }
            },
            "type": "scattergl"
           }
          ],
          "scattermapbox": [
           {
            "marker": {
             "colorbar": {
              "outlinewidth": 0,
              "ticks": ""
             }
            },
            "type": "scattermapbox"
           }
          ],
          "scatterpolar": [
           {
            "marker": {
             "colorbar": {
              "outlinewidth": 0,
              "ticks": ""
             }
            },
            "type": "scatterpolar"
           }
          ],
          "scatterpolargl": [
           {
            "marker": {
             "colorbar": {
              "outlinewidth": 0,
              "ticks": ""
             }
            },
            "type": "scatterpolargl"
           }
          ],
          "scatterternary": [
           {
            "marker": {
             "colorbar": {
              "outlinewidth": 0,
              "ticks": ""
             }
            },
            "type": "scatterternary"
           }
          ],
          "surface": [
           {
            "colorbar": {
             "outlinewidth": 0,
             "ticks": ""
            },
            "colorscale": [
             [
              0,
              "#0d0887"
             ],
             [
              0.1111111111111111,
              "#46039f"
             ],
             [
              0.2222222222222222,
              "#7201a8"
             ],
             [
              0.3333333333333333,
              "#9c179e"
             ],
             [
              0.4444444444444444,
              "#bd3786"
             ],
             [
              0.5555555555555556,
              "#d8576b"
             ],
             [
              0.6666666666666666,
              "#ed7953"
             ],
             [
              0.7777777777777778,
              "#fb9f3a"
             ],
             [
              0.8888888888888888,
              "#fdca26"
             ],
             [
              1,
              "#f0f921"
             ]
            ],
            "type": "surface"
           }
          ],
          "table": [
           {
            "cells": {
             "fill": {
              "color": "#EBF0F8"
             },
             "line": {
              "color": "white"
             }
            },
            "header": {
             "fill": {
              "color": "#C8D4E3"
             },
             "line": {
              "color": "white"
             }
            },
            "type": "table"
           }
          ]
         },
         "layout": {
          "annotationdefaults": {
           "arrowcolor": "#2a3f5f",
           "arrowhead": 0,
           "arrowwidth": 1
          },
          "autotypenumbers": "strict",
          "coloraxis": {
           "colorbar": {
            "outlinewidth": 0,
            "ticks": ""
           }
          },
          "colorscale": {
           "diverging": [
            [
             0,
             "#8e0152"
            ],
            [
             0.1,
             "#c51b7d"
            ],
            [
             0.2,
             "#de77ae"
            ],
            [
             0.3,
             "#f1b6da"
            ],
            [
             0.4,
             "#fde0ef"
            ],
            [
             0.5,
             "#f7f7f7"
            ],
            [
             0.6,
             "#e6f5d0"
            ],
            [
             0.7,
             "#b8e186"
            ],
            [
             0.8,
             "#7fbc41"
            ],
            [
             0.9,
             "#4d9221"
            ],
            [
             1,
             "#276419"
            ]
           ],
           "sequential": [
            [
             0,
             "#0d0887"
            ],
            [
             0.1111111111111111,
             "#46039f"
            ],
            [
             0.2222222222222222,
             "#7201a8"
            ],
            [
             0.3333333333333333,
             "#9c179e"
            ],
            [
             0.4444444444444444,
             "#bd3786"
            ],
            [
             0.5555555555555556,
             "#d8576b"
            ],
            [
             0.6666666666666666,
             "#ed7953"
            ],
            [
             0.7777777777777778,
             "#fb9f3a"
            ],
            [
             0.8888888888888888,
             "#fdca26"
            ],
            [
             1,
             "#f0f921"
            ]
           ],
           "sequentialminus": [
            [
             0,
             "#0d0887"
            ],
            [
             0.1111111111111111,
             "#46039f"
            ],
            [
             0.2222222222222222,
             "#7201a8"
            ],
            [
             0.3333333333333333,
             "#9c179e"
            ],
            [
             0.4444444444444444,
             "#bd3786"
            ],
            [
             0.5555555555555556,
             "#d8576b"
            ],
            [
             0.6666666666666666,
             "#ed7953"
            ],
            [
             0.7777777777777778,
             "#fb9f3a"
            ],
            [
             0.8888888888888888,
             "#fdca26"
            ],
            [
             1,
             "#f0f921"
            ]
           ]
          },
          "colorway": [
           "#636efa",
           "#EF553B",
           "#00cc96",
           "#ab63fa",
           "#FFA15A",
           "#19d3f3",
           "#FF6692",
           "#B6E880",
           "#FF97FF",
           "#FECB52"
          ],
          "font": {
           "color": "#2a3f5f"
          },
          "geo": {
           "bgcolor": "white",
           "lakecolor": "white",
           "landcolor": "#E5ECF6",
           "showlakes": true,
           "showland": true,
           "subunitcolor": "white"
          },
          "hoverlabel": {
           "align": "left"
          },
          "hovermode": "closest",
          "mapbox": {
           "style": "light"
          },
          "paper_bgcolor": "white",
          "plot_bgcolor": "#E5ECF6",
          "polar": {
           "angularaxis": {
            "gridcolor": "white",
            "linecolor": "white",
            "ticks": ""
           },
           "bgcolor": "#E5ECF6",
           "radialaxis": {
            "gridcolor": "white",
            "linecolor": "white",
            "ticks": ""
           }
          },
          "scene": {
           "xaxis": {
            "backgroundcolor": "#E5ECF6",
            "gridcolor": "white",
            "gridwidth": 2,
            "linecolor": "white",
            "showbackground": true,
            "ticks": "",
            "zerolinecolor": "white"
           },
           "yaxis": {
            "backgroundcolor": "#E5ECF6",
            "gridcolor": "white",
            "gridwidth": 2,
            "linecolor": "white",
            "showbackground": true,
            "ticks": "",
            "zerolinecolor": "white"
           },
           "zaxis": {
            "backgroundcolor": "#E5ECF6",
            "gridcolor": "white",
            "gridwidth": 2,
            "linecolor": "white",
            "showbackground": true,
            "ticks": "",
            "zerolinecolor": "white"
           }
          },
          "shapedefaults": {
           "line": {
            "color": "#2a3f5f"
           }
          },
          "ternary": {
           "aaxis": {
            "gridcolor": "white",
            "linecolor": "white",
            "ticks": ""
           },
           "baxis": {
            "gridcolor": "white",
            "linecolor": "white",
            "ticks": ""
           },
           "bgcolor": "#E5ECF6",
           "caxis": {
            "gridcolor": "white",
            "linecolor": "white",
            "ticks": ""
           }
          },
          "title": {
           "x": 0.05
          },
          "xaxis": {
           "automargin": true,
           "gridcolor": "white",
           "linecolor": "white",
           "ticks": "",
           "title": {
            "standoff": 15
           },
           "zerolinecolor": "white",
           "zerolinewidth": 2
          },
          "yaxis": {
           "automargin": true,
           "gridcolor": "white",
           "linecolor": "white",
           "ticks": "",
           "title": {
            "standoff": 15
           },
           "zerolinecolor": "white",
           "zerolinewidth": 2
          }
         }
        },
        "title": {
         "text": "Training with testing"
        },
        "width": 600,
        "xaxis": {
         "anchor": "y",
         "domain": [
          0,
          1
         ],
         "title": {
          "text": "Games played"
         }
        },
        "yaxis": {
         "anchor": "x",
         "domain": [
          0,
          1
         ],
         "title": {
          "text": "Average reward"
         }
        }
       }
      }
     },
     "metadata": {},
     "output_type": "display_data"
    }
   ],
   "source": [
    "env = NimEnv()\n",
    "metrics,_=q_learning(env,num_games=20000, eps_q=0.1, gamma= 0.99, test=True, verbose=False)\n",
    "x = np.arange(1,len(metrics[0])+1)*METRICS_FREQUENCY\n",
    "df = {'Games played':list(x),\n",
    "    'Mean reward':metrics[0],\n",
    "    'M_opt':metrics[1],\n",
    "    'M_rand':metrics[2]}\n",
    "df = pd.DataFrame(df)\n",
    "fig = px.line(df,x='Games played', y=df.columns.difference(['Games played']), title=f'Training with testing')\n",
    "fig.update_layout(xaxis_title='Games played', yaxis_title='Average reward')\n",
    "fig.update_layout(width=600)\n",
    "fig.show()"
   ]
  },
  {
   "cell_type": "markdown",
   "metadata": {
    "collapsed": false
   },
   "source": [
    "The learning agent has certainly learned something, since it always manages to beat a random player. On the other hand it loses around 3 out of 4 times against Opt(0), maybe because it learned from a Opt(0.5) player that half of the times did a random and likely wrong move"
   ]
  },
  {
   "cell_type": "markdown",
   "metadata": {
    "collapsed": false
   },
   "source": [
    "## 2.1.2 Good experts and bad experts\n",
    "Choose the best value of n∗ that you found in the previous section. Run Q-learning against Opt(eps_opt) for\n",
    "different values of eps_opt for 20’000 games – switch the 1st player after every game. Choose several values\n",
    "of eps_opt from a reasonably wide interval between 0 to 1 – particularly, include eps_opt = 0.\n",
    "\n",
    "Question 4. After every 250 games during training, compute the ‘test’ Mopt and Mrand for your agents\n",
    "– for each value of eps_opt. Plot Mopt and Mrand over time. What do you observe? How can you explain it?\n"
   ]
  },
  {
   "cell_type": "code",
   "execution_count": 137,
   "metadata": {
    "collapsed": false,
    "pycharm": {
     "name": "#%%\n"
    }
   },
   "outputs": [
    {
     "data": {
      "application/vnd.plotly.v1+json": {
       "config": {
        "plotlyServerURL": "https://plot.ly"
       },
       "data": [
        {
         "hovertemplate": "variable=Average reward (eps=0.00)<br>Games played=%{x}<br>value=%{y}<extra></extra>",
         "legendgroup": "Average reward (eps=0.00)",
         "line": {
          "color": "#636efa",
          "dash": "solid"
         },
         "marker": {
          "symbol": "circle"
         },
         "mode": "lines",
         "name": "Average reward (eps=0.00)",
         "orientation": "v",
         "showlegend": true,
         "type": "scatter",
         "x": [
          250,
          500,
          750,
          1000,
          1250,
          1500,
          1750,
          2000,
          2250,
          2500,
          2750,
          3000,
          3250,
          3500,
          3750,
          4000,
          4250,
          4500,
          4750,
          5000,
          5250,
          5500,
          5750,
          6000,
          6250,
          6500,
          6750,
          7000,
          7250,
          7500,
          7750,
          8000,
          8250,
          8500,
          8750,
          9000,
          9250,
          9500,
          9750,
          10000,
          10250,
          10500,
          10750,
          11000,
          11250,
          11500,
          11750,
          12000,
          12250,
          12500,
          12750,
          13000,
          13250,
          13500,
          13750,
          14000,
          14250,
          14500,
          14750,
          15000,
          15250,
          15500,
          15750,
          16000,
          16250,
          16500,
          16750,
          17000,
          17250,
          17500,
          17750,
          18000,
          18250,
          18500,
          18750,
          19000,
          19250,
          19500,
          19750
         ],
         "xaxis": "x",
         "y": [
          -1,
          -0.888,
          -0.864,
          -0.848,
          -0.768,
          -0.592,
          -0.552,
          -0.696,
          -0.6,
          -0.6,
          -0.584,
          -0.536,
          -0.488,
          -0.32,
          -0.336,
          -0.328,
          -0.368,
          -0.312,
          -0.384,
          -0.296,
          -0.312,
          -0.296,
          -0.296,
          -0.4,
          -0.352,
          -0.304,
          -0.336,
          -0.264,
          -0.352,
          -0.256,
          -0.36,
          -0.32,
          -0.392,
          -0.36,
          -0.312,
          -0.328,
          -0.344,
          -0.344,
          -0.336,
          -0.336,
          -0.248,
          -0.272,
          -0.312,
          -0.344,
          -0.256,
          -0.32,
          -0.376,
          -0.352,
          -0.304,
          -0.336,
          -0.28,
          -0.224,
          -0.28,
          -0.256,
          -0.352,
          -0.368,
          -0.432,
          -0.264,
          -0.208,
          -0.256,
          -0.216,
          -0.232,
          -0.32,
          -0.36,
          -0.344,
          -0.272,
          -0.336,
          -0.36,
          -0.32,
          -0.28,
          -0.232,
          -0.288,
          -0.416,
          -0.304,
          -0.272,
          -0.392,
          -0.32,
          -0.352,
          -0.232
         ],
         "yaxis": "y"
        },
        {
         "hovertemplate": "variable=Average reward (eps=0.10)<br>Games played=%{x}<br>value=%{y}<extra></extra>",
         "legendgroup": "Average reward (eps=0.10)",
         "line": {
          "color": "#EF553B",
          "dash": "solid"
         },
         "marker": {
          "symbol": "circle"
         },
         "mode": "lines",
         "name": "Average reward (eps=0.10)",
         "orientation": "v",
         "showlegend": true,
         "type": "scatter",
         "x": [
          250,
          500,
          750,
          1000,
          1250,
          1500,
          1750,
          2000,
          2250,
          2500,
          2750,
          3000,
          3250,
          3500,
          3750,
          4000,
          4250,
          4500,
          4750,
          5000,
          5250,
          5500,
          5750,
          6000,
          6250,
          6500,
          6750,
          7000,
          7250,
          7500,
          7750,
          8000,
          8250,
          8500,
          8750,
          9000,
          9250,
          9500,
          9750,
          10000,
          10250,
          10500,
          10750,
          11000,
          11250,
          11500,
          11750,
          12000,
          12250,
          12500,
          12750,
          13000,
          13250,
          13500,
          13750,
          14000,
          14250,
          14500,
          14750,
          15000,
          15250,
          15500,
          15750,
          16000,
          16250,
          16500,
          16750,
          17000,
          17250,
          17500,
          17750,
          18000,
          18250,
          18500,
          18750,
          19000,
          19250,
          19500,
          19750
         ],
         "xaxis": "x",
         "y": [
          -0.9043824701195219,
          -0.792,
          -0.696,
          -0.672,
          -0.56,
          -0.52,
          -0.488,
          -0.384,
          -0.296,
          -0.36,
          -0.4,
          -0.456,
          -0.24,
          -0.264,
          -0.152,
          -0.208,
          -0.112,
          -0.072,
          -0.08,
          -0.08,
          -0.208,
          -0.064,
          -0.104,
          -0.176,
          -0.088,
          -0.104,
          -0.024,
          -0.136,
          -0.096,
          -0.072,
          -0.064,
          -0.008,
          -0.032,
          -0.08,
          0.008,
          -0.08,
          -0.056,
          -0.088,
          0.024,
          -0.08,
          -0.064,
          -0.088,
          -0.096,
          -0.04,
          0.128,
          -0.128,
          -0.088,
          -0.016,
          0.04,
          -0.08,
          -0.088,
          -0.128,
          0.032,
          0.016,
          -0.152,
          -0.064,
          -0.08,
          -0.2,
          0.08,
          0.12,
          -0.064,
          -0.008,
          -0.032,
          -0.072,
          0.032,
          -0.176,
          -0.104,
          -0.024,
          0.016,
          -0.024,
          0.016,
          -0.04,
          0.056,
          -0.072,
          -0.128,
          -0.04,
          -0.04,
          -0.048,
          -0.144
         ],
         "yaxis": "y"
        },
        {
         "hovertemplate": "variable=Average reward (eps=0.20)<br>Games played=%{x}<br>value=%{y}<extra></extra>",
         "legendgroup": "Average reward (eps=0.20)",
         "line": {
          "color": "#00cc96",
          "dash": "solid"
         },
         "marker": {
          "symbol": "circle"
         },
         "mode": "lines",
         "name": "Average reward (eps=0.20)",
         "orientation": "v",
         "showlegend": true,
         "type": "scatter",
         "x": [
          250,
          500,
          750,
          1000,
          1250,
          1500,
          1750,
          2000,
          2250,
          2500,
          2750,
          3000,
          3250,
          3500,
          3750,
          4000,
          4250,
          4500,
          4750,
          5000,
          5250,
          5500,
          5750,
          6000,
          6250,
          6500,
          6750,
          7000,
          7250,
          7500,
          7750,
          8000,
          8250,
          8500,
          8750,
          9000,
          9250,
          9500,
          9750,
          10000,
          10250,
          10500,
          10750,
          11000,
          11250,
          11500,
          11750,
          12000,
          12250,
          12500,
          12750,
          13000,
          13250,
          13500,
          13750,
          14000,
          14250,
          14500,
          14750,
          15000,
          15250,
          15500,
          15750,
          16000,
          16250,
          16500,
          16750,
          17000,
          17250,
          17500,
          17750,
          18000,
          18250,
          18500,
          18750,
          19000,
          19250,
          19500,
          19750
         ],
         "xaxis": "x",
         "y": [
          -0.7689243027888446,
          -0.592,
          -0.392,
          -0.432,
          -0.272,
          -0.296,
          -0.232,
          -0.208,
          -0.2,
          -0.136,
          -0.216,
          -0.088,
          0.096,
          0.08,
          0.144,
          0.016,
          0.144,
          0.072,
          -0.04,
          0.096,
          0.128,
          0.176,
          0.24,
          0.2,
          0.2,
          0.096,
          0.144,
          0.168,
          0.2,
          0.152,
          0.296,
          0.272,
          0.12,
          0.192,
          0.192,
          0.136,
          0.056,
          0.176,
          0.176,
          0.152,
          0.16,
          0.208,
          0.248,
          0.112,
          0.176,
          0.16,
          0.168,
          0.184,
          0.28,
          0.232,
          0.328,
          0.2,
          0.2,
          0.152,
          0.136,
          0.232,
          0.16,
          0.272,
          0.264,
          0.192,
          0.256,
          0.12,
          0.176,
          0.216,
          0.176,
          0.28,
          0.344,
          0.28,
          0.104,
          0.304,
          0.16,
          0.16,
          0.336,
          0.232,
          0.112,
          0.28,
          0.208,
          0.264,
          0.192
         ],
         "yaxis": "y"
        },
        {
         "hovertemplate": "variable=Average reward (eps=0.30)<br>Games played=%{x}<br>value=%{y}<extra></extra>",
         "legendgroup": "Average reward (eps=0.30)",
         "line": {
          "color": "#ab63fa",
          "dash": "solid"
         },
         "marker": {
          "symbol": "circle"
         },
         "mode": "lines",
         "name": "Average reward (eps=0.30)",
         "orientation": "v",
         "showlegend": true,
         "type": "scatter",
         "x": [
          250,
          500,
          750,
          1000,
          1250,
          1500,
          1750,
          2000,
          2250,
          2500,
          2750,
          3000,
          3250,
          3500,
          3750,
          4000,
          4250,
          4500,
          4750,
          5000,
          5250,
          5500,
          5750,
          6000,
          6250,
          6500,
          6750,
          7000,
          7250,
          7500,
          7750,
          8000,
          8250,
          8500,
          8750,
          9000,
          9250,
          9500,
          9750,
          10000,
          10250,
          10500,
          10750,
          11000,
          11250,
          11500,
          11750,
          12000,
          12250,
          12500,
          12750,
          13000,
          13250,
          13500,
          13750,
          14000,
          14250,
          14500,
          14750,
          15000,
          15250,
          15500,
          15750,
          16000,
          16250,
          16500,
          16750,
          17000,
          17250,
          17500,
          17750,
          18000,
          18250,
          18500,
          18750,
          19000,
          19250,
          19500,
          19750
         ],
         "xaxis": "x",
         "y": [
          -0.5378486055776892,
          -0.384,
          -0.28,
          -0.088,
          -0.104,
          -0.152,
          0,
          0.056,
          0.088,
          -0.08,
          0.136,
          0.056,
          0.104,
          0.264,
          0.16,
          0.2,
          0.376,
          0.24,
          0.304,
          0.176,
          0.24,
          0.288,
          0.296,
          0.32,
          0.392,
          0.288,
          0.208,
          0.384,
          0.304,
          0.12,
          0.28,
          0.248,
          0.304,
          0.4,
          0.352,
          0.408,
          0.256,
          0.312,
          0.288,
          0.336,
          0.28,
          0.296,
          0.376,
          0.312,
          0.288,
          0.296,
          0.416,
          0.272,
          0.264,
          0.432,
          0.384,
          0.232,
          0.336,
          0.336,
          0.376,
          0.368,
          0.32,
          0.296,
          0.264,
          0.272,
          0.392,
          0.232,
          0.352,
          0.424,
          0.328,
          0.264,
          0.368,
          0.384,
          0.328,
          0.36,
          0.416,
          0.448,
          0.232,
          0.344,
          0.4,
          0.4,
          0.368,
          0.352,
          0.376
         ],
         "yaxis": "y"
        },
        {
         "hovertemplate": "variable=Average reward (eps=0.40)<br>Games played=%{x}<br>value=%{y}<extra></extra>",
         "legendgroup": "Average reward (eps=0.40)",
         "line": {
          "color": "#FFA15A",
          "dash": "solid"
         },
         "marker": {
          "symbol": "circle"
         },
         "mode": "lines",
         "name": "Average reward (eps=0.40)",
         "orientation": "v",
         "showlegend": true,
         "type": "scatter",
         "x": [
          250,
          500,
          750,
          1000,
          1250,
          1500,
          1750,
          2000,
          2250,
          2500,
          2750,
          3000,
          3250,
          3500,
          3750,
          4000,
          4250,
          4500,
          4750,
          5000,
          5250,
          5500,
          5750,
          6000,
          6250,
          6500,
          6750,
          7000,
          7250,
          7500,
          7750,
          8000,
          8250,
          8500,
          8750,
          9000,
          9250,
          9500,
          9750,
          10000,
          10250,
          10500,
          10750,
          11000,
          11250,
          11500,
          11750,
          12000,
          12250,
          12500,
          12750,
          13000,
          13250,
          13500,
          13750,
          14000,
          14250,
          14500,
          14750,
          15000,
          15250,
          15500,
          15750,
          16000,
          16250,
          16500,
          16750,
          17000,
          17250,
          17500,
          17750,
          18000,
          18250,
          18500,
          18750,
          19000,
          19250,
          19500,
          19750
         ],
         "xaxis": "x",
         "y": [
          -0.40239043824701193,
          -0.176,
          -0.104,
          0.096,
          0.152,
          0.136,
          0.264,
          0.136,
          0.152,
          0.128,
          0.184,
          0.2,
          0.312,
          0.376,
          0.392,
          0.32,
          0.32,
          0.232,
          0.304,
          0.336,
          0.392,
          0.296,
          0.296,
          0.384,
          0.416,
          0.4,
          0.432,
          0.376,
          0.296,
          0.368,
          0.232,
          0.312,
          0.24,
          0.36,
          0.152,
          0.408,
          0.408,
          0.36,
          0.392,
          0.336,
          0.296,
          0.36,
          0.296,
          0.296,
          0.384,
          0.408,
          0.352,
          0.336,
          0.416,
          0.392,
          0.288,
          0.376,
          0.36,
          0.384,
          0.408,
          0.288,
          0.352,
          0.448,
          0.368,
          0.328,
          0.328,
          0.424,
          0.312,
          0.496,
          0.4,
          0.424,
          0.328,
          0.408,
          0.328,
          0.344,
          0.416,
          0.36,
          0.304,
          0.392,
          0.4,
          0.368,
          0.36,
          0.312,
          0.464
         ],
         "yaxis": "y"
        },
        {
         "hovertemplate": "variable=Average reward (eps=0.50)<br>Games played=%{x}<br>value=%{y}<extra></extra>",
         "legendgroup": "Average reward (eps=0.50)",
         "line": {
          "color": "#19d3f3",
          "dash": "solid"
         },
         "marker": {
          "symbol": "circle"
         },
         "mode": "lines",
         "name": "Average reward (eps=0.50)",
         "orientation": "v",
         "showlegend": true,
         "type": "scatter",
         "x": [
          250,
          500,
          750,
          1000,
          1250,
          1500,
          1750,
          2000,
          2250,
          2500,
          2750,
          3000,
          3250,
          3500,
          3750,
          4000,
          4250,
          4500,
          4750,
          5000,
          5250,
          5500,
          5750,
          6000,
          6250,
          6500,
          6750,
          7000,
          7250,
          7500,
          7750,
          8000,
          8250,
          8500,
          8750,
          9000,
          9250,
          9500,
          9750,
          10000,
          10250,
          10500,
          10750,
          11000,
          11250,
          11500,
          11750,
          12000,
          12250,
          12500,
          12750,
          13000,
          13250,
          13500,
          13750,
          14000,
          14250,
          14500,
          14750,
          15000,
          15250,
          15500,
          15750,
          16000,
          16250,
          16500,
          16750,
          17000,
          17250,
          17500,
          17750,
          18000,
          18250,
          18500,
          18750,
          19000,
          19250,
          19500,
          19750
         ],
         "xaxis": "x",
         "y": [
          -0.24302788844621515,
          0.104,
          0.232,
          0.192,
          0.144,
          0.24,
          0.224,
          0.36,
          0.224,
          0.264,
          0.384,
          0.4,
          0.392,
          0.432,
          0.328,
          0.432,
          0.448,
          0.336,
          0.328,
          0.376,
          0.488,
          0.4,
          0.432,
          0.472,
          0.416,
          0.416,
          0.408,
          0.408,
          0.424,
          0.48,
          0.472,
          0.4,
          0.384,
          0.24,
          0.528,
          0.328,
          0.4,
          0.368,
          0.352,
          0.432,
          0.504,
          0.448,
          0.48,
          0.472,
          0.44,
          0.408,
          0.424,
          0.392,
          0.384,
          0.552,
          0.4,
          0.408,
          0.376,
          0.504,
          0.496,
          0.448,
          0.416,
          0.464,
          0.408,
          0.464,
          0.496,
          0.432,
          0.48,
          0.456,
          0.528,
          0.504,
          0.456,
          0.36,
          0.48,
          0.448,
          0.488,
          0.424,
          0.392,
          0.416,
          0.472,
          0.408,
          0.424,
          0.472,
          0.4
         ],
         "yaxis": "y"
        },
        {
         "hovertemplate": "variable=Average reward (eps=0.60)<br>Games played=%{x}<br>value=%{y}<extra></extra>",
         "legendgroup": "Average reward (eps=0.60)",
         "line": {
          "color": "#FF6692",
          "dash": "solid"
         },
         "marker": {
          "symbol": "circle"
         },
         "mode": "lines",
         "name": "Average reward (eps=0.60)",
         "orientation": "v",
         "showlegend": true,
         "type": "scatter",
         "x": [
          250,
          500,
          750,
          1000,
          1250,
          1500,
          1750,
          2000,
          2250,
          2500,
          2750,
          3000,
          3250,
          3500,
          3750,
          4000,
          4250,
          4500,
          4750,
          5000,
          5250,
          5500,
          5750,
          6000,
          6250,
          6500,
          6750,
          7000,
          7250,
          7500,
          7750,
          8000,
          8250,
          8500,
          8750,
          9000,
          9250,
          9500,
          9750,
          10000,
          10250,
          10500,
          10750,
          11000,
          11250,
          11500,
          11750,
          12000,
          12250,
          12500,
          12750,
          13000,
          13250,
          13500,
          13750,
          14000,
          14250,
          14500,
          14750,
          15000,
          15250,
          15500,
          15750,
          16000,
          16250,
          16500,
          16750,
          17000,
          17250,
          17500,
          17750,
          18000,
          18250,
          18500,
          18750,
          19000,
          19250,
          19500,
          19750
         ],
         "xaxis": "x",
         "y": [
          -0.099601593625498,
          0.128,
          0.176,
          0.224,
          0.472,
          0.496,
          0.328,
          0.504,
          0.48,
          0.488,
          0.44,
          0.488,
          0.352,
          0.4,
          0.448,
          0.48,
          0.576,
          0.448,
          0.512,
          0.408,
          0.496,
          0.536,
          0.472,
          0.504,
          0.52,
          0.512,
          0.552,
          0.464,
          0.552,
          0.504,
          0.488,
          0.536,
          0.528,
          0.528,
          0.592,
          0.544,
          0.56,
          0.616,
          0.48,
          0.536,
          0.608,
          0.512,
          0.584,
          0.672,
          0.528,
          0.648,
          0.616,
          0.592,
          0.624,
          0.56,
          0.488,
          0.576,
          0.56,
          0.616,
          0.44,
          0.592,
          0.616,
          0.624,
          0.472,
          0.696,
          0.472,
          0.448,
          0.592,
          0.584,
          0.552,
          0.584,
          0.664,
          0.56,
          0.592,
          0.52,
          0.512,
          0.536,
          0.456,
          0.456,
          0.488,
          0.512,
          0.544,
          0.496,
          0.528
         ],
         "yaxis": "y"
        },
        {
         "hovertemplate": "variable=Average reward (eps=0.70)<br>Games played=%{x}<br>value=%{y}<extra></extra>",
         "legendgroup": "Average reward (eps=0.70)",
         "line": {
          "color": "#B6E880",
          "dash": "solid"
         },
         "marker": {
          "symbol": "circle"
         },
         "mode": "lines",
         "name": "Average reward (eps=0.70)",
         "orientation": "v",
         "showlegend": true,
         "type": "scatter",
         "x": [
          250,
          500,
          750,
          1000,
          1250,
          1500,
          1750,
          2000,
          2250,
          2500,
          2750,
          3000,
          3250,
          3500,
          3750,
          4000,
          4250,
          4500,
          4750,
          5000,
          5250,
          5500,
          5750,
          6000,
          6250,
          6500,
          6750,
          7000,
          7250,
          7500,
          7750,
          8000,
          8250,
          8500,
          8750,
          9000,
          9250,
          9500,
          9750,
          10000,
          10250,
          10500,
          10750,
          11000,
          11250,
          11500,
          11750,
          12000,
          12250,
          12500,
          12750,
          13000,
          13250,
          13500,
          13750,
          14000,
          14250,
          14500,
          14750,
          15000,
          15250,
          15500,
          15750,
          16000,
          16250,
          16500,
          16750,
          17000,
          17250,
          17500,
          17750,
          18000,
          18250,
          18500,
          18750,
          19000,
          19250,
          19500,
          19750
         ],
         "xaxis": "x",
         "y": [
          0.09163346613545817,
          0.056,
          0.432,
          0.44,
          0.456,
          0.416,
          0.56,
          0.536,
          0.52,
          0.568,
          0.512,
          0.504,
          0.504,
          0.528,
          0.56,
          0.536,
          0.536,
          0.608,
          0.544,
          0.664,
          0.608,
          0.632,
          0.528,
          0.576,
          0.584,
          0.584,
          0.56,
          0.568,
          0.616,
          0.624,
          0.528,
          0.736,
          0.624,
          0.68,
          0.632,
          0.672,
          0.608,
          0.672,
          0.68,
          0.616,
          0.608,
          0.656,
          0.608,
          0.768,
          0.784,
          0.592,
          0.664,
          0.624,
          0.624,
          0.592,
          0.544,
          0.672,
          0.64,
          0.688,
          0.648,
          0.632,
          0.592,
          0.624,
          0.64,
          0.688,
          0.576,
          0.664,
          0.76,
          0.632,
          0.616,
          0.624,
          0.552,
          0.632,
          0.656,
          0.568,
          0.648,
          0.632,
          0.648,
          0.568,
          0.616,
          0.704,
          0.648,
          0.584,
          0.68
         ],
         "yaxis": "y"
        },
        {
         "hovertemplate": "variable=Average reward (eps=0.80)<br>Games played=%{x}<br>value=%{y}<extra></extra>",
         "legendgroup": "Average reward (eps=0.80)",
         "line": {
          "color": "#FF97FF",
          "dash": "solid"
         },
         "marker": {
          "symbol": "circle"
         },
         "mode": "lines",
         "name": "Average reward (eps=0.80)",
         "orientation": "v",
         "showlegend": true,
         "type": "scatter",
         "x": [
          250,
          500,
          750,
          1000,
          1250,
          1500,
          1750,
          2000,
          2250,
          2500,
          2750,
          3000,
          3250,
          3500,
          3750,
          4000,
          4250,
          4500,
          4750,
          5000,
          5250,
          5500,
          5750,
          6000,
          6250,
          6500,
          6750,
          7000,
          7250,
          7500,
          7750,
          8000,
          8250,
          8500,
          8750,
          9000,
          9250,
          9500,
          9750,
          10000,
          10250,
          10500,
          10750,
          11000,
          11250,
          11500,
          11750,
          12000,
          12250,
          12500,
          12750,
          13000,
          13250,
          13500,
          13750,
          14000,
          14250,
          14500,
          14750,
          15000,
          15250,
          15500,
          15750,
          16000,
          16250,
          16500,
          16750,
          17000,
          17250,
          17500,
          17750,
          18000,
          18250,
          18500,
          18750,
          19000,
          19250,
          19500,
          19750
         ],
         "xaxis": "x",
         "y": [
          0.1394422310756972,
          0.368,
          0.464,
          0.496,
          0.512,
          0.536,
          0.608,
          0.448,
          0.632,
          0.536,
          0.576,
          0.512,
          0.56,
          0.616,
          0.544,
          0.528,
          0.496,
          0.6,
          0.664,
          0.472,
          0.688,
          0.64,
          0.544,
          0.568,
          0.616,
          0.544,
          0.68,
          0.632,
          0.648,
          0.472,
          0.576,
          0.648,
          0.672,
          0.632,
          0.632,
          0.624,
          0.528,
          0.624,
          0.528,
          0.736,
          0.68,
          0.608,
          0.632,
          0.704,
          0.688,
          0.608,
          0.712,
          0.656,
          0.664,
          0.664,
          0.648,
          0.696,
          0.672,
          0.656,
          0.6,
          0.752,
          0.72,
          0.648,
          0.672,
          0.68,
          0.6,
          0.712,
          0.616,
          0.712,
          0.616,
          0.648,
          0.728,
          0.712,
          0.656,
          0.656,
          0.64,
          0.672,
          0.64,
          0.544,
          0.68,
          0.728,
          0.664,
          0.616,
          0.728
         ],
         "yaxis": "y"
        },
        {
         "hovertemplate": "variable=Average reward (eps=0.90)<br>Games played=%{x}<br>value=%{y}<extra></extra>",
         "legendgroup": "Average reward (eps=0.90)",
         "line": {
          "color": "#FECB52",
          "dash": "solid"
         },
         "marker": {
          "symbol": "circle"
         },
         "mode": "lines",
         "name": "Average reward (eps=0.90)",
         "orientation": "v",
         "showlegend": true,
         "type": "scatter",
         "x": [
          250,
          500,
          750,
          1000,
          1250,
          1500,
          1750,
          2000,
          2250,
          2500,
          2750,
          3000,
          3250,
          3500,
          3750,
          4000,
          4250,
          4500,
          4750,
          5000,
          5250,
          5500,
          5750,
          6000,
          6250,
          6500,
          6750,
          7000,
          7250,
          7500,
          7750,
          8000,
          8250,
          8500,
          8750,
          9000,
          9250,
          9500,
          9750,
          10000,
          10250,
          10500,
          10750,
          11000,
          11250,
          11500,
          11750,
          12000,
          12250,
          12500,
          12750,
          13000,
          13250,
          13500,
          13750,
          14000,
          14250,
          14500,
          14750,
          15000,
          15250,
          15500,
          15750,
          16000,
          16250,
          16500,
          16750,
          17000,
          17250,
          17500,
          17750,
          18000,
          18250,
          18500,
          18750,
          19000,
          19250,
          19500,
          19750
         ],
         "xaxis": "x",
         "y": [
          0.2749003984063745,
          0.592,
          0.608,
          0.592,
          0.512,
          0.624,
          0.528,
          0.576,
          0.56,
          0.552,
          0.576,
          0.544,
          0.624,
          0.672,
          0.688,
          0.584,
          0.568,
          0.688,
          0.632,
          0.6,
          0.728,
          0.776,
          0.68,
          0.656,
          0.768,
          0.664,
          0.616,
          0.688,
          0.712,
          0.68,
          0.696,
          0.792,
          0.752,
          0.76,
          0.688,
          0.632,
          0.656,
          0.704,
          0.728,
          0.608,
          0.736,
          0.728,
          0.688,
          0.76,
          0.736,
          0.68,
          0.688,
          0.664,
          0.664,
          0.592,
          0.704,
          0.672,
          0.688,
          0.68,
          0.632,
          0.696,
          0.752,
          0.72,
          0.744,
          0.784,
          0.728,
          0.664,
          0.76,
          0.616,
          0.704,
          0.672,
          0.648,
          0.76,
          0.72,
          0.712,
          0.712,
          0.784,
          0.848,
          0.776,
          0.704,
          0.656,
          0.664,
          0.736,
          0.696
         ],
         "yaxis": "y"
        },
        {
         "hovertemplate": "variable=Average reward (eps=1.00)<br>Games played=%{x}<br>value=%{y}<extra></extra>",
         "legendgroup": "Average reward (eps=1.00)",
         "line": {
          "color": "#636efa",
          "dash": "solid"
         },
         "marker": {
          "symbol": "circle"
         },
         "mode": "lines",
         "name": "Average reward (eps=1.00)",
         "orientation": "v",
         "showlegend": true,
         "type": "scatter",
         "x": [
          250,
          500,
          750,
          1000,
          1250,
          1500,
          1750,
          2000,
          2250,
          2500,
          2750,
          3000,
          3250,
          3500,
          3750,
          4000,
          4250,
          4500,
          4750,
          5000,
          5250,
          5500,
          5750,
          6000,
          6250,
          6500,
          6750,
          7000,
          7250,
          7500,
          7750,
          8000,
          8250,
          8500,
          8750,
          9000,
          9250,
          9500,
          9750,
          10000,
          10250,
          10500,
          10750,
          11000,
          11250,
          11500,
          11750,
          12000,
          12250,
          12500,
          12750,
          13000,
          13250,
          13500,
          13750,
          14000,
          14250,
          14500,
          14750,
          15000,
          15250,
          15500,
          15750,
          16000,
          16250,
          16500,
          16750,
          17000,
          17250,
          17500,
          17750,
          18000,
          18250,
          18500,
          18750,
          19000,
          19250,
          19500,
          19750
         ],
         "xaxis": "x",
         "y": [
          0.3705179282868526,
          0.608,
          0.632,
          0.576,
          0.704,
          0.736,
          0.616,
          0.656,
          0.656,
          0.736,
          0.64,
          0.704,
          0.68,
          0.712,
          0.776,
          0.688,
          0.728,
          0.648,
          0.768,
          0.808,
          0.72,
          0.72,
          0.752,
          0.728,
          0.712,
          0.72,
          0.752,
          0.664,
          0.712,
          0.672,
          0.76,
          0.792,
          0.792,
          0.696,
          0.784,
          0.776,
          0.712,
          0.768,
          0.728,
          0.736,
          0.656,
          0.712,
          0.704,
          0.68,
          0.688,
          0.72,
          0.776,
          0.712,
          0.688,
          0.76,
          0.72,
          0.776,
          0.728,
          0.728,
          0.768,
          0.728,
          0.68,
          0.68,
          0.744,
          0.704,
          0.792,
          0.688,
          0.736,
          0.696,
          0.68,
          0.744,
          0.696,
          0.712,
          0.744,
          0.76,
          0.696,
          0.768,
          0.728,
          0.728,
          0.664,
          0.664,
          0.768,
          0.72,
          0.704
         ],
         "yaxis": "y"
        }
       ],
       "layout": {
        "legend": {
         "title": {
          "text": "variable"
         },
         "tracegroupgap": 0
        },
        "template": {
         "data": {
          "bar": [
           {
            "error_x": {
             "color": "#2a3f5f"
            },
            "error_y": {
             "color": "#2a3f5f"
            },
            "marker": {
             "line": {
              "color": "#E5ECF6",
              "width": 0.5
             },
             "pattern": {
              "fillmode": "overlay",
              "size": 10,
              "solidity": 0.2
             }
            },
            "type": "bar"
           }
          ],
          "barpolar": [
           {
            "marker": {
             "line": {
              "color": "#E5ECF6",
              "width": 0.5
             },
             "pattern": {
              "fillmode": "overlay",
              "size": 10,
              "solidity": 0.2
             }
            },
            "type": "barpolar"
           }
          ],
          "carpet": [
           {
            "aaxis": {
             "endlinecolor": "#2a3f5f",
             "gridcolor": "white",
             "linecolor": "white",
             "minorgridcolor": "white",
             "startlinecolor": "#2a3f5f"
            },
            "baxis": {
             "endlinecolor": "#2a3f5f",
             "gridcolor": "white",
             "linecolor": "white",
             "minorgridcolor": "white",
             "startlinecolor": "#2a3f5f"
            },
            "type": "carpet"
           }
          ],
          "choropleth": [
           {
            "colorbar": {
             "outlinewidth": 0,
             "ticks": ""
            },
            "type": "choropleth"
           }
          ],
          "contour": [
           {
            "colorbar": {
             "outlinewidth": 0,
             "ticks": ""
            },
            "colorscale": [
             [
              0,
              "#0d0887"
             ],
             [
              0.1111111111111111,
              "#46039f"
             ],
             [
              0.2222222222222222,
              "#7201a8"
             ],
             [
              0.3333333333333333,
              "#9c179e"
             ],
             [
              0.4444444444444444,
              "#bd3786"
             ],
             [
              0.5555555555555556,
              "#d8576b"
             ],
             [
              0.6666666666666666,
              "#ed7953"
             ],
             [
              0.7777777777777778,
              "#fb9f3a"
             ],
             [
              0.8888888888888888,
              "#fdca26"
             ],
             [
              1,
              "#f0f921"
             ]
            ],
            "type": "contour"
           }
          ],
          "contourcarpet": [
           {
            "colorbar": {
             "outlinewidth": 0,
             "ticks": ""
            },
            "type": "contourcarpet"
           }
          ],
          "heatmap": [
           {
            "colorbar": {
             "outlinewidth": 0,
             "ticks": ""
            },
            "colorscale": [
             [
              0,
              "#0d0887"
             ],
             [
              0.1111111111111111,
              "#46039f"
             ],
             [
              0.2222222222222222,
              "#7201a8"
             ],
             [
              0.3333333333333333,
              "#9c179e"
             ],
             [
              0.4444444444444444,
              "#bd3786"
             ],
             [
              0.5555555555555556,
              "#d8576b"
             ],
             [
              0.6666666666666666,
              "#ed7953"
             ],
             [
              0.7777777777777778,
              "#fb9f3a"
             ],
             [
              0.8888888888888888,
              "#fdca26"
             ],
             [
              1,
              "#f0f921"
             ]
            ],
            "type": "heatmap"
           }
          ],
          "heatmapgl": [
           {
            "colorbar": {
             "outlinewidth": 0,
             "ticks": ""
            },
            "colorscale": [
             [
              0,
              "#0d0887"
             ],
             [
              0.1111111111111111,
              "#46039f"
             ],
             [
              0.2222222222222222,
              "#7201a8"
             ],
             [
              0.3333333333333333,
              "#9c179e"
             ],
             [
              0.4444444444444444,
              "#bd3786"
             ],
             [
              0.5555555555555556,
              "#d8576b"
             ],
             [
              0.6666666666666666,
              "#ed7953"
             ],
             [
              0.7777777777777778,
              "#fb9f3a"
             ],
             [
              0.8888888888888888,
              "#fdca26"
             ],
             [
              1,
              "#f0f921"
             ]
            ],
            "type": "heatmapgl"
           }
          ],
          "histogram": [
           {
            "marker": {
             "pattern": {
              "fillmode": "overlay",
              "size": 10,
              "solidity": 0.2
             }
            },
            "type": "histogram"
           }
          ],
          "histogram2d": [
           {
            "colorbar": {
             "outlinewidth": 0,
             "ticks": ""
            },
            "colorscale": [
             [
              0,
              "#0d0887"
             ],
             [
              0.1111111111111111,
              "#46039f"
             ],
             [
              0.2222222222222222,
              "#7201a8"
             ],
             [
              0.3333333333333333,
              "#9c179e"
             ],
             [
              0.4444444444444444,
              "#bd3786"
             ],
             [
              0.5555555555555556,
              "#d8576b"
             ],
             [
              0.6666666666666666,
              "#ed7953"
             ],
             [
              0.7777777777777778,
              "#fb9f3a"
             ],
             [
              0.8888888888888888,
              "#fdca26"
             ],
             [
              1,
              "#f0f921"
             ]
            ],
            "type": "histogram2d"
           }
          ],
          "histogram2dcontour": [
           {
            "colorbar": {
             "outlinewidth": 0,
             "ticks": ""
            },
            "colorscale": [
             [
              0,
              "#0d0887"
             ],
             [
              0.1111111111111111,
              "#46039f"
             ],
             [
              0.2222222222222222,
              "#7201a8"
             ],
             [
              0.3333333333333333,
              "#9c179e"
             ],
             [
              0.4444444444444444,
              "#bd3786"
             ],
             [
              0.5555555555555556,
              "#d8576b"
             ],
             [
              0.6666666666666666,
              "#ed7953"
             ],
             [
              0.7777777777777778,
              "#fb9f3a"
             ],
             [
              0.8888888888888888,
              "#fdca26"
             ],
             [
              1,
              "#f0f921"
             ]
            ],
            "type": "histogram2dcontour"
           }
          ],
          "mesh3d": [
           {
            "colorbar": {
             "outlinewidth": 0,
             "ticks": ""
            },
            "type": "mesh3d"
           }
          ],
          "parcoords": [
           {
            "line": {
             "colorbar": {
              "outlinewidth": 0,
              "ticks": ""
             }
            },
            "type": "parcoords"
           }
          ],
          "pie": [
           {
            "automargin": true,
            "type": "pie"
           }
          ],
          "scatter": [
           {
            "fillpattern": {
             "fillmode": "overlay",
             "size": 10,
             "solidity": 0.2
            },
            "type": "scatter"
           }
          ],
          "scatter3d": [
           {
            "line": {
             "colorbar": {
              "outlinewidth": 0,
              "ticks": ""
             }
            },
            "marker": {
             "colorbar": {
              "outlinewidth": 0,
              "ticks": ""
             }
            },
            "type": "scatter3d"
           }
          ],
          "scattercarpet": [
           {
            "marker": {
             "colorbar": {
              "outlinewidth": 0,
              "ticks": ""
             }
            },
            "type": "scattercarpet"
           }
          ],
          "scattergeo": [
           {
            "marker": {
             "colorbar": {
              "outlinewidth": 0,
              "ticks": ""
             }
            },
            "type": "scattergeo"
           }
          ],
          "scattergl": [
           {
            "marker": {
             "colorbar": {
              "outlinewidth": 0,
              "ticks": ""
             }
            },
            "type": "scattergl"
           }
          ],
          "scattermapbox": [
           {
            "marker": {
             "colorbar": {
              "outlinewidth": 0,
              "ticks": ""
             }
            },
            "type": "scattermapbox"
           }
          ],
          "scatterpolar": [
           {
            "marker": {
             "colorbar": {
              "outlinewidth": 0,
              "ticks": ""
             }
            },
            "type": "scatterpolar"
           }
          ],
          "scatterpolargl": [
           {
            "marker": {
             "colorbar": {
              "outlinewidth": 0,
              "ticks": ""
             }
            },
            "type": "scatterpolargl"
           }
          ],
          "scatterternary": [
           {
            "marker": {
             "colorbar": {
              "outlinewidth": 0,
              "ticks": ""
             }
            },
            "type": "scatterternary"
           }
          ],
          "surface": [
           {
            "colorbar": {
             "outlinewidth": 0,
             "ticks": ""
            },
            "colorscale": [
             [
              0,
              "#0d0887"
             ],
             [
              0.1111111111111111,
              "#46039f"
             ],
             [
              0.2222222222222222,
              "#7201a8"
             ],
             [
              0.3333333333333333,
              "#9c179e"
             ],
             [
              0.4444444444444444,
              "#bd3786"
             ],
             [
              0.5555555555555556,
              "#d8576b"
             ],
             [
              0.6666666666666666,
              "#ed7953"
             ],
             [
              0.7777777777777778,
              "#fb9f3a"
             ],
             [
              0.8888888888888888,
              "#fdca26"
             ],
             [
              1,
              "#f0f921"
             ]
            ],
            "type": "surface"
           }
          ],
          "table": [
           {
            "cells": {
             "fill": {
              "color": "#EBF0F8"
             },
             "line": {
              "color": "white"
             }
            },
            "header": {
             "fill": {
              "color": "#C8D4E3"
             },
             "line": {
              "color": "white"
             }
            },
            "type": "table"
           }
          ]
         },
         "layout": {
          "annotationdefaults": {
           "arrowcolor": "#2a3f5f",
           "arrowhead": 0,
           "arrowwidth": 1
          },
          "autotypenumbers": "strict",
          "coloraxis": {
           "colorbar": {
            "outlinewidth": 0,
            "ticks": ""
           }
          },
          "colorscale": {
           "diverging": [
            [
             0,
             "#8e0152"
            ],
            [
             0.1,
             "#c51b7d"
            ],
            [
             0.2,
             "#de77ae"
            ],
            [
             0.3,
             "#f1b6da"
            ],
            [
             0.4,
             "#fde0ef"
            ],
            [
             0.5,
             "#f7f7f7"
            ],
            [
             0.6,
             "#e6f5d0"
            ],
            [
             0.7,
             "#b8e186"
            ],
            [
             0.8,
             "#7fbc41"
            ],
            [
             0.9,
             "#4d9221"
            ],
            [
             1,
             "#276419"
            ]
           ],
           "sequential": [
            [
             0,
             "#0d0887"
            ],
            [
             0.1111111111111111,
             "#46039f"
            ],
            [
             0.2222222222222222,
             "#7201a8"
            ],
            [
             0.3333333333333333,
             "#9c179e"
            ],
            [
             0.4444444444444444,
             "#bd3786"
            ],
            [
             0.5555555555555556,
             "#d8576b"
            ],
            [
             0.6666666666666666,
             "#ed7953"
            ],
            [
             0.7777777777777778,
             "#fb9f3a"
            ],
            [
             0.8888888888888888,
             "#fdca26"
            ],
            [
             1,
             "#f0f921"
            ]
           ],
           "sequentialminus": [
            [
             0,
             "#0d0887"
            ],
            [
             0.1111111111111111,
             "#46039f"
            ],
            [
             0.2222222222222222,
             "#7201a8"
            ],
            [
             0.3333333333333333,
             "#9c179e"
            ],
            [
             0.4444444444444444,
             "#bd3786"
            ],
            [
             0.5555555555555556,
             "#d8576b"
            ],
            [
             0.6666666666666666,
             "#ed7953"
            ],
            [
             0.7777777777777778,
             "#fb9f3a"
            ],
            [
             0.8888888888888888,
             "#fdca26"
            ],
            [
             1,
             "#f0f921"
            ]
           ]
          },
          "colorway": [
           "#636efa",
           "#EF553B",
           "#00cc96",
           "#ab63fa",
           "#FFA15A",
           "#19d3f3",
           "#FF6692",
           "#B6E880",
           "#FF97FF",
           "#FECB52"
          ],
          "font": {
           "color": "#2a3f5f"
          },
          "geo": {
           "bgcolor": "white",
           "lakecolor": "white",
           "landcolor": "#E5ECF6",
           "showlakes": true,
           "showland": true,
           "subunitcolor": "white"
          },
          "hoverlabel": {
           "align": "left"
          },
          "hovermode": "closest",
          "mapbox": {
           "style": "light"
          },
          "paper_bgcolor": "white",
          "plot_bgcolor": "#E5ECF6",
          "polar": {
           "angularaxis": {
            "gridcolor": "white",
            "linecolor": "white",
            "ticks": ""
           },
           "bgcolor": "#E5ECF6",
           "radialaxis": {
            "gridcolor": "white",
            "linecolor": "white",
            "ticks": ""
           }
          },
          "scene": {
           "xaxis": {
            "backgroundcolor": "#E5ECF6",
            "gridcolor": "white",
            "gridwidth": 2,
            "linecolor": "white",
            "showbackground": true,
            "ticks": "",
            "zerolinecolor": "white"
           },
           "yaxis": {
            "backgroundcolor": "#E5ECF6",
            "gridcolor": "white",
            "gridwidth": 2,
            "linecolor": "white",
            "showbackground": true,
            "ticks": "",
            "zerolinecolor": "white"
           },
           "zaxis": {
            "backgroundcolor": "#E5ECF6",
            "gridcolor": "white",
            "gridwidth": 2,
            "linecolor": "white",
            "showbackground": true,
            "ticks": "",
            "zerolinecolor": "white"
           }
          },
          "shapedefaults": {
           "line": {
            "color": "#2a3f5f"
           }
          },
          "ternary": {
           "aaxis": {
            "gridcolor": "white",
            "linecolor": "white",
            "ticks": ""
           },
           "baxis": {
            "gridcolor": "white",
            "linecolor": "white",
            "ticks": ""
           },
           "bgcolor": "#E5ECF6",
           "caxis": {
            "gridcolor": "white",
            "linecolor": "white",
            "ticks": ""
           }
          },
          "title": {
           "x": 0.05
          },
          "xaxis": {
           "automargin": true,
           "gridcolor": "white",
           "linecolor": "white",
           "ticks": "",
           "title": {
            "standoff": 15
           },
           "zerolinecolor": "white",
           "zerolinewidth": 2
          },
          "yaxis": {
           "automargin": true,
           "gridcolor": "white",
           "linecolor": "white",
           "ticks": "",
           "title": {
            "standoff": 15
           },
           "zerolinecolor": "white",
           "zerolinewidth": 2
          }
         }
        },
        "title": {
         "text": "Training with testing on different adversary's eps values"
        },
        "width": 800,
        "xaxis": {
         "anchor": "y",
         "domain": [
          0,
          1
         ],
         "title": {
          "text": "Games played"
         }
        },
        "yaxis": {
         "anchor": "x",
         "domain": [
          0,
          1
         ],
         "title": {
          "text": "Mean reward"
         }
        }
       }
      }
     },
     "metadata": {},
     "output_type": "display_data"
    },
    {
     "data": {
      "application/vnd.plotly.v1+json": {
       "config": {
        "plotlyServerURL": "https://plot.ly"
       },
       "data": [
        {
         "hovertemplate": "variable=Mopt (eps=0.00)<br>Games played=%{x}<br>value=%{y}<extra></extra>",
         "legendgroup": "Mopt (eps=0.00)",
         "line": {
          "color": "#636efa",
          "dash": "solid"
         },
         "marker": {
          "symbol": "circle"
         },
         "mode": "lines",
         "name": "Mopt (eps=0.00)",
         "orientation": "v",
         "showlegend": true,
         "type": "scatter",
         "x": [
          250,
          500,
          750,
          1000,
          1250,
          1500,
          1750,
          2000,
          2250,
          2500,
          2750,
          3000,
          3250,
          3500,
          3750,
          4000,
          4250,
          4500,
          4750,
          5000,
          5250,
          5500,
          5750,
          6000,
          6250,
          6500,
          6750,
          7000,
          7250,
          7500,
          7750,
          8000,
          8250,
          8500,
          8750,
          9000,
          9250,
          9500,
          9750,
          10000,
          10250,
          10500,
          10750,
          11000,
          11250,
          11500,
          11750,
          12000,
          12250,
          12500,
          12750,
          13000,
          13250,
          13500,
          13750,
          14000,
          14250,
          14500,
          14750,
          15000,
          15250,
          15500,
          15750,
          16000,
          16250,
          16500,
          16750,
          17000,
          17250,
          17500,
          17750,
          18000,
          18250,
          18500,
          18750,
          19000,
          19250,
          19500,
          19750
         ],
         "xaxis": "x",
         "y": [
          -0.984,
          -0.896,
          -0.82,
          -0.768,
          -0.628,
          -0.52,
          -0.432,
          -0.376,
          -0.368,
          -0.304,
          -0.188,
          -0.184,
          -0.128,
          -0.076,
          -0.044,
          -0.104,
          -0.016,
          -0.076,
          -0.032,
          0,
          -0.036,
          0.044,
          -0.076,
          0.04,
          -0.024,
          -0.048,
          0.052,
          -0.012,
          0.06,
          0.036,
          -0.032,
          -0.016,
          0.088,
          -0.036,
          -0.032,
          0.06,
          -0.016,
          0.012,
          -0.004,
          0.004,
          0.032,
          -0.004,
          -0.004,
          0.004,
          -0.02,
          0.012,
          -0.028,
          -0.004,
          -0.068,
          -0.028,
          0.004,
          0.052,
          -0.012,
          0.036,
          -0.08,
          -0.016,
          0.004,
          0.028,
          -0.024,
          0.032,
          -0.008,
          0.012,
          0.04,
          0.016,
          -0.056,
          0.032,
          -0.012,
          0.008,
          -0.016,
          0.052,
          0.008,
          0.036,
          0.016,
          0.076,
          0.008,
          0.04,
          -0.028,
          0,
          -0.028
         ],
         "yaxis": "y"
        },
        {
         "hovertemplate": "variable=Mopt (eps=0.10)<br>Games played=%{x}<br>value=%{y}<extra></extra>",
         "legendgroup": "Mopt (eps=0.10)",
         "line": {
          "color": "#EF553B",
          "dash": "solid"
         },
         "marker": {
          "symbol": "circle"
         },
         "mode": "lines",
         "name": "Mopt (eps=0.10)",
         "orientation": "v",
         "showlegend": true,
         "type": "scatter",
         "x": [
          250,
          500,
          750,
          1000,
          1250,
          1500,
          1750,
          2000,
          2250,
          2500,
          2750,
          3000,
          3250,
          3500,
          3750,
          4000,
          4250,
          4500,
          4750,
          5000,
          5250,
          5500,
          5750,
          6000,
          6250,
          6500,
          6750,
          7000,
          7250,
          7500,
          7750,
          8000,
          8250,
          8500,
          8750,
          9000,
          9250,
          9500,
          9750,
          10000,
          10250,
          10500,
          10750,
          11000,
          11250,
          11500,
          11750,
          12000,
          12250,
          12500,
          12750,
          13000,
          13250,
          13500,
          13750,
          14000,
          14250,
          14500,
          14750,
          15000,
          15250,
          15500,
          15750,
          16000,
          16250,
          16500,
          16750,
          17000,
          17250,
          17500,
          17750,
          18000,
          18250,
          18500,
          18750,
          19000,
          19250,
          19500,
          19750
         ],
         "xaxis": "x",
         "y": [
          -0.96,
          -0.86,
          -0.896,
          -0.7,
          -0.612,
          -0.516,
          -0.404,
          -0.392,
          -0.328,
          -0.288,
          -0.264,
          -0.296,
          -0.168,
          -0.212,
          -0.104,
          -0.056,
          -0.06,
          -0.088,
          -0.08,
          0.004,
          -0.028,
          -0.076,
          -0.044,
          -0.06,
          0.032,
          -0.068,
          0.036,
          -0.012,
          -0.008,
          0,
          0.044,
          -0.076,
          0.016,
          -0.02,
          0,
          0.016,
          -0.048,
          -0.004,
          0.028,
          0.048,
          0.108,
          0.008,
          0.06,
          0.028,
          0.024,
          0.032,
          0.016,
          -0.016,
          -0.02,
          -0.004,
          0.016,
          -0.024,
          0.04,
          -0.008,
          -0.008,
          -0.032,
          0.04,
          -0.044,
          0.008,
          -0.048,
          -0.036,
          -0.004,
          -0.08,
          0.024,
          0.056,
          -0.036,
          0.008,
          0.056,
          0.024,
          -0.04,
          0.052,
          -0.02,
          0.016,
          0.024,
          -0.052,
          -0.044,
          0.004,
          -0.044,
          0.052
         ],
         "yaxis": "y"
        },
        {
         "hovertemplate": "variable=Mopt (eps=0.20)<br>Games played=%{x}<br>value=%{y}<extra></extra>",
         "legendgroup": "Mopt (eps=0.20)",
         "line": {
          "color": "#00cc96",
          "dash": "solid"
         },
         "marker": {
          "symbol": "circle"
         },
         "mode": "lines",
         "name": "Mopt (eps=0.20)",
         "orientation": "v",
         "showlegend": true,
         "type": "scatter",
         "x": [
          250,
          500,
          750,
          1000,
          1250,
          1500,
          1750,
          2000,
          2250,
          2500,
          2750,
          3000,
          3250,
          3500,
          3750,
          4000,
          4250,
          4500,
          4750,
          5000,
          5250,
          5500,
          5750,
          6000,
          6250,
          6500,
          6750,
          7000,
          7250,
          7500,
          7750,
          8000,
          8250,
          8500,
          8750,
          9000,
          9250,
          9500,
          9750,
          10000,
          10250,
          10500,
          10750,
          11000,
          11250,
          11500,
          11750,
          12000,
          12250,
          12500,
          12750,
          13000,
          13250,
          13500,
          13750,
          14000,
          14250,
          14500,
          14750,
          15000,
          15250,
          15500,
          15750,
          16000,
          16250,
          16500,
          16750,
          17000,
          17250,
          17500,
          17750,
          18000,
          18250,
          18500,
          18750,
          19000,
          19250,
          19500,
          19750
         ],
         "xaxis": "x",
         "y": [
          -0.988,
          -0.908,
          -0.824,
          -0.792,
          -0.696,
          -0.576,
          -0.488,
          -0.448,
          -0.476,
          -0.38,
          -0.312,
          -0.268,
          -0.232,
          -0.204,
          -0.184,
          -0.176,
          -0.068,
          -0.032,
          -0.176,
          -0.112,
          -0.132,
          -0.052,
          -0.02,
          -0.056,
          -0.16,
          -0.096,
          -0.076,
          -0.084,
          -0.124,
          -0.08,
          -0.068,
          -0.036,
          -0.068,
          -0.096,
          -0.104,
          -0.064,
          -0.096,
          -0.028,
          -0.028,
          -0.08,
          -0.044,
          -0.104,
          -0.088,
          -0.064,
          -0.04,
          -0.008,
          -0.016,
          -0.04,
          0.004,
          -0.052,
          -0.092,
          -0.016,
          -0.1,
          -0.024,
          -0.04,
          -0.016,
          -0.06,
          -0.072,
          -0.052,
          0.04,
          0,
          -0.072,
          -0.04,
          -0.068,
          -0.024,
          0.044,
          -0.084,
          -0.044,
          0,
          -0.056,
          -0.048,
          0.036,
          -0.012,
          -0.024,
          0.028,
          -0.028,
          -0.044,
          -0.064,
          -0.104
         ],
         "yaxis": "y"
        },
        {
         "hovertemplate": "variable=Mopt (eps=0.30)<br>Games played=%{x}<br>value=%{y}<extra></extra>",
         "legendgroup": "Mopt (eps=0.30)",
         "line": {
          "color": "#ab63fa",
          "dash": "solid"
         },
         "marker": {
          "symbol": "circle"
         },
         "mode": "lines",
         "name": "Mopt (eps=0.30)",
         "orientation": "v",
         "showlegend": true,
         "type": "scatter",
         "x": [
          250,
          500,
          750,
          1000,
          1250,
          1500,
          1750,
          2000,
          2250,
          2500,
          2750,
          3000,
          3250,
          3500,
          3750,
          4000,
          4250,
          4500,
          4750,
          5000,
          5250,
          5500,
          5750,
          6000,
          6250,
          6500,
          6750,
          7000,
          7250,
          7500,
          7750,
          8000,
          8250,
          8500,
          8750,
          9000,
          9250,
          9500,
          9750,
          10000,
          10250,
          10500,
          10750,
          11000,
          11250,
          11500,
          11750,
          12000,
          12250,
          12500,
          12750,
          13000,
          13250,
          13500,
          13750,
          14000,
          14250,
          14500,
          14750,
          15000,
          15250,
          15500,
          15750,
          16000,
          16250,
          16500,
          16750,
          17000,
          17250,
          17500,
          17750,
          18000,
          18250,
          18500,
          18750,
          19000,
          19250,
          19500,
          19750
         ],
         "xaxis": "x",
         "y": [
          -0.972,
          -0.944,
          -0.888,
          -0.756,
          -0.696,
          -0.692,
          -0.628,
          -0.624,
          -0.592,
          -0.568,
          -0.488,
          -0.484,
          -0.52,
          -0.524,
          -0.468,
          -0.46,
          -0.456,
          -0.436,
          -0.468,
          -0.504,
          -0.48,
          -0.472,
          -0.476,
          -0.448,
          -0.484,
          -0.436,
          -0.404,
          -0.472,
          -0.408,
          -0.412,
          -0.396,
          -0.456,
          -0.436,
          -0.492,
          -0.384,
          -0.428,
          -0.412,
          -0.408,
          -0.456,
          -0.456,
          -0.468,
          -0.476,
          -0.392,
          -0.428,
          -0.416,
          -0.408,
          -0.408,
          -0.384,
          -0.392,
          -0.356,
          -0.456,
          -0.352,
          -0.384,
          -0.416,
          -0.424,
          -0.38,
          -0.484,
          -0.408,
          -0.392,
          -0.384,
          -0.34,
          -0.388,
          -0.3,
          -0.436,
          -0.416,
          -0.392,
          -0.38,
          -0.392,
          -0.44,
          -0.416,
          -0.388,
          -0.388,
          -0.42,
          -0.4,
          -0.316,
          -0.364,
          -0.424,
          -0.332,
          -0.392
         ],
         "yaxis": "y"
        },
        {
         "hovertemplate": "variable=Mopt (eps=0.40)<br>Games played=%{x}<br>value=%{y}<extra></extra>",
         "legendgroup": "Mopt (eps=0.40)",
         "line": {
          "color": "#FFA15A",
          "dash": "solid"
         },
         "marker": {
          "symbol": "circle"
         },
         "mode": "lines",
         "name": "Mopt (eps=0.40)",
         "orientation": "v",
         "showlegend": true,
         "type": "scatter",
         "x": [
          250,
          500,
          750,
          1000,
          1250,
          1500,
          1750,
          2000,
          2250,
          2500,
          2750,
          3000,
          3250,
          3500,
          3750,
          4000,
          4250,
          4500,
          4750,
          5000,
          5250,
          5500,
          5750,
          6000,
          6250,
          6500,
          6750,
          7000,
          7250,
          7500,
          7750,
          8000,
          8250,
          8500,
          8750,
          9000,
          9250,
          9500,
          9750,
          10000,
          10250,
          10500,
          10750,
          11000,
          11250,
          11500,
          11750,
          12000,
          12250,
          12500,
          12750,
          13000,
          13250,
          13500,
          13750,
          14000,
          14250,
          14500,
          14750,
          15000,
          15250,
          15500,
          15750,
          16000,
          16250,
          16500,
          16750,
          17000,
          17250,
          17500,
          17750,
          18000,
          18250,
          18500,
          18750,
          19000,
          19250,
          19500,
          19750
         ],
         "xaxis": "x",
         "y": [
          -0.996,
          -0.892,
          -0.84,
          -0.868,
          -0.896,
          -0.844,
          -0.864,
          -0.86,
          -0.804,
          -0.86,
          -0.848,
          -0.88,
          -0.844,
          -0.808,
          -0.804,
          -0.804,
          -0.792,
          -0.8,
          -0.8,
          -0.852,
          -0.796,
          -0.828,
          -0.824,
          -0.816,
          -0.832,
          -0.84,
          -0.86,
          -0.808,
          -0.832,
          -0.816,
          -0.848,
          -0.82,
          -0.816,
          -0.852,
          -0.792,
          -0.788,
          -0.816,
          -0.824,
          -0.876,
          -0.788,
          -0.828,
          -0.78,
          -0.82,
          -0.848,
          -0.772,
          -0.824,
          -0.768,
          -0.828,
          -0.82,
          -0.796,
          -0.816,
          -0.796,
          -0.82,
          -0.78,
          -0.78,
          -0.772,
          -0.772,
          -0.764,
          -0.768,
          -0.768,
          -0.844,
          -0.812,
          -0.784,
          -0.804,
          -0.764,
          -0.772,
          -0.836,
          -0.772,
          -0.804,
          -0.772,
          -0.776,
          -0.788,
          -0.756,
          -0.812,
          -0.728,
          -0.776,
          -0.796,
          -0.756,
          -0.784
         ],
         "yaxis": "y"
        },
        {
         "hovertemplate": "variable=Mopt (eps=0.50)<br>Games played=%{x}<br>value=%{y}<extra></extra>",
         "legendgroup": "Mopt (eps=0.50)",
         "line": {
          "color": "#19d3f3",
          "dash": "solid"
         },
         "marker": {
          "symbol": "circle"
         },
         "mode": "lines",
         "name": "Mopt (eps=0.50)",
         "orientation": "v",
         "showlegend": true,
         "type": "scatter",
         "x": [
          250,
          500,
          750,
          1000,
          1250,
          1500,
          1750,
          2000,
          2250,
          2500,
          2750,
          3000,
          3250,
          3500,
          3750,
          4000,
          4250,
          4500,
          4750,
          5000,
          5250,
          5500,
          5750,
          6000,
          6250,
          6500,
          6750,
          7000,
          7250,
          7500,
          7750,
          8000,
          8250,
          8500,
          8750,
          9000,
          9250,
          9500,
          9750,
          10000,
          10250,
          10500,
          10750,
          11000,
          11250,
          11500,
          11750,
          12000,
          12250,
          12500,
          12750,
          13000,
          13250,
          13500,
          13750,
          14000,
          14250,
          14500,
          14750,
          15000,
          15250,
          15500,
          15750,
          16000,
          16250,
          16500,
          16750,
          17000,
          17250,
          17500,
          17750,
          18000,
          18250,
          18500,
          18750,
          19000,
          19250,
          19500,
          19750
         ],
         "xaxis": "x",
         "y": [
          -0.988,
          -0.96,
          -0.968,
          -0.952,
          -0.96,
          -0.936,
          -0.916,
          -0.932,
          -0.964,
          -0.948,
          -0.924,
          -0.94,
          -0.944,
          -0.944,
          -0.904,
          -0.924,
          -0.92,
          -0.928,
          -0.932,
          -0.932,
          -0.94,
          -0.936,
          -0.948,
          -0.932,
          -0.94,
          -0.944,
          -0.932,
          -0.932,
          -0.948,
          -0.912,
          -0.924,
          -0.932,
          -0.932,
          -0.944,
          -0.952,
          -0.916,
          -0.948,
          -0.944,
          -0.888,
          -0.912,
          -0.928,
          -0.932,
          -0.904,
          -0.936,
          -0.944,
          -0.952,
          -0.932,
          -0.936,
          -0.94,
          -0.932,
          -0.94,
          -0.924,
          -0.912,
          -0.928,
          -0.944,
          -0.92,
          -0.924,
          -0.932,
          -0.908,
          -0.888,
          -0.904,
          -0.968,
          -0.9,
          -0.92,
          -0.924,
          -0.9,
          -0.928,
          -0.932,
          -0.932,
          -0.964,
          -0.916,
          -0.904,
          -0.9,
          -0.904,
          -0.912,
          -0.884,
          -0.92,
          -0.916,
          -0.92
         ],
         "yaxis": "y"
        },
        {
         "hovertemplate": "variable=Mopt (eps=0.60)<br>Games played=%{x}<br>value=%{y}<extra></extra>",
         "legendgroup": "Mopt (eps=0.60)",
         "line": {
          "color": "#FF6692",
          "dash": "solid"
         },
         "marker": {
          "symbol": "circle"
         },
         "mode": "lines",
         "name": "Mopt (eps=0.60)",
         "orientation": "v",
         "showlegend": true,
         "type": "scatter",
         "x": [
          250,
          500,
          750,
          1000,
          1250,
          1500,
          1750,
          2000,
          2250,
          2500,
          2750,
          3000,
          3250,
          3500,
          3750,
          4000,
          4250,
          4500,
          4750,
          5000,
          5250,
          5500,
          5750,
          6000,
          6250,
          6500,
          6750,
          7000,
          7250,
          7500,
          7750,
          8000,
          8250,
          8500,
          8750,
          9000,
          9250,
          9500,
          9750,
          10000,
          10250,
          10500,
          10750,
          11000,
          11250,
          11500,
          11750,
          12000,
          12250,
          12500,
          12750,
          13000,
          13250,
          13500,
          13750,
          14000,
          14250,
          14500,
          14750,
          15000,
          15250,
          15500,
          15750,
          16000,
          16250,
          16500,
          16750,
          17000,
          17250,
          17500,
          17750,
          18000,
          18250,
          18500,
          18750,
          19000,
          19250,
          19500,
          19750
         ],
         "xaxis": "x",
         "y": [
          -0.972,
          -0.9,
          -0.952,
          -0.96,
          -0.944,
          -0.92,
          -0.896,
          -0.932,
          -0.912,
          -0.92,
          -0.92,
          -0.932,
          -0.92,
          -0.9,
          -0.932,
          -0.968,
          -0.932,
          -0.924,
          -0.908,
          -0.908,
          -0.924,
          -0.928,
          -0.936,
          -0.908,
          -0.916,
          -0.912,
          -0.9,
          -0.912,
          -0.912,
          -0.908,
          -0.924,
          -0.952,
          -0.904,
          -0.928,
          -0.92,
          -0.916,
          -0.928,
          -0.888,
          -0.896,
          -0.884,
          -0.956,
          -0.896,
          -0.908,
          -0.92,
          -0.908,
          -0.94,
          -0.956,
          -0.916,
          -0.908,
          -0.92,
          -0.936,
          -0.908,
          -0.932,
          -0.9,
          -0.92,
          -0.912,
          -0.912,
          -0.872,
          -0.96,
          -0.904,
          -0.932,
          -0.932,
          -0.9,
          -0.916,
          -0.9,
          -0.944,
          -0.924,
          -0.92,
          -0.912,
          -0.872,
          -0.928,
          -0.936,
          -0.904,
          -0.936,
          -0.92,
          -0.904,
          -0.9,
          -0.908,
          -0.9
         ],
         "yaxis": "y"
        },
        {
         "hovertemplate": "variable=Mopt (eps=0.70)<br>Games played=%{x}<br>value=%{y}<extra></extra>",
         "legendgroup": "Mopt (eps=0.70)",
         "line": {
          "color": "#B6E880",
          "dash": "solid"
         },
         "marker": {
          "symbol": "circle"
         },
         "mode": "lines",
         "name": "Mopt (eps=0.70)",
         "orientation": "v",
         "showlegend": true,
         "type": "scatter",
         "x": [
          250,
          500,
          750,
          1000,
          1250,
          1500,
          1750,
          2000,
          2250,
          2500,
          2750,
          3000,
          3250,
          3500,
          3750,
          4000,
          4250,
          4500,
          4750,
          5000,
          5250,
          5500,
          5750,
          6000,
          6250,
          6500,
          6750,
          7000,
          7250,
          7500,
          7750,
          8000,
          8250,
          8500,
          8750,
          9000,
          9250,
          9500,
          9750,
          10000,
          10250,
          10500,
          10750,
          11000,
          11250,
          11500,
          11750,
          12000,
          12250,
          12500,
          12750,
          13000,
          13250,
          13500,
          13750,
          14000,
          14250,
          14500,
          14750,
          15000,
          15250,
          15500,
          15750,
          16000,
          16250,
          16500,
          16750,
          17000,
          17250,
          17500,
          17750,
          18000,
          18250,
          18500,
          18750,
          19000,
          19250,
          19500,
          19750
         ],
         "xaxis": "x",
         "y": [
          -0.98,
          -0.976,
          -0.972,
          -0.96,
          -0.98,
          -0.936,
          -0.944,
          -0.952,
          -0.944,
          -0.956,
          -0.932,
          -0.948,
          -0.94,
          -0.924,
          -0.936,
          -0.948,
          -0.96,
          -0.948,
          -0.952,
          -0.908,
          -0.956,
          -0.916,
          -0.952,
          -0.94,
          -0.932,
          -0.916,
          -0.956,
          -0.964,
          -0.98,
          -0.948,
          -0.956,
          -0.924,
          -0.952,
          -0.956,
          -0.956,
          -0.952,
          -0.948,
          -0.952,
          -0.968,
          -0.956,
          -0.932,
          -0.94,
          -0.94,
          -0.932,
          -0.924,
          -0.94,
          -0.944,
          -0.964,
          -0.948,
          -0.964,
          -0.972,
          -0.956,
          -0.948,
          -0.948,
          -0.964,
          -0.924,
          -0.94,
          -0.944,
          -0.948,
          -0.96,
          -0.952,
          -0.944,
          -0.928,
          -0.94,
          -0.94,
          -0.936,
          -0.956,
          -0.932,
          -0.952,
          -0.932,
          -0.944,
          -0.936,
          -0.932,
          -0.92,
          -0.904,
          -0.936,
          -0.924,
          -0.952,
          -0.94
         ],
         "yaxis": "y"
        },
        {
         "hovertemplate": "variable=Mopt (eps=0.80)<br>Games played=%{x}<br>value=%{y}<extra></extra>",
         "legendgroup": "Mopt (eps=0.80)",
         "line": {
          "color": "#FF97FF",
          "dash": "solid"
         },
         "marker": {
          "symbol": "circle"
         },
         "mode": "lines",
         "name": "Mopt (eps=0.80)",
         "orientation": "v",
         "showlegend": true,
         "type": "scatter",
         "x": [
          250,
          500,
          750,
          1000,
          1250,
          1500,
          1750,
          2000,
          2250,
          2500,
          2750,
          3000,
          3250,
          3500,
          3750,
          4000,
          4250,
          4500,
          4750,
          5000,
          5250,
          5500,
          5750,
          6000,
          6250,
          6500,
          6750,
          7000,
          7250,
          7500,
          7750,
          8000,
          8250,
          8500,
          8750,
          9000,
          9250,
          9500,
          9750,
          10000,
          10250,
          10500,
          10750,
          11000,
          11250,
          11500,
          11750,
          12000,
          12250,
          12500,
          12750,
          13000,
          13250,
          13500,
          13750,
          14000,
          14250,
          14500,
          14750,
          15000,
          15250,
          15500,
          15750,
          16000,
          16250,
          16500,
          16750,
          17000,
          17250,
          17500,
          17750,
          18000,
          18250,
          18500,
          18750,
          19000,
          19250,
          19500,
          19750
         ],
         "xaxis": "x",
         "y": [
          -0.996,
          -0.992,
          -0.984,
          -0.956,
          -0.948,
          -0.968,
          -0.956,
          -0.98,
          -0.976,
          -0.972,
          -0.976,
          -0.956,
          -0.956,
          -0.972,
          -0.936,
          -0.956,
          -0.964,
          -0.94,
          -0.972,
          -0.932,
          -0.952,
          -0.956,
          -0.964,
          -0.948,
          -0.968,
          -0.972,
          -0.972,
          -0.968,
          -0.956,
          -0.976,
          -0.94,
          -0.968,
          -0.972,
          -0.936,
          -0.94,
          -0.976,
          -0.976,
          -0.96,
          -0.94,
          -0.96,
          -0.956,
          -0.968,
          -0.94,
          -0.964,
          -0.948,
          -0.944,
          -0.952,
          -0.956,
          -0.968,
          -0.968,
          -0.944,
          -0.976,
          -0.952,
          -0.964,
          -0.964,
          -0.976,
          -0.968,
          -0.948,
          -0.964,
          -0.952,
          -0.94,
          -0.952,
          -0.948,
          -0.972,
          -0.972,
          -0.964,
          -0.932,
          -0.932,
          -0.972,
          -0.948,
          -0.944,
          -0.956,
          -0.952,
          -0.976,
          -0.94,
          -0.952,
          -0.948,
          -0.932,
          -0.964
         ],
         "yaxis": "y"
        },
        {
         "hovertemplate": "variable=Mopt (eps=0.90)<br>Games played=%{x}<br>value=%{y}<extra></extra>",
         "legendgroup": "Mopt (eps=0.90)",
         "line": {
          "color": "#FECB52",
          "dash": "solid"
         },
         "marker": {
          "symbol": "circle"
         },
         "mode": "lines",
         "name": "Mopt (eps=0.90)",
         "orientation": "v",
         "showlegend": true,
         "type": "scatter",
         "x": [
          250,
          500,
          750,
          1000,
          1250,
          1500,
          1750,
          2000,
          2250,
          2500,
          2750,
          3000,
          3250,
          3500,
          3750,
          4000,
          4250,
          4500,
          4750,
          5000,
          5250,
          5500,
          5750,
          6000,
          6250,
          6500,
          6750,
          7000,
          7250,
          7500,
          7750,
          8000,
          8250,
          8500,
          8750,
          9000,
          9250,
          9500,
          9750,
          10000,
          10250,
          10500,
          10750,
          11000,
          11250,
          11500,
          11750,
          12000,
          12250,
          12500,
          12750,
          13000,
          13250,
          13500,
          13750,
          14000,
          14250,
          14500,
          14750,
          15000,
          15250,
          15500,
          15750,
          16000,
          16250,
          16500,
          16750,
          17000,
          17250,
          17500,
          17750,
          18000,
          18250,
          18500,
          18750,
          19000,
          19250,
          19500,
          19750
         ],
         "xaxis": "x",
         "y": [
          -0.988,
          -0.996,
          -0.996,
          -0.992,
          -0.98,
          -0.972,
          -0.972,
          -0.968,
          -0.956,
          -0.988,
          -0.948,
          -0.988,
          -0.956,
          -0.976,
          -0.972,
          -0.968,
          -0.96,
          -0.964,
          -0.988,
          -0.956,
          -0.96,
          -0.952,
          -0.984,
          -0.968,
          -0.972,
          -0.98,
          -0.932,
          -0.972,
          -0.98,
          -0.94,
          -0.944,
          -0.96,
          -0.956,
          -0.952,
          -0.936,
          -0.96,
          -0.92,
          -0.96,
          -0.944,
          -0.96,
          -0.952,
          -0.96,
          -0.952,
          -0.932,
          -0.948,
          -0.948,
          -0.924,
          -0.944,
          -0.96,
          -0.964,
          -0.936,
          -0.968,
          -0.936,
          -0.936,
          -0.96,
          -0.928,
          -0.956,
          -0.972,
          -0.952,
          -0.952,
          -0.976,
          -0.98,
          -0.948,
          -0.948,
          -0.936,
          -0.932,
          -0.948,
          -0.984,
          -0.952,
          -0.932,
          -0.936,
          -0.952,
          -0.96,
          -0.94,
          -0.948,
          -0.964,
          -0.948,
          -0.94,
          -0.96
         ],
         "yaxis": "y"
        },
        {
         "hovertemplate": "variable=Mopt (eps=1.00)<br>Games played=%{x}<br>value=%{y}<extra></extra>",
         "legendgroup": "Mopt (eps=1.00)",
         "line": {
          "color": "#636efa",
          "dash": "solid"
         },
         "marker": {
          "symbol": "circle"
         },
         "mode": "lines",
         "name": "Mopt (eps=1.00)",
         "orientation": "v",
         "showlegend": true,
         "type": "scatter",
         "x": [
          250,
          500,
          750,
          1000,
          1250,
          1500,
          1750,
          2000,
          2250,
          2500,
          2750,
          3000,
          3250,
          3500,
          3750,
          4000,
          4250,
          4500,
          4750,
          5000,
          5250,
          5500,
          5750,
          6000,
          6250,
          6500,
          6750,
          7000,
          7250,
          7500,
          7750,
          8000,
          8250,
          8500,
          8750,
          9000,
          9250,
          9500,
          9750,
          10000,
          10250,
          10500,
          10750,
          11000,
          11250,
          11500,
          11750,
          12000,
          12250,
          12500,
          12750,
          13000,
          13250,
          13500,
          13750,
          14000,
          14250,
          14500,
          14750,
          15000,
          15250,
          15500,
          15750,
          16000,
          16250,
          16500,
          16750,
          17000,
          17250,
          17500,
          17750,
          18000,
          18250,
          18500,
          18750,
          19000,
          19250,
          19500,
          19750
         ],
         "xaxis": "x",
         "y": [
          -1,
          -0.996,
          -0.992,
          -0.98,
          -0.992,
          -0.98,
          -0.992,
          -0.992,
          -0.98,
          -0.988,
          -1,
          -0.988,
          -0.988,
          -0.988,
          -0.988,
          -0.996,
          -0.992,
          -0.988,
          -0.984,
          -0.98,
          -0.996,
          -1,
          -0.996,
          -0.984,
          -0.996,
          -0.984,
          -0.992,
          -0.996,
          -0.972,
          -0.996,
          -0.992,
          -0.988,
          -0.988,
          -0.988,
          -1,
          -0.992,
          -0.988,
          -0.996,
          -0.992,
          -0.992,
          -0.996,
          -0.988,
          -0.984,
          -1,
          -0.984,
          -0.992,
          -0.976,
          -0.992,
          -0.976,
          -0.992,
          -0.988,
          -0.984,
          -1,
          -0.984,
          -0.972,
          -0.996,
          -0.992,
          -0.98,
          -0.992,
          -0.992,
          -1,
          -0.988,
          -0.968,
          -0.996,
          -0.98,
          -0.94,
          -0.984,
          -0.98,
          -0.984,
          -0.992,
          -0.976,
          -0.968,
          -0.988,
          -0.964,
          -0.976,
          -0.968,
          -0.964,
          -0.952,
          -0.972
         ],
         "yaxis": "y"
        }
       ],
       "layout": {
        "legend": {
         "title": {
          "text": "variable"
         },
         "tracegroupgap": 0
        },
        "margin": {
         "t": 60
        },
        "template": {
         "data": {
          "bar": [
           {
            "error_x": {
             "color": "#2a3f5f"
            },
            "error_y": {
             "color": "#2a3f5f"
            },
            "marker": {
             "line": {
              "color": "#E5ECF6",
              "width": 0.5
             },
             "pattern": {
              "fillmode": "overlay",
              "size": 10,
              "solidity": 0.2
             }
            },
            "type": "bar"
           }
          ],
          "barpolar": [
           {
            "marker": {
             "line": {
              "color": "#E5ECF6",
              "width": 0.5
             },
             "pattern": {
              "fillmode": "overlay",
              "size": 10,
              "solidity": 0.2
             }
            },
            "type": "barpolar"
           }
          ],
          "carpet": [
           {
            "aaxis": {
             "endlinecolor": "#2a3f5f",
             "gridcolor": "white",
             "linecolor": "white",
             "minorgridcolor": "white",
             "startlinecolor": "#2a3f5f"
            },
            "baxis": {
             "endlinecolor": "#2a3f5f",
             "gridcolor": "white",
             "linecolor": "white",
             "minorgridcolor": "white",
             "startlinecolor": "#2a3f5f"
            },
            "type": "carpet"
           }
          ],
          "choropleth": [
           {
            "colorbar": {
             "outlinewidth": 0,
             "ticks": ""
            },
            "type": "choropleth"
           }
          ],
          "contour": [
           {
            "colorbar": {
             "outlinewidth": 0,
             "ticks": ""
            },
            "colorscale": [
             [
              0,
              "#0d0887"
             ],
             [
              0.1111111111111111,
              "#46039f"
             ],
             [
              0.2222222222222222,
              "#7201a8"
             ],
             [
              0.3333333333333333,
              "#9c179e"
             ],
             [
              0.4444444444444444,
              "#bd3786"
             ],
             [
              0.5555555555555556,
              "#d8576b"
             ],
             [
              0.6666666666666666,
              "#ed7953"
             ],
             [
              0.7777777777777778,
              "#fb9f3a"
             ],
             [
              0.8888888888888888,
              "#fdca26"
             ],
             [
              1,
              "#f0f921"
             ]
            ],
            "type": "contour"
           }
          ],
          "contourcarpet": [
           {
            "colorbar": {
             "outlinewidth": 0,
             "ticks": ""
            },
            "type": "contourcarpet"
           }
          ],
          "heatmap": [
           {
            "colorbar": {
             "outlinewidth": 0,
             "ticks": ""
            },
            "colorscale": [
             [
              0,
              "#0d0887"
             ],
             [
              0.1111111111111111,
              "#46039f"
             ],
             [
              0.2222222222222222,
              "#7201a8"
             ],
             [
              0.3333333333333333,
              "#9c179e"
             ],
             [
              0.4444444444444444,
              "#bd3786"
             ],
             [
              0.5555555555555556,
              "#d8576b"
             ],
             [
              0.6666666666666666,
              "#ed7953"
             ],
             [
              0.7777777777777778,
              "#fb9f3a"
             ],
             [
              0.8888888888888888,
              "#fdca26"
             ],
             [
              1,
              "#f0f921"
             ]
            ],
            "type": "heatmap"
           }
          ],
          "heatmapgl": [
           {
            "colorbar": {
             "outlinewidth": 0,
             "ticks": ""
            },
            "colorscale": [
             [
              0,
              "#0d0887"
             ],
             [
              0.1111111111111111,
              "#46039f"
             ],
             [
              0.2222222222222222,
              "#7201a8"
             ],
             [
              0.3333333333333333,
              "#9c179e"
             ],
             [
              0.4444444444444444,
              "#bd3786"
             ],
             [
              0.5555555555555556,
              "#d8576b"
             ],
             [
              0.6666666666666666,
              "#ed7953"
             ],
             [
              0.7777777777777778,
              "#fb9f3a"
             ],
             [
              0.8888888888888888,
              "#fdca26"
             ],
             [
              1,
              "#f0f921"
             ]
            ],
            "type": "heatmapgl"
           }
          ],
          "histogram": [
           {
            "marker": {
             "pattern": {
              "fillmode": "overlay",
              "size": 10,
              "solidity": 0.2
             }
            },
            "type": "histogram"
           }
          ],
          "histogram2d": [
           {
            "colorbar": {
             "outlinewidth": 0,
             "ticks": ""
            },
            "colorscale": [
             [
              0,
              "#0d0887"
             ],
             [
              0.1111111111111111,
              "#46039f"
             ],
             [
              0.2222222222222222,
              "#7201a8"
             ],
             [
              0.3333333333333333,
              "#9c179e"
             ],
             [
              0.4444444444444444,
              "#bd3786"
             ],
             [
              0.5555555555555556,
              "#d8576b"
             ],
             [
              0.6666666666666666,
              "#ed7953"
             ],
             [
              0.7777777777777778,
              "#fb9f3a"
             ],
             [
              0.8888888888888888,
              "#fdca26"
             ],
             [
              1,
              "#f0f921"
             ]
            ],
            "type": "histogram2d"
           }
          ],
          "histogram2dcontour": [
           {
            "colorbar": {
             "outlinewidth": 0,
             "ticks": ""
            },
            "colorscale": [
             [
              0,
              "#0d0887"
             ],
             [
              0.1111111111111111,
              "#46039f"
             ],
             [
              0.2222222222222222,
              "#7201a8"
             ],
             [
              0.3333333333333333,
              "#9c179e"
             ],
             [
              0.4444444444444444,
              "#bd3786"
             ],
             [
              0.5555555555555556,
              "#d8576b"
             ],
             [
              0.6666666666666666,
              "#ed7953"
             ],
             [
              0.7777777777777778,
              "#fb9f3a"
             ],
             [
              0.8888888888888888,
              "#fdca26"
             ],
             [
              1,
              "#f0f921"
             ]
            ],
            "type": "histogram2dcontour"
           }
          ],
          "mesh3d": [
           {
            "colorbar": {
             "outlinewidth": 0,
             "ticks": ""
            },
            "type": "mesh3d"
           }
          ],
          "parcoords": [
           {
            "line": {
             "colorbar": {
              "outlinewidth": 0,
              "ticks": ""
             }
            },
            "type": "parcoords"
           }
          ],
          "pie": [
           {
            "automargin": true,
            "type": "pie"
           }
          ],
          "scatter": [
           {
            "fillpattern": {
             "fillmode": "overlay",
             "size": 10,
             "solidity": 0.2
            },
            "type": "scatter"
           }
          ],
          "scatter3d": [
           {
            "line": {
             "colorbar": {
              "outlinewidth": 0,
              "ticks": ""
             }
            },
            "marker": {
             "colorbar": {
              "outlinewidth": 0,
              "ticks": ""
             }
            },
            "type": "scatter3d"
           }
          ],
          "scattercarpet": [
           {
            "marker": {
             "colorbar": {
              "outlinewidth": 0,
              "ticks": ""
             }
            },
            "type": "scattercarpet"
           }
          ],
          "scattergeo": [
           {
            "marker": {
             "colorbar": {
              "outlinewidth": 0,
              "ticks": ""
             }
            },
            "type": "scattergeo"
           }
          ],
          "scattergl": [
           {
            "marker": {
             "colorbar": {
              "outlinewidth": 0,
              "ticks": ""
             }
            },
            "type": "scattergl"
           }
          ],
          "scattermapbox": [
           {
            "marker": {
             "colorbar": {
              "outlinewidth": 0,
              "ticks": ""
             }
            },
            "type": "scattermapbox"
           }
          ],
          "scatterpolar": [
           {
            "marker": {
             "colorbar": {
              "outlinewidth": 0,
              "ticks": ""
             }
            },
            "type": "scatterpolar"
           }
          ],
          "scatterpolargl": [
           {
            "marker": {
             "colorbar": {
              "outlinewidth": 0,
              "ticks": ""
             }
            },
            "type": "scatterpolargl"
           }
          ],
          "scatterternary": [
           {
            "marker": {
             "colorbar": {
              "outlinewidth": 0,
              "ticks": ""
             }
            },
            "type": "scatterternary"
           }
          ],
          "surface": [
           {
            "colorbar": {
             "outlinewidth": 0,
             "ticks": ""
            },
            "colorscale": [
             [
              0,
              "#0d0887"
             ],
             [
              0.1111111111111111,
              "#46039f"
             ],
             [
              0.2222222222222222,
              "#7201a8"
             ],
             [
              0.3333333333333333,
              "#9c179e"
             ],
             [
              0.4444444444444444,
              "#bd3786"
             ],
             [
              0.5555555555555556,
              "#d8576b"
             ],
             [
              0.6666666666666666,
              "#ed7953"
             ],
             [
              0.7777777777777778,
              "#fb9f3a"
             ],
             [
              0.8888888888888888,
              "#fdca26"
             ],
             [
              1,
              "#f0f921"
             ]
            ],
            "type": "surface"
           }
          ],
          "table": [
           {
            "cells": {
             "fill": {
              "color": "#EBF0F8"
             },
             "line": {
              "color": "white"
             }
            },
            "header": {
             "fill": {
              "color": "#C8D4E3"
             },
             "line": {
              "color": "white"
             }
            },
            "type": "table"
           }
          ]
         },
         "layout": {
          "annotationdefaults": {
           "arrowcolor": "#2a3f5f",
           "arrowhead": 0,
           "arrowwidth": 1
          },
          "autotypenumbers": "strict",
          "coloraxis": {
           "colorbar": {
            "outlinewidth": 0,
            "ticks": ""
           }
          },
          "colorscale": {
           "diverging": [
            [
             0,
             "#8e0152"
            ],
            [
             0.1,
             "#c51b7d"
            ],
            [
             0.2,
             "#de77ae"
            ],
            [
             0.3,
             "#f1b6da"
            ],
            [
             0.4,
             "#fde0ef"
            ],
            [
             0.5,
             "#f7f7f7"
            ],
            [
             0.6,
             "#e6f5d0"
            ],
            [
             0.7,
             "#b8e186"
            ],
            [
             0.8,
             "#7fbc41"
            ],
            [
             0.9,
             "#4d9221"
            ],
            [
             1,
             "#276419"
            ]
           ],
           "sequential": [
            [
             0,
             "#0d0887"
            ],
            [
             0.1111111111111111,
             "#46039f"
            ],
            [
             0.2222222222222222,
             "#7201a8"
            ],
            [
             0.3333333333333333,
             "#9c179e"
            ],
            [
             0.4444444444444444,
             "#bd3786"
            ],
            [
             0.5555555555555556,
             "#d8576b"
            ],
            [
             0.6666666666666666,
             "#ed7953"
            ],
            [
             0.7777777777777778,
             "#fb9f3a"
            ],
            [
             0.8888888888888888,
             "#fdca26"
            ],
            [
             1,
             "#f0f921"
            ]
           ],
           "sequentialminus": [
            [
             0,
             "#0d0887"
            ],
            [
             0.1111111111111111,
             "#46039f"
            ],
            [
             0.2222222222222222,
             "#7201a8"
            ],
            [
             0.3333333333333333,
             "#9c179e"
            ],
            [
             0.4444444444444444,
             "#bd3786"
            ],
            [
             0.5555555555555556,
             "#d8576b"
            ],
            [
             0.6666666666666666,
             "#ed7953"
            ],
            [
             0.7777777777777778,
             "#fb9f3a"
            ],
            [
             0.8888888888888888,
             "#fdca26"
            ],
            [
             1,
             "#f0f921"
            ]
           ]
          },
          "colorway": [
           "#636efa",
           "#EF553B",
           "#00cc96",
           "#ab63fa",
           "#FFA15A",
           "#19d3f3",
           "#FF6692",
           "#B6E880",
           "#FF97FF",
           "#FECB52"
          ],
          "font": {
           "color": "#2a3f5f"
          },
          "geo": {
           "bgcolor": "white",
           "lakecolor": "white",
           "landcolor": "#E5ECF6",
           "showlakes": true,
           "showland": true,
           "subunitcolor": "white"
          },
          "hoverlabel": {
           "align": "left"
          },
          "hovermode": "closest",
          "mapbox": {
           "style": "light"
          },
          "paper_bgcolor": "white",
          "plot_bgcolor": "#E5ECF6",
          "polar": {
           "angularaxis": {
            "gridcolor": "white",
            "linecolor": "white",
            "ticks": ""
           },
           "bgcolor": "#E5ECF6",
           "radialaxis": {
            "gridcolor": "white",
            "linecolor": "white",
            "ticks": ""
           }
          },
          "scene": {
           "xaxis": {
            "backgroundcolor": "#E5ECF6",
            "gridcolor": "white",
            "gridwidth": 2,
            "linecolor": "white",
            "showbackground": true,
            "ticks": "",
            "zerolinecolor": "white"
           },
           "yaxis": {
            "backgroundcolor": "#E5ECF6",
            "gridcolor": "white",
            "gridwidth": 2,
            "linecolor": "white",
            "showbackground": true,
            "ticks": "",
            "zerolinecolor": "white"
           },
           "zaxis": {
            "backgroundcolor": "#E5ECF6",
            "gridcolor": "white",
            "gridwidth": 2,
            "linecolor": "white",
            "showbackground": true,
            "ticks": "",
            "zerolinecolor": "white"
           }
          },
          "shapedefaults": {
           "line": {
            "color": "#2a3f5f"
           }
          },
          "ternary": {
           "aaxis": {
            "gridcolor": "white",
            "linecolor": "white",
            "ticks": ""
           },
           "baxis": {
            "gridcolor": "white",
            "linecolor": "white",
            "ticks": ""
           },
           "bgcolor": "#E5ECF6",
           "caxis": {
            "gridcolor": "white",
            "linecolor": "white",
            "ticks": ""
           }
          },
          "title": {
           "x": 0.05
          },
          "xaxis": {
           "automargin": true,
           "gridcolor": "white",
           "linecolor": "white",
           "ticks": "",
           "title": {
            "standoff": 15
           },
           "zerolinecolor": "white",
           "zerolinewidth": 2
          },
          "yaxis": {
           "automargin": true,
           "gridcolor": "white",
           "linecolor": "white",
           "ticks": "",
           "title": {
            "standoff": 15
           },
           "zerolinecolor": "white",
           "zerolinewidth": 2
          }
         }
        },
        "width": 800,
        "xaxis": {
         "anchor": "y",
         "domain": [
          0,
          1
         ],
         "title": {
          "text": "Games played"
         }
        },
        "yaxis": {
         "anchor": "x",
         "domain": [
          0,
          1
         ],
         "title": {
          "text": "Mopt"
         }
        }
       }
      }
     },
     "metadata": {},
     "output_type": "display_data"
    },
    {
     "data": {
      "application/vnd.plotly.v1+json": {
       "config": {
        "plotlyServerURL": "https://plot.ly"
       },
       "data": [
        {
         "hovertemplate": "variable=Mrand (eps=0.00)<br>Games played=%{x}<br>value=%{y}<extra></extra>",
         "legendgroup": "Mrand (eps=0.00)",
         "line": {
          "color": "#636efa",
          "dash": "solid"
         },
         "marker": {
          "symbol": "circle"
         },
         "mode": "lines",
         "name": "Mrand (eps=0.00)",
         "orientation": "v",
         "showlegend": true,
         "type": "scatter",
         "x": [
          250,
          500,
          750,
          1000,
          1250,
          1500,
          1750,
          2000,
          2250,
          2500,
          2750,
          3000,
          3250,
          3500,
          3750,
          4000,
          4250,
          4500,
          4750,
          5000,
          5250,
          5500,
          5750,
          6000,
          6250,
          6500,
          6750,
          7000,
          7250,
          7500,
          7750,
          8000,
          8250,
          8500,
          8750,
          9000,
          9250,
          9500,
          9750,
          10000,
          10250,
          10500,
          10750,
          11000,
          11250,
          11500,
          11750,
          12000,
          12250,
          12500,
          12750,
          13000,
          13250,
          13500,
          13750,
          14000,
          14250,
          14500,
          14750,
          15000,
          15250,
          15500,
          15750,
          16000,
          16250,
          16500,
          16750,
          17000,
          17250,
          17500,
          17750,
          18000,
          18250,
          18500,
          18750,
          19000,
          19250,
          19500,
          19750
         ],
         "xaxis": "x",
         "y": [
          -0.16,
          -0.108,
          -0.124,
          -0.068,
          -0.156,
          -0.068,
          -0.036,
          -0.152,
          -0.104,
          -0.096,
          0,
          -0.124,
          -0.116,
          -0.076,
          -0.128,
          -0.076,
          0.004,
          -0.128,
          -0.108,
          0,
          -0.052,
          -0.072,
          -0.008,
          -0.064,
          -0.084,
          -0.056,
          -0.088,
          -0.072,
          0.036,
          0.036,
          -0.1,
          -0.184,
          -0.108,
          -0.116,
          -0.08,
          -0.02,
          -0.104,
          -0.084,
          0.052,
          -0.184,
          -0.088,
          -0.12,
          -0.032,
          -0.1,
          -0.072,
          -0.104,
          -0.124,
          -0.008,
          -0.072,
          -0.12,
          -0.072,
          -0.096,
          -0.04,
          -0.072,
          -0.136,
          -0.032,
          -0.136,
          -0.008,
          -0.056,
          -0.048,
          -0.08,
          -0.096,
          -0.008,
          -0.048,
          0.04,
          -0.1,
          -0.028,
          0.016,
          0.016,
          -0.1,
          -0.056,
          -0.048,
          -0.14,
          -0.004,
          -0.132,
          -0.024,
          -0.056,
          -0.04,
          -0.132
         ],
         "yaxis": "y"
        },
        {
         "hovertemplate": "variable=Mrand (eps=0.10)<br>Games played=%{x}<br>value=%{y}<extra></extra>",
         "legendgroup": "Mrand (eps=0.10)",
         "line": {
          "color": "#EF553B",
          "dash": "solid"
         },
         "marker": {
          "symbol": "circle"
         },
         "mode": "lines",
         "name": "Mrand (eps=0.10)",
         "orientation": "v",
         "showlegend": true,
         "type": "scatter",
         "x": [
          250,
          500,
          750,
          1000,
          1250,
          1500,
          1750,
          2000,
          2250,
          2500,
          2750,
          3000,
          3250,
          3500,
          3750,
          4000,
          4250,
          4500,
          4750,
          5000,
          5250,
          5500,
          5750,
          6000,
          6250,
          6500,
          6750,
          7000,
          7250,
          7500,
          7750,
          8000,
          8250,
          8500,
          8750,
          9000,
          9250,
          9500,
          9750,
          10000,
          10250,
          10500,
          10750,
          11000,
          11250,
          11500,
          11750,
          12000,
          12250,
          12500,
          12750,
          13000,
          13250,
          13500,
          13750,
          14000,
          14250,
          14500,
          14750,
          15000,
          15250,
          15500,
          15750,
          16000,
          16250,
          16500,
          16750,
          17000,
          17250,
          17500,
          17750,
          18000,
          18250,
          18500,
          18750,
          19000,
          19250,
          19500,
          19750
         ],
         "xaxis": "x",
         "y": [
          0.528,
          0.556,
          0.588,
          0.676,
          0.632,
          0.664,
          0.764,
          0.788,
          0.748,
          0.8,
          0.82,
          0.808,
          0.736,
          0.812,
          0.852,
          0.908,
          0.88,
          0.912,
          0.924,
          0.92,
          0.948,
          0.932,
          0.94,
          0.932,
          0.968,
          0.952,
          0.9,
          0.972,
          0.952,
          0.956,
          0.94,
          0.956,
          0.924,
          0.952,
          0.948,
          0.94,
          0.924,
          0.904,
          0.968,
          0.96,
          0.956,
          0.968,
          0.956,
          0.984,
          0.96,
          0.992,
          0.952,
          0.952,
          0.984,
          0.972,
          0.976,
          0.976,
          0.984,
          0.964,
          0.952,
          0.98,
          0.96,
          0.984,
          0.964,
          0.988,
          0.96,
          0.988,
          0.976,
          0.976,
          0.972,
          0.984,
          0.976,
          0.98,
          0.988,
          0.984,
          0.98,
          0.976,
          0.972,
          0.976,
          0.992,
          0.98,
          0.988,
          0.972,
          0.972
         ],
         "yaxis": "y"
        },
        {
         "hovertemplate": "variable=Mrand (eps=0.20)<br>Games played=%{x}<br>value=%{y}<extra></extra>",
         "legendgroup": "Mrand (eps=0.20)",
         "line": {
          "color": "#00cc96",
          "dash": "solid"
         },
         "marker": {
          "symbol": "circle"
         },
         "mode": "lines",
         "name": "Mrand (eps=0.20)",
         "orientation": "v",
         "showlegend": true,
         "type": "scatter",
         "x": [
          250,
          500,
          750,
          1000,
          1250,
          1500,
          1750,
          2000,
          2250,
          2500,
          2750,
          3000,
          3250,
          3500,
          3750,
          4000,
          4250,
          4500,
          4750,
          5000,
          5250,
          5500,
          5750,
          6000,
          6250,
          6500,
          6750,
          7000,
          7250,
          7500,
          7750,
          8000,
          8250,
          8500,
          8750,
          9000,
          9250,
          9500,
          9750,
          10000,
          10250,
          10500,
          10750,
          11000,
          11250,
          11500,
          11750,
          12000,
          12250,
          12500,
          12750,
          13000,
          13250,
          13500,
          13750,
          14000,
          14250,
          14500,
          14750,
          15000,
          15250,
          15500,
          15750,
          16000,
          16250,
          16500,
          16750,
          17000,
          17250,
          17500,
          17750,
          18000,
          18250,
          18500,
          18750,
          19000,
          19250,
          19500,
          19750
         ],
         "xaxis": "x",
         "y": [
          0.332,
          0.504,
          0.728,
          0.684,
          0.828,
          0.744,
          0.812,
          0.892,
          0.916,
          0.9,
          0.872,
          0.88,
          0.884,
          0.896,
          0.936,
          0.908,
          0.876,
          0.904,
          0.932,
          0.92,
          0.936,
          0.952,
          0.924,
          0.948,
          0.944,
          0.976,
          0.944,
          0.96,
          0.96,
          0.988,
          0.964,
          0.972,
          0.968,
          0.952,
          0.96,
          0.952,
          0.984,
          0.972,
          0.976,
          0.968,
          0.964,
          0.968,
          0.976,
          0.964,
          0.988,
          0.992,
          0.996,
          0.988,
          0.972,
          0.984,
          0.996,
          0.992,
          0.988,
          0.988,
          0.988,
          0.972,
          0.988,
          0.988,
          0.984,
          0.984,
          0.996,
          0.996,
          0.988,
          0.996,
          0.988,
          0.996,
          1,
          0.996,
          0.996,
          0.988,
          0.992,
          0.992,
          0.98,
          0.988,
          0.988,
          0.992,
          0.992,
          0.992,
          0.996
         ],
         "yaxis": "y"
        },
        {
         "hovertemplate": "variable=Mrand (eps=0.30)<br>Games played=%{x}<br>value=%{y}<extra></extra>",
         "legendgroup": "Mrand (eps=0.30)",
         "line": {
          "color": "#ab63fa",
          "dash": "solid"
         },
         "marker": {
          "symbol": "circle"
         },
         "mode": "lines",
         "name": "Mrand (eps=0.30)",
         "orientation": "v",
         "showlegend": true,
         "type": "scatter",
         "x": [
          250,
          500,
          750,
          1000,
          1250,
          1500,
          1750,
          2000,
          2250,
          2500,
          2750,
          3000,
          3250,
          3500,
          3750,
          4000,
          4250,
          4500,
          4750,
          5000,
          5250,
          5500,
          5750,
          6000,
          6250,
          6500,
          6750,
          7000,
          7250,
          7500,
          7750,
          8000,
          8250,
          8500,
          8750,
          9000,
          9250,
          9500,
          9750,
          10000,
          10250,
          10500,
          10750,
          11000,
          11250,
          11500,
          11750,
          12000,
          12250,
          12500,
          12750,
          13000,
          13250,
          13500,
          13750,
          14000,
          14250,
          14500,
          14750,
          15000,
          15250,
          15500,
          15750,
          16000,
          16250,
          16500,
          16750,
          17000,
          17250,
          17500,
          17750,
          18000,
          18250,
          18500,
          18750,
          19000,
          19250,
          19500,
          19750
         ],
         "xaxis": "x",
         "y": [
          0.604,
          0.616,
          0.816,
          0.788,
          0.788,
          0.816,
          0.828,
          0.912,
          0.856,
          0.868,
          0.888,
          0.924,
          0.924,
          0.896,
          0.96,
          0.972,
          0.944,
          0.956,
          0.94,
          0.952,
          0.992,
          0.956,
          0.976,
          0.964,
          0.988,
          0.968,
          0.968,
          0.968,
          0.968,
          0.956,
          0.956,
          0.972,
          0.976,
          0.988,
          0.976,
          0.972,
          0.984,
          0.988,
          0.968,
          0.988,
          0.992,
          0.976,
          0.988,
          0.992,
          0.988,
          0.996,
          0.992,
          0.992,
          0.988,
          0.984,
          0.98,
          0.984,
          0.984,
          0.988,
          0.992,
          0.992,
          0.992,
          0.992,
          0.992,
          0.992,
          1,
          0.992,
          1,
          0.992,
          0.996,
          0.992,
          0.996,
          0.996,
          1,
          0.996,
          0.992,
          0.992,
          0.996,
          0.996,
          0.988,
          0.996,
          0.996,
          0.996,
          1
         ],
         "yaxis": "y"
        },
        {
         "hovertemplate": "variable=Mrand (eps=0.40)<br>Games played=%{x}<br>value=%{y}<extra></extra>",
         "legendgroup": "Mrand (eps=0.40)",
         "line": {
          "color": "#FFA15A",
          "dash": "solid"
         },
         "marker": {
          "symbol": "circle"
         },
         "mode": "lines",
         "name": "Mrand (eps=0.40)",
         "orientation": "v",
         "showlegend": true,
         "type": "scatter",
         "x": [
          250,
          500,
          750,
          1000,
          1250,
          1500,
          1750,
          2000,
          2250,
          2500,
          2750,
          3000,
          3250,
          3500,
          3750,
          4000,
          4250,
          4500,
          4750,
          5000,
          5250,
          5500,
          5750,
          6000,
          6250,
          6500,
          6750,
          7000,
          7250,
          7500,
          7750,
          8000,
          8250,
          8500,
          8750,
          9000,
          9250,
          9500,
          9750,
          10000,
          10250,
          10500,
          10750,
          11000,
          11250,
          11500,
          11750,
          12000,
          12250,
          12500,
          12750,
          13000,
          13250,
          13500,
          13750,
          14000,
          14250,
          14500,
          14750,
          15000,
          15250,
          15500,
          15750,
          16000,
          16250,
          16500,
          16750,
          17000,
          17250,
          17500,
          17750,
          18000,
          18250,
          18500,
          18750,
          19000,
          19250,
          19500,
          19750
         ],
         "xaxis": "x",
         "y": [
          0.628,
          0.692,
          0.7,
          0.784,
          0.812,
          0.852,
          0.876,
          0.852,
          0.884,
          0.904,
          0.932,
          0.932,
          0.948,
          0.94,
          0.948,
          0.96,
          0.972,
          0.956,
          0.952,
          0.968,
          0.936,
          0.956,
          0.952,
          0.956,
          0.948,
          0.96,
          0.972,
          0.968,
          0.976,
          0.972,
          0.98,
          0.988,
          0.96,
          0.988,
          0.972,
          0.96,
          0.96,
          0.976,
          0.952,
          0.976,
          0.984,
          0.976,
          0.972,
          0.992,
          0.98,
          0.996,
          0.988,
          0.976,
          0.976,
          0.988,
          0.996,
          0.968,
          0.988,
          0.988,
          0.996,
          0.996,
          0.992,
          0.984,
          0.984,
          0.996,
          0.988,
          0.98,
          0.992,
          1,
          0.996,
          1,
          0.988,
          0.988,
          1,
          0.992,
          0.984,
          0.992,
          0.996,
          0.988,
          0.996,
          0.996,
          0.992,
          0.996,
          0.988
         ],
         "yaxis": "y"
        },
        {
         "hovertemplate": "variable=Mrand (eps=0.50)<br>Games played=%{x}<br>value=%{y}<extra></extra>",
         "legendgroup": "Mrand (eps=0.50)",
         "line": {
          "color": "#19d3f3",
          "dash": "solid"
         },
         "marker": {
          "symbol": "circle"
         },
         "mode": "lines",
         "name": "Mrand (eps=0.50)",
         "orientation": "v",
         "showlegend": true,
         "type": "scatter",
         "x": [
          250,
          500,
          750,
          1000,
          1250,
          1500,
          1750,
          2000,
          2250,
          2500,
          2750,
          3000,
          3250,
          3500,
          3750,
          4000,
          4250,
          4500,
          4750,
          5000,
          5250,
          5500,
          5750,
          6000,
          6250,
          6500,
          6750,
          7000,
          7250,
          7500,
          7750,
          8000,
          8250,
          8500,
          8750,
          9000,
          9250,
          9500,
          9750,
          10000,
          10250,
          10500,
          10750,
          11000,
          11250,
          11500,
          11750,
          12000,
          12250,
          12500,
          12750,
          13000,
          13250,
          13500,
          13750,
          14000,
          14250,
          14500,
          14750,
          15000,
          15250,
          15500,
          15750,
          16000,
          16250,
          16500,
          16750,
          17000,
          17250,
          17500,
          17750,
          18000,
          18250,
          18500,
          18750,
          19000,
          19250,
          19500,
          19750
         ],
         "xaxis": "x",
         "y": [
          0.508,
          0.784,
          0.808,
          0.876,
          0.828,
          0.808,
          0.836,
          0.864,
          0.928,
          0.936,
          0.888,
          0.92,
          0.936,
          0.956,
          0.944,
          0.936,
          0.976,
          0.968,
          0.964,
          0.96,
          0.96,
          0.956,
          0.928,
          0.948,
          0.976,
          0.96,
          0.968,
          0.98,
          0.964,
          0.972,
          0.968,
          0.948,
          0.96,
          0.952,
          0.992,
          0.968,
          0.968,
          0.964,
          0.992,
          0.964,
          0.976,
          0.992,
          0.98,
          0.968,
          0.96,
          0.984,
          0.988,
          0.98,
          0.988,
          0.964,
          0.976,
          0.976,
          0.976,
          0.984,
          0.98,
          0.992,
          0.98,
          0.976,
          0.976,
          0.996,
          0.976,
          0.972,
          0.98,
          0.992,
          0.992,
          0.984,
          0.976,
          0.976,
          0.972,
          0.984,
          0.98,
          0.984,
          0.996,
          0.984,
          0.976,
          0.96,
          0.956,
          0.968,
          0.968
         ],
         "yaxis": "y"
        },
        {
         "hovertemplate": "variable=Mrand (eps=0.60)<br>Games played=%{x}<br>value=%{y}<extra></extra>",
         "legendgroup": "Mrand (eps=0.60)",
         "line": {
          "color": "#FF6692",
          "dash": "solid"
         },
         "marker": {
          "symbol": "circle"
         },
         "mode": "lines",
         "name": "Mrand (eps=0.60)",
         "orientation": "v",
         "showlegend": true,
         "type": "scatter",
         "x": [
          250,
          500,
          750,
          1000,
          1250,
          1500,
          1750,
          2000,
          2250,
          2500,
          2750,
          3000,
          3250,
          3500,
          3750,
          4000,
          4250,
          4500,
          4750,
          5000,
          5250,
          5500,
          5750,
          6000,
          6250,
          6500,
          6750,
          7000,
          7250,
          7500,
          7750,
          8000,
          8250,
          8500,
          8750,
          9000,
          9250,
          9500,
          9750,
          10000,
          10250,
          10500,
          10750,
          11000,
          11250,
          11500,
          11750,
          12000,
          12250,
          12500,
          12750,
          13000,
          13250,
          13500,
          13750,
          14000,
          14250,
          14500,
          14750,
          15000,
          15250,
          15500,
          15750,
          16000,
          16250,
          16500,
          16750,
          17000,
          17250,
          17500,
          17750,
          18000,
          18250,
          18500,
          18750,
          19000,
          19250,
          19500,
          19750
         ],
         "xaxis": "x",
         "y": [
          0.696,
          0.748,
          0.836,
          0.844,
          0.876,
          0.876,
          0.936,
          0.928,
          0.944,
          0.924,
          0.952,
          0.948,
          0.916,
          0.884,
          0.94,
          0.924,
          0.948,
          0.904,
          0.912,
          0.916,
          0.928,
          0.956,
          0.948,
          0.928,
          0.932,
          0.944,
          0.98,
          0.976,
          0.96,
          0.964,
          0.988,
          0.972,
          0.952,
          0.976,
          0.98,
          0.972,
          0.984,
          0.984,
          0.968,
          0.968,
          0.98,
          0.98,
          0.996,
          0.964,
          0.972,
          0.968,
          0.988,
          0.98,
          0.968,
          0.944,
          0.956,
          0.98,
          0.972,
          0.96,
          0.976,
          0.964,
          0.976,
          0.988,
          0.98,
          0.976,
          0.968,
          0.96,
          0.976,
          0.98,
          0.956,
          0.96,
          0.976,
          0.964,
          0.98,
          0.976,
          0.972,
          0.968,
          0.976,
          0.98,
          0.976,
          0.968,
          0.956,
          0.96,
          0.96
         ],
         "yaxis": "y"
        },
        {
         "hovertemplate": "variable=Mrand (eps=0.70)<br>Games played=%{x}<br>value=%{y}<extra></extra>",
         "legendgroup": "Mrand (eps=0.70)",
         "line": {
          "color": "#B6E880",
          "dash": "solid"
         },
         "marker": {
          "symbol": "circle"
         },
         "mode": "lines",
         "name": "Mrand (eps=0.70)",
         "orientation": "v",
         "showlegend": true,
         "type": "scatter",
         "x": [
          250,
          500,
          750,
          1000,
          1250,
          1500,
          1750,
          2000,
          2250,
          2500,
          2750,
          3000,
          3250,
          3500,
          3750,
          4000,
          4250,
          4500,
          4750,
          5000,
          5250,
          5500,
          5750,
          6000,
          6250,
          6500,
          6750,
          7000,
          7250,
          7500,
          7750,
          8000,
          8250,
          8500,
          8750,
          9000,
          9250,
          9500,
          9750,
          10000,
          10250,
          10500,
          10750,
          11000,
          11250,
          11500,
          11750,
          12000,
          12250,
          12500,
          12750,
          13000,
          13250,
          13500,
          13750,
          14000,
          14250,
          14500,
          14750,
          15000,
          15250,
          15500,
          15750,
          16000,
          16250,
          16500,
          16750,
          17000,
          17250,
          17500,
          17750,
          18000,
          18250,
          18500,
          18750,
          19000,
          19250,
          19500,
          19750
         ],
         "xaxis": "x",
         "y": [
          0.676,
          0.76,
          0.852,
          0.828,
          0.812,
          0.884,
          0.912,
          0.912,
          0.9,
          0.94,
          0.928,
          0.872,
          0.924,
          0.932,
          0.92,
          0.96,
          0.94,
          0.94,
          0.928,
          0.9,
          0.948,
          0.944,
          0.956,
          0.964,
          0.956,
          0.952,
          0.952,
          0.928,
          0.956,
          0.936,
          0.94,
          0.968,
          0.952,
          0.948,
          0.956,
          0.964,
          0.948,
          0.956,
          0.956,
          0.956,
          0.968,
          0.944,
          0.96,
          0.96,
          0.94,
          0.96,
          0.964,
          0.936,
          0.952,
          0.952,
          0.964,
          0.968,
          0.976,
          0.96,
          0.972,
          0.98,
          0.988,
          0.968,
          0.96,
          0.964,
          0.976,
          0.948,
          0.952,
          0.968,
          0.956,
          0.944,
          0.98,
          0.972,
          0.964,
          0.964,
          0.972,
          0.98,
          0.96,
          0.984,
          0.972,
          0.976,
          0.964,
          0.968,
          0.96
         ],
         "yaxis": "y"
        },
        {
         "hovertemplate": "variable=Mrand (eps=0.80)<br>Games played=%{x}<br>value=%{y}<extra></extra>",
         "legendgroup": "Mrand (eps=0.80)",
         "line": {
          "color": "#FF97FF",
          "dash": "solid"
         },
         "marker": {
          "symbol": "circle"
         },
         "mode": "lines",
         "name": "Mrand (eps=0.80)",
         "orientation": "v",
         "showlegend": true,
         "type": "scatter",
         "x": [
          250,
          500,
          750,
          1000,
          1250,
          1500,
          1750,
          2000,
          2250,
          2500,
          2750,
          3000,
          3250,
          3500,
          3750,
          4000,
          4250,
          4500,
          4750,
          5000,
          5250,
          5500,
          5750,
          6000,
          6250,
          6500,
          6750,
          7000,
          7250,
          7500,
          7750,
          8000,
          8250,
          8500,
          8750,
          9000,
          9250,
          9500,
          9750,
          10000,
          10250,
          10500,
          10750,
          11000,
          11250,
          11500,
          11750,
          12000,
          12250,
          12500,
          12750,
          13000,
          13250,
          13500,
          13750,
          14000,
          14250,
          14500,
          14750,
          15000,
          15250,
          15500,
          15750,
          16000,
          16250,
          16500,
          16750,
          17000,
          17250,
          17500,
          17750,
          18000,
          18250,
          18500,
          18750,
          19000,
          19250,
          19500,
          19750
         ],
         "xaxis": "x",
         "y": [
          0.524,
          0.66,
          0.772,
          0.7,
          0.756,
          0.784,
          0.844,
          0.792,
          0.844,
          0.824,
          0.812,
          0.896,
          0.78,
          0.876,
          0.852,
          0.824,
          0.872,
          0.84,
          0.868,
          0.876,
          0.908,
          0.872,
          0.884,
          0.9,
          0.896,
          0.876,
          0.872,
          0.876,
          0.9,
          0.892,
          0.924,
          0.888,
          0.868,
          0.892,
          0.904,
          0.896,
          0.924,
          0.916,
          0.932,
          0.9,
          0.888,
          0.892,
          0.92,
          0.904,
          0.888,
          0.932,
          0.924,
          0.904,
          0.936,
          0.908,
          0.888,
          0.9,
          0.92,
          0.948,
          0.9,
          0.944,
          0.924,
          0.92,
          0.936,
          0.936,
          0.904,
          0.888,
          0.928,
          0.94,
          0.916,
          0.916,
          0.916,
          0.88,
          0.936,
          0.896,
          0.928,
          0.928,
          0.928,
          0.936,
          0.936,
          0.952,
          0.896,
          0.96,
          0.94
         ],
         "yaxis": "y"
        },
        {
         "hovertemplate": "variable=Mrand (eps=0.90)<br>Games played=%{x}<br>value=%{y}<extra></extra>",
         "legendgroup": "Mrand (eps=0.90)",
         "line": {
          "color": "#FECB52",
          "dash": "solid"
         },
         "marker": {
          "symbol": "circle"
         },
         "mode": "lines",
         "name": "Mrand (eps=0.90)",
         "orientation": "v",
         "showlegend": true,
         "type": "scatter",
         "x": [
          250,
          500,
          750,
          1000,
          1250,
          1500,
          1750,
          2000,
          2250,
          2500,
          2750,
          3000,
          3250,
          3500,
          3750,
          4000,
          4250,
          4500,
          4750,
          5000,
          5250,
          5500,
          5750,
          6000,
          6250,
          6500,
          6750,
          7000,
          7250,
          7500,
          7750,
          8000,
          8250,
          8500,
          8750,
          9000,
          9250,
          9500,
          9750,
          10000,
          10250,
          10500,
          10750,
          11000,
          11250,
          11500,
          11750,
          12000,
          12250,
          12500,
          12750,
          13000,
          13250,
          13500,
          13750,
          14000,
          14250,
          14500,
          14750,
          15000,
          15250,
          15500,
          15750,
          16000,
          16250,
          16500,
          16750,
          17000,
          17250,
          17500,
          17750,
          18000,
          18250,
          18500,
          18750,
          19000,
          19250,
          19500,
          19750
         ],
         "xaxis": "x",
         "y": [
          0.756,
          0.692,
          0.796,
          0.756,
          0.792,
          0.824,
          0.732,
          0.78,
          0.804,
          0.856,
          0.848,
          0.8,
          0.884,
          0.78,
          0.876,
          0.82,
          0.848,
          0.856,
          0.896,
          0.916,
          0.864,
          0.884,
          0.844,
          0.872,
          0.9,
          0.856,
          0.884,
          0.876,
          0.876,
          0.884,
          0.848,
          0.868,
          0.916,
          0.872,
          0.892,
          0.912,
          0.848,
          0.92,
          0.888,
          0.908,
          0.904,
          0.888,
          0.832,
          0.892,
          0.868,
          0.912,
          0.912,
          0.888,
          0.884,
          0.844,
          0.904,
          0.884,
          0.892,
          0.92,
          0.904,
          0.9,
          0.86,
          0.844,
          0.9,
          0.848,
          0.904,
          0.924,
          0.904,
          0.868,
          0.92,
          0.868,
          0.896,
          0.912,
          0.908,
          0.864,
          0.9,
          0.908,
          0.872,
          0.88,
          0.872,
          0.88,
          0.924,
          0.872,
          0.916
         ],
         "yaxis": "y"
        },
        {
         "hovertemplate": "variable=Mrand (eps=1.00)<br>Games played=%{x}<br>value=%{y}<extra></extra>",
         "legendgroup": "Mrand (eps=1.00)",
         "line": {
          "color": "#636efa",
          "dash": "solid"
         },
         "marker": {
          "symbol": "circle"
         },
         "mode": "lines",
         "name": "Mrand (eps=1.00)",
         "orientation": "v",
         "showlegend": true,
         "type": "scatter",
         "x": [
          250,
          500,
          750,
          1000,
          1250,
          1500,
          1750,
          2000,
          2250,
          2500,
          2750,
          3000,
          3250,
          3500,
          3750,
          4000,
          4250,
          4500,
          4750,
          5000,
          5250,
          5500,
          5750,
          6000,
          6250,
          6500,
          6750,
          7000,
          7250,
          7500,
          7750,
          8000,
          8250,
          8500,
          8750,
          9000,
          9250,
          9500,
          9750,
          10000,
          10250,
          10500,
          10750,
          11000,
          11250,
          11500,
          11750,
          12000,
          12250,
          12500,
          12750,
          13000,
          13250,
          13500,
          13750,
          14000,
          14250,
          14500,
          14750,
          15000,
          15250,
          15500,
          15750,
          16000,
          16250,
          16500,
          16750,
          17000,
          17250,
          17500,
          17750,
          18000,
          18250,
          18500,
          18750,
          19000,
          19250,
          19500,
          19750
         ],
         "xaxis": "x",
         "y": [
          0.54,
          0.728,
          0.732,
          0.76,
          0.744,
          0.768,
          0.736,
          0.8,
          0.804,
          0.796,
          0.8,
          0.76,
          0.764,
          0.78,
          0.812,
          0.804,
          0.788,
          0.8,
          0.804,
          0.804,
          0.796,
          0.832,
          0.836,
          0.796,
          0.848,
          0.8,
          0.812,
          0.824,
          0.808,
          0.732,
          0.776,
          0.84,
          0.788,
          0.792,
          0.8,
          0.752,
          0.78,
          0.776,
          0.8,
          0.8,
          0.772,
          0.808,
          0.812,
          0.796,
          0.792,
          0.792,
          0.836,
          0.796,
          0.8,
          0.86,
          0.808,
          0.828,
          0.82,
          0.852,
          0.868,
          0.832,
          0.812,
          0.812,
          0.812,
          0.816,
          0.852,
          0.804,
          0.868,
          0.832,
          0.792,
          0.852,
          0.852,
          0.876,
          0.832,
          0.84,
          0.86,
          0.848,
          0.816,
          0.804,
          0.82,
          0.88,
          0.864,
          0.86,
          0.86
         ],
         "yaxis": "y"
        }
       ],
       "layout": {
        "legend": {
         "title": {
          "text": "variable"
         },
         "tracegroupgap": 0
        },
        "margin": {
         "t": 60
        },
        "template": {
         "data": {
          "bar": [
           {
            "error_x": {
             "color": "#2a3f5f"
            },
            "error_y": {
             "color": "#2a3f5f"
            },
            "marker": {
             "line": {
              "color": "#E5ECF6",
              "width": 0.5
             },
             "pattern": {
              "fillmode": "overlay",
              "size": 10,
              "solidity": 0.2
             }
            },
            "type": "bar"
           }
          ],
          "barpolar": [
           {
            "marker": {
             "line": {
              "color": "#E5ECF6",
              "width": 0.5
             },
             "pattern": {
              "fillmode": "overlay",
              "size": 10,
              "solidity": 0.2
             }
            },
            "type": "barpolar"
           }
          ],
          "carpet": [
           {
            "aaxis": {
             "endlinecolor": "#2a3f5f",
             "gridcolor": "white",
             "linecolor": "white",
             "minorgridcolor": "white",
             "startlinecolor": "#2a3f5f"
            },
            "baxis": {
             "endlinecolor": "#2a3f5f",
             "gridcolor": "white",
             "linecolor": "white",
             "minorgridcolor": "white",
             "startlinecolor": "#2a3f5f"
            },
            "type": "carpet"
           }
          ],
          "choropleth": [
           {
            "colorbar": {
             "outlinewidth": 0,
             "ticks": ""
            },
            "type": "choropleth"
           }
          ],
          "contour": [
           {
            "colorbar": {
             "outlinewidth": 0,
             "ticks": ""
            },
            "colorscale": [
             [
              0,
              "#0d0887"
             ],
             [
              0.1111111111111111,
              "#46039f"
             ],
             [
              0.2222222222222222,
              "#7201a8"
             ],
             [
              0.3333333333333333,
              "#9c179e"
             ],
             [
              0.4444444444444444,
              "#bd3786"
             ],
             [
              0.5555555555555556,
              "#d8576b"
             ],
             [
              0.6666666666666666,
              "#ed7953"
             ],
             [
              0.7777777777777778,
              "#fb9f3a"
             ],
             [
              0.8888888888888888,
              "#fdca26"
             ],
             [
              1,
              "#f0f921"
             ]
            ],
            "type": "contour"
           }
          ],
          "contourcarpet": [
           {
            "colorbar": {
             "outlinewidth": 0,
             "ticks": ""
            },
            "type": "contourcarpet"
           }
          ],
          "heatmap": [
           {
            "colorbar": {
             "outlinewidth": 0,
             "ticks": ""
            },
            "colorscale": [
             [
              0,
              "#0d0887"
             ],
             [
              0.1111111111111111,
              "#46039f"
             ],
             [
              0.2222222222222222,
              "#7201a8"
             ],
             [
              0.3333333333333333,
              "#9c179e"
             ],
             [
              0.4444444444444444,
              "#bd3786"
             ],
             [
              0.5555555555555556,
              "#d8576b"
             ],
             [
              0.6666666666666666,
              "#ed7953"
             ],
             [
              0.7777777777777778,
              "#fb9f3a"
             ],
             [
              0.8888888888888888,
              "#fdca26"
             ],
             [
              1,
              "#f0f921"
             ]
            ],
            "type": "heatmap"
           }
          ],
          "heatmapgl": [
           {
            "colorbar": {
             "outlinewidth": 0,
             "ticks": ""
            },
            "colorscale": [
             [
              0,
              "#0d0887"
             ],
             [
              0.1111111111111111,
              "#46039f"
             ],
             [
              0.2222222222222222,
              "#7201a8"
             ],
             [
              0.3333333333333333,
              "#9c179e"
             ],
             [
              0.4444444444444444,
              "#bd3786"
             ],
             [
              0.5555555555555556,
              "#d8576b"
             ],
             [
              0.6666666666666666,
              "#ed7953"
             ],
             [
              0.7777777777777778,
              "#fb9f3a"
             ],
             [
              0.8888888888888888,
              "#fdca26"
             ],
             [
              1,
              "#f0f921"
             ]
            ],
            "type": "heatmapgl"
           }
          ],
          "histogram": [
           {
            "marker": {
             "pattern": {
              "fillmode": "overlay",
              "size": 10,
              "solidity": 0.2
             }
            },
            "type": "histogram"
           }
          ],
          "histogram2d": [
           {
            "colorbar": {
             "outlinewidth": 0,
             "ticks": ""
            },
            "colorscale": [
             [
              0,
              "#0d0887"
             ],
             [
              0.1111111111111111,
              "#46039f"
             ],
             [
              0.2222222222222222,
              "#7201a8"
             ],
             [
              0.3333333333333333,
              "#9c179e"
             ],
             [
              0.4444444444444444,
              "#bd3786"
             ],
             [
              0.5555555555555556,
              "#d8576b"
             ],
             [
              0.6666666666666666,
              "#ed7953"
             ],
             [
              0.7777777777777778,
              "#fb9f3a"
             ],
             [
              0.8888888888888888,
              "#fdca26"
             ],
             [
              1,
              "#f0f921"
             ]
            ],
            "type": "histogram2d"
           }
          ],
          "histogram2dcontour": [
           {
            "colorbar": {
             "outlinewidth": 0,
             "ticks": ""
            },
            "colorscale": [
             [
              0,
              "#0d0887"
             ],
             [
              0.1111111111111111,
              "#46039f"
             ],
             [
              0.2222222222222222,
              "#7201a8"
             ],
             [
              0.3333333333333333,
              "#9c179e"
             ],
             [
              0.4444444444444444,
              "#bd3786"
             ],
             [
              0.5555555555555556,
              "#d8576b"
             ],
             [
              0.6666666666666666,
              "#ed7953"
             ],
             [
              0.7777777777777778,
              "#fb9f3a"
             ],
             [
              0.8888888888888888,
              "#fdca26"
             ],
             [
              1,
              "#f0f921"
             ]
            ],
            "type": "histogram2dcontour"
           }
          ],
          "mesh3d": [
           {
            "colorbar": {
             "outlinewidth": 0,
             "ticks": ""
            },
            "type": "mesh3d"
           }
          ],
          "parcoords": [
           {
            "line": {
             "colorbar": {
              "outlinewidth": 0,
              "ticks": ""
             }
            },
            "type": "parcoords"
           }
          ],
          "pie": [
           {
            "automargin": true,
            "type": "pie"
           }
          ],
          "scatter": [
           {
            "fillpattern": {
             "fillmode": "overlay",
             "size": 10,
             "solidity": 0.2
            },
            "type": "scatter"
           }
          ],
          "scatter3d": [
           {
            "line": {
             "colorbar": {
              "outlinewidth": 0,
              "ticks": ""
             }
            },
            "marker": {
             "colorbar": {
              "outlinewidth": 0,
              "ticks": ""
             }
            },
            "type": "scatter3d"
           }
          ],
          "scattercarpet": [
           {
            "marker": {
             "colorbar": {
              "outlinewidth": 0,
              "ticks": ""
             }
            },
            "type": "scattercarpet"
           }
          ],
          "scattergeo": [
           {
            "marker": {
             "colorbar": {
              "outlinewidth": 0,
              "ticks": ""
             }
            },
            "type": "scattergeo"
           }
          ],
          "scattergl": [
           {
            "marker": {
             "colorbar": {
              "outlinewidth": 0,
              "ticks": ""
             }
            },
            "type": "scattergl"
           }
          ],
          "scattermapbox": [
           {
            "marker": {
             "colorbar": {
              "outlinewidth": 0,
              "ticks": ""
             }
            },
            "type": "scattermapbox"
           }
          ],
          "scatterpolar": [
           {
            "marker": {
             "colorbar": {
              "outlinewidth": 0,
              "ticks": ""
             }
            },
            "type": "scatterpolar"
           }
          ],
          "scatterpolargl": [
           {
            "marker": {
             "colorbar": {
              "outlinewidth": 0,
              "ticks": ""
             }
            },
            "type": "scatterpolargl"
           }
          ],
          "scatterternary": [
           {
            "marker": {
             "colorbar": {
              "outlinewidth": 0,
              "ticks": ""
             }
            },
            "type": "scatterternary"
           }
          ],
          "surface": [
           {
            "colorbar": {
             "outlinewidth": 0,
             "ticks": ""
            },
            "colorscale": [
             [
              0,
              "#0d0887"
             ],
             [
              0.1111111111111111,
              "#46039f"
             ],
             [
              0.2222222222222222,
              "#7201a8"
             ],
             [
              0.3333333333333333,
              "#9c179e"
             ],
             [
              0.4444444444444444,
              "#bd3786"
             ],
             [
              0.5555555555555556,
              "#d8576b"
             ],
             [
              0.6666666666666666,
              "#ed7953"
             ],
             [
              0.7777777777777778,
              "#fb9f3a"
             ],
             [
              0.8888888888888888,
              "#fdca26"
             ],
             [
              1,
              "#f0f921"
             ]
            ],
            "type": "surface"
           }
          ],
          "table": [
           {
            "cells": {
             "fill": {
              "color": "#EBF0F8"
             },
             "line": {
              "color": "white"
             }
            },
            "header": {
             "fill": {
              "color": "#C8D4E3"
             },
             "line": {
              "color": "white"
             }
            },
            "type": "table"
           }
          ]
         },
         "layout": {
          "annotationdefaults": {
           "arrowcolor": "#2a3f5f",
           "arrowhead": 0,
           "arrowwidth": 1
          },
          "autotypenumbers": "strict",
          "coloraxis": {
           "colorbar": {
            "outlinewidth": 0,
            "ticks": ""
           }
          },
          "colorscale": {
           "diverging": [
            [
             0,
             "#8e0152"
            ],
            [
             0.1,
             "#c51b7d"
            ],
            [
             0.2,
             "#de77ae"
            ],
            [
             0.3,
             "#f1b6da"
            ],
            [
             0.4,
             "#fde0ef"
            ],
            [
             0.5,
             "#f7f7f7"
            ],
            [
             0.6,
             "#e6f5d0"
            ],
            [
             0.7,
             "#b8e186"
            ],
            [
             0.8,
             "#7fbc41"
            ],
            [
             0.9,
             "#4d9221"
            ],
            [
             1,
             "#276419"
            ]
           ],
           "sequential": [
            [
             0,
             "#0d0887"
            ],
            [
             0.1111111111111111,
             "#46039f"
            ],
            [
             0.2222222222222222,
             "#7201a8"
            ],
            [
             0.3333333333333333,
             "#9c179e"
            ],
            [
             0.4444444444444444,
             "#bd3786"
            ],
            [
             0.5555555555555556,
             "#d8576b"
            ],
            [
             0.6666666666666666,
             "#ed7953"
            ],
            [
             0.7777777777777778,
             "#fb9f3a"
            ],
            [
             0.8888888888888888,
             "#fdca26"
            ],
            [
             1,
             "#f0f921"
            ]
           ],
           "sequentialminus": [
            [
             0,
             "#0d0887"
            ],
            [
             0.1111111111111111,
             "#46039f"
            ],
            [
             0.2222222222222222,
             "#7201a8"
            ],
            [
             0.3333333333333333,
             "#9c179e"
            ],
            [
             0.4444444444444444,
             "#bd3786"
            ],
            [
             0.5555555555555556,
             "#d8576b"
            ],
            [
             0.6666666666666666,
             "#ed7953"
            ],
            [
             0.7777777777777778,
             "#fb9f3a"
            ],
            [
             0.8888888888888888,
             "#fdca26"
            ],
            [
             1,
             "#f0f921"
            ]
           ]
          },
          "colorway": [
           "#636efa",
           "#EF553B",
           "#00cc96",
           "#ab63fa",
           "#FFA15A",
           "#19d3f3",
           "#FF6692",
           "#B6E880",
           "#FF97FF",
           "#FECB52"
          ],
          "font": {
           "color": "#2a3f5f"
          },
          "geo": {
           "bgcolor": "white",
           "lakecolor": "white",
           "landcolor": "#E5ECF6",
           "showlakes": true,
           "showland": true,
           "subunitcolor": "white"
          },
          "hoverlabel": {
           "align": "left"
          },
          "hovermode": "closest",
          "mapbox": {
           "style": "light"
          },
          "paper_bgcolor": "white",
          "plot_bgcolor": "#E5ECF6",
          "polar": {
           "angularaxis": {
            "gridcolor": "white",
            "linecolor": "white",
            "ticks": ""
           },
           "bgcolor": "#E5ECF6",
           "radialaxis": {
            "gridcolor": "white",
            "linecolor": "white",
            "ticks": ""
           }
          },
          "scene": {
           "xaxis": {
            "backgroundcolor": "#E5ECF6",
            "gridcolor": "white",
            "gridwidth": 2,
            "linecolor": "white",
            "showbackground": true,
            "ticks": "",
            "zerolinecolor": "white"
           },
           "yaxis": {
            "backgroundcolor": "#E5ECF6",
            "gridcolor": "white",
            "gridwidth": 2,
            "linecolor": "white",
            "showbackground": true,
            "ticks": "",
            "zerolinecolor": "white"
           },
           "zaxis": {
            "backgroundcolor": "#E5ECF6",
            "gridcolor": "white",
            "gridwidth": 2,
            "linecolor": "white",
            "showbackground": true,
            "ticks": "",
            "zerolinecolor": "white"
           }
          },
          "shapedefaults": {
           "line": {
            "color": "#2a3f5f"
           }
          },
          "ternary": {
           "aaxis": {
            "gridcolor": "white",
            "linecolor": "white",
            "ticks": ""
           },
           "baxis": {
            "gridcolor": "white",
            "linecolor": "white",
            "ticks": ""
           },
           "bgcolor": "#E5ECF6",
           "caxis": {
            "gridcolor": "white",
            "linecolor": "white",
            "ticks": ""
           }
          },
          "title": {
           "x": 0.05
          },
          "xaxis": {
           "automargin": true,
           "gridcolor": "white",
           "linecolor": "white",
           "ticks": "",
           "title": {
            "standoff": 15
           },
           "zerolinecolor": "white",
           "zerolinewidth": 2
          },
          "yaxis": {
           "automargin": true,
           "gridcolor": "white",
           "linecolor": "white",
           "ticks": "",
           "title": {
            "standoff": 15
           },
           "zerolinecolor": "white",
           "zerolinewidth": 2
          }
         }
        },
        "width": 800,
        "xaxis": {
         "anchor": "y",
         "domain": [
          0,
          1
         ],
         "title": {
          "text": "Games played"
         }
        },
        "yaxis": {
         "anchor": "x",
         "domain": [
          0,
          1
         ],
         "title": {
          "text": "Mrand"
         }
        }
       }
      }
     },
     "metadata": {},
     "output_type": "display_data"
    }
   ],
   "source": [
    "env = NimEnv()\n",
    "#output = []\n",
    "eps_adv_values = np.linspace(0,1,11)\n",
    "# redefining the parallelGames function for M_opt and M_rand configuration\n",
    "df1 = {'Games played':list(np.arange(1,20000//METRICS_FREQUENCY)*METRICS_FREQUENCY)}\n",
    "df2 = {'Games played':list(np.arange(1,20000//METRICS_FREQUENCY)*METRICS_FREQUENCY)}\n",
    "df3 = {'Games played':list(np.arange(1,20000//METRICS_FREQUENCY)*METRICS_FREQUENCY)}\n",
    "num_cores = mp.cpu_count()\n",
    "def parallelGames(eps):\n",
    "    df1, df2, df3 = {}, {}, {}\n",
    "    metrics, _=q_learning(env,num_games=20000, eps_adv=eps, gamma= 0.99, decreasing_eps=True, n_star=1, verbose=False, test=True)\n",
    "    df1[f\"Average reward (eps={eps:0.2f})\"] = metrics[0]\n",
    "    df2[f\"Mopt (eps={eps:0.2f})\"] = metrics[1]\n",
    "    df3[f\"Mrand (eps={eps:0.2f})\"] = metrics[2]\n",
    "    return df1, df2, df3\n",
    "dfs = Parallel(n_jobs=num_cores)(delayed(parallelGames)(eps_adv) for eps_adv in eps_adv_values)\n",
    "for d1,d2,d3 in dfs:\n",
    "    df1.update(d1)\n",
    "    df2.update(d2)\n",
    "    df3.update(d3)\n",
    "\n",
    "df1, df2, df3 = pd.DataFrame(df1), pd.DataFrame(df2), pd.DataFrame(df3)\n",
    "fig1 = px.line(df1, x='Games played', y=df1.columns.difference(['Games played']), title=\"Training with testing on different adversary's eps values\")\n",
    "fig1.update_layout(width=800)\n",
    "fig1.update_yaxes(title_text = \"Mean reward\")\n",
    "fig2 = px.line(df2, x='Games played', y=df2.columns.difference(['Games played']))\n",
    "fig2.update_layout(width=800)\n",
    "fig2.update_yaxes(title_text = \"Mopt\")\n",
    "fig3 = px.line(df3, x='Games played', y=df3.columns.difference(['Games played']))\n",
    "fig3.update_layout(width=800)\n",
    "fig3.update_yaxes(title_text = \"Mrand\")\n",
    "fig1.show()\n",
    "fig2.show()\n",
    "fig3.show()"
   ]
  },
  {
   "cell_type": "markdown",
   "metadata": {
    "collapsed": false
   },
   "source": [
    "Has seen before, a high eps value for Opt(eps) adversary gives poor learning performances when tested against Opt(0), so a lower eps is needed. 0.1, 0.05 and 0.0 seem the best, but eps=0.0 performs poorly against the random player. I CAN'T REALLY EXPLAIN WHY"
   ]
  },
  {
   "cell_type": "markdown",
   "metadata": {
    "collapsed": false
   },
   "source": [
    "## 2.2 Learning by self-practice\n",
    "In this section, your are supposed to ask whether Q-learning can learn to play Nim by only playing\n",
    "against itself. For different values of eps ∈ [0, 1), run a Q-learning agent against itself for 20’000 games –\n",
    "i.e. both players use the same set of Q-values and update the same set of Q-values.\n",
    "\n",
    "Question 7. After every 250 games during training, compute the ‘test’ Mopt and Mrand for different\n",
    "values of eps ∈ [0, 1). Does the agent learn to play Nim? What is the effect of eps?"
   ]
  },
  {
   "cell_type": "code",
   "execution_count": 139,
   "metadata": {
    "collapsed": false,
    "pycharm": {
     "name": "#%%\n"
    }
   },
   "outputs": [
    {
     "data": {
      "application/vnd.plotly.v1+json": {
       "config": {
        "plotlyServerURL": "https://plot.ly"
       },
       "data": [
        {
         "hovertemplate": "variable=Average reward (eps=0.00)<br>Games played=%{x}<br>value=%{y}<extra></extra>",
         "legendgroup": "Average reward (eps=0.00)",
         "line": {
          "color": "#636efa",
          "dash": "solid"
         },
         "marker": {
          "symbol": "circle"
         },
         "mode": "lines",
         "name": "Average reward (eps=0.00)",
         "orientation": "v",
         "showlegend": true,
         "type": "scatter",
         "x": [
          250,
          500,
          750,
          1000,
          1250,
          1500,
          1750,
          2000,
          2250,
          2500,
          2750,
          3000,
          3250,
          3500,
          3750,
          4000,
          4250,
          4500,
          4750,
          5000,
          5250,
          5500,
          5750,
          6000,
          6250,
          6500,
          6750,
          7000,
          7250,
          7500,
          7750,
          8000,
          8250,
          8500,
          8750,
          9000,
          9250,
          9500,
          9750,
          10000,
          10250,
          10500,
          10750,
          11000,
          11250,
          11500,
          11750,
          12000,
          12250,
          12500,
          12750,
          13000,
          13250,
          13500,
          13750,
          14000,
          14250,
          14500,
          14750,
          15000,
          15250,
          15500,
          15750,
          16000,
          16250,
          16500,
          16750,
          17000,
          17250,
          17500,
          17750,
          18000,
          18250,
          18500,
          18750,
          19000,
          19250,
          19500,
          19750
         ],
         "xaxis": "x",
         "y": [
          0.027888446215139442,
          -0.12,
          0.056,
          0.024,
          0.072,
          -0.048,
          -0.064,
          0.048,
          0.024,
          -0.008,
          0.064,
          0,
          0.04,
          0.056,
          -0.008,
          0.04,
          0.056,
          -0.024,
          -0.056,
          0.072,
          -0.088,
          -0.032,
          0.04,
          -0.032,
          -0.008,
          -0.024,
          0.104,
          -0.072,
          0.064,
          -0.008,
          -0.04,
          0.008,
          -0.064,
          0.032,
          0.048,
          -0.024,
          -0.048,
          0,
          -0.024,
          -0.016,
          0.064,
          -0.136,
          -0.008,
          -0.016,
          0,
          -0.056,
          0.016,
          0,
          -0.04,
          -0.032,
          -0.032,
          -0.048,
          0.048,
          0.048,
          0.024,
          -0.024,
          -0.064,
          -0.016,
          0.04,
          0.024,
          0.016,
          -0.048,
          0,
          0.072,
          -0.032,
          0.04,
          0,
          0.04,
          0.056,
          -0.024,
          0.04,
          -0.04,
          0,
          -0.04,
          -0.04,
          0.104,
          -0.016,
          0.072,
          -0.048
         ],
         "yaxis": "y"
        },
        {
         "hovertemplate": "variable=Average reward (eps=0.10)<br>Games played=%{x}<br>value=%{y}<extra></extra>",
         "legendgroup": "Average reward (eps=0.10)",
         "line": {
          "color": "#EF553B",
          "dash": "solid"
         },
         "marker": {
          "symbol": "circle"
         },
         "mode": "lines",
         "name": "Average reward (eps=0.10)",
         "orientation": "v",
         "showlegend": true,
         "type": "scatter",
         "x": [
          250,
          500,
          750,
          1000,
          1250,
          1500,
          1750,
          2000,
          2250,
          2500,
          2750,
          3000,
          3250,
          3500,
          3750,
          4000,
          4250,
          4500,
          4750,
          5000,
          5250,
          5500,
          5750,
          6000,
          6250,
          6500,
          6750,
          7000,
          7250,
          7500,
          7750,
          8000,
          8250,
          8500,
          8750,
          9000,
          9250,
          9500,
          9750,
          10000,
          10250,
          10500,
          10750,
          11000,
          11250,
          11500,
          11750,
          12000,
          12250,
          12500,
          12750,
          13000,
          13250,
          13500,
          13750,
          14000,
          14250,
          14500,
          14750,
          15000,
          15250,
          15500,
          15750,
          16000,
          16250,
          16500,
          16750,
          17000,
          17250,
          17500,
          17750,
          18000,
          18250,
          18500,
          18750,
          19000,
          19250,
          19500,
          19750
         ],
         "xaxis": "x",
         "y": [
          0.00398406374501992,
          -0.112,
          0.088,
          -0.032,
          0.04,
          0,
          -0.024,
          -0.008,
          0.016,
          -0.08,
          0.024,
          0.064,
          0.072,
          0.064,
          0.024,
          0.008,
          0.208,
          0.04,
          0,
          0.096,
          0.016,
          -0.016,
          0.04,
          -0.024,
          0.072,
          0.008,
          0.08,
          0.16,
          0.008,
          -0.024,
          0.08,
          -0.056,
          0.088,
          -0.064,
          0.056,
          0.064,
          0.12,
          0.096,
          0.064,
          0.016,
          -0.056,
          0.024,
          -0.056,
          0.024,
          -0.008,
          -0.072,
          0.008,
          -0.024,
          0.048,
          -0.064,
          -0.008,
          0.16,
          0.08,
          0.024,
          0.016,
          0.04,
          0.024,
          0.024,
          -0.008,
          -0.104,
          -0.08,
          -0.024,
          -0.056,
          0.104,
          -0.016,
          0.08,
          0.048,
          0.016,
          0.104,
          0.048,
          -0.048,
          0.096,
          -0.008,
          0.032,
          -0.096,
          0.048,
          -0.056,
          0.08,
          0.088
         ],
         "yaxis": "y"
        },
        {
         "hovertemplate": "variable=Average reward (eps=0.20)<br>Games played=%{x}<br>value=%{y}<extra></extra>",
         "legendgroup": "Average reward (eps=0.20)",
         "line": {
          "color": "#00cc96",
          "dash": "solid"
         },
         "marker": {
          "symbol": "circle"
         },
         "mode": "lines",
         "name": "Average reward (eps=0.20)",
         "orientation": "v",
         "showlegend": true,
         "type": "scatter",
         "x": [
          250,
          500,
          750,
          1000,
          1250,
          1500,
          1750,
          2000,
          2250,
          2500,
          2750,
          3000,
          3250,
          3500,
          3750,
          4000,
          4250,
          4500,
          4750,
          5000,
          5250,
          5500,
          5750,
          6000,
          6250,
          6500,
          6750,
          7000,
          7250,
          7500,
          7750,
          8000,
          8250,
          8500,
          8750,
          9000,
          9250,
          9500,
          9750,
          10000,
          10250,
          10500,
          10750,
          11000,
          11250,
          11500,
          11750,
          12000,
          12250,
          12500,
          12750,
          13000,
          13250,
          13500,
          13750,
          14000,
          14250,
          14500,
          14750,
          15000,
          15250,
          15500,
          15750,
          16000,
          16250,
          16500,
          16750,
          17000,
          17250,
          17500,
          17750,
          18000,
          18250,
          18500,
          18750,
          19000,
          19250,
          19500,
          19750
         ],
         "xaxis": "x",
         "y": [
          0.05179282868525897,
          -0.016,
          -0.056,
          -0.016,
          0,
          0.032,
          0.048,
          -0.064,
          0.024,
          0.088,
          0.032,
          -0.032,
          0.064,
          0.04,
          -0.072,
          -0.024,
          0.048,
          0.016,
          -0.152,
          -0.056,
          -0.032,
          0.048,
          -0.008,
          0.08,
          -0.024,
          -0.024,
          0.064,
          -0.064,
          0.016,
          -0.016,
          -0.032,
          0.12,
          0.024,
          -0.056,
          -0.008,
          0.056,
          -0.016,
          -0.008,
          0.008,
          0.112,
          -0.016,
          0.008,
          0.144,
          -0.08,
          0.144,
          0.104,
          0.088,
          0,
          0.088,
          -0.136,
          0.128,
          -0.008,
          -0.056,
          -0.056,
          -0.032,
          -0.024,
          0.136,
          -0.008,
          -0.08,
          -0.032,
          0.048,
          -0.088,
          0.104,
          -0.064,
          0.04,
          -0.024,
          0.056,
          0.08,
          -0.072,
          0.056,
          0.032,
          -0.096,
          -0.064,
          0.016,
          0.096,
          0.024,
          0,
          -0.04,
          -0.008
         ],
         "yaxis": "y"
        },
        {
         "hovertemplate": "variable=Average reward (eps=0.30)<br>Games played=%{x}<br>value=%{y}<extra></extra>",
         "legendgroup": "Average reward (eps=0.30)",
         "line": {
          "color": "#ab63fa",
          "dash": "solid"
         },
         "marker": {
          "symbol": "circle"
         },
         "mode": "lines",
         "name": "Average reward (eps=0.30)",
         "orientation": "v",
         "showlegend": true,
         "type": "scatter",
         "x": [
          250,
          500,
          750,
          1000,
          1250,
          1500,
          1750,
          2000,
          2250,
          2500,
          2750,
          3000,
          3250,
          3500,
          3750,
          4000,
          4250,
          4500,
          4750,
          5000,
          5250,
          5500,
          5750,
          6000,
          6250,
          6500,
          6750,
          7000,
          7250,
          7500,
          7750,
          8000,
          8250,
          8500,
          8750,
          9000,
          9250,
          9500,
          9750,
          10000,
          10250,
          10500,
          10750,
          11000,
          11250,
          11500,
          11750,
          12000,
          12250,
          12500,
          12750,
          13000,
          13250,
          13500,
          13750,
          14000,
          14250,
          14500,
          14750,
          15000,
          15250,
          15500,
          15750,
          16000,
          16250,
          16500,
          16750,
          17000,
          17250,
          17500,
          17750,
          18000,
          18250,
          18500,
          18750,
          19000,
          19250,
          19500,
          19750
         ],
         "xaxis": "x",
         "y": [
          -0.027888446215139442,
          0.048,
          -0.096,
          0.04,
          0,
          0.048,
          0.072,
          0.032,
          -0.048,
          -0.096,
          0.016,
          -0.112,
          0.032,
          0.032,
          0.048,
          -0.016,
          -0.064,
          0.048,
          0,
          -0.032,
          0.04,
          0.072,
          0.056,
          0.048,
          0.064,
          0.064,
          -0.016,
          0.048,
          -0.064,
          -0.024,
          0.048,
          0.024,
          -0.024,
          0.016,
          -0.016,
          -0.064,
          0.04,
          -0.064,
          0.056,
          -0.04,
          -0.064,
          0.056,
          0,
          -0.024,
          -0.064,
          0,
          -0.12,
          0.008,
          -0.008,
          0.056,
          0.032,
          0.04,
          -0.04,
          0.008,
          0.064,
          -0.024,
          -0.032,
          -0.088,
          0.064,
          -0.016,
          -0.032,
          0.072,
          -0.104,
          -0.08,
          0.144,
          -0.064,
          0.112,
          0.136,
          0.056,
          0.064,
          -0.04,
          0.08,
          -0.088,
          -0.048,
          -0.04,
          0.072,
          0.016,
          -0.024,
          0.024
         ],
         "yaxis": "y"
        },
        {
         "hovertemplate": "variable=Average reward (eps=0.40)<br>Games played=%{x}<br>value=%{y}<extra></extra>",
         "legendgroup": "Average reward (eps=0.40)",
         "line": {
          "color": "#FFA15A",
          "dash": "solid"
         },
         "marker": {
          "symbol": "circle"
         },
         "mode": "lines",
         "name": "Average reward (eps=0.40)",
         "orientation": "v",
         "showlegend": true,
         "type": "scatter",
         "x": [
          250,
          500,
          750,
          1000,
          1250,
          1500,
          1750,
          2000,
          2250,
          2500,
          2750,
          3000,
          3250,
          3500,
          3750,
          4000,
          4250,
          4500,
          4750,
          5000,
          5250,
          5500,
          5750,
          6000,
          6250,
          6500,
          6750,
          7000,
          7250,
          7500,
          7750,
          8000,
          8250,
          8500,
          8750,
          9000,
          9250,
          9500,
          9750,
          10000,
          10250,
          10500,
          10750,
          11000,
          11250,
          11500,
          11750,
          12000,
          12250,
          12500,
          12750,
          13000,
          13250,
          13500,
          13750,
          14000,
          14250,
          14500,
          14750,
          15000,
          15250,
          15500,
          15750,
          16000,
          16250,
          16500,
          16750,
          17000,
          17250,
          17500,
          17750,
          18000,
          18250,
          18500,
          18750,
          19000,
          19250,
          19500,
          19750
         ],
         "xaxis": "x",
         "y": [
          -0.099601593625498,
          -0.024,
          0.056,
          -0.12,
          -0.016,
          -0.056,
          -0.096,
          0,
          0.056,
          0.064,
          0.12,
          0.072,
          0.016,
          -0.04,
          -0.168,
          -0.024,
          0.008,
          0.024,
          0.048,
          0.088,
          0.008,
          -0.024,
          -0.08,
          -0.024,
          -0.08,
          -0.072,
          0.04,
          -0.032,
          0.064,
          -0.008,
          -0.016,
          -0.024,
          0.056,
          0.048,
          -0.088,
          -0.176,
          0.088,
          -0.088,
          0.008,
          -0.032,
          0.04,
          0.04,
          -0.008,
          0.048,
          0.048,
          0.08,
          -0.04,
          0.04,
          0.032,
          0.048,
          -0.048,
          0.008,
          0.04,
          0.128,
          -0.056,
          0.048,
          -0.032,
          0.008,
          -0.008,
          -0.016,
          -0.024,
          0.04,
          0.024,
          -0.032,
          0.008,
          -0.08,
          0.104,
          0.04,
          0,
          -0.032,
          0.008,
          0.04,
          0.032,
          0.016,
          0.024,
          0.016,
          0.048,
          0.024,
          0.04
         ],
         "yaxis": "y"
        },
        {
         "hovertemplate": "variable=Average reward (eps=0.50)<br>Games played=%{x}<br>value=%{y}<extra></extra>",
         "legendgroup": "Average reward (eps=0.50)",
         "line": {
          "color": "#19d3f3",
          "dash": "solid"
         },
         "marker": {
          "symbol": "circle"
         },
         "mode": "lines",
         "name": "Average reward (eps=0.50)",
         "orientation": "v",
         "showlegend": true,
         "type": "scatter",
         "x": [
          250,
          500,
          750,
          1000,
          1250,
          1500,
          1750,
          2000,
          2250,
          2500,
          2750,
          3000,
          3250,
          3500,
          3750,
          4000,
          4250,
          4500,
          4750,
          5000,
          5250,
          5500,
          5750,
          6000,
          6250,
          6500,
          6750,
          7000,
          7250,
          7500,
          7750,
          8000,
          8250,
          8500,
          8750,
          9000,
          9250,
          9500,
          9750,
          10000,
          10250,
          10500,
          10750,
          11000,
          11250,
          11500,
          11750,
          12000,
          12250,
          12500,
          12750,
          13000,
          13250,
          13500,
          13750,
          14000,
          14250,
          14500,
          14750,
          15000,
          15250,
          15500,
          15750,
          16000,
          16250,
          16500,
          16750,
          17000,
          17250,
          17500,
          17750,
          18000,
          18250,
          18500,
          18750,
          19000,
          19250,
          19500,
          19750
         ],
         "xaxis": "x",
         "y": [
          -0.01195219123505976,
          -0.016,
          0.016,
          0,
          -0.096,
          -0.048,
          -0.04,
          0.016,
          -0.104,
          0.128,
          0.048,
          0.032,
          -0.128,
          -0.12,
          0,
          0,
          0.032,
          -0.016,
          0.152,
          0.064,
          -0.04,
          -0.056,
          0.072,
          0.096,
          0.024,
          0.056,
          0.032,
          -0.048,
          -0.048,
          0.008,
          0.112,
          0.072,
          -0.016,
          -0.024,
          -0.008,
          0.064,
          0.032,
          0.072,
          -0.008,
          0.072,
          0.12,
          -0.08,
          -0.136,
          -0.032,
          -0.112,
          0.048,
          0.048,
          0.104,
          0.008,
          0.048,
          -0.12,
          -0.024,
          -0.056,
          -0.032,
          -0.048,
          0.064,
          -0.112,
          -0.008,
          0.056,
          -0.064,
          -0.016,
          -0.024,
          0.032,
          -0.008,
          -0.072,
          -0.136,
          0.096,
          -0.016,
          -0.112,
          -0.016,
          -0.04,
          -0.04,
          0.064,
          -0.08,
          0.064,
          -0.04,
          -0.12,
          0.088,
          -0.032
         ],
         "yaxis": "y"
        },
        {
         "hovertemplate": "variable=Average reward (eps=0.60)<br>Games played=%{x}<br>value=%{y}<extra></extra>",
         "legendgroup": "Average reward (eps=0.60)",
         "line": {
          "color": "#FF6692",
          "dash": "solid"
         },
         "marker": {
          "symbol": "circle"
         },
         "mode": "lines",
         "name": "Average reward (eps=0.60)",
         "orientation": "v",
         "showlegend": true,
         "type": "scatter",
         "x": [
          250,
          500,
          750,
          1000,
          1250,
          1500,
          1750,
          2000,
          2250,
          2500,
          2750,
          3000,
          3250,
          3500,
          3750,
          4000,
          4250,
          4500,
          4750,
          5000,
          5250,
          5500,
          5750,
          6000,
          6250,
          6500,
          6750,
          7000,
          7250,
          7500,
          7750,
          8000,
          8250,
          8500,
          8750,
          9000,
          9250,
          9500,
          9750,
          10000,
          10250,
          10500,
          10750,
          11000,
          11250,
          11500,
          11750,
          12000,
          12250,
          12500,
          12750,
          13000,
          13250,
          13500,
          13750,
          14000,
          14250,
          14500,
          14750,
          15000,
          15250,
          15500,
          15750,
          16000,
          16250,
          16500,
          16750,
          17000,
          17250,
          17500,
          17750,
          18000,
          18250,
          18500,
          18750,
          19000,
          19250,
          19500,
          19750
         ],
         "xaxis": "x",
         "y": [
          -0.035856573705179286,
          -0.008,
          0.168,
          -0.04,
          0.104,
          0,
          0.104,
          -0.064,
          -0.016,
          -0.008,
          -0.064,
          -0.056,
          -0.168,
          -0.04,
          0.112,
          0.032,
          -0.016,
          -0.08,
          -0.064,
          0.144,
          0.072,
          0,
          0.016,
          -0.048,
          0.024,
          0.064,
          0.016,
          0.096,
          -0.04,
          0,
          0.024,
          -0.096,
          -0.08,
          -0.088,
          0.032,
          0.072,
          -0.024,
          -0.024,
          -0.104,
          0.16,
          0.056,
          -0.024,
          -0.048,
          0.008,
          -0.008,
          0.008,
          -0.04,
          0.104,
          0.08,
          -0.064,
          0.024,
          0.096,
          0,
          -0.184,
          -0.008,
          -0.016,
          -0.104,
          0,
          0,
          0.072,
          0.016,
          -0.032,
          0,
          0.024,
          0.016,
          -0.08,
          0.104,
          0.04,
          -0.056,
          0.024,
          -0.032,
          -0.016,
          -0.056,
          0.088,
          0.08,
          -0.056,
          0.024,
          -0.096,
          -0.032
         ],
         "yaxis": "y"
        },
        {
         "hovertemplate": "variable=Average reward (eps=0.70)<br>Games played=%{x}<br>value=%{y}<extra></extra>",
         "legendgroup": "Average reward (eps=0.70)",
         "line": {
          "color": "#B6E880",
          "dash": "solid"
         },
         "marker": {
          "symbol": "circle"
         },
         "mode": "lines",
         "name": "Average reward (eps=0.70)",
         "orientation": "v",
         "showlegend": true,
         "type": "scatter",
         "x": [
          250,
          500,
          750,
          1000,
          1250,
          1500,
          1750,
          2000,
          2250,
          2500,
          2750,
          3000,
          3250,
          3500,
          3750,
          4000,
          4250,
          4500,
          4750,
          5000,
          5250,
          5500,
          5750,
          6000,
          6250,
          6500,
          6750,
          7000,
          7250,
          7500,
          7750,
          8000,
          8250,
          8500,
          8750,
          9000,
          9250,
          9500,
          9750,
          10000,
          10250,
          10500,
          10750,
          11000,
          11250,
          11500,
          11750,
          12000,
          12250,
          12500,
          12750,
          13000,
          13250,
          13500,
          13750,
          14000,
          14250,
          14500,
          14750,
          15000,
          15250,
          15500,
          15750,
          16000,
          16250,
          16500,
          16750,
          17000,
          17250,
          17500,
          17750,
          18000,
          18250,
          18500,
          18750,
          19000,
          19250,
          19500,
          19750
         ],
         "xaxis": "x",
         "y": [
          -0.08366533864541832,
          -0.048,
          0,
          0.096,
          -0.04,
          0,
          0.12,
          0.016,
          -0.04,
          0.056,
          0.032,
          0.016,
          -0.04,
          -0.04,
          0.048,
          0.08,
          0.048,
          0.016,
          0,
          0.072,
          -0.032,
          -0.008,
          -0.048,
          0.032,
          0.048,
          0.024,
          0.088,
          -0.024,
          -0.048,
          0.216,
          -0.12,
          0.072,
          -0.048,
          -0.104,
          -0.032,
          0.008,
          -0.12,
          0.232,
          -0.072,
          0.024,
          -0.016,
          0.032,
          -0.048,
          0.088,
          -0.016,
          -0.064,
          -0.08,
          0.008,
          0.104,
          -0.128,
          -0.072,
          -0.072,
          -0.032,
          -0.08,
          0.04,
          -0.008,
          -0.008,
          -0.08,
          0.008,
          -0.072,
          -0.048,
          0.096,
          0,
          0.056,
          -0.016,
          0.08,
          -0.104,
          0.016,
          0.024,
          0,
          -0.096,
          0.12,
          -0.16,
          0.12,
          0.08,
          -0.056,
          0.016,
          -0.064,
          -0.04
         ],
         "yaxis": "y"
        },
        {
         "hovertemplate": "variable=Average reward (eps=0.80)<br>Games played=%{x}<br>value=%{y}<extra></extra>",
         "legendgroup": "Average reward (eps=0.80)",
         "line": {
          "color": "#FF97FF",
          "dash": "solid"
         },
         "marker": {
          "symbol": "circle"
         },
         "mode": "lines",
         "name": "Average reward (eps=0.80)",
         "orientation": "v",
         "showlegend": true,
         "type": "scatter",
         "x": [
          250,
          500,
          750,
          1000,
          1250,
          1500,
          1750,
          2000,
          2250,
          2500,
          2750,
          3000,
          3250,
          3500,
          3750,
          4000,
          4250,
          4500,
          4750,
          5000,
          5250,
          5500,
          5750,
          6000,
          6250,
          6500,
          6750,
          7000,
          7250,
          7500,
          7750,
          8000,
          8250,
          8500,
          8750,
          9000,
          9250,
          9500,
          9750,
          10000,
          10250,
          10500,
          10750,
          11000,
          11250,
          11500,
          11750,
          12000,
          12250,
          12500,
          12750,
          13000,
          13250,
          13500,
          13750,
          14000,
          14250,
          14500,
          14750,
          15000,
          15250,
          15500,
          15750,
          16000,
          16250,
          16500,
          16750,
          17000,
          17250,
          17500,
          17750,
          18000,
          18250,
          18500,
          18750,
          19000,
          19250,
          19500,
          19750
         ],
         "xaxis": "x",
         "y": [
          0.035856573705179286,
          0.056,
          -0.024,
          0.072,
          0.048,
          -0.016,
          -0.144,
          0.04,
          0.032,
          -0.04,
          0.008,
          0.016,
          0.04,
          -0.096,
          -0.008,
          -0.064,
          -0.088,
          -0.12,
          -0.04,
          0.04,
          -0.016,
          -0.024,
          0.016,
          -0.032,
          -0.064,
          0.048,
          0.024,
          -0.136,
          0.048,
          -0.016,
          -0.008,
          0.056,
          -0.048,
          0.08,
          -0.008,
          0.128,
          -0.032,
          -0.024,
          0,
          0.096,
          0.032,
          -0.032,
          -0.064,
          -0.072,
          0.008,
          0.096,
          0.064,
          0.16,
          0,
          -0.016,
          0,
          -0.04,
          0.008,
          -0.024,
          -0.008,
          0.12,
          -0.024,
          0.024,
          0.016,
          -0.048,
          0,
          -0.152,
          0.104,
          -0.104,
          0.096,
          0.12,
          -0.08,
          0.024,
          -0.056,
          0.024,
          -0.096,
          -0.008,
          -0.024,
          -0.024,
          -0.016,
          -0.088,
          0.12,
          0.04,
          0.048
         ],
         "yaxis": "y"
        },
        {
         "hovertemplate": "variable=Average reward (eps=0.90)<br>Games played=%{x}<br>value=%{y}<extra></extra>",
         "legendgroup": "Average reward (eps=0.90)",
         "line": {
          "color": "#FECB52",
          "dash": "solid"
         },
         "marker": {
          "symbol": "circle"
         },
         "mode": "lines",
         "name": "Average reward (eps=0.90)",
         "orientation": "v",
         "showlegend": true,
         "type": "scatter",
         "x": [
          250,
          500,
          750,
          1000,
          1250,
          1500,
          1750,
          2000,
          2250,
          2500,
          2750,
          3000,
          3250,
          3500,
          3750,
          4000,
          4250,
          4500,
          4750,
          5000,
          5250,
          5500,
          5750,
          6000,
          6250,
          6500,
          6750,
          7000,
          7250,
          7500,
          7750,
          8000,
          8250,
          8500,
          8750,
          9000,
          9250,
          9500,
          9750,
          10000,
          10250,
          10500,
          10750,
          11000,
          11250,
          11500,
          11750,
          12000,
          12250,
          12500,
          12750,
          13000,
          13250,
          13500,
          13750,
          14000,
          14250,
          14500,
          14750,
          15000,
          15250,
          15500,
          15750,
          16000,
          16250,
          16500,
          16750,
          17000,
          17250,
          17500,
          17750,
          18000,
          18250,
          18500,
          18750,
          19000,
          19250,
          19500,
          19750
         ],
         "xaxis": "x",
         "y": [
          0.05976095617529881,
          0.12,
          0.056,
          0.024,
          0.016,
          0,
          0.096,
          0.04,
          -0.008,
          0.144,
          -0.216,
          -0.032,
          -0.056,
          -0.024,
          -0.08,
          0.088,
          -0.016,
          0.08,
          -0.056,
          -0.024,
          0.024,
          0.144,
          -0.032,
          0.04,
          0.056,
          -0.056,
          -0.056,
          0.168,
          0.088,
          -0.016,
          -0.024,
          -0.064,
          0.048,
          -0.016,
          -0.008,
          0.008,
          -0.008,
          0.04,
          0.016,
          0.056,
          0.032,
          -0.048,
          0.008,
          -0.056,
          0.072,
          0.096,
          0.064,
          0.056,
          -0.064,
          -0.072,
          0.088,
          -0.016,
          0.032,
          -0.08,
          -0.016,
          -0.048,
          -0.048,
          -0.128,
          0.08,
          0.008,
          -0.056,
          -0.128,
          0.032,
          -0.064,
          0.112,
          0.056,
          -0.152,
          0.008,
          0.024,
          0.064,
          -0.008,
          -0.048,
          -0.008,
          -0.088,
          -0.056,
          0.032,
          0.008,
          0.08,
          0.064
         ],
         "yaxis": "y"
        },
        {
         "hovertemplate": "variable=Average reward (eps=1.00)<br>Games played=%{x}<br>value=%{y}<extra></extra>",
         "legendgroup": "Average reward (eps=1.00)",
         "line": {
          "color": "#636efa",
          "dash": "solid"
         },
         "marker": {
          "symbol": "circle"
         },
         "mode": "lines",
         "name": "Average reward (eps=1.00)",
         "orientation": "v",
         "showlegend": true,
         "type": "scatter",
         "x": [
          250,
          500,
          750,
          1000,
          1250,
          1500,
          1750,
          2000,
          2250,
          2500,
          2750,
          3000,
          3250,
          3500,
          3750,
          4000,
          4250,
          4500,
          4750,
          5000,
          5250,
          5500,
          5750,
          6000,
          6250,
          6500,
          6750,
          7000,
          7250,
          7500,
          7750,
          8000,
          8250,
          8500,
          8750,
          9000,
          9250,
          9500,
          9750,
          10000,
          10250,
          10500,
          10750,
          11000,
          11250,
          11500,
          11750,
          12000,
          12250,
          12500,
          12750,
          13000,
          13250,
          13500,
          13750,
          14000,
          14250,
          14500,
          14750,
          15000,
          15250,
          15500,
          15750,
          16000,
          16250,
          16500,
          16750,
          17000,
          17250,
          17500,
          17750,
          18000,
          18250,
          18500,
          18750,
          19000,
          19250,
          19500,
          19750
         ],
         "xaxis": "x",
         "y": [
          0.01195219123505976,
          0.008,
          -0.024,
          0.056,
          0.056,
          -0.144,
          0.04,
          -0.104,
          0,
          -0.08,
          -0.12,
          -0.032,
          -0.072,
          -0.008,
          -0.136,
          -0.032,
          0.104,
          0.048,
          0.072,
          0.064,
          -0.008,
          -0.032,
          -0.024,
          -0.008,
          0.08,
          0.08,
          -0.048,
          0.056,
          -0.016,
          0.024,
          0.096,
          0.056,
          0.064,
          0.016,
          -0.128,
          0,
          0,
          -0.048,
          -0.008,
          0.064,
          0.096,
          0.088,
          0.064,
          -0.008,
          -0.032,
          -0.048,
          -0.008,
          -0.032,
          -0.008,
          0.04,
          -0.024,
          -0.08,
          0.024,
          0.04,
          -0.024,
          0.008,
          -0.096,
          0.08,
          0.08,
          -0.032,
          -0.056,
          0.008,
          0.048,
          0.04,
          -0.024,
          0.056,
          -0.048,
          -0.016,
          -0.04,
          0.008,
          0.024,
          -0.136,
          -0.12,
          -0.08,
          -0.04,
          -0.056,
          -0.088,
          0.104,
          -0.016
         ],
         "yaxis": "y"
        }
       ],
       "layout": {
        "legend": {
         "title": {
          "text": "variable"
         },
         "tracegroupgap": 0
        },
        "template": {
         "data": {
          "bar": [
           {
            "error_x": {
             "color": "#2a3f5f"
            },
            "error_y": {
             "color": "#2a3f5f"
            },
            "marker": {
             "line": {
              "color": "#E5ECF6",
              "width": 0.5
             },
             "pattern": {
              "fillmode": "overlay",
              "size": 10,
              "solidity": 0.2
             }
            },
            "type": "bar"
           }
          ],
          "barpolar": [
           {
            "marker": {
             "line": {
              "color": "#E5ECF6",
              "width": 0.5
             },
             "pattern": {
              "fillmode": "overlay",
              "size": 10,
              "solidity": 0.2
             }
            },
            "type": "barpolar"
           }
          ],
          "carpet": [
           {
            "aaxis": {
             "endlinecolor": "#2a3f5f",
             "gridcolor": "white",
             "linecolor": "white",
             "minorgridcolor": "white",
             "startlinecolor": "#2a3f5f"
            },
            "baxis": {
             "endlinecolor": "#2a3f5f",
             "gridcolor": "white",
             "linecolor": "white",
             "minorgridcolor": "white",
             "startlinecolor": "#2a3f5f"
            },
            "type": "carpet"
           }
          ],
          "choropleth": [
           {
            "colorbar": {
             "outlinewidth": 0,
             "ticks": ""
            },
            "type": "choropleth"
           }
          ],
          "contour": [
           {
            "colorbar": {
             "outlinewidth": 0,
             "ticks": ""
            },
            "colorscale": [
             [
              0,
              "#0d0887"
             ],
             [
              0.1111111111111111,
              "#46039f"
             ],
             [
              0.2222222222222222,
              "#7201a8"
             ],
             [
              0.3333333333333333,
              "#9c179e"
             ],
             [
              0.4444444444444444,
              "#bd3786"
             ],
             [
              0.5555555555555556,
              "#d8576b"
             ],
             [
              0.6666666666666666,
              "#ed7953"
             ],
             [
              0.7777777777777778,
              "#fb9f3a"
             ],
             [
              0.8888888888888888,
              "#fdca26"
             ],
             [
              1,
              "#f0f921"
             ]
            ],
            "type": "contour"
           }
          ],
          "contourcarpet": [
           {
            "colorbar": {
             "outlinewidth": 0,
             "ticks": ""
            },
            "type": "contourcarpet"
           }
          ],
          "heatmap": [
           {
            "colorbar": {
             "outlinewidth": 0,
             "ticks": ""
            },
            "colorscale": [
             [
              0,
              "#0d0887"
             ],
             [
              0.1111111111111111,
              "#46039f"
             ],
             [
              0.2222222222222222,
              "#7201a8"
             ],
             [
              0.3333333333333333,
              "#9c179e"
             ],
             [
              0.4444444444444444,
              "#bd3786"
             ],
             [
              0.5555555555555556,
              "#d8576b"
             ],
             [
              0.6666666666666666,
              "#ed7953"
             ],
             [
              0.7777777777777778,
              "#fb9f3a"
             ],
             [
              0.8888888888888888,
              "#fdca26"
             ],
             [
              1,
              "#f0f921"
             ]
            ],
            "type": "heatmap"
           }
          ],
          "heatmapgl": [
           {
            "colorbar": {
             "outlinewidth": 0,
             "ticks": ""
            },
            "colorscale": [
             [
              0,
              "#0d0887"
             ],
             [
              0.1111111111111111,
              "#46039f"
             ],
             [
              0.2222222222222222,
              "#7201a8"
             ],
             [
              0.3333333333333333,
              "#9c179e"
             ],
             [
              0.4444444444444444,
              "#bd3786"
             ],
             [
              0.5555555555555556,
              "#d8576b"
             ],
             [
              0.6666666666666666,
              "#ed7953"
             ],
             [
              0.7777777777777778,
              "#fb9f3a"
             ],
             [
              0.8888888888888888,
              "#fdca26"
             ],
             [
              1,
              "#f0f921"
             ]
            ],
            "type": "heatmapgl"
           }
          ],
          "histogram": [
           {
            "marker": {
             "pattern": {
              "fillmode": "overlay",
              "size": 10,
              "solidity": 0.2
             }
            },
            "type": "histogram"
           }
          ],
          "histogram2d": [
           {
            "colorbar": {
             "outlinewidth": 0,
             "ticks": ""
            },
            "colorscale": [
             [
              0,
              "#0d0887"
             ],
             [
              0.1111111111111111,
              "#46039f"
             ],
             [
              0.2222222222222222,
              "#7201a8"
             ],
             [
              0.3333333333333333,
              "#9c179e"
             ],
             [
              0.4444444444444444,
              "#bd3786"
             ],
             [
              0.5555555555555556,
              "#d8576b"
             ],
             [
              0.6666666666666666,
              "#ed7953"
             ],
             [
              0.7777777777777778,
              "#fb9f3a"
             ],
             [
              0.8888888888888888,
              "#fdca26"
             ],
             [
              1,
              "#f0f921"
             ]
            ],
            "type": "histogram2d"
           }
          ],
          "histogram2dcontour": [
           {
            "colorbar": {
             "outlinewidth": 0,
             "ticks": ""
            },
            "colorscale": [
             [
              0,
              "#0d0887"
             ],
             [
              0.1111111111111111,
              "#46039f"
             ],
             [
              0.2222222222222222,
              "#7201a8"
             ],
             [
              0.3333333333333333,
              "#9c179e"
             ],
             [
              0.4444444444444444,
              "#bd3786"
             ],
             [
              0.5555555555555556,
              "#d8576b"
             ],
             [
              0.6666666666666666,
              "#ed7953"
             ],
             [
              0.7777777777777778,
              "#fb9f3a"
             ],
             [
              0.8888888888888888,
              "#fdca26"
             ],
             [
              1,
              "#f0f921"
             ]
            ],
            "type": "histogram2dcontour"
           }
          ],
          "mesh3d": [
           {
            "colorbar": {
             "outlinewidth": 0,
             "ticks": ""
            },
            "type": "mesh3d"
           }
          ],
          "parcoords": [
           {
            "line": {
             "colorbar": {
              "outlinewidth": 0,
              "ticks": ""
             }
            },
            "type": "parcoords"
           }
          ],
          "pie": [
           {
            "automargin": true,
            "type": "pie"
           }
          ],
          "scatter": [
           {
            "fillpattern": {
             "fillmode": "overlay",
             "size": 10,
             "solidity": 0.2
            },
            "type": "scatter"
           }
          ],
          "scatter3d": [
           {
            "line": {
             "colorbar": {
              "outlinewidth": 0,
              "ticks": ""
             }
            },
            "marker": {
             "colorbar": {
              "outlinewidth": 0,
              "ticks": ""
             }
            },
            "type": "scatter3d"
           }
          ],
          "scattercarpet": [
           {
            "marker": {
             "colorbar": {
              "outlinewidth": 0,
              "ticks": ""
             }
            },
            "type": "scattercarpet"
           }
          ],
          "scattergeo": [
           {
            "marker": {
             "colorbar": {
              "outlinewidth": 0,
              "ticks": ""
             }
            },
            "type": "scattergeo"
           }
          ],
          "scattergl": [
           {
            "marker": {
             "colorbar": {
              "outlinewidth": 0,
              "ticks": ""
             }
            },
            "type": "scattergl"
           }
          ],
          "scattermapbox": [
           {
            "marker": {
             "colorbar": {
              "outlinewidth": 0,
              "ticks": ""
             }
            },
            "type": "scattermapbox"
           }
          ],
          "scatterpolar": [
           {
            "marker": {
             "colorbar": {
              "outlinewidth": 0,
              "ticks": ""
             }
            },
            "type": "scatterpolar"
           }
          ],
          "scatterpolargl": [
           {
            "marker": {
             "colorbar": {
              "outlinewidth": 0,
              "ticks": ""
             }
            },
            "type": "scatterpolargl"
           }
          ],
          "scatterternary": [
           {
            "marker": {
             "colorbar": {
              "outlinewidth": 0,
              "ticks": ""
             }
            },
            "type": "scatterternary"
           }
          ],
          "surface": [
           {
            "colorbar": {
             "outlinewidth": 0,
             "ticks": ""
            },
            "colorscale": [
             [
              0,
              "#0d0887"
             ],
             [
              0.1111111111111111,
              "#46039f"
             ],
             [
              0.2222222222222222,
              "#7201a8"
             ],
             [
              0.3333333333333333,
              "#9c179e"
             ],
             [
              0.4444444444444444,
              "#bd3786"
             ],
             [
              0.5555555555555556,
              "#d8576b"
             ],
             [
              0.6666666666666666,
              "#ed7953"
             ],
             [
              0.7777777777777778,
              "#fb9f3a"
             ],
             [
              0.8888888888888888,
              "#fdca26"
             ],
             [
              1,
              "#f0f921"
             ]
            ],
            "type": "surface"
           }
          ],
          "table": [
           {
            "cells": {
             "fill": {
              "color": "#EBF0F8"
             },
             "line": {
              "color": "white"
             }
            },
            "header": {
             "fill": {
              "color": "#C8D4E3"
             },
             "line": {
              "color": "white"
             }
            },
            "type": "table"
           }
          ]
         },
         "layout": {
          "annotationdefaults": {
           "arrowcolor": "#2a3f5f",
           "arrowhead": 0,
           "arrowwidth": 1
          },
          "autotypenumbers": "strict",
          "coloraxis": {
           "colorbar": {
            "outlinewidth": 0,
            "ticks": ""
           }
          },
          "colorscale": {
           "diverging": [
            [
             0,
             "#8e0152"
            ],
            [
             0.1,
             "#c51b7d"
            ],
            [
             0.2,
             "#de77ae"
            ],
            [
             0.3,
             "#f1b6da"
            ],
            [
             0.4,
             "#fde0ef"
            ],
            [
             0.5,
             "#f7f7f7"
            ],
            [
             0.6,
             "#e6f5d0"
            ],
            [
             0.7,
             "#b8e186"
            ],
            [
             0.8,
             "#7fbc41"
            ],
            [
             0.9,
             "#4d9221"
            ],
            [
             1,
             "#276419"
            ]
           ],
           "sequential": [
            [
             0,
             "#0d0887"
            ],
            [
             0.1111111111111111,
             "#46039f"
            ],
            [
             0.2222222222222222,
             "#7201a8"
            ],
            [
             0.3333333333333333,
             "#9c179e"
            ],
            [
             0.4444444444444444,
             "#bd3786"
            ],
            [
             0.5555555555555556,
             "#d8576b"
            ],
            [
             0.6666666666666666,
             "#ed7953"
            ],
            [
             0.7777777777777778,
             "#fb9f3a"
            ],
            [
             0.8888888888888888,
             "#fdca26"
            ],
            [
             1,
             "#f0f921"
            ]
           ],
           "sequentialminus": [
            [
             0,
             "#0d0887"
            ],
            [
             0.1111111111111111,
             "#46039f"
            ],
            [
             0.2222222222222222,
             "#7201a8"
            ],
            [
             0.3333333333333333,
             "#9c179e"
            ],
            [
             0.4444444444444444,
             "#bd3786"
            ],
            [
             0.5555555555555556,
             "#d8576b"
            ],
            [
             0.6666666666666666,
             "#ed7953"
            ],
            [
             0.7777777777777778,
             "#fb9f3a"
            ],
            [
             0.8888888888888888,
             "#fdca26"
            ],
            [
             1,
             "#f0f921"
            ]
           ]
          },
          "colorway": [
           "#636efa",
           "#EF553B",
           "#00cc96",
           "#ab63fa",
           "#FFA15A",
           "#19d3f3",
           "#FF6692",
           "#B6E880",
           "#FF97FF",
           "#FECB52"
          ],
          "font": {
           "color": "#2a3f5f"
          },
          "geo": {
           "bgcolor": "white",
           "lakecolor": "white",
           "landcolor": "#E5ECF6",
           "showlakes": true,
           "showland": true,
           "subunitcolor": "white"
          },
          "hoverlabel": {
           "align": "left"
          },
          "hovermode": "closest",
          "mapbox": {
           "style": "light"
          },
          "paper_bgcolor": "white",
          "plot_bgcolor": "#E5ECF6",
          "polar": {
           "angularaxis": {
            "gridcolor": "white",
            "linecolor": "white",
            "ticks": ""
           },
           "bgcolor": "#E5ECF6",
           "radialaxis": {
            "gridcolor": "white",
            "linecolor": "white",
            "ticks": ""
           }
          },
          "scene": {
           "xaxis": {
            "backgroundcolor": "#E5ECF6",
            "gridcolor": "white",
            "gridwidth": 2,
            "linecolor": "white",
            "showbackground": true,
            "ticks": "",
            "zerolinecolor": "white"
           },
           "yaxis": {
            "backgroundcolor": "#E5ECF6",
            "gridcolor": "white",
            "gridwidth": 2,
            "linecolor": "white",
            "showbackground": true,
            "ticks": "",
            "zerolinecolor": "white"
           },
           "zaxis": {
            "backgroundcolor": "#E5ECF6",
            "gridcolor": "white",
            "gridwidth": 2,
            "linecolor": "white",
            "showbackground": true,
            "ticks": "",
            "zerolinecolor": "white"
           }
          },
          "shapedefaults": {
           "line": {
            "color": "#2a3f5f"
           }
          },
          "ternary": {
           "aaxis": {
            "gridcolor": "white",
            "linecolor": "white",
            "ticks": ""
           },
           "baxis": {
            "gridcolor": "white",
            "linecolor": "white",
            "ticks": ""
           },
           "bgcolor": "#E5ECF6",
           "caxis": {
            "gridcolor": "white",
            "linecolor": "white",
            "ticks": ""
           }
          },
          "title": {
           "x": 0.05
          },
          "xaxis": {
           "automargin": true,
           "gridcolor": "white",
           "linecolor": "white",
           "ticks": "",
           "title": {
            "standoff": 15
           },
           "zerolinecolor": "white",
           "zerolinewidth": 2
          },
          "yaxis": {
           "automargin": true,
           "gridcolor": "white",
           "linecolor": "white",
           "ticks": "",
           "title": {
            "standoff": 15
           },
           "zerolinecolor": "white",
           "zerolinewidth": 2
          }
         }
        },
        "title": {
         "text": "Training and testing with self-learning, using different eps values"
        },
        "width": 800,
        "xaxis": {
         "anchor": "y",
         "domain": [
          0,
          1
         ],
         "title": {
          "text": "Games played"
         }
        },
        "yaxis": {
         "anchor": "x",
         "domain": [
          0,
          1
         ],
         "title": {
          "text": "Mean reward"
         }
        }
       }
      }
     },
     "metadata": {},
     "output_type": "display_data"
    },
    {
     "data": {
      "application/vnd.plotly.v1+json": {
       "config": {
        "plotlyServerURL": "https://plot.ly"
       },
       "data": [
        {
         "hovertemplate": "variable=Mopt (eps=0.00)<br>Games played=%{x}<br>value=%{y}<extra></extra>",
         "legendgroup": "Mopt (eps=0.00)",
         "line": {
          "color": "#636efa",
          "dash": "solid"
         },
         "marker": {
          "symbol": "circle"
         },
         "mode": "lines",
         "name": "Mopt (eps=0.00)",
         "orientation": "v",
         "showlegend": true,
         "type": "scatter",
         "x": [
          250,
          500,
          750,
          1000,
          1250,
          1500,
          1750,
          2000,
          2250,
          2500,
          2750,
          3000,
          3250,
          3500,
          3750,
          4000,
          4250,
          4500,
          4750,
          5000,
          5250,
          5500,
          5750,
          6000,
          6250,
          6500,
          6750,
          7000,
          7250,
          7500,
          7750,
          8000,
          8250,
          8500,
          8750,
          9000,
          9250,
          9500,
          9750,
          10000,
          10250,
          10500,
          10750,
          11000,
          11250,
          11500,
          11750,
          12000,
          12250,
          12500,
          12750,
          13000,
          13250,
          13500,
          13750,
          14000,
          14250,
          14500,
          14750,
          15000,
          15250,
          15500,
          15750,
          16000,
          16250,
          16500,
          16750,
          17000,
          17250,
          17500,
          17750,
          18000,
          18250,
          18500,
          18750,
          19000,
          19250,
          19500,
          19750
         ],
         "xaxis": "x",
         "y": [
          -0.908,
          -0.856,
          -0.716,
          -0.652,
          -0.58,
          -0.552,
          -0.46,
          -0.432,
          -0.444,
          -0.344,
          -0.2,
          -0.316,
          -0.216,
          -0.28,
          -0.156,
          -0.148,
          -0.128,
          -0.176,
          -0.148,
          -0.084,
          -0.044,
          -0.096,
          -0.112,
          -0.032,
          -0.024,
          -0.144,
          -0.004,
          0.016,
          -0.048,
          -0.076,
          0.04,
          -0.052,
          -0.044,
          -0.016,
          -0.024,
          0.008,
          0.056,
          -0.032,
          -0.012,
          -0.044,
          0,
          -0.008,
          -0.012,
          0.024,
          -0.02,
          -0.044,
          0,
          -0.064,
          -0.056,
          0,
          0.044,
          0.016,
          0.032,
          -0.008,
          -0.008,
          -0.004,
          -0.04,
          -0.004,
          0.008,
          -0.06,
          0.008,
          -0.044,
          0.016,
          -0.032,
          -0.072,
          0.012,
          0.02,
          -0.052,
          0.04,
          0.1,
          0.028,
          -0.02,
          0.036,
          0.036,
          -0.028,
          -0.008,
          -0.012,
          0.02,
          -0.024
         ],
         "yaxis": "y"
        },
        {
         "hovertemplate": "variable=Mopt (eps=0.10)<br>Games played=%{x}<br>value=%{y}<extra></extra>",
         "legendgroup": "Mopt (eps=0.10)",
         "line": {
          "color": "#EF553B",
          "dash": "solid"
         },
         "marker": {
          "symbol": "circle"
         },
         "mode": "lines",
         "name": "Mopt (eps=0.10)",
         "orientation": "v",
         "showlegend": true,
         "type": "scatter",
         "x": [
          250,
          500,
          750,
          1000,
          1250,
          1500,
          1750,
          2000,
          2250,
          2500,
          2750,
          3000,
          3250,
          3500,
          3750,
          4000,
          4250,
          4500,
          4750,
          5000,
          5250,
          5500,
          5750,
          6000,
          6250,
          6500,
          6750,
          7000,
          7250,
          7500,
          7750,
          8000,
          8250,
          8500,
          8750,
          9000,
          9250,
          9500,
          9750,
          10000,
          10250,
          10500,
          10750,
          11000,
          11250,
          11500,
          11750,
          12000,
          12250,
          12500,
          12750,
          13000,
          13250,
          13500,
          13750,
          14000,
          14250,
          14500,
          14750,
          15000,
          15250,
          15500,
          15750,
          16000,
          16250,
          16500,
          16750,
          17000,
          17250,
          17500,
          17750,
          18000,
          18250,
          18500,
          18750,
          19000,
          19250,
          19500,
          19750
         ],
         "xaxis": "x",
         "y": [
          -0.912,
          -0.84,
          -0.784,
          -0.712,
          -0.728,
          -0.644,
          -0.68,
          -0.628,
          -0.528,
          -0.46,
          -0.42,
          -0.372,
          -0.348,
          -0.372,
          -0.308,
          -0.248,
          -0.236,
          -0.256,
          -0.26,
          -0.272,
          -0.296,
          -0.212,
          -0.2,
          -0.244,
          -0.164,
          -0.172,
          -0.184,
          -0.184,
          -0.144,
          -0.124,
          -0.092,
          -0.1,
          -0.064,
          -0.072,
          -0.052,
          -0.092,
          -0.088,
          -0.024,
          -0.008,
          -0.04,
          -0.072,
          -0.032,
          -0.044,
          -0.1,
          -0.088,
          -0.04,
          0.012,
          -0.032,
          -0.028,
          -0.048,
          0.012,
          -0.024,
          -0.032,
          -0.04,
          -0.128,
          -0.08,
          -0.036,
          -0.02,
          -0.056,
          -0.044,
          -0.052,
          -0.012,
          -0.008,
          -0.112,
          -0.052,
          0.016,
          -0.104,
          -0.044,
          -0.064,
          -0.056,
          -0.032,
          -0.012,
          -0.02,
          0.008,
          -0.008,
          0.088,
          -0.04,
          0.032,
          -0.036
         ],
         "yaxis": "y"
        },
        {
         "hovertemplate": "variable=Mopt (eps=0.20)<br>Games played=%{x}<br>value=%{y}<extra></extra>",
         "legendgroup": "Mopt (eps=0.20)",
         "line": {
          "color": "#00cc96",
          "dash": "solid"
         },
         "marker": {
          "symbol": "circle"
         },
         "mode": "lines",
         "name": "Mopt (eps=0.20)",
         "orientation": "v",
         "showlegend": true,
         "type": "scatter",
         "x": [
          250,
          500,
          750,
          1000,
          1250,
          1500,
          1750,
          2000,
          2250,
          2500,
          2750,
          3000,
          3250,
          3500,
          3750,
          4000,
          4250,
          4500,
          4750,
          5000,
          5250,
          5500,
          5750,
          6000,
          6250,
          6500,
          6750,
          7000,
          7250,
          7500,
          7750,
          8000,
          8250,
          8500,
          8750,
          9000,
          9250,
          9500,
          9750,
          10000,
          10250,
          10500,
          10750,
          11000,
          11250,
          11500,
          11750,
          12000,
          12250,
          12500,
          12750,
          13000,
          13250,
          13500,
          13750,
          14000,
          14250,
          14500,
          14750,
          15000,
          15250,
          15500,
          15750,
          16000,
          16250,
          16500,
          16750,
          17000,
          17250,
          17500,
          17750,
          18000,
          18250,
          18500,
          18750,
          19000,
          19250,
          19500,
          19750
         ],
         "xaxis": "x",
         "y": [
          -0.996,
          -0.888,
          -0.868,
          -0.852,
          -0.856,
          -0.816,
          -0.804,
          -0.732,
          -0.708,
          -0.676,
          -0.624,
          -0.644,
          -0.62,
          -0.624,
          -0.604,
          -0.608,
          -0.532,
          -0.552,
          -0.488,
          -0.552,
          -0.516,
          -0.424,
          -0.488,
          -0.448,
          -0.476,
          -0.436,
          -0.436,
          -0.392,
          -0.472,
          -0.4,
          -0.38,
          -0.356,
          -0.376,
          -0.36,
          -0.352,
          -0.372,
          -0.392,
          -0.372,
          -0.392,
          -0.376,
          -0.42,
          -0.424,
          -0.432,
          -0.344,
          -0.352,
          -0.372,
          -0.364,
          -0.312,
          -0.356,
          -0.368,
          -0.392,
          -0.332,
          -0.3,
          -0.32,
          -0.364,
          -0.316,
          -0.312,
          -0.24,
          -0.28,
          -0.288,
          -0.348,
          -0.252,
          -0.332,
          -0.276,
          -0.208,
          -0.22,
          -0.32,
          -0.212,
          -0.248,
          -0.288,
          -0.244,
          -0.244,
          -0.308,
          -0.144,
          -0.24,
          -0.268,
          -0.22,
          -0.264,
          -0.208
         ],
         "yaxis": "y"
        },
        {
         "hovertemplate": "variable=Mopt (eps=0.30)<br>Games played=%{x}<br>value=%{y}<extra></extra>",
         "legendgroup": "Mopt (eps=0.30)",
         "line": {
          "color": "#ab63fa",
          "dash": "solid"
         },
         "marker": {
          "symbol": "circle"
         },
         "mode": "lines",
         "name": "Mopt (eps=0.30)",
         "orientation": "v",
         "showlegend": true,
         "type": "scatter",
         "x": [
          250,
          500,
          750,
          1000,
          1250,
          1500,
          1750,
          2000,
          2250,
          2500,
          2750,
          3000,
          3250,
          3500,
          3750,
          4000,
          4250,
          4500,
          4750,
          5000,
          5250,
          5500,
          5750,
          6000,
          6250,
          6500,
          6750,
          7000,
          7250,
          7500,
          7750,
          8000,
          8250,
          8500,
          8750,
          9000,
          9250,
          9500,
          9750,
          10000,
          10250,
          10500,
          10750,
          11000,
          11250,
          11500,
          11750,
          12000,
          12250,
          12500,
          12750,
          13000,
          13250,
          13500,
          13750,
          14000,
          14250,
          14500,
          14750,
          15000,
          15250,
          15500,
          15750,
          16000,
          16250,
          16500,
          16750,
          17000,
          17250,
          17500,
          17750,
          18000,
          18250,
          18500,
          18750,
          19000,
          19250,
          19500,
          19750
         ],
         "xaxis": "x",
         "y": [
          -0.992,
          -0.952,
          -0.912,
          -0.904,
          -0.896,
          -0.848,
          -0.82,
          -0.824,
          -0.848,
          -0.796,
          -0.824,
          -0.788,
          -0.816,
          -0.784,
          -0.784,
          -0.788,
          -0.768,
          -0.8,
          -0.764,
          -0.748,
          -0.684,
          -0.768,
          -0.656,
          -0.756,
          -0.764,
          -0.672,
          -0.732,
          -0.644,
          -0.664,
          -0.728,
          -0.652,
          -0.688,
          -0.708,
          -0.636,
          -0.656,
          -0.616,
          -0.608,
          -0.572,
          -0.616,
          -0.532,
          -0.612,
          -0.588,
          -0.584,
          -0.56,
          -0.62,
          -0.596,
          -0.616,
          -0.552,
          -0.536,
          -0.54,
          -0.484,
          -0.596,
          -0.532,
          -0.516,
          -0.548,
          -0.464,
          -0.548,
          -0.464,
          -0.412,
          -0.488,
          -0.476,
          -0.508,
          -0.44,
          -0.492,
          -0.556,
          -0.424,
          -0.456,
          -0.42,
          -0.452,
          -0.396,
          -0.452,
          -0.432,
          -0.496,
          -0.476,
          -0.46,
          -0.476,
          -0.456,
          -0.432,
          -0.388
         ],
         "yaxis": "y"
        },
        {
         "hovertemplate": "variable=Mopt (eps=0.40)<br>Games played=%{x}<br>value=%{y}<extra></extra>",
         "legendgroup": "Mopt (eps=0.40)",
         "line": {
          "color": "#FFA15A",
          "dash": "solid"
         },
         "marker": {
          "symbol": "circle"
         },
         "mode": "lines",
         "name": "Mopt (eps=0.40)",
         "orientation": "v",
         "showlegend": true,
         "type": "scatter",
         "x": [
          250,
          500,
          750,
          1000,
          1250,
          1500,
          1750,
          2000,
          2250,
          2500,
          2750,
          3000,
          3250,
          3500,
          3750,
          4000,
          4250,
          4500,
          4750,
          5000,
          5250,
          5500,
          5750,
          6000,
          6250,
          6500,
          6750,
          7000,
          7250,
          7500,
          7750,
          8000,
          8250,
          8500,
          8750,
          9000,
          9250,
          9500,
          9750,
          10000,
          10250,
          10500,
          10750,
          11000,
          11250,
          11500,
          11750,
          12000,
          12250,
          12500,
          12750,
          13000,
          13250,
          13500,
          13750,
          14000,
          14250,
          14500,
          14750,
          15000,
          15250,
          15500,
          15750,
          16000,
          16250,
          16500,
          16750,
          17000,
          17250,
          17500,
          17750,
          18000,
          18250,
          18500,
          18750,
          19000,
          19250,
          19500,
          19750
         ],
         "xaxis": "x",
         "y": [
          -0.984,
          -0.952,
          -0.948,
          -0.928,
          -0.896,
          -0.924,
          -0.932,
          -0.892,
          -0.904,
          -0.872,
          -0.88,
          -0.9,
          -0.888,
          -0.84,
          -0.912,
          -0.904,
          -0.848,
          -0.884,
          -0.9,
          -0.88,
          -0.884,
          -0.868,
          -0.852,
          -0.88,
          -0.868,
          -0.864,
          -0.788,
          -0.832,
          -0.856,
          -0.856,
          -0.88,
          -0.844,
          -0.748,
          -0.808,
          -0.852,
          -0.832,
          -0.848,
          -0.808,
          -0.804,
          -0.748,
          -0.804,
          -0.84,
          -0.788,
          -0.764,
          -0.776,
          -0.76,
          -0.8,
          -0.756,
          -0.704,
          -0.7,
          -0.688,
          -0.756,
          -0.748,
          -0.736,
          -0.72,
          -0.708,
          -0.692,
          -0.76,
          -0.652,
          -0.688,
          -0.652,
          -0.604,
          -0.688,
          -0.716,
          -0.704,
          -0.724,
          -0.68,
          -0.7,
          -0.732,
          -0.7,
          -0.696,
          -0.688,
          -0.712,
          -0.672,
          -0.668,
          -0.732,
          -0.612,
          -0.668,
          -0.624
         ],
         "yaxis": "y"
        },
        {
         "hovertemplate": "variable=Mopt (eps=0.50)<br>Games played=%{x}<br>value=%{y}<extra></extra>",
         "legendgroup": "Mopt (eps=0.50)",
         "line": {
          "color": "#19d3f3",
          "dash": "solid"
         },
         "marker": {
          "symbol": "circle"
         },
         "mode": "lines",
         "name": "Mopt (eps=0.50)",
         "orientation": "v",
         "showlegend": true,
         "type": "scatter",
         "x": [
          250,
          500,
          750,
          1000,
          1250,
          1500,
          1750,
          2000,
          2250,
          2500,
          2750,
          3000,
          3250,
          3500,
          3750,
          4000,
          4250,
          4500,
          4750,
          5000,
          5250,
          5500,
          5750,
          6000,
          6250,
          6500,
          6750,
          7000,
          7250,
          7500,
          7750,
          8000,
          8250,
          8500,
          8750,
          9000,
          9250,
          9500,
          9750,
          10000,
          10250,
          10500,
          10750,
          11000,
          11250,
          11500,
          11750,
          12000,
          12250,
          12500,
          12750,
          13000,
          13250,
          13500,
          13750,
          14000,
          14250,
          14500,
          14750,
          15000,
          15250,
          15500,
          15750,
          16000,
          16250,
          16500,
          16750,
          17000,
          17250,
          17500,
          17750,
          18000,
          18250,
          18500,
          18750,
          19000,
          19250,
          19500,
          19750
         ],
         "xaxis": "x",
         "y": [
          -1,
          -0.948,
          -0.968,
          -0.892,
          -0.956,
          -0.908,
          -0.916,
          -0.852,
          -0.912,
          -0.916,
          -0.936,
          -0.908,
          -0.876,
          -0.904,
          -0.844,
          -0.876,
          -0.876,
          -0.836,
          -0.844,
          -0.888,
          -0.9,
          -0.892,
          -0.908,
          -0.888,
          -0.856,
          -0.872,
          -0.804,
          -0.86,
          -0.856,
          -0.808,
          -0.868,
          -0.856,
          -0.812,
          -0.808,
          -0.828,
          -0.816,
          -0.856,
          -0.88,
          -0.812,
          -0.848,
          -0.828,
          -0.832,
          -0.844,
          -0.812,
          -0.78,
          -0.788,
          -0.808,
          -0.804,
          -0.848,
          -0.788,
          -0.836,
          -0.796,
          -0.804,
          -0.812,
          -0.852,
          -0.808,
          -0.824,
          -0.856,
          -0.776,
          -0.808,
          -0.796,
          -0.8,
          -0.72,
          -0.796,
          -0.756,
          -0.752,
          -0.792,
          -0.772,
          -0.764,
          -0.78,
          -0.752,
          -0.724,
          -0.768,
          -0.792,
          -0.764,
          -0.776,
          -0.748,
          -0.78,
          -0.748
         ],
         "yaxis": "y"
        },
        {
         "hovertemplate": "variable=Mopt (eps=0.60)<br>Games played=%{x}<br>value=%{y}<extra></extra>",
         "legendgroup": "Mopt (eps=0.60)",
         "line": {
          "color": "#FF6692",
          "dash": "solid"
         },
         "marker": {
          "symbol": "circle"
         },
         "mode": "lines",
         "name": "Mopt (eps=0.60)",
         "orientation": "v",
         "showlegend": true,
         "type": "scatter",
         "x": [
          250,
          500,
          750,
          1000,
          1250,
          1500,
          1750,
          2000,
          2250,
          2500,
          2750,
          3000,
          3250,
          3500,
          3750,
          4000,
          4250,
          4500,
          4750,
          5000,
          5250,
          5500,
          5750,
          6000,
          6250,
          6500,
          6750,
          7000,
          7250,
          7500,
          7750,
          8000,
          8250,
          8500,
          8750,
          9000,
          9250,
          9500,
          9750,
          10000,
          10250,
          10500,
          10750,
          11000,
          11250,
          11500,
          11750,
          12000,
          12250,
          12500,
          12750,
          13000,
          13250,
          13500,
          13750,
          14000,
          14250,
          14500,
          14750,
          15000,
          15250,
          15500,
          15750,
          16000,
          16250,
          16500,
          16750,
          17000,
          17250,
          17500,
          17750,
          18000,
          18250,
          18500,
          18750,
          19000,
          19250,
          19500,
          19750
         ],
         "xaxis": "x",
         "y": [
          -0.98,
          -0.972,
          -0.976,
          -0.968,
          -0.94,
          -0.956,
          -0.952,
          -0.96,
          -0.94,
          -0.924,
          -0.924,
          -0.928,
          -0.94,
          -0.888,
          -0.94,
          -0.876,
          -0.9,
          -0.892,
          -0.896,
          -0.852,
          -0.916,
          -0.904,
          -0.928,
          -0.912,
          -0.9,
          -0.88,
          -0.856,
          -0.868,
          -0.848,
          -0.9,
          -0.872,
          -0.86,
          -0.832,
          -0.872,
          -0.848,
          -0.892,
          -0.86,
          -0.888,
          -0.876,
          -0.852,
          -0.8,
          -0.872,
          -0.8,
          -0.844,
          -0.832,
          -0.82,
          -0.844,
          -0.852,
          -0.868,
          -0.84,
          -0.828,
          -0.884,
          -0.864,
          -0.824,
          -0.812,
          -0.852,
          -0.856,
          -0.84,
          -0.832,
          -0.816,
          -0.84,
          -0.844,
          -0.84,
          -0.84,
          -0.86,
          -0.84,
          -0.848,
          -0.832,
          -0.876,
          -0.788,
          -0.86,
          -0.852,
          -0.868,
          -0.836,
          -0.788,
          -0.796,
          -0.82,
          -0.792,
          -0.84
         ],
         "yaxis": "y"
        },
        {
         "hovertemplate": "variable=Mopt (eps=0.70)<br>Games played=%{x}<br>value=%{y}<extra></extra>",
         "legendgroup": "Mopt (eps=0.70)",
         "line": {
          "color": "#B6E880",
          "dash": "solid"
         },
         "marker": {
          "symbol": "circle"
         },
         "mode": "lines",
         "name": "Mopt (eps=0.70)",
         "orientation": "v",
         "showlegend": true,
         "type": "scatter",
         "x": [
          250,
          500,
          750,
          1000,
          1250,
          1500,
          1750,
          2000,
          2250,
          2500,
          2750,
          3000,
          3250,
          3500,
          3750,
          4000,
          4250,
          4500,
          4750,
          5000,
          5250,
          5500,
          5750,
          6000,
          6250,
          6500,
          6750,
          7000,
          7250,
          7500,
          7750,
          8000,
          8250,
          8500,
          8750,
          9000,
          9250,
          9500,
          9750,
          10000,
          10250,
          10500,
          10750,
          11000,
          11250,
          11500,
          11750,
          12000,
          12250,
          12500,
          12750,
          13000,
          13250,
          13500,
          13750,
          14000,
          14250,
          14500,
          14750,
          15000,
          15250,
          15500,
          15750,
          16000,
          16250,
          16500,
          16750,
          17000,
          17250,
          17500,
          17750,
          18000,
          18250,
          18500,
          18750,
          19000,
          19250,
          19500,
          19750
         ],
         "xaxis": "x",
         "y": [
          -1,
          -0.972,
          -0.952,
          -0.984,
          -0.964,
          -0.96,
          -0.956,
          -0.956,
          -0.936,
          -0.968,
          -0.956,
          -0.96,
          -0.972,
          -0.936,
          -0.968,
          -0.948,
          -0.948,
          -0.948,
          -0.952,
          -0.952,
          -0.948,
          -0.948,
          -0.94,
          -0.94,
          -0.956,
          -0.928,
          -0.94,
          -0.956,
          -0.944,
          -0.944,
          -0.944,
          -0.936,
          -0.924,
          -0.936,
          -0.928,
          -0.948,
          -0.932,
          -0.936,
          -0.928,
          -0.952,
          -0.904,
          -0.924,
          -0.948,
          -0.936,
          -0.932,
          -0.936,
          -0.956,
          -0.952,
          -0.948,
          -0.9,
          -0.9,
          -0.94,
          -0.916,
          -0.92,
          -0.94,
          -0.904,
          -0.912,
          -0.904,
          -0.908,
          -0.916,
          -0.888,
          -0.904,
          -0.924,
          -0.908,
          -0.868,
          -0.92,
          -0.904,
          -0.884,
          -0.884,
          -0.888,
          -0.896,
          -0.924,
          -0.916,
          -0.884,
          -0.872,
          -0.896,
          -0.868,
          -0.864,
          -0.9
         ],
         "yaxis": "y"
        },
        {
         "hovertemplate": "variable=Mopt (eps=0.80)<br>Games played=%{x}<br>value=%{y}<extra></extra>",
         "legendgroup": "Mopt (eps=0.80)",
         "line": {
          "color": "#FF97FF",
          "dash": "solid"
         },
         "marker": {
          "symbol": "circle"
         },
         "mode": "lines",
         "name": "Mopt (eps=0.80)",
         "orientation": "v",
         "showlegend": true,
         "type": "scatter",
         "x": [
          250,
          500,
          750,
          1000,
          1250,
          1500,
          1750,
          2000,
          2250,
          2500,
          2750,
          3000,
          3250,
          3500,
          3750,
          4000,
          4250,
          4500,
          4750,
          5000,
          5250,
          5500,
          5750,
          6000,
          6250,
          6500,
          6750,
          7000,
          7250,
          7500,
          7750,
          8000,
          8250,
          8500,
          8750,
          9000,
          9250,
          9500,
          9750,
          10000,
          10250,
          10500,
          10750,
          11000,
          11250,
          11500,
          11750,
          12000,
          12250,
          12500,
          12750,
          13000,
          13250,
          13500,
          13750,
          14000,
          14250,
          14500,
          14750,
          15000,
          15250,
          15500,
          15750,
          16000,
          16250,
          16500,
          16750,
          17000,
          17250,
          17500,
          17750,
          18000,
          18250,
          18500,
          18750,
          19000,
          19250,
          19500,
          19750
         ],
         "xaxis": "x",
         "y": [
          -0.976,
          -0.964,
          -0.984,
          -0.968,
          -0.992,
          -0.98,
          -0.964,
          -0.976,
          -0.988,
          -0.944,
          -0.972,
          -0.952,
          -0.968,
          -0.98,
          -0.964,
          -0.956,
          -0.964,
          -0.984,
          -0.968,
          -0.98,
          -0.964,
          -0.976,
          -0.972,
          -0.964,
          -0.972,
          -0.96,
          -0.964,
          -0.976,
          -0.948,
          -0.972,
          -0.976,
          -0.964,
          -0.984,
          -0.984,
          -0.956,
          -0.976,
          -0.968,
          -0.968,
          -0.956,
          -0.98,
          -0.98,
          -0.964,
          -0.952,
          -0.952,
          -0.956,
          -0.956,
          -0.976,
          -0.956,
          -0.976,
          -0.972,
          -0.976,
          -0.972,
          -0.964,
          -0.924,
          -0.932,
          -0.94,
          -0.956,
          -0.96,
          -0.944,
          -0.936,
          -0.96,
          -0.912,
          -0.956,
          -0.924,
          -0.944,
          -0.936,
          -0.92,
          -0.948,
          -0.948,
          -0.928,
          -0.956,
          -0.904,
          -0.912,
          -0.936,
          -0.92,
          -0.928,
          -0.94,
          -0.94,
          -0.908
         ],
         "yaxis": "y"
        },
        {
         "hovertemplate": "variable=Mopt (eps=0.90)<br>Games played=%{x}<br>value=%{y}<extra></extra>",
         "legendgroup": "Mopt (eps=0.90)",
         "line": {
          "color": "#FECB52",
          "dash": "solid"
         },
         "marker": {
          "symbol": "circle"
         },
         "mode": "lines",
         "name": "Mopt (eps=0.90)",
         "orientation": "v",
         "showlegend": true,
         "type": "scatter",
         "x": [
          250,
          500,
          750,
          1000,
          1250,
          1500,
          1750,
          2000,
          2250,
          2500,
          2750,
          3000,
          3250,
          3500,
          3750,
          4000,
          4250,
          4500,
          4750,
          5000,
          5250,
          5500,
          5750,
          6000,
          6250,
          6500,
          6750,
          7000,
          7250,
          7500,
          7750,
          8000,
          8250,
          8500,
          8750,
          9000,
          9250,
          9500,
          9750,
          10000,
          10250,
          10500,
          10750,
          11000,
          11250,
          11500,
          11750,
          12000,
          12250,
          12500,
          12750,
          13000,
          13250,
          13500,
          13750,
          14000,
          14250,
          14500,
          14750,
          15000,
          15250,
          15500,
          15750,
          16000,
          16250,
          16500,
          16750,
          17000,
          17250,
          17500,
          17750,
          18000,
          18250,
          18500,
          18750,
          19000,
          19250,
          19500,
          19750
         ],
         "xaxis": "x",
         "y": [
          -0.956,
          -0.968,
          -0.976,
          -0.976,
          -0.992,
          -0.992,
          -0.98,
          -0.984,
          -0.952,
          -0.96,
          -0.96,
          -0.964,
          -0.952,
          -0.964,
          -0.964,
          -0.968,
          -0.968,
          -0.972,
          -0.96,
          -0.972,
          -0.98,
          -0.968,
          -0.992,
          -0.98,
          -0.976,
          -0.956,
          -0.98,
          -0.976,
          -0.972,
          -0.988,
          -0.968,
          -0.964,
          -0.956,
          -0.976,
          -0.976,
          -0.988,
          -0.956,
          -0.968,
          -0.98,
          -0.976,
          -0.992,
          -0.984,
          -0.976,
          -0.992,
          -0.98,
          -0.976,
          -0.98,
          -0.98,
          -0.968,
          -0.976,
          -0.952,
          -0.964,
          -0.98,
          -0.972,
          -0.968,
          -0.944,
          -0.964,
          -0.98,
          -0.952,
          -0.956,
          -0.952,
          -0.968,
          -0.972,
          -0.968,
          -0.96,
          -0.972,
          -0.976,
          -0.948,
          -0.948,
          -0.948,
          -0.948,
          -0.948,
          -0.936,
          -0.964,
          -0.948,
          -0.932,
          -0.972,
          -0.948,
          -0.968
         ],
         "yaxis": "y"
        },
        {
         "hovertemplate": "variable=Mopt (eps=1.00)<br>Games played=%{x}<br>value=%{y}<extra></extra>",
         "legendgroup": "Mopt (eps=1.00)",
         "line": {
          "color": "#636efa",
          "dash": "solid"
         },
         "marker": {
          "symbol": "circle"
         },
         "mode": "lines",
         "name": "Mopt (eps=1.00)",
         "orientation": "v",
         "showlegend": true,
         "type": "scatter",
         "x": [
          250,
          500,
          750,
          1000,
          1250,
          1500,
          1750,
          2000,
          2250,
          2500,
          2750,
          3000,
          3250,
          3500,
          3750,
          4000,
          4250,
          4500,
          4750,
          5000,
          5250,
          5500,
          5750,
          6000,
          6250,
          6500,
          6750,
          7000,
          7250,
          7500,
          7750,
          8000,
          8250,
          8500,
          8750,
          9000,
          9250,
          9500,
          9750,
          10000,
          10250,
          10500,
          10750,
          11000,
          11250,
          11500,
          11750,
          12000,
          12250,
          12500,
          12750,
          13000,
          13250,
          13500,
          13750,
          14000,
          14250,
          14500,
          14750,
          15000,
          15250,
          15500,
          15750,
          16000,
          16250,
          16500,
          16750,
          17000,
          17250,
          17500,
          17750,
          18000,
          18250,
          18500,
          18750,
          19000,
          19250,
          19500,
          19750
         ],
         "xaxis": "x",
         "y": [
          -0.964,
          -0.96,
          -0.988,
          -0.98,
          -0.972,
          -0.98,
          -0.988,
          -0.98,
          -0.964,
          -0.96,
          -0.968,
          -0.956,
          -0.976,
          -0.968,
          -0.984,
          -0.972,
          -0.984,
          -0.952,
          -0.972,
          -0.956,
          -0.956,
          -0.972,
          -0.976,
          -0.968,
          -0.992,
          -0.952,
          -0.972,
          -0.952,
          -0.964,
          -0.96,
          -0.976,
          -0.972,
          -0.984,
          -0.984,
          -0.976,
          -0.976,
          -0.976,
          -0.932,
          -0.96,
          -0.972,
          -0.98,
          -0.968,
          -0.968,
          -0.976,
          -0.964,
          -0.992,
          -0.972,
          -0.972,
          -0.968,
          -0.964,
          -0.988,
          -0.964,
          -0.952,
          -0.968,
          -0.984,
          -0.964,
          -0.952,
          -0.956,
          -0.968,
          -0.956,
          -0.96,
          -0.976,
          -0.948,
          -0.972,
          -0.964,
          -0.972,
          -0.964,
          -0.952,
          -0.948,
          -0.964,
          -0.96,
          -0.952,
          -0.956,
          -0.964,
          -0.96,
          -0.98,
          -0.972,
          -0.94,
          -0.964
         ],
         "yaxis": "y"
        }
       ],
       "layout": {
        "legend": {
         "title": {
          "text": "variable"
         },
         "tracegroupgap": 0
        },
        "margin": {
         "t": 60
        },
        "template": {
         "data": {
          "bar": [
           {
            "error_x": {
             "color": "#2a3f5f"
            },
            "error_y": {
             "color": "#2a3f5f"
            },
            "marker": {
             "line": {
              "color": "#E5ECF6",
              "width": 0.5
             },
             "pattern": {
              "fillmode": "overlay",
              "size": 10,
              "solidity": 0.2
             }
            },
            "type": "bar"
           }
          ],
          "barpolar": [
           {
            "marker": {
             "line": {
              "color": "#E5ECF6",
              "width": 0.5
             },
             "pattern": {
              "fillmode": "overlay",
              "size": 10,
              "solidity": 0.2
             }
            },
            "type": "barpolar"
           }
          ],
          "carpet": [
           {
            "aaxis": {
             "endlinecolor": "#2a3f5f",
             "gridcolor": "white",
             "linecolor": "white",
             "minorgridcolor": "white",
             "startlinecolor": "#2a3f5f"
            },
            "baxis": {
             "endlinecolor": "#2a3f5f",
             "gridcolor": "white",
             "linecolor": "white",
             "minorgridcolor": "white",
             "startlinecolor": "#2a3f5f"
            },
            "type": "carpet"
           }
          ],
          "choropleth": [
           {
            "colorbar": {
             "outlinewidth": 0,
             "ticks": ""
            },
            "type": "choropleth"
           }
          ],
          "contour": [
           {
            "colorbar": {
             "outlinewidth": 0,
             "ticks": ""
            },
            "colorscale": [
             [
              0,
              "#0d0887"
             ],
             [
              0.1111111111111111,
              "#46039f"
             ],
             [
              0.2222222222222222,
              "#7201a8"
             ],
             [
              0.3333333333333333,
              "#9c179e"
             ],
             [
              0.4444444444444444,
              "#bd3786"
             ],
             [
              0.5555555555555556,
              "#d8576b"
             ],
             [
              0.6666666666666666,
              "#ed7953"
             ],
             [
              0.7777777777777778,
              "#fb9f3a"
             ],
             [
              0.8888888888888888,
              "#fdca26"
             ],
             [
              1,
              "#f0f921"
             ]
            ],
            "type": "contour"
           }
          ],
          "contourcarpet": [
           {
            "colorbar": {
             "outlinewidth": 0,
             "ticks": ""
            },
            "type": "contourcarpet"
           }
          ],
          "heatmap": [
           {
            "colorbar": {
             "outlinewidth": 0,
             "ticks": ""
            },
            "colorscale": [
             [
              0,
              "#0d0887"
             ],
             [
              0.1111111111111111,
              "#46039f"
             ],
             [
              0.2222222222222222,
              "#7201a8"
             ],
             [
              0.3333333333333333,
              "#9c179e"
             ],
             [
              0.4444444444444444,
              "#bd3786"
             ],
             [
              0.5555555555555556,
              "#d8576b"
             ],
             [
              0.6666666666666666,
              "#ed7953"
             ],
             [
              0.7777777777777778,
              "#fb9f3a"
             ],
             [
              0.8888888888888888,
              "#fdca26"
             ],
             [
              1,
              "#f0f921"
             ]
            ],
            "type": "heatmap"
           }
          ],
          "heatmapgl": [
           {
            "colorbar": {
             "outlinewidth": 0,
             "ticks": ""
            },
            "colorscale": [
             [
              0,
              "#0d0887"
             ],
             [
              0.1111111111111111,
              "#46039f"
             ],
             [
              0.2222222222222222,
              "#7201a8"
             ],
             [
              0.3333333333333333,
              "#9c179e"
             ],
             [
              0.4444444444444444,
              "#bd3786"
             ],
             [
              0.5555555555555556,
              "#d8576b"
             ],
             [
              0.6666666666666666,
              "#ed7953"
             ],
             [
              0.7777777777777778,
              "#fb9f3a"
             ],
             [
              0.8888888888888888,
              "#fdca26"
             ],
             [
              1,
              "#f0f921"
             ]
            ],
            "type": "heatmapgl"
           }
          ],
          "histogram": [
           {
            "marker": {
             "pattern": {
              "fillmode": "overlay",
              "size": 10,
              "solidity": 0.2
             }
            },
            "type": "histogram"
           }
          ],
          "histogram2d": [
           {
            "colorbar": {
             "outlinewidth": 0,
             "ticks": ""
            },
            "colorscale": [
             [
              0,
              "#0d0887"
             ],
             [
              0.1111111111111111,
              "#46039f"
             ],
             [
              0.2222222222222222,
              "#7201a8"
             ],
             [
              0.3333333333333333,
              "#9c179e"
             ],
             [
              0.4444444444444444,
              "#bd3786"
             ],
             [
              0.5555555555555556,
              "#d8576b"
             ],
             [
              0.6666666666666666,
              "#ed7953"
             ],
             [
              0.7777777777777778,
              "#fb9f3a"
             ],
             [
              0.8888888888888888,
              "#fdca26"
             ],
             [
              1,
              "#f0f921"
             ]
            ],
            "type": "histogram2d"
           }
          ],
          "histogram2dcontour": [
           {
            "colorbar": {
             "outlinewidth": 0,
             "ticks": ""
            },
            "colorscale": [
             [
              0,
              "#0d0887"
             ],
             [
              0.1111111111111111,
              "#46039f"
             ],
             [
              0.2222222222222222,
              "#7201a8"
             ],
             [
              0.3333333333333333,
              "#9c179e"
             ],
             [
              0.4444444444444444,
              "#bd3786"
             ],
             [
              0.5555555555555556,
              "#d8576b"
             ],
             [
              0.6666666666666666,
              "#ed7953"
             ],
             [
              0.7777777777777778,
              "#fb9f3a"
             ],
             [
              0.8888888888888888,
              "#fdca26"
             ],
             [
              1,
              "#f0f921"
             ]
            ],
            "type": "histogram2dcontour"
           }
          ],
          "mesh3d": [
           {
            "colorbar": {
             "outlinewidth": 0,
             "ticks": ""
            },
            "type": "mesh3d"
           }
          ],
          "parcoords": [
           {
            "line": {
             "colorbar": {
              "outlinewidth": 0,
              "ticks": ""
             }
            },
            "type": "parcoords"
           }
          ],
          "pie": [
           {
            "automargin": true,
            "type": "pie"
           }
          ],
          "scatter": [
           {
            "fillpattern": {
             "fillmode": "overlay",
             "size": 10,
             "solidity": 0.2
            },
            "type": "scatter"
           }
          ],
          "scatter3d": [
           {
            "line": {
             "colorbar": {
              "outlinewidth": 0,
              "ticks": ""
             }
            },
            "marker": {
             "colorbar": {
              "outlinewidth": 0,
              "ticks": ""
             }
            },
            "type": "scatter3d"
           }
          ],
          "scattercarpet": [
           {
            "marker": {
             "colorbar": {
              "outlinewidth": 0,
              "ticks": ""
             }
            },
            "type": "scattercarpet"
           }
          ],
          "scattergeo": [
           {
            "marker": {
             "colorbar": {
              "outlinewidth": 0,
              "ticks": ""
             }
            },
            "type": "scattergeo"
           }
          ],
          "scattergl": [
           {
            "marker": {
             "colorbar": {
              "outlinewidth": 0,
              "ticks": ""
             }
            },
            "type": "scattergl"
           }
          ],
          "scattermapbox": [
           {
            "marker": {
             "colorbar": {
              "outlinewidth": 0,
              "ticks": ""
             }
            },
            "type": "scattermapbox"
           }
          ],
          "scatterpolar": [
           {
            "marker": {
             "colorbar": {
              "outlinewidth": 0,
              "ticks": ""
             }
            },
            "type": "scatterpolar"
           }
          ],
          "scatterpolargl": [
           {
            "marker": {
             "colorbar": {
              "outlinewidth": 0,
              "ticks": ""
             }
            },
            "type": "scatterpolargl"
           }
          ],
          "scatterternary": [
           {
            "marker": {
             "colorbar": {
              "outlinewidth": 0,
              "ticks": ""
             }
            },
            "type": "scatterternary"
           }
          ],
          "surface": [
           {
            "colorbar": {
             "outlinewidth": 0,
             "ticks": ""
            },
            "colorscale": [
             [
              0,
              "#0d0887"
             ],
             [
              0.1111111111111111,
              "#46039f"
             ],
             [
              0.2222222222222222,
              "#7201a8"
             ],
             [
              0.3333333333333333,
              "#9c179e"
             ],
             [
              0.4444444444444444,
              "#bd3786"
             ],
             [
              0.5555555555555556,
              "#d8576b"
             ],
             [
              0.6666666666666666,
              "#ed7953"
             ],
             [
              0.7777777777777778,
              "#fb9f3a"
             ],
             [
              0.8888888888888888,
              "#fdca26"
             ],
             [
              1,
              "#f0f921"
             ]
            ],
            "type": "surface"
           }
          ],
          "table": [
           {
            "cells": {
             "fill": {
              "color": "#EBF0F8"
             },
             "line": {
              "color": "white"
             }
            },
            "header": {
             "fill": {
              "color": "#C8D4E3"
             },
             "line": {
              "color": "white"
             }
            },
            "type": "table"
           }
          ]
         },
         "layout": {
          "annotationdefaults": {
           "arrowcolor": "#2a3f5f",
           "arrowhead": 0,
           "arrowwidth": 1
          },
          "autotypenumbers": "strict",
          "coloraxis": {
           "colorbar": {
            "outlinewidth": 0,
            "ticks": ""
           }
          },
          "colorscale": {
           "diverging": [
            [
             0,
             "#8e0152"
            ],
            [
             0.1,
             "#c51b7d"
            ],
            [
             0.2,
             "#de77ae"
            ],
            [
             0.3,
             "#f1b6da"
            ],
            [
             0.4,
             "#fde0ef"
            ],
            [
             0.5,
             "#f7f7f7"
            ],
            [
             0.6,
             "#e6f5d0"
            ],
            [
             0.7,
             "#b8e186"
            ],
            [
             0.8,
             "#7fbc41"
            ],
            [
             0.9,
             "#4d9221"
            ],
            [
             1,
             "#276419"
            ]
           ],
           "sequential": [
            [
             0,
             "#0d0887"
            ],
            [
             0.1111111111111111,
             "#46039f"
            ],
            [
             0.2222222222222222,
             "#7201a8"
            ],
            [
             0.3333333333333333,
             "#9c179e"
            ],
            [
             0.4444444444444444,
             "#bd3786"
            ],
            [
             0.5555555555555556,
             "#d8576b"
            ],
            [
             0.6666666666666666,
             "#ed7953"
            ],
            [
             0.7777777777777778,
             "#fb9f3a"
            ],
            [
             0.8888888888888888,
             "#fdca26"
            ],
            [
             1,
             "#f0f921"
            ]
           ],
           "sequentialminus": [
            [
             0,
             "#0d0887"
            ],
            [
             0.1111111111111111,
             "#46039f"
            ],
            [
             0.2222222222222222,
             "#7201a8"
            ],
            [
             0.3333333333333333,
             "#9c179e"
            ],
            [
             0.4444444444444444,
             "#bd3786"
            ],
            [
             0.5555555555555556,
             "#d8576b"
            ],
            [
             0.6666666666666666,
             "#ed7953"
            ],
            [
             0.7777777777777778,
             "#fb9f3a"
            ],
            [
             0.8888888888888888,
             "#fdca26"
            ],
            [
             1,
             "#f0f921"
            ]
           ]
          },
          "colorway": [
           "#636efa",
           "#EF553B",
           "#00cc96",
           "#ab63fa",
           "#FFA15A",
           "#19d3f3",
           "#FF6692",
           "#B6E880",
           "#FF97FF",
           "#FECB52"
          ],
          "font": {
           "color": "#2a3f5f"
          },
          "geo": {
           "bgcolor": "white",
           "lakecolor": "white",
           "landcolor": "#E5ECF6",
           "showlakes": true,
           "showland": true,
           "subunitcolor": "white"
          },
          "hoverlabel": {
           "align": "left"
          },
          "hovermode": "closest",
          "mapbox": {
           "style": "light"
          },
          "paper_bgcolor": "white",
          "plot_bgcolor": "#E5ECF6",
          "polar": {
           "angularaxis": {
            "gridcolor": "white",
            "linecolor": "white",
            "ticks": ""
           },
           "bgcolor": "#E5ECF6",
           "radialaxis": {
            "gridcolor": "white",
            "linecolor": "white",
            "ticks": ""
           }
          },
          "scene": {
           "xaxis": {
            "backgroundcolor": "#E5ECF6",
            "gridcolor": "white",
            "gridwidth": 2,
            "linecolor": "white",
            "showbackground": true,
            "ticks": "",
            "zerolinecolor": "white"
           },
           "yaxis": {
            "backgroundcolor": "#E5ECF6",
            "gridcolor": "white",
            "gridwidth": 2,
            "linecolor": "white",
            "showbackground": true,
            "ticks": "",
            "zerolinecolor": "white"
           },
           "zaxis": {
            "backgroundcolor": "#E5ECF6",
            "gridcolor": "white",
            "gridwidth": 2,
            "linecolor": "white",
            "showbackground": true,
            "ticks": "",
            "zerolinecolor": "white"
           }
          },
          "shapedefaults": {
           "line": {
            "color": "#2a3f5f"
           }
          },
          "ternary": {
           "aaxis": {
            "gridcolor": "white",
            "linecolor": "white",
            "ticks": ""
           },
           "baxis": {
            "gridcolor": "white",
            "linecolor": "white",
            "ticks": ""
           },
           "bgcolor": "#E5ECF6",
           "caxis": {
            "gridcolor": "white",
            "linecolor": "white",
            "ticks": ""
           }
          },
          "title": {
           "x": 0.05
          },
          "xaxis": {
           "automargin": true,
           "gridcolor": "white",
           "linecolor": "white",
           "ticks": "",
           "title": {
            "standoff": 15
           },
           "zerolinecolor": "white",
           "zerolinewidth": 2
          },
          "yaxis": {
           "automargin": true,
           "gridcolor": "white",
           "linecolor": "white",
           "ticks": "",
           "title": {
            "standoff": 15
           },
           "zerolinecolor": "white",
           "zerolinewidth": 2
          }
         }
        },
        "width": 800,
        "xaxis": {
         "anchor": "y",
         "domain": [
          0,
          1
         ],
         "title": {
          "text": "Games played"
         }
        },
        "yaxis": {
         "anchor": "x",
         "domain": [
          0,
          1
         ],
         "title": {
          "text": "Mopt"
         }
        }
       }
      }
     },
     "metadata": {},
     "output_type": "display_data"
    },
    {
     "data": {
      "application/vnd.plotly.v1+json": {
       "config": {
        "plotlyServerURL": "https://plot.ly"
       },
       "data": [
        {
         "hovertemplate": "variable=Mrand (eps=0.00)<br>Games played=%{x}<br>value=%{y}<extra></extra>",
         "legendgroup": "Mrand (eps=0.00)",
         "line": {
          "color": "#636efa",
          "dash": "solid"
         },
         "marker": {
          "symbol": "circle"
         },
         "mode": "lines",
         "name": "Mrand (eps=0.00)",
         "orientation": "v",
         "showlegend": true,
         "type": "scatter",
         "x": [
          250,
          500,
          750,
          1000,
          1250,
          1500,
          1750,
          2000,
          2250,
          2500,
          2750,
          3000,
          3250,
          3500,
          3750,
          4000,
          4250,
          4500,
          4750,
          5000,
          5250,
          5500,
          5750,
          6000,
          6250,
          6500,
          6750,
          7000,
          7250,
          7500,
          7750,
          8000,
          8250,
          8500,
          8750,
          9000,
          9250,
          9500,
          9750,
          10000,
          10250,
          10500,
          10750,
          11000,
          11250,
          11500,
          11750,
          12000,
          12250,
          12500,
          12750,
          13000,
          13250,
          13500,
          13750,
          14000,
          14250,
          14500,
          14750,
          15000,
          15250,
          15500,
          15750,
          16000,
          16250,
          16500,
          16750,
          17000,
          17250,
          17500,
          17750,
          18000,
          18250,
          18500,
          18750,
          19000,
          19250,
          19500,
          19750
         ],
         "xaxis": "x",
         "y": [
          0.716,
          0.836,
          0.848,
          0.968,
          0.94,
          0.932,
          0.968,
          0.956,
          0.96,
          0.972,
          0.956,
          0.976,
          0.98,
          0.984,
          0.984,
          0.968,
          0.996,
          0.988,
          0.996,
          0.984,
          0.984,
          0.996,
          0.968,
          1,
          0.984,
          0.972,
          0.988,
          0.976,
          0.992,
          0.996,
          0.992,
          0.992,
          1,
          0.98,
          0.988,
          0.996,
          0.996,
          1,
          0.996,
          0.996,
          0.988,
          0.988,
          0.988,
          0.996,
          0.996,
          0.992,
          0.988,
          0.996,
          0.996,
          1,
          0.988,
          0.992,
          1,
          0.992,
          0.996,
          0.992,
          0.996,
          0.996,
          0.992,
          0.992,
          0.98,
          0.992,
          0.988,
          0.996,
          0.988,
          0.992,
          0.984,
          0.992,
          0.992,
          1,
          0.996,
          0.996,
          1,
          0.996,
          1,
          0.988,
          1,
          1,
          1
         ],
         "yaxis": "y"
        },
        {
         "hovertemplate": "variable=Mrand (eps=0.10)<br>Games played=%{x}<br>value=%{y}<extra></extra>",
         "legendgroup": "Mrand (eps=0.10)",
         "line": {
          "color": "#EF553B",
          "dash": "solid"
         },
         "marker": {
          "symbol": "circle"
         },
         "mode": "lines",
         "name": "Mrand (eps=0.10)",
         "orientation": "v",
         "showlegend": true,
         "type": "scatter",
         "x": [
          250,
          500,
          750,
          1000,
          1250,
          1500,
          1750,
          2000,
          2250,
          2500,
          2750,
          3000,
          3250,
          3500,
          3750,
          4000,
          4250,
          4500,
          4750,
          5000,
          5250,
          5500,
          5750,
          6000,
          6250,
          6500,
          6750,
          7000,
          7250,
          7500,
          7750,
          8000,
          8250,
          8500,
          8750,
          9000,
          9250,
          9500,
          9750,
          10000,
          10250,
          10500,
          10750,
          11000,
          11250,
          11500,
          11750,
          12000,
          12250,
          12500,
          12750,
          13000,
          13250,
          13500,
          13750,
          14000,
          14250,
          14500,
          14750,
          15000,
          15250,
          15500,
          15750,
          16000,
          16250,
          16500,
          16750,
          17000,
          17250,
          17500,
          17750,
          18000,
          18250,
          18500,
          18750,
          19000,
          19250,
          19500,
          19750
         ],
         "xaxis": "x",
         "y": [
          0.868,
          0.86,
          0.864,
          0.964,
          0.964,
          0.976,
          0.984,
          0.984,
          0.996,
          0.976,
          0.964,
          0.98,
          0.976,
          0.98,
          0.988,
          0.984,
          0.996,
          0.988,
          0.984,
          0.98,
          0.988,
          0.988,
          0.996,
          0.996,
          0.992,
          0.996,
          0.996,
          0.992,
          1,
          0.996,
          0.996,
          1,
          0.984,
          0.996,
          0.996,
          0.984,
          0.996,
          0.988,
          0.992,
          0.992,
          0.996,
          0.996,
          0.988,
          1,
          1,
          0.988,
          0.992,
          0.98,
          0.992,
          0.996,
          0.996,
          0.988,
          0.988,
          0.996,
          0.984,
          0.992,
          1,
          0.996,
          0.992,
          0.996,
          1,
          0.992,
          0.996,
          1,
          0.988,
          0.996,
          1,
          1,
          0.996,
          1,
          0.996,
          0.996,
          0.984,
          0.996,
          0.992,
          1,
          1,
          0.996,
          0.992
         ],
         "yaxis": "y"
        },
        {
         "hovertemplate": "variable=Mrand (eps=0.20)<br>Games played=%{x}<br>value=%{y}<extra></extra>",
         "legendgroup": "Mrand (eps=0.20)",
         "line": {
          "color": "#00cc96",
          "dash": "solid"
         },
         "marker": {
          "symbol": "circle"
         },
         "mode": "lines",
         "name": "Mrand (eps=0.20)",
         "orientation": "v",
         "showlegend": true,
         "type": "scatter",
         "x": [
          250,
          500,
          750,
          1000,
          1250,
          1500,
          1750,
          2000,
          2250,
          2500,
          2750,
          3000,
          3250,
          3500,
          3750,
          4000,
          4250,
          4500,
          4750,
          5000,
          5250,
          5500,
          5750,
          6000,
          6250,
          6500,
          6750,
          7000,
          7250,
          7500,
          7750,
          8000,
          8250,
          8500,
          8750,
          9000,
          9250,
          9500,
          9750,
          10000,
          10250,
          10500,
          10750,
          11000,
          11250,
          11500,
          11750,
          12000,
          12250,
          12500,
          12750,
          13000,
          13250,
          13500,
          13750,
          14000,
          14250,
          14500,
          14750,
          15000,
          15250,
          15500,
          15750,
          16000,
          16250,
          16500,
          16750,
          17000,
          17250,
          17500,
          17750,
          18000,
          18250,
          18500,
          18750,
          19000,
          19250,
          19500,
          19750
         ],
         "xaxis": "x",
         "y": [
          0.8,
          0.908,
          0.916,
          0.872,
          0.928,
          0.976,
          0.968,
          0.98,
          0.976,
          0.968,
          0.984,
          0.972,
          0.976,
          0.992,
          0.988,
          1,
          0.984,
          0.98,
          0.988,
          0.996,
          0.996,
          0.992,
          0.992,
          0.996,
          0.988,
          1,
          0.996,
          0.996,
          1,
          0.992,
          0.984,
          0.992,
          1,
          0.988,
          1,
          0.984,
          1,
          0.996,
          0.996,
          0.996,
          0.996,
          0.992,
          1,
          1,
          1,
          0.992,
          0.996,
          0.992,
          0.996,
          0.992,
          1,
          0.984,
          0.992,
          0.992,
          1,
          1,
          1,
          0.992,
          0.996,
          1,
          0.988,
          0.996,
          1,
          1,
          1,
          0.996,
          0.992,
          1,
          1,
          0.996,
          0.988,
          0.988,
          1,
          0.992,
          0.992,
          0.992,
          1,
          1,
          0.996
         ],
         "yaxis": "y"
        },
        {
         "hovertemplate": "variable=Mrand (eps=0.30)<br>Games played=%{x}<br>value=%{y}<extra></extra>",
         "legendgroup": "Mrand (eps=0.30)",
         "line": {
          "color": "#ab63fa",
          "dash": "solid"
         },
         "marker": {
          "symbol": "circle"
         },
         "mode": "lines",
         "name": "Mrand (eps=0.30)",
         "orientation": "v",
         "showlegend": true,
         "type": "scatter",
         "x": [
          250,
          500,
          750,
          1000,
          1250,
          1500,
          1750,
          2000,
          2250,
          2500,
          2750,
          3000,
          3250,
          3500,
          3750,
          4000,
          4250,
          4500,
          4750,
          5000,
          5250,
          5500,
          5750,
          6000,
          6250,
          6500,
          6750,
          7000,
          7250,
          7500,
          7750,
          8000,
          8250,
          8500,
          8750,
          9000,
          9250,
          9500,
          9750,
          10000,
          10250,
          10500,
          10750,
          11000,
          11250,
          11500,
          11750,
          12000,
          12250,
          12500,
          12750,
          13000,
          13250,
          13500,
          13750,
          14000,
          14250,
          14500,
          14750,
          15000,
          15250,
          15500,
          15750,
          16000,
          16250,
          16500,
          16750,
          17000,
          17250,
          17500,
          17750,
          18000,
          18250,
          18500,
          18750,
          19000,
          19250,
          19500,
          19750
         ],
         "xaxis": "x",
         "y": [
          0.832,
          0.856,
          0.896,
          0.892,
          0.936,
          0.964,
          0.968,
          0.956,
          0.968,
          0.984,
          0.976,
          0.996,
          0.988,
          0.968,
          1,
          0.984,
          0.988,
          0.98,
          0.996,
          0.992,
          0.988,
          0.992,
          0.984,
          0.992,
          0.988,
          0.996,
          0.988,
          1,
          0.996,
          0.992,
          1,
          0.988,
          1,
          0.996,
          0.996,
          0.996,
          0.992,
          0.992,
          0.996,
          0.992,
          0.988,
          0.988,
          0.988,
          0.996,
          0.988,
          1,
          0.996,
          1,
          0.996,
          0.988,
          0.988,
          1,
          0.992,
          0.996,
          0.988,
          0.996,
          1,
          0.992,
          1,
          1,
          1,
          1,
          1,
          1,
          0.984,
          1,
          1,
          0.996,
          1,
          0.992,
          1,
          0.992,
          0.996,
          0.992,
          1,
          1,
          0.996,
          0.992,
          1
         ],
         "yaxis": "y"
        },
        {
         "hovertemplate": "variable=Mrand (eps=0.40)<br>Games played=%{x}<br>value=%{y}<extra></extra>",
         "legendgroup": "Mrand (eps=0.40)",
         "line": {
          "color": "#FFA15A",
          "dash": "solid"
         },
         "marker": {
          "symbol": "circle"
         },
         "mode": "lines",
         "name": "Mrand (eps=0.40)",
         "orientation": "v",
         "showlegend": true,
         "type": "scatter",
         "x": [
          250,
          500,
          750,
          1000,
          1250,
          1500,
          1750,
          2000,
          2250,
          2500,
          2750,
          3000,
          3250,
          3500,
          3750,
          4000,
          4250,
          4500,
          4750,
          5000,
          5250,
          5500,
          5750,
          6000,
          6250,
          6500,
          6750,
          7000,
          7250,
          7500,
          7750,
          8000,
          8250,
          8500,
          8750,
          9000,
          9250,
          9500,
          9750,
          10000,
          10250,
          10500,
          10750,
          11000,
          11250,
          11500,
          11750,
          12000,
          12250,
          12500,
          12750,
          13000,
          13250,
          13500,
          13750,
          14000,
          14250,
          14500,
          14750,
          15000,
          15250,
          15500,
          15750,
          16000,
          16250,
          16500,
          16750,
          17000,
          17250,
          17500,
          17750,
          18000,
          18250,
          18500,
          18750,
          19000,
          19250,
          19500,
          19750
         ],
         "xaxis": "x",
         "y": [
          0.748,
          0.848,
          0.896,
          0.932,
          0.92,
          0.944,
          0.952,
          0.952,
          0.96,
          0.968,
          0.98,
          0.988,
          0.968,
          0.988,
          0.976,
          0.98,
          0.972,
          0.98,
          0.988,
          0.972,
          0.984,
          0.976,
          0.976,
          0.996,
          1,
          0.992,
          0.98,
          0.992,
          0.992,
          0.988,
          0.992,
          0.992,
          0.996,
          0.996,
          0.996,
          1,
          0.988,
          0.996,
          1,
          1,
          0.992,
          0.996,
          0.996,
          1,
          0.992,
          1,
          0.996,
          0.984,
          0.996,
          0.996,
          1,
          0.984,
          0.996,
          0.992,
          0.988,
          0.996,
          1,
          0.988,
          0.992,
          0.996,
          0.992,
          0.988,
          0.992,
          0.984,
          0.988,
          0.992,
          0.996,
          0.988,
          1,
          1,
          0.988,
          0.988,
          0.996,
          1,
          0.996,
          0.992,
          0.992,
          0.992,
          0.992
         ],
         "yaxis": "y"
        },
        {
         "hovertemplate": "variable=Mrand (eps=0.50)<br>Games played=%{x}<br>value=%{y}<extra></extra>",
         "legendgroup": "Mrand (eps=0.50)",
         "line": {
          "color": "#19d3f3",
          "dash": "solid"
         },
         "marker": {
          "symbol": "circle"
         },
         "mode": "lines",
         "name": "Mrand (eps=0.50)",
         "orientation": "v",
         "showlegend": true,
         "type": "scatter",
         "x": [
          250,
          500,
          750,
          1000,
          1250,
          1500,
          1750,
          2000,
          2250,
          2500,
          2750,
          3000,
          3250,
          3500,
          3750,
          4000,
          4250,
          4500,
          4750,
          5000,
          5250,
          5500,
          5750,
          6000,
          6250,
          6500,
          6750,
          7000,
          7250,
          7500,
          7750,
          8000,
          8250,
          8500,
          8750,
          9000,
          9250,
          9500,
          9750,
          10000,
          10250,
          10500,
          10750,
          11000,
          11250,
          11500,
          11750,
          12000,
          12250,
          12500,
          12750,
          13000,
          13250,
          13500,
          13750,
          14000,
          14250,
          14500,
          14750,
          15000,
          15250,
          15500,
          15750,
          16000,
          16250,
          16500,
          16750,
          17000,
          17250,
          17500,
          17750,
          18000,
          18250,
          18500,
          18750,
          19000,
          19250,
          19500,
          19750
         ],
         "xaxis": "x",
         "y": [
          0.744,
          0.868,
          0.9,
          0.852,
          0.936,
          0.92,
          0.92,
          0.928,
          0.956,
          0.956,
          0.956,
          0.964,
          0.976,
          0.964,
          0.96,
          0.96,
          0.98,
          0.956,
          0.976,
          0.976,
          0.984,
          0.988,
          0.984,
          0.976,
          0.992,
          0.98,
          0.992,
          0.984,
          0.988,
          0.992,
          0.988,
          0.988,
          0.984,
          0.984,
          0.98,
          0.996,
          0.984,
          0.984,
          1,
          0.96,
          0.992,
          0.972,
          0.984,
          0.988,
          1,
          1,
          0.992,
          0.996,
          0.996,
          0.988,
          0.984,
          1,
          0.988,
          0.984,
          0.988,
          0.988,
          1,
          0.988,
          0.988,
          0.98,
          0.988,
          1,
          0.98,
          0.984,
          0.988,
          0.984,
          0.988,
          0.992,
          0.996,
          0.988,
          0.988,
          0.992,
          0.996,
          0.984,
          0.996,
          0.992,
          0.988,
          0.992,
          0.988
         ],
         "yaxis": "y"
        },
        {
         "hovertemplate": "variable=Mrand (eps=0.60)<br>Games played=%{x}<br>value=%{y}<extra></extra>",
         "legendgroup": "Mrand (eps=0.60)",
         "line": {
          "color": "#FF6692",
          "dash": "solid"
         },
         "marker": {
          "symbol": "circle"
         },
         "mode": "lines",
         "name": "Mrand (eps=0.60)",
         "orientation": "v",
         "showlegend": true,
         "type": "scatter",
         "x": [
          250,
          500,
          750,
          1000,
          1250,
          1500,
          1750,
          2000,
          2250,
          2500,
          2750,
          3000,
          3250,
          3500,
          3750,
          4000,
          4250,
          4500,
          4750,
          5000,
          5250,
          5500,
          5750,
          6000,
          6250,
          6500,
          6750,
          7000,
          7250,
          7500,
          7750,
          8000,
          8250,
          8500,
          8750,
          9000,
          9250,
          9500,
          9750,
          10000,
          10250,
          10500,
          10750,
          11000,
          11250,
          11500,
          11750,
          12000,
          12250,
          12500,
          12750,
          13000,
          13250,
          13500,
          13750,
          14000,
          14250,
          14500,
          14750,
          15000,
          15250,
          15500,
          15750,
          16000,
          16250,
          16500,
          16750,
          17000,
          17250,
          17500,
          17750,
          18000,
          18250,
          18500,
          18750,
          19000,
          19250,
          19500,
          19750
         ],
         "xaxis": "x",
         "y": [
          0.772,
          0.796,
          0.848,
          0.888,
          0.888,
          0.928,
          0.936,
          0.948,
          0.912,
          0.94,
          0.94,
          0.956,
          0.944,
          0.972,
          0.944,
          0.968,
          0.928,
          0.964,
          0.964,
          0.96,
          0.948,
          0.964,
          0.972,
          0.952,
          0.972,
          0.964,
          0.976,
          0.964,
          0.956,
          0.964,
          0.98,
          0.968,
          0.992,
          0.976,
          0.98,
          0.972,
          0.968,
          0.984,
          0.98,
          0.96,
          0.992,
          0.98,
          0.976,
          0.98,
          0.976,
          0.984,
          0.984,
          0.992,
          0.984,
          0.972,
          0.988,
          0.988,
          0.992,
          0.988,
          0.992,
          0.996,
          0.984,
          0.984,
          0.992,
          0.98,
          0.996,
          0.992,
          0.988,
          0.976,
          0.988,
          0.992,
          0.992,
          0.992,
          0.992,
          0.98,
          0.996,
          0.976,
          0.992,
          0.988,
          0.988,
          0.992,
          0.976,
          0.984,
          0.992
         ],
         "yaxis": "y"
        },
        {
         "hovertemplate": "variable=Mrand (eps=0.70)<br>Games played=%{x}<br>value=%{y}<extra></extra>",
         "legendgroup": "Mrand (eps=0.70)",
         "line": {
          "color": "#B6E880",
          "dash": "solid"
         },
         "marker": {
          "symbol": "circle"
         },
         "mode": "lines",
         "name": "Mrand (eps=0.70)",
         "orientation": "v",
         "showlegend": true,
         "type": "scatter",
         "x": [
          250,
          500,
          750,
          1000,
          1250,
          1500,
          1750,
          2000,
          2250,
          2500,
          2750,
          3000,
          3250,
          3500,
          3750,
          4000,
          4250,
          4500,
          4750,
          5000,
          5250,
          5500,
          5750,
          6000,
          6250,
          6500,
          6750,
          7000,
          7250,
          7500,
          7750,
          8000,
          8250,
          8500,
          8750,
          9000,
          9250,
          9500,
          9750,
          10000,
          10250,
          10500,
          10750,
          11000,
          11250,
          11500,
          11750,
          12000,
          12250,
          12500,
          12750,
          13000,
          13250,
          13500,
          13750,
          14000,
          14250,
          14500,
          14750,
          15000,
          15250,
          15500,
          15750,
          16000,
          16250,
          16500,
          16750,
          17000,
          17250,
          17500,
          17750,
          18000,
          18250,
          18500,
          18750,
          19000,
          19250,
          19500,
          19750
         ],
         "xaxis": "x",
         "y": [
          0.752,
          0.796,
          0.776,
          0.848,
          0.864,
          0.876,
          0.872,
          0.872,
          0.892,
          0.88,
          0.872,
          0.94,
          0.892,
          0.904,
          0.952,
          0.896,
          0.92,
          0.948,
          0.952,
          0.936,
          0.964,
          0.944,
          0.948,
          0.96,
          0.964,
          0.932,
          0.976,
          0.956,
          0.964,
          0.98,
          0.968,
          0.968,
          0.964,
          0.96,
          0.984,
          0.972,
          0.972,
          0.964,
          0.972,
          0.984,
          0.992,
          0.96,
          0.976,
          0.984,
          0.972,
          0.98,
          0.968,
          0.988,
          0.98,
          0.984,
          0.976,
          0.996,
          0.976,
          0.988,
          0.996,
          0.992,
          0.976,
          0.988,
          0.976,
          0.988,
          0.972,
          0.984,
          0.992,
          0.988,
          0.988,
          0.984,
          0.992,
          0.992,
          0.996,
          0.992,
          0.988,
          0.988,
          0.992,
          0.996,
          0.992,
          0.992,
          0.992,
          0.984,
          0.98
         ],
         "yaxis": "y"
        },
        {
         "hovertemplate": "variable=Mrand (eps=0.80)<br>Games played=%{x}<br>value=%{y}<extra></extra>",
         "legendgroup": "Mrand (eps=0.80)",
         "line": {
          "color": "#FF97FF",
          "dash": "solid"
         },
         "marker": {
          "symbol": "circle"
         },
         "mode": "lines",
         "name": "Mrand (eps=0.80)",
         "orientation": "v",
         "showlegend": true,
         "type": "scatter",
         "x": [
          250,
          500,
          750,
          1000,
          1250,
          1500,
          1750,
          2000,
          2250,
          2500,
          2750,
          3000,
          3250,
          3500,
          3750,
          4000,
          4250,
          4500,
          4750,
          5000,
          5250,
          5500,
          5750,
          6000,
          6250,
          6500,
          6750,
          7000,
          7250,
          7500,
          7750,
          8000,
          8250,
          8500,
          8750,
          9000,
          9250,
          9500,
          9750,
          10000,
          10250,
          10500,
          10750,
          11000,
          11250,
          11500,
          11750,
          12000,
          12250,
          12500,
          12750,
          13000,
          13250,
          13500,
          13750,
          14000,
          14250,
          14500,
          14750,
          15000,
          15250,
          15500,
          15750,
          16000,
          16250,
          16500,
          16750,
          17000,
          17250,
          17500,
          17750,
          18000,
          18250,
          18500,
          18750,
          19000,
          19250,
          19500,
          19750
         ],
         "xaxis": "x",
         "y": [
          0.548,
          0.652,
          0.756,
          0.78,
          0.768,
          0.844,
          0.9,
          0.868,
          0.856,
          0.9,
          0.876,
          0.908,
          0.904,
          0.884,
          0.92,
          0.928,
          0.928,
          0.912,
          0.952,
          0.928,
          0.928,
          0.936,
          0.94,
          0.964,
          0.932,
          0.952,
          0.936,
          0.948,
          0.948,
          0.932,
          0.968,
          0.952,
          0.92,
          0.964,
          0.936,
          0.944,
          0.956,
          0.968,
          0.964,
          0.964,
          0.952,
          0.944,
          0.952,
          0.984,
          0.968,
          0.976,
          0.956,
          0.972,
          0.956,
          0.976,
          0.944,
          0.932,
          0.98,
          0.94,
          0.98,
          0.972,
          0.992,
          0.976,
          0.964,
          0.964,
          0.956,
          0.988,
          0.98,
          0.988,
          0.98,
          0.964,
          0.98,
          0.976,
          0.964,
          0.956,
          0.964,
          0.964,
          0.968,
          0.984,
          0.968,
          0.992,
          0.968,
          0.988,
          0.952
         ],
         "yaxis": "y"
        },
        {
         "hovertemplate": "variable=Mrand (eps=0.90)<br>Games played=%{x}<br>value=%{y}<extra></extra>",
         "legendgroup": "Mrand (eps=0.90)",
         "line": {
          "color": "#FECB52",
          "dash": "solid"
         },
         "marker": {
          "symbol": "circle"
         },
         "mode": "lines",
         "name": "Mrand (eps=0.90)",
         "orientation": "v",
         "showlegend": true,
         "type": "scatter",
         "x": [
          250,
          500,
          750,
          1000,
          1250,
          1500,
          1750,
          2000,
          2250,
          2500,
          2750,
          3000,
          3250,
          3500,
          3750,
          4000,
          4250,
          4500,
          4750,
          5000,
          5250,
          5500,
          5750,
          6000,
          6250,
          6500,
          6750,
          7000,
          7250,
          7500,
          7750,
          8000,
          8250,
          8500,
          8750,
          9000,
          9250,
          9500,
          9750,
          10000,
          10250,
          10500,
          10750,
          11000,
          11250,
          11500,
          11750,
          12000,
          12250,
          12500,
          12750,
          13000,
          13250,
          13500,
          13750,
          14000,
          14250,
          14500,
          14750,
          15000,
          15250,
          15500,
          15750,
          16000,
          16250,
          16500,
          16750,
          17000,
          17250,
          17500,
          17750,
          18000,
          18250,
          18500,
          18750,
          19000,
          19250,
          19500,
          19750
         ],
         "xaxis": "x",
         "y": [
          0.664,
          0.776,
          0.764,
          0.768,
          0.796,
          0.812,
          0.732,
          0.776,
          0.776,
          0.84,
          0.856,
          0.88,
          0.872,
          0.852,
          0.872,
          0.912,
          0.844,
          0.876,
          0.876,
          0.9,
          0.904,
          0.9,
          0.88,
          0.832,
          0.904,
          0.916,
          0.892,
          0.876,
          0.948,
          0.936,
          0.924,
          0.94,
          0.952,
          0.92,
          0.924,
          0.94,
          0.948,
          0.944,
          0.956,
          0.952,
          0.968,
          0.952,
          0.952,
          0.968,
          0.936,
          0.92,
          0.96,
          0.952,
          0.952,
          0.956,
          0.944,
          0.936,
          0.944,
          0.96,
          0.96,
          0.96,
          0.94,
          0.964,
          0.948,
          0.952,
          0.956,
          0.952,
          0.956,
          0.956,
          0.96,
          0.972,
          0.968,
          0.98,
          0.96,
          0.956,
          0.96,
          0.976,
          0.968,
          0.952,
          0.98,
          0.956,
          0.984,
          0.968,
          0.992
         ],
         "yaxis": "y"
        },
        {
         "hovertemplate": "variable=Mrand (eps=1.00)<br>Games played=%{x}<br>value=%{y}<extra></extra>",
         "legendgroup": "Mrand (eps=1.00)",
         "line": {
          "color": "#636efa",
          "dash": "solid"
         },
         "marker": {
          "symbol": "circle"
         },
         "mode": "lines",
         "name": "Mrand (eps=1.00)",
         "orientation": "v",
         "showlegend": true,
         "type": "scatter",
         "x": [
          250,
          500,
          750,
          1000,
          1250,
          1500,
          1750,
          2000,
          2250,
          2500,
          2750,
          3000,
          3250,
          3500,
          3750,
          4000,
          4250,
          4500,
          4750,
          5000,
          5250,
          5500,
          5750,
          6000,
          6250,
          6500,
          6750,
          7000,
          7250,
          7500,
          7750,
          8000,
          8250,
          8500,
          8750,
          9000,
          9250,
          9500,
          9750,
          10000,
          10250,
          10500,
          10750,
          11000,
          11250,
          11500,
          11750,
          12000,
          12250,
          12500,
          12750,
          13000,
          13250,
          13500,
          13750,
          14000,
          14250,
          14500,
          14750,
          15000,
          15250,
          15500,
          15750,
          16000,
          16250,
          16500,
          16750,
          17000,
          17250,
          17500,
          17750,
          18000,
          18250,
          18500,
          18750,
          19000,
          19250,
          19500,
          19750
         ],
         "xaxis": "x",
         "y": [
          0.628,
          0.6,
          0.668,
          0.696,
          0.752,
          0.76,
          0.76,
          0.752,
          0.788,
          0.792,
          0.76,
          0.808,
          0.784,
          0.828,
          0.808,
          0.82,
          0.828,
          0.812,
          0.804,
          0.812,
          0.848,
          0.872,
          0.804,
          0.904,
          0.82,
          0.832,
          0.832,
          0.848,
          0.876,
          0.832,
          0.82,
          0.888,
          0.856,
          0.86,
          0.86,
          0.868,
          0.9,
          0.892,
          0.892,
          0.88,
          0.924,
          0.884,
          0.868,
          0.904,
          0.912,
          0.9,
          0.92,
          0.912,
          0.94,
          0.908,
          0.936,
          0.908,
          0.916,
          0.904,
          0.892,
          0.908,
          0.896,
          0.904,
          0.948,
          0.904,
          0.884,
          0.948,
          0.948,
          0.9,
          0.884,
          0.896,
          0.888,
          0.9,
          0.932,
          0.928,
          0.92,
          0.924,
          0.916,
          0.912,
          0.932,
          0.936,
          0.932,
          0.912,
          0.948
         ],
         "yaxis": "y"
        }
       ],
       "layout": {
        "legend": {
         "title": {
          "text": "variable"
         },
         "tracegroupgap": 0
        },
        "margin": {
         "t": 60
        },
        "template": {
         "data": {
          "bar": [
           {
            "error_x": {
             "color": "#2a3f5f"
            },
            "error_y": {
             "color": "#2a3f5f"
            },
            "marker": {
             "line": {
              "color": "#E5ECF6",
              "width": 0.5
             },
             "pattern": {
              "fillmode": "overlay",
              "size": 10,
              "solidity": 0.2
             }
            },
            "type": "bar"
           }
          ],
          "barpolar": [
           {
            "marker": {
             "line": {
              "color": "#E5ECF6",
              "width": 0.5
             },
             "pattern": {
              "fillmode": "overlay",
              "size": 10,
              "solidity": 0.2
             }
            },
            "type": "barpolar"
           }
          ],
          "carpet": [
           {
            "aaxis": {
             "endlinecolor": "#2a3f5f",
             "gridcolor": "white",
             "linecolor": "white",
             "minorgridcolor": "white",
             "startlinecolor": "#2a3f5f"
            },
            "baxis": {
             "endlinecolor": "#2a3f5f",
             "gridcolor": "white",
             "linecolor": "white",
             "minorgridcolor": "white",
             "startlinecolor": "#2a3f5f"
            },
            "type": "carpet"
           }
          ],
          "choropleth": [
           {
            "colorbar": {
             "outlinewidth": 0,
             "ticks": ""
            },
            "type": "choropleth"
           }
          ],
          "contour": [
           {
            "colorbar": {
             "outlinewidth": 0,
             "ticks": ""
            },
            "colorscale": [
             [
              0,
              "#0d0887"
             ],
             [
              0.1111111111111111,
              "#46039f"
             ],
             [
              0.2222222222222222,
              "#7201a8"
             ],
             [
              0.3333333333333333,
              "#9c179e"
             ],
             [
              0.4444444444444444,
              "#bd3786"
             ],
             [
              0.5555555555555556,
              "#d8576b"
             ],
             [
              0.6666666666666666,
              "#ed7953"
             ],
             [
              0.7777777777777778,
              "#fb9f3a"
             ],
             [
              0.8888888888888888,
              "#fdca26"
             ],
             [
              1,
              "#f0f921"
             ]
            ],
            "type": "contour"
           }
          ],
          "contourcarpet": [
           {
            "colorbar": {
             "outlinewidth": 0,
             "ticks": ""
            },
            "type": "contourcarpet"
           }
          ],
          "heatmap": [
           {
            "colorbar": {
             "outlinewidth": 0,
             "ticks": ""
            },
            "colorscale": [
             [
              0,
              "#0d0887"
             ],
             [
              0.1111111111111111,
              "#46039f"
             ],
             [
              0.2222222222222222,
              "#7201a8"
             ],
             [
              0.3333333333333333,
              "#9c179e"
             ],
             [
              0.4444444444444444,
              "#bd3786"
             ],
             [
              0.5555555555555556,
              "#d8576b"
             ],
             [
              0.6666666666666666,
              "#ed7953"
             ],
             [
              0.7777777777777778,
              "#fb9f3a"
             ],
             [
              0.8888888888888888,
              "#fdca26"
             ],
             [
              1,
              "#f0f921"
             ]
            ],
            "type": "heatmap"
           }
          ],
          "heatmapgl": [
           {
            "colorbar": {
             "outlinewidth": 0,
             "ticks": ""
            },
            "colorscale": [
             [
              0,
              "#0d0887"
             ],
             [
              0.1111111111111111,
              "#46039f"
             ],
             [
              0.2222222222222222,
              "#7201a8"
             ],
             [
              0.3333333333333333,
              "#9c179e"
             ],
             [
              0.4444444444444444,
              "#bd3786"
             ],
             [
              0.5555555555555556,
              "#d8576b"
             ],
             [
              0.6666666666666666,
              "#ed7953"
             ],
             [
              0.7777777777777778,
              "#fb9f3a"
             ],
             [
              0.8888888888888888,
              "#fdca26"
             ],
             [
              1,
              "#f0f921"
             ]
            ],
            "type": "heatmapgl"
           }
          ],
          "histogram": [
           {
            "marker": {
             "pattern": {
              "fillmode": "overlay",
              "size": 10,
              "solidity": 0.2
             }
            },
            "type": "histogram"
           }
          ],
          "histogram2d": [
           {
            "colorbar": {
             "outlinewidth": 0,
             "ticks": ""
            },
            "colorscale": [
             [
              0,
              "#0d0887"
             ],
             [
              0.1111111111111111,
              "#46039f"
             ],
             [
              0.2222222222222222,
              "#7201a8"
             ],
             [
              0.3333333333333333,
              "#9c179e"
             ],
             [
              0.4444444444444444,
              "#bd3786"
             ],
             [
              0.5555555555555556,
              "#d8576b"
             ],
             [
              0.6666666666666666,
              "#ed7953"
             ],
             [
              0.7777777777777778,
              "#fb9f3a"
             ],
             [
              0.8888888888888888,
              "#fdca26"
             ],
             [
              1,
              "#f0f921"
             ]
            ],
            "type": "histogram2d"
           }
          ],
          "histogram2dcontour": [
           {
            "colorbar": {
             "outlinewidth": 0,
             "ticks": ""
            },
            "colorscale": [
             [
              0,
              "#0d0887"
             ],
             [
              0.1111111111111111,
              "#46039f"
             ],
             [
              0.2222222222222222,
              "#7201a8"
             ],
             [
              0.3333333333333333,
              "#9c179e"
             ],
             [
              0.4444444444444444,
              "#bd3786"
             ],
             [
              0.5555555555555556,
              "#d8576b"
             ],
             [
              0.6666666666666666,
              "#ed7953"
             ],
             [
              0.7777777777777778,
              "#fb9f3a"
             ],
             [
              0.8888888888888888,
              "#fdca26"
             ],
             [
              1,
              "#f0f921"
             ]
            ],
            "type": "histogram2dcontour"
           }
          ],
          "mesh3d": [
           {
            "colorbar": {
             "outlinewidth": 0,
             "ticks": ""
            },
            "type": "mesh3d"
           }
          ],
          "parcoords": [
           {
            "line": {
             "colorbar": {
              "outlinewidth": 0,
              "ticks": ""
             }
            },
            "type": "parcoords"
           }
          ],
          "pie": [
           {
            "automargin": true,
            "type": "pie"
           }
          ],
          "scatter": [
           {
            "fillpattern": {
             "fillmode": "overlay",
             "size": 10,
             "solidity": 0.2
            },
            "type": "scatter"
           }
          ],
          "scatter3d": [
           {
            "line": {
             "colorbar": {
              "outlinewidth": 0,
              "ticks": ""
             }
            },
            "marker": {
             "colorbar": {
              "outlinewidth": 0,
              "ticks": ""
             }
            },
            "type": "scatter3d"
           }
          ],
          "scattercarpet": [
           {
            "marker": {
             "colorbar": {
              "outlinewidth": 0,
              "ticks": ""
             }
            },
            "type": "scattercarpet"
           }
          ],
          "scattergeo": [
           {
            "marker": {
             "colorbar": {
              "outlinewidth": 0,
              "ticks": ""
             }
            },
            "type": "scattergeo"
           }
          ],
          "scattergl": [
           {
            "marker": {
             "colorbar": {
              "outlinewidth": 0,
              "ticks": ""
             }
            },
            "type": "scattergl"
           }
          ],
          "scattermapbox": [
           {
            "marker": {
             "colorbar": {
              "outlinewidth": 0,
              "ticks": ""
             }
            },
            "type": "scattermapbox"
           }
          ],
          "scatterpolar": [
           {
            "marker": {
             "colorbar": {
              "outlinewidth": 0,
              "ticks": ""
             }
            },
            "type": "scatterpolar"
           }
          ],
          "scatterpolargl": [
           {
            "marker": {
             "colorbar": {
              "outlinewidth": 0,
              "ticks": ""
             }
            },
            "type": "scatterpolargl"
           }
          ],
          "scatterternary": [
           {
            "marker": {
             "colorbar": {
              "outlinewidth": 0,
              "ticks": ""
             }
            },
            "type": "scatterternary"
           }
          ],
          "surface": [
           {
            "colorbar": {
             "outlinewidth": 0,
             "ticks": ""
            },
            "colorscale": [
             [
              0,
              "#0d0887"
             ],
             [
              0.1111111111111111,
              "#46039f"
             ],
             [
              0.2222222222222222,
              "#7201a8"
             ],
             [
              0.3333333333333333,
              "#9c179e"
             ],
             [
              0.4444444444444444,
              "#bd3786"
             ],
             [
              0.5555555555555556,
              "#d8576b"
             ],
             [
              0.6666666666666666,
              "#ed7953"
             ],
             [
              0.7777777777777778,
              "#fb9f3a"
             ],
             [
              0.8888888888888888,
              "#fdca26"
             ],
             [
              1,
              "#f0f921"
             ]
            ],
            "type": "surface"
           }
          ],
          "table": [
           {
            "cells": {
             "fill": {
              "color": "#EBF0F8"
             },
             "line": {
              "color": "white"
             }
            },
            "header": {
             "fill": {
              "color": "#C8D4E3"
             },
             "line": {
              "color": "white"
             }
            },
            "type": "table"
           }
          ]
         },
         "layout": {
          "annotationdefaults": {
           "arrowcolor": "#2a3f5f",
           "arrowhead": 0,
           "arrowwidth": 1
          },
          "autotypenumbers": "strict",
          "coloraxis": {
           "colorbar": {
            "outlinewidth": 0,
            "ticks": ""
           }
          },
          "colorscale": {
           "diverging": [
            [
             0,
             "#8e0152"
            ],
            [
             0.1,
             "#c51b7d"
            ],
            [
             0.2,
             "#de77ae"
            ],
            [
             0.3,
             "#f1b6da"
            ],
            [
             0.4,
             "#fde0ef"
            ],
            [
             0.5,
             "#f7f7f7"
            ],
            [
             0.6,
             "#e6f5d0"
            ],
            [
             0.7,
             "#b8e186"
            ],
            [
             0.8,
             "#7fbc41"
            ],
            [
             0.9,
             "#4d9221"
            ],
            [
             1,
             "#276419"
            ]
           ],
           "sequential": [
            [
             0,
             "#0d0887"
            ],
            [
             0.1111111111111111,
             "#46039f"
            ],
            [
             0.2222222222222222,
             "#7201a8"
            ],
            [
             0.3333333333333333,
             "#9c179e"
            ],
            [
             0.4444444444444444,
             "#bd3786"
            ],
            [
             0.5555555555555556,
             "#d8576b"
            ],
            [
             0.6666666666666666,
             "#ed7953"
            ],
            [
             0.7777777777777778,
             "#fb9f3a"
            ],
            [
             0.8888888888888888,
             "#fdca26"
            ],
            [
             1,
             "#f0f921"
            ]
           ],
           "sequentialminus": [
            [
             0,
             "#0d0887"
            ],
            [
             0.1111111111111111,
             "#46039f"
            ],
            [
             0.2222222222222222,
             "#7201a8"
            ],
            [
             0.3333333333333333,
             "#9c179e"
            ],
            [
             0.4444444444444444,
             "#bd3786"
            ],
            [
             0.5555555555555556,
             "#d8576b"
            ],
            [
             0.6666666666666666,
             "#ed7953"
            ],
            [
             0.7777777777777778,
             "#fb9f3a"
            ],
            [
             0.8888888888888888,
             "#fdca26"
            ],
            [
             1,
             "#f0f921"
            ]
           ]
          },
          "colorway": [
           "#636efa",
           "#EF553B",
           "#00cc96",
           "#ab63fa",
           "#FFA15A",
           "#19d3f3",
           "#FF6692",
           "#B6E880",
           "#FF97FF",
           "#FECB52"
          ],
          "font": {
           "color": "#2a3f5f"
          },
          "geo": {
           "bgcolor": "white",
           "lakecolor": "white",
           "landcolor": "#E5ECF6",
           "showlakes": true,
           "showland": true,
           "subunitcolor": "white"
          },
          "hoverlabel": {
           "align": "left"
          },
          "hovermode": "closest",
          "mapbox": {
           "style": "light"
          },
          "paper_bgcolor": "white",
          "plot_bgcolor": "#E5ECF6",
          "polar": {
           "angularaxis": {
            "gridcolor": "white",
            "linecolor": "white",
            "ticks": ""
           },
           "bgcolor": "#E5ECF6",
           "radialaxis": {
            "gridcolor": "white",
            "linecolor": "white",
            "ticks": ""
           }
          },
          "scene": {
           "xaxis": {
            "backgroundcolor": "#E5ECF6",
            "gridcolor": "white",
            "gridwidth": 2,
            "linecolor": "white",
            "showbackground": true,
            "ticks": "",
            "zerolinecolor": "white"
           },
           "yaxis": {
            "backgroundcolor": "#E5ECF6",
            "gridcolor": "white",
            "gridwidth": 2,
            "linecolor": "white",
            "showbackground": true,
            "ticks": "",
            "zerolinecolor": "white"
           },
           "zaxis": {
            "backgroundcolor": "#E5ECF6",
            "gridcolor": "white",
            "gridwidth": 2,
            "linecolor": "white",
            "showbackground": true,
            "ticks": "",
            "zerolinecolor": "white"
           }
          },
          "shapedefaults": {
           "line": {
            "color": "#2a3f5f"
           }
          },
          "ternary": {
           "aaxis": {
            "gridcolor": "white",
            "linecolor": "white",
            "ticks": ""
           },
           "baxis": {
            "gridcolor": "white",
            "linecolor": "white",
            "ticks": ""
           },
           "bgcolor": "#E5ECF6",
           "caxis": {
            "gridcolor": "white",
            "linecolor": "white",
            "ticks": ""
           }
          },
          "title": {
           "x": 0.05
          },
          "xaxis": {
           "automargin": true,
           "gridcolor": "white",
           "linecolor": "white",
           "ticks": "",
           "title": {
            "standoff": 15
           },
           "zerolinecolor": "white",
           "zerolinewidth": 2
          },
          "yaxis": {
           "automargin": true,
           "gridcolor": "white",
           "linecolor": "white",
           "ticks": "",
           "title": {
            "standoff": 15
           },
           "zerolinecolor": "white",
           "zerolinewidth": 2
          }
         }
        },
        "width": 800,
        "xaxis": {
         "anchor": "y",
         "domain": [
          0,
          1
         ],
         "title": {
          "text": "Games played"
         }
        },
        "yaxis": {
         "anchor": "x",
         "domain": [
          0,
          1
         ],
         "title": {
          "text": "Mrand"
         }
        }
       }
      }
     },
     "metadata": {},
     "output_type": "display_data"
    }
   ],
   "source": [
    "env = NimEnv()\n",
    "eps_values=np.linspace(0, 1, 11)\n",
    "# redefining the parallelGames function for M_opt and M_rand configuration\n",
    "df1 = {'Games played':list(np.arange(1,20000//METRICS_FREQUENCY)*METRICS_FREQUENCY)}\n",
    "df2 = {'Games played':list(np.arange(1,20000//METRICS_FREQUENCY)*METRICS_FREQUENCY)}\n",
    "df3 = {'Games played':list(np.arange(1,20000//METRICS_FREQUENCY)*METRICS_FREQUENCY)}\n",
    "num_cores = mp.cpu_count()\n",
    "def parallelGames(eps):\n",
    "    df1, df2, df3 = {}, {}, {}\n",
    "    metrics, _ = q_learning(env, num_games=20000, eps_q=eps, gamma=0.99, verbose=False, test=True, self_learning=True)\n",
    "    df1[f\"Average reward (eps={eps:0.2f})\"] = metrics[0]\n",
    "    df2[f\"Mopt (eps={eps:0.2f})\"] = metrics[1]\n",
    "    df3[f\"Mrand (eps={eps:0.2f})\"] = metrics[2]\n",
    "    return df1, df2, df3\n",
    "dfs = Parallel(n_jobs=num_cores)(delayed(parallelGames)(eps_adv) for eps_adv in eps_adv_values)\n",
    "for d1,d2,d3 in dfs:\n",
    "    df1.update(d1)\n",
    "    df2.update(d2)\n",
    "    df3.update(d3)\n",
    "\n",
    "df1, df2, df3 = pd.DataFrame(df1), pd.DataFrame(df2), pd.DataFrame(df3)\n",
    "fig1 = px.line(df1, x='Games played', y=df1.columns.difference(['Games played']), title=\"Training and testing with self-learning, using different eps values\")\n",
    "fig1.update_layout(width=800)\n",
    "fig1.update_yaxes(title_text = \"Mean reward\")\n",
    "fig2 = px.line(df2, x='Games played', y=df2.columns.difference(['Games played']))\n",
    "fig2.update_layout(width=800)\n",
    "fig2.update_yaxes(title_text = \"Mopt\")\n",
    "fig3 = px.line(df3, x='Games played', y=df3.columns.difference(['Games played']))\n",
    "fig3.update_layout(width=800)\n",
    "fig3.update_yaxes(title_text = \"Mrand\")\n",
    "fig1.show()\n",
    "fig2.show()\n",
    "fig3.show()"
   ]
  },
  {
   "cell_type": "markdown",
   "metadata": {
    "collapsed": false
   },
   "source": [
    "Since the players during training are the same, it makes sense that they have the same probability of winning, hence the mean reward always oscillates around 0.0. Again, the learner always learns something since it's always better than the random player, but only low eps values seem to learn and play as a Opt(0) player. Best eps values are the same as before when learning against a Opt(eps) player and not against itself, but the low M-rand with eps= 0.0 is not there anymore!"
   ]
  },
  {
   "cell_type": "markdown",
   "metadata": {
    "collapsed": false
   },
   "source": [
    "Question 8. After every 250 games during training, compute the ‘test’ Mopt and Mrand for your agents.\n",
    "Does decreasing eps help training compared to having a fixed eps? What is the effect of n∗?"
   ]
  },
  {
   "cell_type": "code",
   "execution_count": 133,
   "metadata": {
    "collapsed": false,
    "pycharm": {
     "name": "#%%\n"
    }
   },
   "outputs": [
    {
     "data": {
      "application/vnd.plotly.v1+json": {
       "config": {
        "plotlyServerURL": "https://plot.ly"
       },
       "data": [
        {
         "hovertemplate": "variable=Average reward (n*=1)<br>Games played=%{x}<br>value=%{y}<extra></extra>",
         "legendgroup": "Average reward (n*=1)",
         "line": {
          "color": "#636efa",
          "dash": "solid"
         },
         "marker": {
          "symbol": "circle"
         },
         "mode": "lines",
         "name": "Average reward (n*=1)",
         "orientation": "v",
         "showlegend": true,
         "type": "scatter",
         "x": [
          250,
          500,
          750,
          1000,
          1250,
          1500,
          1750,
          2000,
          2250,
          2500,
          2750,
          3000,
          3250,
          3500,
          3750,
          4000,
          4250,
          4500,
          4750,
          5000,
          5250,
          5500,
          5750,
          6000,
          6250,
          6500,
          6750,
          7000,
          7250,
          7500,
          7750,
          8000,
          8250,
          8500,
          8750,
          9000,
          9250,
          9500,
          9750,
          10000,
          10250,
          10500,
          10750,
          11000,
          11250,
          11500,
          11750,
          12000,
          12250,
          12500,
          12750,
          13000,
          13250,
          13500,
          13750,
          14000,
          14250,
          14500,
          14750,
          15000,
          15250,
          15500,
          15750,
          16000,
          16250,
          16500,
          16750,
          17000,
          17250,
          17500,
          17750,
          18000,
          18250,
          18500,
          18750,
          19000,
          19250,
          19500,
          19750
         ],
         "xaxis": "x",
         "y": [
          -0.06772908366533864,
          0,
          -0.048,
          0.04,
          0.104,
          -0.016,
          0.096,
          0.008,
          0.072,
          0.016,
          -0.064,
          -0.072,
          0.056,
          -0.032,
          -0.024,
          0.008,
          -0.088,
          0.04,
          -0.08,
          -0.072,
          -0.008,
          0.056,
          -0.024,
          0.04,
          0,
          0.048,
          -0.032,
          -0.024,
          0.12,
          0.152,
          0.056,
          -0.016,
          -0.056,
          0.048,
          -0.072,
          0,
          -0.128,
          0.016,
          -0.048,
          -0.024,
          -0.032,
          -0.112,
          0.096,
          0.032,
          -0.056,
          0.032,
          -0.064,
          0.048,
          0.136,
          0.048,
          -0.032,
          -0.048,
          0.048,
          0.064,
          0.024,
          0.112,
          -0.072,
          -0.032,
          -0.064,
          0.064,
          -0.032,
          -0.032,
          -0.072,
          -0.024,
          0.056,
          0.096,
          0.048,
          0.008,
          0.08,
          -0.008,
          0,
          0.104,
          0.032,
          0.056,
          -0.08,
          -0.072,
          -0.016,
          -0.04,
          -0.056
         ],
         "yaxis": "y"
        },
        {
         "hovertemplate": "variable=Average reward (n*=16001)<br>Games played=%{x}<br>value=%{y}<extra></extra>",
         "legendgroup": "Average reward (n*=16001)",
         "line": {
          "color": "#EF553B",
          "dash": "solid"
         },
         "marker": {
          "symbol": "circle"
         },
         "mode": "lines",
         "name": "Average reward (n*=16001)",
         "orientation": "v",
         "showlegend": true,
         "type": "scatter",
         "x": [
          250,
          500,
          750,
          1000,
          1250,
          1500,
          1750,
          2000,
          2250,
          2500,
          2750,
          3000,
          3250,
          3500,
          3750,
          4000,
          4250,
          4500,
          4750,
          5000,
          5250,
          5500,
          5750,
          6000,
          6250,
          6500,
          6750,
          7000,
          7250,
          7500,
          7750,
          8000,
          8250,
          8500,
          8750,
          9000,
          9250,
          9500,
          9750,
          10000,
          10250,
          10500,
          10750,
          11000,
          11250,
          11500,
          11750,
          12000,
          12250,
          12500,
          12750,
          13000,
          13250,
          13500,
          13750,
          14000,
          14250,
          14500,
          14750,
          15000,
          15250,
          15500,
          15750,
          16000,
          16250,
          16500,
          16750,
          17000,
          17250,
          17500,
          17750,
          18000,
          18250,
          18500,
          18750,
          19000,
          19250,
          19500,
          19750
         ],
         "xaxis": "x",
         "y": [
          0.099601593625498,
          -0.048,
          0,
          -0.024,
          -0.064,
          0.024,
          0.024,
          -0.008,
          0.048,
          0,
          0.016,
          -0.008,
          0.024,
          0.04,
          0,
          -0.08,
          -0.04,
          0.048,
          -0.032,
          0.152,
          0.04,
          -0.016,
          -0.048,
          -0.024,
          0,
          -0.056,
          -0.008,
          0.072,
          0,
          0.112,
          0.008,
          0.072,
          0.016,
          -0.016,
          -0.064,
          0.032,
          -0.04,
          0.032,
          -0.024,
          -0.064,
          -0.08,
          0.056,
          0.032,
          -0.064,
          0.056,
          -0.104,
          0.024,
          -0.04,
          -0.008,
          -0.048,
          -0.024,
          0,
          0.032,
          -0.008,
          -0.048,
          0.008,
          0.08,
          0,
          -0.16,
          0.104,
          -0.016,
          0.072,
          0.008,
          -0.032,
          0.024,
          0,
          -0.008,
          0.072,
          0.08,
          -0.056,
          -0.008,
          -0.072,
          -0.016,
          -0.008,
          0.08,
          0.104,
          -0.056,
          -0.088,
          0
         ],
         "yaxis": "y"
        },
        {
         "hovertemplate": "variable=Average reward (n*=24000)<br>Games played=%{x}<br>value=%{y}<extra></extra>",
         "legendgroup": "Average reward (n*=24000)",
         "line": {
          "color": "#00cc96",
          "dash": "solid"
         },
         "marker": {
          "symbol": "circle"
         },
         "mode": "lines",
         "name": "Average reward (n*=24000)",
         "orientation": "v",
         "showlegend": true,
         "type": "scatter",
         "x": [
          250,
          500,
          750,
          1000,
          1250,
          1500,
          1750,
          2000,
          2250,
          2500,
          2750,
          3000,
          3250,
          3500,
          3750,
          4000,
          4250,
          4500,
          4750,
          5000,
          5250,
          5500,
          5750,
          6000,
          6250,
          6500,
          6750,
          7000,
          7250,
          7500,
          7750,
          8000,
          8250,
          8500,
          8750,
          9000,
          9250,
          9500,
          9750,
          10000,
          10250,
          10500,
          10750,
          11000,
          11250,
          11500,
          11750,
          12000,
          12250,
          12500,
          12750,
          13000,
          13250,
          13500,
          13750,
          14000,
          14250,
          14500,
          14750,
          15000,
          15250,
          15500,
          15750,
          16000,
          16250,
          16500,
          16750,
          17000,
          17250,
          17500,
          17750,
          18000,
          18250,
          18500,
          18750,
          19000,
          19250,
          19500,
          19750
         ],
         "xaxis": "x",
         "y": [
          -0.00398406374501992,
          0.048,
          -0.112,
          0.032,
          -0.048,
          0.096,
          0,
          -0.072,
          0.104,
          -0.04,
          0.088,
          0.04,
          -0.032,
          0.008,
          0.008,
          0.04,
          -0.008,
          -0.008,
          -0.032,
          -0.032,
          0.072,
          0.016,
          -0.024,
          -0.088,
          0.008,
          0.088,
          -0.032,
          -0.104,
          0.104,
          0.008,
          -0.064,
          0.104,
          0.016,
          0.032,
          -0.064,
          0.008,
          0.016,
          -0.088,
          0.128,
          -0.112,
          -0.008,
          -0.008,
          -0.032,
          0.016,
          0,
          -0.048,
          0.048,
          0.152,
          0.08,
          0.04,
          0.08,
          -0.056,
          0.056,
          0.04,
          0.088,
          0.056,
          -0.024,
          0.008,
          -0.064,
          0.144,
          0.008,
          0.04,
          0,
          0,
          0.088,
          0.056,
          -0.072,
          0.08,
          -0.048,
          0,
          -0.112,
          -0.048,
          0.016,
          -0.112,
          0.072,
          -0.064,
          -0.008,
          -0.016,
          0.056
         ],
         "yaxis": "y"
        },
        {
         "hovertemplate": "variable=Average reward (n*=32000)<br>Games played=%{x}<br>value=%{y}<extra></extra>",
         "legendgroup": "Average reward (n*=32000)",
         "line": {
          "color": "#ab63fa",
          "dash": "solid"
         },
         "marker": {
          "symbol": "circle"
         },
         "mode": "lines",
         "name": "Average reward (n*=32000)",
         "orientation": "v",
         "showlegend": true,
         "type": "scatter",
         "x": [
          250,
          500,
          750,
          1000,
          1250,
          1500,
          1750,
          2000,
          2250,
          2500,
          2750,
          3000,
          3250,
          3500,
          3750,
          4000,
          4250,
          4500,
          4750,
          5000,
          5250,
          5500,
          5750,
          6000,
          6250,
          6500,
          6750,
          7000,
          7250,
          7500,
          7750,
          8000,
          8250,
          8500,
          8750,
          9000,
          9250,
          9500,
          9750,
          10000,
          10250,
          10500,
          10750,
          11000,
          11250,
          11500,
          11750,
          12000,
          12250,
          12500,
          12750,
          13000,
          13250,
          13500,
          13750,
          14000,
          14250,
          14500,
          14750,
          15000,
          15250,
          15500,
          15750,
          16000,
          16250,
          16500,
          16750,
          17000,
          17250,
          17500,
          17750,
          18000,
          18250,
          18500,
          18750,
          19000,
          19250,
          19500,
          19750
         ],
         "xaxis": "x",
         "y": [
          0.043824701195219126,
          0.056,
          0.04,
          0.008,
          -0.04,
          0,
          0.136,
          -0.056,
          0.04,
          -0.04,
          0,
          -0.008,
          0,
          -0.016,
          0.048,
          0.048,
          0.056,
          0,
          0.016,
          0,
          0.024,
          0.008,
          0.08,
          0.032,
          0.048,
          -0.016,
          -0.016,
          0.056,
          -0.032,
          -0.104,
          0.112,
          0.016,
          -0.04,
          0.048,
          -0.16,
          0.04,
          0.096,
          -0.032,
          0.064,
          0.096,
          0.04,
          0.128,
          0.096,
          0.048,
          -0.072,
          -0.088,
          -0.008,
          -0.032,
          -0.104,
          0.08,
          0.136,
          0.064,
          -0.112,
          -0.008,
          0.04,
          0.128,
          0.136,
          0.016,
          0.096,
          -0.144,
          -0.024,
          0.008,
          -0.072,
          0.032,
          0.04,
          -0.144,
          0.096,
          -0.048,
          0.024,
          -0.016,
          0.048,
          -0.032,
          -0.048,
          -0.024,
          -0.024,
          0.024,
          -0.008,
          -0.064,
          -0.072
         ],
         "yaxis": "y"
        },
        {
         "hovertemplate": "variable=Average reward (n*=40000)<br>Games played=%{x}<br>value=%{y}<extra></extra>",
         "legendgroup": "Average reward (n*=40000)",
         "line": {
          "color": "#FFA15A",
          "dash": "solid"
         },
         "marker": {
          "symbol": "circle"
         },
         "mode": "lines",
         "name": "Average reward (n*=40000)",
         "orientation": "v",
         "showlegend": true,
         "type": "scatter",
         "x": [
          250,
          500,
          750,
          1000,
          1250,
          1500,
          1750,
          2000,
          2250,
          2500,
          2750,
          3000,
          3250,
          3500,
          3750,
          4000,
          4250,
          4500,
          4750,
          5000,
          5250,
          5500,
          5750,
          6000,
          6250,
          6500,
          6750,
          7000,
          7250,
          7500,
          7750,
          8000,
          8250,
          8500,
          8750,
          9000,
          9250,
          9500,
          9750,
          10000,
          10250,
          10500,
          10750,
          11000,
          11250,
          11500,
          11750,
          12000,
          12250,
          12500,
          12750,
          13000,
          13250,
          13500,
          13750,
          14000,
          14250,
          14500,
          14750,
          15000,
          15250,
          15500,
          15750,
          16000,
          16250,
          16500,
          16750,
          17000,
          17250,
          17500,
          17750,
          18000,
          18250,
          18500,
          18750,
          19000,
          19250,
          19500,
          19750
         ],
         "xaxis": "x",
         "y": [
          -0.0199203187250996,
          0.04,
          -0.08,
          0.032,
          -0.08,
          0,
          -0.032,
          -0.072,
          -0.12,
          0,
          -0.016,
          -0.04,
          -0.008,
          0.024,
          -0.056,
          -0.128,
          0.096,
          -0.176,
          0.112,
          -0.048,
          -0.064,
          -0.096,
          -0.016,
          0.008,
          0.08,
          0.024,
          0.008,
          -0.048,
          0.024,
          -0.016,
          0,
          -0.024,
          0.048,
          -0.064,
          0,
          0.032,
          0.032,
          0.008,
          -0.064,
          -0.064,
          -0.064,
          0.136,
          0.104,
          -0.032,
          0,
          0.008,
          0.032,
          -0.032,
          -0.016,
          0.104,
          0.048,
          0.032,
          -0.168,
          0.08,
          -0.128,
          -0.08,
          0.064,
          0.016,
          0.072,
          -0.064,
          0.072,
          0.064,
          -0.072,
          0.056,
          0,
          0.064,
          0.056,
          0.096,
          -0.04,
          0.048,
          0.072,
          -0.016,
          -0.224,
          -0.048,
          0,
          -0.04,
          -0.136,
          -0.016,
          0.008
         ],
         "yaxis": "y"
        },
        {
         "hovertemplate": "variable=Average reward (n*=8001)<br>Games played=%{x}<br>value=%{y}<extra></extra>",
         "legendgroup": "Average reward (n*=8001)",
         "line": {
          "color": "#19d3f3",
          "dash": "solid"
         },
         "marker": {
          "symbol": "circle"
         },
         "mode": "lines",
         "name": "Average reward (n*=8001)",
         "orientation": "v",
         "showlegend": true,
         "type": "scatter",
         "x": [
          250,
          500,
          750,
          1000,
          1250,
          1500,
          1750,
          2000,
          2250,
          2500,
          2750,
          3000,
          3250,
          3500,
          3750,
          4000,
          4250,
          4500,
          4750,
          5000,
          5250,
          5500,
          5750,
          6000,
          6250,
          6500,
          6750,
          7000,
          7250,
          7500,
          7750,
          8000,
          8250,
          8500,
          8750,
          9000,
          9250,
          9500,
          9750,
          10000,
          10250,
          10500,
          10750,
          11000,
          11250,
          11500,
          11750,
          12000,
          12250,
          12500,
          12750,
          13000,
          13250,
          13500,
          13750,
          14000,
          14250,
          14500,
          14750,
          15000,
          15250,
          15500,
          15750,
          16000,
          16250,
          16500,
          16750,
          17000,
          17250,
          17500,
          17750,
          18000,
          18250,
          18500,
          18750,
          19000,
          19250,
          19500,
          19750
         ],
         "xaxis": "x",
         "y": [
          0.08366533864541832,
          0.032,
          -0.08,
          -0.008,
          -0.024,
          -0.008,
          -0.008,
          0.024,
          0.096,
          0.024,
          -0.08,
          -0.152,
          -0.016,
          -0.072,
          -0.056,
          0.056,
          0,
          -0.016,
          -0.088,
          0,
          -0.048,
          0.008,
          -0.024,
          -0.072,
          0.024,
          0,
          0.024,
          -0.04,
          -0.088,
          -0.08,
          0.072,
          -0.032,
          0.016,
          -0.032,
          0.064,
          -0.024,
          -0.016,
          0,
          -0.008,
          -0.072,
          0.04,
          -0.016,
          -0.016,
          0,
          -0.056,
          0.032,
          0,
          0.024,
          -0.096,
          -0.08,
          0.016,
          -0.048,
          -0.072,
          0.048,
          -0.024,
          0.024,
          0,
          0,
          0.032,
          -0.072,
          0.032,
          0.008,
          0.064,
          0.056,
          -0.008,
          0.008,
          -0.024,
          -0.016,
          0.04,
          0.064,
          0.168,
          0,
          0.032,
          0.048,
          0.096,
          -0.048,
          0.08,
          0.032,
          0.024
         ],
         "yaxis": "y"
        }
       ],
       "layout": {
        "legend": {
         "title": {
          "text": "variable"
         },
         "tracegroupgap": 0
        },
        "template": {
         "data": {
          "bar": [
           {
            "error_x": {
             "color": "#2a3f5f"
            },
            "error_y": {
             "color": "#2a3f5f"
            },
            "marker": {
             "line": {
              "color": "#E5ECF6",
              "width": 0.5
             },
             "pattern": {
              "fillmode": "overlay",
              "size": 10,
              "solidity": 0.2
             }
            },
            "type": "bar"
           }
          ],
          "barpolar": [
           {
            "marker": {
             "line": {
              "color": "#E5ECF6",
              "width": 0.5
             },
             "pattern": {
              "fillmode": "overlay",
              "size": 10,
              "solidity": 0.2
             }
            },
            "type": "barpolar"
           }
          ],
          "carpet": [
           {
            "aaxis": {
             "endlinecolor": "#2a3f5f",
             "gridcolor": "white",
             "linecolor": "white",
             "minorgridcolor": "white",
             "startlinecolor": "#2a3f5f"
            },
            "baxis": {
             "endlinecolor": "#2a3f5f",
             "gridcolor": "white",
             "linecolor": "white",
             "minorgridcolor": "white",
             "startlinecolor": "#2a3f5f"
            },
            "type": "carpet"
           }
          ],
          "choropleth": [
           {
            "colorbar": {
             "outlinewidth": 0,
             "ticks": ""
            },
            "type": "choropleth"
           }
          ],
          "contour": [
           {
            "colorbar": {
             "outlinewidth": 0,
             "ticks": ""
            },
            "colorscale": [
             [
              0,
              "#0d0887"
             ],
             [
              0.1111111111111111,
              "#46039f"
             ],
             [
              0.2222222222222222,
              "#7201a8"
             ],
             [
              0.3333333333333333,
              "#9c179e"
             ],
             [
              0.4444444444444444,
              "#bd3786"
             ],
             [
              0.5555555555555556,
              "#d8576b"
             ],
             [
              0.6666666666666666,
              "#ed7953"
             ],
             [
              0.7777777777777778,
              "#fb9f3a"
             ],
             [
              0.8888888888888888,
              "#fdca26"
             ],
             [
              1,
              "#f0f921"
             ]
            ],
            "type": "contour"
           }
          ],
          "contourcarpet": [
           {
            "colorbar": {
             "outlinewidth": 0,
             "ticks": ""
            },
            "type": "contourcarpet"
           }
          ],
          "heatmap": [
           {
            "colorbar": {
             "outlinewidth": 0,
             "ticks": ""
            },
            "colorscale": [
             [
              0,
              "#0d0887"
             ],
             [
              0.1111111111111111,
              "#46039f"
             ],
             [
              0.2222222222222222,
              "#7201a8"
             ],
             [
              0.3333333333333333,
              "#9c179e"
             ],
             [
              0.4444444444444444,
              "#bd3786"
             ],
             [
              0.5555555555555556,
              "#d8576b"
             ],
             [
              0.6666666666666666,
              "#ed7953"
             ],
             [
              0.7777777777777778,
              "#fb9f3a"
             ],
             [
              0.8888888888888888,
              "#fdca26"
             ],
             [
              1,
              "#f0f921"
             ]
            ],
            "type": "heatmap"
           }
          ],
          "heatmapgl": [
           {
            "colorbar": {
             "outlinewidth": 0,
             "ticks": ""
            },
            "colorscale": [
             [
              0,
              "#0d0887"
             ],
             [
              0.1111111111111111,
              "#46039f"
             ],
             [
              0.2222222222222222,
              "#7201a8"
             ],
             [
              0.3333333333333333,
              "#9c179e"
             ],
             [
              0.4444444444444444,
              "#bd3786"
             ],
             [
              0.5555555555555556,
              "#d8576b"
             ],
             [
              0.6666666666666666,
              "#ed7953"
             ],
             [
              0.7777777777777778,
              "#fb9f3a"
             ],
             [
              0.8888888888888888,
              "#fdca26"
             ],
             [
              1,
              "#f0f921"
             ]
            ],
            "type": "heatmapgl"
           }
          ],
          "histogram": [
           {
            "marker": {
             "pattern": {
              "fillmode": "overlay",
              "size": 10,
              "solidity": 0.2
             }
            },
            "type": "histogram"
           }
          ],
          "histogram2d": [
           {
            "colorbar": {
             "outlinewidth": 0,
             "ticks": ""
            },
            "colorscale": [
             [
              0,
              "#0d0887"
             ],
             [
              0.1111111111111111,
              "#46039f"
             ],
             [
              0.2222222222222222,
              "#7201a8"
             ],
             [
              0.3333333333333333,
              "#9c179e"
             ],
             [
              0.4444444444444444,
              "#bd3786"
             ],
             [
              0.5555555555555556,
              "#d8576b"
             ],
             [
              0.6666666666666666,
              "#ed7953"
             ],
             [
              0.7777777777777778,
              "#fb9f3a"
             ],
             [
              0.8888888888888888,
              "#fdca26"
             ],
             [
              1,
              "#f0f921"
             ]
            ],
            "type": "histogram2d"
           }
          ],
          "histogram2dcontour": [
           {
            "colorbar": {
             "outlinewidth": 0,
             "ticks": ""
            },
            "colorscale": [
             [
              0,
              "#0d0887"
             ],
             [
              0.1111111111111111,
              "#46039f"
             ],
             [
              0.2222222222222222,
              "#7201a8"
             ],
             [
              0.3333333333333333,
              "#9c179e"
             ],
             [
              0.4444444444444444,
              "#bd3786"
             ],
             [
              0.5555555555555556,
              "#d8576b"
             ],
             [
              0.6666666666666666,
              "#ed7953"
             ],
             [
              0.7777777777777778,
              "#fb9f3a"
             ],
             [
              0.8888888888888888,
              "#fdca26"
             ],
             [
              1,
              "#f0f921"
             ]
            ],
            "type": "histogram2dcontour"
           }
          ],
          "mesh3d": [
           {
            "colorbar": {
             "outlinewidth": 0,
             "ticks": ""
            },
            "type": "mesh3d"
           }
          ],
          "parcoords": [
           {
            "line": {
             "colorbar": {
              "outlinewidth": 0,
              "ticks": ""
             }
            },
            "type": "parcoords"
           }
          ],
          "pie": [
           {
            "automargin": true,
            "type": "pie"
           }
          ],
          "scatter": [
           {
            "fillpattern": {
             "fillmode": "overlay",
             "size": 10,
             "solidity": 0.2
            },
            "type": "scatter"
           }
          ],
          "scatter3d": [
           {
            "line": {
             "colorbar": {
              "outlinewidth": 0,
              "ticks": ""
             }
            },
            "marker": {
             "colorbar": {
              "outlinewidth": 0,
              "ticks": ""
             }
            },
            "type": "scatter3d"
           }
          ],
          "scattercarpet": [
           {
            "marker": {
             "colorbar": {
              "outlinewidth": 0,
              "ticks": ""
             }
            },
            "type": "scattercarpet"
           }
          ],
          "scattergeo": [
           {
            "marker": {
             "colorbar": {
              "outlinewidth": 0,
              "ticks": ""
             }
            },
            "type": "scattergeo"
           }
          ],
          "scattergl": [
           {
            "marker": {
             "colorbar": {
              "outlinewidth": 0,
              "ticks": ""
             }
            },
            "type": "scattergl"
           }
          ],
          "scattermapbox": [
           {
            "marker": {
             "colorbar": {
              "outlinewidth": 0,
              "ticks": ""
             }
            },
            "type": "scattermapbox"
           }
          ],
          "scatterpolar": [
           {
            "marker": {
             "colorbar": {
              "outlinewidth": 0,
              "ticks": ""
             }
            },
            "type": "scatterpolar"
           }
          ],
          "scatterpolargl": [
           {
            "marker": {
             "colorbar": {
              "outlinewidth": 0,
              "ticks": ""
             }
            },
            "type": "scatterpolargl"
           }
          ],
          "scatterternary": [
           {
            "marker": {
             "colorbar": {
              "outlinewidth": 0,
              "ticks": ""
             }
            },
            "type": "scatterternary"
           }
          ],
          "surface": [
           {
            "colorbar": {
             "outlinewidth": 0,
             "ticks": ""
            },
            "colorscale": [
             [
              0,
              "#0d0887"
             ],
             [
              0.1111111111111111,
              "#46039f"
             ],
             [
              0.2222222222222222,
              "#7201a8"
             ],
             [
              0.3333333333333333,
              "#9c179e"
             ],
             [
              0.4444444444444444,
              "#bd3786"
             ],
             [
              0.5555555555555556,
              "#d8576b"
             ],
             [
              0.6666666666666666,
              "#ed7953"
             ],
             [
              0.7777777777777778,
              "#fb9f3a"
             ],
             [
              0.8888888888888888,
              "#fdca26"
             ],
             [
              1,
              "#f0f921"
             ]
            ],
            "type": "surface"
           }
          ],
          "table": [
           {
            "cells": {
             "fill": {
              "color": "#EBF0F8"
             },
             "line": {
              "color": "white"
             }
            },
            "header": {
             "fill": {
              "color": "#C8D4E3"
             },
             "line": {
              "color": "white"
             }
            },
            "type": "table"
           }
          ]
         },
         "layout": {
          "annotationdefaults": {
           "arrowcolor": "#2a3f5f",
           "arrowhead": 0,
           "arrowwidth": 1
          },
          "autotypenumbers": "strict",
          "coloraxis": {
           "colorbar": {
            "outlinewidth": 0,
            "ticks": ""
           }
          },
          "colorscale": {
           "diverging": [
            [
             0,
             "#8e0152"
            ],
            [
             0.1,
             "#c51b7d"
            ],
            [
             0.2,
             "#de77ae"
            ],
            [
             0.3,
             "#f1b6da"
            ],
            [
             0.4,
             "#fde0ef"
            ],
            [
             0.5,
             "#f7f7f7"
            ],
            [
             0.6,
             "#e6f5d0"
            ],
            [
             0.7,
             "#b8e186"
            ],
            [
             0.8,
             "#7fbc41"
            ],
            [
             0.9,
             "#4d9221"
            ],
            [
             1,
             "#276419"
            ]
           ],
           "sequential": [
            [
             0,
             "#0d0887"
            ],
            [
             0.1111111111111111,
             "#46039f"
            ],
            [
             0.2222222222222222,
             "#7201a8"
            ],
            [
             0.3333333333333333,
             "#9c179e"
            ],
            [
             0.4444444444444444,
             "#bd3786"
            ],
            [
             0.5555555555555556,
             "#d8576b"
            ],
            [
             0.6666666666666666,
             "#ed7953"
            ],
            [
             0.7777777777777778,
             "#fb9f3a"
            ],
            [
             0.8888888888888888,
             "#fdca26"
            ],
            [
             1,
             "#f0f921"
            ]
           ],
           "sequentialminus": [
            [
             0,
             "#0d0887"
            ],
            [
             0.1111111111111111,
             "#46039f"
            ],
            [
             0.2222222222222222,
             "#7201a8"
            ],
            [
             0.3333333333333333,
             "#9c179e"
            ],
            [
             0.4444444444444444,
             "#bd3786"
            ],
            [
             0.5555555555555556,
             "#d8576b"
            ],
            [
             0.6666666666666666,
             "#ed7953"
            ],
            [
             0.7777777777777778,
             "#fb9f3a"
            ],
            [
             0.8888888888888888,
             "#fdca26"
            ],
            [
             1,
             "#f0f921"
            ]
           ]
          },
          "colorway": [
           "#636efa",
           "#EF553B",
           "#00cc96",
           "#ab63fa",
           "#FFA15A",
           "#19d3f3",
           "#FF6692",
           "#B6E880",
           "#FF97FF",
           "#FECB52"
          ],
          "font": {
           "color": "#2a3f5f"
          },
          "geo": {
           "bgcolor": "white",
           "lakecolor": "white",
           "landcolor": "#E5ECF6",
           "showlakes": true,
           "showland": true,
           "subunitcolor": "white"
          },
          "hoverlabel": {
           "align": "left"
          },
          "hovermode": "closest",
          "mapbox": {
           "style": "light"
          },
          "paper_bgcolor": "white",
          "plot_bgcolor": "#E5ECF6",
          "polar": {
           "angularaxis": {
            "gridcolor": "white",
            "linecolor": "white",
            "ticks": ""
           },
           "bgcolor": "#E5ECF6",
           "radialaxis": {
            "gridcolor": "white",
            "linecolor": "white",
            "ticks": ""
           }
          },
          "scene": {
           "xaxis": {
            "backgroundcolor": "#E5ECF6",
            "gridcolor": "white",
            "gridwidth": 2,
            "linecolor": "white",
            "showbackground": true,
            "ticks": "",
            "zerolinecolor": "white"
           },
           "yaxis": {
            "backgroundcolor": "#E5ECF6",
            "gridcolor": "white",
            "gridwidth": 2,
            "linecolor": "white",
            "showbackground": true,
            "ticks": "",
            "zerolinecolor": "white"
           },
           "zaxis": {
            "backgroundcolor": "#E5ECF6",
            "gridcolor": "white",
            "gridwidth": 2,
            "linecolor": "white",
            "showbackground": true,
            "ticks": "",
            "zerolinecolor": "white"
           }
          },
          "shapedefaults": {
           "line": {
            "color": "#2a3f5f"
           }
          },
          "ternary": {
           "aaxis": {
            "gridcolor": "white",
            "linecolor": "white",
            "ticks": ""
           },
           "baxis": {
            "gridcolor": "white",
            "linecolor": "white",
            "ticks": ""
           },
           "bgcolor": "#E5ECF6",
           "caxis": {
            "gridcolor": "white",
            "linecolor": "white",
            "ticks": ""
           }
          },
          "title": {
           "x": 0.05
          },
          "xaxis": {
           "automargin": true,
           "gridcolor": "white",
           "linecolor": "white",
           "ticks": "",
           "title": {
            "standoff": 15
           },
           "zerolinecolor": "white",
           "zerolinewidth": 2
          },
          "yaxis": {
           "automargin": true,
           "gridcolor": "white",
           "linecolor": "white",
           "ticks": "",
           "title": {
            "standoff": 15
           },
           "zerolinecolor": "white",
           "zerolinewidth": 2
          }
         }
        },
        "title": {
         "text": "Training and testing with self-learning and decreasing eps, using different n* values"
        },
        "width": 800,
        "xaxis": {
         "anchor": "y",
         "domain": [
          0,
          1
         ],
         "title": {
          "text": "Games played"
         }
        },
        "yaxis": {
         "anchor": "x",
         "domain": [
          0,
          1
         ],
         "title": {
          "text": "Mean reward"
         }
        }
       }
      }
     },
     "metadata": {},
     "output_type": "display_data"
    },
    {
     "data": {
      "application/vnd.plotly.v1+json": {
       "config": {
        "plotlyServerURL": "https://plot.ly"
       },
       "data": [
        {
         "hovertemplate": "variable=Mopt (n*=1)<br>Games played=%{x}<br>value=%{y}<extra></extra>",
         "legendgroup": "Mopt (n*=1)",
         "line": {
          "color": "#636efa",
          "dash": "solid"
         },
         "marker": {
          "symbol": "circle"
         },
         "mode": "lines",
         "name": "Mopt (n*=1)",
         "orientation": "v",
         "showlegend": true,
         "type": "scatter",
         "x": [
          250,
          500,
          750,
          1000,
          1250,
          1500,
          1750,
          2000,
          2250,
          2500,
          2750,
          3000,
          3250,
          3500,
          3750,
          4000,
          4250,
          4500,
          4750,
          5000,
          5250,
          5500,
          5750,
          6000,
          6250,
          6500,
          6750,
          7000,
          7250,
          7500,
          7750,
          8000,
          8250,
          8500,
          8750,
          9000,
          9250,
          9500,
          9750,
          10000,
          10250,
          10500,
          10750,
          11000,
          11250,
          11500,
          11750,
          12000,
          12250,
          12500,
          12750,
          13000,
          13250,
          13500,
          13750,
          14000,
          14250,
          14500,
          14750,
          15000,
          15250,
          15500,
          15750,
          16000,
          16250,
          16500,
          16750,
          17000,
          17250,
          17500,
          17750,
          18000,
          18250,
          18500,
          18750,
          19000,
          19250,
          19500,
          19750
         ],
         "xaxis": "x",
         "y": [
          -0.936,
          -0.884,
          -0.816,
          -0.788,
          -0.756,
          -0.656,
          -0.648,
          -0.612,
          -0.524,
          -0.42,
          -0.432,
          -0.364,
          -0.384,
          -0.324,
          -0.332,
          -0.252,
          -0.316,
          -0.212,
          -0.272,
          -0.204,
          -0.18,
          -0.112,
          -0.096,
          -0.16,
          -0.128,
          -0.084,
          -0.092,
          -0.1,
          -0.14,
          0.004,
          -0.1,
          -0.08,
          -0.092,
          -0.092,
          -0.096,
          -0.028,
          -0.004,
          0,
          -0.108,
          -0.092,
          -0.064,
          -0.02,
          -0.028,
          0.02,
          -0.076,
          0.02,
          -0.032,
          -0.116,
          -0.008,
          -0.04,
          -0.016,
          -0.032,
          -0.004,
          -0.064,
          0.004,
          -0.06,
          -0.024,
          0,
          -0.044,
          -0.04,
          0.04,
          -0.02,
          0,
          0.068,
          -0.064,
          -0.028,
          0.04,
          0.012,
          -0.08,
          0.028,
          -0.02,
          0.012,
          -0.012,
          -0.004,
          0.02,
          0.016,
          -0.036,
          -0.068,
          -0.016
         ],
         "yaxis": "y"
        },
        {
         "hovertemplate": "variable=Mopt (n*=16001)<br>Games played=%{x}<br>value=%{y}<extra></extra>",
         "legendgroup": "Mopt (n*=16001)",
         "line": {
          "color": "#EF553B",
          "dash": "solid"
         },
         "marker": {
          "symbol": "circle"
         },
         "mode": "lines",
         "name": "Mopt (n*=16001)",
         "orientation": "v",
         "showlegend": true,
         "type": "scatter",
         "x": [
          250,
          500,
          750,
          1000,
          1250,
          1500,
          1750,
          2000,
          2250,
          2500,
          2750,
          3000,
          3250,
          3500,
          3750,
          4000,
          4250,
          4500,
          4750,
          5000,
          5250,
          5500,
          5750,
          6000,
          6250,
          6500,
          6750,
          7000,
          7250,
          7500,
          7750,
          8000,
          8250,
          8500,
          8750,
          9000,
          9250,
          9500,
          9750,
          10000,
          10250,
          10500,
          10750,
          11000,
          11250,
          11500,
          11750,
          12000,
          12250,
          12500,
          12750,
          13000,
          13250,
          13500,
          13750,
          14000,
          14250,
          14500,
          14750,
          15000,
          15250,
          15500,
          15750,
          16000,
          16250,
          16500,
          16750,
          17000,
          17250,
          17500,
          17750,
          18000,
          18250,
          18500,
          18750,
          19000,
          19250,
          19500,
          19750
         ],
         "xaxis": "x",
         "y": [
          -0.94,
          -0.968,
          -0.96,
          -0.92,
          -0.936,
          -0.948,
          -0.952,
          -0.928,
          -0.94,
          -0.9,
          -0.928,
          -0.916,
          -0.964,
          -0.936,
          -0.932,
          -0.944,
          -0.944,
          -0.908,
          -0.936,
          -0.908,
          -0.92,
          -0.916,
          -0.908,
          -0.876,
          -0.896,
          -0.88,
          -0.912,
          -0.928,
          -0.848,
          -0.868,
          -0.876,
          -0.832,
          -0.808,
          -0.86,
          -0.856,
          -0.844,
          -0.86,
          -0.732,
          -0.828,
          -0.804,
          -0.796,
          -0.808,
          -0.78,
          -0.804,
          -0.736,
          -0.748,
          -0.692,
          -0.652,
          -0.736,
          -0.636,
          -0.58,
          -0.48,
          -0.524,
          -0.56,
          -0.476,
          -0.496,
          -0.464,
          -0.408,
          -0.492,
          -0.356,
          -0.316,
          -0.384,
          -0.328,
          -0.38,
          -0.316,
          -0.392,
          -0.212,
          -0.308,
          -0.276,
          -0.212,
          -0.288,
          -0.188,
          -0.196,
          -0.168,
          -0.136,
          -0.176,
          -0.136,
          -0.14,
          -0.052
         ],
         "yaxis": "y"
        },
        {
         "hovertemplate": "variable=Mopt (n*=24000)<br>Games played=%{x}<br>value=%{y}<extra></extra>",
         "legendgroup": "Mopt (n*=24000)",
         "line": {
          "color": "#00cc96",
          "dash": "solid"
         },
         "marker": {
          "symbol": "circle"
         },
         "mode": "lines",
         "name": "Mopt (n*=24000)",
         "orientation": "v",
         "showlegend": true,
         "type": "scatter",
         "x": [
          250,
          500,
          750,
          1000,
          1250,
          1500,
          1750,
          2000,
          2250,
          2500,
          2750,
          3000,
          3250,
          3500,
          3750,
          4000,
          4250,
          4500,
          4750,
          5000,
          5250,
          5500,
          5750,
          6000,
          6250,
          6500,
          6750,
          7000,
          7250,
          7500,
          7750,
          8000,
          8250,
          8500,
          8750,
          9000,
          9250,
          9500,
          9750,
          10000,
          10250,
          10500,
          10750,
          11000,
          11250,
          11500,
          11750,
          12000,
          12250,
          12500,
          12750,
          13000,
          13250,
          13500,
          13750,
          14000,
          14250,
          14500,
          14750,
          15000,
          15250,
          15500,
          15750,
          16000,
          16250,
          16500,
          16750,
          17000,
          17250,
          17500,
          17750,
          18000,
          18250,
          18500,
          18750,
          19000,
          19250,
          19500,
          19750
         ],
         "xaxis": "x",
         "y": [
          -0.964,
          -0.952,
          -0.98,
          -0.984,
          -0.984,
          -0.956,
          -0.948,
          -0.892,
          -0.944,
          -0.944,
          -0.944,
          -0.94,
          -0.964,
          -0.944,
          -0.936,
          -0.932,
          -0.948,
          -0.932,
          -0.932,
          -0.932,
          -0.94,
          -0.924,
          -0.968,
          -0.924,
          -0.936,
          -0.932,
          -0.928,
          -0.912,
          -0.932,
          -0.912,
          -0.924,
          -0.92,
          -0.888,
          -0.904,
          -0.928,
          -0.932,
          -0.912,
          -0.888,
          -0.912,
          -0.88,
          -0.9,
          -0.856,
          -0.916,
          -0.928,
          -0.876,
          -0.856,
          -0.836,
          -0.852,
          -0.836,
          -0.848,
          -0.816,
          -0.828,
          -0.804,
          -0.848,
          -0.836,
          -0.776,
          -0.808,
          -0.808,
          -0.792,
          -0.796,
          -0.796,
          -0.676,
          -0.688,
          -0.76,
          -0.68,
          -0.684,
          -0.656,
          -0.688,
          -0.656,
          -0.612,
          -0.56,
          -0.556,
          -0.52,
          -0.584,
          -0.584,
          -0.524,
          -0.524,
          -0.456,
          -0.448
         ],
         "yaxis": "y"
        },
        {
         "hovertemplate": "variable=Mopt (n*=32000)<br>Games played=%{x}<br>value=%{y}<extra></extra>",
         "legendgroup": "Mopt (n*=32000)",
         "line": {
          "color": "#ab63fa",
          "dash": "solid"
         },
         "marker": {
          "symbol": "circle"
         },
         "mode": "lines",
         "name": "Mopt (n*=32000)",
         "orientation": "v",
         "showlegend": true,
         "type": "scatter",
         "x": [
          250,
          500,
          750,
          1000,
          1250,
          1500,
          1750,
          2000,
          2250,
          2500,
          2750,
          3000,
          3250,
          3500,
          3750,
          4000,
          4250,
          4500,
          4750,
          5000,
          5250,
          5500,
          5750,
          6000,
          6250,
          6500,
          6750,
          7000,
          7250,
          7500,
          7750,
          8000,
          8250,
          8500,
          8750,
          9000,
          9250,
          9500,
          9750,
          10000,
          10250,
          10500,
          10750,
          11000,
          11250,
          11500,
          11750,
          12000,
          12250,
          12500,
          12750,
          13000,
          13250,
          13500,
          13750,
          14000,
          14250,
          14500,
          14750,
          15000,
          15250,
          15500,
          15750,
          16000,
          16250,
          16500,
          16750,
          17000,
          17250,
          17500,
          17750,
          18000,
          18250,
          18500,
          18750,
          19000,
          19250,
          19500,
          19750
         ],
         "xaxis": "x",
         "y": [
          -0.968,
          -0.924,
          -0.972,
          -0.952,
          -0.96,
          -0.928,
          -0.944,
          -0.924,
          -0.94,
          -0.932,
          -0.928,
          -0.888,
          -0.904,
          -0.908,
          -0.888,
          -0.932,
          -0.908,
          -0.904,
          -0.916,
          -0.928,
          -0.928,
          -0.932,
          -0.928,
          -0.904,
          -0.932,
          -0.904,
          -0.928,
          -0.912,
          -0.944,
          -0.912,
          -0.94,
          -0.944,
          -0.932,
          -0.912,
          -0.864,
          -0.928,
          -0.88,
          -0.912,
          -0.928,
          -0.908,
          -0.892,
          -0.884,
          -0.848,
          -0.872,
          -0.864,
          -0.908,
          -0.864,
          -0.904,
          -0.916,
          -0.848,
          -0.852,
          -0.864,
          -0.804,
          -0.808,
          -0.808,
          -0.832,
          -0.808,
          -0.84,
          -0.816,
          -0.824,
          -0.78,
          -0.792,
          -0.788,
          -0.804,
          -0.748,
          -0.748,
          -0.688,
          -0.68,
          -0.7,
          -0.736,
          -0.704,
          -0.676,
          -0.74,
          -0.78,
          -0.716,
          -0.672,
          -0.704,
          -0.684,
          -0.708
         ],
         "yaxis": "y"
        },
        {
         "hovertemplate": "variable=Mopt (n*=40000)<br>Games played=%{x}<br>value=%{y}<extra></extra>",
         "legendgroup": "Mopt (n*=40000)",
         "line": {
          "color": "#FFA15A",
          "dash": "solid"
         },
         "marker": {
          "symbol": "circle"
         },
         "mode": "lines",
         "name": "Mopt (n*=40000)",
         "orientation": "v",
         "showlegend": true,
         "type": "scatter",
         "x": [
          250,
          500,
          750,
          1000,
          1250,
          1500,
          1750,
          2000,
          2250,
          2500,
          2750,
          3000,
          3250,
          3500,
          3750,
          4000,
          4250,
          4500,
          4750,
          5000,
          5250,
          5500,
          5750,
          6000,
          6250,
          6500,
          6750,
          7000,
          7250,
          7500,
          7750,
          8000,
          8250,
          8500,
          8750,
          9000,
          9250,
          9500,
          9750,
          10000,
          10250,
          10500,
          10750,
          11000,
          11250,
          11500,
          11750,
          12000,
          12250,
          12500,
          12750,
          13000,
          13250,
          13500,
          13750,
          14000,
          14250,
          14500,
          14750,
          15000,
          15250,
          15500,
          15750,
          16000,
          16250,
          16500,
          16750,
          17000,
          17250,
          17500,
          17750,
          18000,
          18250,
          18500,
          18750,
          19000,
          19250,
          19500,
          19750
         ],
         "xaxis": "x",
         "y": [
          -0.996,
          -1,
          -1,
          -1,
          -0.984,
          -0.968,
          -0.94,
          -0.96,
          -0.952,
          -0.952,
          -0.98,
          -0.948,
          -0.948,
          -0.984,
          -0.968,
          -0.944,
          -0.944,
          -0.96,
          -0.96,
          -0.968,
          -0.972,
          -0.968,
          -0.976,
          -0.948,
          -0.936,
          -0.952,
          -0.94,
          -0.956,
          -0.952,
          -0.92,
          -0.936,
          -0.92,
          -0.944,
          -0.936,
          -0.96,
          -0.948,
          -0.932,
          -0.932,
          -0.924,
          -0.924,
          -0.932,
          -0.94,
          -0.932,
          -0.928,
          -0.94,
          -0.932,
          -0.892,
          -0.952,
          -0.872,
          -0.924,
          -0.924,
          -0.944,
          -0.896,
          -0.9,
          -0.872,
          -0.904,
          -0.848,
          -0.84,
          -0.888,
          -0.908,
          -0.888,
          -0.86,
          -0.916,
          -0.848,
          -0.868,
          -0.864,
          -0.856,
          -0.852,
          -0.848,
          -0.832,
          -0.856,
          -0.876,
          -0.844,
          -0.828,
          -0.864,
          -0.816,
          -0.852,
          -0.808,
          -0.828
         ],
         "yaxis": "y"
        },
        {
         "hovertemplate": "variable=Mopt (n*=8001)<br>Games played=%{x}<br>value=%{y}<extra></extra>",
         "legendgroup": "Mopt (n*=8001)",
         "line": {
          "color": "#19d3f3",
          "dash": "solid"
         },
         "marker": {
          "symbol": "circle"
         },
         "mode": "lines",
         "name": "Mopt (n*=8001)",
         "orientation": "v",
         "showlegend": true,
         "type": "scatter",
         "x": [
          250,
          500,
          750,
          1000,
          1250,
          1500,
          1750,
          2000,
          2250,
          2500,
          2750,
          3000,
          3250,
          3500,
          3750,
          4000,
          4250,
          4500,
          4750,
          5000,
          5250,
          5500,
          5750,
          6000,
          6250,
          6500,
          6750,
          7000,
          7250,
          7500,
          7750,
          8000,
          8250,
          8500,
          8750,
          9000,
          9250,
          9500,
          9750,
          10000,
          10250,
          10500,
          10750,
          11000,
          11250,
          11500,
          11750,
          12000,
          12250,
          12500,
          12750,
          13000,
          13250,
          13500,
          13750,
          14000,
          14250,
          14500,
          14750,
          15000,
          15250,
          15500,
          15750,
          16000,
          16250,
          16500,
          16750,
          17000,
          17250,
          17500,
          17750,
          18000,
          18250,
          18500,
          18750,
          19000,
          19250,
          19500,
          19750
         ],
         "xaxis": "x",
         "y": [
          -0.984,
          -0.98,
          -0.996,
          -0.992,
          -0.996,
          -0.98,
          -0.972,
          -0.992,
          -0.964,
          -0.96,
          -0.984,
          -0.964,
          -0.96,
          -0.936,
          -0.936,
          -0.896,
          -0.936,
          -0.924,
          -0.94,
          -0.892,
          -0.896,
          -0.852,
          -0.88,
          -0.848,
          -0.832,
          -0.768,
          -0.78,
          -0.784,
          -0.688,
          -0.636,
          -0.58,
          -0.62,
          -0.528,
          -0.524,
          -0.548,
          -0.448,
          -0.544,
          -0.48,
          -0.52,
          -0.452,
          -0.448,
          -0.46,
          -0.376,
          -0.42,
          -0.304,
          -0.296,
          -0.308,
          -0.308,
          -0.16,
          -0.216,
          -0.196,
          -0.236,
          -0.172,
          -0.164,
          -0.168,
          -0.168,
          -0.16,
          -0.076,
          -0.076,
          -0.112,
          -0.168,
          0,
          -0.016,
          -0.004,
          -0.048,
          -0.088,
          -0.024,
          -0.02,
          0.016,
          -0.12,
          0,
          -0.016,
          -0.072,
          -0.048,
          -0.052,
          -0.048,
          0.02,
          -0.024,
          0.032
         ],
         "yaxis": "y"
        }
       ],
       "layout": {
        "legend": {
         "title": {
          "text": "variable"
         },
         "tracegroupgap": 0
        },
        "margin": {
         "t": 60
        },
        "template": {
         "data": {
          "bar": [
           {
            "error_x": {
             "color": "#2a3f5f"
            },
            "error_y": {
             "color": "#2a3f5f"
            },
            "marker": {
             "line": {
              "color": "#E5ECF6",
              "width": 0.5
             },
             "pattern": {
              "fillmode": "overlay",
              "size": 10,
              "solidity": 0.2
             }
            },
            "type": "bar"
           }
          ],
          "barpolar": [
           {
            "marker": {
             "line": {
              "color": "#E5ECF6",
              "width": 0.5
             },
             "pattern": {
              "fillmode": "overlay",
              "size": 10,
              "solidity": 0.2
             }
            },
            "type": "barpolar"
           }
          ],
          "carpet": [
           {
            "aaxis": {
             "endlinecolor": "#2a3f5f",
             "gridcolor": "white",
             "linecolor": "white",
             "minorgridcolor": "white",
             "startlinecolor": "#2a3f5f"
            },
            "baxis": {
             "endlinecolor": "#2a3f5f",
             "gridcolor": "white",
             "linecolor": "white",
             "minorgridcolor": "white",
             "startlinecolor": "#2a3f5f"
            },
            "type": "carpet"
           }
          ],
          "choropleth": [
           {
            "colorbar": {
             "outlinewidth": 0,
             "ticks": ""
            },
            "type": "choropleth"
           }
          ],
          "contour": [
           {
            "colorbar": {
             "outlinewidth": 0,
             "ticks": ""
            },
            "colorscale": [
             [
              0,
              "#0d0887"
             ],
             [
              0.1111111111111111,
              "#46039f"
             ],
             [
              0.2222222222222222,
              "#7201a8"
             ],
             [
              0.3333333333333333,
              "#9c179e"
             ],
             [
              0.4444444444444444,
              "#bd3786"
             ],
             [
              0.5555555555555556,
              "#d8576b"
             ],
             [
              0.6666666666666666,
              "#ed7953"
             ],
             [
              0.7777777777777778,
              "#fb9f3a"
             ],
             [
              0.8888888888888888,
              "#fdca26"
             ],
             [
              1,
              "#f0f921"
             ]
            ],
            "type": "contour"
           }
          ],
          "contourcarpet": [
           {
            "colorbar": {
             "outlinewidth": 0,
             "ticks": ""
            },
            "type": "contourcarpet"
           }
          ],
          "heatmap": [
           {
            "colorbar": {
             "outlinewidth": 0,
             "ticks": ""
            },
            "colorscale": [
             [
              0,
              "#0d0887"
             ],
             [
              0.1111111111111111,
              "#46039f"
             ],
             [
              0.2222222222222222,
              "#7201a8"
             ],
             [
              0.3333333333333333,
              "#9c179e"
             ],
             [
              0.4444444444444444,
              "#bd3786"
             ],
             [
              0.5555555555555556,
              "#d8576b"
             ],
             [
              0.6666666666666666,
              "#ed7953"
             ],
             [
              0.7777777777777778,
              "#fb9f3a"
             ],
             [
              0.8888888888888888,
              "#fdca26"
             ],
             [
              1,
              "#f0f921"
             ]
            ],
            "type": "heatmap"
           }
          ],
          "heatmapgl": [
           {
            "colorbar": {
             "outlinewidth": 0,
             "ticks": ""
            },
            "colorscale": [
             [
              0,
              "#0d0887"
             ],
             [
              0.1111111111111111,
              "#46039f"
             ],
             [
              0.2222222222222222,
              "#7201a8"
             ],
             [
              0.3333333333333333,
              "#9c179e"
             ],
             [
              0.4444444444444444,
              "#bd3786"
             ],
             [
              0.5555555555555556,
              "#d8576b"
             ],
             [
              0.6666666666666666,
              "#ed7953"
             ],
             [
              0.7777777777777778,
              "#fb9f3a"
             ],
             [
              0.8888888888888888,
              "#fdca26"
             ],
             [
              1,
              "#f0f921"
             ]
            ],
            "type": "heatmapgl"
           }
          ],
          "histogram": [
           {
            "marker": {
             "pattern": {
              "fillmode": "overlay",
              "size": 10,
              "solidity": 0.2
             }
            },
            "type": "histogram"
           }
          ],
          "histogram2d": [
           {
            "colorbar": {
             "outlinewidth": 0,
             "ticks": ""
            },
            "colorscale": [
             [
              0,
              "#0d0887"
             ],
             [
              0.1111111111111111,
              "#46039f"
             ],
             [
              0.2222222222222222,
              "#7201a8"
             ],
             [
              0.3333333333333333,
              "#9c179e"
             ],
             [
              0.4444444444444444,
              "#bd3786"
             ],
             [
              0.5555555555555556,
              "#d8576b"
             ],
             [
              0.6666666666666666,
              "#ed7953"
             ],
             [
              0.7777777777777778,
              "#fb9f3a"
             ],
             [
              0.8888888888888888,
              "#fdca26"
             ],
             [
              1,
              "#f0f921"
             ]
            ],
            "type": "histogram2d"
           }
          ],
          "histogram2dcontour": [
           {
            "colorbar": {
             "outlinewidth": 0,
             "ticks": ""
            },
            "colorscale": [
             [
              0,
              "#0d0887"
             ],
             [
              0.1111111111111111,
              "#46039f"
             ],
             [
              0.2222222222222222,
              "#7201a8"
             ],
             [
              0.3333333333333333,
              "#9c179e"
             ],
             [
              0.4444444444444444,
              "#bd3786"
             ],
             [
              0.5555555555555556,
              "#d8576b"
             ],
             [
              0.6666666666666666,
              "#ed7953"
             ],
             [
              0.7777777777777778,
              "#fb9f3a"
             ],
             [
              0.8888888888888888,
              "#fdca26"
             ],
             [
              1,
              "#f0f921"
             ]
            ],
            "type": "histogram2dcontour"
           }
          ],
          "mesh3d": [
           {
            "colorbar": {
             "outlinewidth": 0,
             "ticks": ""
            },
            "type": "mesh3d"
           }
          ],
          "parcoords": [
           {
            "line": {
             "colorbar": {
              "outlinewidth": 0,
              "ticks": ""
             }
            },
            "type": "parcoords"
           }
          ],
          "pie": [
           {
            "automargin": true,
            "type": "pie"
           }
          ],
          "scatter": [
           {
            "fillpattern": {
             "fillmode": "overlay",
             "size": 10,
             "solidity": 0.2
            },
            "type": "scatter"
           }
          ],
          "scatter3d": [
           {
            "line": {
             "colorbar": {
              "outlinewidth": 0,
              "ticks": ""
             }
            },
            "marker": {
             "colorbar": {
              "outlinewidth": 0,
              "ticks": ""
             }
            },
            "type": "scatter3d"
           }
          ],
          "scattercarpet": [
           {
            "marker": {
             "colorbar": {
              "outlinewidth": 0,
              "ticks": ""
             }
            },
            "type": "scattercarpet"
           }
          ],
          "scattergeo": [
           {
            "marker": {
             "colorbar": {
              "outlinewidth": 0,
              "ticks": ""
             }
            },
            "type": "scattergeo"
           }
          ],
          "scattergl": [
           {
            "marker": {
             "colorbar": {
              "outlinewidth": 0,
              "ticks": ""
             }
            },
            "type": "scattergl"
           }
          ],
          "scattermapbox": [
           {
            "marker": {
             "colorbar": {
              "outlinewidth": 0,
              "ticks": ""
             }
            },
            "type": "scattermapbox"
           }
          ],
          "scatterpolar": [
           {
            "marker": {
             "colorbar": {
              "outlinewidth": 0,
              "ticks": ""
             }
            },
            "type": "scatterpolar"
           }
          ],
          "scatterpolargl": [
           {
            "marker": {
             "colorbar": {
              "outlinewidth": 0,
              "ticks": ""
             }
            },
            "type": "scatterpolargl"
           }
          ],
          "scatterternary": [
           {
            "marker": {
             "colorbar": {
              "outlinewidth": 0,
              "ticks": ""
             }
            },
            "type": "scatterternary"
           }
          ],
          "surface": [
           {
            "colorbar": {
             "outlinewidth": 0,
             "ticks": ""
            },
            "colorscale": [
             [
              0,
              "#0d0887"
             ],
             [
              0.1111111111111111,
              "#46039f"
             ],
             [
              0.2222222222222222,
              "#7201a8"
             ],
             [
              0.3333333333333333,
              "#9c179e"
             ],
             [
              0.4444444444444444,
              "#bd3786"
             ],
             [
              0.5555555555555556,
              "#d8576b"
             ],
             [
              0.6666666666666666,
              "#ed7953"
             ],
             [
              0.7777777777777778,
              "#fb9f3a"
             ],
             [
              0.8888888888888888,
              "#fdca26"
             ],
             [
              1,
              "#f0f921"
             ]
            ],
            "type": "surface"
           }
          ],
          "table": [
           {
            "cells": {
             "fill": {
              "color": "#EBF0F8"
             },
             "line": {
              "color": "white"
             }
            },
            "header": {
             "fill": {
              "color": "#C8D4E3"
             },
             "line": {
              "color": "white"
             }
            },
            "type": "table"
           }
          ]
         },
         "layout": {
          "annotationdefaults": {
           "arrowcolor": "#2a3f5f",
           "arrowhead": 0,
           "arrowwidth": 1
          },
          "autotypenumbers": "strict",
          "coloraxis": {
           "colorbar": {
            "outlinewidth": 0,
            "ticks": ""
           }
          },
          "colorscale": {
           "diverging": [
            [
             0,
             "#8e0152"
            ],
            [
             0.1,
             "#c51b7d"
            ],
            [
             0.2,
             "#de77ae"
            ],
            [
             0.3,
             "#f1b6da"
            ],
            [
             0.4,
             "#fde0ef"
            ],
            [
             0.5,
             "#f7f7f7"
            ],
            [
             0.6,
             "#e6f5d0"
            ],
            [
             0.7,
             "#b8e186"
            ],
            [
             0.8,
             "#7fbc41"
            ],
            [
             0.9,
             "#4d9221"
            ],
            [
             1,
             "#276419"
            ]
           ],
           "sequential": [
            [
             0,
             "#0d0887"
            ],
            [
             0.1111111111111111,
             "#46039f"
            ],
            [
             0.2222222222222222,
             "#7201a8"
            ],
            [
             0.3333333333333333,
             "#9c179e"
            ],
            [
             0.4444444444444444,
             "#bd3786"
            ],
            [
             0.5555555555555556,
             "#d8576b"
            ],
            [
             0.6666666666666666,
             "#ed7953"
            ],
            [
             0.7777777777777778,
             "#fb9f3a"
            ],
            [
             0.8888888888888888,
             "#fdca26"
            ],
            [
             1,
             "#f0f921"
            ]
           ],
           "sequentialminus": [
            [
             0,
             "#0d0887"
            ],
            [
             0.1111111111111111,
             "#46039f"
            ],
            [
             0.2222222222222222,
             "#7201a8"
            ],
            [
             0.3333333333333333,
             "#9c179e"
            ],
            [
             0.4444444444444444,
             "#bd3786"
            ],
            [
             0.5555555555555556,
             "#d8576b"
            ],
            [
             0.6666666666666666,
             "#ed7953"
            ],
            [
             0.7777777777777778,
             "#fb9f3a"
            ],
            [
             0.8888888888888888,
             "#fdca26"
            ],
            [
             1,
             "#f0f921"
            ]
           ]
          },
          "colorway": [
           "#636efa",
           "#EF553B",
           "#00cc96",
           "#ab63fa",
           "#FFA15A",
           "#19d3f3",
           "#FF6692",
           "#B6E880",
           "#FF97FF",
           "#FECB52"
          ],
          "font": {
           "color": "#2a3f5f"
          },
          "geo": {
           "bgcolor": "white",
           "lakecolor": "white",
           "landcolor": "#E5ECF6",
           "showlakes": true,
           "showland": true,
           "subunitcolor": "white"
          },
          "hoverlabel": {
           "align": "left"
          },
          "hovermode": "closest",
          "mapbox": {
           "style": "light"
          },
          "paper_bgcolor": "white",
          "plot_bgcolor": "#E5ECF6",
          "polar": {
           "angularaxis": {
            "gridcolor": "white",
            "linecolor": "white",
            "ticks": ""
           },
           "bgcolor": "#E5ECF6",
           "radialaxis": {
            "gridcolor": "white",
            "linecolor": "white",
            "ticks": ""
           }
          },
          "scene": {
           "xaxis": {
            "backgroundcolor": "#E5ECF6",
            "gridcolor": "white",
            "gridwidth": 2,
            "linecolor": "white",
            "showbackground": true,
            "ticks": "",
            "zerolinecolor": "white"
           },
           "yaxis": {
            "backgroundcolor": "#E5ECF6",
            "gridcolor": "white",
            "gridwidth": 2,
            "linecolor": "white",
            "showbackground": true,
            "ticks": "",
            "zerolinecolor": "white"
           },
           "zaxis": {
            "backgroundcolor": "#E5ECF6",
            "gridcolor": "white",
            "gridwidth": 2,
            "linecolor": "white",
            "showbackground": true,
            "ticks": "",
            "zerolinecolor": "white"
           }
          },
          "shapedefaults": {
           "line": {
            "color": "#2a3f5f"
           }
          },
          "ternary": {
           "aaxis": {
            "gridcolor": "white",
            "linecolor": "white",
            "ticks": ""
           },
           "baxis": {
            "gridcolor": "white",
            "linecolor": "white",
            "ticks": ""
           },
           "bgcolor": "#E5ECF6",
           "caxis": {
            "gridcolor": "white",
            "linecolor": "white",
            "ticks": ""
           }
          },
          "title": {
           "x": 0.05
          },
          "xaxis": {
           "automargin": true,
           "gridcolor": "white",
           "linecolor": "white",
           "ticks": "",
           "title": {
            "standoff": 15
           },
           "zerolinecolor": "white",
           "zerolinewidth": 2
          },
          "yaxis": {
           "automargin": true,
           "gridcolor": "white",
           "linecolor": "white",
           "ticks": "",
           "title": {
            "standoff": 15
           },
           "zerolinecolor": "white",
           "zerolinewidth": 2
          }
         }
        },
        "width": 800,
        "xaxis": {
         "anchor": "y",
         "domain": [
          0,
          1
         ],
         "title": {
          "text": "Games played"
         }
        },
        "yaxis": {
         "anchor": "x",
         "domain": [
          0,
          1
         ],
         "title": {
          "text": "Mopt"
         }
        }
       }
      }
     },
     "metadata": {},
     "output_type": "display_data"
    },
    {
     "data": {
      "application/vnd.plotly.v1+json": {
       "config": {
        "plotlyServerURL": "https://plot.ly"
       },
       "data": [
        {
         "hovertemplate": "variable=Mrand (n*=1)<br>Games played=%{x}<br>value=%{y}<extra></extra>",
         "legendgroup": "Mrand (n*=1)",
         "line": {
          "color": "#636efa",
          "dash": "solid"
         },
         "marker": {
          "symbol": "circle"
         },
         "mode": "lines",
         "name": "Mrand (n*=1)",
         "orientation": "v",
         "showlegend": true,
         "type": "scatter",
         "x": [
          250,
          500,
          750,
          1000,
          1250,
          1500,
          1750,
          2000,
          2250,
          2500,
          2750,
          3000,
          3250,
          3500,
          3750,
          4000,
          4250,
          4500,
          4750,
          5000,
          5250,
          5500,
          5750,
          6000,
          6250,
          6500,
          6750,
          7000,
          7250,
          7500,
          7750,
          8000,
          8250,
          8500,
          8750,
          9000,
          9250,
          9500,
          9750,
          10000,
          10250,
          10500,
          10750,
          11000,
          11250,
          11500,
          11750,
          12000,
          12250,
          12500,
          12750,
          13000,
          13250,
          13500,
          13750,
          14000,
          14250,
          14500,
          14750,
          15000,
          15250,
          15500,
          15750,
          16000,
          16250,
          16500,
          16750,
          17000,
          17250,
          17500,
          17750,
          18000,
          18250,
          18500,
          18750,
          19000,
          19250,
          19500,
          19750
         ],
         "xaxis": "x",
         "y": [
          0.804,
          0.812,
          0.888,
          0.956,
          0.92,
          0.976,
          0.952,
          0.976,
          0.968,
          0.996,
          0.988,
          0.972,
          0.996,
          0.984,
          0.98,
          0.976,
          0.976,
          0.98,
          0.956,
          0.992,
          0.996,
          1,
          0.992,
          1,
          0.984,
          0.988,
          0.996,
          0.992,
          0.996,
          0.984,
          0.988,
          0.996,
          0.98,
          1,
          0.996,
          1,
          0.996,
          1,
          0.996,
          0.996,
          1,
          0.988,
          1,
          0.992,
          0.992,
          0.996,
          0.992,
          0.992,
          1,
          1,
          0.992,
          0.984,
          0.988,
          0.996,
          0.996,
          1,
          0.988,
          0.992,
          0.984,
          0.988,
          0.992,
          0.988,
          0.996,
          1,
          1,
          0.996,
          0.996,
          0.992,
          0.996,
          0.996,
          0.996,
          1,
          0.992,
          0.996,
          0.996,
          0.98,
          0.992,
          0.996,
          0.988
         ],
         "yaxis": "y"
        },
        {
         "hovertemplate": "variable=Mrand (n*=16001)<br>Games played=%{x}<br>value=%{y}<extra></extra>",
         "legendgroup": "Mrand (n*=16001)",
         "line": {
          "color": "#EF553B",
          "dash": "solid"
         },
         "marker": {
          "symbol": "circle"
         },
         "mode": "lines",
         "name": "Mrand (n*=16001)",
         "orientation": "v",
         "showlegend": true,
         "type": "scatter",
         "x": [
          250,
          500,
          750,
          1000,
          1250,
          1500,
          1750,
          2000,
          2250,
          2500,
          2750,
          3000,
          3250,
          3500,
          3750,
          4000,
          4250,
          4500,
          4750,
          5000,
          5250,
          5500,
          5750,
          6000,
          6250,
          6500,
          6750,
          7000,
          7250,
          7500,
          7750,
          8000,
          8250,
          8500,
          8750,
          9000,
          9250,
          9500,
          9750,
          10000,
          10250,
          10500,
          10750,
          11000,
          11250,
          11500,
          11750,
          12000,
          12250,
          12500,
          12750,
          13000,
          13250,
          13500,
          13750,
          14000,
          14250,
          14500,
          14750,
          15000,
          15250,
          15500,
          15750,
          16000,
          16250,
          16500,
          16750,
          17000,
          17250,
          17500,
          17750,
          18000,
          18250,
          18500,
          18750,
          19000,
          19250,
          19500,
          19750
         ],
         "xaxis": "x",
         "y": [
          0.696,
          0.792,
          0.792,
          0.836,
          0.86,
          0.848,
          0.892,
          0.876,
          0.88,
          0.908,
          0.924,
          0.924,
          0.948,
          0.936,
          0.932,
          0.944,
          0.928,
          0.96,
          0.94,
          0.924,
          0.952,
          0.94,
          0.964,
          0.98,
          0.976,
          0.956,
          0.992,
          0.984,
          0.964,
          0.972,
          0.98,
          0.992,
          0.976,
          0.976,
          0.98,
          0.976,
          0.964,
          0.984,
          0.984,
          0.972,
          0.988,
          0.992,
          0.984,
          0.988,
          0.972,
          0.976,
          0.992,
          0.996,
          0.984,
          1,
          0.988,
          1,
          0.988,
          1,
          0.992,
          0.984,
          0.988,
          0.988,
          0.988,
          0.992,
          0.996,
          0.984,
          0.992,
          0.992,
          0.996,
          0.98,
          1,
          1,
          0.988,
          0.996,
          1,
          0.996,
          0.988,
          1,
          0.996,
          0.98,
          0.972,
          1,
          0.992
         ],
         "yaxis": "y"
        },
        {
         "hovertemplate": "variable=Mrand (n*=24000)<br>Games played=%{x}<br>value=%{y}<extra></extra>",
         "legendgroup": "Mrand (n*=24000)",
         "line": {
          "color": "#00cc96",
          "dash": "solid"
         },
         "marker": {
          "symbol": "circle"
         },
         "mode": "lines",
         "name": "Mrand (n*=24000)",
         "orientation": "v",
         "showlegend": true,
         "type": "scatter",
         "x": [
          250,
          500,
          750,
          1000,
          1250,
          1500,
          1750,
          2000,
          2250,
          2500,
          2750,
          3000,
          3250,
          3500,
          3750,
          4000,
          4250,
          4500,
          4750,
          5000,
          5250,
          5500,
          5750,
          6000,
          6250,
          6500,
          6750,
          7000,
          7250,
          7500,
          7750,
          8000,
          8250,
          8500,
          8750,
          9000,
          9250,
          9500,
          9750,
          10000,
          10250,
          10500,
          10750,
          11000,
          11250,
          11500,
          11750,
          12000,
          12250,
          12500,
          12750,
          13000,
          13250,
          13500,
          13750,
          14000,
          14250,
          14500,
          14750,
          15000,
          15250,
          15500,
          15750,
          16000,
          16250,
          16500,
          16750,
          17000,
          17250,
          17500,
          17750,
          18000,
          18250,
          18500,
          18750,
          19000,
          19250,
          19500,
          19750
         ],
         "xaxis": "x",
         "y": [
          0.672,
          0.792,
          0.708,
          0.796,
          0.808,
          0.828,
          0.872,
          0.892,
          0.832,
          0.9,
          0.892,
          0.932,
          0.904,
          0.936,
          0.9,
          0.936,
          0.932,
          0.932,
          0.96,
          0.932,
          0.964,
          0.976,
          0.964,
          0.968,
          0.956,
          0.952,
          0.936,
          0.944,
          0.952,
          0.956,
          0.952,
          0.96,
          0.988,
          0.976,
          0.956,
          0.992,
          0.968,
          0.988,
          0.976,
          0.972,
          0.976,
          0.964,
          1,
          0.988,
          0.984,
          0.976,
          0.972,
          0.984,
          0.984,
          0.976,
          0.992,
          0.976,
          0.976,
          0.992,
          0.988,
          1,
          0.992,
          0.976,
          0.996,
          0.984,
          0.976,
          0.988,
          0.996,
          0.996,
          1,
          0.984,
          0.984,
          0.996,
          0.984,
          0.992,
          1,
          0.992,
          0.992,
          0.996,
          0.984,
          0.992,
          0.996,
          1,
          0.996
         ],
         "yaxis": "y"
        },
        {
         "hovertemplate": "variable=Mrand (n*=32000)<br>Games played=%{x}<br>value=%{y}<extra></extra>",
         "legendgroup": "Mrand (n*=32000)",
         "line": {
          "color": "#ab63fa",
          "dash": "solid"
         },
         "marker": {
          "symbol": "circle"
         },
         "mode": "lines",
         "name": "Mrand (n*=32000)",
         "orientation": "v",
         "showlegend": true,
         "type": "scatter",
         "x": [
          250,
          500,
          750,
          1000,
          1250,
          1500,
          1750,
          2000,
          2250,
          2500,
          2750,
          3000,
          3250,
          3500,
          3750,
          4000,
          4250,
          4500,
          4750,
          5000,
          5250,
          5500,
          5750,
          6000,
          6250,
          6500,
          6750,
          7000,
          7250,
          7500,
          7750,
          8000,
          8250,
          8500,
          8750,
          9000,
          9250,
          9500,
          9750,
          10000,
          10250,
          10500,
          10750,
          11000,
          11250,
          11500,
          11750,
          12000,
          12250,
          12500,
          12750,
          13000,
          13250,
          13500,
          13750,
          14000,
          14250,
          14500,
          14750,
          15000,
          15250,
          15500,
          15750,
          16000,
          16250,
          16500,
          16750,
          17000,
          17250,
          17500,
          17750,
          18000,
          18250,
          18500,
          18750,
          19000,
          19250,
          19500,
          19750
         ],
         "xaxis": "x",
         "y": [
          0.644,
          0.708,
          0.74,
          0.776,
          0.804,
          0.804,
          0.872,
          0.86,
          0.88,
          0.888,
          0.892,
          0.896,
          0.928,
          0.924,
          0.908,
          0.952,
          0.956,
          0.936,
          0.94,
          0.948,
          0.944,
          0.944,
          0.952,
          0.96,
          0.944,
          0.96,
          0.964,
          0.964,
          0.964,
          0.964,
          0.988,
          0.968,
          0.96,
          0.972,
          0.988,
          0.984,
          0.976,
          0.98,
          0.976,
          0.988,
          0.984,
          0.976,
          0.976,
          0.976,
          0.992,
          0.992,
          0.984,
          0.988,
          0.976,
          0.992,
          0.976,
          0.976,
          0.968,
          0.988,
          0.984,
          0.98,
          0.992,
          0.98,
          0.988,
          0.996,
          0.996,
          0.988,
          0.992,
          0.992,
          0.988,
          0.992,
          0.992,
          0.996,
          0.984,
          1,
          0.988,
          0.996,
          0.984,
          0.98,
          0.98,
          0.996,
          0.984,
          0.992,
          0.988
         ],
         "yaxis": "y"
        },
        {
         "hovertemplate": "variable=Mrand (n*=40000)<br>Games played=%{x}<br>value=%{y}<extra></extra>",
         "legendgroup": "Mrand (n*=40000)",
         "line": {
          "color": "#FFA15A",
          "dash": "solid"
         },
         "marker": {
          "symbol": "circle"
         },
         "mode": "lines",
         "name": "Mrand (n*=40000)",
         "orientation": "v",
         "showlegend": true,
         "type": "scatter",
         "x": [
          250,
          500,
          750,
          1000,
          1250,
          1500,
          1750,
          2000,
          2250,
          2500,
          2750,
          3000,
          3250,
          3500,
          3750,
          4000,
          4250,
          4500,
          4750,
          5000,
          5250,
          5500,
          5750,
          6000,
          6250,
          6500,
          6750,
          7000,
          7250,
          7500,
          7750,
          8000,
          8250,
          8500,
          8750,
          9000,
          9250,
          9500,
          9750,
          10000,
          10250,
          10500,
          10750,
          11000,
          11250,
          11500,
          11750,
          12000,
          12250,
          12500,
          12750,
          13000,
          13250,
          13500,
          13750,
          14000,
          14250,
          14500,
          14750,
          15000,
          15250,
          15500,
          15750,
          16000,
          16250,
          16500,
          16750,
          17000,
          17250,
          17500,
          17750,
          18000,
          18250,
          18500,
          18750,
          19000,
          19250,
          19500,
          19750
         ],
         "xaxis": "x",
         "y": [
          0.688,
          0.772,
          0.788,
          0.82,
          0.856,
          0.856,
          0.872,
          0.908,
          0.904,
          0.88,
          0.9,
          0.888,
          0.94,
          0.912,
          0.936,
          0.932,
          0.94,
          0.932,
          0.936,
          0.928,
          0.944,
          0.964,
          0.932,
          0.964,
          0.96,
          0.932,
          0.944,
          0.932,
          0.96,
          0.94,
          0.956,
          0.968,
          0.964,
          0.96,
          0.964,
          0.976,
          0.984,
          0.968,
          0.96,
          0.976,
          0.976,
          0.98,
          0.968,
          0.972,
          0.968,
          0.992,
          0.96,
          0.988,
          0.98,
          0.984,
          0.964,
          0.996,
          0.98,
          0.988,
          0.98,
          0.988,
          0.984,
          0.992,
          0.98,
          0.976,
          0.976,
          0.992,
          0.984,
          0.988,
          0.996,
          0.996,
          0.992,
          0.996,
          0.996,
          0.992,
          0.992,
          0.984,
          0.988,
          0.984,
          0.992,
          0.996,
          0.992,
          0.984,
          0.988
         ],
         "yaxis": "y"
        },
        {
         "hovertemplate": "variable=Mrand (n*=8001)<br>Games played=%{x}<br>value=%{y}<extra></extra>",
         "legendgroup": "Mrand (n*=8001)",
         "line": {
          "color": "#19d3f3",
          "dash": "solid"
         },
         "marker": {
          "symbol": "circle"
         },
         "mode": "lines",
         "name": "Mrand (n*=8001)",
         "orientation": "v",
         "showlegend": true,
         "type": "scatter",
         "x": [
          250,
          500,
          750,
          1000,
          1250,
          1500,
          1750,
          2000,
          2250,
          2500,
          2750,
          3000,
          3250,
          3500,
          3750,
          4000,
          4250,
          4500,
          4750,
          5000,
          5250,
          5500,
          5750,
          6000,
          6250,
          6500,
          6750,
          7000,
          7250,
          7500,
          7750,
          8000,
          8250,
          8500,
          8750,
          9000,
          9250,
          9500,
          9750,
          10000,
          10250,
          10500,
          10750,
          11000,
          11250,
          11500,
          11750,
          12000,
          12250,
          12500,
          12750,
          13000,
          13250,
          13500,
          13750,
          14000,
          14250,
          14500,
          14750,
          15000,
          15250,
          15500,
          15750,
          16000,
          16250,
          16500,
          16750,
          17000,
          17250,
          17500,
          17750,
          18000,
          18250,
          18500,
          18750,
          19000,
          19250,
          19500,
          19750
         ],
         "xaxis": "x",
         "y": [
          0.736,
          0.78,
          0.804,
          0.76,
          0.824,
          0.848,
          0.844,
          0.904,
          0.916,
          0.908,
          0.932,
          0.94,
          0.96,
          0.96,
          0.948,
          0.92,
          0.96,
          0.956,
          0.952,
          0.96,
          0.988,
          0.968,
          0.972,
          0.964,
          0.976,
          0.984,
          0.976,
          0.976,
          0.98,
          0.984,
          0.976,
          0.984,
          0.996,
          0.988,
          1,
          1,
          0.996,
          0.988,
          1,
          0.992,
          0.996,
          0.988,
          0.992,
          0.988,
          0.992,
          0.98,
          0.992,
          0.984,
          0.984,
          0.992,
          0.988,
          1,
          0.996,
          1,
          0.996,
          0.996,
          1,
          0.996,
          0.992,
          0.996,
          0.996,
          0.992,
          0.98,
          0.984,
          0.996,
          0.992,
          1,
          0.984,
          0.992,
          0.992,
          0.996,
          0.996,
          0.996,
          0.988,
          0.988,
          0.992,
          0.992,
          0.996,
          1
         ],
         "yaxis": "y"
        }
       ],
       "layout": {
        "legend": {
         "title": {
          "text": "variable"
         },
         "tracegroupgap": 0
        },
        "margin": {
         "t": 60
        },
        "template": {
         "data": {
          "bar": [
           {
            "error_x": {
             "color": "#2a3f5f"
            },
            "error_y": {
             "color": "#2a3f5f"
            },
            "marker": {
             "line": {
              "color": "#E5ECF6",
              "width": 0.5
             },
             "pattern": {
              "fillmode": "overlay",
              "size": 10,
              "solidity": 0.2
             }
            },
            "type": "bar"
           }
          ],
          "barpolar": [
           {
            "marker": {
             "line": {
              "color": "#E5ECF6",
              "width": 0.5
             },
             "pattern": {
              "fillmode": "overlay",
              "size": 10,
              "solidity": 0.2
             }
            },
            "type": "barpolar"
           }
          ],
          "carpet": [
           {
            "aaxis": {
             "endlinecolor": "#2a3f5f",
             "gridcolor": "white",
             "linecolor": "white",
             "minorgridcolor": "white",
             "startlinecolor": "#2a3f5f"
            },
            "baxis": {
             "endlinecolor": "#2a3f5f",
             "gridcolor": "white",
             "linecolor": "white",
             "minorgridcolor": "white",
             "startlinecolor": "#2a3f5f"
            },
            "type": "carpet"
           }
          ],
          "choropleth": [
           {
            "colorbar": {
             "outlinewidth": 0,
             "ticks": ""
            },
            "type": "choropleth"
           }
          ],
          "contour": [
           {
            "colorbar": {
             "outlinewidth": 0,
             "ticks": ""
            },
            "colorscale": [
             [
              0,
              "#0d0887"
             ],
             [
              0.1111111111111111,
              "#46039f"
             ],
             [
              0.2222222222222222,
              "#7201a8"
             ],
             [
              0.3333333333333333,
              "#9c179e"
             ],
             [
              0.4444444444444444,
              "#bd3786"
             ],
             [
              0.5555555555555556,
              "#d8576b"
             ],
             [
              0.6666666666666666,
              "#ed7953"
             ],
             [
              0.7777777777777778,
              "#fb9f3a"
             ],
             [
              0.8888888888888888,
              "#fdca26"
             ],
             [
              1,
              "#f0f921"
             ]
            ],
            "type": "contour"
           }
          ],
          "contourcarpet": [
           {
            "colorbar": {
             "outlinewidth": 0,
             "ticks": ""
            },
            "type": "contourcarpet"
           }
          ],
          "heatmap": [
           {
            "colorbar": {
             "outlinewidth": 0,
             "ticks": ""
            },
            "colorscale": [
             [
              0,
              "#0d0887"
             ],
             [
              0.1111111111111111,
              "#46039f"
             ],
             [
              0.2222222222222222,
              "#7201a8"
             ],
             [
              0.3333333333333333,
              "#9c179e"
             ],
             [
              0.4444444444444444,
              "#bd3786"
             ],
             [
              0.5555555555555556,
              "#d8576b"
             ],
             [
              0.6666666666666666,
              "#ed7953"
             ],
             [
              0.7777777777777778,
              "#fb9f3a"
             ],
             [
              0.8888888888888888,
              "#fdca26"
             ],
             [
              1,
              "#f0f921"
             ]
            ],
            "type": "heatmap"
           }
          ],
          "heatmapgl": [
           {
            "colorbar": {
             "outlinewidth": 0,
             "ticks": ""
            },
            "colorscale": [
             [
              0,
              "#0d0887"
             ],
             [
              0.1111111111111111,
              "#46039f"
             ],
             [
              0.2222222222222222,
              "#7201a8"
             ],
             [
              0.3333333333333333,
              "#9c179e"
             ],
             [
              0.4444444444444444,
              "#bd3786"
             ],
             [
              0.5555555555555556,
              "#d8576b"
             ],
             [
              0.6666666666666666,
              "#ed7953"
             ],
             [
              0.7777777777777778,
              "#fb9f3a"
             ],
             [
              0.8888888888888888,
              "#fdca26"
             ],
             [
              1,
              "#f0f921"
             ]
            ],
            "type": "heatmapgl"
           }
          ],
          "histogram": [
           {
            "marker": {
             "pattern": {
              "fillmode": "overlay",
              "size": 10,
              "solidity": 0.2
             }
            },
            "type": "histogram"
           }
          ],
          "histogram2d": [
           {
            "colorbar": {
             "outlinewidth": 0,
             "ticks": ""
            },
            "colorscale": [
             [
              0,
              "#0d0887"
             ],
             [
              0.1111111111111111,
              "#46039f"
             ],
             [
              0.2222222222222222,
              "#7201a8"
             ],
             [
              0.3333333333333333,
              "#9c179e"
             ],
             [
              0.4444444444444444,
              "#bd3786"
             ],
             [
              0.5555555555555556,
              "#d8576b"
             ],
             [
              0.6666666666666666,
              "#ed7953"
             ],
             [
              0.7777777777777778,
              "#fb9f3a"
             ],
             [
              0.8888888888888888,
              "#fdca26"
             ],
             [
              1,
              "#f0f921"
             ]
            ],
            "type": "histogram2d"
           }
          ],
          "histogram2dcontour": [
           {
            "colorbar": {
             "outlinewidth": 0,
             "ticks": ""
            },
            "colorscale": [
             [
              0,
              "#0d0887"
             ],
             [
              0.1111111111111111,
              "#46039f"
             ],
             [
              0.2222222222222222,
              "#7201a8"
             ],
             [
              0.3333333333333333,
              "#9c179e"
             ],
             [
              0.4444444444444444,
              "#bd3786"
             ],
             [
              0.5555555555555556,
              "#d8576b"
             ],
             [
              0.6666666666666666,
              "#ed7953"
             ],
             [
              0.7777777777777778,
              "#fb9f3a"
             ],
             [
              0.8888888888888888,
              "#fdca26"
             ],
             [
              1,
              "#f0f921"
             ]
            ],
            "type": "histogram2dcontour"
           }
          ],
          "mesh3d": [
           {
            "colorbar": {
             "outlinewidth": 0,
             "ticks": ""
            },
            "type": "mesh3d"
           }
          ],
          "parcoords": [
           {
            "line": {
             "colorbar": {
              "outlinewidth": 0,
              "ticks": ""
             }
            },
            "type": "parcoords"
           }
          ],
          "pie": [
           {
            "automargin": true,
            "type": "pie"
           }
          ],
          "scatter": [
           {
            "fillpattern": {
             "fillmode": "overlay",
             "size": 10,
             "solidity": 0.2
            },
            "type": "scatter"
           }
          ],
          "scatter3d": [
           {
            "line": {
             "colorbar": {
              "outlinewidth": 0,
              "ticks": ""
             }
            },
            "marker": {
             "colorbar": {
              "outlinewidth": 0,
              "ticks": ""
             }
            },
            "type": "scatter3d"
           }
          ],
          "scattercarpet": [
           {
            "marker": {
             "colorbar": {
              "outlinewidth": 0,
              "ticks": ""
             }
            },
            "type": "scattercarpet"
           }
          ],
          "scattergeo": [
           {
            "marker": {
             "colorbar": {
              "outlinewidth": 0,
              "ticks": ""
             }
            },
            "type": "scattergeo"
           }
          ],
          "scattergl": [
           {
            "marker": {
             "colorbar": {
              "outlinewidth": 0,
              "ticks": ""
             }
            },
            "type": "scattergl"
           }
          ],
          "scattermapbox": [
           {
            "marker": {
             "colorbar": {
              "outlinewidth": 0,
              "ticks": ""
             }
            },
            "type": "scattermapbox"
           }
          ],
          "scatterpolar": [
           {
            "marker": {
             "colorbar": {
              "outlinewidth": 0,
              "ticks": ""
             }
            },
            "type": "scatterpolar"
           }
          ],
          "scatterpolargl": [
           {
            "marker": {
             "colorbar": {
              "outlinewidth": 0,
              "ticks": ""
             }
            },
            "type": "scatterpolargl"
           }
          ],
          "scatterternary": [
           {
            "marker": {
             "colorbar": {
              "outlinewidth": 0,
              "ticks": ""
             }
            },
            "type": "scatterternary"
           }
          ],
          "surface": [
           {
            "colorbar": {
             "outlinewidth": 0,
             "ticks": ""
            },
            "colorscale": [
             [
              0,
              "#0d0887"
             ],
             [
              0.1111111111111111,
              "#46039f"
             ],
             [
              0.2222222222222222,
              "#7201a8"
             ],
             [
              0.3333333333333333,
              "#9c179e"
             ],
             [
              0.4444444444444444,
              "#bd3786"
             ],
             [
              0.5555555555555556,
              "#d8576b"
             ],
             [
              0.6666666666666666,
              "#ed7953"
             ],
             [
              0.7777777777777778,
              "#fb9f3a"
             ],
             [
              0.8888888888888888,
              "#fdca26"
             ],
             [
              1,
              "#f0f921"
             ]
            ],
            "type": "surface"
           }
          ],
          "table": [
           {
            "cells": {
             "fill": {
              "color": "#EBF0F8"
             },
             "line": {
              "color": "white"
             }
            },
            "header": {
             "fill": {
              "color": "#C8D4E3"
             },
             "line": {
              "color": "white"
             }
            },
            "type": "table"
           }
          ]
         },
         "layout": {
          "annotationdefaults": {
           "arrowcolor": "#2a3f5f",
           "arrowhead": 0,
           "arrowwidth": 1
          },
          "autotypenumbers": "strict",
          "coloraxis": {
           "colorbar": {
            "outlinewidth": 0,
            "ticks": ""
           }
          },
          "colorscale": {
           "diverging": [
            [
             0,
             "#8e0152"
            ],
            [
             0.1,
             "#c51b7d"
            ],
            [
             0.2,
             "#de77ae"
            ],
            [
             0.3,
             "#f1b6da"
            ],
            [
             0.4,
             "#fde0ef"
            ],
            [
             0.5,
             "#f7f7f7"
            ],
            [
             0.6,
             "#e6f5d0"
            ],
            [
             0.7,
             "#b8e186"
            ],
            [
             0.8,
             "#7fbc41"
            ],
            [
             0.9,
             "#4d9221"
            ],
            [
             1,
             "#276419"
            ]
           ],
           "sequential": [
            [
             0,
             "#0d0887"
            ],
            [
             0.1111111111111111,
             "#46039f"
            ],
            [
             0.2222222222222222,
             "#7201a8"
            ],
            [
             0.3333333333333333,
             "#9c179e"
            ],
            [
             0.4444444444444444,
             "#bd3786"
            ],
            [
             0.5555555555555556,
             "#d8576b"
            ],
            [
             0.6666666666666666,
             "#ed7953"
            ],
            [
             0.7777777777777778,
             "#fb9f3a"
            ],
            [
             0.8888888888888888,
             "#fdca26"
            ],
            [
             1,
             "#f0f921"
            ]
           ],
           "sequentialminus": [
            [
             0,
             "#0d0887"
            ],
            [
             0.1111111111111111,
             "#46039f"
            ],
            [
             0.2222222222222222,
             "#7201a8"
            ],
            [
             0.3333333333333333,
             "#9c179e"
            ],
            [
             0.4444444444444444,
             "#bd3786"
            ],
            [
             0.5555555555555556,
             "#d8576b"
            ],
            [
             0.6666666666666666,
             "#ed7953"
            ],
            [
             0.7777777777777778,
             "#fb9f3a"
            ],
            [
             0.8888888888888888,
             "#fdca26"
            ],
            [
             1,
             "#f0f921"
            ]
           ]
          },
          "colorway": [
           "#636efa",
           "#EF553B",
           "#00cc96",
           "#ab63fa",
           "#FFA15A",
           "#19d3f3",
           "#FF6692",
           "#B6E880",
           "#FF97FF",
           "#FECB52"
          ],
          "font": {
           "color": "#2a3f5f"
          },
          "geo": {
           "bgcolor": "white",
           "lakecolor": "white",
           "landcolor": "#E5ECF6",
           "showlakes": true,
           "showland": true,
           "subunitcolor": "white"
          },
          "hoverlabel": {
           "align": "left"
          },
          "hovermode": "closest",
          "mapbox": {
           "style": "light"
          },
          "paper_bgcolor": "white",
          "plot_bgcolor": "#E5ECF6",
          "polar": {
           "angularaxis": {
            "gridcolor": "white",
            "linecolor": "white",
            "ticks": ""
           },
           "bgcolor": "#E5ECF6",
           "radialaxis": {
            "gridcolor": "white",
            "linecolor": "white",
            "ticks": ""
           }
          },
          "scene": {
           "xaxis": {
            "backgroundcolor": "#E5ECF6",
            "gridcolor": "white",
            "gridwidth": 2,
            "linecolor": "white",
            "showbackground": true,
            "ticks": "",
            "zerolinecolor": "white"
           },
           "yaxis": {
            "backgroundcolor": "#E5ECF6",
            "gridcolor": "white",
            "gridwidth": 2,
            "linecolor": "white",
            "showbackground": true,
            "ticks": "",
            "zerolinecolor": "white"
           },
           "zaxis": {
            "backgroundcolor": "#E5ECF6",
            "gridcolor": "white",
            "gridwidth": 2,
            "linecolor": "white",
            "showbackground": true,
            "ticks": "",
            "zerolinecolor": "white"
           }
          },
          "shapedefaults": {
           "line": {
            "color": "#2a3f5f"
           }
          },
          "ternary": {
           "aaxis": {
            "gridcolor": "white",
            "linecolor": "white",
            "ticks": ""
           },
           "baxis": {
            "gridcolor": "white",
            "linecolor": "white",
            "ticks": ""
           },
           "bgcolor": "#E5ECF6",
           "caxis": {
            "gridcolor": "white",
            "linecolor": "white",
            "ticks": ""
           }
          },
          "title": {
           "x": 0.05
          },
          "xaxis": {
           "automargin": true,
           "gridcolor": "white",
           "linecolor": "white",
           "ticks": "",
           "title": {
            "standoff": 15
           },
           "zerolinecolor": "white",
           "zerolinewidth": 2
          },
          "yaxis": {
           "automargin": true,
           "gridcolor": "white",
           "linecolor": "white",
           "ticks": "",
           "title": {
            "standoff": 15
           },
           "zerolinecolor": "white",
           "zerolinewidth": 2
          }
         }
        },
        "width": 800,
        "xaxis": {
         "anchor": "y",
         "domain": [
          0,
          1
         ],
         "title": {
          "text": "Games played"
         }
        },
        "yaxis": {
         "anchor": "x",
         "domain": [
          0,
          1
         ],
         "title": {
          "text": "Mrand"
         }
        }
       }
      }
     },
     "metadata": {},
     "output_type": "display_data"
    }
   ],
   "source": [
    "env = NimEnv()\n",
    "output = []\n",
    "n_star_values=np.linspace(1, 40000, 6)\n",
    "\n",
    "# redefining the parallelGames function for M_opt and M_rand configuration\n",
    "df1 = {'Games played':list(np.arange(1,20000//METRICS_FREQUENCY)*METRICS_FREQUENCY)}\n",
    "df2 = {'Games played':list(np.arange(1,20000//METRICS_FREQUENCY)*METRICS_FREQUENCY)}\n",
    "df3 = {'Games played':list(np.arange(1,20000//METRICS_FREQUENCY)*METRICS_FREQUENCY)}\n",
    "num_cores = mp.cpu_count()\n",
    "def parallelGames(n_star):\n",
    "    df1, df2, df3 = {}, {}, {}\n",
    "    metrics,_ = q_learning(env, num_games=20000, gamma=0.99, decreasing_eps=True,\n",
    "                                        n_star=n_star, verbose=False, test=True, self_learning=True)\n",
    "    df1[f\"Average reward (n*={n_star:.0f})\"] = metrics[0]\n",
    "    df2[f\"Mopt (n*={n_star:.0f})\"] = metrics[1]\n",
    "    df3[f\"Mrand (n*={n_star:.0f})\"] = metrics[2]\n",
    "    return df1, df2, df3\n",
    "dfs = Parallel(n_jobs=num_cores)(delayed(parallelGames)(n_star) for n_star in n_star_values)\n",
    "for d1,d2,d3 in dfs:\n",
    "    df1.update(d1)\n",
    "    df2.update(d2)\n",
    "    df3.update(d3)\n",
    "\n",
    "df1, df2, df3 = pd.DataFrame(df1), pd.DataFrame(df2), pd.DataFrame(df3)\n",
    "fig1 = px.line(df1, x='Games played', y=df1.columns.difference(['Games played']), title=\"Training and testing with self-learning and decreasing eps, using different n* values\")\n",
    "fig1.update_layout(width=800)\n",
    "fig1.update_yaxes(title_text = \"Mean reward\")\n",
    "fig2 = px.line(df2, x='Games played', y=df2.columns.difference(['Games played']))\n",
    "fig2.update_layout(width=800)\n",
    "fig2.update_yaxes(title_text = \"Mopt\")\n",
    "fig3 = px.line(df3, x='Games played', y=df3.columns.difference(['Games played']))\n",
    "fig3.update_layout(width=800)\n",
    "fig3.update_yaxes(title_text = \"Mrand\")\n",
    "fig1.show()\n",
    "fig2.show()\n",
    "fig3.show()"
   ]
  },
  {
   "cell_type": "markdown",
   "metadata": {
    "collapsed": false
   },
   "source": [
    "It doesn't seem to help"
   ]
  },
  {
   "cell_type": "markdown",
   "metadata": {
    "collapsed": false
   },
   "source": [
    "Question 9. What are the highest values of Mopt and Mrand that you could achieve after playing 20’000\n",
    "games?\n",
    "Question 10. For three board arrangements (i.e. states s), visualize Q-values of available actions (e.g.\n",
    "using heat maps). Does the result make sense? Did the agent learn the game well?"
   ]
  },
  {
   "cell_type": "code",
   "execution_count": 111,
   "metadata": {
    "collapsed": false,
    "pycharm": {
     "name": "#%%\n"
    }
   },
   "outputs": [
    {
     "data": {
      "application/vnd.plotly.v1+json": {
       "config": {
        "plotlyServerURL": "https://plot.ly"
       },
       "data": [
        {
         "hovertemplate": "variable=M_opt<br>Games played=%{x}<br>value=%{y}<extra></extra>",
         "legendgroup": "M_opt",
         "line": {
          "color": "#636efa",
          "dash": "solid"
         },
         "marker": {
          "symbol": "circle"
         },
         "mode": "lines",
         "name": "M_opt",
         "orientation": "v",
         "showlegend": true,
         "type": "scatter",
         "x": [
          250,
          500,
          750,
          1000,
          1250,
          1500,
          1750,
          2000,
          2250,
          2500,
          2750,
          3000,
          3250,
          3500,
          3750,
          4000,
          4250,
          4500,
          4750,
          5000,
          5250,
          5500,
          5750,
          6000,
          6250,
          6500,
          6750,
          7000,
          7250,
          7500,
          7750,
          8000,
          8250,
          8500,
          8750,
          9000,
          9250,
          9500,
          9750,
          10000,
          10250,
          10500,
          10750,
          11000,
          11250,
          11500,
          11750,
          12000,
          12250,
          12500,
          12750,
          13000,
          13250,
          13500,
          13750,
          14000,
          14250,
          14500,
          14750,
          15000,
          15250,
          15500,
          15750,
          16000,
          16250,
          16500,
          16750,
          17000,
          17250,
          17500,
          17750,
          18000,
          18250,
          18500,
          18750,
          19000,
          19250,
          19500,
          19750
         ],
         "xaxis": "x",
         "y": [
          -0.932,
          -0.904,
          -0.832,
          -0.74,
          -0.704,
          -0.636,
          -0.644,
          -0.644,
          -0.588,
          -0.484,
          -0.476,
          -0.456,
          -0.404,
          -0.46,
          -0.308,
          -0.26,
          -0.332,
          -0.276,
          -0.272,
          -0.272,
          -0.224,
          -0.124,
          -0.184,
          -0.176,
          -0.148,
          -0.192,
          -0.168,
          -0.132,
          -0.076,
          -0.188,
          -0.14,
          -0.096,
          -0.124,
          -0.104,
          -0.088,
          -0.096,
          -0.112,
          -0.024,
          -0.08,
          -0.104,
          -0.032,
          -0.012,
          -0.028,
          -0.088,
          -0.056,
          -0.08,
          0.004,
          -0.028,
          0.04,
          -0.024,
          -0.02,
          -0.032,
          0,
          -0.044,
          0.024,
          -0.044,
          -0.044,
          -0.056,
          -0.004,
          0.028,
          0.016,
          0.06,
          -0.096,
          -0.072,
          -0.06,
          -0.036,
          0.032,
          -0.04,
          -0.04,
          -0.052,
          0.004,
          0.004,
          0.068,
          -0.008,
          0.036,
          0.016,
          0,
          -0.012,
          0.044
         ],
         "yaxis": "y"
        },
        {
         "hovertemplate": "variable=M_rand<br>Games played=%{x}<br>value=%{y}<extra></extra>",
         "legendgroup": "M_rand",
         "line": {
          "color": "#EF553B",
          "dash": "solid"
         },
         "marker": {
          "symbol": "circle"
         },
         "mode": "lines",
         "name": "M_rand",
         "orientation": "v",
         "showlegend": true,
         "type": "scatter",
         "x": [
          250,
          500,
          750,
          1000,
          1250,
          1500,
          1750,
          2000,
          2250,
          2500,
          2750,
          3000,
          3250,
          3500,
          3750,
          4000,
          4250,
          4500,
          4750,
          5000,
          5250,
          5500,
          5750,
          6000,
          6250,
          6500,
          6750,
          7000,
          7250,
          7500,
          7750,
          8000,
          8250,
          8500,
          8750,
          9000,
          9250,
          9500,
          9750,
          10000,
          10250,
          10500,
          10750,
          11000,
          11250,
          11500,
          11750,
          12000,
          12250,
          12500,
          12750,
          13000,
          13250,
          13500,
          13750,
          14000,
          14250,
          14500,
          14750,
          15000,
          15250,
          15500,
          15750,
          16000,
          16250,
          16500,
          16750,
          17000,
          17250,
          17500,
          17750,
          18000,
          18250,
          18500,
          18750,
          19000,
          19250,
          19500,
          19750
         ],
         "xaxis": "x",
         "y": [
          0.816,
          0.868,
          0.88,
          0.924,
          0.952,
          0.964,
          0.96,
          0.976,
          0.976,
          0.964,
          0.984,
          0.972,
          0.984,
          0.992,
          0.992,
          0.996,
          1,
          0.996,
          0.984,
          1,
          0.988,
          0.992,
          0.992,
          0.984,
          0.996,
          0.996,
          0.996,
          0.984,
          0.996,
          0.988,
          0.984,
          0.996,
          0.992,
          0.992,
          0.992,
          1,
          0.992,
          0.992,
          0.992,
          0.996,
          0.992,
          0.992,
          0.988,
          0.992,
          0.996,
          0.996,
          0.98,
          0.996,
          0.992,
          1,
          1,
          1,
          1,
          0.996,
          1,
          1,
          1,
          0.996,
          1,
          0.988,
          0.996,
          0.996,
          1,
          0.996,
          0.996,
          0.992,
          1,
          0.98,
          1,
          1,
          0.996,
          0.992,
          0.996,
          0.996,
          1,
          1,
          1,
          0.996,
          1
         ],
         "yaxis": "y"
        },
        {
         "hovertemplate": "variable=Mean reward<br>Games played=%{x}<br>value=%{y}<extra></extra>",
         "legendgroup": "Mean reward",
         "line": {
          "color": "#00cc96",
          "dash": "solid"
         },
         "marker": {
          "symbol": "circle"
         },
         "mode": "lines",
         "name": "Mean reward",
         "orientation": "v",
         "showlegend": true,
         "type": "scatter",
         "x": [
          250,
          500,
          750,
          1000,
          1250,
          1500,
          1750,
          2000,
          2250,
          2500,
          2750,
          3000,
          3250,
          3500,
          3750,
          4000,
          4250,
          4500,
          4750,
          5000,
          5250,
          5500,
          5750,
          6000,
          6250,
          6500,
          6750,
          7000,
          7250,
          7500,
          7750,
          8000,
          8250,
          8500,
          8750,
          9000,
          9250,
          9500,
          9750,
          10000,
          10250,
          10500,
          10750,
          11000,
          11250,
          11500,
          11750,
          12000,
          12250,
          12500,
          12750,
          13000,
          13250,
          13500,
          13750,
          14000,
          14250,
          14500,
          14750,
          15000,
          15250,
          15500,
          15750,
          16000,
          16250,
          16500,
          16750,
          17000,
          17250,
          17500,
          17750,
          18000,
          18250,
          18500,
          18750,
          19000,
          19250,
          19500,
          19750
         ],
         "xaxis": "x",
         "y": [
          0.00398406374501992,
          -0.136,
          -0.12,
          0.04,
          -0.088,
          -0.04,
          0.064,
          0.064,
          -0.104,
          -0.024,
          0.008,
          0.032,
          0.112,
          0.104,
          -0.12,
          0.016,
          -0.12,
          -0.016,
          0.088,
          0.008,
          0.024,
          0.024,
          0.056,
          0.104,
          0.04,
          -0.16,
          0.04,
          -0.008,
          0.064,
          -0.024,
          -0.048,
          -0.064,
          0,
          0.056,
          -0.032,
          -0.064,
          0.008,
          0.04,
          -0.064,
          0.064,
          0.064,
          -0.008,
          -0.072,
          -0.016,
          -0.024,
          -0.04,
          0.008,
          0.008,
          0.016,
          0.088,
          0,
          0.024,
          -0.032,
          -0.048,
          -0.064,
          0.048,
          0.008,
          0.056,
          -0.024,
          -0.056,
          0,
          0.032,
          0.096,
          0.184,
          -0.032,
          0.072,
          0,
          0.008,
          -0.032,
          -0.048,
          -0.048,
          0.08,
          -0.008,
          -0.008,
          -0.088,
          -0.032,
          0.056,
          -0.04,
          -0.104
         ],
         "yaxis": "y"
        }
       ],
       "layout": {
        "legend": {
         "title": {
          "text": "variable"
         },
         "tracegroupgap": 0
        },
        "template": {
         "data": {
          "bar": [
           {
            "error_x": {
             "color": "#2a3f5f"
            },
            "error_y": {
             "color": "#2a3f5f"
            },
            "marker": {
             "line": {
              "color": "#E5ECF6",
              "width": 0.5
             },
             "pattern": {
              "fillmode": "overlay",
              "size": 10,
              "solidity": 0.2
             }
            },
            "type": "bar"
           }
          ],
          "barpolar": [
           {
            "marker": {
             "line": {
              "color": "#E5ECF6",
              "width": 0.5
             },
             "pattern": {
              "fillmode": "overlay",
              "size": 10,
              "solidity": 0.2
             }
            },
            "type": "barpolar"
           }
          ],
          "carpet": [
           {
            "aaxis": {
             "endlinecolor": "#2a3f5f",
             "gridcolor": "white",
             "linecolor": "white",
             "minorgridcolor": "white",
             "startlinecolor": "#2a3f5f"
            },
            "baxis": {
             "endlinecolor": "#2a3f5f",
             "gridcolor": "white",
             "linecolor": "white",
             "minorgridcolor": "white",
             "startlinecolor": "#2a3f5f"
            },
            "type": "carpet"
           }
          ],
          "choropleth": [
           {
            "colorbar": {
             "outlinewidth": 0,
             "ticks": ""
            },
            "type": "choropleth"
           }
          ],
          "contour": [
           {
            "colorbar": {
             "outlinewidth": 0,
             "ticks": ""
            },
            "colorscale": [
             [
              0,
              "#0d0887"
             ],
             [
              0.1111111111111111,
              "#46039f"
             ],
             [
              0.2222222222222222,
              "#7201a8"
             ],
             [
              0.3333333333333333,
              "#9c179e"
             ],
             [
              0.4444444444444444,
              "#bd3786"
             ],
             [
              0.5555555555555556,
              "#d8576b"
             ],
             [
              0.6666666666666666,
              "#ed7953"
             ],
             [
              0.7777777777777778,
              "#fb9f3a"
             ],
             [
              0.8888888888888888,
              "#fdca26"
             ],
             [
              1,
              "#f0f921"
             ]
            ],
            "type": "contour"
           }
          ],
          "contourcarpet": [
           {
            "colorbar": {
             "outlinewidth": 0,
             "ticks": ""
            },
            "type": "contourcarpet"
           }
          ],
          "heatmap": [
           {
            "colorbar": {
             "outlinewidth": 0,
             "ticks": ""
            },
            "colorscale": [
             [
              0,
              "#0d0887"
             ],
             [
              0.1111111111111111,
              "#46039f"
             ],
             [
              0.2222222222222222,
              "#7201a8"
             ],
             [
              0.3333333333333333,
              "#9c179e"
             ],
             [
              0.4444444444444444,
              "#bd3786"
             ],
             [
              0.5555555555555556,
              "#d8576b"
             ],
             [
              0.6666666666666666,
              "#ed7953"
             ],
             [
              0.7777777777777778,
              "#fb9f3a"
             ],
             [
              0.8888888888888888,
              "#fdca26"
             ],
             [
              1,
              "#f0f921"
             ]
            ],
            "type": "heatmap"
           }
          ],
          "heatmapgl": [
           {
            "colorbar": {
             "outlinewidth": 0,
             "ticks": ""
            },
            "colorscale": [
             [
              0,
              "#0d0887"
             ],
             [
              0.1111111111111111,
              "#46039f"
             ],
             [
              0.2222222222222222,
              "#7201a8"
             ],
             [
              0.3333333333333333,
              "#9c179e"
             ],
             [
              0.4444444444444444,
              "#bd3786"
             ],
             [
              0.5555555555555556,
              "#d8576b"
             ],
             [
              0.6666666666666666,
              "#ed7953"
             ],
             [
              0.7777777777777778,
              "#fb9f3a"
             ],
             [
              0.8888888888888888,
              "#fdca26"
             ],
             [
              1,
              "#f0f921"
             ]
            ],
            "type": "heatmapgl"
           }
          ],
          "histogram": [
           {
            "marker": {
             "pattern": {
              "fillmode": "overlay",
              "size": 10,
              "solidity": 0.2
             }
            },
            "type": "histogram"
           }
          ],
          "histogram2d": [
           {
            "colorbar": {
             "outlinewidth": 0,
             "ticks": ""
            },
            "colorscale": [
             [
              0,
              "#0d0887"
             ],
             [
              0.1111111111111111,
              "#46039f"
             ],
             [
              0.2222222222222222,
              "#7201a8"
             ],
             [
              0.3333333333333333,
              "#9c179e"
             ],
             [
              0.4444444444444444,
              "#bd3786"
             ],
             [
              0.5555555555555556,
              "#d8576b"
             ],
             [
              0.6666666666666666,
              "#ed7953"
             ],
             [
              0.7777777777777778,
              "#fb9f3a"
             ],
             [
              0.8888888888888888,
              "#fdca26"
             ],
             [
              1,
              "#f0f921"
             ]
            ],
            "type": "histogram2d"
           }
          ],
          "histogram2dcontour": [
           {
            "colorbar": {
             "outlinewidth": 0,
             "ticks": ""
            },
            "colorscale": [
             [
              0,
              "#0d0887"
             ],
             [
              0.1111111111111111,
              "#46039f"
             ],
             [
              0.2222222222222222,
              "#7201a8"
             ],
             [
              0.3333333333333333,
              "#9c179e"
             ],
             [
              0.4444444444444444,
              "#bd3786"
             ],
             [
              0.5555555555555556,
              "#d8576b"
             ],
             [
              0.6666666666666666,
              "#ed7953"
             ],
             [
              0.7777777777777778,
              "#fb9f3a"
             ],
             [
              0.8888888888888888,
              "#fdca26"
             ],
             [
              1,
              "#f0f921"
             ]
            ],
            "type": "histogram2dcontour"
           }
          ],
          "mesh3d": [
           {
            "colorbar": {
             "outlinewidth": 0,
             "ticks": ""
            },
            "type": "mesh3d"
           }
          ],
          "parcoords": [
           {
            "line": {
             "colorbar": {
              "outlinewidth": 0,
              "ticks": ""
             }
            },
            "type": "parcoords"
           }
          ],
          "pie": [
           {
            "automargin": true,
            "type": "pie"
           }
          ],
          "scatter": [
           {
            "fillpattern": {
             "fillmode": "overlay",
             "size": 10,
             "solidity": 0.2
            },
            "type": "scatter"
           }
          ],
          "scatter3d": [
           {
            "line": {
             "colorbar": {
              "outlinewidth": 0,
              "ticks": ""
             }
            },
            "marker": {
             "colorbar": {
              "outlinewidth": 0,
              "ticks": ""
             }
            },
            "type": "scatter3d"
           }
          ],
          "scattercarpet": [
           {
            "marker": {
             "colorbar": {
              "outlinewidth": 0,
              "ticks": ""
             }
            },
            "type": "scattercarpet"
           }
          ],
          "scattergeo": [
           {
            "marker": {
             "colorbar": {
              "outlinewidth": 0,
              "ticks": ""
             }
            },
            "type": "scattergeo"
           }
          ],
          "scattergl": [
           {
            "marker": {
             "colorbar": {
              "outlinewidth": 0,
              "ticks": ""
             }
            },
            "type": "scattergl"
           }
          ],
          "scattermapbox": [
           {
            "marker": {
             "colorbar": {
              "outlinewidth": 0,
              "ticks": ""
             }
            },
            "type": "scattermapbox"
           }
          ],
          "scatterpolar": [
           {
            "marker": {
             "colorbar": {
              "outlinewidth": 0,
              "ticks": ""
             }
            },
            "type": "scatterpolar"
           }
          ],
          "scatterpolargl": [
           {
            "marker": {
             "colorbar": {
              "outlinewidth": 0,
              "ticks": ""
             }
            },
            "type": "scatterpolargl"
           }
          ],
          "scatterternary": [
           {
            "marker": {
             "colorbar": {
              "outlinewidth": 0,
              "ticks": ""
             }
            },
            "type": "scatterternary"
           }
          ],
          "surface": [
           {
            "colorbar": {
             "outlinewidth": 0,
             "ticks": ""
            },
            "colorscale": [
             [
              0,
              "#0d0887"
             ],
             [
              0.1111111111111111,
              "#46039f"
             ],
             [
              0.2222222222222222,
              "#7201a8"
             ],
             [
              0.3333333333333333,
              "#9c179e"
             ],
             [
              0.4444444444444444,
              "#bd3786"
             ],
             [
              0.5555555555555556,
              "#d8576b"
             ],
             [
              0.6666666666666666,
              "#ed7953"
             ],
             [
              0.7777777777777778,
              "#fb9f3a"
             ],
             [
              0.8888888888888888,
              "#fdca26"
             ],
             [
              1,
              "#f0f921"
             ]
            ],
            "type": "surface"
           }
          ],
          "table": [
           {
            "cells": {
             "fill": {
              "color": "#EBF0F8"
             },
             "line": {
              "color": "white"
             }
            },
            "header": {
             "fill": {
              "color": "#C8D4E3"
             },
             "line": {
              "color": "white"
             }
            },
            "type": "table"
           }
          ]
         },
         "layout": {
          "annotationdefaults": {
           "arrowcolor": "#2a3f5f",
           "arrowhead": 0,
           "arrowwidth": 1
          },
          "autotypenumbers": "strict",
          "coloraxis": {
           "colorbar": {
            "outlinewidth": 0,
            "ticks": ""
           }
          },
          "colorscale": {
           "diverging": [
            [
             0,
             "#8e0152"
            ],
            [
             0.1,
             "#c51b7d"
            ],
            [
             0.2,
             "#de77ae"
            ],
            [
             0.3,
             "#f1b6da"
            ],
            [
             0.4,
             "#fde0ef"
            ],
            [
             0.5,
             "#f7f7f7"
            ],
            [
             0.6,
             "#e6f5d0"
            ],
            [
             0.7,
             "#b8e186"
            ],
            [
             0.8,
             "#7fbc41"
            ],
            [
             0.9,
             "#4d9221"
            ],
            [
             1,
             "#276419"
            ]
           ],
           "sequential": [
            [
             0,
             "#0d0887"
            ],
            [
             0.1111111111111111,
             "#46039f"
            ],
            [
             0.2222222222222222,
             "#7201a8"
            ],
            [
             0.3333333333333333,
             "#9c179e"
            ],
            [
             0.4444444444444444,
             "#bd3786"
            ],
            [
             0.5555555555555556,
             "#d8576b"
            ],
            [
             0.6666666666666666,
             "#ed7953"
            ],
            [
             0.7777777777777778,
             "#fb9f3a"
            ],
            [
             0.8888888888888888,
             "#fdca26"
            ],
            [
             1,
             "#f0f921"
            ]
           ],
           "sequentialminus": [
            [
             0,
             "#0d0887"
            ],
            [
             0.1111111111111111,
             "#46039f"
            ],
            [
             0.2222222222222222,
             "#7201a8"
            ],
            [
             0.3333333333333333,
             "#9c179e"
            ],
            [
             0.4444444444444444,
             "#bd3786"
            ],
            [
             0.5555555555555556,
             "#d8576b"
            ],
            [
             0.6666666666666666,
             "#ed7953"
            ],
            [
             0.7777777777777778,
             "#fb9f3a"
            ],
            [
             0.8888888888888888,
             "#fdca26"
            ],
            [
             1,
             "#f0f921"
            ]
           ]
          },
          "colorway": [
           "#636efa",
           "#EF553B",
           "#00cc96",
           "#ab63fa",
           "#FFA15A",
           "#19d3f3",
           "#FF6692",
           "#B6E880",
           "#FF97FF",
           "#FECB52"
          ],
          "font": {
           "color": "#2a3f5f"
          },
          "geo": {
           "bgcolor": "white",
           "lakecolor": "white",
           "landcolor": "#E5ECF6",
           "showlakes": true,
           "showland": true,
           "subunitcolor": "white"
          },
          "hoverlabel": {
           "align": "left"
          },
          "hovermode": "closest",
          "mapbox": {
           "style": "light"
          },
          "paper_bgcolor": "white",
          "plot_bgcolor": "#E5ECF6",
          "polar": {
           "angularaxis": {
            "gridcolor": "white",
            "linecolor": "white",
            "ticks": ""
           },
           "bgcolor": "#E5ECF6",
           "radialaxis": {
            "gridcolor": "white",
            "linecolor": "white",
            "ticks": ""
           }
          },
          "scene": {
           "xaxis": {
            "backgroundcolor": "#E5ECF6",
            "gridcolor": "white",
            "gridwidth": 2,
            "linecolor": "white",
            "showbackground": true,
            "ticks": "",
            "zerolinecolor": "white"
           },
           "yaxis": {
            "backgroundcolor": "#E5ECF6",
            "gridcolor": "white",
            "gridwidth": 2,
            "linecolor": "white",
            "showbackground": true,
            "ticks": "",
            "zerolinecolor": "white"
           },
           "zaxis": {
            "backgroundcolor": "#E5ECF6",
            "gridcolor": "white",
            "gridwidth": 2,
            "linecolor": "white",
            "showbackground": true,
            "ticks": "",
            "zerolinecolor": "white"
           }
          },
          "shapedefaults": {
           "line": {
            "color": "#2a3f5f"
           }
          },
          "ternary": {
           "aaxis": {
            "gridcolor": "white",
            "linecolor": "white",
            "ticks": ""
           },
           "baxis": {
            "gridcolor": "white",
            "linecolor": "white",
            "ticks": ""
           },
           "bgcolor": "#E5ECF6",
           "caxis": {
            "gridcolor": "white",
            "linecolor": "white",
            "ticks": ""
           }
          },
          "title": {
           "x": 0.05
          },
          "xaxis": {
           "automargin": true,
           "gridcolor": "white",
           "linecolor": "white",
           "ticks": "",
           "title": {
            "standoff": 15
           },
           "zerolinecolor": "white",
           "zerolinewidth": 2
          },
          "yaxis": {
           "automargin": true,
           "gridcolor": "white",
           "linecolor": "white",
           "ticks": "",
           "title": {
            "standoff": 15
           },
           "zerolinecolor": "white",
           "zerolinewidth": 2
          }
         }
        },
        "title": {
         "text": "Training with self-learning"
        },
        "width": 600,
        "xaxis": {
         "anchor": "y",
         "domain": [
          0,
          1
         ],
         "title": {
          "text": "Games played"
         }
        },
        "yaxis": {
         "anchor": "x",
         "domain": [
          0,
          1
         ],
         "title": {
          "text": "Average reward"
         }
        }
       }
      }
     },
     "metadata": {},
     "output_type": "display_data"
    }
   ],
   "source": [
    "env = NimEnv()\n",
    "metrics,q_values = q_learning(env, num_games=20000, gamma=0.99, decreasing_eps=True,\n",
    "                                    n_star=1, verbose=False, test=True, self_learning=True)\n",
    "x = np.arange(1,len(metrics[0])+1)*METRICS_FREQUENCY\n",
    "df = {'Games played':list(x),\n",
    "    'Mean reward':metrics[0],\n",
    "    'M_opt':metrics[1],\n",
    "    'M_rand':metrics[2]}\n",
    "df = pd.DataFrame(df)\n",
    "fig = px.line(df,x='Games played', y=df.columns.difference(['Games played']), title=f'Training with self-learning')\n",
    "fig.update_layout(xaxis_title='Games played', yaxis_title='Average reward')\n",
    "fig.update_layout(width=600)\n",
    "fig.show()"
   ]
  },
  {
   "cell_type": "code",
   "execution_count": 124,
   "metadata": {
    "collapsed": false,
    "pycharm": {
     "name": "#%%\n"
    }
   },
   "outputs": [
    {
     "data": {
      "application/vnd.plotly.v1+json": {
       "config": {
        "plotlyServerURL": "https://plot.ly"
       },
       "data": [
        {
         "coloraxis": "coloraxis",
         "hovertemplate": "x: %{x}<br>y: %{y}<br>color: %{z}<extra></extra>",
         "name": "0",
         "type": "heatmap",
         "xaxis": "x",
         "yaxis": "y",
         "z": [
          [
           -0.46855900000000006
          ],
          [
           -0.19
          ],
          [
           -0.271
          ],
          [
           0.9999982838462669
          ]
         ]
        }
       ],
       "layout": {
        "coloraxis": {
         "colorscale": [
          [
           0,
           "rgb(0, 0, 0)"
          ],
          [
           0.09090909090909091,
           "rgb(16, 16, 16)"
          ],
          [
           0.18181818181818182,
           "rgb(38, 38, 38)"
          ],
          [
           0.2727272727272727,
           "rgb(59, 59, 59)"
          ],
          [
           0.36363636363636365,
           "rgb(81, 80, 80)"
          ],
          [
           0.45454545454545453,
           "rgb(102, 101, 101)"
          ],
          [
           0.5454545454545454,
           "rgb(124, 123, 122)"
          ],
          [
           0.6363636363636364,
           "rgb(146, 146, 145)"
          ],
          [
           0.7272727272727273,
           "rgb(171, 171, 170)"
          ],
          [
           0.8181818181818182,
           "rgb(197, 197, 195)"
          ],
          [
           0.9090909090909091,
           "rgb(224, 224, 223)"
          ],
          [
           1,
           "rgb(254, 254, 253)"
          ]
         ]
        },
        "height": 400,
        "template": {
         "data": {
          "bar": [
           {
            "error_x": {
             "color": "#2a3f5f"
            },
            "error_y": {
             "color": "#2a3f5f"
            },
            "marker": {
             "line": {
              "color": "#E5ECF6",
              "width": 0.5
             },
             "pattern": {
              "fillmode": "overlay",
              "size": 10,
              "solidity": 0.2
             }
            },
            "type": "bar"
           }
          ],
          "barpolar": [
           {
            "marker": {
             "line": {
              "color": "#E5ECF6",
              "width": 0.5
             },
             "pattern": {
              "fillmode": "overlay",
              "size": 10,
              "solidity": 0.2
             }
            },
            "type": "barpolar"
           }
          ],
          "carpet": [
           {
            "aaxis": {
             "endlinecolor": "#2a3f5f",
             "gridcolor": "white",
             "linecolor": "white",
             "minorgridcolor": "white",
             "startlinecolor": "#2a3f5f"
            },
            "baxis": {
             "endlinecolor": "#2a3f5f",
             "gridcolor": "white",
             "linecolor": "white",
             "minorgridcolor": "white",
             "startlinecolor": "#2a3f5f"
            },
            "type": "carpet"
           }
          ],
          "choropleth": [
           {
            "colorbar": {
             "outlinewidth": 0,
             "ticks": ""
            },
            "type": "choropleth"
           }
          ],
          "contour": [
           {
            "colorbar": {
             "outlinewidth": 0,
             "ticks": ""
            },
            "colorscale": [
             [
              0,
              "#0d0887"
             ],
             [
              0.1111111111111111,
              "#46039f"
             ],
             [
              0.2222222222222222,
              "#7201a8"
             ],
             [
              0.3333333333333333,
              "#9c179e"
             ],
             [
              0.4444444444444444,
              "#bd3786"
             ],
             [
              0.5555555555555556,
              "#d8576b"
             ],
             [
              0.6666666666666666,
              "#ed7953"
             ],
             [
              0.7777777777777778,
              "#fb9f3a"
             ],
             [
              0.8888888888888888,
              "#fdca26"
             ],
             [
              1,
              "#f0f921"
             ]
            ],
            "type": "contour"
           }
          ],
          "contourcarpet": [
           {
            "colorbar": {
             "outlinewidth": 0,
             "ticks": ""
            },
            "type": "contourcarpet"
           }
          ],
          "heatmap": [
           {
            "colorbar": {
             "outlinewidth": 0,
             "ticks": ""
            },
            "colorscale": [
             [
              0,
              "#0d0887"
             ],
             [
              0.1111111111111111,
              "#46039f"
             ],
             [
              0.2222222222222222,
              "#7201a8"
             ],
             [
              0.3333333333333333,
              "#9c179e"
             ],
             [
              0.4444444444444444,
              "#bd3786"
             ],
             [
              0.5555555555555556,
              "#d8576b"
             ],
             [
              0.6666666666666666,
              "#ed7953"
             ],
             [
              0.7777777777777778,
              "#fb9f3a"
             ],
             [
              0.8888888888888888,
              "#fdca26"
             ],
             [
              1,
              "#f0f921"
             ]
            ],
            "type": "heatmap"
           }
          ],
          "heatmapgl": [
           {
            "colorbar": {
             "outlinewidth": 0,
             "ticks": ""
            },
            "colorscale": [
             [
              0,
              "#0d0887"
             ],
             [
              0.1111111111111111,
              "#46039f"
             ],
             [
              0.2222222222222222,
              "#7201a8"
             ],
             [
              0.3333333333333333,
              "#9c179e"
             ],
             [
              0.4444444444444444,
              "#bd3786"
             ],
             [
              0.5555555555555556,
              "#d8576b"
             ],
             [
              0.6666666666666666,
              "#ed7953"
             ],
             [
              0.7777777777777778,
              "#fb9f3a"
             ],
             [
              0.8888888888888888,
              "#fdca26"
             ],
             [
              1,
              "#f0f921"
             ]
            ],
            "type": "heatmapgl"
           }
          ],
          "histogram": [
           {
            "marker": {
             "pattern": {
              "fillmode": "overlay",
              "size": 10,
              "solidity": 0.2
             }
            },
            "type": "histogram"
           }
          ],
          "histogram2d": [
           {
            "colorbar": {
             "outlinewidth": 0,
             "ticks": ""
            },
            "colorscale": [
             [
              0,
              "#0d0887"
             ],
             [
              0.1111111111111111,
              "#46039f"
             ],
             [
              0.2222222222222222,
              "#7201a8"
             ],
             [
              0.3333333333333333,
              "#9c179e"
             ],
             [
              0.4444444444444444,
              "#bd3786"
             ],
             [
              0.5555555555555556,
              "#d8576b"
             ],
             [
              0.6666666666666666,
              "#ed7953"
             ],
             [
              0.7777777777777778,
              "#fb9f3a"
             ],
             [
              0.8888888888888888,
              "#fdca26"
             ],
             [
              1,
              "#f0f921"
             ]
            ],
            "type": "histogram2d"
           }
          ],
          "histogram2dcontour": [
           {
            "colorbar": {
             "outlinewidth": 0,
             "ticks": ""
            },
            "colorscale": [
             [
              0,
              "#0d0887"
             ],
             [
              0.1111111111111111,
              "#46039f"
             ],
             [
              0.2222222222222222,
              "#7201a8"
             ],
             [
              0.3333333333333333,
              "#9c179e"
             ],
             [
              0.4444444444444444,
              "#bd3786"
             ],
             [
              0.5555555555555556,
              "#d8576b"
             ],
             [
              0.6666666666666666,
              "#ed7953"
             ],
             [
              0.7777777777777778,
              "#fb9f3a"
             ],
             [
              0.8888888888888888,
              "#fdca26"
             ],
             [
              1,
              "#f0f921"
             ]
            ],
            "type": "histogram2dcontour"
           }
          ],
          "mesh3d": [
           {
            "colorbar": {
             "outlinewidth": 0,
             "ticks": ""
            },
            "type": "mesh3d"
           }
          ],
          "parcoords": [
           {
            "line": {
             "colorbar": {
              "outlinewidth": 0,
              "ticks": ""
             }
            },
            "type": "parcoords"
           }
          ],
          "pie": [
           {
            "automargin": true,
            "type": "pie"
           }
          ],
          "scatter": [
           {
            "fillpattern": {
             "fillmode": "overlay",
             "size": 10,
             "solidity": 0.2
            },
            "type": "scatter"
           }
          ],
          "scatter3d": [
           {
            "line": {
             "colorbar": {
              "outlinewidth": 0,
              "ticks": ""
             }
            },
            "marker": {
             "colorbar": {
              "outlinewidth": 0,
              "ticks": ""
             }
            },
            "type": "scatter3d"
           }
          ],
          "scattercarpet": [
           {
            "marker": {
             "colorbar": {
              "outlinewidth": 0,
              "ticks": ""
             }
            },
            "type": "scattercarpet"
           }
          ],
          "scattergeo": [
           {
            "marker": {
             "colorbar": {
              "outlinewidth": 0,
              "ticks": ""
             }
            },
            "type": "scattergeo"
           }
          ],
          "scattergl": [
           {
            "marker": {
             "colorbar": {
              "outlinewidth": 0,
              "ticks": ""
             }
            },
            "type": "scattergl"
           }
          ],
          "scattermapbox": [
           {
            "marker": {
             "colorbar": {
              "outlinewidth": 0,
              "ticks": ""
             }
            },
            "type": "scattermapbox"
           }
          ],
          "scatterpolar": [
           {
            "marker": {
             "colorbar": {
              "outlinewidth": 0,
              "ticks": ""
             }
            },
            "type": "scatterpolar"
           }
          ],
          "scatterpolargl": [
           {
            "marker": {
             "colorbar": {
              "outlinewidth": 0,
              "ticks": ""
             }
            },
            "type": "scatterpolargl"
           }
          ],
          "scatterternary": [
           {
            "marker": {
             "colorbar": {
              "outlinewidth": 0,
              "ticks": ""
             }
            },
            "type": "scatterternary"
           }
          ],
          "surface": [
           {
            "colorbar": {
             "outlinewidth": 0,
             "ticks": ""
            },
            "colorscale": [
             [
              0,
              "#0d0887"
             ],
             [
              0.1111111111111111,
              "#46039f"
             ],
             [
              0.2222222222222222,
              "#7201a8"
             ],
             [
              0.3333333333333333,
              "#9c179e"
             ],
             [
              0.4444444444444444,
              "#bd3786"
             ],
             [
              0.5555555555555556,
              "#d8576b"
             ],
             [
              0.6666666666666666,
              "#ed7953"
             ],
             [
              0.7777777777777778,
              "#fb9f3a"
             ],
             [
              0.8888888888888888,
              "#fdca26"
             ],
             [
              1,
              "#f0f921"
             ]
            ],
            "type": "surface"
           }
          ],
          "table": [
           {
            "cells": {
             "fill": {
              "color": "#EBF0F8"
             },
             "line": {
              "color": "white"
             }
            },
            "header": {
             "fill": {
              "color": "#C8D4E3"
             },
             "line": {
              "color": "white"
             }
            },
            "type": "table"
           }
          ]
         },
         "layout": {
          "annotationdefaults": {
           "arrowcolor": "#2a3f5f",
           "arrowhead": 0,
           "arrowwidth": 1
          },
          "autotypenumbers": "strict",
          "coloraxis": {
           "colorbar": {
            "outlinewidth": 0,
            "ticks": ""
           }
          },
          "colorscale": {
           "diverging": [
            [
             0,
             "#8e0152"
            ],
            [
             0.1,
             "#c51b7d"
            ],
            [
             0.2,
             "#de77ae"
            ],
            [
             0.3,
             "#f1b6da"
            ],
            [
             0.4,
             "#fde0ef"
            ],
            [
             0.5,
             "#f7f7f7"
            ],
            [
             0.6,
             "#e6f5d0"
            ],
            [
             0.7,
             "#b8e186"
            ],
            [
             0.8,
             "#7fbc41"
            ],
            [
             0.9,
             "#4d9221"
            ],
            [
             1,
             "#276419"
            ]
           ],
           "sequential": [
            [
             0,
             "#0d0887"
            ],
            [
             0.1111111111111111,
             "#46039f"
            ],
            [
             0.2222222222222222,
             "#7201a8"
            ],
            [
             0.3333333333333333,
             "#9c179e"
            ],
            [
             0.4444444444444444,
             "#bd3786"
            ],
            [
             0.5555555555555556,
             "#d8576b"
            ],
            [
             0.6666666666666666,
             "#ed7953"
            ],
            [
             0.7777777777777778,
             "#fb9f3a"
            ],
            [
             0.8888888888888888,
             "#fdca26"
            ],
            [
             1,
             "#f0f921"
            ]
           ],
           "sequentialminus": [
            [
             0,
             "#0d0887"
            ],
            [
             0.1111111111111111,
             "#46039f"
            ],
            [
             0.2222222222222222,
             "#7201a8"
            ],
            [
             0.3333333333333333,
             "#9c179e"
            ],
            [
             0.4444444444444444,
             "#bd3786"
            ],
            [
             0.5555555555555556,
             "#d8576b"
            ],
            [
             0.6666666666666666,
             "#ed7953"
            ],
            [
             0.7777777777777778,
             "#fb9f3a"
            ],
            [
             0.8888888888888888,
             "#fdca26"
            ],
            [
             1,
             "#f0f921"
            ]
           ]
          },
          "colorway": [
           "#636efa",
           "#EF553B",
           "#00cc96",
           "#ab63fa",
           "#FFA15A",
           "#19d3f3",
           "#FF6692",
           "#B6E880",
           "#FF97FF",
           "#FECB52"
          ],
          "font": {
           "color": "#2a3f5f"
          },
          "geo": {
           "bgcolor": "white",
           "lakecolor": "white",
           "landcolor": "#E5ECF6",
           "showlakes": true,
           "showland": true,
           "subunitcolor": "white"
          },
          "hoverlabel": {
           "align": "left"
          },
          "hovermode": "closest",
          "mapbox": {
           "style": "light"
          },
          "paper_bgcolor": "white",
          "plot_bgcolor": "#E5ECF6",
          "polar": {
           "angularaxis": {
            "gridcolor": "white",
            "linecolor": "white",
            "ticks": ""
           },
           "bgcolor": "#E5ECF6",
           "radialaxis": {
            "gridcolor": "white",
            "linecolor": "white",
            "ticks": ""
           }
          },
          "scene": {
           "xaxis": {
            "backgroundcolor": "#E5ECF6",
            "gridcolor": "white",
            "gridwidth": 2,
            "linecolor": "white",
            "showbackground": true,
            "ticks": "",
            "zerolinecolor": "white"
           },
           "yaxis": {
            "backgroundcolor": "#E5ECF6",
            "gridcolor": "white",
            "gridwidth": 2,
            "linecolor": "white",
            "showbackground": true,
            "ticks": "",
            "zerolinecolor": "white"
           },
           "zaxis": {
            "backgroundcolor": "#E5ECF6",
            "gridcolor": "white",
            "gridwidth": 2,
            "linecolor": "white",
            "showbackground": true,
            "ticks": "",
            "zerolinecolor": "white"
           }
          },
          "shapedefaults": {
           "line": {
            "color": "#2a3f5f"
           }
          },
          "ternary": {
           "aaxis": {
            "gridcolor": "white",
            "linecolor": "white",
            "ticks": ""
           },
           "baxis": {
            "gridcolor": "white",
            "linecolor": "white",
            "ticks": ""
           },
           "bgcolor": "#E5ECF6",
           "caxis": {
            "gridcolor": "white",
            "linecolor": "white",
            "ticks": ""
           }
          },
          "title": {
           "x": 0.05
          },
          "xaxis": {
           "automargin": true,
           "gridcolor": "white",
           "linecolor": "white",
           "ticks": "",
           "title": {
            "standoff": 15
           },
           "zerolinecolor": "white",
           "zerolinewidth": 2
          },
          "yaxis": {
           "automargin": true,
           "gridcolor": "white",
           "linecolor": "white",
           "ticks": "",
           "title": {
            "standoff": 15
           },
           "zerolinecolor": "white",
           "zerolinewidth": 2
          }
         }
        },
        "title": {
         "text": "[4, 0, 0]"
        },
        "width": 400,
        "xaxis": {
         "anchor": "y",
         "constrain": "domain",
         "domain": [
          0,
          1
         ],
         "scaleanchor": "y"
        },
        "yaxis": {
         "anchor": "x",
         "autorange": "reversed",
         "constrain": "domain",
         "domain": [
          0,
          1
         ]
        }
       }
      }
     },
     "metadata": {},
     "output_type": "display_data"
    },
    {
     "data": {
      "application/vnd.plotly.v1+json": {
       "config": {
        "plotlyServerURL": "https://plot.ly"
       },
       "data": [
        {
         "coloraxis": "coloraxis",
         "hovertemplate": "x: %{x}<br>y: %{y}<br>color: %{z}<extra></extra>",
         "name": "0",
         "type": "heatmap",
         "xaxis": "x",
         "yaxis": "y",
         "z": [
          [
           -0.831641049134883
          ],
          [
           0.9899999999999991
          ],
          [
           -0.9936373145588641
          ]
         ]
        }
       ],
       "layout": {
        "coloraxis": {
         "colorscale": [
          [
           0,
           "rgb(0, 0, 0)"
          ],
          [
           0.09090909090909091,
           "rgb(16, 16, 16)"
          ],
          [
           0.18181818181818182,
           "rgb(38, 38, 38)"
          ],
          [
           0.2727272727272727,
           "rgb(59, 59, 59)"
          ],
          [
           0.36363636363636365,
           "rgb(81, 80, 80)"
          ],
          [
           0.45454545454545453,
           "rgb(102, 101, 101)"
          ],
          [
           0.5454545454545454,
           "rgb(124, 123, 122)"
          ],
          [
           0.6363636363636364,
           "rgb(146, 146, 145)"
          ],
          [
           0.7272727272727273,
           "rgb(171, 171, 170)"
          ],
          [
           0.8181818181818182,
           "rgb(197, 197, 195)"
          ],
          [
           0.9090909090909091,
           "rgb(224, 224, 223)"
          ],
          [
           1,
           "rgb(254, 254, 253)"
          ]
         ]
        },
        "height": 400,
        "template": {
         "data": {
          "bar": [
           {
            "error_x": {
             "color": "#2a3f5f"
            },
            "error_y": {
             "color": "#2a3f5f"
            },
            "marker": {
             "line": {
              "color": "#E5ECF6",
              "width": 0.5
             },
             "pattern": {
              "fillmode": "overlay",
              "size": 10,
              "solidity": 0.2
             }
            },
            "type": "bar"
           }
          ],
          "barpolar": [
           {
            "marker": {
             "line": {
              "color": "#E5ECF6",
              "width": 0.5
             },
             "pattern": {
              "fillmode": "overlay",
              "size": 10,
              "solidity": 0.2
             }
            },
            "type": "barpolar"
           }
          ],
          "carpet": [
           {
            "aaxis": {
             "endlinecolor": "#2a3f5f",
             "gridcolor": "white",
             "linecolor": "white",
             "minorgridcolor": "white",
             "startlinecolor": "#2a3f5f"
            },
            "baxis": {
             "endlinecolor": "#2a3f5f",
             "gridcolor": "white",
             "linecolor": "white",
             "minorgridcolor": "white",
             "startlinecolor": "#2a3f5f"
            },
            "type": "carpet"
           }
          ],
          "choropleth": [
           {
            "colorbar": {
             "outlinewidth": 0,
             "ticks": ""
            },
            "type": "choropleth"
           }
          ],
          "contour": [
           {
            "colorbar": {
             "outlinewidth": 0,
             "ticks": ""
            },
            "colorscale": [
             [
              0,
              "#0d0887"
             ],
             [
              0.1111111111111111,
              "#46039f"
             ],
             [
              0.2222222222222222,
              "#7201a8"
             ],
             [
              0.3333333333333333,
              "#9c179e"
             ],
             [
              0.4444444444444444,
              "#bd3786"
             ],
             [
              0.5555555555555556,
              "#d8576b"
             ],
             [
              0.6666666666666666,
              "#ed7953"
             ],
             [
              0.7777777777777778,
              "#fb9f3a"
             ],
             [
              0.8888888888888888,
              "#fdca26"
             ],
             [
              1,
              "#f0f921"
             ]
            ],
            "type": "contour"
           }
          ],
          "contourcarpet": [
           {
            "colorbar": {
             "outlinewidth": 0,
             "ticks": ""
            },
            "type": "contourcarpet"
           }
          ],
          "heatmap": [
           {
            "colorbar": {
             "outlinewidth": 0,
             "ticks": ""
            },
            "colorscale": [
             [
              0,
              "#0d0887"
             ],
             [
              0.1111111111111111,
              "#46039f"
             ],
             [
              0.2222222222222222,
              "#7201a8"
             ],
             [
              0.3333333333333333,
              "#9c179e"
             ],
             [
              0.4444444444444444,
              "#bd3786"
             ],
             [
              0.5555555555555556,
              "#d8576b"
             ],
             [
              0.6666666666666666,
              "#ed7953"
             ],
             [
              0.7777777777777778,
              "#fb9f3a"
             ],
             [
              0.8888888888888888,
              "#fdca26"
             ],
             [
              1,
              "#f0f921"
             ]
            ],
            "type": "heatmap"
           }
          ],
          "heatmapgl": [
           {
            "colorbar": {
             "outlinewidth": 0,
             "ticks": ""
            },
            "colorscale": [
             [
              0,
              "#0d0887"
             ],
             [
              0.1111111111111111,
              "#46039f"
             ],
             [
              0.2222222222222222,
              "#7201a8"
             ],
             [
              0.3333333333333333,
              "#9c179e"
             ],
             [
              0.4444444444444444,
              "#bd3786"
             ],
             [
              0.5555555555555556,
              "#d8576b"
             ],
             [
              0.6666666666666666,
              "#ed7953"
             ],
             [
              0.7777777777777778,
              "#fb9f3a"
             ],
             [
              0.8888888888888888,
              "#fdca26"
             ],
             [
              1,
              "#f0f921"
             ]
            ],
            "type": "heatmapgl"
           }
          ],
          "histogram": [
           {
            "marker": {
             "pattern": {
              "fillmode": "overlay",
              "size": 10,
              "solidity": 0.2
             }
            },
            "type": "histogram"
           }
          ],
          "histogram2d": [
           {
            "colorbar": {
             "outlinewidth": 0,
             "ticks": ""
            },
            "colorscale": [
             [
              0,
              "#0d0887"
             ],
             [
              0.1111111111111111,
              "#46039f"
             ],
             [
              0.2222222222222222,
              "#7201a8"
             ],
             [
              0.3333333333333333,
              "#9c179e"
             ],
             [
              0.4444444444444444,
              "#bd3786"
             ],
             [
              0.5555555555555556,
              "#d8576b"
             ],
             [
              0.6666666666666666,
              "#ed7953"
             ],
             [
              0.7777777777777778,
              "#fb9f3a"
             ],
             [
              0.8888888888888888,
              "#fdca26"
             ],
             [
              1,
              "#f0f921"
             ]
            ],
            "type": "histogram2d"
           }
          ],
          "histogram2dcontour": [
           {
            "colorbar": {
             "outlinewidth": 0,
             "ticks": ""
            },
            "colorscale": [
             [
              0,
              "#0d0887"
             ],
             [
              0.1111111111111111,
              "#46039f"
             ],
             [
              0.2222222222222222,
              "#7201a8"
             ],
             [
              0.3333333333333333,
              "#9c179e"
             ],
             [
              0.4444444444444444,
              "#bd3786"
             ],
             [
              0.5555555555555556,
              "#d8576b"
             ],
             [
              0.6666666666666666,
              "#ed7953"
             ],
             [
              0.7777777777777778,
              "#fb9f3a"
             ],
             [
              0.8888888888888888,
              "#fdca26"
             ],
             [
              1,
              "#f0f921"
             ]
            ],
            "type": "histogram2dcontour"
           }
          ],
          "mesh3d": [
           {
            "colorbar": {
             "outlinewidth": 0,
             "ticks": ""
            },
            "type": "mesh3d"
           }
          ],
          "parcoords": [
           {
            "line": {
             "colorbar": {
              "outlinewidth": 0,
              "ticks": ""
             }
            },
            "type": "parcoords"
           }
          ],
          "pie": [
           {
            "automargin": true,
            "type": "pie"
           }
          ],
          "scatter": [
           {
            "fillpattern": {
             "fillmode": "overlay",
             "size": 10,
             "solidity": 0.2
            },
            "type": "scatter"
           }
          ],
          "scatter3d": [
           {
            "line": {
             "colorbar": {
              "outlinewidth": 0,
              "ticks": ""
             }
            },
            "marker": {
             "colorbar": {
              "outlinewidth": 0,
              "ticks": ""
             }
            },
            "type": "scatter3d"
           }
          ],
          "scattercarpet": [
           {
            "marker": {
             "colorbar": {
              "outlinewidth": 0,
              "ticks": ""
             }
            },
            "type": "scattercarpet"
           }
          ],
          "scattergeo": [
           {
            "marker": {
             "colorbar": {
              "outlinewidth": 0,
              "ticks": ""
             }
            },
            "type": "scattergeo"
           }
          ],
          "scattergl": [
           {
            "marker": {
             "colorbar": {
              "outlinewidth": 0,
              "ticks": ""
             }
            },
            "type": "scattergl"
           }
          ],
          "scattermapbox": [
           {
            "marker": {
             "colorbar": {
              "outlinewidth": 0,
              "ticks": ""
             }
            },
            "type": "scattermapbox"
           }
          ],
          "scatterpolar": [
           {
            "marker": {
             "colorbar": {
              "outlinewidth": 0,
              "ticks": ""
             }
            },
            "type": "scatterpolar"
           }
          ],
          "scatterpolargl": [
           {
            "marker": {
             "colorbar": {
              "outlinewidth": 0,
              "ticks": ""
             }
            },
            "type": "scatterpolargl"
           }
          ],
          "scatterternary": [
           {
            "marker": {
             "colorbar": {
              "outlinewidth": 0,
              "ticks": ""
             }
            },
            "type": "scatterternary"
           }
          ],
          "surface": [
           {
            "colorbar": {
             "outlinewidth": 0,
             "ticks": ""
            },
            "colorscale": [
             [
              0,
              "#0d0887"
             ],
             [
              0.1111111111111111,
              "#46039f"
             ],
             [
              0.2222222222222222,
              "#7201a8"
             ],
             [
              0.3333333333333333,
              "#9c179e"
             ],
             [
              0.4444444444444444,
              "#bd3786"
             ],
             [
              0.5555555555555556,
              "#d8576b"
             ],
             [
              0.6666666666666666,
              "#ed7953"
             ],
             [
              0.7777777777777778,
              "#fb9f3a"
             ],
             [
              0.8888888888888888,
              "#fdca26"
             ],
             [
              1,
              "#f0f921"
             ]
            ],
            "type": "surface"
           }
          ],
          "table": [
           {
            "cells": {
             "fill": {
              "color": "#EBF0F8"
             },
             "line": {
              "color": "white"
             }
            },
            "header": {
             "fill": {
              "color": "#C8D4E3"
             },
             "line": {
              "color": "white"
             }
            },
            "type": "table"
           }
          ]
         },
         "layout": {
          "annotationdefaults": {
           "arrowcolor": "#2a3f5f",
           "arrowhead": 0,
           "arrowwidth": 1
          },
          "autotypenumbers": "strict",
          "coloraxis": {
           "colorbar": {
            "outlinewidth": 0,
            "ticks": ""
           }
          },
          "colorscale": {
           "diverging": [
            [
             0,
             "#8e0152"
            ],
            [
             0.1,
             "#c51b7d"
            ],
            [
             0.2,
             "#de77ae"
            ],
            [
             0.3,
             "#f1b6da"
            ],
            [
             0.4,
             "#fde0ef"
            ],
            [
             0.5,
             "#f7f7f7"
            ],
            [
             0.6,
             "#e6f5d0"
            ],
            [
             0.7,
             "#b8e186"
            ],
            [
             0.8,
             "#7fbc41"
            ],
            [
             0.9,
             "#4d9221"
            ],
            [
             1,
             "#276419"
            ]
           ],
           "sequential": [
            [
             0,
             "#0d0887"
            ],
            [
             0.1111111111111111,
             "#46039f"
            ],
            [
             0.2222222222222222,
             "#7201a8"
            ],
            [
             0.3333333333333333,
             "#9c179e"
            ],
            [
             0.4444444444444444,
             "#bd3786"
            ],
            [
             0.5555555555555556,
             "#d8576b"
            ],
            [
             0.6666666666666666,
             "#ed7953"
            ],
            [
             0.7777777777777778,
             "#fb9f3a"
            ],
            [
             0.8888888888888888,
             "#fdca26"
            ],
            [
             1,
             "#f0f921"
            ]
           ],
           "sequentialminus": [
            [
             0,
             "#0d0887"
            ],
            [
             0.1111111111111111,
             "#46039f"
            ],
            [
             0.2222222222222222,
             "#7201a8"
            ],
            [
             0.3333333333333333,
             "#9c179e"
            ],
            [
             0.4444444444444444,
             "#bd3786"
            ],
            [
             0.5555555555555556,
             "#d8576b"
            ],
            [
             0.6666666666666666,
             "#ed7953"
            ],
            [
             0.7777777777777778,
             "#fb9f3a"
            ],
            [
             0.8888888888888888,
             "#fdca26"
            ],
            [
             1,
             "#f0f921"
            ]
           ]
          },
          "colorway": [
           "#636efa",
           "#EF553B",
           "#00cc96",
           "#ab63fa",
           "#FFA15A",
           "#19d3f3",
           "#FF6692",
           "#B6E880",
           "#FF97FF",
           "#FECB52"
          ],
          "font": {
           "color": "#2a3f5f"
          },
          "geo": {
           "bgcolor": "white",
           "lakecolor": "white",
           "landcolor": "#E5ECF6",
           "showlakes": true,
           "showland": true,
           "subunitcolor": "white"
          },
          "hoverlabel": {
           "align": "left"
          },
          "hovermode": "closest",
          "mapbox": {
           "style": "light"
          },
          "paper_bgcolor": "white",
          "plot_bgcolor": "#E5ECF6",
          "polar": {
           "angularaxis": {
            "gridcolor": "white",
            "linecolor": "white",
            "ticks": ""
           },
           "bgcolor": "#E5ECF6",
           "radialaxis": {
            "gridcolor": "white",
            "linecolor": "white",
            "ticks": ""
           }
          },
          "scene": {
           "xaxis": {
            "backgroundcolor": "#E5ECF6",
            "gridcolor": "white",
            "gridwidth": 2,
            "linecolor": "white",
            "showbackground": true,
            "ticks": "",
            "zerolinecolor": "white"
           },
           "yaxis": {
            "backgroundcolor": "#E5ECF6",
            "gridcolor": "white",
            "gridwidth": 2,
            "linecolor": "white",
            "showbackground": true,
            "ticks": "",
            "zerolinecolor": "white"
           },
           "zaxis": {
            "backgroundcolor": "#E5ECF6",
            "gridcolor": "white",
            "gridwidth": 2,
            "linecolor": "white",
            "showbackground": true,
            "ticks": "",
            "zerolinecolor": "white"
           }
          },
          "shapedefaults": {
           "line": {
            "color": "#2a3f5f"
           }
          },
          "ternary": {
           "aaxis": {
            "gridcolor": "white",
            "linecolor": "white",
            "ticks": ""
           },
           "baxis": {
            "gridcolor": "white",
            "linecolor": "white",
            "ticks": ""
           },
           "bgcolor": "#E5ECF6",
           "caxis": {
            "gridcolor": "white",
            "linecolor": "white",
            "ticks": ""
           }
          },
          "title": {
           "x": 0.05
          },
          "xaxis": {
           "automargin": true,
           "gridcolor": "white",
           "linecolor": "white",
           "ticks": "",
           "title": {
            "standoff": 15
           },
           "zerolinecolor": "white",
           "zerolinewidth": 2
          },
          "yaxis": {
           "automargin": true,
           "gridcolor": "white",
           "linecolor": "white",
           "ticks": "",
           "title": {
            "standoff": 15
           },
           "zerolinecolor": "white",
           "zerolinewidth": 2
          }
         }
        },
        "title": {
         "text": "[1, 2, 0]"
        },
        "width": 400,
        "xaxis": {
         "anchor": "y",
         "constrain": "domain",
         "domain": [
          0,
          1
         ],
         "scaleanchor": "y"
        },
        "yaxis": {
         "anchor": "x",
         "autorange": "reversed",
         "constrain": "domain",
         "domain": [
          0,
          1
         ]
        }
       }
      }
     },
     "metadata": {},
     "output_type": "display_data"
    },
    {
     "data": {
      "application/vnd.plotly.v1+json": {
       "config": {
        "plotlyServerURL": "https://plot.ly"
       },
       "data": [
        {
         "coloraxis": "coloraxis",
         "hovertemplate": "x: %{x}<br>y: %{y}<br>color: %{z}<extra></extra>",
         "name": "0",
         "type": "heatmap",
         "xaxis": "x",
         "yaxis": "y",
         "z": [
          [
           -0.9999999999999996
          ],
          [
           -0.9999999999999996
          ]
         ]
        }
       ],
       "layout": {
        "coloraxis": {
         "colorscale": [
          [
           0,
           "rgb(0, 0, 0)"
          ],
          [
           0.09090909090909091,
           "rgb(16, 16, 16)"
          ],
          [
           0.18181818181818182,
           "rgb(38, 38, 38)"
          ],
          [
           0.2727272727272727,
           "rgb(59, 59, 59)"
          ],
          [
           0.36363636363636365,
           "rgb(81, 80, 80)"
          ],
          [
           0.45454545454545453,
           "rgb(102, 101, 101)"
          ],
          [
           0.5454545454545454,
           "rgb(124, 123, 122)"
          ],
          [
           0.6363636363636364,
           "rgb(146, 146, 145)"
          ],
          [
           0.7272727272727273,
           "rgb(171, 171, 170)"
          ],
          [
           0.8181818181818182,
           "rgb(197, 197, 195)"
          ],
          [
           0.9090909090909091,
           "rgb(224, 224, 223)"
          ],
          [
           1,
           "rgb(254, 254, 253)"
          ]
         ]
        },
        "height": 400,
        "template": {
         "data": {
          "bar": [
           {
            "error_x": {
             "color": "#2a3f5f"
            },
            "error_y": {
             "color": "#2a3f5f"
            },
            "marker": {
             "line": {
              "color": "#E5ECF6",
              "width": 0.5
             },
             "pattern": {
              "fillmode": "overlay",
              "size": 10,
              "solidity": 0.2
             }
            },
            "type": "bar"
           }
          ],
          "barpolar": [
           {
            "marker": {
             "line": {
              "color": "#E5ECF6",
              "width": 0.5
             },
             "pattern": {
              "fillmode": "overlay",
              "size": 10,
              "solidity": 0.2
             }
            },
            "type": "barpolar"
           }
          ],
          "carpet": [
           {
            "aaxis": {
             "endlinecolor": "#2a3f5f",
             "gridcolor": "white",
             "linecolor": "white",
             "minorgridcolor": "white",
             "startlinecolor": "#2a3f5f"
            },
            "baxis": {
             "endlinecolor": "#2a3f5f",
             "gridcolor": "white",
             "linecolor": "white",
             "minorgridcolor": "white",
             "startlinecolor": "#2a3f5f"
            },
            "type": "carpet"
           }
          ],
          "choropleth": [
           {
            "colorbar": {
             "outlinewidth": 0,
             "ticks": ""
            },
            "type": "choropleth"
           }
          ],
          "contour": [
           {
            "colorbar": {
             "outlinewidth": 0,
             "ticks": ""
            },
            "colorscale": [
             [
              0,
              "#0d0887"
             ],
             [
              0.1111111111111111,
              "#46039f"
             ],
             [
              0.2222222222222222,
              "#7201a8"
             ],
             [
              0.3333333333333333,
              "#9c179e"
             ],
             [
              0.4444444444444444,
              "#bd3786"
             ],
             [
              0.5555555555555556,
              "#d8576b"
             ],
             [
              0.6666666666666666,
              "#ed7953"
             ],
             [
              0.7777777777777778,
              "#fb9f3a"
             ],
             [
              0.8888888888888888,
              "#fdca26"
             ],
             [
              1,
              "#f0f921"
             ]
            ],
            "type": "contour"
           }
          ],
          "contourcarpet": [
           {
            "colorbar": {
             "outlinewidth": 0,
             "ticks": ""
            },
            "type": "contourcarpet"
           }
          ],
          "heatmap": [
           {
            "colorbar": {
             "outlinewidth": 0,
             "ticks": ""
            },
            "colorscale": [
             [
              0,
              "#0d0887"
             ],
             [
              0.1111111111111111,
              "#46039f"
             ],
             [
              0.2222222222222222,
              "#7201a8"
             ],
             [
              0.3333333333333333,
              "#9c179e"
             ],
             [
              0.4444444444444444,
              "#bd3786"
             ],
             [
              0.5555555555555556,
              "#d8576b"
             ],
             [
              0.6666666666666666,
              "#ed7953"
             ],
             [
              0.7777777777777778,
              "#fb9f3a"
             ],
             [
              0.8888888888888888,
              "#fdca26"
             ],
             [
              1,
              "#f0f921"
             ]
            ],
            "type": "heatmap"
           }
          ],
          "heatmapgl": [
           {
            "colorbar": {
             "outlinewidth": 0,
             "ticks": ""
            },
            "colorscale": [
             [
              0,
              "#0d0887"
             ],
             [
              0.1111111111111111,
              "#46039f"
             ],
             [
              0.2222222222222222,
              "#7201a8"
             ],
             [
              0.3333333333333333,
              "#9c179e"
             ],
             [
              0.4444444444444444,
              "#bd3786"
             ],
             [
              0.5555555555555556,
              "#d8576b"
             ],
             [
              0.6666666666666666,
              "#ed7953"
             ],
             [
              0.7777777777777778,
              "#fb9f3a"
             ],
             [
              0.8888888888888888,
              "#fdca26"
             ],
             [
              1,
              "#f0f921"
             ]
            ],
            "type": "heatmapgl"
           }
          ],
          "histogram": [
           {
            "marker": {
             "pattern": {
              "fillmode": "overlay",
              "size": 10,
              "solidity": 0.2
             }
            },
            "type": "histogram"
           }
          ],
          "histogram2d": [
           {
            "colorbar": {
             "outlinewidth": 0,
             "ticks": ""
            },
            "colorscale": [
             [
              0,
              "#0d0887"
             ],
             [
              0.1111111111111111,
              "#46039f"
             ],
             [
              0.2222222222222222,
              "#7201a8"
             ],
             [
              0.3333333333333333,
              "#9c179e"
             ],
             [
              0.4444444444444444,
              "#bd3786"
             ],
             [
              0.5555555555555556,
              "#d8576b"
             ],
             [
              0.6666666666666666,
              "#ed7953"
             ],
             [
              0.7777777777777778,
              "#fb9f3a"
             ],
             [
              0.8888888888888888,
              "#fdca26"
             ],
             [
              1,
              "#f0f921"
             ]
            ],
            "type": "histogram2d"
           }
          ],
          "histogram2dcontour": [
           {
            "colorbar": {
             "outlinewidth": 0,
             "ticks": ""
            },
            "colorscale": [
             [
              0,
              "#0d0887"
             ],
             [
              0.1111111111111111,
              "#46039f"
             ],
             [
              0.2222222222222222,
              "#7201a8"
             ],
             [
              0.3333333333333333,
              "#9c179e"
             ],
             [
              0.4444444444444444,
              "#bd3786"
             ],
             [
              0.5555555555555556,
              "#d8576b"
             ],
             [
              0.6666666666666666,
              "#ed7953"
             ],
             [
              0.7777777777777778,
              "#fb9f3a"
             ],
             [
              0.8888888888888888,
              "#fdca26"
             ],
             [
              1,
              "#f0f921"
             ]
            ],
            "type": "histogram2dcontour"
           }
          ],
          "mesh3d": [
           {
            "colorbar": {
             "outlinewidth": 0,
             "ticks": ""
            },
            "type": "mesh3d"
           }
          ],
          "parcoords": [
           {
            "line": {
             "colorbar": {
              "outlinewidth": 0,
              "ticks": ""
             }
            },
            "type": "parcoords"
           }
          ],
          "pie": [
           {
            "automargin": true,
            "type": "pie"
           }
          ],
          "scatter": [
           {
            "fillpattern": {
             "fillmode": "overlay",
             "size": 10,
             "solidity": 0.2
            },
            "type": "scatter"
           }
          ],
          "scatter3d": [
           {
            "line": {
             "colorbar": {
              "outlinewidth": 0,
              "ticks": ""
             }
            },
            "marker": {
             "colorbar": {
              "outlinewidth": 0,
              "ticks": ""
             }
            },
            "type": "scatter3d"
           }
          ],
          "scattercarpet": [
           {
            "marker": {
             "colorbar": {
              "outlinewidth": 0,
              "ticks": ""
             }
            },
            "type": "scattercarpet"
           }
          ],
          "scattergeo": [
           {
            "marker": {
             "colorbar": {
              "outlinewidth": 0,
              "ticks": ""
             }
            },
            "type": "scattergeo"
           }
          ],
          "scattergl": [
           {
            "marker": {
             "colorbar": {
              "outlinewidth": 0,
              "ticks": ""
             }
            },
            "type": "scattergl"
           }
          ],
          "scattermapbox": [
           {
            "marker": {
             "colorbar": {
              "outlinewidth": 0,
              "ticks": ""
             }
            },
            "type": "scattermapbox"
           }
          ],
          "scatterpolar": [
           {
            "marker": {
             "colorbar": {
              "outlinewidth": 0,
              "ticks": ""
             }
            },
            "type": "scatterpolar"
           }
          ],
          "scatterpolargl": [
           {
            "marker": {
             "colorbar": {
              "outlinewidth": 0,
              "ticks": ""
             }
            },
            "type": "scatterpolargl"
           }
          ],
          "scatterternary": [
           {
            "marker": {
             "colorbar": {
              "outlinewidth": 0,
              "ticks": ""
             }
            },
            "type": "scatterternary"
           }
          ],
          "surface": [
           {
            "colorbar": {
             "outlinewidth": 0,
             "ticks": ""
            },
            "colorscale": [
             [
              0,
              "#0d0887"
             ],
             [
              0.1111111111111111,
              "#46039f"
             ],
             [
              0.2222222222222222,
              "#7201a8"
             ],
             [
              0.3333333333333333,
              "#9c179e"
             ],
             [
              0.4444444444444444,
              "#bd3786"
             ],
             [
              0.5555555555555556,
              "#d8576b"
             ],
             [
              0.6666666666666666,
              "#ed7953"
             ],
             [
              0.7777777777777778,
              "#fb9f3a"
             ],
             [
              0.8888888888888888,
              "#fdca26"
             ],
             [
              1,
              "#f0f921"
             ]
            ],
            "type": "surface"
           }
          ],
          "table": [
           {
            "cells": {
             "fill": {
              "color": "#EBF0F8"
             },
             "line": {
              "color": "white"
             }
            },
            "header": {
             "fill": {
              "color": "#C8D4E3"
             },
             "line": {
              "color": "white"
             }
            },
            "type": "table"
           }
          ]
         },
         "layout": {
          "annotationdefaults": {
           "arrowcolor": "#2a3f5f",
           "arrowhead": 0,
           "arrowwidth": 1
          },
          "autotypenumbers": "strict",
          "coloraxis": {
           "colorbar": {
            "outlinewidth": 0,
            "ticks": ""
           }
          },
          "colorscale": {
           "diverging": [
            [
             0,
             "#8e0152"
            ],
            [
             0.1,
             "#c51b7d"
            ],
            [
             0.2,
             "#de77ae"
            ],
            [
             0.3,
             "#f1b6da"
            ],
            [
             0.4,
             "#fde0ef"
            ],
            [
             0.5,
             "#f7f7f7"
            ],
            [
             0.6,
             "#e6f5d0"
            ],
            [
             0.7,
             "#b8e186"
            ],
            [
             0.8,
             "#7fbc41"
            ],
            [
             0.9,
             "#4d9221"
            ],
            [
             1,
             "#276419"
            ]
           ],
           "sequential": [
            [
             0,
             "#0d0887"
            ],
            [
             0.1111111111111111,
             "#46039f"
            ],
            [
             0.2222222222222222,
             "#7201a8"
            ],
            [
             0.3333333333333333,
             "#9c179e"
            ],
            [
             0.4444444444444444,
             "#bd3786"
            ],
            [
             0.5555555555555556,
             "#d8576b"
            ],
            [
             0.6666666666666666,
             "#ed7953"
            ],
            [
             0.7777777777777778,
             "#fb9f3a"
            ],
            [
             0.8888888888888888,
             "#fdca26"
            ],
            [
             1,
             "#f0f921"
            ]
           ],
           "sequentialminus": [
            [
             0,
             "#0d0887"
            ],
            [
             0.1111111111111111,
             "#46039f"
            ],
            [
             0.2222222222222222,
             "#7201a8"
            ],
            [
             0.3333333333333333,
             "#9c179e"
            ],
            [
             0.4444444444444444,
             "#bd3786"
            ],
            [
             0.5555555555555556,
             "#d8576b"
            ],
            [
             0.6666666666666666,
             "#ed7953"
            ],
            [
             0.7777777777777778,
             "#fb9f3a"
            ],
            [
             0.8888888888888888,
             "#fdca26"
            ],
            [
             1,
             "#f0f921"
            ]
           ]
          },
          "colorway": [
           "#636efa",
           "#EF553B",
           "#00cc96",
           "#ab63fa",
           "#FFA15A",
           "#19d3f3",
           "#FF6692",
           "#B6E880",
           "#FF97FF",
           "#FECB52"
          ],
          "font": {
           "color": "#2a3f5f"
          },
          "geo": {
           "bgcolor": "white",
           "lakecolor": "white",
           "landcolor": "#E5ECF6",
           "showlakes": true,
           "showland": true,
           "subunitcolor": "white"
          },
          "hoverlabel": {
           "align": "left"
          },
          "hovermode": "closest",
          "mapbox": {
           "style": "light"
          },
          "paper_bgcolor": "white",
          "plot_bgcolor": "#E5ECF6",
          "polar": {
           "angularaxis": {
            "gridcolor": "white",
            "linecolor": "white",
            "ticks": ""
           },
           "bgcolor": "#E5ECF6",
           "radialaxis": {
            "gridcolor": "white",
            "linecolor": "white",
            "ticks": ""
           }
          },
          "scene": {
           "xaxis": {
            "backgroundcolor": "#E5ECF6",
            "gridcolor": "white",
            "gridwidth": 2,
            "linecolor": "white",
            "showbackground": true,
            "ticks": "",
            "zerolinecolor": "white"
           },
           "yaxis": {
            "backgroundcolor": "#E5ECF6",
            "gridcolor": "white",
            "gridwidth": 2,
            "linecolor": "white",
            "showbackground": true,
            "ticks": "",
            "zerolinecolor": "white"
           },
           "zaxis": {
            "backgroundcolor": "#E5ECF6",
            "gridcolor": "white",
            "gridwidth": 2,
            "linecolor": "white",
            "showbackground": true,
            "ticks": "",
            "zerolinecolor": "white"
           }
          },
          "shapedefaults": {
           "line": {
            "color": "#2a3f5f"
           }
          },
          "ternary": {
           "aaxis": {
            "gridcolor": "white",
            "linecolor": "white",
            "ticks": ""
           },
           "baxis": {
            "gridcolor": "white",
            "linecolor": "white",
            "ticks": ""
           },
           "bgcolor": "#E5ECF6",
           "caxis": {
            "gridcolor": "white",
            "linecolor": "white",
            "ticks": ""
           }
          },
          "title": {
           "x": 0.05
          },
          "xaxis": {
           "automargin": true,
           "gridcolor": "white",
           "linecolor": "white",
           "ticks": "",
           "title": {
            "standoff": 15
           },
           "zerolinecolor": "white",
           "zerolinewidth": 2
          },
          "yaxis": {
           "automargin": true,
           "gridcolor": "white",
           "linecolor": "white",
           "ticks": "",
           "title": {
            "standoff": 15
           },
           "zerolinecolor": "white",
           "zerolinewidth": 2
          }
         }
        },
        "title": {
         "text": "[1, 0, 1]"
        },
        "width": 400,
        "xaxis": {
         "anchor": "y",
         "constrain": "domain",
         "domain": [
          0,
          1
         ],
         "scaleanchor": "y"
        },
        "yaxis": {
         "anchor": "x",
         "autorange": "reversed",
         "constrain": "domain",
         "domain": [
          0,
          1
         ]
        }
       }
      }
     },
     "metadata": {},
     "output_type": "display_data"
    }
   ],
   "source": [
    "heaps=[[4,0,0],[1,2,0],[1,0,1]]\n",
    "for i in range(3):\n",
    "    state = heaps_to_idx(heaps[i])\n",
    "    fig = px.imshow(np.array(q_values[state]), color_continuous_scale='gray', title=str(heaps[i]))\n",
    "    fig.update_layout(height=400, width=400)\n",
    "    fig.show()"
   ]
  },
  {
   "cell_type": "markdown",
   "metadata": {
    "collapsed": false
   },
   "source": [
    "The values make sense: in the first case the move that makes you win instantly has a 0.9 q-value. In the second case two moves makes you lose in the very next move and one doesn't, and such move has a 0.9 q-value. Last case, both moves make you lose and they both have a -1 q-value.Nice!"
   ]
  }
 ],
 "metadata": {
  "interpreter": {
   "hash": "98373fcc2b26572a704f22e3e227d87867db93faa2ec45ce4b9f33f2e000f694"
  },
  "kernelspec": {
   "display_name": "Python 3.9.7 ('butterfly')",
   "language": "python",
   "name": "python3"
  },
  "language_info": {
   "codemirror_mode": {
    "name": "ipython",
    "version": 3
   },
   "file_extension": ".py",
   "mimetype": "text/x-python",
   "name": "python",
   "nbconvert_exporter": "python",
   "pygments_lexer": "ipython3",
   "version": "3.9.7"
  }
 },
 "nbformat": 4,
 "nbformat_minor": 4
}
