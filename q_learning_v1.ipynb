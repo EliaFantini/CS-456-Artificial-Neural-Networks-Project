{
 "cells": [
  {
   "cell_type": "markdown",
   "metadata": {
    "pycharm": {
     "name": "#%% md\n"
    }
   },
   "source": [
    "# Mini-project 2: Nim\n",
    "### Elia Fantini (336006) & Félix Klein (344259)\n",
    "\n",
    "\n",
    "## 2. Q-Learning\n",
    "As our 1st algorithm, we use Q-Learning combined with eps-greedy policy – see section 6.5 of Sutton and Barto (2018) for details. At each time t, state st shows the numbers of remaining sticks in different heaps, action at is the number of chosen heap and the number of sticks to be taken from that heap (c.f. nim.ipynb), and reward rt is only non-zero when the game ends where you get rt = 1 if you win the game and rt = −1 if you lose. Q-Learning has 3 hyper-parameters: learning rate α, discount factor γ, and exploration level eps. For convenience, we fix the learning rate at α = 0.1 and the discount factor at γ = 0.99. We initialize all the Q-values at 0."
   ]
  },
  {
   "cell_type": "code",
   "execution_count": 2,
   "metadata": {
    "collapsed": false,
    "pycharm": {
     "name": "#%%\n"
    }
   },
   "outputs": [],
   "source": [
    "# basic libraries\n",
    "import numpy as np\n",
    "import pandas as pd\n",
    "from tqdm import tqdm\n",
    "import random\n",
    "import pickle\n",
    "\n",
    "# data visualization and parallel computation\n",
    "import plotly.express as px\n",
    "import multiprocessing as mp\n",
    "from joblib import Parallel, delayed\n",
    "\n",
    "from nim_env import NimEnv, OptimalPlayer"
   ]
  },
  {
   "cell_type": "code",
   "execution_count": 3,
   "metadata": {
    "collapsed": false,
    "pycharm": {
     "name": "#%%\n"
    }
   },
   "outputs": [],
   "source": [
    "MAX_STICKS=7\n",
    "NUM_HEAPS=3\n",
    "METRICS_FREQUENCY=250"
   ]
  },
  {
   "cell_type": "code",
   "execution_count": 4,
   "metadata": {
    "collapsed": false,
    "pycharm": {
     "name": "#%%\n"
    }
   },
   "outputs": [],
   "source": [
    "def heaps_to_idx(heaps):\n",
    "    \"\"\"\n",
    "    Converts heaps state in the corresponding index of the row in the Q-table\n",
    "    Args:\n",
    "        heaps: list of integers\n",
    "            list of heap sizes.\n",
    "\n",
    "    Returns:\n",
    "        idx: int\n",
    "            index of the state's row in the Q-table\n",
    "    \"\"\"\n",
    "    idx=0\n",
    "    for i in range(NUM_HEAPS):\n",
    "        idx += heaps[i]*((MAX_STICKS + 1)**(NUM_HEAPS-i-1))\n",
    "    return idx\n",
    "\n",
    "def idx_to_heaps(idx):\n",
    "    \"\"\"\n",
    "    Converts index of the row in Q-table to the corresponding heaps' state\n",
    "    Args:\n",
    "        idx: int\n",
    "            index of the state's row in the Q-table\n",
    "\n",
    "    Returns:\n",
    "\n",
    "        heaps: list of integers\n",
    "            list of heap sizes.\n",
    "    \"\"\"\n",
    "    idx_copy=idx\n",
    "    heaps=[]\n",
    "    for i in range(NUM_HEAPS):\n",
    "        heaps.append(int(idx_copy//((MAX_STICKS + 1)**(NUM_HEAPS-i-1))))\n",
    "        idx_copy = idx_copy - heaps[i]*((MAX_STICKS + 1)**(NUM_HEAPS-i-1))\n",
    "    return heaps\n",
    "\n",
    "def create_q_table(num_heaps, max_sticks, initial_value=0.0):\n",
    "    \"\"\"\n",
    "    Creates a list of numpy.ndarray, one for every possible state. Each ndarray is initialized with initial value.\n",
    "    Args:\n",
    "        num_heaps: int\n",
    "            number of heaps\n",
    "        max_sticks: int\n",
    "            number of max sticks possible in a heap\n",
    "        initial_value: float\n",
    "            initial q-values value. Default is 0.0\n",
    "\n",
    "    Returns:\n",
    "\n",
    "        q-table: list of numpy.ndarray\n",
    "            matrix of q-values, initialized with initial_value\n",
    "    \"\"\"\n",
    "    q_table=[]\n",
    "    for i in range((max_sticks+1)**num_heaps):\n",
    "        if i==0:\n",
    "            q_table.append(np.full(shape=[1,1], fill_value=initial_value,dtype='float64'))\n",
    "            continue\n",
    "        else:\n",
    "            heaps = idx_to_heaps(i)\n",
    "            num_actions=0\n",
    "            for ii in range(num_heaps):\n",
    "                num_actions += heaps[ii]\n",
    "            q_table.append(np.full(shape=[num_actions,1], fill_value=initial_value,dtype='float64'))\n",
    "    return q_table"
   ]
  },
  {
   "cell_type": "code",
   "execution_count": 5,
   "metadata": {
    "collapsed": false,
    "pycharm": {
     "name": "#%%\n"
    }
   },
   "outputs": [],
   "source": [
    "def play_game(env,q_table, player_q, player_adv, eta, gamma, test= False, self_learning= False):\n",
    "    \"\"\"\n",
    "    Plays a full nim match, till one of the two players loses.\n",
    "    Args:\n",
    "        env: NimEnv\n",
    "            instance of the NimEnv class to play the game with\n",
    "        q_table: list on numpy.ndarray\n",
    "            matrix containing q-values to apply q-learning algorithm\n",
    "        player_q: OptimalPlayer\n",
    "            q-learning agent\n",
    "        player_adv: OptimalPlayer\n",
    "            optimal policy agent\n",
    "        eta: float\n",
    "            number that controls how much the q-values should vary during training\n",
    "        gamma: float\n",
    "            number that controls how much next expected rewards should count on the learning update\n",
    "        test: bool\n",
    "            if True, the learning process will be tested by playing against the optimal player without updating q-values. Default is False\n",
    "        self_learning: bool\n",
    "            if True, player_adv will be considered a q-learning agent as well, so the learning agent will play against itself. Default is False\n",
    "\n",
    "    Returns:\n",
    "        reward: int\n",
    "            1 if player-q won, -1 otherwise\n",
    "\n",
    "    \"\"\"\n",
    "    # resetting the variables and the NimEnv\n",
    "    seed = random.uniform(0,9999)\n",
    "    env.reset(seed)\n",
    "    heaps, _, __ = env.observe()\n",
    "    reward = 0 # stays at 0 until game is finished\n",
    "    while not env.end:\n",
    "        if env.current_player == player_q.player:   # player 1 : learning agent\n",
    "            # q-learning agent 1 choosing next action using q-values : making the move\n",
    "            state_idx = heaps_to_idx(heaps)\n",
    "            move, q_value, action = player_q.act_q(heaps, q_table[state_idx], greedy= False) # if greedy = False, it means eps-greedy\n",
    "            heaps, end, winner = env.step(move)\n",
    "            if self_learning and not test:\n",
    "                # q-learning agent 2 choosing next potential greedy-action using q-values, without actually taking it, then updating the q-table\n",
    "                next_state_ind_adv = heaps_to_idx(heaps)\n",
    "                _,q_value_next_adv,_= player_adv.act_q(heaps, q_table[next_state_ind_adv], greedy= True)\n",
    "                if not end and env.num_step>1:\n",
    "                    q_table[state_idx_adv][action_adv] += eta * (reward + gamma * q_value_next_adv - q_value_adv)\n",
    "\n",
    "\n",
    "        else:                                       # optimal player OR other learning agent if not self_learning\n",
    "            if not self_learning or test:\n",
    "                # choosing next action using the optimal policy\n",
    "                move = player_adv.act(heaps)\n",
    "                heaps, end, winner = env.step(move)\n",
    "            if not test:\n",
    "                if self_learning:\n",
    "                    # q-learning agent 2 choosing next action using q-values\n",
    "                    state_idx_adv = heaps_to_idx(heaps)\n",
    "                    move,q_value_adv,action_adv= player_adv.act_q(heaps, q_table[state_idx_adv], greedy= False)\n",
    "                    heaps, end, winner = env.step(move)\n",
    "                # q-learning agent 1 choosing next potential greedy-action using q-values, without actually taking it, then updating the q-table\n",
    "                next_state_ind = heaps_to_idx(heaps)\n",
    "                _,q_value_next,_= player_q.act_q(heaps, q_table[next_state_ind], greedy= True)\n",
    "                if not end and env.num_step>1:\n",
    "                    q_table[state_idx][action] += eta * (reward + gamma * q_value_next - q_value)\n",
    "\n",
    "\n",
    "        if end:\n",
    "            if winner== player_q.player:\n",
    "                reward = 1\n",
    "            else:\n",
    "                reward = -1\n",
    "            if not test:\n",
    "                # q-learning agent 1 updating q-table with final reward value\n",
    "                q_table[state_idx][action] += eta * (reward + gamma * q_table[0][0] - q_value)\n",
    "                if self_learning:\n",
    "                    # q-learning agent 2 updating q-table with final reward value\n",
    "                    q_table[state_idx_adv][action_adv] += eta * (-reward + gamma * q_table[0][0] - q_value_adv)\n",
    "            break\n",
    "    return reward"
   ]
  },
  {
   "cell_type": "code",
   "execution_count": 6,
   "metadata": {
    "collapsed": false,
    "pycharm": {
     "name": "#%%\n"
    }
   },
   "outputs": [],
   "source": [
    "def q_learning(env = None, q_table=None, num_games= 20000, eta=0.1, gamma=0.99, eps_q=0.2, eps_adv= 0.5, initial_table_value=0, decreasing_eps= False, eps_min=0.1, eps_max=0.8, n_star=1, test=False, verbose= False, self_learning=False):\n",
    "    \"\"\"\n",
    "    Main function that handles the whole training. It runs num_games Nim matches and updates the\n",
    "    q-table according to q-learning algorithm. It also calculates statistics of the learning\n",
    "    process, such as the mean of the learning agent's rewards, computed every METRICS_FREQUENCY games.\n",
    "    If test is True, also M-opt and M-rand metrics are computed. It returns a list of the metrics and the\n",
    "    trained q-table.\n",
    "    Args:\n",
    "\n",
    "        env: NimEnv\n",
    "            instance of the NimEnv class to play the game with. Default is None\n",
    "        q_table: list on numpy.ndarray\n",
    "            matrix containing q-values to apply q-learning algorithm. Default is None\n",
    "        num_games: int\n",
    "            num of games to be played to train the learning agent.Default is 20000\n",
    "        eta: float\n",
    "            number that controls how much the q-values should vary during training. Default is 0.1\n",
    "        gamma: float\n",
    "            number that controls how much next expected rewards should count on the learning update. Default is 0.99\n",
    "        eps_q: float\n",
    "            probability for the q-learning agent to perform a random action instead of the greedy one. Default is 0.2\n",
    "        eps_adv: float\n",
    "            probability for the adversarial agent to perform a random action instead of the optimal one. Default is 0.5\n",
    "        initial_value: float\n",
    "            initial q-values value. Default is 0.0\n",
    "        decreasing_eps: bool\n",
    "            if True, the learning agent eps value will decrease over the number of games played n. eps-q will be ignored.\n",
    "            eps(n) = max(eps_min, eps_max*(1 −n/n_star). . Default is False\n",
    "        eps_min: float\n",
    "            minimum eps value that decreasing eps can assume. Default is 0.1\n",
    "        eps_max: float\n",
    "             maximum eps value that decreasing eps can assume. Default is 0.8\n",
    "        n_star: int\n",
    "            number that controls how slow the decreasing eps reaches its minimum. Default is 1\n",
    "        test: bool\n",
    "            if True, the learning process will be tested every METRICS_FREQUENCY training games by playing 500 games\n",
    "            with frozen q-values against Opt(0), the optimal player, and 500 against Opt(1), the random player. Default is False\n",
    "        verbose: bool\n",
    "            if  True, it prints a progress bar. Default is False\n",
    "        self_learning: bool\n",
    "            if True, player_adv will be considered a q-learning agent as well, so the learning agent will play against itself. Default is False\n",
    "\n",
    "    Returns:\n",
    "        metrics: list of lists of float\n",
    "            list containing a list of mean reward values. If test is True, it also contains a list of M-opt values and a list of M-rand values.\n",
    "            Such values are computed and appended to the list every METRICS_FREQUENCY games\n",
    "        q_table: list of numpy.ndarray\n",
    "            the q-table with the learned q-values\n",
    "\n",
    "    \"\"\"\n",
    "\n",
    "    if env is None:\n",
    "        env = NimEnv()\n",
    "    if q_table is None:\n",
    "        q_table = create_q_table(NUM_HEAPS,MAX_STICKS,initial_table_value)\n",
    "\n",
    "    # initializing metrics\n",
    "    rewards = [] # -1 or 1, stored at the end of each game\n",
    "    rewards_mean=[] # mean of every x rewards (here 250) stored after the x_th game\n",
    "    m_opt=[]\n",
    "    m_rand=[]\n",
    "\n",
    "    Turn = 0\n",
    "    # both the agent and the adversary are OptimalPlayer instances but the agent is calling act_q whereas adv is calling act\n",
    "    # if self_learning = True, both are calling act_q\n",
    "    for i in tqdm(range(num_games), disable=(not verbose)):\n",
    "        if decreasing_eps:\n",
    "            eps = max(eps_min,eps_max*(1-i/n_star))\n",
    "            player_q = OptimalPlayer(epsilon=eps, player=Turn)\n",
    "        else:\n",
    "            eps = eps_q\n",
    "            player_q = OptimalPlayer(epsilon=eps, player=Turn)\n",
    "        if self_learning:\n",
    "            # at the beginning of every game, reinstantiate the optimal player (especially if eps changes, turn changes anyway)\n",
    "            player_adv = OptimalPlayer(epsilon=eps, player= 1-Turn)\n",
    "        else:\n",
    "            player_adv = OptimalPlayer(epsilon=eps_adv, player=1-Turn)\n",
    "        rewards.append(play_game(env, q_table, player_q, player_adv, eta, gamma, False, self_learning=self_learning))\n",
    "        if i%METRICS_FREQUENCY==0 and i!=0:\n",
    "            rewards_mean.append(np.asarray(rewards).mean())\n",
    "            rewards = []\n",
    "            if test:    # plays against optimal player (OPT(0)) and random player (OPT(1))\n",
    "                for eps_opt in [0,1]:\n",
    "                    won_count=0\n",
    "                    for ii in range(500):\n",
    "                        heaps, _, __ = env.observe()\n",
    "                        player_q = OptimalPlayer(epsilon=0, player=Turn)\n",
    "                        player_opt = OptimalPlayer(epsilon=eps_opt, player=1-Turn)\n",
    "                        if 1 == play_game(env, q_table, player_q, player_opt, eta, gamma, True):\n",
    "                            won_count +=1\n",
    "                        Turn = 1 - Turn\n",
    "                    m=(won_count-(500-won_count))/500\n",
    "                    if eps_opt==0:\n",
    "                        m_opt.append(m)\n",
    "                    else:\n",
    "                        m_rand.append(m)\n",
    "        Turn = 1 - Turn\n",
    "    metrics = []\n",
    "    metrics.append(rewards_mean)\n",
    "    if test:\n",
    "        # list of three lists, agent, optimal player and random player\n",
    "        metrics.append(m_opt)\n",
    "        metrics.append(m_rand)\n",
    "    return metrics, q_table"
   ]
  },
  {
   "cell_type": "code",
   "execution_count": 10,
   "metadata": {
    "collapsed": false,
    "pycharm": {
     "name": "#%%\n"
    }
   },
   "outputs": [],
   "source": [
    "use_backup = True"
   ]
  },
  {
   "cell_type": "code",
   "execution_count": 11,
   "metadata": {
    "collapsed": false,
    "pycharm": {
     "name": "#%%\n"
    }
   },
   "outputs": [],
   "source": [
    "# recovering results so everything does not have to be re-run\n",
    "if use_backup:\n",
    "    file_name = \"q_learning_results.pkl\"\n",
    "    open_file = open(file_name, \"rb\")\n",
    "    training_results = pickle.load(open_file)\n",
    "    open_file.close()\n",
    "else:\n",
    "    training_results = []"
   ]
  },
  {
   "cell_type": "markdown",
   "metadata": {
    "collapsed": false,
    "pycharm": {
     "name": "#%% md\n"
    }
   },
   "source": [
    "## 2.1 Learning from experts\n",
    "In this section, you will study whether Q-learning can learn to play Nim by playing against Opt(eps_opt)\n",
    "for some eps_opt ∈ [0, 1]. To do so, implement the Q-learning algorithm. To check the algorithm, run a\n",
    "Q-learning agent, with a fixed and arbitrary eps ∈ [0, 1), against Opt(0.5) for 20’000 games – switch the\n",
    "1st player after every game. Note that the agents are not allowed to take an unavailable action, i.e. they\n",
    "cannot take more than existing number of sticks in a heap from that heap.\n",
    "### Question 1\n",
    "Plot average reward for every 250 games during training – i.e. after the 250th game, plot\n",
    "the average reward of the first 250 games, after the 500th game, plot the average reward of games 251 to\n",
    "500, etc. Does the agent learn to play Nim?\n",
    "Expected answer: A figure of average reward over time (caption length < 50 words). Specify your choice\n",
    "of eps."
   ]
  },
  {
   "cell_type": "code",
   "execution_count": 30,
   "metadata": {
    "collapsed": false,
    "pycharm": {
     "name": "#%%\n"
    }
   },
   "outputs": [],
   "source": [
    "if not use_backup:\n",
    "    env = NimEnv()\n",
    "    metrics,_=q_learning(env,num_games=20000, eps_q=0.1, gamma= 0.99, verbose=False)\n",
    "    x = np.arange(1,len(metrics[0])+1)*METRICS_FREQUENCY\n",
    "    training_results.append([x,metrics])"
   ]
  },
  {
   "cell_type": "code",
   "execution_count": 31,
   "metadata": {
    "collapsed": false,
    "pycharm": {
     "name": "#%%\n"
    }
   },
   "outputs": [
    {
     "data": {
      "application/vnd.plotly.v1+json": {
       "config": {
        "plotlyServerURL": "https://plot.ly"
       },
       "data": [
        {
         "hovertemplate": "variable=wide_variable_0<br>x=%{x}<br>value=%{y}<extra></extra>",
         "legendgroup": "wide_variable_0",
         "line": {
          "color": "#636efa",
          "dash": "solid"
         },
         "marker": {
          "symbol": "circle"
         },
         "mode": "lines",
         "name": "wide_variable_0",
         "orientation": "v",
         "showlegend": true,
         "type": "scatter",
         "x": [
          250,
          500,
          750,
          1000,
          1250,
          1500,
          1750,
          2000,
          2250,
          2500,
          2750,
          3000,
          3250,
          3500,
          3750,
          4000,
          4250,
          4500,
          4750,
          5000,
          5250,
          5500,
          5750,
          6000,
          6250,
          6500,
          6750,
          7000,
          7250,
          7500,
          7750,
          8000,
          8250,
          8500,
          8750,
          9000,
          9250,
          9500,
          9750,
          10000,
          10250,
          10500,
          10750,
          11000,
          11250,
          11500,
          11750,
          12000,
          12250,
          12500,
          12750,
          13000,
          13250,
          13500,
          13750,
          14000,
          14250,
          14500,
          14750,
          15000,
          15250,
          15500,
          15750,
          16000,
          16250,
          16500,
          16750,
          17000,
          17250,
          17500,
          17750,
          18000,
          18250,
          18500,
          18750,
          19000,
          19250,
          19500,
          19750
         ],
         "xaxis": "x",
         "y": [
          -0.20318725099601595,
          -0.008,
          0.056,
          0.144,
          0.216,
          0.272,
          0.2,
          0.264,
          0.416,
          0.352,
          0.344,
          0.272,
          0.296,
          0.32,
          0.344,
          0.48,
          0.44,
          0.464,
          0.296,
          0.376,
          0.488,
          0.472,
          0.328,
          0.488,
          0.432,
          0.384,
          0.528,
          0.488,
          0.344,
          0.4,
          0.4,
          0.36,
          0.424,
          0.536,
          0.424,
          0.424,
          0.504,
          0.424,
          0.496,
          0.384,
          0.416,
          0.44,
          0.504,
          0.48,
          0.48,
          0.352,
          0.456,
          0.416,
          0.368,
          0.44,
          0.464,
          0.472,
          0.456,
          0.448,
          0.368,
          0.368,
          0.336,
          0.344,
          0.416,
          0.536,
          0.424,
          0.448,
          0.432,
          0.432,
          0.44,
          0.496,
          0.552,
          0.408,
          0.4,
          0.472,
          0.288,
          0.504,
          0.488,
          0.456,
          0.48,
          0.456,
          0.376,
          0.408,
          0.504
         ],
         "yaxis": "y"
        }
       ],
       "layout": {
        "legend": {
         "title": {
          "text": "variable"
         },
         "tracegroupgap": 0
        },
        "showlegend": false,
        "template": {
         "data": {
          "bar": [
           {
            "error_x": {
             "color": "#2a3f5f"
            },
            "error_y": {
             "color": "#2a3f5f"
            },
            "marker": {
             "line": {
              "color": "#E5ECF6",
              "width": 0.5
             },
             "pattern": {
              "fillmode": "overlay",
              "size": 10,
              "solidity": 0.2
             }
            },
            "type": "bar"
           }
          ],
          "barpolar": [
           {
            "marker": {
             "line": {
              "color": "#E5ECF6",
              "width": 0.5
             },
             "pattern": {
              "fillmode": "overlay",
              "size": 10,
              "solidity": 0.2
             }
            },
            "type": "barpolar"
           }
          ],
          "carpet": [
           {
            "aaxis": {
             "endlinecolor": "#2a3f5f",
             "gridcolor": "white",
             "linecolor": "white",
             "minorgridcolor": "white",
             "startlinecolor": "#2a3f5f"
            },
            "baxis": {
             "endlinecolor": "#2a3f5f",
             "gridcolor": "white",
             "linecolor": "white",
             "minorgridcolor": "white",
             "startlinecolor": "#2a3f5f"
            },
            "type": "carpet"
           }
          ],
          "choropleth": [
           {
            "colorbar": {
             "outlinewidth": 0,
             "ticks": ""
            },
            "type": "choropleth"
           }
          ],
          "contour": [
           {
            "colorbar": {
             "outlinewidth": 0,
             "ticks": ""
            },
            "colorscale": [
             [
              0,
              "#0d0887"
             ],
             [
              0.1111111111111111,
              "#46039f"
             ],
             [
              0.2222222222222222,
              "#7201a8"
             ],
             [
              0.3333333333333333,
              "#9c179e"
             ],
             [
              0.4444444444444444,
              "#bd3786"
             ],
             [
              0.5555555555555556,
              "#d8576b"
             ],
             [
              0.6666666666666666,
              "#ed7953"
             ],
             [
              0.7777777777777778,
              "#fb9f3a"
             ],
             [
              0.8888888888888888,
              "#fdca26"
             ],
             [
              1,
              "#f0f921"
             ]
            ],
            "type": "contour"
           }
          ],
          "contourcarpet": [
           {
            "colorbar": {
             "outlinewidth": 0,
             "ticks": ""
            },
            "type": "contourcarpet"
           }
          ],
          "heatmap": [
           {
            "colorbar": {
             "outlinewidth": 0,
             "ticks": ""
            },
            "colorscale": [
             [
              0,
              "#0d0887"
             ],
             [
              0.1111111111111111,
              "#46039f"
             ],
             [
              0.2222222222222222,
              "#7201a8"
             ],
             [
              0.3333333333333333,
              "#9c179e"
             ],
             [
              0.4444444444444444,
              "#bd3786"
             ],
             [
              0.5555555555555556,
              "#d8576b"
             ],
             [
              0.6666666666666666,
              "#ed7953"
             ],
             [
              0.7777777777777778,
              "#fb9f3a"
             ],
             [
              0.8888888888888888,
              "#fdca26"
             ],
             [
              1,
              "#f0f921"
             ]
            ],
            "type": "heatmap"
           }
          ],
          "heatmapgl": [
           {
            "colorbar": {
             "outlinewidth": 0,
             "ticks": ""
            },
            "colorscale": [
             [
              0,
              "#0d0887"
             ],
             [
              0.1111111111111111,
              "#46039f"
             ],
             [
              0.2222222222222222,
              "#7201a8"
             ],
             [
              0.3333333333333333,
              "#9c179e"
             ],
             [
              0.4444444444444444,
              "#bd3786"
             ],
             [
              0.5555555555555556,
              "#d8576b"
             ],
             [
              0.6666666666666666,
              "#ed7953"
             ],
             [
              0.7777777777777778,
              "#fb9f3a"
             ],
             [
              0.8888888888888888,
              "#fdca26"
             ],
             [
              1,
              "#f0f921"
             ]
            ],
            "type": "heatmapgl"
           }
          ],
          "histogram": [
           {
            "marker": {
             "pattern": {
              "fillmode": "overlay",
              "size": 10,
              "solidity": 0.2
             }
            },
            "type": "histogram"
           }
          ],
          "histogram2d": [
           {
            "colorbar": {
             "outlinewidth": 0,
             "ticks": ""
            },
            "colorscale": [
             [
              0,
              "#0d0887"
             ],
             [
              0.1111111111111111,
              "#46039f"
             ],
             [
              0.2222222222222222,
              "#7201a8"
             ],
             [
              0.3333333333333333,
              "#9c179e"
             ],
             [
              0.4444444444444444,
              "#bd3786"
             ],
             [
              0.5555555555555556,
              "#d8576b"
             ],
             [
              0.6666666666666666,
              "#ed7953"
             ],
             [
              0.7777777777777778,
              "#fb9f3a"
             ],
             [
              0.8888888888888888,
              "#fdca26"
             ],
             [
              1,
              "#f0f921"
             ]
            ],
            "type": "histogram2d"
           }
          ],
          "histogram2dcontour": [
           {
            "colorbar": {
             "outlinewidth": 0,
             "ticks": ""
            },
            "colorscale": [
             [
              0,
              "#0d0887"
             ],
             [
              0.1111111111111111,
              "#46039f"
             ],
             [
              0.2222222222222222,
              "#7201a8"
             ],
             [
              0.3333333333333333,
              "#9c179e"
             ],
             [
              0.4444444444444444,
              "#bd3786"
             ],
             [
              0.5555555555555556,
              "#d8576b"
             ],
             [
              0.6666666666666666,
              "#ed7953"
             ],
             [
              0.7777777777777778,
              "#fb9f3a"
             ],
             [
              0.8888888888888888,
              "#fdca26"
             ],
             [
              1,
              "#f0f921"
             ]
            ],
            "type": "histogram2dcontour"
           }
          ],
          "mesh3d": [
           {
            "colorbar": {
             "outlinewidth": 0,
             "ticks": ""
            },
            "type": "mesh3d"
           }
          ],
          "parcoords": [
           {
            "line": {
             "colorbar": {
              "outlinewidth": 0,
              "ticks": ""
             }
            },
            "type": "parcoords"
           }
          ],
          "pie": [
           {
            "automargin": true,
            "type": "pie"
           }
          ],
          "scatter": [
           {
            "fillpattern": {
             "fillmode": "overlay",
             "size": 10,
             "solidity": 0.2
            },
            "type": "scatter"
           }
          ],
          "scatter3d": [
           {
            "line": {
             "colorbar": {
              "outlinewidth": 0,
              "ticks": ""
             }
            },
            "marker": {
             "colorbar": {
              "outlinewidth": 0,
              "ticks": ""
             }
            },
            "type": "scatter3d"
           }
          ],
          "scattercarpet": [
           {
            "marker": {
             "colorbar": {
              "outlinewidth": 0,
              "ticks": ""
             }
            },
            "type": "scattercarpet"
           }
          ],
          "scattergeo": [
           {
            "marker": {
             "colorbar": {
              "outlinewidth": 0,
              "ticks": ""
             }
            },
            "type": "scattergeo"
           }
          ],
          "scattergl": [
           {
            "marker": {
             "colorbar": {
              "outlinewidth": 0,
              "ticks": ""
             }
            },
            "type": "scattergl"
           }
          ],
          "scattermapbox": [
           {
            "marker": {
             "colorbar": {
              "outlinewidth": 0,
              "ticks": ""
             }
            },
            "type": "scattermapbox"
           }
          ],
          "scatterpolar": [
           {
            "marker": {
             "colorbar": {
              "outlinewidth": 0,
              "ticks": ""
             }
            },
            "type": "scatterpolar"
           }
          ],
          "scatterpolargl": [
           {
            "marker": {
             "colorbar": {
              "outlinewidth": 0,
              "ticks": ""
             }
            },
            "type": "scatterpolargl"
           }
          ],
          "scatterternary": [
           {
            "marker": {
             "colorbar": {
              "outlinewidth": 0,
              "ticks": ""
             }
            },
            "type": "scatterternary"
           }
          ],
          "surface": [
           {
            "colorbar": {
             "outlinewidth": 0,
             "ticks": ""
            },
            "colorscale": [
             [
              0,
              "#0d0887"
             ],
             [
              0.1111111111111111,
              "#46039f"
             ],
             [
              0.2222222222222222,
              "#7201a8"
             ],
             [
              0.3333333333333333,
              "#9c179e"
             ],
             [
              0.4444444444444444,
              "#bd3786"
             ],
             [
              0.5555555555555556,
              "#d8576b"
             ],
             [
              0.6666666666666666,
              "#ed7953"
             ],
             [
              0.7777777777777778,
              "#fb9f3a"
             ],
             [
              0.8888888888888888,
              "#fdca26"
             ],
             [
              1,
              "#f0f921"
             ]
            ],
            "type": "surface"
           }
          ],
          "table": [
           {
            "cells": {
             "fill": {
              "color": "#EBF0F8"
             },
             "line": {
              "color": "white"
             }
            },
            "header": {
             "fill": {
              "color": "#C8D4E3"
             },
             "line": {
              "color": "white"
             }
            },
            "type": "table"
           }
          ]
         },
         "layout": {
          "annotationdefaults": {
           "arrowcolor": "#2a3f5f",
           "arrowhead": 0,
           "arrowwidth": 1
          },
          "autotypenumbers": "strict",
          "coloraxis": {
           "colorbar": {
            "outlinewidth": 0,
            "ticks": ""
           }
          },
          "colorscale": {
           "diverging": [
            [
             0,
             "#8e0152"
            ],
            [
             0.1,
             "#c51b7d"
            ],
            [
             0.2,
             "#de77ae"
            ],
            [
             0.3,
             "#f1b6da"
            ],
            [
             0.4,
             "#fde0ef"
            ],
            [
             0.5,
             "#f7f7f7"
            ],
            [
             0.6,
             "#e6f5d0"
            ],
            [
             0.7,
             "#b8e186"
            ],
            [
             0.8,
             "#7fbc41"
            ],
            [
             0.9,
             "#4d9221"
            ],
            [
             1,
             "#276419"
            ]
           ],
           "sequential": [
            [
             0,
             "#0d0887"
            ],
            [
             0.1111111111111111,
             "#46039f"
            ],
            [
             0.2222222222222222,
             "#7201a8"
            ],
            [
             0.3333333333333333,
             "#9c179e"
            ],
            [
             0.4444444444444444,
             "#bd3786"
            ],
            [
             0.5555555555555556,
             "#d8576b"
            ],
            [
             0.6666666666666666,
             "#ed7953"
            ],
            [
             0.7777777777777778,
             "#fb9f3a"
            ],
            [
             0.8888888888888888,
             "#fdca26"
            ],
            [
             1,
             "#f0f921"
            ]
           ],
           "sequentialminus": [
            [
             0,
             "#0d0887"
            ],
            [
             0.1111111111111111,
             "#46039f"
            ],
            [
             0.2222222222222222,
             "#7201a8"
            ],
            [
             0.3333333333333333,
             "#9c179e"
            ],
            [
             0.4444444444444444,
             "#bd3786"
            ],
            [
             0.5555555555555556,
             "#d8576b"
            ],
            [
             0.6666666666666666,
             "#ed7953"
            ],
            [
             0.7777777777777778,
             "#fb9f3a"
            ],
            [
             0.8888888888888888,
             "#fdca26"
            ],
            [
             1,
             "#f0f921"
            ]
           ]
          },
          "colorway": [
           "#636efa",
           "#EF553B",
           "#00cc96",
           "#ab63fa",
           "#FFA15A",
           "#19d3f3",
           "#FF6692",
           "#B6E880",
           "#FF97FF",
           "#FECB52"
          ],
          "font": {
           "color": "#2a3f5f"
          },
          "geo": {
           "bgcolor": "white",
           "lakecolor": "white",
           "landcolor": "#E5ECF6",
           "showlakes": true,
           "showland": true,
           "subunitcolor": "white"
          },
          "hoverlabel": {
           "align": "left"
          },
          "hovermode": "closest",
          "mapbox": {
           "style": "light"
          },
          "paper_bgcolor": "white",
          "plot_bgcolor": "#E5ECF6",
          "polar": {
           "angularaxis": {
            "gridcolor": "white",
            "linecolor": "white",
            "ticks": ""
           },
           "bgcolor": "#E5ECF6",
           "radialaxis": {
            "gridcolor": "white",
            "linecolor": "white",
            "ticks": ""
           }
          },
          "scene": {
           "xaxis": {
            "backgroundcolor": "#E5ECF6",
            "gridcolor": "white",
            "gridwidth": 2,
            "linecolor": "white",
            "showbackground": true,
            "ticks": "",
            "zerolinecolor": "white"
           },
           "yaxis": {
            "backgroundcolor": "#E5ECF6",
            "gridcolor": "white",
            "gridwidth": 2,
            "linecolor": "white",
            "showbackground": true,
            "ticks": "",
            "zerolinecolor": "white"
           },
           "zaxis": {
            "backgroundcolor": "#E5ECF6",
            "gridcolor": "white",
            "gridwidth": 2,
            "linecolor": "white",
            "showbackground": true,
            "ticks": "",
            "zerolinecolor": "white"
           }
          },
          "shapedefaults": {
           "line": {
            "color": "#2a3f5f"
           }
          },
          "ternary": {
           "aaxis": {
            "gridcolor": "white",
            "linecolor": "white",
            "ticks": ""
           },
           "baxis": {
            "gridcolor": "white",
            "linecolor": "white",
            "ticks": ""
           },
           "bgcolor": "#E5ECF6",
           "caxis": {
            "gridcolor": "white",
            "linecolor": "white",
            "ticks": ""
           }
          },
          "title": {
           "x": 0.05
          },
          "xaxis": {
           "automargin": true,
           "gridcolor": "white",
           "linecolor": "white",
           "ticks": "",
           "title": {
            "standoff": 15
           },
           "zerolinecolor": "white",
           "zerolinewidth": 2
          },
          "yaxis": {
           "automargin": true,
           "gridcolor": "white",
           "linecolor": "white",
           "ticks": "",
           "title": {
            "standoff": 15
           },
           "zerolinecolor": "white",
           "zerolinewidth": 2
          }
         }
        },
        "title": {
         "text": "Average reward over time of RL agent with policy epsilon=0.1"
        },
        "width": 600,
        "xaxis": {
         "anchor": "y",
         "domain": [
          0,
          1
         ],
         "title": {
          "text": "Games played"
         }
        },
        "yaxis": {
         "anchor": "x",
         "domain": [
          0,
          1
         ],
         "title": {
          "text": "Average reward"
         }
        }
       }
      },
      "text/html": [
       "<div>                            <div id=\"403d4ef4-6d3f-4878-a176-a3e128cc55b6\" class=\"plotly-graph-div\" style=\"height:525px; width:600px;\"></div>            <script type=\"text/javascript\">                require([\"plotly\"], function(Plotly) {                    window.PLOTLYENV=window.PLOTLYENV || {};                                    if (document.getElementById(\"403d4ef4-6d3f-4878-a176-a3e128cc55b6\")) {                    Plotly.newPlot(                        \"403d4ef4-6d3f-4878-a176-a3e128cc55b6\",                        [{\"hovertemplate\":\"variable=wide_variable_0<br>x=%{x}<br>value=%{y}<extra></extra>\",\"legendgroup\":\"wide_variable_0\",\"line\":{\"color\":\"#636efa\",\"dash\":\"solid\"},\"marker\":{\"symbol\":\"circle\"},\"mode\":\"lines\",\"name\":\"wide_variable_0\",\"orientation\":\"v\",\"showlegend\":true,\"x\":[250,500,750,1000,1250,1500,1750,2000,2250,2500,2750,3000,3250,3500,3750,4000,4250,4500,4750,5000,5250,5500,5750,6000,6250,6500,6750,7000,7250,7500,7750,8000,8250,8500,8750,9000,9250,9500,9750,10000,10250,10500,10750,11000,11250,11500,11750,12000,12250,12500,12750,13000,13250,13500,13750,14000,14250,14500,14750,15000,15250,15500,15750,16000,16250,16500,16750,17000,17250,17500,17750,18000,18250,18500,18750,19000,19250,19500,19750],\"xaxis\":\"x\",\"y\":[-0.20318725099601595,-0.008,0.056,0.144,0.216,0.272,0.2,0.264,0.416,0.352,0.344,0.272,0.296,0.32,0.344,0.48,0.44,0.464,0.296,0.376,0.488,0.472,0.328,0.488,0.432,0.384,0.528,0.488,0.344,0.4,0.4,0.36,0.424,0.536,0.424,0.424,0.504,0.424,0.496,0.384,0.416,0.44,0.504,0.48,0.48,0.352,0.456,0.416,0.368,0.44,0.464,0.472,0.456,0.448,0.368,0.368,0.336,0.344,0.416,0.536,0.424,0.448,0.432,0.432,0.44,0.496,0.552,0.408,0.4,0.472,0.288,0.504,0.488,0.456,0.48,0.456,0.376,0.408,0.504],\"yaxis\":\"y\",\"type\":\"scatter\"}],                        {\"template\":{\"data\":{\"histogram2dcontour\":[{\"type\":\"histogram2dcontour\",\"colorbar\":{\"outlinewidth\":0,\"ticks\":\"\"},\"colorscale\":[[0.0,\"#0d0887\"],[0.1111111111111111,\"#46039f\"],[0.2222222222222222,\"#7201a8\"],[0.3333333333333333,\"#9c179e\"],[0.4444444444444444,\"#bd3786\"],[0.5555555555555556,\"#d8576b\"],[0.6666666666666666,\"#ed7953\"],[0.7777777777777778,\"#fb9f3a\"],[0.8888888888888888,\"#fdca26\"],[1.0,\"#f0f921\"]]}],\"choropleth\":[{\"type\":\"choropleth\",\"colorbar\":{\"outlinewidth\":0,\"ticks\":\"\"}}],\"histogram2d\":[{\"type\":\"histogram2d\",\"colorbar\":{\"outlinewidth\":0,\"ticks\":\"\"},\"colorscale\":[[0.0,\"#0d0887\"],[0.1111111111111111,\"#46039f\"],[0.2222222222222222,\"#7201a8\"],[0.3333333333333333,\"#9c179e\"],[0.4444444444444444,\"#bd3786\"],[0.5555555555555556,\"#d8576b\"],[0.6666666666666666,\"#ed7953\"],[0.7777777777777778,\"#fb9f3a\"],[0.8888888888888888,\"#fdca26\"],[1.0,\"#f0f921\"]]}],\"heatmap\":[{\"type\":\"heatmap\",\"colorbar\":{\"outlinewidth\":0,\"ticks\":\"\"},\"colorscale\":[[0.0,\"#0d0887\"],[0.1111111111111111,\"#46039f\"],[0.2222222222222222,\"#7201a8\"],[0.3333333333333333,\"#9c179e\"],[0.4444444444444444,\"#bd3786\"],[0.5555555555555556,\"#d8576b\"],[0.6666666666666666,\"#ed7953\"],[0.7777777777777778,\"#fb9f3a\"],[0.8888888888888888,\"#fdca26\"],[1.0,\"#f0f921\"]]}],\"heatmapgl\":[{\"type\":\"heatmapgl\",\"colorbar\":{\"outlinewidth\":0,\"ticks\":\"\"},\"colorscale\":[[0.0,\"#0d0887\"],[0.1111111111111111,\"#46039f\"],[0.2222222222222222,\"#7201a8\"],[0.3333333333333333,\"#9c179e\"],[0.4444444444444444,\"#bd3786\"],[0.5555555555555556,\"#d8576b\"],[0.6666666666666666,\"#ed7953\"],[0.7777777777777778,\"#fb9f3a\"],[0.8888888888888888,\"#fdca26\"],[1.0,\"#f0f921\"]]}],\"contourcarpet\":[{\"type\":\"contourcarpet\",\"colorbar\":{\"outlinewidth\":0,\"ticks\":\"\"}}],\"contour\":[{\"type\":\"contour\",\"colorbar\":{\"outlinewidth\":0,\"ticks\":\"\"},\"colorscale\":[[0.0,\"#0d0887\"],[0.1111111111111111,\"#46039f\"],[0.2222222222222222,\"#7201a8\"],[0.3333333333333333,\"#9c179e\"],[0.4444444444444444,\"#bd3786\"],[0.5555555555555556,\"#d8576b\"],[0.6666666666666666,\"#ed7953\"],[0.7777777777777778,\"#fb9f3a\"],[0.8888888888888888,\"#fdca26\"],[1.0,\"#f0f921\"]]}],\"surface\":[{\"type\":\"surface\",\"colorbar\":{\"outlinewidth\":0,\"ticks\":\"\"},\"colorscale\":[[0.0,\"#0d0887\"],[0.1111111111111111,\"#46039f\"],[0.2222222222222222,\"#7201a8\"],[0.3333333333333333,\"#9c179e\"],[0.4444444444444444,\"#bd3786\"],[0.5555555555555556,\"#d8576b\"],[0.6666666666666666,\"#ed7953\"],[0.7777777777777778,\"#fb9f3a\"],[0.8888888888888888,\"#fdca26\"],[1.0,\"#f0f921\"]]}],\"mesh3d\":[{\"type\":\"mesh3d\",\"colorbar\":{\"outlinewidth\":0,\"ticks\":\"\"}}],\"scatter\":[{\"fillpattern\":{\"fillmode\":\"overlay\",\"size\":10,\"solidity\":0.2},\"type\":\"scatter\"}],\"parcoords\":[{\"type\":\"parcoords\",\"line\":{\"colorbar\":{\"outlinewidth\":0,\"ticks\":\"\"}}}],\"scatterpolargl\":[{\"type\":\"scatterpolargl\",\"marker\":{\"colorbar\":{\"outlinewidth\":0,\"ticks\":\"\"}}}],\"bar\":[{\"error_x\":{\"color\":\"#2a3f5f\"},\"error_y\":{\"color\":\"#2a3f5f\"},\"marker\":{\"line\":{\"color\":\"#E5ECF6\",\"width\":0.5},\"pattern\":{\"fillmode\":\"overlay\",\"size\":10,\"solidity\":0.2}},\"type\":\"bar\"}],\"scattergeo\":[{\"type\":\"scattergeo\",\"marker\":{\"colorbar\":{\"outlinewidth\":0,\"ticks\":\"\"}}}],\"scatterpolar\":[{\"type\":\"scatterpolar\",\"marker\":{\"colorbar\":{\"outlinewidth\":0,\"ticks\":\"\"}}}],\"histogram\":[{\"marker\":{\"pattern\":{\"fillmode\":\"overlay\",\"size\":10,\"solidity\":0.2}},\"type\":\"histogram\"}],\"scattergl\":[{\"type\":\"scattergl\",\"marker\":{\"colorbar\":{\"outlinewidth\":0,\"ticks\":\"\"}}}],\"scatter3d\":[{\"type\":\"scatter3d\",\"line\":{\"colorbar\":{\"outlinewidth\":0,\"ticks\":\"\"}},\"marker\":{\"colorbar\":{\"outlinewidth\":0,\"ticks\":\"\"}}}],\"scattermapbox\":[{\"type\":\"scattermapbox\",\"marker\":{\"colorbar\":{\"outlinewidth\":0,\"ticks\":\"\"}}}],\"scatterternary\":[{\"type\":\"scatterternary\",\"marker\":{\"colorbar\":{\"outlinewidth\":0,\"ticks\":\"\"}}}],\"scattercarpet\":[{\"type\":\"scattercarpet\",\"marker\":{\"colorbar\":{\"outlinewidth\":0,\"ticks\":\"\"}}}],\"carpet\":[{\"aaxis\":{\"endlinecolor\":\"#2a3f5f\",\"gridcolor\":\"white\",\"linecolor\":\"white\",\"minorgridcolor\":\"white\",\"startlinecolor\":\"#2a3f5f\"},\"baxis\":{\"endlinecolor\":\"#2a3f5f\",\"gridcolor\":\"white\",\"linecolor\":\"white\",\"minorgridcolor\":\"white\",\"startlinecolor\":\"#2a3f5f\"},\"type\":\"carpet\"}],\"table\":[{\"cells\":{\"fill\":{\"color\":\"#EBF0F8\"},\"line\":{\"color\":\"white\"}},\"header\":{\"fill\":{\"color\":\"#C8D4E3\"},\"line\":{\"color\":\"white\"}},\"type\":\"table\"}],\"barpolar\":[{\"marker\":{\"line\":{\"color\":\"#E5ECF6\",\"width\":0.5},\"pattern\":{\"fillmode\":\"overlay\",\"size\":10,\"solidity\":0.2}},\"type\":\"barpolar\"}],\"pie\":[{\"automargin\":true,\"type\":\"pie\"}]},\"layout\":{\"autotypenumbers\":\"strict\",\"colorway\":[\"#636efa\",\"#EF553B\",\"#00cc96\",\"#ab63fa\",\"#FFA15A\",\"#19d3f3\",\"#FF6692\",\"#B6E880\",\"#FF97FF\",\"#FECB52\"],\"font\":{\"color\":\"#2a3f5f\"},\"hovermode\":\"closest\",\"hoverlabel\":{\"align\":\"left\"},\"paper_bgcolor\":\"white\",\"plot_bgcolor\":\"#E5ECF6\",\"polar\":{\"bgcolor\":\"#E5ECF6\",\"angularaxis\":{\"gridcolor\":\"white\",\"linecolor\":\"white\",\"ticks\":\"\"},\"radialaxis\":{\"gridcolor\":\"white\",\"linecolor\":\"white\",\"ticks\":\"\"}},\"ternary\":{\"bgcolor\":\"#E5ECF6\",\"aaxis\":{\"gridcolor\":\"white\",\"linecolor\":\"white\",\"ticks\":\"\"},\"baxis\":{\"gridcolor\":\"white\",\"linecolor\":\"white\",\"ticks\":\"\"},\"caxis\":{\"gridcolor\":\"white\",\"linecolor\":\"white\",\"ticks\":\"\"}},\"coloraxis\":{\"colorbar\":{\"outlinewidth\":0,\"ticks\":\"\"}},\"colorscale\":{\"sequential\":[[0.0,\"#0d0887\"],[0.1111111111111111,\"#46039f\"],[0.2222222222222222,\"#7201a8\"],[0.3333333333333333,\"#9c179e\"],[0.4444444444444444,\"#bd3786\"],[0.5555555555555556,\"#d8576b\"],[0.6666666666666666,\"#ed7953\"],[0.7777777777777778,\"#fb9f3a\"],[0.8888888888888888,\"#fdca26\"],[1.0,\"#f0f921\"]],\"sequentialminus\":[[0.0,\"#0d0887\"],[0.1111111111111111,\"#46039f\"],[0.2222222222222222,\"#7201a8\"],[0.3333333333333333,\"#9c179e\"],[0.4444444444444444,\"#bd3786\"],[0.5555555555555556,\"#d8576b\"],[0.6666666666666666,\"#ed7953\"],[0.7777777777777778,\"#fb9f3a\"],[0.8888888888888888,\"#fdca26\"],[1.0,\"#f0f921\"]],\"diverging\":[[0,\"#8e0152\"],[0.1,\"#c51b7d\"],[0.2,\"#de77ae\"],[0.3,\"#f1b6da\"],[0.4,\"#fde0ef\"],[0.5,\"#f7f7f7\"],[0.6,\"#e6f5d0\"],[0.7,\"#b8e186\"],[0.8,\"#7fbc41\"],[0.9,\"#4d9221\"],[1,\"#276419\"]]},\"xaxis\":{\"gridcolor\":\"white\",\"linecolor\":\"white\",\"ticks\":\"\",\"title\":{\"standoff\":15},\"zerolinecolor\":\"white\",\"automargin\":true,\"zerolinewidth\":2},\"yaxis\":{\"gridcolor\":\"white\",\"linecolor\":\"white\",\"ticks\":\"\",\"title\":{\"standoff\":15},\"zerolinecolor\":\"white\",\"automargin\":true,\"zerolinewidth\":2},\"scene\":{\"xaxis\":{\"backgroundcolor\":\"#E5ECF6\",\"gridcolor\":\"white\",\"linecolor\":\"white\",\"showbackground\":true,\"ticks\":\"\",\"zerolinecolor\":\"white\",\"gridwidth\":2},\"yaxis\":{\"backgroundcolor\":\"#E5ECF6\",\"gridcolor\":\"white\",\"linecolor\":\"white\",\"showbackground\":true,\"ticks\":\"\",\"zerolinecolor\":\"white\",\"gridwidth\":2},\"zaxis\":{\"backgroundcolor\":\"#E5ECF6\",\"gridcolor\":\"white\",\"linecolor\":\"white\",\"showbackground\":true,\"ticks\":\"\",\"zerolinecolor\":\"white\",\"gridwidth\":2}},\"shapedefaults\":{\"line\":{\"color\":\"#2a3f5f\"}},\"annotationdefaults\":{\"arrowcolor\":\"#2a3f5f\",\"arrowhead\":0,\"arrowwidth\":1},\"geo\":{\"bgcolor\":\"white\",\"landcolor\":\"#E5ECF6\",\"subunitcolor\":\"white\",\"showland\":true,\"showlakes\":true,\"lakecolor\":\"white\"},\"title\":{\"x\":0.05},\"mapbox\":{\"style\":\"light\"}}},\"xaxis\":{\"anchor\":\"y\",\"domain\":[0.0,1.0],\"title\":{\"text\":\"Games played\"}},\"yaxis\":{\"anchor\":\"x\",\"domain\":[0.0,1.0],\"title\":{\"text\":\"Average reward\"}},\"legend\":{\"title\":{\"text\":\"variable\"},\"tracegroupgap\":0},\"title\":{\"text\":\"Average reward over time of RL agent with policy epsilon=0.1\"},\"showlegend\":false,\"width\":600},                        {\"responsive\": true}                    ).then(function(){\n",
       "                            \n",
       "var gd = document.getElementById('403d4ef4-6d3f-4878-a176-a3e128cc55b6');\n",
       "var x = new MutationObserver(function (mutations, observer) {{\n",
       "        var display = window.getComputedStyle(gd).display;\n",
       "        if (!display || display === 'none') {{\n",
       "            console.log([gd, 'removed!']);\n",
       "            Plotly.purge(gd);\n",
       "            observer.disconnect();\n",
       "        }}\n",
       "}});\n",
       "\n",
       "// Listen for the removal of the full notebook cells\n",
       "var notebookContainer = gd.closest('#notebook-container');\n",
       "if (notebookContainer) {{\n",
       "    x.observe(notebookContainer, {childList: true});\n",
       "}}\n",
       "\n",
       "// Listen for the clearing of the current output cell\n",
       "var outputEl = gd.closest('.output');\n",
       "if (outputEl) {{\n",
       "    x.observe(outputEl, {childList: true});\n",
       "}}\n",
       "\n",
       "                        })                };                });            </script>        </div>"
      ]
     },
     "metadata": {},
     "output_type": "display_data"
    }
   ],
   "source": [
    "x= training_results[0][0]\n",
    "metrics =training_results[0][1]\n",
    "fig = px.line(x=x, y=metrics, title=f'Average reward over time of RL agent with policy epsilon={0.1}')\n",
    "fig.update_layout(xaxis_title='Games played', yaxis_title='Average reward')\n",
    "fig.update_layout(showlegend=False)\n",
    "fig.update_layout(width=600)\n",
    "fig.show()"
   ]
  },
  {
   "cell_type": "markdown",
   "metadata": {
    "collapsed": false,
    "pycharm": {
     "name": "#%% md\n"
    }
   },
   "source": [
    "The learning agent plays against a player that does the best possible move half of the times, whereas the other half of the times it plays a random move. Given that every game the first player is switched, that heaps are randomly generated with a uniform distribution and mathematically is already possible to know who will win among two Opt(0) players just by knowing initial heaps and starting player, the probability of winning for each player is around 0.5 and hence the mean reward would be around 0.0, half of the game won (+1) and half lost (-1). Given that the adversary is Opt(0.5), even when Opt(0) is supposed to lose has a 50% chance that adversary will do a wrong move, so the expect win percentage is 75% and the mean reward is 0.5. Since the learning agent reaches such mean reward, it seems like it really has learned to play with the optimal policy, getting the same mean reward a Opt(0) agent would have reached."
   ]
  },
  {
   "cell_type": "markdown",
   "metadata": {
    "collapsed": false,
    "pycharm": {
     "name": "#%% md\n"
    }
   },
   "source": [
    "## 2.1.1 Decreasing exploration\n",
    "One way to make training more efficient is to decrease the exploration level eps over time. If we define eps(n) to be eps for game number n, then one feasible way to decrease exploration during training is to use eps(n) = max{eps_min, eps_max(1 −n/n∗)},where eps_min and eps_max are the minimum and maximum values for eps, respectively, and n∗ is the number of exploratory games and shows how fast eps decreases. For convenience, we assume eps_min = 0.1 and eps_max = 0.8;Use eps(n) as define above and run different Q-learning agents with different values of n∗ against Opt(0.5) for 20’000 games – switchthe 1st player after every game. Choose several values of n∗ from a reasonably wide interval between 1 to 40’000 – particularly, include n* = 1.\n",
    "### Question 2\n",
    "Plot average reward for every 250 games during training. Does decreasing eps help training compared to having a fixed eps? What is the effect of n*?\n",
    "Expected answer: A figure showing average reward over time for different values of n* (caption length < 200 words)"
   ]
  },
  {
   "cell_type": "code",
   "execution_count": 32,
   "metadata": {
    "collapsed": false,
    "pycharm": {
     "name": "#%%\n"
    }
   },
   "outputs": [],
   "source": [
    "if not use_backup:\n",
    "    env = NimEnv()\n",
    "    n_star_values=np.linspace(1,40000,6)\n",
    "\n",
    "    df = {'Games played':list(np.arange(1,20000//METRICS_FREQUENCY)*METRICS_FREQUENCY)}\n",
    "    num_cores = min(len(n_star_values),mp.cpu_count())\n",
    "\n",
    "    def parallelGames(n_star):\n",
    "        df = {}\n",
    "        metrics,_=q_learning(env,num_games=20000, eps_q=0.1, gamma=0.99, decreasing_eps=True, n_star=n_star, verbose=False)\n",
    "        #y=metrics.reshape(metrics.size//METRICS_FREQUENCY, METRICS_FREQUENCY).mean(axis=1)\n",
    "        df[f'n*={n_star:.0f}'] = metrics[0]\n",
    "        return df\n",
    "\n",
    "    dfs = Parallel(n_jobs=num_cores)(delayed(parallelGames)(n_star) for n_star in n_star_values)\n",
    "    for d in dfs:\n",
    "        df.update(d)\n",
    "\n",
    "    df = pd.DataFrame(df)\n",
    "    training_results.append(df)"
   ]
  },
  {
   "cell_type": "code",
   "execution_count": 33,
   "metadata": {
    "collapsed": false,
    "pycharm": {
     "name": "#%%\n"
    }
   },
   "outputs": [
    {
     "data": {
      "application/vnd.plotly.v1+json": {
       "config": {
        "plotlyServerURL": "https://plot.ly"
       },
       "data": [
        {
         "hovertemplate": "variable=n*=1<br>Games played=%{x}<br>value=%{y}<extra></extra>",
         "legendgroup": "n*=1",
         "line": {
          "color": "#636efa",
          "dash": "solid"
         },
         "marker": {
          "symbol": "circle"
         },
         "mode": "lines",
         "name": "n*=1",
         "orientation": "v",
         "showlegend": true,
         "type": "scatter",
         "x": [
          250,
          500,
          750,
          1000,
          1250,
          1500,
          1750,
          2000,
          2250,
          2500,
          2750,
          3000,
          3250,
          3500,
          3750,
          4000,
          4250,
          4500,
          4750,
          5000,
          5250,
          5500,
          5750,
          6000,
          6250,
          6500,
          6750,
          7000,
          7250,
          7500,
          7750,
          8000,
          8250,
          8500,
          8750,
          9000,
          9250,
          9500,
          9750,
          10000,
          10250,
          10500,
          10750,
          11000,
          11250,
          11500,
          11750,
          12000,
          12250,
          12500,
          12750,
          13000,
          13250,
          13500,
          13750,
          14000,
          14250,
          14500,
          14750,
          15000,
          15250,
          15500,
          15750,
          16000,
          16250,
          16500,
          16750,
          17000,
          17250,
          17500,
          17750,
          18000,
          18250,
          18500,
          18750,
          19000,
          19250,
          19500,
          19750
         ],
         "xaxis": "x",
         "y": [
          -0.22709163346613545,
          -0.032,
          0.088,
          0.128,
          0.2,
          0.24,
          0.272,
          0.288,
          0.368,
          0.384,
          0.344,
          0.24,
          0.44,
          0.296,
          0.496,
          0.432,
          0.472,
          0.36,
          0.52,
          0.432,
          0.424,
          0.432,
          0.392,
          0.296,
          0.48,
          0.352,
          0.432,
          0.472,
          0.488,
          0.472,
          0.392,
          0.296,
          0.456,
          0.368,
          0.416,
          0.568,
          0.384,
          0.36,
          0.472,
          0.432,
          0.464,
          0.512,
          0.368,
          0.416,
          0.4,
          0.488,
          0.376,
          0.424,
          0.496,
          0.504,
          0.592,
          0.424,
          0.456,
          0.496,
          0.512,
          0.48,
          0.568,
          0.448,
          0.328,
          0.488,
          0.52,
          0.4,
          0.368,
          0.384,
          0.552,
          0.488,
          0.52,
          0.512,
          0.448,
          0.544,
          0.504,
          0.488,
          0.424,
          0.576,
          0.48,
          0.544,
          0.504,
          0.464,
          0.464
         ],
         "yaxis": "y"
        },
        {
         "hovertemplate": "variable=n*=16001<br>Games played=%{x}<br>value=%{y}<extra></extra>",
         "legendgroup": "n*=16001",
         "line": {
          "color": "#EF553B",
          "dash": "solid"
         },
         "marker": {
          "symbol": "circle"
         },
         "mode": "lines",
         "name": "n*=16001",
         "orientation": "v",
         "showlegend": true,
         "type": "scatter",
         "x": [
          250,
          500,
          750,
          1000,
          1250,
          1500,
          1750,
          2000,
          2250,
          2500,
          2750,
          3000,
          3250,
          3500,
          3750,
          4000,
          4250,
          4500,
          4750,
          5000,
          5250,
          5500,
          5750,
          6000,
          6250,
          6500,
          6750,
          7000,
          7250,
          7500,
          7750,
          8000,
          8250,
          8500,
          8750,
          9000,
          9250,
          9500,
          9750,
          10000,
          10250,
          10500,
          10750,
          11000,
          11250,
          11500,
          11750,
          12000,
          12250,
          12500,
          12750,
          13000,
          13250,
          13500,
          13750,
          14000,
          14250,
          14500,
          14750,
          15000,
          15250,
          15500,
          15750,
          16000,
          16250,
          16500,
          16750,
          17000,
          17250,
          17500,
          17750,
          18000,
          18250,
          18500,
          18750,
          19000,
          19250,
          19500,
          19750
         ],
         "xaxis": "x",
         "y": [
          -0.36254980079681276,
          -0.464,
          -0.336,
          -0.416,
          -0.4,
          -0.304,
          -0.288,
          -0.304,
          -0.28,
          -0.304,
          -0.36,
          -0.104,
          -0.232,
          -0.152,
          -0.16,
          -0.12,
          -0.264,
          -0.064,
          -0.096,
          -0.112,
          -0.168,
          -0.048,
          -0.128,
          -0.152,
          -0.016,
          0,
          0.04,
          -0.056,
          -0.024,
          -0.088,
          -0.08,
          -0.048,
          0.048,
          0.064,
          0.008,
          0.168,
          0.176,
          0.112,
          0.136,
          0.16,
          0.096,
          0.152,
          0.248,
          0.328,
          0.24,
          0.2,
          0.264,
          0.344,
          0.376,
          0.464,
          0.416,
          0.536,
          0.464,
          0.392,
          0.376,
          0.48,
          0.44,
          0.52,
          0.432,
          0.392,
          0.504,
          0.48,
          0.616,
          0.464,
          0.448,
          0.408,
          0.528,
          0.56,
          0.376,
          0.392,
          0.464,
          0.456,
          0.52,
          0.496,
          0.432,
          0.544,
          0.512,
          0.608,
          0.384
         ],
         "yaxis": "y"
        },
        {
         "hovertemplate": "variable=n*=24000<br>Games played=%{x}<br>value=%{y}<extra></extra>",
         "legendgroup": "n*=24000",
         "line": {
          "color": "#00cc96",
          "dash": "solid"
         },
         "marker": {
          "symbol": "circle"
         },
         "mode": "lines",
         "name": "n*=24000",
         "orientation": "v",
         "showlegend": true,
         "type": "scatter",
         "x": [
          250,
          500,
          750,
          1000,
          1250,
          1500,
          1750,
          2000,
          2250,
          2500,
          2750,
          3000,
          3250,
          3500,
          3750,
          4000,
          4250,
          4500,
          4750,
          5000,
          5250,
          5500,
          5750,
          6000,
          6250,
          6500,
          6750,
          7000,
          7250,
          7500,
          7750,
          8000,
          8250,
          8500,
          8750,
          9000,
          9250,
          9500,
          9750,
          10000,
          10250,
          10500,
          10750,
          11000,
          11250,
          11500,
          11750,
          12000,
          12250,
          12500,
          12750,
          13000,
          13250,
          13500,
          13750,
          14000,
          14250,
          14500,
          14750,
          15000,
          15250,
          15500,
          15750,
          16000,
          16250,
          16500,
          16750,
          17000,
          17250,
          17500,
          17750,
          18000,
          18250,
          18500,
          18750,
          19000,
          19250,
          19500,
          19750
         ],
         "xaxis": "x",
         "y": [
          -0.450199203187251,
          -0.368,
          -0.4,
          -0.44,
          -0.328,
          -0.296,
          -0.376,
          -0.296,
          -0.36,
          -0.272,
          -0.296,
          -0.272,
          -0.24,
          -0.32,
          -0.192,
          -0.248,
          -0.256,
          -0.104,
          -0.216,
          -0.248,
          -0.304,
          -0.248,
          -0.104,
          -0.216,
          -0.08,
          -0.248,
          -0.08,
          -0.048,
          0.008,
          -0.128,
          -0.008,
          -0.064,
          -0.016,
          -0.04,
          -0.08,
          -0.096,
          -0.032,
          -0.088,
          0.048,
          0.056,
          0.008,
          0.048,
          0.056,
          -0.032,
          -0.04,
          0.12,
          0.152,
          0.064,
          0.16,
          0.08,
          0.056,
          0.168,
          0.192,
          0.2,
          0.096,
          0.08,
          0.2,
          0.28,
          0.128,
          0.296,
          0.184,
          0.248,
          0.168,
          0.24,
          0.264,
          0.288,
          0.208,
          0.32,
          0.392,
          0.432,
          0.248,
          0.408,
          0.296,
          0.344,
          0.344,
          0.4,
          0.456,
          0.352,
          0.52
         ],
         "yaxis": "y"
        },
        {
         "hovertemplate": "variable=n*=32000<br>Games played=%{x}<br>value=%{y}<extra></extra>",
         "legendgroup": "n*=32000",
         "line": {
          "color": "#ab63fa",
          "dash": "solid"
         },
         "marker": {
          "symbol": "circle"
         },
         "mode": "lines",
         "name": "n*=32000",
         "orientation": "v",
         "showlegend": true,
         "type": "scatter",
         "x": [
          250,
          500,
          750,
          1000,
          1250,
          1500,
          1750,
          2000,
          2250,
          2500,
          2750,
          3000,
          3250,
          3500,
          3750,
          4000,
          4250,
          4500,
          4750,
          5000,
          5250,
          5500,
          5750,
          6000,
          6250,
          6500,
          6750,
          7000,
          7250,
          7500,
          7750,
          8000,
          8250,
          8500,
          8750,
          9000,
          9250,
          9500,
          9750,
          10000,
          10250,
          10500,
          10750,
          11000,
          11250,
          11500,
          11750,
          12000,
          12250,
          12500,
          12750,
          13000,
          13250,
          13500,
          13750,
          14000,
          14250,
          14500,
          14750,
          15000,
          15250,
          15500,
          15750,
          16000,
          16250,
          16500,
          16750,
          17000,
          17250,
          17500,
          17750,
          18000,
          18250,
          18500,
          18750,
          19000,
          19250,
          19500,
          19750
         ],
         "xaxis": "x",
         "y": [
          -0.40239043824701193,
          -0.256,
          -0.4,
          -0.32,
          -0.4,
          -0.264,
          -0.376,
          -0.32,
          -0.336,
          -0.296,
          -0.28,
          -0.392,
          -0.264,
          -0.272,
          -0.304,
          -0.256,
          -0.24,
          -0.336,
          -0.256,
          -0.2,
          -0.24,
          -0.24,
          -0.288,
          -0.256,
          -0.2,
          -0.216,
          -0.152,
          -0.184,
          -0.2,
          -0.152,
          -0.144,
          -0.144,
          -0.232,
          -0.104,
          -0.088,
          -0.12,
          0.032,
          -0.024,
          -0.12,
          -0.048,
          -0.088,
          -0.088,
          -0.136,
          -0.016,
          -0.072,
          0.096,
          -0.088,
          -0.056,
          -0.056,
          0,
          0,
          -0.016,
          0.016,
          0.04,
          0.016,
          0.016,
          0.016,
          0.12,
          0.136,
          -0.072,
          0.064,
          0.032,
          0.064,
          0.08,
          0.112,
          0.104,
          0.032,
          0.144,
          0.088,
          0.216,
          0.096,
          0.16,
          0.176,
          0.208,
          0.216,
          0.232,
          0.28,
          0.288,
          0.192
         ],
         "yaxis": "y"
        },
        {
         "hovertemplate": "variable=n*=40000<br>Games played=%{x}<br>value=%{y}<extra></extra>",
         "legendgroup": "n*=40000",
         "line": {
          "color": "#FFA15A",
          "dash": "solid"
         },
         "marker": {
          "symbol": "circle"
         },
         "mode": "lines",
         "name": "n*=40000",
         "orientation": "v",
         "showlegend": true,
         "type": "scatter",
         "x": [
          250,
          500,
          750,
          1000,
          1250,
          1500,
          1750,
          2000,
          2250,
          2500,
          2750,
          3000,
          3250,
          3500,
          3750,
          4000,
          4250,
          4500,
          4750,
          5000,
          5250,
          5500,
          5750,
          6000,
          6250,
          6500,
          6750,
          7000,
          7250,
          7500,
          7750,
          8000,
          8250,
          8500,
          8750,
          9000,
          9250,
          9500,
          9750,
          10000,
          10250,
          10500,
          10750,
          11000,
          11250,
          11500,
          11750,
          12000,
          12250,
          12500,
          12750,
          13000,
          13250,
          13500,
          13750,
          14000,
          14250,
          14500,
          14750,
          15000,
          15250,
          15500,
          15750,
          16000,
          16250,
          16500,
          16750,
          17000,
          17250,
          17500,
          17750,
          18000,
          18250,
          18500,
          18750,
          19000,
          19250,
          19500,
          19750
         ],
         "xaxis": "x",
         "y": [
          -0.3944223107569721,
          -0.368,
          -0.456,
          -0.376,
          -0.32,
          -0.256,
          -0.408,
          -0.416,
          -0.256,
          -0.288,
          -0.352,
          -0.32,
          -0.352,
          -0.288,
          -0.216,
          -0.288,
          -0.264,
          -0.248,
          -0.336,
          -0.328,
          -0.224,
          -0.264,
          -0.28,
          -0.248,
          -0.32,
          -0.296,
          -0.24,
          -0.144,
          -0.2,
          -0.176,
          -0.192,
          -0.224,
          -0.216,
          -0.144,
          -0.12,
          -0.152,
          -0.2,
          0.024,
          -0.192,
          -0.136,
          -0.064,
          -0.104,
          -0.176,
          -0.16,
          -0.104,
          -0.168,
          -0.016,
          -0.16,
          -0.128,
          -0.072,
          -0.048,
          -0.152,
          -0.168,
          -0.096,
          0.04,
          -0.032,
          0.032,
          -0.08,
          -0.048,
          -0.072,
          -0.048,
          -0.12,
          -0.056,
          -0.056,
          0.072,
          0.056,
          0.016,
          0.064,
          0,
          0.024,
          0.016,
          -0.032,
          0.04,
          0.104,
          0.064,
          0,
          0.072,
          -0.032,
          -0.008
         ],
         "yaxis": "y"
        },
        {
         "hovertemplate": "variable=n*=8001<br>Games played=%{x}<br>value=%{y}<extra></extra>",
         "legendgroup": "n*=8001",
         "line": {
          "color": "#19d3f3",
          "dash": "solid"
         },
         "marker": {
          "symbol": "circle"
         },
         "mode": "lines",
         "name": "n*=8001",
         "orientation": "v",
         "showlegend": true,
         "type": "scatter",
         "x": [
          250,
          500,
          750,
          1000,
          1250,
          1500,
          1750,
          2000,
          2250,
          2500,
          2750,
          3000,
          3250,
          3500,
          3750,
          4000,
          4250,
          4500,
          4750,
          5000,
          5250,
          5500,
          5750,
          6000,
          6250,
          6500,
          6750,
          7000,
          7250,
          7500,
          7750,
          8000,
          8250,
          8500,
          8750,
          9000,
          9250,
          9500,
          9750,
          10000,
          10250,
          10500,
          10750,
          11000,
          11250,
          11500,
          11750,
          12000,
          12250,
          12500,
          12750,
          13000,
          13250,
          13500,
          13750,
          14000,
          14250,
          14500,
          14750,
          15000,
          15250,
          15500,
          15750,
          16000,
          16250,
          16500,
          16750,
          17000,
          17250,
          17500,
          17750,
          18000,
          18250,
          18500,
          18750,
          19000,
          19250,
          19500,
          19750
         ],
         "xaxis": "x",
         "y": [
          -0.41832669322709165,
          -0.392,
          -0.304,
          -0.28,
          -0.256,
          -0.4,
          -0.344,
          -0.152,
          -0.208,
          -0.256,
          -0.096,
          -0.056,
          -0.144,
          -0.112,
          0.056,
          0.016,
          0.024,
          -0.024,
          0.144,
          0.192,
          0.072,
          0.312,
          0.096,
          0.232,
          0.352,
          0.376,
          0.336,
          0.384,
          0.464,
          0.528,
          0.376,
          0.408,
          0.472,
          0.44,
          0.392,
          0.432,
          0.328,
          0.448,
          0.344,
          0.416,
          0.376,
          0.472,
          0.4,
          0.408,
          0.48,
          0.44,
          0.448,
          0.408,
          0.464,
          0.4,
          0.4,
          0.488,
          0.496,
          0.392,
          0.488,
          0.496,
          0.416,
          0.504,
          0.448,
          0.416,
          0.456,
          0.4,
          0.424,
          0.376,
          0.472,
          0.496,
          0.512,
          0.512,
          0.432,
          0.536,
          0.504,
          0.424,
          0.352,
          0.408,
          0.536,
          0.512,
          0.464,
          0.552,
          0.568
         ],
         "yaxis": "y"
        }
       ],
       "layout": {
        "legend": {
         "title": {
          "text": "variable"
         },
         "tracegroupgap": 0
        },
        "template": {
         "data": {
          "bar": [
           {
            "error_x": {
             "color": "#2a3f5f"
            },
            "error_y": {
             "color": "#2a3f5f"
            },
            "marker": {
             "line": {
              "color": "#E5ECF6",
              "width": 0.5
             },
             "pattern": {
              "fillmode": "overlay",
              "size": 10,
              "solidity": 0.2
             }
            },
            "type": "bar"
           }
          ],
          "barpolar": [
           {
            "marker": {
             "line": {
              "color": "#E5ECF6",
              "width": 0.5
             },
             "pattern": {
              "fillmode": "overlay",
              "size": 10,
              "solidity": 0.2
             }
            },
            "type": "barpolar"
           }
          ],
          "carpet": [
           {
            "aaxis": {
             "endlinecolor": "#2a3f5f",
             "gridcolor": "white",
             "linecolor": "white",
             "minorgridcolor": "white",
             "startlinecolor": "#2a3f5f"
            },
            "baxis": {
             "endlinecolor": "#2a3f5f",
             "gridcolor": "white",
             "linecolor": "white",
             "minorgridcolor": "white",
             "startlinecolor": "#2a3f5f"
            },
            "type": "carpet"
           }
          ],
          "choropleth": [
           {
            "colorbar": {
             "outlinewidth": 0,
             "ticks": ""
            },
            "type": "choropleth"
           }
          ],
          "contour": [
           {
            "colorbar": {
             "outlinewidth": 0,
             "ticks": ""
            },
            "colorscale": [
             [
              0,
              "#0d0887"
             ],
             [
              0.1111111111111111,
              "#46039f"
             ],
             [
              0.2222222222222222,
              "#7201a8"
             ],
             [
              0.3333333333333333,
              "#9c179e"
             ],
             [
              0.4444444444444444,
              "#bd3786"
             ],
             [
              0.5555555555555556,
              "#d8576b"
             ],
             [
              0.6666666666666666,
              "#ed7953"
             ],
             [
              0.7777777777777778,
              "#fb9f3a"
             ],
             [
              0.8888888888888888,
              "#fdca26"
             ],
             [
              1,
              "#f0f921"
             ]
            ],
            "type": "contour"
           }
          ],
          "contourcarpet": [
           {
            "colorbar": {
             "outlinewidth": 0,
             "ticks": ""
            },
            "type": "contourcarpet"
           }
          ],
          "heatmap": [
           {
            "colorbar": {
             "outlinewidth": 0,
             "ticks": ""
            },
            "colorscale": [
             [
              0,
              "#0d0887"
             ],
             [
              0.1111111111111111,
              "#46039f"
             ],
             [
              0.2222222222222222,
              "#7201a8"
             ],
             [
              0.3333333333333333,
              "#9c179e"
             ],
             [
              0.4444444444444444,
              "#bd3786"
             ],
             [
              0.5555555555555556,
              "#d8576b"
             ],
             [
              0.6666666666666666,
              "#ed7953"
             ],
             [
              0.7777777777777778,
              "#fb9f3a"
             ],
             [
              0.8888888888888888,
              "#fdca26"
             ],
             [
              1,
              "#f0f921"
             ]
            ],
            "type": "heatmap"
           }
          ],
          "heatmapgl": [
           {
            "colorbar": {
             "outlinewidth": 0,
             "ticks": ""
            },
            "colorscale": [
             [
              0,
              "#0d0887"
             ],
             [
              0.1111111111111111,
              "#46039f"
             ],
             [
              0.2222222222222222,
              "#7201a8"
             ],
             [
              0.3333333333333333,
              "#9c179e"
             ],
             [
              0.4444444444444444,
              "#bd3786"
             ],
             [
              0.5555555555555556,
              "#d8576b"
             ],
             [
              0.6666666666666666,
              "#ed7953"
             ],
             [
              0.7777777777777778,
              "#fb9f3a"
             ],
             [
              0.8888888888888888,
              "#fdca26"
             ],
             [
              1,
              "#f0f921"
             ]
            ],
            "type": "heatmapgl"
           }
          ],
          "histogram": [
           {
            "marker": {
             "pattern": {
              "fillmode": "overlay",
              "size": 10,
              "solidity": 0.2
             }
            },
            "type": "histogram"
           }
          ],
          "histogram2d": [
           {
            "colorbar": {
             "outlinewidth": 0,
             "ticks": ""
            },
            "colorscale": [
             [
              0,
              "#0d0887"
             ],
             [
              0.1111111111111111,
              "#46039f"
             ],
             [
              0.2222222222222222,
              "#7201a8"
             ],
             [
              0.3333333333333333,
              "#9c179e"
             ],
             [
              0.4444444444444444,
              "#bd3786"
             ],
             [
              0.5555555555555556,
              "#d8576b"
             ],
             [
              0.6666666666666666,
              "#ed7953"
             ],
             [
              0.7777777777777778,
              "#fb9f3a"
             ],
             [
              0.8888888888888888,
              "#fdca26"
             ],
             [
              1,
              "#f0f921"
             ]
            ],
            "type": "histogram2d"
           }
          ],
          "histogram2dcontour": [
           {
            "colorbar": {
             "outlinewidth": 0,
             "ticks": ""
            },
            "colorscale": [
             [
              0,
              "#0d0887"
             ],
             [
              0.1111111111111111,
              "#46039f"
             ],
             [
              0.2222222222222222,
              "#7201a8"
             ],
             [
              0.3333333333333333,
              "#9c179e"
             ],
             [
              0.4444444444444444,
              "#bd3786"
             ],
             [
              0.5555555555555556,
              "#d8576b"
             ],
             [
              0.6666666666666666,
              "#ed7953"
             ],
             [
              0.7777777777777778,
              "#fb9f3a"
             ],
             [
              0.8888888888888888,
              "#fdca26"
             ],
             [
              1,
              "#f0f921"
             ]
            ],
            "type": "histogram2dcontour"
           }
          ],
          "mesh3d": [
           {
            "colorbar": {
             "outlinewidth": 0,
             "ticks": ""
            },
            "type": "mesh3d"
           }
          ],
          "parcoords": [
           {
            "line": {
             "colorbar": {
              "outlinewidth": 0,
              "ticks": ""
             }
            },
            "type": "parcoords"
           }
          ],
          "pie": [
           {
            "automargin": true,
            "type": "pie"
           }
          ],
          "scatter": [
           {
            "fillpattern": {
             "fillmode": "overlay",
             "size": 10,
             "solidity": 0.2
            },
            "type": "scatter"
           }
          ],
          "scatter3d": [
           {
            "line": {
             "colorbar": {
              "outlinewidth": 0,
              "ticks": ""
             }
            },
            "marker": {
             "colorbar": {
              "outlinewidth": 0,
              "ticks": ""
             }
            },
            "type": "scatter3d"
           }
          ],
          "scattercarpet": [
           {
            "marker": {
             "colorbar": {
              "outlinewidth": 0,
              "ticks": ""
             }
            },
            "type": "scattercarpet"
           }
          ],
          "scattergeo": [
           {
            "marker": {
             "colorbar": {
              "outlinewidth": 0,
              "ticks": ""
             }
            },
            "type": "scattergeo"
           }
          ],
          "scattergl": [
           {
            "marker": {
             "colorbar": {
              "outlinewidth": 0,
              "ticks": ""
             }
            },
            "type": "scattergl"
           }
          ],
          "scattermapbox": [
           {
            "marker": {
             "colorbar": {
              "outlinewidth": 0,
              "ticks": ""
             }
            },
            "type": "scattermapbox"
           }
          ],
          "scatterpolar": [
           {
            "marker": {
             "colorbar": {
              "outlinewidth": 0,
              "ticks": ""
             }
            },
            "type": "scatterpolar"
           }
          ],
          "scatterpolargl": [
           {
            "marker": {
             "colorbar": {
              "outlinewidth": 0,
              "ticks": ""
             }
            },
            "type": "scatterpolargl"
           }
          ],
          "scatterternary": [
           {
            "marker": {
             "colorbar": {
              "outlinewidth": 0,
              "ticks": ""
             }
            },
            "type": "scatterternary"
           }
          ],
          "surface": [
           {
            "colorbar": {
             "outlinewidth": 0,
             "ticks": ""
            },
            "colorscale": [
             [
              0,
              "#0d0887"
             ],
             [
              0.1111111111111111,
              "#46039f"
             ],
             [
              0.2222222222222222,
              "#7201a8"
             ],
             [
              0.3333333333333333,
              "#9c179e"
             ],
             [
              0.4444444444444444,
              "#bd3786"
             ],
             [
              0.5555555555555556,
              "#d8576b"
             ],
             [
              0.6666666666666666,
              "#ed7953"
             ],
             [
              0.7777777777777778,
              "#fb9f3a"
             ],
             [
              0.8888888888888888,
              "#fdca26"
             ],
             [
              1,
              "#f0f921"
             ]
            ],
            "type": "surface"
           }
          ],
          "table": [
           {
            "cells": {
             "fill": {
              "color": "#EBF0F8"
             },
             "line": {
              "color": "white"
             }
            },
            "header": {
             "fill": {
              "color": "#C8D4E3"
             },
             "line": {
              "color": "white"
             }
            },
            "type": "table"
           }
          ]
         },
         "layout": {
          "annotationdefaults": {
           "arrowcolor": "#2a3f5f",
           "arrowhead": 0,
           "arrowwidth": 1
          },
          "autotypenumbers": "strict",
          "coloraxis": {
           "colorbar": {
            "outlinewidth": 0,
            "ticks": ""
           }
          },
          "colorscale": {
           "diverging": [
            [
             0,
             "#8e0152"
            ],
            [
             0.1,
             "#c51b7d"
            ],
            [
             0.2,
             "#de77ae"
            ],
            [
             0.3,
             "#f1b6da"
            ],
            [
             0.4,
             "#fde0ef"
            ],
            [
             0.5,
             "#f7f7f7"
            ],
            [
             0.6,
             "#e6f5d0"
            ],
            [
             0.7,
             "#b8e186"
            ],
            [
             0.8,
             "#7fbc41"
            ],
            [
             0.9,
             "#4d9221"
            ],
            [
             1,
             "#276419"
            ]
           ],
           "sequential": [
            [
             0,
             "#0d0887"
            ],
            [
             0.1111111111111111,
             "#46039f"
            ],
            [
             0.2222222222222222,
             "#7201a8"
            ],
            [
             0.3333333333333333,
             "#9c179e"
            ],
            [
             0.4444444444444444,
             "#bd3786"
            ],
            [
             0.5555555555555556,
             "#d8576b"
            ],
            [
             0.6666666666666666,
             "#ed7953"
            ],
            [
             0.7777777777777778,
             "#fb9f3a"
            ],
            [
             0.8888888888888888,
             "#fdca26"
            ],
            [
             1,
             "#f0f921"
            ]
           ],
           "sequentialminus": [
            [
             0,
             "#0d0887"
            ],
            [
             0.1111111111111111,
             "#46039f"
            ],
            [
             0.2222222222222222,
             "#7201a8"
            ],
            [
             0.3333333333333333,
             "#9c179e"
            ],
            [
             0.4444444444444444,
             "#bd3786"
            ],
            [
             0.5555555555555556,
             "#d8576b"
            ],
            [
             0.6666666666666666,
             "#ed7953"
            ],
            [
             0.7777777777777778,
             "#fb9f3a"
            ],
            [
             0.8888888888888888,
             "#fdca26"
            ],
            [
             1,
             "#f0f921"
            ]
           ]
          },
          "colorway": [
           "#636efa",
           "#EF553B",
           "#00cc96",
           "#ab63fa",
           "#FFA15A",
           "#19d3f3",
           "#FF6692",
           "#B6E880",
           "#FF97FF",
           "#FECB52"
          ],
          "font": {
           "color": "#2a3f5f"
          },
          "geo": {
           "bgcolor": "white",
           "lakecolor": "white",
           "landcolor": "#E5ECF6",
           "showlakes": true,
           "showland": true,
           "subunitcolor": "white"
          },
          "hoverlabel": {
           "align": "left"
          },
          "hovermode": "closest",
          "mapbox": {
           "style": "light"
          },
          "paper_bgcolor": "white",
          "plot_bgcolor": "#E5ECF6",
          "polar": {
           "angularaxis": {
            "gridcolor": "white",
            "linecolor": "white",
            "ticks": ""
           },
           "bgcolor": "#E5ECF6",
           "radialaxis": {
            "gridcolor": "white",
            "linecolor": "white",
            "ticks": ""
           }
          },
          "scene": {
           "xaxis": {
            "backgroundcolor": "#E5ECF6",
            "gridcolor": "white",
            "gridwidth": 2,
            "linecolor": "white",
            "showbackground": true,
            "ticks": "",
            "zerolinecolor": "white"
           },
           "yaxis": {
            "backgroundcolor": "#E5ECF6",
            "gridcolor": "white",
            "gridwidth": 2,
            "linecolor": "white",
            "showbackground": true,
            "ticks": "",
            "zerolinecolor": "white"
           },
           "zaxis": {
            "backgroundcolor": "#E5ECF6",
            "gridcolor": "white",
            "gridwidth": 2,
            "linecolor": "white",
            "showbackground": true,
            "ticks": "",
            "zerolinecolor": "white"
           }
          },
          "shapedefaults": {
           "line": {
            "color": "#2a3f5f"
           }
          },
          "ternary": {
           "aaxis": {
            "gridcolor": "white",
            "linecolor": "white",
            "ticks": ""
           },
           "baxis": {
            "gridcolor": "white",
            "linecolor": "white",
            "ticks": ""
           },
           "bgcolor": "#E5ECF6",
           "caxis": {
            "gridcolor": "white",
            "linecolor": "white",
            "ticks": ""
           }
          },
          "title": {
           "x": 0.05
          },
          "xaxis": {
           "automargin": true,
           "gridcolor": "white",
           "linecolor": "white",
           "ticks": "",
           "title": {
            "standoff": 15
           },
           "zerolinecolor": "white",
           "zerolinewidth": 2
          },
          "yaxis": {
           "automargin": true,
           "gridcolor": "white",
           "linecolor": "white",
           "ticks": "",
           "title": {
            "standoff": 15
           },
           "zerolinecolor": "white",
           "zerolinewidth": 2
          }
         }
        },
        "title": {
         "text": "Training with Decreasing epsilon. Comparing different n* values"
        },
        "width": 800,
        "xaxis": {
         "anchor": "y",
         "domain": [
          0,
          1
         ],
         "title": {
          "text": "Games played"
         }
        },
        "yaxis": {
         "anchor": "x",
         "domain": [
          0,
          1
         ],
         "title": {
          "text": "Mean reward"
         }
        }
       }
      },
      "text/html": [
       "<div>                            <div id=\"5102becb-be55-48e6-9408-4416966922a3\" class=\"plotly-graph-div\" style=\"height:525px; width:800px;\"></div>            <script type=\"text/javascript\">                require([\"plotly\"], function(Plotly) {                    window.PLOTLYENV=window.PLOTLYENV || {};                                    if (document.getElementById(\"5102becb-be55-48e6-9408-4416966922a3\")) {                    Plotly.newPlot(                        \"5102becb-be55-48e6-9408-4416966922a3\",                        [{\"hovertemplate\":\"variable=n*=1<br>Games played=%{x}<br>value=%{y}<extra></extra>\",\"legendgroup\":\"n*=1\",\"line\":{\"color\":\"#636efa\",\"dash\":\"solid\"},\"marker\":{\"symbol\":\"circle\"},\"mode\":\"lines\",\"name\":\"n*=1\",\"orientation\":\"v\",\"showlegend\":true,\"x\":[250,500,750,1000,1250,1500,1750,2000,2250,2500,2750,3000,3250,3500,3750,4000,4250,4500,4750,5000,5250,5500,5750,6000,6250,6500,6750,7000,7250,7500,7750,8000,8250,8500,8750,9000,9250,9500,9750,10000,10250,10500,10750,11000,11250,11500,11750,12000,12250,12500,12750,13000,13250,13500,13750,14000,14250,14500,14750,15000,15250,15500,15750,16000,16250,16500,16750,17000,17250,17500,17750,18000,18250,18500,18750,19000,19250,19500,19750],\"xaxis\":\"x\",\"y\":[-0.22709163346613545,-0.032,0.088,0.128,0.2,0.24,0.272,0.288,0.368,0.384,0.344,0.24,0.44,0.296,0.496,0.432,0.472,0.36,0.52,0.432,0.424,0.432,0.392,0.296,0.48,0.352,0.432,0.472,0.488,0.472,0.392,0.296,0.456,0.368,0.416,0.568,0.384,0.36,0.472,0.432,0.464,0.512,0.368,0.416,0.4,0.488,0.376,0.424,0.496,0.504,0.592,0.424,0.456,0.496,0.512,0.48,0.568,0.448,0.328,0.488,0.52,0.4,0.368,0.384,0.552,0.488,0.52,0.512,0.448,0.544,0.504,0.488,0.424,0.576,0.48,0.544,0.504,0.464,0.464],\"yaxis\":\"y\",\"type\":\"scatter\"},{\"hovertemplate\":\"variable=n*=16001<br>Games played=%{x}<br>value=%{y}<extra></extra>\",\"legendgroup\":\"n*=16001\",\"line\":{\"color\":\"#EF553B\",\"dash\":\"solid\"},\"marker\":{\"symbol\":\"circle\"},\"mode\":\"lines\",\"name\":\"n*=16001\",\"orientation\":\"v\",\"showlegend\":true,\"x\":[250,500,750,1000,1250,1500,1750,2000,2250,2500,2750,3000,3250,3500,3750,4000,4250,4500,4750,5000,5250,5500,5750,6000,6250,6500,6750,7000,7250,7500,7750,8000,8250,8500,8750,9000,9250,9500,9750,10000,10250,10500,10750,11000,11250,11500,11750,12000,12250,12500,12750,13000,13250,13500,13750,14000,14250,14500,14750,15000,15250,15500,15750,16000,16250,16500,16750,17000,17250,17500,17750,18000,18250,18500,18750,19000,19250,19500,19750],\"xaxis\":\"x\",\"y\":[-0.36254980079681276,-0.464,-0.336,-0.416,-0.4,-0.304,-0.288,-0.304,-0.28,-0.304,-0.36,-0.104,-0.232,-0.152,-0.16,-0.12,-0.264,-0.064,-0.096,-0.112,-0.168,-0.048,-0.128,-0.152,-0.016,0.0,0.04,-0.056,-0.024,-0.088,-0.08,-0.048,0.048,0.064,0.008,0.168,0.176,0.112,0.136,0.16,0.096,0.152,0.248,0.328,0.24,0.2,0.264,0.344,0.376,0.464,0.416,0.536,0.464,0.392,0.376,0.48,0.44,0.52,0.432,0.392,0.504,0.48,0.616,0.464,0.448,0.408,0.528,0.56,0.376,0.392,0.464,0.456,0.52,0.496,0.432,0.544,0.512,0.608,0.384],\"yaxis\":\"y\",\"type\":\"scatter\"},{\"hovertemplate\":\"variable=n*=24000<br>Games played=%{x}<br>value=%{y}<extra></extra>\",\"legendgroup\":\"n*=24000\",\"line\":{\"color\":\"#00cc96\",\"dash\":\"solid\"},\"marker\":{\"symbol\":\"circle\"},\"mode\":\"lines\",\"name\":\"n*=24000\",\"orientation\":\"v\",\"showlegend\":true,\"x\":[250,500,750,1000,1250,1500,1750,2000,2250,2500,2750,3000,3250,3500,3750,4000,4250,4500,4750,5000,5250,5500,5750,6000,6250,6500,6750,7000,7250,7500,7750,8000,8250,8500,8750,9000,9250,9500,9750,10000,10250,10500,10750,11000,11250,11500,11750,12000,12250,12500,12750,13000,13250,13500,13750,14000,14250,14500,14750,15000,15250,15500,15750,16000,16250,16500,16750,17000,17250,17500,17750,18000,18250,18500,18750,19000,19250,19500,19750],\"xaxis\":\"x\",\"y\":[-0.450199203187251,-0.368,-0.4,-0.44,-0.328,-0.296,-0.376,-0.296,-0.36,-0.272,-0.296,-0.272,-0.24,-0.32,-0.192,-0.248,-0.256,-0.104,-0.216,-0.248,-0.304,-0.248,-0.104,-0.216,-0.08,-0.248,-0.08,-0.048,0.008,-0.128,-0.008,-0.064,-0.016,-0.04,-0.08,-0.096,-0.032,-0.088,0.048,0.056,0.008,0.048,0.056,-0.032,-0.04,0.12,0.152,0.064,0.16,0.08,0.056,0.168,0.192,0.2,0.096,0.08,0.2,0.28,0.128,0.296,0.184,0.248,0.168,0.24,0.264,0.288,0.208,0.32,0.392,0.432,0.248,0.408,0.296,0.344,0.344,0.4,0.456,0.352,0.52],\"yaxis\":\"y\",\"type\":\"scatter\"},{\"hovertemplate\":\"variable=n*=32000<br>Games played=%{x}<br>value=%{y}<extra></extra>\",\"legendgroup\":\"n*=32000\",\"line\":{\"color\":\"#ab63fa\",\"dash\":\"solid\"},\"marker\":{\"symbol\":\"circle\"},\"mode\":\"lines\",\"name\":\"n*=32000\",\"orientation\":\"v\",\"showlegend\":true,\"x\":[250,500,750,1000,1250,1500,1750,2000,2250,2500,2750,3000,3250,3500,3750,4000,4250,4500,4750,5000,5250,5500,5750,6000,6250,6500,6750,7000,7250,7500,7750,8000,8250,8500,8750,9000,9250,9500,9750,10000,10250,10500,10750,11000,11250,11500,11750,12000,12250,12500,12750,13000,13250,13500,13750,14000,14250,14500,14750,15000,15250,15500,15750,16000,16250,16500,16750,17000,17250,17500,17750,18000,18250,18500,18750,19000,19250,19500,19750],\"xaxis\":\"x\",\"y\":[-0.40239043824701193,-0.256,-0.4,-0.32,-0.4,-0.264,-0.376,-0.32,-0.336,-0.296,-0.28,-0.392,-0.264,-0.272,-0.304,-0.256,-0.24,-0.336,-0.256,-0.2,-0.24,-0.24,-0.288,-0.256,-0.2,-0.216,-0.152,-0.184,-0.2,-0.152,-0.144,-0.144,-0.232,-0.104,-0.088,-0.12,0.032,-0.024,-0.12,-0.048,-0.088,-0.088,-0.136,-0.016,-0.072,0.096,-0.088,-0.056,-0.056,0.0,0.0,-0.016,0.016,0.04,0.016,0.016,0.016,0.12,0.136,-0.072,0.064,0.032,0.064,0.08,0.112,0.104,0.032,0.144,0.088,0.216,0.096,0.16,0.176,0.208,0.216,0.232,0.28,0.288,0.192],\"yaxis\":\"y\",\"type\":\"scatter\"},{\"hovertemplate\":\"variable=n*=40000<br>Games played=%{x}<br>value=%{y}<extra></extra>\",\"legendgroup\":\"n*=40000\",\"line\":{\"color\":\"#FFA15A\",\"dash\":\"solid\"},\"marker\":{\"symbol\":\"circle\"},\"mode\":\"lines\",\"name\":\"n*=40000\",\"orientation\":\"v\",\"showlegend\":true,\"x\":[250,500,750,1000,1250,1500,1750,2000,2250,2500,2750,3000,3250,3500,3750,4000,4250,4500,4750,5000,5250,5500,5750,6000,6250,6500,6750,7000,7250,7500,7750,8000,8250,8500,8750,9000,9250,9500,9750,10000,10250,10500,10750,11000,11250,11500,11750,12000,12250,12500,12750,13000,13250,13500,13750,14000,14250,14500,14750,15000,15250,15500,15750,16000,16250,16500,16750,17000,17250,17500,17750,18000,18250,18500,18750,19000,19250,19500,19750],\"xaxis\":\"x\",\"y\":[-0.3944223107569721,-0.368,-0.456,-0.376,-0.32,-0.256,-0.408,-0.416,-0.256,-0.288,-0.352,-0.32,-0.352,-0.288,-0.216,-0.288,-0.264,-0.248,-0.336,-0.328,-0.224,-0.264,-0.28,-0.248,-0.32,-0.296,-0.24,-0.144,-0.2,-0.176,-0.192,-0.224,-0.216,-0.144,-0.12,-0.152,-0.2,0.024,-0.192,-0.136,-0.064,-0.104,-0.176,-0.16,-0.104,-0.168,-0.016,-0.16,-0.128,-0.072,-0.048,-0.152,-0.168,-0.096,0.04,-0.032,0.032,-0.08,-0.048,-0.072,-0.048,-0.12,-0.056,-0.056,0.072,0.056,0.016,0.064,0.0,0.024,0.016,-0.032,0.04,0.104,0.064,0.0,0.072,-0.032,-0.008],\"yaxis\":\"y\",\"type\":\"scatter\"},{\"hovertemplate\":\"variable=n*=8001<br>Games played=%{x}<br>value=%{y}<extra></extra>\",\"legendgroup\":\"n*=8001\",\"line\":{\"color\":\"#19d3f3\",\"dash\":\"solid\"},\"marker\":{\"symbol\":\"circle\"},\"mode\":\"lines\",\"name\":\"n*=8001\",\"orientation\":\"v\",\"showlegend\":true,\"x\":[250,500,750,1000,1250,1500,1750,2000,2250,2500,2750,3000,3250,3500,3750,4000,4250,4500,4750,5000,5250,5500,5750,6000,6250,6500,6750,7000,7250,7500,7750,8000,8250,8500,8750,9000,9250,9500,9750,10000,10250,10500,10750,11000,11250,11500,11750,12000,12250,12500,12750,13000,13250,13500,13750,14000,14250,14500,14750,15000,15250,15500,15750,16000,16250,16500,16750,17000,17250,17500,17750,18000,18250,18500,18750,19000,19250,19500,19750],\"xaxis\":\"x\",\"y\":[-0.41832669322709165,-0.392,-0.304,-0.28,-0.256,-0.4,-0.344,-0.152,-0.208,-0.256,-0.096,-0.056,-0.144,-0.112,0.056,0.016,0.024,-0.024,0.144,0.192,0.072,0.312,0.096,0.232,0.352,0.376,0.336,0.384,0.464,0.528,0.376,0.408,0.472,0.44,0.392,0.432,0.328,0.448,0.344,0.416,0.376,0.472,0.4,0.408,0.48,0.44,0.448,0.408,0.464,0.4,0.4,0.488,0.496,0.392,0.488,0.496,0.416,0.504,0.448,0.416,0.456,0.4,0.424,0.376,0.472,0.496,0.512,0.512,0.432,0.536,0.504,0.424,0.352,0.408,0.536,0.512,0.464,0.552,0.568],\"yaxis\":\"y\",\"type\":\"scatter\"}],                        {\"template\":{\"data\":{\"histogram2dcontour\":[{\"type\":\"histogram2dcontour\",\"colorbar\":{\"outlinewidth\":0,\"ticks\":\"\"},\"colorscale\":[[0.0,\"#0d0887\"],[0.1111111111111111,\"#46039f\"],[0.2222222222222222,\"#7201a8\"],[0.3333333333333333,\"#9c179e\"],[0.4444444444444444,\"#bd3786\"],[0.5555555555555556,\"#d8576b\"],[0.6666666666666666,\"#ed7953\"],[0.7777777777777778,\"#fb9f3a\"],[0.8888888888888888,\"#fdca26\"],[1.0,\"#f0f921\"]]}],\"choropleth\":[{\"type\":\"choropleth\",\"colorbar\":{\"outlinewidth\":0,\"ticks\":\"\"}}],\"histogram2d\":[{\"type\":\"histogram2d\",\"colorbar\":{\"outlinewidth\":0,\"ticks\":\"\"},\"colorscale\":[[0.0,\"#0d0887\"],[0.1111111111111111,\"#46039f\"],[0.2222222222222222,\"#7201a8\"],[0.3333333333333333,\"#9c179e\"],[0.4444444444444444,\"#bd3786\"],[0.5555555555555556,\"#d8576b\"],[0.6666666666666666,\"#ed7953\"],[0.7777777777777778,\"#fb9f3a\"],[0.8888888888888888,\"#fdca26\"],[1.0,\"#f0f921\"]]}],\"heatmap\":[{\"type\":\"heatmap\",\"colorbar\":{\"outlinewidth\":0,\"ticks\":\"\"},\"colorscale\":[[0.0,\"#0d0887\"],[0.1111111111111111,\"#46039f\"],[0.2222222222222222,\"#7201a8\"],[0.3333333333333333,\"#9c179e\"],[0.4444444444444444,\"#bd3786\"],[0.5555555555555556,\"#d8576b\"],[0.6666666666666666,\"#ed7953\"],[0.7777777777777778,\"#fb9f3a\"],[0.8888888888888888,\"#fdca26\"],[1.0,\"#f0f921\"]]}],\"heatmapgl\":[{\"type\":\"heatmapgl\",\"colorbar\":{\"outlinewidth\":0,\"ticks\":\"\"},\"colorscale\":[[0.0,\"#0d0887\"],[0.1111111111111111,\"#46039f\"],[0.2222222222222222,\"#7201a8\"],[0.3333333333333333,\"#9c179e\"],[0.4444444444444444,\"#bd3786\"],[0.5555555555555556,\"#d8576b\"],[0.6666666666666666,\"#ed7953\"],[0.7777777777777778,\"#fb9f3a\"],[0.8888888888888888,\"#fdca26\"],[1.0,\"#f0f921\"]]}],\"contourcarpet\":[{\"type\":\"contourcarpet\",\"colorbar\":{\"outlinewidth\":0,\"ticks\":\"\"}}],\"contour\":[{\"type\":\"contour\",\"colorbar\":{\"outlinewidth\":0,\"ticks\":\"\"},\"colorscale\":[[0.0,\"#0d0887\"],[0.1111111111111111,\"#46039f\"],[0.2222222222222222,\"#7201a8\"],[0.3333333333333333,\"#9c179e\"],[0.4444444444444444,\"#bd3786\"],[0.5555555555555556,\"#d8576b\"],[0.6666666666666666,\"#ed7953\"],[0.7777777777777778,\"#fb9f3a\"],[0.8888888888888888,\"#fdca26\"],[1.0,\"#f0f921\"]]}],\"surface\":[{\"type\":\"surface\",\"colorbar\":{\"outlinewidth\":0,\"ticks\":\"\"},\"colorscale\":[[0.0,\"#0d0887\"],[0.1111111111111111,\"#46039f\"],[0.2222222222222222,\"#7201a8\"],[0.3333333333333333,\"#9c179e\"],[0.4444444444444444,\"#bd3786\"],[0.5555555555555556,\"#d8576b\"],[0.6666666666666666,\"#ed7953\"],[0.7777777777777778,\"#fb9f3a\"],[0.8888888888888888,\"#fdca26\"],[1.0,\"#f0f921\"]]}],\"mesh3d\":[{\"type\":\"mesh3d\",\"colorbar\":{\"outlinewidth\":0,\"ticks\":\"\"}}],\"scatter\":[{\"fillpattern\":{\"fillmode\":\"overlay\",\"size\":10,\"solidity\":0.2},\"type\":\"scatter\"}],\"parcoords\":[{\"type\":\"parcoords\",\"line\":{\"colorbar\":{\"outlinewidth\":0,\"ticks\":\"\"}}}],\"scatterpolargl\":[{\"type\":\"scatterpolargl\",\"marker\":{\"colorbar\":{\"outlinewidth\":0,\"ticks\":\"\"}}}],\"bar\":[{\"error_x\":{\"color\":\"#2a3f5f\"},\"error_y\":{\"color\":\"#2a3f5f\"},\"marker\":{\"line\":{\"color\":\"#E5ECF6\",\"width\":0.5},\"pattern\":{\"fillmode\":\"overlay\",\"size\":10,\"solidity\":0.2}},\"type\":\"bar\"}],\"scattergeo\":[{\"type\":\"scattergeo\",\"marker\":{\"colorbar\":{\"outlinewidth\":0,\"ticks\":\"\"}}}],\"scatterpolar\":[{\"type\":\"scatterpolar\",\"marker\":{\"colorbar\":{\"outlinewidth\":0,\"ticks\":\"\"}}}],\"histogram\":[{\"marker\":{\"pattern\":{\"fillmode\":\"overlay\",\"size\":10,\"solidity\":0.2}},\"type\":\"histogram\"}],\"scattergl\":[{\"type\":\"scattergl\",\"marker\":{\"colorbar\":{\"outlinewidth\":0,\"ticks\":\"\"}}}],\"scatter3d\":[{\"type\":\"scatter3d\",\"line\":{\"colorbar\":{\"outlinewidth\":0,\"ticks\":\"\"}},\"marker\":{\"colorbar\":{\"outlinewidth\":0,\"ticks\":\"\"}}}],\"scattermapbox\":[{\"type\":\"scattermapbox\",\"marker\":{\"colorbar\":{\"outlinewidth\":0,\"ticks\":\"\"}}}],\"scatterternary\":[{\"type\":\"scatterternary\",\"marker\":{\"colorbar\":{\"outlinewidth\":0,\"ticks\":\"\"}}}],\"scattercarpet\":[{\"type\":\"scattercarpet\",\"marker\":{\"colorbar\":{\"outlinewidth\":0,\"ticks\":\"\"}}}],\"carpet\":[{\"aaxis\":{\"endlinecolor\":\"#2a3f5f\",\"gridcolor\":\"white\",\"linecolor\":\"white\",\"minorgridcolor\":\"white\",\"startlinecolor\":\"#2a3f5f\"},\"baxis\":{\"endlinecolor\":\"#2a3f5f\",\"gridcolor\":\"white\",\"linecolor\":\"white\",\"minorgridcolor\":\"white\",\"startlinecolor\":\"#2a3f5f\"},\"type\":\"carpet\"}],\"table\":[{\"cells\":{\"fill\":{\"color\":\"#EBF0F8\"},\"line\":{\"color\":\"white\"}},\"header\":{\"fill\":{\"color\":\"#C8D4E3\"},\"line\":{\"color\":\"white\"}},\"type\":\"table\"}],\"barpolar\":[{\"marker\":{\"line\":{\"color\":\"#E5ECF6\",\"width\":0.5},\"pattern\":{\"fillmode\":\"overlay\",\"size\":10,\"solidity\":0.2}},\"type\":\"barpolar\"}],\"pie\":[{\"automargin\":true,\"type\":\"pie\"}]},\"layout\":{\"autotypenumbers\":\"strict\",\"colorway\":[\"#636efa\",\"#EF553B\",\"#00cc96\",\"#ab63fa\",\"#FFA15A\",\"#19d3f3\",\"#FF6692\",\"#B6E880\",\"#FF97FF\",\"#FECB52\"],\"font\":{\"color\":\"#2a3f5f\"},\"hovermode\":\"closest\",\"hoverlabel\":{\"align\":\"left\"},\"paper_bgcolor\":\"white\",\"plot_bgcolor\":\"#E5ECF6\",\"polar\":{\"bgcolor\":\"#E5ECF6\",\"angularaxis\":{\"gridcolor\":\"white\",\"linecolor\":\"white\",\"ticks\":\"\"},\"radialaxis\":{\"gridcolor\":\"white\",\"linecolor\":\"white\",\"ticks\":\"\"}},\"ternary\":{\"bgcolor\":\"#E5ECF6\",\"aaxis\":{\"gridcolor\":\"white\",\"linecolor\":\"white\",\"ticks\":\"\"},\"baxis\":{\"gridcolor\":\"white\",\"linecolor\":\"white\",\"ticks\":\"\"},\"caxis\":{\"gridcolor\":\"white\",\"linecolor\":\"white\",\"ticks\":\"\"}},\"coloraxis\":{\"colorbar\":{\"outlinewidth\":0,\"ticks\":\"\"}},\"colorscale\":{\"sequential\":[[0.0,\"#0d0887\"],[0.1111111111111111,\"#46039f\"],[0.2222222222222222,\"#7201a8\"],[0.3333333333333333,\"#9c179e\"],[0.4444444444444444,\"#bd3786\"],[0.5555555555555556,\"#d8576b\"],[0.6666666666666666,\"#ed7953\"],[0.7777777777777778,\"#fb9f3a\"],[0.8888888888888888,\"#fdca26\"],[1.0,\"#f0f921\"]],\"sequentialminus\":[[0.0,\"#0d0887\"],[0.1111111111111111,\"#46039f\"],[0.2222222222222222,\"#7201a8\"],[0.3333333333333333,\"#9c179e\"],[0.4444444444444444,\"#bd3786\"],[0.5555555555555556,\"#d8576b\"],[0.6666666666666666,\"#ed7953\"],[0.7777777777777778,\"#fb9f3a\"],[0.8888888888888888,\"#fdca26\"],[1.0,\"#f0f921\"]],\"diverging\":[[0,\"#8e0152\"],[0.1,\"#c51b7d\"],[0.2,\"#de77ae\"],[0.3,\"#f1b6da\"],[0.4,\"#fde0ef\"],[0.5,\"#f7f7f7\"],[0.6,\"#e6f5d0\"],[0.7,\"#b8e186\"],[0.8,\"#7fbc41\"],[0.9,\"#4d9221\"],[1,\"#276419\"]]},\"xaxis\":{\"gridcolor\":\"white\",\"linecolor\":\"white\",\"ticks\":\"\",\"title\":{\"standoff\":15},\"zerolinecolor\":\"white\",\"automargin\":true,\"zerolinewidth\":2},\"yaxis\":{\"gridcolor\":\"white\",\"linecolor\":\"white\",\"ticks\":\"\",\"title\":{\"standoff\":15},\"zerolinecolor\":\"white\",\"automargin\":true,\"zerolinewidth\":2},\"scene\":{\"xaxis\":{\"backgroundcolor\":\"#E5ECF6\",\"gridcolor\":\"white\",\"linecolor\":\"white\",\"showbackground\":true,\"ticks\":\"\",\"zerolinecolor\":\"white\",\"gridwidth\":2},\"yaxis\":{\"backgroundcolor\":\"#E5ECF6\",\"gridcolor\":\"white\",\"linecolor\":\"white\",\"showbackground\":true,\"ticks\":\"\",\"zerolinecolor\":\"white\",\"gridwidth\":2},\"zaxis\":{\"backgroundcolor\":\"#E5ECF6\",\"gridcolor\":\"white\",\"linecolor\":\"white\",\"showbackground\":true,\"ticks\":\"\",\"zerolinecolor\":\"white\",\"gridwidth\":2}},\"shapedefaults\":{\"line\":{\"color\":\"#2a3f5f\"}},\"annotationdefaults\":{\"arrowcolor\":\"#2a3f5f\",\"arrowhead\":0,\"arrowwidth\":1},\"geo\":{\"bgcolor\":\"white\",\"landcolor\":\"#E5ECF6\",\"subunitcolor\":\"white\",\"showland\":true,\"showlakes\":true,\"lakecolor\":\"white\"},\"title\":{\"x\":0.05},\"mapbox\":{\"style\":\"light\"}}},\"xaxis\":{\"anchor\":\"y\",\"domain\":[0.0,1.0],\"title\":{\"text\":\"Games played\"}},\"yaxis\":{\"anchor\":\"x\",\"domain\":[0.0,1.0],\"title\":{\"text\":\"Mean reward\"}},\"legend\":{\"title\":{\"text\":\"variable\"},\"tracegroupgap\":0},\"title\":{\"text\":\"Training with Decreasing epsilon. Comparing different n* values\"},\"width\":800},                        {\"responsive\": true}                    ).then(function(){\n",
       "                            \n",
       "var gd = document.getElementById('5102becb-be55-48e6-9408-4416966922a3');\n",
       "var x = new MutationObserver(function (mutations, observer) {{\n",
       "        var display = window.getComputedStyle(gd).display;\n",
       "        if (!display || display === 'none') {{\n",
       "            console.log([gd, 'removed!']);\n",
       "            Plotly.purge(gd);\n",
       "            observer.disconnect();\n",
       "        }}\n",
       "}});\n",
       "\n",
       "// Listen for the removal of the full notebook cells\n",
       "var notebookContainer = gd.closest('#notebook-container');\n",
       "if (notebookContainer) {{\n",
       "    x.observe(notebookContainer, {childList: true});\n",
       "}}\n",
       "\n",
       "// Listen for the clearing of the current output cell\n",
       "var outputEl = gd.closest('.output');\n",
       "if (outputEl) {{\n",
       "    x.observe(outputEl, {childList: true});\n",
       "}}\n",
       "\n",
       "                        })                };                });            </script>        </div>"
      ]
     },
     "metadata": {},
     "output_type": "display_data"
    }
   ],
   "source": [
    "df = training_results[1]\n",
    "fig = px.line(df, x='Games played', y=df.columns.difference(['Games played']), title=f'Training with Decreasing epsilon. Comparing different n* values')\n",
    "fig.update_layout(width=800)\n",
    "fig.update_yaxes(title='Mean reward')\n",
    "fig.show()"
   ]
  },
  {
   "cell_type": "markdown",
   "metadata": {
    "collapsed": false,
    "pycharm": {
     "name": "#%% md\n"
    }
   },
   "source": [
    "It seems like n*=1 gives an extra boost in learning in the beginning, making the mean reward curve grow faster. Higher values seem to have similar results to fixed eps and n*>6000 means a slower learning curve but explores more possibilities. The sweet spot is converging to the same mean reward in 20'000 games while achieving a lower generalization error."
   ]
  },
  {
   "cell_type": "markdown",
   "metadata": {
    "collapsed": false,
    "pycharm": {
     "name": "#%% md\n"
    }
   },
   "source": [
    "### Question 3\n",
    "After every 250 games during training, compute the ‘test’ Mopt and Mrand for your agents – when measuring the ‘test’ performance, put eps = 0 and do not update the Q-values. Plot Mopt and Mrand over time. Describe the differences and the similarities between these curves and the ones of the previous question.\n",
    "\n",
    "(M_opt/rand = (N_win - N_win)/ N_tot)\n",
    "\n",
    "Expected answer: A figure showing Mopt and Mrand over time for different values of n* (caption length < 100 words)."
   ]
  },
  {
   "cell_type": "code",
   "execution_count": 34,
   "metadata": {
    "collapsed": false,
    "pycharm": {
     "name": "#%%\n"
    }
   },
   "outputs": [],
   "source": [
    "if not use_backup:\n",
    "    env = NimEnv()\n",
    "    metrics,_=q_learning(env,num_games=20000, eps_q=0.1, gamma= 0.99, test=True, verbose=False)\n",
    "    x = np.arange(1,len(metrics[0])+1)*METRICS_FREQUENCY\n",
    "    df = {'Games played':list(x),\n",
    "    'Mean reward':metrics[0],\n",
    "    'M_opt':metrics[1],\n",
    "    'M_rand':metrics[2]}\n",
    "    df = pd.DataFrame(df)\n",
    "    training_results.append([x,df])"
   ]
  },
  {
   "cell_type": "code",
   "execution_count": 35,
   "metadata": {
    "collapsed": false,
    "pycharm": {
     "name": "#%%\n"
    }
   },
   "outputs": [
    {
     "data": {
      "application/vnd.plotly.v1+json": {
       "config": {
        "plotlyServerURL": "https://plot.ly"
       },
       "data": [
        {
         "hovertemplate": "variable=M_opt<br>Games played=%{x}<br>value=%{y}<extra></extra>",
         "legendgroup": "M_opt",
         "line": {
          "color": "#636efa",
          "dash": "solid"
         },
         "marker": {
          "symbol": "circle"
         },
         "mode": "lines",
         "name": "M_opt",
         "orientation": "v",
         "showlegend": true,
         "type": "scatter",
         "x": [
          250,
          500,
          750,
          1000,
          1250,
          1500,
          1750,
          2000,
          2250,
          2500,
          2750,
          3000,
          3250,
          3500,
          3750,
          4000,
          4250,
          4500,
          4750,
          5000,
          5250,
          5500,
          5750,
          6000,
          6250,
          6500,
          6750,
          7000,
          7250,
          7500,
          7750,
          8000,
          8250,
          8500,
          8750,
          9000,
          9250,
          9500,
          9750,
          10000,
          10250,
          10500,
          10750,
          11000,
          11250,
          11500,
          11750,
          12000,
          12250,
          12500,
          12750,
          13000,
          13250,
          13500,
          13750,
          14000,
          14250,
          14500,
          14750,
          15000,
          15250,
          15500,
          15750,
          16000,
          16250,
          16500,
          16750,
          17000,
          17250,
          17500,
          17750,
          18000,
          18250,
          18500,
          18750,
          19000,
          19250,
          19500,
          19750
         ],
         "xaxis": "x",
         "y": [
          -0.988,
          -0.972,
          -0.964,
          -0.956,
          -0.964,
          -0.932,
          -0.928,
          -0.912,
          -0.876,
          -0.92,
          -0.884,
          -0.908,
          -0.936,
          -0.888,
          -0.924,
          -0.864,
          -0.936,
          -0.896,
          -0.908,
          -0.94,
          -0.9,
          -0.92,
          -0.884,
          -0.904,
          -0.884,
          -0.912,
          -0.888,
          -0.924,
          -0.88,
          -0.912,
          -0.92,
          -0.912,
          -0.928,
          -0.884,
          -0.92,
          -0.908,
          -0.908,
          -0.872,
          -0.924,
          -0.888,
          -0.896,
          -0.904,
          -0.88,
          -0.912,
          -0.896,
          -0.912,
          -0.9,
          -0.932,
          -0.884,
          -0.892,
          -0.908,
          -0.908,
          -0.892,
          -0.92,
          -0.92,
          -0.928,
          -0.912,
          -0.924,
          -0.908,
          -0.896,
          -0.88,
          -0.9,
          -0.896,
          -0.884,
          -0.888,
          -0.9,
          -0.88,
          -0.92,
          -0.892,
          -0.912,
          -0.9,
          -0.872,
          -0.928,
          -0.896,
          -0.892,
          -0.9,
          -0.876,
          -0.884,
          -0.888
         ],
         "yaxis": "y"
        },
        {
         "hovertemplate": "variable=M_rand<br>Games played=%{x}<br>value=%{y}<extra></extra>",
         "legendgroup": "M_rand",
         "line": {
          "color": "#EF553B",
          "dash": "solid"
         },
         "marker": {
          "symbol": "circle"
         },
         "mode": "lines",
         "name": "M_rand",
         "orientation": "v",
         "showlegend": true,
         "type": "scatter",
         "x": [
          250,
          500,
          750,
          1000,
          1250,
          1500,
          1750,
          2000,
          2250,
          2500,
          2750,
          3000,
          3250,
          3500,
          3750,
          4000,
          4250,
          4500,
          4750,
          5000,
          5250,
          5500,
          5750,
          6000,
          6250,
          6500,
          6750,
          7000,
          7250,
          7500,
          7750,
          8000,
          8250,
          8500,
          8750,
          9000,
          9250,
          9500,
          9750,
          10000,
          10250,
          10500,
          10750,
          11000,
          11250,
          11500,
          11750,
          12000,
          12250,
          12500,
          12750,
          13000,
          13250,
          13500,
          13750,
          14000,
          14250,
          14500,
          14750,
          15000,
          15250,
          15500,
          15750,
          16000,
          16250,
          16500,
          16750,
          17000,
          17250,
          17500,
          17750,
          18000,
          18250,
          18500,
          18750,
          19000,
          19250,
          19500,
          19750
         ],
         "xaxis": "x",
         "y": [
          0.632,
          0.748,
          0.752,
          0.78,
          0.828,
          0.84,
          0.88,
          0.9,
          0.916,
          0.916,
          0.928,
          0.948,
          0.924,
          0.96,
          0.968,
          0.968,
          0.944,
          0.956,
          0.988,
          0.968,
          0.956,
          0.944,
          0.928,
          0.956,
          0.98,
          0.96,
          0.972,
          0.956,
          0.94,
          0.968,
          0.968,
          0.94,
          0.976,
          0.984,
          0.972,
          0.968,
          0.96,
          0.976,
          0.972,
          0.976,
          0.984,
          0.98,
          0.988,
          0.988,
          0.984,
          0.98,
          0.984,
          0.968,
          0.98,
          0.988,
          0.98,
          0.992,
          0.988,
          0.976,
          0.992,
          0.964,
          0.984,
          0.956,
          0.976,
          0.972,
          0.968,
          0.94,
          0.968,
          0.976,
          0.98,
          0.968,
          0.984,
          0.972,
          0.992,
          0.992,
          0.976,
          0.972,
          0.976,
          0.98,
          0.996,
          0.98,
          0.98,
          0.976,
          0.98
         ],
         "yaxis": "y"
        },
        {
         "hovertemplate": "variable=Mean reward<br>Games played=%{x}<br>value=%{y}<extra></extra>",
         "legendgroup": "Mean reward",
         "line": {
          "color": "#00cc96",
          "dash": "solid"
         },
         "marker": {
          "symbol": "circle"
         },
         "mode": "lines",
         "name": "Mean reward",
         "orientation": "v",
         "showlegend": true,
         "type": "scatter",
         "x": [
          250,
          500,
          750,
          1000,
          1250,
          1500,
          1750,
          2000,
          2250,
          2500,
          2750,
          3000,
          3250,
          3500,
          3750,
          4000,
          4250,
          4500,
          4750,
          5000,
          5250,
          5500,
          5750,
          6000,
          6250,
          6500,
          6750,
          7000,
          7250,
          7500,
          7750,
          8000,
          8250,
          8500,
          8750,
          9000,
          9250,
          9500,
          9750,
          10000,
          10250,
          10500,
          10750,
          11000,
          11250,
          11500,
          11750,
          12000,
          12250,
          12500,
          12750,
          13000,
          13250,
          13500,
          13750,
          14000,
          14250,
          14500,
          14750,
          15000,
          15250,
          15500,
          15750,
          16000,
          16250,
          16500,
          16750,
          17000,
          17250,
          17500,
          17750,
          18000,
          18250,
          18500,
          18750,
          19000,
          19250,
          19500,
          19750
         ],
         "xaxis": "x",
         "y": [
          -0.33067729083665337,
          0.056,
          0,
          0.128,
          0.136,
          0.272,
          0.28,
          0.344,
          0.384,
          0.288,
          0.512,
          0.36,
          0.376,
          0.424,
          0.312,
          0.376,
          0.4,
          0.464,
          0.536,
          0.528,
          0.432,
          0.48,
          0.432,
          0.424,
          0.432,
          0.456,
          0.488,
          0.432,
          0.4,
          0.312,
          0.48,
          0.392,
          0.48,
          0.464,
          0.416,
          0.44,
          0.448,
          0.368,
          0.392,
          0.456,
          0.472,
          0.536,
          0.544,
          0.432,
          0.352,
          0.4,
          0.448,
          0.376,
          0.408,
          0.464,
          0.368,
          0.472,
          0.504,
          0.552,
          0.48,
          0.392,
          0.512,
          0.408,
          0.408,
          0.384,
          0.424,
          0.392,
          0.36,
          0.44,
          0.416,
          0.432,
          0.408,
          0.52,
          0.552,
          0.448,
          0.464,
          0.504,
          0.488,
          0.416,
          0.44,
          0.392,
          0.392,
          0.528,
          0.496
         ],
         "yaxis": "y"
        }
       ],
       "layout": {
        "legend": {
         "title": {
          "text": "variable"
         },
         "tracegroupgap": 0
        },
        "template": {
         "data": {
          "bar": [
           {
            "error_x": {
             "color": "#2a3f5f"
            },
            "error_y": {
             "color": "#2a3f5f"
            },
            "marker": {
             "line": {
              "color": "#E5ECF6",
              "width": 0.5
             },
             "pattern": {
              "fillmode": "overlay",
              "size": 10,
              "solidity": 0.2
             }
            },
            "type": "bar"
           }
          ],
          "barpolar": [
           {
            "marker": {
             "line": {
              "color": "#E5ECF6",
              "width": 0.5
             },
             "pattern": {
              "fillmode": "overlay",
              "size": 10,
              "solidity": 0.2
             }
            },
            "type": "barpolar"
           }
          ],
          "carpet": [
           {
            "aaxis": {
             "endlinecolor": "#2a3f5f",
             "gridcolor": "white",
             "linecolor": "white",
             "minorgridcolor": "white",
             "startlinecolor": "#2a3f5f"
            },
            "baxis": {
             "endlinecolor": "#2a3f5f",
             "gridcolor": "white",
             "linecolor": "white",
             "minorgridcolor": "white",
             "startlinecolor": "#2a3f5f"
            },
            "type": "carpet"
           }
          ],
          "choropleth": [
           {
            "colorbar": {
             "outlinewidth": 0,
             "ticks": ""
            },
            "type": "choropleth"
           }
          ],
          "contour": [
           {
            "colorbar": {
             "outlinewidth": 0,
             "ticks": ""
            },
            "colorscale": [
             [
              0,
              "#0d0887"
             ],
             [
              0.1111111111111111,
              "#46039f"
             ],
             [
              0.2222222222222222,
              "#7201a8"
             ],
             [
              0.3333333333333333,
              "#9c179e"
             ],
             [
              0.4444444444444444,
              "#bd3786"
             ],
             [
              0.5555555555555556,
              "#d8576b"
             ],
             [
              0.6666666666666666,
              "#ed7953"
             ],
             [
              0.7777777777777778,
              "#fb9f3a"
             ],
             [
              0.8888888888888888,
              "#fdca26"
             ],
             [
              1,
              "#f0f921"
             ]
            ],
            "type": "contour"
           }
          ],
          "contourcarpet": [
           {
            "colorbar": {
             "outlinewidth": 0,
             "ticks": ""
            },
            "type": "contourcarpet"
           }
          ],
          "heatmap": [
           {
            "colorbar": {
             "outlinewidth": 0,
             "ticks": ""
            },
            "colorscale": [
             [
              0,
              "#0d0887"
             ],
             [
              0.1111111111111111,
              "#46039f"
             ],
             [
              0.2222222222222222,
              "#7201a8"
             ],
             [
              0.3333333333333333,
              "#9c179e"
             ],
             [
              0.4444444444444444,
              "#bd3786"
             ],
             [
              0.5555555555555556,
              "#d8576b"
             ],
             [
              0.6666666666666666,
              "#ed7953"
             ],
             [
              0.7777777777777778,
              "#fb9f3a"
             ],
             [
              0.8888888888888888,
              "#fdca26"
             ],
             [
              1,
              "#f0f921"
             ]
            ],
            "type": "heatmap"
           }
          ],
          "heatmapgl": [
           {
            "colorbar": {
             "outlinewidth": 0,
             "ticks": ""
            },
            "colorscale": [
             [
              0,
              "#0d0887"
             ],
             [
              0.1111111111111111,
              "#46039f"
             ],
             [
              0.2222222222222222,
              "#7201a8"
             ],
             [
              0.3333333333333333,
              "#9c179e"
             ],
             [
              0.4444444444444444,
              "#bd3786"
             ],
             [
              0.5555555555555556,
              "#d8576b"
             ],
             [
              0.6666666666666666,
              "#ed7953"
             ],
             [
              0.7777777777777778,
              "#fb9f3a"
             ],
             [
              0.8888888888888888,
              "#fdca26"
             ],
             [
              1,
              "#f0f921"
             ]
            ],
            "type": "heatmapgl"
           }
          ],
          "histogram": [
           {
            "marker": {
             "pattern": {
              "fillmode": "overlay",
              "size": 10,
              "solidity": 0.2
             }
            },
            "type": "histogram"
           }
          ],
          "histogram2d": [
           {
            "colorbar": {
             "outlinewidth": 0,
             "ticks": ""
            },
            "colorscale": [
             [
              0,
              "#0d0887"
             ],
             [
              0.1111111111111111,
              "#46039f"
             ],
             [
              0.2222222222222222,
              "#7201a8"
             ],
             [
              0.3333333333333333,
              "#9c179e"
             ],
             [
              0.4444444444444444,
              "#bd3786"
             ],
             [
              0.5555555555555556,
              "#d8576b"
             ],
             [
              0.6666666666666666,
              "#ed7953"
             ],
             [
              0.7777777777777778,
              "#fb9f3a"
             ],
             [
              0.8888888888888888,
              "#fdca26"
             ],
             [
              1,
              "#f0f921"
             ]
            ],
            "type": "histogram2d"
           }
          ],
          "histogram2dcontour": [
           {
            "colorbar": {
             "outlinewidth": 0,
             "ticks": ""
            },
            "colorscale": [
             [
              0,
              "#0d0887"
             ],
             [
              0.1111111111111111,
              "#46039f"
             ],
             [
              0.2222222222222222,
              "#7201a8"
             ],
             [
              0.3333333333333333,
              "#9c179e"
             ],
             [
              0.4444444444444444,
              "#bd3786"
             ],
             [
              0.5555555555555556,
              "#d8576b"
             ],
             [
              0.6666666666666666,
              "#ed7953"
             ],
             [
              0.7777777777777778,
              "#fb9f3a"
             ],
             [
              0.8888888888888888,
              "#fdca26"
             ],
             [
              1,
              "#f0f921"
             ]
            ],
            "type": "histogram2dcontour"
           }
          ],
          "mesh3d": [
           {
            "colorbar": {
             "outlinewidth": 0,
             "ticks": ""
            },
            "type": "mesh3d"
           }
          ],
          "parcoords": [
           {
            "line": {
             "colorbar": {
              "outlinewidth": 0,
              "ticks": ""
             }
            },
            "type": "parcoords"
           }
          ],
          "pie": [
           {
            "automargin": true,
            "type": "pie"
           }
          ],
          "scatter": [
           {
            "fillpattern": {
             "fillmode": "overlay",
             "size": 10,
             "solidity": 0.2
            },
            "type": "scatter"
           }
          ],
          "scatter3d": [
           {
            "line": {
             "colorbar": {
              "outlinewidth": 0,
              "ticks": ""
             }
            },
            "marker": {
             "colorbar": {
              "outlinewidth": 0,
              "ticks": ""
             }
            },
            "type": "scatter3d"
           }
          ],
          "scattercarpet": [
           {
            "marker": {
             "colorbar": {
              "outlinewidth": 0,
              "ticks": ""
             }
            },
            "type": "scattercarpet"
           }
          ],
          "scattergeo": [
           {
            "marker": {
             "colorbar": {
              "outlinewidth": 0,
              "ticks": ""
             }
            },
            "type": "scattergeo"
           }
          ],
          "scattergl": [
           {
            "marker": {
             "colorbar": {
              "outlinewidth": 0,
              "ticks": ""
             }
            },
            "type": "scattergl"
           }
          ],
          "scattermapbox": [
           {
            "marker": {
             "colorbar": {
              "outlinewidth": 0,
              "ticks": ""
             }
            },
            "type": "scattermapbox"
           }
          ],
          "scatterpolar": [
           {
            "marker": {
             "colorbar": {
              "outlinewidth": 0,
              "ticks": ""
             }
            },
            "type": "scatterpolar"
           }
          ],
          "scatterpolargl": [
           {
            "marker": {
             "colorbar": {
              "outlinewidth": 0,
              "ticks": ""
             }
            },
            "type": "scatterpolargl"
           }
          ],
          "scatterternary": [
           {
            "marker": {
             "colorbar": {
              "outlinewidth": 0,
              "ticks": ""
             }
            },
            "type": "scatterternary"
           }
          ],
          "surface": [
           {
            "colorbar": {
             "outlinewidth": 0,
             "ticks": ""
            },
            "colorscale": [
             [
              0,
              "#0d0887"
             ],
             [
              0.1111111111111111,
              "#46039f"
             ],
             [
              0.2222222222222222,
              "#7201a8"
             ],
             [
              0.3333333333333333,
              "#9c179e"
             ],
             [
              0.4444444444444444,
              "#bd3786"
             ],
             [
              0.5555555555555556,
              "#d8576b"
             ],
             [
              0.6666666666666666,
              "#ed7953"
             ],
             [
              0.7777777777777778,
              "#fb9f3a"
             ],
             [
              0.8888888888888888,
              "#fdca26"
             ],
             [
              1,
              "#f0f921"
             ]
            ],
            "type": "surface"
           }
          ],
          "table": [
           {
            "cells": {
             "fill": {
              "color": "#EBF0F8"
             },
             "line": {
              "color": "white"
             }
            },
            "header": {
             "fill": {
              "color": "#C8D4E3"
             },
             "line": {
              "color": "white"
             }
            },
            "type": "table"
           }
          ]
         },
         "layout": {
          "annotationdefaults": {
           "arrowcolor": "#2a3f5f",
           "arrowhead": 0,
           "arrowwidth": 1
          },
          "autotypenumbers": "strict",
          "coloraxis": {
           "colorbar": {
            "outlinewidth": 0,
            "ticks": ""
           }
          },
          "colorscale": {
           "diverging": [
            [
             0,
             "#8e0152"
            ],
            [
             0.1,
             "#c51b7d"
            ],
            [
             0.2,
             "#de77ae"
            ],
            [
             0.3,
             "#f1b6da"
            ],
            [
             0.4,
             "#fde0ef"
            ],
            [
             0.5,
             "#f7f7f7"
            ],
            [
             0.6,
             "#e6f5d0"
            ],
            [
             0.7,
             "#b8e186"
            ],
            [
             0.8,
             "#7fbc41"
            ],
            [
             0.9,
             "#4d9221"
            ],
            [
             1,
             "#276419"
            ]
           ],
           "sequential": [
            [
             0,
             "#0d0887"
            ],
            [
             0.1111111111111111,
             "#46039f"
            ],
            [
             0.2222222222222222,
             "#7201a8"
            ],
            [
             0.3333333333333333,
             "#9c179e"
            ],
            [
             0.4444444444444444,
             "#bd3786"
            ],
            [
             0.5555555555555556,
             "#d8576b"
            ],
            [
             0.6666666666666666,
             "#ed7953"
            ],
            [
             0.7777777777777778,
             "#fb9f3a"
            ],
            [
             0.8888888888888888,
             "#fdca26"
            ],
            [
             1,
             "#f0f921"
            ]
           ],
           "sequentialminus": [
            [
             0,
             "#0d0887"
            ],
            [
             0.1111111111111111,
             "#46039f"
            ],
            [
             0.2222222222222222,
             "#7201a8"
            ],
            [
             0.3333333333333333,
             "#9c179e"
            ],
            [
             0.4444444444444444,
             "#bd3786"
            ],
            [
             0.5555555555555556,
             "#d8576b"
            ],
            [
             0.6666666666666666,
             "#ed7953"
            ],
            [
             0.7777777777777778,
             "#fb9f3a"
            ],
            [
             0.8888888888888888,
             "#fdca26"
            ],
            [
             1,
             "#f0f921"
            ]
           ]
          },
          "colorway": [
           "#636efa",
           "#EF553B",
           "#00cc96",
           "#ab63fa",
           "#FFA15A",
           "#19d3f3",
           "#FF6692",
           "#B6E880",
           "#FF97FF",
           "#FECB52"
          ],
          "font": {
           "color": "#2a3f5f"
          },
          "geo": {
           "bgcolor": "white",
           "lakecolor": "white",
           "landcolor": "#E5ECF6",
           "showlakes": true,
           "showland": true,
           "subunitcolor": "white"
          },
          "hoverlabel": {
           "align": "left"
          },
          "hovermode": "closest",
          "mapbox": {
           "style": "light"
          },
          "paper_bgcolor": "white",
          "plot_bgcolor": "#E5ECF6",
          "polar": {
           "angularaxis": {
            "gridcolor": "white",
            "linecolor": "white",
            "ticks": ""
           },
           "bgcolor": "#E5ECF6",
           "radialaxis": {
            "gridcolor": "white",
            "linecolor": "white",
            "ticks": ""
           }
          },
          "scene": {
           "xaxis": {
            "backgroundcolor": "#E5ECF6",
            "gridcolor": "white",
            "gridwidth": 2,
            "linecolor": "white",
            "showbackground": true,
            "ticks": "",
            "zerolinecolor": "white"
           },
           "yaxis": {
            "backgroundcolor": "#E5ECF6",
            "gridcolor": "white",
            "gridwidth": 2,
            "linecolor": "white",
            "showbackground": true,
            "ticks": "",
            "zerolinecolor": "white"
           },
           "zaxis": {
            "backgroundcolor": "#E5ECF6",
            "gridcolor": "white",
            "gridwidth": 2,
            "linecolor": "white",
            "showbackground": true,
            "ticks": "",
            "zerolinecolor": "white"
           }
          },
          "shapedefaults": {
           "line": {
            "color": "#2a3f5f"
           }
          },
          "ternary": {
           "aaxis": {
            "gridcolor": "white",
            "linecolor": "white",
            "ticks": ""
           },
           "baxis": {
            "gridcolor": "white",
            "linecolor": "white",
            "ticks": ""
           },
           "bgcolor": "#E5ECF6",
           "caxis": {
            "gridcolor": "white",
            "linecolor": "white",
            "ticks": ""
           }
          },
          "title": {
           "x": 0.05
          },
          "xaxis": {
           "automargin": true,
           "gridcolor": "white",
           "linecolor": "white",
           "ticks": "",
           "title": {
            "standoff": 15
           },
           "zerolinecolor": "white",
           "zerolinewidth": 2
          },
          "yaxis": {
           "automargin": true,
           "gridcolor": "white",
           "linecolor": "white",
           "ticks": "",
           "title": {
            "standoff": 15
           },
           "zerolinecolor": "white",
           "zerolinewidth": 2
          }
         }
        },
        "title": {
         "text": "Training with testing"
        },
        "width": 600,
        "xaxis": {
         "anchor": "y",
         "domain": [
          0,
          1
         ],
         "title": {
          "text": "Games played"
         }
        },
        "yaxis": {
         "anchor": "x",
         "domain": [
          0,
          1
         ],
         "title": {
          "text": "Reward"
         }
        }
       }
      },
      "text/html": [
       "<div>                            <div id=\"e4109e34-3c5a-469e-9095-9d1795997833\" class=\"plotly-graph-div\" style=\"height:525px; width:600px;\"></div>            <script type=\"text/javascript\">                require([\"plotly\"], function(Plotly) {                    window.PLOTLYENV=window.PLOTLYENV || {};                                    if (document.getElementById(\"e4109e34-3c5a-469e-9095-9d1795997833\")) {                    Plotly.newPlot(                        \"e4109e34-3c5a-469e-9095-9d1795997833\",                        [{\"hovertemplate\":\"variable=M_opt<br>Games played=%{x}<br>value=%{y}<extra></extra>\",\"legendgroup\":\"M_opt\",\"line\":{\"color\":\"#636efa\",\"dash\":\"solid\"},\"marker\":{\"symbol\":\"circle\"},\"mode\":\"lines\",\"name\":\"M_opt\",\"orientation\":\"v\",\"showlegend\":true,\"x\":[250,500,750,1000,1250,1500,1750,2000,2250,2500,2750,3000,3250,3500,3750,4000,4250,4500,4750,5000,5250,5500,5750,6000,6250,6500,6750,7000,7250,7500,7750,8000,8250,8500,8750,9000,9250,9500,9750,10000,10250,10500,10750,11000,11250,11500,11750,12000,12250,12500,12750,13000,13250,13500,13750,14000,14250,14500,14750,15000,15250,15500,15750,16000,16250,16500,16750,17000,17250,17500,17750,18000,18250,18500,18750,19000,19250,19500,19750],\"xaxis\":\"x\",\"y\":[-0.988,-0.972,-0.964,-0.956,-0.964,-0.932,-0.928,-0.912,-0.876,-0.92,-0.884,-0.908,-0.936,-0.888,-0.924,-0.864,-0.936,-0.896,-0.908,-0.94,-0.9,-0.92,-0.884,-0.904,-0.884,-0.912,-0.888,-0.924,-0.88,-0.912,-0.92,-0.912,-0.928,-0.884,-0.92,-0.908,-0.908,-0.872,-0.924,-0.888,-0.896,-0.904,-0.88,-0.912,-0.896,-0.912,-0.9,-0.932,-0.884,-0.892,-0.908,-0.908,-0.892,-0.92,-0.92,-0.928,-0.912,-0.924,-0.908,-0.896,-0.88,-0.9,-0.896,-0.884,-0.888,-0.9,-0.88,-0.92,-0.892,-0.912,-0.9,-0.872,-0.928,-0.896,-0.892,-0.9,-0.876,-0.884,-0.888],\"yaxis\":\"y\",\"type\":\"scatter\"},{\"hovertemplate\":\"variable=M_rand<br>Games played=%{x}<br>value=%{y}<extra></extra>\",\"legendgroup\":\"M_rand\",\"line\":{\"color\":\"#EF553B\",\"dash\":\"solid\"},\"marker\":{\"symbol\":\"circle\"},\"mode\":\"lines\",\"name\":\"M_rand\",\"orientation\":\"v\",\"showlegend\":true,\"x\":[250,500,750,1000,1250,1500,1750,2000,2250,2500,2750,3000,3250,3500,3750,4000,4250,4500,4750,5000,5250,5500,5750,6000,6250,6500,6750,7000,7250,7500,7750,8000,8250,8500,8750,9000,9250,9500,9750,10000,10250,10500,10750,11000,11250,11500,11750,12000,12250,12500,12750,13000,13250,13500,13750,14000,14250,14500,14750,15000,15250,15500,15750,16000,16250,16500,16750,17000,17250,17500,17750,18000,18250,18500,18750,19000,19250,19500,19750],\"xaxis\":\"x\",\"y\":[0.632,0.748,0.752,0.78,0.828,0.84,0.88,0.9,0.916,0.916,0.928,0.948,0.924,0.96,0.968,0.968,0.944,0.956,0.988,0.968,0.956,0.944,0.928,0.956,0.98,0.96,0.972,0.956,0.94,0.968,0.968,0.94,0.976,0.984,0.972,0.968,0.96,0.976,0.972,0.976,0.984,0.98,0.988,0.988,0.984,0.98,0.984,0.968,0.98,0.988,0.98,0.992,0.988,0.976,0.992,0.964,0.984,0.956,0.976,0.972,0.968,0.94,0.968,0.976,0.98,0.968,0.984,0.972,0.992,0.992,0.976,0.972,0.976,0.98,0.996,0.98,0.98,0.976,0.98],\"yaxis\":\"y\",\"type\":\"scatter\"},{\"hovertemplate\":\"variable=Mean reward<br>Games played=%{x}<br>value=%{y}<extra></extra>\",\"legendgroup\":\"Mean reward\",\"line\":{\"color\":\"#00cc96\",\"dash\":\"solid\"},\"marker\":{\"symbol\":\"circle\"},\"mode\":\"lines\",\"name\":\"Mean reward\",\"orientation\":\"v\",\"showlegend\":true,\"x\":[250,500,750,1000,1250,1500,1750,2000,2250,2500,2750,3000,3250,3500,3750,4000,4250,4500,4750,5000,5250,5500,5750,6000,6250,6500,6750,7000,7250,7500,7750,8000,8250,8500,8750,9000,9250,9500,9750,10000,10250,10500,10750,11000,11250,11500,11750,12000,12250,12500,12750,13000,13250,13500,13750,14000,14250,14500,14750,15000,15250,15500,15750,16000,16250,16500,16750,17000,17250,17500,17750,18000,18250,18500,18750,19000,19250,19500,19750],\"xaxis\":\"x\",\"y\":[-0.33067729083665337,0.056,0.0,0.128,0.136,0.272,0.28,0.344,0.384,0.288,0.512,0.36,0.376,0.424,0.312,0.376,0.4,0.464,0.536,0.528,0.432,0.48,0.432,0.424,0.432,0.456,0.488,0.432,0.4,0.312,0.48,0.392,0.48,0.464,0.416,0.44,0.448,0.368,0.392,0.456,0.472,0.536,0.544,0.432,0.352,0.4,0.448,0.376,0.408,0.464,0.368,0.472,0.504,0.552,0.48,0.392,0.512,0.408,0.408,0.384,0.424,0.392,0.36,0.44,0.416,0.432,0.408,0.52,0.552,0.448,0.464,0.504,0.488,0.416,0.44,0.392,0.392,0.528,0.496],\"yaxis\":\"y\",\"type\":\"scatter\"}],                        {\"template\":{\"data\":{\"histogram2dcontour\":[{\"type\":\"histogram2dcontour\",\"colorbar\":{\"outlinewidth\":0,\"ticks\":\"\"},\"colorscale\":[[0.0,\"#0d0887\"],[0.1111111111111111,\"#46039f\"],[0.2222222222222222,\"#7201a8\"],[0.3333333333333333,\"#9c179e\"],[0.4444444444444444,\"#bd3786\"],[0.5555555555555556,\"#d8576b\"],[0.6666666666666666,\"#ed7953\"],[0.7777777777777778,\"#fb9f3a\"],[0.8888888888888888,\"#fdca26\"],[1.0,\"#f0f921\"]]}],\"choropleth\":[{\"type\":\"choropleth\",\"colorbar\":{\"outlinewidth\":0,\"ticks\":\"\"}}],\"histogram2d\":[{\"type\":\"histogram2d\",\"colorbar\":{\"outlinewidth\":0,\"ticks\":\"\"},\"colorscale\":[[0.0,\"#0d0887\"],[0.1111111111111111,\"#46039f\"],[0.2222222222222222,\"#7201a8\"],[0.3333333333333333,\"#9c179e\"],[0.4444444444444444,\"#bd3786\"],[0.5555555555555556,\"#d8576b\"],[0.6666666666666666,\"#ed7953\"],[0.7777777777777778,\"#fb9f3a\"],[0.8888888888888888,\"#fdca26\"],[1.0,\"#f0f921\"]]}],\"heatmap\":[{\"type\":\"heatmap\",\"colorbar\":{\"outlinewidth\":0,\"ticks\":\"\"},\"colorscale\":[[0.0,\"#0d0887\"],[0.1111111111111111,\"#46039f\"],[0.2222222222222222,\"#7201a8\"],[0.3333333333333333,\"#9c179e\"],[0.4444444444444444,\"#bd3786\"],[0.5555555555555556,\"#d8576b\"],[0.6666666666666666,\"#ed7953\"],[0.7777777777777778,\"#fb9f3a\"],[0.8888888888888888,\"#fdca26\"],[1.0,\"#f0f921\"]]}],\"heatmapgl\":[{\"type\":\"heatmapgl\",\"colorbar\":{\"outlinewidth\":0,\"ticks\":\"\"},\"colorscale\":[[0.0,\"#0d0887\"],[0.1111111111111111,\"#46039f\"],[0.2222222222222222,\"#7201a8\"],[0.3333333333333333,\"#9c179e\"],[0.4444444444444444,\"#bd3786\"],[0.5555555555555556,\"#d8576b\"],[0.6666666666666666,\"#ed7953\"],[0.7777777777777778,\"#fb9f3a\"],[0.8888888888888888,\"#fdca26\"],[1.0,\"#f0f921\"]]}],\"contourcarpet\":[{\"type\":\"contourcarpet\",\"colorbar\":{\"outlinewidth\":0,\"ticks\":\"\"}}],\"contour\":[{\"type\":\"contour\",\"colorbar\":{\"outlinewidth\":0,\"ticks\":\"\"},\"colorscale\":[[0.0,\"#0d0887\"],[0.1111111111111111,\"#46039f\"],[0.2222222222222222,\"#7201a8\"],[0.3333333333333333,\"#9c179e\"],[0.4444444444444444,\"#bd3786\"],[0.5555555555555556,\"#d8576b\"],[0.6666666666666666,\"#ed7953\"],[0.7777777777777778,\"#fb9f3a\"],[0.8888888888888888,\"#fdca26\"],[1.0,\"#f0f921\"]]}],\"surface\":[{\"type\":\"surface\",\"colorbar\":{\"outlinewidth\":0,\"ticks\":\"\"},\"colorscale\":[[0.0,\"#0d0887\"],[0.1111111111111111,\"#46039f\"],[0.2222222222222222,\"#7201a8\"],[0.3333333333333333,\"#9c179e\"],[0.4444444444444444,\"#bd3786\"],[0.5555555555555556,\"#d8576b\"],[0.6666666666666666,\"#ed7953\"],[0.7777777777777778,\"#fb9f3a\"],[0.8888888888888888,\"#fdca26\"],[1.0,\"#f0f921\"]]}],\"mesh3d\":[{\"type\":\"mesh3d\",\"colorbar\":{\"outlinewidth\":0,\"ticks\":\"\"}}],\"scatter\":[{\"fillpattern\":{\"fillmode\":\"overlay\",\"size\":10,\"solidity\":0.2},\"type\":\"scatter\"}],\"parcoords\":[{\"type\":\"parcoords\",\"line\":{\"colorbar\":{\"outlinewidth\":0,\"ticks\":\"\"}}}],\"scatterpolargl\":[{\"type\":\"scatterpolargl\",\"marker\":{\"colorbar\":{\"outlinewidth\":0,\"ticks\":\"\"}}}],\"bar\":[{\"error_x\":{\"color\":\"#2a3f5f\"},\"error_y\":{\"color\":\"#2a3f5f\"},\"marker\":{\"line\":{\"color\":\"#E5ECF6\",\"width\":0.5},\"pattern\":{\"fillmode\":\"overlay\",\"size\":10,\"solidity\":0.2}},\"type\":\"bar\"}],\"scattergeo\":[{\"type\":\"scattergeo\",\"marker\":{\"colorbar\":{\"outlinewidth\":0,\"ticks\":\"\"}}}],\"scatterpolar\":[{\"type\":\"scatterpolar\",\"marker\":{\"colorbar\":{\"outlinewidth\":0,\"ticks\":\"\"}}}],\"histogram\":[{\"marker\":{\"pattern\":{\"fillmode\":\"overlay\",\"size\":10,\"solidity\":0.2}},\"type\":\"histogram\"}],\"scattergl\":[{\"type\":\"scattergl\",\"marker\":{\"colorbar\":{\"outlinewidth\":0,\"ticks\":\"\"}}}],\"scatter3d\":[{\"type\":\"scatter3d\",\"line\":{\"colorbar\":{\"outlinewidth\":0,\"ticks\":\"\"}},\"marker\":{\"colorbar\":{\"outlinewidth\":0,\"ticks\":\"\"}}}],\"scattermapbox\":[{\"type\":\"scattermapbox\",\"marker\":{\"colorbar\":{\"outlinewidth\":0,\"ticks\":\"\"}}}],\"scatterternary\":[{\"type\":\"scatterternary\",\"marker\":{\"colorbar\":{\"outlinewidth\":0,\"ticks\":\"\"}}}],\"scattercarpet\":[{\"type\":\"scattercarpet\",\"marker\":{\"colorbar\":{\"outlinewidth\":0,\"ticks\":\"\"}}}],\"carpet\":[{\"aaxis\":{\"endlinecolor\":\"#2a3f5f\",\"gridcolor\":\"white\",\"linecolor\":\"white\",\"minorgridcolor\":\"white\",\"startlinecolor\":\"#2a3f5f\"},\"baxis\":{\"endlinecolor\":\"#2a3f5f\",\"gridcolor\":\"white\",\"linecolor\":\"white\",\"minorgridcolor\":\"white\",\"startlinecolor\":\"#2a3f5f\"},\"type\":\"carpet\"}],\"table\":[{\"cells\":{\"fill\":{\"color\":\"#EBF0F8\"},\"line\":{\"color\":\"white\"}},\"header\":{\"fill\":{\"color\":\"#C8D4E3\"},\"line\":{\"color\":\"white\"}},\"type\":\"table\"}],\"barpolar\":[{\"marker\":{\"line\":{\"color\":\"#E5ECF6\",\"width\":0.5},\"pattern\":{\"fillmode\":\"overlay\",\"size\":10,\"solidity\":0.2}},\"type\":\"barpolar\"}],\"pie\":[{\"automargin\":true,\"type\":\"pie\"}]},\"layout\":{\"autotypenumbers\":\"strict\",\"colorway\":[\"#636efa\",\"#EF553B\",\"#00cc96\",\"#ab63fa\",\"#FFA15A\",\"#19d3f3\",\"#FF6692\",\"#B6E880\",\"#FF97FF\",\"#FECB52\"],\"font\":{\"color\":\"#2a3f5f\"},\"hovermode\":\"closest\",\"hoverlabel\":{\"align\":\"left\"},\"paper_bgcolor\":\"white\",\"plot_bgcolor\":\"#E5ECF6\",\"polar\":{\"bgcolor\":\"#E5ECF6\",\"angularaxis\":{\"gridcolor\":\"white\",\"linecolor\":\"white\",\"ticks\":\"\"},\"radialaxis\":{\"gridcolor\":\"white\",\"linecolor\":\"white\",\"ticks\":\"\"}},\"ternary\":{\"bgcolor\":\"#E5ECF6\",\"aaxis\":{\"gridcolor\":\"white\",\"linecolor\":\"white\",\"ticks\":\"\"},\"baxis\":{\"gridcolor\":\"white\",\"linecolor\":\"white\",\"ticks\":\"\"},\"caxis\":{\"gridcolor\":\"white\",\"linecolor\":\"white\",\"ticks\":\"\"}},\"coloraxis\":{\"colorbar\":{\"outlinewidth\":0,\"ticks\":\"\"}},\"colorscale\":{\"sequential\":[[0.0,\"#0d0887\"],[0.1111111111111111,\"#46039f\"],[0.2222222222222222,\"#7201a8\"],[0.3333333333333333,\"#9c179e\"],[0.4444444444444444,\"#bd3786\"],[0.5555555555555556,\"#d8576b\"],[0.6666666666666666,\"#ed7953\"],[0.7777777777777778,\"#fb9f3a\"],[0.8888888888888888,\"#fdca26\"],[1.0,\"#f0f921\"]],\"sequentialminus\":[[0.0,\"#0d0887\"],[0.1111111111111111,\"#46039f\"],[0.2222222222222222,\"#7201a8\"],[0.3333333333333333,\"#9c179e\"],[0.4444444444444444,\"#bd3786\"],[0.5555555555555556,\"#d8576b\"],[0.6666666666666666,\"#ed7953\"],[0.7777777777777778,\"#fb9f3a\"],[0.8888888888888888,\"#fdca26\"],[1.0,\"#f0f921\"]],\"diverging\":[[0,\"#8e0152\"],[0.1,\"#c51b7d\"],[0.2,\"#de77ae\"],[0.3,\"#f1b6da\"],[0.4,\"#fde0ef\"],[0.5,\"#f7f7f7\"],[0.6,\"#e6f5d0\"],[0.7,\"#b8e186\"],[0.8,\"#7fbc41\"],[0.9,\"#4d9221\"],[1,\"#276419\"]]},\"xaxis\":{\"gridcolor\":\"white\",\"linecolor\":\"white\",\"ticks\":\"\",\"title\":{\"standoff\":15},\"zerolinecolor\":\"white\",\"automargin\":true,\"zerolinewidth\":2},\"yaxis\":{\"gridcolor\":\"white\",\"linecolor\":\"white\",\"ticks\":\"\",\"title\":{\"standoff\":15},\"zerolinecolor\":\"white\",\"automargin\":true,\"zerolinewidth\":2},\"scene\":{\"xaxis\":{\"backgroundcolor\":\"#E5ECF6\",\"gridcolor\":\"white\",\"linecolor\":\"white\",\"showbackground\":true,\"ticks\":\"\",\"zerolinecolor\":\"white\",\"gridwidth\":2},\"yaxis\":{\"backgroundcolor\":\"#E5ECF6\",\"gridcolor\":\"white\",\"linecolor\":\"white\",\"showbackground\":true,\"ticks\":\"\",\"zerolinecolor\":\"white\",\"gridwidth\":2},\"zaxis\":{\"backgroundcolor\":\"#E5ECF6\",\"gridcolor\":\"white\",\"linecolor\":\"white\",\"showbackground\":true,\"ticks\":\"\",\"zerolinecolor\":\"white\",\"gridwidth\":2}},\"shapedefaults\":{\"line\":{\"color\":\"#2a3f5f\"}},\"annotationdefaults\":{\"arrowcolor\":\"#2a3f5f\",\"arrowhead\":0,\"arrowwidth\":1},\"geo\":{\"bgcolor\":\"white\",\"landcolor\":\"#E5ECF6\",\"subunitcolor\":\"white\",\"showland\":true,\"showlakes\":true,\"lakecolor\":\"white\"},\"title\":{\"x\":0.05},\"mapbox\":{\"style\":\"light\"}}},\"xaxis\":{\"anchor\":\"y\",\"domain\":[0.0,1.0],\"title\":{\"text\":\"Games played\"}},\"yaxis\":{\"anchor\":\"x\",\"domain\":[0.0,1.0],\"title\":{\"text\":\"Reward\"}},\"legend\":{\"title\":{\"text\":\"variable\"},\"tracegroupgap\":0},\"title\":{\"text\":\"Training with testing\"},\"width\":600},                        {\"responsive\": true}                    ).then(function(){\n",
       "                            \n",
       "var gd = document.getElementById('e4109e34-3c5a-469e-9095-9d1795997833');\n",
       "var x = new MutationObserver(function (mutations, observer) {{\n",
       "        var display = window.getComputedStyle(gd).display;\n",
       "        if (!display || display === 'none') {{\n",
       "            console.log([gd, 'removed!']);\n",
       "            Plotly.purge(gd);\n",
       "            observer.disconnect();\n",
       "        }}\n",
       "}});\n",
       "\n",
       "// Listen for the removal of the full notebook cells\n",
       "var notebookContainer = gd.closest('#notebook-container');\n",
       "if (notebookContainer) {{\n",
       "    x.observe(notebookContainer, {childList: true});\n",
       "}}\n",
       "\n",
       "// Listen for the clearing of the current output cell\n",
       "var outputEl = gd.closest('.output');\n",
       "if (outputEl) {{\n",
       "    x.observe(outputEl, {childList: true});\n",
       "}}\n",
       "\n",
       "                        })                };                });            </script>        </div>"
      ]
     },
     "metadata": {},
     "output_type": "display_data"
    }
   ],
   "source": [
    "x = training_results[2][0]\n",
    "df = training_results[2][1]\n",
    "\n",
    "fig = px.line(df,x='Games played', y=df.columns.difference(['Games played']), title=f'Training with testing')\n",
    "fig.update_layout(xaxis_title='Games played', yaxis_title='Reward')\n",
    "fig.update_layout(width=600)\n",
    "fig.show()"
   ]
  },
  {
   "cell_type": "markdown",
   "metadata": {
    "collapsed": false,
    "pycharm": {
     "name": "#%% md\n"
    }
   },
   "source": [
    "The learning agent has certainly learned something, since it always manages to beat a random player. On the other hand it loses around 3 out of 4 times against Opt(0), maybe because it learned from a Opt(0.5) player that half of the times did a random and likely wrong move"
   ]
  },
  {
   "cell_type": "markdown",
   "metadata": {
    "collapsed": false,
    "pycharm": {
     "name": "#%% md\n"
    }
   },
   "source": [
    "## 2.1.2 Good experts and bad experts\n",
    "Choose the best value of n∗ that you found in the previous section. Run Q-learning against Opt(eps_opt) for different values of eps_opt for 20’000 games – switch the 1st player after every game. Choose several values of eps_opt from a reasonably wide interval between 0 to 1 – particularly, include eps_opt = 0.\n",
    "\n",
    "### Question 4\n",
    "After every 250 games during training, compute the ‘test’ Mopt and Mrand for your agents – for each value of eps_opt. Plot Mopt and Mrand over time. What do you observe? How can you explain it?\n",
    "Expected answer: A figure showing Mopt and Mrand over time for different values of eps_opt (caption length < 250 words).\n"
   ]
  },
  {
   "cell_type": "code",
   "execution_count": 12,
   "metadata": {
    "collapsed": false,
    "pycharm": {
     "name": "#%%\n"
    }
   },
   "outputs": [],
   "source": [
    "if not use_backup:\n",
    "    env = NimEnv()\n",
    "    eps_adv_values = np.linspace(0,1,11)\n",
    "    # redefining the parallelGames function for M_opt and M_rand configuration\n",
    "    df1 = {'Games played':list(np.arange(1,20000//METRICS_FREQUENCY)*METRICS_FREQUENCY)}\n",
    "    df2 = {'Games played':list(np.arange(1,20000//METRICS_FREQUENCY)*METRICS_FREQUENCY)}\n",
    "    df3 = {'Games played':list(np.arange(1,20000//METRICS_FREQUENCY)*METRICS_FREQUENCY)}\n",
    "    num_cores = mp.cpu_count()\n",
    "    def parallelGames(eps):\n",
    "        df1, df2, df3 = {}, {}, {}\n",
    "        metrics, _=q_learning(env,num_games=20000, eps_adv=eps, gamma= 0.99, decreasing_eps=True, n_star=1, verbose=False, test=True)\n",
    "        df1[f\"eps={eps:0.2f}\"] = metrics[0]\n",
    "        df2[f\"eps={eps:0.2f}\"] = metrics[1]\n",
    "        df3[f\"eps={eps:0.2f}\"] = metrics[2]\n",
    "        return df1, df2, df3\n",
    "    dfs = Parallel(n_jobs=num_cores)(delayed(parallelGames)(eps_adv) for eps_adv in eps_adv_values)\n",
    "    for d1,d2,d3 in dfs:\n",
    "        df1.update(d1)\n",
    "        df2.update(d2)\n",
    "        df3.update(d3)\n",
    "\n",
    "    training_results.append([df1,df2,df3])"
   ]
  },
  {
   "cell_type": "code",
   "execution_count": 14,
   "metadata": {
    "collapsed": false,
    "pycharm": {
     "name": "#%%\n"
    }
   },
   "outputs": [
    {
     "data": {
      "application/vnd.plotly.v1+json": {
       "config": {
        "plotlyServerURL": "https://plot.ly"
       },
       "data": [
        {
         "hovertemplate": "variable=eps=0.00<br>Games played=%{x}<br>value=%{y}<extra></extra>",
         "legendgroup": "eps=0.00",
         "line": {
          "color": "#636efa",
          "dash": "solid"
         },
         "marker": {
          "symbol": "circle"
         },
         "mode": "lines",
         "name": "eps=0.00",
         "orientation": "v",
         "showlegend": true,
         "type": "scatter",
         "x": [
          250,
          500,
          750,
          1000,
          1250,
          1500,
          1750,
          2000,
          2250,
          2500,
          2750,
          3000,
          3250,
          3500,
          3750,
          4000,
          4250,
          4500,
          4750,
          5000,
          5250,
          5500,
          5750,
          6000,
          6250,
          6500,
          6750,
          7000,
          7250,
          7500,
          7750,
          8000,
          8250,
          8500,
          8750,
          9000,
          9250,
          9500,
          9750,
          10000,
          10250,
          10500,
          10750,
          11000,
          11250,
          11500,
          11750,
          12000,
          12250,
          12500,
          12750,
          13000,
          13250,
          13500,
          13750,
          14000,
          14250,
          14500,
          14750,
          15000,
          15250,
          15500,
          15750,
          16000,
          16250,
          16500,
          16750,
          17000,
          17250,
          17500,
          17750,
          18000,
          18250,
          18500,
          18750,
          19000,
          19250,
          19500,
          19750
         ],
         "xaxis": "x",
         "y": [
          -0.9920318725099602,
          -0.944,
          -0.856,
          -0.8,
          -0.776,
          -0.632,
          -0.696,
          -0.552,
          -0.56,
          -0.6,
          -0.408,
          -0.488,
          -0.456,
          -0.312,
          -0.4,
          -0.376,
          -0.432,
          -0.328,
          -0.312,
          -0.312,
          -0.424,
          -0.392,
          -0.264,
          -0.304,
          -0.352,
          -0.344,
          -0.264,
          -0.384,
          -0.208,
          -0.304,
          -0.328,
          -0.192,
          -0.36,
          -0.352,
          -0.392,
          -0.296,
          -0.352,
          -0.328,
          -0.36,
          -0.352,
          -0.344,
          -0.448,
          -0.304,
          -0.344,
          -0.288,
          -0.36,
          -0.344,
          -0.28,
          -0.304,
          -0.312,
          -0.368,
          -0.224,
          -0.36,
          -0.336,
          -0.32,
          -0.344,
          -0.296,
          -0.28,
          -0.28,
          -0.272,
          -0.336,
          -0.328,
          -0.28,
          -0.288,
          -0.304,
          -0.32,
          -0.312,
          -0.272,
          -0.208,
          -0.296,
          -0.344,
          -0.376,
          -0.328,
          -0.4,
          -0.312,
          -0.368,
          -0.248,
          -0.272,
          -0.376
         ],
         "yaxis": "y"
        },
        {
         "hovertemplate": "variable=eps=0.10<br>Games played=%{x}<br>value=%{y}<extra></extra>",
         "legendgroup": "eps=0.10",
         "line": {
          "color": "#EF553B",
          "dash": "solid"
         },
         "marker": {
          "symbol": "circle"
         },
         "mode": "lines",
         "name": "eps=0.10",
         "orientation": "v",
         "showlegend": true,
         "type": "scatter",
         "x": [
          250,
          500,
          750,
          1000,
          1250,
          1500,
          1750,
          2000,
          2250,
          2500,
          2750,
          3000,
          3250,
          3500,
          3750,
          4000,
          4250,
          4500,
          4750,
          5000,
          5250,
          5500,
          5750,
          6000,
          6250,
          6500,
          6750,
          7000,
          7250,
          7500,
          7750,
          8000,
          8250,
          8500,
          8750,
          9000,
          9250,
          9500,
          9750,
          10000,
          10250,
          10500,
          10750,
          11000,
          11250,
          11500,
          11750,
          12000,
          12250,
          12500,
          12750,
          13000,
          13250,
          13500,
          13750,
          14000,
          14250,
          14500,
          14750,
          15000,
          15250,
          15500,
          15750,
          16000,
          16250,
          16500,
          16750,
          17000,
          17250,
          17500,
          17750,
          18000,
          18250,
          18500,
          18750,
          19000,
          19250,
          19500,
          19750
         ],
         "xaxis": "x",
         "y": [
          -0.8645418326693227,
          -0.792,
          -0.752,
          -0.68,
          -0.68,
          -0.512,
          -0.592,
          -0.376,
          -0.336,
          -0.296,
          -0.328,
          -0.2,
          -0.272,
          -0.232,
          -0.144,
          -0.16,
          -0.216,
          -0.12,
          -0.104,
          -0.168,
          -0.104,
          -0.192,
          -0.2,
          -0.208,
          -0.128,
          -0.024,
          -0.096,
          -0.032,
          -0.128,
          0,
          -0.008,
          -0.136,
          -0.016,
          0.032,
          -0.032,
          -0.056,
          -0.072,
          -0.064,
          -0.096,
          -0.104,
          0,
          -0.088,
          0.008,
          -0.008,
          -0.024,
          -0.12,
          -0.096,
          -0.072,
          -0.08,
          -0.024,
          -0.032,
          -0.024,
          0.072,
          -0.064,
          -0.024,
          -0.056,
          -0.136,
          -0.112,
          0.008,
          -0.088,
          0.04,
          -0.024,
          -0.008,
          -0.008,
          0.032,
          0.04,
          -0.048,
          0,
          -0.112,
          -0.072,
          -0.136,
          0,
          -0.064,
          0.032,
          -0.112,
          -0.024,
          -0.08,
          -0.072,
          -0.024
         ],
         "yaxis": "y"
        },
        {
         "hovertemplate": "variable=eps=0.20<br>Games played=%{x}<br>value=%{y}<extra></extra>",
         "legendgroup": "eps=0.20",
         "line": {
          "color": "#00cc96",
          "dash": "solid"
         },
         "marker": {
          "symbol": "circle"
         },
         "mode": "lines",
         "name": "eps=0.20",
         "orientation": "v",
         "showlegend": true,
         "type": "scatter",
         "x": [
          250,
          500,
          750,
          1000,
          1250,
          1500,
          1750,
          2000,
          2250,
          2500,
          2750,
          3000,
          3250,
          3500,
          3750,
          4000,
          4250,
          4500,
          4750,
          5000,
          5250,
          5500,
          5750,
          6000,
          6250,
          6500,
          6750,
          7000,
          7250,
          7500,
          7750,
          8000,
          8250,
          8500,
          8750,
          9000,
          9250,
          9500,
          9750,
          10000,
          10250,
          10500,
          10750,
          11000,
          11250,
          11500,
          11750,
          12000,
          12250,
          12500,
          12750,
          13000,
          13250,
          13500,
          13750,
          14000,
          14250,
          14500,
          14750,
          15000,
          15250,
          15500,
          15750,
          16000,
          16250,
          16500,
          16750,
          17000,
          17250,
          17500,
          17750,
          18000,
          18250,
          18500,
          18750,
          19000,
          19250,
          19500,
          19750
         ],
         "xaxis": "x",
         "y": [
          -0.6334661354581673,
          -0.648,
          -0.472,
          -0.424,
          -0.304,
          -0.288,
          -0.184,
          -0.112,
          -0.176,
          -0.088,
          0.032,
          0.008,
          0.048,
          0.032,
          -0.048,
          0.016,
          0.12,
          0.152,
          0.144,
          0.064,
          0.128,
          0.152,
          0.104,
          0.04,
          0.168,
          0.208,
          0.056,
          0.216,
          0.008,
          0.104,
          0.232,
          0.16,
          0.24,
          0.144,
          0.176,
          0.128,
          0.224,
          0.248,
          0.2,
          0.184,
          0.192,
          0.144,
          0.208,
          0.264,
          0.088,
          0.16,
          0.304,
          0.248,
          0.088,
          0.152,
          0.288,
          0.112,
          0.264,
          0.16,
          0.256,
          0.16,
          0.328,
          0.256,
          0.104,
          0.144,
          0.248,
          0.144,
          0.184,
          0.224,
          0.184,
          0.168,
          0.232,
          0.328,
          0.136,
          0.312,
          0.208,
          0.208,
          0.248,
          0.272,
          0.272,
          0.192,
          0.232,
          0.36,
          0.304
         ],
         "yaxis": "y"
        },
        {
         "hovertemplate": "variable=eps=0.30<br>Games played=%{x}<br>value=%{y}<extra></extra>",
         "legendgroup": "eps=0.30",
         "line": {
          "color": "#ab63fa",
          "dash": "solid"
         },
         "marker": {
          "symbol": "circle"
         },
         "mode": "lines",
         "name": "eps=0.30",
         "orientation": "v",
         "showlegend": true,
         "type": "scatter",
         "x": [
          250,
          500,
          750,
          1000,
          1250,
          1500,
          1750,
          2000,
          2250,
          2500,
          2750,
          3000,
          3250,
          3500,
          3750,
          4000,
          4250,
          4500,
          4750,
          5000,
          5250,
          5500,
          5750,
          6000,
          6250,
          6500,
          6750,
          7000,
          7250,
          7500,
          7750,
          8000,
          8250,
          8500,
          8750,
          9000,
          9250,
          9500,
          9750,
          10000,
          10250,
          10500,
          10750,
          11000,
          11250,
          11500,
          11750,
          12000,
          12250,
          12500,
          12750,
          13000,
          13250,
          13500,
          13750,
          14000,
          14250,
          14500,
          14750,
          15000,
          15250,
          15500,
          15750,
          16000,
          16250,
          16500,
          16750,
          17000,
          17250,
          17500,
          17750,
          18000,
          18250,
          18500,
          18750,
          19000,
          19250,
          19500,
          19750
         ],
         "xaxis": "x",
         "y": [
          -0.5298804780876494,
          -0.384,
          -0.368,
          -0.176,
          -0.072,
          0,
          -0.008,
          0.032,
          0.144,
          0.032,
          0.072,
          0.168,
          0.136,
          0.12,
          0.072,
          0.16,
          0.128,
          0.064,
          0.312,
          0.344,
          0.248,
          0.344,
          0.224,
          0.384,
          0.336,
          0.144,
          0.272,
          0.272,
          0.392,
          0.36,
          0.408,
          0.328,
          0.352,
          0.272,
          0.336,
          0.272,
          0.272,
          0.256,
          0.376,
          0.272,
          0.28,
          0.32,
          0.32,
          0.264,
          0.272,
          0.408,
          0.44,
          0.288,
          0.176,
          0.216,
          0.32,
          0.344,
          0.272,
          0.304,
          0.272,
          0.36,
          0.296,
          0.288,
          0.24,
          0.224,
          0.32,
          0.368,
          0.272,
          0.328,
          0.368,
          0.296,
          0.328,
          0.256,
          0.28,
          0.376,
          0.384,
          0.28,
          0.36,
          0.344,
          0.336,
          0.288,
          0.304,
          0.304,
          0.376
         ],
         "yaxis": "y"
        },
        {
         "hovertemplate": "variable=eps=0.40<br>Games played=%{x}<br>value=%{y}<extra></extra>",
         "legendgroup": "eps=0.40",
         "line": {
          "color": "#FFA15A",
          "dash": "solid"
         },
         "marker": {
          "symbol": "circle"
         },
         "mode": "lines",
         "name": "eps=0.40",
         "orientation": "v",
         "showlegend": true,
         "type": "scatter",
         "x": [
          250,
          500,
          750,
          1000,
          1250,
          1500,
          1750,
          2000,
          2250,
          2500,
          2750,
          3000,
          3250,
          3500,
          3750,
          4000,
          4250,
          4500,
          4750,
          5000,
          5250,
          5500,
          5750,
          6000,
          6250,
          6500,
          6750,
          7000,
          7250,
          7500,
          7750,
          8000,
          8250,
          8500,
          8750,
          9000,
          9250,
          9500,
          9750,
          10000,
          10250,
          10500,
          10750,
          11000,
          11250,
          11500,
          11750,
          12000,
          12250,
          12500,
          12750,
          13000,
          13250,
          13500,
          13750,
          14000,
          14250,
          14500,
          14750,
          15000,
          15250,
          15500,
          15750,
          16000,
          16250,
          16500,
          16750,
          17000,
          17250,
          17500,
          17750,
          18000,
          18250,
          18500,
          18750,
          19000,
          19250,
          19500,
          19750
         ],
         "xaxis": "x",
         "y": [
          -0.32270916334661354,
          -0.168,
          -0.04,
          0.064,
          0.088,
          0.104,
          0.192,
          0.104,
          0.176,
          0.016,
          0.176,
          0.216,
          0.192,
          0.232,
          0.304,
          0.232,
          0.296,
          0.312,
          0.216,
          0.328,
          0.4,
          0.392,
          0.4,
          0.408,
          0.328,
          0.296,
          0.304,
          0.312,
          0.464,
          0.4,
          0.432,
          0.368,
          0.344,
          0.2,
          0.232,
          0.288,
          0.32,
          0.456,
          0.264,
          0.296,
          0.352,
          0.312,
          0.424,
          0.448,
          0.328,
          0.336,
          0.248,
          0.376,
          0.408,
          0.392,
          0.208,
          0.328,
          0.36,
          0.304,
          0.368,
          0.232,
          0.336,
          0.392,
          0.368,
          0.4,
          0.456,
          0.344,
          0.336,
          0.336,
          0.4,
          0.384,
          0.384,
          0.4,
          0.424,
          0.32,
          0.336,
          0.376,
          0.432,
          0.288,
          0.336,
          0.28,
          0.336,
          0.384,
          0.384
         ],
         "yaxis": "y"
        },
        {
         "hovertemplate": "variable=eps=0.50<br>Games played=%{x}<br>value=%{y}<extra></extra>",
         "legendgroup": "eps=0.50",
         "line": {
          "color": "#19d3f3",
          "dash": "solid"
         },
         "marker": {
          "symbol": "circle"
         },
         "mode": "lines",
         "name": "eps=0.50",
         "orientation": "v",
         "showlegend": true,
         "type": "scatter",
         "x": [
          250,
          500,
          750,
          1000,
          1250,
          1500,
          1750,
          2000,
          2250,
          2500,
          2750,
          3000,
          3250,
          3500,
          3750,
          4000,
          4250,
          4500,
          4750,
          5000,
          5250,
          5500,
          5750,
          6000,
          6250,
          6500,
          6750,
          7000,
          7250,
          7500,
          7750,
          8000,
          8250,
          8500,
          8750,
          9000,
          9250,
          9500,
          9750,
          10000,
          10250,
          10500,
          10750,
          11000,
          11250,
          11500,
          11750,
          12000,
          12250,
          12500,
          12750,
          13000,
          13250,
          13500,
          13750,
          14000,
          14250,
          14500,
          14750,
          15000,
          15250,
          15500,
          15750,
          16000,
          16250,
          16500,
          16750,
          17000,
          17250,
          17500,
          17750,
          18000,
          18250,
          18500,
          18750,
          19000,
          19250,
          19500,
          19750
         ],
         "xaxis": "x",
         "y": [
          -0.2749003984063745,
          0.096,
          0.168,
          0.192,
          0.112,
          0.264,
          0.168,
          0.16,
          0.344,
          0.28,
          0.312,
          0.4,
          0.44,
          0.376,
          0.288,
          0.344,
          0.216,
          0.384,
          0.28,
          0.344,
          0.496,
          0.432,
          0.488,
          0.472,
          0.4,
          0.4,
          0.328,
          0.384,
          0.424,
          0.4,
          0.536,
          0.456,
          0.4,
          0.456,
          0.464,
          0.384,
          0.384,
          0.384,
          0.328,
          0.408,
          0.256,
          0.4,
          0.528,
          0.44,
          0.4,
          0.464,
          0.392,
          0.368,
          0.48,
          0.424,
          0.48,
          0.472,
          0.48,
          0.432,
          0.472,
          0.392,
          0.424,
          0.52,
          0.568,
          0.512,
          0.488,
          0.416,
          0.44,
          0.472,
          0.472,
          0.48,
          0.464,
          0.496,
          0.472,
          0.44,
          0.408,
          0.464,
          0.648,
          0.512,
          0.536,
          0.472,
          0.432,
          0.464,
          0.44
         ],
         "yaxis": "y"
        },
        {
         "hovertemplate": "variable=eps=0.60<br>Games played=%{x}<br>value=%{y}<extra></extra>",
         "legendgroup": "eps=0.60",
         "line": {
          "color": "#FF6692",
          "dash": "solid"
         },
         "marker": {
          "symbol": "circle"
         },
         "mode": "lines",
         "name": "eps=0.60",
         "orientation": "v",
         "showlegend": true,
         "type": "scatter",
         "x": [
          250,
          500,
          750,
          1000,
          1250,
          1500,
          1750,
          2000,
          2250,
          2500,
          2750,
          3000,
          3250,
          3500,
          3750,
          4000,
          4250,
          4500,
          4750,
          5000,
          5250,
          5500,
          5750,
          6000,
          6250,
          6500,
          6750,
          7000,
          7250,
          7500,
          7750,
          8000,
          8250,
          8500,
          8750,
          9000,
          9250,
          9500,
          9750,
          10000,
          10250,
          10500,
          10750,
          11000,
          11250,
          11500,
          11750,
          12000,
          12250,
          12500,
          12750,
          13000,
          13250,
          13500,
          13750,
          14000,
          14250,
          14500,
          14750,
          15000,
          15250,
          15500,
          15750,
          16000,
          16250,
          16500,
          16750,
          17000,
          17250,
          17500,
          17750,
          18000,
          18250,
          18500,
          18750,
          19000,
          19250,
          19500,
          19750
         ],
         "xaxis": "x",
         "y": [
          -0.1553784860557769,
          0.152,
          0.152,
          0.256,
          0.344,
          0.512,
          0.528,
          0.376,
          0.496,
          0.536,
          0.448,
          0.44,
          0.56,
          0.472,
          0.408,
          0.464,
          0.496,
          0.44,
          0.568,
          0.544,
          0.552,
          0.512,
          0.552,
          0.488,
          0.576,
          0.592,
          0.464,
          0.672,
          0.52,
          0.576,
          0.512,
          0.52,
          0.488,
          0.456,
          0.528,
          0.472,
          0.608,
          0.488,
          0.536,
          0.48,
          0.52,
          0.496,
          0.456,
          0.528,
          0.608,
          0.6,
          0.52,
          0.648,
          0.536,
          0.48,
          0.512,
          0.48,
          0.568,
          0.584,
          0.52,
          0.576,
          0.432,
          0.6,
          0.6,
          0.528,
          0.464,
          0.52,
          0.52,
          0.576,
          0.664,
          0.584,
          0.56,
          0.448,
          0.528,
          0.504,
          0.48,
          0.608,
          0.616,
          0.568,
          0.6,
          0.568,
          0.496,
          0.592,
          0.632
         ],
         "yaxis": "y"
        },
        {
         "hovertemplate": "variable=eps=0.70<br>Games played=%{x}<br>value=%{y}<extra></extra>",
         "legendgroup": "eps=0.70",
         "line": {
          "color": "#B6E880",
          "dash": "solid"
         },
         "marker": {
          "symbol": "circle"
         },
         "mode": "lines",
         "name": "eps=0.70",
         "orientation": "v",
         "showlegend": true,
         "type": "scatter",
         "x": [
          250,
          500,
          750,
          1000,
          1250,
          1500,
          1750,
          2000,
          2250,
          2500,
          2750,
          3000,
          3250,
          3500,
          3750,
          4000,
          4250,
          4500,
          4750,
          5000,
          5250,
          5500,
          5750,
          6000,
          6250,
          6500,
          6750,
          7000,
          7250,
          7500,
          7750,
          8000,
          8250,
          8500,
          8750,
          9000,
          9250,
          9500,
          9750,
          10000,
          10250,
          10500,
          10750,
          11000,
          11250,
          11500,
          11750,
          12000,
          12250,
          12500,
          12750,
          13000,
          13250,
          13500,
          13750,
          14000,
          14250,
          14500,
          14750,
          15000,
          15250,
          15500,
          15750,
          16000,
          16250,
          16500,
          16750,
          17000,
          17250,
          17500,
          17750,
          18000,
          18250,
          18500,
          18750,
          19000,
          19250,
          19500,
          19750
         ],
         "xaxis": "x",
         "y": [
          0.06772908366533864,
          0.336,
          0.4,
          0.344,
          0.48,
          0.416,
          0.464,
          0.52,
          0.448,
          0.488,
          0.488,
          0.472,
          0.456,
          0.552,
          0.424,
          0.616,
          0.608,
          0.568,
          0.616,
          0.632,
          0.552,
          0.56,
          0.56,
          0.616,
          0.64,
          0.64,
          0.544,
          0.592,
          0.48,
          0.6,
          0.544,
          0.624,
          0.624,
          0.592,
          0.648,
          0.576,
          0.536,
          0.584,
          0.624,
          0.552,
          0.592,
          0.568,
          0.6,
          0.584,
          0.6,
          0.592,
          0.568,
          0.576,
          0.64,
          0.696,
          0.512,
          0.616,
          0.512,
          0.712,
          0.592,
          0.616,
          0.616,
          0.544,
          0.608,
          0.56,
          0.608,
          0.616,
          0.664,
          0.592,
          0.6,
          0.624,
          0.616,
          0.64,
          0.592,
          0.64,
          0.616,
          0.608,
          0.648,
          0.624,
          0.68,
          0.592,
          0.672,
          0.592,
          0.632
         ],
         "yaxis": "y"
        },
        {
         "hovertemplate": "variable=eps=0.80<br>Games played=%{x}<br>value=%{y}<extra></extra>",
         "legendgroup": "eps=0.80",
         "line": {
          "color": "#FF97FF",
          "dash": "solid"
         },
         "marker": {
          "symbol": "circle"
         },
         "mode": "lines",
         "name": "eps=0.80",
         "orientation": "v",
         "showlegend": true,
         "type": "scatter",
         "x": [
          250,
          500,
          750,
          1000,
          1250,
          1500,
          1750,
          2000,
          2250,
          2500,
          2750,
          3000,
          3250,
          3500,
          3750,
          4000,
          4250,
          4500,
          4750,
          5000,
          5250,
          5500,
          5750,
          6000,
          6250,
          6500,
          6750,
          7000,
          7250,
          7500,
          7750,
          8000,
          8250,
          8500,
          8750,
          9000,
          9250,
          9500,
          9750,
          10000,
          10250,
          10500,
          10750,
          11000,
          11250,
          11500,
          11750,
          12000,
          12250,
          12500,
          12750,
          13000,
          13250,
          13500,
          13750,
          14000,
          14250,
          14500,
          14750,
          15000,
          15250,
          15500,
          15750,
          16000,
          16250,
          16500,
          16750,
          17000,
          17250,
          17500,
          17750,
          18000,
          18250,
          18500,
          18750,
          19000,
          19250,
          19500,
          19750
         ],
         "xaxis": "x",
         "y": [
          0.28286852589641437,
          0.296,
          0.368,
          0.528,
          0.416,
          0.448,
          0.448,
          0.576,
          0.592,
          0.496,
          0.592,
          0.616,
          0.616,
          0.672,
          0.672,
          0.608,
          0.624,
          0.616,
          0.48,
          0.584,
          0.64,
          0.624,
          0.648,
          0.672,
          0.624,
          0.648,
          0.672,
          0.544,
          0.672,
          0.624,
          0.64,
          0.704,
          0.592,
          0.632,
          0.656,
          0.688,
          0.616,
          0.712,
          0.664,
          0.64,
          0.664,
          0.616,
          0.632,
          0.56,
          0.64,
          0.64,
          0.648,
          0.648,
          0.728,
          0.64,
          0.712,
          0.672,
          0.64,
          0.648,
          0.768,
          0.704,
          0.68,
          0.664,
          0.712,
          0.72,
          0.688,
          0.72,
          0.712,
          0.8,
          0.608,
          0.68,
          0.608,
          0.696,
          0.632,
          0.632,
          0.712,
          0.656,
          0.776,
          0.696,
          0.592,
          0.648,
          0.696,
          0.72,
          0.744
         ],
         "yaxis": "y"
        },
        {
         "hovertemplate": "variable=eps=0.90<br>Games played=%{x}<br>value=%{y}<extra></extra>",
         "legendgroup": "eps=0.90",
         "line": {
          "color": "#FECB52",
          "dash": "solid"
         },
         "marker": {
          "symbol": "circle"
         },
         "mode": "lines",
         "name": "eps=0.90",
         "orientation": "v",
         "showlegend": true,
         "type": "scatter",
         "x": [
          250,
          500,
          750,
          1000,
          1250,
          1500,
          1750,
          2000,
          2250,
          2500,
          2750,
          3000,
          3250,
          3500,
          3750,
          4000,
          4250,
          4500,
          4750,
          5000,
          5250,
          5500,
          5750,
          6000,
          6250,
          6500,
          6750,
          7000,
          7250,
          7500,
          7750,
          8000,
          8250,
          8500,
          8750,
          9000,
          9250,
          9500,
          9750,
          10000,
          10250,
          10500,
          10750,
          11000,
          11250,
          11500,
          11750,
          12000,
          12250,
          12500,
          12750,
          13000,
          13250,
          13500,
          13750,
          14000,
          14250,
          14500,
          14750,
          15000,
          15250,
          15500,
          15750,
          16000,
          16250,
          16500,
          16750,
          17000,
          17250,
          17500,
          17750,
          18000,
          18250,
          18500,
          18750,
          19000,
          19250,
          19500,
          19750
         ],
         "xaxis": "x",
         "y": [
          0.2350597609561753,
          0.432,
          0.504,
          0.632,
          0.664,
          0.48,
          0.592,
          0.6,
          0.616,
          0.632,
          0.68,
          0.632,
          0.568,
          0.664,
          0.72,
          0.592,
          0.616,
          0.664,
          0.616,
          0.728,
          0.568,
          0.616,
          0.784,
          0.648,
          0.64,
          0.696,
          0.632,
          0.64,
          0.648,
          0.584,
          0.76,
          0.592,
          0.632,
          0.704,
          0.648,
          0.664,
          0.736,
          0.648,
          0.592,
          0.704,
          0.704,
          0.744,
          0.648,
          0.696,
          0.76,
          0.688,
          0.608,
          0.672,
          0.648,
          0.608,
          0.728,
          0.672,
          0.608,
          0.712,
          0.656,
          0.712,
          0.704,
          0.712,
          0.688,
          0.656,
          0.792,
          0.664,
          0.664,
          0.776,
          0.744,
          0.744,
          0.736,
          0.768,
          0.688,
          0.776,
          0.768,
          0.664,
          0.712,
          0.768,
          0.808,
          0.76,
          0.736,
          0.776,
          0.736
         ],
         "yaxis": "y"
        },
        {
         "hovertemplate": "variable=eps=1.00<br>Games played=%{x}<br>value=%{y}<extra></extra>",
         "legendgroup": "eps=1.00",
         "line": {
          "color": "#636efa",
          "dash": "solid"
         },
         "marker": {
          "symbol": "circle"
         },
         "mode": "lines",
         "name": "eps=1.00",
         "orientation": "v",
         "showlegend": true,
         "type": "scatter",
         "x": [
          250,
          500,
          750,
          1000,
          1250,
          1500,
          1750,
          2000,
          2250,
          2500,
          2750,
          3000,
          3250,
          3500,
          3750,
          4000,
          4250,
          4500,
          4750,
          5000,
          5250,
          5500,
          5750,
          6000,
          6250,
          6500,
          6750,
          7000,
          7250,
          7500,
          7750,
          8000,
          8250,
          8500,
          8750,
          9000,
          9250,
          9500,
          9750,
          10000,
          10250,
          10500,
          10750,
          11000,
          11250,
          11500,
          11750,
          12000,
          12250,
          12500,
          12750,
          13000,
          13250,
          13500,
          13750,
          14000,
          14250,
          14500,
          14750,
          15000,
          15250,
          15500,
          15750,
          16000,
          16250,
          16500,
          16750,
          17000,
          17250,
          17500,
          17750,
          18000,
          18250,
          18500,
          18750,
          19000,
          19250,
          19500,
          19750
         ],
         "xaxis": "x",
         "y": [
          0.4342629482071713,
          0.576,
          0.52,
          0.544,
          0.616,
          0.624,
          0.664,
          0.56,
          0.664,
          0.552,
          0.656,
          0.608,
          0.528,
          0.72,
          0.696,
          0.664,
          0.704,
          0.664,
          0.704,
          0.696,
          0.64,
          0.704,
          0.568,
          0.744,
          0.68,
          0.68,
          0.712,
          0.664,
          0.776,
          0.688,
          0.728,
          0.624,
          0.712,
          0.736,
          0.672,
          0.688,
          0.664,
          0.688,
          0.736,
          0.744,
          0.728,
          0.736,
          0.816,
          0.736,
          0.8,
          0.776,
          0.744,
          0.752,
          0.696,
          0.824,
          0.792,
          0.768,
          0.832,
          0.672,
          0.784,
          0.816,
          0.848,
          0.8,
          0.728,
          0.736,
          0.736,
          0.784,
          0.768,
          0.744,
          0.736,
          0.8,
          0.728,
          0.728,
          0.808,
          0.744,
          0.76,
          0.864,
          0.752,
          0.744,
          0.744,
          0.76,
          0.776,
          0.824,
          0.776
         ],
         "yaxis": "y"
        }
       ],
       "layout": {
        "legend": {
         "title": {
          "text": "variable"
         },
         "tracegroupgap": 0
        },
        "template": {
         "data": {
          "bar": [
           {
            "error_x": {
             "color": "#2a3f5f"
            },
            "error_y": {
             "color": "#2a3f5f"
            },
            "marker": {
             "line": {
              "color": "#E5ECF6",
              "width": 0.5
             },
             "pattern": {
              "fillmode": "overlay",
              "size": 10,
              "solidity": 0.2
             }
            },
            "type": "bar"
           }
          ],
          "barpolar": [
           {
            "marker": {
             "line": {
              "color": "#E5ECF6",
              "width": 0.5
             },
             "pattern": {
              "fillmode": "overlay",
              "size": 10,
              "solidity": 0.2
             }
            },
            "type": "barpolar"
           }
          ],
          "carpet": [
           {
            "aaxis": {
             "endlinecolor": "#2a3f5f",
             "gridcolor": "white",
             "linecolor": "white",
             "minorgridcolor": "white",
             "startlinecolor": "#2a3f5f"
            },
            "baxis": {
             "endlinecolor": "#2a3f5f",
             "gridcolor": "white",
             "linecolor": "white",
             "minorgridcolor": "white",
             "startlinecolor": "#2a3f5f"
            },
            "type": "carpet"
           }
          ],
          "choropleth": [
           {
            "colorbar": {
             "outlinewidth": 0,
             "ticks": ""
            },
            "type": "choropleth"
           }
          ],
          "contour": [
           {
            "colorbar": {
             "outlinewidth": 0,
             "ticks": ""
            },
            "colorscale": [
             [
              0,
              "#0d0887"
             ],
             [
              0.1111111111111111,
              "#46039f"
             ],
             [
              0.2222222222222222,
              "#7201a8"
             ],
             [
              0.3333333333333333,
              "#9c179e"
             ],
             [
              0.4444444444444444,
              "#bd3786"
             ],
             [
              0.5555555555555556,
              "#d8576b"
             ],
             [
              0.6666666666666666,
              "#ed7953"
             ],
             [
              0.7777777777777778,
              "#fb9f3a"
             ],
             [
              0.8888888888888888,
              "#fdca26"
             ],
             [
              1,
              "#f0f921"
             ]
            ],
            "type": "contour"
           }
          ],
          "contourcarpet": [
           {
            "colorbar": {
             "outlinewidth": 0,
             "ticks": ""
            },
            "type": "contourcarpet"
           }
          ],
          "heatmap": [
           {
            "colorbar": {
             "outlinewidth": 0,
             "ticks": ""
            },
            "colorscale": [
             [
              0,
              "#0d0887"
             ],
             [
              0.1111111111111111,
              "#46039f"
             ],
             [
              0.2222222222222222,
              "#7201a8"
             ],
             [
              0.3333333333333333,
              "#9c179e"
             ],
             [
              0.4444444444444444,
              "#bd3786"
             ],
             [
              0.5555555555555556,
              "#d8576b"
             ],
             [
              0.6666666666666666,
              "#ed7953"
             ],
             [
              0.7777777777777778,
              "#fb9f3a"
             ],
             [
              0.8888888888888888,
              "#fdca26"
             ],
             [
              1,
              "#f0f921"
             ]
            ],
            "type": "heatmap"
           }
          ],
          "heatmapgl": [
           {
            "colorbar": {
             "outlinewidth": 0,
             "ticks": ""
            },
            "colorscale": [
             [
              0,
              "#0d0887"
             ],
             [
              0.1111111111111111,
              "#46039f"
             ],
             [
              0.2222222222222222,
              "#7201a8"
             ],
             [
              0.3333333333333333,
              "#9c179e"
             ],
             [
              0.4444444444444444,
              "#bd3786"
             ],
             [
              0.5555555555555556,
              "#d8576b"
             ],
             [
              0.6666666666666666,
              "#ed7953"
             ],
             [
              0.7777777777777778,
              "#fb9f3a"
             ],
             [
              0.8888888888888888,
              "#fdca26"
             ],
             [
              1,
              "#f0f921"
             ]
            ],
            "type": "heatmapgl"
           }
          ],
          "histogram": [
           {
            "marker": {
             "pattern": {
              "fillmode": "overlay",
              "size": 10,
              "solidity": 0.2
             }
            },
            "type": "histogram"
           }
          ],
          "histogram2d": [
           {
            "colorbar": {
             "outlinewidth": 0,
             "ticks": ""
            },
            "colorscale": [
             [
              0,
              "#0d0887"
             ],
             [
              0.1111111111111111,
              "#46039f"
             ],
             [
              0.2222222222222222,
              "#7201a8"
             ],
             [
              0.3333333333333333,
              "#9c179e"
             ],
             [
              0.4444444444444444,
              "#bd3786"
             ],
             [
              0.5555555555555556,
              "#d8576b"
             ],
             [
              0.6666666666666666,
              "#ed7953"
             ],
             [
              0.7777777777777778,
              "#fb9f3a"
             ],
             [
              0.8888888888888888,
              "#fdca26"
             ],
             [
              1,
              "#f0f921"
             ]
            ],
            "type": "histogram2d"
           }
          ],
          "histogram2dcontour": [
           {
            "colorbar": {
             "outlinewidth": 0,
             "ticks": ""
            },
            "colorscale": [
             [
              0,
              "#0d0887"
             ],
             [
              0.1111111111111111,
              "#46039f"
             ],
             [
              0.2222222222222222,
              "#7201a8"
             ],
             [
              0.3333333333333333,
              "#9c179e"
             ],
             [
              0.4444444444444444,
              "#bd3786"
             ],
             [
              0.5555555555555556,
              "#d8576b"
             ],
             [
              0.6666666666666666,
              "#ed7953"
             ],
             [
              0.7777777777777778,
              "#fb9f3a"
             ],
             [
              0.8888888888888888,
              "#fdca26"
             ],
             [
              1,
              "#f0f921"
             ]
            ],
            "type": "histogram2dcontour"
           }
          ],
          "mesh3d": [
           {
            "colorbar": {
             "outlinewidth": 0,
             "ticks": ""
            },
            "type": "mesh3d"
           }
          ],
          "parcoords": [
           {
            "line": {
             "colorbar": {
              "outlinewidth": 0,
              "ticks": ""
             }
            },
            "type": "parcoords"
           }
          ],
          "pie": [
           {
            "automargin": true,
            "type": "pie"
           }
          ],
          "scatter": [
           {
            "fillpattern": {
             "fillmode": "overlay",
             "size": 10,
             "solidity": 0.2
            },
            "type": "scatter"
           }
          ],
          "scatter3d": [
           {
            "line": {
             "colorbar": {
              "outlinewidth": 0,
              "ticks": ""
             }
            },
            "marker": {
             "colorbar": {
              "outlinewidth": 0,
              "ticks": ""
             }
            },
            "type": "scatter3d"
           }
          ],
          "scattercarpet": [
           {
            "marker": {
             "colorbar": {
              "outlinewidth": 0,
              "ticks": ""
             }
            },
            "type": "scattercarpet"
           }
          ],
          "scattergeo": [
           {
            "marker": {
             "colorbar": {
              "outlinewidth": 0,
              "ticks": ""
             }
            },
            "type": "scattergeo"
           }
          ],
          "scattergl": [
           {
            "marker": {
             "colorbar": {
              "outlinewidth": 0,
              "ticks": ""
             }
            },
            "type": "scattergl"
           }
          ],
          "scattermapbox": [
           {
            "marker": {
             "colorbar": {
              "outlinewidth": 0,
              "ticks": ""
             }
            },
            "type": "scattermapbox"
           }
          ],
          "scatterpolar": [
           {
            "marker": {
             "colorbar": {
              "outlinewidth": 0,
              "ticks": ""
             }
            },
            "type": "scatterpolar"
           }
          ],
          "scatterpolargl": [
           {
            "marker": {
             "colorbar": {
              "outlinewidth": 0,
              "ticks": ""
             }
            },
            "type": "scatterpolargl"
           }
          ],
          "scatterternary": [
           {
            "marker": {
             "colorbar": {
              "outlinewidth": 0,
              "ticks": ""
             }
            },
            "type": "scatterternary"
           }
          ],
          "surface": [
           {
            "colorbar": {
             "outlinewidth": 0,
             "ticks": ""
            },
            "colorscale": [
             [
              0,
              "#0d0887"
             ],
             [
              0.1111111111111111,
              "#46039f"
             ],
             [
              0.2222222222222222,
              "#7201a8"
             ],
             [
              0.3333333333333333,
              "#9c179e"
             ],
             [
              0.4444444444444444,
              "#bd3786"
             ],
             [
              0.5555555555555556,
              "#d8576b"
             ],
             [
              0.6666666666666666,
              "#ed7953"
             ],
             [
              0.7777777777777778,
              "#fb9f3a"
             ],
             [
              0.8888888888888888,
              "#fdca26"
             ],
             [
              1,
              "#f0f921"
             ]
            ],
            "type": "surface"
           }
          ],
          "table": [
           {
            "cells": {
             "fill": {
              "color": "#EBF0F8"
             },
             "line": {
              "color": "white"
             }
            },
            "header": {
             "fill": {
              "color": "#C8D4E3"
             },
             "line": {
              "color": "white"
             }
            },
            "type": "table"
           }
          ]
         },
         "layout": {
          "annotationdefaults": {
           "arrowcolor": "#2a3f5f",
           "arrowhead": 0,
           "arrowwidth": 1
          },
          "autotypenumbers": "strict",
          "coloraxis": {
           "colorbar": {
            "outlinewidth": 0,
            "ticks": ""
           }
          },
          "colorscale": {
           "diverging": [
            [
             0,
             "#8e0152"
            ],
            [
             0.1,
             "#c51b7d"
            ],
            [
             0.2,
             "#de77ae"
            ],
            [
             0.3,
             "#f1b6da"
            ],
            [
             0.4,
             "#fde0ef"
            ],
            [
             0.5,
             "#f7f7f7"
            ],
            [
             0.6,
             "#e6f5d0"
            ],
            [
             0.7,
             "#b8e186"
            ],
            [
             0.8,
             "#7fbc41"
            ],
            [
             0.9,
             "#4d9221"
            ],
            [
             1,
             "#276419"
            ]
           ],
           "sequential": [
            [
             0,
             "#0d0887"
            ],
            [
             0.1111111111111111,
             "#46039f"
            ],
            [
             0.2222222222222222,
             "#7201a8"
            ],
            [
             0.3333333333333333,
             "#9c179e"
            ],
            [
             0.4444444444444444,
             "#bd3786"
            ],
            [
             0.5555555555555556,
             "#d8576b"
            ],
            [
             0.6666666666666666,
             "#ed7953"
            ],
            [
             0.7777777777777778,
             "#fb9f3a"
            ],
            [
             0.8888888888888888,
             "#fdca26"
            ],
            [
             1,
             "#f0f921"
            ]
           ],
           "sequentialminus": [
            [
             0,
             "#0d0887"
            ],
            [
             0.1111111111111111,
             "#46039f"
            ],
            [
             0.2222222222222222,
             "#7201a8"
            ],
            [
             0.3333333333333333,
             "#9c179e"
            ],
            [
             0.4444444444444444,
             "#bd3786"
            ],
            [
             0.5555555555555556,
             "#d8576b"
            ],
            [
             0.6666666666666666,
             "#ed7953"
            ],
            [
             0.7777777777777778,
             "#fb9f3a"
            ],
            [
             0.8888888888888888,
             "#fdca26"
            ],
            [
             1,
             "#f0f921"
            ]
           ]
          },
          "colorway": [
           "#636efa",
           "#EF553B",
           "#00cc96",
           "#ab63fa",
           "#FFA15A",
           "#19d3f3",
           "#FF6692",
           "#B6E880",
           "#FF97FF",
           "#FECB52"
          ],
          "font": {
           "color": "#2a3f5f"
          },
          "geo": {
           "bgcolor": "white",
           "lakecolor": "white",
           "landcolor": "#E5ECF6",
           "showlakes": true,
           "showland": true,
           "subunitcolor": "white"
          },
          "hoverlabel": {
           "align": "left"
          },
          "hovermode": "closest",
          "mapbox": {
           "style": "light"
          },
          "paper_bgcolor": "white",
          "plot_bgcolor": "#E5ECF6",
          "polar": {
           "angularaxis": {
            "gridcolor": "white",
            "linecolor": "white",
            "ticks": ""
           },
           "bgcolor": "#E5ECF6",
           "radialaxis": {
            "gridcolor": "white",
            "linecolor": "white",
            "ticks": ""
           }
          },
          "scene": {
           "xaxis": {
            "backgroundcolor": "#E5ECF6",
            "gridcolor": "white",
            "gridwidth": 2,
            "linecolor": "white",
            "showbackground": true,
            "ticks": "",
            "zerolinecolor": "white"
           },
           "yaxis": {
            "backgroundcolor": "#E5ECF6",
            "gridcolor": "white",
            "gridwidth": 2,
            "linecolor": "white",
            "showbackground": true,
            "ticks": "",
            "zerolinecolor": "white"
           },
           "zaxis": {
            "backgroundcolor": "#E5ECF6",
            "gridcolor": "white",
            "gridwidth": 2,
            "linecolor": "white",
            "showbackground": true,
            "ticks": "",
            "zerolinecolor": "white"
           }
          },
          "shapedefaults": {
           "line": {
            "color": "#2a3f5f"
           }
          },
          "ternary": {
           "aaxis": {
            "gridcolor": "white",
            "linecolor": "white",
            "ticks": ""
           },
           "baxis": {
            "gridcolor": "white",
            "linecolor": "white",
            "ticks": ""
           },
           "bgcolor": "#E5ECF6",
           "caxis": {
            "gridcolor": "white",
            "linecolor": "white",
            "ticks": ""
           }
          },
          "title": {
           "x": 0.05
          },
          "xaxis": {
           "automargin": true,
           "gridcolor": "white",
           "linecolor": "white",
           "ticks": "",
           "title": {
            "standoff": 15
           },
           "zerolinecolor": "white",
           "zerolinewidth": 2
          },
          "yaxis": {
           "automargin": true,
           "gridcolor": "white",
           "linecolor": "white",
           "ticks": "",
           "title": {
            "standoff": 15
           },
           "zerolinecolor": "white",
           "zerolinewidth": 2
          }
         }
        },
        "title": {
         "text": "Training with testing on different adversary's eps values"
        },
        "width": 800,
        "xaxis": {
         "anchor": "y",
         "domain": [
          0,
          1
         ],
         "title": {
          "text": "Games played"
         }
        },
        "yaxis": {
         "anchor": "x",
         "domain": [
          0,
          1
         ],
         "title": {
          "text": "Mean reward"
         }
        }
       }
      }
     },
     "metadata": {},
     "output_type": "display_data"
    },
    {
     "data": {
      "application/vnd.plotly.v1+json": {
       "config": {
        "plotlyServerURL": "https://plot.ly"
       },
       "data": [
        {
         "hovertemplate": "variable=eps=0.00<br>Games played=%{x}<br>value=%{y}<extra></extra>",
         "legendgroup": "eps=0.00",
         "line": {
          "color": "#636efa",
          "dash": "solid"
         },
         "marker": {
          "symbol": "circle"
         },
         "mode": "lines",
         "name": "eps=0.00",
         "orientation": "v",
         "showlegend": true,
         "type": "scatter",
         "x": [
          250,
          500,
          750,
          1000,
          1250,
          1500,
          1750,
          2000,
          2250,
          2500,
          2750,
          3000,
          3250,
          3500,
          3750,
          4000,
          4250,
          4500,
          4750,
          5000,
          5250,
          5500,
          5750,
          6000,
          6250,
          6500,
          6750,
          7000,
          7250,
          7500,
          7750,
          8000,
          8250,
          8500,
          8750,
          9000,
          9250,
          9500,
          9750,
          10000,
          10250,
          10500,
          10750,
          11000,
          11250,
          11500,
          11750,
          12000,
          12250,
          12500,
          12750,
          13000,
          13250,
          13500,
          13750,
          14000,
          14250,
          14500,
          14750,
          15000,
          15250,
          15500,
          15750,
          16000,
          16250,
          16500,
          16750,
          17000,
          17250,
          17500,
          17750,
          18000,
          18250,
          18500,
          18750,
          19000,
          19250,
          19500,
          19750
         ],
         "xaxis": "x",
         "y": [
          -0.916,
          -0.864,
          -0.704,
          -0.72,
          -0.524,
          -0.46,
          -0.472,
          -0.368,
          -0.228,
          -0.24,
          -0.232,
          -0.176,
          -0.176,
          -0.104,
          -0.144,
          -0.044,
          -0.044,
          -0.052,
          -0.092,
          0.016,
          -0.044,
          -0.068,
          -0.048,
          -0.06,
          -0.032,
          0.048,
          -0.008,
          -0.04,
          0.004,
          -0.032,
          -0.012,
          -0.004,
          0.004,
          0.02,
          -0.04,
          -0.064,
          0.008,
          -0.004,
          -0.012,
          0.024,
          -0.032,
          0.004,
          0,
          -0.004,
          -0.048,
          -0.02,
          -0.04,
          -0.06,
          0.02,
          0.056,
          0.032,
          -0.02,
          0.064,
          0.008,
          0.028,
          -0.012,
          0.044,
          0.012,
          0.008,
          0,
          0.072,
          0.036,
          0.012,
          0,
          -0.004,
          -0.064,
          -0.028,
          0.104,
          0.024,
          0.024,
          -0.052,
          0.048,
          -0.012,
          -0.012,
          0.016,
          -0.024,
          0,
          0.052,
          -0.024
         ],
         "yaxis": "y"
        },
        {
         "hovertemplate": "variable=eps=0.10<br>Games played=%{x}<br>value=%{y}<extra></extra>",
         "legendgroup": "eps=0.10",
         "line": {
          "color": "#EF553B",
          "dash": "solid"
         },
         "marker": {
          "symbol": "circle"
         },
         "mode": "lines",
         "name": "eps=0.10",
         "orientation": "v",
         "showlegend": true,
         "type": "scatter",
         "x": [
          250,
          500,
          750,
          1000,
          1250,
          1500,
          1750,
          2000,
          2250,
          2500,
          2750,
          3000,
          3250,
          3500,
          3750,
          4000,
          4250,
          4500,
          4750,
          5000,
          5250,
          5500,
          5750,
          6000,
          6250,
          6500,
          6750,
          7000,
          7250,
          7500,
          7750,
          8000,
          8250,
          8500,
          8750,
          9000,
          9250,
          9500,
          9750,
          10000,
          10250,
          10500,
          10750,
          11000,
          11250,
          11500,
          11750,
          12000,
          12250,
          12500,
          12750,
          13000,
          13250,
          13500,
          13750,
          14000,
          14250,
          14500,
          14750,
          15000,
          15250,
          15500,
          15750,
          16000,
          16250,
          16500,
          16750,
          17000,
          17250,
          17500,
          17750,
          18000,
          18250,
          18500,
          18750,
          19000,
          19250,
          19500,
          19750
         ],
         "xaxis": "x",
         "y": [
          -0.94,
          -0.924,
          -0.8,
          -0.748,
          -0.668,
          -0.572,
          -0.456,
          -0.44,
          -0.384,
          -0.248,
          -0.164,
          -0.16,
          -0.148,
          -0.108,
          -0.004,
          -0.088,
          -0.076,
          0,
          0.02,
          0.024,
          0.012,
          -0.068,
          -0.024,
          -0.052,
          -0.036,
          0.024,
          -0.036,
          -0.024,
          0.052,
          -0.02,
          -0.088,
          0.024,
          0.012,
          -0.012,
          -0.004,
          -0.016,
          -0.008,
          -0.036,
          0.032,
          0.048,
          -0.032,
          -0.004,
          -0.032,
          0.052,
          -0.052,
          0.016,
          0.024,
          -0.044,
          -0.036,
          -0.08,
          -0.04,
          0.028,
          0.02,
          0.004,
          -0.08,
          0,
          0.048,
          -0.012,
          0.012,
          0.048,
          0.016,
          0.008,
          -0.008,
          0.028,
          -0.04,
          -0.068,
          0.06,
          -0.048,
          -0.08,
          -0.028,
          -0.016,
          0.024,
          -0.052,
          -0.06,
          -0.012,
          -0.044,
          -0.044,
          0.076,
          -0.036
         ],
         "yaxis": "y"
        },
        {
         "hovertemplate": "variable=eps=0.20<br>Games played=%{x}<br>value=%{y}<extra></extra>",
         "legendgroup": "eps=0.20",
         "line": {
          "color": "#00cc96",
          "dash": "solid"
         },
         "marker": {
          "symbol": "circle"
         },
         "mode": "lines",
         "name": "eps=0.20",
         "orientation": "v",
         "showlegend": true,
         "type": "scatter",
         "x": [
          250,
          500,
          750,
          1000,
          1250,
          1500,
          1750,
          2000,
          2250,
          2500,
          2750,
          3000,
          3250,
          3500,
          3750,
          4000,
          4250,
          4500,
          4750,
          5000,
          5250,
          5500,
          5750,
          6000,
          6250,
          6500,
          6750,
          7000,
          7250,
          7500,
          7750,
          8000,
          8250,
          8500,
          8750,
          9000,
          9250,
          9500,
          9750,
          10000,
          10250,
          10500,
          10750,
          11000,
          11250,
          11500,
          11750,
          12000,
          12250,
          12500,
          12750,
          13000,
          13250,
          13500,
          13750,
          14000,
          14250,
          14500,
          14750,
          15000,
          15250,
          15500,
          15750,
          16000,
          16250,
          16500,
          16750,
          17000,
          17250,
          17500,
          17750,
          18000,
          18250,
          18500,
          18750,
          19000,
          19250,
          19500,
          19750
         ],
         "xaxis": "x",
         "y": [
          -0.988,
          -0.864,
          -0.82,
          -0.752,
          -0.668,
          -0.524,
          -0.476,
          -0.48,
          -0.416,
          -0.388,
          -0.356,
          -0.276,
          -0.224,
          -0.272,
          -0.216,
          -0.248,
          -0.148,
          -0.168,
          -0.216,
          -0.092,
          -0.096,
          -0.156,
          -0.076,
          -0.148,
          -0.104,
          -0.024,
          -0.132,
          -0.048,
          -0.092,
          -0.06,
          -0.068,
          -0.012,
          -0.076,
          -0.064,
          -0.12,
          -0.152,
          -0.056,
          -0.06,
          -0.092,
          -0.068,
          -0.088,
          -0.024,
          -0.116,
          -0.076,
          -0.092,
          -0.08,
          -0.04,
          -0.088,
          -0.036,
          -0.036,
          0.012,
          -0.068,
          -0.128,
          -0.052,
          -0.072,
          -0.152,
          -0.032,
          -0.064,
          -0.048,
          -0.132,
          -0.1,
          -0.084,
          -0.048,
          -0.044,
          0.004,
          -0.048,
          -0.004,
          -0.036,
          -0.06,
          -0.004,
          -0.032,
          -0.08,
          -0.072,
          -0.068,
          -0.052,
          0.02,
          -0.068,
          -0.1,
          -0.032
         ],
         "yaxis": "y"
        },
        {
         "hovertemplate": "variable=eps=0.30<br>Games played=%{x}<br>value=%{y}<extra></extra>",
         "legendgroup": "eps=0.30",
         "line": {
          "color": "#ab63fa",
          "dash": "solid"
         },
         "marker": {
          "symbol": "circle"
         },
         "mode": "lines",
         "name": "eps=0.30",
         "orientation": "v",
         "showlegend": true,
         "type": "scatter",
         "x": [
          250,
          500,
          750,
          1000,
          1250,
          1500,
          1750,
          2000,
          2250,
          2500,
          2750,
          3000,
          3250,
          3500,
          3750,
          4000,
          4250,
          4500,
          4750,
          5000,
          5250,
          5500,
          5750,
          6000,
          6250,
          6500,
          6750,
          7000,
          7250,
          7500,
          7750,
          8000,
          8250,
          8500,
          8750,
          9000,
          9250,
          9500,
          9750,
          10000,
          10250,
          10500,
          10750,
          11000,
          11250,
          11500,
          11750,
          12000,
          12250,
          12500,
          12750,
          13000,
          13250,
          13500,
          13750,
          14000,
          14250,
          14500,
          14750,
          15000,
          15250,
          15500,
          15750,
          16000,
          16250,
          16500,
          16750,
          17000,
          17250,
          17500,
          17750,
          18000,
          18250,
          18500,
          18750,
          19000,
          19250,
          19500,
          19750
         ],
         "xaxis": "x",
         "y": [
          -0.956,
          -0.956,
          -0.868,
          -0.876,
          -0.808,
          -0.764,
          -0.728,
          -0.708,
          -0.652,
          -0.66,
          -0.62,
          -0.608,
          -0.6,
          -0.568,
          -0.592,
          -0.568,
          -0.532,
          -0.532,
          -0.448,
          -0.516,
          -0.544,
          -0.48,
          -0.536,
          -0.512,
          -0.52,
          -0.508,
          -0.456,
          -0.496,
          -0.5,
          -0.456,
          -0.488,
          -0.408,
          -0.408,
          -0.444,
          -0.464,
          -0.44,
          -0.464,
          -0.436,
          -0.424,
          -0.444,
          -0.412,
          -0.456,
          -0.436,
          -0.5,
          -0.5,
          -0.444,
          -0.504,
          -0.472,
          -0.404,
          -0.496,
          -0.472,
          -0.436,
          -0.392,
          -0.448,
          -0.46,
          -0.396,
          -0.472,
          -0.448,
          -0.56,
          -0.464,
          -0.444,
          -0.424,
          -0.372,
          -0.408,
          -0.368,
          -0.34,
          -0.468,
          -0.36,
          -0.416,
          -0.36,
          -0.484,
          -0.416,
          -0.452,
          -0.38,
          -0.404,
          -0.444,
          -0.42,
          -0.4,
          -0.444
         ],
         "yaxis": "y"
        },
        {
         "hovertemplate": "variable=eps=0.40<br>Games played=%{x}<br>value=%{y}<extra></extra>",
         "legendgroup": "eps=0.40",
         "line": {
          "color": "#FFA15A",
          "dash": "solid"
         },
         "marker": {
          "symbol": "circle"
         },
         "mode": "lines",
         "name": "eps=0.40",
         "orientation": "v",
         "showlegend": true,
         "type": "scatter",
         "x": [
          250,
          500,
          750,
          1000,
          1250,
          1500,
          1750,
          2000,
          2250,
          2500,
          2750,
          3000,
          3250,
          3500,
          3750,
          4000,
          4250,
          4500,
          4750,
          5000,
          5250,
          5500,
          5750,
          6000,
          6250,
          6500,
          6750,
          7000,
          7250,
          7500,
          7750,
          8000,
          8250,
          8500,
          8750,
          9000,
          9250,
          9500,
          9750,
          10000,
          10250,
          10500,
          10750,
          11000,
          11250,
          11500,
          11750,
          12000,
          12250,
          12500,
          12750,
          13000,
          13250,
          13500,
          13750,
          14000,
          14250,
          14500,
          14750,
          15000,
          15250,
          15500,
          15750,
          16000,
          16250,
          16500,
          16750,
          17000,
          17250,
          17500,
          17750,
          18000,
          18250,
          18500,
          18750,
          19000,
          19250,
          19500,
          19750
         ],
         "xaxis": "x",
         "y": [
          -0.992,
          -0.98,
          -0.968,
          -0.932,
          -0.9,
          -0.92,
          -0.904,
          -0.848,
          -0.864,
          -0.868,
          -0.812,
          -0.832,
          -0.804,
          -0.812,
          -0.788,
          -0.828,
          -0.832,
          -0.812,
          -0.812,
          -0.82,
          -0.816,
          -0.82,
          -0.76,
          -0.832,
          -0.788,
          -0.788,
          -0.768,
          -0.832,
          -0.804,
          -0.752,
          -0.74,
          -0.828,
          -0.8,
          -0.744,
          -0.748,
          -0.78,
          -0.756,
          -0.756,
          -0.768,
          -0.844,
          -0.752,
          -0.788,
          -0.78,
          -0.784,
          -0.752,
          -0.764,
          -0.832,
          -0.804,
          -0.772,
          -0.776,
          -0.756,
          -0.808,
          -0.812,
          -0.824,
          -0.776,
          -0.816,
          -0.764,
          -0.812,
          -0.852,
          -0.796,
          -0.788,
          -0.776,
          -0.8,
          -0.812,
          -0.816,
          -0.768,
          -0.768,
          -0.816,
          -0.756,
          -0.768,
          -0.788,
          -0.784,
          -0.836,
          -0.852,
          -0.74,
          -0.72,
          -0.808,
          -0.72,
          -0.808
         ],
         "yaxis": "y"
        },
        {
         "hovertemplate": "variable=eps=0.50<br>Games played=%{x}<br>value=%{y}<extra></extra>",
         "legendgroup": "eps=0.50",
         "line": {
          "color": "#19d3f3",
          "dash": "solid"
         },
         "marker": {
          "symbol": "circle"
         },
         "mode": "lines",
         "name": "eps=0.50",
         "orientation": "v",
         "showlegend": true,
         "type": "scatter",
         "x": [
          250,
          500,
          750,
          1000,
          1250,
          1500,
          1750,
          2000,
          2250,
          2500,
          2750,
          3000,
          3250,
          3500,
          3750,
          4000,
          4250,
          4500,
          4750,
          5000,
          5250,
          5500,
          5750,
          6000,
          6250,
          6500,
          6750,
          7000,
          7250,
          7500,
          7750,
          8000,
          8250,
          8500,
          8750,
          9000,
          9250,
          9500,
          9750,
          10000,
          10250,
          10500,
          10750,
          11000,
          11250,
          11500,
          11750,
          12000,
          12250,
          12500,
          12750,
          13000,
          13250,
          13500,
          13750,
          14000,
          14250,
          14500,
          14750,
          15000,
          15250,
          15500,
          15750,
          16000,
          16250,
          16500,
          16750,
          17000,
          17250,
          17500,
          17750,
          18000,
          18250,
          18500,
          18750,
          19000,
          19250,
          19500,
          19750
         ],
         "xaxis": "x",
         "y": [
          -0.984,
          -0.948,
          -0.936,
          -0.932,
          -0.912,
          -0.944,
          -0.924,
          -0.924,
          -0.96,
          -0.924,
          -0.94,
          -0.952,
          -0.904,
          -0.888,
          -0.904,
          -0.896,
          -0.892,
          -0.904,
          -0.912,
          -0.924,
          -0.952,
          -0.944,
          -0.916,
          -0.888,
          -0.916,
          -0.916,
          -0.872,
          -0.912,
          -0.904,
          -0.936,
          -0.928,
          -0.928,
          -0.94,
          -0.904,
          -0.932,
          -0.912,
          -0.936,
          -0.932,
          -0.924,
          -0.896,
          -0.932,
          -0.916,
          -0.912,
          -0.912,
          -0.908,
          -0.9,
          -0.92,
          -0.944,
          -0.904,
          -0.924,
          -0.864,
          -0.932,
          -0.908,
          -0.912,
          -0.916,
          -0.904,
          -0.9,
          -0.9,
          -0.928,
          -0.884,
          -0.896,
          -0.892,
          -0.9,
          -0.92,
          -0.872,
          -0.912,
          -0.896,
          -0.9,
          -0.884,
          -0.9,
          -0.88,
          -0.872,
          -0.908,
          -0.908,
          -0.872,
          -0.904,
          -0.904,
          -0.896,
          -0.928
         ],
         "yaxis": "y"
        },
        {
         "hovertemplate": "variable=eps=0.60<br>Games played=%{x}<br>value=%{y}<extra></extra>",
         "legendgroup": "eps=0.60",
         "line": {
          "color": "#FF6692",
          "dash": "solid"
         },
         "marker": {
          "symbol": "circle"
         },
         "mode": "lines",
         "name": "eps=0.60",
         "orientation": "v",
         "showlegend": true,
         "type": "scatter",
         "x": [
          250,
          500,
          750,
          1000,
          1250,
          1500,
          1750,
          2000,
          2250,
          2500,
          2750,
          3000,
          3250,
          3500,
          3750,
          4000,
          4250,
          4500,
          4750,
          5000,
          5250,
          5500,
          5750,
          6000,
          6250,
          6500,
          6750,
          7000,
          7250,
          7500,
          7750,
          8000,
          8250,
          8500,
          8750,
          9000,
          9250,
          9500,
          9750,
          10000,
          10250,
          10500,
          10750,
          11000,
          11250,
          11500,
          11750,
          12000,
          12250,
          12500,
          12750,
          13000,
          13250,
          13500,
          13750,
          14000,
          14250,
          14500,
          14750,
          15000,
          15250,
          15500,
          15750,
          16000,
          16250,
          16500,
          16750,
          17000,
          17250,
          17500,
          17750,
          18000,
          18250,
          18500,
          18750,
          19000,
          19250,
          19500,
          19750
         ],
         "xaxis": "x",
         "y": [
          -0.988,
          -0.92,
          -0.956,
          -0.924,
          -0.9,
          -0.9,
          -0.932,
          -0.86,
          -0.908,
          -0.916,
          -0.9,
          -0.884,
          -0.88,
          -0.92,
          -0.936,
          -0.896,
          -0.884,
          -0.896,
          -0.884,
          -0.884,
          -0.924,
          -0.924,
          -0.904,
          -0.868,
          -0.92,
          -0.912,
          -0.916,
          -0.876,
          -0.872,
          -0.888,
          -0.9,
          -0.876,
          -0.9,
          -0.928,
          -0.896,
          -0.856,
          -0.868,
          -0.92,
          -0.912,
          -0.912,
          -0.888,
          -0.928,
          -0.9,
          -0.904,
          -0.88,
          -0.912,
          -0.9,
          -0.924,
          -0.912,
          -0.884,
          -0.932,
          -0.9,
          -0.908,
          -0.92,
          -0.904,
          -0.896,
          -0.908,
          -0.888,
          -0.864,
          -0.908,
          -0.928,
          -0.872,
          -0.928,
          -0.888,
          -0.94,
          -0.844,
          -0.916,
          -0.904,
          -0.904,
          -0.916,
          -0.94,
          -0.88,
          -0.828,
          -0.892,
          -0.928,
          -0.936,
          -0.904,
          -0.908,
          -0.936
         ],
         "yaxis": "y"
        },
        {
         "hovertemplate": "variable=eps=0.70<br>Games played=%{x}<br>value=%{y}<extra></extra>",
         "legendgroup": "eps=0.70",
         "line": {
          "color": "#B6E880",
          "dash": "solid"
         },
         "marker": {
          "symbol": "circle"
         },
         "mode": "lines",
         "name": "eps=0.70",
         "orientation": "v",
         "showlegend": true,
         "type": "scatter",
         "x": [
          250,
          500,
          750,
          1000,
          1250,
          1500,
          1750,
          2000,
          2250,
          2500,
          2750,
          3000,
          3250,
          3500,
          3750,
          4000,
          4250,
          4500,
          4750,
          5000,
          5250,
          5500,
          5750,
          6000,
          6250,
          6500,
          6750,
          7000,
          7250,
          7500,
          7750,
          8000,
          8250,
          8500,
          8750,
          9000,
          9250,
          9500,
          9750,
          10000,
          10250,
          10500,
          10750,
          11000,
          11250,
          11500,
          11750,
          12000,
          12250,
          12500,
          12750,
          13000,
          13250,
          13500,
          13750,
          14000,
          14250,
          14500,
          14750,
          15000,
          15250,
          15500,
          15750,
          16000,
          16250,
          16500,
          16750,
          17000,
          17250,
          17500,
          17750,
          18000,
          18250,
          18500,
          18750,
          19000,
          19250,
          19500,
          19750
         ],
         "xaxis": "x",
         "y": [
          -1,
          -1,
          -0.976,
          -0.948,
          -0.94,
          -0.952,
          -0.964,
          -0.948,
          -0.944,
          -0.96,
          -0.96,
          -0.944,
          -0.964,
          -0.94,
          -0.96,
          -0.964,
          -0.956,
          -0.952,
          -0.948,
          -0.952,
          -0.964,
          -0.948,
          -0.96,
          -0.944,
          -0.956,
          -0.944,
          -0.928,
          -0.932,
          -0.96,
          -0.952,
          -0.936,
          -0.948,
          -0.944,
          -0.948,
          -0.948,
          -0.928,
          -0.948,
          -0.94,
          -0.968,
          -0.968,
          -0.936,
          -0.964,
          -0.944,
          -0.956,
          -0.928,
          -0.956,
          -0.94,
          -0.94,
          -0.968,
          -0.964,
          -0.92,
          -0.908,
          -0.952,
          -0.928,
          -0.936,
          -0.952,
          -0.952,
          -0.928,
          -0.944,
          -0.944,
          -0.928,
          -0.952,
          -0.948,
          -0.932,
          -0.936,
          -0.952,
          -0.924,
          -0.956,
          -0.96,
          -0.928,
          -0.964,
          -0.964,
          -0.94,
          -0.924,
          -0.96,
          -0.944,
          -0.964,
          -0.912,
          -0.956
         ],
         "yaxis": "y"
        },
        {
         "hovertemplate": "variable=eps=0.80<br>Games played=%{x}<br>value=%{y}<extra></extra>",
         "legendgroup": "eps=0.80",
         "line": {
          "color": "#FF97FF",
          "dash": "solid"
         },
         "marker": {
          "symbol": "circle"
         },
         "mode": "lines",
         "name": "eps=0.80",
         "orientation": "v",
         "showlegend": true,
         "type": "scatter",
         "x": [
          250,
          500,
          750,
          1000,
          1250,
          1500,
          1750,
          2000,
          2250,
          2500,
          2750,
          3000,
          3250,
          3500,
          3750,
          4000,
          4250,
          4500,
          4750,
          5000,
          5250,
          5500,
          5750,
          6000,
          6250,
          6500,
          6750,
          7000,
          7250,
          7500,
          7750,
          8000,
          8250,
          8500,
          8750,
          9000,
          9250,
          9500,
          9750,
          10000,
          10250,
          10500,
          10750,
          11000,
          11250,
          11500,
          11750,
          12000,
          12250,
          12500,
          12750,
          13000,
          13250,
          13500,
          13750,
          14000,
          14250,
          14500,
          14750,
          15000,
          15250,
          15500,
          15750,
          16000,
          16250,
          16500,
          16750,
          17000,
          17250,
          17500,
          17750,
          18000,
          18250,
          18500,
          18750,
          19000,
          19250,
          19500,
          19750
         ],
         "xaxis": "x",
         "y": [
          -0.996,
          -0.992,
          -0.964,
          -0.944,
          -0.952,
          -0.944,
          -0.928,
          -0.948,
          -0.956,
          -0.956,
          -0.956,
          -0.964,
          -0.944,
          -0.972,
          -0.964,
          -0.948,
          -0.936,
          -0.948,
          -0.96,
          -0.92,
          -0.96,
          -0.952,
          -0.94,
          -0.944,
          -0.928,
          -0.94,
          -0.92,
          -0.948,
          -0.928,
          -0.932,
          -0.956,
          -0.952,
          -0.928,
          -0.944,
          -0.952,
          -0.96,
          -0.952,
          -0.948,
          -0.96,
          -0.952,
          -0.972,
          -0.956,
          -0.956,
          -0.956,
          -0.956,
          -0.932,
          -0.928,
          -0.928,
          -0.94,
          -0.964,
          -0.956,
          -0.948,
          -0.956,
          -0.94,
          -0.936,
          -0.944,
          -0.948,
          -0.948,
          -0.932,
          -0.96,
          -0.932,
          -0.932,
          -0.948,
          -0.96,
          -0.94,
          -0.94,
          -0.944,
          -0.956,
          -0.928,
          -0.96,
          -0.956,
          -0.956,
          -0.936,
          -0.96,
          -0.96,
          -0.952,
          -0.956,
          -0.932,
          -0.956
         ],
         "yaxis": "y"
        },
        {
         "hovertemplate": "variable=eps=0.90<br>Games played=%{x}<br>value=%{y}<extra></extra>",
         "legendgroup": "eps=0.90",
         "line": {
          "color": "#FECB52",
          "dash": "solid"
         },
         "marker": {
          "symbol": "circle"
         },
         "mode": "lines",
         "name": "eps=0.90",
         "orientation": "v",
         "showlegend": true,
         "type": "scatter",
         "x": [
          250,
          500,
          750,
          1000,
          1250,
          1500,
          1750,
          2000,
          2250,
          2500,
          2750,
          3000,
          3250,
          3500,
          3750,
          4000,
          4250,
          4500,
          4750,
          5000,
          5250,
          5500,
          5750,
          6000,
          6250,
          6500,
          6750,
          7000,
          7250,
          7500,
          7750,
          8000,
          8250,
          8500,
          8750,
          9000,
          9250,
          9500,
          9750,
          10000,
          10250,
          10500,
          10750,
          11000,
          11250,
          11500,
          11750,
          12000,
          12250,
          12500,
          12750,
          13000,
          13250,
          13500,
          13750,
          14000,
          14250,
          14500,
          14750,
          15000,
          15250,
          15500,
          15750,
          16000,
          16250,
          16500,
          16750,
          17000,
          17250,
          17500,
          17750,
          18000,
          18250,
          18500,
          18750,
          19000,
          19250,
          19500,
          19750
         ],
         "xaxis": "x",
         "y": [
          -0.984,
          -1,
          -1,
          -1,
          -1,
          -1,
          -1,
          -1,
          -1,
          -1,
          -1,
          -1,
          -1,
          -1,
          -1,
          -1,
          -1,
          -1,
          -1,
          -1,
          -1,
          -0.98,
          -1,
          -0.992,
          -0.988,
          -0.992,
          -0.996,
          -0.984,
          -0.984,
          -0.996,
          -0.992,
          -0.988,
          -0.988,
          -0.984,
          -0.988,
          -0.98,
          -0.988,
          -0.988,
          -0.976,
          -0.984,
          -0.98,
          -0.988,
          -0.996,
          -0.984,
          -0.976,
          -0.988,
          -0.988,
          -0.988,
          -0.992,
          -0.988,
          -0.984,
          -0.988,
          -0.988,
          -0.992,
          -0.992,
          -0.98,
          -0.992,
          -0.96,
          -0.984,
          -0.948,
          -0.936,
          -0.968,
          -0.952,
          -0.94,
          -0.952,
          -0.964,
          -0.964,
          -0.968,
          -0.988,
          -0.964,
          -0.964,
          -0.98,
          -0.932,
          -0.944,
          -0.96,
          -0.944,
          -0.952,
          -0.948,
          -0.948
         ],
         "yaxis": "y"
        },
        {
         "hovertemplate": "variable=eps=1.00<br>Games played=%{x}<br>value=%{y}<extra></extra>",
         "legendgroup": "eps=1.00",
         "line": {
          "color": "#636efa",
          "dash": "solid"
         },
         "marker": {
          "symbol": "circle"
         },
         "mode": "lines",
         "name": "eps=1.00",
         "orientation": "v",
         "showlegend": true,
         "type": "scatter",
         "x": [
          250,
          500,
          750,
          1000,
          1250,
          1500,
          1750,
          2000,
          2250,
          2500,
          2750,
          3000,
          3250,
          3500,
          3750,
          4000,
          4250,
          4500,
          4750,
          5000,
          5250,
          5500,
          5750,
          6000,
          6250,
          6500,
          6750,
          7000,
          7250,
          7500,
          7750,
          8000,
          8250,
          8500,
          8750,
          9000,
          9250,
          9500,
          9750,
          10000,
          10250,
          10500,
          10750,
          11000,
          11250,
          11500,
          11750,
          12000,
          12250,
          12500,
          12750,
          13000,
          13250,
          13500,
          13750,
          14000,
          14250,
          14500,
          14750,
          15000,
          15250,
          15500,
          15750,
          16000,
          16250,
          16500,
          16750,
          17000,
          17250,
          17500,
          17750,
          18000,
          18250,
          18500,
          18750,
          19000,
          19250,
          19500,
          19750
         ],
         "xaxis": "x",
         "y": [
          -0.992,
          -0.988,
          -0.992,
          -0.988,
          -0.992,
          -0.992,
          -0.992,
          -0.992,
          -0.996,
          -0.996,
          -0.988,
          -0.996,
          -0.984,
          -0.988,
          -0.992,
          -0.996,
          -0.996,
          -0.988,
          -0.988,
          -0.984,
          -0.992,
          -0.996,
          -1,
          -0.996,
          -1,
          -0.992,
          -0.98,
          -0.992,
          -0.988,
          -0.992,
          -0.992,
          -0.988,
          -0.98,
          -0.984,
          -1,
          -0.996,
          -0.988,
          -0.988,
          -0.992,
          -0.992,
          -0.98,
          -0.98,
          -0.988,
          -0.984,
          -1,
          -0.988,
          -0.988,
          -0.992,
          -0.996,
          -0.988,
          -0.996,
          -0.996,
          -0.992,
          -0.988,
          -0.988,
          -0.992,
          -0.996,
          -0.98,
          -0.976,
          -0.992,
          -0.992,
          -0.98,
          -0.992,
          -0.984,
          -0.996,
          -0.988,
          -0.992,
          -1,
          -0.98,
          -0.992,
          -0.976,
          -0.964,
          -0.968,
          -0.968,
          -0.952,
          -0.96,
          -0.944,
          -0.952,
          -0.932
         ],
         "yaxis": "y"
        }
       ],
       "layout": {
        "legend": {
         "title": {
          "text": "variable"
         },
         "tracegroupgap": 0
        },
        "margin": {
         "t": 60
        },
        "template": {
         "data": {
          "bar": [
           {
            "error_x": {
             "color": "#2a3f5f"
            },
            "error_y": {
             "color": "#2a3f5f"
            },
            "marker": {
             "line": {
              "color": "#E5ECF6",
              "width": 0.5
             },
             "pattern": {
              "fillmode": "overlay",
              "size": 10,
              "solidity": 0.2
             }
            },
            "type": "bar"
           }
          ],
          "barpolar": [
           {
            "marker": {
             "line": {
              "color": "#E5ECF6",
              "width": 0.5
             },
             "pattern": {
              "fillmode": "overlay",
              "size": 10,
              "solidity": 0.2
             }
            },
            "type": "barpolar"
           }
          ],
          "carpet": [
           {
            "aaxis": {
             "endlinecolor": "#2a3f5f",
             "gridcolor": "white",
             "linecolor": "white",
             "minorgridcolor": "white",
             "startlinecolor": "#2a3f5f"
            },
            "baxis": {
             "endlinecolor": "#2a3f5f",
             "gridcolor": "white",
             "linecolor": "white",
             "minorgridcolor": "white",
             "startlinecolor": "#2a3f5f"
            },
            "type": "carpet"
           }
          ],
          "choropleth": [
           {
            "colorbar": {
             "outlinewidth": 0,
             "ticks": ""
            },
            "type": "choropleth"
           }
          ],
          "contour": [
           {
            "colorbar": {
             "outlinewidth": 0,
             "ticks": ""
            },
            "colorscale": [
             [
              0,
              "#0d0887"
             ],
             [
              0.1111111111111111,
              "#46039f"
             ],
             [
              0.2222222222222222,
              "#7201a8"
             ],
             [
              0.3333333333333333,
              "#9c179e"
             ],
             [
              0.4444444444444444,
              "#bd3786"
             ],
             [
              0.5555555555555556,
              "#d8576b"
             ],
             [
              0.6666666666666666,
              "#ed7953"
             ],
             [
              0.7777777777777778,
              "#fb9f3a"
             ],
             [
              0.8888888888888888,
              "#fdca26"
             ],
             [
              1,
              "#f0f921"
             ]
            ],
            "type": "contour"
           }
          ],
          "contourcarpet": [
           {
            "colorbar": {
             "outlinewidth": 0,
             "ticks": ""
            },
            "type": "contourcarpet"
           }
          ],
          "heatmap": [
           {
            "colorbar": {
             "outlinewidth": 0,
             "ticks": ""
            },
            "colorscale": [
             [
              0,
              "#0d0887"
             ],
             [
              0.1111111111111111,
              "#46039f"
             ],
             [
              0.2222222222222222,
              "#7201a8"
             ],
             [
              0.3333333333333333,
              "#9c179e"
             ],
             [
              0.4444444444444444,
              "#bd3786"
             ],
             [
              0.5555555555555556,
              "#d8576b"
             ],
             [
              0.6666666666666666,
              "#ed7953"
             ],
             [
              0.7777777777777778,
              "#fb9f3a"
             ],
             [
              0.8888888888888888,
              "#fdca26"
             ],
             [
              1,
              "#f0f921"
             ]
            ],
            "type": "heatmap"
           }
          ],
          "heatmapgl": [
           {
            "colorbar": {
             "outlinewidth": 0,
             "ticks": ""
            },
            "colorscale": [
             [
              0,
              "#0d0887"
             ],
             [
              0.1111111111111111,
              "#46039f"
             ],
             [
              0.2222222222222222,
              "#7201a8"
             ],
             [
              0.3333333333333333,
              "#9c179e"
             ],
             [
              0.4444444444444444,
              "#bd3786"
             ],
             [
              0.5555555555555556,
              "#d8576b"
             ],
             [
              0.6666666666666666,
              "#ed7953"
             ],
             [
              0.7777777777777778,
              "#fb9f3a"
             ],
             [
              0.8888888888888888,
              "#fdca26"
             ],
             [
              1,
              "#f0f921"
             ]
            ],
            "type": "heatmapgl"
           }
          ],
          "histogram": [
           {
            "marker": {
             "pattern": {
              "fillmode": "overlay",
              "size": 10,
              "solidity": 0.2
             }
            },
            "type": "histogram"
           }
          ],
          "histogram2d": [
           {
            "colorbar": {
             "outlinewidth": 0,
             "ticks": ""
            },
            "colorscale": [
             [
              0,
              "#0d0887"
             ],
             [
              0.1111111111111111,
              "#46039f"
             ],
             [
              0.2222222222222222,
              "#7201a8"
             ],
             [
              0.3333333333333333,
              "#9c179e"
             ],
             [
              0.4444444444444444,
              "#bd3786"
             ],
             [
              0.5555555555555556,
              "#d8576b"
             ],
             [
              0.6666666666666666,
              "#ed7953"
             ],
             [
              0.7777777777777778,
              "#fb9f3a"
             ],
             [
              0.8888888888888888,
              "#fdca26"
             ],
             [
              1,
              "#f0f921"
             ]
            ],
            "type": "histogram2d"
           }
          ],
          "histogram2dcontour": [
           {
            "colorbar": {
             "outlinewidth": 0,
             "ticks": ""
            },
            "colorscale": [
             [
              0,
              "#0d0887"
             ],
             [
              0.1111111111111111,
              "#46039f"
             ],
             [
              0.2222222222222222,
              "#7201a8"
             ],
             [
              0.3333333333333333,
              "#9c179e"
             ],
             [
              0.4444444444444444,
              "#bd3786"
             ],
             [
              0.5555555555555556,
              "#d8576b"
             ],
             [
              0.6666666666666666,
              "#ed7953"
             ],
             [
              0.7777777777777778,
              "#fb9f3a"
             ],
             [
              0.8888888888888888,
              "#fdca26"
             ],
             [
              1,
              "#f0f921"
             ]
            ],
            "type": "histogram2dcontour"
           }
          ],
          "mesh3d": [
           {
            "colorbar": {
             "outlinewidth": 0,
             "ticks": ""
            },
            "type": "mesh3d"
           }
          ],
          "parcoords": [
           {
            "line": {
             "colorbar": {
              "outlinewidth": 0,
              "ticks": ""
             }
            },
            "type": "parcoords"
           }
          ],
          "pie": [
           {
            "automargin": true,
            "type": "pie"
           }
          ],
          "scatter": [
           {
            "fillpattern": {
             "fillmode": "overlay",
             "size": 10,
             "solidity": 0.2
            },
            "type": "scatter"
           }
          ],
          "scatter3d": [
           {
            "line": {
             "colorbar": {
              "outlinewidth": 0,
              "ticks": ""
             }
            },
            "marker": {
             "colorbar": {
              "outlinewidth": 0,
              "ticks": ""
             }
            },
            "type": "scatter3d"
           }
          ],
          "scattercarpet": [
           {
            "marker": {
             "colorbar": {
              "outlinewidth": 0,
              "ticks": ""
             }
            },
            "type": "scattercarpet"
           }
          ],
          "scattergeo": [
           {
            "marker": {
             "colorbar": {
              "outlinewidth": 0,
              "ticks": ""
             }
            },
            "type": "scattergeo"
           }
          ],
          "scattergl": [
           {
            "marker": {
             "colorbar": {
              "outlinewidth": 0,
              "ticks": ""
             }
            },
            "type": "scattergl"
           }
          ],
          "scattermapbox": [
           {
            "marker": {
             "colorbar": {
              "outlinewidth": 0,
              "ticks": ""
             }
            },
            "type": "scattermapbox"
           }
          ],
          "scatterpolar": [
           {
            "marker": {
             "colorbar": {
              "outlinewidth": 0,
              "ticks": ""
             }
            },
            "type": "scatterpolar"
           }
          ],
          "scatterpolargl": [
           {
            "marker": {
             "colorbar": {
              "outlinewidth": 0,
              "ticks": ""
             }
            },
            "type": "scatterpolargl"
           }
          ],
          "scatterternary": [
           {
            "marker": {
             "colorbar": {
              "outlinewidth": 0,
              "ticks": ""
             }
            },
            "type": "scatterternary"
           }
          ],
          "surface": [
           {
            "colorbar": {
             "outlinewidth": 0,
             "ticks": ""
            },
            "colorscale": [
             [
              0,
              "#0d0887"
             ],
             [
              0.1111111111111111,
              "#46039f"
             ],
             [
              0.2222222222222222,
              "#7201a8"
             ],
             [
              0.3333333333333333,
              "#9c179e"
             ],
             [
              0.4444444444444444,
              "#bd3786"
             ],
             [
              0.5555555555555556,
              "#d8576b"
             ],
             [
              0.6666666666666666,
              "#ed7953"
             ],
             [
              0.7777777777777778,
              "#fb9f3a"
             ],
             [
              0.8888888888888888,
              "#fdca26"
             ],
             [
              1,
              "#f0f921"
             ]
            ],
            "type": "surface"
           }
          ],
          "table": [
           {
            "cells": {
             "fill": {
              "color": "#EBF0F8"
             },
             "line": {
              "color": "white"
             }
            },
            "header": {
             "fill": {
              "color": "#C8D4E3"
             },
             "line": {
              "color": "white"
             }
            },
            "type": "table"
           }
          ]
         },
         "layout": {
          "annotationdefaults": {
           "arrowcolor": "#2a3f5f",
           "arrowhead": 0,
           "arrowwidth": 1
          },
          "autotypenumbers": "strict",
          "coloraxis": {
           "colorbar": {
            "outlinewidth": 0,
            "ticks": ""
           }
          },
          "colorscale": {
           "diverging": [
            [
             0,
             "#8e0152"
            ],
            [
             0.1,
             "#c51b7d"
            ],
            [
             0.2,
             "#de77ae"
            ],
            [
             0.3,
             "#f1b6da"
            ],
            [
             0.4,
             "#fde0ef"
            ],
            [
             0.5,
             "#f7f7f7"
            ],
            [
             0.6,
             "#e6f5d0"
            ],
            [
             0.7,
             "#b8e186"
            ],
            [
             0.8,
             "#7fbc41"
            ],
            [
             0.9,
             "#4d9221"
            ],
            [
             1,
             "#276419"
            ]
           ],
           "sequential": [
            [
             0,
             "#0d0887"
            ],
            [
             0.1111111111111111,
             "#46039f"
            ],
            [
             0.2222222222222222,
             "#7201a8"
            ],
            [
             0.3333333333333333,
             "#9c179e"
            ],
            [
             0.4444444444444444,
             "#bd3786"
            ],
            [
             0.5555555555555556,
             "#d8576b"
            ],
            [
             0.6666666666666666,
             "#ed7953"
            ],
            [
             0.7777777777777778,
             "#fb9f3a"
            ],
            [
             0.8888888888888888,
             "#fdca26"
            ],
            [
             1,
             "#f0f921"
            ]
           ],
           "sequentialminus": [
            [
             0,
             "#0d0887"
            ],
            [
             0.1111111111111111,
             "#46039f"
            ],
            [
             0.2222222222222222,
             "#7201a8"
            ],
            [
             0.3333333333333333,
             "#9c179e"
            ],
            [
             0.4444444444444444,
             "#bd3786"
            ],
            [
             0.5555555555555556,
             "#d8576b"
            ],
            [
             0.6666666666666666,
             "#ed7953"
            ],
            [
             0.7777777777777778,
             "#fb9f3a"
            ],
            [
             0.8888888888888888,
             "#fdca26"
            ],
            [
             1,
             "#f0f921"
            ]
           ]
          },
          "colorway": [
           "#636efa",
           "#EF553B",
           "#00cc96",
           "#ab63fa",
           "#FFA15A",
           "#19d3f3",
           "#FF6692",
           "#B6E880",
           "#FF97FF",
           "#FECB52"
          ],
          "font": {
           "color": "#2a3f5f"
          },
          "geo": {
           "bgcolor": "white",
           "lakecolor": "white",
           "landcolor": "#E5ECF6",
           "showlakes": true,
           "showland": true,
           "subunitcolor": "white"
          },
          "hoverlabel": {
           "align": "left"
          },
          "hovermode": "closest",
          "mapbox": {
           "style": "light"
          },
          "paper_bgcolor": "white",
          "plot_bgcolor": "#E5ECF6",
          "polar": {
           "angularaxis": {
            "gridcolor": "white",
            "linecolor": "white",
            "ticks": ""
           },
           "bgcolor": "#E5ECF6",
           "radialaxis": {
            "gridcolor": "white",
            "linecolor": "white",
            "ticks": ""
           }
          },
          "scene": {
           "xaxis": {
            "backgroundcolor": "#E5ECF6",
            "gridcolor": "white",
            "gridwidth": 2,
            "linecolor": "white",
            "showbackground": true,
            "ticks": "",
            "zerolinecolor": "white"
           },
           "yaxis": {
            "backgroundcolor": "#E5ECF6",
            "gridcolor": "white",
            "gridwidth": 2,
            "linecolor": "white",
            "showbackground": true,
            "ticks": "",
            "zerolinecolor": "white"
           },
           "zaxis": {
            "backgroundcolor": "#E5ECF6",
            "gridcolor": "white",
            "gridwidth": 2,
            "linecolor": "white",
            "showbackground": true,
            "ticks": "",
            "zerolinecolor": "white"
           }
          },
          "shapedefaults": {
           "line": {
            "color": "#2a3f5f"
           }
          },
          "ternary": {
           "aaxis": {
            "gridcolor": "white",
            "linecolor": "white",
            "ticks": ""
           },
           "baxis": {
            "gridcolor": "white",
            "linecolor": "white",
            "ticks": ""
           },
           "bgcolor": "#E5ECF6",
           "caxis": {
            "gridcolor": "white",
            "linecolor": "white",
            "ticks": ""
           }
          },
          "title": {
           "x": 0.05
          },
          "xaxis": {
           "automargin": true,
           "gridcolor": "white",
           "linecolor": "white",
           "ticks": "",
           "title": {
            "standoff": 15
           },
           "zerolinecolor": "white",
           "zerolinewidth": 2
          },
          "yaxis": {
           "automargin": true,
           "gridcolor": "white",
           "linecolor": "white",
           "ticks": "",
           "title": {
            "standoff": 15
           },
           "zerolinecolor": "white",
           "zerolinewidth": 2
          }
         }
        },
        "width": 800,
        "xaxis": {
         "anchor": "y",
         "domain": [
          0,
          1
         ],
         "title": {
          "text": "Games played"
         }
        },
        "yaxis": {
         "anchor": "x",
         "domain": [
          0,
          1
         ],
         "title": {
          "text": "Mopt"
         }
        }
       }
      }
     },
     "metadata": {},
     "output_type": "display_data"
    },
    {
     "data": {
      "application/vnd.plotly.v1+json": {
       "config": {
        "plotlyServerURL": "https://plot.ly"
       },
       "data": [
        {
         "hovertemplate": "variable=eps=0.00<br>Games played=%{x}<br>value=%{y}<extra></extra>",
         "legendgroup": "eps=0.00",
         "line": {
          "color": "#636efa",
          "dash": "solid"
         },
         "marker": {
          "symbol": "circle"
         },
         "mode": "lines",
         "name": "eps=0.00",
         "orientation": "v",
         "showlegend": true,
         "type": "scatter",
         "x": [
          250,
          500,
          750,
          1000,
          1250,
          1500,
          1750,
          2000,
          2250,
          2500,
          2750,
          3000,
          3250,
          3500,
          3750,
          4000,
          4250,
          4500,
          4750,
          5000,
          5250,
          5500,
          5750,
          6000,
          6250,
          6500,
          6750,
          7000,
          7250,
          7500,
          7750,
          8000,
          8250,
          8500,
          8750,
          9000,
          9250,
          9500,
          9750,
          10000,
          10250,
          10500,
          10750,
          11000,
          11250,
          11500,
          11750,
          12000,
          12250,
          12500,
          12750,
          13000,
          13250,
          13500,
          13750,
          14000,
          14250,
          14500,
          14750,
          15000,
          15250,
          15500,
          15750,
          16000,
          16250,
          16500,
          16750,
          17000,
          17250,
          17500,
          17750,
          18000,
          18250,
          18500,
          18750,
          19000,
          19250,
          19500,
          19750
         ],
         "xaxis": "x",
         "y": [
          -0.136,
          -0.12,
          -0.084,
          -0.084,
          -0.096,
          0.028,
          -0.028,
          -0.148,
          -0.06,
          -0.052,
          -0.028,
          -0.072,
          -0.016,
          -0.124,
          -0.068,
          -0.02,
          -0.068,
          -0.1,
          -0.072,
          -0.036,
          -0.092,
          -0.104,
          -0.068,
          -0.08,
          -0.068,
          -0.12,
          -0.072,
          -0.064,
          0.004,
          -0.112,
          -0.14,
          -0.044,
          -0.072,
          -0.124,
          -0.128,
          -0.088,
          -0.016,
          -0.116,
          -0.072,
          -0.04,
          -0.072,
          0.068,
          -0.1,
          -0.072,
          -0.136,
          -0.028,
          0.024,
          -0.108,
          -0.056,
          -0.036,
          -0.108,
          -0.128,
          -0.108,
          -0.104,
          -0.02,
          -0.108,
          -0.068,
          -0.076,
          -0.024,
          -0.072,
          -0.12,
          -0.128,
          0.044,
          -0.152,
          -0.028,
          -0.112,
          -0.024,
          -0.12,
          -0.072,
          0.016,
          -0.04,
          -0.016,
          0.016,
          -0.12,
          -0.192,
          -0.092,
          -0.08,
          -0.016,
          -0.028
         ],
         "yaxis": "y"
        },
        {
         "hovertemplate": "variable=eps=0.10<br>Games played=%{x}<br>value=%{y}<extra></extra>",
         "legendgroup": "eps=0.10",
         "line": {
          "color": "#EF553B",
          "dash": "solid"
         },
         "marker": {
          "symbol": "circle"
         },
         "mode": "lines",
         "name": "eps=0.10",
         "orientation": "v",
         "showlegend": true,
         "type": "scatter",
         "x": [
          250,
          500,
          750,
          1000,
          1250,
          1500,
          1750,
          2000,
          2250,
          2500,
          2750,
          3000,
          3250,
          3500,
          3750,
          4000,
          4250,
          4500,
          4750,
          5000,
          5250,
          5500,
          5750,
          6000,
          6250,
          6500,
          6750,
          7000,
          7250,
          7500,
          7750,
          8000,
          8250,
          8500,
          8750,
          9000,
          9250,
          9500,
          9750,
          10000,
          10250,
          10500,
          10750,
          11000,
          11250,
          11500,
          11750,
          12000,
          12250,
          12500,
          12750,
          13000,
          13250,
          13500,
          13750,
          14000,
          14250,
          14500,
          14750,
          15000,
          15250,
          15500,
          15750,
          16000,
          16250,
          16500,
          16750,
          17000,
          17250,
          17500,
          17750,
          18000,
          18250,
          18500,
          18750,
          19000,
          19250,
          19500,
          19750
         ],
         "xaxis": "x",
         "y": [
          0.284,
          0.528,
          0.396,
          0.54,
          0.66,
          0.628,
          0.732,
          0.724,
          0.708,
          0.78,
          0.708,
          0.856,
          0.84,
          0.888,
          0.86,
          0.852,
          0.88,
          0.88,
          0.92,
          0.916,
          0.916,
          0.908,
          0.952,
          0.928,
          0.96,
          0.976,
          0.956,
          0.964,
          0.948,
          0.936,
          0.948,
          0.932,
          0.952,
          0.956,
          0.976,
          0.956,
          0.952,
          0.984,
          0.944,
          0.968,
          0.948,
          0.964,
          0.944,
          0.948,
          0.944,
          0.94,
          0.964,
          0.928,
          0.96,
          0.976,
          0.976,
          0.972,
          0.968,
          0.976,
          0.972,
          0.988,
          0.984,
          0.964,
          0.964,
          0.98,
          0.972,
          0.984,
          0.988,
          0.98,
          0.972,
          0.984,
          0.988,
          0.984,
          0.984,
          0.98,
          0.996,
          0.968,
          0.968,
          0.976,
          0.98,
          0.984,
          0.984,
          0.984,
          0.972
         ],
         "yaxis": "y"
        },
        {
         "hovertemplate": "variable=eps=0.20<br>Games played=%{x}<br>value=%{y}<extra></extra>",
         "legendgroup": "eps=0.20",
         "line": {
          "color": "#00cc96",
          "dash": "solid"
         },
         "marker": {
          "symbol": "circle"
         },
         "mode": "lines",
         "name": "eps=0.20",
         "orientation": "v",
         "showlegend": true,
         "type": "scatter",
         "x": [
          250,
          500,
          750,
          1000,
          1250,
          1500,
          1750,
          2000,
          2250,
          2500,
          2750,
          3000,
          3250,
          3500,
          3750,
          4000,
          4250,
          4500,
          4750,
          5000,
          5250,
          5500,
          5750,
          6000,
          6250,
          6500,
          6750,
          7000,
          7250,
          7500,
          7750,
          8000,
          8250,
          8500,
          8750,
          9000,
          9250,
          9500,
          9750,
          10000,
          10250,
          10500,
          10750,
          11000,
          11250,
          11500,
          11750,
          12000,
          12250,
          12500,
          12750,
          13000,
          13250,
          13500,
          13750,
          14000,
          14250,
          14500,
          14750,
          15000,
          15250,
          15500,
          15750,
          16000,
          16250,
          16500,
          16750,
          17000,
          17250,
          17500,
          17750,
          18000,
          18250,
          18500,
          18750,
          19000,
          19250,
          19500,
          19750
         ],
         "xaxis": "x",
         "y": [
          0.596,
          0.588,
          0.656,
          0.8,
          0.82,
          0.84,
          0.812,
          0.9,
          0.896,
          0.908,
          0.916,
          0.904,
          0.928,
          0.944,
          0.968,
          0.924,
          0.952,
          0.98,
          0.952,
          0.98,
          0.956,
          0.952,
          0.976,
          0.98,
          0.988,
          0.972,
          0.956,
          0.98,
          0.976,
          0.972,
          0.984,
          0.968,
          0.98,
          0.972,
          0.976,
          0.988,
          0.98,
          0.984,
          0.988,
          0.976,
          0.976,
          0.956,
          0.996,
          0.976,
          0.988,
          0.984,
          0.992,
          0.988,
          0.98,
          0.984,
          0.984,
          0.988,
          0.988,
          0.992,
          0.98,
          0.992,
          0.988,
          0.996,
          0.992,
          0.972,
          0.984,
          0.992,
          0.988,
          0.98,
          0.968,
          0.98,
          0.964,
          0.98,
          0.98,
          0.984,
          0.968,
          0.98,
          0.984,
          0.984,
          0.992,
          1,
          0.988,
          0.996,
          0.992
         ],
         "yaxis": "y"
        },
        {
         "hovertemplate": "variable=eps=0.30<br>Games played=%{x}<br>value=%{y}<extra></extra>",
         "legendgroup": "eps=0.30",
         "line": {
          "color": "#ab63fa",
          "dash": "solid"
         },
         "marker": {
          "symbol": "circle"
         },
         "mode": "lines",
         "name": "eps=0.30",
         "orientation": "v",
         "showlegend": true,
         "type": "scatter",
         "x": [
          250,
          500,
          750,
          1000,
          1250,
          1500,
          1750,
          2000,
          2250,
          2500,
          2750,
          3000,
          3250,
          3500,
          3750,
          4000,
          4250,
          4500,
          4750,
          5000,
          5250,
          5500,
          5750,
          6000,
          6250,
          6500,
          6750,
          7000,
          7250,
          7500,
          7750,
          8000,
          8250,
          8500,
          8750,
          9000,
          9250,
          9500,
          9750,
          10000,
          10250,
          10500,
          10750,
          11000,
          11250,
          11500,
          11750,
          12000,
          12250,
          12500,
          12750,
          13000,
          13250,
          13500,
          13750,
          14000,
          14250,
          14500,
          14750,
          15000,
          15250,
          15500,
          15750,
          16000,
          16250,
          16500,
          16750,
          17000,
          17250,
          17500,
          17750,
          18000,
          18250,
          18500,
          18750,
          19000,
          19250,
          19500,
          19750
         ],
         "xaxis": "x",
         "y": [
          0.564,
          0.64,
          0.684,
          0.728,
          0.832,
          0.816,
          0.844,
          0.92,
          0.9,
          0.892,
          0.932,
          0.964,
          0.944,
          0.936,
          0.952,
          0.948,
          0.96,
          0.952,
          0.944,
          0.968,
          1,
          0.98,
          0.964,
          0.964,
          0.98,
          0.964,
          0.976,
          0.948,
          0.964,
          0.984,
          0.988,
          0.984,
          0.976,
          0.984,
          0.992,
          0.98,
          0.996,
          0.984,
          0.988,
          0.976,
          0.988,
          0.972,
          0.992,
          1,
          0.972,
          0.976,
          0.96,
          0.976,
          0.972,
          0.984,
          0.988,
          0.984,
          0.988,
          0.992,
          0.984,
          0.98,
          0.98,
          0.98,
          0.992,
          0.996,
          0.996,
          0.98,
          0.996,
          0.992,
          1,
          0.988,
          0.992,
          0.996,
          0.992,
          1,
          0.984,
          0.98,
          0.988,
          0.992,
          1,
          1,
          0.988,
          1,
          0.992
         ],
         "yaxis": "y"
        },
        {
         "hovertemplate": "variable=eps=0.40<br>Games played=%{x}<br>value=%{y}<extra></extra>",
         "legendgroup": "eps=0.40",
         "line": {
          "color": "#FFA15A",
          "dash": "solid"
         },
         "marker": {
          "symbol": "circle"
         },
         "mode": "lines",
         "name": "eps=0.40",
         "orientation": "v",
         "showlegend": true,
         "type": "scatter",
         "x": [
          250,
          500,
          750,
          1000,
          1250,
          1500,
          1750,
          2000,
          2250,
          2500,
          2750,
          3000,
          3250,
          3500,
          3750,
          4000,
          4250,
          4500,
          4750,
          5000,
          5250,
          5500,
          5750,
          6000,
          6250,
          6500,
          6750,
          7000,
          7250,
          7500,
          7750,
          8000,
          8250,
          8500,
          8750,
          9000,
          9250,
          9500,
          9750,
          10000,
          10250,
          10500,
          10750,
          11000,
          11250,
          11500,
          11750,
          12000,
          12250,
          12500,
          12750,
          13000,
          13250,
          13500,
          13750,
          14000,
          14250,
          14500,
          14750,
          15000,
          15250,
          15500,
          15750,
          16000,
          16250,
          16500,
          16750,
          17000,
          17250,
          17500,
          17750,
          18000,
          18250,
          18500,
          18750,
          19000,
          19250,
          19500,
          19750
         ],
         "xaxis": "x",
         "y": [
          0.484,
          0.768,
          0.74,
          0.812,
          0.828,
          0.892,
          0.844,
          0.892,
          0.9,
          0.884,
          0.9,
          0.908,
          0.932,
          0.924,
          0.932,
          0.932,
          0.944,
          0.96,
          0.972,
          0.972,
          0.936,
          0.94,
          0.968,
          0.972,
          0.976,
          0.976,
          0.96,
          0.972,
          0.988,
          0.976,
          0.964,
          0.996,
          0.968,
          0.984,
          0.972,
          0.96,
          0.984,
          0.968,
          0.956,
          0.968,
          0.972,
          0.98,
          0.98,
          0.98,
          0.976,
          0.988,
          0.996,
          0.988,
          0.984,
          0.984,
          0.988,
          0.996,
          0.988,
          0.992,
          0.98,
          0.992,
          0.988,
          0.996,
          0.992,
          0.98,
          0.976,
          0.996,
          0.976,
          0.964,
          0.976,
          0.98,
          0.988,
          0.976,
          0.988,
          0.996,
          0.996,
          0.976,
          0.972,
          0.984,
          0.988,
          0.996,
          0.984,
          0.996,
          0.996
         ],
         "yaxis": "y"
        },
        {
         "hovertemplate": "variable=eps=0.50<br>Games played=%{x}<br>value=%{y}<extra></extra>",
         "legendgroup": "eps=0.50",
         "line": {
          "color": "#19d3f3",
          "dash": "solid"
         },
         "marker": {
          "symbol": "circle"
         },
         "mode": "lines",
         "name": "eps=0.50",
         "orientation": "v",
         "showlegend": true,
         "type": "scatter",
         "x": [
          250,
          500,
          750,
          1000,
          1250,
          1500,
          1750,
          2000,
          2250,
          2500,
          2750,
          3000,
          3250,
          3500,
          3750,
          4000,
          4250,
          4500,
          4750,
          5000,
          5250,
          5500,
          5750,
          6000,
          6250,
          6500,
          6750,
          7000,
          7250,
          7500,
          7750,
          8000,
          8250,
          8500,
          8750,
          9000,
          9250,
          9500,
          9750,
          10000,
          10250,
          10500,
          10750,
          11000,
          11250,
          11500,
          11750,
          12000,
          12250,
          12500,
          12750,
          13000,
          13250,
          13500,
          13750,
          14000,
          14250,
          14500,
          14750,
          15000,
          15250,
          15500,
          15750,
          16000,
          16250,
          16500,
          16750,
          17000,
          17250,
          17500,
          17750,
          18000,
          18250,
          18500,
          18750,
          19000,
          19250,
          19500,
          19750
         ],
         "xaxis": "x",
         "y": [
          0.712,
          0.696,
          0.684,
          0.76,
          0.812,
          0.744,
          0.812,
          0.896,
          0.892,
          0.904,
          0.916,
          0.904,
          0.916,
          0.928,
          0.944,
          0.956,
          0.948,
          0.932,
          0.936,
          0.94,
          0.96,
          0.952,
          0.944,
          0.948,
          0.948,
          0.968,
          0.92,
          0.964,
          0.936,
          0.964,
          0.956,
          0.952,
          0.928,
          0.932,
          0.948,
          0.992,
          0.956,
          0.96,
          0.94,
          0.992,
          0.968,
          0.984,
          0.972,
          0.96,
          0.968,
          0.976,
          0.976,
          0.956,
          0.972,
          0.968,
          0.972,
          0.972,
          0.984,
          0.976,
          0.992,
          0.972,
          0.992,
          0.98,
          0.98,
          0.98,
          0.984,
          0.988,
          0.984,
          0.972,
          0.992,
          0.996,
          0.972,
          0.98,
          0.992,
          0.972,
          0.964,
          0.976,
          0.992,
          0.98,
          0.972,
          0.988,
          1,
          0.996,
          0.988
         ],
         "yaxis": "y"
        },
        {
         "hovertemplate": "variable=eps=0.60<br>Games played=%{x}<br>value=%{y}<extra></extra>",
         "legendgroup": "eps=0.60",
         "line": {
          "color": "#FF6692",
          "dash": "solid"
         },
         "marker": {
          "symbol": "circle"
         },
         "mode": "lines",
         "name": "eps=0.60",
         "orientation": "v",
         "showlegend": true,
         "type": "scatter",
         "x": [
          250,
          500,
          750,
          1000,
          1250,
          1500,
          1750,
          2000,
          2250,
          2500,
          2750,
          3000,
          3250,
          3500,
          3750,
          4000,
          4250,
          4500,
          4750,
          5000,
          5250,
          5500,
          5750,
          6000,
          6250,
          6500,
          6750,
          7000,
          7250,
          7500,
          7750,
          8000,
          8250,
          8500,
          8750,
          9000,
          9250,
          9500,
          9750,
          10000,
          10250,
          10500,
          10750,
          11000,
          11250,
          11500,
          11750,
          12000,
          12250,
          12500,
          12750,
          13000,
          13250,
          13500,
          13750,
          14000,
          14250,
          14500,
          14750,
          15000,
          15250,
          15500,
          15750,
          16000,
          16250,
          16500,
          16750,
          17000,
          17250,
          17500,
          17750,
          18000,
          18250,
          18500,
          18750,
          19000,
          19250,
          19500,
          19750
         ],
         "xaxis": "x",
         "y": [
          0.712,
          0.752,
          0.76,
          0.832,
          0.848,
          0.884,
          0.908,
          0.884,
          0.892,
          0.916,
          0.94,
          0.94,
          0.936,
          0.952,
          0.908,
          0.92,
          0.932,
          0.976,
          0.968,
          0.944,
          0.92,
          0.92,
          0.956,
          0.932,
          0.964,
          0.944,
          0.976,
          0.964,
          0.948,
          0.964,
          0.964,
          0.936,
          0.952,
          0.956,
          0.96,
          0.968,
          0.968,
          0.972,
          0.92,
          0.964,
          0.96,
          0.952,
          0.96,
          0.96,
          0.932,
          0.96,
          0.948,
          0.968,
          0.98,
          0.98,
          0.964,
          0.956,
          0.98,
          0.972,
          0.956,
          0.952,
          0.932,
          0.932,
          0.968,
          0.964,
          0.976,
          0.936,
          0.964,
          0.98,
          0.972,
          0.968,
          0.98,
          0.956,
          0.936,
          0.952,
          0.964,
          0.988,
          0.956,
          0.968,
          0.988,
          0.96,
          0.96,
          0.96,
          0.976
         ],
         "yaxis": "y"
        },
        {
         "hovertemplate": "variable=eps=0.70<br>Games played=%{x}<br>value=%{y}<extra></extra>",
         "legendgroup": "eps=0.70",
         "line": {
          "color": "#B6E880",
          "dash": "solid"
         },
         "marker": {
          "symbol": "circle"
         },
         "mode": "lines",
         "name": "eps=0.70",
         "orientation": "v",
         "showlegend": true,
         "type": "scatter",
         "x": [
          250,
          500,
          750,
          1000,
          1250,
          1500,
          1750,
          2000,
          2250,
          2500,
          2750,
          3000,
          3250,
          3500,
          3750,
          4000,
          4250,
          4500,
          4750,
          5000,
          5250,
          5500,
          5750,
          6000,
          6250,
          6500,
          6750,
          7000,
          7250,
          7500,
          7750,
          8000,
          8250,
          8500,
          8750,
          9000,
          9250,
          9500,
          9750,
          10000,
          10250,
          10500,
          10750,
          11000,
          11250,
          11500,
          11750,
          12000,
          12250,
          12500,
          12750,
          13000,
          13250,
          13500,
          13750,
          14000,
          14250,
          14500,
          14750,
          15000,
          15250,
          15500,
          15750,
          16000,
          16250,
          16500,
          16750,
          17000,
          17250,
          17500,
          17750,
          18000,
          18250,
          18500,
          18750,
          19000,
          19250,
          19500,
          19750
         ],
         "xaxis": "x",
         "y": [
          0.684,
          0.684,
          0.8,
          0.788,
          0.84,
          0.832,
          0.876,
          0.852,
          0.916,
          0.904,
          0.84,
          0.836,
          0.908,
          0.896,
          0.908,
          0.936,
          0.908,
          0.956,
          0.928,
          0.964,
          0.944,
          0.952,
          0.932,
          0.952,
          0.948,
          0.932,
          0.956,
          0.948,
          0.932,
          0.94,
          0.952,
          0.928,
          0.944,
          0.936,
          0.96,
          0.94,
          0.892,
          0.968,
          0.94,
          0.968,
          0.936,
          0.948,
          0.936,
          0.94,
          0.94,
          0.956,
          0.972,
          0.936,
          0.952,
          0.96,
          0.956,
          0.944,
          0.908,
          0.928,
          0.976,
          0.948,
          0.952,
          0.96,
          0.948,
          0.972,
          0.972,
          0.96,
          0.972,
          0.952,
          0.968,
          0.956,
          0.96,
          0.964,
          0.952,
          0.956,
          0.96,
          0.96,
          0.948,
          0.952,
          0.96,
          0.96,
          0.96,
          0.956,
          0.956
         ],
         "yaxis": "y"
        },
        {
         "hovertemplate": "variable=eps=0.80<br>Games played=%{x}<br>value=%{y}<extra></extra>",
         "legendgroup": "eps=0.80",
         "line": {
          "color": "#FF97FF",
          "dash": "solid"
         },
         "marker": {
          "symbol": "circle"
         },
         "mode": "lines",
         "name": "eps=0.80",
         "orientation": "v",
         "showlegend": true,
         "type": "scatter",
         "x": [
          250,
          500,
          750,
          1000,
          1250,
          1500,
          1750,
          2000,
          2250,
          2500,
          2750,
          3000,
          3250,
          3500,
          3750,
          4000,
          4250,
          4500,
          4750,
          5000,
          5250,
          5500,
          5750,
          6000,
          6250,
          6500,
          6750,
          7000,
          7250,
          7500,
          7750,
          8000,
          8250,
          8500,
          8750,
          9000,
          9250,
          9500,
          9750,
          10000,
          10250,
          10500,
          10750,
          11000,
          11250,
          11500,
          11750,
          12000,
          12250,
          12500,
          12750,
          13000,
          13250,
          13500,
          13750,
          14000,
          14250,
          14500,
          14750,
          15000,
          15250,
          15500,
          15750,
          16000,
          16250,
          16500,
          16750,
          17000,
          17250,
          17500,
          17750,
          18000,
          18250,
          18500,
          18750,
          19000,
          19250,
          19500,
          19750
         ],
         "xaxis": "x",
         "y": [
          0.448,
          0.588,
          0.724,
          0.776,
          0.772,
          0.796,
          0.84,
          0.812,
          0.88,
          0.852,
          0.852,
          0.9,
          0.84,
          0.912,
          0.884,
          0.852,
          0.864,
          0.88,
          0.9,
          0.904,
          0.896,
          0.864,
          0.912,
          0.864,
          0.932,
          0.932,
          0.908,
          0.904,
          0.908,
          0.904,
          0.908,
          0.932,
          0.944,
          0.908,
          0.896,
          0.928,
          0.936,
          0.916,
          0.936,
          0.928,
          0.936,
          0.936,
          0.944,
          0.952,
          0.94,
          0.924,
          0.96,
          0.936,
          0.928,
          0.896,
          0.936,
          0.932,
          0.948,
          0.932,
          0.908,
          0.936,
          0.916,
          0.916,
          0.924,
          0.944,
          0.964,
          0.924,
          0.94,
          0.908,
          0.932,
          0.896,
          0.932,
          0.956,
          0.912,
          0.924,
          0.968,
          0.936,
          0.936,
          0.92,
          0.96,
          0.904,
          0.956,
          0.92,
          0.924
         ],
         "yaxis": "y"
        },
        {
         "hovertemplate": "variable=eps=0.90<br>Games played=%{x}<br>value=%{y}<extra></extra>",
         "legendgroup": "eps=0.90",
         "line": {
          "color": "#FECB52",
          "dash": "solid"
         },
         "marker": {
          "symbol": "circle"
         },
         "mode": "lines",
         "name": "eps=0.90",
         "orientation": "v",
         "showlegend": true,
         "type": "scatter",
         "x": [
          250,
          500,
          750,
          1000,
          1250,
          1500,
          1750,
          2000,
          2250,
          2500,
          2750,
          3000,
          3250,
          3500,
          3750,
          4000,
          4250,
          4500,
          4750,
          5000,
          5250,
          5500,
          5750,
          6000,
          6250,
          6500,
          6750,
          7000,
          7250,
          7500,
          7750,
          8000,
          8250,
          8500,
          8750,
          9000,
          9250,
          9500,
          9750,
          10000,
          10250,
          10500,
          10750,
          11000,
          11250,
          11500,
          11750,
          12000,
          12250,
          12500,
          12750,
          13000,
          13250,
          13500,
          13750,
          14000,
          14250,
          14500,
          14750,
          15000,
          15250,
          15500,
          15750,
          16000,
          16250,
          16500,
          16750,
          17000,
          17250,
          17500,
          17750,
          18000,
          18250,
          18500,
          18750,
          19000,
          19250,
          19500,
          19750
         ],
         "xaxis": "x",
         "y": [
          0.508,
          0.712,
          0.744,
          0.792,
          0.764,
          0.808,
          0.824,
          0.832,
          0.788,
          0.848,
          0.808,
          0.792,
          0.864,
          0.836,
          0.86,
          0.856,
          0.808,
          0.896,
          0.884,
          0.86,
          0.844,
          0.844,
          0.832,
          0.832,
          0.828,
          0.864,
          0.852,
          0.856,
          0.832,
          0.876,
          0.876,
          0.868,
          0.864,
          0.856,
          0.868,
          0.912,
          0.848,
          0.888,
          0.912,
          0.88,
          0.86,
          0.896,
          0.856,
          0.856,
          0.888,
          0.864,
          0.912,
          0.84,
          0.88,
          0.912,
          0.9,
          0.944,
          0.888,
          0.904,
          0.848,
          0.884,
          0.888,
          0.884,
          0.892,
          0.888,
          0.924,
          0.928,
          0.852,
          0.876,
          0.928,
          0.9,
          0.916,
          0.892,
          0.912,
          0.944,
          0.94,
          0.924,
          0.912,
          0.916,
          0.908,
          0.924,
          0.9,
          0.904,
          0.928
         ],
         "yaxis": "y"
        },
        {
         "hovertemplate": "variable=eps=1.00<br>Games played=%{x}<br>value=%{y}<extra></extra>",
         "legendgroup": "eps=1.00",
         "line": {
          "color": "#636efa",
          "dash": "solid"
         },
         "marker": {
          "symbol": "circle"
         },
         "mode": "lines",
         "name": "eps=1.00",
         "orientation": "v",
         "showlegend": true,
         "type": "scatter",
         "x": [
          250,
          500,
          750,
          1000,
          1250,
          1500,
          1750,
          2000,
          2250,
          2500,
          2750,
          3000,
          3250,
          3500,
          3750,
          4000,
          4250,
          4500,
          4750,
          5000,
          5250,
          5500,
          5750,
          6000,
          6250,
          6500,
          6750,
          7000,
          7250,
          7500,
          7750,
          8000,
          8250,
          8500,
          8750,
          9000,
          9250,
          9500,
          9750,
          10000,
          10250,
          10500,
          10750,
          11000,
          11250,
          11500,
          11750,
          12000,
          12250,
          12500,
          12750,
          13000,
          13250,
          13500,
          13750,
          14000,
          14250,
          14500,
          14750,
          15000,
          15250,
          15500,
          15750,
          16000,
          16250,
          16500,
          16750,
          17000,
          17250,
          17500,
          17750,
          18000,
          18250,
          18500,
          18750,
          19000,
          19250,
          19500,
          19750
         ],
         "xaxis": "x",
         "y": [
          0.632,
          0.608,
          0.644,
          0.676,
          0.672,
          0.728,
          0.732,
          0.756,
          0.684,
          0.708,
          0.752,
          0.644,
          0.752,
          0.776,
          0.816,
          0.764,
          0.78,
          0.724,
          0.788,
          0.78,
          0.756,
          0.776,
          0.696,
          0.752,
          0.768,
          0.8,
          0.772,
          0.816,
          0.812,
          0.812,
          0.82,
          0.812,
          0.82,
          0.792,
          0.776,
          0.808,
          0.816,
          0.82,
          0.796,
          0.872,
          0.772,
          0.816,
          0.824,
          0.86,
          0.836,
          0.816,
          0.812,
          0.828,
          0.86,
          0.844,
          0.772,
          0.836,
          0.828,
          0.848,
          0.816,
          0.816,
          0.844,
          0.836,
          0.848,
          0.856,
          0.84,
          0.844,
          0.828,
          0.872,
          0.82,
          0.856,
          0.856,
          0.884,
          0.812,
          0.872,
          0.86,
          0.836,
          0.84,
          0.86,
          0.892,
          0.844,
          0.892,
          0.872,
          0.848
         ],
         "yaxis": "y"
        }
       ],
       "layout": {
        "legend": {
         "title": {
          "text": "variable"
         },
         "tracegroupgap": 0
        },
        "margin": {
         "t": 60
        },
        "template": {
         "data": {
          "bar": [
           {
            "error_x": {
             "color": "#2a3f5f"
            },
            "error_y": {
             "color": "#2a3f5f"
            },
            "marker": {
             "line": {
              "color": "#E5ECF6",
              "width": 0.5
             },
             "pattern": {
              "fillmode": "overlay",
              "size": 10,
              "solidity": 0.2
             }
            },
            "type": "bar"
           }
          ],
          "barpolar": [
           {
            "marker": {
             "line": {
              "color": "#E5ECF6",
              "width": 0.5
             },
             "pattern": {
              "fillmode": "overlay",
              "size": 10,
              "solidity": 0.2
             }
            },
            "type": "barpolar"
           }
          ],
          "carpet": [
           {
            "aaxis": {
             "endlinecolor": "#2a3f5f",
             "gridcolor": "white",
             "linecolor": "white",
             "minorgridcolor": "white",
             "startlinecolor": "#2a3f5f"
            },
            "baxis": {
             "endlinecolor": "#2a3f5f",
             "gridcolor": "white",
             "linecolor": "white",
             "minorgridcolor": "white",
             "startlinecolor": "#2a3f5f"
            },
            "type": "carpet"
           }
          ],
          "choropleth": [
           {
            "colorbar": {
             "outlinewidth": 0,
             "ticks": ""
            },
            "type": "choropleth"
           }
          ],
          "contour": [
           {
            "colorbar": {
             "outlinewidth": 0,
             "ticks": ""
            },
            "colorscale": [
             [
              0,
              "#0d0887"
             ],
             [
              0.1111111111111111,
              "#46039f"
             ],
             [
              0.2222222222222222,
              "#7201a8"
             ],
             [
              0.3333333333333333,
              "#9c179e"
             ],
             [
              0.4444444444444444,
              "#bd3786"
             ],
             [
              0.5555555555555556,
              "#d8576b"
             ],
             [
              0.6666666666666666,
              "#ed7953"
             ],
             [
              0.7777777777777778,
              "#fb9f3a"
             ],
             [
              0.8888888888888888,
              "#fdca26"
             ],
             [
              1,
              "#f0f921"
             ]
            ],
            "type": "contour"
           }
          ],
          "contourcarpet": [
           {
            "colorbar": {
             "outlinewidth": 0,
             "ticks": ""
            },
            "type": "contourcarpet"
           }
          ],
          "heatmap": [
           {
            "colorbar": {
             "outlinewidth": 0,
             "ticks": ""
            },
            "colorscale": [
             [
              0,
              "#0d0887"
             ],
             [
              0.1111111111111111,
              "#46039f"
             ],
             [
              0.2222222222222222,
              "#7201a8"
             ],
             [
              0.3333333333333333,
              "#9c179e"
             ],
             [
              0.4444444444444444,
              "#bd3786"
             ],
             [
              0.5555555555555556,
              "#d8576b"
             ],
             [
              0.6666666666666666,
              "#ed7953"
             ],
             [
              0.7777777777777778,
              "#fb9f3a"
             ],
             [
              0.8888888888888888,
              "#fdca26"
             ],
             [
              1,
              "#f0f921"
             ]
            ],
            "type": "heatmap"
           }
          ],
          "heatmapgl": [
           {
            "colorbar": {
             "outlinewidth": 0,
             "ticks": ""
            },
            "colorscale": [
             [
              0,
              "#0d0887"
             ],
             [
              0.1111111111111111,
              "#46039f"
             ],
             [
              0.2222222222222222,
              "#7201a8"
             ],
             [
              0.3333333333333333,
              "#9c179e"
             ],
             [
              0.4444444444444444,
              "#bd3786"
             ],
             [
              0.5555555555555556,
              "#d8576b"
             ],
             [
              0.6666666666666666,
              "#ed7953"
             ],
             [
              0.7777777777777778,
              "#fb9f3a"
             ],
             [
              0.8888888888888888,
              "#fdca26"
             ],
             [
              1,
              "#f0f921"
             ]
            ],
            "type": "heatmapgl"
           }
          ],
          "histogram": [
           {
            "marker": {
             "pattern": {
              "fillmode": "overlay",
              "size": 10,
              "solidity": 0.2
             }
            },
            "type": "histogram"
           }
          ],
          "histogram2d": [
           {
            "colorbar": {
             "outlinewidth": 0,
             "ticks": ""
            },
            "colorscale": [
             [
              0,
              "#0d0887"
             ],
             [
              0.1111111111111111,
              "#46039f"
             ],
             [
              0.2222222222222222,
              "#7201a8"
             ],
             [
              0.3333333333333333,
              "#9c179e"
             ],
             [
              0.4444444444444444,
              "#bd3786"
             ],
             [
              0.5555555555555556,
              "#d8576b"
             ],
             [
              0.6666666666666666,
              "#ed7953"
             ],
             [
              0.7777777777777778,
              "#fb9f3a"
             ],
             [
              0.8888888888888888,
              "#fdca26"
             ],
             [
              1,
              "#f0f921"
             ]
            ],
            "type": "histogram2d"
           }
          ],
          "histogram2dcontour": [
           {
            "colorbar": {
             "outlinewidth": 0,
             "ticks": ""
            },
            "colorscale": [
             [
              0,
              "#0d0887"
             ],
             [
              0.1111111111111111,
              "#46039f"
             ],
             [
              0.2222222222222222,
              "#7201a8"
             ],
             [
              0.3333333333333333,
              "#9c179e"
             ],
             [
              0.4444444444444444,
              "#bd3786"
             ],
             [
              0.5555555555555556,
              "#d8576b"
             ],
             [
              0.6666666666666666,
              "#ed7953"
             ],
             [
              0.7777777777777778,
              "#fb9f3a"
             ],
             [
              0.8888888888888888,
              "#fdca26"
             ],
             [
              1,
              "#f0f921"
             ]
            ],
            "type": "histogram2dcontour"
           }
          ],
          "mesh3d": [
           {
            "colorbar": {
             "outlinewidth": 0,
             "ticks": ""
            },
            "type": "mesh3d"
           }
          ],
          "parcoords": [
           {
            "line": {
             "colorbar": {
              "outlinewidth": 0,
              "ticks": ""
             }
            },
            "type": "parcoords"
           }
          ],
          "pie": [
           {
            "automargin": true,
            "type": "pie"
           }
          ],
          "scatter": [
           {
            "fillpattern": {
             "fillmode": "overlay",
             "size": 10,
             "solidity": 0.2
            },
            "type": "scatter"
           }
          ],
          "scatter3d": [
           {
            "line": {
             "colorbar": {
              "outlinewidth": 0,
              "ticks": ""
             }
            },
            "marker": {
             "colorbar": {
              "outlinewidth": 0,
              "ticks": ""
             }
            },
            "type": "scatter3d"
           }
          ],
          "scattercarpet": [
           {
            "marker": {
             "colorbar": {
              "outlinewidth": 0,
              "ticks": ""
             }
            },
            "type": "scattercarpet"
           }
          ],
          "scattergeo": [
           {
            "marker": {
             "colorbar": {
              "outlinewidth": 0,
              "ticks": ""
             }
            },
            "type": "scattergeo"
           }
          ],
          "scattergl": [
           {
            "marker": {
             "colorbar": {
              "outlinewidth": 0,
              "ticks": ""
             }
            },
            "type": "scattergl"
           }
          ],
          "scattermapbox": [
           {
            "marker": {
             "colorbar": {
              "outlinewidth": 0,
              "ticks": ""
             }
            },
            "type": "scattermapbox"
           }
          ],
          "scatterpolar": [
           {
            "marker": {
             "colorbar": {
              "outlinewidth": 0,
              "ticks": ""
             }
            },
            "type": "scatterpolar"
           }
          ],
          "scatterpolargl": [
           {
            "marker": {
             "colorbar": {
              "outlinewidth": 0,
              "ticks": ""
             }
            },
            "type": "scatterpolargl"
           }
          ],
          "scatterternary": [
           {
            "marker": {
             "colorbar": {
              "outlinewidth": 0,
              "ticks": ""
             }
            },
            "type": "scatterternary"
           }
          ],
          "surface": [
           {
            "colorbar": {
             "outlinewidth": 0,
             "ticks": ""
            },
            "colorscale": [
             [
              0,
              "#0d0887"
             ],
             [
              0.1111111111111111,
              "#46039f"
             ],
             [
              0.2222222222222222,
              "#7201a8"
             ],
             [
              0.3333333333333333,
              "#9c179e"
             ],
             [
              0.4444444444444444,
              "#bd3786"
             ],
             [
              0.5555555555555556,
              "#d8576b"
             ],
             [
              0.6666666666666666,
              "#ed7953"
             ],
             [
              0.7777777777777778,
              "#fb9f3a"
             ],
             [
              0.8888888888888888,
              "#fdca26"
             ],
             [
              1,
              "#f0f921"
             ]
            ],
            "type": "surface"
           }
          ],
          "table": [
           {
            "cells": {
             "fill": {
              "color": "#EBF0F8"
             },
             "line": {
              "color": "white"
             }
            },
            "header": {
             "fill": {
              "color": "#C8D4E3"
             },
             "line": {
              "color": "white"
             }
            },
            "type": "table"
           }
          ]
         },
         "layout": {
          "annotationdefaults": {
           "arrowcolor": "#2a3f5f",
           "arrowhead": 0,
           "arrowwidth": 1
          },
          "autotypenumbers": "strict",
          "coloraxis": {
           "colorbar": {
            "outlinewidth": 0,
            "ticks": ""
           }
          },
          "colorscale": {
           "diverging": [
            [
             0,
             "#8e0152"
            ],
            [
             0.1,
             "#c51b7d"
            ],
            [
             0.2,
             "#de77ae"
            ],
            [
             0.3,
             "#f1b6da"
            ],
            [
             0.4,
             "#fde0ef"
            ],
            [
             0.5,
             "#f7f7f7"
            ],
            [
             0.6,
             "#e6f5d0"
            ],
            [
             0.7,
             "#b8e186"
            ],
            [
             0.8,
             "#7fbc41"
            ],
            [
             0.9,
             "#4d9221"
            ],
            [
             1,
             "#276419"
            ]
           ],
           "sequential": [
            [
             0,
             "#0d0887"
            ],
            [
             0.1111111111111111,
             "#46039f"
            ],
            [
             0.2222222222222222,
             "#7201a8"
            ],
            [
             0.3333333333333333,
             "#9c179e"
            ],
            [
             0.4444444444444444,
             "#bd3786"
            ],
            [
             0.5555555555555556,
             "#d8576b"
            ],
            [
             0.6666666666666666,
             "#ed7953"
            ],
            [
             0.7777777777777778,
             "#fb9f3a"
            ],
            [
             0.8888888888888888,
             "#fdca26"
            ],
            [
             1,
             "#f0f921"
            ]
           ],
           "sequentialminus": [
            [
             0,
             "#0d0887"
            ],
            [
             0.1111111111111111,
             "#46039f"
            ],
            [
             0.2222222222222222,
             "#7201a8"
            ],
            [
             0.3333333333333333,
             "#9c179e"
            ],
            [
             0.4444444444444444,
             "#bd3786"
            ],
            [
             0.5555555555555556,
             "#d8576b"
            ],
            [
             0.6666666666666666,
             "#ed7953"
            ],
            [
             0.7777777777777778,
             "#fb9f3a"
            ],
            [
             0.8888888888888888,
             "#fdca26"
            ],
            [
             1,
             "#f0f921"
            ]
           ]
          },
          "colorway": [
           "#636efa",
           "#EF553B",
           "#00cc96",
           "#ab63fa",
           "#FFA15A",
           "#19d3f3",
           "#FF6692",
           "#B6E880",
           "#FF97FF",
           "#FECB52"
          ],
          "font": {
           "color": "#2a3f5f"
          },
          "geo": {
           "bgcolor": "white",
           "lakecolor": "white",
           "landcolor": "#E5ECF6",
           "showlakes": true,
           "showland": true,
           "subunitcolor": "white"
          },
          "hoverlabel": {
           "align": "left"
          },
          "hovermode": "closest",
          "mapbox": {
           "style": "light"
          },
          "paper_bgcolor": "white",
          "plot_bgcolor": "#E5ECF6",
          "polar": {
           "angularaxis": {
            "gridcolor": "white",
            "linecolor": "white",
            "ticks": ""
           },
           "bgcolor": "#E5ECF6",
           "radialaxis": {
            "gridcolor": "white",
            "linecolor": "white",
            "ticks": ""
           }
          },
          "scene": {
           "xaxis": {
            "backgroundcolor": "#E5ECF6",
            "gridcolor": "white",
            "gridwidth": 2,
            "linecolor": "white",
            "showbackground": true,
            "ticks": "",
            "zerolinecolor": "white"
           },
           "yaxis": {
            "backgroundcolor": "#E5ECF6",
            "gridcolor": "white",
            "gridwidth": 2,
            "linecolor": "white",
            "showbackground": true,
            "ticks": "",
            "zerolinecolor": "white"
           },
           "zaxis": {
            "backgroundcolor": "#E5ECF6",
            "gridcolor": "white",
            "gridwidth": 2,
            "linecolor": "white",
            "showbackground": true,
            "ticks": "",
            "zerolinecolor": "white"
           }
          },
          "shapedefaults": {
           "line": {
            "color": "#2a3f5f"
           }
          },
          "ternary": {
           "aaxis": {
            "gridcolor": "white",
            "linecolor": "white",
            "ticks": ""
           },
           "baxis": {
            "gridcolor": "white",
            "linecolor": "white",
            "ticks": ""
           },
           "bgcolor": "#E5ECF6",
           "caxis": {
            "gridcolor": "white",
            "linecolor": "white",
            "ticks": ""
           }
          },
          "title": {
           "x": 0.05
          },
          "xaxis": {
           "automargin": true,
           "gridcolor": "white",
           "linecolor": "white",
           "ticks": "",
           "title": {
            "standoff": 15
           },
           "zerolinecolor": "white",
           "zerolinewidth": 2
          },
          "yaxis": {
           "automargin": true,
           "gridcolor": "white",
           "linecolor": "white",
           "ticks": "",
           "title": {
            "standoff": 15
           },
           "zerolinecolor": "white",
           "zerolinewidth": 2
          }
         }
        },
        "width": 800,
        "xaxis": {
         "anchor": "y",
         "domain": [
          0,
          1
         ],
         "title": {
          "text": "Games played"
         }
        },
        "yaxis": {
         "anchor": "x",
         "domain": [
          0,
          1
         ],
         "title": {
          "text": "Mrand"
         }
        }
       }
      }
     },
     "metadata": {},
     "output_type": "display_data"
    }
   ],
   "source": [
    "df1 = training_results[3][0]\n",
    "df2 = training_results[3][1]\n",
    "df3 = training_results[3][2]\n",
    "\n",
    "df1, df2, df3 = pd.DataFrame(df1), pd.DataFrame(df2), pd.DataFrame(df3)\n",
    "fig1 = px.line(df1, x='Games played', y=df1.columns.difference(['Games played']), title=\"Training with testing on different adversary's eps values\")\n",
    "fig1.update_layout(width=800)\n",
    "fig1.update_yaxes(title_text = \"Mean reward\")\n",
    "fig2 = px.line(df2, x='Games played', y=df2.columns.difference(['Games played']))\n",
    "fig2.update_layout(width=800)\n",
    "fig2.update_yaxes(title_text = \"Mopt\")\n",
    "fig3 = px.line(df3, x='Games played', y=df3.columns.difference(['Games played']))\n",
    "fig3.update_layout(width=800)\n",
    "fig3.update_yaxes(title_text = \"Mrand\")\n",
    "fig1.show()\n",
    "fig2.show()\n",
    "fig3.show()"
   ]
  },
  {
   "cell_type": "markdown",
   "metadata": {
    "collapsed": false,
    "pycharm": {
     "name": "#%% md\n"
    }
   },
   "source": [
    "Has seen before, a high eps value for Opt(eps) adversary gives poor learning performances when tested against Opt(0), so a lower eps is needed. 0.1, 0.05 and 0.0 seem the best, but eps=0.0 performs poorly against the random player."
   ]
  },
  {
   "cell_type": "markdown",
   "metadata": {
    "collapsed": false,
    "pycharm": {
     "name": "#%% md\n"
    }
   },
   "source": [
    " ### Question 5\n",
    " What are the highest values of Mopt and Mrand that you could achieve after playing 20’000 games?"
   ]
  },
  {
   "cell_type": "markdown",
   "metadata": {
    "collapsed": false,
    "pycharm": {
     "name": "#%% md\n"
    }
   },
   "source": [
    " ### Question 6\n",
    "Assume that Agent 1 learns by playing against Opt(0) and find the optimal q-values Q1(s, a). In addition, assume that Agent 2 learns by playing against Opt(1) and find the optimal Q-values Q2(s, a). Do Q1(s, a) and Q2(s, a) have the same values? Justify your answer. (answer length < 150 words)\n"
   ]
  },
  {
   "cell_type": "markdown",
   "metadata": {
    "collapsed": false,
    "pycharm": {
     "name": "#%% md\n"
    }
   },
   "source": [
    "## 2.2 Learning by self-practice\n",
    "In this section, your are supposed to ask whether Q-learning can learn to play Nim by only playing against itself. For different values of eps ∈ [0, 1), run a Q-learning agent against itself for 20’000 games – i.e. both players use the same set of Q-values and update the same set of Q-values.\n",
    "\n",
    "### Question 7\n",
    "After every 250 games during training, compute the ‘test’ Mopt and Mrand for different values of eps ∈ [0, 1). Does the agent learn to play Nim? What is the effect of eps?\n",
    "Expected answer: A figure showing Mopt and Mrand over time for different values of \u000f ∈ [0, 1) (caption length < 100 words)."
   ]
  },
  {
   "cell_type": "code",
   "execution_count": 38,
   "metadata": {
    "collapsed": false,
    "pycharm": {
     "name": "#%%\n"
    }
   },
   "outputs": [],
   "source": [
    "if not use_backup:\n",
    "    env = NimEnv()\n",
    "    eps_values=np.linspace(0, 1, 11)\n",
    "    # redefining the parallelGames function for M_opt and M_rand configuration\n",
    "    df1 = {'Games played':list(np.arange(1,20000//METRICS_FREQUENCY)*METRICS_FREQUENCY)}\n",
    "    df2 = {'Games played':list(np.arange(1,20000//METRICS_FREQUENCY)*METRICS_FREQUENCY)}\n",
    "    df3 = {'Games played':list(np.arange(1,20000//METRICS_FREQUENCY)*METRICS_FREQUENCY)}\n",
    "    num_cores = mp.cpu_count()\n",
    "    def parallelGames(eps):\n",
    "        df1, df2, df3 = {}, {}, {}\n",
    "        metrics, _ = q_learning(env, num_games=20000, eps_q=eps, gamma=0.99, verbose=False, test=True, self_learning=True)\n",
    "        df1[f\"eps={eps:0.2f}\"] = metrics[0]\n",
    "        df2[f\"eps={eps:0.2f}\"] = metrics[1]\n",
    "        df3[f\"eps={eps:0.2f}\"] = metrics[2]\n",
    "        return df1, df2, df3\n",
    "    dfs = Parallel(n_jobs=num_cores)(delayed(parallelGames)(eps_adv) for eps_adv in eps_adv_values)\n",
    "    for d1,d2,d3 in dfs:\n",
    "        df1.update(d1)\n",
    "        df2.update(d2)\n",
    "        df3.update(d3)\n",
    "\n",
    "    training_results.append([df1,df2,df3])"
   ]
  },
  {
   "cell_type": "code",
   "execution_count": 39,
   "metadata": {
    "collapsed": false,
    "pycharm": {
     "name": "#%%\n"
    }
   },
   "outputs": [
    {
     "data": {
      "application/vnd.plotly.v1+json": {
       "config": {
        "plotlyServerURL": "https://plot.ly"
       },
       "data": [
        {
         "hovertemplate": "variable=eps=0.00<br>Games played=%{x}<br>value=%{y}<extra></extra>",
         "legendgroup": "eps=0.00",
         "line": {
          "color": "#636efa",
          "dash": "solid"
         },
         "marker": {
          "symbol": "circle"
         },
         "mode": "lines",
         "name": "eps=0.00",
         "orientation": "v",
         "showlegend": true,
         "type": "scatter",
         "x": [
          250,
          500,
          750,
          1000,
          1250,
          1500,
          1750,
          2000,
          2250,
          2500,
          2750,
          3000,
          3250,
          3500,
          3750,
          4000,
          4250,
          4500,
          4750,
          5000,
          5250,
          5500,
          5750,
          6000,
          6250,
          6500,
          6750,
          7000,
          7250,
          7500,
          7750,
          8000,
          8250,
          8500,
          8750,
          9000,
          9250,
          9500,
          9750,
          10000,
          10250,
          10500,
          10750,
          11000,
          11250,
          11500,
          11750,
          12000,
          12250,
          12500,
          12750,
          13000,
          13250,
          13500,
          13750,
          14000,
          14250,
          14500,
          14750,
          15000,
          15250,
          15500,
          15750,
          16000,
          16250,
          16500,
          16750,
          17000,
          17250,
          17500,
          17750,
          18000,
          18250,
          18500,
          18750,
          19000,
          19250,
          19500,
          19750
         ],
         "xaxis": "x",
         "y": [
          -0.0199203187250996,
          0,
          -0.016,
          -0.064,
          -0.048,
          -0.032,
          0.056,
          -0.04,
          -0.104,
          -0.008,
          0.008,
          0.096,
          -0.024,
          0.032,
          -0.008,
          0,
          0.032,
          0.064,
          0.064,
          -0.064,
          0.064,
          0,
          -0.016,
          -0.032,
          0.024,
          -0.008,
          0.072,
          -0.008,
          -0.024,
          -0.024,
          0.024,
          0.032,
          -0.032,
          -0.048,
          0.016,
          -0.032,
          -0.008,
          0.072,
          0.104,
          -0.064,
          0,
          -0.008,
          -0.008,
          0.032,
          -0.056,
          -0.048,
          0.048,
          -0.008,
          0,
          -0.008,
          0.096,
          -0.128,
          -0.032,
          0,
          0.12,
          -0.016,
          -0.08,
          0.024,
          0.008,
          -0.024,
          0,
          0.064,
          0.008,
          -0.056,
          -0.048,
          -0.008,
          -0.032,
          -0.008,
          -0.048,
          -0.048,
          0.024,
          0.096,
          -0.04,
          0,
          0.016,
          0,
          -0.064,
          -0.04,
          -0.072
         ],
         "yaxis": "y"
        },
        {
         "hovertemplate": "variable=eps=0.10<br>Games played=%{x}<br>value=%{y}<extra></extra>",
         "legendgroup": "eps=0.10",
         "line": {
          "color": "#EF553B",
          "dash": "solid"
         },
         "marker": {
          "symbol": "circle"
         },
         "mode": "lines",
         "name": "eps=0.10",
         "orientation": "v",
         "showlegend": true,
         "type": "scatter",
         "x": [
          250,
          500,
          750,
          1000,
          1250,
          1500,
          1750,
          2000,
          2250,
          2500,
          2750,
          3000,
          3250,
          3500,
          3750,
          4000,
          4250,
          4500,
          4750,
          5000,
          5250,
          5500,
          5750,
          6000,
          6250,
          6500,
          6750,
          7000,
          7250,
          7500,
          7750,
          8000,
          8250,
          8500,
          8750,
          9000,
          9250,
          9500,
          9750,
          10000,
          10250,
          10500,
          10750,
          11000,
          11250,
          11500,
          11750,
          12000,
          12250,
          12500,
          12750,
          13000,
          13250,
          13500,
          13750,
          14000,
          14250,
          14500,
          14750,
          15000,
          15250,
          15500,
          15750,
          16000,
          16250,
          16500,
          16750,
          17000,
          17250,
          17500,
          17750,
          18000,
          18250,
          18500,
          18750,
          19000,
          19250,
          19500,
          19750
         ],
         "xaxis": "x",
         "y": [
          0.00398406374501992,
          -0.072,
          -0.016,
          -0.112,
          0.016,
          -0.08,
          0.04,
          0.128,
          -0.12,
          0.056,
          -0.056,
          -0.056,
          -0.008,
          -0.032,
          -0.104,
          -0.008,
          0.024,
          -0.056,
          -0.016,
          -0.112,
          -0.024,
          0.104,
          0.168,
          0,
          -0.056,
          0,
          -0.048,
          -0.112,
          -0.064,
          -0.032,
          0.008,
          -0.024,
          -0.072,
          0.016,
          0.008,
          0.008,
          0.032,
          0.024,
          -0.024,
          0.072,
          0.024,
          0,
          0.064,
          -0.024,
          0.008,
          0.04,
          -0.032,
          0.04,
          -0.04,
          0.024,
          -0.152,
          0.04,
          -0.08,
          -0.008,
          -0.04,
          -0.016,
          0.016,
          -0.048,
          0.024,
          0,
          -0.104,
          0.12,
          -0.088,
          -0.056,
          0.088,
          -0.008,
          -0.088,
          -0.04,
          -0.032,
          0,
          0.04,
          -0.056,
          0.048,
          0.088,
          0.056,
          -0.016,
          -0.072,
          0.064,
          -0.064
         ],
         "yaxis": "y"
        },
        {
         "hovertemplate": "variable=eps=0.20<br>Games played=%{x}<br>value=%{y}<extra></extra>",
         "legendgroup": "eps=0.20",
         "line": {
          "color": "#00cc96",
          "dash": "solid"
         },
         "marker": {
          "symbol": "circle"
         },
         "mode": "lines",
         "name": "eps=0.20",
         "orientation": "v",
         "showlegend": true,
         "type": "scatter",
         "x": [
          250,
          500,
          750,
          1000,
          1250,
          1500,
          1750,
          2000,
          2250,
          2500,
          2750,
          3000,
          3250,
          3500,
          3750,
          4000,
          4250,
          4500,
          4750,
          5000,
          5250,
          5500,
          5750,
          6000,
          6250,
          6500,
          6750,
          7000,
          7250,
          7500,
          7750,
          8000,
          8250,
          8500,
          8750,
          9000,
          9250,
          9500,
          9750,
          10000,
          10250,
          10500,
          10750,
          11000,
          11250,
          11500,
          11750,
          12000,
          12250,
          12500,
          12750,
          13000,
          13250,
          13500,
          13750,
          14000,
          14250,
          14500,
          14750,
          15000,
          15250,
          15500,
          15750,
          16000,
          16250,
          16500,
          16750,
          17000,
          17250,
          17500,
          17750,
          18000,
          18250,
          18500,
          18750,
          19000,
          19250,
          19500,
          19750
         ],
         "xaxis": "x",
         "y": [
          -0.07569721115537849,
          -0.136,
          -0.12,
          -0.04,
          -0.096,
          0.136,
          0.072,
          -0.024,
          0,
          -0.048,
          0.072,
          0.152,
          0,
          -0.088,
          0.056,
          0.064,
          0.016,
          0.024,
          0.008,
          -0.072,
          0.064,
          0,
          -0.072,
          0,
          0.032,
          -0.016,
          0.024,
          0.016,
          0,
          -0.048,
          -0.016,
          -0.04,
          0.064,
          0,
          0.016,
          -0.112,
          0.032,
          0.008,
          0.112,
          -0.024,
          0.008,
          0.048,
          0.056,
          -0.056,
          -0.024,
          0.032,
          0.04,
          -0.144,
          -0.048,
          0.088,
          0.08,
          0.056,
          0.064,
          -0.056,
          -0.016,
          -0.072,
          0.064,
          0.04,
          -0.096,
          -0.096,
          -0.04,
          0,
          0,
          -0.088,
          0.104,
          -0.048,
          -0.064,
          0.088,
          0.016,
          0.008,
          -0.072,
          -0.016,
          -0.136,
          -0.072,
          0.112,
          -0.08,
          -0.056,
          -0.096,
          0
         ],
         "yaxis": "y"
        },
        {
         "hovertemplate": "variable=eps=0.30<br>Games played=%{x}<br>value=%{y}<extra></extra>",
         "legendgroup": "eps=0.30",
         "line": {
          "color": "#ab63fa",
          "dash": "solid"
         },
         "marker": {
          "symbol": "circle"
         },
         "mode": "lines",
         "name": "eps=0.30",
         "orientation": "v",
         "showlegend": true,
         "type": "scatter",
         "x": [
          250,
          500,
          750,
          1000,
          1250,
          1500,
          1750,
          2000,
          2250,
          2500,
          2750,
          3000,
          3250,
          3500,
          3750,
          4000,
          4250,
          4500,
          4750,
          5000,
          5250,
          5500,
          5750,
          6000,
          6250,
          6500,
          6750,
          7000,
          7250,
          7500,
          7750,
          8000,
          8250,
          8500,
          8750,
          9000,
          9250,
          9500,
          9750,
          10000,
          10250,
          10500,
          10750,
          11000,
          11250,
          11500,
          11750,
          12000,
          12250,
          12500,
          12750,
          13000,
          13250,
          13500,
          13750,
          14000,
          14250,
          14500,
          14750,
          15000,
          15250,
          15500,
          15750,
          16000,
          16250,
          16500,
          16750,
          17000,
          17250,
          17500,
          17750,
          18000,
          18250,
          18500,
          18750,
          19000,
          19250,
          19500,
          19750
         ],
         "xaxis": "x",
         "y": [
          0.01195219123505976,
          0.008,
          0.096,
          0.072,
          -0.08,
          -0.048,
          0,
          -0.056,
          -0.008,
          -0.008,
          0.016,
          0.072,
          -0.008,
          -0.008,
          0.048,
          0,
          0.096,
          -0.024,
          -0.016,
          0.048,
          0.024,
          0.088,
          0.024,
          -0.072,
          -0.072,
          -0.04,
          0.064,
          0.072,
          0.08,
          0.08,
          0.152,
          -0.056,
          -0.008,
          -0.056,
          0.024,
          0.008,
          -0.104,
          0.064,
          0,
          -0.064,
          -0.056,
          -0.048,
          0.096,
          0.016,
          0,
          0.08,
          0.032,
          0.112,
          0,
          -0.096,
          0.104,
          -0.048,
          -0.112,
          -0.032,
          0.136,
          0.064,
          -0.024,
          0.04,
          -0.008,
          0.056,
          -0.016,
          -0.064,
          -0.04,
          -0.088,
          -0.008,
          -0.048,
          -0.104,
          0.072,
          -0.024,
          0.008,
          0.016,
          -0.008,
          -0.056,
          -0.064,
          0.008,
          0.008,
          0.008,
          0.128,
          0.04
         ],
         "yaxis": "y"
        },
        {
         "hovertemplate": "variable=eps=0.40<br>Games played=%{x}<br>value=%{y}<extra></extra>",
         "legendgroup": "eps=0.40",
         "line": {
          "color": "#FFA15A",
          "dash": "solid"
         },
         "marker": {
          "symbol": "circle"
         },
         "mode": "lines",
         "name": "eps=0.40",
         "orientation": "v",
         "showlegend": true,
         "type": "scatter",
         "x": [
          250,
          500,
          750,
          1000,
          1250,
          1500,
          1750,
          2000,
          2250,
          2500,
          2750,
          3000,
          3250,
          3500,
          3750,
          4000,
          4250,
          4500,
          4750,
          5000,
          5250,
          5500,
          5750,
          6000,
          6250,
          6500,
          6750,
          7000,
          7250,
          7500,
          7750,
          8000,
          8250,
          8500,
          8750,
          9000,
          9250,
          9500,
          9750,
          10000,
          10250,
          10500,
          10750,
          11000,
          11250,
          11500,
          11750,
          12000,
          12250,
          12500,
          12750,
          13000,
          13250,
          13500,
          13750,
          14000,
          14250,
          14500,
          14750,
          15000,
          15250,
          15500,
          15750,
          16000,
          16250,
          16500,
          16750,
          17000,
          17250,
          17500,
          17750,
          18000,
          18250,
          18500,
          18750,
          19000,
          19250,
          19500,
          19750
         ],
         "xaxis": "x",
         "y": [
          -0.0199203187250996,
          0.056,
          0.072,
          0.08,
          0,
          0.04,
          0.04,
          0,
          -0.008,
          0.144,
          0.008,
          -0.008,
          0,
          0.12,
          0.072,
          -0.016,
          -0.088,
          -0.056,
          -0.072,
          0.048,
          0.04,
          0.112,
          -0.048,
          0.04,
          -0.008,
          0.072,
          -0.128,
          0.104,
          -0.032,
          0,
          -0.144,
          -0.04,
          0.064,
          0.088,
          0.048,
          -0.048,
          -0.072,
          -0.096,
          0.04,
          -0.072,
          0.056,
          0.032,
          -0.08,
          -0.136,
          0.064,
          -0.104,
          0.048,
          -0.056,
          0,
          0,
          -0.032,
          -0.016,
          -0.04,
          0.08,
          -0.128,
          -0.024,
          -0.088,
          0.08,
          0.064,
          0.064,
          -0.032,
          0,
          -0.016,
          0.016,
          0.136,
          -0.016,
          -0.096,
          0.136,
          0.04,
          0.024,
          0.072,
          0.08,
          0.032,
          -0.04,
          0.032,
          -0.088,
          -0.016,
          0,
          -0.008
         ],
         "yaxis": "y"
        },
        {
         "hovertemplate": "variable=eps=0.50<br>Games played=%{x}<br>value=%{y}<extra></extra>",
         "legendgroup": "eps=0.50",
         "line": {
          "color": "#19d3f3",
          "dash": "solid"
         },
         "marker": {
          "symbol": "circle"
         },
         "mode": "lines",
         "name": "eps=0.50",
         "orientation": "v",
         "showlegend": true,
         "type": "scatter",
         "x": [
          250,
          500,
          750,
          1000,
          1250,
          1500,
          1750,
          2000,
          2250,
          2500,
          2750,
          3000,
          3250,
          3500,
          3750,
          4000,
          4250,
          4500,
          4750,
          5000,
          5250,
          5500,
          5750,
          6000,
          6250,
          6500,
          6750,
          7000,
          7250,
          7500,
          7750,
          8000,
          8250,
          8500,
          8750,
          9000,
          9250,
          9500,
          9750,
          10000,
          10250,
          10500,
          10750,
          11000,
          11250,
          11500,
          11750,
          12000,
          12250,
          12500,
          12750,
          13000,
          13250,
          13500,
          13750,
          14000,
          14250,
          14500,
          14750,
          15000,
          15250,
          15500,
          15750,
          16000,
          16250,
          16500,
          16750,
          17000,
          17250,
          17500,
          17750,
          18000,
          18250,
          18500,
          18750,
          19000,
          19250,
          19500,
          19750
         ],
         "xaxis": "x",
         "y": [
          -0.027888446215139442,
          -0.072,
          -0.096,
          0.088,
          0.128,
          0.016,
          -0.024,
          -0.056,
          0.04,
          -0.064,
          -0.04,
          0.16,
          -0.032,
          -0.056,
          0.176,
          0.048,
          -0.128,
          0.08,
          0,
          -0.056,
          0.048,
          -0.008,
          -0.04,
          0.056,
          -0.032,
          0.032,
          -0.048,
          0.072,
          -0.08,
          -0.04,
          -0.024,
          -0.04,
          -0.048,
          -0.056,
          -0.008,
          -0.024,
          0.008,
          0.008,
          -0.024,
          0.04,
          0.064,
          -0.032,
          -0.016,
          -0.04,
          -0.056,
          0.024,
          0.096,
          -0.088,
          0.008,
          -0.016,
          0.032,
          -0.04,
          0.016,
          0.016,
          -0.008,
          0.088,
          0,
          -0.032,
          0.112,
          0.032,
          0.032,
          0.032,
          -0.04,
          0.032,
          -0.088,
          -0.016,
          0.008,
          0.136,
          0.024,
          0.016,
          0,
          0.072,
          0,
          -0.016,
          0.112,
          -0.032,
          -0.088,
          0.008,
          0.008
         ],
         "yaxis": "y"
        },
        {
         "hovertemplate": "variable=eps=0.60<br>Games played=%{x}<br>value=%{y}<extra></extra>",
         "legendgroup": "eps=0.60",
         "line": {
          "color": "#FF6692",
          "dash": "solid"
         },
         "marker": {
          "symbol": "circle"
         },
         "mode": "lines",
         "name": "eps=0.60",
         "orientation": "v",
         "showlegend": true,
         "type": "scatter",
         "x": [
          250,
          500,
          750,
          1000,
          1250,
          1500,
          1750,
          2000,
          2250,
          2500,
          2750,
          3000,
          3250,
          3500,
          3750,
          4000,
          4250,
          4500,
          4750,
          5000,
          5250,
          5500,
          5750,
          6000,
          6250,
          6500,
          6750,
          7000,
          7250,
          7500,
          7750,
          8000,
          8250,
          8500,
          8750,
          9000,
          9250,
          9500,
          9750,
          10000,
          10250,
          10500,
          10750,
          11000,
          11250,
          11500,
          11750,
          12000,
          12250,
          12500,
          12750,
          13000,
          13250,
          13500,
          13750,
          14000,
          14250,
          14500,
          14750,
          15000,
          15250,
          15500,
          15750,
          16000,
          16250,
          16500,
          16750,
          17000,
          17250,
          17500,
          17750,
          18000,
          18250,
          18500,
          18750,
          19000,
          19250,
          19500,
          19750
         ],
         "xaxis": "x",
         "y": [
          -0.06772908366533864,
          0.024,
          0.04,
          -0.016,
          -0.032,
          -0.072,
          -0.112,
          -0.064,
          -0.008,
          -0.032,
          -0.008,
          -0.04,
          -0.048,
          0.04,
          -0.016,
          0.104,
          -0.024,
          0.104,
          0.08,
          0.08,
          -0.008,
          -0.064,
          0.096,
          0.016,
          0.064,
          0.048,
          -0.04,
          -0.008,
          -0.032,
          -0.112,
          0.008,
          -0.088,
          -0.056,
          -0.12,
          0,
          -0.104,
          -0.144,
          -0.064,
          0.096,
          -0.024,
          -0.128,
          -0.088,
          -0.112,
          0.048,
          0.024,
          -0.072,
          0,
          -0.104,
          0.088,
          -0.104,
          -0.024,
          0.048,
          0.04,
          0.008,
          -0.04,
          0.064,
          -0.032,
          0.016,
          -0.064,
          -0.112,
          -0.12,
          -0.048,
          0.048,
          -0.032,
          0,
          0.088,
          -0.128,
          -0.088,
          0.04,
          -0.072,
          -0.072,
          0.064,
          -0.088,
          0.016,
          0.048,
          0.008,
          0.008,
          0.12,
          -0.048
         ],
         "yaxis": "y"
        },
        {
         "hovertemplate": "variable=eps=0.70<br>Games played=%{x}<br>value=%{y}<extra></extra>",
         "legendgroup": "eps=0.70",
         "line": {
          "color": "#B6E880",
          "dash": "solid"
         },
         "marker": {
          "symbol": "circle"
         },
         "mode": "lines",
         "name": "eps=0.70",
         "orientation": "v",
         "showlegend": true,
         "type": "scatter",
         "x": [
          250,
          500,
          750,
          1000,
          1250,
          1500,
          1750,
          2000,
          2250,
          2500,
          2750,
          3000,
          3250,
          3500,
          3750,
          4000,
          4250,
          4500,
          4750,
          5000,
          5250,
          5500,
          5750,
          6000,
          6250,
          6500,
          6750,
          7000,
          7250,
          7500,
          7750,
          8000,
          8250,
          8500,
          8750,
          9000,
          9250,
          9500,
          9750,
          10000,
          10250,
          10500,
          10750,
          11000,
          11250,
          11500,
          11750,
          12000,
          12250,
          12500,
          12750,
          13000,
          13250,
          13500,
          13750,
          14000,
          14250,
          14500,
          14750,
          15000,
          15250,
          15500,
          15750,
          16000,
          16250,
          16500,
          16750,
          17000,
          17250,
          17500,
          17750,
          18000,
          18250,
          18500,
          18750,
          19000,
          19250,
          19500,
          19750
         ],
         "xaxis": "x",
         "y": [
          0.027888446215139442,
          -0.112,
          0.08,
          -0.088,
          0.104,
          -0.056,
          -0.024,
          -0.12,
          -0.032,
          0.064,
          -0.072,
          -0.112,
          0.12,
          0.016,
          0.064,
          -0.024,
          0.048,
          0.024,
          0.024,
          -0.024,
          0.144,
          -0.008,
          0.008,
          -0.064,
          0.064,
          0.072,
          0.064,
          0.008,
          0.064,
          0,
          -0.056,
          0.008,
          0.04,
          -0.128,
          -0.008,
          -0.016,
          0.128,
          -0.104,
          -0.048,
          0.024,
          0.088,
          0.008,
          0.056,
          0.04,
          0.088,
          0.032,
          0.024,
          -0.024,
          0.088,
          -0.048,
          0.168,
          -0.024,
          -0.048,
          0.032,
          -0.112,
          0.056,
          0.04,
          -0.016,
          -0.008,
          -0.072,
          -0.056,
          -0.056,
          -0.08,
          0,
          -0.04,
          -0.088,
          -0.088,
          -0.04,
          0.056,
          0.12,
          -0.12,
          -0.08,
          -0.016,
          -0.048,
          0.048,
          -0.056,
          -0.08,
          0.008,
          0
         ],
         "yaxis": "y"
        },
        {
         "hovertemplate": "variable=eps=0.80<br>Games played=%{x}<br>value=%{y}<extra></extra>",
         "legendgroup": "eps=0.80",
         "line": {
          "color": "#FF97FF",
          "dash": "solid"
         },
         "marker": {
          "symbol": "circle"
         },
         "mode": "lines",
         "name": "eps=0.80",
         "orientation": "v",
         "showlegend": true,
         "type": "scatter",
         "x": [
          250,
          500,
          750,
          1000,
          1250,
          1500,
          1750,
          2000,
          2250,
          2500,
          2750,
          3000,
          3250,
          3500,
          3750,
          4000,
          4250,
          4500,
          4750,
          5000,
          5250,
          5500,
          5750,
          6000,
          6250,
          6500,
          6750,
          7000,
          7250,
          7500,
          7750,
          8000,
          8250,
          8500,
          8750,
          9000,
          9250,
          9500,
          9750,
          10000,
          10250,
          10500,
          10750,
          11000,
          11250,
          11500,
          11750,
          12000,
          12250,
          12500,
          12750,
          13000,
          13250,
          13500,
          13750,
          14000,
          14250,
          14500,
          14750,
          15000,
          15250,
          15500,
          15750,
          16000,
          16250,
          16500,
          16750,
          17000,
          17250,
          17500,
          17750,
          18000,
          18250,
          18500,
          18750,
          19000,
          19250,
          19500,
          19750
         ],
         "xaxis": "x",
         "y": [
          0.12350597609561753,
          -0.008,
          0.032,
          -0.04,
          -0.096,
          0.08,
          -0.032,
          -0.064,
          0.024,
          -0.064,
          0.072,
          0.04,
          0.04,
          0,
          0.048,
          0.12,
          -0.04,
          -0.088,
          0.088,
          0.016,
          -0.056,
          -0.04,
          -0.032,
          0.04,
          0.112,
          0.08,
          -0.024,
          0.008,
          -0.08,
          -0.008,
          -0.056,
          0.056,
          -0.064,
          0.008,
          0.008,
          -0.016,
          0,
          0.08,
          0.144,
          0.088,
          0.072,
          -0.072,
          -0.008,
          0.032,
          -0.024,
          0.064,
          0.08,
          0.008,
          -0.056,
          0.088,
          0.008,
          -0.088,
          0.144,
          0.024,
          -0.064,
          0,
          0.008,
          -0.168,
          0.032,
          0.08,
          0.128,
          0.056,
          0.136,
          -0.008,
          -0.024,
          0.128,
          0.048,
          -0.056,
          -0.008,
          -0.04,
          -0.008,
          0.056,
          0.024,
          -0.064,
          0.096,
          0.08,
          0.032,
          -0.136,
          0.024
         ],
         "yaxis": "y"
        },
        {
         "hovertemplate": "variable=eps=0.90<br>Games played=%{x}<br>value=%{y}<extra></extra>",
         "legendgroup": "eps=0.90",
         "line": {
          "color": "#FECB52",
          "dash": "solid"
         },
         "marker": {
          "symbol": "circle"
         },
         "mode": "lines",
         "name": "eps=0.90",
         "orientation": "v",
         "showlegend": true,
         "type": "scatter",
         "x": [
          250,
          500,
          750,
          1000,
          1250,
          1500,
          1750,
          2000,
          2250,
          2500,
          2750,
          3000,
          3250,
          3500,
          3750,
          4000,
          4250,
          4500,
          4750,
          5000,
          5250,
          5500,
          5750,
          6000,
          6250,
          6500,
          6750,
          7000,
          7250,
          7500,
          7750,
          8000,
          8250,
          8500,
          8750,
          9000,
          9250,
          9500,
          9750,
          10000,
          10250,
          10500,
          10750,
          11000,
          11250,
          11500,
          11750,
          12000,
          12250,
          12500,
          12750,
          13000,
          13250,
          13500,
          13750,
          14000,
          14250,
          14500,
          14750,
          15000,
          15250,
          15500,
          15750,
          16000,
          16250,
          16500,
          16750,
          17000,
          17250,
          17500,
          17750,
          18000,
          18250,
          18500,
          18750,
          19000,
          19250,
          19500,
          19750
         ],
         "xaxis": "x",
         "y": [
          -0.00398406374501992,
          0.128,
          0,
          0,
          0.04,
          0.072,
          -0.016,
          0.128,
          0.024,
          0.048,
          -0.048,
          0.016,
          0.064,
          0.112,
          0.024,
          -0.08,
          -0.04,
          -0.048,
          -0.032,
          -0.008,
          -0.016,
          0.032,
          0.016,
          -0.056,
          0.008,
          -0.016,
          -0.08,
          -0.056,
          -0.04,
          -0.064,
          0.016,
          0,
          0.064,
          0.056,
          0,
          -0.048,
          0,
          0.032,
          0.16,
          -0.04,
          -0.04,
          -0.008,
          0.008,
          0.048,
          0.064,
          -0.008,
          0.048,
          0.008,
          -0.096,
          0.04,
          0.056,
          -0.096,
          0.128,
          0.016,
          -0.056,
          0.008,
          -0.104,
          0.064,
          0.008,
          -0.064,
          0.008,
          0.08,
          0.048,
          0.032,
          -0.136,
          0.008,
          -0.032,
          0.048,
          0.056,
          -0.064,
          -0.048,
          -0.056,
          -0.04,
          -0.096,
          -0.072,
          0.112,
          -0.112,
          -0.056,
          0.056
         ],
         "yaxis": "y"
        },
        {
         "hovertemplate": "variable=eps=1.00<br>Games played=%{x}<br>value=%{y}<extra></extra>",
         "legendgroup": "eps=1.00",
         "line": {
          "color": "#636efa",
          "dash": "solid"
         },
         "marker": {
          "symbol": "circle"
         },
         "mode": "lines",
         "name": "eps=1.00",
         "orientation": "v",
         "showlegend": true,
         "type": "scatter",
         "x": [
          250,
          500,
          750,
          1000,
          1250,
          1500,
          1750,
          2000,
          2250,
          2500,
          2750,
          3000,
          3250,
          3500,
          3750,
          4000,
          4250,
          4500,
          4750,
          5000,
          5250,
          5500,
          5750,
          6000,
          6250,
          6500,
          6750,
          7000,
          7250,
          7500,
          7750,
          8000,
          8250,
          8500,
          8750,
          9000,
          9250,
          9500,
          9750,
          10000,
          10250,
          10500,
          10750,
          11000,
          11250,
          11500,
          11750,
          12000,
          12250,
          12500,
          12750,
          13000,
          13250,
          13500,
          13750,
          14000,
          14250,
          14500,
          14750,
          15000,
          15250,
          15500,
          15750,
          16000,
          16250,
          16500,
          16750,
          17000,
          17250,
          17500,
          17750,
          18000,
          18250,
          18500,
          18750,
          19000,
          19250,
          19500,
          19750
         ],
         "xaxis": "x",
         "y": [
          -0.0199203187250996,
          -0.056,
          -0.032,
          0.048,
          0.056,
          -0.064,
          -0.064,
          0.064,
          -0.12,
          -0.128,
          -0.016,
          -0.04,
          0.136,
          0.08,
          0,
          0.088,
          -0.08,
          0.048,
          0.008,
          0.112,
          -0.032,
          0.072,
          -0.048,
          0.088,
          0.056,
          0.04,
          0.096,
          -0.016,
          0.072,
          0,
          -0.128,
          -0.064,
          -0.152,
          0.016,
          -0.056,
          0.032,
          -0.08,
          0.016,
          -0.032,
          -0.048,
          0.008,
          -0.048,
          -0.008,
          0.04,
          -0.08,
          0.048,
          -0.016,
          0.024,
          -0.032,
          0,
          0.008,
          0.08,
          0.048,
          -0.096,
          -0.016,
          -0.016,
          -0.072,
          0.104,
          0.08,
          0.016,
          -0.096,
          0.032,
          0.064,
          -0.032,
          0.056,
          -0.088,
          0.064,
          -0.128,
          -0.04,
          -0.04,
          0.024,
          -0.096,
          -0.008,
          0.032,
          0.048,
          0.032,
          0.008,
          -0.016,
          -0.016
         ],
         "yaxis": "y"
        }
       ],
       "layout": {
        "legend": {
         "title": {
          "text": "variable"
         },
         "tracegroupgap": 0
        },
        "template": {
         "data": {
          "bar": [
           {
            "error_x": {
             "color": "#2a3f5f"
            },
            "error_y": {
             "color": "#2a3f5f"
            },
            "marker": {
             "line": {
              "color": "#E5ECF6",
              "width": 0.5
             },
             "pattern": {
              "fillmode": "overlay",
              "size": 10,
              "solidity": 0.2
             }
            },
            "type": "bar"
           }
          ],
          "barpolar": [
           {
            "marker": {
             "line": {
              "color": "#E5ECF6",
              "width": 0.5
             },
             "pattern": {
              "fillmode": "overlay",
              "size": 10,
              "solidity": 0.2
             }
            },
            "type": "barpolar"
           }
          ],
          "carpet": [
           {
            "aaxis": {
             "endlinecolor": "#2a3f5f",
             "gridcolor": "white",
             "linecolor": "white",
             "minorgridcolor": "white",
             "startlinecolor": "#2a3f5f"
            },
            "baxis": {
             "endlinecolor": "#2a3f5f",
             "gridcolor": "white",
             "linecolor": "white",
             "minorgridcolor": "white",
             "startlinecolor": "#2a3f5f"
            },
            "type": "carpet"
           }
          ],
          "choropleth": [
           {
            "colorbar": {
             "outlinewidth": 0,
             "ticks": ""
            },
            "type": "choropleth"
           }
          ],
          "contour": [
           {
            "colorbar": {
             "outlinewidth": 0,
             "ticks": ""
            },
            "colorscale": [
             [
              0,
              "#0d0887"
             ],
             [
              0.1111111111111111,
              "#46039f"
             ],
             [
              0.2222222222222222,
              "#7201a8"
             ],
             [
              0.3333333333333333,
              "#9c179e"
             ],
             [
              0.4444444444444444,
              "#bd3786"
             ],
             [
              0.5555555555555556,
              "#d8576b"
             ],
             [
              0.6666666666666666,
              "#ed7953"
             ],
             [
              0.7777777777777778,
              "#fb9f3a"
             ],
             [
              0.8888888888888888,
              "#fdca26"
             ],
             [
              1,
              "#f0f921"
             ]
            ],
            "type": "contour"
           }
          ],
          "contourcarpet": [
           {
            "colorbar": {
             "outlinewidth": 0,
             "ticks": ""
            },
            "type": "contourcarpet"
           }
          ],
          "heatmap": [
           {
            "colorbar": {
             "outlinewidth": 0,
             "ticks": ""
            },
            "colorscale": [
             [
              0,
              "#0d0887"
             ],
             [
              0.1111111111111111,
              "#46039f"
             ],
             [
              0.2222222222222222,
              "#7201a8"
             ],
             [
              0.3333333333333333,
              "#9c179e"
             ],
             [
              0.4444444444444444,
              "#bd3786"
             ],
             [
              0.5555555555555556,
              "#d8576b"
             ],
             [
              0.6666666666666666,
              "#ed7953"
             ],
             [
              0.7777777777777778,
              "#fb9f3a"
             ],
             [
              0.8888888888888888,
              "#fdca26"
             ],
             [
              1,
              "#f0f921"
             ]
            ],
            "type": "heatmap"
           }
          ],
          "heatmapgl": [
           {
            "colorbar": {
             "outlinewidth": 0,
             "ticks": ""
            },
            "colorscale": [
             [
              0,
              "#0d0887"
             ],
             [
              0.1111111111111111,
              "#46039f"
             ],
             [
              0.2222222222222222,
              "#7201a8"
             ],
             [
              0.3333333333333333,
              "#9c179e"
             ],
             [
              0.4444444444444444,
              "#bd3786"
             ],
             [
              0.5555555555555556,
              "#d8576b"
             ],
             [
              0.6666666666666666,
              "#ed7953"
             ],
             [
              0.7777777777777778,
              "#fb9f3a"
             ],
             [
              0.8888888888888888,
              "#fdca26"
             ],
             [
              1,
              "#f0f921"
             ]
            ],
            "type": "heatmapgl"
           }
          ],
          "histogram": [
           {
            "marker": {
             "pattern": {
              "fillmode": "overlay",
              "size": 10,
              "solidity": 0.2
             }
            },
            "type": "histogram"
           }
          ],
          "histogram2d": [
           {
            "colorbar": {
             "outlinewidth": 0,
             "ticks": ""
            },
            "colorscale": [
             [
              0,
              "#0d0887"
             ],
             [
              0.1111111111111111,
              "#46039f"
             ],
             [
              0.2222222222222222,
              "#7201a8"
             ],
             [
              0.3333333333333333,
              "#9c179e"
             ],
             [
              0.4444444444444444,
              "#bd3786"
             ],
             [
              0.5555555555555556,
              "#d8576b"
             ],
             [
              0.6666666666666666,
              "#ed7953"
             ],
             [
              0.7777777777777778,
              "#fb9f3a"
             ],
             [
              0.8888888888888888,
              "#fdca26"
             ],
             [
              1,
              "#f0f921"
             ]
            ],
            "type": "histogram2d"
           }
          ],
          "histogram2dcontour": [
           {
            "colorbar": {
             "outlinewidth": 0,
             "ticks": ""
            },
            "colorscale": [
             [
              0,
              "#0d0887"
             ],
             [
              0.1111111111111111,
              "#46039f"
             ],
             [
              0.2222222222222222,
              "#7201a8"
             ],
             [
              0.3333333333333333,
              "#9c179e"
             ],
             [
              0.4444444444444444,
              "#bd3786"
             ],
             [
              0.5555555555555556,
              "#d8576b"
             ],
             [
              0.6666666666666666,
              "#ed7953"
             ],
             [
              0.7777777777777778,
              "#fb9f3a"
             ],
             [
              0.8888888888888888,
              "#fdca26"
             ],
             [
              1,
              "#f0f921"
             ]
            ],
            "type": "histogram2dcontour"
           }
          ],
          "mesh3d": [
           {
            "colorbar": {
             "outlinewidth": 0,
             "ticks": ""
            },
            "type": "mesh3d"
           }
          ],
          "parcoords": [
           {
            "line": {
             "colorbar": {
              "outlinewidth": 0,
              "ticks": ""
             }
            },
            "type": "parcoords"
           }
          ],
          "pie": [
           {
            "automargin": true,
            "type": "pie"
           }
          ],
          "scatter": [
           {
            "fillpattern": {
             "fillmode": "overlay",
             "size": 10,
             "solidity": 0.2
            },
            "type": "scatter"
           }
          ],
          "scatter3d": [
           {
            "line": {
             "colorbar": {
              "outlinewidth": 0,
              "ticks": ""
             }
            },
            "marker": {
             "colorbar": {
              "outlinewidth": 0,
              "ticks": ""
             }
            },
            "type": "scatter3d"
           }
          ],
          "scattercarpet": [
           {
            "marker": {
             "colorbar": {
              "outlinewidth": 0,
              "ticks": ""
             }
            },
            "type": "scattercarpet"
           }
          ],
          "scattergeo": [
           {
            "marker": {
             "colorbar": {
              "outlinewidth": 0,
              "ticks": ""
             }
            },
            "type": "scattergeo"
           }
          ],
          "scattergl": [
           {
            "marker": {
             "colorbar": {
              "outlinewidth": 0,
              "ticks": ""
             }
            },
            "type": "scattergl"
           }
          ],
          "scattermapbox": [
           {
            "marker": {
             "colorbar": {
              "outlinewidth": 0,
              "ticks": ""
             }
            },
            "type": "scattermapbox"
           }
          ],
          "scatterpolar": [
           {
            "marker": {
             "colorbar": {
              "outlinewidth": 0,
              "ticks": ""
             }
            },
            "type": "scatterpolar"
           }
          ],
          "scatterpolargl": [
           {
            "marker": {
             "colorbar": {
              "outlinewidth": 0,
              "ticks": ""
             }
            },
            "type": "scatterpolargl"
           }
          ],
          "scatterternary": [
           {
            "marker": {
             "colorbar": {
              "outlinewidth": 0,
              "ticks": ""
             }
            },
            "type": "scatterternary"
           }
          ],
          "surface": [
           {
            "colorbar": {
             "outlinewidth": 0,
             "ticks": ""
            },
            "colorscale": [
             [
              0,
              "#0d0887"
             ],
             [
              0.1111111111111111,
              "#46039f"
             ],
             [
              0.2222222222222222,
              "#7201a8"
             ],
             [
              0.3333333333333333,
              "#9c179e"
             ],
             [
              0.4444444444444444,
              "#bd3786"
             ],
             [
              0.5555555555555556,
              "#d8576b"
             ],
             [
              0.6666666666666666,
              "#ed7953"
             ],
             [
              0.7777777777777778,
              "#fb9f3a"
             ],
             [
              0.8888888888888888,
              "#fdca26"
             ],
             [
              1,
              "#f0f921"
             ]
            ],
            "type": "surface"
           }
          ],
          "table": [
           {
            "cells": {
             "fill": {
              "color": "#EBF0F8"
             },
             "line": {
              "color": "white"
             }
            },
            "header": {
             "fill": {
              "color": "#C8D4E3"
             },
             "line": {
              "color": "white"
             }
            },
            "type": "table"
           }
          ]
         },
         "layout": {
          "annotationdefaults": {
           "arrowcolor": "#2a3f5f",
           "arrowhead": 0,
           "arrowwidth": 1
          },
          "autotypenumbers": "strict",
          "coloraxis": {
           "colorbar": {
            "outlinewidth": 0,
            "ticks": ""
           }
          },
          "colorscale": {
           "diverging": [
            [
             0,
             "#8e0152"
            ],
            [
             0.1,
             "#c51b7d"
            ],
            [
             0.2,
             "#de77ae"
            ],
            [
             0.3,
             "#f1b6da"
            ],
            [
             0.4,
             "#fde0ef"
            ],
            [
             0.5,
             "#f7f7f7"
            ],
            [
             0.6,
             "#e6f5d0"
            ],
            [
             0.7,
             "#b8e186"
            ],
            [
             0.8,
             "#7fbc41"
            ],
            [
             0.9,
             "#4d9221"
            ],
            [
             1,
             "#276419"
            ]
           ],
           "sequential": [
            [
             0,
             "#0d0887"
            ],
            [
             0.1111111111111111,
             "#46039f"
            ],
            [
             0.2222222222222222,
             "#7201a8"
            ],
            [
             0.3333333333333333,
             "#9c179e"
            ],
            [
             0.4444444444444444,
             "#bd3786"
            ],
            [
             0.5555555555555556,
             "#d8576b"
            ],
            [
             0.6666666666666666,
             "#ed7953"
            ],
            [
             0.7777777777777778,
             "#fb9f3a"
            ],
            [
             0.8888888888888888,
             "#fdca26"
            ],
            [
             1,
             "#f0f921"
            ]
           ],
           "sequentialminus": [
            [
             0,
             "#0d0887"
            ],
            [
             0.1111111111111111,
             "#46039f"
            ],
            [
             0.2222222222222222,
             "#7201a8"
            ],
            [
             0.3333333333333333,
             "#9c179e"
            ],
            [
             0.4444444444444444,
             "#bd3786"
            ],
            [
             0.5555555555555556,
             "#d8576b"
            ],
            [
             0.6666666666666666,
             "#ed7953"
            ],
            [
             0.7777777777777778,
             "#fb9f3a"
            ],
            [
             0.8888888888888888,
             "#fdca26"
            ],
            [
             1,
             "#f0f921"
            ]
           ]
          },
          "colorway": [
           "#636efa",
           "#EF553B",
           "#00cc96",
           "#ab63fa",
           "#FFA15A",
           "#19d3f3",
           "#FF6692",
           "#B6E880",
           "#FF97FF",
           "#FECB52"
          ],
          "font": {
           "color": "#2a3f5f"
          },
          "geo": {
           "bgcolor": "white",
           "lakecolor": "white",
           "landcolor": "#E5ECF6",
           "showlakes": true,
           "showland": true,
           "subunitcolor": "white"
          },
          "hoverlabel": {
           "align": "left"
          },
          "hovermode": "closest",
          "mapbox": {
           "style": "light"
          },
          "paper_bgcolor": "white",
          "plot_bgcolor": "#E5ECF6",
          "polar": {
           "angularaxis": {
            "gridcolor": "white",
            "linecolor": "white",
            "ticks": ""
           },
           "bgcolor": "#E5ECF6",
           "radialaxis": {
            "gridcolor": "white",
            "linecolor": "white",
            "ticks": ""
           }
          },
          "scene": {
           "xaxis": {
            "backgroundcolor": "#E5ECF6",
            "gridcolor": "white",
            "gridwidth": 2,
            "linecolor": "white",
            "showbackground": true,
            "ticks": "",
            "zerolinecolor": "white"
           },
           "yaxis": {
            "backgroundcolor": "#E5ECF6",
            "gridcolor": "white",
            "gridwidth": 2,
            "linecolor": "white",
            "showbackground": true,
            "ticks": "",
            "zerolinecolor": "white"
           },
           "zaxis": {
            "backgroundcolor": "#E5ECF6",
            "gridcolor": "white",
            "gridwidth": 2,
            "linecolor": "white",
            "showbackground": true,
            "ticks": "",
            "zerolinecolor": "white"
           }
          },
          "shapedefaults": {
           "line": {
            "color": "#2a3f5f"
           }
          },
          "ternary": {
           "aaxis": {
            "gridcolor": "white",
            "linecolor": "white",
            "ticks": ""
           },
           "baxis": {
            "gridcolor": "white",
            "linecolor": "white",
            "ticks": ""
           },
           "bgcolor": "#E5ECF6",
           "caxis": {
            "gridcolor": "white",
            "linecolor": "white",
            "ticks": ""
           }
          },
          "title": {
           "x": 0.05
          },
          "xaxis": {
           "automargin": true,
           "gridcolor": "white",
           "linecolor": "white",
           "ticks": "",
           "title": {
            "standoff": 15
           },
           "zerolinecolor": "white",
           "zerolinewidth": 2
          },
          "yaxis": {
           "automargin": true,
           "gridcolor": "white",
           "linecolor": "white",
           "ticks": "",
           "title": {
            "standoff": 15
           },
           "zerolinecolor": "white",
           "zerolinewidth": 2
          }
         }
        },
        "title": {
         "text": "Training and testing with self-learning, using different eps values"
        },
        "width": 800,
        "xaxis": {
         "anchor": "y",
         "domain": [
          0,
          1
         ],
         "title": {
          "text": "Games played"
         }
        },
        "yaxis": {
         "anchor": "x",
         "domain": [
          0,
          1
         ],
         "title": {
          "text": "Mean reward"
         }
        }
       }
      },
      "text/html": [
       "<div>                            <div id=\"47909dc9-daa7-4f07-bd26-ae88326da233\" class=\"plotly-graph-div\" style=\"height:525px; width:800px;\"></div>            <script type=\"text/javascript\">                require([\"plotly\"], function(Plotly) {                    window.PLOTLYENV=window.PLOTLYENV || {};                                    if (document.getElementById(\"47909dc9-daa7-4f07-bd26-ae88326da233\")) {                    Plotly.newPlot(                        \"47909dc9-daa7-4f07-bd26-ae88326da233\",                        [{\"hovertemplate\":\"variable=eps=0.00<br>Games played=%{x}<br>value=%{y}<extra></extra>\",\"legendgroup\":\"eps=0.00\",\"line\":{\"color\":\"#636efa\",\"dash\":\"solid\"},\"marker\":{\"symbol\":\"circle\"},\"mode\":\"lines\",\"name\":\"eps=0.00\",\"orientation\":\"v\",\"showlegend\":true,\"x\":[250,500,750,1000,1250,1500,1750,2000,2250,2500,2750,3000,3250,3500,3750,4000,4250,4500,4750,5000,5250,5500,5750,6000,6250,6500,6750,7000,7250,7500,7750,8000,8250,8500,8750,9000,9250,9500,9750,10000,10250,10500,10750,11000,11250,11500,11750,12000,12250,12500,12750,13000,13250,13500,13750,14000,14250,14500,14750,15000,15250,15500,15750,16000,16250,16500,16750,17000,17250,17500,17750,18000,18250,18500,18750,19000,19250,19500,19750],\"xaxis\":\"x\",\"y\":[-0.0199203187250996,0.0,-0.016,-0.064,-0.048,-0.032,0.056,-0.04,-0.104,-0.008,0.008,0.096,-0.024,0.032,-0.008,0.0,0.032,0.064,0.064,-0.064,0.064,0.0,-0.016,-0.032,0.024,-0.008,0.072,-0.008,-0.024,-0.024,0.024,0.032,-0.032,-0.048,0.016,-0.032,-0.008,0.072,0.104,-0.064,0.0,-0.008,-0.008,0.032,-0.056,-0.048,0.048,-0.008,0.0,-0.008,0.096,-0.128,-0.032,0.0,0.12,-0.016,-0.08,0.024,0.008,-0.024,0.0,0.064,0.008,-0.056,-0.048,-0.008,-0.032,-0.008,-0.048,-0.048,0.024,0.096,-0.04,0.0,0.016,0.0,-0.064,-0.04,-0.072],\"yaxis\":\"y\",\"type\":\"scatter\"},{\"hovertemplate\":\"variable=eps=0.10<br>Games played=%{x}<br>value=%{y}<extra></extra>\",\"legendgroup\":\"eps=0.10\",\"line\":{\"color\":\"#EF553B\",\"dash\":\"solid\"},\"marker\":{\"symbol\":\"circle\"},\"mode\":\"lines\",\"name\":\"eps=0.10\",\"orientation\":\"v\",\"showlegend\":true,\"x\":[250,500,750,1000,1250,1500,1750,2000,2250,2500,2750,3000,3250,3500,3750,4000,4250,4500,4750,5000,5250,5500,5750,6000,6250,6500,6750,7000,7250,7500,7750,8000,8250,8500,8750,9000,9250,9500,9750,10000,10250,10500,10750,11000,11250,11500,11750,12000,12250,12500,12750,13000,13250,13500,13750,14000,14250,14500,14750,15000,15250,15500,15750,16000,16250,16500,16750,17000,17250,17500,17750,18000,18250,18500,18750,19000,19250,19500,19750],\"xaxis\":\"x\",\"y\":[0.00398406374501992,-0.072,-0.016,-0.112,0.016,-0.08,0.04,0.128,-0.12,0.056,-0.056,-0.056,-0.008,-0.032,-0.104,-0.008,0.024,-0.056,-0.016,-0.112,-0.024,0.104,0.168,0.0,-0.056,0.0,-0.048,-0.112,-0.064,-0.032,0.008,-0.024,-0.072,0.016,0.008,0.008,0.032,0.024,-0.024,0.072,0.024,0.0,0.064,-0.024,0.008,0.04,-0.032,0.04,-0.04,0.024,-0.152,0.04,-0.08,-0.008,-0.04,-0.016,0.016,-0.048,0.024,0.0,-0.104,0.12,-0.088,-0.056,0.088,-0.008,-0.088,-0.04,-0.032,0.0,0.04,-0.056,0.048,0.088,0.056,-0.016,-0.072,0.064,-0.064],\"yaxis\":\"y\",\"type\":\"scatter\"},{\"hovertemplate\":\"variable=eps=0.20<br>Games played=%{x}<br>value=%{y}<extra></extra>\",\"legendgroup\":\"eps=0.20\",\"line\":{\"color\":\"#00cc96\",\"dash\":\"solid\"},\"marker\":{\"symbol\":\"circle\"},\"mode\":\"lines\",\"name\":\"eps=0.20\",\"orientation\":\"v\",\"showlegend\":true,\"x\":[250,500,750,1000,1250,1500,1750,2000,2250,2500,2750,3000,3250,3500,3750,4000,4250,4500,4750,5000,5250,5500,5750,6000,6250,6500,6750,7000,7250,7500,7750,8000,8250,8500,8750,9000,9250,9500,9750,10000,10250,10500,10750,11000,11250,11500,11750,12000,12250,12500,12750,13000,13250,13500,13750,14000,14250,14500,14750,15000,15250,15500,15750,16000,16250,16500,16750,17000,17250,17500,17750,18000,18250,18500,18750,19000,19250,19500,19750],\"xaxis\":\"x\",\"y\":[-0.07569721115537849,-0.136,-0.12,-0.04,-0.096,0.136,0.072,-0.024,0.0,-0.048,0.072,0.152,0.0,-0.088,0.056,0.064,0.016,0.024,0.008,-0.072,0.064,0.0,-0.072,0.0,0.032,-0.016,0.024,0.016,0.0,-0.048,-0.016,-0.04,0.064,0.0,0.016,-0.112,0.032,0.008,0.112,-0.024,0.008,0.048,0.056,-0.056,-0.024,0.032,0.04,-0.144,-0.048,0.088,0.08,0.056,0.064,-0.056,-0.016,-0.072,0.064,0.04,-0.096,-0.096,-0.04,0.0,0.0,-0.088,0.104,-0.048,-0.064,0.088,0.016,0.008,-0.072,-0.016,-0.136,-0.072,0.112,-0.08,-0.056,-0.096,0.0],\"yaxis\":\"y\",\"type\":\"scatter\"},{\"hovertemplate\":\"variable=eps=0.30<br>Games played=%{x}<br>value=%{y}<extra></extra>\",\"legendgroup\":\"eps=0.30\",\"line\":{\"color\":\"#ab63fa\",\"dash\":\"solid\"},\"marker\":{\"symbol\":\"circle\"},\"mode\":\"lines\",\"name\":\"eps=0.30\",\"orientation\":\"v\",\"showlegend\":true,\"x\":[250,500,750,1000,1250,1500,1750,2000,2250,2500,2750,3000,3250,3500,3750,4000,4250,4500,4750,5000,5250,5500,5750,6000,6250,6500,6750,7000,7250,7500,7750,8000,8250,8500,8750,9000,9250,9500,9750,10000,10250,10500,10750,11000,11250,11500,11750,12000,12250,12500,12750,13000,13250,13500,13750,14000,14250,14500,14750,15000,15250,15500,15750,16000,16250,16500,16750,17000,17250,17500,17750,18000,18250,18500,18750,19000,19250,19500,19750],\"xaxis\":\"x\",\"y\":[0.01195219123505976,0.008,0.096,0.072,-0.08,-0.048,0.0,-0.056,-0.008,-0.008,0.016,0.072,-0.008,-0.008,0.048,0.0,0.096,-0.024,-0.016,0.048,0.024,0.088,0.024,-0.072,-0.072,-0.04,0.064,0.072,0.08,0.08,0.152,-0.056,-0.008,-0.056,0.024,0.008,-0.104,0.064,0.0,-0.064,-0.056,-0.048,0.096,0.016,0.0,0.08,0.032,0.112,0.0,-0.096,0.104,-0.048,-0.112,-0.032,0.136,0.064,-0.024,0.04,-0.008,0.056,-0.016,-0.064,-0.04,-0.088,-0.008,-0.048,-0.104,0.072,-0.024,0.008,0.016,-0.008,-0.056,-0.064,0.008,0.008,0.008,0.128,0.04],\"yaxis\":\"y\",\"type\":\"scatter\"},{\"hovertemplate\":\"variable=eps=0.40<br>Games played=%{x}<br>value=%{y}<extra></extra>\",\"legendgroup\":\"eps=0.40\",\"line\":{\"color\":\"#FFA15A\",\"dash\":\"solid\"},\"marker\":{\"symbol\":\"circle\"},\"mode\":\"lines\",\"name\":\"eps=0.40\",\"orientation\":\"v\",\"showlegend\":true,\"x\":[250,500,750,1000,1250,1500,1750,2000,2250,2500,2750,3000,3250,3500,3750,4000,4250,4500,4750,5000,5250,5500,5750,6000,6250,6500,6750,7000,7250,7500,7750,8000,8250,8500,8750,9000,9250,9500,9750,10000,10250,10500,10750,11000,11250,11500,11750,12000,12250,12500,12750,13000,13250,13500,13750,14000,14250,14500,14750,15000,15250,15500,15750,16000,16250,16500,16750,17000,17250,17500,17750,18000,18250,18500,18750,19000,19250,19500,19750],\"xaxis\":\"x\",\"y\":[-0.0199203187250996,0.056,0.072,0.08,0.0,0.04,0.04,0.0,-0.008,0.144,0.008,-0.008,0.0,0.12,0.072,-0.016,-0.088,-0.056,-0.072,0.048,0.04,0.112,-0.048,0.04,-0.008,0.072,-0.128,0.104,-0.032,0.0,-0.144,-0.04,0.064,0.088,0.048,-0.048,-0.072,-0.096,0.04,-0.072,0.056,0.032,-0.08,-0.136,0.064,-0.104,0.048,-0.056,0.0,0.0,-0.032,-0.016,-0.04,0.08,-0.128,-0.024,-0.088,0.08,0.064,0.064,-0.032,0.0,-0.016,0.016,0.136,-0.016,-0.096,0.136,0.04,0.024,0.072,0.08,0.032,-0.04,0.032,-0.088,-0.016,0.0,-0.008],\"yaxis\":\"y\",\"type\":\"scatter\"},{\"hovertemplate\":\"variable=eps=0.50<br>Games played=%{x}<br>value=%{y}<extra></extra>\",\"legendgroup\":\"eps=0.50\",\"line\":{\"color\":\"#19d3f3\",\"dash\":\"solid\"},\"marker\":{\"symbol\":\"circle\"},\"mode\":\"lines\",\"name\":\"eps=0.50\",\"orientation\":\"v\",\"showlegend\":true,\"x\":[250,500,750,1000,1250,1500,1750,2000,2250,2500,2750,3000,3250,3500,3750,4000,4250,4500,4750,5000,5250,5500,5750,6000,6250,6500,6750,7000,7250,7500,7750,8000,8250,8500,8750,9000,9250,9500,9750,10000,10250,10500,10750,11000,11250,11500,11750,12000,12250,12500,12750,13000,13250,13500,13750,14000,14250,14500,14750,15000,15250,15500,15750,16000,16250,16500,16750,17000,17250,17500,17750,18000,18250,18500,18750,19000,19250,19500,19750],\"xaxis\":\"x\",\"y\":[-0.027888446215139442,-0.072,-0.096,0.088,0.128,0.016,-0.024,-0.056,0.04,-0.064,-0.04,0.16,-0.032,-0.056,0.176,0.048,-0.128,0.08,0.0,-0.056,0.048,-0.008,-0.04,0.056,-0.032,0.032,-0.048,0.072,-0.08,-0.04,-0.024,-0.04,-0.048,-0.056,-0.008,-0.024,0.008,0.008,-0.024,0.04,0.064,-0.032,-0.016,-0.04,-0.056,0.024,0.096,-0.088,0.008,-0.016,0.032,-0.04,0.016,0.016,-0.008,0.088,0.0,-0.032,0.112,0.032,0.032,0.032,-0.04,0.032,-0.088,-0.016,0.008,0.136,0.024,0.016,0.0,0.072,0.0,-0.016,0.112,-0.032,-0.088,0.008,0.008],\"yaxis\":\"y\",\"type\":\"scatter\"},{\"hovertemplate\":\"variable=eps=0.60<br>Games played=%{x}<br>value=%{y}<extra></extra>\",\"legendgroup\":\"eps=0.60\",\"line\":{\"color\":\"#FF6692\",\"dash\":\"solid\"},\"marker\":{\"symbol\":\"circle\"},\"mode\":\"lines\",\"name\":\"eps=0.60\",\"orientation\":\"v\",\"showlegend\":true,\"x\":[250,500,750,1000,1250,1500,1750,2000,2250,2500,2750,3000,3250,3500,3750,4000,4250,4500,4750,5000,5250,5500,5750,6000,6250,6500,6750,7000,7250,7500,7750,8000,8250,8500,8750,9000,9250,9500,9750,10000,10250,10500,10750,11000,11250,11500,11750,12000,12250,12500,12750,13000,13250,13500,13750,14000,14250,14500,14750,15000,15250,15500,15750,16000,16250,16500,16750,17000,17250,17500,17750,18000,18250,18500,18750,19000,19250,19500,19750],\"xaxis\":\"x\",\"y\":[-0.06772908366533864,0.024,0.04,-0.016,-0.032,-0.072,-0.112,-0.064,-0.008,-0.032,-0.008,-0.04,-0.048,0.04,-0.016,0.104,-0.024,0.104,0.08,0.08,-0.008,-0.064,0.096,0.016,0.064,0.048,-0.04,-0.008,-0.032,-0.112,0.008,-0.088,-0.056,-0.12,0.0,-0.104,-0.144,-0.064,0.096,-0.024,-0.128,-0.088,-0.112,0.048,0.024,-0.072,0.0,-0.104,0.088,-0.104,-0.024,0.048,0.04,0.008,-0.04,0.064,-0.032,0.016,-0.064,-0.112,-0.12,-0.048,0.048,-0.032,0.0,0.088,-0.128,-0.088,0.04,-0.072,-0.072,0.064,-0.088,0.016,0.048,0.008,0.008,0.12,-0.048],\"yaxis\":\"y\",\"type\":\"scatter\"},{\"hovertemplate\":\"variable=eps=0.70<br>Games played=%{x}<br>value=%{y}<extra></extra>\",\"legendgroup\":\"eps=0.70\",\"line\":{\"color\":\"#B6E880\",\"dash\":\"solid\"},\"marker\":{\"symbol\":\"circle\"},\"mode\":\"lines\",\"name\":\"eps=0.70\",\"orientation\":\"v\",\"showlegend\":true,\"x\":[250,500,750,1000,1250,1500,1750,2000,2250,2500,2750,3000,3250,3500,3750,4000,4250,4500,4750,5000,5250,5500,5750,6000,6250,6500,6750,7000,7250,7500,7750,8000,8250,8500,8750,9000,9250,9500,9750,10000,10250,10500,10750,11000,11250,11500,11750,12000,12250,12500,12750,13000,13250,13500,13750,14000,14250,14500,14750,15000,15250,15500,15750,16000,16250,16500,16750,17000,17250,17500,17750,18000,18250,18500,18750,19000,19250,19500,19750],\"xaxis\":\"x\",\"y\":[0.027888446215139442,-0.112,0.08,-0.088,0.104,-0.056,-0.024,-0.12,-0.032,0.064,-0.072,-0.112,0.12,0.016,0.064,-0.024,0.048,0.024,0.024,-0.024,0.144,-0.008,0.008,-0.064,0.064,0.072,0.064,0.008,0.064,0.0,-0.056,0.008,0.04,-0.128,-0.008,-0.016,0.128,-0.104,-0.048,0.024,0.088,0.008,0.056,0.04,0.088,0.032,0.024,-0.024,0.088,-0.048,0.168,-0.024,-0.048,0.032,-0.112,0.056,0.04,-0.016,-0.008,-0.072,-0.056,-0.056,-0.08,0.0,-0.04,-0.088,-0.088,-0.04,0.056,0.12,-0.12,-0.08,-0.016,-0.048,0.048,-0.056,-0.08,0.008,0.0],\"yaxis\":\"y\",\"type\":\"scatter\"},{\"hovertemplate\":\"variable=eps=0.80<br>Games played=%{x}<br>value=%{y}<extra></extra>\",\"legendgroup\":\"eps=0.80\",\"line\":{\"color\":\"#FF97FF\",\"dash\":\"solid\"},\"marker\":{\"symbol\":\"circle\"},\"mode\":\"lines\",\"name\":\"eps=0.80\",\"orientation\":\"v\",\"showlegend\":true,\"x\":[250,500,750,1000,1250,1500,1750,2000,2250,2500,2750,3000,3250,3500,3750,4000,4250,4500,4750,5000,5250,5500,5750,6000,6250,6500,6750,7000,7250,7500,7750,8000,8250,8500,8750,9000,9250,9500,9750,10000,10250,10500,10750,11000,11250,11500,11750,12000,12250,12500,12750,13000,13250,13500,13750,14000,14250,14500,14750,15000,15250,15500,15750,16000,16250,16500,16750,17000,17250,17500,17750,18000,18250,18500,18750,19000,19250,19500,19750],\"xaxis\":\"x\",\"y\":[0.12350597609561753,-0.008,0.032,-0.04,-0.096,0.08,-0.032,-0.064,0.024,-0.064,0.072,0.04,0.04,0.0,0.048,0.12,-0.04,-0.088,0.088,0.016,-0.056,-0.04,-0.032,0.04,0.112,0.08,-0.024,0.008,-0.08,-0.008,-0.056,0.056,-0.064,0.008,0.008,-0.016,0.0,0.08,0.144,0.088,0.072,-0.072,-0.008,0.032,-0.024,0.064,0.08,0.008,-0.056,0.088,0.008,-0.088,0.144,0.024,-0.064,0.0,0.008,-0.168,0.032,0.08,0.128,0.056,0.136,-0.008,-0.024,0.128,0.048,-0.056,-0.008,-0.04,-0.008,0.056,0.024,-0.064,0.096,0.08,0.032,-0.136,0.024],\"yaxis\":\"y\",\"type\":\"scatter\"},{\"hovertemplate\":\"variable=eps=0.90<br>Games played=%{x}<br>value=%{y}<extra></extra>\",\"legendgroup\":\"eps=0.90\",\"line\":{\"color\":\"#FECB52\",\"dash\":\"solid\"},\"marker\":{\"symbol\":\"circle\"},\"mode\":\"lines\",\"name\":\"eps=0.90\",\"orientation\":\"v\",\"showlegend\":true,\"x\":[250,500,750,1000,1250,1500,1750,2000,2250,2500,2750,3000,3250,3500,3750,4000,4250,4500,4750,5000,5250,5500,5750,6000,6250,6500,6750,7000,7250,7500,7750,8000,8250,8500,8750,9000,9250,9500,9750,10000,10250,10500,10750,11000,11250,11500,11750,12000,12250,12500,12750,13000,13250,13500,13750,14000,14250,14500,14750,15000,15250,15500,15750,16000,16250,16500,16750,17000,17250,17500,17750,18000,18250,18500,18750,19000,19250,19500,19750],\"xaxis\":\"x\",\"y\":[-0.00398406374501992,0.128,0.0,0.0,0.04,0.072,-0.016,0.128,0.024,0.048,-0.048,0.016,0.064,0.112,0.024,-0.08,-0.04,-0.048,-0.032,-0.008,-0.016,0.032,0.016,-0.056,0.008,-0.016,-0.08,-0.056,-0.04,-0.064,0.016,0.0,0.064,0.056,0.0,-0.048,0.0,0.032,0.16,-0.04,-0.04,-0.008,0.008,0.048,0.064,-0.008,0.048,0.008,-0.096,0.04,0.056,-0.096,0.128,0.016,-0.056,0.008,-0.104,0.064,0.008,-0.064,0.008,0.08,0.048,0.032,-0.136,0.008,-0.032,0.048,0.056,-0.064,-0.048,-0.056,-0.04,-0.096,-0.072,0.112,-0.112,-0.056,0.056],\"yaxis\":\"y\",\"type\":\"scatter\"},{\"hovertemplate\":\"variable=eps=1.00<br>Games played=%{x}<br>value=%{y}<extra></extra>\",\"legendgroup\":\"eps=1.00\",\"line\":{\"color\":\"#636efa\",\"dash\":\"solid\"},\"marker\":{\"symbol\":\"circle\"},\"mode\":\"lines\",\"name\":\"eps=1.00\",\"orientation\":\"v\",\"showlegend\":true,\"x\":[250,500,750,1000,1250,1500,1750,2000,2250,2500,2750,3000,3250,3500,3750,4000,4250,4500,4750,5000,5250,5500,5750,6000,6250,6500,6750,7000,7250,7500,7750,8000,8250,8500,8750,9000,9250,9500,9750,10000,10250,10500,10750,11000,11250,11500,11750,12000,12250,12500,12750,13000,13250,13500,13750,14000,14250,14500,14750,15000,15250,15500,15750,16000,16250,16500,16750,17000,17250,17500,17750,18000,18250,18500,18750,19000,19250,19500,19750],\"xaxis\":\"x\",\"y\":[-0.0199203187250996,-0.056,-0.032,0.048,0.056,-0.064,-0.064,0.064,-0.12,-0.128,-0.016,-0.04,0.136,0.08,0.0,0.088,-0.08,0.048,0.008,0.112,-0.032,0.072,-0.048,0.088,0.056,0.04,0.096,-0.016,0.072,0.0,-0.128,-0.064,-0.152,0.016,-0.056,0.032,-0.08,0.016,-0.032,-0.048,0.008,-0.048,-0.008,0.04,-0.08,0.048,-0.016,0.024,-0.032,0.0,0.008,0.08,0.048,-0.096,-0.016,-0.016,-0.072,0.104,0.08,0.016,-0.096,0.032,0.064,-0.032,0.056,-0.088,0.064,-0.128,-0.04,-0.04,0.024,-0.096,-0.008,0.032,0.048,0.032,0.008,-0.016,-0.016],\"yaxis\":\"y\",\"type\":\"scatter\"}],                        {\"template\":{\"data\":{\"histogram2dcontour\":[{\"type\":\"histogram2dcontour\",\"colorbar\":{\"outlinewidth\":0,\"ticks\":\"\"},\"colorscale\":[[0.0,\"#0d0887\"],[0.1111111111111111,\"#46039f\"],[0.2222222222222222,\"#7201a8\"],[0.3333333333333333,\"#9c179e\"],[0.4444444444444444,\"#bd3786\"],[0.5555555555555556,\"#d8576b\"],[0.6666666666666666,\"#ed7953\"],[0.7777777777777778,\"#fb9f3a\"],[0.8888888888888888,\"#fdca26\"],[1.0,\"#f0f921\"]]}],\"choropleth\":[{\"type\":\"choropleth\",\"colorbar\":{\"outlinewidth\":0,\"ticks\":\"\"}}],\"histogram2d\":[{\"type\":\"histogram2d\",\"colorbar\":{\"outlinewidth\":0,\"ticks\":\"\"},\"colorscale\":[[0.0,\"#0d0887\"],[0.1111111111111111,\"#46039f\"],[0.2222222222222222,\"#7201a8\"],[0.3333333333333333,\"#9c179e\"],[0.4444444444444444,\"#bd3786\"],[0.5555555555555556,\"#d8576b\"],[0.6666666666666666,\"#ed7953\"],[0.7777777777777778,\"#fb9f3a\"],[0.8888888888888888,\"#fdca26\"],[1.0,\"#f0f921\"]]}],\"heatmap\":[{\"type\":\"heatmap\",\"colorbar\":{\"outlinewidth\":0,\"ticks\":\"\"},\"colorscale\":[[0.0,\"#0d0887\"],[0.1111111111111111,\"#46039f\"],[0.2222222222222222,\"#7201a8\"],[0.3333333333333333,\"#9c179e\"],[0.4444444444444444,\"#bd3786\"],[0.5555555555555556,\"#d8576b\"],[0.6666666666666666,\"#ed7953\"],[0.7777777777777778,\"#fb9f3a\"],[0.8888888888888888,\"#fdca26\"],[1.0,\"#f0f921\"]]}],\"heatmapgl\":[{\"type\":\"heatmapgl\",\"colorbar\":{\"outlinewidth\":0,\"ticks\":\"\"},\"colorscale\":[[0.0,\"#0d0887\"],[0.1111111111111111,\"#46039f\"],[0.2222222222222222,\"#7201a8\"],[0.3333333333333333,\"#9c179e\"],[0.4444444444444444,\"#bd3786\"],[0.5555555555555556,\"#d8576b\"],[0.6666666666666666,\"#ed7953\"],[0.7777777777777778,\"#fb9f3a\"],[0.8888888888888888,\"#fdca26\"],[1.0,\"#f0f921\"]]}],\"contourcarpet\":[{\"type\":\"contourcarpet\",\"colorbar\":{\"outlinewidth\":0,\"ticks\":\"\"}}],\"contour\":[{\"type\":\"contour\",\"colorbar\":{\"outlinewidth\":0,\"ticks\":\"\"},\"colorscale\":[[0.0,\"#0d0887\"],[0.1111111111111111,\"#46039f\"],[0.2222222222222222,\"#7201a8\"],[0.3333333333333333,\"#9c179e\"],[0.4444444444444444,\"#bd3786\"],[0.5555555555555556,\"#d8576b\"],[0.6666666666666666,\"#ed7953\"],[0.7777777777777778,\"#fb9f3a\"],[0.8888888888888888,\"#fdca26\"],[1.0,\"#f0f921\"]]}],\"surface\":[{\"type\":\"surface\",\"colorbar\":{\"outlinewidth\":0,\"ticks\":\"\"},\"colorscale\":[[0.0,\"#0d0887\"],[0.1111111111111111,\"#46039f\"],[0.2222222222222222,\"#7201a8\"],[0.3333333333333333,\"#9c179e\"],[0.4444444444444444,\"#bd3786\"],[0.5555555555555556,\"#d8576b\"],[0.6666666666666666,\"#ed7953\"],[0.7777777777777778,\"#fb9f3a\"],[0.8888888888888888,\"#fdca26\"],[1.0,\"#f0f921\"]]}],\"mesh3d\":[{\"type\":\"mesh3d\",\"colorbar\":{\"outlinewidth\":0,\"ticks\":\"\"}}],\"scatter\":[{\"fillpattern\":{\"fillmode\":\"overlay\",\"size\":10,\"solidity\":0.2},\"type\":\"scatter\"}],\"parcoords\":[{\"type\":\"parcoords\",\"line\":{\"colorbar\":{\"outlinewidth\":0,\"ticks\":\"\"}}}],\"scatterpolargl\":[{\"type\":\"scatterpolargl\",\"marker\":{\"colorbar\":{\"outlinewidth\":0,\"ticks\":\"\"}}}],\"bar\":[{\"error_x\":{\"color\":\"#2a3f5f\"},\"error_y\":{\"color\":\"#2a3f5f\"},\"marker\":{\"line\":{\"color\":\"#E5ECF6\",\"width\":0.5},\"pattern\":{\"fillmode\":\"overlay\",\"size\":10,\"solidity\":0.2}},\"type\":\"bar\"}],\"scattergeo\":[{\"type\":\"scattergeo\",\"marker\":{\"colorbar\":{\"outlinewidth\":0,\"ticks\":\"\"}}}],\"scatterpolar\":[{\"type\":\"scatterpolar\",\"marker\":{\"colorbar\":{\"outlinewidth\":0,\"ticks\":\"\"}}}],\"histogram\":[{\"marker\":{\"pattern\":{\"fillmode\":\"overlay\",\"size\":10,\"solidity\":0.2}},\"type\":\"histogram\"}],\"scattergl\":[{\"type\":\"scattergl\",\"marker\":{\"colorbar\":{\"outlinewidth\":0,\"ticks\":\"\"}}}],\"scatter3d\":[{\"type\":\"scatter3d\",\"line\":{\"colorbar\":{\"outlinewidth\":0,\"ticks\":\"\"}},\"marker\":{\"colorbar\":{\"outlinewidth\":0,\"ticks\":\"\"}}}],\"scattermapbox\":[{\"type\":\"scattermapbox\",\"marker\":{\"colorbar\":{\"outlinewidth\":0,\"ticks\":\"\"}}}],\"scatterternary\":[{\"type\":\"scatterternary\",\"marker\":{\"colorbar\":{\"outlinewidth\":0,\"ticks\":\"\"}}}],\"scattercarpet\":[{\"type\":\"scattercarpet\",\"marker\":{\"colorbar\":{\"outlinewidth\":0,\"ticks\":\"\"}}}],\"carpet\":[{\"aaxis\":{\"endlinecolor\":\"#2a3f5f\",\"gridcolor\":\"white\",\"linecolor\":\"white\",\"minorgridcolor\":\"white\",\"startlinecolor\":\"#2a3f5f\"},\"baxis\":{\"endlinecolor\":\"#2a3f5f\",\"gridcolor\":\"white\",\"linecolor\":\"white\",\"minorgridcolor\":\"white\",\"startlinecolor\":\"#2a3f5f\"},\"type\":\"carpet\"}],\"table\":[{\"cells\":{\"fill\":{\"color\":\"#EBF0F8\"},\"line\":{\"color\":\"white\"}},\"header\":{\"fill\":{\"color\":\"#C8D4E3\"},\"line\":{\"color\":\"white\"}},\"type\":\"table\"}],\"barpolar\":[{\"marker\":{\"line\":{\"color\":\"#E5ECF6\",\"width\":0.5},\"pattern\":{\"fillmode\":\"overlay\",\"size\":10,\"solidity\":0.2}},\"type\":\"barpolar\"}],\"pie\":[{\"automargin\":true,\"type\":\"pie\"}]},\"layout\":{\"autotypenumbers\":\"strict\",\"colorway\":[\"#636efa\",\"#EF553B\",\"#00cc96\",\"#ab63fa\",\"#FFA15A\",\"#19d3f3\",\"#FF6692\",\"#B6E880\",\"#FF97FF\",\"#FECB52\"],\"font\":{\"color\":\"#2a3f5f\"},\"hovermode\":\"closest\",\"hoverlabel\":{\"align\":\"left\"},\"paper_bgcolor\":\"white\",\"plot_bgcolor\":\"#E5ECF6\",\"polar\":{\"bgcolor\":\"#E5ECF6\",\"angularaxis\":{\"gridcolor\":\"white\",\"linecolor\":\"white\",\"ticks\":\"\"},\"radialaxis\":{\"gridcolor\":\"white\",\"linecolor\":\"white\",\"ticks\":\"\"}},\"ternary\":{\"bgcolor\":\"#E5ECF6\",\"aaxis\":{\"gridcolor\":\"white\",\"linecolor\":\"white\",\"ticks\":\"\"},\"baxis\":{\"gridcolor\":\"white\",\"linecolor\":\"white\",\"ticks\":\"\"},\"caxis\":{\"gridcolor\":\"white\",\"linecolor\":\"white\",\"ticks\":\"\"}},\"coloraxis\":{\"colorbar\":{\"outlinewidth\":0,\"ticks\":\"\"}},\"colorscale\":{\"sequential\":[[0.0,\"#0d0887\"],[0.1111111111111111,\"#46039f\"],[0.2222222222222222,\"#7201a8\"],[0.3333333333333333,\"#9c179e\"],[0.4444444444444444,\"#bd3786\"],[0.5555555555555556,\"#d8576b\"],[0.6666666666666666,\"#ed7953\"],[0.7777777777777778,\"#fb9f3a\"],[0.8888888888888888,\"#fdca26\"],[1.0,\"#f0f921\"]],\"sequentialminus\":[[0.0,\"#0d0887\"],[0.1111111111111111,\"#46039f\"],[0.2222222222222222,\"#7201a8\"],[0.3333333333333333,\"#9c179e\"],[0.4444444444444444,\"#bd3786\"],[0.5555555555555556,\"#d8576b\"],[0.6666666666666666,\"#ed7953\"],[0.7777777777777778,\"#fb9f3a\"],[0.8888888888888888,\"#fdca26\"],[1.0,\"#f0f921\"]],\"diverging\":[[0,\"#8e0152\"],[0.1,\"#c51b7d\"],[0.2,\"#de77ae\"],[0.3,\"#f1b6da\"],[0.4,\"#fde0ef\"],[0.5,\"#f7f7f7\"],[0.6,\"#e6f5d0\"],[0.7,\"#b8e186\"],[0.8,\"#7fbc41\"],[0.9,\"#4d9221\"],[1,\"#276419\"]]},\"xaxis\":{\"gridcolor\":\"white\",\"linecolor\":\"white\",\"ticks\":\"\",\"title\":{\"standoff\":15},\"zerolinecolor\":\"white\",\"automargin\":true,\"zerolinewidth\":2},\"yaxis\":{\"gridcolor\":\"white\",\"linecolor\":\"white\",\"ticks\":\"\",\"title\":{\"standoff\":15},\"zerolinecolor\":\"white\",\"automargin\":true,\"zerolinewidth\":2},\"scene\":{\"xaxis\":{\"backgroundcolor\":\"#E5ECF6\",\"gridcolor\":\"white\",\"linecolor\":\"white\",\"showbackground\":true,\"ticks\":\"\",\"zerolinecolor\":\"white\",\"gridwidth\":2},\"yaxis\":{\"backgroundcolor\":\"#E5ECF6\",\"gridcolor\":\"white\",\"linecolor\":\"white\",\"showbackground\":true,\"ticks\":\"\",\"zerolinecolor\":\"white\",\"gridwidth\":2},\"zaxis\":{\"backgroundcolor\":\"#E5ECF6\",\"gridcolor\":\"white\",\"linecolor\":\"white\",\"showbackground\":true,\"ticks\":\"\",\"zerolinecolor\":\"white\",\"gridwidth\":2}},\"shapedefaults\":{\"line\":{\"color\":\"#2a3f5f\"}},\"annotationdefaults\":{\"arrowcolor\":\"#2a3f5f\",\"arrowhead\":0,\"arrowwidth\":1},\"geo\":{\"bgcolor\":\"white\",\"landcolor\":\"#E5ECF6\",\"subunitcolor\":\"white\",\"showland\":true,\"showlakes\":true,\"lakecolor\":\"white\"},\"title\":{\"x\":0.05},\"mapbox\":{\"style\":\"light\"}}},\"xaxis\":{\"anchor\":\"y\",\"domain\":[0.0,1.0],\"title\":{\"text\":\"Games played\"}},\"yaxis\":{\"anchor\":\"x\",\"domain\":[0.0,1.0],\"title\":{\"text\":\"Mean reward\"}},\"legend\":{\"title\":{\"text\":\"variable\"},\"tracegroupgap\":0},\"title\":{\"text\":\"Training and testing with self-learning, using different eps values\"},\"width\":800},                        {\"responsive\": true}                    ).then(function(){\n",
       "                            \n",
       "var gd = document.getElementById('47909dc9-daa7-4f07-bd26-ae88326da233');\n",
       "var x = new MutationObserver(function (mutations, observer) {{\n",
       "        var display = window.getComputedStyle(gd).display;\n",
       "        if (!display || display === 'none') {{\n",
       "            console.log([gd, 'removed!']);\n",
       "            Plotly.purge(gd);\n",
       "            observer.disconnect();\n",
       "        }}\n",
       "}});\n",
       "\n",
       "// Listen for the removal of the full notebook cells\n",
       "var notebookContainer = gd.closest('#notebook-container');\n",
       "if (notebookContainer) {{\n",
       "    x.observe(notebookContainer, {childList: true});\n",
       "}}\n",
       "\n",
       "// Listen for the clearing of the current output cell\n",
       "var outputEl = gd.closest('.output');\n",
       "if (outputEl) {{\n",
       "    x.observe(outputEl, {childList: true});\n",
       "}}\n",
       "\n",
       "                        })                };                });            </script>        </div>"
      ]
     },
     "metadata": {},
     "output_type": "display_data"
    },
    {
     "data": {
      "application/vnd.plotly.v1+json": {
       "config": {
        "plotlyServerURL": "https://plot.ly"
       },
       "data": [
        {
         "hovertemplate": "variable=eps=0.00<br>Games played=%{x}<br>value=%{y}<extra></extra>",
         "legendgroup": "eps=0.00",
         "line": {
          "color": "#636efa",
          "dash": "solid"
         },
         "marker": {
          "symbol": "circle"
         },
         "mode": "lines",
         "name": "eps=0.00",
         "orientation": "v",
         "showlegend": true,
         "type": "scatter",
         "x": [
          250,
          500,
          750,
          1000,
          1250,
          1500,
          1750,
          2000,
          2250,
          2500,
          2750,
          3000,
          3250,
          3500,
          3750,
          4000,
          4250,
          4500,
          4750,
          5000,
          5250,
          5500,
          5750,
          6000,
          6250,
          6500,
          6750,
          7000,
          7250,
          7500,
          7750,
          8000,
          8250,
          8500,
          8750,
          9000,
          9250,
          9500,
          9750,
          10000,
          10250,
          10500,
          10750,
          11000,
          11250,
          11500,
          11750,
          12000,
          12250,
          12500,
          12750,
          13000,
          13250,
          13500,
          13750,
          14000,
          14250,
          14500,
          14750,
          15000,
          15250,
          15500,
          15750,
          16000,
          16250,
          16500,
          16750,
          17000,
          17250,
          17500,
          17750,
          18000,
          18250,
          18500,
          18750,
          19000,
          19250,
          19500,
          19750
         ],
         "xaxis": "x",
         "y": [
          -0.912,
          -0.8,
          -0.748,
          -0.632,
          -0.564,
          -0.556,
          -0.476,
          -0.428,
          -0.412,
          -0.336,
          -0.3,
          -0.304,
          -0.232,
          -0.288,
          -0.256,
          -0.276,
          -0.168,
          -0.116,
          -0.148,
          -0.076,
          -0.164,
          -0.04,
          -0.088,
          -0.024,
          -0.024,
          -0.112,
          -0.064,
          -0.056,
          0.02,
          -0.028,
          0.028,
          0.016,
          -0.056,
          0.004,
          -0.004,
          0.032,
          -0.004,
          -0.016,
          0.08,
          -0.012,
          0.032,
          0,
          -0.024,
          0.008,
          -0.004,
          -0.056,
          -0.052,
          0,
          -0.028,
          0.012,
          -0.024,
          -0.056,
          -0.016,
          0,
          0.056,
          -0.028,
          -0.02,
          0.008,
          0.036,
          0.088,
          0.028,
          -0.052,
          0.008,
          0.024,
          0.02,
          0.004,
          0.008,
          0.048,
          -0.008,
          -0.048,
          0.06,
          0.016,
          0.036,
          -0.032,
          0.008,
          0.016,
          -0.012,
          -0.024,
          0.08
         ],
         "yaxis": "y"
        },
        {
         "hovertemplate": "variable=eps=0.10<br>Games played=%{x}<br>value=%{y}<extra></extra>",
         "legendgroup": "eps=0.10",
         "line": {
          "color": "#EF553B",
          "dash": "solid"
         },
         "marker": {
          "symbol": "circle"
         },
         "mode": "lines",
         "name": "eps=0.10",
         "orientation": "v",
         "showlegend": true,
         "type": "scatter",
         "x": [
          250,
          500,
          750,
          1000,
          1250,
          1500,
          1750,
          2000,
          2250,
          2500,
          2750,
          3000,
          3250,
          3500,
          3750,
          4000,
          4250,
          4500,
          4750,
          5000,
          5250,
          5500,
          5750,
          6000,
          6250,
          6500,
          6750,
          7000,
          7250,
          7500,
          7750,
          8000,
          8250,
          8500,
          8750,
          9000,
          9250,
          9500,
          9750,
          10000,
          10250,
          10500,
          10750,
          11000,
          11250,
          11500,
          11750,
          12000,
          12250,
          12500,
          12750,
          13000,
          13250,
          13500,
          13750,
          14000,
          14250,
          14500,
          14750,
          15000,
          15250,
          15500,
          15750,
          16000,
          16250,
          16500,
          16750,
          17000,
          17250,
          17500,
          17750,
          18000,
          18250,
          18500,
          18750,
          19000,
          19250,
          19500,
          19750
         ],
         "xaxis": "x",
         "y": [
          -0.916,
          -0.872,
          -0.804,
          -0.812,
          -0.78,
          -0.692,
          -0.72,
          -0.604,
          -0.604,
          -0.568,
          -0.552,
          -0.448,
          -0.424,
          -0.352,
          -0.248,
          -0.324,
          -0.264,
          -0.252,
          -0.232,
          -0.256,
          -0.152,
          -0.228,
          -0.256,
          -0.164,
          -0.24,
          -0.148,
          -0.14,
          -0.124,
          -0.128,
          -0.164,
          -0.084,
          -0.056,
          -0.1,
          -0.008,
          -0.048,
          -0.108,
          -0.04,
          -0.024,
          -0.096,
          -0.052,
          -0.072,
          0,
          -0.06,
          -0.04,
          -0.036,
          -0.092,
          -0.072,
          -0.016,
          -0.06,
          -0.036,
          -0.016,
          -0.096,
          -0.032,
          -0.008,
          -0.052,
          -0.016,
          0.024,
          -0.02,
          -0.012,
          0.02,
          0.012,
          -0.06,
          -0.016,
          0.044,
          -0.04,
          -0.052,
          -0.032,
          -0.076,
          -0.02,
          0.044,
          0.028,
          -0.04,
          0,
          -0.008,
          -0.004,
          -0.06,
          0,
          -0.052,
          -0.012
         ],
         "yaxis": "y"
        },
        {
         "hovertemplate": "variable=eps=0.20<br>Games played=%{x}<br>value=%{y}<extra></extra>",
         "legendgroup": "eps=0.20",
         "line": {
          "color": "#00cc96",
          "dash": "solid"
         },
         "marker": {
          "symbol": "circle"
         },
         "mode": "lines",
         "name": "eps=0.20",
         "orientation": "v",
         "showlegend": true,
         "type": "scatter",
         "x": [
          250,
          500,
          750,
          1000,
          1250,
          1500,
          1750,
          2000,
          2250,
          2500,
          2750,
          3000,
          3250,
          3500,
          3750,
          4000,
          4250,
          4500,
          4750,
          5000,
          5250,
          5500,
          5750,
          6000,
          6250,
          6500,
          6750,
          7000,
          7250,
          7500,
          7750,
          8000,
          8250,
          8500,
          8750,
          9000,
          9250,
          9500,
          9750,
          10000,
          10250,
          10500,
          10750,
          11000,
          11250,
          11500,
          11750,
          12000,
          12250,
          12500,
          12750,
          13000,
          13250,
          13500,
          13750,
          14000,
          14250,
          14500,
          14750,
          15000,
          15250,
          15500,
          15750,
          16000,
          16250,
          16500,
          16750,
          17000,
          17250,
          17500,
          17750,
          18000,
          18250,
          18500,
          18750,
          19000,
          19250,
          19500,
          19750
         ],
         "xaxis": "x",
         "y": [
          -0.976,
          -0.964,
          -0.936,
          -0.876,
          -0.872,
          -0.776,
          -0.74,
          -0.728,
          -0.696,
          -0.768,
          -0.66,
          -0.584,
          -0.62,
          -0.58,
          -0.512,
          -0.556,
          -0.532,
          -0.552,
          -0.544,
          -0.452,
          -0.44,
          -0.492,
          -0.452,
          -0.496,
          -0.428,
          -0.432,
          -0.368,
          -0.376,
          -0.448,
          -0.388,
          -0.464,
          -0.408,
          -0.372,
          -0.356,
          -0.456,
          -0.448,
          -0.396,
          -0.432,
          -0.32,
          -0.384,
          -0.336,
          -0.428,
          -0.372,
          -0.32,
          -0.316,
          -0.308,
          -0.38,
          -0.36,
          -0.272,
          -0.324,
          -0.332,
          -0.28,
          -0.312,
          -0.348,
          -0.248,
          -0.252,
          -0.3,
          -0.232,
          -0.296,
          -0.2,
          -0.264,
          -0.288,
          -0.2,
          -0.204,
          -0.256,
          -0.276,
          -0.184,
          -0.164,
          -0.224,
          -0.272,
          -0.216,
          -0.204,
          -0.224,
          -0.264,
          -0.152,
          -0.16,
          -0.3,
          -0.196,
          -0.172
         ],
         "yaxis": "y"
        },
        {
         "hovertemplate": "variable=eps=0.30<br>Games played=%{x}<br>value=%{y}<extra></extra>",
         "legendgroup": "eps=0.30",
         "line": {
          "color": "#ab63fa",
          "dash": "solid"
         },
         "marker": {
          "symbol": "circle"
         },
         "mode": "lines",
         "name": "eps=0.30",
         "orientation": "v",
         "showlegend": true,
         "type": "scatter",
         "x": [
          250,
          500,
          750,
          1000,
          1250,
          1500,
          1750,
          2000,
          2250,
          2500,
          2750,
          3000,
          3250,
          3500,
          3750,
          4000,
          4250,
          4500,
          4750,
          5000,
          5250,
          5500,
          5750,
          6000,
          6250,
          6500,
          6750,
          7000,
          7250,
          7500,
          7750,
          8000,
          8250,
          8500,
          8750,
          9000,
          9250,
          9500,
          9750,
          10000,
          10250,
          10500,
          10750,
          11000,
          11250,
          11500,
          11750,
          12000,
          12250,
          12500,
          12750,
          13000,
          13250,
          13500,
          13750,
          14000,
          14250,
          14500,
          14750,
          15000,
          15250,
          15500,
          15750,
          16000,
          16250,
          16500,
          16750,
          17000,
          17250,
          17500,
          17750,
          18000,
          18250,
          18500,
          18750,
          19000,
          19250,
          19500,
          19750
         ],
         "xaxis": "x",
         "y": [
          -0.98,
          -0.968,
          -0.868,
          -0.884,
          -0.84,
          -0.864,
          -0.86,
          -0.86,
          -0.836,
          -0.808,
          -0.808,
          -0.812,
          -0.8,
          -0.788,
          -0.708,
          -0.648,
          -0.724,
          -0.708,
          -0.732,
          -0.712,
          -0.692,
          -0.692,
          -0.692,
          -0.68,
          -0.62,
          -0.648,
          -0.716,
          -0.668,
          -0.672,
          -0.72,
          -0.612,
          -0.616,
          -0.628,
          -0.632,
          -0.604,
          -0.616,
          -0.652,
          -0.596,
          -0.572,
          -0.584,
          -0.7,
          -0.604,
          -0.532,
          -0.568,
          -0.596,
          -0.584,
          -0.544,
          -0.532,
          -0.536,
          -0.544,
          -0.572,
          -0.54,
          -0.576,
          -0.616,
          -0.504,
          -0.496,
          -0.544,
          -0.54,
          -0.508,
          -0.544,
          -0.484,
          -0.508,
          -0.632,
          -0.536,
          -0.516,
          -0.44,
          -0.524,
          -0.496,
          -0.444,
          -0.52,
          -0.5,
          -0.512,
          -0.5,
          -0.492,
          -0.512,
          -0.492,
          -0.44,
          -0.42,
          -0.416
         ],
         "yaxis": "y"
        },
        {
         "hovertemplate": "variable=eps=0.40<br>Games played=%{x}<br>value=%{y}<extra></extra>",
         "legendgroup": "eps=0.40",
         "line": {
          "color": "#FFA15A",
          "dash": "solid"
         },
         "marker": {
          "symbol": "circle"
         },
         "mode": "lines",
         "name": "eps=0.40",
         "orientation": "v",
         "showlegend": true,
         "type": "scatter",
         "x": [
          250,
          500,
          750,
          1000,
          1250,
          1500,
          1750,
          2000,
          2250,
          2500,
          2750,
          3000,
          3250,
          3500,
          3750,
          4000,
          4250,
          4500,
          4750,
          5000,
          5250,
          5500,
          5750,
          6000,
          6250,
          6500,
          6750,
          7000,
          7250,
          7500,
          7750,
          8000,
          8250,
          8500,
          8750,
          9000,
          9250,
          9500,
          9750,
          10000,
          10250,
          10500,
          10750,
          11000,
          11250,
          11500,
          11750,
          12000,
          12250,
          12500,
          12750,
          13000,
          13250,
          13500,
          13750,
          14000,
          14250,
          14500,
          14750,
          15000,
          15250,
          15500,
          15750,
          16000,
          16250,
          16500,
          16750,
          17000,
          17250,
          17500,
          17750,
          18000,
          18250,
          18500,
          18750,
          19000,
          19250,
          19500,
          19750
         ],
         "xaxis": "x",
         "y": [
          -0.976,
          -0.972,
          -0.94,
          -0.928,
          -0.94,
          -0.896,
          -0.928,
          -0.936,
          -0.904,
          -0.864,
          -0.88,
          -0.872,
          -0.864,
          -0.836,
          -0.836,
          -0.812,
          -0.84,
          -0.904,
          -0.872,
          -0.848,
          -0.808,
          -0.892,
          -0.86,
          -0.824,
          -0.872,
          -0.86,
          -0.86,
          -0.864,
          -0.82,
          -0.812,
          -0.816,
          -0.808,
          -0.82,
          -0.832,
          -0.816,
          -0.768,
          -0.808,
          -0.828,
          -0.832,
          -0.804,
          -0.776,
          -0.796,
          -0.784,
          -0.792,
          -0.808,
          -0.804,
          -0.76,
          -0.816,
          -0.756,
          -0.788,
          -0.78,
          -0.848,
          -0.796,
          -0.8,
          -0.804,
          -0.796,
          -0.804,
          -0.792,
          -0.78,
          -0.772,
          -0.752,
          -0.796,
          -0.728,
          -0.72,
          -0.74,
          -0.756,
          -0.728,
          -0.74,
          -0.708,
          -0.696,
          -0.704,
          -0.768,
          -0.728,
          -0.708,
          -0.656,
          -0.648,
          -0.684,
          -0.732,
          -0.728
         ],
         "yaxis": "y"
        },
        {
         "hovertemplate": "variable=eps=0.50<br>Games played=%{x}<br>value=%{y}<extra></extra>",
         "legendgroup": "eps=0.50",
         "line": {
          "color": "#19d3f3",
          "dash": "solid"
         },
         "marker": {
          "symbol": "circle"
         },
         "mode": "lines",
         "name": "eps=0.50",
         "orientation": "v",
         "showlegend": true,
         "type": "scatter",
         "x": [
          250,
          500,
          750,
          1000,
          1250,
          1500,
          1750,
          2000,
          2250,
          2500,
          2750,
          3000,
          3250,
          3500,
          3750,
          4000,
          4250,
          4500,
          4750,
          5000,
          5250,
          5500,
          5750,
          6000,
          6250,
          6500,
          6750,
          7000,
          7250,
          7500,
          7750,
          8000,
          8250,
          8500,
          8750,
          9000,
          9250,
          9500,
          9750,
          10000,
          10250,
          10500,
          10750,
          11000,
          11250,
          11500,
          11750,
          12000,
          12250,
          12500,
          12750,
          13000,
          13250,
          13500,
          13750,
          14000,
          14250,
          14500,
          14750,
          15000,
          15250,
          15500,
          15750,
          16000,
          16250,
          16500,
          16750,
          17000,
          17250,
          17500,
          17750,
          18000,
          18250,
          18500,
          18750,
          19000,
          19250,
          19500,
          19750
         ],
         "xaxis": "x",
         "y": [
          -0.964,
          -0.968,
          -0.948,
          -0.9,
          -0.952,
          -0.928,
          -0.94,
          -0.92,
          -0.94,
          -0.944,
          -0.932,
          -0.932,
          -0.928,
          -0.904,
          -0.908,
          -0.884,
          -0.88,
          -0.868,
          -0.94,
          -0.884,
          -0.9,
          -0.884,
          -0.884,
          -0.904,
          -0.856,
          -0.888,
          -0.888,
          -0.86,
          -0.864,
          -0.84,
          -0.844,
          -0.848,
          -0.868,
          -0.86,
          -0.864,
          -0.856,
          -0.852,
          -0.88,
          -0.852,
          -0.82,
          -0.812,
          -0.808,
          -0.86,
          -0.844,
          -0.86,
          -0.86,
          -0.84,
          -0.808,
          -0.824,
          -0.824,
          -0.804,
          -0.852,
          -0.836,
          -0.828,
          -0.832,
          -0.848,
          -0.84,
          -0.796,
          -0.804,
          -0.784,
          -0.848,
          -0.848,
          -0.74,
          -0.848,
          -0.8,
          -0.816,
          -0.796,
          -0.812,
          -0.852,
          -0.788,
          -0.832,
          -0.836,
          -0.812,
          -0.776,
          -0.792,
          -0.804,
          -0.812,
          -0.824,
          -0.816
         ],
         "yaxis": "y"
        },
        {
         "hovertemplate": "variable=eps=0.60<br>Games played=%{x}<br>value=%{y}<extra></extra>",
         "legendgroup": "eps=0.60",
         "line": {
          "color": "#FF6692",
          "dash": "solid"
         },
         "marker": {
          "symbol": "circle"
         },
         "mode": "lines",
         "name": "eps=0.60",
         "orientation": "v",
         "showlegend": true,
         "type": "scatter",
         "x": [
          250,
          500,
          750,
          1000,
          1250,
          1500,
          1750,
          2000,
          2250,
          2500,
          2750,
          3000,
          3250,
          3500,
          3750,
          4000,
          4250,
          4500,
          4750,
          5000,
          5250,
          5500,
          5750,
          6000,
          6250,
          6500,
          6750,
          7000,
          7250,
          7500,
          7750,
          8000,
          8250,
          8500,
          8750,
          9000,
          9250,
          9500,
          9750,
          10000,
          10250,
          10500,
          10750,
          11000,
          11250,
          11500,
          11750,
          12000,
          12250,
          12500,
          12750,
          13000,
          13250,
          13500,
          13750,
          14000,
          14250,
          14500,
          14750,
          15000,
          15250,
          15500,
          15750,
          16000,
          16250,
          16500,
          16750,
          17000,
          17250,
          17500,
          17750,
          18000,
          18250,
          18500,
          18750,
          19000,
          19250,
          19500,
          19750
         ],
         "xaxis": "x",
         "y": [
          -0.972,
          -0.972,
          -0.94,
          -0.94,
          -0.924,
          -0.92,
          -0.932,
          -0.912,
          -0.928,
          -0.912,
          -0.904,
          -0.92,
          -0.888,
          -0.92,
          -0.928,
          -0.9,
          -0.916,
          -0.924,
          -0.948,
          -0.908,
          -0.9,
          -0.92,
          -0.884,
          -0.932,
          -0.892,
          -0.908,
          -0.904,
          -0.864,
          -0.892,
          -0.908,
          -0.888,
          -0.896,
          -0.904,
          -0.876,
          -0.86,
          -0.856,
          -0.904,
          -0.9,
          -0.864,
          -0.884,
          -0.892,
          -0.888,
          -0.868,
          -0.844,
          -0.848,
          -0.9,
          -0.852,
          -0.856,
          -0.824,
          -0.876,
          -0.836,
          -0.884,
          -0.876,
          -0.868,
          -0.864,
          -0.88,
          -0.848,
          -0.864,
          -0.84,
          -0.856,
          -0.836,
          -0.864,
          -0.86,
          -0.832,
          -0.84,
          -0.832,
          -0.856,
          -0.808,
          -0.864,
          -0.832,
          -0.844,
          -0.792,
          -0.852,
          -0.848,
          -0.856,
          -0.844,
          -0.868,
          -0.84,
          -0.816
         ],
         "yaxis": "y"
        },
        {
         "hovertemplate": "variable=eps=0.70<br>Games played=%{x}<br>value=%{y}<extra></extra>",
         "legendgroup": "eps=0.70",
         "line": {
          "color": "#B6E880",
          "dash": "solid"
         },
         "marker": {
          "symbol": "circle"
         },
         "mode": "lines",
         "name": "eps=0.70",
         "orientation": "v",
         "showlegend": true,
         "type": "scatter",
         "x": [
          250,
          500,
          750,
          1000,
          1250,
          1500,
          1750,
          2000,
          2250,
          2500,
          2750,
          3000,
          3250,
          3500,
          3750,
          4000,
          4250,
          4500,
          4750,
          5000,
          5250,
          5500,
          5750,
          6000,
          6250,
          6500,
          6750,
          7000,
          7250,
          7500,
          7750,
          8000,
          8250,
          8500,
          8750,
          9000,
          9250,
          9500,
          9750,
          10000,
          10250,
          10500,
          10750,
          11000,
          11250,
          11500,
          11750,
          12000,
          12250,
          12500,
          12750,
          13000,
          13250,
          13500,
          13750,
          14000,
          14250,
          14500,
          14750,
          15000,
          15250,
          15500,
          15750,
          16000,
          16250,
          16500,
          16750,
          17000,
          17250,
          17500,
          17750,
          18000,
          18250,
          18500,
          18750,
          19000,
          19250,
          19500,
          19750
         ],
         "xaxis": "x",
         "y": [
          -0.992,
          -0.984,
          -0.96,
          -0.964,
          -0.964,
          -0.984,
          -0.948,
          -0.952,
          -0.936,
          -0.948,
          -0.972,
          -0.948,
          -0.928,
          -0.956,
          -0.972,
          -0.952,
          -0.96,
          -0.948,
          -0.92,
          -0.94,
          -0.944,
          -0.928,
          -0.976,
          -0.936,
          -0.948,
          -0.956,
          -0.928,
          -0.952,
          -0.94,
          -0.908,
          -0.944,
          -0.908,
          -0.924,
          -0.94,
          -0.904,
          -0.924,
          -0.892,
          -0.928,
          -0.908,
          -0.908,
          -0.928,
          -0.952,
          -0.904,
          -0.912,
          -0.904,
          -0.928,
          -0.92,
          -0.916,
          -0.916,
          -0.888,
          -0.916,
          -0.916,
          -0.88,
          -0.896,
          -0.912,
          -0.92,
          -0.888,
          -0.916,
          -0.872,
          -0.876,
          -0.884,
          -0.872,
          -0.852,
          -0.912,
          -0.896,
          -0.896,
          -0.888,
          -0.912,
          -0.912,
          -0.884,
          -0.872,
          -0.876,
          -0.832,
          -0.88,
          -0.872,
          -0.852,
          -0.892,
          -0.84,
          -0.852
         ],
         "yaxis": "y"
        },
        {
         "hovertemplate": "variable=eps=0.80<br>Games played=%{x}<br>value=%{y}<extra></extra>",
         "legendgroup": "eps=0.80",
         "line": {
          "color": "#FF97FF",
          "dash": "solid"
         },
         "marker": {
          "symbol": "circle"
         },
         "mode": "lines",
         "name": "eps=0.80",
         "orientation": "v",
         "showlegend": true,
         "type": "scatter",
         "x": [
          250,
          500,
          750,
          1000,
          1250,
          1500,
          1750,
          2000,
          2250,
          2500,
          2750,
          3000,
          3250,
          3500,
          3750,
          4000,
          4250,
          4500,
          4750,
          5000,
          5250,
          5500,
          5750,
          6000,
          6250,
          6500,
          6750,
          7000,
          7250,
          7500,
          7750,
          8000,
          8250,
          8500,
          8750,
          9000,
          9250,
          9500,
          9750,
          10000,
          10250,
          10500,
          10750,
          11000,
          11250,
          11500,
          11750,
          12000,
          12250,
          12500,
          12750,
          13000,
          13250,
          13500,
          13750,
          14000,
          14250,
          14500,
          14750,
          15000,
          15250,
          15500,
          15750,
          16000,
          16250,
          16500,
          16750,
          17000,
          17250,
          17500,
          17750,
          18000,
          18250,
          18500,
          18750,
          19000,
          19250,
          19500,
          19750
         ],
         "xaxis": "x",
         "y": [
          -0.968,
          -1,
          -0.992,
          -0.952,
          -0.98,
          -0.94,
          -0.944,
          -0.968,
          -0.952,
          -0.972,
          -0.928,
          -0.964,
          -0.924,
          -0.952,
          -0.964,
          -0.964,
          -0.936,
          -0.948,
          -0.956,
          -0.972,
          -0.972,
          -0.976,
          -0.944,
          -0.956,
          -0.932,
          -0.96,
          -0.94,
          -0.956,
          -0.956,
          -0.98,
          -0.956,
          -0.976,
          -0.968,
          -0.964,
          -0.936,
          -0.948,
          -0.94,
          -0.956,
          -0.94,
          -0.948,
          -0.944,
          -0.944,
          -0.98,
          -0.936,
          -0.952,
          -0.948,
          -0.94,
          -0.952,
          -0.952,
          -0.924,
          -0.92,
          -0.908,
          -0.908,
          -0.94,
          -0.9,
          -0.908,
          -0.936,
          -0.916,
          -0.908,
          -0.924,
          -0.896,
          -0.932,
          -0.908,
          -0.896,
          -0.916,
          -0.892,
          -0.904,
          -0.932,
          -0.908,
          -0.876,
          -0.916,
          -0.888,
          -0.896,
          -0.928,
          -0.856,
          -0.892,
          -0.884,
          -0.884,
          -0.864
         ],
         "yaxis": "y"
        },
        {
         "hovertemplate": "variable=eps=0.90<br>Games played=%{x}<br>value=%{y}<extra></extra>",
         "legendgroup": "eps=0.90",
         "line": {
          "color": "#FECB52",
          "dash": "solid"
         },
         "marker": {
          "symbol": "circle"
         },
         "mode": "lines",
         "name": "eps=0.90",
         "orientation": "v",
         "showlegend": true,
         "type": "scatter",
         "x": [
          250,
          500,
          750,
          1000,
          1250,
          1500,
          1750,
          2000,
          2250,
          2500,
          2750,
          3000,
          3250,
          3500,
          3750,
          4000,
          4250,
          4500,
          4750,
          5000,
          5250,
          5500,
          5750,
          6000,
          6250,
          6500,
          6750,
          7000,
          7250,
          7500,
          7750,
          8000,
          8250,
          8500,
          8750,
          9000,
          9250,
          9500,
          9750,
          10000,
          10250,
          10500,
          10750,
          11000,
          11250,
          11500,
          11750,
          12000,
          12250,
          12500,
          12750,
          13000,
          13250,
          13500,
          13750,
          14000,
          14250,
          14500,
          14750,
          15000,
          15250,
          15500,
          15750,
          16000,
          16250,
          16500,
          16750,
          17000,
          17250,
          17500,
          17750,
          18000,
          18250,
          18500,
          18750,
          19000,
          19250,
          19500,
          19750
         ],
         "xaxis": "x",
         "y": [
          -0.996,
          -0.992,
          -0.988,
          -0.992,
          -0.996,
          -0.996,
          -0.956,
          -0.976,
          -0.984,
          -0.968,
          -0.976,
          -0.976,
          -0.968,
          -0.96,
          -0.968,
          -0.968,
          -0.988,
          -0.968,
          -0.964,
          -0.972,
          -0.976,
          -0.944,
          -0.948,
          -0.956,
          -0.976,
          -0.964,
          -0.972,
          -0.96,
          -0.96,
          -0.948,
          -0.968,
          -0.948,
          -0.964,
          -0.948,
          -0.96,
          -0.948,
          -0.932,
          -0.96,
          -0.936,
          -0.948,
          -0.944,
          -0.936,
          -0.96,
          -0.952,
          -0.956,
          -0.936,
          -0.928,
          -0.928,
          -0.924,
          -0.956,
          -0.952,
          -0.956,
          -0.948,
          -0.944,
          -0.952,
          -0.92,
          -0.968,
          -0.944,
          -0.912,
          -0.952,
          -0.928,
          -0.936,
          -0.92,
          -0.912,
          -0.956,
          -0.944,
          -0.928,
          -0.94,
          -0.96,
          -0.936,
          -0.928,
          -0.936,
          -0.936,
          -0.944,
          -0.944,
          -0.916,
          -0.92,
          -0.924,
          -0.932
         ],
         "yaxis": "y"
        },
        {
         "hovertemplate": "variable=eps=1.00<br>Games played=%{x}<br>value=%{y}<extra></extra>",
         "legendgroup": "eps=1.00",
         "line": {
          "color": "#636efa",
          "dash": "solid"
         },
         "marker": {
          "symbol": "circle"
         },
         "mode": "lines",
         "name": "eps=1.00",
         "orientation": "v",
         "showlegend": true,
         "type": "scatter",
         "x": [
          250,
          500,
          750,
          1000,
          1250,
          1500,
          1750,
          2000,
          2250,
          2500,
          2750,
          3000,
          3250,
          3500,
          3750,
          4000,
          4250,
          4500,
          4750,
          5000,
          5250,
          5500,
          5750,
          6000,
          6250,
          6500,
          6750,
          7000,
          7250,
          7500,
          7750,
          8000,
          8250,
          8500,
          8750,
          9000,
          9250,
          9500,
          9750,
          10000,
          10250,
          10500,
          10750,
          11000,
          11250,
          11500,
          11750,
          12000,
          12250,
          12500,
          12750,
          13000,
          13250,
          13500,
          13750,
          14000,
          14250,
          14500,
          14750,
          15000,
          15250,
          15500,
          15750,
          16000,
          16250,
          16500,
          16750,
          17000,
          17250,
          17500,
          17750,
          18000,
          18250,
          18500,
          18750,
          19000,
          19250,
          19500,
          19750
         ],
         "xaxis": "x",
         "y": [
          -0.968,
          -0.98,
          -0.988,
          -1,
          -0.972,
          -0.992,
          -0.992,
          -0.972,
          -0.948,
          -0.96,
          -0.964,
          -0.98,
          -0.984,
          -0.96,
          -0.968,
          -0.972,
          -0.972,
          -0.948,
          -0.964,
          -0.98,
          -0.936,
          -0.988,
          -0.96,
          -0.964,
          -0.964,
          -0.948,
          -0.948,
          -0.948,
          -0.972,
          -0.984,
          -0.948,
          -0.956,
          -0.968,
          -0.972,
          -0.948,
          -0.956,
          -0.928,
          -0.976,
          -0.944,
          -0.932,
          -0.964,
          -0.944,
          -0.944,
          -0.94,
          -0.98,
          -0.908,
          -0.944,
          -0.924,
          -0.932,
          -0.952,
          -0.98,
          -0.956,
          -0.948,
          -0.952,
          -0.948,
          -0.96,
          -0.936,
          -0.952,
          -0.952,
          -0.932,
          -0.948,
          -0.936,
          -0.948,
          -0.956,
          -0.944,
          -0.96,
          -0.928,
          -0.928,
          -0.96,
          -0.964,
          -0.936,
          -0.944,
          -0.96,
          -0.976,
          -0.956,
          -0.972,
          -0.936,
          -0.96,
          -0.948
         ],
         "yaxis": "y"
        }
       ],
       "layout": {
        "legend": {
         "title": {
          "text": "variable"
         },
         "tracegroupgap": 0
        },
        "margin": {
         "t": 60
        },
        "template": {
         "data": {
          "bar": [
           {
            "error_x": {
             "color": "#2a3f5f"
            },
            "error_y": {
             "color": "#2a3f5f"
            },
            "marker": {
             "line": {
              "color": "#E5ECF6",
              "width": 0.5
             },
             "pattern": {
              "fillmode": "overlay",
              "size": 10,
              "solidity": 0.2
             }
            },
            "type": "bar"
           }
          ],
          "barpolar": [
           {
            "marker": {
             "line": {
              "color": "#E5ECF6",
              "width": 0.5
             },
             "pattern": {
              "fillmode": "overlay",
              "size": 10,
              "solidity": 0.2
             }
            },
            "type": "barpolar"
           }
          ],
          "carpet": [
           {
            "aaxis": {
             "endlinecolor": "#2a3f5f",
             "gridcolor": "white",
             "linecolor": "white",
             "minorgridcolor": "white",
             "startlinecolor": "#2a3f5f"
            },
            "baxis": {
             "endlinecolor": "#2a3f5f",
             "gridcolor": "white",
             "linecolor": "white",
             "minorgridcolor": "white",
             "startlinecolor": "#2a3f5f"
            },
            "type": "carpet"
           }
          ],
          "choropleth": [
           {
            "colorbar": {
             "outlinewidth": 0,
             "ticks": ""
            },
            "type": "choropleth"
           }
          ],
          "contour": [
           {
            "colorbar": {
             "outlinewidth": 0,
             "ticks": ""
            },
            "colorscale": [
             [
              0,
              "#0d0887"
             ],
             [
              0.1111111111111111,
              "#46039f"
             ],
             [
              0.2222222222222222,
              "#7201a8"
             ],
             [
              0.3333333333333333,
              "#9c179e"
             ],
             [
              0.4444444444444444,
              "#bd3786"
             ],
             [
              0.5555555555555556,
              "#d8576b"
             ],
             [
              0.6666666666666666,
              "#ed7953"
             ],
             [
              0.7777777777777778,
              "#fb9f3a"
             ],
             [
              0.8888888888888888,
              "#fdca26"
             ],
             [
              1,
              "#f0f921"
             ]
            ],
            "type": "contour"
           }
          ],
          "contourcarpet": [
           {
            "colorbar": {
             "outlinewidth": 0,
             "ticks": ""
            },
            "type": "contourcarpet"
           }
          ],
          "heatmap": [
           {
            "colorbar": {
             "outlinewidth": 0,
             "ticks": ""
            },
            "colorscale": [
             [
              0,
              "#0d0887"
             ],
             [
              0.1111111111111111,
              "#46039f"
             ],
             [
              0.2222222222222222,
              "#7201a8"
             ],
             [
              0.3333333333333333,
              "#9c179e"
             ],
             [
              0.4444444444444444,
              "#bd3786"
             ],
             [
              0.5555555555555556,
              "#d8576b"
             ],
             [
              0.6666666666666666,
              "#ed7953"
             ],
             [
              0.7777777777777778,
              "#fb9f3a"
             ],
             [
              0.8888888888888888,
              "#fdca26"
             ],
             [
              1,
              "#f0f921"
             ]
            ],
            "type": "heatmap"
           }
          ],
          "heatmapgl": [
           {
            "colorbar": {
             "outlinewidth": 0,
             "ticks": ""
            },
            "colorscale": [
             [
              0,
              "#0d0887"
             ],
             [
              0.1111111111111111,
              "#46039f"
             ],
             [
              0.2222222222222222,
              "#7201a8"
             ],
             [
              0.3333333333333333,
              "#9c179e"
             ],
             [
              0.4444444444444444,
              "#bd3786"
             ],
             [
              0.5555555555555556,
              "#d8576b"
             ],
             [
              0.6666666666666666,
              "#ed7953"
             ],
             [
              0.7777777777777778,
              "#fb9f3a"
             ],
             [
              0.8888888888888888,
              "#fdca26"
             ],
             [
              1,
              "#f0f921"
             ]
            ],
            "type": "heatmapgl"
           }
          ],
          "histogram": [
           {
            "marker": {
             "pattern": {
              "fillmode": "overlay",
              "size": 10,
              "solidity": 0.2
             }
            },
            "type": "histogram"
           }
          ],
          "histogram2d": [
           {
            "colorbar": {
             "outlinewidth": 0,
             "ticks": ""
            },
            "colorscale": [
             [
              0,
              "#0d0887"
             ],
             [
              0.1111111111111111,
              "#46039f"
             ],
             [
              0.2222222222222222,
              "#7201a8"
             ],
             [
              0.3333333333333333,
              "#9c179e"
             ],
             [
              0.4444444444444444,
              "#bd3786"
             ],
             [
              0.5555555555555556,
              "#d8576b"
             ],
             [
              0.6666666666666666,
              "#ed7953"
             ],
             [
              0.7777777777777778,
              "#fb9f3a"
             ],
             [
              0.8888888888888888,
              "#fdca26"
             ],
             [
              1,
              "#f0f921"
             ]
            ],
            "type": "histogram2d"
           }
          ],
          "histogram2dcontour": [
           {
            "colorbar": {
             "outlinewidth": 0,
             "ticks": ""
            },
            "colorscale": [
             [
              0,
              "#0d0887"
             ],
             [
              0.1111111111111111,
              "#46039f"
             ],
             [
              0.2222222222222222,
              "#7201a8"
             ],
             [
              0.3333333333333333,
              "#9c179e"
             ],
             [
              0.4444444444444444,
              "#bd3786"
             ],
             [
              0.5555555555555556,
              "#d8576b"
             ],
             [
              0.6666666666666666,
              "#ed7953"
             ],
             [
              0.7777777777777778,
              "#fb9f3a"
             ],
             [
              0.8888888888888888,
              "#fdca26"
             ],
             [
              1,
              "#f0f921"
             ]
            ],
            "type": "histogram2dcontour"
           }
          ],
          "mesh3d": [
           {
            "colorbar": {
             "outlinewidth": 0,
             "ticks": ""
            },
            "type": "mesh3d"
           }
          ],
          "parcoords": [
           {
            "line": {
             "colorbar": {
              "outlinewidth": 0,
              "ticks": ""
             }
            },
            "type": "parcoords"
           }
          ],
          "pie": [
           {
            "automargin": true,
            "type": "pie"
           }
          ],
          "scatter": [
           {
            "fillpattern": {
             "fillmode": "overlay",
             "size": 10,
             "solidity": 0.2
            },
            "type": "scatter"
           }
          ],
          "scatter3d": [
           {
            "line": {
             "colorbar": {
              "outlinewidth": 0,
              "ticks": ""
             }
            },
            "marker": {
             "colorbar": {
              "outlinewidth": 0,
              "ticks": ""
             }
            },
            "type": "scatter3d"
           }
          ],
          "scattercarpet": [
           {
            "marker": {
             "colorbar": {
              "outlinewidth": 0,
              "ticks": ""
             }
            },
            "type": "scattercarpet"
           }
          ],
          "scattergeo": [
           {
            "marker": {
             "colorbar": {
              "outlinewidth": 0,
              "ticks": ""
             }
            },
            "type": "scattergeo"
           }
          ],
          "scattergl": [
           {
            "marker": {
             "colorbar": {
              "outlinewidth": 0,
              "ticks": ""
             }
            },
            "type": "scattergl"
           }
          ],
          "scattermapbox": [
           {
            "marker": {
             "colorbar": {
              "outlinewidth": 0,
              "ticks": ""
             }
            },
            "type": "scattermapbox"
           }
          ],
          "scatterpolar": [
           {
            "marker": {
             "colorbar": {
              "outlinewidth": 0,
              "ticks": ""
             }
            },
            "type": "scatterpolar"
           }
          ],
          "scatterpolargl": [
           {
            "marker": {
             "colorbar": {
              "outlinewidth": 0,
              "ticks": ""
             }
            },
            "type": "scatterpolargl"
           }
          ],
          "scatterternary": [
           {
            "marker": {
             "colorbar": {
              "outlinewidth": 0,
              "ticks": ""
             }
            },
            "type": "scatterternary"
           }
          ],
          "surface": [
           {
            "colorbar": {
             "outlinewidth": 0,
             "ticks": ""
            },
            "colorscale": [
             [
              0,
              "#0d0887"
             ],
             [
              0.1111111111111111,
              "#46039f"
             ],
             [
              0.2222222222222222,
              "#7201a8"
             ],
             [
              0.3333333333333333,
              "#9c179e"
             ],
             [
              0.4444444444444444,
              "#bd3786"
             ],
             [
              0.5555555555555556,
              "#d8576b"
             ],
             [
              0.6666666666666666,
              "#ed7953"
             ],
             [
              0.7777777777777778,
              "#fb9f3a"
             ],
             [
              0.8888888888888888,
              "#fdca26"
             ],
             [
              1,
              "#f0f921"
             ]
            ],
            "type": "surface"
           }
          ],
          "table": [
           {
            "cells": {
             "fill": {
              "color": "#EBF0F8"
             },
             "line": {
              "color": "white"
             }
            },
            "header": {
             "fill": {
              "color": "#C8D4E3"
             },
             "line": {
              "color": "white"
             }
            },
            "type": "table"
           }
          ]
         },
         "layout": {
          "annotationdefaults": {
           "arrowcolor": "#2a3f5f",
           "arrowhead": 0,
           "arrowwidth": 1
          },
          "autotypenumbers": "strict",
          "coloraxis": {
           "colorbar": {
            "outlinewidth": 0,
            "ticks": ""
           }
          },
          "colorscale": {
           "diverging": [
            [
             0,
             "#8e0152"
            ],
            [
             0.1,
             "#c51b7d"
            ],
            [
             0.2,
             "#de77ae"
            ],
            [
             0.3,
             "#f1b6da"
            ],
            [
             0.4,
             "#fde0ef"
            ],
            [
             0.5,
             "#f7f7f7"
            ],
            [
             0.6,
             "#e6f5d0"
            ],
            [
             0.7,
             "#b8e186"
            ],
            [
             0.8,
             "#7fbc41"
            ],
            [
             0.9,
             "#4d9221"
            ],
            [
             1,
             "#276419"
            ]
           ],
           "sequential": [
            [
             0,
             "#0d0887"
            ],
            [
             0.1111111111111111,
             "#46039f"
            ],
            [
             0.2222222222222222,
             "#7201a8"
            ],
            [
             0.3333333333333333,
             "#9c179e"
            ],
            [
             0.4444444444444444,
             "#bd3786"
            ],
            [
             0.5555555555555556,
             "#d8576b"
            ],
            [
             0.6666666666666666,
             "#ed7953"
            ],
            [
             0.7777777777777778,
             "#fb9f3a"
            ],
            [
             0.8888888888888888,
             "#fdca26"
            ],
            [
             1,
             "#f0f921"
            ]
           ],
           "sequentialminus": [
            [
             0,
             "#0d0887"
            ],
            [
             0.1111111111111111,
             "#46039f"
            ],
            [
             0.2222222222222222,
             "#7201a8"
            ],
            [
             0.3333333333333333,
             "#9c179e"
            ],
            [
             0.4444444444444444,
             "#bd3786"
            ],
            [
             0.5555555555555556,
             "#d8576b"
            ],
            [
             0.6666666666666666,
             "#ed7953"
            ],
            [
             0.7777777777777778,
             "#fb9f3a"
            ],
            [
             0.8888888888888888,
             "#fdca26"
            ],
            [
             1,
             "#f0f921"
            ]
           ]
          },
          "colorway": [
           "#636efa",
           "#EF553B",
           "#00cc96",
           "#ab63fa",
           "#FFA15A",
           "#19d3f3",
           "#FF6692",
           "#B6E880",
           "#FF97FF",
           "#FECB52"
          ],
          "font": {
           "color": "#2a3f5f"
          },
          "geo": {
           "bgcolor": "white",
           "lakecolor": "white",
           "landcolor": "#E5ECF6",
           "showlakes": true,
           "showland": true,
           "subunitcolor": "white"
          },
          "hoverlabel": {
           "align": "left"
          },
          "hovermode": "closest",
          "mapbox": {
           "style": "light"
          },
          "paper_bgcolor": "white",
          "plot_bgcolor": "#E5ECF6",
          "polar": {
           "angularaxis": {
            "gridcolor": "white",
            "linecolor": "white",
            "ticks": ""
           },
           "bgcolor": "#E5ECF6",
           "radialaxis": {
            "gridcolor": "white",
            "linecolor": "white",
            "ticks": ""
           }
          },
          "scene": {
           "xaxis": {
            "backgroundcolor": "#E5ECF6",
            "gridcolor": "white",
            "gridwidth": 2,
            "linecolor": "white",
            "showbackground": true,
            "ticks": "",
            "zerolinecolor": "white"
           },
           "yaxis": {
            "backgroundcolor": "#E5ECF6",
            "gridcolor": "white",
            "gridwidth": 2,
            "linecolor": "white",
            "showbackground": true,
            "ticks": "",
            "zerolinecolor": "white"
           },
           "zaxis": {
            "backgroundcolor": "#E5ECF6",
            "gridcolor": "white",
            "gridwidth": 2,
            "linecolor": "white",
            "showbackground": true,
            "ticks": "",
            "zerolinecolor": "white"
           }
          },
          "shapedefaults": {
           "line": {
            "color": "#2a3f5f"
           }
          },
          "ternary": {
           "aaxis": {
            "gridcolor": "white",
            "linecolor": "white",
            "ticks": ""
           },
           "baxis": {
            "gridcolor": "white",
            "linecolor": "white",
            "ticks": ""
           },
           "bgcolor": "#E5ECF6",
           "caxis": {
            "gridcolor": "white",
            "linecolor": "white",
            "ticks": ""
           }
          },
          "title": {
           "x": 0.05
          },
          "xaxis": {
           "automargin": true,
           "gridcolor": "white",
           "linecolor": "white",
           "ticks": "",
           "title": {
            "standoff": 15
           },
           "zerolinecolor": "white",
           "zerolinewidth": 2
          },
          "yaxis": {
           "automargin": true,
           "gridcolor": "white",
           "linecolor": "white",
           "ticks": "",
           "title": {
            "standoff": 15
           },
           "zerolinecolor": "white",
           "zerolinewidth": 2
          }
         }
        },
        "width": 800,
        "xaxis": {
         "anchor": "y",
         "domain": [
          0,
          1
         ],
         "title": {
          "text": "Games played"
         }
        },
        "yaxis": {
         "anchor": "x",
         "domain": [
          0,
          1
         ],
         "title": {
          "text": "Mopt"
         }
        }
       }
      },
      "text/html": [
       "<div>                            <div id=\"dffd2129-cfba-4032-bde6-60f4187d2d23\" class=\"plotly-graph-div\" style=\"height:525px; width:800px;\"></div>            <script type=\"text/javascript\">                require([\"plotly\"], function(Plotly) {                    window.PLOTLYENV=window.PLOTLYENV || {};                                    if (document.getElementById(\"dffd2129-cfba-4032-bde6-60f4187d2d23\")) {                    Plotly.newPlot(                        \"dffd2129-cfba-4032-bde6-60f4187d2d23\",                        [{\"hovertemplate\":\"variable=eps=0.00<br>Games played=%{x}<br>value=%{y}<extra></extra>\",\"legendgroup\":\"eps=0.00\",\"line\":{\"color\":\"#636efa\",\"dash\":\"solid\"},\"marker\":{\"symbol\":\"circle\"},\"mode\":\"lines\",\"name\":\"eps=0.00\",\"orientation\":\"v\",\"showlegend\":true,\"x\":[250,500,750,1000,1250,1500,1750,2000,2250,2500,2750,3000,3250,3500,3750,4000,4250,4500,4750,5000,5250,5500,5750,6000,6250,6500,6750,7000,7250,7500,7750,8000,8250,8500,8750,9000,9250,9500,9750,10000,10250,10500,10750,11000,11250,11500,11750,12000,12250,12500,12750,13000,13250,13500,13750,14000,14250,14500,14750,15000,15250,15500,15750,16000,16250,16500,16750,17000,17250,17500,17750,18000,18250,18500,18750,19000,19250,19500,19750],\"xaxis\":\"x\",\"y\":[-0.912,-0.8,-0.748,-0.632,-0.564,-0.556,-0.476,-0.428,-0.412,-0.336,-0.3,-0.304,-0.232,-0.288,-0.256,-0.276,-0.168,-0.116,-0.148,-0.076,-0.164,-0.04,-0.088,-0.024,-0.024,-0.112,-0.064,-0.056,0.02,-0.028,0.028,0.016,-0.056,0.004,-0.004,0.032,-0.004,-0.016,0.08,-0.012,0.032,0.0,-0.024,0.008,-0.004,-0.056,-0.052,0.0,-0.028,0.012,-0.024,-0.056,-0.016,0.0,0.056,-0.028,-0.02,0.008,0.036,0.088,0.028,-0.052,0.008,0.024,0.02,0.004,0.008,0.048,-0.008,-0.048,0.06,0.016,0.036,-0.032,0.008,0.016,-0.012,-0.024,0.08],\"yaxis\":\"y\",\"type\":\"scatter\"},{\"hovertemplate\":\"variable=eps=0.10<br>Games played=%{x}<br>value=%{y}<extra></extra>\",\"legendgroup\":\"eps=0.10\",\"line\":{\"color\":\"#EF553B\",\"dash\":\"solid\"},\"marker\":{\"symbol\":\"circle\"},\"mode\":\"lines\",\"name\":\"eps=0.10\",\"orientation\":\"v\",\"showlegend\":true,\"x\":[250,500,750,1000,1250,1500,1750,2000,2250,2500,2750,3000,3250,3500,3750,4000,4250,4500,4750,5000,5250,5500,5750,6000,6250,6500,6750,7000,7250,7500,7750,8000,8250,8500,8750,9000,9250,9500,9750,10000,10250,10500,10750,11000,11250,11500,11750,12000,12250,12500,12750,13000,13250,13500,13750,14000,14250,14500,14750,15000,15250,15500,15750,16000,16250,16500,16750,17000,17250,17500,17750,18000,18250,18500,18750,19000,19250,19500,19750],\"xaxis\":\"x\",\"y\":[-0.916,-0.872,-0.804,-0.812,-0.78,-0.692,-0.72,-0.604,-0.604,-0.568,-0.552,-0.448,-0.424,-0.352,-0.248,-0.324,-0.264,-0.252,-0.232,-0.256,-0.152,-0.228,-0.256,-0.164,-0.24,-0.148,-0.14,-0.124,-0.128,-0.164,-0.084,-0.056,-0.1,-0.008,-0.048,-0.108,-0.04,-0.024,-0.096,-0.052,-0.072,0.0,-0.06,-0.04,-0.036,-0.092,-0.072,-0.016,-0.06,-0.036,-0.016,-0.096,-0.032,-0.008,-0.052,-0.016,0.024,-0.02,-0.012,0.02,0.012,-0.06,-0.016,0.044,-0.04,-0.052,-0.032,-0.076,-0.02,0.044,0.028,-0.04,0.0,-0.008,-0.004,-0.06,0.0,-0.052,-0.012],\"yaxis\":\"y\",\"type\":\"scatter\"},{\"hovertemplate\":\"variable=eps=0.20<br>Games played=%{x}<br>value=%{y}<extra></extra>\",\"legendgroup\":\"eps=0.20\",\"line\":{\"color\":\"#00cc96\",\"dash\":\"solid\"},\"marker\":{\"symbol\":\"circle\"},\"mode\":\"lines\",\"name\":\"eps=0.20\",\"orientation\":\"v\",\"showlegend\":true,\"x\":[250,500,750,1000,1250,1500,1750,2000,2250,2500,2750,3000,3250,3500,3750,4000,4250,4500,4750,5000,5250,5500,5750,6000,6250,6500,6750,7000,7250,7500,7750,8000,8250,8500,8750,9000,9250,9500,9750,10000,10250,10500,10750,11000,11250,11500,11750,12000,12250,12500,12750,13000,13250,13500,13750,14000,14250,14500,14750,15000,15250,15500,15750,16000,16250,16500,16750,17000,17250,17500,17750,18000,18250,18500,18750,19000,19250,19500,19750],\"xaxis\":\"x\",\"y\":[-0.976,-0.964,-0.936,-0.876,-0.872,-0.776,-0.74,-0.728,-0.696,-0.768,-0.66,-0.584,-0.62,-0.58,-0.512,-0.556,-0.532,-0.552,-0.544,-0.452,-0.44,-0.492,-0.452,-0.496,-0.428,-0.432,-0.368,-0.376,-0.448,-0.388,-0.464,-0.408,-0.372,-0.356,-0.456,-0.448,-0.396,-0.432,-0.32,-0.384,-0.336,-0.428,-0.372,-0.32,-0.316,-0.308,-0.38,-0.36,-0.272,-0.324,-0.332,-0.28,-0.312,-0.348,-0.248,-0.252,-0.3,-0.232,-0.296,-0.2,-0.264,-0.288,-0.2,-0.204,-0.256,-0.276,-0.184,-0.164,-0.224,-0.272,-0.216,-0.204,-0.224,-0.264,-0.152,-0.16,-0.3,-0.196,-0.172],\"yaxis\":\"y\",\"type\":\"scatter\"},{\"hovertemplate\":\"variable=eps=0.30<br>Games played=%{x}<br>value=%{y}<extra></extra>\",\"legendgroup\":\"eps=0.30\",\"line\":{\"color\":\"#ab63fa\",\"dash\":\"solid\"},\"marker\":{\"symbol\":\"circle\"},\"mode\":\"lines\",\"name\":\"eps=0.30\",\"orientation\":\"v\",\"showlegend\":true,\"x\":[250,500,750,1000,1250,1500,1750,2000,2250,2500,2750,3000,3250,3500,3750,4000,4250,4500,4750,5000,5250,5500,5750,6000,6250,6500,6750,7000,7250,7500,7750,8000,8250,8500,8750,9000,9250,9500,9750,10000,10250,10500,10750,11000,11250,11500,11750,12000,12250,12500,12750,13000,13250,13500,13750,14000,14250,14500,14750,15000,15250,15500,15750,16000,16250,16500,16750,17000,17250,17500,17750,18000,18250,18500,18750,19000,19250,19500,19750],\"xaxis\":\"x\",\"y\":[-0.98,-0.968,-0.868,-0.884,-0.84,-0.864,-0.86,-0.86,-0.836,-0.808,-0.808,-0.812,-0.8,-0.788,-0.708,-0.648,-0.724,-0.708,-0.732,-0.712,-0.692,-0.692,-0.692,-0.68,-0.62,-0.648,-0.716,-0.668,-0.672,-0.72,-0.612,-0.616,-0.628,-0.632,-0.604,-0.616,-0.652,-0.596,-0.572,-0.584,-0.7,-0.604,-0.532,-0.568,-0.596,-0.584,-0.544,-0.532,-0.536,-0.544,-0.572,-0.54,-0.576,-0.616,-0.504,-0.496,-0.544,-0.54,-0.508,-0.544,-0.484,-0.508,-0.632,-0.536,-0.516,-0.44,-0.524,-0.496,-0.444,-0.52,-0.5,-0.512,-0.5,-0.492,-0.512,-0.492,-0.44,-0.42,-0.416],\"yaxis\":\"y\",\"type\":\"scatter\"},{\"hovertemplate\":\"variable=eps=0.40<br>Games played=%{x}<br>value=%{y}<extra></extra>\",\"legendgroup\":\"eps=0.40\",\"line\":{\"color\":\"#FFA15A\",\"dash\":\"solid\"},\"marker\":{\"symbol\":\"circle\"},\"mode\":\"lines\",\"name\":\"eps=0.40\",\"orientation\":\"v\",\"showlegend\":true,\"x\":[250,500,750,1000,1250,1500,1750,2000,2250,2500,2750,3000,3250,3500,3750,4000,4250,4500,4750,5000,5250,5500,5750,6000,6250,6500,6750,7000,7250,7500,7750,8000,8250,8500,8750,9000,9250,9500,9750,10000,10250,10500,10750,11000,11250,11500,11750,12000,12250,12500,12750,13000,13250,13500,13750,14000,14250,14500,14750,15000,15250,15500,15750,16000,16250,16500,16750,17000,17250,17500,17750,18000,18250,18500,18750,19000,19250,19500,19750],\"xaxis\":\"x\",\"y\":[-0.976,-0.972,-0.94,-0.928,-0.94,-0.896,-0.928,-0.936,-0.904,-0.864,-0.88,-0.872,-0.864,-0.836,-0.836,-0.812,-0.84,-0.904,-0.872,-0.848,-0.808,-0.892,-0.86,-0.824,-0.872,-0.86,-0.86,-0.864,-0.82,-0.812,-0.816,-0.808,-0.82,-0.832,-0.816,-0.768,-0.808,-0.828,-0.832,-0.804,-0.776,-0.796,-0.784,-0.792,-0.808,-0.804,-0.76,-0.816,-0.756,-0.788,-0.78,-0.848,-0.796,-0.8,-0.804,-0.796,-0.804,-0.792,-0.78,-0.772,-0.752,-0.796,-0.728,-0.72,-0.74,-0.756,-0.728,-0.74,-0.708,-0.696,-0.704,-0.768,-0.728,-0.708,-0.656,-0.648,-0.684,-0.732,-0.728],\"yaxis\":\"y\",\"type\":\"scatter\"},{\"hovertemplate\":\"variable=eps=0.50<br>Games played=%{x}<br>value=%{y}<extra></extra>\",\"legendgroup\":\"eps=0.50\",\"line\":{\"color\":\"#19d3f3\",\"dash\":\"solid\"},\"marker\":{\"symbol\":\"circle\"},\"mode\":\"lines\",\"name\":\"eps=0.50\",\"orientation\":\"v\",\"showlegend\":true,\"x\":[250,500,750,1000,1250,1500,1750,2000,2250,2500,2750,3000,3250,3500,3750,4000,4250,4500,4750,5000,5250,5500,5750,6000,6250,6500,6750,7000,7250,7500,7750,8000,8250,8500,8750,9000,9250,9500,9750,10000,10250,10500,10750,11000,11250,11500,11750,12000,12250,12500,12750,13000,13250,13500,13750,14000,14250,14500,14750,15000,15250,15500,15750,16000,16250,16500,16750,17000,17250,17500,17750,18000,18250,18500,18750,19000,19250,19500,19750],\"xaxis\":\"x\",\"y\":[-0.964,-0.968,-0.948,-0.9,-0.952,-0.928,-0.94,-0.92,-0.94,-0.944,-0.932,-0.932,-0.928,-0.904,-0.908,-0.884,-0.88,-0.868,-0.94,-0.884,-0.9,-0.884,-0.884,-0.904,-0.856,-0.888,-0.888,-0.86,-0.864,-0.84,-0.844,-0.848,-0.868,-0.86,-0.864,-0.856,-0.852,-0.88,-0.852,-0.82,-0.812,-0.808,-0.86,-0.844,-0.86,-0.86,-0.84,-0.808,-0.824,-0.824,-0.804,-0.852,-0.836,-0.828,-0.832,-0.848,-0.84,-0.796,-0.804,-0.784,-0.848,-0.848,-0.74,-0.848,-0.8,-0.816,-0.796,-0.812,-0.852,-0.788,-0.832,-0.836,-0.812,-0.776,-0.792,-0.804,-0.812,-0.824,-0.816],\"yaxis\":\"y\",\"type\":\"scatter\"},{\"hovertemplate\":\"variable=eps=0.60<br>Games played=%{x}<br>value=%{y}<extra></extra>\",\"legendgroup\":\"eps=0.60\",\"line\":{\"color\":\"#FF6692\",\"dash\":\"solid\"},\"marker\":{\"symbol\":\"circle\"},\"mode\":\"lines\",\"name\":\"eps=0.60\",\"orientation\":\"v\",\"showlegend\":true,\"x\":[250,500,750,1000,1250,1500,1750,2000,2250,2500,2750,3000,3250,3500,3750,4000,4250,4500,4750,5000,5250,5500,5750,6000,6250,6500,6750,7000,7250,7500,7750,8000,8250,8500,8750,9000,9250,9500,9750,10000,10250,10500,10750,11000,11250,11500,11750,12000,12250,12500,12750,13000,13250,13500,13750,14000,14250,14500,14750,15000,15250,15500,15750,16000,16250,16500,16750,17000,17250,17500,17750,18000,18250,18500,18750,19000,19250,19500,19750],\"xaxis\":\"x\",\"y\":[-0.972,-0.972,-0.94,-0.94,-0.924,-0.92,-0.932,-0.912,-0.928,-0.912,-0.904,-0.92,-0.888,-0.92,-0.928,-0.9,-0.916,-0.924,-0.948,-0.908,-0.9,-0.92,-0.884,-0.932,-0.892,-0.908,-0.904,-0.864,-0.892,-0.908,-0.888,-0.896,-0.904,-0.876,-0.86,-0.856,-0.904,-0.9,-0.864,-0.884,-0.892,-0.888,-0.868,-0.844,-0.848,-0.9,-0.852,-0.856,-0.824,-0.876,-0.836,-0.884,-0.876,-0.868,-0.864,-0.88,-0.848,-0.864,-0.84,-0.856,-0.836,-0.864,-0.86,-0.832,-0.84,-0.832,-0.856,-0.808,-0.864,-0.832,-0.844,-0.792,-0.852,-0.848,-0.856,-0.844,-0.868,-0.84,-0.816],\"yaxis\":\"y\",\"type\":\"scatter\"},{\"hovertemplate\":\"variable=eps=0.70<br>Games played=%{x}<br>value=%{y}<extra></extra>\",\"legendgroup\":\"eps=0.70\",\"line\":{\"color\":\"#B6E880\",\"dash\":\"solid\"},\"marker\":{\"symbol\":\"circle\"},\"mode\":\"lines\",\"name\":\"eps=0.70\",\"orientation\":\"v\",\"showlegend\":true,\"x\":[250,500,750,1000,1250,1500,1750,2000,2250,2500,2750,3000,3250,3500,3750,4000,4250,4500,4750,5000,5250,5500,5750,6000,6250,6500,6750,7000,7250,7500,7750,8000,8250,8500,8750,9000,9250,9500,9750,10000,10250,10500,10750,11000,11250,11500,11750,12000,12250,12500,12750,13000,13250,13500,13750,14000,14250,14500,14750,15000,15250,15500,15750,16000,16250,16500,16750,17000,17250,17500,17750,18000,18250,18500,18750,19000,19250,19500,19750],\"xaxis\":\"x\",\"y\":[-0.992,-0.984,-0.96,-0.964,-0.964,-0.984,-0.948,-0.952,-0.936,-0.948,-0.972,-0.948,-0.928,-0.956,-0.972,-0.952,-0.96,-0.948,-0.92,-0.94,-0.944,-0.928,-0.976,-0.936,-0.948,-0.956,-0.928,-0.952,-0.94,-0.908,-0.944,-0.908,-0.924,-0.94,-0.904,-0.924,-0.892,-0.928,-0.908,-0.908,-0.928,-0.952,-0.904,-0.912,-0.904,-0.928,-0.92,-0.916,-0.916,-0.888,-0.916,-0.916,-0.88,-0.896,-0.912,-0.92,-0.888,-0.916,-0.872,-0.876,-0.884,-0.872,-0.852,-0.912,-0.896,-0.896,-0.888,-0.912,-0.912,-0.884,-0.872,-0.876,-0.832,-0.88,-0.872,-0.852,-0.892,-0.84,-0.852],\"yaxis\":\"y\",\"type\":\"scatter\"},{\"hovertemplate\":\"variable=eps=0.80<br>Games played=%{x}<br>value=%{y}<extra></extra>\",\"legendgroup\":\"eps=0.80\",\"line\":{\"color\":\"#FF97FF\",\"dash\":\"solid\"},\"marker\":{\"symbol\":\"circle\"},\"mode\":\"lines\",\"name\":\"eps=0.80\",\"orientation\":\"v\",\"showlegend\":true,\"x\":[250,500,750,1000,1250,1500,1750,2000,2250,2500,2750,3000,3250,3500,3750,4000,4250,4500,4750,5000,5250,5500,5750,6000,6250,6500,6750,7000,7250,7500,7750,8000,8250,8500,8750,9000,9250,9500,9750,10000,10250,10500,10750,11000,11250,11500,11750,12000,12250,12500,12750,13000,13250,13500,13750,14000,14250,14500,14750,15000,15250,15500,15750,16000,16250,16500,16750,17000,17250,17500,17750,18000,18250,18500,18750,19000,19250,19500,19750],\"xaxis\":\"x\",\"y\":[-0.968,-1.0,-0.992,-0.952,-0.98,-0.94,-0.944,-0.968,-0.952,-0.972,-0.928,-0.964,-0.924,-0.952,-0.964,-0.964,-0.936,-0.948,-0.956,-0.972,-0.972,-0.976,-0.944,-0.956,-0.932,-0.96,-0.94,-0.956,-0.956,-0.98,-0.956,-0.976,-0.968,-0.964,-0.936,-0.948,-0.94,-0.956,-0.94,-0.948,-0.944,-0.944,-0.98,-0.936,-0.952,-0.948,-0.94,-0.952,-0.952,-0.924,-0.92,-0.908,-0.908,-0.94,-0.9,-0.908,-0.936,-0.916,-0.908,-0.924,-0.896,-0.932,-0.908,-0.896,-0.916,-0.892,-0.904,-0.932,-0.908,-0.876,-0.916,-0.888,-0.896,-0.928,-0.856,-0.892,-0.884,-0.884,-0.864],\"yaxis\":\"y\",\"type\":\"scatter\"},{\"hovertemplate\":\"variable=eps=0.90<br>Games played=%{x}<br>value=%{y}<extra></extra>\",\"legendgroup\":\"eps=0.90\",\"line\":{\"color\":\"#FECB52\",\"dash\":\"solid\"},\"marker\":{\"symbol\":\"circle\"},\"mode\":\"lines\",\"name\":\"eps=0.90\",\"orientation\":\"v\",\"showlegend\":true,\"x\":[250,500,750,1000,1250,1500,1750,2000,2250,2500,2750,3000,3250,3500,3750,4000,4250,4500,4750,5000,5250,5500,5750,6000,6250,6500,6750,7000,7250,7500,7750,8000,8250,8500,8750,9000,9250,9500,9750,10000,10250,10500,10750,11000,11250,11500,11750,12000,12250,12500,12750,13000,13250,13500,13750,14000,14250,14500,14750,15000,15250,15500,15750,16000,16250,16500,16750,17000,17250,17500,17750,18000,18250,18500,18750,19000,19250,19500,19750],\"xaxis\":\"x\",\"y\":[-0.996,-0.992,-0.988,-0.992,-0.996,-0.996,-0.956,-0.976,-0.984,-0.968,-0.976,-0.976,-0.968,-0.96,-0.968,-0.968,-0.988,-0.968,-0.964,-0.972,-0.976,-0.944,-0.948,-0.956,-0.976,-0.964,-0.972,-0.96,-0.96,-0.948,-0.968,-0.948,-0.964,-0.948,-0.96,-0.948,-0.932,-0.96,-0.936,-0.948,-0.944,-0.936,-0.96,-0.952,-0.956,-0.936,-0.928,-0.928,-0.924,-0.956,-0.952,-0.956,-0.948,-0.944,-0.952,-0.92,-0.968,-0.944,-0.912,-0.952,-0.928,-0.936,-0.92,-0.912,-0.956,-0.944,-0.928,-0.94,-0.96,-0.936,-0.928,-0.936,-0.936,-0.944,-0.944,-0.916,-0.92,-0.924,-0.932],\"yaxis\":\"y\",\"type\":\"scatter\"},{\"hovertemplate\":\"variable=eps=1.00<br>Games played=%{x}<br>value=%{y}<extra></extra>\",\"legendgroup\":\"eps=1.00\",\"line\":{\"color\":\"#636efa\",\"dash\":\"solid\"},\"marker\":{\"symbol\":\"circle\"},\"mode\":\"lines\",\"name\":\"eps=1.00\",\"orientation\":\"v\",\"showlegend\":true,\"x\":[250,500,750,1000,1250,1500,1750,2000,2250,2500,2750,3000,3250,3500,3750,4000,4250,4500,4750,5000,5250,5500,5750,6000,6250,6500,6750,7000,7250,7500,7750,8000,8250,8500,8750,9000,9250,9500,9750,10000,10250,10500,10750,11000,11250,11500,11750,12000,12250,12500,12750,13000,13250,13500,13750,14000,14250,14500,14750,15000,15250,15500,15750,16000,16250,16500,16750,17000,17250,17500,17750,18000,18250,18500,18750,19000,19250,19500,19750],\"xaxis\":\"x\",\"y\":[-0.968,-0.98,-0.988,-1.0,-0.972,-0.992,-0.992,-0.972,-0.948,-0.96,-0.964,-0.98,-0.984,-0.96,-0.968,-0.972,-0.972,-0.948,-0.964,-0.98,-0.936,-0.988,-0.96,-0.964,-0.964,-0.948,-0.948,-0.948,-0.972,-0.984,-0.948,-0.956,-0.968,-0.972,-0.948,-0.956,-0.928,-0.976,-0.944,-0.932,-0.964,-0.944,-0.944,-0.94,-0.98,-0.908,-0.944,-0.924,-0.932,-0.952,-0.98,-0.956,-0.948,-0.952,-0.948,-0.96,-0.936,-0.952,-0.952,-0.932,-0.948,-0.936,-0.948,-0.956,-0.944,-0.96,-0.928,-0.928,-0.96,-0.964,-0.936,-0.944,-0.96,-0.976,-0.956,-0.972,-0.936,-0.96,-0.948],\"yaxis\":\"y\",\"type\":\"scatter\"}],                        {\"template\":{\"data\":{\"histogram2dcontour\":[{\"type\":\"histogram2dcontour\",\"colorbar\":{\"outlinewidth\":0,\"ticks\":\"\"},\"colorscale\":[[0.0,\"#0d0887\"],[0.1111111111111111,\"#46039f\"],[0.2222222222222222,\"#7201a8\"],[0.3333333333333333,\"#9c179e\"],[0.4444444444444444,\"#bd3786\"],[0.5555555555555556,\"#d8576b\"],[0.6666666666666666,\"#ed7953\"],[0.7777777777777778,\"#fb9f3a\"],[0.8888888888888888,\"#fdca26\"],[1.0,\"#f0f921\"]]}],\"choropleth\":[{\"type\":\"choropleth\",\"colorbar\":{\"outlinewidth\":0,\"ticks\":\"\"}}],\"histogram2d\":[{\"type\":\"histogram2d\",\"colorbar\":{\"outlinewidth\":0,\"ticks\":\"\"},\"colorscale\":[[0.0,\"#0d0887\"],[0.1111111111111111,\"#46039f\"],[0.2222222222222222,\"#7201a8\"],[0.3333333333333333,\"#9c179e\"],[0.4444444444444444,\"#bd3786\"],[0.5555555555555556,\"#d8576b\"],[0.6666666666666666,\"#ed7953\"],[0.7777777777777778,\"#fb9f3a\"],[0.8888888888888888,\"#fdca26\"],[1.0,\"#f0f921\"]]}],\"heatmap\":[{\"type\":\"heatmap\",\"colorbar\":{\"outlinewidth\":0,\"ticks\":\"\"},\"colorscale\":[[0.0,\"#0d0887\"],[0.1111111111111111,\"#46039f\"],[0.2222222222222222,\"#7201a8\"],[0.3333333333333333,\"#9c179e\"],[0.4444444444444444,\"#bd3786\"],[0.5555555555555556,\"#d8576b\"],[0.6666666666666666,\"#ed7953\"],[0.7777777777777778,\"#fb9f3a\"],[0.8888888888888888,\"#fdca26\"],[1.0,\"#f0f921\"]]}],\"heatmapgl\":[{\"type\":\"heatmapgl\",\"colorbar\":{\"outlinewidth\":0,\"ticks\":\"\"},\"colorscale\":[[0.0,\"#0d0887\"],[0.1111111111111111,\"#46039f\"],[0.2222222222222222,\"#7201a8\"],[0.3333333333333333,\"#9c179e\"],[0.4444444444444444,\"#bd3786\"],[0.5555555555555556,\"#d8576b\"],[0.6666666666666666,\"#ed7953\"],[0.7777777777777778,\"#fb9f3a\"],[0.8888888888888888,\"#fdca26\"],[1.0,\"#f0f921\"]]}],\"contourcarpet\":[{\"type\":\"contourcarpet\",\"colorbar\":{\"outlinewidth\":0,\"ticks\":\"\"}}],\"contour\":[{\"type\":\"contour\",\"colorbar\":{\"outlinewidth\":0,\"ticks\":\"\"},\"colorscale\":[[0.0,\"#0d0887\"],[0.1111111111111111,\"#46039f\"],[0.2222222222222222,\"#7201a8\"],[0.3333333333333333,\"#9c179e\"],[0.4444444444444444,\"#bd3786\"],[0.5555555555555556,\"#d8576b\"],[0.6666666666666666,\"#ed7953\"],[0.7777777777777778,\"#fb9f3a\"],[0.8888888888888888,\"#fdca26\"],[1.0,\"#f0f921\"]]}],\"surface\":[{\"type\":\"surface\",\"colorbar\":{\"outlinewidth\":0,\"ticks\":\"\"},\"colorscale\":[[0.0,\"#0d0887\"],[0.1111111111111111,\"#46039f\"],[0.2222222222222222,\"#7201a8\"],[0.3333333333333333,\"#9c179e\"],[0.4444444444444444,\"#bd3786\"],[0.5555555555555556,\"#d8576b\"],[0.6666666666666666,\"#ed7953\"],[0.7777777777777778,\"#fb9f3a\"],[0.8888888888888888,\"#fdca26\"],[1.0,\"#f0f921\"]]}],\"mesh3d\":[{\"type\":\"mesh3d\",\"colorbar\":{\"outlinewidth\":0,\"ticks\":\"\"}}],\"scatter\":[{\"fillpattern\":{\"fillmode\":\"overlay\",\"size\":10,\"solidity\":0.2},\"type\":\"scatter\"}],\"parcoords\":[{\"type\":\"parcoords\",\"line\":{\"colorbar\":{\"outlinewidth\":0,\"ticks\":\"\"}}}],\"scatterpolargl\":[{\"type\":\"scatterpolargl\",\"marker\":{\"colorbar\":{\"outlinewidth\":0,\"ticks\":\"\"}}}],\"bar\":[{\"error_x\":{\"color\":\"#2a3f5f\"},\"error_y\":{\"color\":\"#2a3f5f\"},\"marker\":{\"line\":{\"color\":\"#E5ECF6\",\"width\":0.5},\"pattern\":{\"fillmode\":\"overlay\",\"size\":10,\"solidity\":0.2}},\"type\":\"bar\"}],\"scattergeo\":[{\"type\":\"scattergeo\",\"marker\":{\"colorbar\":{\"outlinewidth\":0,\"ticks\":\"\"}}}],\"scatterpolar\":[{\"type\":\"scatterpolar\",\"marker\":{\"colorbar\":{\"outlinewidth\":0,\"ticks\":\"\"}}}],\"histogram\":[{\"marker\":{\"pattern\":{\"fillmode\":\"overlay\",\"size\":10,\"solidity\":0.2}},\"type\":\"histogram\"}],\"scattergl\":[{\"type\":\"scattergl\",\"marker\":{\"colorbar\":{\"outlinewidth\":0,\"ticks\":\"\"}}}],\"scatter3d\":[{\"type\":\"scatter3d\",\"line\":{\"colorbar\":{\"outlinewidth\":0,\"ticks\":\"\"}},\"marker\":{\"colorbar\":{\"outlinewidth\":0,\"ticks\":\"\"}}}],\"scattermapbox\":[{\"type\":\"scattermapbox\",\"marker\":{\"colorbar\":{\"outlinewidth\":0,\"ticks\":\"\"}}}],\"scatterternary\":[{\"type\":\"scatterternary\",\"marker\":{\"colorbar\":{\"outlinewidth\":0,\"ticks\":\"\"}}}],\"scattercarpet\":[{\"type\":\"scattercarpet\",\"marker\":{\"colorbar\":{\"outlinewidth\":0,\"ticks\":\"\"}}}],\"carpet\":[{\"aaxis\":{\"endlinecolor\":\"#2a3f5f\",\"gridcolor\":\"white\",\"linecolor\":\"white\",\"minorgridcolor\":\"white\",\"startlinecolor\":\"#2a3f5f\"},\"baxis\":{\"endlinecolor\":\"#2a3f5f\",\"gridcolor\":\"white\",\"linecolor\":\"white\",\"minorgridcolor\":\"white\",\"startlinecolor\":\"#2a3f5f\"},\"type\":\"carpet\"}],\"table\":[{\"cells\":{\"fill\":{\"color\":\"#EBF0F8\"},\"line\":{\"color\":\"white\"}},\"header\":{\"fill\":{\"color\":\"#C8D4E3\"},\"line\":{\"color\":\"white\"}},\"type\":\"table\"}],\"barpolar\":[{\"marker\":{\"line\":{\"color\":\"#E5ECF6\",\"width\":0.5},\"pattern\":{\"fillmode\":\"overlay\",\"size\":10,\"solidity\":0.2}},\"type\":\"barpolar\"}],\"pie\":[{\"automargin\":true,\"type\":\"pie\"}]},\"layout\":{\"autotypenumbers\":\"strict\",\"colorway\":[\"#636efa\",\"#EF553B\",\"#00cc96\",\"#ab63fa\",\"#FFA15A\",\"#19d3f3\",\"#FF6692\",\"#B6E880\",\"#FF97FF\",\"#FECB52\"],\"font\":{\"color\":\"#2a3f5f\"},\"hovermode\":\"closest\",\"hoverlabel\":{\"align\":\"left\"},\"paper_bgcolor\":\"white\",\"plot_bgcolor\":\"#E5ECF6\",\"polar\":{\"bgcolor\":\"#E5ECF6\",\"angularaxis\":{\"gridcolor\":\"white\",\"linecolor\":\"white\",\"ticks\":\"\"},\"radialaxis\":{\"gridcolor\":\"white\",\"linecolor\":\"white\",\"ticks\":\"\"}},\"ternary\":{\"bgcolor\":\"#E5ECF6\",\"aaxis\":{\"gridcolor\":\"white\",\"linecolor\":\"white\",\"ticks\":\"\"},\"baxis\":{\"gridcolor\":\"white\",\"linecolor\":\"white\",\"ticks\":\"\"},\"caxis\":{\"gridcolor\":\"white\",\"linecolor\":\"white\",\"ticks\":\"\"}},\"coloraxis\":{\"colorbar\":{\"outlinewidth\":0,\"ticks\":\"\"}},\"colorscale\":{\"sequential\":[[0.0,\"#0d0887\"],[0.1111111111111111,\"#46039f\"],[0.2222222222222222,\"#7201a8\"],[0.3333333333333333,\"#9c179e\"],[0.4444444444444444,\"#bd3786\"],[0.5555555555555556,\"#d8576b\"],[0.6666666666666666,\"#ed7953\"],[0.7777777777777778,\"#fb9f3a\"],[0.8888888888888888,\"#fdca26\"],[1.0,\"#f0f921\"]],\"sequentialminus\":[[0.0,\"#0d0887\"],[0.1111111111111111,\"#46039f\"],[0.2222222222222222,\"#7201a8\"],[0.3333333333333333,\"#9c179e\"],[0.4444444444444444,\"#bd3786\"],[0.5555555555555556,\"#d8576b\"],[0.6666666666666666,\"#ed7953\"],[0.7777777777777778,\"#fb9f3a\"],[0.8888888888888888,\"#fdca26\"],[1.0,\"#f0f921\"]],\"diverging\":[[0,\"#8e0152\"],[0.1,\"#c51b7d\"],[0.2,\"#de77ae\"],[0.3,\"#f1b6da\"],[0.4,\"#fde0ef\"],[0.5,\"#f7f7f7\"],[0.6,\"#e6f5d0\"],[0.7,\"#b8e186\"],[0.8,\"#7fbc41\"],[0.9,\"#4d9221\"],[1,\"#276419\"]]},\"xaxis\":{\"gridcolor\":\"white\",\"linecolor\":\"white\",\"ticks\":\"\",\"title\":{\"standoff\":15},\"zerolinecolor\":\"white\",\"automargin\":true,\"zerolinewidth\":2},\"yaxis\":{\"gridcolor\":\"white\",\"linecolor\":\"white\",\"ticks\":\"\",\"title\":{\"standoff\":15},\"zerolinecolor\":\"white\",\"automargin\":true,\"zerolinewidth\":2},\"scene\":{\"xaxis\":{\"backgroundcolor\":\"#E5ECF6\",\"gridcolor\":\"white\",\"linecolor\":\"white\",\"showbackground\":true,\"ticks\":\"\",\"zerolinecolor\":\"white\",\"gridwidth\":2},\"yaxis\":{\"backgroundcolor\":\"#E5ECF6\",\"gridcolor\":\"white\",\"linecolor\":\"white\",\"showbackground\":true,\"ticks\":\"\",\"zerolinecolor\":\"white\",\"gridwidth\":2},\"zaxis\":{\"backgroundcolor\":\"#E5ECF6\",\"gridcolor\":\"white\",\"linecolor\":\"white\",\"showbackground\":true,\"ticks\":\"\",\"zerolinecolor\":\"white\",\"gridwidth\":2}},\"shapedefaults\":{\"line\":{\"color\":\"#2a3f5f\"}},\"annotationdefaults\":{\"arrowcolor\":\"#2a3f5f\",\"arrowhead\":0,\"arrowwidth\":1},\"geo\":{\"bgcolor\":\"white\",\"landcolor\":\"#E5ECF6\",\"subunitcolor\":\"white\",\"showland\":true,\"showlakes\":true,\"lakecolor\":\"white\"},\"title\":{\"x\":0.05},\"mapbox\":{\"style\":\"light\"}}},\"xaxis\":{\"anchor\":\"y\",\"domain\":[0.0,1.0],\"title\":{\"text\":\"Games played\"}},\"yaxis\":{\"anchor\":\"x\",\"domain\":[0.0,1.0],\"title\":{\"text\":\"Mopt\"}},\"legend\":{\"title\":{\"text\":\"variable\"},\"tracegroupgap\":0},\"margin\":{\"t\":60},\"width\":800},                        {\"responsive\": true}                    ).then(function(){\n",
       "                            \n",
       "var gd = document.getElementById('dffd2129-cfba-4032-bde6-60f4187d2d23');\n",
       "var x = new MutationObserver(function (mutations, observer) {{\n",
       "        var display = window.getComputedStyle(gd).display;\n",
       "        if (!display || display === 'none') {{\n",
       "            console.log([gd, 'removed!']);\n",
       "            Plotly.purge(gd);\n",
       "            observer.disconnect();\n",
       "        }}\n",
       "}});\n",
       "\n",
       "// Listen for the removal of the full notebook cells\n",
       "var notebookContainer = gd.closest('#notebook-container');\n",
       "if (notebookContainer) {{\n",
       "    x.observe(notebookContainer, {childList: true});\n",
       "}}\n",
       "\n",
       "// Listen for the clearing of the current output cell\n",
       "var outputEl = gd.closest('.output');\n",
       "if (outputEl) {{\n",
       "    x.observe(outputEl, {childList: true});\n",
       "}}\n",
       "\n",
       "                        })                };                });            </script>        </div>"
      ]
     },
     "metadata": {},
     "output_type": "display_data"
    },
    {
     "data": {
      "application/vnd.plotly.v1+json": {
       "config": {
        "plotlyServerURL": "https://plot.ly"
       },
       "data": [
        {
         "hovertemplate": "variable=eps=0.00<br>Games played=%{x}<br>value=%{y}<extra></extra>",
         "legendgroup": "eps=0.00",
         "line": {
          "color": "#636efa",
          "dash": "solid"
         },
         "marker": {
          "symbol": "circle"
         },
         "mode": "lines",
         "name": "eps=0.00",
         "orientation": "v",
         "showlegend": true,
         "type": "scatter",
         "x": [
          250,
          500,
          750,
          1000,
          1250,
          1500,
          1750,
          2000,
          2250,
          2500,
          2750,
          3000,
          3250,
          3500,
          3750,
          4000,
          4250,
          4500,
          4750,
          5000,
          5250,
          5500,
          5750,
          6000,
          6250,
          6500,
          6750,
          7000,
          7250,
          7500,
          7750,
          8000,
          8250,
          8500,
          8750,
          9000,
          9250,
          9500,
          9750,
          10000,
          10250,
          10500,
          10750,
          11000,
          11250,
          11500,
          11750,
          12000,
          12250,
          12500,
          12750,
          13000,
          13250,
          13500,
          13750,
          14000,
          14250,
          14500,
          14750,
          15000,
          15250,
          15500,
          15750,
          16000,
          16250,
          16500,
          16750,
          17000,
          17250,
          17500,
          17750,
          18000,
          18250,
          18500,
          18750,
          19000,
          19250,
          19500,
          19750
         ],
         "xaxis": "x",
         "y": [
          0.668,
          0.856,
          0.88,
          0.872,
          0.936,
          0.96,
          0.912,
          0.96,
          0.976,
          0.98,
          0.972,
          0.968,
          0.964,
          0.948,
          0.976,
          0.968,
          0.984,
          0.996,
          0.98,
          0.992,
          0.992,
          0.988,
          0.98,
          0.984,
          0.984,
          0.988,
          0.98,
          0.996,
          0.992,
          0.964,
          0.984,
          0.984,
          0.992,
          0.992,
          0.992,
          0.988,
          0.992,
          0.98,
          0.992,
          0.996,
          0.996,
          0.992,
          0.996,
          0.996,
          0.992,
          1,
          0.984,
          0.988,
          0.984,
          1,
          1,
          1,
          0.98,
          1,
          0.988,
          0.996,
          0.988,
          1,
          0.992,
          1,
          0.996,
          0.992,
          0.996,
          1,
          0.996,
          0.996,
          0.996,
          1,
          0.992,
          0.996,
          0.996,
          1,
          0.988,
          0.992,
          0.996,
          0.992,
          0.992,
          1,
          0.988
         ],
         "yaxis": "y"
        },
        {
         "hovertemplate": "variable=eps=0.10<br>Games played=%{x}<br>value=%{y}<extra></extra>",
         "legendgroup": "eps=0.10",
         "line": {
          "color": "#EF553B",
          "dash": "solid"
         },
         "marker": {
          "symbol": "circle"
         },
         "mode": "lines",
         "name": "eps=0.10",
         "orientation": "v",
         "showlegend": true,
         "type": "scatter",
         "x": [
          250,
          500,
          750,
          1000,
          1250,
          1500,
          1750,
          2000,
          2250,
          2500,
          2750,
          3000,
          3250,
          3500,
          3750,
          4000,
          4250,
          4500,
          4750,
          5000,
          5250,
          5500,
          5750,
          6000,
          6250,
          6500,
          6750,
          7000,
          7250,
          7500,
          7750,
          8000,
          8250,
          8500,
          8750,
          9000,
          9250,
          9500,
          9750,
          10000,
          10250,
          10500,
          10750,
          11000,
          11250,
          11500,
          11750,
          12000,
          12250,
          12500,
          12750,
          13000,
          13250,
          13500,
          13750,
          14000,
          14250,
          14500,
          14750,
          15000,
          15250,
          15500,
          15750,
          16000,
          16250,
          16500,
          16750,
          17000,
          17250,
          17500,
          17750,
          18000,
          18250,
          18500,
          18750,
          19000,
          19250,
          19500,
          19750
         ],
         "xaxis": "x",
         "y": [
          0.772,
          0.824,
          0.872,
          0.896,
          0.972,
          0.9,
          0.976,
          0.964,
          0.984,
          0.984,
          0.96,
          0.976,
          0.98,
          0.988,
          0.988,
          0.984,
          0.996,
          0.984,
          0.984,
          0.98,
          0.992,
          0.992,
          0.988,
          0.988,
          0.996,
          0.984,
          0.996,
          0.992,
          0.992,
          0.992,
          0.984,
          0.992,
          0.996,
          1,
          0.992,
          0.996,
          0.992,
          0.992,
          1,
          0.996,
          0.988,
          1,
          1,
          1,
          0.996,
          0.996,
          0.996,
          1,
          1,
          1,
          0.992,
          0.992,
          1,
          0.992,
          1,
          1,
          0.988,
          0.992,
          0.988,
          1,
          1,
          0.988,
          1,
          0.996,
          0.996,
          0.992,
          0.992,
          0.992,
          1,
          1,
          0.996,
          1,
          0.992,
          0.992,
          0.992,
          0.992,
          0.996,
          0.996,
          1
         ],
         "yaxis": "y"
        },
        {
         "hovertemplate": "variable=eps=0.20<br>Games played=%{x}<br>value=%{y}<extra></extra>",
         "legendgroup": "eps=0.20",
         "line": {
          "color": "#00cc96",
          "dash": "solid"
         },
         "marker": {
          "symbol": "circle"
         },
         "mode": "lines",
         "name": "eps=0.20",
         "orientation": "v",
         "showlegend": true,
         "type": "scatter",
         "x": [
          250,
          500,
          750,
          1000,
          1250,
          1500,
          1750,
          2000,
          2250,
          2500,
          2750,
          3000,
          3250,
          3500,
          3750,
          4000,
          4250,
          4500,
          4750,
          5000,
          5250,
          5500,
          5750,
          6000,
          6250,
          6500,
          6750,
          7000,
          7250,
          7500,
          7750,
          8000,
          8250,
          8500,
          8750,
          9000,
          9250,
          9500,
          9750,
          10000,
          10250,
          10500,
          10750,
          11000,
          11250,
          11500,
          11750,
          12000,
          12250,
          12500,
          12750,
          13000,
          13250,
          13500,
          13750,
          14000,
          14250,
          14500,
          14750,
          15000,
          15250,
          15500,
          15750,
          16000,
          16250,
          16500,
          16750,
          17000,
          17250,
          17500,
          17750,
          18000,
          18250,
          18500,
          18750,
          19000,
          19250,
          19500,
          19750
         ],
         "xaxis": "x",
         "y": [
          0.752,
          0.912,
          0.932,
          0.98,
          0.948,
          0.96,
          0.988,
          0.98,
          0.98,
          0.984,
          0.984,
          0.992,
          0.992,
          0.988,
          0.984,
          0.972,
          0.984,
          0.98,
          0.988,
          0.992,
          0.984,
          0.996,
          0.988,
          1,
          0.98,
          0.988,
          0.98,
          0.996,
          0.992,
          0.996,
          0.996,
          1,
          0.988,
          0.996,
          1,
          0.992,
          0.992,
          0.992,
          1,
          0.992,
          0.992,
          0.992,
          0.992,
          1,
          0.996,
          1,
          0.996,
          0.996,
          0.988,
          0.988,
          0.98,
          0.996,
          1,
          0.996,
          0.996,
          1,
          0.996,
          1,
          1,
          1,
          0.996,
          0.996,
          1,
          0.996,
          0.992,
          1,
          1,
          1,
          0.992,
          0.996,
          0.992,
          1,
          0.984,
          0.996,
          0.996,
          0.996,
          0.996,
          0.988,
          1
         ],
         "yaxis": "y"
        },
        {
         "hovertemplate": "variable=eps=0.30<br>Games played=%{x}<br>value=%{y}<extra></extra>",
         "legendgroup": "eps=0.30",
         "line": {
          "color": "#ab63fa",
          "dash": "solid"
         },
         "marker": {
          "symbol": "circle"
         },
         "mode": "lines",
         "name": "eps=0.30",
         "orientation": "v",
         "showlegend": true,
         "type": "scatter",
         "x": [
          250,
          500,
          750,
          1000,
          1250,
          1500,
          1750,
          2000,
          2250,
          2500,
          2750,
          3000,
          3250,
          3500,
          3750,
          4000,
          4250,
          4500,
          4750,
          5000,
          5250,
          5500,
          5750,
          6000,
          6250,
          6500,
          6750,
          7000,
          7250,
          7500,
          7750,
          8000,
          8250,
          8500,
          8750,
          9000,
          9250,
          9500,
          9750,
          10000,
          10250,
          10500,
          10750,
          11000,
          11250,
          11500,
          11750,
          12000,
          12250,
          12500,
          12750,
          13000,
          13250,
          13500,
          13750,
          14000,
          14250,
          14500,
          14750,
          15000,
          15250,
          15500,
          15750,
          16000,
          16250,
          16500,
          16750,
          17000,
          17250,
          17500,
          17750,
          18000,
          18250,
          18500,
          18750,
          19000,
          19250,
          19500,
          19750
         ],
         "xaxis": "x",
         "y": [
          0.82,
          0.836,
          0.912,
          0.928,
          0.952,
          0.972,
          0.948,
          0.976,
          0.972,
          0.968,
          0.944,
          0.988,
          0.96,
          0.98,
          0.976,
          0.972,
          0.992,
          0.996,
          0.996,
          1,
          0.992,
          0.992,
          0.992,
          0.988,
          0.992,
          0.988,
          0.984,
          0.996,
          0.992,
          0.992,
          0.992,
          0.996,
          0.996,
          0.996,
          0.996,
          0.996,
          0.988,
          0.996,
          1,
          0.988,
          0.992,
          0.992,
          0.988,
          0.984,
          0.996,
          0.992,
          0.992,
          0.996,
          0.992,
          0.988,
          0.988,
          1,
          1,
          0.996,
          0.996,
          0.984,
          0.992,
          1,
          1,
          0.988,
          1,
          0.992,
          0.98,
          0.996,
          1,
          1,
          0.996,
          0.988,
          1,
          0.996,
          0.996,
          0.996,
          1,
          0.992,
          0.992,
          0.996,
          0.992,
          0.992,
          0.988
         ],
         "yaxis": "y"
        },
        {
         "hovertemplate": "variable=eps=0.40<br>Games played=%{x}<br>value=%{y}<extra></extra>",
         "legendgroup": "eps=0.40",
         "line": {
          "color": "#FFA15A",
          "dash": "solid"
         },
         "marker": {
          "symbol": "circle"
         },
         "mode": "lines",
         "name": "eps=0.40",
         "orientation": "v",
         "showlegend": true,
         "type": "scatter",
         "x": [
          250,
          500,
          750,
          1000,
          1250,
          1500,
          1750,
          2000,
          2250,
          2500,
          2750,
          3000,
          3250,
          3500,
          3750,
          4000,
          4250,
          4500,
          4750,
          5000,
          5250,
          5500,
          5750,
          6000,
          6250,
          6500,
          6750,
          7000,
          7250,
          7500,
          7750,
          8000,
          8250,
          8500,
          8750,
          9000,
          9250,
          9500,
          9750,
          10000,
          10250,
          10500,
          10750,
          11000,
          11250,
          11500,
          11750,
          12000,
          12250,
          12500,
          12750,
          13000,
          13250,
          13500,
          13750,
          14000,
          14250,
          14500,
          14750,
          15000,
          15250,
          15500,
          15750,
          16000,
          16250,
          16500,
          16750,
          17000,
          17250,
          17500,
          17750,
          18000,
          18250,
          18500,
          18750,
          19000,
          19250,
          19500,
          19750
         ],
         "xaxis": "x",
         "y": [
          0.724,
          0.856,
          0.84,
          0.892,
          0.92,
          0.896,
          0.972,
          0.972,
          0.964,
          0.972,
          0.984,
          0.984,
          0.972,
          0.98,
          0.984,
          0.996,
          0.976,
          0.996,
          0.98,
          0.984,
          1,
          0.996,
          0.996,
          0.98,
          0.996,
          0.984,
          0.992,
          1,
          0.992,
          0.988,
          0.988,
          0.996,
          0.992,
          0.992,
          0.996,
          1,
          0.988,
          0.988,
          0.988,
          0.992,
          0.972,
          0.98,
          0.996,
          0.992,
          0.992,
          0.988,
          0.988,
          1,
          0.984,
          1,
          1,
          0.996,
          0.996,
          0.988,
          0.992,
          0.996,
          0.996,
          0.984,
          0.992,
          0.992,
          0.996,
          0.984,
          0.988,
          0.984,
          0.992,
          0.992,
          0.996,
          0.992,
          0.988,
          1,
          1,
          1,
          1,
          1,
          0.988,
          0.984,
          0.984,
          0.992,
          0.984
         ],
         "yaxis": "y"
        },
        {
         "hovertemplate": "variable=eps=0.50<br>Games played=%{x}<br>value=%{y}<extra></extra>",
         "legendgroup": "eps=0.50",
         "line": {
          "color": "#19d3f3",
          "dash": "solid"
         },
         "marker": {
          "symbol": "circle"
         },
         "mode": "lines",
         "name": "eps=0.50",
         "orientation": "v",
         "showlegend": true,
         "type": "scatter",
         "x": [
          250,
          500,
          750,
          1000,
          1250,
          1500,
          1750,
          2000,
          2250,
          2500,
          2750,
          3000,
          3250,
          3500,
          3750,
          4000,
          4250,
          4500,
          4750,
          5000,
          5250,
          5500,
          5750,
          6000,
          6250,
          6500,
          6750,
          7000,
          7250,
          7500,
          7750,
          8000,
          8250,
          8500,
          8750,
          9000,
          9250,
          9500,
          9750,
          10000,
          10250,
          10500,
          10750,
          11000,
          11250,
          11500,
          11750,
          12000,
          12250,
          12500,
          12750,
          13000,
          13250,
          13500,
          13750,
          14000,
          14250,
          14500,
          14750,
          15000,
          15250,
          15500,
          15750,
          16000,
          16250,
          16500,
          16750,
          17000,
          17250,
          17500,
          17750,
          18000,
          18250,
          18500,
          18750,
          19000,
          19250,
          19500,
          19750
         ],
         "xaxis": "x",
         "y": [
          0.768,
          0.808,
          0.892,
          0.828,
          0.892,
          0.912,
          0.908,
          0.964,
          0.976,
          0.928,
          0.952,
          0.964,
          0.956,
          0.968,
          0.984,
          0.932,
          0.976,
          0.964,
          0.992,
          0.98,
          0.984,
          0.972,
          0.988,
          0.98,
          0.984,
          0.984,
          0.984,
          0.988,
          0.972,
          0.984,
          0.988,
          0.968,
          0.98,
          0.992,
          0.984,
          1,
          0.976,
          0.988,
          0.988,
          0.972,
          0.972,
          0.98,
          0.996,
          0.988,
          0.992,
          0.976,
          0.98,
          0.988,
          0.984,
          0.976,
          0.992,
          0.996,
          0.996,
          0.996,
          0.992,
          0.984,
          0.98,
          0.976,
          0.996,
          0.988,
          0.988,
          0.996,
          0.992,
          0.988,
          0.992,
          0.992,
          0.992,
          0.996,
          0.992,
          0.996,
          0.988,
          0.988,
          0.992,
          0.996,
          1,
          0.988,
          0.996,
          0.996,
          0.992
         ],
         "yaxis": "y"
        },
        {
         "hovertemplate": "variable=eps=0.60<br>Games played=%{x}<br>value=%{y}<extra></extra>",
         "legendgroup": "eps=0.60",
         "line": {
          "color": "#FF6692",
          "dash": "solid"
         },
         "marker": {
          "symbol": "circle"
         },
         "mode": "lines",
         "name": "eps=0.60",
         "orientation": "v",
         "showlegend": true,
         "type": "scatter",
         "x": [
          250,
          500,
          750,
          1000,
          1250,
          1500,
          1750,
          2000,
          2250,
          2500,
          2750,
          3000,
          3250,
          3500,
          3750,
          4000,
          4250,
          4500,
          4750,
          5000,
          5250,
          5500,
          5750,
          6000,
          6250,
          6500,
          6750,
          7000,
          7250,
          7500,
          7750,
          8000,
          8250,
          8500,
          8750,
          9000,
          9250,
          9500,
          9750,
          10000,
          10250,
          10500,
          10750,
          11000,
          11250,
          11500,
          11750,
          12000,
          12250,
          12500,
          12750,
          13000,
          13250,
          13500,
          13750,
          14000,
          14250,
          14500,
          14750,
          15000,
          15250,
          15500,
          15750,
          16000,
          16250,
          16500,
          16750,
          17000,
          17250,
          17500,
          17750,
          18000,
          18250,
          18500,
          18750,
          19000,
          19250,
          19500,
          19750
         ],
         "xaxis": "x",
         "y": [
          0.728,
          0.852,
          0.884,
          0.924,
          0.852,
          0.904,
          0.928,
          0.912,
          0.908,
          0.928,
          0.928,
          0.908,
          0.94,
          0.924,
          0.948,
          0.956,
          0.952,
          0.964,
          0.98,
          0.956,
          0.976,
          0.964,
          0.972,
          0.96,
          0.952,
          0.952,
          0.952,
          0.984,
          0.972,
          0.988,
          0.956,
          0.988,
          0.968,
          0.98,
          0.976,
          0.98,
          0.984,
          0.984,
          0.984,
          0.976,
          0.988,
          0.964,
          0.984,
          0.988,
          0.988,
          0.98,
          0.956,
          0.976,
          0.984,
          0.992,
          0.996,
          0.988,
          0.992,
          0.98,
          0.996,
          0.976,
          0.992,
          0.996,
          0.988,
          0.98,
          0.984,
          0.988,
          0.996,
          0.98,
          0.988,
          0.984,
          0.988,
          0.996,
          1,
          0.984,
          0.996,
          0.996,
          1,
          0.968,
          0.984,
          0.976,
          0.98,
          0.992,
          0.996
         ],
         "yaxis": "y"
        },
        {
         "hovertemplate": "variable=eps=0.70<br>Games played=%{x}<br>value=%{y}<extra></extra>",
         "legendgroup": "eps=0.70",
         "line": {
          "color": "#B6E880",
          "dash": "solid"
         },
         "marker": {
          "symbol": "circle"
         },
         "mode": "lines",
         "name": "eps=0.70",
         "orientation": "v",
         "showlegend": true,
         "type": "scatter",
         "x": [
          250,
          500,
          750,
          1000,
          1250,
          1500,
          1750,
          2000,
          2250,
          2500,
          2750,
          3000,
          3250,
          3500,
          3750,
          4000,
          4250,
          4500,
          4750,
          5000,
          5250,
          5500,
          5750,
          6000,
          6250,
          6500,
          6750,
          7000,
          7250,
          7500,
          7750,
          8000,
          8250,
          8500,
          8750,
          9000,
          9250,
          9500,
          9750,
          10000,
          10250,
          10500,
          10750,
          11000,
          11250,
          11500,
          11750,
          12000,
          12250,
          12500,
          12750,
          13000,
          13250,
          13500,
          13750,
          14000,
          14250,
          14500,
          14750,
          15000,
          15250,
          15500,
          15750,
          16000,
          16250,
          16500,
          16750,
          17000,
          17250,
          17500,
          17750,
          18000,
          18250,
          18500,
          18750,
          19000,
          19250,
          19500,
          19750
         ],
         "xaxis": "x",
         "y": [
          0.768,
          0.752,
          0.788,
          0.796,
          0.824,
          0.856,
          0.896,
          0.876,
          0.888,
          0.872,
          0.932,
          0.968,
          0.916,
          0.932,
          0.956,
          0.956,
          0.952,
          0.96,
          0.932,
          0.932,
          0.952,
          0.948,
          0.952,
          0.98,
          0.952,
          0.952,
          0.964,
          0.972,
          0.964,
          0.976,
          0.984,
          0.976,
          0.988,
          0.956,
          0.976,
          0.952,
          0.98,
          0.976,
          0.968,
          0.968,
          0.956,
          0.976,
          0.972,
          0.972,
          0.98,
          0.968,
          0.988,
          0.972,
          0.98,
          0.988,
          0.996,
          0.984,
          0.976,
          0.972,
          0.98,
          0.992,
          0.964,
          0.972,
          0.98,
          0.992,
          0.988,
          0.98,
          0.964,
          0.964,
          0.984,
          0.98,
          0.976,
          0.976,
          0.988,
          0.992,
          0.988,
          0.98,
          0.98,
          0.996,
          0.976,
          0.984,
          0.996,
          0.996,
          1
         ],
         "yaxis": "y"
        },
        {
         "hovertemplate": "variable=eps=0.80<br>Games played=%{x}<br>value=%{y}<extra></extra>",
         "legendgroup": "eps=0.80",
         "line": {
          "color": "#FF97FF",
          "dash": "solid"
         },
         "marker": {
          "symbol": "circle"
         },
         "mode": "lines",
         "name": "eps=0.80",
         "orientation": "v",
         "showlegend": true,
         "type": "scatter",
         "x": [
          250,
          500,
          750,
          1000,
          1250,
          1500,
          1750,
          2000,
          2250,
          2500,
          2750,
          3000,
          3250,
          3500,
          3750,
          4000,
          4250,
          4500,
          4750,
          5000,
          5250,
          5500,
          5750,
          6000,
          6250,
          6500,
          6750,
          7000,
          7250,
          7500,
          7750,
          8000,
          8250,
          8500,
          8750,
          9000,
          9250,
          9500,
          9750,
          10000,
          10250,
          10500,
          10750,
          11000,
          11250,
          11500,
          11750,
          12000,
          12250,
          12500,
          12750,
          13000,
          13250,
          13500,
          13750,
          14000,
          14250,
          14500,
          14750,
          15000,
          15250,
          15500,
          15750,
          16000,
          16250,
          16500,
          16750,
          17000,
          17250,
          17500,
          17750,
          18000,
          18250,
          18500,
          18750,
          19000,
          19250,
          19500,
          19750
         ],
         "xaxis": "x",
         "y": [
          0.712,
          0.736,
          0.788,
          0.796,
          0.768,
          0.828,
          0.844,
          0.86,
          0.86,
          0.908,
          0.9,
          0.936,
          0.888,
          0.892,
          0.884,
          0.896,
          0.892,
          0.896,
          0.944,
          0.936,
          0.928,
          0.916,
          0.892,
          0.932,
          0.936,
          0.912,
          0.904,
          0.94,
          0.948,
          0.908,
          0.968,
          0.96,
          0.94,
          0.968,
          0.968,
          0.98,
          0.932,
          0.96,
          0.952,
          0.972,
          0.956,
          0.968,
          0.976,
          0.948,
          0.968,
          0.956,
          0.964,
          0.968,
          0.968,
          0.944,
          0.948,
          0.976,
          0.972,
          0.948,
          0.976,
          0.984,
          0.944,
          0.96,
          0.956,
          0.964,
          0.976,
          0.956,
          0.968,
          0.968,
          0.968,
          0.972,
          0.976,
          0.984,
          0.968,
          0.976,
          0.976,
          0.98,
          0.98,
          0.992,
          0.968,
          0.984,
          0.968,
          0.992,
          0.964
         ],
         "yaxis": "y"
        },
        {
         "hovertemplate": "variable=eps=0.90<br>Games played=%{x}<br>value=%{y}<extra></extra>",
         "legendgroup": "eps=0.90",
         "line": {
          "color": "#FECB52",
          "dash": "solid"
         },
         "marker": {
          "symbol": "circle"
         },
         "mode": "lines",
         "name": "eps=0.90",
         "orientation": "v",
         "showlegend": true,
         "type": "scatter",
         "x": [
          250,
          500,
          750,
          1000,
          1250,
          1500,
          1750,
          2000,
          2250,
          2500,
          2750,
          3000,
          3250,
          3500,
          3750,
          4000,
          4250,
          4500,
          4750,
          5000,
          5250,
          5500,
          5750,
          6000,
          6250,
          6500,
          6750,
          7000,
          7250,
          7500,
          7750,
          8000,
          8250,
          8500,
          8750,
          9000,
          9250,
          9500,
          9750,
          10000,
          10250,
          10500,
          10750,
          11000,
          11250,
          11500,
          11750,
          12000,
          12250,
          12500,
          12750,
          13000,
          13250,
          13500,
          13750,
          14000,
          14250,
          14500,
          14750,
          15000,
          15250,
          15500,
          15750,
          16000,
          16250,
          16500,
          16750,
          17000,
          17250,
          17500,
          17750,
          18000,
          18250,
          18500,
          18750,
          19000,
          19250,
          19500,
          19750
         ],
         "xaxis": "x",
         "y": [
          0.656,
          0.632,
          0.748,
          0.744,
          0.764,
          0.792,
          0.852,
          0.808,
          0.808,
          0.776,
          0.788,
          0.876,
          0.848,
          0.872,
          0.848,
          0.86,
          0.9,
          0.868,
          0.892,
          0.856,
          0.944,
          0.868,
          0.912,
          0.924,
          0.908,
          0.948,
          0.916,
          0.904,
          0.908,
          0.908,
          0.904,
          0.928,
          0.896,
          0.936,
          0.92,
          0.916,
          0.924,
          0.924,
          0.944,
          0.952,
          0.928,
          0.94,
          0.944,
          0.94,
          0.932,
          0.936,
          0.928,
          0.948,
          0.956,
          0.932,
          0.92,
          0.948,
          0.96,
          0.964,
          0.972,
          0.964,
          0.972,
          0.964,
          0.964,
          0.956,
          0.976,
          0.96,
          0.992,
          0.976,
          0.968,
          0.96,
          0.96,
          0.968,
          0.952,
          0.968,
          0.968,
          0.98,
          0.972,
          0.956,
          0.94,
          0.968,
          0.976,
          0.964,
          0.96
         ],
         "yaxis": "y"
        },
        {
         "hovertemplate": "variable=eps=1.00<br>Games played=%{x}<br>value=%{y}<extra></extra>",
         "legendgroup": "eps=1.00",
         "line": {
          "color": "#636efa",
          "dash": "solid"
         },
         "marker": {
          "symbol": "circle"
         },
         "mode": "lines",
         "name": "eps=1.00",
         "orientation": "v",
         "showlegend": true,
         "type": "scatter",
         "x": [
          250,
          500,
          750,
          1000,
          1250,
          1500,
          1750,
          2000,
          2250,
          2500,
          2750,
          3000,
          3250,
          3500,
          3750,
          4000,
          4250,
          4500,
          4750,
          5000,
          5250,
          5500,
          5750,
          6000,
          6250,
          6500,
          6750,
          7000,
          7250,
          7500,
          7750,
          8000,
          8250,
          8500,
          8750,
          9000,
          9250,
          9500,
          9750,
          10000,
          10250,
          10500,
          10750,
          11000,
          11250,
          11500,
          11750,
          12000,
          12250,
          12500,
          12750,
          13000,
          13250,
          13500,
          13750,
          14000,
          14250,
          14500,
          14750,
          15000,
          15250,
          15500,
          15750,
          16000,
          16250,
          16500,
          16750,
          17000,
          17250,
          17500,
          17750,
          18000,
          18250,
          18500,
          18750,
          19000,
          19250,
          19500,
          19750
         ],
         "xaxis": "x",
         "y": [
          0.716,
          0.664,
          0.672,
          0.696,
          0.74,
          0.712,
          0.704,
          0.676,
          0.78,
          0.74,
          0.744,
          0.8,
          0.736,
          0.78,
          0.8,
          0.8,
          0.84,
          0.796,
          0.824,
          0.856,
          0.76,
          0.848,
          0.832,
          0.788,
          0.872,
          0.86,
          0.844,
          0.876,
          0.86,
          0.864,
          0.892,
          0.856,
          0.86,
          0.872,
          0.88,
          0.872,
          0.884,
          0.896,
          0.868,
          0.868,
          0.828,
          0.844,
          0.924,
          0.88,
          0.88,
          0.88,
          0.896,
          0.908,
          0.872,
          0.856,
          0.936,
          0.904,
          0.904,
          0.892,
          0.9,
          0.912,
          0.916,
          0.928,
          0.928,
          0.932,
          0.88,
          0.916,
          0.92,
          0.908,
          0.912,
          0.944,
          0.892,
          0.92,
          0.908,
          0.928,
          0.96,
          0.904,
          0.892,
          0.916,
          0.92,
          0.916,
          0.948,
          0.928,
          0.944
         ],
         "yaxis": "y"
        }
       ],
       "layout": {
        "legend": {
         "title": {
          "text": "variable"
         },
         "tracegroupgap": 0
        },
        "margin": {
         "t": 60
        },
        "template": {
         "data": {
          "bar": [
           {
            "error_x": {
             "color": "#2a3f5f"
            },
            "error_y": {
             "color": "#2a3f5f"
            },
            "marker": {
             "line": {
              "color": "#E5ECF6",
              "width": 0.5
             },
             "pattern": {
              "fillmode": "overlay",
              "size": 10,
              "solidity": 0.2
             }
            },
            "type": "bar"
           }
          ],
          "barpolar": [
           {
            "marker": {
             "line": {
              "color": "#E5ECF6",
              "width": 0.5
             },
             "pattern": {
              "fillmode": "overlay",
              "size": 10,
              "solidity": 0.2
             }
            },
            "type": "barpolar"
           }
          ],
          "carpet": [
           {
            "aaxis": {
             "endlinecolor": "#2a3f5f",
             "gridcolor": "white",
             "linecolor": "white",
             "minorgridcolor": "white",
             "startlinecolor": "#2a3f5f"
            },
            "baxis": {
             "endlinecolor": "#2a3f5f",
             "gridcolor": "white",
             "linecolor": "white",
             "minorgridcolor": "white",
             "startlinecolor": "#2a3f5f"
            },
            "type": "carpet"
           }
          ],
          "choropleth": [
           {
            "colorbar": {
             "outlinewidth": 0,
             "ticks": ""
            },
            "type": "choropleth"
           }
          ],
          "contour": [
           {
            "colorbar": {
             "outlinewidth": 0,
             "ticks": ""
            },
            "colorscale": [
             [
              0,
              "#0d0887"
             ],
             [
              0.1111111111111111,
              "#46039f"
             ],
             [
              0.2222222222222222,
              "#7201a8"
             ],
             [
              0.3333333333333333,
              "#9c179e"
             ],
             [
              0.4444444444444444,
              "#bd3786"
             ],
             [
              0.5555555555555556,
              "#d8576b"
             ],
             [
              0.6666666666666666,
              "#ed7953"
             ],
             [
              0.7777777777777778,
              "#fb9f3a"
             ],
             [
              0.8888888888888888,
              "#fdca26"
             ],
             [
              1,
              "#f0f921"
             ]
            ],
            "type": "contour"
           }
          ],
          "contourcarpet": [
           {
            "colorbar": {
             "outlinewidth": 0,
             "ticks": ""
            },
            "type": "contourcarpet"
           }
          ],
          "heatmap": [
           {
            "colorbar": {
             "outlinewidth": 0,
             "ticks": ""
            },
            "colorscale": [
             [
              0,
              "#0d0887"
             ],
             [
              0.1111111111111111,
              "#46039f"
             ],
             [
              0.2222222222222222,
              "#7201a8"
             ],
             [
              0.3333333333333333,
              "#9c179e"
             ],
             [
              0.4444444444444444,
              "#bd3786"
             ],
             [
              0.5555555555555556,
              "#d8576b"
             ],
             [
              0.6666666666666666,
              "#ed7953"
             ],
             [
              0.7777777777777778,
              "#fb9f3a"
             ],
             [
              0.8888888888888888,
              "#fdca26"
             ],
             [
              1,
              "#f0f921"
             ]
            ],
            "type": "heatmap"
           }
          ],
          "heatmapgl": [
           {
            "colorbar": {
             "outlinewidth": 0,
             "ticks": ""
            },
            "colorscale": [
             [
              0,
              "#0d0887"
             ],
             [
              0.1111111111111111,
              "#46039f"
             ],
             [
              0.2222222222222222,
              "#7201a8"
             ],
             [
              0.3333333333333333,
              "#9c179e"
             ],
             [
              0.4444444444444444,
              "#bd3786"
             ],
             [
              0.5555555555555556,
              "#d8576b"
             ],
             [
              0.6666666666666666,
              "#ed7953"
             ],
             [
              0.7777777777777778,
              "#fb9f3a"
             ],
             [
              0.8888888888888888,
              "#fdca26"
             ],
             [
              1,
              "#f0f921"
             ]
            ],
            "type": "heatmapgl"
           }
          ],
          "histogram": [
           {
            "marker": {
             "pattern": {
              "fillmode": "overlay",
              "size": 10,
              "solidity": 0.2
             }
            },
            "type": "histogram"
           }
          ],
          "histogram2d": [
           {
            "colorbar": {
             "outlinewidth": 0,
             "ticks": ""
            },
            "colorscale": [
             [
              0,
              "#0d0887"
             ],
             [
              0.1111111111111111,
              "#46039f"
             ],
             [
              0.2222222222222222,
              "#7201a8"
             ],
             [
              0.3333333333333333,
              "#9c179e"
             ],
             [
              0.4444444444444444,
              "#bd3786"
             ],
             [
              0.5555555555555556,
              "#d8576b"
             ],
             [
              0.6666666666666666,
              "#ed7953"
             ],
             [
              0.7777777777777778,
              "#fb9f3a"
             ],
             [
              0.8888888888888888,
              "#fdca26"
             ],
             [
              1,
              "#f0f921"
             ]
            ],
            "type": "histogram2d"
           }
          ],
          "histogram2dcontour": [
           {
            "colorbar": {
             "outlinewidth": 0,
             "ticks": ""
            },
            "colorscale": [
             [
              0,
              "#0d0887"
             ],
             [
              0.1111111111111111,
              "#46039f"
             ],
             [
              0.2222222222222222,
              "#7201a8"
             ],
             [
              0.3333333333333333,
              "#9c179e"
             ],
             [
              0.4444444444444444,
              "#bd3786"
             ],
             [
              0.5555555555555556,
              "#d8576b"
             ],
             [
              0.6666666666666666,
              "#ed7953"
             ],
             [
              0.7777777777777778,
              "#fb9f3a"
             ],
             [
              0.8888888888888888,
              "#fdca26"
             ],
             [
              1,
              "#f0f921"
             ]
            ],
            "type": "histogram2dcontour"
           }
          ],
          "mesh3d": [
           {
            "colorbar": {
             "outlinewidth": 0,
             "ticks": ""
            },
            "type": "mesh3d"
           }
          ],
          "parcoords": [
           {
            "line": {
             "colorbar": {
              "outlinewidth": 0,
              "ticks": ""
             }
            },
            "type": "parcoords"
           }
          ],
          "pie": [
           {
            "automargin": true,
            "type": "pie"
           }
          ],
          "scatter": [
           {
            "fillpattern": {
             "fillmode": "overlay",
             "size": 10,
             "solidity": 0.2
            },
            "type": "scatter"
           }
          ],
          "scatter3d": [
           {
            "line": {
             "colorbar": {
              "outlinewidth": 0,
              "ticks": ""
             }
            },
            "marker": {
             "colorbar": {
              "outlinewidth": 0,
              "ticks": ""
             }
            },
            "type": "scatter3d"
           }
          ],
          "scattercarpet": [
           {
            "marker": {
             "colorbar": {
              "outlinewidth": 0,
              "ticks": ""
             }
            },
            "type": "scattercarpet"
           }
          ],
          "scattergeo": [
           {
            "marker": {
             "colorbar": {
              "outlinewidth": 0,
              "ticks": ""
             }
            },
            "type": "scattergeo"
           }
          ],
          "scattergl": [
           {
            "marker": {
             "colorbar": {
              "outlinewidth": 0,
              "ticks": ""
             }
            },
            "type": "scattergl"
           }
          ],
          "scattermapbox": [
           {
            "marker": {
             "colorbar": {
              "outlinewidth": 0,
              "ticks": ""
             }
            },
            "type": "scattermapbox"
           }
          ],
          "scatterpolar": [
           {
            "marker": {
             "colorbar": {
              "outlinewidth": 0,
              "ticks": ""
             }
            },
            "type": "scatterpolar"
           }
          ],
          "scatterpolargl": [
           {
            "marker": {
             "colorbar": {
              "outlinewidth": 0,
              "ticks": ""
             }
            },
            "type": "scatterpolargl"
           }
          ],
          "scatterternary": [
           {
            "marker": {
             "colorbar": {
              "outlinewidth": 0,
              "ticks": ""
             }
            },
            "type": "scatterternary"
           }
          ],
          "surface": [
           {
            "colorbar": {
             "outlinewidth": 0,
             "ticks": ""
            },
            "colorscale": [
             [
              0,
              "#0d0887"
             ],
             [
              0.1111111111111111,
              "#46039f"
             ],
             [
              0.2222222222222222,
              "#7201a8"
             ],
             [
              0.3333333333333333,
              "#9c179e"
             ],
             [
              0.4444444444444444,
              "#bd3786"
             ],
             [
              0.5555555555555556,
              "#d8576b"
             ],
             [
              0.6666666666666666,
              "#ed7953"
             ],
             [
              0.7777777777777778,
              "#fb9f3a"
             ],
             [
              0.8888888888888888,
              "#fdca26"
             ],
             [
              1,
              "#f0f921"
             ]
            ],
            "type": "surface"
           }
          ],
          "table": [
           {
            "cells": {
             "fill": {
              "color": "#EBF0F8"
             },
             "line": {
              "color": "white"
             }
            },
            "header": {
             "fill": {
              "color": "#C8D4E3"
             },
             "line": {
              "color": "white"
             }
            },
            "type": "table"
           }
          ]
         },
         "layout": {
          "annotationdefaults": {
           "arrowcolor": "#2a3f5f",
           "arrowhead": 0,
           "arrowwidth": 1
          },
          "autotypenumbers": "strict",
          "coloraxis": {
           "colorbar": {
            "outlinewidth": 0,
            "ticks": ""
           }
          },
          "colorscale": {
           "diverging": [
            [
             0,
             "#8e0152"
            ],
            [
             0.1,
             "#c51b7d"
            ],
            [
             0.2,
             "#de77ae"
            ],
            [
             0.3,
             "#f1b6da"
            ],
            [
             0.4,
             "#fde0ef"
            ],
            [
             0.5,
             "#f7f7f7"
            ],
            [
             0.6,
             "#e6f5d0"
            ],
            [
             0.7,
             "#b8e186"
            ],
            [
             0.8,
             "#7fbc41"
            ],
            [
             0.9,
             "#4d9221"
            ],
            [
             1,
             "#276419"
            ]
           ],
           "sequential": [
            [
             0,
             "#0d0887"
            ],
            [
             0.1111111111111111,
             "#46039f"
            ],
            [
             0.2222222222222222,
             "#7201a8"
            ],
            [
             0.3333333333333333,
             "#9c179e"
            ],
            [
             0.4444444444444444,
             "#bd3786"
            ],
            [
             0.5555555555555556,
             "#d8576b"
            ],
            [
             0.6666666666666666,
             "#ed7953"
            ],
            [
             0.7777777777777778,
             "#fb9f3a"
            ],
            [
             0.8888888888888888,
             "#fdca26"
            ],
            [
             1,
             "#f0f921"
            ]
           ],
           "sequentialminus": [
            [
             0,
             "#0d0887"
            ],
            [
             0.1111111111111111,
             "#46039f"
            ],
            [
             0.2222222222222222,
             "#7201a8"
            ],
            [
             0.3333333333333333,
             "#9c179e"
            ],
            [
             0.4444444444444444,
             "#bd3786"
            ],
            [
             0.5555555555555556,
             "#d8576b"
            ],
            [
             0.6666666666666666,
             "#ed7953"
            ],
            [
             0.7777777777777778,
             "#fb9f3a"
            ],
            [
             0.8888888888888888,
             "#fdca26"
            ],
            [
             1,
             "#f0f921"
            ]
           ]
          },
          "colorway": [
           "#636efa",
           "#EF553B",
           "#00cc96",
           "#ab63fa",
           "#FFA15A",
           "#19d3f3",
           "#FF6692",
           "#B6E880",
           "#FF97FF",
           "#FECB52"
          ],
          "font": {
           "color": "#2a3f5f"
          },
          "geo": {
           "bgcolor": "white",
           "lakecolor": "white",
           "landcolor": "#E5ECF6",
           "showlakes": true,
           "showland": true,
           "subunitcolor": "white"
          },
          "hoverlabel": {
           "align": "left"
          },
          "hovermode": "closest",
          "mapbox": {
           "style": "light"
          },
          "paper_bgcolor": "white",
          "plot_bgcolor": "#E5ECF6",
          "polar": {
           "angularaxis": {
            "gridcolor": "white",
            "linecolor": "white",
            "ticks": ""
           },
           "bgcolor": "#E5ECF6",
           "radialaxis": {
            "gridcolor": "white",
            "linecolor": "white",
            "ticks": ""
           }
          },
          "scene": {
           "xaxis": {
            "backgroundcolor": "#E5ECF6",
            "gridcolor": "white",
            "gridwidth": 2,
            "linecolor": "white",
            "showbackground": true,
            "ticks": "",
            "zerolinecolor": "white"
           },
           "yaxis": {
            "backgroundcolor": "#E5ECF6",
            "gridcolor": "white",
            "gridwidth": 2,
            "linecolor": "white",
            "showbackground": true,
            "ticks": "",
            "zerolinecolor": "white"
           },
           "zaxis": {
            "backgroundcolor": "#E5ECF6",
            "gridcolor": "white",
            "gridwidth": 2,
            "linecolor": "white",
            "showbackground": true,
            "ticks": "",
            "zerolinecolor": "white"
           }
          },
          "shapedefaults": {
           "line": {
            "color": "#2a3f5f"
           }
          },
          "ternary": {
           "aaxis": {
            "gridcolor": "white",
            "linecolor": "white",
            "ticks": ""
           },
           "baxis": {
            "gridcolor": "white",
            "linecolor": "white",
            "ticks": ""
           },
           "bgcolor": "#E5ECF6",
           "caxis": {
            "gridcolor": "white",
            "linecolor": "white",
            "ticks": ""
           }
          },
          "title": {
           "x": 0.05
          },
          "xaxis": {
           "automargin": true,
           "gridcolor": "white",
           "linecolor": "white",
           "ticks": "",
           "title": {
            "standoff": 15
           },
           "zerolinecolor": "white",
           "zerolinewidth": 2
          },
          "yaxis": {
           "automargin": true,
           "gridcolor": "white",
           "linecolor": "white",
           "ticks": "",
           "title": {
            "standoff": 15
           },
           "zerolinecolor": "white",
           "zerolinewidth": 2
          }
         }
        },
        "width": 800,
        "xaxis": {
         "anchor": "y",
         "domain": [
          0,
          1
         ],
         "title": {
          "text": "Games played"
         }
        },
        "yaxis": {
         "anchor": "x",
         "domain": [
          0,
          1
         ],
         "title": {
          "text": "Mrand"
         }
        }
       }
      },
      "text/html": [
       "<div>                            <div id=\"2410c2aa-c65a-473f-9fcc-a10f976139b6\" class=\"plotly-graph-div\" style=\"height:525px; width:800px;\"></div>            <script type=\"text/javascript\">                require([\"plotly\"], function(Plotly) {                    window.PLOTLYENV=window.PLOTLYENV || {};                                    if (document.getElementById(\"2410c2aa-c65a-473f-9fcc-a10f976139b6\")) {                    Plotly.newPlot(                        \"2410c2aa-c65a-473f-9fcc-a10f976139b6\",                        [{\"hovertemplate\":\"variable=eps=0.00<br>Games played=%{x}<br>value=%{y}<extra></extra>\",\"legendgroup\":\"eps=0.00\",\"line\":{\"color\":\"#636efa\",\"dash\":\"solid\"},\"marker\":{\"symbol\":\"circle\"},\"mode\":\"lines\",\"name\":\"eps=0.00\",\"orientation\":\"v\",\"showlegend\":true,\"x\":[250,500,750,1000,1250,1500,1750,2000,2250,2500,2750,3000,3250,3500,3750,4000,4250,4500,4750,5000,5250,5500,5750,6000,6250,6500,6750,7000,7250,7500,7750,8000,8250,8500,8750,9000,9250,9500,9750,10000,10250,10500,10750,11000,11250,11500,11750,12000,12250,12500,12750,13000,13250,13500,13750,14000,14250,14500,14750,15000,15250,15500,15750,16000,16250,16500,16750,17000,17250,17500,17750,18000,18250,18500,18750,19000,19250,19500,19750],\"xaxis\":\"x\",\"y\":[0.668,0.856,0.88,0.872,0.936,0.96,0.912,0.96,0.976,0.98,0.972,0.968,0.964,0.948,0.976,0.968,0.984,0.996,0.98,0.992,0.992,0.988,0.98,0.984,0.984,0.988,0.98,0.996,0.992,0.964,0.984,0.984,0.992,0.992,0.992,0.988,0.992,0.98,0.992,0.996,0.996,0.992,0.996,0.996,0.992,1.0,0.984,0.988,0.984,1.0,1.0,1.0,0.98,1.0,0.988,0.996,0.988,1.0,0.992,1.0,0.996,0.992,0.996,1.0,0.996,0.996,0.996,1.0,0.992,0.996,0.996,1.0,0.988,0.992,0.996,0.992,0.992,1.0,0.988],\"yaxis\":\"y\",\"type\":\"scatter\"},{\"hovertemplate\":\"variable=eps=0.10<br>Games played=%{x}<br>value=%{y}<extra></extra>\",\"legendgroup\":\"eps=0.10\",\"line\":{\"color\":\"#EF553B\",\"dash\":\"solid\"},\"marker\":{\"symbol\":\"circle\"},\"mode\":\"lines\",\"name\":\"eps=0.10\",\"orientation\":\"v\",\"showlegend\":true,\"x\":[250,500,750,1000,1250,1500,1750,2000,2250,2500,2750,3000,3250,3500,3750,4000,4250,4500,4750,5000,5250,5500,5750,6000,6250,6500,6750,7000,7250,7500,7750,8000,8250,8500,8750,9000,9250,9500,9750,10000,10250,10500,10750,11000,11250,11500,11750,12000,12250,12500,12750,13000,13250,13500,13750,14000,14250,14500,14750,15000,15250,15500,15750,16000,16250,16500,16750,17000,17250,17500,17750,18000,18250,18500,18750,19000,19250,19500,19750],\"xaxis\":\"x\",\"y\":[0.772,0.824,0.872,0.896,0.972,0.9,0.976,0.964,0.984,0.984,0.96,0.976,0.98,0.988,0.988,0.984,0.996,0.984,0.984,0.98,0.992,0.992,0.988,0.988,0.996,0.984,0.996,0.992,0.992,0.992,0.984,0.992,0.996,1.0,0.992,0.996,0.992,0.992,1.0,0.996,0.988,1.0,1.0,1.0,0.996,0.996,0.996,1.0,1.0,1.0,0.992,0.992,1.0,0.992,1.0,1.0,0.988,0.992,0.988,1.0,1.0,0.988,1.0,0.996,0.996,0.992,0.992,0.992,1.0,1.0,0.996,1.0,0.992,0.992,0.992,0.992,0.996,0.996,1.0],\"yaxis\":\"y\",\"type\":\"scatter\"},{\"hovertemplate\":\"variable=eps=0.20<br>Games played=%{x}<br>value=%{y}<extra></extra>\",\"legendgroup\":\"eps=0.20\",\"line\":{\"color\":\"#00cc96\",\"dash\":\"solid\"},\"marker\":{\"symbol\":\"circle\"},\"mode\":\"lines\",\"name\":\"eps=0.20\",\"orientation\":\"v\",\"showlegend\":true,\"x\":[250,500,750,1000,1250,1500,1750,2000,2250,2500,2750,3000,3250,3500,3750,4000,4250,4500,4750,5000,5250,5500,5750,6000,6250,6500,6750,7000,7250,7500,7750,8000,8250,8500,8750,9000,9250,9500,9750,10000,10250,10500,10750,11000,11250,11500,11750,12000,12250,12500,12750,13000,13250,13500,13750,14000,14250,14500,14750,15000,15250,15500,15750,16000,16250,16500,16750,17000,17250,17500,17750,18000,18250,18500,18750,19000,19250,19500,19750],\"xaxis\":\"x\",\"y\":[0.752,0.912,0.932,0.98,0.948,0.96,0.988,0.98,0.98,0.984,0.984,0.992,0.992,0.988,0.984,0.972,0.984,0.98,0.988,0.992,0.984,0.996,0.988,1.0,0.98,0.988,0.98,0.996,0.992,0.996,0.996,1.0,0.988,0.996,1.0,0.992,0.992,0.992,1.0,0.992,0.992,0.992,0.992,1.0,0.996,1.0,0.996,0.996,0.988,0.988,0.98,0.996,1.0,0.996,0.996,1.0,0.996,1.0,1.0,1.0,0.996,0.996,1.0,0.996,0.992,1.0,1.0,1.0,0.992,0.996,0.992,1.0,0.984,0.996,0.996,0.996,0.996,0.988,1.0],\"yaxis\":\"y\",\"type\":\"scatter\"},{\"hovertemplate\":\"variable=eps=0.30<br>Games played=%{x}<br>value=%{y}<extra></extra>\",\"legendgroup\":\"eps=0.30\",\"line\":{\"color\":\"#ab63fa\",\"dash\":\"solid\"},\"marker\":{\"symbol\":\"circle\"},\"mode\":\"lines\",\"name\":\"eps=0.30\",\"orientation\":\"v\",\"showlegend\":true,\"x\":[250,500,750,1000,1250,1500,1750,2000,2250,2500,2750,3000,3250,3500,3750,4000,4250,4500,4750,5000,5250,5500,5750,6000,6250,6500,6750,7000,7250,7500,7750,8000,8250,8500,8750,9000,9250,9500,9750,10000,10250,10500,10750,11000,11250,11500,11750,12000,12250,12500,12750,13000,13250,13500,13750,14000,14250,14500,14750,15000,15250,15500,15750,16000,16250,16500,16750,17000,17250,17500,17750,18000,18250,18500,18750,19000,19250,19500,19750],\"xaxis\":\"x\",\"y\":[0.82,0.836,0.912,0.928,0.952,0.972,0.948,0.976,0.972,0.968,0.944,0.988,0.96,0.98,0.976,0.972,0.992,0.996,0.996,1.0,0.992,0.992,0.992,0.988,0.992,0.988,0.984,0.996,0.992,0.992,0.992,0.996,0.996,0.996,0.996,0.996,0.988,0.996,1.0,0.988,0.992,0.992,0.988,0.984,0.996,0.992,0.992,0.996,0.992,0.988,0.988,1.0,1.0,0.996,0.996,0.984,0.992,1.0,1.0,0.988,1.0,0.992,0.98,0.996,1.0,1.0,0.996,0.988,1.0,0.996,0.996,0.996,1.0,0.992,0.992,0.996,0.992,0.992,0.988],\"yaxis\":\"y\",\"type\":\"scatter\"},{\"hovertemplate\":\"variable=eps=0.40<br>Games played=%{x}<br>value=%{y}<extra></extra>\",\"legendgroup\":\"eps=0.40\",\"line\":{\"color\":\"#FFA15A\",\"dash\":\"solid\"},\"marker\":{\"symbol\":\"circle\"},\"mode\":\"lines\",\"name\":\"eps=0.40\",\"orientation\":\"v\",\"showlegend\":true,\"x\":[250,500,750,1000,1250,1500,1750,2000,2250,2500,2750,3000,3250,3500,3750,4000,4250,4500,4750,5000,5250,5500,5750,6000,6250,6500,6750,7000,7250,7500,7750,8000,8250,8500,8750,9000,9250,9500,9750,10000,10250,10500,10750,11000,11250,11500,11750,12000,12250,12500,12750,13000,13250,13500,13750,14000,14250,14500,14750,15000,15250,15500,15750,16000,16250,16500,16750,17000,17250,17500,17750,18000,18250,18500,18750,19000,19250,19500,19750],\"xaxis\":\"x\",\"y\":[0.724,0.856,0.84,0.892,0.92,0.896,0.972,0.972,0.964,0.972,0.984,0.984,0.972,0.98,0.984,0.996,0.976,0.996,0.98,0.984,1.0,0.996,0.996,0.98,0.996,0.984,0.992,1.0,0.992,0.988,0.988,0.996,0.992,0.992,0.996,1.0,0.988,0.988,0.988,0.992,0.972,0.98,0.996,0.992,0.992,0.988,0.988,1.0,0.984,1.0,1.0,0.996,0.996,0.988,0.992,0.996,0.996,0.984,0.992,0.992,0.996,0.984,0.988,0.984,0.992,0.992,0.996,0.992,0.988,1.0,1.0,1.0,1.0,1.0,0.988,0.984,0.984,0.992,0.984],\"yaxis\":\"y\",\"type\":\"scatter\"},{\"hovertemplate\":\"variable=eps=0.50<br>Games played=%{x}<br>value=%{y}<extra></extra>\",\"legendgroup\":\"eps=0.50\",\"line\":{\"color\":\"#19d3f3\",\"dash\":\"solid\"},\"marker\":{\"symbol\":\"circle\"},\"mode\":\"lines\",\"name\":\"eps=0.50\",\"orientation\":\"v\",\"showlegend\":true,\"x\":[250,500,750,1000,1250,1500,1750,2000,2250,2500,2750,3000,3250,3500,3750,4000,4250,4500,4750,5000,5250,5500,5750,6000,6250,6500,6750,7000,7250,7500,7750,8000,8250,8500,8750,9000,9250,9500,9750,10000,10250,10500,10750,11000,11250,11500,11750,12000,12250,12500,12750,13000,13250,13500,13750,14000,14250,14500,14750,15000,15250,15500,15750,16000,16250,16500,16750,17000,17250,17500,17750,18000,18250,18500,18750,19000,19250,19500,19750],\"xaxis\":\"x\",\"y\":[0.768,0.808,0.892,0.828,0.892,0.912,0.908,0.964,0.976,0.928,0.952,0.964,0.956,0.968,0.984,0.932,0.976,0.964,0.992,0.98,0.984,0.972,0.988,0.98,0.984,0.984,0.984,0.988,0.972,0.984,0.988,0.968,0.98,0.992,0.984,1.0,0.976,0.988,0.988,0.972,0.972,0.98,0.996,0.988,0.992,0.976,0.98,0.988,0.984,0.976,0.992,0.996,0.996,0.996,0.992,0.984,0.98,0.976,0.996,0.988,0.988,0.996,0.992,0.988,0.992,0.992,0.992,0.996,0.992,0.996,0.988,0.988,0.992,0.996,1.0,0.988,0.996,0.996,0.992],\"yaxis\":\"y\",\"type\":\"scatter\"},{\"hovertemplate\":\"variable=eps=0.60<br>Games played=%{x}<br>value=%{y}<extra></extra>\",\"legendgroup\":\"eps=0.60\",\"line\":{\"color\":\"#FF6692\",\"dash\":\"solid\"},\"marker\":{\"symbol\":\"circle\"},\"mode\":\"lines\",\"name\":\"eps=0.60\",\"orientation\":\"v\",\"showlegend\":true,\"x\":[250,500,750,1000,1250,1500,1750,2000,2250,2500,2750,3000,3250,3500,3750,4000,4250,4500,4750,5000,5250,5500,5750,6000,6250,6500,6750,7000,7250,7500,7750,8000,8250,8500,8750,9000,9250,9500,9750,10000,10250,10500,10750,11000,11250,11500,11750,12000,12250,12500,12750,13000,13250,13500,13750,14000,14250,14500,14750,15000,15250,15500,15750,16000,16250,16500,16750,17000,17250,17500,17750,18000,18250,18500,18750,19000,19250,19500,19750],\"xaxis\":\"x\",\"y\":[0.728,0.852,0.884,0.924,0.852,0.904,0.928,0.912,0.908,0.928,0.928,0.908,0.94,0.924,0.948,0.956,0.952,0.964,0.98,0.956,0.976,0.964,0.972,0.96,0.952,0.952,0.952,0.984,0.972,0.988,0.956,0.988,0.968,0.98,0.976,0.98,0.984,0.984,0.984,0.976,0.988,0.964,0.984,0.988,0.988,0.98,0.956,0.976,0.984,0.992,0.996,0.988,0.992,0.98,0.996,0.976,0.992,0.996,0.988,0.98,0.984,0.988,0.996,0.98,0.988,0.984,0.988,0.996,1.0,0.984,0.996,0.996,1.0,0.968,0.984,0.976,0.98,0.992,0.996],\"yaxis\":\"y\",\"type\":\"scatter\"},{\"hovertemplate\":\"variable=eps=0.70<br>Games played=%{x}<br>value=%{y}<extra></extra>\",\"legendgroup\":\"eps=0.70\",\"line\":{\"color\":\"#B6E880\",\"dash\":\"solid\"},\"marker\":{\"symbol\":\"circle\"},\"mode\":\"lines\",\"name\":\"eps=0.70\",\"orientation\":\"v\",\"showlegend\":true,\"x\":[250,500,750,1000,1250,1500,1750,2000,2250,2500,2750,3000,3250,3500,3750,4000,4250,4500,4750,5000,5250,5500,5750,6000,6250,6500,6750,7000,7250,7500,7750,8000,8250,8500,8750,9000,9250,9500,9750,10000,10250,10500,10750,11000,11250,11500,11750,12000,12250,12500,12750,13000,13250,13500,13750,14000,14250,14500,14750,15000,15250,15500,15750,16000,16250,16500,16750,17000,17250,17500,17750,18000,18250,18500,18750,19000,19250,19500,19750],\"xaxis\":\"x\",\"y\":[0.768,0.752,0.788,0.796,0.824,0.856,0.896,0.876,0.888,0.872,0.932,0.968,0.916,0.932,0.956,0.956,0.952,0.96,0.932,0.932,0.952,0.948,0.952,0.98,0.952,0.952,0.964,0.972,0.964,0.976,0.984,0.976,0.988,0.956,0.976,0.952,0.98,0.976,0.968,0.968,0.956,0.976,0.972,0.972,0.98,0.968,0.988,0.972,0.98,0.988,0.996,0.984,0.976,0.972,0.98,0.992,0.964,0.972,0.98,0.992,0.988,0.98,0.964,0.964,0.984,0.98,0.976,0.976,0.988,0.992,0.988,0.98,0.98,0.996,0.976,0.984,0.996,0.996,1.0],\"yaxis\":\"y\",\"type\":\"scatter\"},{\"hovertemplate\":\"variable=eps=0.80<br>Games played=%{x}<br>value=%{y}<extra></extra>\",\"legendgroup\":\"eps=0.80\",\"line\":{\"color\":\"#FF97FF\",\"dash\":\"solid\"},\"marker\":{\"symbol\":\"circle\"},\"mode\":\"lines\",\"name\":\"eps=0.80\",\"orientation\":\"v\",\"showlegend\":true,\"x\":[250,500,750,1000,1250,1500,1750,2000,2250,2500,2750,3000,3250,3500,3750,4000,4250,4500,4750,5000,5250,5500,5750,6000,6250,6500,6750,7000,7250,7500,7750,8000,8250,8500,8750,9000,9250,9500,9750,10000,10250,10500,10750,11000,11250,11500,11750,12000,12250,12500,12750,13000,13250,13500,13750,14000,14250,14500,14750,15000,15250,15500,15750,16000,16250,16500,16750,17000,17250,17500,17750,18000,18250,18500,18750,19000,19250,19500,19750],\"xaxis\":\"x\",\"y\":[0.712,0.736,0.788,0.796,0.768,0.828,0.844,0.86,0.86,0.908,0.9,0.936,0.888,0.892,0.884,0.896,0.892,0.896,0.944,0.936,0.928,0.916,0.892,0.932,0.936,0.912,0.904,0.94,0.948,0.908,0.968,0.96,0.94,0.968,0.968,0.98,0.932,0.96,0.952,0.972,0.956,0.968,0.976,0.948,0.968,0.956,0.964,0.968,0.968,0.944,0.948,0.976,0.972,0.948,0.976,0.984,0.944,0.96,0.956,0.964,0.976,0.956,0.968,0.968,0.968,0.972,0.976,0.984,0.968,0.976,0.976,0.98,0.98,0.992,0.968,0.984,0.968,0.992,0.964],\"yaxis\":\"y\",\"type\":\"scatter\"},{\"hovertemplate\":\"variable=eps=0.90<br>Games played=%{x}<br>value=%{y}<extra></extra>\",\"legendgroup\":\"eps=0.90\",\"line\":{\"color\":\"#FECB52\",\"dash\":\"solid\"},\"marker\":{\"symbol\":\"circle\"},\"mode\":\"lines\",\"name\":\"eps=0.90\",\"orientation\":\"v\",\"showlegend\":true,\"x\":[250,500,750,1000,1250,1500,1750,2000,2250,2500,2750,3000,3250,3500,3750,4000,4250,4500,4750,5000,5250,5500,5750,6000,6250,6500,6750,7000,7250,7500,7750,8000,8250,8500,8750,9000,9250,9500,9750,10000,10250,10500,10750,11000,11250,11500,11750,12000,12250,12500,12750,13000,13250,13500,13750,14000,14250,14500,14750,15000,15250,15500,15750,16000,16250,16500,16750,17000,17250,17500,17750,18000,18250,18500,18750,19000,19250,19500,19750],\"xaxis\":\"x\",\"y\":[0.656,0.632,0.748,0.744,0.764,0.792,0.852,0.808,0.808,0.776,0.788,0.876,0.848,0.872,0.848,0.86,0.9,0.868,0.892,0.856,0.944,0.868,0.912,0.924,0.908,0.948,0.916,0.904,0.908,0.908,0.904,0.928,0.896,0.936,0.92,0.916,0.924,0.924,0.944,0.952,0.928,0.94,0.944,0.94,0.932,0.936,0.928,0.948,0.956,0.932,0.92,0.948,0.96,0.964,0.972,0.964,0.972,0.964,0.964,0.956,0.976,0.96,0.992,0.976,0.968,0.96,0.96,0.968,0.952,0.968,0.968,0.98,0.972,0.956,0.94,0.968,0.976,0.964,0.96],\"yaxis\":\"y\",\"type\":\"scatter\"},{\"hovertemplate\":\"variable=eps=1.00<br>Games played=%{x}<br>value=%{y}<extra></extra>\",\"legendgroup\":\"eps=1.00\",\"line\":{\"color\":\"#636efa\",\"dash\":\"solid\"},\"marker\":{\"symbol\":\"circle\"},\"mode\":\"lines\",\"name\":\"eps=1.00\",\"orientation\":\"v\",\"showlegend\":true,\"x\":[250,500,750,1000,1250,1500,1750,2000,2250,2500,2750,3000,3250,3500,3750,4000,4250,4500,4750,5000,5250,5500,5750,6000,6250,6500,6750,7000,7250,7500,7750,8000,8250,8500,8750,9000,9250,9500,9750,10000,10250,10500,10750,11000,11250,11500,11750,12000,12250,12500,12750,13000,13250,13500,13750,14000,14250,14500,14750,15000,15250,15500,15750,16000,16250,16500,16750,17000,17250,17500,17750,18000,18250,18500,18750,19000,19250,19500,19750],\"xaxis\":\"x\",\"y\":[0.716,0.664,0.672,0.696,0.74,0.712,0.704,0.676,0.78,0.74,0.744,0.8,0.736,0.78,0.8,0.8,0.84,0.796,0.824,0.856,0.76,0.848,0.832,0.788,0.872,0.86,0.844,0.876,0.86,0.864,0.892,0.856,0.86,0.872,0.88,0.872,0.884,0.896,0.868,0.868,0.828,0.844,0.924,0.88,0.88,0.88,0.896,0.908,0.872,0.856,0.936,0.904,0.904,0.892,0.9,0.912,0.916,0.928,0.928,0.932,0.88,0.916,0.92,0.908,0.912,0.944,0.892,0.92,0.908,0.928,0.96,0.904,0.892,0.916,0.92,0.916,0.948,0.928,0.944],\"yaxis\":\"y\",\"type\":\"scatter\"}],                        {\"template\":{\"data\":{\"histogram2dcontour\":[{\"type\":\"histogram2dcontour\",\"colorbar\":{\"outlinewidth\":0,\"ticks\":\"\"},\"colorscale\":[[0.0,\"#0d0887\"],[0.1111111111111111,\"#46039f\"],[0.2222222222222222,\"#7201a8\"],[0.3333333333333333,\"#9c179e\"],[0.4444444444444444,\"#bd3786\"],[0.5555555555555556,\"#d8576b\"],[0.6666666666666666,\"#ed7953\"],[0.7777777777777778,\"#fb9f3a\"],[0.8888888888888888,\"#fdca26\"],[1.0,\"#f0f921\"]]}],\"choropleth\":[{\"type\":\"choropleth\",\"colorbar\":{\"outlinewidth\":0,\"ticks\":\"\"}}],\"histogram2d\":[{\"type\":\"histogram2d\",\"colorbar\":{\"outlinewidth\":0,\"ticks\":\"\"},\"colorscale\":[[0.0,\"#0d0887\"],[0.1111111111111111,\"#46039f\"],[0.2222222222222222,\"#7201a8\"],[0.3333333333333333,\"#9c179e\"],[0.4444444444444444,\"#bd3786\"],[0.5555555555555556,\"#d8576b\"],[0.6666666666666666,\"#ed7953\"],[0.7777777777777778,\"#fb9f3a\"],[0.8888888888888888,\"#fdca26\"],[1.0,\"#f0f921\"]]}],\"heatmap\":[{\"type\":\"heatmap\",\"colorbar\":{\"outlinewidth\":0,\"ticks\":\"\"},\"colorscale\":[[0.0,\"#0d0887\"],[0.1111111111111111,\"#46039f\"],[0.2222222222222222,\"#7201a8\"],[0.3333333333333333,\"#9c179e\"],[0.4444444444444444,\"#bd3786\"],[0.5555555555555556,\"#d8576b\"],[0.6666666666666666,\"#ed7953\"],[0.7777777777777778,\"#fb9f3a\"],[0.8888888888888888,\"#fdca26\"],[1.0,\"#f0f921\"]]}],\"heatmapgl\":[{\"type\":\"heatmapgl\",\"colorbar\":{\"outlinewidth\":0,\"ticks\":\"\"},\"colorscale\":[[0.0,\"#0d0887\"],[0.1111111111111111,\"#46039f\"],[0.2222222222222222,\"#7201a8\"],[0.3333333333333333,\"#9c179e\"],[0.4444444444444444,\"#bd3786\"],[0.5555555555555556,\"#d8576b\"],[0.6666666666666666,\"#ed7953\"],[0.7777777777777778,\"#fb9f3a\"],[0.8888888888888888,\"#fdca26\"],[1.0,\"#f0f921\"]]}],\"contourcarpet\":[{\"type\":\"contourcarpet\",\"colorbar\":{\"outlinewidth\":0,\"ticks\":\"\"}}],\"contour\":[{\"type\":\"contour\",\"colorbar\":{\"outlinewidth\":0,\"ticks\":\"\"},\"colorscale\":[[0.0,\"#0d0887\"],[0.1111111111111111,\"#46039f\"],[0.2222222222222222,\"#7201a8\"],[0.3333333333333333,\"#9c179e\"],[0.4444444444444444,\"#bd3786\"],[0.5555555555555556,\"#d8576b\"],[0.6666666666666666,\"#ed7953\"],[0.7777777777777778,\"#fb9f3a\"],[0.8888888888888888,\"#fdca26\"],[1.0,\"#f0f921\"]]}],\"surface\":[{\"type\":\"surface\",\"colorbar\":{\"outlinewidth\":0,\"ticks\":\"\"},\"colorscale\":[[0.0,\"#0d0887\"],[0.1111111111111111,\"#46039f\"],[0.2222222222222222,\"#7201a8\"],[0.3333333333333333,\"#9c179e\"],[0.4444444444444444,\"#bd3786\"],[0.5555555555555556,\"#d8576b\"],[0.6666666666666666,\"#ed7953\"],[0.7777777777777778,\"#fb9f3a\"],[0.8888888888888888,\"#fdca26\"],[1.0,\"#f0f921\"]]}],\"mesh3d\":[{\"type\":\"mesh3d\",\"colorbar\":{\"outlinewidth\":0,\"ticks\":\"\"}}],\"scatter\":[{\"fillpattern\":{\"fillmode\":\"overlay\",\"size\":10,\"solidity\":0.2},\"type\":\"scatter\"}],\"parcoords\":[{\"type\":\"parcoords\",\"line\":{\"colorbar\":{\"outlinewidth\":0,\"ticks\":\"\"}}}],\"scatterpolargl\":[{\"type\":\"scatterpolargl\",\"marker\":{\"colorbar\":{\"outlinewidth\":0,\"ticks\":\"\"}}}],\"bar\":[{\"error_x\":{\"color\":\"#2a3f5f\"},\"error_y\":{\"color\":\"#2a3f5f\"},\"marker\":{\"line\":{\"color\":\"#E5ECF6\",\"width\":0.5},\"pattern\":{\"fillmode\":\"overlay\",\"size\":10,\"solidity\":0.2}},\"type\":\"bar\"}],\"scattergeo\":[{\"type\":\"scattergeo\",\"marker\":{\"colorbar\":{\"outlinewidth\":0,\"ticks\":\"\"}}}],\"scatterpolar\":[{\"type\":\"scatterpolar\",\"marker\":{\"colorbar\":{\"outlinewidth\":0,\"ticks\":\"\"}}}],\"histogram\":[{\"marker\":{\"pattern\":{\"fillmode\":\"overlay\",\"size\":10,\"solidity\":0.2}},\"type\":\"histogram\"}],\"scattergl\":[{\"type\":\"scattergl\",\"marker\":{\"colorbar\":{\"outlinewidth\":0,\"ticks\":\"\"}}}],\"scatter3d\":[{\"type\":\"scatter3d\",\"line\":{\"colorbar\":{\"outlinewidth\":0,\"ticks\":\"\"}},\"marker\":{\"colorbar\":{\"outlinewidth\":0,\"ticks\":\"\"}}}],\"scattermapbox\":[{\"type\":\"scattermapbox\",\"marker\":{\"colorbar\":{\"outlinewidth\":0,\"ticks\":\"\"}}}],\"scatterternary\":[{\"type\":\"scatterternary\",\"marker\":{\"colorbar\":{\"outlinewidth\":0,\"ticks\":\"\"}}}],\"scattercarpet\":[{\"type\":\"scattercarpet\",\"marker\":{\"colorbar\":{\"outlinewidth\":0,\"ticks\":\"\"}}}],\"carpet\":[{\"aaxis\":{\"endlinecolor\":\"#2a3f5f\",\"gridcolor\":\"white\",\"linecolor\":\"white\",\"minorgridcolor\":\"white\",\"startlinecolor\":\"#2a3f5f\"},\"baxis\":{\"endlinecolor\":\"#2a3f5f\",\"gridcolor\":\"white\",\"linecolor\":\"white\",\"minorgridcolor\":\"white\",\"startlinecolor\":\"#2a3f5f\"},\"type\":\"carpet\"}],\"table\":[{\"cells\":{\"fill\":{\"color\":\"#EBF0F8\"},\"line\":{\"color\":\"white\"}},\"header\":{\"fill\":{\"color\":\"#C8D4E3\"},\"line\":{\"color\":\"white\"}},\"type\":\"table\"}],\"barpolar\":[{\"marker\":{\"line\":{\"color\":\"#E5ECF6\",\"width\":0.5},\"pattern\":{\"fillmode\":\"overlay\",\"size\":10,\"solidity\":0.2}},\"type\":\"barpolar\"}],\"pie\":[{\"automargin\":true,\"type\":\"pie\"}]},\"layout\":{\"autotypenumbers\":\"strict\",\"colorway\":[\"#636efa\",\"#EF553B\",\"#00cc96\",\"#ab63fa\",\"#FFA15A\",\"#19d3f3\",\"#FF6692\",\"#B6E880\",\"#FF97FF\",\"#FECB52\"],\"font\":{\"color\":\"#2a3f5f\"},\"hovermode\":\"closest\",\"hoverlabel\":{\"align\":\"left\"},\"paper_bgcolor\":\"white\",\"plot_bgcolor\":\"#E5ECF6\",\"polar\":{\"bgcolor\":\"#E5ECF6\",\"angularaxis\":{\"gridcolor\":\"white\",\"linecolor\":\"white\",\"ticks\":\"\"},\"radialaxis\":{\"gridcolor\":\"white\",\"linecolor\":\"white\",\"ticks\":\"\"}},\"ternary\":{\"bgcolor\":\"#E5ECF6\",\"aaxis\":{\"gridcolor\":\"white\",\"linecolor\":\"white\",\"ticks\":\"\"},\"baxis\":{\"gridcolor\":\"white\",\"linecolor\":\"white\",\"ticks\":\"\"},\"caxis\":{\"gridcolor\":\"white\",\"linecolor\":\"white\",\"ticks\":\"\"}},\"coloraxis\":{\"colorbar\":{\"outlinewidth\":0,\"ticks\":\"\"}},\"colorscale\":{\"sequential\":[[0.0,\"#0d0887\"],[0.1111111111111111,\"#46039f\"],[0.2222222222222222,\"#7201a8\"],[0.3333333333333333,\"#9c179e\"],[0.4444444444444444,\"#bd3786\"],[0.5555555555555556,\"#d8576b\"],[0.6666666666666666,\"#ed7953\"],[0.7777777777777778,\"#fb9f3a\"],[0.8888888888888888,\"#fdca26\"],[1.0,\"#f0f921\"]],\"sequentialminus\":[[0.0,\"#0d0887\"],[0.1111111111111111,\"#46039f\"],[0.2222222222222222,\"#7201a8\"],[0.3333333333333333,\"#9c179e\"],[0.4444444444444444,\"#bd3786\"],[0.5555555555555556,\"#d8576b\"],[0.6666666666666666,\"#ed7953\"],[0.7777777777777778,\"#fb9f3a\"],[0.8888888888888888,\"#fdca26\"],[1.0,\"#f0f921\"]],\"diverging\":[[0,\"#8e0152\"],[0.1,\"#c51b7d\"],[0.2,\"#de77ae\"],[0.3,\"#f1b6da\"],[0.4,\"#fde0ef\"],[0.5,\"#f7f7f7\"],[0.6,\"#e6f5d0\"],[0.7,\"#b8e186\"],[0.8,\"#7fbc41\"],[0.9,\"#4d9221\"],[1,\"#276419\"]]},\"xaxis\":{\"gridcolor\":\"white\",\"linecolor\":\"white\",\"ticks\":\"\",\"title\":{\"standoff\":15},\"zerolinecolor\":\"white\",\"automargin\":true,\"zerolinewidth\":2},\"yaxis\":{\"gridcolor\":\"white\",\"linecolor\":\"white\",\"ticks\":\"\",\"title\":{\"standoff\":15},\"zerolinecolor\":\"white\",\"automargin\":true,\"zerolinewidth\":2},\"scene\":{\"xaxis\":{\"backgroundcolor\":\"#E5ECF6\",\"gridcolor\":\"white\",\"linecolor\":\"white\",\"showbackground\":true,\"ticks\":\"\",\"zerolinecolor\":\"white\",\"gridwidth\":2},\"yaxis\":{\"backgroundcolor\":\"#E5ECF6\",\"gridcolor\":\"white\",\"linecolor\":\"white\",\"showbackground\":true,\"ticks\":\"\",\"zerolinecolor\":\"white\",\"gridwidth\":2},\"zaxis\":{\"backgroundcolor\":\"#E5ECF6\",\"gridcolor\":\"white\",\"linecolor\":\"white\",\"showbackground\":true,\"ticks\":\"\",\"zerolinecolor\":\"white\",\"gridwidth\":2}},\"shapedefaults\":{\"line\":{\"color\":\"#2a3f5f\"}},\"annotationdefaults\":{\"arrowcolor\":\"#2a3f5f\",\"arrowhead\":0,\"arrowwidth\":1},\"geo\":{\"bgcolor\":\"white\",\"landcolor\":\"#E5ECF6\",\"subunitcolor\":\"white\",\"showland\":true,\"showlakes\":true,\"lakecolor\":\"white\"},\"title\":{\"x\":0.05},\"mapbox\":{\"style\":\"light\"}}},\"xaxis\":{\"anchor\":\"y\",\"domain\":[0.0,1.0],\"title\":{\"text\":\"Games played\"}},\"yaxis\":{\"anchor\":\"x\",\"domain\":[0.0,1.0],\"title\":{\"text\":\"Mrand\"}},\"legend\":{\"title\":{\"text\":\"variable\"},\"tracegroupgap\":0},\"margin\":{\"t\":60},\"width\":800},                        {\"responsive\": true}                    ).then(function(){\n",
       "                            \n",
       "var gd = document.getElementById('2410c2aa-c65a-473f-9fcc-a10f976139b6');\n",
       "var x = new MutationObserver(function (mutations, observer) {{\n",
       "        var display = window.getComputedStyle(gd).display;\n",
       "        if (!display || display === 'none') {{\n",
       "            console.log([gd, 'removed!']);\n",
       "            Plotly.purge(gd);\n",
       "            observer.disconnect();\n",
       "        }}\n",
       "}});\n",
       "\n",
       "// Listen for the removal of the full notebook cells\n",
       "var notebookContainer = gd.closest('#notebook-container');\n",
       "if (notebookContainer) {{\n",
       "    x.observe(notebookContainer, {childList: true});\n",
       "}}\n",
       "\n",
       "// Listen for the clearing of the current output cell\n",
       "var outputEl = gd.closest('.output');\n",
       "if (outputEl) {{\n",
       "    x.observe(outputEl, {childList: true});\n",
       "}}\n",
       "\n",
       "                        })                };                });            </script>        </div>"
      ]
     },
     "metadata": {},
     "output_type": "display_data"
    }
   ],
   "source": [
    "df1 = training_results[4][0]\n",
    "df2 = training_results[4][1]\n",
    "df3 = training_results[4][2]\n",
    "\n",
    "df1, df2, df3 = pd.DataFrame(df1), pd.DataFrame(df2), pd.DataFrame(df3)\n",
    "fig1 = px.line(df1, x='Games played', y=df1.columns.difference(['Games played']), title=\"Training and testing with self-learning, using different eps values\")\n",
    "fig1.update_layout(width=800)\n",
    "fig1.update_yaxes(title_text = \"Mean reward\")\n",
    "fig2 = px.line(df2, x='Games played', y=df2.columns.difference(['Games played']))\n",
    "fig2.update_layout(width=800)\n",
    "fig2.update_yaxes(title_text = \"Mopt\")\n",
    "fig3 = px.line(df3, x='Games played', y=df3.columns.difference(['Games played']))\n",
    "fig3.update_layout(width=800)\n",
    "fig3.update_yaxes(title_text = \"Mrand\")\n",
    "fig1.show()\n",
    "fig2.show()\n",
    "fig3.show()"
   ]
  },
  {
   "cell_type": "markdown",
   "metadata": {
    "collapsed": false,
    "pycharm": {
     "name": "#%% md\n"
    }
   },
   "source": [
    "Since the players during training are the same, it makes sense that they have the same probability of winning, hence the mean reward always oscillates around 0.0. Again, the learner always learns something since it's always better than the random player, but only low eps values seem to learn and play as a Opt(0) player. Best eps values are the same as before when learning against a Opt(eps) player and not against itself, but the low M-rand with eps= 0.0 is not there anymore!"
   ]
  },
  {
   "cell_type": "markdown",
   "metadata": {
    "collapsed": false,
    "pycharm": {
     "name": "#%% md\n"
    }
   },
   "source": [
    "### Question 8\n",
    "After every 250 games during training, compute the ‘test’ Mopt and Mrand for your agents. Does decreasing eps help training compared to having a fixed eps? What is the effect of n*?\n",
    "Expected answer: A figure showing Mopt and Mrand over time for different values of speeds of n* (caption length < 100 words)."
   ]
  },
  {
   "cell_type": "code",
   "execution_count": 40,
   "metadata": {
    "collapsed": false,
    "pycharm": {
     "name": "#%%\n"
    }
   },
   "outputs": [],
   "source": [
    "if not use_backup:\n",
    "    env = NimEnv()\n",
    "    output = []\n",
    "    n_star_values=np.linspace(1, 40000, 6)\n",
    "\n",
    "    # redefining the parallelGames function for M_opt and M_rand configuration\n",
    "    df1 = {'Games played':list(np.arange(1,20000//METRICS_FREQUENCY)*METRICS_FREQUENCY)}\n",
    "    df2 = {'Games played':list(np.arange(1,20000//METRICS_FREQUENCY)*METRICS_FREQUENCY)}\n",
    "    df3 = {'Games played':list(np.arange(1,20000//METRICS_FREQUENCY)*METRICS_FREQUENCY)}\n",
    "    num_cores = mp.cpu_count()\n",
    "    def parallelGames(n_star):\n",
    "        df1, df2, df3 = {}, {}, {}\n",
    "        metrics,_ = q_learning(env, num_games=20000, gamma=0.99, decreasing_eps=True,\n",
    "                                            n_star=n_star, verbose=False, test=True, self_learning=True)\n",
    "        df1[f\"Average reward (n*={n_star:.0f})\"] = metrics[0]\n",
    "        df2[f\"Mopt (n*={n_star:.0f})\"] = metrics[1]\n",
    "        df3[f\"Mrand (n*={n_star:.0f})\"] = metrics[2]\n",
    "        return df1, df2, df3\n",
    "    dfs = Parallel(n_jobs=num_cores)(delayed(parallelGames)(n_star) for n_star in n_star_values)\n",
    "    for d1,d2,d3 in dfs:\n",
    "        df1.update(d1)\n",
    "        df2.update(d2)\n",
    "        df3.update(d3)\n",
    "    training_results.append([df1,df2,df3])"
   ]
  },
  {
   "cell_type": "code",
   "execution_count": 41,
   "metadata": {
    "collapsed": false,
    "pycharm": {
     "name": "#%%\n"
    }
   },
   "outputs": [
    {
     "data": {
      "application/vnd.plotly.v1+json": {
       "config": {
        "plotlyServerURL": "https://plot.ly"
       },
       "data": [
        {
         "hovertemplate": "variable=Average reward (n*=1)<br>Games played=%{x}<br>value=%{y}<extra></extra>",
         "legendgroup": "Average reward (n*=1)",
         "line": {
          "color": "#636efa",
          "dash": "solid"
         },
         "marker": {
          "symbol": "circle"
         },
         "mode": "lines",
         "name": "Average reward (n*=1)",
         "orientation": "v",
         "showlegend": true,
         "type": "scatter",
         "x": [
          250,
          500,
          750,
          1000,
          1250,
          1500,
          1750,
          2000,
          2250,
          2500,
          2750,
          3000,
          3250,
          3500,
          3750,
          4000,
          4250,
          4500,
          4750,
          5000,
          5250,
          5500,
          5750,
          6000,
          6250,
          6500,
          6750,
          7000,
          7250,
          7500,
          7750,
          8000,
          8250,
          8500,
          8750,
          9000,
          9250,
          9500,
          9750,
          10000,
          10250,
          10500,
          10750,
          11000,
          11250,
          11500,
          11750,
          12000,
          12250,
          12500,
          12750,
          13000,
          13250,
          13500,
          13750,
          14000,
          14250,
          14500,
          14750,
          15000,
          15250,
          15500,
          15750,
          16000,
          16250,
          16500,
          16750,
          17000,
          17250,
          17500,
          17750,
          18000,
          18250,
          18500,
          18750,
          19000,
          19250,
          19500,
          19750
         ],
         "xaxis": "x",
         "y": [
          -0.043824701195219126,
          0.008,
          0.064,
          -0.032,
          -0.048,
          -0.128,
          0.008,
          -0.04,
          0.056,
          0.128,
          -0.144,
          -0.032,
          -0.064,
          -0.04,
          0.008,
          -0.144,
          0.016,
          0,
          0.016,
          -0.128,
          0.016,
          -0.072,
          -0.064,
          0.016,
          -0.032,
          0.048,
          -0.136,
          0.056,
          0.056,
          0.032,
          -0.12,
          -0.016,
          0.08,
          0,
          -0.12,
          0.064,
          -0.008,
          0.032,
          -0.016,
          -0.088,
          0.056,
          0.056,
          -0.048,
          0.08,
          0.12,
          0.064,
          -0.04,
          -0.04,
          0.096,
          -0.008,
          0.072,
          -0.032,
          0.104,
          0.024,
          -0.056,
          0.064,
          0.056,
          -0.016,
          0.008,
          -0.024,
          0.056,
          -0.088,
          -0.016,
          -0.096,
          -0.04,
          -0.12,
          -0.088,
          0.032,
          0.04,
          0.064,
          -0.048,
          0.072,
          -0.04,
          -0.032,
          0.016,
          -0.032,
          -0.008,
          0.04,
          0.056
         ],
         "yaxis": "y"
        },
        {
         "hovertemplate": "variable=Average reward (n*=16001)<br>Games played=%{x}<br>value=%{y}<extra></extra>",
         "legendgroup": "Average reward (n*=16001)",
         "line": {
          "color": "#EF553B",
          "dash": "solid"
         },
         "marker": {
          "symbol": "circle"
         },
         "mode": "lines",
         "name": "Average reward (n*=16001)",
         "orientation": "v",
         "showlegend": true,
         "type": "scatter",
         "x": [
          250,
          500,
          750,
          1000,
          1250,
          1500,
          1750,
          2000,
          2250,
          2500,
          2750,
          3000,
          3250,
          3500,
          3750,
          4000,
          4250,
          4500,
          4750,
          5000,
          5250,
          5500,
          5750,
          6000,
          6250,
          6500,
          6750,
          7000,
          7250,
          7500,
          7750,
          8000,
          8250,
          8500,
          8750,
          9000,
          9250,
          9500,
          9750,
          10000,
          10250,
          10500,
          10750,
          11000,
          11250,
          11500,
          11750,
          12000,
          12250,
          12500,
          12750,
          13000,
          13250,
          13500,
          13750,
          14000,
          14250,
          14500,
          14750,
          15000,
          15250,
          15500,
          15750,
          16000,
          16250,
          16500,
          16750,
          17000,
          17250,
          17500,
          17750,
          18000,
          18250,
          18500,
          18750,
          19000,
          19250,
          19500,
          19750
         ],
         "xaxis": "x",
         "y": [
          0.08366533864541832,
          -0.016,
          0.032,
          -0.072,
          -0.008,
          -0.032,
          0.04,
          -0.104,
          -0.016,
          0.096,
          -0.064,
          0.04,
          -0.072,
          0.04,
          0.016,
          -0.04,
          -0.008,
          -0.04,
          -0.072,
          0.04,
          -0.048,
          -0.016,
          0,
          0.056,
          0,
          0,
          -0.04,
          0.08,
          0.024,
          0.064,
          -0.072,
          0.064,
          0,
          -0.016,
          0.024,
          0.048,
          -0.056,
          0.064,
          0.136,
          0.032,
          -0.048,
          -0.04,
          -0.016,
          -0.088,
          0.072,
          0.016,
          -0.056,
          0.04,
          0.032,
          0.04,
          0.128,
          0.112,
          0,
          0,
          -0.016,
          -0.064,
          -0.072,
          0.024,
          0.032,
          -0.032,
          0.112,
          0.048,
          0.12,
          0.048,
          -0.008,
          0.048,
          -0.032,
          0.04,
          0.04,
          -0.008,
          0.024,
          0.064,
          -0.08,
          0.008,
          -0.016,
          -0.024,
          -0.008,
          -0.048,
          -0.024
         ],
         "yaxis": "y"
        },
        {
         "hovertemplate": "variable=Average reward (n*=24000)<br>Games played=%{x}<br>value=%{y}<extra></extra>",
         "legendgroup": "Average reward (n*=24000)",
         "line": {
          "color": "#00cc96",
          "dash": "solid"
         },
         "marker": {
          "symbol": "circle"
         },
         "mode": "lines",
         "name": "Average reward (n*=24000)",
         "orientation": "v",
         "showlegend": true,
         "type": "scatter",
         "x": [
          250,
          500,
          750,
          1000,
          1250,
          1500,
          1750,
          2000,
          2250,
          2500,
          2750,
          3000,
          3250,
          3500,
          3750,
          4000,
          4250,
          4500,
          4750,
          5000,
          5250,
          5500,
          5750,
          6000,
          6250,
          6500,
          6750,
          7000,
          7250,
          7500,
          7750,
          8000,
          8250,
          8500,
          8750,
          9000,
          9250,
          9500,
          9750,
          10000,
          10250,
          10500,
          10750,
          11000,
          11250,
          11500,
          11750,
          12000,
          12250,
          12500,
          12750,
          13000,
          13250,
          13500,
          13750,
          14000,
          14250,
          14500,
          14750,
          15000,
          15250,
          15500,
          15750,
          16000,
          16250,
          16500,
          16750,
          17000,
          17250,
          17500,
          17750,
          18000,
          18250,
          18500,
          18750,
          19000,
          19250,
          19500,
          19750
         ],
         "xaxis": "x",
         "y": [
          -0.09163346613545817,
          -0.048,
          0,
          -0.048,
          0.016,
          -0.008,
          0.04,
          0.056,
          -0.016,
          0.008,
          0.048,
          -0.04,
          0.024,
          -0.04,
          0.024,
          0.056,
          0.04,
          0.056,
          -0.096,
          -0.112,
          0.016,
          -0.04,
          -0.064,
          0.016,
          0.064,
          0.024,
          -0.048,
          -0.008,
          -0.032,
          0,
          -0.008,
          -0.08,
          -0.04,
          -0.016,
          -0.008,
          0.096,
          -0.104,
          -0.016,
          0.008,
          0.088,
          -0.024,
          0.016,
          -0.144,
          -0.008,
          0.048,
          -0.08,
          0.024,
          -0.048,
          0.032,
          0.024,
          0.048,
          -0.04,
          -0.016,
          0.136,
          -0.08,
          -0.08,
          -0.064,
          -0.008,
          -0.04,
          0,
          -0.024,
          0,
          -0.016,
          0.008,
          -0.064,
          0.056,
          -0.072,
          0.024,
          -0.032,
          0.048,
          -0.072,
          0.024,
          0,
          -0.088,
          -0.064,
          -0.032,
          -0.008,
          -0.072,
          -0.064
         ],
         "yaxis": "y"
        },
        {
         "hovertemplate": "variable=Average reward (n*=32000)<br>Games played=%{x}<br>value=%{y}<extra></extra>",
         "legendgroup": "Average reward (n*=32000)",
         "line": {
          "color": "#ab63fa",
          "dash": "solid"
         },
         "marker": {
          "symbol": "circle"
         },
         "mode": "lines",
         "name": "Average reward (n*=32000)",
         "orientation": "v",
         "showlegend": true,
         "type": "scatter",
         "x": [
          250,
          500,
          750,
          1000,
          1250,
          1500,
          1750,
          2000,
          2250,
          2500,
          2750,
          3000,
          3250,
          3500,
          3750,
          4000,
          4250,
          4500,
          4750,
          5000,
          5250,
          5500,
          5750,
          6000,
          6250,
          6500,
          6750,
          7000,
          7250,
          7500,
          7750,
          8000,
          8250,
          8500,
          8750,
          9000,
          9250,
          9500,
          9750,
          10000,
          10250,
          10500,
          10750,
          11000,
          11250,
          11500,
          11750,
          12000,
          12250,
          12500,
          12750,
          13000,
          13250,
          13500,
          13750,
          14000,
          14250,
          14500,
          14750,
          15000,
          15250,
          15500,
          15750,
          16000,
          16250,
          16500,
          16750,
          17000,
          17250,
          17500,
          17750,
          18000,
          18250,
          18500,
          18750,
          19000,
          19250,
          19500,
          19750
         ],
         "xaxis": "x",
         "y": [
          0.099601593625498,
          -0.016,
          -0.008,
          -0.024,
          0.032,
          0.024,
          -0.008,
          -0.008,
          0.12,
          -0.048,
          -0.008,
          -0.008,
          0.04,
          -0.008,
          -0.032,
          0.016,
          0.008,
          -0.024,
          -0.072,
          -0.048,
          0.016,
          0.048,
          0.056,
          -0.104,
          0.04,
          -0.096,
          0.056,
          -0.04,
          0.024,
          0.096,
          -0.04,
          0.008,
          -0.104,
          0.048,
          -0.088,
          -0.016,
          -0.024,
          -0.112,
          0,
          -0.048,
          -0.056,
          -0.056,
          -0.056,
          0.04,
          0.104,
          0.016,
          -0.032,
          -0.056,
          0,
          0.016,
          -0.016,
          0.008,
          -0.072,
          0.008,
          0.096,
          0.024,
          -0.112,
          0.04,
          0.024,
          -0.016,
          -0.024,
          0.096,
          -0.008,
          0,
          0.016,
          -0.024,
          0.008,
          -0.008,
          0.024,
          0.072,
          -0.024,
          -0.064,
          -0.088,
          -0.064,
          -0.112,
          -0.064,
          -0.128,
          0,
          -0.08
         ],
         "yaxis": "y"
        },
        {
         "hovertemplate": "variable=Average reward (n*=40000)<br>Games played=%{x}<br>value=%{y}<extra></extra>",
         "legendgroup": "Average reward (n*=40000)",
         "line": {
          "color": "#FFA15A",
          "dash": "solid"
         },
         "marker": {
          "symbol": "circle"
         },
         "mode": "lines",
         "name": "Average reward (n*=40000)",
         "orientation": "v",
         "showlegend": true,
         "type": "scatter",
         "x": [
          250,
          500,
          750,
          1000,
          1250,
          1500,
          1750,
          2000,
          2250,
          2500,
          2750,
          3000,
          3250,
          3500,
          3750,
          4000,
          4250,
          4500,
          4750,
          5000,
          5250,
          5500,
          5750,
          6000,
          6250,
          6500,
          6750,
          7000,
          7250,
          7500,
          7750,
          8000,
          8250,
          8500,
          8750,
          9000,
          9250,
          9500,
          9750,
          10000,
          10250,
          10500,
          10750,
          11000,
          11250,
          11500,
          11750,
          12000,
          12250,
          12500,
          12750,
          13000,
          13250,
          13500,
          13750,
          14000,
          14250,
          14500,
          14750,
          15000,
          15250,
          15500,
          15750,
          16000,
          16250,
          16500,
          16750,
          17000,
          17250,
          17500,
          17750,
          18000,
          18250,
          18500,
          18750,
          19000,
          19250,
          19500,
          19750
         ],
         "xaxis": "x",
         "y": [
          -0.0199203187250996,
          0,
          0.024,
          -0.04,
          -0.016,
          -0.008,
          0,
          0.048,
          0.024,
          0.064,
          0.04,
          0.16,
          0.048,
          0,
          0.032,
          0.072,
          0.072,
          0.024,
          -0.016,
          0.072,
          0.024,
          -0.032,
          -0.048,
          -0.064,
          -0.016,
          -0.024,
          0.056,
          0.016,
          0.048,
          -0.088,
          -0.048,
          -0.152,
          0.04,
          0.064,
          0.048,
          -0.024,
          0.04,
          0.008,
          0.032,
          -0.032,
          -0.056,
          0.016,
          -0.184,
          -0.088,
          -0.032,
          -0.016,
          -0.016,
          -0.056,
          0.016,
          0.024,
          -0.064,
          0.008,
          0.008,
          -0.08,
          -0.024,
          0.088,
          0.008,
          -0.064,
          0.064,
          -0.032,
          0.008,
          -0.016,
          -0.184,
          -0.112,
          0.064,
          -0.04,
          0.056,
          0.16,
          0.032,
          -0.016,
          -0.088,
          0.008,
          0.12,
          0.056,
          -0.08,
          0.088,
          -0.024,
          -0.104,
          -0.056
         ],
         "yaxis": "y"
        },
        {
         "hovertemplate": "variable=Average reward (n*=8001)<br>Games played=%{x}<br>value=%{y}<extra></extra>",
         "legendgroup": "Average reward (n*=8001)",
         "line": {
          "color": "#19d3f3",
          "dash": "solid"
         },
         "marker": {
          "symbol": "circle"
         },
         "mode": "lines",
         "name": "Average reward (n*=8001)",
         "orientation": "v",
         "showlegend": true,
         "type": "scatter",
         "x": [
          250,
          500,
          750,
          1000,
          1250,
          1500,
          1750,
          2000,
          2250,
          2500,
          2750,
          3000,
          3250,
          3500,
          3750,
          4000,
          4250,
          4500,
          4750,
          5000,
          5250,
          5500,
          5750,
          6000,
          6250,
          6500,
          6750,
          7000,
          7250,
          7500,
          7750,
          8000,
          8250,
          8500,
          8750,
          9000,
          9250,
          9500,
          9750,
          10000,
          10250,
          10500,
          10750,
          11000,
          11250,
          11500,
          11750,
          12000,
          12250,
          12500,
          12750,
          13000,
          13250,
          13500,
          13750,
          14000,
          14250,
          14500,
          14750,
          15000,
          15250,
          15500,
          15750,
          16000,
          16250,
          16500,
          16750,
          17000,
          17250,
          17500,
          17750,
          18000,
          18250,
          18500,
          18750,
          19000,
          19250,
          19500,
          19750
         ],
         "xaxis": "x",
         "y": [
          -0.0199203187250996,
          0.096,
          0.024,
          -0.04,
          0.024,
          0.08,
          -0.04,
          0.048,
          0.024,
          -0.12,
          -0.016,
          0.024,
          -0.04,
          0.072,
          0.04,
          0.024,
          0.016,
          -0.04,
          0.12,
          -0.008,
          -0.048,
          -0.104,
          0,
          0.016,
          -0.168,
          -0.04,
          0.024,
          -0.08,
          -0.088,
          0.048,
          -0.048,
          0.08,
          0.016,
          -0.064,
          -0.048,
          0.016,
          -0.048,
          -0.056,
          -0.016,
          -0.08,
          -0.112,
          0.096,
          -0.016,
          -0.056,
          0.04,
          -0.104,
          0,
          0.168,
          0.048,
          0.056,
          0.04,
          -0.032,
          -0.024,
          -0.032,
          0,
          -0.072,
          -0.064,
          0,
          0.024,
          -0.056,
          0.128,
          0.008,
          -0.048,
          0.056,
          -0.024,
          -0.12,
          -0.08,
          0.064,
          0.04,
          0.024,
          -0.112,
          0.096,
          0.024,
          0.008,
          0.032,
          0,
          0.064,
          0.016,
          0.04
         ],
         "yaxis": "y"
        }
       ],
       "layout": {
        "legend": {
         "title": {
          "text": "variable"
         },
         "tracegroupgap": 0
        },
        "template": {
         "data": {
          "bar": [
           {
            "error_x": {
             "color": "#2a3f5f"
            },
            "error_y": {
             "color": "#2a3f5f"
            },
            "marker": {
             "line": {
              "color": "#E5ECF6",
              "width": 0.5
             },
             "pattern": {
              "fillmode": "overlay",
              "size": 10,
              "solidity": 0.2
             }
            },
            "type": "bar"
           }
          ],
          "barpolar": [
           {
            "marker": {
             "line": {
              "color": "#E5ECF6",
              "width": 0.5
             },
             "pattern": {
              "fillmode": "overlay",
              "size": 10,
              "solidity": 0.2
             }
            },
            "type": "barpolar"
           }
          ],
          "carpet": [
           {
            "aaxis": {
             "endlinecolor": "#2a3f5f",
             "gridcolor": "white",
             "linecolor": "white",
             "minorgridcolor": "white",
             "startlinecolor": "#2a3f5f"
            },
            "baxis": {
             "endlinecolor": "#2a3f5f",
             "gridcolor": "white",
             "linecolor": "white",
             "minorgridcolor": "white",
             "startlinecolor": "#2a3f5f"
            },
            "type": "carpet"
           }
          ],
          "choropleth": [
           {
            "colorbar": {
             "outlinewidth": 0,
             "ticks": ""
            },
            "type": "choropleth"
           }
          ],
          "contour": [
           {
            "colorbar": {
             "outlinewidth": 0,
             "ticks": ""
            },
            "colorscale": [
             [
              0,
              "#0d0887"
             ],
             [
              0.1111111111111111,
              "#46039f"
             ],
             [
              0.2222222222222222,
              "#7201a8"
             ],
             [
              0.3333333333333333,
              "#9c179e"
             ],
             [
              0.4444444444444444,
              "#bd3786"
             ],
             [
              0.5555555555555556,
              "#d8576b"
             ],
             [
              0.6666666666666666,
              "#ed7953"
             ],
             [
              0.7777777777777778,
              "#fb9f3a"
             ],
             [
              0.8888888888888888,
              "#fdca26"
             ],
             [
              1,
              "#f0f921"
             ]
            ],
            "type": "contour"
           }
          ],
          "contourcarpet": [
           {
            "colorbar": {
             "outlinewidth": 0,
             "ticks": ""
            },
            "type": "contourcarpet"
           }
          ],
          "heatmap": [
           {
            "colorbar": {
             "outlinewidth": 0,
             "ticks": ""
            },
            "colorscale": [
             [
              0,
              "#0d0887"
             ],
             [
              0.1111111111111111,
              "#46039f"
             ],
             [
              0.2222222222222222,
              "#7201a8"
             ],
             [
              0.3333333333333333,
              "#9c179e"
             ],
             [
              0.4444444444444444,
              "#bd3786"
             ],
             [
              0.5555555555555556,
              "#d8576b"
             ],
             [
              0.6666666666666666,
              "#ed7953"
             ],
             [
              0.7777777777777778,
              "#fb9f3a"
             ],
             [
              0.8888888888888888,
              "#fdca26"
             ],
             [
              1,
              "#f0f921"
             ]
            ],
            "type": "heatmap"
           }
          ],
          "heatmapgl": [
           {
            "colorbar": {
             "outlinewidth": 0,
             "ticks": ""
            },
            "colorscale": [
             [
              0,
              "#0d0887"
             ],
             [
              0.1111111111111111,
              "#46039f"
             ],
             [
              0.2222222222222222,
              "#7201a8"
             ],
             [
              0.3333333333333333,
              "#9c179e"
             ],
             [
              0.4444444444444444,
              "#bd3786"
             ],
             [
              0.5555555555555556,
              "#d8576b"
             ],
             [
              0.6666666666666666,
              "#ed7953"
             ],
             [
              0.7777777777777778,
              "#fb9f3a"
             ],
             [
              0.8888888888888888,
              "#fdca26"
             ],
             [
              1,
              "#f0f921"
             ]
            ],
            "type": "heatmapgl"
           }
          ],
          "histogram": [
           {
            "marker": {
             "pattern": {
              "fillmode": "overlay",
              "size": 10,
              "solidity": 0.2
             }
            },
            "type": "histogram"
           }
          ],
          "histogram2d": [
           {
            "colorbar": {
             "outlinewidth": 0,
             "ticks": ""
            },
            "colorscale": [
             [
              0,
              "#0d0887"
             ],
             [
              0.1111111111111111,
              "#46039f"
             ],
             [
              0.2222222222222222,
              "#7201a8"
             ],
             [
              0.3333333333333333,
              "#9c179e"
             ],
             [
              0.4444444444444444,
              "#bd3786"
             ],
             [
              0.5555555555555556,
              "#d8576b"
             ],
             [
              0.6666666666666666,
              "#ed7953"
             ],
             [
              0.7777777777777778,
              "#fb9f3a"
             ],
             [
              0.8888888888888888,
              "#fdca26"
             ],
             [
              1,
              "#f0f921"
             ]
            ],
            "type": "histogram2d"
           }
          ],
          "histogram2dcontour": [
           {
            "colorbar": {
             "outlinewidth": 0,
             "ticks": ""
            },
            "colorscale": [
             [
              0,
              "#0d0887"
             ],
             [
              0.1111111111111111,
              "#46039f"
             ],
             [
              0.2222222222222222,
              "#7201a8"
             ],
             [
              0.3333333333333333,
              "#9c179e"
             ],
             [
              0.4444444444444444,
              "#bd3786"
             ],
             [
              0.5555555555555556,
              "#d8576b"
             ],
             [
              0.6666666666666666,
              "#ed7953"
             ],
             [
              0.7777777777777778,
              "#fb9f3a"
             ],
             [
              0.8888888888888888,
              "#fdca26"
             ],
             [
              1,
              "#f0f921"
             ]
            ],
            "type": "histogram2dcontour"
           }
          ],
          "mesh3d": [
           {
            "colorbar": {
             "outlinewidth": 0,
             "ticks": ""
            },
            "type": "mesh3d"
           }
          ],
          "parcoords": [
           {
            "line": {
             "colorbar": {
              "outlinewidth": 0,
              "ticks": ""
             }
            },
            "type": "parcoords"
           }
          ],
          "pie": [
           {
            "automargin": true,
            "type": "pie"
           }
          ],
          "scatter": [
           {
            "fillpattern": {
             "fillmode": "overlay",
             "size": 10,
             "solidity": 0.2
            },
            "type": "scatter"
           }
          ],
          "scatter3d": [
           {
            "line": {
             "colorbar": {
              "outlinewidth": 0,
              "ticks": ""
             }
            },
            "marker": {
             "colorbar": {
              "outlinewidth": 0,
              "ticks": ""
             }
            },
            "type": "scatter3d"
           }
          ],
          "scattercarpet": [
           {
            "marker": {
             "colorbar": {
              "outlinewidth": 0,
              "ticks": ""
             }
            },
            "type": "scattercarpet"
           }
          ],
          "scattergeo": [
           {
            "marker": {
             "colorbar": {
              "outlinewidth": 0,
              "ticks": ""
             }
            },
            "type": "scattergeo"
           }
          ],
          "scattergl": [
           {
            "marker": {
             "colorbar": {
              "outlinewidth": 0,
              "ticks": ""
             }
            },
            "type": "scattergl"
           }
          ],
          "scattermapbox": [
           {
            "marker": {
             "colorbar": {
              "outlinewidth": 0,
              "ticks": ""
             }
            },
            "type": "scattermapbox"
           }
          ],
          "scatterpolar": [
           {
            "marker": {
             "colorbar": {
              "outlinewidth": 0,
              "ticks": ""
             }
            },
            "type": "scatterpolar"
           }
          ],
          "scatterpolargl": [
           {
            "marker": {
             "colorbar": {
              "outlinewidth": 0,
              "ticks": ""
             }
            },
            "type": "scatterpolargl"
           }
          ],
          "scatterternary": [
           {
            "marker": {
             "colorbar": {
              "outlinewidth": 0,
              "ticks": ""
             }
            },
            "type": "scatterternary"
           }
          ],
          "surface": [
           {
            "colorbar": {
             "outlinewidth": 0,
             "ticks": ""
            },
            "colorscale": [
             [
              0,
              "#0d0887"
             ],
             [
              0.1111111111111111,
              "#46039f"
             ],
             [
              0.2222222222222222,
              "#7201a8"
             ],
             [
              0.3333333333333333,
              "#9c179e"
             ],
             [
              0.4444444444444444,
              "#bd3786"
             ],
             [
              0.5555555555555556,
              "#d8576b"
             ],
             [
              0.6666666666666666,
              "#ed7953"
             ],
             [
              0.7777777777777778,
              "#fb9f3a"
             ],
             [
              0.8888888888888888,
              "#fdca26"
             ],
             [
              1,
              "#f0f921"
             ]
            ],
            "type": "surface"
           }
          ],
          "table": [
           {
            "cells": {
             "fill": {
              "color": "#EBF0F8"
             },
             "line": {
              "color": "white"
             }
            },
            "header": {
             "fill": {
              "color": "#C8D4E3"
             },
             "line": {
              "color": "white"
             }
            },
            "type": "table"
           }
          ]
         },
         "layout": {
          "annotationdefaults": {
           "arrowcolor": "#2a3f5f",
           "arrowhead": 0,
           "arrowwidth": 1
          },
          "autotypenumbers": "strict",
          "coloraxis": {
           "colorbar": {
            "outlinewidth": 0,
            "ticks": ""
           }
          },
          "colorscale": {
           "diverging": [
            [
             0,
             "#8e0152"
            ],
            [
             0.1,
             "#c51b7d"
            ],
            [
             0.2,
             "#de77ae"
            ],
            [
             0.3,
             "#f1b6da"
            ],
            [
             0.4,
             "#fde0ef"
            ],
            [
             0.5,
             "#f7f7f7"
            ],
            [
             0.6,
             "#e6f5d0"
            ],
            [
             0.7,
             "#b8e186"
            ],
            [
             0.8,
             "#7fbc41"
            ],
            [
             0.9,
             "#4d9221"
            ],
            [
             1,
             "#276419"
            ]
           ],
           "sequential": [
            [
             0,
             "#0d0887"
            ],
            [
             0.1111111111111111,
             "#46039f"
            ],
            [
             0.2222222222222222,
             "#7201a8"
            ],
            [
             0.3333333333333333,
             "#9c179e"
            ],
            [
             0.4444444444444444,
             "#bd3786"
            ],
            [
             0.5555555555555556,
             "#d8576b"
            ],
            [
             0.6666666666666666,
             "#ed7953"
            ],
            [
             0.7777777777777778,
             "#fb9f3a"
            ],
            [
             0.8888888888888888,
             "#fdca26"
            ],
            [
             1,
             "#f0f921"
            ]
           ],
           "sequentialminus": [
            [
             0,
             "#0d0887"
            ],
            [
             0.1111111111111111,
             "#46039f"
            ],
            [
             0.2222222222222222,
             "#7201a8"
            ],
            [
             0.3333333333333333,
             "#9c179e"
            ],
            [
             0.4444444444444444,
             "#bd3786"
            ],
            [
             0.5555555555555556,
             "#d8576b"
            ],
            [
             0.6666666666666666,
             "#ed7953"
            ],
            [
             0.7777777777777778,
             "#fb9f3a"
            ],
            [
             0.8888888888888888,
             "#fdca26"
            ],
            [
             1,
             "#f0f921"
            ]
           ]
          },
          "colorway": [
           "#636efa",
           "#EF553B",
           "#00cc96",
           "#ab63fa",
           "#FFA15A",
           "#19d3f3",
           "#FF6692",
           "#B6E880",
           "#FF97FF",
           "#FECB52"
          ],
          "font": {
           "color": "#2a3f5f"
          },
          "geo": {
           "bgcolor": "white",
           "lakecolor": "white",
           "landcolor": "#E5ECF6",
           "showlakes": true,
           "showland": true,
           "subunitcolor": "white"
          },
          "hoverlabel": {
           "align": "left"
          },
          "hovermode": "closest",
          "mapbox": {
           "style": "light"
          },
          "paper_bgcolor": "white",
          "plot_bgcolor": "#E5ECF6",
          "polar": {
           "angularaxis": {
            "gridcolor": "white",
            "linecolor": "white",
            "ticks": ""
           },
           "bgcolor": "#E5ECF6",
           "radialaxis": {
            "gridcolor": "white",
            "linecolor": "white",
            "ticks": ""
           }
          },
          "scene": {
           "xaxis": {
            "backgroundcolor": "#E5ECF6",
            "gridcolor": "white",
            "gridwidth": 2,
            "linecolor": "white",
            "showbackground": true,
            "ticks": "",
            "zerolinecolor": "white"
           },
           "yaxis": {
            "backgroundcolor": "#E5ECF6",
            "gridcolor": "white",
            "gridwidth": 2,
            "linecolor": "white",
            "showbackground": true,
            "ticks": "",
            "zerolinecolor": "white"
           },
           "zaxis": {
            "backgroundcolor": "#E5ECF6",
            "gridcolor": "white",
            "gridwidth": 2,
            "linecolor": "white",
            "showbackground": true,
            "ticks": "",
            "zerolinecolor": "white"
           }
          },
          "shapedefaults": {
           "line": {
            "color": "#2a3f5f"
           }
          },
          "ternary": {
           "aaxis": {
            "gridcolor": "white",
            "linecolor": "white",
            "ticks": ""
           },
           "baxis": {
            "gridcolor": "white",
            "linecolor": "white",
            "ticks": ""
           },
           "bgcolor": "#E5ECF6",
           "caxis": {
            "gridcolor": "white",
            "linecolor": "white",
            "ticks": ""
           }
          },
          "title": {
           "x": 0.05
          },
          "xaxis": {
           "automargin": true,
           "gridcolor": "white",
           "linecolor": "white",
           "ticks": "",
           "title": {
            "standoff": 15
           },
           "zerolinecolor": "white",
           "zerolinewidth": 2
          },
          "yaxis": {
           "automargin": true,
           "gridcolor": "white",
           "linecolor": "white",
           "ticks": "",
           "title": {
            "standoff": 15
           },
           "zerolinecolor": "white",
           "zerolinewidth": 2
          }
         }
        },
        "title": {
         "text": "Training and testing with self-learning and decreasing eps, using different n* values"
        },
        "width": 800,
        "xaxis": {
         "anchor": "y",
         "domain": [
          0,
          1
         ],
         "title": {
          "text": "Games played"
         }
        },
        "yaxis": {
         "anchor": "x",
         "domain": [
          0,
          1
         ],
         "title": {
          "text": "Mean reward"
         }
        }
       }
      },
      "text/html": [
       "<div>                            <div id=\"0ba2a5e5-e26c-4bf4-8335-7b750f38f5cc\" class=\"plotly-graph-div\" style=\"height:525px; width:800px;\"></div>            <script type=\"text/javascript\">                require([\"plotly\"], function(Plotly) {                    window.PLOTLYENV=window.PLOTLYENV || {};                                    if (document.getElementById(\"0ba2a5e5-e26c-4bf4-8335-7b750f38f5cc\")) {                    Plotly.newPlot(                        \"0ba2a5e5-e26c-4bf4-8335-7b750f38f5cc\",                        [{\"hovertemplate\":\"variable=Average reward (n*=1)<br>Games played=%{x}<br>value=%{y}<extra></extra>\",\"legendgroup\":\"Average reward (n*=1)\",\"line\":{\"color\":\"#636efa\",\"dash\":\"solid\"},\"marker\":{\"symbol\":\"circle\"},\"mode\":\"lines\",\"name\":\"Average reward (n*=1)\",\"orientation\":\"v\",\"showlegend\":true,\"x\":[250,500,750,1000,1250,1500,1750,2000,2250,2500,2750,3000,3250,3500,3750,4000,4250,4500,4750,5000,5250,5500,5750,6000,6250,6500,6750,7000,7250,7500,7750,8000,8250,8500,8750,9000,9250,9500,9750,10000,10250,10500,10750,11000,11250,11500,11750,12000,12250,12500,12750,13000,13250,13500,13750,14000,14250,14500,14750,15000,15250,15500,15750,16000,16250,16500,16750,17000,17250,17500,17750,18000,18250,18500,18750,19000,19250,19500,19750],\"xaxis\":\"x\",\"y\":[-0.043824701195219126,0.008,0.064,-0.032,-0.048,-0.128,0.008,-0.04,0.056,0.128,-0.144,-0.032,-0.064,-0.04,0.008,-0.144,0.016,0.0,0.016,-0.128,0.016,-0.072,-0.064,0.016,-0.032,0.048,-0.136,0.056,0.056,0.032,-0.12,-0.016,0.08,0.0,-0.12,0.064,-0.008,0.032,-0.016,-0.088,0.056,0.056,-0.048,0.08,0.12,0.064,-0.04,-0.04,0.096,-0.008,0.072,-0.032,0.104,0.024,-0.056,0.064,0.056,-0.016,0.008,-0.024,0.056,-0.088,-0.016,-0.096,-0.04,-0.12,-0.088,0.032,0.04,0.064,-0.048,0.072,-0.04,-0.032,0.016,-0.032,-0.008,0.04,0.056],\"yaxis\":\"y\",\"type\":\"scatter\"},{\"hovertemplate\":\"variable=Average reward (n*=16001)<br>Games played=%{x}<br>value=%{y}<extra></extra>\",\"legendgroup\":\"Average reward (n*=16001)\",\"line\":{\"color\":\"#EF553B\",\"dash\":\"solid\"},\"marker\":{\"symbol\":\"circle\"},\"mode\":\"lines\",\"name\":\"Average reward (n*=16001)\",\"orientation\":\"v\",\"showlegend\":true,\"x\":[250,500,750,1000,1250,1500,1750,2000,2250,2500,2750,3000,3250,3500,3750,4000,4250,4500,4750,5000,5250,5500,5750,6000,6250,6500,6750,7000,7250,7500,7750,8000,8250,8500,8750,9000,9250,9500,9750,10000,10250,10500,10750,11000,11250,11500,11750,12000,12250,12500,12750,13000,13250,13500,13750,14000,14250,14500,14750,15000,15250,15500,15750,16000,16250,16500,16750,17000,17250,17500,17750,18000,18250,18500,18750,19000,19250,19500,19750],\"xaxis\":\"x\",\"y\":[0.08366533864541832,-0.016,0.032,-0.072,-0.008,-0.032,0.04,-0.104,-0.016,0.096,-0.064,0.04,-0.072,0.04,0.016,-0.04,-0.008,-0.04,-0.072,0.04,-0.048,-0.016,0.0,0.056,0.0,0.0,-0.04,0.08,0.024,0.064,-0.072,0.064,0.0,-0.016,0.024,0.048,-0.056,0.064,0.136,0.032,-0.048,-0.04,-0.016,-0.088,0.072,0.016,-0.056,0.04,0.032,0.04,0.128,0.112,0.0,0.0,-0.016,-0.064,-0.072,0.024,0.032,-0.032,0.112,0.048,0.12,0.048,-0.008,0.048,-0.032,0.04,0.04,-0.008,0.024,0.064,-0.08,0.008,-0.016,-0.024,-0.008,-0.048,-0.024],\"yaxis\":\"y\",\"type\":\"scatter\"},{\"hovertemplate\":\"variable=Average reward (n*=24000)<br>Games played=%{x}<br>value=%{y}<extra></extra>\",\"legendgroup\":\"Average reward (n*=24000)\",\"line\":{\"color\":\"#00cc96\",\"dash\":\"solid\"},\"marker\":{\"symbol\":\"circle\"},\"mode\":\"lines\",\"name\":\"Average reward (n*=24000)\",\"orientation\":\"v\",\"showlegend\":true,\"x\":[250,500,750,1000,1250,1500,1750,2000,2250,2500,2750,3000,3250,3500,3750,4000,4250,4500,4750,5000,5250,5500,5750,6000,6250,6500,6750,7000,7250,7500,7750,8000,8250,8500,8750,9000,9250,9500,9750,10000,10250,10500,10750,11000,11250,11500,11750,12000,12250,12500,12750,13000,13250,13500,13750,14000,14250,14500,14750,15000,15250,15500,15750,16000,16250,16500,16750,17000,17250,17500,17750,18000,18250,18500,18750,19000,19250,19500,19750],\"xaxis\":\"x\",\"y\":[-0.09163346613545817,-0.048,0.0,-0.048,0.016,-0.008,0.04,0.056,-0.016,0.008,0.048,-0.04,0.024,-0.04,0.024,0.056,0.04,0.056,-0.096,-0.112,0.016,-0.04,-0.064,0.016,0.064,0.024,-0.048,-0.008,-0.032,0.0,-0.008,-0.08,-0.04,-0.016,-0.008,0.096,-0.104,-0.016,0.008,0.088,-0.024,0.016,-0.144,-0.008,0.048,-0.08,0.024,-0.048,0.032,0.024,0.048,-0.04,-0.016,0.136,-0.08,-0.08,-0.064,-0.008,-0.04,0.0,-0.024,0.0,-0.016,0.008,-0.064,0.056,-0.072,0.024,-0.032,0.048,-0.072,0.024,0.0,-0.088,-0.064,-0.032,-0.008,-0.072,-0.064],\"yaxis\":\"y\",\"type\":\"scatter\"},{\"hovertemplate\":\"variable=Average reward (n*=32000)<br>Games played=%{x}<br>value=%{y}<extra></extra>\",\"legendgroup\":\"Average reward (n*=32000)\",\"line\":{\"color\":\"#ab63fa\",\"dash\":\"solid\"},\"marker\":{\"symbol\":\"circle\"},\"mode\":\"lines\",\"name\":\"Average reward (n*=32000)\",\"orientation\":\"v\",\"showlegend\":true,\"x\":[250,500,750,1000,1250,1500,1750,2000,2250,2500,2750,3000,3250,3500,3750,4000,4250,4500,4750,5000,5250,5500,5750,6000,6250,6500,6750,7000,7250,7500,7750,8000,8250,8500,8750,9000,9250,9500,9750,10000,10250,10500,10750,11000,11250,11500,11750,12000,12250,12500,12750,13000,13250,13500,13750,14000,14250,14500,14750,15000,15250,15500,15750,16000,16250,16500,16750,17000,17250,17500,17750,18000,18250,18500,18750,19000,19250,19500,19750],\"xaxis\":\"x\",\"y\":[0.099601593625498,-0.016,-0.008,-0.024,0.032,0.024,-0.008,-0.008,0.12,-0.048,-0.008,-0.008,0.04,-0.008,-0.032,0.016,0.008,-0.024,-0.072,-0.048,0.016,0.048,0.056,-0.104,0.04,-0.096,0.056,-0.04,0.024,0.096,-0.04,0.008,-0.104,0.048,-0.088,-0.016,-0.024,-0.112,0.0,-0.048,-0.056,-0.056,-0.056,0.04,0.104,0.016,-0.032,-0.056,0.0,0.016,-0.016,0.008,-0.072,0.008,0.096,0.024,-0.112,0.04,0.024,-0.016,-0.024,0.096,-0.008,0.0,0.016,-0.024,0.008,-0.008,0.024,0.072,-0.024,-0.064,-0.088,-0.064,-0.112,-0.064,-0.128,0.0,-0.08],\"yaxis\":\"y\",\"type\":\"scatter\"},{\"hovertemplate\":\"variable=Average reward (n*=40000)<br>Games played=%{x}<br>value=%{y}<extra></extra>\",\"legendgroup\":\"Average reward (n*=40000)\",\"line\":{\"color\":\"#FFA15A\",\"dash\":\"solid\"},\"marker\":{\"symbol\":\"circle\"},\"mode\":\"lines\",\"name\":\"Average reward (n*=40000)\",\"orientation\":\"v\",\"showlegend\":true,\"x\":[250,500,750,1000,1250,1500,1750,2000,2250,2500,2750,3000,3250,3500,3750,4000,4250,4500,4750,5000,5250,5500,5750,6000,6250,6500,6750,7000,7250,7500,7750,8000,8250,8500,8750,9000,9250,9500,9750,10000,10250,10500,10750,11000,11250,11500,11750,12000,12250,12500,12750,13000,13250,13500,13750,14000,14250,14500,14750,15000,15250,15500,15750,16000,16250,16500,16750,17000,17250,17500,17750,18000,18250,18500,18750,19000,19250,19500,19750],\"xaxis\":\"x\",\"y\":[-0.0199203187250996,0.0,0.024,-0.04,-0.016,-0.008,0.0,0.048,0.024,0.064,0.04,0.16,0.048,0.0,0.032,0.072,0.072,0.024,-0.016,0.072,0.024,-0.032,-0.048,-0.064,-0.016,-0.024,0.056,0.016,0.048,-0.088,-0.048,-0.152,0.04,0.064,0.048,-0.024,0.04,0.008,0.032,-0.032,-0.056,0.016,-0.184,-0.088,-0.032,-0.016,-0.016,-0.056,0.016,0.024,-0.064,0.008,0.008,-0.08,-0.024,0.088,0.008,-0.064,0.064,-0.032,0.008,-0.016,-0.184,-0.112,0.064,-0.04,0.056,0.16,0.032,-0.016,-0.088,0.008,0.12,0.056,-0.08,0.088,-0.024,-0.104,-0.056],\"yaxis\":\"y\",\"type\":\"scatter\"},{\"hovertemplate\":\"variable=Average reward (n*=8001)<br>Games played=%{x}<br>value=%{y}<extra></extra>\",\"legendgroup\":\"Average reward (n*=8001)\",\"line\":{\"color\":\"#19d3f3\",\"dash\":\"solid\"},\"marker\":{\"symbol\":\"circle\"},\"mode\":\"lines\",\"name\":\"Average reward (n*=8001)\",\"orientation\":\"v\",\"showlegend\":true,\"x\":[250,500,750,1000,1250,1500,1750,2000,2250,2500,2750,3000,3250,3500,3750,4000,4250,4500,4750,5000,5250,5500,5750,6000,6250,6500,6750,7000,7250,7500,7750,8000,8250,8500,8750,9000,9250,9500,9750,10000,10250,10500,10750,11000,11250,11500,11750,12000,12250,12500,12750,13000,13250,13500,13750,14000,14250,14500,14750,15000,15250,15500,15750,16000,16250,16500,16750,17000,17250,17500,17750,18000,18250,18500,18750,19000,19250,19500,19750],\"xaxis\":\"x\",\"y\":[-0.0199203187250996,0.096,0.024,-0.04,0.024,0.08,-0.04,0.048,0.024,-0.12,-0.016,0.024,-0.04,0.072,0.04,0.024,0.016,-0.04,0.12,-0.008,-0.048,-0.104,0.0,0.016,-0.168,-0.04,0.024,-0.08,-0.088,0.048,-0.048,0.08,0.016,-0.064,-0.048,0.016,-0.048,-0.056,-0.016,-0.08,-0.112,0.096,-0.016,-0.056,0.04,-0.104,0.0,0.168,0.048,0.056,0.04,-0.032,-0.024,-0.032,0.0,-0.072,-0.064,0.0,0.024,-0.056,0.128,0.008,-0.048,0.056,-0.024,-0.12,-0.08,0.064,0.04,0.024,-0.112,0.096,0.024,0.008,0.032,0.0,0.064,0.016,0.04],\"yaxis\":\"y\",\"type\":\"scatter\"}],                        {\"template\":{\"data\":{\"histogram2dcontour\":[{\"type\":\"histogram2dcontour\",\"colorbar\":{\"outlinewidth\":0,\"ticks\":\"\"},\"colorscale\":[[0.0,\"#0d0887\"],[0.1111111111111111,\"#46039f\"],[0.2222222222222222,\"#7201a8\"],[0.3333333333333333,\"#9c179e\"],[0.4444444444444444,\"#bd3786\"],[0.5555555555555556,\"#d8576b\"],[0.6666666666666666,\"#ed7953\"],[0.7777777777777778,\"#fb9f3a\"],[0.8888888888888888,\"#fdca26\"],[1.0,\"#f0f921\"]]}],\"choropleth\":[{\"type\":\"choropleth\",\"colorbar\":{\"outlinewidth\":0,\"ticks\":\"\"}}],\"histogram2d\":[{\"type\":\"histogram2d\",\"colorbar\":{\"outlinewidth\":0,\"ticks\":\"\"},\"colorscale\":[[0.0,\"#0d0887\"],[0.1111111111111111,\"#46039f\"],[0.2222222222222222,\"#7201a8\"],[0.3333333333333333,\"#9c179e\"],[0.4444444444444444,\"#bd3786\"],[0.5555555555555556,\"#d8576b\"],[0.6666666666666666,\"#ed7953\"],[0.7777777777777778,\"#fb9f3a\"],[0.8888888888888888,\"#fdca26\"],[1.0,\"#f0f921\"]]}],\"heatmap\":[{\"type\":\"heatmap\",\"colorbar\":{\"outlinewidth\":0,\"ticks\":\"\"},\"colorscale\":[[0.0,\"#0d0887\"],[0.1111111111111111,\"#46039f\"],[0.2222222222222222,\"#7201a8\"],[0.3333333333333333,\"#9c179e\"],[0.4444444444444444,\"#bd3786\"],[0.5555555555555556,\"#d8576b\"],[0.6666666666666666,\"#ed7953\"],[0.7777777777777778,\"#fb9f3a\"],[0.8888888888888888,\"#fdca26\"],[1.0,\"#f0f921\"]]}],\"heatmapgl\":[{\"type\":\"heatmapgl\",\"colorbar\":{\"outlinewidth\":0,\"ticks\":\"\"},\"colorscale\":[[0.0,\"#0d0887\"],[0.1111111111111111,\"#46039f\"],[0.2222222222222222,\"#7201a8\"],[0.3333333333333333,\"#9c179e\"],[0.4444444444444444,\"#bd3786\"],[0.5555555555555556,\"#d8576b\"],[0.6666666666666666,\"#ed7953\"],[0.7777777777777778,\"#fb9f3a\"],[0.8888888888888888,\"#fdca26\"],[1.0,\"#f0f921\"]]}],\"contourcarpet\":[{\"type\":\"contourcarpet\",\"colorbar\":{\"outlinewidth\":0,\"ticks\":\"\"}}],\"contour\":[{\"type\":\"contour\",\"colorbar\":{\"outlinewidth\":0,\"ticks\":\"\"},\"colorscale\":[[0.0,\"#0d0887\"],[0.1111111111111111,\"#46039f\"],[0.2222222222222222,\"#7201a8\"],[0.3333333333333333,\"#9c179e\"],[0.4444444444444444,\"#bd3786\"],[0.5555555555555556,\"#d8576b\"],[0.6666666666666666,\"#ed7953\"],[0.7777777777777778,\"#fb9f3a\"],[0.8888888888888888,\"#fdca26\"],[1.0,\"#f0f921\"]]}],\"surface\":[{\"type\":\"surface\",\"colorbar\":{\"outlinewidth\":0,\"ticks\":\"\"},\"colorscale\":[[0.0,\"#0d0887\"],[0.1111111111111111,\"#46039f\"],[0.2222222222222222,\"#7201a8\"],[0.3333333333333333,\"#9c179e\"],[0.4444444444444444,\"#bd3786\"],[0.5555555555555556,\"#d8576b\"],[0.6666666666666666,\"#ed7953\"],[0.7777777777777778,\"#fb9f3a\"],[0.8888888888888888,\"#fdca26\"],[1.0,\"#f0f921\"]]}],\"mesh3d\":[{\"type\":\"mesh3d\",\"colorbar\":{\"outlinewidth\":0,\"ticks\":\"\"}}],\"scatter\":[{\"fillpattern\":{\"fillmode\":\"overlay\",\"size\":10,\"solidity\":0.2},\"type\":\"scatter\"}],\"parcoords\":[{\"type\":\"parcoords\",\"line\":{\"colorbar\":{\"outlinewidth\":0,\"ticks\":\"\"}}}],\"scatterpolargl\":[{\"type\":\"scatterpolargl\",\"marker\":{\"colorbar\":{\"outlinewidth\":0,\"ticks\":\"\"}}}],\"bar\":[{\"error_x\":{\"color\":\"#2a3f5f\"},\"error_y\":{\"color\":\"#2a3f5f\"},\"marker\":{\"line\":{\"color\":\"#E5ECF6\",\"width\":0.5},\"pattern\":{\"fillmode\":\"overlay\",\"size\":10,\"solidity\":0.2}},\"type\":\"bar\"}],\"scattergeo\":[{\"type\":\"scattergeo\",\"marker\":{\"colorbar\":{\"outlinewidth\":0,\"ticks\":\"\"}}}],\"scatterpolar\":[{\"type\":\"scatterpolar\",\"marker\":{\"colorbar\":{\"outlinewidth\":0,\"ticks\":\"\"}}}],\"histogram\":[{\"marker\":{\"pattern\":{\"fillmode\":\"overlay\",\"size\":10,\"solidity\":0.2}},\"type\":\"histogram\"}],\"scattergl\":[{\"type\":\"scattergl\",\"marker\":{\"colorbar\":{\"outlinewidth\":0,\"ticks\":\"\"}}}],\"scatter3d\":[{\"type\":\"scatter3d\",\"line\":{\"colorbar\":{\"outlinewidth\":0,\"ticks\":\"\"}},\"marker\":{\"colorbar\":{\"outlinewidth\":0,\"ticks\":\"\"}}}],\"scattermapbox\":[{\"type\":\"scattermapbox\",\"marker\":{\"colorbar\":{\"outlinewidth\":0,\"ticks\":\"\"}}}],\"scatterternary\":[{\"type\":\"scatterternary\",\"marker\":{\"colorbar\":{\"outlinewidth\":0,\"ticks\":\"\"}}}],\"scattercarpet\":[{\"type\":\"scattercarpet\",\"marker\":{\"colorbar\":{\"outlinewidth\":0,\"ticks\":\"\"}}}],\"carpet\":[{\"aaxis\":{\"endlinecolor\":\"#2a3f5f\",\"gridcolor\":\"white\",\"linecolor\":\"white\",\"minorgridcolor\":\"white\",\"startlinecolor\":\"#2a3f5f\"},\"baxis\":{\"endlinecolor\":\"#2a3f5f\",\"gridcolor\":\"white\",\"linecolor\":\"white\",\"minorgridcolor\":\"white\",\"startlinecolor\":\"#2a3f5f\"},\"type\":\"carpet\"}],\"table\":[{\"cells\":{\"fill\":{\"color\":\"#EBF0F8\"},\"line\":{\"color\":\"white\"}},\"header\":{\"fill\":{\"color\":\"#C8D4E3\"},\"line\":{\"color\":\"white\"}},\"type\":\"table\"}],\"barpolar\":[{\"marker\":{\"line\":{\"color\":\"#E5ECF6\",\"width\":0.5},\"pattern\":{\"fillmode\":\"overlay\",\"size\":10,\"solidity\":0.2}},\"type\":\"barpolar\"}],\"pie\":[{\"automargin\":true,\"type\":\"pie\"}]},\"layout\":{\"autotypenumbers\":\"strict\",\"colorway\":[\"#636efa\",\"#EF553B\",\"#00cc96\",\"#ab63fa\",\"#FFA15A\",\"#19d3f3\",\"#FF6692\",\"#B6E880\",\"#FF97FF\",\"#FECB52\"],\"font\":{\"color\":\"#2a3f5f\"},\"hovermode\":\"closest\",\"hoverlabel\":{\"align\":\"left\"},\"paper_bgcolor\":\"white\",\"plot_bgcolor\":\"#E5ECF6\",\"polar\":{\"bgcolor\":\"#E5ECF6\",\"angularaxis\":{\"gridcolor\":\"white\",\"linecolor\":\"white\",\"ticks\":\"\"},\"radialaxis\":{\"gridcolor\":\"white\",\"linecolor\":\"white\",\"ticks\":\"\"}},\"ternary\":{\"bgcolor\":\"#E5ECF6\",\"aaxis\":{\"gridcolor\":\"white\",\"linecolor\":\"white\",\"ticks\":\"\"},\"baxis\":{\"gridcolor\":\"white\",\"linecolor\":\"white\",\"ticks\":\"\"},\"caxis\":{\"gridcolor\":\"white\",\"linecolor\":\"white\",\"ticks\":\"\"}},\"coloraxis\":{\"colorbar\":{\"outlinewidth\":0,\"ticks\":\"\"}},\"colorscale\":{\"sequential\":[[0.0,\"#0d0887\"],[0.1111111111111111,\"#46039f\"],[0.2222222222222222,\"#7201a8\"],[0.3333333333333333,\"#9c179e\"],[0.4444444444444444,\"#bd3786\"],[0.5555555555555556,\"#d8576b\"],[0.6666666666666666,\"#ed7953\"],[0.7777777777777778,\"#fb9f3a\"],[0.8888888888888888,\"#fdca26\"],[1.0,\"#f0f921\"]],\"sequentialminus\":[[0.0,\"#0d0887\"],[0.1111111111111111,\"#46039f\"],[0.2222222222222222,\"#7201a8\"],[0.3333333333333333,\"#9c179e\"],[0.4444444444444444,\"#bd3786\"],[0.5555555555555556,\"#d8576b\"],[0.6666666666666666,\"#ed7953\"],[0.7777777777777778,\"#fb9f3a\"],[0.8888888888888888,\"#fdca26\"],[1.0,\"#f0f921\"]],\"diverging\":[[0,\"#8e0152\"],[0.1,\"#c51b7d\"],[0.2,\"#de77ae\"],[0.3,\"#f1b6da\"],[0.4,\"#fde0ef\"],[0.5,\"#f7f7f7\"],[0.6,\"#e6f5d0\"],[0.7,\"#b8e186\"],[0.8,\"#7fbc41\"],[0.9,\"#4d9221\"],[1,\"#276419\"]]},\"xaxis\":{\"gridcolor\":\"white\",\"linecolor\":\"white\",\"ticks\":\"\",\"title\":{\"standoff\":15},\"zerolinecolor\":\"white\",\"automargin\":true,\"zerolinewidth\":2},\"yaxis\":{\"gridcolor\":\"white\",\"linecolor\":\"white\",\"ticks\":\"\",\"title\":{\"standoff\":15},\"zerolinecolor\":\"white\",\"automargin\":true,\"zerolinewidth\":2},\"scene\":{\"xaxis\":{\"backgroundcolor\":\"#E5ECF6\",\"gridcolor\":\"white\",\"linecolor\":\"white\",\"showbackground\":true,\"ticks\":\"\",\"zerolinecolor\":\"white\",\"gridwidth\":2},\"yaxis\":{\"backgroundcolor\":\"#E5ECF6\",\"gridcolor\":\"white\",\"linecolor\":\"white\",\"showbackground\":true,\"ticks\":\"\",\"zerolinecolor\":\"white\",\"gridwidth\":2},\"zaxis\":{\"backgroundcolor\":\"#E5ECF6\",\"gridcolor\":\"white\",\"linecolor\":\"white\",\"showbackground\":true,\"ticks\":\"\",\"zerolinecolor\":\"white\",\"gridwidth\":2}},\"shapedefaults\":{\"line\":{\"color\":\"#2a3f5f\"}},\"annotationdefaults\":{\"arrowcolor\":\"#2a3f5f\",\"arrowhead\":0,\"arrowwidth\":1},\"geo\":{\"bgcolor\":\"white\",\"landcolor\":\"#E5ECF6\",\"subunitcolor\":\"white\",\"showland\":true,\"showlakes\":true,\"lakecolor\":\"white\"},\"title\":{\"x\":0.05},\"mapbox\":{\"style\":\"light\"}}},\"xaxis\":{\"anchor\":\"y\",\"domain\":[0.0,1.0],\"title\":{\"text\":\"Games played\"}},\"yaxis\":{\"anchor\":\"x\",\"domain\":[0.0,1.0],\"title\":{\"text\":\"Mean reward\"}},\"legend\":{\"title\":{\"text\":\"variable\"},\"tracegroupgap\":0},\"title\":{\"text\":\"Training and testing with self-learning and decreasing eps, using different n* values\"},\"width\":800},                        {\"responsive\": true}                    ).then(function(){\n",
       "                            \n",
       "var gd = document.getElementById('0ba2a5e5-e26c-4bf4-8335-7b750f38f5cc');\n",
       "var x = new MutationObserver(function (mutations, observer) {{\n",
       "        var display = window.getComputedStyle(gd).display;\n",
       "        if (!display || display === 'none') {{\n",
       "            console.log([gd, 'removed!']);\n",
       "            Plotly.purge(gd);\n",
       "            observer.disconnect();\n",
       "        }}\n",
       "}});\n",
       "\n",
       "// Listen for the removal of the full notebook cells\n",
       "var notebookContainer = gd.closest('#notebook-container');\n",
       "if (notebookContainer) {{\n",
       "    x.observe(notebookContainer, {childList: true});\n",
       "}}\n",
       "\n",
       "// Listen for the clearing of the current output cell\n",
       "var outputEl = gd.closest('.output');\n",
       "if (outputEl) {{\n",
       "    x.observe(outputEl, {childList: true});\n",
       "}}\n",
       "\n",
       "                        })                };                });            </script>        </div>"
      ]
     },
     "metadata": {},
     "output_type": "display_data"
    },
    {
     "data": {
      "application/vnd.plotly.v1+json": {
       "config": {
        "plotlyServerURL": "https://plot.ly"
       },
       "data": [
        {
         "hovertemplate": "variable=Mopt (n*=1)<br>Games played=%{x}<br>value=%{y}<extra></extra>",
         "legendgroup": "Mopt (n*=1)",
         "line": {
          "color": "#636efa",
          "dash": "solid"
         },
         "marker": {
          "symbol": "circle"
         },
         "mode": "lines",
         "name": "Mopt (n*=1)",
         "orientation": "v",
         "showlegend": true,
         "type": "scatter",
         "x": [
          250,
          500,
          750,
          1000,
          1250,
          1500,
          1750,
          2000,
          2250,
          2500,
          2750,
          3000,
          3250,
          3500,
          3750,
          4000,
          4250,
          4500,
          4750,
          5000,
          5250,
          5500,
          5750,
          6000,
          6250,
          6500,
          6750,
          7000,
          7250,
          7500,
          7750,
          8000,
          8250,
          8500,
          8750,
          9000,
          9250,
          9500,
          9750,
          10000,
          10250,
          10500,
          10750,
          11000,
          11250,
          11500,
          11750,
          12000,
          12250,
          12500,
          12750,
          13000,
          13250,
          13500,
          13750,
          14000,
          14250,
          14500,
          14750,
          15000,
          15250,
          15500,
          15750,
          16000,
          16250,
          16500,
          16750,
          17000,
          17250,
          17500,
          17750,
          18000,
          18250,
          18500,
          18750,
          19000,
          19250,
          19500,
          19750
         ],
         "xaxis": "x",
         "y": [
          -0.944,
          -0.86,
          -0.78,
          -0.788,
          -0.692,
          -0.7,
          -0.628,
          -0.536,
          -0.548,
          -0.444,
          -0.46,
          -0.444,
          -0.468,
          -0.364,
          -0.336,
          -0.316,
          -0.348,
          -0.276,
          -0.26,
          -0.264,
          -0.256,
          -0.276,
          -0.212,
          -0.212,
          -0.176,
          -0.148,
          -0.144,
          -0.18,
          -0.092,
          -0.168,
          -0.06,
          -0.012,
          -0.148,
          -0.06,
          -0.092,
          -0.068,
          -0.068,
          -0.076,
          -0.084,
          -0.052,
          -0.048,
          -0.104,
          -0.072,
          -0.096,
          -0.02,
          -0.04,
          -0.1,
          0,
          -0.02,
          -0.048,
          -0.048,
          -0.016,
          -0.024,
          -0.096,
          0.024,
          -0.088,
          -0.032,
          0.012,
          -0.092,
          -0.056,
          0.028,
          0.008,
          -0.052,
          -0.092,
          0.004,
          0.012,
          -0.004,
          -0.032,
          -0.02,
          -0.004,
          -0.044,
          0.02,
          -0.044,
          0.04,
          -0.008,
          -0.056,
          -0.04,
          -0.004,
          0.024
         ],
         "yaxis": "y"
        },
        {
         "hovertemplate": "variable=Mopt (n*=16001)<br>Games played=%{x}<br>value=%{y}<extra></extra>",
         "legendgroup": "Mopt (n*=16001)",
         "line": {
          "color": "#EF553B",
          "dash": "solid"
         },
         "marker": {
          "symbol": "circle"
         },
         "mode": "lines",
         "name": "Mopt (n*=16001)",
         "orientation": "v",
         "showlegend": true,
         "type": "scatter",
         "x": [
          250,
          500,
          750,
          1000,
          1250,
          1500,
          1750,
          2000,
          2250,
          2500,
          2750,
          3000,
          3250,
          3500,
          3750,
          4000,
          4250,
          4500,
          4750,
          5000,
          5250,
          5500,
          5750,
          6000,
          6250,
          6500,
          6750,
          7000,
          7250,
          7500,
          7750,
          8000,
          8250,
          8500,
          8750,
          9000,
          9250,
          9500,
          9750,
          10000,
          10250,
          10500,
          10750,
          11000,
          11250,
          11500,
          11750,
          12000,
          12250,
          12500,
          12750,
          13000,
          13250,
          13500,
          13750,
          14000,
          14250,
          14500,
          14750,
          15000,
          15250,
          15500,
          15750,
          16000,
          16250,
          16500,
          16750,
          17000,
          17250,
          17500,
          17750,
          18000,
          18250,
          18500,
          18750,
          19000,
          19250,
          19500,
          19750
         ],
         "xaxis": "x",
         "y": [
          -0.956,
          -0.976,
          -0.992,
          -0.976,
          -0.96,
          -0.976,
          -0.988,
          -0.988,
          -0.972,
          -0.98,
          -0.952,
          -0.98,
          -0.984,
          -0.984,
          -0.964,
          -0.972,
          -0.98,
          -0.96,
          -0.936,
          -0.964,
          -0.948,
          -0.948,
          -0.904,
          -0.94,
          -0.884,
          -0.916,
          -0.876,
          -0.908,
          -0.932,
          -0.9,
          -0.912,
          -0.876,
          -0.916,
          -0.864,
          -0.836,
          -0.884,
          -0.88,
          -0.848,
          -0.824,
          -0.832,
          -0.808,
          -0.82,
          -0.784,
          -0.728,
          -0.752,
          -0.692,
          -0.716,
          -0.704,
          -0.712,
          -0.636,
          -0.648,
          -0.612,
          -0.6,
          -0.656,
          -0.588,
          -0.576,
          -0.576,
          -0.428,
          -0.5,
          -0.46,
          -0.412,
          -0.404,
          -0.348,
          -0.292,
          -0.328,
          -0.292,
          -0.308,
          -0.272,
          -0.288,
          -0.212,
          -0.224,
          -0.296,
          -0.252,
          -0.228,
          -0.26,
          -0.2,
          -0.236,
          -0.196,
          -0.18
         ],
         "yaxis": "y"
        },
        {
         "hovertemplate": "variable=Mopt (n*=24000)<br>Games played=%{x}<br>value=%{y}<extra></extra>",
         "legendgroup": "Mopt (n*=24000)",
         "line": {
          "color": "#00cc96",
          "dash": "solid"
         },
         "marker": {
          "symbol": "circle"
         },
         "mode": "lines",
         "name": "Mopt (n*=24000)",
         "orientation": "v",
         "showlegend": true,
         "type": "scatter",
         "x": [
          250,
          500,
          750,
          1000,
          1250,
          1500,
          1750,
          2000,
          2250,
          2500,
          2750,
          3000,
          3250,
          3500,
          3750,
          4000,
          4250,
          4500,
          4750,
          5000,
          5250,
          5500,
          5750,
          6000,
          6250,
          6500,
          6750,
          7000,
          7250,
          7500,
          7750,
          8000,
          8250,
          8500,
          8750,
          9000,
          9250,
          9500,
          9750,
          10000,
          10250,
          10500,
          10750,
          11000,
          11250,
          11500,
          11750,
          12000,
          12250,
          12500,
          12750,
          13000,
          13250,
          13500,
          13750,
          14000,
          14250,
          14500,
          14750,
          15000,
          15250,
          15500,
          15750,
          16000,
          16250,
          16500,
          16750,
          17000,
          17250,
          17500,
          17750,
          18000,
          18250,
          18500,
          18750,
          19000,
          19250,
          19500,
          19750
         ],
         "xaxis": "x",
         "y": [
          -0.98,
          -0.944,
          -0.924,
          -0.932,
          -0.912,
          -0.94,
          -0.936,
          -0.904,
          -0.94,
          -0.944,
          -0.96,
          -0.876,
          -0.916,
          -0.924,
          -0.928,
          -0.924,
          -0.936,
          -0.904,
          -0.92,
          -0.94,
          -0.92,
          -0.944,
          -0.94,
          -0.916,
          -0.928,
          -0.944,
          -0.936,
          -0.928,
          -0.892,
          -0.908,
          -0.888,
          -0.884,
          -0.888,
          -0.912,
          -0.936,
          -0.88,
          -0.868,
          -0.888,
          -0.872,
          -0.884,
          -0.896,
          -0.832,
          -0.9,
          -0.884,
          -0.88,
          -0.852,
          -0.852,
          -0.844,
          -0.84,
          -0.848,
          -0.904,
          -0.812,
          -0.808,
          -0.84,
          -0.8,
          -0.76,
          -0.744,
          -0.724,
          -0.708,
          -0.752,
          -0.764,
          -0.736,
          -0.708,
          -0.74,
          -0.68,
          -0.632,
          -0.636,
          -0.596,
          -0.628,
          -0.608,
          -0.616,
          -0.552,
          -0.588,
          -0.564,
          -0.576,
          -0.488,
          -0.524,
          -0.504,
          -0.52
         ],
         "yaxis": "y"
        },
        {
         "hovertemplate": "variable=Mopt (n*=32000)<br>Games played=%{x}<br>value=%{y}<extra></extra>",
         "legendgroup": "Mopt (n*=32000)",
         "line": {
          "color": "#ab63fa",
          "dash": "solid"
         },
         "marker": {
          "symbol": "circle"
         },
         "mode": "lines",
         "name": "Mopt (n*=32000)",
         "orientation": "v",
         "showlegend": true,
         "type": "scatter",
         "x": [
          250,
          500,
          750,
          1000,
          1250,
          1500,
          1750,
          2000,
          2250,
          2500,
          2750,
          3000,
          3250,
          3500,
          3750,
          4000,
          4250,
          4500,
          4750,
          5000,
          5250,
          5500,
          5750,
          6000,
          6250,
          6500,
          6750,
          7000,
          7250,
          7500,
          7750,
          8000,
          8250,
          8500,
          8750,
          9000,
          9250,
          9500,
          9750,
          10000,
          10250,
          10500,
          10750,
          11000,
          11250,
          11500,
          11750,
          12000,
          12250,
          12500,
          12750,
          13000,
          13250,
          13500,
          13750,
          14000,
          14250,
          14500,
          14750,
          15000,
          15250,
          15500,
          15750,
          16000,
          16250,
          16500,
          16750,
          17000,
          17250,
          17500,
          17750,
          18000,
          18250,
          18500,
          18750,
          19000,
          19250,
          19500,
          19750
         ],
         "xaxis": "x",
         "y": [
          -1,
          -0.988,
          -0.984,
          -0.972,
          -0.964,
          -0.944,
          -0.928,
          -0.928,
          -0.952,
          -0.956,
          -0.96,
          -0.98,
          -0.968,
          -0.964,
          -0.948,
          -0.976,
          -0.964,
          -0.952,
          -0.928,
          -0.948,
          -0.952,
          -0.944,
          -0.964,
          -0.96,
          -0.96,
          -0.964,
          -0.968,
          -0.944,
          -0.94,
          -0.92,
          -0.972,
          -0.936,
          -0.956,
          -0.916,
          -0.876,
          -0.892,
          -0.896,
          -0.932,
          -0.892,
          -0.892,
          -0.912,
          -0.932,
          -0.932,
          -0.832,
          -0.876,
          -0.904,
          -0.896,
          -0.904,
          -0.86,
          -0.872,
          -0.912,
          -0.864,
          -0.868,
          -0.86,
          -0.852,
          -0.832,
          -0.808,
          -0.844,
          -0.852,
          -0.824,
          -0.804,
          -0.82,
          -0.768,
          -0.768,
          -0.772,
          -0.796,
          -0.86,
          -0.784,
          -0.808,
          -0.752,
          -0.784,
          -0.82,
          -0.772,
          -0.744,
          -0.724,
          -0.744,
          -0.74,
          -0.7,
          -0.692
         ],
         "yaxis": "y"
        },
        {
         "hovertemplate": "variable=Mopt (n*=40000)<br>Games played=%{x}<br>value=%{y}<extra></extra>",
         "legendgroup": "Mopt (n*=40000)",
         "line": {
          "color": "#FFA15A",
          "dash": "solid"
         },
         "marker": {
          "symbol": "circle"
         },
         "mode": "lines",
         "name": "Mopt (n*=40000)",
         "orientation": "v",
         "showlegend": true,
         "type": "scatter",
         "x": [
          250,
          500,
          750,
          1000,
          1250,
          1500,
          1750,
          2000,
          2250,
          2500,
          2750,
          3000,
          3250,
          3500,
          3750,
          4000,
          4250,
          4500,
          4750,
          5000,
          5250,
          5500,
          5750,
          6000,
          6250,
          6500,
          6750,
          7000,
          7250,
          7500,
          7750,
          8000,
          8250,
          8500,
          8750,
          9000,
          9250,
          9500,
          9750,
          10000,
          10250,
          10500,
          10750,
          11000,
          11250,
          11500,
          11750,
          12000,
          12250,
          12500,
          12750,
          13000,
          13250,
          13500,
          13750,
          14000,
          14250,
          14500,
          14750,
          15000,
          15250,
          15500,
          15750,
          16000,
          16250,
          16500,
          16750,
          17000,
          17250,
          17500,
          17750,
          18000,
          18250,
          18500,
          18750,
          19000,
          19250,
          19500,
          19750
         ],
         "xaxis": "x",
         "y": [
          -0.996,
          -0.992,
          -0.96,
          -0.976,
          -0.948,
          -0.988,
          -0.964,
          -0.964,
          -0.964,
          -0.976,
          -0.932,
          -0.944,
          -0.952,
          -0.936,
          -0.944,
          -0.908,
          -0.952,
          -0.948,
          -0.956,
          -0.948,
          -0.964,
          -0.984,
          -0.944,
          -0.904,
          -0.928,
          -0.932,
          -0.896,
          -0.884,
          -0.916,
          -0.912,
          -0.9,
          -0.928,
          -0.912,
          -0.9,
          -0.916,
          -0.916,
          -0.92,
          -0.92,
          -0.908,
          -0.924,
          -0.864,
          -0.884,
          -0.856,
          -0.908,
          -0.896,
          -0.948,
          -0.9,
          -0.876,
          -0.908,
          -0.86,
          -0.852,
          -0.872,
          -0.86,
          -0.872,
          -0.892,
          -0.884,
          -0.828,
          -0.848,
          -0.828,
          -0.832,
          -0.804,
          -0.848,
          -0.804,
          -0.832,
          -0.808,
          -0.836,
          -0.808,
          -0.812,
          -0.744,
          -0.812,
          -0.8,
          -0.756,
          -0.816,
          -0.808,
          -0.76,
          -0.756,
          -0.772,
          -0.808,
          -0.776
         ],
         "yaxis": "y"
        },
        {
         "hovertemplate": "variable=Mopt (n*=8001)<br>Games played=%{x}<br>value=%{y}<extra></extra>",
         "legendgroup": "Mopt (n*=8001)",
         "line": {
          "color": "#19d3f3",
          "dash": "solid"
         },
         "marker": {
          "symbol": "circle"
         },
         "mode": "lines",
         "name": "Mopt (n*=8001)",
         "orientation": "v",
         "showlegend": true,
         "type": "scatter",
         "x": [
          250,
          500,
          750,
          1000,
          1250,
          1500,
          1750,
          2000,
          2250,
          2500,
          2750,
          3000,
          3250,
          3500,
          3750,
          4000,
          4250,
          4500,
          4750,
          5000,
          5250,
          5500,
          5750,
          6000,
          6250,
          6500,
          6750,
          7000,
          7250,
          7500,
          7750,
          8000,
          8250,
          8500,
          8750,
          9000,
          9250,
          9500,
          9750,
          10000,
          10250,
          10500,
          10750,
          11000,
          11250,
          11500,
          11750,
          12000,
          12250,
          12500,
          12750,
          13000,
          13250,
          13500,
          13750,
          14000,
          14250,
          14500,
          14750,
          15000,
          15250,
          15500,
          15750,
          16000,
          16250,
          16500,
          16750,
          17000,
          17250,
          17500,
          17750,
          18000,
          18250,
          18500,
          18750,
          19000,
          19250,
          19500,
          19750
         ],
         "xaxis": "x",
         "y": [
          -0.972,
          -0.992,
          -0.96,
          -0.956,
          -0.992,
          -0.964,
          -0.948,
          -0.952,
          -0.952,
          -0.952,
          -0.952,
          -0.96,
          -0.976,
          -0.916,
          -0.936,
          -0.94,
          -0.944,
          -0.948,
          -0.88,
          -0.92,
          -0.936,
          -0.9,
          -0.872,
          -0.868,
          -0.904,
          -0.832,
          -0.836,
          -0.808,
          -0.78,
          -0.792,
          -0.76,
          -0.68,
          -0.672,
          -0.7,
          -0.7,
          -0.704,
          -0.6,
          -0.616,
          -0.576,
          -0.568,
          -0.508,
          -0.404,
          -0.44,
          -0.364,
          -0.452,
          -0.348,
          -0.336,
          -0.404,
          -0.332,
          -0.348,
          -0.276,
          -0.26,
          -0.224,
          -0.204,
          -0.248,
          -0.228,
          -0.168,
          -0.112,
          -0.136,
          -0.136,
          -0.092,
          -0.208,
          -0.124,
          -0.108,
          -0.052,
          -0.072,
          -0.076,
          -0.128,
          -0.052,
          -0.076,
          -0.096,
          -0.08,
          -0.096,
          -0.064,
          -0.028,
          -0.056,
          -0.044,
          -0.076,
          -0.052
         ],
         "yaxis": "y"
        }
       ],
       "layout": {
        "legend": {
         "title": {
          "text": "variable"
         },
         "tracegroupgap": 0
        },
        "margin": {
         "t": 60
        },
        "template": {
         "data": {
          "bar": [
           {
            "error_x": {
             "color": "#2a3f5f"
            },
            "error_y": {
             "color": "#2a3f5f"
            },
            "marker": {
             "line": {
              "color": "#E5ECF6",
              "width": 0.5
             },
             "pattern": {
              "fillmode": "overlay",
              "size": 10,
              "solidity": 0.2
             }
            },
            "type": "bar"
           }
          ],
          "barpolar": [
           {
            "marker": {
             "line": {
              "color": "#E5ECF6",
              "width": 0.5
             },
             "pattern": {
              "fillmode": "overlay",
              "size": 10,
              "solidity": 0.2
             }
            },
            "type": "barpolar"
           }
          ],
          "carpet": [
           {
            "aaxis": {
             "endlinecolor": "#2a3f5f",
             "gridcolor": "white",
             "linecolor": "white",
             "minorgridcolor": "white",
             "startlinecolor": "#2a3f5f"
            },
            "baxis": {
             "endlinecolor": "#2a3f5f",
             "gridcolor": "white",
             "linecolor": "white",
             "minorgridcolor": "white",
             "startlinecolor": "#2a3f5f"
            },
            "type": "carpet"
           }
          ],
          "choropleth": [
           {
            "colorbar": {
             "outlinewidth": 0,
             "ticks": ""
            },
            "type": "choropleth"
           }
          ],
          "contour": [
           {
            "colorbar": {
             "outlinewidth": 0,
             "ticks": ""
            },
            "colorscale": [
             [
              0,
              "#0d0887"
             ],
             [
              0.1111111111111111,
              "#46039f"
             ],
             [
              0.2222222222222222,
              "#7201a8"
             ],
             [
              0.3333333333333333,
              "#9c179e"
             ],
             [
              0.4444444444444444,
              "#bd3786"
             ],
             [
              0.5555555555555556,
              "#d8576b"
             ],
             [
              0.6666666666666666,
              "#ed7953"
             ],
             [
              0.7777777777777778,
              "#fb9f3a"
             ],
             [
              0.8888888888888888,
              "#fdca26"
             ],
             [
              1,
              "#f0f921"
             ]
            ],
            "type": "contour"
           }
          ],
          "contourcarpet": [
           {
            "colorbar": {
             "outlinewidth": 0,
             "ticks": ""
            },
            "type": "contourcarpet"
           }
          ],
          "heatmap": [
           {
            "colorbar": {
             "outlinewidth": 0,
             "ticks": ""
            },
            "colorscale": [
             [
              0,
              "#0d0887"
             ],
             [
              0.1111111111111111,
              "#46039f"
             ],
             [
              0.2222222222222222,
              "#7201a8"
             ],
             [
              0.3333333333333333,
              "#9c179e"
             ],
             [
              0.4444444444444444,
              "#bd3786"
             ],
             [
              0.5555555555555556,
              "#d8576b"
             ],
             [
              0.6666666666666666,
              "#ed7953"
             ],
             [
              0.7777777777777778,
              "#fb9f3a"
             ],
             [
              0.8888888888888888,
              "#fdca26"
             ],
             [
              1,
              "#f0f921"
             ]
            ],
            "type": "heatmap"
           }
          ],
          "heatmapgl": [
           {
            "colorbar": {
             "outlinewidth": 0,
             "ticks": ""
            },
            "colorscale": [
             [
              0,
              "#0d0887"
             ],
             [
              0.1111111111111111,
              "#46039f"
             ],
             [
              0.2222222222222222,
              "#7201a8"
             ],
             [
              0.3333333333333333,
              "#9c179e"
             ],
             [
              0.4444444444444444,
              "#bd3786"
             ],
             [
              0.5555555555555556,
              "#d8576b"
             ],
             [
              0.6666666666666666,
              "#ed7953"
             ],
             [
              0.7777777777777778,
              "#fb9f3a"
             ],
             [
              0.8888888888888888,
              "#fdca26"
             ],
             [
              1,
              "#f0f921"
             ]
            ],
            "type": "heatmapgl"
           }
          ],
          "histogram": [
           {
            "marker": {
             "pattern": {
              "fillmode": "overlay",
              "size": 10,
              "solidity": 0.2
             }
            },
            "type": "histogram"
           }
          ],
          "histogram2d": [
           {
            "colorbar": {
             "outlinewidth": 0,
             "ticks": ""
            },
            "colorscale": [
             [
              0,
              "#0d0887"
             ],
             [
              0.1111111111111111,
              "#46039f"
             ],
             [
              0.2222222222222222,
              "#7201a8"
             ],
             [
              0.3333333333333333,
              "#9c179e"
             ],
             [
              0.4444444444444444,
              "#bd3786"
             ],
             [
              0.5555555555555556,
              "#d8576b"
             ],
             [
              0.6666666666666666,
              "#ed7953"
             ],
             [
              0.7777777777777778,
              "#fb9f3a"
             ],
             [
              0.8888888888888888,
              "#fdca26"
             ],
             [
              1,
              "#f0f921"
             ]
            ],
            "type": "histogram2d"
           }
          ],
          "histogram2dcontour": [
           {
            "colorbar": {
             "outlinewidth": 0,
             "ticks": ""
            },
            "colorscale": [
             [
              0,
              "#0d0887"
             ],
             [
              0.1111111111111111,
              "#46039f"
             ],
             [
              0.2222222222222222,
              "#7201a8"
             ],
             [
              0.3333333333333333,
              "#9c179e"
             ],
             [
              0.4444444444444444,
              "#bd3786"
             ],
             [
              0.5555555555555556,
              "#d8576b"
             ],
             [
              0.6666666666666666,
              "#ed7953"
             ],
             [
              0.7777777777777778,
              "#fb9f3a"
             ],
             [
              0.8888888888888888,
              "#fdca26"
             ],
             [
              1,
              "#f0f921"
             ]
            ],
            "type": "histogram2dcontour"
           }
          ],
          "mesh3d": [
           {
            "colorbar": {
             "outlinewidth": 0,
             "ticks": ""
            },
            "type": "mesh3d"
           }
          ],
          "parcoords": [
           {
            "line": {
             "colorbar": {
              "outlinewidth": 0,
              "ticks": ""
             }
            },
            "type": "parcoords"
           }
          ],
          "pie": [
           {
            "automargin": true,
            "type": "pie"
           }
          ],
          "scatter": [
           {
            "fillpattern": {
             "fillmode": "overlay",
             "size": 10,
             "solidity": 0.2
            },
            "type": "scatter"
           }
          ],
          "scatter3d": [
           {
            "line": {
             "colorbar": {
              "outlinewidth": 0,
              "ticks": ""
             }
            },
            "marker": {
             "colorbar": {
              "outlinewidth": 0,
              "ticks": ""
             }
            },
            "type": "scatter3d"
           }
          ],
          "scattercarpet": [
           {
            "marker": {
             "colorbar": {
              "outlinewidth": 0,
              "ticks": ""
             }
            },
            "type": "scattercarpet"
           }
          ],
          "scattergeo": [
           {
            "marker": {
             "colorbar": {
              "outlinewidth": 0,
              "ticks": ""
             }
            },
            "type": "scattergeo"
           }
          ],
          "scattergl": [
           {
            "marker": {
             "colorbar": {
              "outlinewidth": 0,
              "ticks": ""
             }
            },
            "type": "scattergl"
           }
          ],
          "scattermapbox": [
           {
            "marker": {
             "colorbar": {
              "outlinewidth": 0,
              "ticks": ""
             }
            },
            "type": "scattermapbox"
           }
          ],
          "scatterpolar": [
           {
            "marker": {
             "colorbar": {
              "outlinewidth": 0,
              "ticks": ""
             }
            },
            "type": "scatterpolar"
           }
          ],
          "scatterpolargl": [
           {
            "marker": {
             "colorbar": {
              "outlinewidth": 0,
              "ticks": ""
             }
            },
            "type": "scatterpolargl"
           }
          ],
          "scatterternary": [
           {
            "marker": {
             "colorbar": {
              "outlinewidth": 0,
              "ticks": ""
             }
            },
            "type": "scatterternary"
           }
          ],
          "surface": [
           {
            "colorbar": {
             "outlinewidth": 0,
             "ticks": ""
            },
            "colorscale": [
             [
              0,
              "#0d0887"
             ],
             [
              0.1111111111111111,
              "#46039f"
             ],
             [
              0.2222222222222222,
              "#7201a8"
             ],
             [
              0.3333333333333333,
              "#9c179e"
             ],
             [
              0.4444444444444444,
              "#bd3786"
             ],
             [
              0.5555555555555556,
              "#d8576b"
             ],
             [
              0.6666666666666666,
              "#ed7953"
             ],
             [
              0.7777777777777778,
              "#fb9f3a"
             ],
             [
              0.8888888888888888,
              "#fdca26"
             ],
             [
              1,
              "#f0f921"
             ]
            ],
            "type": "surface"
           }
          ],
          "table": [
           {
            "cells": {
             "fill": {
              "color": "#EBF0F8"
             },
             "line": {
              "color": "white"
             }
            },
            "header": {
             "fill": {
              "color": "#C8D4E3"
             },
             "line": {
              "color": "white"
             }
            },
            "type": "table"
           }
          ]
         },
         "layout": {
          "annotationdefaults": {
           "arrowcolor": "#2a3f5f",
           "arrowhead": 0,
           "arrowwidth": 1
          },
          "autotypenumbers": "strict",
          "coloraxis": {
           "colorbar": {
            "outlinewidth": 0,
            "ticks": ""
           }
          },
          "colorscale": {
           "diverging": [
            [
             0,
             "#8e0152"
            ],
            [
             0.1,
             "#c51b7d"
            ],
            [
             0.2,
             "#de77ae"
            ],
            [
             0.3,
             "#f1b6da"
            ],
            [
             0.4,
             "#fde0ef"
            ],
            [
             0.5,
             "#f7f7f7"
            ],
            [
             0.6,
             "#e6f5d0"
            ],
            [
             0.7,
             "#b8e186"
            ],
            [
             0.8,
             "#7fbc41"
            ],
            [
             0.9,
             "#4d9221"
            ],
            [
             1,
             "#276419"
            ]
           ],
           "sequential": [
            [
             0,
             "#0d0887"
            ],
            [
             0.1111111111111111,
             "#46039f"
            ],
            [
             0.2222222222222222,
             "#7201a8"
            ],
            [
             0.3333333333333333,
             "#9c179e"
            ],
            [
             0.4444444444444444,
             "#bd3786"
            ],
            [
             0.5555555555555556,
             "#d8576b"
            ],
            [
             0.6666666666666666,
             "#ed7953"
            ],
            [
             0.7777777777777778,
             "#fb9f3a"
            ],
            [
             0.8888888888888888,
             "#fdca26"
            ],
            [
             1,
             "#f0f921"
            ]
           ],
           "sequentialminus": [
            [
             0,
             "#0d0887"
            ],
            [
             0.1111111111111111,
             "#46039f"
            ],
            [
             0.2222222222222222,
             "#7201a8"
            ],
            [
             0.3333333333333333,
             "#9c179e"
            ],
            [
             0.4444444444444444,
             "#bd3786"
            ],
            [
             0.5555555555555556,
             "#d8576b"
            ],
            [
             0.6666666666666666,
             "#ed7953"
            ],
            [
             0.7777777777777778,
             "#fb9f3a"
            ],
            [
             0.8888888888888888,
             "#fdca26"
            ],
            [
             1,
             "#f0f921"
            ]
           ]
          },
          "colorway": [
           "#636efa",
           "#EF553B",
           "#00cc96",
           "#ab63fa",
           "#FFA15A",
           "#19d3f3",
           "#FF6692",
           "#B6E880",
           "#FF97FF",
           "#FECB52"
          ],
          "font": {
           "color": "#2a3f5f"
          },
          "geo": {
           "bgcolor": "white",
           "lakecolor": "white",
           "landcolor": "#E5ECF6",
           "showlakes": true,
           "showland": true,
           "subunitcolor": "white"
          },
          "hoverlabel": {
           "align": "left"
          },
          "hovermode": "closest",
          "mapbox": {
           "style": "light"
          },
          "paper_bgcolor": "white",
          "plot_bgcolor": "#E5ECF6",
          "polar": {
           "angularaxis": {
            "gridcolor": "white",
            "linecolor": "white",
            "ticks": ""
           },
           "bgcolor": "#E5ECF6",
           "radialaxis": {
            "gridcolor": "white",
            "linecolor": "white",
            "ticks": ""
           }
          },
          "scene": {
           "xaxis": {
            "backgroundcolor": "#E5ECF6",
            "gridcolor": "white",
            "gridwidth": 2,
            "linecolor": "white",
            "showbackground": true,
            "ticks": "",
            "zerolinecolor": "white"
           },
           "yaxis": {
            "backgroundcolor": "#E5ECF6",
            "gridcolor": "white",
            "gridwidth": 2,
            "linecolor": "white",
            "showbackground": true,
            "ticks": "",
            "zerolinecolor": "white"
           },
           "zaxis": {
            "backgroundcolor": "#E5ECF6",
            "gridcolor": "white",
            "gridwidth": 2,
            "linecolor": "white",
            "showbackground": true,
            "ticks": "",
            "zerolinecolor": "white"
           }
          },
          "shapedefaults": {
           "line": {
            "color": "#2a3f5f"
           }
          },
          "ternary": {
           "aaxis": {
            "gridcolor": "white",
            "linecolor": "white",
            "ticks": ""
           },
           "baxis": {
            "gridcolor": "white",
            "linecolor": "white",
            "ticks": ""
           },
           "bgcolor": "#E5ECF6",
           "caxis": {
            "gridcolor": "white",
            "linecolor": "white",
            "ticks": ""
           }
          },
          "title": {
           "x": 0.05
          },
          "xaxis": {
           "automargin": true,
           "gridcolor": "white",
           "linecolor": "white",
           "ticks": "",
           "title": {
            "standoff": 15
           },
           "zerolinecolor": "white",
           "zerolinewidth": 2
          },
          "yaxis": {
           "automargin": true,
           "gridcolor": "white",
           "linecolor": "white",
           "ticks": "",
           "title": {
            "standoff": 15
           },
           "zerolinecolor": "white",
           "zerolinewidth": 2
          }
         }
        },
        "width": 800,
        "xaxis": {
         "anchor": "y",
         "domain": [
          0,
          1
         ],
         "title": {
          "text": "Games played"
         }
        },
        "yaxis": {
         "anchor": "x",
         "domain": [
          0,
          1
         ],
         "title": {
          "text": "Mopt"
         }
        }
       }
      },
      "text/html": [
       "<div>                            <div id=\"0521eba9-7f65-474a-8d76-155addd27e43\" class=\"plotly-graph-div\" style=\"height:525px; width:800px;\"></div>            <script type=\"text/javascript\">                require([\"plotly\"], function(Plotly) {                    window.PLOTLYENV=window.PLOTLYENV || {};                                    if (document.getElementById(\"0521eba9-7f65-474a-8d76-155addd27e43\")) {                    Plotly.newPlot(                        \"0521eba9-7f65-474a-8d76-155addd27e43\",                        [{\"hovertemplate\":\"variable=Mopt (n*=1)<br>Games played=%{x}<br>value=%{y}<extra></extra>\",\"legendgroup\":\"Mopt (n*=1)\",\"line\":{\"color\":\"#636efa\",\"dash\":\"solid\"},\"marker\":{\"symbol\":\"circle\"},\"mode\":\"lines\",\"name\":\"Mopt (n*=1)\",\"orientation\":\"v\",\"showlegend\":true,\"x\":[250,500,750,1000,1250,1500,1750,2000,2250,2500,2750,3000,3250,3500,3750,4000,4250,4500,4750,5000,5250,5500,5750,6000,6250,6500,6750,7000,7250,7500,7750,8000,8250,8500,8750,9000,9250,9500,9750,10000,10250,10500,10750,11000,11250,11500,11750,12000,12250,12500,12750,13000,13250,13500,13750,14000,14250,14500,14750,15000,15250,15500,15750,16000,16250,16500,16750,17000,17250,17500,17750,18000,18250,18500,18750,19000,19250,19500,19750],\"xaxis\":\"x\",\"y\":[-0.944,-0.86,-0.78,-0.788,-0.692,-0.7,-0.628,-0.536,-0.548,-0.444,-0.46,-0.444,-0.468,-0.364,-0.336,-0.316,-0.348,-0.276,-0.26,-0.264,-0.256,-0.276,-0.212,-0.212,-0.176,-0.148,-0.144,-0.18,-0.092,-0.168,-0.06,-0.012,-0.148,-0.06,-0.092,-0.068,-0.068,-0.076,-0.084,-0.052,-0.048,-0.104,-0.072,-0.096,-0.02,-0.04,-0.1,0.0,-0.02,-0.048,-0.048,-0.016,-0.024,-0.096,0.024,-0.088,-0.032,0.012,-0.092,-0.056,0.028,0.008,-0.052,-0.092,0.004,0.012,-0.004,-0.032,-0.02,-0.004,-0.044,0.02,-0.044,0.04,-0.008,-0.056,-0.04,-0.004,0.024],\"yaxis\":\"y\",\"type\":\"scatter\"},{\"hovertemplate\":\"variable=Mopt (n*=16001)<br>Games played=%{x}<br>value=%{y}<extra></extra>\",\"legendgroup\":\"Mopt (n*=16001)\",\"line\":{\"color\":\"#EF553B\",\"dash\":\"solid\"},\"marker\":{\"symbol\":\"circle\"},\"mode\":\"lines\",\"name\":\"Mopt (n*=16001)\",\"orientation\":\"v\",\"showlegend\":true,\"x\":[250,500,750,1000,1250,1500,1750,2000,2250,2500,2750,3000,3250,3500,3750,4000,4250,4500,4750,5000,5250,5500,5750,6000,6250,6500,6750,7000,7250,7500,7750,8000,8250,8500,8750,9000,9250,9500,9750,10000,10250,10500,10750,11000,11250,11500,11750,12000,12250,12500,12750,13000,13250,13500,13750,14000,14250,14500,14750,15000,15250,15500,15750,16000,16250,16500,16750,17000,17250,17500,17750,18000,18250,18500,18750,19000,19250,19500,19750],\"xaxis\":\"x\",\"y\":[-0.956,-0.976,-0.992,-0.976,-0.96,-0.976,-0.988,-0.988,-0.972,-0.98,-0.952,-0.98,-0.984,-0.984,-0.964,-0.972,-0.98,-0.96,-0.936,-0.964,-0.948,-0.948,-0.904,-0.94,-0.884,-0.916,-0.876,-0.908,-0.932,-0.9,-0.912,-0.876,-0.916,-0.864,-0.836,-0.884,-0.88,-0.848,-0.824,-0.832,-0.808,-0.82,-0.784,-0.728,-0.752,-0.692,-0.716,-0.704,-0.712,-0.636,-0.648,-0.612,-0.6,-0.656,-0.588,-0.576,-0.576,-0.428,-0.5,-0.46,-0.412,-0.404,-0.348,-0.292,-0.328,-0.292,-0.308,-0.272,-0.288,-0.212,-0.224,-0.296,-0.252,-0.228,-0.26,-0.2,-0.236,-0.196,-0.18],\"yaxis\":\"y\",\"type\":\"scatter\"},{\"hovertemplate\":\"variable=Mopt (n*=24000)<br>Games played=%{x}<br>value=%{y}<extra></extra>\",\"legendgroup\":\"Mopt (n*=24000)\",\"line\":{\"color\":\"#00cc96\",\"dash\":\"solid\"},\"marker\":{\"symbol\":\"circle\"},\"mode\":\"lines\",\"name\":\"Mopt (n*=24000)\",\"orientation\":\"v\",\"showlegend\":true,\"x\":[250,500,750,1000,1250,1500,1750,2000,2250,2500,2750,3000,3250,3500,3750,4000,4250,4500,4750,5000,5250,5500,5750,6000,6250,6500,6750,7000,7250,7500,7750,8000,8250,8500,8750,9000,9250,9500,9750,10000,10250,10500,10750,11000,11250,11500,11750,12000,12250,12500,12750,13000,13250,13500,13750,14000,14250,14500,14750,15000,15250,15500,15750,16000,16250,16500,16750,17000,17250,17500,17750,18000,18250,18500,18750,19000,19250,19500,19750],\"xaxis\":\"x\",\"y\":[-0.98,-0.944,-0.924,-0.932,-0.912,-0.94,-0.936,-0.904,-0.94,-0.944,-0.96,-0.876,-0.916,-0.924,-0.928,-0.924,-0.936,-0.904,-0.92,-0.94,-0.92,-0.944,-0.94,-0.916,-0.928,-0.944,-0.936,-0.928,-0.892,-0.908,-0.888,-0.884,-0.888,-0.912,-0.936,-0.88,-0.868,-0.888,-0.872,-0.884,-0.896,-0.832,-0.9,-0.884,-0.88,-0.852,-0.852,-0.844,-0.84,-0.848,-0.904,-0.812,-0.808,-0.84,-0.8,-0.76,-0.744,-0.724,-0.708,-0.752,-0.764,-0.736,-0.708,-0.74,-0.68,-0.632,-0.636,-0.596,-0.628,-0.608,-0.616,-0.552,-0.588,-0.564,-0.576,-0.488,-0.524,-0.504,-0.52],\"yaxis\":\"y\",\"type\":\"scatter\"},{\"hovertemplate\":\"variable=Mopt (n*=32000)<br>Games played=%{x}<br>value=%{y}<extra></extra>\",\"legendgroup\":\"Mopt (n*=32000)\",\"line\":{\"color\":\"#ab63fa\",\"dash\":\"solid\"},\"marker\":{\"symbol\":\"circle\"},\"mode\":\"lines\",\"name\":\"Mopt (n*=32000)\",\"orientation\":\"v\",\"showlegend\":true,\"x\":[250,500,750,1000,1250,1500,1750,2000,2250,2500,2750,3000,3250,3500,3750,4000,4250,4500,4750,5000,5250,5500,5750,6000,6250,6500,6750,7000,7250,7500,7750,8000,8250,8500,8750,9000,9250,9500,9750,10000,10250,10500,10750,11000,11250,11500,11750,12000,12250,12500,12750,13000,13250,13500,13750,14000,14250,14500,14750,15000,15250,15500,15750,16000,16250,16500,16750,17000,17250,17500,17750,18000,18250,18500,18750,19000,19250,19500,19750],\"xaxis\":\"x\",\"y\":[-1.0,-0.988,-0.984,-0.972,-0.964,-0.944,-0.928,-0.928,-0.952,-0.956,-0.96,-0.98,-0.968,-0.964,-0.948,-0.976,-0.964,-0.952,-0.928,-0.948,-0.952,-0.944,-0.964,-0.96,-0.96,-0.964,-0.968,-0.944,-0.94,-0.92,-0.972,-0.936,-0.956,-0.916,-0.876,-0.892,-0.896,-0.932,-0.892,-0.892,-0.912,-0.932,-0.932,-0.832,-0.876,-0.904,-0.896,-0.904,-0.86,-0.872,-0.912,-0.864,-0.868,-0.86,-0.852,-0.832,-0.808,-0.844,-0.852,-0.824,-0.804,-0.82,-0.768,-0.768,-0.772,-0.796,-0.86,-0.784,-0.808,-0.752,-0.784,-0.82,-0.772,-0.744,-0.724,-0.744,-0.74,-0.7,-0.692],\"yaxis\":\"y\",\"type\":\"scatter\"},{\"hovertemplate\":\"variable=Mopt (n*=40000)<br>Games played=%{x}<br>value=%{y}<extra></extra>\",\"legendgroup\":\"Mopt (n*=40000)\",\"line\":{\"color\":\"#FFA15A\",\"dash\":\"solid\"},\"marker\":{\"symbol\":\"circle\"},\"mode\":\"lines\",\"name\":\"Mopt (n*=40000)\",\"orientation\":\"v\",\"showlegend\":true,\"x\":[250,500,750,1000,1250,1500,1750,2000,2250,2500,2750,3000,3250,3500,3750,4000,4250,4500,4750,5000,5250,5500,5750,6000,6250,6500,6750,7000,7250,7500,7750,8000,8250,8500,8750,9000,9250,9500,9750,10000,10250,10500,10750,11000,11250,11500,11750,12000,12250,12500,12750,13000,13250,13500,13750,14000,14250,14500,14750,15000,15250,15500,15750,16000,16250,16500,16750,17000,17250,17500,17750,18000,18250,18500,18750,19000,19250,19500,19750],\"xaxis\":\"x\",\"y\":[-0.996,-0.992,-0.96,-0.976,-0.948,-0.988,-0.964,-0.964,-0.964,-0.976,-0.932,-0.944,-0.952,-0.936,-0.944,-0.908,-0.952,-0.948,-0.956,-0.948,-0.964,-0.984,-0.944,-0.904,-0.928,-0.932,-0.896,-0.884,-0.916,-0.912,-0.9,-0.928,-0.912,-0.9,-0.916,-0.916,-0.92,-0.92,-0.908,-0.924,-0.864,-0.884,-0.856,-0.908,-0.896,-0.948,-0.9,-0.876,-0.908,-0.86,-0.852,-0.872,-0.86,-0.872,-0.892,-0.884,-0.828,-0.848,-0.828,-0.832,-0.804,-0.848,-0.804,-0.832,-0.808,-0.836,-0.808,-0.812,-0.744,-0.812,-0.8,-0.756,-0.816,-0.808,-0.76,-0.756,-0.772,-0.808,-0.776],\"yaxis\":\"y\",\"type\":\"scatter\"},{\"hovertemplate\":\"variable=Mopt (n*=8001)<br>Games played=%{x}<br>value=%{y}<extra></extra>\",\"legendgroup\":\"Mopt (n*=8001)\",\"line\":{\"color\":\"#19d3f3\",\"dash\":\"solid\"},\"marker\":{\"symbol\":\"circle\"},\"mode\":\"lines\",\"name\":\"Mopt (n*=8001)\",\"orientation\":\"v\",\"showlegend\":true,\"x\":[250,500,750,1000,1250,1500,1750,2000,2250,2500,2750,3000,3250,3500,3750,4000,4250,4500,4750,5000,5250,5500,5750,6000,6250,6500,6750,7000,7250,7500,7750,8000,8250,8500,8750,9000,9250,9500,9750,10000,10250,10500,10750,11000,11250,11500,11750,12000,12250,12500,12750,13000,13250,13500,13750,14000,14250,14500,14750,15000,15250,15500,15750,16000,16250,16500,16750,17000,17250,17500,17750,18000,18250,18500,18750,19000,19250,19500,19750],\"xaxis\":\"x\",\"y\":[-0.972,-0.992,-0.96,-0.956,-0.992,-0.964,-0.948,-0.952,-0.952,-0.952,-0.952,-0.96,-0.976,-0.916,-0.936,-0.94,-0.944,-0.948,-0.88,-0.92,-0.936,-0.9,-0.872,-0.868,-0.904,-0.832,-0.836,-0.808,-0.78,-0.792,-0.76,-0.68,-0.672,-0.7,-0.7,-0.704,-0.6,-0.616,-0.576,-0.568,-0.508,-0.404,-0.44,-0.364,-0.452,-0.348,-0.336,-0.404,-0.332,-0.348,-0.276,-0.26,-0.224,-0.204,-0.248,-0.228,-0.168,-0.112,-0.136,-0.136,-0.092,-0.208,-0.124,-0.108,-0.052,-0.072,-0.076,-0.128,-0.052,-0.076,-0.096,-0.08,-0.096,-0.064,-0.028,-0.056,-0.044,-0.076,-0.052],\"yaxis\":\"y\",\"type\":\"scatter\"}],                        {\"template\":{\"data\":{\"histogram2dcontour\":[{\"type\":\"histogram2dcontour\",\"colorbar\":{\"outlinewidth\":0,\"ticks\":\"\"},\"colorscale\":[[0.0,\"#0d0887\"],[0.1111111111111111,\"#46039f\"],[0.2222222222222222,\"#7201a8\"],[0.3333333333333333,\"#9c179e\"],[0.4444444444444444,\"#bd3786\"],[0.5555555555555556,\"#d8576b\"],[0.6666666666666666,\"#ed7953\"],[0.7777777777777778,\"#fb9f3a\"],[0.8888888888888888,\"#fdca26\"],[1.0,\"#f0f921\"]]}],\"choropleth\":[{\"type\":\"choropleth\",\"colorbar\":{\"outlinewidth\":0,\"ticks\":\"\"}}],\"histogram2d\":[{\"type\":\"histogram2d\",\"colorbar\":{\"outlinewidth\":0,\"ticks\":\"\"},\"colorscale\":[[0.0,\"#0d0887\"],[0.1111111111111111,\"#46039f\"],[0.2222222222222222,\"#7201a8\"],[0.3333333333333333,\"#9c179e\"],[0.4444444444444444,\"#bd3786\"],[0.5555555555555556,\"#d8576b\"],[0.6666666666666666,\"#ed7953\"],[0.7777777777777778,\"#fb9f3a\"],[0.8888888888888888,\"#fdca26\"],[1.0,\"#f0f921\"]]}],\"heatmap\":[{\"type\":\"heatmap\",\"colorbar\":{\"outlinewidth\":0,\"ticks\":\"\"},\"colorscale\":[[0.0,\"#0d0887\"],[0.1111111111111111,\"#46039f\"],[0.2222222222222222,\"#7201a8\"],[0.3333333333333333,\"#9c179e\"],[0.4444444444444444,\"#bd3786\"],[0.5555555555555556,\"#d8576b\"],[0.6666666666666666,\"#ed7953\"],[0.7777777777777778,\"#fb9f3a\"],[0.8888888888888888,\"#fdca26\"],[1.0,\"#f0f921\"]]}],\"heatmapgl\":[{\"type\":\"heatmapgl\",\"colorbar\":{\"outlinewidth\":0,\"ticks\":\"\"},\"colorscale\":[[0.0,\"#0d0887\"],[0.1111111111111111,\"#46039f\"],[0.2222222222222222,\"#7201a8\"],[0.3333333333333333,\"#9c179e\"],[0.4444444444444444,\"#bd3786\"],[0.5555555555555556,\"#d8576b\"],[0.6666666666666666,\"#ed7953\"],[0.7777777777777778,\"#fb9f3a\"],[0.8888888888888888,\"#fdca26\"],[1.0,\"#f0f921\"]]}],\"contourcarpet\":[{\"type\":\"contourcarpet\",\"colorbar\":{\"outlinewidth\":0,\"ticks\":\"\"}}],\"contour\":[{\"type\":\"contour\",\"colorbar\":{\"outlinewidth\":0,\"ticks\":\"\"},\"colorscale\":[[0.0,\"#0d0887\"],[0.1111111111111111,\"#46039f\"],[0.2222222222222222,\"#7201a8\"],[0.3333333333333333,\"#9c179e\"],[0.4444444444444444,\"#bd3786\"],[0.5555555555555556,\"#d8576b\"],[0.6666666666666666,\"#ed7953\"],[0.7777777777777778,\"#fb9f3a\"],[0.8888888888888888,\"#fdca26\"],[1.0,\"#f0f921\"]]}],\"surface\":[{\"type\":\"surface\",\"colorbar\":{\"outlinewidth\":0,\"ticks\":\"\"},\"colorscale\":[[0.0,\"#0d0887\"],[0.1111111111111111,\"#46039f\"],[0.2222222222222222,\"#7201a8\"],[0.3333333333333333,\"#9c179e\"],[0.4444444444444444,\"#bd3786\"],[0.5555555555555556,\"#d8576b\"],[0.6666666666666666,\"#ed7953\"],[0.7777777777777778,\"#fb9f3a\"],[0.8888888888888888,\"#fdca26\"],[1.0,\"#f0f921\"]]}],\"mesh3d\":[{\"type\":\"mesh3d\",\"colorbar\":{\"outlinewidth\":0,\"ticks\":\"\"}}],\"scatter\":[{\"fillpattern\":{\"fillmode\":\"overlay\",\"size\":10,\"solidity\":0.2},\"type\":\"scatter\"}],\"parcoords\":[{\"type\":\"parcoords\",\"line\":{\"colorbar\":{\"outlinewidth\":0,\"ticks\":\"\"}}}],\"scatterpolargl\":[{\"type\":\"scatterpolargl\",\"marker\":{\"colorbar\":{\"outlinewidth\":0,\"ticks\":\"\"}}}],\"bar\":[{\"error_x\":{\"color\":\"#2a3f5f\"},\"error_y\":{\"color\":\"#2a3f5f\"},\"marker\":{\"line\":{\"color\":\"#E5ECF6\",\"width\":0.5},\"pattern\":{\"fillmode\":\"overlay\",\"size\":10,\"solidity\":0.2}},\"type\":\"bar\"}],\"scattergeo\":[{\"type\":\"scattergeo\",\"marker\":{\"colorbar\":{\"outlinewidth\":0,\"ticks\":\"\"}}}],\"scatterpolar\":[{\"type\":\"scatterpolar\",\"marker\":{\"colorbar\":{\"outlinewidth\":0,\"ticks\":\"\"}}}],\"histogram\":[{\"marker\":{\"pattern\":{\"fillmode\":\"overlay\",\"size\":10,\"solidity\":0.2}},\"type\":\"histogram\"}],\"scattergl\":[{\"type\":\"scattergl\",\"marker\":{\"colorbar\":{\"outlinewidth\":0,\"ticks\":\"\"}}}],\"scatter3d\":[{\"type\":\"scatter3d\",\"line\":{\"colorbar\":{\"outlinewidth\":0,\"ticks\":\"\"}},\"marker\":{\"colorbar\":{\"outlinewidth\":0,\"ticks\":\"\"}}}],\"scattermapbox\":[{\"type\":\"scattermapbox\",\"marker\":{\"colorbar\":{\"outlinewidth\":0,\"ticks\":\"\"}}}],\"scatterternary\":[{\"type\":\"scatterternary\",\"marker\":{\"colorbar\":{\"outlinewidth\":0,\"ticks\":\"\"}}}],\"scattercarpet\":[{\"type\":\"scattercarpet\",\"marker\":{\"colorbar\":{\"outlinewidth\":0,\"ticks\":\"\"}}}],\"carpet\":[{\"aaxis\":{\"endlinecolor\":\"#2a3f5f\",\"gridcolor\":\"white\",\"linecolor\":\"white\",\"minorgridcolor\":\"white\",\"startlinecolor\":\"#2a3f5f\"},\"baxis\":{\"endlinecolor\":\"#2a3f5f\",\"gridcolor\":\"white\",\"linecolor\":\"white\",\"minorgridcolor\":\"white\",\"startlinecolor\":\"#2a3f5f\"},\"type\":\"carpet\"}],\"table\":[{\"cells\":{\"fill\":{\"color\":\"#EBF0F8\"},\"line\":{\"color\":\"white\"}},\"header\":{\"fill\":{\"color\":\"#C8D4E3\"},\"line\":{\"color\":\"white\"}},\"type\":\"table\"}],\"barpolar\":[{\"marker\":{\"line\":{\"color\":\"#E5ECF6\",\"width\":0.5},\"pattern\":{\"fillmode\":\"overlay\",\"size\":10,\"solidity\":0.2}},\"type\":\"barpolar\"}],\"pie\":[{\"automargin\":true,\"type\":\"pie\"}]},\"layout\":{\"autotypenumbers\":\"strict\",\"colorway\":[\"#636efa\",\"#EF553B\",\"#00cc96\",\"#ab63fa\",\"#FFA15A\",\"#19d3f3\",\"#FF6692\",\"#B6E880\",\"#FF97FF\",\"#FECB52\"],\"font\":{\"color\":\"#2a3f5f\"},\"hovermode\":\"closest\",\"hoverlabel\":{\"align\":\"left\"},\"paper_bgcolor\":\"white\",\"plot_bgcolor\":\"#E5ECF6\",\"polar\":{\"bgcolor\":\"#E5ECF6\",\"angularaxis\":{\"gridcolor\":\"white\",\"linecolor\":\"white\",\"ticks\":\"\"},\"radialaxis\":{\"gridcolor\":\"white\",\"linecolor\":\"white\",\"ticks\":\"\"}},\"ternary\":{\"bgcolor\":\"#E5ECF6\",\"aaxis\":{\"gridcolor\":\"white\",\"linecolor\":\"white\",\"ticks\":\"\"},\"baxis\":{\"gridcolor\":\"white\",\"linecolor\":\"white\",\"ticks\":\"\"},\"caxis\":{\"gridcolor\":\"white\",\"linecolor\":\"white\",\"ticks\":\"\"}},\"coloraxis\":{\"colorbar\":{\"outlinewidth\":0,\"ticks\":\"\"}},\"colorscale\":{\"sequential\":[[0.0,\"#0d0887\"],[0.1111111111111111,\"#46039f\"],[0.2222222222222222,\"#7201a8\"],[0.3333333333333333,\"#9c179e\"],[0.4444444444444444,\"#bd3786\"],[0.5555555555555556,\"#d8576b\"],[0.6666666666666666,\"#ed7953\"],[0.7777777777777778,\"#fb9f3a\"],[0.8888888888888888,\"#fdca26\"],[1.0,\"#f0f921\"]],\"sequentialminus\":[[0.0,\"#0d0887\"],[0.1111111111111111,\"#46039f\"],[0.2222222222222222,\"#7201a8\"],[0.3333333333333333,\"#9c179e\"],[0.4444444444444444,\"#bd3786\"],[0.5555555555555556,\"#d8576b\"],[0.6666666666666666,\"#ed7953\"],[0.7777777777777778,\"#fb9f3a\"],[0.8888888888888888,\"#fdca26\"],[1.0,\"#f0f921\"]],\"diverging\":[[0,\"#8e0152\"],[0.1,\"#c51b7d\"],[0.2,\"#de77ae\"],[0.3,\"#f1b6da\"],[0.4,\"#fde0ef\"],[0.5,\"#f7f7f7\"],[0.6,\"#e6f5d0\"],[0.7,\"#b8e186\"],[0.8,\"#7fbc41\"],[0.9,\"#4d9221\"],[1,\"#276419\"]]},\"xaxis\":{\"gridcolor\":\"white\",\"linecolor\":\"white\",\"ticks\":\"\",\"title\":{\"standoff\":15},\"zerolinecolor\":\"white\",\"automargin\":true,\"zerolinewidth\":2},\"yaxis\":{\"gridcolor\":\"white\",\"linecolor\":\"white\",\"ticks\":\"\",\"title\":{\"standoff\":15},\"zerolinecolor\":\"white\",\"automargin\":true,\"zerolinewidth\":2},\"scene\":{\"xaxis\":{\"backgroundcolor\":\"#E5ECF6\",\"gridcolor\":\"white\",\"linecolor\":\"white\",\"showbackground\":true,\"ticks\":\"\",\"zerolinecolor\":\"white\",\"gridwidth\":2},\"yaxis\":{\"backgroundcolor\":\"#E5ECF6\",\"gridcolor\":\"white\",\"linecolor\":\"white\",\"showbackground\":true,\"ticks\":\"\",\"zerolinecolor\":\"white\",\"gridwidth\":2},\"zaxis\":{\"backgroundcolor\":\"#E5ECF6\",\"gridcolor\":\"white\",\"linecolor\":\"white\",\"showbackground\":true,\"ticks\":\"\",\"zerolinecolor\":\"white\",\"gridwidth\":2}},\"shapedefaults\":{\"line\":{\"color\":\"#2a3f5f\"}},\"annotationdefaults\":{\"arrowcolor\":\"#2a3f5f\",\"arrowhead\":0,\"arrowwidth\":1},\"geo\":{\"bgcolor\":\"white\",\"landcolor\":\"#E5ECF6\",\"subunitcolor\":\"white\",\"showland\":true,\"showlakes\":true,\"lakecolor\":\"white\"},\"title\":{\"x\":0.05},\"mapbox\":{\"style\":\"light\"}}},\"xaxis\":{\"anchor\":\"y\",\"domain\":[0.0,1.0],\"title\":{\"text\":\"Games played\"}},\"yaxis\":{\"anchor\":\"x\",\"domain\":[0.0,1.0],\"title\":{\"text\":\"Mopt\"}},\"legend\":{\"title\":{\"text\":\"variable\"},\"tracegroupgap\":0},\"margin\":{\"t\":60},\"width\":800},                        {\"responsive\": true}                    ).then(function(){\n",
       "                            \n",
       "var gd = document.getElementById('0521eba9-7f65-474a-8d76-155addd27e43');\n",
       "var x = new MutationObserver(function (mutations, observer) {{\n",
       "        var display = window.getComputedStyle(gd).display;\n",
       "        if (!display || display === 'none') {{\n",
       "            console.log([gd, 'removed!']);\n",
       "            Plotly.purge(gd);\n",
       "            observer.disconnect();\n",
       "        }}\n",
       "}});\n",
       "\n",
       "// Listen for the removal of the full notebook cells\n",
       "var notebookContainer = gd.closest('#notebook-container');\n",
       "if (notebookContainer) {{\n",
       "    x.observe(notebookContainer, {childList: true});\n",
       "}}\n",
       "\n",
       "// Listen for the clearing of the current output cell\n",
       "var outputEl = gd.closest('.output');\n",
       "if (outputEl) {{\n",
       "    x.observe(outputEl, {childList: true});\n",
       "}}\n",
       "\n",
       "                        })                };                });            </script>        </div>"
      ]
     },
     "metadata": {},
     "output_type": "display_data"
    },
    {
     "data": {
      "application/vnd.plotly.v1+json": {
       "config": {
        "plotlyServerURL": "https://plot.ly"
       },
       "data": [
        {
         "hovertemplate": "variable=Mrand (n*=1)<br>Games played=%{x}<br>value=%{y}<extra></extra>",
         "legendgroup": "Mrand (n*=1)",
         "line": {
          "color": "#636efa",
          "dash": "solid"
         },
         "marker": {
          "symbol": "circle"
         },
         "mode": "lines",
         "name": "Mrand (n*=1)",
         "orientation": "v",
         "showlegend": true,
         "type": "scatter",
         "x": [
          250,
          500,
          750,
          1000,
          1250,
          1500,
          1750,
          2000,
          2250,
          2500,
          2750,
          3000,
          3250,
          3500,
          3750,
          4000,
          4250,
          4500,
          4750,
          5000,
          5250,
          5500,
          5750,
          6000,
          6250,
          6500,
          6750,
          7000,
          7250,
          7500,
          7750,
          8000,
          8250,
          8500,
          8750,
          9000,
          9250,
          9500,
          9750,
          10000,
          10250,
          10500,
          10750,
          11000,
          11250,
          11500,
          11750,
          12000,
          12250,
          12500,
          12750,
          13000,
          13250,
          13500,
          13750,
          14000,
          14250,
          14500,
          14750,
          15000,
          15250,
          15500,
          15750,
          16000,
          16250,
          16500,
          16750,
          17000,
          17250,
          17500,
          17750,
          18000,
          18250,
          18500,
          18750,
          19000,
          19250,
          19500,
          19750
         ],
         "xaxis": "x",
         "y": [
          0.768,
          0.896,
          0.9,
          0.924,
          0.888,
          0.92,
          0.968,
          0.988,
          0.96,
          0.984,
          0.972,
          0.984,
          0.988,
          0.98,
          0.992,
          0.988,
          0.984,
          0.984,
          0.98,
          1,
          0.996,
          0.996,
          0.984,
          0.98,
          0.996,
          0.996,
          0.996,
          0.992,
          0.988,
          1,
          0.996,
          0.992,
          1,
          0.984,
          0.992,
          0.992,
          1,
          0.992,
          0.996,
          1,
          1,
          0.996,
          0.988,
          1,
          1,
          0.992,
          0.996,
          0.996,
          1,
          0.996,
          0.992,
          0.988,
          0.992,
          0.992,
          0.992,
          0.988,
          0.996,
          0.996,
          1,
          0.992,
          0.996,
          1,
          1,
          1,
          0.984,
          0.996,
          0.992,
          0.996,
          0.996,
          1,
          1,
          1,
          1,
          0.996,
          1,
          1,
          1,
          0.992,
          0.992
         ],
         "yaxis": "y"
        },
        {
         "hovertemplate": "variable=Mrand (n*=16001)<br>Games played=%{x}<br>value=%{y}<extra></extra>",
         "legendgroup": "Mrand (n*=16001)",
         "line": {
          "color": "#EF553B",
          "dash": "solid"
         },
         "marker": {
          "symbol": "circle"
         },
         "mode": "lines",
         "name": "Mrand (n*=16001)",
         "orientation": "v",
         "showlegend": true,
         "type": "scatter",
         "x": [
          250,
          500,
          750,
          1000,
          1250,
          1500,
          1750,
          2000,
          2250,
          2500,
          2750,
          3000,
          3250,
          3500,
          3750,
          4000,
          4250,
          4500,
          4750,
          5000,
          5250,
          5500,
          5750,
          6000,
          6250,
          6500,
          6750,
          7000,
          7250,
          7500,
          7750,
          8000,
          8250,
          8500,
          8750,
          9000,
          9250,
          9500,
          9750,
          10000,
          10250,
          10500,
          10750,
          11000,
          11250,
          11500,
          11750,
          12000,
          12250,
          12500,
          12750,
          13000,
          13250,
          13500,
          13750,
          14000,
          14250,
          14500,
          14750,
          15000,
          15250,
          15500,
          15750,
          16000,
          16250,
          16500,
          16750,
          17000,
          17250,
          17500,
          17750,
          18000,
          18250,
          18500,
          18750,
          19000,
          19250,
          19500,
          19750
         ],
         "xaxis": "x",
         "y": [
          0.696,
          0.768,
          0.772,
          0.844,
          0.86,
          0.868,
          0.856,
          0.916,
          0.9,
          0.916,
          0.928,
          0.928,
          0.916,
          0.94,
          0.964,
          0.924,
          0.948,
          0.94,
          0.928,
          0.928,
          0.96,
          0.956,
          0.952,
          0.968,
          0.964,
          0.964,
          0.964,
          0.96,
          0.956,
          0.968,
          0.988,
          0.98,
          0.976,
          0.984,
          0.984,
          0.984,
          0.976,
          0.984,
          0.988,
          0.988,
          0.988,
          0.98,
          0.996,
          0.98,
          0.992,
          0.992,
          0.988,
          0.98,
          0.984,
          0.984,
          0.988,
          1,
          0.972,
          0.984,
          0.992,
          0.996,
          0.988,
          0.988,
          0.996,
          0.98,
          0.984,
          0.992,
          1,
          1,
          0.996,
          0.996,
          0.992,
          1,
          0.988,
          0.996,
          0.996,
          0.996,
          1,
          1,
          0.996,
          0.992,
          1,
          0.996,
          0.996
         ],
         "yaxis": "y"
        },
        {
         "hovertemplate": "variable=Mrand (n*=24000)<br>Games played=%{x}<br>value=%{y}<extra></extra>",
         "legendgroup": "Mrand (n*=24000)",
         "line": {
          "color": "#00cc96",
          "dash": "solid"
         },
         "marker": {
          "symbol": "circle"
         },
         "mode": "lines",
         "name": "Mrand (n*=24000)",
         "orientation": "v",
         "showlegend": true,
         "type": "scatter",
         "x": [
          250,
          500,
          750,
          1000,
          1250,
          1500,
          1750,
          2000,
          2250,
          2500,
          2750,
          3000,
          3250,
          3500,
          3750,
          4000,
          4250,
          4500,
          4750,
          5000,
          5250,
          5500,
          5750,
          6000,
          6250,
          6500,
          6750,
          7000,
          7250,
          7500,
          7750,
          8000,
          8250,
          8500,
          8750,
          9000,
          9250,
          9500,
          9750,
          10000,
          10250,
          10500,
          10750,
          11000,
          11250,
          11500,
          11750,
          12000,
          12250,
          12500,
          12750,
          13000,
          13250,
          13500,
          13750,
          14000,
          14250,
          14500,
          14750,
          15000,
          15250,
          15500,
          15750,
          16000,
          16250,
          16500,
          16750,
          17000,
          17250,
          17500,
          17750,
          18000,
          18250,
          18500,
          18750,
          19000,
          19250,
          19500,
          19750
         ],
         "xaxis": "x",
         "y": [
          0.712,
          0.7,
          0.76,
          0.848,
          0.808,
          0.832,
          0.9,
          0.872,
          0.908,
          0.928,
          0.916,
          0.92,
          0.9,
          0.932,
          0.952,
          0.904,
          0.956,
          0.944,
          0.948,
          0.936,
          0.94,
          0.932,
          0.94,
          0.96,
          0.944,
          0.948,
          0.964,
          0.968,
          0.98,
          0.952,
          0.968,
          0.972,
          0.996,
          0.968,
          0.98,
          0.94,
          0.984,
          0.976,
          0.98,
          0.984,
          0.972,
          0.984,
          0.984,
          0.984,
          0.976,
          0.98,
          0.996,
          0.988,
          0.98,
          0.964,
          0.988,
          0.996,
          0.984,
          0.956,
          0.988,
          0.984,
          0.968,
          0.992,
          0.996,
          0.992,
          0.988,
          1,
          1,
          0.988,
          0.996,
          0.98,
          0.992,
          1,
          0.992,
          0.984,
          0.972,
          0.992,
          0.988,
          0.992,
          0.992,
          0.98,
          0.988,
          0.988,
          0.996
         ],
         "yaxis": "y"
        },
        {
         "hovertemplate": "variable=Mrand (n*=32000)<br>Games played=%{x}<br>value=%{y}<extra></extra>",
         "legendgroup": "Mrand (n*=32000)",
         "line": {
          "color": "#ab63fa",
          "dash": "solid"
         },
         "marker": {
          "symbol": "circle"
         },
         "mode": "lines",
         "name": "Mrand (n*=32000)",
         "orientation": "v",
         "showlegend": true,
         "type": "scatter",
         "x": [
          250,
          500,
          750,
          1000,
          1250,
          1500,
          1750,
          2000,
          2250,
          2500,
          2750,
          3000,
          3250,
          3500,
          3750,
          4000,
          4250,
          4500,
          4750,
          5000,
          5250,
          5500,
          5750,
          6000,
          6250,
          6500,
          6750,
          7000,
          7250,
          7500,
          7750,
          8000,
          8250,
          8500,
          8750,
          9000,
          9250,
          9500,
          9750,
          10000,
          10250,
          10500,
          10750,
          11000,
          11250,
          11500,
          11750,
          12000,
          12250,
          12500,
          12750,
          13000,
          13250,
          13500,
          13750,
          14000,
          14250,
          14500,
          14750,
          15000,
          15250,
          15500,
          15750,
          16000,
          16250,
          16500,
          16750,
          17000,
          17250,
          17500,
          17750,
          18000,
          18250,
          18500,
          18750,
          19000,
          19250,
          19500,
          19750
         ],
         "xaxis": "x",
         "y": [
          0.728,
          0.8,
          0.82,
          0.8,
          0.836,
          0.852,
          0.892,
          0.852,
          0.856,
          0.904,
          0.9,
          0.952,
          0.924,
          0.932,
          0.92,
          0.96,
          0.92,
          0.928,
          0.948,
          0.928,
          0.952,
          0.956,
          0.96,
          0.96,
          0.964,
          0.972,
          0.972,
          0.952,
          0.956,
          0.98,
          0.952,
          0.944,
          0.96,
          0.956,
          0.976,
          0.976,
          0.964,
          0.972,
          0.968,
          0.968,
          0.984,
          0.968,
          0.984,
          0.976,
          0.996,
          0.98,
          0.996,
          0.992,
          0.984,
          0.972,
          0.98,
          0.984,
          0.98,
          0.956,
          0.972,
          0.972,
          0.992,
          0.996,
          0.988,
          0.98,
          0.996,
          0.988,
          0.996,
          0.996,
          0.972,
          0.996,
          0.992,
          0.996,
          0.98,
          0.98,
          0.996,
          0.996,
          0.996,
          0.98,
          1,
          0.984,
          0.996,
          0.996,
          0.996
         ],
         "yaxis": "y"
        },
        {
         "hovertemplate": "variable=Mrand (n*=40000)<br>Games played=%{x}<br>value=%{y}<extra></extra>",
         "legendgroup": "Mrand (n*=40000)",
         "line": {
          "color": "#FFA15A",
          "dash": "solid"
         },
         "marker": {
          "symbol": "circle"
         },
         "mode": "lines",
         "name": "Mrand (n*=40000)",
         "orientation": "v",
         "showlegend": true,
         "type": "scatter",
         "x": [
          250,
          500,
          750,
          1000,
          1250,
          1500,
          1750,
          2000,
          2250,
          2500,
          2750,
          3000,
          3250,
          3500,
          3750,
          4000,
          4250,
          4500,
          4750,
          5000,
          5250,
          5500,
          5750,
          6000,
          6250,
          6500,
          6750,
          7000,
          7250,
          7500,
          7750,
          8000,
          8250,
          8500,
          8750,
          9000,
          9250,
          9500,
          9750,
          10000,
          10250,
          10500,
          10750,
          11000,
          11250,
          11500,
          11750,
          12000,
          12250,
          12500,
          12750,
          13000,
          13250,
          13500,
          13750,
          14000,
          14250,
          14500,
          14750,
          15000,
          15250,
          15500,
          15750,
          16000,
          16250,
          16500,
          16750,
          17000,
          17250,
          17500,
          17750,
          18000,
          18250,
          18500,
          18750,
          19000,
          19250,
          19500,
          19750
         ],
         "xaxis": "x",
         "y": [
          0.72,
          0.688,
          0.752,
          0.796,
          0.824,
          0.8,
          0.848,
          0.868,
          0.848,
          0.86,
          0.88,
          0.86,
          0.928,
          0.924,
          0.928,
          0.896,
          0.932,
          0.92,
          0.956,
          0.932,
          0.944,
          0.956,
          0.948,
          0.96,
          0.976,
          0.964,
          0.956,
          0.952,
          0.98,
          0.964,
          0.96,
          0.96,
          0.976,
          0.968,
          0.968,
          0.992,
          0.988,
          0.98,
          0.976,
          0.964,
          0.984,
          0.984,
          0.988,
          0.956,
          0.98,
          0.976,
          0.98,
          1,
          0.96,
          0.988,
          0.988,
          0.996,
          0.98,
          0.984,
          0.988,
          0.988,
          0.988,
          0.964,
          0.976,
          0.996,
          0.984,
          0.984,
          0.996,
          0.98,
          0.98,
          0.988,
          0.976,
          0.992,
          0.996,
          0.988,
          0.992,
          0.98,
          0.996,
          0.984,
          0.992,
          0.996,
          0.984,
          0.992,
          0.996
         ],
         "yaxis": "y"
        },
        {
         "hovertemplate": "variable=Mrand (n*=8001)<br>Games played=%{x}<br>value=%{y}<extra></extra>",
         "legendgroup": "Mrand (n*=8001)",
         "line": {
          "color": "#19d3f3",
          "dash": "solid"
         },
         "marker": {
          "symbol": "circle"
         },
         "mode": "lines",
         "name": "Mrand (n*=8001)",
         "orientation": "v",
         "showlegend": true,
         "type": "scatter",
         "x": [
          250,
          500,
          750,
          1000,
          1250,
          1500,
          1750,
          2000,
          2250,
          2500,
          2750,
          3000,
          3250,
          3500,
          3750,
          4000,
          4250,
          4500,
          4750,
          5000,
          5250,
          5500,
          5750,
          6000,
          6250,
          6500,
          6750,
          7000,
          7250,
          7500,
          7750,
          8000,
          8250,
          8500,
          8750,
          9000,
          9250,
          9500,
          9750,
          10000,
          10250,
          10500,
          10750,
          11000,
          11250,
          11500,
          11750,
          12000,
          12250,
          12500,
          12750,
          13000,
          13250,
          13500,
          13750,
          14000,
          14250,
          14500,
          14750,
          15000,
          15250,
          15500,
          15750,
          16000,
          16250,
          16500,
          16750,
          17000,
          17250,
          17500,
          17750,
          18000,
          18250,
          18500,
          18750,
          19000,
          19250,
          19500,
          19750
         ],
         "xaxis": "x",
         "y": [
          0.744,
          0.756,
          0.8,
          0.804,
          0.888,
          0.828,
          0.888,
          0.904,
          0.9,
          0.92,
          0.92,
          0.908,
          0.944,
          0.94,
          0.944,
          0.968,
          0.936,
          0.956,
          0.96,
          0.976,
          0.956,
          0.976,
          0.984,
          0.96,
          0.968,
          0.976,
          0.972,
          0.964,
          0.98,
          0.98,
          0.972,
          0.988,
          0.976,
          0.988,
          0.98,
          0.988,
          0.988,
          0.988,
          0.996,
          0.972,
          0.996,
          0.992,
          1,
          0.984,
          0.992,
          0.996,
          0.984,
          0.996,
          0.992,
          1,
          0.996,
          1,
          0.996,
          0.992,
          0.984,
          1,
          0.996,
          0.988,
          0.996,
          1,
          0.996,
          0.992,
          0.988,
          0.992,
          1,
          0.996,
          1,
          0.996,
          0.988,
          1,
          0.988,
          1,
          0.992,
          0.996,
          1,
          1,
          0.992,
          0.996,
          0.992
         ],
         "yaxis": "y"
        }
       ],
       "layout": {
        "legend": {
         "title": {
          "text": "variable"
         },
         "tracegroupgap": 0
        },
        "margin": {
         "t": 60
        },
        "template": {
         "data": {
          "bar": [
           {
            "error_x": {
             "color": "#2a3f5f"
            },
            "error_y": {
             "color": "#2a3f5f"
            },
            "marker": {
             "line": {
              "color": "#E5ECF6",
              "width": 0.5
             },
             "pattern": {
              "fillmode": "overlay",
              "size": 10,
              "solidity": 0.2
             }
            },
            "type": "bar"
           }
          ],
          "barpolar": [
           {
            "marker": {
             "line": {
              "color": "#E5ECF6",
              "width": 0.5
             },
             "pattern": {
              "fillmode": "overlay",
              "size": 10,
              "solidity": 0.2
             }
            },
            "type": "barpolar"
           }
          ],
          "carpet": [
           {
            "aaxis": {
             "endlinecolor": "#2a3f5f",
             "gridcolor": "white",
             "linecolor": "white",
             "minorgridcolor": "white",
             "startlinecolor": "#2a3f5f"
            },
            "baxis": {
             "endlinecolor": "#2a3f5f",
             "gridcolor": "white",
             "linecolor": "white",
             "minorgridcolor": "white",
             "startlinecolor": "#2a3f5f"
            },
            "type": "carpet"
           }
          ],
          "choropleth": [
           {
            "colorbar": {
             "outlinewidth": 0,
             "ticks": ""
            },
            "type": "choropleth"
           }
          ],
          "contour": [
           {
            "colorbar": {
             "outlinewidth": 0,
             "ticks": ""
            },
            "colorscale": [
             [
              0,
              "#0d0887"
             ],
             [
              0.1111111111111111,
              "#46039f"
             ],
             [
              0.2222222222222222,
              "#7201a8"
             ],
             [
              0.3333333333333333,
              "#9c179e"
             ],
             [
              0.4444444444444444,
              "#bd3786"
             ],
             [
              0.5555555555555556,
              "#d8576b"
             ],
             [
              0.6666666666666666,
              "#ed7953"
             ],
             [
              0.7777777777777778,
              "#fb9f3a"
             ],
             [
              0.8888888888888888,
              "#fdca26"
             ],
             [
              1,
              "#f0f921"
             ]
            ],
            "type": "contour"
           }
          ],
          "contourcarpet": [
           {
            "colorbar": {
             "outlinewidth": 0,
             "ticks": ""
            },
            "type": "contourcarpet"
           }
          ],
          "heatmap": [
           {
            "colorbar": {
             "outlinewidth": 0,
             "ticks": ""
            },
            "colorscale": [
             [
              0,
              "#0d0887"
             ],
             [
              0.1111111111111111,
              "#46039f"
             ],
             [
              0.2222222222222222,
              "#7201a8"
             ],
             [
              0.3333333333333333,
              "#9c179e"
             ],
             [
              0.4444444444444444,
              "#bd3786"
             ],
             [
              0.5555555555555556,
              "#d8576b"
             ],
             [
              0.6666666666666666,
              "#ed7953"
             ],
             [
              0.7777777777777778,
              "#fb9f3a"
             ],
             [
              0.8888888888888888,
              "#fdca26"
             ],
             [
              1,
              "#f0f921"
             ]
            ],
            "type": "heatmap"
           }
          ],
          "heatmapgl": [
           {
            "colorbar": {
             "outlinewidth": 0,
             "ticks": ""
            },
            "colorscale": [
             [
              0,
              "#0d0887"
             ],
             [
              0.1111111111111111,
              "#46039f"
             ],
             [
              0.2222222222222222,
              "#7201a8"
             ],
             [
              0.3333333333333333,
              "#9c179e"
             ],
             [
              0.4444444444444444,
              "#bd3786"
             ],
             [
              0.5555555555555556,
              "#d8576b"
             ],
             [
              0.6666666666666666,
              "#ed7953"
             ],
             [
              0.7777777777777778,
              "#fb9f3a"
             ],
             [
              0.8888888888888888,
              "#fdca26"
             ],
             [
              1,
              "#f0f921"
             ]
            ],
            "type": "heatmapgl"
           }
          ],
          "histogram": [
           {
            "marker": {
             "pattern": {
              "fillmode": "overlay",
              "size": 10,
              "solidity": 0.2
             }
            },
            "type": "histogram"
           }
          ],
          "histogram2d": [
           {
            "colorbar": {
             "outlinewidth": 0,
             "ticks": ""
            },
            "colorscale": [
             [
              0,
              "#0d0887"
             ],
             [
              0.1111111111111111,
              "#46039f"
             ],
             [
              0.2222222222222222,
              "#7201a8"
             ],
             [
              0.3333333333333333,
              "#9c179e"
             ],
             [
              0.4444444444444444,
              "#bd3786"
             ],
             [
              0.5555555555555556,
              "#d8576b"
             ],
             [
              0.6666666666666666,
              "#ed7953"
             ],
             [
              0.7777777777777778,
              "#fb9f3a"
             ],
             [
              0.8888888888888888,
              "#fdca26"
             ],
             [
              1,
              "#f0f921"
             ]
            ],
            "type": "histogram2d"
           }
          ],
          "histogram2dcontour": [
           {
            "colorbar": {
             "outlinewidth": 0,
             "ticks": ""
            },
            "colorscale": [
             [
              0,
              "#0d0887"
             ],
             [
              0.1111111111111111,
              "#46039f"
             ],
             [
              0.2222222222222222,
              "#7201a8"
             ],
             [
              0.3333333333333333,
              "#9c179e"
             ],
             [
              0.4444444444444444,
              "#bd3786"
             ],
             [
              0.5555555555555556,
              "#d8576b"
             ],
             [
              0.6666666666666666,
              "#ed7953"
             ],
             [
              0.7777777777777778,
              "#fb9f3a"
             ],
             [
              0.8888888888888888,
              "#fdca26"
             ],
             [
              1,
              "#f0f921"
             ]
            ],
            "type": "histogram2dcontour"
           }
          ],
          "mesh3d": [
           {
            "colorbar": {
             "outlinewidth": 0,
             "ticks": ""
            },
            "type": "mesh3d"
           }
          ],
          "parcoords": [
           {
            "line": {
             "colorbar": {
              "outlinewidth": 0,
              "ticks": ""
             }
            },
            "type": "parcoords"
           }
          ],
          "pie": [
           {
            "automargin": true,
            "type": "pie"
           }
          ],
          "scatter": [
           {
            "fillpattern": {
             "fillmode": "overlay",
             "size": 10,
             "solidity": 0.2
            },
            "type": "scatter"
           }
          ],
          "scatter3d": [
           {
            "line": {
             "colorbar": {
              "outlinewidth": 0,
              "ticks": ""
             }
            },
            "marker": {
             "colorbar": {
              "outlinewidth": 0,
              "ticks": ""
             }
            },
            "type": "scatter3d"
           }
          ],
          "scattercarpet": [
           {
            "marker": {
             "colorbar": {
              "outlinewidth": 0,
              "ticks": ""
             }
            },
            "type": "scattercarpet"
           }
          ],
          "scattergeo": [
           {
            "marker": {
             "colorbar": {
              "outlinewidth": 0,
              "ticks": ""
             }
            },
            "type": "scattergeo"
           }
          ],
          "scattergl": [
           {
            "marker": {
             "colorbar": {
              "outlinewidth": 0,
              "ticks": ""
             }
            },
            "type": "scattergl"
           }
          ],
          "scattermapbox": [
           {
            "marker": {
             "colorbar": {
              "outlinewidth": 0,
              "ticks": ""
             }
            },
            "type": "scattermapbox"
           }
          ],
          "scatterpolar": [
           {
            "marker": {
             "colorbar": {
              "outlinewidth": 0,
              "ticks": ""
             }
            },
            "type": "scatterpolar"
           }
          ],
          "scatterpolargl": [
           {
            "marker": {
             "colorbar": {
              "outlinewidth": 0,
              "ticks": ""
             }
            },
            "type": "scatterpolargl"
           }
          ],
          "scatterternary": [
           {
            "marker": {
             "colorbar": {
              "outlinewidth": 0,
              "ticks": ""
             }
            },
            "type": "scatterternary"
           }
          ],
          "surface": [
           {
            "colorbar": {
             "outlinewidth": 0,
             "ticks": ""
            },
            "colorscale": [
             [
              0,
              "#0d0887"
             ],
             [
              0.1111111111111111,
              "#46039f"
             ],
             [
              0.2222222222222222,
              "#7201a8"
             ],
             [
              0.3333333333333333,
              "#9c179e"
             ],
             [
              0.4444444444444444,
              "#bd3786"
             ],
             [
              0.5555555555555556,
              "#d8576b"
             ],
             [
              0.6666666666666666,
              "#ed7953"
             ],
             [
              0.7777777777777778,
              "#fb9f3a"
             ],
             [
              0.8888888888888888,
              "#fdca26"
             ],
             [
              1,
              "#f0f921"
             ]
            ],
            "type": "surface"
           }
          ],
          "table": [
           {
            "cells": {
             "fill": {
              "color": "#EBF0F8"
             },
             "line": {
              "color": "white"
             }
            },
            "header": {
             "fill": {
              "color": "#C8D4E3"
             },
             "line": {
              "color": "white"
             }
            },
            "type": "table"
           }
          ]
         },
         "layout": {
          "annotationdefaults": {
           "arrowcolor": "#2a3f5f",
           "arrowhead": 0,
           "arrowwidth": 1
          },
          "autotypenumbers": "strict",
          "coloraxis": {
           "colorbar": {
            "outlinewidth": 0,
            "ticks": ""
           }
          },
          "colorscale": {
           "diverging": [
            [
             0,
             "#8e0152"
            ],
            [
             0.1,
             "#c51b7d"
            ],
            [
             0.2,
             "#de77ae"
            ],
            [
             0.3,
             "#f1b6da"
            ],
            [
             0.4,
             "#fde0ef"
            ],
            [
             0.5,
             "#f7f7f7"
            ],
            [
             0.6,
             "#e6f5d0"
            ],
            [
             0.7,
             "#b8e186"
            ],
            [
             0.8,
             "#7fbc41"
            ],
            [
             0.9,
             "#4d9221"
            ],
            [
             1,
             "#276419"
            ]
           ],
           "sequential": [
            [
             0,
             "#0d0887"
            ],
            [
             0.1111111111111111,
             "#46039f"
            ],
            [
             0.2222222222222222,
             "#7201a8"
            ],
            [
             0.3333333333333333,
             "#9c179e"
            ],
            [
             0.4444444444444444,
             "#bd3786"
            ],
            [
             0.5555555555555556,
             "#d8576b"
            ],
            [
             0.6666666666666666,
             "#ed7953"
            ],
            [
             0.7777777777777778,
             "#fb9f3a"
            ],
            [
             0.8888888888888888,
             "#fdca26"
            ],
            [
             1,
             "#f0f921"
            ]
           ],
           "sequentialminus": [
            [
             0,
             "#0d0887"
            ],
            [
             0.1111111111111111,
             "#46039f"
            ],
            [
             0.2222222222222222,
             "#7201a8"
            ],
            [
             0.3333333333333333,
             "#9c179e"
            ],
            [
             0.4444444444444444,
             "#bd3786"
            ],
            [
             0.5555555555555556,
             "#d8576b"
            ],
            [
             0.6666666666666666,
             "#ed7953"
            ],
            [
             0.7777777777777778,
             "#fb9f3a"
            ],
            [
             0.8888888888888888,
             "#fdca26"
            ],
            [
             1,
             "#f0f921"
            ]
           ]
          },
          "colorway": [
           "#636efa",
           "#EF553B",
           "#00cc96",
           "#ab63fa",
           "#FFA15A",
           "#19d3f3",
           "#FF6692",
           "#B6E880",
           "#FF97FF",
           "#FECB52"
          ],
          "font": {
           "color": "#2a3f5f"
          },
          "geo": {
           "bgcolor": "white",
           "lakecolor": "white",
           "landcolor": "#E5ECF6",
           "showlakes": true,
           "showland": true,
           "subunitcolor": "white"
          },
          "hoverlabel": {
           "align": "left"
          },
          "hovermode": "closest",
          "mapbox": {
           "style": "light"
          },
          "paper_bgcolor": "white",
          "plot_bgcolor": "#E5ECF6",
          "polar": {
           "angularaxis": {
            "gridcolor": "white",
            "linecolor": "white",
            "ticks": ""
           },
           "bgcolor": "#E5ECF6",
           "radialaxis": {
            "gridcolor": "white",
            "linecolor": "white",
            "ticks": ""
           }
          },
          "scene": {
           "xaxis": {
            "backgroundcolor": "#E5ECF6",
            "gridcolor": "white",
            "gridwidth": 2,
            "linecolor": "white",
            "showbackground": true,
            "ticks": "",
            "zerolinecolor": "white"
           },
           "yaxis": {
            "backgroundcolor": "#E5ECF6",
            "gridcolor": "white",
            "gridwidth": 2,
            "linecolor": "white",
            "showbackground": true,
            "ticks": "",
            "zerolinecolor": "white"
           },
           "zaxis": {
            "backgroundcolor": "#E5ECF6",
            "gridcolor": "white",
            "gridwidth": 2,
            "linecolor": "white",
            "showbackground": true,
            "ticks": "",
            "zerolinecolor": "white"
           }
          },
          "shapedefaults": {
           "line": {
            "color": "#2a3f5f"
           }
          },
          "ternary": {
           "aaxis": {
            "gridcolor": "white",
            "linecolor": "white",
            "ticks": ""
           },
           "baxis": {
            "gridcolor": "white",
            "linecolor": "white",
            "ticks": ""
           },
           "bgcolor": "#E5ECF6",
           "caxis": {
            "gridcolor": "white",
            "linecolor": "white",
            "ticks": ""
           }
          },
          "title": {
           "x": 0.05
          },
          "xaxis": {
           "automargin": true,
           "gridcolor": "white",
           "linecolor": "white",
           "ticks": "",
           "title": {
            "standoff": 15
           },
           "zerolinecolor": "white",
           "zerolinewidth": 2
          },
          "yaxis": {
           "automargin": true,
           "gridcolor": "white",
           "linecolor": "white",
           "ticks": "",
           "title": {
            "standoff": 15
           },
           "zerolinecolor": "white",
           "zerolinewidth": 2
          }
         }
        },
        "width": 800,
        "xaxis": {
         "anchor": "y",
         "domain": [
          0,
          1
         ],
         "title": {
          "text": "Games played"
         }
        },
        "yaxis": {
         "anchor": "x",
         "domain": [
          0,
          1
         ],
         "title": {
          "text": "Mrand"
         }
        }
       }
      },
      "text/html": [
       "<div>                            <div id=\"e0b49730-fd33-4e24-9b14-c1f6ba5c1aa2\" class=\"plotly-graph-div\" style=\"height:525px; width:800px;\"></div>            <script type=\"text/javascript\">                require([\"plotly\"], function(Plotly) {                    window.PLOTLYENV=window.PLOTLYENV || {};                                    if (document.getElementById(\"e0b49730-fd33-4e24-9b14-c1f6ba5c1aa2\")) {                    Plotly.newPlot(                        \"e0b49730-fd33-4e24-9b14-c1f6ba5c1aa2\",                        [{\"hovertemplate\":\"variable=Mrand (n*=1)<br>Games played=%{x}<br>value=%{y}<extra></extra>\",\"legendgroup\":\"Mrand (n*=1)\",\"line\":{\"color\":\"#636efa\",\"dash\":\"solid\"},\"marker\":{\"symbol\":\"circle\"},\"mode\":\"lines\",\"name\":\"Mrand (n*=1)\",\"orientation\":\"v\",\"showlegend\":true,\"x\":[250,500,750,1000,1250,1500,1750,2000,2250,2500,2750,3000,3250,3500,3750,4000,4250,4500,4750,5000,5250,5500,5750,6000,6250,6500,6750,7000,7250,7500,7750,8000,8250,8500,8750,9000,9250,9500,9750,10000,10250,10500,10750,11000,11250,11500,11750,12000,12250,12500,12750,13000,13250,13500,13750,14000,14250,14500,14750,15000,15250,15500,15750,16000,16250,16500,16750,17000,17250,17500,17750,18000,18250,18500,18750,19000,19250,19500,19750],\"xaxis\":\"x\",\"y\":[0.768,0.896,0.9,0.924,0.888,0.92,0.968,0.988,0.96,0.984,0.972,0.984,0.988,0.98,0.992,0.988,0.984,0.984,0.98,1.0,0.996,0.996,0.984,0.98,0.996,0.996,0.996,0.992,0.988,1.0,0.996,0.992,1.0,0.984,0.992,0.992,1.0,0.992,0.996,1.0,1.0,0.996,0.988,1.0,1.0,0.992,0.996,0.996,1.0,0.996,0.992,0.988,0.992,0.992,0.992,0.988,0.996,0.996,1.0,0.992,0.996,1.0,1.0,1.0,0.984,0.996,0.992,0.996,0.996,1.0,1.0,1.0,1.0,0.996,1.0,1.0,1.0,0.992,0.992],\"yaxis\":\"y\",\"type\":\"scatter\"},{\"hovertemplate\":\"variable=Mrand (n*=16001)<br>Games played=%{x}<br>value=%{y}<extra></extra>\",\"legendgroup\":\"Mrand (n*=16001)\",\"line\":{\"color\":\"#EF553B\",\"dash\":\"solid\"},\"marker\":{\"symbol\":\"circle\"},\"mode\":\"lines\",\"name\":\"Mrand (n*=16001)\",\"orientation\":\"v\",\"showlegend\":true,\"x\":[250,500,750,1000,1250,1500,1750,2000,2250,2500,2750,3000,3250,3500,3750,4000,4250,4500,4750,5000,5250,5500,5750,6000,6250,6500,6750,7000,7250,7500,7750,8000,8250,8500,8750,9000,9250,9500,9750,10000,10250,10500,10750,11000,11250,11500,11750,12000,12250,12500,12750,13000,13250,13500,13750,14000,14250,14500,14750,15000,15250,15500,15750,16000,16250,16500,16750,17000,17250,17500,17750,18000,18250,18500,18750,19000,19250,19500,19750],\"xaxis\":\"x\",\"y\":[0.696,0.768,0.772,0.844,0.86,0.868,0.856,0.916,0.9,0.916,0.928,0.928,0.916,0.94,0.964,0.924,0.948,0.94,0.928,0.928,0.96,0.956,0.952,0.968,0.964,0.964,0.964,0.96,0.956,0.968,0.988,0.98,0.976,0.984,0.984,0.984,0.976,0.984,0.988,0.988,0.988,0.98,0.996,0.98,0.992,0.992,0.988,0.98,0.984,0.984,0.988,1.0,0.972,0.984,0.992,0.996,0.988,0.988,0.996,0.98,0.984,0.992,1.0,1.0,0.996,0.996,0.992,1.0,0.988,0.996,0.996,0.996,1.0,1.0,0.996,0.992,1.0,0.996,0.996],\"yaxis\":\"y\",\"type\":\"scatter\"},{\"hovertemplate\":\"variable=Mrand (n*=24000)<br>Games played=%{x}<br>value=%{y}<extra></extra>\",\"legendgroup\":\"Mrand (n*=24000)\",\"line\":{\"color\":\"#00cc96\",\"dash\":\"solid\"},\"marker\":{\"symbol\":\"circle\"},\"mode\":\"lines\",\"name\":\"Mrand (n*=24000)\",\"orientation\":\"v\",\"showlegend\":true,\"x\":[250,500,750,1000,1250,1500,1750,2000,2250,2500,2750,3000,3250,3500,3750,4000,4250,4500,4750,5000,5250,5500,5750,6000,6250,6500,6750,7000,7250,7500,7750,8000,8250,8500,8750,9000,9250,9500,9750,10000,10250,10500,10750,11000,11250,11500,11750,12000,12250,12500,12750,13000,13250,13500,13750,14000,14250,14500,14750,15000,15250,15500,15750,16000,16250,16500,16750,17000,17250,17500,17750,18000,18250,18500,18750,19000,19250,19500,19750],\"xaxis\":\"x\",\"y\":[0.712,0.7,0.76,0.848,0.808,0.832,0.9,0.872,0.908,0.928,0.916,0.92,0.9,0.932,0.952,0.904,0.956,0.944,0.948,0.936,0.94,0.932,0.94,0.96,0.944,0.948,0.964,0.968,0.98,0.952,0.968,0.972,0.996,0.968,0.98,0.94,0.984,0.976,0.98,0.984,0.972,0.984,0.984,0.984,0.976,0.98,0.996,0.988,0.98,0.964,0.988,0.996,0.984,0.956,0.988,0.984,0.968,0.992,0.996,0.992,0.988,1.0,1.0,0.988,0.996,0.98,0.992,1.0,0.992,0.984,0.972,0.992,0.988,0.992,0.992,0.98,0.988,0.988,0.996],\"yaxis\":\"y\",\"type\":\"scatter\"},{\"hovertemplate\":\"variable=Mrand (n*=32000)<br>Games played=%{x}<br>value=%{y}<extra></extra>\",\"legendgroup\":\"Mrand (n*=32000)\",\"line\":{\"color\":\"#ab63fa\",\"dash\":\"solid\"},\"marker\":{\"symbol\":\"circle\"},\"mode\":\"lines\",\"name\":\"Mrand (n*=32000)\",\"orientation\":\"v\",\"showlegend\":true,\"x\":[250,500,750,1000,1250,1500,1750,2000,2250,2500,2750,3000,3250,3500,3750,4000,4250,4500,4750,5000,5250,5500,5750,6000,6250,6500,6750,7000,7250,7500,7750,8000,8250,8500,8750,9000,9250,9500,9750,10000,10250,10500,10750,11000,11250,11500,11750,12000,12250,12500,12750,13000,13250,13500,13750,14000,14250,14500,14750,15000,15250,15500,15750,16000,16250,16500,16750,17000,17250,17500,17750,18000,18250,18500,18750,19000,19250,19500,19750],\"xaxis\":\"x\",\"y\":[0.728,0.8,0.82,0.8,0.836,0.852,0.892,0.852,0.856,0.904,0.9,0.952,0.924,0.932,0.92,0.96,0.92,0.928,0.948,0.928,0.952,0.956,0.96,0.96,0.964,0.972,0.972,0.952,0.956,0.98,0.952,0.944,0.96,0.956,0.976,0.976,0.964,0.972,0.968,0.968,0.984,0.968,0.984,0.976,0.996,0.98,0.996,0.992,0.984,0.972,0.98,0.984,0.98,0.956,0.972,0.972,0.992,0.996,0.988,0.98,0.996,0.988,0.996,0.996,0.972,0.996,0.992,0.996,0.98,0.98,0.996,0.996,0.996,0.98,1.0,0.984,0.996,0.996,0.996],\"yaxis\":\"y\",\"type\":\"scatter\"},{\"hovertemplate\":\"variable=Mrand (n*=40000)<br>Games played=%{x}<br>value=%{y}<extra></extra>\",\"legendgroup\":\"Mrand (n*=40000)\",\"line\":{\"color\":\"#FFA15A\",\"dash\":\"solid\"},\"marker\":{\"symbol\":\"circle\"},\"mode\":\"lines\",\"name\":\"Mrand (n*=40000)\",\"orientation\":\"v\",\"showlegend\":true,\"x\":[250,500,750,1000,1250,1500,1750,2000,2250,2500,2750,3000,3250,3500,3750,4000,4250,4500,4750,5000,5250,5500,5750,6000,6250,6500,6750,7000,7250,7500,7750,8000,8250,8500,8750,9000,9250,9500,9750,10000,10250,10500,10750,11000,11250,11500,11750,12000,12250,12500,12750,13000,13250,13500,13750,14000,14250,14500,14750,15000,15250,15500,15750,16000,16250,16500,16750,17000,17250,17500,17750,18000,18250,18500,18750,19000,19250,19500,19750],\"xaxis\":\"x\",\"y\":[0.72,0.688,0.752,0.796,0.824,0.8,0.848,0.868,0.848,0.86,0.88,0.86,0.928,0.924,0.928,0.896,0.932,0.92,0.956,0.932,0.944,0.956,0.948,0.96,0.976,0.964,0.956,0.952,0.98,0.964,0.96,0.96,0.976,0.968,0.968,0.992,0.988,0.98,0.976,0.964,0.984,0.984,0.988,0.956,0.98,0.976,0.98,1.0,0.96,0.988,0.988,0.996,0.98,0.984,0.988,0.988,0.988,0.964,0.976,0.996,0.984,0.984,0.996,0.98,0.98,0.988,0.976,0.992,0.996,0.988,0.992,0.98,0.996,0.984,0.992,0.996,0.984,0.992,0.996],\"yaxis\":\"y\",\"type\":\"scatter\"},{\"hovertemplate\":\"variable=Mrand (n*=8001)<br>Games played=%{x}<br>value=%{y}<extra></extra>\",\"legendgroup\":\"Mrand (n*=8001)\",\"line\":{\"color\":\"#19d3f3\",\"dash\":\"solid\"},\"marker\":{\"symbol\":\"circle\"},\"mode\":\"lines\",\"name\":\"Mrand (n*=8001)\",\"orientation\":\"v\",\"showlegend\":true,\"x\":[250,500,750,1000,1250,1500,1750,2000,2250,2500,2750,3000,3250,3500,3750,4000,4250,4500,4750,5000,5250,5500,5750,6000,6250,6500,6750,7000,7250,7500,7750,8000,8250,8500,8750,9000,9250,9500,9750,10000,10250,10500,10750,11000,11250,11500,11750,12000,12250,12500,12750,13000,13250,13500,13750,14000,14250,14500,14750,15000,15250,15500,15750,16000,16250,16500,16750,17000,17250,17500,17750,18000,18250,18500,18750,19000,19250,19500,19750],\"xaxis\":\"x\",\"y\":[0.744,0.756,0.8,0.804,0.888,0.828,0.888,0.904,0.9,0.92,0.92,0.908,0.944,0.94,0.944,0.968,0.936,0.956,0.96,0.976,0.956,0.976,0.984,0.96,0.968,0.976,0.972,0.964,0.98,0.98,0.972,0.988,0.976,0.988,0.98,0.988,0.988,0.988,0.996,0.972,0.996,0.992,1.0,0.984,0.992,0.996,0.984,0.996,0.992,1.0,0.996,1.0,0.996,0.992,0.984,1.0,0.996,0.988,0.996,1.0,0.996,0.992,0.988,0.992,1.0,0.996,1.0,0.996,0.988,1.0,0.988,1.0,0.992,0.996,1.0,1.0,0.992,0.996,0.992],\"yaxis\":\"y\",\"type\":\"scatter\"}],                        {\"template\":{\"data\":{\"histogram2dcontour\":[{\"type\":\"histogram2dcontour\",\"colorbar\":{\"outlinewidth\":0,\"ticks\":\"\"},\"colorscale\":[[0.0,\"#0d0887\"],[0.1111111111111111,\"#46039f\"],[0.2222222222222222,\"#7201a8\"],[0.3333333333333333,\"#9c179e\"],[0.4444444444444444,\"#bd3786\"],[0.5555555555555556,\"#d8576b\"],[0.6666666666666666,\"#ed7953\"],[0.7777777777777778,\"#fb9f3a\"],[0.8888888888888888,\"#fdca26\"],[1.0,\"#f0f921\"]]}],\"choropleth\":[{\"type\":\"choropleth\",\"colorbar\":{\"outlinewidth\":0,\"ticks\":\"\"}}],\"histogram2d\":[{\"type\":\"histogram2d\",\"colorbar\":{\"outlinewidth\":0,\"ticks\":\"\"},\"colorscale\":[[0.0,\"#0d0887\"],[0.1111111111111111,\"#46039f\"],[0.2222222222222222,\"#7201a8\"],[0.3333333333333333,\"#9c179e\"],[0.4444444444444444,\"#bd3786\"],[0.5555555555555556,\"#d8576b\"],[0.6666666666666666,\"#ed7953\"],[0.7777777777777778,\"#fb9f3a\"],[0.8888888888888888,\"#fdca26\"],[1.0,\"#f0f921\"]]}],\"heatmap\":[{\"type\":\"heatmap\",\"colorbar\":{\"outlinewidth\":0,\"ticks\":\"\"},\"colorscale\":[[0.0,\"#0d0887\"],[0.1111111111111111,\"#46039f\"],[0.2222222222222222,\"#7201a8\"],[0.3333333333333333,\"#9c179e\"],[0.4444444444444444,\"#bd3786\"],[0.5555555555555556,\"#d8576b\"],[0.6666666666666666,\"#ed7953\"],[0.7777777777777778,\"#fb9f3a\"],[0.8888888888888888,\"#fdca26\"],[1.0,\"#f0f921\"]]}],\"heatmapgl\":[{\"type\":\"heatmapgl\",\"colorbar\":{\"outlinewidth\":0,\"ticks\":\"\"},\"colorscale\":[[0.0,\"#0d0887\"],[0.1111111111111111,\"#46039f\"],[0.2222222222222222,\"#7201a8\"],[0.3333333333333333,\"#9c179e\"],[0.4444444444444444,\"#bd3786\"],[0.5555555555555556,\"#d8576b\"],[0.6666666666666666,\"#ed7953\"],[0.7777777777777778,\"#fb9f3a\"],[0.8888888888888888,\"#fdca26\"],[1.0,\"#f0f921\"]]}],\"contourcarpet\":[{\"type\":\"contourcarpet\",\"colorbar\":{\"outlinewidth\":0,\"ticks\":\"\"}}],\"contour\":[{\"type\":\"contour\",\"colorbar\":{\"outlinewidth\":0,\"ticks\":\"\"},\"colorscale\":[[0.0,\"#0d0887\"],[0.1111111111111111,\"#46039f\"],[0.2222222222222222,\"#7201a8\"],[0.3333333333333333,\"#9c179e\"],[0.4444444444444444,\"#bd3786\"],[0.5555555555555556,\"#d8576b\"],[0.6666666666666666,\"#ed7953\"],[0.7777777777777778,\"#fb9f3a\"],[0.8888888888888888,\"#fdca26\"],[1.0,\"#f0f921\"]]}],\"surface\":[{\"type\":\"surface\",\"colorbar\":{\"outlinewidth\":0,\"ticks\":\"\"},\"colorscale\":[[0.0,\"#0d0887\"],[0.1111111111111111,\"#46039f\"],[0.2222222222222222,\"#7201a8\"],[0.3333333333333333,\"#9c179e\"],[0.4444444444444444,\"#bd3786\"],[0.5555555555555556,\"#d8576b\"],[0.6666666666666666,\"#ed7953\"],[0.7777777777777778,\"#fb9f3a\"],[0.8888888888888888,\"#fdca26\"],[1.0,\"#f0f921\"]]}],\"mesh3d\":[{\"type\":\"mesh3d\",\"colorbar\":{\"outlinewidth\":0,\"ticks\":\"\"}}],\"scatter\":[{\"fillpattern\":{\"fillmode\":\"overlay\",\"size\":10,\"solidity\":0.2},\"type\":\"scatter\"}],\"parcoords\":[{\"type\":\"parcoords\",\"line\":{\"colorbar\":{\"outlinewidth\":0,\"ticks\":\"\"}}}],\"scatterpolargl\":[{\"type\":\"scatterpolargl\",\"marker\":{\"colorbar\":{\"outlinewidth\":0,\"ticks\":\"\"}}}],\"bar\":[{\"error_x\":{\"color\":\"#2a3f5f\"},\"error_y\":{\"color\":\"#2a3f5f\"},\"marker\":{\"line\":{\"color\":\"#E5ECF6\",\"width\":0.5},\"pattern\":{\"fillmode\":\"overlay\",\"size\":10,\"solidity\":0.2}},\"type\":\"bar\"}],\"scattergeo\":[{\"type\":\"scattergeo\",\"marker\":{\"colorbar\":{\"outlinewidth\":0,\"ticks\":\"\"}}}],\"scatterpolar\":[{\"type\":\"scatterpolar\",\"marker\":{\"colorbar\":{\"outlinewidth\":0,\"ticks\":\"\"}}}],\"histogram\":[{\"marker\":{\"pattern\":{\"fillmode\":\"overlay\",\"size\":10,\"solidity\":0.2}},\"type\":\"histogram\"}],\"scattergl\":[{\"type\":\"scattergl\",\"marker\":{\"colorbar\":{\"outlinewidth\":0,\"ticks\":\"\"}}}],\"scatter3d\":[{\"type\":\"scatter3d\",\"line\":{\"colorbar\":{\"outlinewidth\":0,\"ticks\":\"\"}},\"marker\":{\"colorbar\":{\"outlinewidth\":0,\"ticks\":\"\"}}}],\"scattermapbox\":[{\"type\":\"scattermapbox\",\"marker\":{\"colorbar\":{\"outlinewidth\":0,\"ticks\":\"\"}}}],\"scatterternary\":[{\"type\":\"scatterternary\",\"marker\":{\"colorbar\":{\"outlinewidth\":0,\"ticks\":\"\"}}}],\"scattercarpet\":[{\"type\":\"scattercarpet\",\"marker\":{\"colorbar\":{\"outlinewidth\":0,\"ticks\":\"\"}}}],\"carpet\":[{\"aaxis\":{\"endlinecolor\":\"#2a3f5f\",\"gridcolor\":\"white\",\"linecolor\":\"white\",\"minorgridcolor\":\"white\",\"startlinecolor\":\"#2a3f5f\"},\"baxis\":{\"endlinecolor\":\"#2a3f5f\",\"gridcolor\":\"white\",\"linecolor\":\"white\",\"minorgridcolor\":\"white\",\"startlinecolor\":\"#2a3f5f\"},\"type\":\"carpet\"}],\"table\":[{\"cells\":{\"fill\":{\"color\":\"#EBF0F8\"},\"line\":{\"color\":\"white\"}},\"header\":{\"fill\":{\"color\":\"#C8D4E3\"},\"line\":{\"color\":\"white\"}},\"type\":\"table\"}],\"barpolar\":[{\"marker\":{\"line\":{\"color\":\"#E5ECF6\",\"width\":0.5},\"pattern\":{\"fillmode\":\"overlay\",\"size\":10,\"solidity\":0.2}},\"type\":\"barpolar\"}],\"pie\":[{\"automargin\":true,\"type\":\"pie\"}]},\"layout\":{\"autotypenumbers\":\"strict\",\"colorway\":[\"#636efa\",\"#EF553B\",\"#00cc96\",\"#ab63fa\",\"#FFA15A\",\"#19d3f3\",\"#FF6692\",\"#B6E880\",\"#FF97FF\",\"#FECB52\"],\"font\":{\"color\":\"#2a3f5f\"},\"hovermode\":\"closest\",\"hoverlabel\":{\"align\":\"left\"},\"paper_bgcolor\":\"white\",\"plot_bgcolor\":\"#E5ECF6\",\"polar\":{\"bgcolor\":\"#E5ECF6\",\"angularaxis\":{\"gridcolor\":\"white\",\"linecolor\":\"white\",\"ticks\":\"\"},\"radialaxis\":{\"gridcolor\":\"white\",\"linecolor\":\"white\",\"ticks\":\"\"}},\"ternary\":{\"bgcolor\":\"#E5ECF6\",\"aaxis\":{\"gridcolor\":\"white\",\"linecolor\":\"white\",\"ticks\":\"\"},\"baxis\":{\"gridcolor\":\"white\",\"linecolor\":\"white\",\"ticks\":\"\"},\"caxis\":{\"gridcolor\":\"white\",\"linecolor\":\"white\",\"ticks\":\"\"}},\"coloraxis\":{\"colorbar\":{\"outlinewidth\":0,\"ticks\":\"\"}},\"colorscale\":{\"sequential\":[[0.0,\"#0d0887\"],[0.1111111111111111,\"#46039f\"],[0.2222222222222222,\"#7201a8\"],[0.3333333333333333,\"#9c179e\"],[0.4444444444444444,\"#bd3786\"],[0.5555555555555556,\"#d8576b\"],[0.6666666666666666,\"#ed7953\"],[0.7777777777777778,\"#fb9f3a\"],[0.8888888888888888,\"#fdca26\"],[1.0,\"#f0f921\"]],\"sequentialminus\":[[0.0,\"#0d0887\"],[0.1111111111111111,\"#46039f\"],[0.2222222222222222,\"#7201a8\"],[0.3333333333333333,\"#9c179e\"],[0.4444444444444444,\"#bd3786\"],[0.5555555555555556,\"#d8576b\"],[0.6666666666666666,\"#ed7953\"],[0.7777777777777778,\"#fb9f3a\"],[0.8888888888888888,\"#fdca26\"],[1.0,\"#f0f921\"]],\"diverging\":[[0,\"#8e0152\"],[0.1,\"#c51b7d\"],[0.2,\"#de77ae\"],[0.3,\"#f1b6da\"],[0.4,\"#fde0ef\"],[0.5,\"#f7f7f7\"],[0.6,\"#e6f5d0\"],[0.7,\"#b8e186\"],[0.8,\"#7fbc41\"],[0.9,\"#4d9221\"],[1,\"#276419\"]]},\"xaxis\":{\"gridcolor\":\"white\",\"linecolor\":\"white\",\"ticks\":\"\",\"title\":{\"standoff\":15},\"zerolinecolor\":\"white\",\"automargin\":true,\"zerolinewidth\":2},\"yaxis\":{\"gridcolor\":\"white\",\"linecolor\":\"white\",\"ticks\":\"\",\"title\":{\"standoff\":15},\"zerolinecolor\":\"white\",\"automargin\":true,\"zerolinewidth\":2},\"scene\":{\"xaxis\":{\"backgroundcolor\":\"#E5ECF6\",\"gridcolor\":\"white\",\"linecolor\":\"white\",\"showbackground\":true,\"ticks\":\"\",\"zerolinecolor\":\"white\",\"gridwidth\":2},\"yaxis\":{\"backgroundcolor\":\"#E5ECF6\",\"gridcolor\":\"white\",\"linecolor\":\"white\",\"showbackground\":true,\"ticks\":\"\",\"zerolinecolor\":\"white\",\"gridwidth\":2},\"zaxis\":{\"backgroundcolor\":\"#E5ECF6\",\"gridcolor\":\"white\",\"linecolor\":\"white\",\"showbackground\":true,\"ticks\":\"\",\"zerolinecolor\":\"white\",\"gridwidth\":2}},\"shapedefaults\":{\"line\":{\"color\":\"#2a3f5f\"}},\"annotationdefaults\":{\"arrowcolor\":\"#2a3f5f\",\"arrowhead\":0,\"arrowwidth\":1},\"geo\":{\"bgcolor\":\"white\",\"landcolor\":\"#E5ECF6\",\"subunitcolor\":\"white\",\"showland\":true,\"showlakes\":true,\"lakecolor\":\"white\"},\"title\":{\"x\":0.05},\"mapbox\":{\"style\":\"light\"}}},\"xaxis\":{\"anchor\":\"y\",\"domain\":[0.0,1.0],\"title\":{\"text\":\"Games played\"}},\"yaxis\":{\"anchor\":\"x\",\"domain\":[0.0,1.0],\"title\":{\"text\":\"Mrand\"}},\"legend\":{\"title\":{\"text\":\"variable\"},\"tracegroupgap\":0},\"margin\":{\"t\":60},\"width\":800},                        {\"responsive\": true}                    ).then(function(){\n",
       "                            \n",
       "var gd = document.getElementById('e0b49730-fd33-4e24-9b14-c1f6ba5c1aa2');\n",
       "var x = new MutationObserver(function (mutations, observer) {{\n",
       "        var display = window.getComputedStyle(gd).display;\n",
       "        if (!display || display === 'none') {{\n",
       "            console.log([gd, 'removed!']);\n",
       "            Plotly.purge(gd);\n",
       "            observer.disconnect();\n",
       "        }}\n",
       "}});\n",
       "\n",
       "// Listen for the removal of the full notebook cells\n",
       "var notebookContainer = gd.closest('#notebook-container');\n",
       "if (notebookContainer) {{\n",
       "    x.observe(notebookContainer, {childList: true});\n",
       "}}\n",
       "\n",
       "// Listen for the clearing of the current output cell\n",
       "var outputEl = gd.closest('.output');\n",
       "if (outputEl) {{\n",
       "    x.observe(outputEl, {childList: true});\n",
       "}}\n",
       "\n",
       "                        })                };                });            </script>        </div>"
      ]
     },
     "metadata": {},
     "output_type": "display_data"
    }
   ],
   "source": [
    "df1 = training_results[5][0]\n",
    "df2 = training_results[5][1]\n",
    "df3 = training_results[5][2]\n",
    "\n",
    "df1, df2, df3 = pd.DataFrame(df1), pd.DataFrame(df2), pd.DataFrame(df3)\n",
    "fig1 = px.line(df1, x='Games played', y=df1.columns.difference(['Games played']), title=\"Training and testing with self-learning and decreasing eps, using different n* values\")\n",
    "fig1.update_layout(width=800)\n",
    "fig1.update_yaxes(title_text = \"Mean reward\")\n",
    "fig2 = px.line(df2, x='Games played', y=df2.columns.difference(['Games played']))\n",
    "fig2.update_layout(width=800)\n",
    "fig2.update_yaxes(title_text = \"Mopt\")\n",
    "fig3 = px.line(df3, x='Games played', y=df3.columns.difference(['Games played']))\n",
    "fig3.update_layout(width=800)\n",
    "fig3.update_yaxes(title_text = \"Mrand\")\n",
    "fig1.show()\n",
    "fig2.show()\n",
    "fig3.show()"
   ]
  },
  {
   "cell_type": "markdown",
   "metadata": {
    "collapsed": false,
    "pycharm": {
     "name": "#%% md\n"
    }
   },
   "source": [
    "It doesn't seem to help"
   ]
  },
  {
   "cell_type": "markdown",
   "metadata": {
    "collapsed": false,
    "pycharm": {
     "name": "#%% md\n"
    }
   },
   "source": [
    "### Question 9\n",
    "What are the highest values of Mopt and Mrand that you could achieve after playing 20’000 games?"
   ]
  },
  {
   "cell_type": "markdown",
   "metadata": {
    "collapsed": false,
    "pycharm": {
     "name": "#%% md\n"
    }
   },
   "source": [
    "### Question 10\n",
    "For three board arrangements (i.e. states s), visualize Q-values of available actions (e.g. using heat maps). Does the result make sense? Did the agent learn the game well?\n",
    "\n",
    "Expected answer: A figure with 3 subplots of 3 different states with Q-values shown for taking different numbers of sticks from different heaps (caption length < 200 words)."
   ]
  },
  {
   "cell_type": "code",
   "execution_count": 42,
   "metadata": {
    "collapsed": false,
    "pycharm": {
     "name": "#%%\n"
    }
   },
   "outputs": [],
   "source": [
    "if not use_backup:\n",
    "    env = NimEnv()\n",
    "    metrics,q_values = q_learning(env, num_games=20000, gamma=0.99, decreasing_eps=True,\n",
    "                                        n_star=1, verbose=False, test=True, self_learning=True)\n",
    "    x = np.arange(1,len(metrics[0])+1)*METRICS_FREQUENCY\n",
    "    df = {'Games played':list(x),\n",
    "        'Mean reward':metrics[0],\n",
    "        'M_opt':metrics[1],\n",
    "        'M_rand':metrics[2]}\n",
    "\n",
    "    training_results.append([x,df,q_values])"
   ]
  },
  {
   "cell_type": "code",
   "execution_count": 43,
   "metadata": {
    "collapsed": false,
    "pycharm": {
     "name": "#%%\n"
    }
   },
   "outputs": [
    {
     "data": {
      "application/vnd.plotly.v1+json": {
       "config": {
        "plotlyServerURL": "https://plot.ly"
       },
       "data": [
        {
         "hovertemplate": "variable=M_opt<br>Games played=%{x}<br>value=%{y}<extra></extra>",
         "legendgroup": "M_opt",
         "line": {
          "color": "#636efa",
          "dash": "solid"
         },
         "marker": {
          "symbol": "circle"
         },
         "mode": "lines",
         "name": "M_opt",
         "orientation": "v",
         "showlegend": true,
         "type": "scatter",
         "x": [
          250,
          500,
          750,
          1000,
          1250,
          1500,
          1750,
          2000,
          2250,
          2500,
          2750,
          3000,
          3250,
          3500,
          3750,
          4000,
          4250,
          4500,
          4750,
          5000,
          5250,
          5500,
          5750,
          6000,
          6250,
          6500,
          6750,
          7000,
          7250,
          7500,
          7750,
          8000,
          8250,
          8500,
          8750,
          9000,
          9250,
          9500,
          9750,
          10000,
          10250,
          10500,
          10750,
          11000,
          11250,
          11500,
          11750,
          12000,
          12250,
          12500,
          12750,
          13000,
          13250,
          13500,
          13750,
          14000,
          14250,
          14500,
          14750,
          15000,
          15250,
          15500,
          15750,
          16000,
          16250,
          16500,
          16750,
          17000,
          17250,
          17500,
          17750,
          18000,
          18250,
          18500,
          18750,
          19000,
          19250,
          19500,
          19750
         ],
         "xaxis": "x",
         "y": [
          -0.932,
          -0.848,
          -0.816,
          -0.808,
          -0.676,
          -0.656,
          -0.596,
          -0.52,
          -0.464,
          -0.464,
          -0.432,
          -0.412,
          -0.352,
          -0.364,
          -0.276,
          -0.324,
          -0.388,
          -0.268,
          -0.336,
          -0.328,
          -0.216,
          -0.268,
          -0.236,
          -0.168,
          -0.196,
          -0.192,
          -0.164,
          -0.088,
          -0.1,
          -0.036,
          -0.128,
          -0.068,
          -0.084,
          -0.132,
          -0.108,
          -0.152,
          -0.092,
          -0.076,
          -0.056,
          0.004,
          -0.056,
          -0.012,
          -0.024,
          -0.04,
          -0.076,
          -0.056,
          0.004,
          0.008,
          -0.04,
          -0.02,
          0.008,
          0,
          -0.032,
          -0.016,
          -0.044,
          -0.028,
          0.052,
          -0.028,
          -0.012,
          -0.028,
          -0.064,
          -0.044,
          0.024,
          -0.012,
          -0.008,
          0.004,
          0.004,
          -0.024,
          -0.02,
          -0.072,
          0,
          -0.04,
          -0.008,
          -0.052,
          0.052,
          -0.004,
          -0.012,
          0.032,
          0.032
         ],
         "yaxis": "y"
        },
        {
         "hovertemplate": "variable=M_rand<br>Games played=%{x}<br>value=%{y}<extra></extra>",
         "legendgroup": "M_rand",
         "line": {
          "color": "#EF553B",
          "dash": "solid"
         },
         "marker": {
          "symbol": "circle"
         },
         "mode": "lines",
         "name": "M_rand",
         "orientation": "v",
         "showlegend": true,
         "type": "scatter",
         "x": [
          250,
          500,
          750,
          1000,
          1250,
          1500,
          1750,
          2000,
          2250,
          2500,
          2750,
          3000,
          3250,
          3500,
          3750,
          4000,
          4250,
          4500,
          4750,
          5000,
          5250,
          5500,
          5750,
          6000,
          6250,
          6500,
          6750,
          7000,
          7250,
          7500,
          7750,
          8000,
          8250,
          8500,
          8750,
          9000,
          9250,
          9500,
          9750,
          10000,
          10250,
          10500,
          10750,
          11000,
          11250,
          11500,
          11750,
          12000,
          12250,
          12500,
          12750,
          13000,
          13250,
          13500,
          13750,
          14000,
          14250,
          14500,
          14750,
          15000,
          15250,
          15500,
          15750,
          16000,
          16250,
          16500,
          16750,
          17000,
          17250,
          17500,
          17750,
          18000,
          18250,
          18500,
          18750,
          19000,
          19250,
          19500,
          19750
         ],
         "xaxis": "x",
         "y": [
          0.696,
          0.86,
          0.864,
          0.924,
          0.944,
          0.968,
          0.932,
          0.96,
          0.972,
          0.944,
          0.976,
          0.976,
          0.984,
          0.964,
          0.972,
          0.988,
          0.992,
          0.984,
          0.984,
          0.98,
          0.988,
          0.98,
          0.988,
          0.992,
          1,
          0.988,
          0.992,
          0.996,
          1,
          1,
          0.984,
          1,
          0.992,
          0.988,
          0.988,
          0.984,
          0.996,
          1,
          0.996,
          0.996,
          0.992,
          1,
          0.996,
          0.996,
          0.996,
          0.984,
          1,
          1,
          0.976,
          1,
          1,
          1,
          0.992,
          0.988,
          0.996,
          1,
          1,
          0.996,
          0.996,
          1,
          0.988,
          0.996,
          0.992,
          0.996,
          0.996,
          0.996,
          0.992,
          0.996,
          0.996,
          0.996,
          1,
          0.98,
          1,
          0.992,
          1,
          0.996,
          1,
          1,
          1
         ],
         "yaxis": "y"
        },
        {
         "hovertemplate": "variable=Mean reward<br>Games played=%{x}<br>value=%{y}<extra></extra>",
         "legendgroup": "Mean reward",
         "line": {
          "color": "#00cc96",
          "dash": "solid"
         },
         "marker": {
          "symbol": "circle"
         },
         "mode": "lines",
         "name": "Mean reward",
         "orientation": "v",
         "showlegend": true,
         "type": "scatter",
         "x": [
          250,
          500,
          750,
          1000,
          1250,
          1500,
          1750,
          2000,
          2250,
          2500,
          2750,
          3000,
          3250,
          3500,
          3750,
          4000,
          4250,
          4500,
          4750,
          5000,
          5250,
          5500,
          5750,
          6000,
          6250,
          6500,
          6750,
          7000,
          7250,
          7500,
          7750,
          8000,
          8250,
          8500,
          8750,
          9000,
          9250,
          9500,
          9750,
          10000,
          10250,
          10500,
          10750,
          11000,
          11250,
          11500,
          11750,
          12000,
          12250,
          12500,
          12750,
          13000,
          13250,
          13500,
          13750,
          14000,
          14250,
          14500,
          14750,
          15000,
          15250,
          15500,
          15750,
          16000,
          16250,
          16500,
          16750,
          17000,
          17250,
          17500,
          17750,
          18000,
          18250,
          18500,
          18750,
          19000,
          19250,
          19500,
          19750
         ],
         "xaxis": "x",
         "y": [
          -0.035856573705179286,
          0.008,
          -0.032,
          0.048,
          -0.024,
          0.024,
          0.016,
          -0.056,
          -0.088,
          -0.088,
          0.008,
          0.104,
          -0.024,
          -0.008,
          0.032,
          -0.032,
          0.128,
          0.072,
          0.08,
          -0.032,
          -0.104,
          -0.072,
          0.04,
          0.08,
          -0.088,
          0.016,
          -0.016,
          -0.032,
          -0.064,
          0.088,
          0.12,
          0.016,
          -0.12,
          0.104,
          -0.048,
          0.016,
          0.056,
          -0.064,
          0.072,
          0.048,
          -0.008,
          0.032,
          -0.024,
          0.104,
          0.088,
          -0.032,
          -0.088,
          -0.056,
          -0.024,
          -0.128,
          -0.024,
          0.008,
          0.016,
          0,
          -0.008,
          -0.056,
          0.032,
          -0.12,
          0.04,
          0.128,
          -0.096,
          -0.072,
          -0.088,
          0.096,
          0.064,
          0.008,
          0.016,
          -0.064,
          -0.08,
          0.192,
          0.016,
          -0.088,
          0.04,
          -0.112,
          0.064,
          -0.008,
          -0.008,
          -0.08,
          0.064
         ],
         "yaxis": "y"
        }
       ],
       "layout": {
        "legend": {
         "title": {
          "text": "variable"
         },
         "tracegroupgap": 0
        },
        "template": {
         "data": {
          "bar": [
           {
            "error_x": {
             "color": "#2a3f5f"
            },
            "error_y": {
             "color": "#2a3f5f"
            },
            "marker": {
             "line": {
              "color": "#E5ECF6",
              "width": 0.5
             },
             "pattern": {
              "fillmode": "overlay",
              "size": 10,
              "solidity": 0.2
             }
            },
            "type": "bar"
           }
          ],
          "barpolar": [
           {
            "marker": {
             "line": {
              "color": "#E5ECF6",
              "width": 0.5
             },
             "pattern": {
              "fillmode": "overlay",
              "size": 10,
              "solidity": 0.2
             }
            },
            "type": "barpolar"
           }
          ],
          "carpet": [
           {
            "aaxis": {
             "endlinecolor": "#2a3f5f",
             "gridcolor": "white",
             "linecolor": "white",
             "minorgridcolor": "white",
             "startlinecolor": "#2a3f5f"
            },
            "baxis": {
             "endlinecolor": "#2a3f5f",
             "gridcolor": "white",
             "linecolor": "white",
             "minorgridcolor": "white",
             "startlinecolor": "#2a3f5f"
            },
            "type": "carpet"
           }
          ],
          "choropleth": [
           {
            "colorbar": {
             "outlinewidth": 0,
             "ticks": ""
            },
            "type": "choropleth"
           }
          ],
          "contour": [
           {
            "colorbar": {
             "outlinewidth": 0,
             "ticks": ""
            },
            "colorscale": [
             [
              0,
              "#0d0887"
             ],
             [
              0.1111111111111111,
              "#46039f"
             ],
             [
              0.2222222222222222,
              "#7201a8"
             ],
             [
              0.3333333333333333,
              "#9c179e"
             ],
             [
              0.4444444444444444,
              "#bd3786"
             ],
             [
              0.5555555555555556,
              "#d8576b"
             ],
             [
              0.6666666666666666,
              "#ed7953"
             ],
             [
              0.7777777777777778,
              "#fb9f3a"
             ],
             [
              0.8888888888888888,
              "#fdca26"
             ],
             [
              1,
              "#f0f921"
             ]
            ],
            "type": "contour"
           }
          ],
          "contourcarpet": [
           {
            "colorbar": {
             "outlinewidth": 0,
             "ticks": ""
            },
            "type": "contourcarpet"
           }
          ],
          "heatmap": [
           {
            "colorbar": {
             "outlinewidth": 0,
             "ticks": ""
            },
            "colorscale": [
             [
              0,
              "#0d0887"
             ],
             [
              0.1111111111111111,
              "#46039f"
             ],
             [
              0.2222222222222222,
              "#7201a8"
             ],
             [
              0.3333333333333333,
              "#9c179e"
             ],
             [
              0.4444444444444444,
              "#bd3786"
             ],
             [
              0.5555555555555556,
              "#d8576b"
             ],
             [
              0.6666666666666666,
              "#ed7953"
             ],
             [
              0.7777777777777778,
              "#fb9f3a"
             ],
             [
              0.8888888888888888,
              "#fdca26"
             ],
             [
              1,
              "#f0f921"
             ]
            ],
            "type": "heatmap"
           }
          ],
          "heatmapgl": [
           {
            "colorbar": {
             "outlinewidth": 0,
             "ticks": ""
            },
            "colorscale": [
             [
              0,
              "#0d0887"
             ],
             [
              0.1111111111111111,
              "#46039f"
             ],
             [
              0.2222222222222222,
              "#7201a8"
             ],
             [
              0.3333333333333333,
              "#9c179e"
             ],
             [
              0.4444444444444444,
              "#bd3786"
             ],
             [
              0.5555555555555556,
              "#d8576b"
             ],
             [
              0.6666666666666666,
              "#ed7953"
             ],
             [
              0.7777777777777778,
              "#fb9f3a"
             ],
             [
              0.8888888888888888,
              "#fdca26"
             ],
             [
              1,
              "#f0f921"
             ]
            ],
            "type": "heatmapgl"
           }
          ],
          "histogram": [
           {
            "marker": {
             "pattern": {
              "fillmode": "overlay",
              "size": 10,
              "solidity": 0.2
             }
            },
            "type": "histogram"
           }
          ],
          "histogram2d": [
           {
            "colorbar": {
             "outlinewidth": 0,
             "ticks": ""
            },
            "colorscale": [
             [
              0,
              "#0d0887"
             ],
             [
              0.1111111111111111,
              "#46039f"
             ],
             [
              0.2222222222222222,
              "#7201a8"
             ],
             [
              0.3333333333333333,
              "#9c179e"
             ],
             [
              0.4444444444444444,
              "#bd3786"
             ],
             [
              0.5555555555555556,
              "#d8576b"
             ],
             [
              0.6666666666666666,
              "#ed7953"
             ],
             [
              0.7777777777777778,
              "#fb9f3a"
             ],
             [
              0.8888888888888888,
              "#fdca26"
             ],
             [
              1,
              "#f0f921"
             ]
            ],
            "type": "histogram2d"
           }
          ],
          "histogram2dcontour": [
           {
            "colorbar": {
             "outlinewidth": 0,
             "ticks": ""
            },
            "colorscale": [
             [
              0,
              "#0d0887"
             ],
             [
              0.1111111111111111,
              "#46039f"
             ],
             [
              0.2222222222222222,
              "#7201a8"
             ],
             [
              0.3333333333333333,
              "#9c179e"
             ],
             [
              0.4444444444444444,
              "#bd3786"
             ],
             [
              0.5555555555555556,
              "#d8576b"
             ],
             [
              0.6666666666666666,
              "#ed7953"
             ],
             [
              0.7777777777777778,
              "#fb9f3a"
             ],
             [
              0.8888888888888888,
              "#fdca26"
             ],
             [
              1,
              "#f0f921"
             ]
            ],
            "type": "histogram2dcontour"
           }
          ],
          "mesh3d": [
           {
            "colorbar": {
             "outlinewidth": 0,
             "ticks": ""
            },
            "type": "mesh3d"
           }
          ],
          "parcoords": [
           {
            "line": {
             "colorbar": {
              "outlinewidth": 0,
              "ticks": ""
             }
            },
            "type": "parcoords"
           }
          ],
          "pie": [
           {
            "automargin": true,
            "type": "pie"
           }
          ],
          "scatter": [
           {
            "fillpattern": {
             "fillmode": "overlay",
             "size": 10,
             "solidity": 0.2
            },
            "type": "scatter"
           }
          ],
          "scatter3d": [
           {
            "line": {
             "colorbar": {
              "outlinewidth": 0,
              "ticks": ""
             }
            },
            "marker": {
             "colorbar": {
              "outlinewidth": 0,
              "ticks": ""
             }
            },
            "type": "scatter3d"
           }
          ],
          "scattercarpet": [
           {
            "marker": {
             "colorbar": {
              "outlinewidth": 0,
              "ticks": ""
             }
            },
            "type": "scattercarpet"
           }
          ],
          "scattergeo": [
           {
            "marker": {
             "colorbar": {
              "outlinewidth": 0,
              "ticks": ""
             }
            },
            "type": "scattergeo"
           }
          ],
          "scattergl": [
           {
            "marker": {
             "colorbar": {
              "outlinewidth": 0,
              "ticks": ""
             }
            },
            "type": "scattergl"
           }
          ],
          "scattermapbox": [
           {
            "marker": {
             "colorbar": {
              "outlinewidth": 0,
              "ticks": ""
             }
            },
            "type": "scattermapbox"
           }
          ],
          "scatterpolar": [
           {
            "marker": {
             "colorbar": {
              "outlinewidth": 0,
              "ticks": ""
             }
            },
            "type": "scatterpolar"
           }
          ],
          "scatterpolargl": [
           {
            "marker": {
             "colorbar": {
              "outlinewidth": 0,
              "ticks": ""
             }
            },
            "type": "scatterpolargl"
           }
          ],
          "scatterternary": [
           {
            "marker": {
             "colorbar": {
              "outlinewidth": 0,
              "ticks": ""
             }
            },
            "type": "scatterternary"
           }
          ],
          "surface": [
           {
            "colorbar": {
             "outlinewidth": 0,
             "ticks": ""
            },
            "colorscale": [
             [
              0,
              "#0d0887"
             ],
             [
              0.1111111111111111,
              "#46039f"
             ],
             [
              0.2222222222222222,
              "#7201a8"
             ],
             [
              0.3333333333333333,
              "#9c179e"
             ],
             [
              0.4444444444444444,
              "#bd3786"
             ],
             [
              0.5555555555555556,
              "#d8576b"
             ],
             [
              0.6666666666666666,
              "#ed7953"
             ],
             [
              0.7777777777777778,
              "#fb9f3a"
             ],
             [
              0.8888888888888888,
              "#fdca26"
             ],
             [
              1,
              "#f0f921"
             ]
            ],
            "type": "surface"
           }
          ],
          "table": [
           {
            "cells": {
             "fill": {
              "color": "#EBF0F8"
             },
             "line": {
              "color": "white"
             }
            },
            "header": {
             "fill": {
              "color": "#C8D4E3"
             },
             "line": {
              "color": "white"
             }
            },
            "type": "table"
           }
          ]
         },
         "layout": {
          "annotationdefaults": {
           "arrowcolor": "#2a3f5f",
           "arrowhead": 0,
           "arrowwidth": 1
          },
          "autotypenumbers": "strict",
          "coloraxis": {
           "colorbar": {
            "outlinewidth": 0,
            "ticks": ""
           }
          },
          "colorscale": {
           "diverging": [
            [
             0,
             "#8e0152"
            ],
            [
             0.1,
             "#c51b7d"
            ],
            [
             0.2,
             "#de77ae"
            ],
            [
             0.3,
             "#f1b6da"
            ],
            [
             0.4,
             "#fde0ef"
            ],
            [
             0.5,
             "#f7f7f7"
            ],
            [
             0.6,
             "#e6f5d0"
            ],
            [
             0.7,
             "#b8e186"
            ],
            [
             0.8,
             "#7fbc41"
            ],
            [
             0.9,
             "#4d9221"
            ],
            [
             1,
             "#276419"
            ]
           ],
           "sequential": [
            [
             0,
             "#0d0887"
            ],
            [
             0.1111111111111111,
             "#46039f"
            ],
            [
             0.2222222222222222,
             "#7201a8"
            ],
            [
             0.3333333333333333,
             "#9c179e"
            ],
            [
             0.4444444444444444,
             "#bd3786"
            ],
            [
             0.5555555555555556,
             "#d8576b"
            ],
            [
             0.6666666666666666,
             "#ed7953"
            ],
            [
             0.7777777777777778,
             "#fb9f3a"
            ],
            [
             0.8888888888888888,
             "#fdca26"
            ],
            [
             1,
             "#f0f921"
            ]
           ],
           "sequentialminus": [
            [
             0,
             "#0d0887"
            ],
            [
             0.1111111111111111,
             "#46039f"
            ],
            [
             0.2222222222222222,
             "#7201a8"
            ],
            [
             0.3333333333333333,
             "#9c179e"
            ],
            [
             0.4444444444444444,
             "#bd3786"
            ],
            [
             0.5555555555555556,
             "#d8576b"
            ],
            [
             0.6666666666666666,
             "#ed7953"
            ],
            [
             0.7777777777777778,
             "#fb9f3a"
            ],
            [
             0.8888888888888888,
             "#fdca26"
            ],
            [
             1,
             "#f0f921"
            ]
           ]
          },
          "colorway": [
           "#636efa",
           "#EF553B",
           "#00cc96",
           "#ab63fa",
           "#FFA15A",
           "#19d3f3",
           "#FF6692",
           "#B6E880",
           "#FF97FF",
           "#FECB52"
          ],
          "font": {
           "color": "#2a3f5f"
          },
          "geo": {
           "bgcolor": "white",
           "lakecolor": "white",
           "landcolor": "#E5ECF6",
           "showlakes": true,
           "showland": true,
           "subunitcolor": "white"
          },
          "hoverlabel": {
           "align": "left"
          },
          "hovermode": "closest",
          "mapbox": {
           "style": "light"
          },
          "paper_bgcolor": "white",
          "plot_bgcolor": "#E5ECF6",
          "polar": {
           "angularaxis": {
            "gridcolor": "white",
            "linecolor": "white",
            "ticks": ""
           },
           "bgcolor": "#E5ECF6",
           "radialaxis": {
            "gridcolor": "white",
            "linecolor": "white",
            "ticks": ""
           }
          },
          "scene": {
           "xaxis": {
            "backgroundcolor": "#E5ECF6",
            "gridcolor": "white",
            "gridwidth": 2,
            "linecolor": "white",
            "showbackground": true,
            "ticks": "",
            "zerolinecolor": "white"
           },
           "yaxis": {
            "backgroundcolor": "#E5ECF6",
            "gridcolor": "white",
            "gridwidth": 2,
            "linecolor": "white",
            "showbackground": true,
            "ticks": "",
            "zerolinecolor": "white"
           },
           "zaxis": {
            "backgroundcolor": "#E5ECF6",
            "gridcolor": "white",
            "gridwidth": 2,
            "linecolor": "white",
            "showbackground": true,
            "ticks": "",
            "zerolinecolor": "white"
           }
          },
          "shapedefaults": {
           "line": {
            "color": "#2a3f5f"
           }
          },
          "ternary": {
           "aaxis": {
            "gridcolor": "white",
            "linecolor": "white",
            "ticks": ""
           },
           "baxis": {
            "gridcolor": "white",
            "linecolor": "white",
            "ticks": ""
           },
           "bgcolor": "#E5ECF6",
           "caxis": {
            "gridcolor": "white",
            "linecolor": "white",
            "ticks": ""
           }
          },
          "title": {
           "x": 0.05
          },
          "xaxis": {
           "automargin": true,
           "gridcolor": "white",
           "linecolor": "white",
           "ticks": "",
           "title": {
            "standoff": 15
           },
           "zerolinecolor": "white",
           "zerolinewidth": 2
          },
          "yaxis": {
           "automargin": true,
           "gridcolor": "white",
           "linecolor": "white",
           "ticks": "",
           "title": {
            "standoff": 15
           },
           "zerolinecolor": "white",
           "zerolinewidth": 2
          }
         }
        },
        "title": {
         "text": "Training with self-learning"
        },
        "width": 600,
        "xaxis": {
         "anchor": "y",
         "domain": [
          0,
          1
         ],
         "title": {
          "text": "Games played"
         }
        },
        "yaxis": {
         "anchor": "x",
         "domain": [
          0,
          1
         ],
         "title": {
          "text": "Average reward"
         }
        }
       }
      },
      "text/html": [
       "<div>                            <div id=\"e1ceb19b-7b58-4a32-b757-037c291739ad\" class=\"plotly-graph-div\" style=\"height:525px; width:600px;\"></div>            <script type=\"text/javascript\">                require([\"plotly\"], function(Plotly) {                    window.PLOTLYENV=window.PLOTLYENV || {};                                    if (document.getElementById(\"e1ceb19b-7b58-4a32-b757-037c291739ad\")) {                    Plotly.newPlot(                        \"e1ceb19b-7b58-4a32-b757-037c291739ad\",                        [{\"hovertemplate\":\"variable=M_opt<br>Games played=%{x}<br>value=%{y}<extra></extra>\",\"legendgroup\":\"M_opt\",\"line\":{\"color\":\"#636efa\",\"dash\":\"solid\"},\"marker\":{\"symbol\":\"circle\"},\"mode\":\"lines\",\"name\":\"M_opt\",\"orientation\":\"v\",\"showlegend\":true,\"x\":[250,500,750,1000,1250,1500,1750,2000,2250,2500,2750,3000,3250,3500,3750,4000,4250,4500,4750,5000,5250,5500,5750,6000,6250,6500,6750,7000,7250,7500,7750,8000,8250,8500,8750,9000,9250,9500,9750,10000,10250,10500,10750,11000,11250,11500,11750,12000,12250,12500,12750,13000,13250,13500,13750,14000,14250,14500,14750,15000,15250,15500,15750,16000,16250,16500,16750,17000,17250,17500,17750,18000,18250,18500,18750,19000,19250,19500,19750],\"xaxis\":\"x\",\"y\":[-0.932,-0.848,-0.816,-0.808,-0.676,-0.656,-0.596,-0.52,-0.464,-0.464,-0.432,-0.412,-0.352,-0.364,-0.276,-0.324,-0.388,-0.268,-0.336,-0.328,-0.216,-0.268,-0.236,-0.168,-0.196,-0.192,-0.164,-0.088,-0.1,-0.036,-0.128,-0.068,-0.084,-0.132,-0.108,-0.152,-0.092,-0.076,-0.056,0.004,-0.056,-0.012,-0.024,-0.04,-0.076,-0.056,0.004,0.008,-0.04,-0.02,0.008,0.0,-0.032,-0.016,-0.044,-0.028,0.052,-0.028,-0.012,-0.028,-0.064,-0.044,0.024,-0.012,-0.008,0.004,0.004,-0.024,-0.02,-0.072,0.0,-0.04,-0.008,-0.052,0.052,-0.004,-0.012,0.032,0.032],\"yaxis\":\"y\",\"type\":\"scatter\"},{\"hovertemplate\":\"variable=M_rand<br>Games played=%{x}<br>value=%{y}<extra></extra>\",\"legendgroup\":\"M_rand\",\"line\":{\"color\":\"#EF553B\",\"dash\":\"solid\"},\"marker\":{\"symbol\":\"circle\"},\"mode\":\"lines\",\"name\":\"M_rand\",\"orientation\":\"v\",\"showlegend\":true,\"x\":[250,500,750,1000,1250,1500,1750,2000,2250,2500,2750,3000,3250,3500,3750,4000,4250,4500,4750,5000,5250,5500,5750,6000,6250,6500,6750,7000,7250,7500,7750,8000,8250,8500,8750,9000,9250,9500,9750,10000,10250,10500,10750,11000,11250,11500,11750,12000,12250,12500,12750,13000,13250,13500,13750,14000,14250,14500,14750,15000,15250,15500,15750,16000,16250,16500,16750,17000,17250,17500,17750,18000,18250,18500,18750,19000,19250,19500,19750],\"xaxis\":\"x\",\"y\":[0.696,0.86,0.864,0.924,0.944,0.968,0.932,0.96,0.972,0.944,0.976,0.976,0.984,0.964,0.972,0.988,0.992,0.984,0.984,0.98,0.988,0.98,0.988,0.992,1.0,0.988,0.992,0.996,1.0,1.0,0.984,1.0,0.992,0.988,0.988,0.984,0.996,1.0,0.996,0.996,0.992,1.0,0.996,0.996,0.996,0.984,1.0,1.0,0.976,1.0,1.0,1.0,0.992,0.988,0.996,1.0,1.0,0.996,0.996,1.0,0.988,0.996,0.992,0.996,0.996,0.996,0.992,0.996,0.996,0.996,1.0,0.98,1.0,0.992,1.0,0.996,1.0,1.0,1.0],\"yaxis\":\"y\",\"type\":\"scatter\"},{\"hovertemplate\":\"variable=Mean reward<br>Games played=%{x}<br>value=%{y}<extra></extra>\",\"legendgroup\":\"Mean reward\",\"line\":{\"color\":\"#00cc96\",\"dash\":\"solid\"},\"marker\":{\"symbol\":\"circle\"},\"mode\":\"lines\",\"name\":\"Mean reward\",\"orientation\":\"v\",\"showlegend\":true,\"x\":[250,500,750,1000,1250,1500,1750,2000,2250,2500,2750,3000,3250,3500,3750,4000,4250,4500,4750,5000,5250,5500,5750,6000,6250,6500,6750,7000,7250,7500,7750,8000,8250,8500,8750,9000,9250,9500,9750,10000,10250,10500,10750,11000,11250,11500,11750,12000,12250,12500,12750,13000,13250,13500,13750,14000,14250,14500,14750,15000,15250,15500,15750,16000,16250,16500,16750,17000,17250,17500,17750,18000,18250,18500,18750,19000,19250,19500,19750],\"xaxis\":\"x\",\"y\":[-0.035856573705179286,0.008,-0.032,0.048,-0.024,0.024,0.016,-0.056,-0.088,-0.088,0.008,0.104,-0.024,-0.008,0.032,-0.032,0.128,0.072,0.08,-0.032,-0.104,-0.072,0.04,0.08,-0.088,0.016,-0.016,-0.032,-0.064,0.088,0.12,0.016,-0.12,0.104,-0.048,0.016,0.056,-0.064,0.072,0.048,-0.008,0.032,-0.024,0.104,0.088,-0.032,-0.088,-0.056,-0.024,-0.128,-0.024,0.008,0.016,0.0,-0.008,-0.056,0.032,-0.12,0.04,0.128,-0.096,-0.072,-0.088,0.096,0.064,0.008,0.016,-0.064,-0.08,0.192,0.016,-0.088,0.04,-0.112,0.064,-0.008,-0.008,-0.08,0.064],\"yaxis\":\"y\",\"type\":\"scatter\"}],                        {\"template\":{\"data\":{\"histogram2dcontour\":[{\"type\":\"histogram2dcontour\",\"colorbar\":{\"outlinewidth\":0,\"ticks\":\"\"},\"colorscale\":[[0.0,\"#0d0887\"],[0.1111111111111111,\"#46039f\"],[0.2222222222222222,\"#7201a8\"],[0.3333333333333333,\"#9c179e\"],[0.4444444444444444,\"#bd3786\"],[0.5555555555555556,\"#d8576b\"],[0.6666666666666666,\"#ed7953\"],[0.7777777777777778,\"#fb9f3a\"],[0.8888888888888888,\"#fdca26\"],[1.0,\"#f0f921\"]]}],\"choropleth\":[{\"type\":\"choropleth\",\"colorbar\":{\"outlinewidth\":0,\"ticks\":\"\"}}],\"histogram2d\":[{\"type\":\"histogram2d\",\"colorbar\":{\"outlinewidth\":0,\"ticks\":\"\"},\"colorscale\":[[0.0,\"#0d0887\"],[0.1111111111111111,\"#46039f\"],[0.2222222222222222,\"#7201a8\"],[0.3333333333333333,\"#9c179e\"],[0.4444444444444444,\"#bd3786\"],[0.5555555555555556,\"#d8576b\"],[0.6666666666666666,\"#ed7953\"],[0.7777777777777778,\"#fb9f3a\"],[0.8888888888888888,\"#fdca26\"],[1.0,\"#f0f921\"]]}],\"heatmap\":[{\"type\":\"heatmap\",\"colorbar\":{\"outlinewidth\":0,\"ticks\":\"\"},\"colorscale\":[[0.0,\"#0d0887\"],[0.1111111111111111,\"#46039f\"],[0.2222222222222222,\"#7201a8\"],[0.3333333333333333,\"#9c179e\"],[0.4444444444444444,\"#bd3786\"],[0.5555555555555556,\"#d8576b\"],[0.6666666666666666,\"#ed7953\"],[0.7777777777777778,\"#fb9f3a\"],[0.8888888888888888,\"#fdca26\"],[1.0,\"#f0f921\"]]}],\"heatmapgl\":[{\"type\":\"heatmapgl\",\"colorbar\":{\"outlinewidth\":0,\"ticks\":\"\"},\"colorscale\":[[0.0,\"#0d0887\"],[0.1111111111111111,\"#46039f\"],[0.2222222222222222,\"#7201a8\"],[0.3333333333333333,\"#9c179e\"],[0.4444444444444444,\"#bd3786\"],[0.5555555555555556,\"#d8576b\"],[0.6666666666666666,\"#ed7953\"],[0.7777777777777778,\"#fb9f3a\"],[0.8888888888888888,\"#fdca26\"],[1.0,\"#f0f921\"]]}],\"contourcarpet\":[{\"type\":\"contourcarpet\",\"colorbar\":{\"outlinewidth\":0,\"ticks\":\"\"}}],\"contour\":[{\"type\":\"contour\",\"colorbar\":{\"outlinewidth\":0,\"ticks\":\"\"},\"colorscale\":[[0.0,\"#0d0887\"],[0.1111111111111111,\"#46039f\"],[0.2222222222222222,\"#7201a8\"],[0.3333333333333333,\"#9c179e\"],[0.4444444444444444,\"#bd3786\"],[0.5555555555555556,\"#d8576b\"],[0.6666666666666666,\"#ed7953\"],[0.7777777777777778,\"#fb9f3a\"],[0.8888888888888888,\"#fdca26\"],[1.0,\"#f0f921\"]]}],\"surface\":[{\"type\":\"surface\",\"colorbar\":{\"outlinewidth\":0,\"ticks\":\"\"},\"colorscale\":[[0.0,\"#0d0887\"],[0.1111111111111111,\"#46039f\"],[0.2222222222222222,\"#7201a8\"],[0.3333333333333333,\"#9c179e\"],[0.4444444444444444,\"#bd3786\"],[0.5555555555555556,\"#d8576b\"],[0.6666666666666666,\"#ed7953\"],[0.7777777777777778,\"#fb9f3a\"],[0.8888888888888888,\"#fdca26\"],[1.0,\"#f0f921\"]]}],\"mesh3d\":[{\"type\":\"mesh3d\",\"colorbar\":{\"outlinewidth\":0,\"ticks\":\"\"}}],\"scatter\":[{\"fillpattern\":{\"fillmode\":\"overlay\",\"size\":10,\"solidity\":0.2},\"type\":\"scatter\"}],\"parcoords\":[{\"type\":\"parcoords\",\"line\":{\"colorbar\":{\"outlinewidth\":0,\"ticks\":\"\"}}}],\"scatterpolargl\":[{\"type\":\"scatterpolargl\",\"marker\":{\"colorbar\":{\"outlinewidth\":0,\"ticks\":\"\"}}}],\"bar\":[{\"error_x\":{\"color\":\"#2a3f5f\"},\"error_y\":{\"color\":\"#2a3f5f\"},\"marker\":{\"line\":{\"color\":\"#E5ECF6\",\"width\":0.5},\"pattern\":{\"fillmode\":\"overlay\",\"size\":10,\"solidity\":0.2}},\"type\":\"bar\"}],\"scattergeo\":[{\"type\":\"scattergeo\",\"marker\":{\"colorbar\":{\"outlinewidth\":0,\"ticks\":\"\"}}}],\"scatterpolar\":[{\"type\":\"scatterpolar\",\"marker\":{\"colorbar\":{\"outlinewidth\":0,\"ticks\":\"\"}}}],\"histogram\":[{\"marker\":{\"pattern\":{\"fillmode\":\"overlay\",\"size\":10,\"solidity\":0.2}},\"type\":\"histogram\"}],\"scattergl\":[{\"type\":\"scattergl\",\"marker\":{\"colorbar\":{\"outlinewidth\":0,\"ticks\":\"\"}}}],\"scatter3d\":[{\"type\":\"scatter3d\",\"line\":{\"colorbar\":{\"outlinewidth\":0,\"ticks\":\"\"}},\"marker\":{\"colorbar\":{\"outlinewidth\":0,\"ticks\":\"\"}}}],\"scattermapbox\":[{\"type\":\"scattermapbox\",\"marker\":{\"colorbar\":{\"outlinewidth\":0,\"ticks\":\"\"}}}],\"scatterternary\":[{\"type\":\"scatterternary\",\"marker\":{\"colorbar\":{\"outlinewidth\":0,\"ticks\":\"\"}}}],\"scattercarpet\":[{\"type\":\"scattercarpet\",\"marker\":{\"colorbar\":{\"outlinewidth\":0,\"ticks\":\"\"}}}],\"carpet\":[{\"aaxis\":{\"endlinecolor\":\"#2a3f5f\",\"gridcolor\":\"white\",\"linecolor\":\"white\",\"minorgridcolor\":\"white\",\"startlinecolor\":\"#2a3f5f\"},\"baxis\":{\"endlinecolor\":\"#2a3f5f\",\"gridcolor\":\"white\",\"linecolor\":\"white\",\"minorgridcolor\":\"white\",\"startlinecolor\":\"#2a3f5f\"},\"type\":\"carpet\"}],\"table\":[{\"cells\":{\"fill\":{\"color\":\"#EBF0F8\"},\"line\":{\"color\":\"white\"}},\"header\":{\"fill\":{\"color\":\"#C8D4E3\"},\"line\":{\"color\":\"white\"}},\"type\":\"table\"}],\"barpolar\":[{\"marker\":{\"line\":{\"color\":\"#E5ECF6\",\"width\":0.5},\"pattern\":{\"fillmode\":\"overlay\",\"size\":10,\"solidity\":0.2}},\"type\":\"barpolar\"}],\"pie\":[{\"automargin\":true,\"type\":\"pie\"}]},\"layout\":{\"autotypenumbers\":\"strict\",\"colorway\":[\"#636efa\",\"#EF553B\",\"#00cc96\",\"#ab63fa\",\"#FFA15A\",\"#19d3f3\",\"#FF6692\",\"#B6E880\",\"#FF97FF\",\"#FECB52\"],\"font\":{\"color\":\"#2a3f5f\"},\"hovermode\":\"closest\",\"hoverlabel\":{\"align\":\"left\"},\"paper_bgcolor\":\"white\",\"plot_bgcolor\":\"#E5ECF6\",\"polar\":{\"bgcolor\":\"#E5ECF6\",\"angularaxis\":{\"gridcolor\":\"white\",\"linecolor\":\"white\",\"ticks\":\"\"},\"radialaxis\":{\"gridcolor\":\"white\",\"linecolor\":\"white\",\"ticks\":\"\"}},\"ternary\":{\"bgcolor\":\"#E5ECF6\",\"aaxis\":{\"gridcolor\":\"white\",\"linecolor\":\"white\",\"ticks\":\"\"},\"baxis\":{\"gridcolor\":\"white\",\"linecolor\":\"white\",\"ticks\":\"\"},\"caxis\":{\"gridcolor\":\"white\",\"linecolor\":\"white\",\"ticks\":\"\"}},\"coloraxis\":{\"colorbar\":{\"outlinewidth\":0,\"ticks\":\"\"}},\"colorscale\":{\"sequential\":[[0.0,\"#0d0887\"],[0.1111111111111111,\"#46039f\"],[0.2222222222222222,\"#7201a8\"],[0.3333333333333333,\"#9c179e\"],[0.4444444444444444,\"#bd3786\"],[0.5555555555555556,\"#d8576b\"],[0.6666666666666666,\"#ed7953\"],[0.7777777777777778,\"#fb9f3a\"],[0.8888888888888888,\"#fdca26\"],[1.0,\"#f0f921\"]],\"sequentialminus\":[[0.0,\"#0d0887\"],[0.1111111111111111,\"#46039f\"],[0.2222222222222222,\"#7201a8\"],[0.3333333333333333,\"#9c179e\"],[0.4444444444444444,\"#bd3786\"],[0.5555555555555556,\"#d8576b\"],[0.6666666666666666,\"#ed7953\"],[0.7777777777777778,\"#fb9f3a\"],[0.8888888888888888,\"#fdca26\"],[1.0,\"#f0f921\"]],\"diverging\":[[0,\"#8e0152\"],[0.1,\"#c51b7d\"],[0.2,\"#de77ae\"],[0.3,\"#f1b6da\"],[0.4,\"#fde0ef\"],[0.5,\"#f7f7f7\"],[0.6,\"#e6f5d0\"],[0.7,\"#b8e186\"],[0.8,\"#7fbc41\"],[0.9,\"#4d9221\"],[1,\"#276419\"]]},\"xaxis\":{\"gridcolor\":\"white\",\"linecolor\":\"white\",\"ticks\":\"\",\"title\":{\"standoff\":15},\"zerolinecolor\":\"white\",\"automargin\":true,\"zerolinewidth\":2},\"yaxis\":{\"gridcolor\":\"white\",\"linecolor\":\"white\",\"ticks\":\"\",\"title\":{\"standoff\":15},\"zerolinecolor\":\"white\",\"automargin\":true,\"zerolinewidth\":2},\"scene\":{\"xaxis\":{\"backgroundcolor\":\"#E5ECF6\",\"gridcolor\":\"white\",\"linecolor\":\"white\",\"showbackground\":true,\"ticks\":\"\",\"zerolinecolor\":\"white\",\"gridwidth\":2},\"yaxis\":{\"backgroundcolor\":\"#E5ECF6\",\"gridcolor\":\"white\",\"linecolor\":\"white\",\"showbackground\":true,\"ticks\":\"\",\"zerolinecolor\":\"white\",\"gridwidth\":2},\"zaxis\":{\"backgroundcolor\":\"#E5ECF6\",\"gridcolor\":\"white\",\"linecolor\":\"white\",\"showbackground\":true,\"ticks\":\"\",\"zerolinecolor\":\"white\",\"gridwidth\":2}},\"shapedefaults\":{\"line\":{\"color\":\"#2a3f5f\"}},\"annotationdefaults\":{\"arrowcolor\":\"#2a3f5f\",\"arrowhead\":0,\"arrowwidth\":1},\"geo\":{\"bgcolor\":\"white\",\"landcolor\":\"#E5ECF6\",\"subunitcolor\":\"white\",\"showland\":true,\"showlakes\":true,\"lakecolor\":\"white\"},\"title\":{\"x\":0.05},\"mapbox\":{\"style\":\"light\"}}},\"xaxis\":{\"anchor\":\"y\",\"domain\":[0.0,1.0],\"title\":{\"text\":\"Games played\"}},\"yaxis\":{\"anchor\":\"x\",\"domain\":[0.0,1.0],\"title\":{\"text\":\"Average reward\"}},\"legend\":{\"title\":{\"text\":\"variable\"},\"tracegroupgap\":0},\"title\":{\"text\":\"Training with self-learning\"},\"width\":600},                        {\"responsive\": true}                    ).then(function(){\n",
       "                            \n",
       "var gd = document.getElementById('e1ceb19b-7b58-4a32-b757-037c291739ad');\n",
       "var x = new MutationObserver(function (mutations, observer) {{\n",
       "        var display = window.getComputedStyle(gd).display;\n",
       "        if (!display || display === 'none') {{\n",
       "            console.log([gd, 'removed!']);\n",
       "            Plotly.purge(gd);\n",
       "            observer.disconnect();\n",
       "        }}\n",
       "}});\n",
       "\n",
       "// Listen for the removal of the full notebook cells\n",
       "var notebookContainer = gd.closest('#notebook-container');\n",
       "if (notebookContainer) {{\n",
       "    x.observe(notebookContainer, {childList: true});\n",
       "}}\n",
       "\n",
       "// Listen for the clearing of the current output cell\n",
       "var outputEl = gd.closest('.output');\n",
       "if (outputEl) {{\n",
       "    x.observe(outputEl, {childList: true});\n",
       "}}\n",
       "\n",
       "                        })                };                });            </script>        </div>"
      ]
     },
     "metadata": {},
     "output_type": "display_data"
    }
   ],
   "source": [
    "x = training_results[6][0]\n",
    "df = training_results[6][1]\n",
    "\n",
    "df = pd.DataFrame(df)\n",
    "fig = px.line(df,x='Games played', y=df.columns.difference(['Games played']), title=f'Training with self-learning')\n",
    "fig.update_layout(xaxis_title='Games played', yaxis_title='Average reward')\n",
    "fig.update_layout(width=600)\n",
    "fig.show()"
   ]
  },
  {
   "cell_type": "code",
   "execution_count": 49,
   "metadata": {
    "collapsed": false,
    "pycharm": {
     "name": "#%%\n"
    }
   },
   "outputs": [
    {
     "name": "stdout",
     "output_type": "stream",
     "text": [
      "Optimal move is 4 sticks from heap 1, which is action 3.\n"
     ]
    },
    {
     "data": {
      "application/vnd.plotly.v1+json": {
       "config": {
        "plotlyServerURL": "https://plot.ly"
       },
       "data": [
        {
         "coloraxis": "coloraxis",
         "hovertemplate": "x: %{x}<br>y: %{y}<br>color: %{z}<extra></extra>",
         "name": "0",
         "type": "heatmap",
         "xaxis": "x",
         "yaxis": "y",
         "z": [
          [
           -0.46855900000000006
          ],
          [
           -0.40419559000000005
          ],
          [
           -0.46855900000000006
          ],
          [
           0.9999978812916875
          ]
         ]
        }
       ],
       "layout": {
        "coloraxis": {
         "colorscale": [
          [
           0,
           "rgb(0, 0, 0)"
          ],
          [
           0.09090909090909091,
           "rgb(16, 16, 16)"
          ],
          [
           0.18181818181818182,
           "rgb(38, 38, 38)"
          ],
          [
           0.2727272727272727,
           "rgb(59, 59, 59)"
          ],
          [
           0.36363636363636365,
           "rgb(81, 80, 80)"
          ],
          [
           0.45454545454545453,
           "rgb(102, 101, 101)"
          ],
          [
           0.5454545454545454,
           "rgb(124, 123, 122)"
          ],
          [
           0.6363636363636364,
           "rgb(146, 146, 145)"
          ],
          [
           0.7272727272727273,
           "rgb(171, 171, 170)"
          ],
          [
           0.8181818181818182,
           "rgb(197, 197, 195)"
          ],
          [
           0.9090909090909091,
           "rgb(224, 224, 223)"
          ],
          [
           1,
           "rgb(254, 254, 253)"
          ]
         ]
        },
        "height": 400,
        "template": {
         "data": {
          "bar": [
           {
            "error_x": {
             "color": "#2a3f5f"
            },
            "error_y": {
             "color": "#2a3f5f"
            },
            "marker": {
             "line": {
              "color": "#E5ECF6",
              "width": 0.5
             },
             "pattern": {
              "fillmode": "overlay",
              "size": 10,
              "solidity": 0.2
             }
            },
            "type": "bar"
           }
          ],
          "barpolar": [
           {
            "marker": {
             "line": {
              "color": "#E5ECF6",
              "width": 0.5
             },
             "pattern": {
              "fillmode": "overlay",
              "size": 10,
              "solidity": 0.2
             }
            },
            "type": "barpolar"
           }
          ],
          "carpet": [
           {
            "aaxis": {
             "endlinecolor": "#2a3f5f",
             "gridcolor": "white",
             "linecolor": "white",
             "minorgridcolor": "white",
             "startlinecolor": "#2a3f5f"
            },
            "baxis": {
             "endlinecolor": "#2a3f5f",
             "gridcolor": "white",
             "linecolor": "white",
             "minorgridcolor": "white",
             "startlinecolor": "#2a3f5f"
            },
            "type": "carpet"
           }
          ],
          "choropleth": [
           {
            "colorbar": {
             "outlinewidth": 0,
             "ticks": ""
            },
            "type": "choropleth"
           }
          ],
          "contour": [
           {
            "colorbar": {
             "outlinewidth": 0,
             "ticks": ""
            },
            "colorscale": [
             [
              0,
              "#0d0887"
             ],
             [
              0.1111111111111111,
              "#46039f"
             ],
             [
              0.2222222222222222,
              "#7201a8"
             ],
             [
              0.3333333333333333,
              "#9c179e"
             ],
             [
              0.4444444444444444,
              "#bd3786"
             ],
             [
              0.5555555555555556,
              "#d8576b"
             ],
             [
              0.6666666666666666,
              "#ed7953"
             ],
             [
              0.7777777777777778,
              "#fb9f3a"
             ],
             [
              0.8888888888888888,
              "#fdca26"
             ],
             [
              1,
              "#f0f921"
             ]
            ],
            "type": "contour"
           }
          ],
          "contourcarpet": [
           {
            "colorbar": {
             "outlinewidth": 0,
             "ticks": ""
            },
            "type": "contourcarpet"
           }
          ],
          "heatmap": [
           {
            "colorbar": {
             "outlinewidth": 0,
             "ticks": ""
            },
            "colorscale": [
             [
              0,
              "#0d0887"
             ],
             [
              0.1111111111111111,
              "#46039f"
             ],
             [
              0.2222222222222222,
              "#7201a8"
             ],
             [
              0.3333333333333333,
              "#9c179e"
             ],
             [
              0.4444444444444444,
              "#bd3786"
             ],
             [
              0.5555555555555556,
              "#d8576b"
             ],
             [
              0.6666666666666666,
              "#ed7953"
             ],
             [
              0.7777777777777778,
              "#fb9f3a"
             ],
             [
              0.8888888888888888,
              "#fdca26"
             ],
             [
              1,
              "#f0f921"
             ]
            ],
            "type": "heatmap"
           }
          ],
          "heatmapgl": [
           {
            "colorbar": {
             "outlinewidth": 0,
             "ticks": ""
            },
            "colorscale": [
             [
              0,
              "#0d0887"
             ],
             [
              0.1111111111111111,
              "#46039f"
             ],
             [
              0.2222222222222222,
              "#7201a8"
             ],
             [
              0.3333333333333333,
              "#9c179e"
             ],
             [
              0.4444444444444444,
              "#bd3786"
             ],
             [
              0.5555555555555556,
              "#d8576b"
             ],
             [
              0.6666666666666666,
              "#ed7953"
             ],
             [
              0.7777777777777778,
              "#fb9f3a"
             ],
             [
              0.8888888888888888,
              "#fdca26"
             ],
             [
              1,
              "#f0f921"
             ]
            ],
            "type": "heatmapgl"
           }
          ],
          "histogram": [
           {
            "marker": {
             "pattern": {
              "fillmode": "overlay",
              "size": 10,
              "solidity": 0.2
             }
            },
            "type": "histogram"
           }
          ],
          "histogram2d": [
           {
            "colorbar": {
             "outlinewidth": 0,
             "ticks": ""
            },
            "colorscale": [
             [
              0,
              "#0d0887"
             ],
             [
              0.1111111111111111,
              "#46039f"
             ],
             [
              0.2222222222222222,
              "#7201a8"
             ],
             [
              0.3333333333333333,
              "#9c179e"
             ],
             [
              0.4444444444444444,
              "#bd3786"
             ],
             [
              0.5555555555555556,
              "#d8576b"
             ],
             [
              0.6666666666666666,
              "#ed7953"
             ],
             [
              0.7777777777777778,
              "#fb9f3a"
             ],
             [
              0.8888888888888888,
              "#fdca26"
             ],
             [
              1,
              "#f0f921"
             ]
            ],
            "type": "histogram2d"
           }
          ],
          "histogram2dcontour": [
           {
            "colorbar": {
             "outlinewidth": 0,
             "ticks": ""
            },
            "colorscale": [
             [
              0,
              "#0d0887"
             ],
             [
              0.1111111111111111,
              "#46039f"
             ],
             [
              0.2222222222222222,
              "#7201a8"
             ],
             [
              0.3333333333333333,
              "#9c179e"
             ],
             [
              0.4444444444444444,
              "#bd3786"
             ],
             [
              0.5555555555555556,
              "#d8576b"
             ],
             [
              0.6666666666666666,
              "#ed7953"
             ],
             [
              0.7777777777777778,
              "#fb9f3a"
             ],
             [
              0.8888888888888888,
              "#fdca26"
             ],
             [
              1,
              "#f0f921"
             ]
            ],
            "type": "histogram2dcontour"
           }
          ],
          "mesh3d": [
           {
            "colorbar": {
             "outlinewidth": 0,
             "ticks": ""
            },
            "type": "mesh3d"
           }
          ],
          "parcoords": [
           {
            "line": {
             "colorbar": {
              "outlinewidth": 0,
              "ticks": ""
             }
            },
            "type": "parcoords"
           }
          ],
          "pie": [
           {
            "automargin": true,
            "type": "pie"
           }
          ],
          "scatter": [
           {
            "fillpattern": {
             "fillmode": "overlay",
             "size": 10,
             "solidity": 0.2
            },
            "type": "scatter"
           }
          ],
          "scatter3d": [
           {
            "line": {
             "colorbar": {
              "outlinewidth": 0,
              "ticks": ""
             }
            },
            "marker": {
             "colorbar": {
              "outlinewidth": 0,
              "ticks": ""
             }
            },
            "type": "scatter3d"
           }
          ],
          "scattercarpet": [
           {
            "marker": {
             "colorbar": {
              "outlinewidth": 0,
              "ticks": ""
             }
            },
            "type": "scattercarpet"
           }
          ],
          "scattergeo": [
           {
            "marker": {
             "colorbar": {
              "outlinewidth": 0,
              "ticks": ""
             }
            },
            "type": "scattergeo"
           }
          ],
          "scattergl": [
           {
            "marker": {
             "colorbar": {
              "outlinewidth": 0,
              "ticks": ""
             }
            },
            "type": "scattergl"
           }
          ],
          "scattermapbox": [
           {
            "marker": {
             "colorbar": {
              "outlinewidth": 0,
              "ticks": ""
             }
            },
            "type": "scattermapbox"
           }
          ],
          "scatterpolar": [
           {
            "marker": {
             "colorbar": {
              "outlinewidth": 0,
              "ticks": ""
             }
            },
            "type": "scatterpolar"
           }
          ],
          "scatterpolargl": [
           {
            "marker": {
             "colorbar": {
              "outlinewidth": 0,
              "ticks": ""
             }
            },
            "type": "scatterpolargl"
           }
          ],
          "scatterternary": [
           {
            "marker": {
             "colorbar": {
              "outlinewidth": 0,
              "ticks": ""
             }
            },
            "type": "scatterternary"
           }
          ],
          "surface": [
           {
            "colorbar": {
             "outlinewidth": 0,
             "ticks": ""
            },
            "colorscale": [
             [
              0,
              "#0d0887"
             ],
             [
              0.1111111111111111,
              "#46039f"
             ],
             [
              0.2222222222222222,
              "#7201a8"
             ],
             [
              0.3333333333333333,
              "#9c179e"
             ],
             [
              0.4444444444444444,
              "#bd3786"
             ],
             [
              0.5555555555555556,
              "#d8576b"
             ],
             [
              0.6666666666666666,
              "#ed7953"
             ],
             [
              0.7777777777777778,
              "#fb9f3a"
             ],
             [
              0.8888888888888888,
              "#fdca26"
             ],
             [
              1,
              "#f0f921"
             ]
            ],
            "type": "surface"
           }
          ],
          "table": [
           {
            "cells": {
             "fill": {
              "color": "#EBF0F8"
             },
             "line": {
              "color": "white"
             }
            },
            "header": {
             "fill": {
              "color": "#C8D4E3"
             },
             "line": {
              "color": "white"
             }
            },
            "type": "table"
           }
          ]
         },
         "layout": {
          "annotationdefaults": {
           "arrowcolor": "#2a3f5f",
           "arrowhead": 0,
           "arrowwidth": 1
          },
          "autotypenumbers": "strict",
          "coloraxis": {
           "colorbar": {
            "outlinewidth": 0,
            "ticks": ""
           }
          },
          "colorscale": {
           "diverging": [
            [
             0,
             "#8e0152"
            ],
            [
             0.1,
             "#c51b7d"
            ],
            [
             0.2,
             "#de77ae"
            ],
            [
             0.3,
             "#f1b6da"
            ],
            [
             0.4,
             "#fde0ef"
            ],
            [
             0.5,
             "#f7f7f7"
            ],
            [
             0.6,
             "#e6f5d0"
            ],
            [
             0.7,
             "#b8e186"
            ],
            [
             0.8,
             "#7fbc41"
            ],
            [
             0.9,
             "#4d9221"
            ],
            [
             1,
             "#276419"
            ]
           ],
           "sequential": [
            [
             0,
             "#0d0887"
            ],
            [
             0.1111111111111111,
             "#46039f"
            ],
            [
             0.2222222222222222,
             "#7201a8"
            ],
            [
             0.3333333333333333,
             "#9c179e"
            ],
            [
             0.4444444444444444,
             "#bd3786"
            ],
            [
             0.5555555555555556,
             "#d8576b"
            ],
            [
             0.6666666666666666,
             "#ed7953"
            ],
            [
             0.7777777777777778,
             "#fb9f3a"
            ],
            [
             0.8888888888888888,
             "#fdca26"
            ],
            [
             1,
             "#f0f921"
            ]
           ],
           "sequentialminus": [
            [
             0,
             "#0d0887"
            ],
            [
             0.1111111111111111,
             "#46039f"
            ],
            [
             0.2222222222222222,
             "#7201a8"
            ],
            [
             0.3333333333333333,
             "#9c179e"
            ],
            [
             0.4444444444444444,
             "#bd3786"
            ],
            [
             0.5555555555555556,
             "#d8576b"
            ],
            [
             0.6666666666666666,
             "#ed7953"
            ],
            [
             0.7777777777777778,
             "#fb9f3a"
            ],
            [
             0.8888888888888888,
             "#fdca26"
            ],
            [
             1,
             "#f0f921"
            ]
           ]
          },
          "colorway": [
           "#636efa",
           "#EF553B",
           "#00cc96",
           "#ab63fa",
           "#FFA15A",
           "#19d3f3",
           "#FF6692",
           "#B6E880",
           "#FF97FF",
           "#FECB52"
          ],
          "font": {
           "color": "#2a3f5f"
          },
          "geo": {
           "bgcolor": "white",
           "lakecolor": "white",
           "landcolor": "#E5ECF6",
           "showlakes": true,
           "showland": true,
           "subunitcolor": "white"
          },
          "hoverlabel": {
           "align": "left"
          },
          "hovermode": "closest",
          "mapbox": {
           "style": "light"
          },
          "paper_bgcolor": "white",
          "plot_bgcolor": "#E5ECF6",
          "polar": {
           "angularaxis": {
            "gridcolor": "white",
            "linecolor": "white",
            "ticks": ""
           },
           "bgcolor": "#E5ECF6",
           "radialaxis": {
            "gridcolor": "white",
            "linecolor": "white",
            "ticks": ""
           }
          },
          "scene": {
           "xaxis": {
            "backgroundcolor": "#E5ECF6",
            "gridcolor": "white",
            "gridwidth": 2,
            "linecolor": "white",
            "showbackground": true,
            "ticks": "",
            "zerolinecolor": "white"
           },
           "yaxis": {
            "backgroundcolor": "#E5ECF6",
            "gridcolor": "white",
            "gridwidth": 2,
            "linecolor": "white",
            "showbackground": true,
            "ticks": "",
            "zerolinecolor": "white"
           },
           "zaxis": {
            "backgroundcolor": "#E5ECF6",
            "gridcolor": "white",
            "gridwidth": 2,
            "linecolor": "white",
            "showbackground": true,
            "ticks": "",
            "zerolinecolor": "white"
           }
          },
          "shapedefaults": {
           "line": {
            "color": "#2a3f5f"
           }
          },
          "ternary": {
           "aaxis": {
            "gridcolor": "white",
            "linecolor": "white",
            "ticks": ""
           },
           "baxis": {
            "gridcolor": "white",
            "linecolor": "white",
            "ticks": ""
           },
           "bgcolor": "#E5ECF6",
           "caxis": {
            "gridcolor": "white",
            "linecolor": "white",
            "ticks": ""
           }
          },
          "title": {
           "x": 0.05
          },
          "xaxis": {
           "automargin": true,
           "gridcolor": "white",
           "linecolor": "white",
           "ticks": "",
           "title": {
            "standoff": 15
           },
           "zerolinecolor": "white",
           "zerolinewidth": 2
          },
          "yaxis": {
           "automargin": true,
           "gridcolor": "white",
           "linecolor": "white",
           "ticks": "",
           "title": {
            "standoff": 15
           },
           "zerolinecolor": "white",
           "zerolinewidth": 2
          }
         }
        },
        "title": {
         "text": "[4, 0, 0]"
        },
        "width": 400,
        "xaxis": {
         "anchor": "y",
         "constrain": "domain",
         "domain": [
          0,
          1
         ],
         "scaleanchor": "y"
        },
        "yaxis": {
         "anchor": "x",
         "autorange": "reversed",
         "constrain": "domain",
         "domain": [
          0,
          1
         ]
        }
       }
      },
      "text/html": [
       "<div>                            <div id=\"7ff55146-94b0-43c2-b0d0-560ebf01dae1\" class=\"plotly-graph-div\" style=\"height:400px; width:400px;\"></div>            <script type=\"text/javascript\">                require([\"plotly\"], function(Plotly) {                    window.PLOTLYENV=window.PLOTLYENV || {};                                    if (document.getElementById(\"7ff55146-94b0-43c2-b0d0-560ebf01dae1\")) {                    Plotly.newPlot(                        \"7ff55146-94b0-43c2-b0d0-560ebf01dae1\",                        [{\"coloraxis\":\"coloraxis\",\"name\":\"0\",\"z\":[[-0.46855900000000006],[-0.40419559000000005],[-0.46855900000000006],[0.9999978812916875]],\"type\":\"heatmap\",\"xaxis\":\"x\",\"yaxis\":\"y\",\"hovertemplate\":\"x: %{x}<br>y: %{y}<br>color: %{z}<extra></extra>\"}],                        {\"template\":{\"data\":{\"histogram2dcontour\":[{\"type\":\"histogram2dcontour\",\"colorbar\":{\"outlinewidth\":0,\"ticks\":\"\"},\"colorscale\":[[0.0,\"#0d0887\"],[0.1111111111111111,\"#46039f\"],[0.2222222222222222,\"#7201a8\"],[0.3333333333333333,\"#9c179e\"],[0.4444444444444444,\"#bd3786\"],[0.5555555555555556,\"#d8576b\"],[0.6666666666666666,\"#ed7953\"],[0.7777777777777778,\"#fb9f3a\"],[0.8888888888888888,\"#fdca26\"],[1.0,\"#f0f921\"]]}],\"choropleth\":[{\"type\":\"choropleth\",\"colorbar\":{\"outlinewidth\":0,\"ticks\":\"\"}}],\"histogram2d\":[{\"type\":\"histogram2d\",\"colorbar\":{\"outlinewidth\":0,\"ticks\":\"\"},\"colorscale\":[[0.0,\"#0d0887\"],[0.1111111111111111,\"#46039f\"],[0.2222222222222222,\"#7201a8\"],[0.3333333333333333,\"#9c179e\"],[0.4444444444444444,\"#bd3786\"],[0.5555555555555556,\"#d8576b\"],[0.6666666666666666,\"#ed7953\"],[0.7777777777777778,\"#fb9f3a\"],[0.8888888888888888,\"#fdca26\"],[1.0,\"#f0f921\"]]}],\"heatmap\":[{\"type\":\"heatmap\",\"colorbar\":{\"outlinewidth\":0,\"ticks\":\"\"},\"colorscale\":[[0.0,\"#0d0887\"],[0.1111111111111111,\"#46039f\"],[0.2222222222222222,\"#7201a8\"],[0.3333333333333333,\"#9c179e\"],[0.4444444444444444,\"#bd3786\"],[0.5555555555555556,\"#d8576b\"],[0.6666666666666666,\"#ed7953\"],[0.7777777777777778,\"#fb9f3a\"],[0.8888888888888888,\"#fdca26\"],[1.0,\"#f0f921\"]]}],\"heatmapgl\":[{\"type\":\"heatmapgl\",\"colorbar\":{\"outlinewidth\":0,\"ticks\":\"\"},\"colorscale\":[[0.0,\"#0d0887\"],[0.1111111111111111,\"#46039f\"],[0.2222222222222222,\"#7201a8\"],[0.3333333333333333,\"#9c179e\"],[0.4444444444444444,\"#bd3786\"],[0.5555555555555556,\"#d8576b\"],[0.6666666666666666,\"#ed7953\"],[0.7777777777777778,\"#fb9f3a\"],[0.8888888888888888,\"#fdca26\"],[1.0,\"#f0f921\"]]}],\"contourcarpet\":[{\"type\":\"contourcarpet\",\"colorbar\":{\"outlinewidth\":0,\"ticks\":\"\"}}],\"contour\":[{\"type\":\"contour\",\"colorbar\":{\"outlinewidth\":0,\"ticks\":\"\"},\"colorscale\":[[0.0,\"#0d0887\"],[0.1111111111111111,\"#46039f\"],[0.2222222222222222,\"#7201a8\"],[0.3333333333333333,\"#9c179e\"],[0.4444444444444444,\"#bd3786\"],[0.5555555555555556,\"#d8576b\"],[0.6666666666666666,\"#ed7953\"],[0.7777777777777778,\"#fb9f3a\"],[0.8888888888888888,\"#fdca26\"],[1.0,\"#f0f921\"]]}],\"surface\":[{\"type\":\"surface\",\"colorbar\":{\"outlinewidth\":0,\"ticks\":\"\"},\"colorscale\":[[0.0,\"#0d0887\"],[0.1111111111111111,\"#46039f\"],[0.2222222222222222,\"#7201a8\"],[0.3333333333333333,\"#9c179e\"],[0.4444444444444444,\"#bd3786\"],[0.5555555555555556,\"#d8576b\"],[0.6666666666666666,\"#ed7953\"],[0.7777777777777778,\"#fb9f3a\"],[0.8888888888888888,\"#fdca26\"],[1.0,\"#f0f921\"]]}],\"mesh3d\":[{\"type\":\"mesh3d\",\"colorbar\":{\"outlinewidth\":0,\"ticks\":\"\"}}],\"scatter\":[{\"fillpattern\":{\"fillmode\":\"overlay\",\"size\":10,\"solidity\":0.2},\"type\":\"scatter\"}],\"parcoords\":[{\"type\":\"parcoords\",\"line\":{\"colorbar\":{\"outlinewidth\":0,\"ticks\":\"\"}}}],\"scatterpolargl\":[{\"type\":\"scatterpolargl\",\"marker\":{\"colorbar\":{\"outlinewidth\":0,\"ticks\":\"\"}}}],\"bar\":[{\"error_x\":{\"color\":\"#2a3f5f\"},\"error_y\":{\"color\":\"#2a3f5f\"},\"marker\":{\"line\":{\"color\":\"#E5ECF6\",\"width\":0.5},\"pattern\":{\"fillmode\":\"overlay\",\"size\":10,\"solidity\":0.2}},\"type\":\"bar\"}],\"scattergeo\":[{\"type\":\"scattergeo\",\"marker\":{\"colorbar\":{\"outlinewidth\":0,\"ticks\":\"\"}}}],\"scatterpolar\":[{\"type\":\"scatterpolar\",\"marker\":{\"colorbar\":{\"outlinewidth\":0,\"ticks\":\"\"}}}],\"histogram\":[{\"marker\":{\"pattern\":{\"fillmode\":\"overlay\",\"size\":10,\"solidity\":0.2}},\"type\":\"histogram\"}],\"scattergl\":[{\"type\":\"scattergl\",\"marker\":{\"colorbar\":{\"outlinewidth\":0,\"ticks\":\"\"}}}],\"scatter3d\":[{\"type\":\"scatter3d\",\"line\":{\"colorbar\":{\"outlinewidth\":0,\"ticks\":\"\"}},\"marker\":{\"colorbar\":{\"outlinewidth\":0,\"ticks\":\"\"}}}],\"scattermapbox\":[{\"type\":\"scattermapbox\",\"marker\":{\"colorbar\":{\"outlinewidth\":0,\"ticks\":\"\"}}}],\"scatterternary\":[{\"type\":\"scatterternary\",\"marker\":{\"colorbar\":{\"outlinewidth\":0,\"ticks\":\"\"}}}],\"scattercarpet\":[{\"type\":\"scattercarpet\",\"marker\":{\"colorbar\":{\"outlinewidth\":0,\"ticks\":\"\"}}}],\"carpet\":[{\"aaxis\":{\"endlinecolor\":\"#2a3f5f\",\"gridcolor\":\"white\",\"linecolor\":\"white\",\"minorgridcolor\":\"white\",\"startlinecolor\":\"#2a3f5f\"},\"baxis\":{\"endlinecolor\":\"#2a3f5f\",\"gridcolor\":\"white\",\"linecolor\":\"white\",\"minorgridcolor\":\"white\",\"startlinecolor\":\"#2a3f5f\"},\"type\":\"carpet\"}],\"table\":[{\"cells\":{\"fill\":{\"color\":\"#EBF0F8\"},\"line\":{\"color\":\"white\"}},\"header\":{\"fill\":{\"color\":\"#C8D4E3\"},\"line\":{\"color\":\"white\"}},\"type\":\"table\"}],\"barpolar\":[{\"marker\":{\"line\":{\"color\":\"#E5ECF6\",\"width\":0.5},\"pattern\":{\"fillmode\":\"overlay\",\"size\":10,\"solidity\":0.2}},\"type\":\"barpolar\"}],\"pie\":[{\"automargin\":true,\"type\":\"pie\"}]},\"layout\":{\"autotypenumbers\":\"strict\",\"colorway\":[\"#636efa\",\"#EF553B\",\"#00cc96\",\"#ab63fa\",\"#FFA15A\",\"#19d3f3\",\"#FF6692\",\"#B6E880\",\"#FF97FF\",\"#FECB52\"],\"font\":{\"color\":\"#2a3f5f\"},\"hovermode\":\"closest\",\"hoverlabel\":{\"align\":\"left\"},\"paper_bgcolor\":\"white\",\"plot_bgcolor\":\"#E5ECF6\",\"polar\":{\"bgcolor\":\"#E5ECF6\",\"angularaxis\":{\"gridcolor\":\"white\",\"linecolor\":\"white\",\"ticks\":\"\"},\"radialaxis\":{\"gridcolor\":\"white\",\"linecolor\":\"white\",\"ticks\":\"\"}},\"ternary\":{\"bgcolor\":\"#E5ECF6\",\"aaxis\":{\"gridcolor\":\"white\",\"linecolor\":\"white\",\"ticks\":\"\"},\"baxis\":{\"gridcolor\":\"white\",\"linecolor\":\"white\",\"ticks\":\"\"},\"caxis\":{\"gridcolor\":\"white\",\"linecolor\":\"white\",\"ticks\":\"\"}},\"coloraxis\":{\"colorbar\":{\"outlinewidth\":0,\"ticks\":\"\"}},\"colorscale\":{\"sequential\":[[0.0,\"#0d0887\"],[0.1111111111111111,\"#46039f\"],[0.2222222222222222,\"#7201a8\"],[0.3333333333333333,\"#9c179e\"],[0.4444444444444444,\"#bd3786\"],[0.5555555555555556,\"#d8576b\"],[0.6666666666666666,\"#ed7953\"],[0.7777777777777778,\"#fb9f3a\"],[0.8888888888888888,\"#fdca26\"],[1.0,\"#f0f921\"]],\"sequentialminus\":[[0.0,\"#0d0887\"],[0.1111111111111111,\"#46039f\"],[0.2222222222222222,\"#7201a8\"],[0.3333333333333333,\"#9c179e\"],[0.4444444444444444,\"#bd3786\"],[0.5555555555555556,\"#d8576b\"],[0.6666666666666666,\"#ed7953\"],[0.7777777777777778,\"#fb9f3a\"],[0.8888888888888888,\"#fdca26\"],[1.0,\"#f0f921\"]],\"diverging\":[[0,\"#8e0152\"],[0.1,\"#c51b7d\"],[0.2,\"#de77ae\"],[0.3,\"#f1b6da\"],[0.4,\"#fde0ef\"],[0.5,\"#f7f7f7\"],[0.6,\"#e6f5d0\"],[0.7,\"#b8e186\"],[0.8,\"#7fbc41\"],[0.9,\"#4d9221\"],[1,\"#276419\"]]},\"xaxis\":{\"gridcolor\":\"white\",\"linecolor\":\"white\",\"ticks\":\"\",\"title\":{\"standoff\":15},\"zerolinecolor\":\"white\",\"automargin\":true,\"zerolinewidth\":2},\"yaxis\":{\"gridcolor\":\"white\",\"linecolor\":\"white\",\"ticks\":\"\",\"title\":{\"standoff\":15},\"zerolinecolor\":\"white\",\"automargin\":true,\"zerolinewidth\":2},\"scene\":{\"xaxis\":{\"backgroundcolor\":\"#E5ECF6\",\"gridcolor\":\"white\",\"linecolor\":\"white\",\"showbackground\":true,\"ticks\":\"\",\"zerolinecolor\":\"white\",\"gridwidth\":2},\"yaxis\":{\"backgroundcolor\":\"#E5ECF6\",\"gridcolor\":\"white\",\"linecolor\":\"white\",\"showbackground\":true,\"ticks\":\"\",\"zerolinecolor\":\"white\",\"gridwidth\":2},\"zaxis\":{\"backgroundcolor\":\"#E5ECF6\",\"gridcolor\":\"white\",\"linecolor\":\"white\",\"showbackground\":true,\"ticks\":\"\",\"zerolinecolor\":\"white\",\"gridwidth\":2}},\"shapedefaults\":{\"line\":{\"color\":\"#2a3f5f\"}},\"annotationdefaults\":{\"arrowcolor\":\"#2a3f5f\",\"arrowhead\":0,\"arrowwidth\":1},\"geo\":{\"bgcolor\":\"white\",\"landcolor\":\"#E5ECF6\",\"subunitcolor\":\"white\",\"showland\":true,\"showlakes\":true,\"lakecolor\":\"white\"},\"title\":{\"x\":0.05},\"mapbox\":{\"style\":\"light\"}}},\"xaxis\":{\"anchor\":\"y\",\"domain\":[0.0,1.0],\"scaleanchor\":\"y\",\"constrain\":\"domain\"},\"yaxis\":{\"anchor\":\"x\",\"domain\":[0.0,1.0],\"autorange\":\"reversed\",\"constrain\":\"domain\"},\"coloraxis\":{\"colorscale\":[[0.0,\"rgb(0, 0, 0)\"],[0.09090909090909091,\"rgb(16, 16, 16)\"],[0.18181818181818182,\"rgb(38, 38, 38)\"],[0.2727272727272727,\"rgb(59, 59, 59)\"],[0.36363636363636365,\"rgb(81, 80, 80)\"],[0.45454545454545453,\"rgb(102, 101, 101)\"],[0.5454545454545454,\"rgb(124, 123, 122)\"],[0.6363636363636364,\"rgb(146, 146, 145)\"],[0.7272727272727273,\"rgb(171, 171, 170)\"],[0.8181818181818182,\"rgb(197, 197, 195)\"],[0.9090909090909091,\"rgb(224, 224, 223)\"],[1.0,\"rgb(254, 254, 253)\"]]},\"title\":{\"text\":\"[4, 0, 0]\"},\"height\":400,\"width\":400},                        {\"responsive\": true}                    ).then(function(){\n",
       "                            \n",
       "var gd = document.getElementById('7ff55146-94b0-43c2-b0d0-560ebf01dae1');\n",
       "var x = new MutationObserver(function (mutations, observer) {{\n",
       "        var display = window.getComputedStyle(gd).display;\n",
       "        if (!display || display === 'none') {{\n",
       "            console.log([gd, 'removed!']);\n",
       "            Plotly.purge(gd);\n",
       "            observer.disconnect();\n",
       "        }}\n",
       "}});\n",
       "\n",
       "// Listen for the removal of the full notebook cells\n",
       "var notebookContainer = gd.closest('#notebook-container');\n",
       "if (notebookContainer) {{\n",
       "    x.observe(notebookContainer, {childList: true});\n",
       "}}\n",
       "\n",
       "// Listen for the clearing of the current output cell\n",
       "var outputEl = gd.closest('.output');\n",
       "if (outputEl) {{\n",
       "    x.observe(outputEl, {childList: true});\n",
       "}}\n",
       "\n",
       "                        })                };                });            </script>        </div>"
      ]
     },
     "metadata": {},
     "output_type": "display_data"
    },
    {
     "name": "stdout",
     "output_type": "stream",
     "text": [
      "Optimal move is 1 sticks from heap 2, which is action 1.\n"
     ]
    },
    {
     "data": {
      "application/vnd.plotly.v1+json": {
       "config": {
        "plotlyServerURL": "https://plot.ly"
       },
       "data": [
        {
         "coloraxis": "coloraxis",
         "hovertemplate": "x: %{x}<br>y: %{y}<br>color: %{z}<extra></extra>",
         "name": "0",
         "type": "heatmap",
         "xaxis": "x",
         "yaxis": "y",
         "z": [
          [
           -0.9775320401396683
          ],
          [
           0.9899999999999991
          ],
          [
           -0.9852191170585654
          ]
         ]
        }
       ],
       "layout": {
        "coloraxis": {
         "colorscale": [
          [
           0,
           "rgb(0, 0, 0)"
          ],
          [
           0.09090909090909091,
           "rgb(16, 16, 16)"
          ],
          [
           0.18181818181818182,
           "rgb(38, 38, 38)"
          ],
          [
           0.2727272727272727,
           "rgb(59, 59, 59)"
          ],
          [
           0.36363636363636365,
           "rgb(81, 80, 80)"
          ],
          [
           0.45454545454545453,
           "rgb(102, 101, 101)"
          ],
          [
           0.5454545454545454,
           "rgb(124, 123, 122)"
          ],
          [
           0.6363636363636364,
           "rgb(146, 146, 145)"
          ],
          [
           0.7272727272727273,
           "rgb(171, 171, 170)"
          ],
          [
           0.8181818181818182,
           "rgb(197, 197, 195)"
          ],
          [
           0.9090909090909091,
           "rgb(224, 224, 223)"
          ],
          [
           1,
           "rgb(254, 254, 253)"
          ]
         ]
        },
        "height": 400,
        "template": {
         "data": {
          "bar": [
           {
            "error_x": {
             "color": "#2a3f5f"
            },
            "error_y": {
             "color": "#2a3f5f"
            },
            "marker": {
             "line": {
              "color": "#E5ECF6",
              "width": 0.5
             },
             "pattern": {
              "fillmode": "overlay",
              "size": 10,
              "solidity": 0.2
             }
            },
            "type": "bar"
           }
          ],
          "barpolar": [
           {
            "marker": {
             "line": {
              "color": "#E5ECF6",
              "width": 0.5
             },
             "pattern": {
              "fillmode": "overlay",
              "size": 10,
              "solidity": 0.2
             }
            },
            "type": "barpolar"
           }
          ],
          "carpet": [
           {
            "aaxis": {
             "endlinecolor": "#2a3f5f",
             "gridcolor": "white",
             "linecolor": "white",
             "minorgridcolor": "white",
             "startlinecolor": "#2a3f5f"
            },
            "baxis": {
             "endlinecolor": "#2a3f5f",
             "gridcolor": "white",
             "linecolor": "white",
             "minorgridcolor": "white",
             "startlinecolor": "#2a3f5f"
            },
            "type": "carpet"
           }
          ],
          "choropleth": [
           {
            "colorbar": {
             "outlinewidth": 0,
             "ticks": ""
            },
            "type": "choropleth"
           }
          ],
          "contour": [
           {
            "colorbar": {
             "outlinewidth": 0,
             "ticks": ""
            },
            "colorscale": [
             [
              0,
              "#0d0887"
             ],
             [
              0.1111111111111111,
              "#46039f"
             ],
             [
              0.2222222222222222,
              "#7201a8"
             ],
             [
              0.3333333333333333,
              "#9c179e"
             ],
             [
              0.4444444444444444,
              "#bd3786"
             ],
             [
              0.5555555555555556,
              "#d8576b"
             ],
             [
              0.6666666666666666,
              "#ed7953"
             ],
             [
              0.7777777777777778,
              "#fb9f3a"
             ],
             [
              0.8888888888888888,
              "#fdca26"
             ],
             [
              1,
              "#f0f921"
             ]
            ],
            "type": "contour"
           }
          ],
          "contourcarpet": [
           {
            "colorbar": {
             "outlinewidth": 0,
             "ticks": ""
            },
            "type": "contourcarpet"
           }
          ],
          "heatmap": [
           {
            "colorbar": {
             "outlinewidth": 0,
             "ticks": ""
            },
            "colorscale": [
             [
              0,
              "#0d0887"
             ],
             [
              0.1111111111111111,
              "#46039f"
             ],
             [
              0.2222222222222222,
              "#7201a8"
             ],
             [
              0.3333333333333333,
              "#9c179e"
             ],
             [
              0.4444444444444444,
              "#bd3786"
             ],
             [
              0.5555555555555556,
              "#d8576b"
             ],
             [
              0.6666666666666666,
              "#ed7953"
             ],
             [
              0.7777777777777778,
              "#fb9f3a"
             ],
             [
              0.8888888888888888,
              "#fdca26"
             ],
             [
              1,
              "#f0f921"
             ]
            ],
            "type": "heatmap"
           }
          ],
          "heatmapgl": [
           {
            "colorbar": {
             "outlinewidth": 0,
             "ticks": ""
            },
            "colorscale": [
             [
              0,
              "#0d0887"
             ],
             [
              0.1111111111111111,
              "#46039f"
             ],
             [
              0.2222222222222222,
              "#7201a8"
             ],
             [
              0.3333333333333333,
              "#9c179e"
             ],
             [
              0.4444444444444444,
              "#bd3786"
             ],
             [
              0.5555555555555556,
              "#d8576b"
             ],
             [
              0.6666666666666666,
              "#ed7953"
             ],
             [
              0.7777777777777778,
              "#fb9f3a"
             ],
             [
              0.8888888888888888,
              "#fdca26"
             ],
             [
              1,
              "#f0f921"
             ]
            ],
            "type": "heatmapgl"
           }
          ],
          "histogram": [
           {
            "marker": {
             "pattern": {
              "fillmode": "overlay",
              "size": 10,
              "solidity": 0.2
             }
            },
            "type": "histogram"
           }
          ],
          "histogram2d": [
           {
            "colorbar": {
             "outlinewidth": 0,
             "ticks": ""
            },
            "colorscale": [
             [
              0,
              "#0d0887"
             ],
             [
              0.1111111111111111,
              "#46039f"
             ],
             [
              0.2222222222222222,
              "#7201a8"
             ],
             [
              0.3333333333333333,
              "#9c179e"
             ],
             [
              0.4444444444444444,
              "#bd3786"
             ],
             [
              0.5555555555555556,
              "#d8576b"
             ],
             [
              0.6666666666666666,
              "#ed7953"
             ],
             [
              0.7777777777777778,
              "#fb9f3a"
             ],
             [
              0.8888888888888888,
              "#fdca26"
             ],
             [
              1,
              "#f0f921"
             ]
            ],
            "type": "histogram2d"
           }
          ],
          "histogram2dcontour": [
           {
            "colorbar": {
             "outlinewidth": 0,
             "ticks": ""
            },
            "colorscale": [
             [
              0,
              "#0d0887"
             ],
             [
              0.1111111111111111,
              "#46039f"
             ],
             [
              0.2222222222222222,
              "#7201a8"
             ],
             [
              0.3333333333333333,
              "#9c179e"
             ],
             [
              0.4444444444444444,
              "#bd3786"
             ],
             [
              0.5555555555555556,
              "#d8576b"
             ],
             [
              0.6666666666666666,
              "#ed7953"
             ],
             [
              0.7777777777777778,
              "#fb9f3a"
             ],
             [
              0.8888888888888888,
              "#fdca26"
             ],
             [
              1,
              "#f0f921"
             ]
            ],
            "type": "histogram2dcontour"
           }
          ],
          "mesh3d": [
           {
            "colorbar": {
             "outlinewidth": 0,
             "ticks": ""
            },
            "type": "mesh3d"
           }
          ],
          "parcoords": [
           {
            "line": {
             "colorbar": {
              "outlinewidth": 0,
              "ticks": ""
             }
            },
            "type": "parcoords"
           }
          ],
          "pie": [
           {
            "automargin": true,
            "type": "pie"
           }
          ],
          "scatter": [
           {
            "fillpattern": {
             "fillmode": "overlay",
             "size": 10,
             "solidity": 0.2
            },
            "type": "scatter"
           }
          ],
          "scatter3d": [
           {
            "line": {
             "colorbar": {
              "outlinewidth": 0,
              "ticks": ""
             }
            },
            "marker": {
             "colorbar": {
              "outlinewidth": 0,
              "ticks": ""
             }
            },
            "type": "scatter3d"
           }
          ],
          "scattercarpet": [
           {
            "marker": {
             "colorbar": {
              "outlinewidth": 0,
              "ticks": ""
             }
            },
            "type": "scattercarpet"
           }
          ],
          "scattergeo": [
           {
            "marker": {
             "colorbar": {
              "outlinewidth": 0,
              "ticks": ""
             }
            },
            "type": "scattergeo"
           }
          ],
          "scattergl": [
           {
            "marker": {
             "colorbar": {
              "outlinewidth": 0,
              "ticks": ""
             }
            },
            "type": "scattergl"
           }
          ],
          "scattermapbox": [
           {
            "marker": {
             "colorbar": {
              "outlinewidth": 0,
              "ticks": ""
             }
            },
            "type": "scattermapbox"
           }
          ],
          "scatterpolar": [
           {
            "marker": {
             "colorbar": {
              "outlinewidth": 0,
              "ticks": ""
             }
            },
            "type": "scatterpolar"
           }
          ],
          "scatterpolargl": [
           {
            "marker": {
             "colorbar": {
              "outlinewidth": 0,
              "ticks": ""
             }
            },
            "type": "scatterpolargl"
           }
          ],
          "scatterternary": [
           {
            "marker": {
             "colorbar": {
              "outlinewidth": 0,
              "ticks": ""
             }
            },
            "type": "scatterternary"
           }
          ],
          "surface": [
           {
            "colorbar": {
             "outlinewidth": 0,
             "ticks": ""
            },
            "colorscale": [
             [
              0,
              "#0d0887"
             ],
             [
              0.1111111111111111,
              "#46039f"
             ],
             [
              0.2222222222222222,
              "#7201a8"
             ],
             [
              0.3333333333333333,
              "#9c179e"
             ],
             [
              0.4444444444444444,
              "#bd3786"
             ],
             [
              0.5555555555555556,
              "#d8576b"
             ],
             [
              0.6666666666666666,
              "#ed7953"
             ],
             [
              0.7777777777777778,
              "#fb9f3a"
             ],
             [
              0.8888888888888888,
              "#fdca26"
             ],
             [
              1,
              "#f0f921"
             ]
            ],
            "type": "surface"
           }
          ],
          "table": [
           {
            "cells": {
             "fill": {
              "color": "#EBF0F8"
             },
             "line": {
              "color": "white"
             }
            },
            "header": {
             "fill": {
              "color": "#C8D4E3"
             },
             "line": {
              "color": "white"
             }
            },
            "type": "table"
           }
          ]
         },
         "layout": {
          "annotationdefaults": {
           "arrowcolor": "#2a3f5f",
           "arrowhead": 0,
           "arrowwidth": 1
          },
          "autotypenumbers": "strict",
          "coloraxis": {
           "colorbar": {
            "outlinewidth": 0,
            "ticks": ""
           }
          },
          "colorscale": {
           "diverging": [
            [
             0,
             "#8e0152"
            ],
            [
             0.1,
             "#c51b7d"
            ],
            [
             0.2,
             "#de77ae"
            ],
            [
             0.3,
             "#f1b6da"
            ],
            [
             0.4,
             "#fde0ef"
            ],
            [
             0.5,
             "#f7f7f7"
            ],
            [
             0.6,
             "#e6f5d0"
            ],
            [
             0.7,
             "#b8e186"
            ],
            [
             0.8,
             "#7fbc41"
            ],
            [
             0.9,
             "#4d9221"
            ],
            [
             1,
             "#276419"
            ]
           ],
           "sequential": [
            [
             0,
             "#0d0887"
            ],
            [
             0.1111111111111111,
             "#46039f"
            ],
            [
             0.2222222222222222,
             "#7201a8"
            ],
            [
             0.3333333333333333,
             "#9c179e"
            ],
            [
             0.4444444444444444,
             "#bd3786"
            ],
            [
             0.5555555555555556,
             "#d8576b"
            ],
            [
             0.6666666666666666,
             "#ed7953"
            ],
            [
             0.7777777777777778,
             "#fb9f3a"
            ],
            [
             0.8888888888888888,
             "#fdca26"
            ],
            [
             1,
             "#f0f921"
            ]
           ],
           "sequentialminus": [
            [
             0,
             "#0d0887"
            ],
            [
             0.1111111111111111,
             "#46039f"
            ],
            [
             0.2222222222222222,
             "#7201a8"
            ],
            [
             0.3333333333333333,
             "#9c179e"
            ],
            [
             0.4444444444444444,
             "#bd3786"
            ],
            [
             0.5555555555555556,
             "#d8576b"
            ],
            [
             0.6666666666666666,
             "#ed7953"
            ],
            [
             0.7777777777777778,
             "#fb9f3a"
            ],
            [
             0.8888888888888888,
             "#fdca26"
            ],
            [
             1,
             "#f0f921"
            ]
           ]
          },
          "colorway": [
           "#636efa",
           "#EF553B",
           "#00cc96",
           "#ab63fa",
           "#FFA15A",
           "#19d3f3",
           "#FF6692",
           "#B6E880",
           "#FF97FF",
           "#FECB52"
          ],
          "font": {
           "color": "#2a3f5f"
          },
          "geo": {
           "bgcolor": "white",
           "lakecolor": "white",
           "landcolor": "#E5ECF6",
           "showlakes": true,
           "showland": true,
           "subunitcolor": "white"
          },
          "hoverlabel": {
           "align": "left"
          },
          "hovermode": "closest",
          "mapbox": {
           "style": "light"
          },
          "paper_bgcolor": "white",
          "plot_bgcolor": "#E5ECF6",
          "polar": {
           "angularaxis": {
            "gridcolor": "white",
            "linecolor": "white",
            "ticks": ""
           },
           "bgcolor": "#E5ECF6",
           "radialaxis": {
            "gridcolor": "white",
            "linecolor": "white",
            "ticks": ""
           }
          },
          "scene": {
           "xaxis": {
            "backgroundcolor": "#E5ECF6",
            "gridcolor": "white",
            "gridwidth": 2,
            "linecolor": "white",
            "showbackground": true,
            "ticks": "",
            "zerolinecolor": "white"
           },
           "yaxis": {
            "backgroundcolor": "#E5ECF6",
            "gridcolor": "white",
            "gridwidth": 2,
            "linecolor": "white",
            "showbackground": true,
            "ticks": "",
            "zerolinecolor": "white"
           },
           "zaxis": {
            "backgroundcolor": "#E5ECF6",
            "gridcolor": "white",
            "gridwidth": 2,
            "linecolor": "white",
            "showbackground": true,
            "ticks": "",
            "zerolinecolor": "white"
           }
          },
          "shapedefaults": {
           "line": {
            "color": "#2a3f5f"
           }
          },
          "ternary": {
           "aaxis": {
            "gridcolor": "white",
            "linecolor": "white",
            "ticks": ""
           },
           "baxis": {
            "gridcolor": "white",
            "linecolor": "white",
            "ticks": ""
           },
           "bgcolor": "#E5ECF6",
           "caxis": {
            "gridcolor": "white",
            "linecolor": "white",
            "ticks": ""
           }
          },
          "title": {
           "x": 0.05
          },
          "xaxis": {
           "automargin": true,
           "gridcolor": "white",
           "linecolor": "white",
           "ticks": "",
           "title": {
            "standoff": 15
           },
           "zerolinecolor": "white",
           "zerolinewidth": 2
          },
          "yaxis": {
           "automargin": true,
           "gridcolor": "white",
           "linecolor": "white",
           "ticks": "",
           "title": {
            "standoff": 15
           },
           "zerolinecolor": "white",
           "zerolinewidth": 2
          }
         }
        },
        "title": {
         "text": "[1, 2, 0]"
        },
        "width": 400,
        "xaxis": {
         "anchor": "y",
         "constrain": "domain",
         "domain": [
          0,
          1
         ],
         "scaleanchor": "y"
        },
        "yaxis": {
         "anchor": "x",
         "autorange": "reversed",
         "constrain": "domain",
         "domain": [
          0,
          1
         ]
        }
       }
      },
      "text/html": [
       "<div>                            <div id=\"2afa43ef-6e22-4fa1-a883-579a786d6d42\" class=\"plotly-graph-div\" style=\"height:400px; width:400px;\"></div>            <script type=\"text/javascript\">                require([\"plotly\"], function(Plotly) {                    window.PLOTLYENV=window.PLOTLYENV || {};                                    if (document.getElementById(\"2afa43ef-6e22-4fa1-a883-579a786d6d42\")) {                    Plotly.newPlot(                        \"2afa43ef-6e22-4fa1-a883-579a786d6d42\",                        [{\"coloraxis\":\"coloraxis\",\"name\":\"0\",\"z\":[[-0.9775320401396683],[0.9899999999999991],[-0.9852191170585654]],\"type\":\"heatmap\",\"xaxis\":\"x\",\"yaxis\":\"y\",\"hovertemplate\":\"x: %{x}<br>y: %{y}<br>color: %{z}<extra></extra>\"}],                        {\"template\":{\"data\":{\"histogram2dcontour\":[{\"type\":\"histogram2dcontour\",\"colorbar\":{\"outlinewidth\":0,\"ticks\":\"\"},\"colorscale\":[[0.0,\"#0d0887\"],[0.1111111111111111,\"#46039f\"],[0.2222222222222222,\"#7201a8\"],[0.3333333333333333,\"#9c179e\"],[0.4444444444444444,\"#bd3786\"],[0.5555555555555556,\"#d8576b\"],[0.6666666666666666,\"#ed7953\"],[0.7777777777777778,\"#fb9f3a\"],[0.8888888888888888,\"#fdca26\"],[1.0,\"#f0f921\"]]}],\"choropleth\":[{\"type\":\"choropleth\",\"colorbar\":{\"outlinewidth\":0,\"ticks\":\"\"}}],\"histogram2d\":[{\"type\":\"histogram2d\",\"colorbar\":{\"outlinewidth\":0,\"ticks\":\"\"},\"colorscale\":[[0.0,\"#0d0887\"],[0.1111111111111111,\"#46039f\"],[0.2222222222222222,\"#7201a8\"],[0.3333333333333333,\"#9c179e\"],[0.4444444444444444,\"#bd3786\"],[0.5555555555555556,\"#d8576b\"],[0.6666666666666666,\"#ed7953\"],[0.7777777777777778,\"#fb9f3a\"],[0.8888888888888888,\"#fdca26\"],[1.0,\"#f0f921\"]]}],\"heatmap\":[{\"type\":\"heatmap\",\"colorbar\":{\"outlinewidth\":0,\"ticks\":\"\"},\"colorscale\":[[0.0,\"#0d0887\"],[0.1111111111111111,\"#46039f\"],[0.2222222222222222,\"#7201a8\"],[0.3333333333333333,\"#9c179e\"],[0.4444444444444444,\"#bd3786\"],[0.5555555555555556,\"#d8576b\"],[0.6666666666666666,\"#ed7953\"],[0.7777777777777778,\"#fb9f3a\"],[0.8888888888888888,\"#fdca26\"],[1.0,\"#f0f921\"]]}],\"heatmapgl\":[{\"type\":\"heatmapgl\",\"colorbar\":{\"outlinewidth\":0,\"ticks\":\"\"},\"colorscale\":[[0.0,\"#0d0887\"],[0.1111111111111111,\"#46039f\"],[0.2222222222222222,\"#7201a8\"],[0.3333333333333333,\"#9c179e\"],[0.4444444444444444,\"#bd3786\"],[0.5555555555555556,\"#d8576b\"],[0.6666666666666666,\"#ed7953\"],[0.7777777777777778,\"#fb9f3a\"],[0.8888888888888888,\"#fdca26\"],[1.0,\"#f0f921\"]]}],\"contourcarpet\":[{\"type\":\"contourcarpet\",\"colorbar\":{\"outlinewidth\":0,\"ticks\":\"\"}}],\"contour\":[{\"type\":\"contour\",\"colorbar\":{\"outlinewidth\":0,\"ticks\":\"\"},\"colorscale\":[[0.0,\"#0d0887\"],[0.1111111111111111,\"#46039f\"],[0.2222222222222222,\"#7201a8\"],[0.3333333333333333,\"#9c179e\"],[0.4444444444444444,\"#bd3786\"],[0.5555555555555556,\"#d8576b\"],[0.6666666666666666,\"#ed7953\"],[0.7777777777777778,\"#fb9f3a\"],[0.8888888888888888,\"#fdca26\"],[1.0,\"#f0f921\"]]}],\"surface\":[{\"type\":\"surface\",\"colorbar\":{\"outlinewidth\":0,\"ticks\":\"\"},\"colorscale\":[[0.0,\"#0d0887\"],[0.1111111111111111,\"#46039f\"],[0.2222222222222222,\"#7201a8\"],[0.3333333333333333,\"#9c179e\"],[0.4444444444444444,\"#bd3786\"],[0.5555555555555556,\"#d8576b\"],[0.6666666666666666,\"#ed7953\"],[0.7777777777777778,\"#fb9f3a\"],[0.8888888888888888,\"#fdca26\"],[1.0,\"#f0f921\"]]}],\"mesh3d\":[{\"type\":\"mesh3d\",\"colorbar\":{\"outlinewidth\":0,\"ticks\":\"\"}}],\"scatter\":[{\"fillpattern\":{\"fillmode\":\"overlay\",\"size\":10,\"solidity\":0.2},\"type\":\"scatter\"}],\"parcoords\":[{\"type\":\"parcoords\",\"line\":{\"colorbar\":{\"outlinewidth\":0,\"ticks\":\"\"}}}],\"scatterpolargl\":[{\"type\":\"scatterpolargl\",\"marker\":{\"colorbar\":{\"outlinewidth\":0,\"ticks\":\"\"}}}],\"bar\":[{\"error_x\":{\"color\":\"#2a3f5f\"},\"error_y\":{\"color\":\"#2a3f5f\"},\"marker\":{\"line\":{\"color\":\"#E5ECF6\",\"width\":0.5},\"pattern\":{\"fillmode\":\"overlay\",\"size\":10,\"solidity\":0.2}},\"type\":\"bar\"}],\"scattergeo\":[{\"type\":\"scattergeo\",\"marker\":{\"colorbar\":{\"outlinewidth\":0,\"ticks\":\"\"}}}],\"scatterpolar\":[{\"type\":\"scatterpolar\",\"marker\":{\"colorbar\":{\"outlinewidth\":0,\"ticks\":\"\"}}}],\"histogram\":[{\"marker\":{\"pattern\":{\"fillmode\":\"overlay\",\"size\":10,\"solidity\":0.2}},\"type\":\"histogram\"}],\"scattergl\":[{\"type\":\"scattergl\",\"marker\":{\"colorbar\":{\"outlinewidth\":0,\"ticks\":\"\"}}}],\"scatter3d\":[{\"type\":\"scatter3d\",\"line\":{\"colorbar\":{\"outlinewidth\":0,\"ticks\":\"\"}},\"marker\":{\"colorbar\":{\"outlinewidth\":0,\"ticks\":\"\"}}}],\"scattermapbox\":[{\"type\":\"scattermapbox\",\"marker\":{\"colorbar\":{\"outlinewidth\":0,\"ticks\":\"\"}}}],\"scatterternary\":[{\"type\":\"scatterternary\",\"marker\":{\"colorbar\":{\"outlinewidth\":0,\"ticks\":\"\"}}}],\"scattercarpet\":[{\"type\":\"scattercarpet\",\"marker\":{\"colorbar\":{\"outlinewidth\":0,\"ticks\":\"\"}}}],\"carpet\":[{\"aaxis\":{\"endlinecolor\":\"#2a3f5f\",\"gridcolor\":\"white\",\"linecolor\":\"white\",\"minorgridcolor\":\"white\",\"startlinecolor\":\"#2a3f5f\"},\"baxis\":{\"endlinecolor\":\"#2a3f5f\",\"gridcolor\":\"white\",\"linecolor\":\"white\",\"minorgridcolor\":\"white\",\"startlinecolor\":\"#2a3f5f\"},\"type\":\"carpet\"}],\"table\":[{\"cells\":{\"fill\":{\"color\":\"#EBF0F8\"},\"line\":{\"color\":\"white\"}},\"header\":{\"fill\":{\"color\":\"#C8D4E3\"},\"line\":{\"color\":\"white\"}},\"type\":\"table\"}],\"barpolar\":[{\"marker\":{\"line\":{\"color\":\"#E5ECF6\",\"width\":0.5},\"pattern\":{\"fillmode\":\"overlay\",\"size\":10,\"solidity\":0.2}},\"type\":\"barpolar\"}],\"pie\":[{\"automargin\":true,\"type\":\"pie\"}]},\"layout\":{\"autotypenumbers\":\"strict\",\"colorway\":[\"#636efa\",\"#EF553B\",\"#00cc96\",\"#ab63fa\",\"#FFA15A\",\"#19d3f3\",\"#FF6692\",\"#B6E880\",\"#FF97FF\",\"#FECB52\"],\"font\":{\"color\":\"#2a3f5f\"},\"hovermode\":\"closest\",\"hoverlabel\":{\"align\":\"left\"},\"paper_bgcolor\":\"white\",\"plot_bgcolor\":\"#E5ECF6\",\"polar\":{\"bgcolor\":\"#E5ECF6\",\"angularaxis\":{\"gridcolor\":\"white\",\"linecolor\":\"white\",\"ticks\":\"\"},\"radialaxis\":{\"gridcolor\":\"white\",\"linecolor\":\"white\",\"ticks\":\"\"}},\"ternary\":{\"bgcolor\":\"#E5ECF6\",\"aaxis\":{\"gridcolor\":\"white\",\"linecolor\":\"white\",\"ticks\":\"\"},\"baxis\":{\"gridcolor\":\"white\",\"linecolor\":\"white\",\"ticks\":\"\"},\"caxis\":{\"gridcolor\":\"white\",\"linecolor\":\"white\",\"ticks\":\"\"}},\"coloraxis\":{\"colorbar\":{\"outlinewidth\":0,\"ticks\":\"\"}},\"colorscale\":{\"sequential\":[[0.0,\"#0d0887\"],[0.1111111111111111,\"#46039f\"],[0.2222222222222222,\"#7201a8\"],[0.3333333333333333,\"#9c179e\"],[0.4444444444444444,\"#bd3786\"],[0.5555555555555556,\"#d8576b\"],[0.6666666666666666,\"#ed7953\"],[0.7777777777777778,\"#fb9f3a\"],[0.8888888888888888,\"#fdca26\"],[1.0,\"#f0f921\"]],\"sequentialminus\":[[0.0,\"#0d0887\"],[0.1111111111111111,\"#46039f\"],[0.2222222222222222,\"#7201a8\"],[0.3333333333333333,\"#9c179e\"],[0.4444444444444444,\"#bd3786\"],[0.5555555555555556,\"#d8576b\"],[0.6666666666666666,\"#ed7953\"],[0.7777777777777778,\"#fb9f3a\"],[0.8888888888888888,\"#fdca26\"],[1.0,\"#f0f921\"]],\"diverging\":[[0,\"#8e0152\"],[0.1,\"#c51b7d\"],[0.2,\"#de77ae\"],[0.3,\"#f1b6da\"],[0.4,\"#fde0ef\"],[0.5,\"#f7f7f7\"],[0.6,\"#e6f5d0\"],[0.7,\"#b8e186\"],[0.8,\"#7fbc41\"],[0.9,\"#4d9221\"],[1,\"#276419\"]]},\"xaxis\":{\"gridcolor\":\"white\",\"linecolor\":\"white\",\"ticks\":\"\",\"title\":{\"standoff\":15},\"zerolinecolor\":\"white\",\"automargin\":true,\"zerolinewidth\":2},\"yaxis\":{\"gridcolor\":\"white\",\"linecolor\":\"white\",\"ticks\":\"\",\"title\":{\"standoff\":15},\"zerolinecolor\":\"white\",\"automargin\":true,\"zerolinewidth\":2},\"scene\":{\"xaxis\":{\"backgroundcolor\":\"#E5ECF6\",\"gridcolor\":\"white\",\"linecolor\":\"white\",\"showbackground\":true,\"ticks\":\"\",\"zerolinecolor\":\"white\",\"gridwidth\":2},\"yaxis\":{\"backgroundcolor\":\"#E5ECF6\",\"gridcolor\":\"white\",\"linecolor\":\"white\",\"showbackground\":true,\"ticks\":\"\",\"zerolinecolor\":\"white\",\"gridwidth\":2},\"zaxis\":{\"backgroundcolor\":\"#E5ECF6\",\"gridcolor\":\"white\",\"linecolor\":\"white\",\"showbackground\":true,\"ticks\":\"\",\"zerolinecolor\":\"white\",\"gridwidth\":2}},\"shapedefaults\":{\"line\":{\"color\":\"#2a3f5f\"}},\"annotationdefaults\":{\"arrowcolor\":\"#2a3f5f\",\"arrowhead\":0,\"arrowwidth\":1},\"geo\":{\"bgcolor\":\"white\",\"landcolor\":\"#E5ECF6\",\"subunitcolor\":\"white\",\"showland\":true,\"showlakes\":true,\"lakecolor\":\"white\"},\"title\":{\"x\":0.05},\"mapbox\":{\"style\":\"light\"}}},\"xaxis\":{\"anchor\":\"y\",\"domain\":[0.0,1.0],\"scaleanchor\":\"y\",\"constrain\":\"domain\"},\"yaxis\":{\"anchor\":\"x\",\"domain\":[0.0,1.0],\"autorange\":\"reversed\",\"constrain\":\"domain\"},\"coloraxis\":{\"colorscale\":[[0.0,\"rgb(0, 0, 0)\"],[0.09090909090909091,\"rgb(16, 16, 16)\"],[0.18181818181818182,\"rgb(38, 38, 38)\"],[0.2727272727272727,\"rgb(59, 59, 59)\"],[0.36363636363636365,\"rgb(81, 80, 80)\"],[0.45454545454545453,\"rgb(102, 101, 101)\"],[0.5454545454545454,\"rgb(124, 123, 122)\"],[0.6363636363636364,\"rgb(146, 146, 145)\"],[0.7272727272727273,\"rgb(171, 171, 170)\"],[0.8181818181818182,\"rgb(197, 197, 195)\"],[0.9090909090909091,\"rgb(224, 224, 223)\"],[1.0,\"rgb(254, 254, 253)\"]]},\"title\":{\"text\":\"[1, 2, 0]\"},\"height\":400,\"width\":400},                        {\"responsive\": true}                    ).then(function(){\n",
       "                            \n",
       "var gd = document.getElementById('2afa43ef-6e22-4fa1-a883-579a786d6d42');\n",
       "var x = new MutationObserver(function (mutations, observer) {{\n",
       "        var display = window.getComputedStyle(gd).display;\n",
       "        if (!display || display === 'none') {{\n",
       "            console.log([gd, 'removed!']);\n",
       "            Plotly.purge(gd);\n",
       "            observer.disconnect();\n",
       "        }}\n",
       "}});\n",
       "\n",
       "// Listen for the removal of the full notebook cells\n",
       "var notebookContainer = gd.closest('#notebook-container');\n",
       "if (notebookContainer) {{\n",
       "    x.observe(notebookContainer, {childList: true});\n",
       "}}\n",
       "\n",
       "// Listen for the clearing of the current output cell\n",
       "var outputEl = gd.closest('.output');\n",
       "if (outputEl) {{\n",
       "    x.observe(outputEl, {childList: true});\n",
       "}}\n",
       "\n",
       "                        })                };                });            </script>        </div>"
      ]
     },
     "metadata": {},
     "output_type": "display_data"
    },
    {
     "name": "stdout",
     "output_type": "stream",
     "text": [
      "Optimal move is 1 sticks from heap 1, which is action 0.\n"
     ]
    },
    {
     "data": {
      "application/vnd.plotly.v1+json": {
       "config": {
        "plotlyServerURL": "https://plot.ly"
       },
       "data": [
        {
         "coloraxis": "coloraxis",
         "hovertemplate": "x: %{x}<br>y: %{y}<br>color: %{z}<extra></extra>",
         "name": "0",
         "type": "heatmap",
         "xaxis": "x",
         "yaxis": "y",
         "z": [
          [
           -0.9999999999999996
          ],
          [
           -0.9999999999999996
          ]
         ]
        }
       ],
       "layout": {
        "coloraxis": {
         "colorscale": [
          [
           0,
           "rgb(0, 0, 0)"
          ],
          [
           0.09090909090909091,
           "rgb(16, 16, 16)"
          ],
          [
           0.18181818181818182,
           "rgb(38, 38, 38)"
          ],
          [
           0.2727272727272727,
           "rgb(59, 59, 59)"
          ],
          [
           0.36363636363636365,
           "rgb(81, 80, 80)"
          ],
          [
           0.45454545454545453,
           "rgb(102, 101, 101)"
          ],
          [
           0.5454545454545454,
           "rgb(124, 123, 122)"
          ],
          [
           0.6363636363636364,
           "rgb(146, 146, 145)"
          ],
          [
           0.7272727272727273,
           "rgb(171, 171, 170)"
          ],
          [
           0.8181818181818182,
           "rgb(197, 197, 195)"
          ],
          [
           0.9090909090909091,
           "rgb(224, 224, 223)"
          ],
          [
           1,
           "rgb(254, 254, 253)"
          ]
         ]
        },
        "height": 400,
        "template": {
         "data": {
          "bar": [
           {
            "error_x": {
             "color": "#2a3f5f"
            },
            "error_y": {
             "color": "#2a3f5f"
            },
            "marker": {
             "line": {
              "color": "#E5ECF6",
              "width": 0.5
             },
             "pattern": {
              "fillmode": "overlay",
              "size": 10,
              "solidity": 0.2
             }
            },
            "type": "bar"
           }
          ],
          "barpolar": [
           {
            "marker": {
             "line": {
              "color": "#E5ECF6",
              "width": 0.5
             },
             "pattern": {
              "fillmode": "overlay",
              "size": 10,
              "solidity": 0.2
             }
            },
            "type": "barpolar"
           }
          ],
          "carpet": [
           {
            "aaxis": {
             "endlinecolor": "#2a3f5f",
             "gridcolor": "white",
             "linecolor": "white",
             "minorgridcolor": "white",
             "startlinecolor": "#2a3f5f"
            },
            "baxis": {
             "endlinecolor": "#2a3f5f",
             "gridcolor": "white",
             "linecolor": "white",
             "minorgridcolor": "white",
             "startlinecolor": "#2a3f5f"
            },
            "type": "carpet"
           }
          ],
          "choropleth": [
           {
            "colorbar": {
             "outlinewidth": 0,
             "ticks": ""
            },
            "type": "choropleth"
           }
          ],
          "contour": [
           {
            "colorbar": {
             "outlinewidth": 0,
             "ticks": ""
            },
            "colorscale": [
             [
              0,
              "#0d0887"
             ],
             [
              0.1111111111111111,
              "#46039f"
             ],
             [
              0.2222222222222222,
              "#7201a8"
             ],
             [
              0.3333333333333333,
              "#9c179e"
             ],
             [
              0.4444444444444444,
              "#bd3786"
             ],
             [
              0.5555555555555556,
              "#d8576b"
             ],
             [
              0.6666666666666666,
              "#ed7953"
             ],
             [
              0.7777777777777778,
              "#fb9f3a"
             ],
             [
              0.8888888888888888,
              "#fdca26"
             ],
             [
              1,
              "#f0f921"
             ]
            ],
            "type": "contour"
           }
          ],
          "contourcarpet": [
           {
            "colorbar": {
             "outlinewidth": 0,
             "ticks": ""
            },
            "type": "contourcarpet"
           }
          ],
          "heatmap": [
           {
            "colorbar": {
             "outlinewidth": 0,
             "ticks": ""
            },
            "colorscale": [
             [
              0,
              "#0d0887"
             ],
             [
              0.1111111111111111,
              "#46039f"
             ],
             [
              0.2222222222222222,
              "#7201a8"
             ],
             [
              0.3333333333333333,
              "#9c179e"
             ],
             [
              0.4444444444444444,
              "#bd3786"
             ],
             [
              0.5555555555555556,
              "#d8576b"
             ],
             [
              0.6666666666666666,
              "#ed7953"
             ],
             [
              0.7777777777777778,
              "#fb9f3a"
             ],
             [
              0.8888888888888888,
              "#fdca26"
             ],
             [
              1,
              "#f0f921"
             ]
            ],
            "type": "heatmap"
           }
          ],
          "heatmapgl": [
           {
            "colorbar": {
             "outlinewidth": 0,
             "ticks": ""
            },
            "colorscale": [
             [
              0,
              "#0d0887"
             ],
             [
              0.1111111111111111,
              "#46039f"
             ],
             [
              0.2222222222222222,
              "#7201a8"
             ],
             [
              0.3333333333333333,
              "#9c179e"
             ],
             [
              0.4444444444444444,
              "#bd3786"
             ],
             [
              0.5555555555555556,
              "#d8576b"
             ],
             [
              0.6666666666666666,
              "#ed7953"
             ],
             [
              0.7777777777777778,
              "#fb9f3a"
             ],
             [
              0.8888888888888888,
              "#fdca26"
             ],
             [
              1,
              "#f0f921"
             ]
            ],
            "type": "heatmapgl"
           }
          ],
          "histogram": [
           {
            "marker": {
             "pattern": {
              "fillmode": "overlay",
              "size": 10,
              "solidity": 0.2
             }
            },
            "type": "histogram"
           }
          ],
          "histogram2d": [
           {
            "colorbar": {
             "outlinewidth": 0,
             "ticks": ""
            },
            "colorscale": [
             [
              0,
              "#0d0887"
             ],
             [
              0.1111111111111111,
              "#46039f"
             ],
             [
              0.2222222222222222,
              "#7201a8"
             ],
             [
              0.3333333333333333,
              "#9c179e"
             ],
             [
              0.4444444444444444,
              "#bd3786"
             ],
             [
              0.5555555555555556,
              "#d8576b"
             ],
             [
              0.6666666666666666,
              "#ed7953"
             ],
             [
              0.7777777777777778,
              "#fb9f3a"
             ],
             [
              0.8888888888888888,
              "#fdca26"
             ],
             [
              1,
              "#f0f921"
             ]
            ],
            "type": "histogram2d"
           }
          ],
          "histogram2dcontour": [
           {
            "colorbar": {
             "outlinewidth": 0,
             "ticks": ""
            },
            "colorscale": [
             [
              0,
              "#0d0887"
             ],
             [
              0.1111111111111111,
              "#46039f"
             ],
             [
              0.2222222222222222,
              "#7201a8"
             ],
             [
              0.3333333333333333,
              "#9c179e"
             ],
             [
              0.4444444444444444,
              "#bd3786"
             ],
             [
              0.5555555555555556,
              "#d8576b"
             ],
             [
              0.6666666666666666,
              "#ed7953"
             ],
             [
              0.7777777777777778,
              "#fb9f3a"
             ],
             [
              0.8888888888888888,
              "#fdca26"
             ],
             [
              1,
              "#f0f921"
             ]
            ],
            "type": "histogram2dcontour"
           }
          ],
          "mesh3d": [
           {
            "colorbar": {
             "outlinewidth": 0,
             "ticks": ""
            },
            "type": "mesh3d"
           }
          ],
          "parcoords": [
           {
            "line": {
             "colorbar": {
              "outlinewidth": 0,
              "ticks": ""
             }
            },
            "type": "parcoords"
           }
          ],
          "pie": [
           {
            "automargin": true,
            "type": "pie"
           }
          ],
          "scatter": [
           {
            "fillpattern": {
             "fillmode": "overlay",
             "size": 10,
             "solidity": 0.2
            },
            "type": "scatter"
           }
          ],
          "scatter3d": [
           {
            "line": {
             "colorbar": {
              "outlinewidth": 0,
              "ticks": ""
             }
            },
            "marker": {
             "colorbar": {
              "outlinewidth": 0,
              "ticks": ""
             }
            },
            "type": "scatter3d"
           }
          ],
          "scattercarpet": [
           {
            "marker": {
             "colorbar": {
              "outlinewidth": 0,
              "ticks": ""
             }
            },
            "type": "scattercarpet"
           }
          ],
          "scattergeo": [
           {
            "marker": {
             "colorbar": {
              "outlinewidth": 0,
              "ticks": ""
             }
            },
            "type": "scattergeo"
           }
          ],
          "scattergl": [
           {
            "marker": {
             "colorbar": {
              "outlinewidth": 0,
              "ticks": ""
             }
            },
            "type": "scattergl"
           }
          ],
          "scattermapbox": [
           {
            "marker": {
             "colorbar": {
              "outlinewidth": 0,
              "ticks": ""
             }
            },
            "type": "scattermapbox"
           }
          ],
          "scatterpolar": [
           {
            "marker": {
             "colorbar": {
              "outlinewidth": 0,
              "ticks": ""
             }
            },
            "type": "scatterpolar"
           }
          ],
          "scatterpolargl": [
           {
            "marker": {
             "colorbar": {
              "outlinewidth": 0,
              "ticks": ""
             }
            },
            "type": "scatterpolargl"
           }
          ],
          "scatterternary": [
           {
            "marker": {
             "colorbar": {
              "outlinewidth": 0,
              "ticks": ""
             }
            },
            "type": "scatterternary"
           }
          ],
          "surface": [
           {
            "colorbar": {
             "outlinewidth": 0,
             "ticks": ""
            },
            "colorscale": [
             [
              0,
              "#0d0887"
             ],
             [
              0.1111111111111111,
              "#46039f"
             ],
             [
              0.2222222222222222,
              "#7201a8"
             ],
             [
              0.3333333333333333,
              "#9c179e"
             ],
             [
              0.4444444444444444,
              "#bd3786"
             ],
             [
              0.5555555555555556,
              "#d8576b"
             ],
             [
              0.6666666666666666,
              "#ed7953"
             ],
             [
              0.7777777777777778,
              "#fb9f3a"
             ],
             [
              0.8888888888888888,
              "#fdca26"
             ],
             [
              1,
              "#f0f921"
             ]
            ],
            "type": "surface"
           }
          ],
          "table": [
           {
            "cells": {
             "fill": {
              "color": "#EBF0F8"
             },
             "line": {
              "color": "white"
             }
            },
            "header": {
             "fill": {
              "color": "#C8D4E3"
             },
             "line": {
              "color": "white"
             }
            },
            "type": "table"
           }
          ]
         },
         "layout": {
          "annotationdefaults": {
           "arrowcolor": "#2a3f5f",
           "arrowhead": 0,
           "arrowwidth": 1
          },
          "autotypenumbers": "strict",
          "coloraxis": {
           "colorbar": {
            "outlinewidth": 0,
            "ticks": ""
           }
          },
          "colorscale": {
           "diverging": [
            [
             0,
             "#8e0152"
            ],
            [
             0.1,
             "#c51b7d"
            ],
            [
             0.2,
             "#de77ae"
            ],
            [
             0.3,
             "#f1b6da"
            ],
            [
             0.4,
             "#fde0ef"
            ],
            [
             0.5,
             "#f7f7f7"
            ],
            [
             0.6,
             "#e6f5d0"
            ],
            [
             0.7,
             "#b8e186"
            ],
            [
             0.8,
             "#7fbc41"
            ],
            [
             0.9,
             "#4d9221"
            ],
            [
             1,
             "#276419"
            ]
           ],
           "sequential": [
            [
             0,
             "#0d0887"
            ],
            [
             0.1111111111111111,
             "#46039f"
            ],
            [
             0.2222222222222222,
             "#7201a8"
            ],
            [
             0.3333333333333333,
             "#9c179e"
            ],
            [
             0.4444444444444444,
             "#bd3786"
            ],
            [
             0.5555555555555556,
             "#d8576b"
            ],
            [
             0.6666666666666666,
             "#ed7953"
            ],
            [
             0.7777777777777778,
             "#fb9f3a"
            ],
            [
             0.8888888888888888,
             "#fdca26"
            ],
            [
             1,
             "#f0f921"
            ]
           ],
           "sequentialminus": [
            [
             0,
             "#0d0887"
            ],
            [
             0.1111111111111111,
             "#46039f"
            ],
            [
             0.2222222222222222,
             "#7201a8"
            ],
            [
             0.3333333333333333,
             "#9c179e"
            ],
            [
             0.4444444444444444,
             "#bd3786"
            ],
            [
             0.5555555555555556,
             "#d8576b"
            ],
            [
             0.6666666666666666,
             "#ed7953"
            ],
            [
             0.7777777777777778,
             "#fb9f3a"
            ],
            [
             0.8888888888888888,
             "#fdca26"
            ],
            [
             1,
             "#f0f921"
            ]
           ]
          },
          "colorway": [
           "#636efa",
           "#EF553B",
           "#00cc96",
           "#ab63fa",
           "#FFA15A",
           "#19d3f3",
           "#FF6692",
           "#B6E880",
           "#FF97FF",
           "#FECB52"
          ],
          "font": {
           "color": "#2a3f5f"
          },
          "geo": {
           "bgcolor": "white",
           "lakecolor": "white",
           "landcolor": "#E5ECF6",
           "showlakes": true,
           "showland": true,
           "subunitcolor": "white"
          },
          "hoverlabel": {
           "align": "left"
          },
          "hovermode": "closest",
          "mapbox": {
           "style": "light"
          },
          "paper_bgcolor": "white",
          "plot_bgcolor": "#E5ECF6",
          "polar": {
           "angularaxis": {
            "gridcolor": "white",
            "linecolor": "white",
            "ticks": ""
           },
           "bgcolor": "#E5ECF6",
           "radialaxis": {
            "gridcolor": "white",
            "linecolor": "white",
            "ticks": ""
           }
          },
          "scene": {
           "xaxis": {
            "backgroundcolor": "#E5ECF6",
            "gridcolor": "white",
            "gridwidth": 2,
            "linecolor": "white",
            "showbackground": true,
            "ticks": "",
            "zerolinecolor": "white"
           },
           "yaxis": {
            "backgroundcolor": "#E5ECF6",
            "gridcolor": "white",
            "gridwidth": 2,
            "linecolor": "white",
            "showbackground": true,
            "ticks": "",
            "zerolinecolor": "white"
           },
           "zaxis": {
            "backgroundcolor": "#E5ECF6",
            "gridcolor": "white",
            "gridwidth": 2,
            "linecolor": "white",
            "showbackground": true,
            "ticks": "",
            "zerolinecolor": "white"
           }
          },
          "shapedefaults": {
           "line": {
            "color": "#2a3f5f"
           }
          },
          "ternary": {
           "aaxis": {
            "gridcolor": "white",
            "linecolor": "white",
            "ticks": ""
           },
           "baxis": {
            "gridcolor": "white",
            "linecolor": "white",
            "ticks": ""
           },
           "bgcolor": "#E5ECF6",
           "caxis": {
            "gridcolor": "white",
            "linecolor": "white",
            "ticks": ""
           }
          },
          "title": {
           "x": 0.05
          },
          "xaxis": {
           "automargin": true,
           "gridcolor": "white",
           "linecolor": "white",
           "ticks": "",
           "title": {
            "standoff": 15
           },
           "zerolinecolor": "white",
           "zerolinewidth": 2
          },
          "yaxis": {
           "automargin": true,
           "gridcolor": "white",
           "linecolor": "white",
           "ticks": "",
           "title": {
            "standoff": 15
           },
           "zerolinecolor": "white",
           "zerolinewidth": 2
          }
         }
        },
        "title": {
         "text": "[1, 0, 1]"
        },
        "width": 400,
        "xaxis": {
         "anchor": "y",
         "constrain": "domain",
         "domain": [
          0,
          1
         ],
         "scaleanchor": "y"
        },
        "yaxis": {
         "anchor": "x",
         "autorange": "reversed",
         "constrain": "domain",
         "domain": [
          0,
          1
         ]
        }
       }
      },
      "text/html": [
       "<div>                            <div id=\"d6898bfa-e8c1-46ea-9cfc-988c82242956\" class=\"plotly-graph-div\" style=\"height:400px; width:400px;\"></div>            <script type=\"text/javascript\">                require([\"plotly\"], function(Plotly) {                    window.PLOTLYENV=window.PLOTLYENV || {};                                    if (document.getElementById(\"d6898bfa-e8c1-46ea-9cfc-988c82242956\")) {                    Plotly.newPlot(                        \"d6898bfa-e8c1-46ea-9cfc-988c82242956\",                        [{\"coloraxis\":\"coloraxis\",\"name\":\"0\",\"z\":[[-0.9999999999999996],[-0.9999999999999996]],\"type\":\"heatmap\",\"xaxis\":\"x\",\"yaxis\":\"y\",\"hovertemplate\":\"x: %{x}<br>y: %{y}<br>color: %{z}<extra></extra>\"}],                        {\"template\":{\"data\":{\"histogram2dcontour\":[{\"type\":\"histogram2dcontour\",\"colorbar\":{\"outlinewidth\":0,\"ticks\":\"\"},\"colorscale\":[[0.0,\"#0d0887\"],[0.1111111111111111,\"#46039f\"],[0.2222222222222222,\"#7201a8\"],[0.3333333333333333,\"#9c179e\"],[0.4444444444444444,\"#bd3786\"],[0.5555555555555556,\"#d8576b\"],[0.6666666666666666,\"#ed7953\"],[0.7777777777777778,\"#fb9f3a\"],[0.8888888888888888,\"#fdca26\"],[1.0,\"#f0f921\"]]}],\"choropleth\":[{\"type\":\"choropleth\",\"colorbar\":{\"outlinewidth\":0,\"ticks\":\"\"}}],\"histogram2d\":[{\"type\":\"histogram2d\",\"colorbar\":{\"outlinewidth\":0,\"ticks\":\"\"},\"colorscale\":[[0.0,\"#0d0887\"],[0.1111111111111111,\"#46039f\"],[0.2222222222222222,\"#7201a8\"],[0.3333333333333333,\"#9c179e\"],[0.4444444444444444,\"#bd3786\"],[0.5555555555555556,\"#d8576b\"],[0.6666666666666666,\"#ed7953\"],[0.7777777777777778,\"#fb9f3a\"],[0.8888888888888888,\"#fdca26\"],[1.0,\"#f0f921\"]]}],\"heatmap\":[{\"type\":\"heatmap\",\"colorbar\":{\"outlinewidth\":0,\"ticks\":\"\"},\"colorscale\":[[0.0,\"#0d0887\"],[0.1111111111111111,\"#46039f\"],[0.2222222222222222,\"#7201a8\"],[0.3333333333333333,\"#9c179e\"],[0.4444444444444444,\"#bd3786\"],[0.5555555555555556,\"#d8576b\"],[0.6666666666666666,\"#ed7953\"],[0.7777777777777778,\"#fb9f3a\"],[0.8888888888888888,\"#fdca26\"],[1.0,\"#f0f921\"]]}],\"heatmapgl\":[{\"type\":\"heatmapgl\",\"colorbar\":{\"outlinewidth\":0,\"ticks\":\"\"},\"colorscale\":[[0.0,\"#0d0887\"],[0.1111111111111111,\"#46039f\"],[0.2222222222222222,\"#7201a8\"],[0.3333333333333333,\"#9c179e\"],[0.4444444444444444,\"#bd3786\"],[0.5555555555555556,\"#d8576b\"],[0.6666666666666666,\"#ed7953\"],[0.7777777777777778,\"#fb9f3a\"],[0.8888888888888888,\"#fdca26\"],[1.0,\"#f0f921\"]]}],\"contourcarpet\":[{\"type\":\"contourcarpet\",\"colorbar\":{\"outlinewidth\":0,\"ticks\":\"\"}}],\"contour\":[{\"type\":\"contour\",\"colorbar\":{\"outlinewidth\":0,\"ticks\":\"\"},\"colorscale\":[[0.0,\"#0d0887\"],[0.1111111111111111,\"#46039f\"],[0.2222222222222222,\"#7201a8\"],[0.3333333333333333,\"#9c179e\"],[0.4444444444444444,\"#bd3786\"],[0.5555555555555556,\"#d8576b\"],[0.6666666666666666,\"#ed7953\"],[0.7777777777777778,\"#fb9f3a\"],[0.8888888888888888,\"#fdca26\"],[1.0,\"#f0f921\"]]}],\"surface\":[{\"type\":\"surface\",\"colorbar\":{\"outlinewidth\":0,\"ticks\":\"\"},\"colorscale\":[[0.0,\"#0d0887\"],[0.1111111111111111,\"#46039f\"],[0.2222222222222222,\"#7201a8\"],[0.3333333333333333,\"#9c179e\"],[0.4444444444444444,\"#bd3786\"],[0.5555555555555556,\"#d8576b\"],[0.6666666666666666,\"#ed7953\"],[0.7777777777777778,\"#fb9f3a\"],[0.8888888888888888,\"#fdca26\"],[1.0,\"#f0f921\"]]}],\"mesh3d\":[{\"type\":\"mesh3d\",\"colorbar\":{\"outlinewidth\":0,\"ticks\":\"\"}}],\"scatter\":[{\"fillpattern\":{\"fillmode\":\"overlay\",\"size\":10,\"solidity\":0.2},\"type\":\"scatter\"}],\"parcoords\":[{\"type\":\"parcoords\",\"line\":{\"colorbar\":{\"outlinewidth\":0,\"ticks\":\"\"}}}],\"scatterpolargl\":[{\"type\":\"scatterpolargl\",\"marker\":{\"colorbar\":{\"outlinewidth\":0,\"ticks\":\"\"}}}],\"bar\":[{\"error_x\":{\"color\":\"#2a3f5f\"},\"error_y\":{\"color\":\"#2a3f5f\"},\"marker\":{\"line\":{\"color\":\"#E5ECF6\",\"width\":0.5},\"pattern\":{\"fillmode\":\"overlay\",\"size\":10,\"solidity\":0.2}},\"type\":\"bar\"}],\"scattergeo\":[{\"type\":\"scattergeo\",\"marker\":{\"colorbar\":{\"outlinewidth\":0,\"ticks\":\"\"}}}],\"scatterpolar\":[{\"type\":\"scatterpolar\",\"marker\":{\"colorbar\":{\"outlinewidth\":0,\"ticks\":\"\"}}}],\"histogram\":[{\"marker\":{\"pattern\":{\"fillmode\":\"overlay\",\"size\":10,\"solidity\":0.2}},\"type\":\"histogram\"}],\"scattergl\":[{\"type\":\"scattergl\",\"marker\":{\"colorbar\":{\"outlinewidth\":0,\"ticks\":\"\"}}}],\"scatter3d\":[{\"type\":\"scatter3d\",\"line\":{\"colorbar\":{\"outlinewidth\":0,\"ticks\":\"\"}},\"marker\":{\"colorbar\":{\"outlinewidth\":0,\"ticks\":\"\"}}}],\"scattermapbox\":[{\"type\":\"scattermapbox\",\"marker\":{\"colorbar\":{\"outlinewidth\":0,\"ticks\":\"\"}}}],\"scatterternary\":[{\"type\":\"scatterternary\",\"marker\":{\"colorbar\":{\"outlinewidth\":0,\"ticks\":\"\"}}}],\"scattercarpet\":[{\"type\":\"scattercarpet\",\"marker\":{\"colorbar\":{\"outlinewidth\":0,\"ticks\":\"\"}}}],\"carpet\":[{\"aaxis\":{\"endlinecolor\":\"#2a3f5f\",\"gridcolor\":\"white\",\"linecolor\":\"white\",\"minorgridcolor\":\"white\",\"startlinecolor\":\"#2a3f5f\"},\"baxis\":{\"endlinecolor\":\"#2a3f5f\",\"gridcolor\":\"white\",\"linecolor\":\"white\",\"minorgridcolor\":\"white\",\"startlinecolor\":\"#2a3f5f\"},\"type\":\"carpet\"}],\"table\":[{\"cells\":{\"fill\":{\"color\":\"#EBF0F8\"},\"line\":{\"color\":\"white\"}},\"header\":{\"fill\":{\"color\":\"#C8D4E3\"},\"line\":{\"color\":\"white\"}},\"type\":\"table\"}],\"barpolar\":[{\"marker\":{\"line\":{\"color\":\"#E5ECF6\",\"width\":0.5},\"pattern\":{\"fillmode\":\"overlay\",\"size\":10,\"solidity\":0.2}},\"type\":\"barpolar\"}],\"pie\":[{\"automargin\":true,\"type\":\"pie\"}]},\"layout\":{\"autotypenumbers\":\"strict\",\"colorway\":[\"#636efa\",\"#EF553B\",\"#00cc96\",\"#ab63fa\",\"#FFA15A\",\"#19d3f3\",\"#FF6692\",\"#B6E880\",\"#FF97FF\",\"#FECB52\"],\"font\":{\"color\":\"#2a3f5f\"},\"hovermode\":\"closest\",\"hoverlabel\":{\"align\":\"left\"},\"paper_bgcolor\":\"white\",\"plot_bgcolor\":\"#E5ECF6\",\"polar\":{\"bgcolor\":\"#E5ECF6\",\"angularaxis\":{\"gridcolor\":\"white\",\"linecolor\":\"white\",\"ticks\":\"\"},\"radialaxis\":{\"gridcolor\":\"white\",\"linecolor\":\"white\",\"ticks\":\"\"}},\"ternary\":{\"bgcolor\":\"#E5ECF6\",\"aaxis\":{\"gridcolor\":\"white\",\"linecolor\":\"white\",\"ticks\":\"\"},\"baxis\":{\"gridcolor\":\"white\",\"linecolor\":\"white\",\"ticks\":\"\"},\"caxis\":{\"gridcolor\":\"white\",\"linecolor\":\"white\",\"ticks\":\"\"}},\"coloraxis\":{\"colorbar\":{\"outlinewidth\":0,\"ticks\":\"\"}},\"colorscale\":{\"sequential\":[[0.0,\"#0d0887\"],[0.1111111111111111,\"#46039f\"],[0.2222222222222222,\"#7201a8\"],[0.3333333333333333,\"#9c179e\"],[0.4444444444444444,\"#bd3786\"],[0.5555555555555556,\"#d8576b\"],[0.6666666666666666,\"#ed7953\"],[0.7777777777777778,\"#fb9f3a\"],[0.8888888888888888,\"#fdca26\"],[1.0,\"#f0f921\"]],\"sequentialminus\":[[0.0,\"#0d0887\"],[0.1111111111111111,\"#46039f\"],[0.2222222222222222,\"#7201a8\"],[0.3333333333333333,\"#9c179e\"],[0.4444444444444444,\"#bd3786\"],[0.5555555555555556,\"#d8576b\"],[0.6666666666666666,\"#ed7953\"],[0.7777777777777778,\"#fb9f3a\"],[0.8888888888888888,\"#fdca26\"],[1.0,\"#f0f921\"]],\"diverging\":[[0,\"#8e0152\"],[0.1,\"#c51b7d\"],[0.2,\"#de77ae\"],[0.3,\"#f1b6da\"],[0.4,\"#fde0ef\"],[0.5,\"#f7f7f7\"],[0.6,\"#e6f5d0\"],[0.7,\"#b8e186\"],[0.8,\"#7fbc41\"],[0.9,\"#4d9221\"],[1,\"#276419\"]]},\"xaxis\":{\"gridcolor\":\"white\",\"linecolor\":\"white\",\"ticks\":\"\",\"title\":{\"standoff\":15},\"zerolinecolor\":\"white\",\"automargin\":true,\"zerolinewidth\":2},\"yaxis\":{\"gridcolor\":\"white\",\"linecolor\":\"white\",\"ticks\":\"\",\"title\":{\"standoff\":15},\"zerolinecolor\":\"white\",\"automargin\":true,\"zerolinewidth\":2},\"scene\":{\"xaxis\":{\"backgroundcolor\":\"#E5ECF6\",\"gridcolor\":\"white\",\"linecolor\":\"white\",\"showbackground\":true,\"ticks\":\"\",\"zerolinecolor\":\"white\",\"gridwidth\":2},\"yaxis\":{\"backgroundcolor\":\"#E5ECF6\",\"gridcolor\":\"white\",\"linecolor\":\"white\",\"showbackground\":true,\"ticks\":\"\",\"zerolinecolor\":\"white\",\"gridwidth\":2},\"zaxis\":{\"backgroundcolor\":\"#E5ECF6\",\"gridcolor\":\"white\",\"linecolor\":\"white\",\"showbackground\":true,\"ticks\":\"\",\"zerolinecolor\":\"white\",\"gridwidth\":2}},\"shapedefaults\":{\"line\":{\"color\":\"#2a3f5f\"}},\"annotationdefaults\":{\"arrowcolor\":\"#2a3f5f\",\"arrowhead\":0,\"arrowwidth\":1},\"geo\":{\"bgcolor\":\"white\",\"landcolor\":\"#E5ECF6\",\"subunitcolor\":\"white\",\"showland\":true,\"showlakes\":true,\"lakecolor\":\"white\"},\"title\":{\"x\":0.05},\"mapbox\":{\"style\":\"light\"}}},\"xaxis\":{\"anchor\":\"y\",\"domain\":[0.0,1.0],\"scaleanchor\":\"y\",\"constrain\":\"domain\"},\"yaxis\":{\"anchor\":\"x\",\"domain\":[0.0,1.0],\"autorange\":\"reversed\",\"constrain\":\"domain\"},\"coloraxis\":{\"colorscale\":[[0.0,\"rgb(0, 0, 0)\"],[0.09090909090909091,\"rgb(16, 16, 16)\"],[0.18181818181818182,\"rgb(38, 38, 38)\"],[0.2727272727272727,\"rgb(59, 59, 59)\"],[0.36363636363636365,\"rgb(81, 80, 80)\"],[0.45454545454545453,\"rgb(102, 101, 101)\"],[0.5454545454545454,\"rgb(124, 123, 122)\"],[0.6363636363636364,\"rgb(146, 146, 145)\"],[0.7272727272727273,\"rgb(171, 171, 170)\"],[0.8181818181818182,\"rgb(197, 197, 195)\"],[0.9090909090909091,\"rgb(224, 224, 223)\"],[1.0,\"rgb(254, 254, 253)\"]]},\"title\":{\"text\":\"[1, 0, 1]\"},\"height\":400,\"width\":400},                        {\"responsive\": true}                    ).then(function(){\n",
       "                            \n",
       "var gd = document.getElementById('d6898bfa-e8c1-46ea-9cfc-988c82242956');\n",
       "var x = new MutationObserver(function (mutations, observer) {{\n",
       "        var display = window.getComputedStyle(gd).display;\n",
       "        if (!display || display === 'none') {{\n",
       "            console.log([gd, 'removed!']);\n",
       "            Plotly.purge(gd);\n",
       "            observer.disconnect();\n",
       "        }}\n",
       "}});\n",
       "\n",
       "// Listen for the removal of the full notebook cells\n",
       "var notebookContainer = gd.closest('#notebook-container');\n",
       "if (notebookContainer) {{\n",
       "    x.observe(notebookContainer, {childList: true});\n",
       "}}\n",
       "\n",
       "// Listen for the clearing of the current output cell\n",
       "var outputEl = gd.closest('.output');\n",
       "if (outputEl) {{\n",
       "    x.observe(outputEl, {childList: true});\n",
       "}}\n",
       "\n",
       "                        })                };                });            </script>        </div>"
      ]
     },
     "metadata": {},
     "output_type": "display_data"
    },
    {
     "name": "stdout",
     "output_type": "stream",
     "text": [
      "Optimal move is 1 sticks from heap 2, which is action 2.\n"
     ]
    },
    {
     "data": {
      "application/vnd.plotly.v1+json": {
       "config": {
        "plotlyServerURL": "https://plot.ly"
       },
       "data": [
        {
         "coloraxis": "coloraxis",
         "hovertemplate": "x: %{x}<br>y: %{y}<br>color: %{z}<extra></extra>",
         "name": "0",
         "type": "heatmap",
         "xaxis": "x",
         "yaxis": "y",
         "z": [
          [
           -0.24126077832708956
          ],
          [
           -0.4456733052890879
          ],
          [
           -0.4582925059822104
          ],
          [
           -0.4696610346355932
          ],
          [
           -0.5265428675627968
          ],
          [
           -0.4974086909913621
          ],
          [
           -0.5128755991879884
          ],
          [
           -0.5992315761569412
          ],
          [
           -0.5217155345809836
          ],
          [
           -0.6595910150790196
          ],
          [
           -0.4849016365013245
          ],
          [
           -0.6380198750121368
          ]
         ]
        }
       ],
       "layout": {
        "coloraxis": {
         "colorscale": [
          [
           0,
           "rgb(0, 0, 0)"
          ],
          [
           0.09090909090909091,
           "rgb(16, 16, 16)"
          ],
          [
           0.18181818181818182,
           "rgb(38, 38, 38)"
          ],
          [
           0.2727272727272727,
           "rgb(59, 59, 59)"
          ],
          [
           0.36363636363636365,
           "rgb(81, 80, 80)"
          ],
          [
           0.45454545454545453,
           "rgb(102, 101, 101)"
          ],
          [
           0.5454545454545454,
           "rgb(124, 123, 122)"
          ],
          [
           0.6363636363636364,
           "rgb(146, 146, 145)"
          ],
          [
           0.7272727272727273,
           "rgb(171, 171, 170)"
          ],
          [
           0.8181818181818182,
           "rgb(197, 197, 195)"
          ],
          [
           0.9090909090909091,
           "rgb(224, 224, 223)"
          ],
          [
           1,
           "rgb(254, 254, 253)"
          ]
         ]
        },
        "height": 400,
        "template": {
         "data": {
          "bar": [
           {
            "error_x": {
             "color": "#2a3f5f"
            },
            "error_y": {
             "color": "#2a3f5f"
            },
            "marker": {
             "line": {
              "color": "#E5ECF6",
              "width": 0.5
             },
             "pattern": {
              "fillmode": "overlay",
              "size": 10,
              "solidity": 0.2
             }
            },
            "type": "bar"
           }
          ],
          "barpolar": [
           {
            "marker": {
             "line": {
              "color": "#E5ECF6",
              "width": 0.5
             },
             "pattern": {
              "fillmode": "overlay",
              "size": 10,
              "solidity": 0.2
             }
            },
            "type": "barpolar"
           }
          ],
          "carpet": [
           {
            "aaxis": {
             "endlinecolor": "#2a3f5f",
             "gridcolor": "white",
             "linecolor": "white",
             "minorgridcolor": "white",
             "startlinecolor": "#2a3f5f"
            },
            "baxis": {
             "endlinecolor": "#2a3f5f",
             "gridcolor": "white",
             "linecolor": "white",
             "minorgridcolor": "white",
             "startlinecolor": "#2a3f5f"
            },
            "type": "carpet"
           }
          ],
          "choropleth": [
           {
            "colorbar": {
             "outlinewidth": 0,
             "ticks": ""
            },
            "type": "choropleth"
           }
          ],
          "contour": [
           {
            "colorbar": {
             "outlinewidth": 0,
             "ticks": ""
            },
            "colorscale": [
             [
              0,
              "#0d0887"
             ],
             [
              0.1111111111111111,
              "#46039f"
             ],
             [
              0.2222222222222222,
              "#7201a8"
             ],
             [
              0.3333333333333333,
              "#9c179e"
             ],
             [
              0.4444444444444444,
              "#bd3786"
             ],
             [
              0.5555555555555556,
              "#d8576b"
             ],
             [
              0.6666666666666666,
              "#ed7953"
             ],
             [
              0.7777777777777778,
              "#fb9f3a"
             ],
             [
              0.8888888888888888,
              "#fdca26"
             ],
             [
              1,
              "#f0f921"
             ]
            ],
            "type": "contour"
           }
          ],
          "contourcarpet": [
           {
            "colorbar": {
             "outlinewidth": 0,
             "ticks": ""
            },
            "type": "contourcarpet"
           }
          ],
          "heatmap": [
           {
            "colorbar": {
             "outlinewidth": 0,
             "ticks": ""
            },
            "colorscale": [
             [
              0,
              "#0d0887"
             ],
             [
              0.1111111111111111,
              "#46039f"
             ],
             [
              0.2222222222222222,
              "#7201a8"
             ],
             [
              0.3333333333333333,
              "#9c179e"
             ],
             [
              0.4444444444444444,
              "#bd3786"
             ],
             [
              0.5555555555555556,
              "#d8576b"
             ],
             [
              0.6666666666666666,
              "#ed7953"
             ],
             [
              0.7777777777777778,
              "#fb9f3a"
             ],
             [
              0.8888888888888888,
              "#fdca26"
             ],
             [
              1,
              "#f0f921"
             ]
            ],
            "type": "heatmap"
           }
          ],
          "heatmapgl": [
           {
            "colorbar": {
             "outlinewidth": 0,
             "ticks": ""
            },
            "colorscale": [
             [
              0,
              "#0d0887"
             ],
             [
              0.1111111111111111,
              "#46039f"
             ],
             [
              0.2222222222222222,
              "#7201a8"
             ],
             [
              0.3333333333333333,
              "#9c179e"
             ],
             [
              0.4444444444444444,
              "#bd3786"
             ],
             [
              0.5555555555555556,
              "#d8576b"
             ],
             [
              0.6666666666666666,
              "#ed7953"
             ],
             [
              0.7777777777777778,
              "#fb9f3a"
             ],
             [
              0.8888888888888888,
              "#fdca26"
             ],
             [
              1,
              "#f0f921"
             ]
            ],
            "type": "heatmapgl"
           }
          ],
          "histogram": [
           {
            "marker": {
             "pattern": {
              "fillmode": "overlay",
              "size": 10,
              "solidity": 0.2
             }
            },
            "type": "histogram"
           }
          ],
          "histogram2d": [
           {
            "colorbar": {
             "outlinewidth": 0,
             "ticks": ""
            },
            "colorscale": [
             [
              0,
              "#0d0887"
             ],
             [
              0.1111111111111111,
              "#46039f"
             ],
             [
              0.2222222222222222,
              "#7201a8"
             ],
             [
              0.3333333333333333,
              "#9c179e"
             ],
             [
              0.4444444444444444,
              "#bd3786"
             ],
             [
              0.5555555555555556,
              "#d8576b"
             ],
             [
              0.6666666666666666,
              "#ed7953"
             ],
             [
              0.7777777777777778,
              "#fb9f3a"
             ],
             [
              0.8888888888888888,
              "#fdca26"
             ],
             [
              1,
              "#f0f921"
             ]
            ],
            "type": "histogram2d"
           }
          ],
          "histogram2dcontour": [
           {
            "colorbar": {
             "outlinewidth": 0,
             "ticks": ""
            },
            "colorscale": [
             [
              0,
              "#0d0887"
             ],
             [
              0.1111111111111111,
              "#46039f"
             ],
             [
              0.2222222222222222,
              "#7201a8"
             ],
             [
              0.3333333333333333,
              "#9c179e"
             ],
             [
              0.4444444444444444,
              "#bd3786"
             ],
             [
              0.5555555555555556,
              "#d8576b"
             ],
             [
              0.6666666666666666,
              "#ed7953"
             ],
             [
              0.7777777777777778,
              "#fb9f3a"
             ],
             [
              0.8888888888888888,
              "#fdca26"
             ],
             [
              1,
              "#f0f921"
             ]
            ],
            "type": "histogram2dcontour"
           }
          ],
          "mesh3d": [
           {
            "colorbar": {
             "outlinewidth": 0,
             "ticks": ""
            },
            "type": "mesh3d"
           }
          ],
          "parcoords": [
           {
            "line": {
             "colorbar": {
              "outlinewidth": 0,
              "ticks": ""
             }
            },
            "type": "parcoords"
           }
          ],
          "pie": [
           {
            "automargin": true,
            "type": "pie"
           }
          ],
          "scatter": [
           {
            "fillpattern": {
             "fillmode": "overlay",
             "size": 10,
             "solidity": 0.2
            },
            "type": "scatter"
           }
          ],
          "scatter3d": [
           {
            "line": {
             "colorbar": {
              "outlinewidth": 0,
              "ticks": ""
             }
            },
            "marker": {
             "colorbar": {
              "outlinewidth": 0,
              "ticks": ""
             }
            },
            "type": "scatter3d"
           }
          ],
          "scattercarpet": [
           {
            "marker": {
             "colorbar": {
              "outlinewidth": 0,
              "ticks": ""
             }
            },
            "type": "scattercarpet"
           }
          ],
          "scattergeo": [
           {
            "marker": {
             "colorbar": {
              "outlinewidth": 0,
              "ticks": ""
             }
            },
            "type": "scattergeo"
           }
          ],
          "scattergl": [
           {
            "marker": {
             "colorbar": {
              "outlinewidth": 0,
              "ticks": ""
             }
            },
            "type": "scattergl"
           }
          ],
          "scattermapbox": [
           {
            "marker": {
             "colorbar": {
              "outlinewidth": 0,
              "ticks": ""
             }
            },
            "type": "scattermapbox"
           }
          ],
          "scatterpolar": [
           {
            "marker": {
             "colorbar": {
              "outlinewidth": 0,
              "ticks": ""
             }
            },
            "type": "scatterpolar"
           }
          ],
          "scatterpolargl": [
           {
            "marker": {
             "colorbar": {
              "outlinewidth": 0,
              "ticks": ""
             }
            },
            "type": "scatterpolargl"
           }
          ],
          "scatterternary": [
           {
            "marker": {
             "colorbar": {
              "outlinewidth": 0,
              "ticks": ""
             }
            },
            "type": "scatterternary"
           }
          ],
          "surface": [
           {
            "colorbar": {
             "outlinewidth": 0,
             "ticks": ""
            },
            "colorscale": [
             [
              0,
              "#0d0887"
             ],
             [
              0.1111111111111111,
              "#46039f"
             ],
             [
              0.2222222222222222,
              "#7201a8"
             ],
             [
              0.3333333333333333,
              "#9c179e"
             ],
             [
              0.4444444444444444,
              "#bd3786"
             ],
             [
              0.5555555555555556,
              "#d8576b"
             ],
             [
              0.6666666666666666,
              "#ed7953"
             ],
             [
              0.7777777777777778,
              "#fb9f3a"
             ],
             [
              0.8888888888888888,
              "#fdca26"
             ],
             [
              1,
              "#f0f921"
             ]
            ],
            "type": "surface"
           }
          ],
          "table": [
           {
            "cells": {
             "fill": {
              "color": "#EBF0F8"
             },
             "line": {
              "color": "white"
             }
            },
            "header": {
             "fill": {
              "color": "#C8D4E3"
             },
             "line": {
              "color": "white"
             }
            },
            "type": "table"
           }
          ]
         },
         "layout": {
          "annotationdefaults": {
           "arrowcolor": "#2a3f5f",
           "arrowhead": 0,
           "arrowwidth": 1
          },
          "autotypenumbers": "strict",
          "coloraxis": {
           "colorbar": {
            "outlinewidth": 0,
            "ticks": ""
           }
          },
          "colorscale": {
           "diverging": [
            [
             0,
             "#8e0152"
            ],
            [
             0.1,
             "#c51b7d"
            ],
            [
             0.2,
             "#de77ae"
            ],
            [
             0.3,
             "#f1b6da"
            ],
            [
             0.4,
             "#fde0ef"
            ],
            [
             0.5,
             "#f7f7f7"
            ],
            [
             0.6,
             "#e6f5d0"
            ],
            [
             0.7,
             "#b8e186"
            ],
            [
             0.8,
             "#7fbc41"
            ],
            [
             0.9,
             "#4d9221"
            ],
            [
             1,
             "#276419"
            ]
           ],
           "sequential": [
            [
             0,
             "#0d0887"
            ],
            [
             0.1111111111111111,
             "#46039f"
            ],
            [
             0.2222222222222222,
             "#7201a8"
            ],
            [
             0.3333333333333333,
             "#9c179e"
            ],
            [
             0.4444444444444444,
             "#bd3786"
            ],
            [
             0.5555555555555556,
             "#d8576b"
            ],
            [
             0.6666666666666666,
             "#ed7953"
            ],
            [
             0.7777777777777778,
             "#fb9f3a"
            ],
            [
             0.8888888888888888,
             "#fdca26"
            ],
            [
             1,
             "#f0f921"
            ]
           ],
           "sequentialminus": [
            [
             0,
             "#0d0887"
            ],
            [
             0.1111111111111111,
             "#46039f"
            ],
            [
             0.2222222222222222,
             "#7201a8"
            ],
            [
             0.3333333333333333,
             "#9c179e"
            ],
            [
             0.4444444444444444,
             "#bd3786"
            ],
            [
             0.5555555555555556,
             "#d8576b"
            ],
            [
             0.6666666666666666,
             "#ed7953"
            ],
            [
             0.7777777777777778,
             "#fb9f3a"
            ],
            [
             0.8888888888888888,
             "#fdca26"
            ],
            [
             1,
             "#f0f921"
            ]
           ]
          },
          "colorway": [
           "#636efa",
           "#EF553B",
           "#00cc96",
           "#ab63fa",
           "#FFA15A",
           "#19d3f3",
           "#FF6692",
           "#B6E880",
           "#FF97FF",
           "#FECB52"
          ],
          "font": {
           "color": "#2a3f5f"
          },
          "geo": {
           "bgcolor": "white",
           "lakecolor": "white",
           "landcolor": "#E5ECF6",
           "showlakes": true,
           "showland": true,
           "subunitcolor": "white"
          },
          "hoverlabel": {
           "align": "left"
          },
          "hovermode": "closest",
          "mapbox": {
           "style": "light"
          },
          "paper_bgcolor": "white",
          "plot_bgcolor": "#E5ECF6",
          "polar": {
           "angularaxis": {
            "gridcolor": "white",
            "linecolor": "white",
            "ticks": ""
           },
           "bgcolor": "#E5ECF6",
           "radialaxis": {
            "gridcolor": "white",
            "linecolor": "white",
            "ticks": ""
           }
          },
          "scene": {
           "xaxis": {
            "backgroundcolor": "#E5ECF6",
            "gridcolor": "white",
            "gridwidth": 2,
            "linecolor": "white",
            "showbackground": true,
            "ticks": "",
            "zerolinecolor": "white"
           },
           "yaxis": {
            "backgroundcolor": "#E5ECF6",
            "gridcolor": "white",
            "gridwidth": 2,
            "linecolor": "white",
            "showbackground": true,
            "ticks": "",
            "zerolinecolor": "white"
           },
           "zaxis": {
            "backgroundcolor": "#E5ECF6",
            "gridcolor": "white",
            "gridwidth": 2,
            "linecolor": "white",
            "showbackground": true,
            "ticks": "",
            "zerolinecolor": "white"
           }
          },
          "shapedefaults": {
           "line": {
            "color": "#2a3f5f"
           }
          },
          "ternary": {
           "aaxis": {
            "gridcolor": "white",
            "linecolor": "white",
            "ticks": ""
           },
           "baxis": {
            "gridcolor": "white",
            "linecolor": "white",
            "ticks": ""
           },
           "bgcolor": "#E5ECF6",
           "caxis": {
            "gridcolor": "white",
            "linecolor": "white",
            "ticks": ""
           }
          },
          "title": {
           "x": 0.05
          },
          "xaxis": {
           "automargin": true,
           "gridcolor": "white",
           "linecolor": "white",
           "ticks": "",
           "title": {
            "standoff": 15
           },
           "zerolinecolor": "white",
           "zerolinewidth": 2
          },
          "yaxis": {
           "automargin": true,
           "gridcolor": "white",
           "linecolor": "white",
           "ticks": "",
           "title": {
            "standoff": 15
           },
           "zerolinecolor": "white",
           "zerolinewidth": 2
          }
         }
        },
        "title": {
         "text": "[2, 6, 4]"
        },
        "width": 400,
        "xaxis": {
         "anchor": "y",
         "constrain": "domain",
         "domain": [
          0,
          1
         ],
         "scaleanchor": "y"
        },
        "yaxis": {
         "anchor": "x",
         "autorange": "reversed",
         "constrain": "domain",
         "domain": [
          0,
          1
         ]
        }
       }
      },
      "text/html": [
       "<div>                            <div id=\"6bf592e5-42b3-498e-93f9-cfe1de102989\" class=\"plotly-graph-div\" style=\"height:400px; width:400px;\"></div>            <script type=\"text/javascript\">                require([\"plotly\"], function(Plotly) {                    window.PLOTLYENV=window.PLOTLYENV || {};                                    if (document.getElementById(\"6bf592e5-42b3-498e-93f9-cfe1de102989\")) {                    Plotly.newPlot(                        \"6bf592e5-42b3-498e-93f9-cfe1de102989\",                        [{\"coloraxis\":\"coloraxis\",\"name\":\"0\",\"z\":[[-0.24126077832708956],[-0.4456733052890879],[-0.4582925059822104],[-0.4696610346355932],[-0.5265428675627968],[-0.4974086909913621],[-0.5128755991879884],[-0.5992315761569412],[-0.5217155345809836],[-0.6595910150790196],[-0.4849016365013245],[-0.6380198750121368]],\"type\":\"heatmap\",\"xaxis\":\"x\",\"yaxis\":\"y\",\"hovertemplate\":\"x: %{x}<br>y: %{y}<br>color: %{z}<extra></extra>\"}],                        {\"template\":{\"data\":{\"histogram2dcontour\":[{\"type\":\"histogram2dcontour\",\"colorbar\":{\"outlinewidth\":0,\"ticks\":\"\"},\"colorscale\":[[0.0,\"#0d0887\"],[0.1111111111111111,\"#46039f\"],[0.2222222222222222,\"#7201a8\"],[0.3333333333333333,\"#9c179e\"],[0.4444444444444444,\"#bd3786\"],[0.5555555555555556,\"#d8576b\"],[0.6666666666666666,\"#ed7953\"],[0.7777777777777778,\"#fb9f3a\"],[0.8888888888888888,\"#fdca26\"],[1.0,\"#f0f921\"]]}],\"choropleth\":[{\"type\":\"choropleth\",\"colorbar\":{\"outlinewidth\":0,\"ticks\":\"\"}}],\"histogram2d\":[{\"type\":\"histogram2d\",\"colorbar\":{\"outlinewidth\":0,\"ticks\":\"\"},\"colorscale\":[[0.0,\"#0d0887\"],[0.1111111111111111,\"#46039f\"],[0.2222222222222222,\"#7201a8\"],[0.3333333333333333,\"#9c179e\"],[0.4444444444444444,\"#bd3786\"],[0.5555555555555556,\"#d8576b\"],[0.6666666666666666,\"#ed7953\"],[0.7777777777777778,\"#fb9f3a\"],[0.8888888888888888,\"#fdca26\"],[1.0,\"#f0f921\"]]}],\"heatmap\":[{\"type\":\"heatmap\",\"colorbar\":{\"outlinewidth\":0,\"ticks\":\"\"},\"colorscale\":[[0.0,\"#0d0887\"],[0.1111111111111111,\"#46039f\"],[0.2222222222222222,\"#7201a8\"],[0.3333333333333333,\"#9c179e\"],[0.4444444444444444,\"#bd3786\"],[0.5555555555555556,\"#d8576b\"],[0.6666666666666666,\"#ed7953\"],[0.7777777777777778,\"#fb9f3a\"],[0.8888888888888888,\"#fdca26\"],[1.0,\"#f0f921\"]]}],\"heatmapgl\":[{\"type\":\"heatmapgl\",\"colorbar\":{\"outlinewidth\":0,\"ticks\":\"\"},\"colorscale\":[[0.0,\"#0d0887\"],[0.1111111111111111,\"#46039f\"],[0.2222222222222222,\"#7201a8\"],[0.3333333333333333,\"#9c179e\"],[0.4444444444444444,\"#bd3786\"],[0.5555555555555556,\"#d8576b\"],[0.6666666666666666,\"#ed7953\"],[0.7777777777777778,\"#fb9f3a\"],[0.8888888888888888,\"#fdca26\"],[1.0,\"#f0f921\"]]}],\"contourcarpet\":[{\"type\":\"contourcarpet\",\"colorbar\":{\"outlinewidth\":0,\"ticks\":\"\"}}],\"contour\":[{\"type\":\"contour\",\"colorbar\":{\"outlinewidth\":0,\"ticks\":\"\"},\"colorscale\":[[0.0,\"#0d0887\"],[0.1111111111111111,\"#46039f\"],[0.2222222222222222,\"#7201a8\"],[0.3333333333333333,\"#9c179e\"],[0.4444444444444444,\"#bd3786\"],[0.5555555555555556,\"#d8576b\"],[0.6666666666666666,\"#ed7953\"],[0.7777777777777778,\"#fb9f3a\"],[0.8888888888888888,\"#fdca26\"],[1.0,\"#f0f921\"]]}],\"surface\":[{\"type\":\"surface\",\"colorbar\":{\"outlinewidth\":0,\"ticks\":\"\"},\"colorscale\":[[0.0,\"#0d0887\"],[0.1111111111111111,\"#46039f\"],[0.2222222222222222,\"#7201a8\"],[0.3333333333333333,\"#9c179e\"],[0.4444444444444444,\"#bd3786\"],[0.5555555555555556,\"#d8576b\"],[0.6666666666666666,\"#ed7953\"],[0.7777777777777778,\"#fb9f3a\"],[0.8888888888888888,\"#fdca26\"],[1.0,\"#f0f921\"]]}],\"mesh3d\":[{\"type\":\"mesh3d\",\"colorbar\":{\"outlinewidth\":0,\"ticks\":\"\"}}],\"scatter\":[{\"fillpattern\":{\"fillmode\":\"overlay\",\"size\":10,\"solidity\":0.2},\"type\":\"scatter\"}],\"parcoords\":[{\"type\":\"parcoords\",\"line\":{\"colorbar\":{\"outlinewidth\":0,\"ticks\":\"\"}}}],\"scatterpolargl\":[{\"type\":\"scatterpolargl\",\"marker\":{\"colorbar\":{\"outlinewidth\":0,\"ticks\":\"\"}}}],\"bar\":[{\"error_x\":{\"color\":\"#2a3f5f\"},\"error_y\":{\"color\":\"#2a3f5f\"},\"marker\":{\"line\":{\"color\":\"#E5ECF6\",\"width\":0.5},\"pattern\":{\"fillmode\":\"overlay\",\"size\":10,\"solidity\":0.2}},\"type\":\"bar\"}],\"scattergeo\":[{\"type\":\"scattergeo\",\"marker\":{\"colorbar\":{\"outlinewidth\":0,\"ticks\":\"\"}}}],\"scatterpolar\":[{\"type\":\"scatterpolar\",\"marker\":{\"colorbar\":{\"outlinewidth\":0,\"ticks\":\"\"}}}],\"histogram\":[{\"marker\":{\"pattern\":{\"fillmode\":\"overlay\",\"size\":10,\"solidity\":0.2}},\"type\":\"histogram\"}],\"scattergl\":[{\"type\":\"scattergl\",\"marker\":{\"colorbar\":{\"outlinewidth\":0,\"ticks\":\"\"}}}],\"scatter3d\":[{\"type\":\"scatter3d\",\"line\":{\"colorbar\":{\"outlinewidth\":0,\"ticks\":\"\"}},\"marker\":{\"colorbar\":{\"outlinewidth\":0,\"ticks\":\"\"}}}],\"scattermapbox\":[{\"type\":\"scattermapbox\",\"marker\":{\"colorbar\":{\"outlinewidth\":0,\"ticks\":\"\"}}}],\"scatterternary\":[{\"type\":\"scatterternary\",\"marker\":{\"colorbar\":{\"outlinewidth\":0,\"ticks\":\"\"}}}],\"scattercarpet\":[{\"type\":\"scattercarpet\",\"marker\":{\"colorbar\":{\"outlinewidth\":0,\"ticks\":\"\"}}}],\"carpet\":[{\"aaxis\":{\"endlinecolor\":\"#2a3f5f\",\"gridcolor\":\"white\",\"linecolor\":\"white\",\"minorgridcolor\":\"white\",\"startlinecolor\":\"#2a3f5f\"},\"baxis\":{\"endlinecolor\":\"#2a3f5f\",\"gridcolor\":\"white\",\"linecolor\":\"white\",\"minorgridcolor\":\"white\",\"startlinecolor\":\"#2a3f5f\"},\"type\":\"carpet\"}],\"table\":[{\"cells\":{\"fill\":{\"color\":\"#EBF0F8\"},\"line\":{\"color\":\"white\"}},\"header\":{\"fill\":{\"color\":\"#C8D4E3\"},\"line\":{\"color\":\"white\"}},\"type\":\"table\"}],\"barpolar\":[{\"marker\":{\"line\":{\"color\":\"#E5ECF6\",\"width\":0.5},\"pattern\":{\"fillmode\":\"overlay\",\"size\":10,\"solidity\":0.2}},\"type\":\"barpolar\"}],\"pie\":[{\"automargin\":true,\"type\":\"pie\"}]},\"layout\":{\"autotypenumbers\":\"strict\",\"colorway\":[\"#636efa\",\"#EF553B\",\"#00cc96\",\"#ab63fa\",\"#FFA15A\",\"#19d3f3\",\"#FF6692\",\"#B6E880\",\"#FF97FF\",\"#FECB52\"],\"font\":{\"color\":\"#2a3f5f\"},\"hovermode\":\"closest\",\"hoverlabel\":{\"align\":\"left\"},\"paper_bgcolor\":\"white\",\"plot_bgcolor\":\"#E5ECF6\",\"polar\":{\"bgcolor\":\"#E5ECF6\",\"angularaxis\":{\"gridcolor\":\"white\",\"linecolor\":\"white\",\"ticks\":\"\"},\"radialaxis\":{\"gridcolor\":\"white\",\"linecolor\":\"white\",\"ticks\":\"\"}},\"ternary\":{\"bgcolor\":\"#E5ECF6\",\"aaxis\":{\"gridcolor\":\"white\",\"linecolor\":\"white\",\"ticks\":\"\"},\"baxis\":{\"gridcolor\":\"white\",\"linecolor\":\"white\",\"ticks\":\"\"},\"caxis\":{\"gridcolor\":\"white\",\"linecolor\":\"white\",\"ticks\":\"\"}},\"coloraxis\":{\"colorbar\":{\"outlinewidth\":0,\"ticks\":\"\"}},\"colorscale\":{\"sequential\":[[0.0,\"#0d0887\"],[0.1111111111111111,\"#46039f\"],[0.2222222222222222,\"#7201a8\"],[0.3333333333333333,\"#9c179e\"],[0.4444444444444444,\"#bd3786\"],[0.5555555555555556,\"#d8576b\"],[0.6666666666666666,\"#ed7953\"],[0.7777777777777778,\"#fb9f3a\"],[0.8888888888888888,\"#fdca26\"],[1.0,\"#f0f921\"]],\"sequentialminus\":[[0.0,\"#0d0887\"],[0.1111111111111111,\"#46039f\"],[0.2222222222222222,\"#7201a8\"],[0.3333333333333333,\"#9c179e\"],[0.4444444444444444,\"#bd3786\"],[0.5555555555555556,\"#d8576b\"],[0.6666666666666666,\"#ed7953\"],[0.7777777777777778,\"#fb9f3a\"],[0.8888888888888888,\"#fdca26\"],[1.0,\"#f0f921\"]],\"diverging\":[[0,\"#8e0152\"],[0.1,\"#c51b7d\"],[0.2,\"#de77ae\"],[0.3,\"#f1b6da\"],[0.4,\"#fde0ef\"],[0.5,\"#f7f7f7\"],[0.6,\"#e6f5d0\"],[0.7,\"#b8e186\"],[0.8,\"#7fbc41\"],[0.9,\"#4d9221\"],[1,\"#276419\"]]},\"xaxis\":{\"gridcolor\":\"white\",\"linecolor\":\"white\",\"ticks\":\"\",\"title\":{\"standoff\":15},\"zerolinecolor\":\"white\",\"automargin\":true,\"zerolinewidth\":2},\"yaxis\":{\"gridcolor\":\"white\",\"linecolor\":\"white\",\"ticks\":\"\",\"title\":{\"standoff\":15},\"zerolinecolor\":\"white\",\"automargin\":true,\"zerolinewidth\":2},\"scene\":{\"xaxis\":{\"backgroundcolor\":\"#E5ECF6\",\"gridcolor\":\"white\",\"linecolor\":\"white\",\"showbackground\":true,\"ticks\":\"\",\"zerolinecolor\":\"white\",\"gridwidth\":2},\"yaxis\":{\"backgroundcolor\":\"#E5ECF6\",\"gridcolor\":\"white\",\"linecolor\":\"white\",\"showbackground\":true,\"ticks\":\"\",\"zerolinecolor\":\"white\",\"gridwidth\":2},\"zaxis\":{\"backgroundcolor\":\"#E5ECF6\",\"gridcolor\":\"white\",\"linecolor\":\"white\",\"showbackground\":true,\"ticks\":\"\",\"zerolinecolor\":\"white\",\"gridwidth\":2}},\"shapedefaults\":{\"line\":{\"color\":\"#2a3f5f\"}},\"annotationdefaults\":{\"arrowcolor\":\"#2a3f5f\",\"arrowhead\":0,\"arrowwidth\":1},\"geo\":{\"bgcolor\":\"white\",\"landcolor\":\"#E5ECF6\",\"subunitcolor\":\"white\",\"showland\":true,\"showlakes\":true,\"lakecolor\":\"white\"},\"title\":{\"x\":0.05},\"mapbox\":{\"style\":\"light\"}}},\"xaxis\":{\"anchor\":\"y\",\"domain\":[0.0,1.0],\"scaleanchor\":\"y\",\"constrain\":\"domain\"},\"yaxis\":{\"anchor\":\"x\",\"domain\":[0.0,1.0],\"autorange\":\"reversed\",\"constrain\":\"domain\"},\"coloraxis\":{\"colorscale\":[[0.0,\"rgb(0, 0, 0)\"],[0.09090909090909091,\"rgb(16, 16, 16)\"],[0.18181818181818182,\"rgb(38, 38, 38)\"],[0.2727272727272727,\"rgb(59, 59, 59)\"],[0.36363636363636365,\"rgb(81, 80, 80)\"],[0.45454545454545453,\"rgb(102, 101, 101)\"],[0.5454545454545454,\"rgb(124, 123, 122)\"],[0.6363636363636364,\"rgb(146, 146, 145)\"],[0.7272727272727273,\"rgb(171, 171, 170)\"],[0.8181818181818182,\"rgb(197, 197, 195)\"],[0.9090909090909091,\"rgb(224, 224, 223)\"],[1.0,\"rgb(254, 254, 253)\"]]},\"title\":{\"text\":\"[2, 6, 4]\"},\"height\":400,\"width\":400},                        {\"responsive\": true}                    ).then(function(){\n",
       "                            \n",
       "var gd = document.getElementById('6bf592e5-42b3-498e-93f9-cfe1de102989');\n",
       "var x = new MutationObserver(function (mutations, observer) {{\n",
       "        var display = window.getComputedStyle(gd).display;\n",
       "        if (!display || display === 'none') {{\n",
       "            console.log([gd, 'removed!']);\n",
       "            Plotly.purge(gd);\n",
       "            observer.disconnect();\n",
       "        }}\n",
       "}});\n",
       "\n",
       "// Listen for the removal of the full notebook cells\n",
       "var notebookContainer = gd.closest('#notebook-container');\n",
       "if (notebookContainer) {{\n",
       "    x.observe(notebookContainer, {childList: true});\n",
       "}}\n",
       "\n",
       "// Listen for the clearing of the current output cell\n",
       "var outputEl = gd.closest('.output');\n",
       "if (outputEl) {{\n",
       "    x.observe(outputEl, {childList: true});\n",
       "}}\n",
       "\n",
       "                        })                };                });            </script>        </div>"
      ]
     },
     "metadata": {},
     "output_type": "display_data"
    },
    {
     "name": "stdout",
     "output_type": "stream",
     "text": [
      "Optimal move is 1 sticks from heap 3, which is action 7.\n"
     ]
    },
    {
     "data": {
      "application/vnd.plotly.v1+json": {
       "config": {
        "plotlyServerURL": "https://plot.ly"
       },
       "data": [
        {
         "coloraxis": "coloraxis",
         "hovertemplate": "x: %{x}<br>y: %{y}<br>color: %{z}<extra></extra>",
         "name": "0",
         "type": "heatmap",
         "xaxis": "x",
         "yaxis": "y",
         "z": [
          [
           -0.238534660704304
          ],
          [
           -0.24054192433344707
          ],
          [
           -0.2755013034932818
          ],
          [
           -0.2905074108364957
          ],
          [
           -0.2600693582372138
          ],
          [
           -0.28687640380253915
          ],
          [
           -0.2541230405724632
          ],
          [
           -0.14328348298670165
          ],
          [
           -0.24595516699866357
          ],
          [
           -0.15536827762984823
          ],
          [
           -0.33855455519482003
          ],
          [
           -0.24085978380746823
          ],
          [
           -0.31263859459071935
          ],
          [
           -0.2444977434574092
          ]
         ]
        }
       ],
       "layout": {
        "coloraxis": {
         "colorscale": [
          [
           0,
           "rgb(0, 0, 0)"
          ],
          [
           0.09090909090909091,
           "rgb(16, 16, 16)"
          ],
          [
           0.18181818181818182,
           "rgb(38, 38, 38)"
          ],
          [
           0.2727272727272727,
           "rgb(59, 59, 59)"
          ],
          [
           0.36363636363636365,
           "rgb(81, 80, 80)"
          ],
          [
           0.45454545454545453,
           "rgb(102, 101, 101)"
          ],
          [
           0.5454545454545454,
           "rgb(124, 123, 122)"
          ],
          [
           0.6363636363636364,
           "rgb(146, 146, 145)"
          ],
          [
           0.7272727272727273,
           "rgb(171, 171, 170)"
          ],
          [
           0.8181818181818182,
           "rgb(197, 197, 195)"
          ],
          [
           0.9090909090909091,
           "rgb(224, 224, 223)"
          ],
          [
           1,
           "rgb(254, 254, 253)"
          ]
         ]
        },
        "height": 400,
        "template": {
         "data": {
          "bar": [
           {
            "error_x": {
             "color": "#2a3f5f"
            },
            "error_y": {
             "color": "#2a3f5f"
            },
            "marker": {
             "line": {
              "color": "#E5ECF6",
              "width": 0.5
             },
             "pattern": {
              "fillmode": "overlay",
              "size": 10,
              "solidity": 0.2
             }
            },
            "type": "bar"
           }
          ],
          "barpolar": [
           {
            "marker": {
             "line": {
              "color": "#E5ECF6",
              "width": 0.5
             },
             "pattern": {
              "fillmode": "overlay",
              "size": 10,
              "solidity": 0.2
             }
            },
            "type": "barpolar"
           }
          ],
          "carpet": [
           {
            "aaxis": {
             "endlinecolor": "#2a3f5f",
             "gridcolor": "white",
             "linecolor": "white",
             "minorgridcolor": "white",
             "startlinecolor": "#2a3f5f"
            },
            "baxis": {
             "endlinecolor": "#2a3f5f",
             "gridcolor": "white",
             "linecolor": "white",
             "minorgridcolor": "white",
             "startlinecolor": "#2a3f5f"
            },
            "type": "carpet"
           }
          ],
          "choropleth": [
           {
            "colorbar": {
             "outlinewidth": 0,
             "ticks": ""
            },
            "type": "choropleth"
           }
          ],
          "contour": [
           {
            "colorbar": {
             "outlinewidth": 0,
             "ticks": ""
            },
            "colorscale": [
             [
              0,
              "#0d0887"
             ],
             [
              0.1111111111111111,
              "#46039f"
             ],
             [
              0.2222222222222222,
              "#7201a8"
             ],
             [
              0.3333333333333333,
              "#9c179e"
             ],
             [
              0.4444444444444444,
              "#bd3786"
             ],
             [
              0.5555555555555556,
              "#d8576b"
             ],
             [
              0.6666666666666666,
              "#ed7953"
             ],
             [
              0.7777777777777778,
              "#fb9f3a"
             ],
             [
              0.8888888888888888,
              "#fdca26"
             ],
             [
              1,
              "#f0f921"
             ]
            ],
            "type": "contour"
           }
          ],
          "contourcarpet": [
           {
            "colorbar": {
             "outlinewidth": 0,
             "ticks": ""
            },
            "type": "contourcarpet"
           }
          ],
          "heatmap": [
           {
            "colorbar": {
             "outlinewidth": 0,
             "ticks": ""
            },
            "colorscale": [
             [
              0,
              "#0d0887"
             ],
             [
              0.1111111111111111,
              "#46039f"
             ],
             [
              0.2222222222222222,
              "#7201a8"
             ],
             [
              0.3333333333333333,
              "#9c179e"
             ],
             [
              0.4444444444444444,
              "#bd3786"
             ],
             [
              0.5555555555555556,
              "#d8576b"
             ],
             [
              0.6666666666666666,
              "#ed7953"
             ],
             [
              0.7777777777777778,
              "#fb9f3a"
             ],
             [
              0.8888888888888888,
              "#fdca26"
             ],
             [
              1,
              "#f0f921"
             ]
            ],
            "type": "heatmap"
           }
          ],
          "heatmapgl": [
           {
            "colorbar": {
             "outlinewidth": 0,
             "ticks": ""
            },
            "colorscale": [
             [
              0,
              "#0d0887"
             ],
             [
              0.1111111111111111,
              "#46039f"
             ],
             [
              0.2222222222222222,
              "#7201a8"
             ],
             [
              0.3333333333333333,
              "#9c179e"
             ],
             [
              0.4444444444444444,
              "#bd3786"
             ],
             [
              0.5555555555555556,
              "#d8576b"
             ],
             [
              0.6666666666666666,
              "#ed7953"
             ],
             [
              0.7777777777777778,
              "#fb9f3a"
             ],
             [
              0.8888888888888888,
              "#fdca26"
             ],
             [
              1,
              "#f0f921"
             ]
            ],
            "type": "heatmapgl"
           }
          ],
          "histogram": [
           {
            "marker": {
             "pattern": {
              "fillmode": "overlay",
              "size": 10,
              "solidity": 0.2
             }
            },
            "type": "histogram"
           }
          ],
          "histogram2d": [
           {
            "colorbar": {
             "outlinewidth": 0,
             "ticks": ""
            },
            "colorscale": [
             [
              0,
              "#0d0887"
             ],
             [
              0.1111111111111111,
              "#46039f"
             ],
             [
              0.2222222222222222,
              "#7201a8"
             ],
             [
              0.3333333333333333,
              "#9c179e"
             ],
             [
              0.4444444444444444,
              "#bd3786"
             ],
             [
              0.5555555555555556,
              "#d8576b"
             ],
             [
              0.6666666666666666,
              "#ed7953"
             ],
             [
              0.7777777777777778,
              "#fb9f3a"
             ],
             [
              0.8888888888888888,
              "#fdca26"
             ],
             [
              1,
              "#f0f921"
             ]
            ],
            "type": "histogram2d"
           }
          ],
          "histogram2dcontour": [
           {
            "colorbar": {
             "outlinewidth": 0,
             "ticks": ""
            },
            "colorscale": [
             [
              0,
              "#0d0887"
             ],
             [
              0.1111111111111111,
              "#46039f"
             ],
             [
              0.2222222222222222,
              "#7201a8"
             ],
             [
              0.3333333333333333,
              "#9c179e"
             ],
             [
              0.4444444444444444,
              "#bd3786"
             ],
             [
              0.5555555555555556,
              "#d8576b"
             ],
             [
              0.6666666666666666,
              "#ed7953"
             ],
             [
              0.7777777777777778,
              "#fb9f3a"
             ],
             [
              0.8888888888888888,
              "#fdca26"
             ],
             [
              1,
              "#f0f921"
             ]
            ],
            "type": "histogram2dcontour"
           }
          ],
          "mesh3d": [
           {
            "colorbar": {
             "outlinewidth": 0,
             "ticks": ""
            },
            "type": "mesh3d"
           }
          ],
          "parcoords": [
           {
            "line": {
             "colorbar": {
              "outlinewidth": 0,
              "ticks": ""
             }
            },
            "type": "parcoords"
           }
          ],
          "pie": [
           {
            "automargin": true,
            "type": "pie"
           }
          ],
          "scatter": [
           {
            "fillpattern": {
             "fillmode": "overlay",
             "size": 10,
             "solidity": 0.2
            },
            "type": "scatter"
           }
          ],
          "scatter3d": [
           {
            "line": {
             "colorbar": {
              "outlinewidth": 0,
              "ticks": ""
             }
            },
            "marker": {
             "colorbar": {
              "outlinewidth": 0,
              "ticks": ""
             }
            },
            "type": "scatter3d"
           }
          ],
          "scattercarpet": [
           {
            "marker": {
             "colorbar": {
              "outlinewidth": 0,
              "ticks": ""
             }
            },
            "type": "scattercarpet"
           }
          ],
          "scattergeo": [
           {
            "marker": {
             "colorbar": {
              "outlinewidth": 0,
              "ticks": ""
             }
            },
            "type": "scattergeo"
           }
          ],
          "scattergl": [
           {
            "marker": {
             "colorbar": {
              "outlinewidth": 0,
              "ticks": ""
             }
            },
            "type": "scattergl"
           }
          ],
          "scattermapbox": [
           {
            "marker": {
             "colorbar": {
              "outlinewidth": 0,
              "ticks": ""
             }
            },
            "type": "scattermapbox"
           }
          ],
          "scatterpolar": [
           {
            "marker": {
             "colorbar": {
              "outlinewidth": 0,
              "ticks": ""
             }
            },
            "type": "scatterpolar"
           }
          ],
          "scatterpolargl": [
           {
            "marker": {
             "colorbar": {
              "outlinewidth": 0,
              "ticks": ""
             }
            },
            "type": "scatterpolargl"
           }
          ],
          "scatterternary": [
           {
            "marker": {
             "colorbar": {
              "outlinewidth": 0,
              "ticks": ""
             }
            },
            "type": "scatterternary"
           }
          ],
          "surface": [
           {
            "colorbar": {
             "outlinewidth": 0,
             "ticks": ""
            },
            "colorscale": [
             [
              0,
              "#0d0887"
             ],
             [
              0.1111111111111111,
              "#46039f"
             ],
             [
              0.2222222222222222,
              "#7201a8"
             ],
             [
              0.3333333333333333,
              "#9c179e"
             ],
             [
              0.4444444444444444,
              "#bd3786"
             ],
             [
              0.5555555555555556,
              "#d8576b"
             ],
             [
              0.6666666666666666,
              "#ed7953"
             ],
             [
              0.7777777777777778,
              "#fb9f3a"
             ],
             [
              0.8888888888888888,
              "#fdca26"
             ],
             [
              1,
              "#f0f921"
             ]
            ],
            "type": "surface"
           }
          ],
          "table": [
           {
            "cells": {
             "fill": {
              "color": "#EBF0F8"
             },
             "line": {
              "color": "white"
             }
            },
            "header": {
             "fill": {
              "color": "#C8D4E3"
             },
             "line": {
              "color": "white"
             }
            },
            "type": "table"
           }
          ]
         },
         "layout": {
          "annotationdefaults": {
           "arrowcolor": "#2a3f5f",
           "arrowhead": 0,
           "arrowwidth": 1
          },
          "autotypenumbers": "strict",
          "coloraxis": {
           "colorbar": {
            "outlinewidth": 0,
            "ticks": ""
           }
          },
          "colorscale": {
           "diverging": [
            [
             0,
             "#8e0152"
            ],
            [
             0.1,
             "#c51b7d"
            ],
            [
             0.2,
             "#de77ae"
            ],
            [
             0.3,
             "#f1b6da"
            ],
            [
             0.4,
             "#fde0ef"
            ],
            [
             0.5,
             "#f7f7f7"
            ],
            [
             0.6,
             "#e6f5d0"
            ],
            [
             0.7,
             "#b8e186"
            ],
            [
             0.8,
             "#7fbc41"
            ],
            [
             0.9,
             "#4d9221"
            ],
            [
             1,
             "#276419"
            ]
           ],
           "sequential": [
            [
             0,
             "#0d0887"
            ],
            [
             0.1111111111111111,
             "#46039f"
            ],
            [
             0.2222222222222222,
             "#7201a8"
            ],
            [
             0.3333333333333333,
             "#9c179e"
            ],
            [
             0.4444444444444444,
             "#bd3786"
            ],
            [
             0.5555555555555556,
             "#d8576b"
            ],
            [
             0.6666666666666666,
             "#ed7953"
            ],
            [
             0.7777777777777778,
             "#fb9f3a"
            ],
            [
             0.8888888888888888,
             "#fdca26"
            ],
            [
             1,
             "#f0f921"
            ]
           ],
           "sequentialminus": [
            [
             0,
             "#0d0887"
            ],
            [
             0.1111111111111111,
             "#46039f"
            ],
            [
             0.2222222222222222,
             "#7201a8"
            ],
            [
             0.3333333333333333,
             "#9c179e"
            ],
            [
             0.4444444444444444,
             "#bd3786"
            ],
            [
             0.5555555555555556,
             "#d8576b"
            ],
            [
             0.6666666666666666,
             "#ed7953"
            ],
            [
             0.7777777777777778,
             "#fb9f3a"
            ],
            [
             0.8888888888888888,
             "#fdca26"
            ],
            [
             1,
             "#f0f921"
            ]
           ]
          },
          "colorway": [
           "#636efa",
           "#EF553B",
           "#00cc96",
           "#ab63fa",
           "#FFA15A",
           "#19d3f3",
           "#FF6692",
           "#B6E880",
           "#FF97FF",
           "#FECB52"
          ],
          "font": {
           "color": "#2a3f5f"
          },
          "geo": {
           "bgcolor": "white",
           "lakecolor": "white",
           "landcolor": "#E5ECF6",
           "showlakes": true,
           "showland": true,
           "subunitcolor": "white"
          },
          "hoverlabel": {
           "align": "left"
          },
          "hovermode": "closest",
          "mapbox": {
           "style": "light"
          },
          "paper_bgcolor": "white",
          "plot_bgcolor": "#E5ECF6",
          "polar": {
           "angularaxis": {
            "gridcolor": "white",
            "linecolor": "white",
            "ticks": ""
           },
           "bgcolor": "#E5ECF6",
           "radialaxis": {
            "gridcolor": "white",
            "linecolor": "white",
            "ticks": ""
           }
          },
          "scene": {
           "xaxis": {
            "backgroundcolor": "#E5ECF6",
            "gridcolor": "white",
            "gridwidth": 2,
            "linecolor": "white",
            "showbackground": true,
            "ticks": "",
            "zerolinecolor": "white"
           },
           "yaxis": {
            "backgroundcolor": "#E5ECF6",
            "gridcolor": "white",
            "gridwidth": 2,
            "linecolor": "white",
            "showbackground": true,
            "ticks": "",
            "zerolinecolor": "white"
           },
           "zaxis": {
            "backgroundcolor": "#E5ECF6",
            "gridcolor": "white",
            "gridwidth": 2,
            "linecolor": "white",
            "showbackground": true,
            "ticks": "",
            "zerolinecolor": "white"
           }
          },
          "shapedefaults": {
           "line": {
            "color": "#2a3f5f"
           }
          },
          "ternary": {
           "aaxis": {
            "gridcolor": "white",
            "linecolor": "white",
            "ticks": ""
           },
           "baxis": {
            "gridcolor": "white",
            "linecolor": "white",
            "ticks": ""
           },
           "bgcolor": "#E5ECF6",
           "caxis": {
            "gridcolor": "white",
            "linecolor": "white",
            "ticks": ""
           }
          },
          "title": {
           "x": 0.05
          },
          "xaxis": {
           "automargin": true,
           "gridcolor": "white",
           "linecolor": "white",
           "ticks": "",
           "title": {
            "standoff": 15
           },
           "zerolinecolor": "white",
           "zerolinewidth": 2
          },
          "yaxis": {
           "automargin": true,
           "gridcolor": "white",
           "linecolor": "white",
           "ticks": "",
           "title": {
            "standoff": 15
           },
           "zerolinecolor": "white",
           "zerolinewidth": 2
          }
         }
        },
        "title": {
         "text": "[3, 4, 7]"
        },
        "width": 400,
        "xaxis": {
         "anchor": "y",
         "constrain": "domain",
         "domain": [
          0,
          1
         ],
         "scaleanchor": "y"
        },
        "yaxis": {
         "anchor": "x",
         "autorange": "reversed",
         "constrain": "domain",
         "domain": [
          0,
          1
         ]
        }
       }
      },
      "text/html": [
       "<div>                            <div id=\"fca827f0-b02c-4bef-ab27-e9ea054ab2fc\" class=\"plotly-graph-div\" style=\"height:400px; width:400px;\"></div>            <script type=\"text/javascript\">                require([\"plotly\"], function(Plotly) {                    window.PLOTLYENV=window.PLOTLYENV || {};                                    if (document.getElementById(\"fca827f0-b02c-4bef-ab27-e9ea054ab2fc\")) {                    Plotly.newPlot(                        \"fca827f0-b02c-4bef-ab27-e9ea054ab2fc\",                        [{\"coloraxis\":\"coloraxis\",\"name\":\"0\",\"z\":[[-0.238534660704304],[-0.24054192433344707],[-0.2755013034932818],[-0.2905074108364957],[-0.2600693582372138],[-0.28687640380253915],[-0.2541230405724632],[-0.14328348298670165],[-0.24595516699866357],[-0.15536827762984823],[-0.33855455519482003],[-0.24085978380746823],[-0.31263859459071935],[-0.2444977434574092]],\"type\":\"heatmap\",\"xaxis\":\"x\",\"yaxis\":\"y\",\"hovertemplate\":\"x: %{x}<br>y: %{y}<br>color: %{z}<extra></extra>\"}],                        {\"template\":{\"data\":{\"histogram2dcontour\":[{\"type\":\"histogram2dcontour\",\"colorbar\":{\"outlinewidth\":0,\"ticks\":\"\"},\"colorscale\":[[0.0,\"#0d0887\"],[0.1111111111111111,\"#46039f\"],[0.2222222222222222,\"#7201a8\"],[0.3333333333333333,\"#9c179e\"],[0.4444444444444444,\"#bd3786\"],[0.5555555555555556,\"#d8576b\"],[0.6666666666666666,\"#ed7953\"],[0.7777777777777778,\"#fb9f3a\"],[0.8888888888888888,\"#fdca26\"],[1.0,\"#f0f921\"]]}],\"choropleth\":[{\"type\":\"choropleth\",\"colorbar\":{\"outlinewidth\":0,\"ticks\":\"\"}}],\"histogram2d\":[{\"type\":\"histogram2d\",\"colorbar\":{\"outlinewidth\":0,\"ticks\":\"\"},\"colorscale\":[[0.0,\"#0d0887\"],[0.1111111111111111,\"#46039f\"],[0.2222222222222222,\"#7201a8\"],[0.3333333333333333,\"#9c179e\"],[0.4444444444444444,\"#bd3786\"],[0.5555555555555556,\"#d8576b\"],[0.6666666666666666,\"#ed7953\"],[0.7777777777777778,\"#fb9f3a\"],[0.8888888888888888,\"#fdca26\"],[1.0,\"#f0f921\"]]}],\"heatmap\":[{\"type\":\"heatmap\",\"colorbar\":{\"outlinewidth\":0,\"ticks\":\"\"},\"colorscale\":[[0.0,\"#0d0887\"],[0.1111111111111111,\"#46039f\"],[0.2222222222222222,\"#7201a8\"],[0.3333333333333333,\"#9c179e\"],[0.4444444444444444,\"#bd3786\"],[0.5555555555555556,\"#d8576b\"],[0.6666666666666666,\"#ed7953\"],[0.7777777777777778,\"#fb9f3a\"],[0.8888888888888888,\"#fdca26\"],[1.0,\"#f0f921\"]]}],\"heatmapgl\":[{\"type\":\"heatmapgl\",\"colorbar\":{\"outlinewidth\":0,\"ticks\":\"\"},\"colorscale\":[[0.0,\"#0d0887\"],[0.1111111111111111,\"#46039f\"],[0.2222222222222222,\"#7201a8\"],[0.3333333333333333,\"#9c179e\"],[0.4444444444444444,\"#bd3786\"],[0.5555555555555556,\"#d8576b\"],[0.6666666666666666,\"#ed7953\"],[0.7777777777777778,\"#fb9f3a\"],[0.8888888888888888,\"#fdca26\"],[1.0,\"#f0f921\"]]}],\"contourcarpet\":[{\"type\":\"contourcarpet\",\"colorbar\":{\"outlinewidth\":0,\"ticks\":\"\"}}],\"contour\":[{\"type\":\"contour\",\"colorbar\":{\"outlinewidth\":0,\"ticks\":\"\"},\"colorscale\":[[0.0,\"#0d0887\"],[0.1111111111111111,\"#46039f\"],[0.2222222222222222,\"#7201a8\"],[0.3333333333333333,\"#9c179e\"],[0.4444444444444444,\"#bd3786\"],[0.5555555555555556,\"#d8576b\"],[0.6666666666666666,\"#ed7953\"],[0.7777777777777778,\"#fb9f3a\"],[0.8888888888888888,\"#fdca26\"],[1.0,\"#f0f921\"]]}],\"surface\":[{\"type\":\"surface\",\"colorbar\":{\"outlinewidth\":0,\"ticks\":\"\"},\"colorscale\":[[0.0,\"#0d0887\"],[0.1111111111111111,\"#46039f\"],[0.2222222222222222,\"#7201a8\"],[0.3333333333333333,\"#9c179e\"],[0.4444444444444444,\"#bd3786\"],[0.5555555555555556,\"#d8576b\"],[0.6666666666666666,\"#ed7953\"],[0.7777777777777778,\"#fb9f3a\"],[0.8888888888888888,\"#fdca26\"],[1.0,\"#f0f921\"]]}],\"mesh3d\":[{\"type\":\"mesh3d\",\"colorbar\":{\"outlinewidth\":0,\"ticks\":\"\"}}],\"scatter\":[{\"fillpattern\":{\"fillmode\":\"overlay\",\"size\":10,\"solidity\":0.2},\"type\":\"scatter\"}],\"parcoords\":[{\"type\":\"parcoords\",\"line\":{\"colorbar\":{\"outlinewidth\":0,\"ticks\":\"\"}}}],\"scatterpolargl\":[{\"type\":\"scatterpolargl\",\"marker\":{\"colorbar\":{\"outlinewidth\":0,\"ticks\":\"\"}}}],\"bar\":[{\"error_x\":{\"color\":\"#2a3f5f\"},\"error_y\":{\"color\":\"#2a3f5f\"},\"marker\":{\"line\":{\"color\":\"#E5ECF6\",\"width\":0.5},\"pattern\":{\"fillmode\":\"overlay\",\"size\":10,\"solidity\":0.2}},\"type\":\"bar\"}],\"scattergeo\":[{\"type\":\"scattergeo\",\"marker\":{\"colorbar\":{\"outlinewidth\":0,\"ticks\":\"\"}}}],\"scatterpolar\":[{\"type\":\"scatterpolar\",\"marker\":{\"colorbar\":{\"outlinewidth\":0,\"ticks\":\"\"}}}],\"histogram\":[{\"marker\":{\"pattern\":{\"fillmode\":\"overlay\",\"size\":10,\"solidity\":0.2}},\"type\":\"histogram\"}],\"scattergl\":[{\"type\":\"scattergl\",\"marker\":{\"colorbar\":{\"outlinewidth\":0,\"ticks\":\"\"}}}],\"scatter3d\":[{\"type\":\"scatter3d\",\"line\":{\"colorbar\":{\"outlinewidth\":0,\"ticks\":\"\"}},\"marker\":{\"colorbar\":{\"outlinewidth\":0,\"ticks\":\"\"}}}],\"scattermapbox\":[{\"type\":\"scattermapbox\",\"marker\":{\"colorbar\":{\"outlinewidth\":0,\"ticks\":\"\"}}}],\"scatterternary\":[{\"type\":\"scatterternary\",\"marker\":{\"colorbar\":{\"outlinewidth\":0,\"ticks\":\"\"}}}],\"scattercarpet\":[{\"type\":\"scattercarpet\",\"marker\":{\"colorbar\":{\"outlinewidth\":0,\"ticks\":\"\"}}}],\"carpet\":[{\"aaxis\":{\"endlinecolor\":\"#2a3f5f\",\"gridcolor\":\"white\",\"linecolor\":\"white\",\"minorgridcolor\":\"white\",\"startlinecolor\":\"#2a3f5f\"},\"baxis\":{\"endlinecolor\":\"#2a3f5f\",\"gridcolor\":\"white\",\"linecolor\":\"white\",\"minorgridcolor\":\"white\",\"startlinecolor\":\"#2a3f5f\"},\"type\":\"carpet\"}],\"table\":[{\"cells\":{\"fill\":{\"color\":\"#EBF0F8\"},\"line\":{\"color\":\"white\"}},\"header\":{\"fill\":{\"color\":\"#C8D4E3\"},\"line\":{\"color\":\"white\"}},\"type\":\"table\"}],\"barpolar\":[{\"marker\":{\"line\":{\"color\":\"#E5ECF6\",\"width\":0.5},\"pattern\":{\"fillmode\":\"overlay\",\"size\":10,\"solidity\":0.2}},\"type\":\"barpolar\"}],\"pie\":[{\"automargin\":true,\"type\":\"pie\"}]},\"layout\":{\"autotypenumbers\":\"strict\",\"colorway\":[\"#636efa\",\"#EF553B\",\"#00cc96\",\"#ab63fa\",\"#FFA15A\",\"#19d3f3\",\"#FF6692\",\"#B6E880\",\"#FF97FF\",\"#FECB52\"],\"font\":{\"color\":\"#2a3f5f\"},\"hovermode\":\"closest\",\"hoverlabel\":{\"align\":\"left\"},\"paper_bgcolor\":\"white\",\"plot_bgcolor\":\"#E5ECF6\",\"polar\":{\"bgcolor\":\"#E5ECF6\",\"angularaxis\":{\"gridcolor\":\"white\",\"linecolor\":\"white\",\"ticks\":\"\"},\"radialaxis\":{\"gridcolor\":\"white\",\"linecolor\":\"white\",\"ticks\":\"\"}},\"ternary\":{\"bgcolor\":\"#E5ECF6\",\"aaxis\":{\"gridcolor\":\"white\",\"linecolor\":\"white\",\"ticks\":\"\"},\"baxis\":{\"gridcolor\":\"white\",\"linecolor\":\"white\",\"ticks\":\"\"},\"caxis\":{\"gridcolor\":\"white\",\"linecolor\":\"white\",\"ticks\":\"\"}},\"coloraxis\":{\"colorbar\":{\"outlinewidth\":0,\"ticks\":\"\"}},\"colorscale\":{\"sequential\":[[0.0,\"#0d0887\"],[0.1111111111111111,\"#46039f\"],[0.2222222222222222,\"#7201a8\"],[0.3333333333333333,\"#9c179e\"],[0.4444444444444444,\"#bd3786\"],[0.5555555555555556,\"#d8576b\"],[0.6666666666666666,\"#ed7953\"],[0.7777777777777778,\"#fb9f3a\"],[0.8888888888888888,\"#fdca26\"],[1.0,\"#f0f921\"]],\"sequentialminus\":[[0.0,\"#0d0887\"],[0.1111111111111111,\"#46039f\"],[0.2222222222222222,\"#7201a8\"],[0.3333333333333333,\"#9c179e\"],[0.4444444444444444,\"#bd3786\"],[0.5555555555555556,\"#d8576b\"],[0.6666666666666666,\"#ed7953\"],[0.7777777777777778,\"#fb9f3a\"],[0.8888888888888888,\"#fdca26\"],[1.0,\"#f0f921\"]],\"diverging\":[[0,\"#8e0152\"],[0.1,\"#c51b7d\"],[0.2,\"#de77ae\"],[0.3,\"#f1b6da\"],[0.4,\"#fde0ef\"],[0.5,\"#f7f7f7\"],[0.6,\"#e6f5d0\"],[0.7,\"#b8e186\"],[0.8,\"#7fbc41\"],[0.9,\"#4d9221\"],[1,\"#276419\"]]},\"xaxis\":{\"gridcolor\":\"white\",\"linecolor\":\"white\",\"ticks\":\"\",\"title\":{\"standoff\":15},\"zerolinecolor\":\"white\",\"automargin\":true,\"zerolinewidth\":2},\"yaxis\":{\"gridcolor\":\"white\",\"linecolor\":\"white\",\"ticks\":\"\",\"title\":{\"standoff\":15},\"zerolinecolor\":\"white\",\"automargin\":true,\"zerolinewidth\":2},\"scene\":{\"xaxis\":{\"backgroundcolor\":\"#E5ECF6\",\"gridcolor\":\"white\",\"linecolor\":\"white\",\"showbackground\":true,\"ticks\":\"\",\"zerolinecolor\":\"white\",\"gridwidth\":2},\"yaxis\":{\"backgroundcolor\":\"#E5ECF6\",\"gridcolor\":\"white\",\"linecolor\":\"white\",\"showbackground\":true,\"ticks\":\"\",\"zerolinecolor\":\"white\",\"gridwidth\":2},\"zaxis\":{\"backgroundcolor\":\"#E5ECF6\",\"gridcolor\":\"white\",\"linecolor\":\"white\",\"showbackground\":true,\"ticks\":\"\",\"zerolinecolor\":\"white\",\"gridwidth\":2}},\"shapedefaults\":{\"line\":{\"color\":\"#2a3f5f\"}},\"annotationdefaults\":{\"arrowcolor\":\"#2a3f5f\",\"arrowhead\":0,\"arrowwidth\":1},\"geo\":{\"bgcolor\":\"white\",\"landcolor\":\"#E5ECF6\",\"subunitcolor\":\"white\",\"showland\":true,\"showlakes\":true,\"lakecolor\":\"white\"},\"title\":{\"x\":0.05},\"mapbox\":{\"style\":\"light\"}}},\"xaxis\":{\"anchor\":\"y\",\"domain\":[0.0,1.0],\"scaleanchor\":\"y\",\"constrain\":\"domain\"},\"yaxis\":{\"anchor\":\"x\",\"domain\":[0.0,1.0],\"autorange\":\"reversed\",\"constrain\":\"domain\"},\"coloraxis\":{\"colorscale\":[[0.0,\"rgb(0, 0, 0)\"],[0.09090909090909091,\"rgb(16, 16, 16)\"],[0.18181818181818182,\"rgb(38, 38, 38)\"],[0.2727272727272727,\"rgb(59, 59, 59)\"],[0.36363636363636365,\"rgb(81, 80, 80)\"],[0.45454545454545453,\"rgb(102, 101, 101)\"],[0.5454545454545454,\"rgb(124, 123, 122)\"],[0.6363636363636364,\"rgb(146, 146, 145)\"],[0.7272727272727273,\"rgb(171, 171, 170)\"],[0.8181818181818182,\"rgb(197, 197, 195)\"],[0.9090909090909091,\"rgb(224, 224, 223)\"],[1.0,\"rgb(254, 254, 253)\"]]},\"title\":{\"text\":\"[3, 4, 7]\"},\"height\":400,\"width\":400},                        {\"responsive\": true}                    ).then(function(){\n",
       "                            \n",
       "var gd = document.getElementById('fca827f0-b02c-4bef-ab27-e9ea054ab2fc');\n",
       "var x = new MutationObserver(function (mutations, observer) {{\n",
       "        var display = window.getComputedStyle(gd).display;\n",
       "        if (!display || display === 'none') {{\n",
       "            console.log([gd, 'removed!']);\n",
       "            Plotly.purge(gd);\n",
       "            observer.disconnect();\n",
       "        }}\n",
       "}});\n",
       "\n",
       "// Listen for the removal of the full notebook cells\n",
       "var notebookContainer = gd.closest('#notebook-container');\n",
       "if (notebookContainer) {{\n",
       "    x.observe(notebookContainer, {childList: true});\n",
       "}}\n",
       "\n",
       "// Listen for the clearing of the current output cell\n",
       "var outputEl = gd.closest('.output');\n",
       "if (outputEl) {{\n",
       "    x.observe(outputEl, {childList: true});\n",
       "}}\n",
       "\n",
       "                        })                };                });            </script>        </div>"
      ]
     },
     "metadata": {},
     "output_type": "display_data"
    },
    {
     "name": "stdout",
     "output_type": "stream",
     "text": [
      "Optimal move is 1 sticks from heap 3, which is action 5.\n"
     ]
    },
    {
     "data": {
      "application/vnd.plotly.v1+json": {
       "config": {
        "plotlyServerURL": "https://plot.ly"
       },
       "data": [
        {
         "coloraxis": "coloraxis",
         "hovertemplate": "x: %{x}<br>y: %{y}<br>color: %{z}<extra></extra>",
         "name": "0",
         "type": "heatmap",
         "xaxis": "x",
         "yaxis": "y",
         "z": [
          [
           -0.426469139200569
          ],
          [
           -0.660355118454766
          ],
          [
           -0.6332325405511035
          ],
          [
           -0.7770047567563988
          ],
          [
           -0.6630736888634128
          ],
          [
           -0.4141666425729804
          ],
          [
           -0.46760733879669725
          ],
          [
           -0.5898835951342276
          ],
          [
           -0.7125949750615805
          ],
          [
           -0.5934903679640339
          ]
         ]
        }
       ],
       "layout": {
        "coloraxis": {
         "colorscale": [
          [
           0,
           "rgb(0, 0, 0)"
          ],
          [
           0.09090909090909091,
           "rgb(16, 16, 16)"
          ],
          [
           0.18181818181818182,
           "rgb(38, 38, 38)"
          ],
          [
           0.2727272727272727,
           "rgb(59, 59, 59)"
          ],
          [
           0.36363636363636365,
           "rgb(81, 80, 80)"
          ],
          [
           0.45454545454545453,
           "rgb(102, 101, 101)"
          ],
          [
           0.5454545454545454,
           "rgb(124, 123, 122)"
          ],
          [
           0.6363636363636364,
           "rgb(146, 146, 145)"
          ],
          [
           0.7272727272727273,
           "rgb(171, 171, 170)"
          ],
          [
           0.8181818181818182,
           "rgb(197, 197, 195)"
          ],
          [
           0.9090909090909091,
           "rgb(224, 224, 223)"
          ],
          [
           1,
           "rgb(254, 254, 253)"
          ]
         ]
        },
        "height": 400,
        "template": {
         "data": {
          "bar": [
           {
            "error_x": {
             "color": "#2a3f5f"
            },
            "error_y": {
             "color": "#2a3f5f"
            },
            "marker": {
             "line": {
              "color": "#E5ECF6",
              "width": 0.5
             },
             "pattern": {
              "fillmode": "overlay",
              "size": 10,
              "solidity": 0.2
             }
            },
            "type": "bar"
           }
          ],
          "barpolar": [
           {
            "marker": {
             "line": {
              "color": "#E5ECF6",
              "width": 0.5
             },
             "pattern": {
              "fillmode": "overlay",
              "size": 10,
              "solidity": 0.2
             }
            },
            "type": "barpolar"
           }
          ],
          "carpet": [
           {
            "aaxis": {
             "endlinecolor": "#2a3f5f",
             "gridcolor": "white",
             "linecolor": "white",
             "minorgridcolor": "white",
             "startlinecolor": "#2a3f5f"
            },
            "baxis": {
             "endlinecolor": "#2a3f5f",
             "gridcolor": "white",
             "linecolor": "white",
             "minorgridcolor": "white",
             "startlinecolor": "#2a3f5f"
            },
            "type": "carpet"
           }
          ],
          "choropleth": [
           {
            "colorbar": {
             "outlinewidth": 0,
             "ticks": ""
            },
            "type": "choropleth"
           }
          ],
          "contour": [
           {
            "colorbar": {
             "outlinewidth": 0,
             "ticks": ""
            },
            "colorscale": [
             [
              0,
              "#0d0887"
             ],
             [
              0.1111111111111111,
              "#46039f"
             ],
             [
              0.2222222222222222,
              "#7201a8"
             ],
             [
              0.3333333333333333,
              "#9c179e"
             ],
             [
              0.4444444444444444,
              "#bd3786"
             ],
             [
              0.5555555555555556,
              "#d8576b"
             ],
             [
              0.6666666666666666,
              "#ed7953"
             ],
             [
              0.7777777777777778,
              "#fb9f3a"
             ],
             [
              0.8888888888888888,
              "#fdca26"
             ],
             [
              1,
              "#f0f921"
             ]
            ],
            "type": "contour"
           }
          ],
          "contourcarpet": [
           {
            "colorbar": {
             "outlinewidth": 0,
             "ticks": ""
            },
            "type": "contourcarpet"
           }
          ],
          "heatmap": [
           {
            "colorbar": {
             "outlinewidth": 0,
             "ticks": ""
            },
            "colorscale": [
             [
              0,
              "#0d0887"
             ],
             [
              0.1111111111111111,
              "#46039f"
             ],
             [
              0.2222222222222222,
              "#7201a8"
             ],
             [
              0.3333333333333333,
              "#9c179e"
             ],
             [
              0.4444444444444444,
              "#bd3786"
             ],
             [
              0.5555555555555556,
              "#d8576b"
             ],
             [
              0.6666666666666666,
              "#ed7953"
             ],
             [
              0.7777777777777778,
              "#fb9f3a"
             ],
             [
              0.8888888888888888,
              "#fdca26"
             ],
             [
              1,
              "#f0f921"
             ]
            ],
            "type": "heatmap"
           }
          ],
          "heatmapgl": [
           {
            "colorbar": {
             "outlinewidth": 0,
             "ticks": ""
            },
            "colorscale": [
             [
              0,
              "#0d0887"
             ],
             [
              0.1111111111111111,
              "#46039f"
             ],
             [
              0.2222222222222222,
              "#7201a8"
             ],
             [
              0.3333333333333333,
              "#9c179e"
             ],
             [
              0.4444444444444444,
              "#bd3786"
             ],
             [
              0.5555555555555556,
              "#d8576b"
             ],
             [
              0.6666666666666666,
              "#ed7953"
             ],
             [
              0.7777777777777778,
              "#fb9f3a"
             ],
             [
              0.8888888888888888,
              "#fdca26"
             ],
             [
              1,
              "#f0f921"
             ]
            ],
            "type": "heatmapgl"
           }
          ],
          "histogram": [
           {
            "marker": {
             "pattern": {
              "fillmode": "overlay",
              "size": 10,
              "solidity": 0.2
             }
            },
            "type": "histogram"
           }
          ],
          "histogram2d": [
           {
            "colorbar": {
             "outlinewidth": 0,
             "ticks": ""
            },
            "colorscale": [
             [
              0,
              "#0d0887"
             ],
             [
              0.1111111111111111,
              "#46039f"
             ],
             [
              0.2222222222222222,
              "#7201a8"
             ],
             [
              0.3333333333333333,
              "#9c179e"
             ],
             [
              0.4444444444444444,
              "#bd3786"
             ],
             [
              0.5555555555555556,
              "#d8576b"
             ],
             [
              0.6666666666666666,
              "#ed7953"
             ],
             [
              0.7777777777777778,
              "#fb9f3a"
             ],
             [
              0.8888888888888888,
              "#fdca26"
             ],
             [
              1,
              "#f0f921"
             ]
            ],
            "type": "histogram2d"
           }
          ],
          "histogram2dcontour": [
           {
            "colorbar": {
             "outlinewidth": 0,
             "ticks": ""
            },
            "colorscale": [
             [
              0,
              "#0d0887"
             ],
             [
              0.1111111111111111,
              "#46039f"
             ],
             [
              0.2222222222222222,
              "#7201a8"
             ],
             [
              0.3333333333333333,
              "#9c179e"
             ],
             [
              0.4444444444444444,
              "#bd3786"
             ],
             [
              0.5555555555555556,
              "#d8576b"
             ],
             [
              0.6666666666666666,
              "#ed7953"
             ],
             [
              0.7777777777777778,
              "#fb9f3a"
             ],
             [
              0.8888888888888888,
              "#fdca26"
             ],
             [
              1,
              "#f0f921"
             ]
            ],
            "type": "histogram2dcontour"
           }
          ],
          "mesh3d": [
           {
            "colorbar": {
             "outlinewidth": 0,
             "ticks": ""
            },
            "type": "mesh3d"
           }
          ],
          "parcoords": [
           {
            "line": {
             "colorbar": {
              "outlinewidth": 0,
              "ticks": ""
             }
            },
            "type": "parcoords"
           }
          ],
          "pie": [
           {
            "automargin": true,
            "type": "pie"
           }
          ],
          "scatter": [
           {
            "fillpattern": {
             "fillmode": "overlay",
             "size": 10,
             "solidity": 0.2
            },
            "type": "scatter"
           }
          ],
          "scatter3d": [
           {
            "line": {
             "colorbar": {
              "outlinewidth": 0,
              "ticks": ""
             }
            },
            "marker": {
             "colorbar": {
              "outlinewidth": 0,
              "ticks": ""
             }
            },
            "type": "scatter3d"
           }
          ],
          "scattercarpet": [
           {
            "marker": {
             "colorbar": {
              "outlinewidth": 0,
              "ticks": ""
             }
            },
            "type": "scattercarpet"
           }
          ],
          "scattergeo": [
           {
            "marker": {
             "colorbar": {
              "outlinewidth": 0,
              "ticks": ""
             }
            },
            "type": "scattergeo"
           }
          ],
          "scattergl": [
           {
            "marker": {
             "colorbar": {
              "outlinewidth": 0,
              "ticks": ""
             }
            },
            "type": "scattergl"
           }
          ],
          "scattermapbox": [
           {
            "marker": {
             "colorbar": {
              "outlinewidth": 0,
              "ticks": ""
             }
            },
            "type": "scattermapbox"
           }
          ],
          "scatterpolar": [
           {
            "marker": {
             "colorbar": {
              "outlinewidth": 0,
              "ticks": ""
             }
            },
            "type": "scatterpolar"
           }
          ],
          "scatterpolargl": [
           {
            "marker": {
             "colorbar": {
              "outlinewidth": 0,
              "ticks": ""
             }
            },
            "type": "scatterpolargl"
           }
          ],
          "scatterternary": [
           {
            "marker": {
             "colorbar": {
              "outlinewidth": 0,
              "ticks": ""
             }
            },
            "type": "scatterternary"
           }
          ],
          "surface": [
           {
            "colorbar": {
             "outlinewidth": 0,
             "ticks": ""
            },
            "colorscale": [
             [
              0,
              "#0d0887"
             ],
             [
              0.1111111111111111,
              "#46039f"
             ],
             [
              0.2222222222222222,
              "#7201a8"
             ],
             [
              0.3333333333333333,
              "#9c179e"
             ],
             [
              0.4444444444444444,
              "#bd3786"
             ],
             [
              0.5555555555555556,
              "#d8576b"
             ],
             [
              0.6666666666666666,
              "#ed7953"
             ],
             [
              0.7777777777777778,
              "#fb9f3a"
             ],
             [
              0.8888888888888888,
              "#fdca26"
             ],
             [
              1,
              "#f0f921"
             ]
            ],
            "type": "surface"
           }
          ],
          "table": [
           {
            "cells": {
             "fill": {
              "color": "#EBF0F8"
             },
             "line": {
              "color": "white"
             }
            },
            "header": {
             "fill": {
              "color": "#C8D4E3"
             },
             "line": {
              "color": "white"
             }
            },
            "type": "table"
           }
          ]
         },
         "layout": {
          "annotationdefaults": {
           "arrowcolor": "#2a3f5f",
           "arrowhead": 0,
           "arrowwidth": 1
          },
          "autotypenumbers": "strict",
          "coloraxis": {
           "colorbar": {
            "outlinewidth": 0,
            "ticks": ""
           }
          },
          "colorscale": {
           "diverging": [
            [
             0,
             "#8e0152"
            ],
            [
             0.1,
             "#c51b7d"
            ],
            [
             0.2,
             "#de77ae"
            ],
            [
             0.3,
             "#f1b6da"
            ],
            [
             0.4,
             "#fde0ef"
            ],
            [
             0.5,
             "#f7f7f7"
            ],
            [
             0.6,
             "#e6f5d0"
            ],
            [
             0.7,
             "#b8e186"
            ],
            [
             0.8,
             "#7fbc41"
            ],
            [
             0.9,
             "#4d9221"
            ],
            [
             1,
             "#276419"
            ]
           ],
           "sequential": [
            [
             0,
             "#0d0887"
            ],
            [
             0.1111111111111111,
             "#46039f"
            ],
            [
             0.2222222222222222,
             "#7201a8"
            ],
            [
             0.3333333333333333,
             "#9c179e"
            ],
            [
             0.4444444444444444,
             "#bd3786"
            ],
            [
             0.5555555555555556,
             "#d8576b"
            ],
            [
             0.6666666666666666,
             "#ed7953"
            ],
            [
             0.7777777777777778,
             "#fb9f3a"
            ],
            [
             0.8888888888888888,
             "#fdca26"
            ],
            [
             1,
             "#f0f921"
            ]
           ],
           "sequentialminus": [
            [
             0,
             "#0d0887"
            ],
            [
             0.1111111111111111,
             "#46039f"
            ],
            [
             0.2222222222222222,
             "#7201a8"
            ],
            [
             0.3333333333333333,
             "#9c179e"
            ],
            [
             0.4444444444444444,
             "#bd3786"
            ],
            [
             0.5555555555555556,
             "#d8576b"
            ],
            [
             0.6666666666666666,
             "#ed7953"
            ],
            [
             0.7777777777777778,
             "#fb9f3a"
            ],
            [
             0.8888888888888888,
             "#fdca26"
            ],
            [
             1,
             "#f0f921"
            ]
           ]
          },
          "colorway": [
           "#636efa",
           "#EF553B",
           "#00cc96",
           "#ab63fa",
           "#FFA15A",
           "#19d3f3",
           "#FF6692",
           "#B6E880",
           "#FF97FF",
           "#FECB52"
          ],
          "font": {
           "color": "#2a3f5f"
          },
          "geo": {
           "bgcolor": "white",
           "lakecolor": "white",
           "landcolor": "#E5ECF6",
           "showlakes": true,
           "showland": true,
           "subunitcolor": "white"
          },
          "hoverlabel": {
           "align": "left"
          },
          "hovermode": "closest",
          "mapbox": {
           "style": "light"
          },
          "paper_bgcolor": "white",
          "plot_bgcolor": "#E5ECF6",
          "polar": {
           "angularaxis": {
            "gridcolor": "white",
            "linecolor": "white",
            "ticks": ""
           },
           "bgcolor": "#E5ECF6",
           "radialaxis": {
            "gridcolor": "white",
            "linecolor": "white",
            "ticks": ""
           }
          },
          "scene": {
           "xaxis": {
            "backgroundcolor": "#E5ECF6",
            "gridcolor": "white",
            "gridwidth": 2,
            "linecolor": "white",
            "showbackground": true,
            "ticks": "",
            "zerolinecolor": "white"
           },
           "yaxis": {
            "backgroundcolor": "#E5ECF6",
            "gridcolor": "white",
            "gridwidth": 2,
            "linecolor": "white",
            "showbackground": true,
            "ticks": "",
            "zerolinecolor": "white"
           },
           "zaxis": {
            "backgroundcolor": "#E5ECF6",
            "gridcolor": "white",
            "gridwidth": 2,
            "linecolor": "white",
            "showbackground": true,
            "ticks": "",
            "zerolinecolor": "white"
           }
          },
          "shapedefaults": {
           "line": {
            "color": "#2a3f5f"
           }
          },
          "ternary": {
           "aaxis": {
            "gridcolor": "white",
            "linecolor": "white",
            "ticks": ""
           },
           "baxis": {
            "gridcolor": "white",
            "linecolor": "white",
            "ticks": ""
           },
           "bgcolor": "#E5ECF6",
           "caxis": {
            "gridcolor": "white",
            "linecolor": "white",
            "ticks": ""
           }
          },
          "title": {
           "x": 0.05
          },
          "xaxis": {
           "automargin": true,
           "gridcolor": "white",
           "linecolor": "white",
           "ticks": "",
           "title": {
            "standoff": 15
           },
           "zerolinecolor": "white",
           "zerolinewidth": 2
          },
          "yaxis": {
           "automargin": true,
           "gridcolor": "white",
           "linecolor": "white",
           "ticks": "",
           "title": {
            "standoff": 15
           },
           "zerolinecolor": "white",
           "zerolinewidth": 2
          }
         }
        },
        "title": {
         "text": "[1, 4, 5]"
        },
        "width": 400,
        "xaxis": {
         "anchor": "y",
         "constrain": "domain",
         "domain": [
          0,
          1
         ],
         "scaleanchor": "y"
        },
        "yaxis": {
         "anchor": "x",
         "autorange": "reversed",
         "constrain": "domain",
         "domain": [
          0,
          1
         ]
        }
       }
      },
      "text/html": [
       "<div>                            <div id=\"c02b406b-637d-43c5-a355-bafed66e732a\" class=\"plotly-graph-div\" style=\"height:400px; width:400px;\"></div>            <script type=\"text/javascript\">                require([\"plotly\"], function(Plotly) {                    window.PLOTLYENV=window.PLOTLYENV || {};                                    if (document.getElementById(\"c02b406b-637d-43c5-a355-bafed66e732a\")) {                    Plotly.newPlot(                        \"c02b406b-637d-43c5-a355-bafed66e732a\",                        [{\"coloraxis\":\"coloraxis\",\"name\":\"0\",\"z\":[[-0.426469139200569],[-0.660355118454766],[-0.6332325405511035],[-0.7770047567563988],[-0.6630736888634128],[-0.4141666425729804],[-0.46760733879669725],[-0.5898835951342276],[-0.7125949750615805],[-0.5934903679640339]],\"type\":\"heatmap\",\"xaxis\":\"x\",\"yaxis\":\"y\",\"hovertemplate\":\"x: %{x}<br>y: %{y}<br>color: %{z}<extra></extra>\"}],                        {\"template\":{\"data\":{\"histogram2dcontour\":[{\"type\":\"histogram2dcontour\",\"colorbar\":{\"outlinewidth\":0,\"ticks\":\"\"},\"colorscale\":[[0.0,\"#0d0887\"],[0.1111111111111111,\"#46039f\"],[0.2222222222222222,\"#7201a8\"],[0.3333333333333333,\"#9c179e\"],[0.4444444444444444,\"#bd3786\"],[0.5555555555555556,\"#d8576b\"],[0.6666666666666666,\"#ed7953\"],[0.7777777777777778,\"#fb9f3a\"],[0.8888888888888888,\"#fdca26\"],[1.0,\"#f0f921\"]]}],\"choropleth\":[{\"type\":\"choropleth\",\"colorbar\":{\"outlinewidth\":0,\"ticks\":\"\"}}],\"histogram2d\":[{\"type\":\"histogram2d\",\"colorbar\":{\"outlinewidth\":0,\"ticks\":\"\"},\"colorscale\":[[0.0,\"#0d0887\"],[0.1111111111111111,\"#46039f\"],[0.2222222222222222,\"#7201a8\"],[0.3333333333333333,\"#9c179e\"],[0.4444444444444444,\"#bd3786\"],[0.5555555555555556,\"#d8576b\"],[0.6666666666666666,\"#ed7953\"],[0.7777777777777778,\"#fb9f3a\"],[0.8888888888888888,\"#fdca26\"],[1.0,\"#f0f921\"]]}],\"heatmap\":[{\"type\":\"heatmap\",\"colorbar\":{\"outlinewidth\":0,\"ticks\":\"\"},\"colorscale\":[[0.0,\"#0d0887\"],[0.1111111111111111,\"#46039f\"],[0.2222222222222222,\"#7201a8\"],[0.3333333333333333,\"#9c179e\"],[0.4444444444444444,\"#bd3786\"],[0.5555555555555556,\"#d8576b\"],[0.6666666666666666,\"#ed7953\"],[0.7777777777777778,\"#fb9f3a\"],[0.8888888888888888,\"#fdca26\"],[1.0,\"#f0f921\"]]}],\"heatmapgl\":[{\"type\":\"heatmapgl\",\"colorbar\":{\"outlinewidth\":0,\"ticks\":\"\"},\"colorscale\":[[0.0,\"#0d0887\"],[0.1111111111111111,\"#46039f\"],[0.2222222222222222,\"#7201a8\"],[0.3333333333333333,\"#9c179e\"],[0.4444444444444444,\"#bd3786\"],[0.5555555555555556,\"#d8576b\"],[0.6666666666666666,\"#ed7953\"],[0.7777777777777778,\"#fb9f3a\"],[0.8888888888888888,\"#fdca26\"],[1.0,\"#f0f921\"]]}],\"contourcarpet\":[{\"type\":\"contourcarpet\",\"colorbar\":{\"outlinewidth\":0,\"ticks\":\"\"}}],\"contour\":[{\"type\":\"contour\",\"colorbar\":{\"outlinewidth\":0,\"ticks\":\"\"},\"colorscale\":[[0.0,\"#0d0887\"],[0.1111111111111111,\"#46039f\"],[0.2222222222222222,\"#7201a8\"],[0.3333333333333333,\"#9c179e\"],[0.4444444444444444,\"#bd3786\"],[0.5555555555555556,\"#d8576b\"],[0.6666666666666666,\"#ed7953\"],[0.7777777777777778,\"#fb9f3a\"],[0.8888888888888888,\"#fdca26\"],[1.0,\"#f0f921\"]]}],\"surface\":[{\"type\":\"surface\",\"colorbar\":{\"outlinewidth\":0,\"ticks\":\"\"},\"colorscale\":[[0.0,\"#0d0887\"],[0.1111111111111111,\"#46039f\"],[0.2222222222222222,\"#7201a8\"],[0.3333333333333333,\"#9c179e\"],[0.4444444444444444,\"#bd3786\"],[0.5555555555555556,\"#d8576b\"],[0.6666666666666666,\"#ed7953\"],[0.7777777777777778,\"#fb9f3a\"],[0.8888888888888888,\"#fdca26\"],[1.0,\"#f0f921\"]]}],\"mesh3d\":[{\"type\":\"mesh3d\",\"colorbar\":{\"outlinewidth\":0,\"ticks\":\"\"}}],\"scatter\":[{\"fillpattern\":{\"fillmode\":\"overlay\",\"size\":10,\"solidity\":0.2},\"type\":\"scatter\"}],\"parcoords\":[{\"type\":\"parcoords\",\"line\":{\"colorbar\":{\"outlinewidth\":0,\"ticks\":\"\"}}}],\"scatterpolargl\":[{\"type\":\"scatterpolargl\",\"marker\":{\"colorbar\":{\"outlinewidth\":0,\"ticks\":\"\"}}}],\"bar\":[{\"error_x\":{\"color\":\"#2a3f5f\"},\"error_y\":{\"color\":\"#2a3f5f\"},\"marker\":{\"line\":{\"color\":\"#E5ECF6\",\"width\":0.5},\"pattern\":{\"fillmode\":\"overlay\",\"size\":10,\"solidity\":0.2}},\"type\":\"bar\"}],\"scattergeo\":[{\"type\":\"scattergeo\",\"marker\":{\"colorbar\":{\"outlinewidth\":0,\"ticks\":\"\"}}}],\"scatterpolar\":[{\"type\":\"scatterpolar\",\"marker\":{\"colorbar\":{\"outlinewidth\":0,\"ticks\":\"\"}}}],\"histogram\":[{\"marker\":{\"pattern\":{\"fillmode\":\"overlay\",\"size\":10,\"solidity\":0.2}},\"type\":\"histogram\"}],\"scattergl\":[{\"type\":\"scattergl\",\"marker\":{\"colorbar\":{\"outlinewidth\":0,\"ticks\":\"\"}}}],\"scatter3d\":[{\"type\":\"scatter3d\",\"line\":{\"colorbar\":{\"outlinewidth\":0,\"ticks\":\"\"}},\"marker\":{\"colorbar\":{\"outlinewidth\":0,\"ticks\":\"\"}}}],\"scattermapbox\":[{\"type\":\"scattermapbox\",\"marker\":{\"colorbar\":{\"outlinewidth\":0,\"ticks\":\"\"}}}],\"scatterternary\":[{\"type\":\"scatterternary\",\"marker\":{\"colorbar\":{\"outlinewidth\":0,\"ticks\":\"\"}}}],\"scattercarpet\":[{\"type\":\"scattercarpet\",\"marker\":{\"colorbar\":{\"outlinewidth\":0,\"ticks\":\"\"}}}],\"carpet\":[{\"aaxis\":{\"endlinecolor\":\"#2a3f5f\",\"gridcolor\":\"white\",\"linecolor\":\"white\",\"minorgridcolor\":\"white\",\"startlinecolor\":\"#2a3f5f\"},\"baxis\":{\"endlinecolor\":\"#2a3f5f\",\"gridcolor\":\"white\",\"linecolor\":\"white\",\"minorgridcolor\":\"white\",\"startlinecolor\":\"#2a3f5f\"},\"type\":\"carpet\"}],\"table\":[{\"cells\":{\"fill\":{\"color\":\"#EBF0F8\"},\"line\":{\"color\":\"white\"}},\"header\":{\"fill\":{\"color\":\"#C8D4E3\"},\"line\":{\"color\":\"white\"}},\"type\":\"table\"}],\"barpolar\":[{\"marker\":{\"line\":{\"color\":\"#E5ECF6\",\"width\":0.5},\"pattern\":{\"fillmode\":\"overlay\",\"size\":10,\"solidity\":0.2}},\"type\":\"barpolar\"}],\"pie\":[{\"automargin\":true,\"type\":\"pie\"}]},\"layout\":{\"autotypenumbers\":\"strict\",\"colorway\":[\"#636efa\",\"#EF553B\",\"#00cc96\",\"#ab63fa\",\"#FFA15A\",\"#19d3f3\",\"#FF6692\",\"#B6E880\",\"#FF97FF\",\"#FECB52\"],\"font\":{\"color\":\"#2a3f5f\"},\"hovermode\":\"closest\",\"hoverlabel\":{\"align\":\"left\"},\"paper_bgcolor\":\"white\",\"plot_bgcolor\":\"#E5ECF6\",\"polar\":{\"bgcolor\":\"#E5ECF6\",\"angularaxis\":{\"gridcolor\":\"white\",\"linecolor\":\"white\",\"ticks\":\"\"},\"radialaxis\":{\"gridcolor\":\"white\",\"linecolor\":\"white\",\"ticks\":\"\"}},\"ternary\":{\"bgcolor\":\"#E5ECF6\",\"aaxis\":{\"gridcolor\":\"white\",\"linecolor\":\"white\",\"ticks\":\"\"},\"baxis\":{\"gridcolor\":\"white\",\"linecolor\":\"white\",\"ticks\":\"\"},\"caxis\":{\"gridcolor\":\"white\",\"linecolor\":\"white\",\"ticks\":\"\"}},\"coloraxis\":{\"colorbar\":{\"outlinewidth\":0,\"ticks\":\"\"}},\"colorscale\":{\"sequential\":[[0.0,\"#0d0887\"],[0.1111111111111111,\"#46039f\"],[0.2222222222222222,\"#7201a8\"],[0.3333333333333333,\"#9c179e\"],[0.4444444444444444,\"#bd3786\"],[0.5555555555555556,\"#d8576b\"],[0.6666666666666666,\"#ed7953\"],[0.7777777777777778,\"#fb9f3a\"],[0.8888888888888888,\"#fdca26\"],[1.0,\"#f0f921\"]],\"sequentialminus\":[[0.0,\"#0d0887\"],[0.1111111111111111,\"#46039f\"],[0.2222222222222222,\"#7201a8\"],[0.3333333333333333,\"#9c179e\"],[0.4444444444444444,\"#bd3786\"],[0.5555555555555556,\"#d8576b\"],[0.6666666666666666,\"#ed7953\"],[0.7777777777777778,\"#fb9f3a\"],[0.8888888888888888,\"#fdca26\"],[1.0,\"#f0f921\"]],\"diverging\":[[0,\"#8e0152\"],[0.1,\"#c51b7d\"],[0.2,\"#de77ae\"],[0.3,\"#f1b6da\"],[0.4,\"#fde0ef\"],[0.5,\"#f7f7f7\"],[0.6,\"#e6f5d0\"],[0.7,\"#b8e186\"],[0.8,\"#7fbc41\"],[0.9,\"#4d9221\"],[1,\"#276419\"]]},\"xaxis\":{\"gridcolor\":\"white\",\"linecolor\":\"white\",\"ticks\":\"\",\"title\":{\"standoff\":15},\"zerolinecolor\":\"white\",\"automargin\":true,\"zerolinewidth\":2},\"yaxis\":{\"gridcolor\":\"white\",\"linecolor\":\"white\",\"ticks\":\"\",\"title\":{\"standoff\":15},\"zerolinecolor\":\"white\",\"automargin\":true,\"zerolinewidth\":2},\"scene\":{\"xaxis\":{\"backgroundcolor\":\"#E5ECF6\",\"gridcolor\":\"white\",\"linecolor\":\"white\",\"showbackground\":true,\"ticks\":\"\",\"zerolinecolor\":\"white\",\"gridwidth\":2},\"yaxis\":{\"backgroundcolor\":\"#E5ECF6\",\"gridcolor\":\"white\",\"linecolor\":\"white\",\"showbackground\":true,\"ticks\":\"\",\"zerolinecolor\":\"white\",\"gridwidth\":2},\"zaxis\":{\"backgroundcolor\":\"#E5ECF6\",\"gridcolor\":\"white\",\"linecolor\":\"white\",\"showbackground\":true,\"ticks\":\"\",\"zerolinecolor\":\"white\",\"gridwidth\":2}},\"shapedefaults\":{\"line\":{\"color\":\"#2a3f5f\"}},\"annotationdefaults\":{\"arrowcolor\":\"#2a3f5f\",\"arrowhead\":0,\"arrowwidth\":1},\"geo\":{\"bgcolor\":\"white\",\"landcolor\":\"#E5ECF6\",\"subunitcolor\":\"white\",\"showland\":true,\"showlakes\":true,\"lakecolor\":\"white\"},\"title\":{\"x\":0.05},\"mapbox\":{\"style\":\"light\"}}},\"xaxis\":{\"anchor\":\"y\",\"domain\":[0.0,1.0],\"scaleanchor\":\"y\",\"constrain\":\"domain\"},\"yaxis\":{\"anchor\":\"x\",\"domain\":[0.0,1.0],\"autorange\":\"reversed\",\"constrain\":\"domain\"},\"coloraxis\":{\"colorscale\":[[0.0,\"rgb(0, 0, 0)\"],[0.09090909090909091,\"rgb(16, 16, 16)\"],[0.18181818181818182,\"rgb(38, 38, 38)\"],[0.2727272727272727,\"rgb(59, 59, 59)\"],[0.36363636363636365,\"rgb(81, 80, 80)\"],[0.45454545454545453,\"rgb(102, 101, 101)\"],[0.5454545454545454,\"rgb(124, 123, 122)\"],[0.6363636363636364,\"rgb(146, 146, 145)\"],[0.7272727272727273,\"rgb(171, 171, 170)\"],[0.8181818181818182,\"rgb(197, 197, 195)\"],[0.9090909090909091,\"rgb(224, 224, 223)\"],[1.0,\"rgb(254, 254, 253)\"]]},\"title\":{\"text\":\"[1, 4, 5]\"},\"height\":400,\"width\":400},                        {\"responsive\": true}                    ).then(function(){\n",
       "                            \n",
       "var gd = document.getElementById('c02b406b-637d-43c5-a355-bafed66e732a');\n",
       "var x = new MutationObserver(function (mutations, observer) {{\n",
       "        var display = window.getComputedStyle(gd).display;\n",
       "        if (!display || display === 'none') {{\n",
       "            console.log([gd, 'removed!']);\n",
       "            Plotly.purge(gd);\n",
       "            observer.disconnect();\n",
       "        }}\n",
       "}});\n",
       "\n",
       "// Listen for the removal of the full notebook cells\n",
       "var notebookContainer = gd.closest('#notebook-container');\n",
       "if (notebookContainer) {{\n",
       "    x.observe(notebookContainer, {childList: true});\n",
       "}}\n",
       "\n",
       "// Listen for the clearing of the current output cell\n",
       "var outputEl = gd.closest('.output');\n",
       "if (outputEl) {{\n",
       "    x.observe(outputEl, {childList: true});\n",
       "}}\n",
       "\n",
       "                        })                };                });            </script>        </div>"
      ]
     },
     "metadata": {},
     "output_type": "display_data"
    }
   ],
   "source": [
    "q_values = training_results[6][2]\n",
    "opt_player = OptimalPlayer(epsilon=0)\n",
    "heaps=[[4,0,0],[1,2,0],[1,0,1],[2,6,4],[3,4,7],[1,4,5]]\n",
    "for i in range(len(heaps)):\n",
    "    state = heaps_to_idx(heaps[i])\n",
    "    opt_move = opt_player.act(heaps[i])\n",
    "    if opt_move[0] == 1:\n",
    "        action = opt_move[1]-1\n",
    "    if opt_move[0] == 2:\n",
    "        action = heaps[i][0] + opt_move[1]-1\n",
    "    if opt_move[0] == 3:\n",
    "        action = heaps[i][0] + heaps[i][1] + opt_move[1]-1\n",
    "    print(f\"Optimal move is {opt_move[1]} sticks from heap {opt_move[0]}, which is action {action}.\")\n",
    "    fig = px.imshow(np.array(q_values[state]), color_continuous_scale='gray', title=str(heaps[i]))\n",
    "    fig.update_layout(height=400, width=400)\n",
    "    fig.show()"
   ]
  },
  {
   "cell_type": "markdown",
   "metadata": {
    "collapsed": false,
    "pycharm": {
     "name": "#%% md\n"
    }
   },
   "source": [
    "The values make sense: in the first case the move that makes you win instantly has a 0.9 q-value. In the second case two moves makes you lose in the very next move and one doesn't, and such move has a 0.9 q-value. Third case, both moves make you lose and they both have a -1 q-value. Nice!"
   ]
  },
  {
   "cell_type": "code",
   "execution_count": 45,
   "metadata": {
    "collapsed": false,
    "pycharm": {
     "name": "#%%\n"
    }
   },
   "outputs": [],
   "source": [
    "file_name = \"q_learning_results.pkl\"\n",
    "open_file = open(file_name, \"wb\")\n",
    "pickle.dump(training_results, open_file)\n",
    "open_file.close()"
   ]
  }
 ],
 "metadata": {
  "interpreter": {
   "hash": "98373fcc2b26572a704f22e3e227d87867db93faa2ec45ce4b9f33f2e000f694"
  },
  "kernelspec": {
   "display_name": "Python 3.9.7 ('butterfly')",
   "language": "python",
   "name": "python3"
  },
  "language_info": {
   "codemirror_mode": {
    "name": "ipython",
    "version": 3
   },
   "file_extension": ".py",
   "mimetype": "text/x-python",
   "name": "python",
   "nbconvert_exporter": "python",
   "pygments_lexer": "ipython3",
   "version": "3.9.7"
  }
 },
 "nbformat": 4,
 "nbformat_minor": 4
}
